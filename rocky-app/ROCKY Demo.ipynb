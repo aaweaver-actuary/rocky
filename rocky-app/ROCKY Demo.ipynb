{
 "cells": [
  {
   "attachments": {},
   "cell_type": "markdown",
   "metadata": {},
   "source": [
    "## `rocky`"
   ]
  },
  {
   "cell_type": "code",
   "execution_count": 1,
   "metadata": {},
   "outputs": [],
   "source": [
    "import sys\n",
    "# mydir = r'C:\\Users\\aweaver\\rocky\\rocky-app\\src\\py'\n",
    "mydir = './src'\n",
    "sys.path.append(mydir)\n",
    "from rocky.rockycore import rocky\n",
    "from rocky.triangle import Triangle\n",
    "\n",
    "import pandas as pd\n",
    "import numpy as np"
   ]
  },
  {
   "cell_type": "code",
   "execution_count": 2,
   "metadata": {},
   "outputs": [
    {
     "name": "stdout",
     "output_type": "stream",
     "text": [
      "rocky(id='rocky0', mod=(), f=(), plot=(), t=())\n"
     ]
    }
   ],
   "source": [
    "# creat a new rocky object\n",
    "r = rocky()\n",
    "\n",
    "# inspect object\n",
    "print(r)"
   ]
  },
  {
   "cell_type": "code",
   "execution_count": 3,
   "metadata": {},
   "outputs": [
    {
     "name": "stdout",
     "output_type": "stream",
     "text": [
      "rocky(id='rocky0', mod=(), f=(), plot=(), t=\"paid_loss\")\n"
     ]
    }
   ],
   "source": [
    "## Could read in sample data (taylor_ashe, mack_1994) to try it out\n",
    "r.SampleTri('taylor_ashe')\n",
    "\n",
    "## Could copy a triangle from a file to the clipboard and then read it in\n",
    "# r.FromClipboard('paid_loss')\n",
    "\n",
    "## for this demo, we'll just read in a triangle from a link ratio file\n",
    "\n",
    "# triangle file path for WC 4Q2022\n",
    "# path = r'O:\\STAFFHQ\\SYMDATA\\Actuarial\\Reserving Applications\\IBNR Allocation\\4Q2022 Analysis\\Workers Compensation 4Q2022.xlsb'\n",
    "\n",
    "# read in triangle from file\n",
    "# r.FromExcel(path, 1, 'paid_loss', 'Gross Paid Ultimates', \"a28:u48\") # takes filepath, number of origin columns, name of triangle, sheet name, and range of triangle\n",
    "print(r)"
   ]
  },
  {
   "cell_type": "code",
   "execution_count": 4,
   "metadata": {},
   "outputs": [
    {
     "data": {
      "text/html": [
       "<div>\n",
       "<style scoped>\n",
       "    .dataframe tbody tr th:only-of-type {\n",
       "        vertical-align: middle;\n",
       "    }\n",
       "\n",
       "    .dataframe tbody tr th {\n",
       "        vertical-align: top;\n",
       "    }\n",
       "\n",
       "    .dataframe thead th {\n",
       "        text-align: right;\n",
       "    }\n",
       "</style>\n",
       "<table border=\"1\" class=\"dataframe\">\n",
       "  <thead>\n",
       "    <tr style=\"text-align: right;\">\n",
       "      <th>development_period</th>\n",
       "      <th>1</th>\n",
       "      <th>2</th>\n",
       "      <th>3</th>\n",
       "      <th>4</th>\n",
       "      <th>5</th>\n",
       "      <th>6</th>\n",
       "      <th>7</th>\n",
       "      <th>8</th>\n",
       "      <th>9</th>\n",
       "      <th>10</th>\n",
       "    </tr>\n",
       "    <tr>\n",
       "      <th>accident_period</th>\n",
       "      <th></th>\n",
       "      <th></th>\n",
       "      <th></th>\n",
       "      <th></th>\n",
       "      <th></th>\n",
       "      <th></th>\n",
       "      <th></th>\n",
       "      <th></th>\n",
       "      <th></th>\n",
       "      <th></th>\n",
       "    </tr>\n",
       "  </thead>\n",
       "  <tbody>\n",
       "    <tr>\n",
       "      <th>2001-01-01</th>\n",
       "      <td>357848.0</td>\n",
       "      <td>1124788.0</td>\n",
       "      <td>1735330.0</td>\n",
       "      <td>2218270.0</td>\n",
       "      <td>2745596.0</td>\n",
       "      <td>3319994.0</td>\n",
       "      <td>3466336.0</td>\n",
       "      <td>3606286.0</td>\n",
       "      <td>3833515.0</td>\n",
       "      <td>3901463.0</td>\n",
       "    </tr>\n",
       "    <tr>\n",
       "      <th>2002-01-01</th>\n",
       "      <td>352118.0</td>\n",
       "      <td>1236139.0</td>\n",
       "      <td>2170033.0</td>\n",
       "      <td>3353322.0</td>\n",
       "      <td>3799067.0</td>\n",
       "      <td>4120063.0</td>\n",
       "      <td>4647867.0</td>\n",
       "      <td>4914039.0</td>\n",
       "      <td>5339085.0</td>\n",
       "      <td>NaN</td>\n",
       "    </tr>\n",
       "    <tr>\n",
       "      <th>2003-01-01</th>\n",
       "      <td>290507.0</td>\n",
       "      <td>1292306.0</td>\n",
       "      <td>2218525.0</td>\n",
       "      <td>3235179.0</td>\n",
       "      <td>3985995.0</td>\n",
       "      <td>4132918.0</td>\n",
       "      <td>4628910.0</td>\n",
       "      <td>4909315.0</td>\n",
       "      <td>NaN</td>\n",
       "      <td>NaN</td>\n",
       "    </tr>\n",
       "    <tr>\n",
       "      <th>2004-01-01</th>\n",
       "      <td>310608.0</td>\n",
       "      <td>1418858.0</td>\n",
       "      <td>2195047.0</td>\n",
       "      <td>3757447.0</td>\n",
       "      <td>4029929.0</td>\n",
       "      <td>4381982.0</td>\n",
       "      <td>4588268.0</td>\n",
       "      <td>NaN</td>\n",
       "      <td>NaN</td>\n",
       "      <td>NaN</td>\n",
       "    </tr>\n",
       "    <tr>\n",
       "      <th>2005-01-01</th>\n",
       "      <td>443160.0</td>\n",
       "      <td>1136350.0</td>\n",
       "      <td>2128333.0</td>\n",
       "      <td>2897821.0</td>\n",
       "      <td>3402672.0</td>\n",
       "      <td>3873311.0</td>\n",
       "      <td>NaN</td>\n",
       "      <td>NaN</td>\n",
       "      <td>NaN</td>\n",
       "      <td>NaN</td>\n",
       "    </tr>\n",
       "    <tr>\n",
       "      <th>2006-01-01</th>\n",
       "      <td>396132.0</td>\n",
       "      <td>1333217.0</td>\n",
       "      <td>2180715.0</td>\n",
       "      <td>2985752.0</td>\n",
       "      <td>3691712.0</td>\n",
       "      <td>NaN</td>\n",
       "      <td>NaN</td>\n",
       "      <td>NaN</td>\n",
       "      <td>NaN</td>\n",
       "      <td>NaN</td>\n",
       "    </tr>\n",
       "    <tr>\n",
       "      <th>2007-01-01</th>\n",
       "      <td>440832.0</td>\n",
       "      <td>1288463.0</td>\n",
       "      <td>2419861.0</td>\n",
       "      <td>3483130.0</td>\n",
       "      <td>NaN</td>\n",
       "      <td>NaN</td>\n",
       "      <td>NaN</td>\n",
       "      <td>NaN</td>\n",
       "      <td>NaN</td>\n",
       "      <td>NaN</td>\n",
       "    </tr>\n",
       "    <tr>\n",
       "      <th>2008-01-01</th>\n",
       "      <td>359480.0</td>\n",
       "      <td>1421128.0</td>\n",
       "      <td>2864498.0</td>\n",
       "      <td>NaN</td>\n",
       "      <td>NaN</td>\n",
       "      <td>NaN</td>\n",
       "      <td>NaN</td>\n",
       "      <td>NaN</td>\n",
       "      <td>NaN</td>\n",
       "      <td>NaN</td>\n",
       "    </tr>\n",
       "    <tr>\n",
       "      <th>2009-01-01</th>\n",
       "      <td>376686.0</td>\n",
       "      <td>1363294.0</td>\n",
       "      <td>NaN</td>\n",
       "      <td>NaN</td>\n",
       "      <td>NaN</td>\n",
       "      <td>NaN</td>\n",
       "      <td>NaN</td>\n",
       "      <td>NaN</td>\n",
       "      <td>NaN</td>\n",
       "      <td>NaN</td>\n",
       "    </tr>\n",
       "    <tr>\n",
       "      <th>2010-01-01</th>\n",
       "      <td>344014.0</td>\n",
       "      <td>NaN</td>\n",
       "      <td>NaN</td>\n",
       "      <td>NaN</td>\n",
       "      <td>NaN</td>\n",
       "      <td>NaN</td>\n",
       "      <td>NaN</td>\n",
       "      <td>NaN</td>\n",
       "      <td>NaN</td>\n",
       "      <td>NaN</td>\n",
       "    </tr>\n",
       "  </tbody>\n",
       "</table>\n",
       "</div>"
      ],
      "text/plain": [
       "development_period         1          2          3          4          5  \\\n",
       "accident_period                                                            \n",
       "2001-01-01          357848.0  1124788.0  1735330.0  2218270.0  2745596.0   \n",
       "2002-01-01          352118.0  1236139.0  2170033.0  3353322.0  3799067.0   \n",
       "2003-01-01          290507.0  1292306.0  2218525.0  3235179.0  3985995.0   \n",
       "2004-01-01          310608.0  1418858.0  2195047.0  3757447.0  4029929.0   \n",
       "2005-01-01          443160.0  1136350.0  2128333.0  2897821.0  3402672.0   \n",
       "2006-01-01          396132.0  1333217.0  2180715.0  2985752.0  3691712.0   \n",
       "2007-01-01          440832.0  1288463.0  2419861.0  3483130.0        NaN   \n",
       "2008-01-01          359480.0  1421128.0  2864498.0        NaN        NaN   \n",
       "2009-01-01          376686.0  1363294.0        NaN        NaN        NaN   \n",
       "2010-01-01          344014.0        NaN        NaN        NaN        NaN   \n",
       "\n",
       "development_period          6          7          8          9         10  \n",
       "accident_period                                                            \n",
       "2001-01-01          3319994.0  3466336.0  3606286.0  3833515.0  3901463.0  \n",
       "2002-01-01          4120063.0  4647867.0  4914039.0  5339085.0        NaN  \n",
       "2003-01-01          4132918.0  4628910.0  4909315.0        NaN        NaN  \n",
       "2004-01-01          4381982.0  4588268.0        NaN        NaN        NaN  \n",
       "2005-01-01          3873311.0        NaN        NaN        NaN        NaN  \n",
       "2006-01-01                NaN        NaN        NaN        NaN        NaN  \n",
       "2007-01-01                NaN        NaN        NaN        NaN        NaN  \n",
       "2008-01-01                NaN        NaN        NaN        NaN        NaN  \n",
       "2009-01-01                NaN        NaN        NaN        NaN        NaN  \n",
       "2010-01-01                NaN        NaN        NaN        NaN        NaN  "
      ]
     },
     "execution_count": 4,
     "metadata": {},
     "output_type": "execute_result"
    }
   ],
   "source": [
    "# access triangle object\n",
    "r.paid_loss.tri"
   ]
  },
  {
   "cell_type": "code",
   "execution_count": 5,
   "metadata": {},
   "outputs": [
    {
     "data": {
      "text/plain": [
       "0    2001\n",
       "1    2002\n",
       "2    2003\n",
       "3    2004\n",
       "4    2005\n",
       "5    2006\n",
       "6    2007\n",
       "7    2008\n",
       "8    2009\n",
       "9    2010\n",
       "Name: accident_period, dtype: int32"
      ]
     },
     "execution_count": 5,
     "metadata": {},
     "output_type": "execute_result"
    }
   ],
   "source": [
    "r.paid_loss.acc.dt.year"
   ]
  },
  {
   "cell_type": "code",
   "execution_count": 6,
   "metadata": {},
   "outputs": [
    {
     "data": {
      "text/plain": [
       "rocky(id='rocky0', mod=\"glm\", f=(), plot=(), t=\"paid_loss\")"
      ]
     },
     "execution_count": 6,
     "metadata": {},
     "output_type": "execute_result"
    }
   ],
   "source": [
    "r.AddModel('glm', 'glm', 'paid_loss')\n",
    "r"
   ]
  },
  {
   "cell_type": "code",
   "execution_count": 8,
   "metadata": {},
   "outputs": [
    {
     "data": {
      "text/html": [
       "<div>\n",
       "<style scoped>\n",
       "    .dataframe tbody tr th:only-of-type {\n",
       "        vertical-align: middle;\n",
       "    }\n",
       "\n",
       "    .dataframe tbody tr th {\n",
       "        vertical-align: top;\n",
       "    }\n",
       "\n",
       "    .dataframe thead th {\n",
       "        text-align: right;\n",
       "    }\n",
       "</style>\n",
       "<table border=\"1\" class=\"dataframe\">\n",
       "  <thead>\n",
       "    <tr style=\"text-align: right;\">\n",
       "      <th></th>\n",
       "      <th>is_observed</th>\n",
       "      <th>accident_period_2002</th>\n",
       "      <th>accident_period_2003</th>\n",
       "      <th>accident_period_2004</th>\n",
       "      <th>accident_period_2005</th>\n",
       "      <th>accident_period_2006</th>\n",
       "      <th>accident_period_2007</th>\n",
       "      <th>accident_period_2008</th>\n",
       "      <th>accident_period_2009</th>\n",
       "      <th>accident_period_2010</th>\n",
       "      <th>development_period_0002</th>\n",
       "      <th>development_period_0003</th>\n",
       "      <th>development_period_0004</th>\n",
       "      <th>development_period_0005</th>\n",
       "      <th>development_period_0006</th>\n",
       "      <th>development_period_0007</th>\n",
       "      <th>development_period_0008</th>\n",
       "      <th>development_period_0009</th>\n",
       "      <th>development_period_0010</th>\n",
       "    </tr>\n",
       "  </thead>\n",
       "  <tbody>\n",
       "    <tr>\n",
       "      <th>0</th>\n",
       "      <td>1</td>\n",
       "      <td>0</td>\n",
       "      <td>0</td>\n",
       "      <td>0</td>\n",
       "      <td>0</td>\n",
       "      <td>0</td>\n",
       "      <td>0</td>\n",
       "      <td>0</td>\n",
       "      <td>0</td>\n",
       "      <td>0</td>\n",
       "      <td>0</td>\n",
       "      <td>0</td>\n",
       "      <td>0</td>\n",
       "      <td>0</td>\n",
       "      <td>0</td>\n",
       "      <td>0</td>\n",
       "      <td>0</td>\n",
       "      <td>0</td>\n",
       "      <td>0</td>\n",
       "    </tr>\n",
       "    <tr>\n",
       "      <th>1</th>\n",
       "      <td>1</td>\n",
       "      <td>1</td>\n",
       "      <td>0</td>\n",
       "      <td>0</td>\n",
       "      <td>0</td>\n",
       "      <td>0</td>\n",
       "      <td>0</td>\n",
       "      <td>0</td>\n",
       "      <td>0</td>\n",
       "      <td>0</td>\n",
       "      <td>0</td>\n",
       "      <td>0</td>\n",
       "      <td>0</td>\n",
       "      <td>0</td>\n",
       "      <td>0</td>\n",
       "      <td>0</td>\n",
       "      <td>0</td>\n",
       "      <td>0</td>\n",
       "      <td>0</td>\n",
       "    </tr>\n",
       "    <tr>\n",
       "      <th>2</th>\n",
       "      <td>1</td>\n",
       "      <td>1</td>\n",
       "      <td>1</td>\n",
       "      <td>0</td>\n",
       "      <td>0</td>\n",
       "      <td>0</td>\n",
       "      <td>0</td>\n",
       "      <td>0</td>\n",
       "      <td>0</td>\n",
       "      <td>0</td>\n",
       "      <td>0</td>\n",
       "      <td>0</td>\n",
       "      <td>0</td>\n",
       "      <td>0</td>\n",
       "      <td>0</td>\n",
       "      <td>0</td>\n",
       "      <td>0</td>\n",
       "      <td>0</td>\n",
       "      <td>0</td>\n",
       "    </tr>\n",
       "    <tr>\n",
       "      <th>3</th>\n",
       "      <td>1</td>\n",
       "      <td>1</td>\n",
       "      <td>1</td>\n",
       "      <td>1</td>\n",
       "      <td>0</td>\n",
       "      <td>0</td>\n",
       "      <td>0</td>\n",
       "      <td>0</td>\n",
       "      <td>0</td>\n",
       "      <td>0</td>\n",
       "      <td>0</td>\n",
       "      <td>0</td>\n",
       "      <td>0</td>\n",
       "      <td>0</td>\n",
       "      <td>0</td>\n",
       "      <td>0</td>\n",
       "      <td>0</td>\n",
       "      <td>0</td>\n",
       "      <td>0</td>\n",
       "    </tr>\n",
       "    <tr>\n",
       "      <th>4</th>\n",
       "      <td>1</td>\n",
       "      <td>1</td>\n",
       "      <td>1</td>\n",
       "      <td>1</td>\n",
       "      <td>1</td>\n",
       "      <td>0</td>\n",
       "      <td>0</td>\n",
       "      <td>0</td>\n",
       "      <td>0</td>\n",
       "      <td>0</td>\n",
       "      <td>0</td>\n",
       "      <td>0</td>\n",
       "      <td>0</td>\n",
       "      <td>0</td>\n",
       "      <td>0</td>\n",
       "      <td>0</td>\n",
       "      <td>0</td>\n",
       "      <td>0</td>\n",
       "      <td>0</td>\n",
       "    </tr>\n",
       "    <tr>\n",
       "      <th>5</th>\n",
       "      <td>1</td>\n",
       "      <td>1</td>\n",
       "      <td>1</td>\n",
       "      <td>1</td>\n",
       "      <td>1</td>\n",
       "      <td>1</td>\n",
       "      <td>0</td>\n",
       "      <td>0</td>\n",
       "      <td>0</td>\n",
       "      <td>0</td>\n",
       "      <td>0</td>\n",
       "      <td>0</td>\n",
       "      <td>0</td>\n",
       "      <td>0</td>\n",
       "      <td>0</td>\n",
       "      <td>0</td>\n",
       "      <td>0</td>\n",
       "      <td>0</td>\n",
       "      <td>0</td>\n",
       "    </tr>\n",
       "    <tr>\n",
       "      <th>6</th>\n",
       "      <td>1</td>\n",
       "      <td>1</td>\n",
       "      <td>1</td>\n",
       "      <td>1</td>\n",
       "      <td>1</td>\n",
       "      <td>1</td>\n",
       "      <td>1</td>\n",
       "      <td>0</td>\n",
       "      <td>0</td>\n",
       "      <td>0</td>\n",
       "      <td>0</td>\n",
       "      <td>0</td>\n",
       "      <td>0</td>\n",
       "      <td>0</td>\n",
       "      <td>0</td>\n",
       "      <td>0</td>\n",
       "      <td>0</td>\n",
       "      <td>0</td>\n",
       "      <td>0</td>\n",
       "    </tr>\n",
       "    <tr>\n",
       "      <th>7</th>\n",
       "      <td>1</td>\n",
       "      <td>1</td>\n",
       "      <td>1</td>\n",
       "      <td>1</td>\n",
       "      <td>1</td>\n",
       "      <td>1</td>\n",
       "      <td>1</td>\n",
       "      <td>1</td>\n",
       "      <td>0</td>\n",
       "      <td>0</td>\n",
       "      <td>0</td>\n",
       "      <td>0</td>\n",
       "      <td>0</td>\n",
       "      <td>0</td>\n",
       "      <td>0</td>\n",
       "      <td>0</td>\n",
       "      <td>0</td>\n",
       "      <td>0</td>\n",
       "      <td>0</td>\n",
       "    </tr>\n",
       "    <tr>\n",
       "      <th>8</th>\n",
       "      <td>1</td>\n",
       "      <td>1</td>\n",
       "      <td>1</td>\n",
       "      <td>1</td>\n",
       "      <td>1</td>\n",
       "      <td>1</td>\n",
       "      <td>1</td>\n",
       "      <td>1</td>\n",
       "      <td>1</td>\n",
       "      <td>0</td>\n",
       "      <td>0</td>\n",
       "      <td>0</td>\n",
       "      <td>0</td>\n",
       "      <td>0</td>\n",
       "      <td>0</td>\n",
       "      <td>0</td>\n",
       "      <td>0</td>\n",
       "      <td>0</td>\n",
       "      <td>0</td>\n",
       "    </tr>\n",
       "    <tr>\n",
       "      <th>9</th>\n",
       "      <td>1</td>\n",
       "      <td>1</td>\n",
       "      <td>1</td>\n",
       "      <td>1</td>\n",
       "      <td>1</td>\n",
       "      <td>1</td>\n",
       "      <td>1</td>\n",
       "      <td>1</td>\n",
       "      <td>1</td>\n",
       "      <td>1</td>\n",
       "      <td>0</td>\n",
       "      <td>0</td>\n",
       "      <td>0</td>\n",
       "      <td>0</td>\n",
       "      <td>0</td>\n",
       "      <td>0</td>\n",
       "      <td>0</td>\n",
       "      <td>0</td>\n",
       "      <td>0</td>\n",
       "    </tr>\n",
       "  </tbody>\n",
       "</table>\n",
       "</div>"
      ],
      "text/plain": [
       "   is_observed  accident_period_2002  accident_period_2003  \\\n",
       "0            1                     0                     0   \n",
       "1            1                     1                     0   \n",
       "2            1                     1                     1   \n",
       "3            1                     1                     1   \n",
       "4            1                     1                     1   \n",
       "5            1                     1                     1   \n",
       "6            1                     1                     1   \n",
       "7            1                     1                     1   \n",
       "8            1                     1                     1   \n",
       "9            1                     1                     1   \n",
       "\n",
       "   accident_period_2004  accident_period_2005  accident_period_2006  \\\n",
       "0                     0                     0                     0   \n",
       "1                     0                     0                     0   \n",
       "2                     0                     0                     0   \n",
       "3                     1                     0                     0   \n",
       "4                     1                     1                     0   \n",
       "5                     1                     1                     1   \n",
       "6                     1                     1                     1   \n",
       "7                     1                     1                     1   \n",
       "8                     1                     1                     1   \n",
       "9                     1                     1                     1   \n",
       "\n",
       "   accident_period_2007  accident_period_2008  accident_period_2009  \\\n",
       "0                     0                     0                     0   \n",
       "1                     0                     0                     0   \n",
       "2                     0                     0                     0   \n",
       "3                     0                     0                     0   \n",
       "4                     0                     0                     0   \n",
       "5                     0                     0                     0   \n",
       "6                     1                     0                     0   \n",
       "7                     1                     1                     0   \n",
       "8                     1                     1                     1   \n",
       "9                     1                     1                     1   \n",
       "\n",
       "   accident_period_2010  development_period_0002  development_period_0003  \\\n",
       "0                     0                        0                        0   \n",
       "1                     0                        0                        0   \n",
       "2                     0                        0                        0   \n",
       "3                     0                        0                        0   \n",
       "4                     0                        0                        0   \n",
       "5                     0                        0                        0   \n",
       "6                     0                        0                        0   \n",
       "7                     0                        0                        0   \n",
       "8                     0                        0                        0   \n",
       "9                     1                        0                        0   \n",
       "\n",
       "   development_period_0004  development_period_0005  development_period_0006  \\\n",
       "0                        0                        0                        0   \n",
       "1                        0                        0                        0   \n",
       "2                        0                        0                        0   \n",
       "3                        0                        0                        0   \n",
       "4                        0                        0                        0   \n",
       "5                        0                        0                        0   \n",
       "6                        0                        0                        0   \n",
       "7                        0                        0                        0   \n",
       "8                        0                        0                        0   \n",
       "9                        0                        0                        0   \n",
       "\n",
       "   development_period_0007  development_period_0008  development_period_0009  \\\n",
       "0                        0                        0                        0   \n",
       "1                        0                        0                        0   \n",
       "2                        0                        0                        0   \n",
       "3                        0                        0                        0   \n",
       "4                        0                        0                        0   \n",
       "5                        0                        0                        0   \n",
       "6                        0                        0                        0   \n",
       "7                        0                        0                        0   \n",
       "8                        0                        0                        0   \n",
       "9                        0                        0                        0   \n",
       "\n",
       "   development_period_0010  \n",
       "0                        0  \n",
       "1                        0  \n",
       "2                        0  \n",
       "3                        0  \n",
       "4                        0  \n",
       "5                        0  \n",
       "6                        0  \n",
       "7                        0  \n",
       "8                        0  \n",
       "9                        0  "
      ]
     },
     "execution_count": 8,
     "metadata": {},
     "output_type": "execute_result"
    }
   ],
   "source": [
    "# access linear design matrix:\n",
    "r.paid_loss.X_base.head(10)"
   ]
  },
  {
   "cell_type": "code",
   "execution_count": 9,
   "metadata": {},
   "outputs": [
    {
     "data": {
      "text/html": [
       "<div>\n",
       "<style scoped>\n",
       "    .dataframe tbody tr th:only-of-type {\n",
       "        vertical-align: middle;\n",
       "    }\n",
       "\n",
       "    .dataframe tbody tr th {\n",
       "        vertical-align: top;\n",
       "    }\n",
       "\n",
       "    .dataframe thead th {\n",
       "        text-align: right;\n",
       "    }\n",
       "</style>\n",
       "<table border=\"1\" class=\"dataframe\">\n",
       "  <thead>\n",
       "    <tr style=\"text-align: right;\">\n",
       "      <th>Age-to-Age Factors as of (months)</th>\n",
       "      <th>1</th>\n",
       "      <th>2</th>\n",
       "      <th>3</th>\n",
       "      <th>4</th>\n",
       "      <th>5</th>\n",
       "      <th>6</th>\n",
       "      <th>7</th>\n",
       "      <th>8</th>\n",
       "      <th>9</th>\n",
       "    </tr>\n",
       "  </thead>\n",
       "  <tbody>\n",
       "    <tr>\n",
       "      <th>2001</th>\n",
       "      <td>3.143</td>\n",
       "      <td>1.543</td>\n",
       "      <td>1.278</td>\n",
       "      <td>1.238</td>\n",
       "      <td>1.209</td>\n",
       "      <td>1.044</td>\n",
       "      <td>1.04</td>\n",
       "      <td>1.063</td>\n",
       "      <td>1.018</td>\n",
       "    </tr>\n",
       "    <tr>\n",
       "      <th>2002</th>\n",
       "      <td>3.511</td>\n",
       "      <td>1.755</td>\n",
       "      <td>1.545</td>\n",
       "      <td>1.133</td>\n",
       "      <td>1.084</td>\n",
       "      <td>1.128</td>\n",
       "      <td>1.057</td>\n",
       "      <td>1.086</td>\n",
       "      <td></td>\n",
       "    </tr>\n",
       "    <tr>\n",
       "      <th>2003</th>\n",
       "      <td>4.448</td>\n",
       "      <td>1.717</td>\n",
       "      <td>1.458</td>\n",
       "      <td>1.232</td>\n",
       "      <td>1.037</td>\n",
       "      <td>1.12</td>\n",
       "      <td>1.061</td>\n",
       "      <td></td>\n",
       "      <td></td>\n",
       "    </tr>\n",
       "    <tr>\n",
       "      <th>2004</th>\n",
       "      <td>4.568</td>\n",
       "      <td>1.547</td>\n",
       "      <td>1.712</td>\n",
       "      <td>1.073</td>\n",
       "      <td>1.087</td>\n",
       "      <td>1.047</td>\n",
       "      <td></td>\n",
       "      <td></td>\n",
       "      <td></td>\n",
       "    </tr>\n",
       "    <tr>\n",
       "      <th>2005</th>\n",
       "      <td>2.564</td>\n",
       "      <td>1.873</td>\n",
       "      <td>1.362</td>\n",
       "      <td>1.174</td>\n",
       "      <td>1.138</td>\n",
       "      <td></td>\n",
       "      <td></td>\n",
       "      <td></td>\n",
       "      <td></td>\n",
       "    </tr>\n",
       "    <tr>\n",
       "      <th>2006</th>\n",
       "      <td>3.366</td>\n",
       "      <td>1.636</td>\n",
       "      <td>1.369</td>\n",
       "      <td>1.236</td>\n",
       "      <td></td>\n",
       "      <td></td>\n",
       "      <td></td>\n",
       "      <td></td>\n",
       "      <td></td>\n",
       "    </tr>\n",
       "    <tr>\n",
       "      <th>2007</th>\n",
       "      <td>2.923</td>\n",
       "      <td>1.878</td>\n",
       "      <td>1.439</td>\n",
       "      <td></td>\n",
       "      <td></td>\n",
       "      <td></td>\n",
       "      <td></td>\n",
       "      <td></td>\n",
       "      <td></td>\n",
       "    </tr>\n",
       "    <tr>\n",
       "      <th>2008</th>\n",
       "      <td>3.953</td>\n",
       "      <td>2.016</td>\n",
       "      <td></td>\n",
       "      <td></td>\n",
       "      <td></td>\n",
       "      <td></td>\n",
       "      <td></td>\n",
       "      <td></td>\n",
       "      <td></td>\n",
       "    </tr>\n",
       "    <tr>\n",
       "      <th>2009</th>\n",
       "      <td>3.619</td>\n",
       "      <td></td>\n",
       "      <td></td>\n",
       "      <td></td>\n",
       "      <td></td>\n",
       "      <td></td>\n",
       "      <td></td>\n",
       "      <td></td>\n",
       "      <td></td>\n",
       "    </tr>\n",
       "    <tr>\n",
       "      <th>Vol Wtd</th>\n",
       "      <td></td>\n",
       "      <td></td>\n",
       "      <td></td>\n",
       "      <td></td>\n",
       "      <td></td>\n",
       "      <td></td>\n",
       "      <td></td>\n",
       "      <td></td>\n",
       "      <td></td>\n",
       "    </tr>\n",
       "    <tr>\n",
       "      <th>All Years</th>\n",
       "      <td>3.491</td>\n",
       "      <td>1.747</td>\n",
       "      <td>1.457</td>\n",
       "      <td>1.174</td>\n",
       "      <td>1.104</td>\n",
       "      <td>1.086</td>\n",
       "      <td>1.054</td>\n",
       "      <td>1.077</td>\n",
       "      <td>1.018</td>\n",
       "    </tr>\n",
       "    <tr>\n",
       "      <th>5 Years</th>\n",
       "      <td>3.245</td>\n",
       "      <td>1.787</td>\n",
       "      <td>1.468</td>\n",
       "      <td>1.165</td>\n",
       "      <td>1.104</td>\n",
       "      <td>1.086</td>\n",
       "      <td>1.054</td>\n",
       "      <td>1.077</td>\n",
       "      <td>1.018</td>\n",
       "    </tr>\n",
       "    <tr>\n",
       "      <th>3 Years</th>\n",
       "      <td>3.46</td>\n",
       "      <td>1.847</td>\n",
       "      <td>1.392</td>\n",
       "      <td>1.154</td>\n",
       "      <td>1.085</td>\n",
       "      <td>1.097</td>\n",
       "      <td>1.054</td>\n",
       "      <td>1.077</td>\n",
       "      <td>1.018</td>\n",
       "    </tr>\n",
       "    <tr>\n",
       "      <th>2 Years</th>\n",
       "      <td>3.782</td>\n",
       "      <td>1.95</td>\n",
       "      <td>1.406</td>\n",
       "      <td>1.206</td>\n",
       "      <td>1.111</td>\n",
       "      <td>1.082</td>\n",
       "      <td>1.059</td>\n",
       "      <td>1.077</td>\n",
       "      <td>1.018</td>\n",
       "    </tr>\n",
       "    <tr>\n",
       "      <th>Simple</th>\n",
       "      <td></td>\n",
       "      <td></td>\n",
       "      <td></td>\n",
       "      <td></td>\n",
       "      <td></td>\n",
       "      <td></td>\n",
       "      <td></td>\n",
       "      <td></td>\n",
       "      <td></td>\n",
       "    </tr>\n",
       "    <tr>\n",
       "      <th>All Years</th>\n",
       "      <td>3.566</td>\n",
       "      <td>1.746</td>\n",
       "      <td>1.452</td>\n",
       "      <td>1.181</td>\n",
       "      <td>1.111</td>\n",
       "      <td>1.085</td>\n",
       "      <td>1.053</td>\n",
       "      <td>1.075</td>\n",
       "      <td>1.018</td>\n",
       "    </tr>\n",
       "    <tr>\n",
       "      <th>5 Years</th>\n",
       "      <td>3.285</td>\n",
       "      <td>1.79</td>\n",
       "      <td>1.468</td>\n",
       "      <td>1.17</td>\n",
       "      <td>1.111</td>\n",
       "      <td>1.085</td>\n",
       "      <td>1.053</td>\n",
       "      <td>1.075</td>\n",
       "      <td>1.018</td>\n",
       "    </tr>\n",
       "    <tr>\n",
       "      <th>3 Years</th>\n",
       "      <td>3.498</td>\n",
       "      <td>1.843</td>\n",
       "      <td>1.39</td>\n",
       "      <td>1.161</td>\n",
       "      <td>1.088</td>\n",
       "      <td>1.098</td>\n",
       "      <td>1.053</td>\n",
       "      <td>1.075</td>\n",
       "      <td>1.018</td>\n",
       "    </tr>\n",
       "    <tr>\n",
       "      <th>2 Years</th>\n",
       "      <td>3.786</td>\n",
       "      <td>1.947</td>\n",
       "      <td>1.404</td>\n",
       "      <td>1.205</td>\n",
       "      <td>1.113</td>\n",
       "      <td>1.084</td>\n",
       "      <td>1.059</td>\n",
       "      <td>1.075</td>\n",
       "      <td>1.018</td>\n",
       "    </tr>\n",
       "    <tr>\n",
       "      <th>Medial 5-Year</th>\n",
       "      <td></td>\n",
       "      <td></td>\n",
       "      <td></td>\n",
       "      <td></td>\n",
       "      <td></td>\n",
       "      <td></td>\n",
       "      <td></td>\n",
       "      <td></td>\n",
       "      <td></td>\n",
       "    </tr>\n",
       "    <tr>\n",
       "      <th>Ex. Hi/Low</th>\n",
       "      <td>3.303</td>\n",
       "      <td>1.796</td>\n",
       "      <td>1.422</td>\n",
       "      <td>1.18</td>\n",
       "      <td>1.103</td>\n",
       "      <td>1.084</td>\n",
       "      <td>1.057</td>\n",
       "      <td>1.077</td>\n",
       "      <td>1.018</td>\n",
       "    </tr>\n",
       "    <tr>\n",
       "      <th>Ex. Hi</th>\n",
       "      <td>3.118</td>\n",
       "      <td>1.733</td>\n",
       "      <td>1.407</td>\n",
       "      <td>1.153</td>\n",
       "      <td>1.087</td>\n",
       "      <td>1.07</td>\n",
       "      <td>1.049</td>\n",
       "      <td>1.063</td>\n",
       "      <td>1.018</td>\n",
       "    </tr>\n",
       "    <tr>\n",
       "      <th>Ex. Low</th>\n",
       "      <td>3.465</td>\n",
       "      <td>1.851</td>\n",
       "      <td>1.495</td>\n",
       "      <td>1.194</td>\n",
       "      <td>1.13</td>\n",
       "      <td>1.098</td>\n",
       "      <td>1.059</td>\n",
       "      <td>1.086</td>\n",
       "      <td>1.018</td>\n",
       "    </tr>\n",
       "  </tbody>\n",
       "</table>\n",
       "</div>"
      ],
      "text/plain": [
       "Age-to-Age Factors as of (months)      1      2      3      4      5      6  \\\n",
       "2001                               3.143  1.543  1.278  1.238  1.209  1.044   \n",
       "2002                               3.511  1.755  1.545  1.133  1.084  1.128   \n",
       "2003                               4.448  1.717  1.458  1.232  1.037   1.12   \n",
       "2004                               4.568  1.547  1.712  1.073  1.087  1.047   \n",
       "2005                               2.564  1.873  1.362  1.174  1.138          \n",
       "2006                               3.366  1.636  1.369  1.236                 \n",
       "2007                               2.923  1.878  1.439                        \n",
       "2008                               3.953  2.016                               \n",
       "2009                               3.619                                      \n",
       "Vol Wtd                                                                       \n",
       "All Years                          3.491  1.747  1.457  1.174  1.104  1.086   \n",
       "5 Years                            3.245  1.787  1.468  1.165  1.104  1.086   \n",
       "3 Years                             3.46  1.847  1.392  1.154  1.085  1.097   \n",
       "2 Years                            3.782   1.95  1.406  1.206  1.111  1.082   \n",
       "Simple                                                                        \n",
       "All Years                          3.566  1.746  1.452  1.181  1.111  1.085   \n",
       "5 Years                            3.285   1.79  1.468   1.17  1.111  1.085   \n",
       "3 Years                            3.498  1.843   1.39  1.161  1.088  1.098   \n",
       "2 Years                            3.786  1.947  1.404  1.205  1.113  1.084   \n",
       "Medial 5-Year                                                                 \n",
       "Ex. Hi/Low                         3.303  1.796  1.422   1.18  1.103  1.084   \n",
       "Ex. Hi                             3.118  1.733  1.407  1.153  1.087   1.07   \n",
       "Ex. Low                            3.465  1.851  1.495  1.194   1.13  1.098   \n",
       "\n",
       "Age-to-Age Factors as of (months)      7      8      9  \n",
       "2001                                1.04  1.063  1.018  \n",
       "2002                               1.057  1.086         \n",
       "2003                               1.061                \n",
       "2004                                                    \n",
       "2005                                                    \n",
       "2006                                                    \n",
       "2007                                                    \n",
       "2008                                                    \n",
       "2009                                                    \n",
       "Vol Wtd                                                 \n",
       "All Years                          1.054  1.077  1.018  \n",
       "5 Years                            1.054  1.077  1.018  \n",
       "3 Years                            1.054  1.077  1.018  \n",
       "2 Years                            1.059  1.077  1.018  \n",
       "Simple                                                  \n",
       "All Years                          1.053  1.075  1.018  \n",
       "5 Years                            1.053  1.075  1.018  \n",
       "3 Years                            1.053  1.075  1.018  \n",
       "2 Years                            1.059  1.075  1.018  \n",
       "Medial 5-Year                                           \n",
       "Ex. Hi/Low                         1.057  1.077  1.018  \n",
       "Ex. Hi                             1.049  1.063  1.018  \n",
       "Ex. Low                            1.059  1.086  1.018  "
      ]
     },
     "execution_count": 9,
     "metadata": {},
     "output_type": "execute_result"
    }
   ],
   "source": [
    "# quick ATA factor summary\n",
    "r.paid_loss.ata_summary()"
   ]
  },
  {
   "cell_type": "code",
   "execution_count": 10,
   "metadata": {},
   "outputs": [
    {
     "data": {
      "text/plain": [
       "Accident Period\n",
       "2001-01-01    4139452.0\n",
       "2002-01-01    5765176.0\n",
       "2003-01-01    5706935.0\n",
       "2004-01-01    5621078.0\n",
       "2005-01-01    5154550.0\n",
       "2006-01-01    5422953.0\n",
       "2007-01-01    5961413.0\n",
       "2008-01-01    7197996.0\n",
       "2009-01-01    6120629.0\n",
       "2010-01-01    5011529.0\n",
       "Name: Chain Ladder Ultimate Loss, dtype: float64"
      ]
     },
     "execution_count": 10,
     "metadata": {},
     "output_type": "execute_result"
    }
   ],
   "source": [
    "# Triangle data type actually has a robust chain-ladder implementation that can be accessed\n",
    "\n",
    "# this isn't important for right now, but it is there and it works well:\n",
    "r.paid_loss.ult('vwa', 5, tail=1.061)"
   ]
  },
  {
   "cell_type": "code",
   "execution_count": 11,
   "metadata": {},
   "outputs": [
    {
     "name": "stdout",
     "output_type": "stream",
     "text": [
      "This is for testing and compatability only. Please do not assign much credibility to these estimates for the purposes selecting carried reserves.\n",
      "rocky(id='rocky0', mod=(\"glm\", \"icrfs\"), f=(), plot=(), t=\"paid_loss\")\n"
     ]
    }
   ],
   "source": [
    "# now add a GLM model to the triangle:\n",
    "r.AddModel('icrfs', 'loglinear', 'paid_loss')\n",
    "print(r)"
   ]
  },
  {
   "cell_type": "code",
   "execution_count": 20,
   "metadata": {},
   "outputs": [
    {
     "data": {
      "text/plain": [
       "0      357848.0\n",
       "1      352118.0\n",
       "2      290507.0\n",
       "3      310608.0\n",
       "4      443160.0\n",
       "5      396132.0\n",
       "6      440832.0\n",
       "7      359480.0\n",
       "8      376686.0\n",
       "9      344014.0\n",
       "10     766940.0\n",
       "11     884021.0\n",
       "12    1001799.0\n",
       "13    1108250.0\n",
       "14     693190.0\n",
       "15     937085.0\n",
       "16     847631.0\n",
       "17    1061648.0\n",
       "18     986608.0\n",
       "20     610542.0\n",
       "21     933894.0\n",
       "22     926219.0\n",
       "23     776189.0\n",
       "24     991983.0\n",
       "25     847498.0\n",
       "26    1131398.0\n",
       "27    1443370.0\n",
       "30     482940.0\n",
       "31    1183289.0\n",
       "32    1016654.0\n",
       "33    1562400.0\n",
       "34     769488.0\n",
       "35     805037.0\n",
       "36    1063269.0\n",
       "40     527326.0\n",
       "41     445745.0\n",
       "42     750816.0\n",
       "43     272482.0\n",
       "44     504851.0\n",
       "45     705960.0\n",
       "50     574398.0\n",
       "51     320996.0\n",
       "52     146923.0\n",
       "53     352053.0\n",
       "54     470639.0\n",
       "60     146342.0\n",
       "61     527804.0\n",
       "62     495992.0\n",
       "63     206286.0\n",
       "70     139950.0\n",
       "71     266172.0\n",
       "72     280405.0\n",
       "80     227229.0\n",
       "81     425046.0\n",
       "90      67948.0\n",
       "Name: paid_loss, dtype: float64"
      ]
     },
     "execution_count": 20,
     "metadata": {},
     "output_type": "execute_result"
    }
   ],
   "source": [
    "r.icrfs.GetY('train')"
   ]
  },
  {
   "cell_type": "code",
   "execution_count": 12,
   "metadata": {},
   "outputs": [
    {
     "name": "stderr",
     "output_type": "stream",
     "text": [
      "Tuning on 9 and earlier: 100%|██████████| 651/651 [00:04<00:00, 157.89it/s]\n",
      "Tuning on 8 and earlier: 100%|██████████| 651/651 [00:03<00:00, 165.21it/s]\n",
      "Tuning on 7 and earlier: 100%|██████████| 651/651 [00:03<00:00, 170.14it/s]\n",
      "Tuning on 6 and earlier: 100%|██████████| 651/651 [00:03<00:00, 165.15it/s]\n",
      "Tuning on 5 and earlier: 100%|██████████| 651/651 [00:03<00:00, 165.29it/s]\n",
      "/home/aweaver/git/rocky/rocky-app/./src/rocky/LogLinear.py:329: RuntimeWarning: overflow encountered in exp\n",
      "  yhat = np.exp(self.model.predict(X))\n"
     ]
    }
   ],
   "source": [
    "r.icrfs.TuneFitHyperparameters()"
   ]
  },
  {
   "cell_type": "code",
   "execution_count": 19,
   "metadata": {},
   "outputs": [
    {
     "data": {
      "text/plain": [
       "['Combine',\n",
       " 'Deviance',\n",
       " 'DevianceResiduals',\n",
       " 'Fit',\n",
       " 'GetAcc',\n",
       " 'GetAccGp',\n",
       " 'GetAccGpMap',\n",
       " 'GetCal',\n",
       " 'GetCalGp',\n",
       " 'GetCalGpMap',\n",
       " 'GetDegreesOfFreedom',\n",
       " 'GetDev',\n",
       " 'GetDevGp',\n",
       " 'GetDevGpMap',\n",
       " 'GetExposure',\n",
       " 'GetHeteroGp',\n",
       " 'GetIdx',\n",
       " 'GetN',\n",
       " 'GetP',\n",
       " 'GetParameterNames',\n",
       " 'GetParameters',\n",
       " 'GetSaturatedModel',\n",
       " 'GetVarY',\n",
       " 'GetWeights',\n",
       " 'GetX',\n",
       " 'GetXBase',\n",
       " 'GetY',\n",
       " 'GetYBase',\n",
       " 'GetYearTypeDict',\n",
       " 'GetYhat',\n",
       " 'LogLikelihood',\n",
       " 'LogPi',\n",
       " 'ManualFit',\n",
       " 'PearsonResiduals',\n",
       " 'Predict',\n",
       " 'PredictTriangle',\n",
       " 'RawResiduals',\n",
       " 'ScaleParameter',\n",
       " 'SetCalGpMap',\n",
       " 'SetDevGpMap',\n",
       " 'SetHeteroGp',\n",
       " 'SetHyperparameters',\n",
       " 'SetVarY',\n",
       " 'SetWeights',\n",
       " 'SetX',\n",
       " 'SetY',\n",
       " 'TuneFitHyperparameters',\n",
       " 'Ultimate',\n",
       " 'X_forecast',\n",
       " 'X_train',\n",
       " '_CalcHeteroAdj',\n",
       " '_FitData',\n",
       " '_ProcessVarMLE',\n",
       " '_ProcessVarUBE',\n",
       " '_StandardError',\n",
       " '_StandardizedResiduals',\n",
       " '__annotations__',\n",
       " '__class__',\n",
       " '__dataclass_fields__',\n",
       " '__dataclass_params__',\n",
       " '__delattr__',\n",
       " '__dict__',\n",
       " '__dir__',\n",
       " '__doc__',\n",
       " '__eq__',\n",
       " '__format__',\n",
       " '__ge__',\n",
       " '__getattribute__',\n",
       " '__getstate__',\n",
       " '__gt__',\n",
       " '__hash__',\n",
       " '__init__',\n",
       " '__init_subclass__',\n",
       " '__le__',\n",
       " '__lt__',\n",
       " '__match_args__',\n",
       " '__module__',\n",
       " '__ne__',\n",
       " '__new__',\n",
       " '__post_init__',\n",
       " '__reduce__',\n",
       " '__reduce_ex__',\n",
       " '__repr__',\n",
       " '__setattr__',\n",
       " '__sizeof__',\n",
       " '__str__',\n",
       " '__subclasshook__',\n",
       " '__weakref__',\n",
       " '_build_idx',\n",
       " '_build_idx1',\n",
       " '_copy_table',\n",
       " '_designmatrix',\n",
       " '_initialize_matrices',\n",
       " '_lagFnc',\n",
       " '_lm',\n",
       " '_paste_table',\n",
       " '_popVar',\n",
       " '_tritomatrix',\n",
       " '_update_attributes',\n",
       " '_update_plot_attributes',\n",
       " '_update_trends',\n",
       " 'acc',\n",
       " 'acc_forecast',\n",
       " 'acc_gp',\n",
       " 'acc_gp_filter',\n",
       " 'alpha',\n",
       " 'cal',\n",
       " 'cal_forecast',\n",
       " 'cal_gp',\n",
       " 'coef',\n",
       " 'column_order',\n",
       " 'combine_indices',\n",
       " 'cv',\n",
       " 'dev',\n",
       " 'dev_forecast',\n",
       " 'dev_gp',\n",
       " 'distribution_family',\n",
       " 'dy_w_gp',\n",
       " 'exposure',\n",
       " 'exposure_forecast',\n",
       " 'forecast_index',\n",
       " 'has_combined_params',\n",
       " 'hetero_gp',\n",
       " 'id',\n",
       " 'inc_plot',\n",
       " 'initial_forecast_idx',\n",
       " 'initial_train_idx',\n",
       " 'intercept',\n",
       " 'is_fitted',\n",
       " 'l1_ratio',\n",
       " 'link',\n",
       " 'max_iter',\n",
       " 'model',\n",
       " 'model_class',\n",
       " 'model_name',\n",
       " 'must_be_positive',\n",
       " 'n_validation',\n",
       " 'plot',\n",
       " 'saturated_model',\n",
       " 'train_index',\n",
       " 'tri',\n",
       " 'use_cal',\n",
       " 'weights',\n",
       " 'y_train']"
      ]
     },
     "execution_count": 19,
     "metadata": {},
     "output_type": "execute_result"
    }
   ],
   "source": [
    "dir(r.icrfs)"
   ]
  },
  {
   "cell_type": "code",
   "execution_count": null,
   "metadata": {},
   "outputs": [],
   "source": [
    "r.glm.TuneFitHyperparameters()"
   ]
  },
  {
   "cell_type": "code",
   "execution_count": null,
   "metadata": {},
   "outputs": [
    {
     "data": {
      "text/plain": [
       "loglinear(alpha=0.5, l1_ratio=0.5)"
      ]
     },
     "execution_count": 12,
     "metadata": {},
     "output_type": "execute_result"
    }
   ],
   "source": [
    "# load hyperparameters\n",
    "# r.tweedie.TuneFitHyperparameters()\n",
    "r.icrfs.SetHyperparameters(alpha=0.5, l1_ratio=0.5)\n",
    "# r.tweedie.SetHyperparameters(alpha=0.2, power=2.3)\n",
    "# r.tweedie.SetHyperparameters(alpha=1, power=1)\n",
    "r.icrfs"
   ]
  },
  {
   "cell_type": "code",
   "execution_count": null,
   "metadata": {},
   "outputs": [
    {
     "data": {
      "text/plain": [
       "0      357848.0\n",
       "1      352118.0\n",
       "2      290507.0\n",
       "3      310608.0\n",
       "4      443160.0\n",
       "5      396132.0\n",
       "6      440832.0\n",
       "7      359480.0\n",
       "8      376686.0\n",
       "9      344014.0\n",
       "10     766940.0\n",
       "11     884021.0\n",
       "12    1001799.0\n",
       "13    1108250.0\n",
       "14     693190.0\n",
       "15     937085.0\n",
       "16     847631.0\n",
       "17    1061648.0\n",
       "18     986608.0\n",
       "20     610542.0\n",
       "21     933894.0\n",
       "22     926219.0\n",
       "23     776189.0\n",
       "24     991983.0\n",
       "25     847498.0\n",
       "26    1131398.0\n",
       "27    1443370.0\n",
       "30     482940.0\n",
       "31    1183289.0\n",
       "32    1016654.0\n",
       "33    1562400.0\n",
       "34     769488.0\n",
       "35     805037.0\n",
       "36    1063269.0\n",
       "40     527326.0\n",
       "41     445745.0\n",
       "42     750816.0\n",
       "43     272482.0\n",
       "44     504851.0\n",
       "45     705960.0\n",
       "50     574398.0\n",
       "51     320996.0\n",
       "52     146923.0\n",
       "53     352053.0\n",
       "54     470639.0\n",
       "60     146342.0\n",
       "61     527804.0\n",
       "62     495992.0\n",
       "63     206286.0\n",
       "70     139950.0\n",
       "71     266172.0\n",
       "72     280405.0\n",
       "80     227229.0\n",
       "81     425046.0\n",
       "90      67948.0\n",
       "Name: paid_loss, dtype: float64"
      ]
     },
     "execution_count": 13,
     "metadata": {},
     "output_type": "execute_result"
    }
   ],
   "source": [
    "r.icrfs.GetY('train')\n",
    "# r.icrfs.is_fitted"
   ]
  },
  {
   "cell_type": "code",
   "execution_count": null,
   "metadata": {},
   "outputs": [
    {
     "name": "stdout",
     "output_type": "stream",
     "text": [
      "rocky(id='rocky0', mod=\"icrfs\", f=(), plot=(), t=\"paid_loss\")\n"
     ]
    },
    {
     "name": "stderr",
     "output_type": "stream",
     "text": [
      "/home/aweaver/git/rocky/rocky-app/./src/rocky/LogLinear.py:329: RuntimeWarning: overflow encountered in exp\n",
      "  yhat = np.exp(self.model.predict(X))\n"
     ]
    }
   ],
   "source": [
    "## now that we have a set of hyperparameters, we can reuse them\n",
    "## next time using model.SetHyperparameters(alpha, power):\n",
    "# -> r.tweedie.SetHyperparameters(alpha=0.4, power=1.8)\n",
    "\n",
    "# fit base model to the data\n",
    "r.icrfs.Fit()\n",
    "print(r)"
   ]
  },
  {
   "cell_type": "code",
   "execution_count": null,
   "metadata": {},
   "outputs": [
    {
     "data": {
      "text/html": [
       "<style>#sk-container-id-1 {color: black;}#sk-container-id-1 pre{padding: 0;}#sk-container-id-1 div.sk-toggleable {background-color: white;}#sk-container-id-1 label.sk-toggleable__label {cursor: pointer;display: block;width: 100%;margin-bottom: 0;padding: 0.3em;box-sizing: border-box;text-align: center;}#sk-container-id-1 label.sk-toggleable__label-arrow:before {content: \"▸\";float: left;margin-right: 0.25em;color: #696969;}#sk-container-id-1 label.sk-toggleable__label-arrow:hover:before {color: black;}#sk-container-id-1 div.sk-estimator:hover label.sk-toggleable__label-arrow:before {color: black;}#sk-container-id-1 div.sk-toggleable__content {max-height: 0;max-width: 0;overflow: hidden;text-align: left;background-color: #f0f8ff;}#sk-container-id-1 div.sk-toggleable__content pre {margin: 0.2em;color: black;border-radius: 0.25em;background-color: #f0f8ff;}#sk-container-id-1 input.sk-toggleable__control:checked~div.sk-toggleable__content {max-height: 200px;max-width: 100%;overflow: auto;}#sk-container-id-1 input.sk-toggleable__control:checked~label.sk-toggleable__label-arrow:before {content: \"▾\";}#sk-container-id-1 div.sk-estimator input.sk-toggleable__control:checked~label.sk-toggleable__label {background-color: #d4ebff;}#sk-container-id-1 div.sk-label input.sk-toggleable__control:checked~label.sk-toggleable__label {background-color: #d4ebff;}#sk-container-id-1 input.sk-hidden--visually {border: 0;clip: rect(1px 1px 1px 1px);clip: rect(1px, 1px, 1px, 1px);height: 1px;margin: -1px;overflow: hidden;padding: 0;position: absolute;width: 1px;}#sk-container-id-1 div.sk-estimator {font-family: monospace;background-color: #f0f8ff;border: 1px dotted black;border-radius: 0.25em;box-sizing: border-box;margin-bottom: 0.5em;}#sk-container-id-1 div.sk-estimator:hover {background-color: #d4ebff;}#sk-container-id-1 div.sk-parallel-item::after {content: \"\";width: 100%;border-bottom: 1px solid gray;flex-grow: 1;}#sk-container-id-1 div.sk-label:hover label.sk-toggleable__label {background-color: #d4ebff;}#sk-container-id-1 div.sk-serial::before {content: \"\";position: absolute;border-left: 1px solid gray;box-sizing: border-box;top: 0;bottom: 0;left: 50%;z-index: 0;}#sk-container-id-1 div.sk-serial {display: flex;flex-direction: column;align-items: center;background-color: white;padding-right: 0.2em;padding-left: 0.2em;position: relative;}#sk-container-id-1 div.sk-item {position: relative;z-index: 1;}#sk-container-id-1 div.sk-parallel {display: flex;align-items: stretch;justify-content: center;background-color: white;position: relative;}#sk-container-id-1 div.sk-item::before, #sk-container-id-1 div.sk-parallel-item::before {content: \"\";position: absolute;border-left: 1px solid gray;box-sizing: border-box;top: 0;bottom: 0;left: 50%;z-index: -1;}#sk-container-id-1 div.sk-parallel-item {display: flex;flex-direction: column;z-index: 1;position: relative;background-color: white;}#sk-container-id-1 div.sk-parallel-item:first-child::after {align-self: flex-end;width: 50%;}#sk-container-id-1 div.sk-parallel-item:last-child::after {align-self: flex-start;width: 50%;}#sk-container-id-1 div.sk-parallel-item:only-child::after {width: 0;}#sk-container-id-1 div.sk-dashed-wrapped {border: 1px dashed gray;margin: 0 0.4em 0.5em 0.4em;box-sizing: border-box;padding-bottom: 0.4em;background-color: white;}#sk-container-id-1 div.sk-label label {font-family: monospace;font-weight: bold;display: inline-block;line-height: 1.2em;}#sk-container-id-1 div.sk-label-container {text-align: center;}#sk-container-id-1 div.sk-container {/* jupyter's `normalize.less` sets `[hidden] { display: none; }` but bootstrap.min.css set `[hidden] { display: none !important; }` so we also need the `!important` here to be able to override the default hidden behavior on the sphinx rendered scikit-learn.org. See: https://github.com/scikit-learn/scikit-learn/issues/21755 */display: inline-block !important;position: relative;}#sk-container-id-1 div.sk-text-repr-fallback {display: none;}</style><div id=\"sk-container-id-1\" class=\"sk-top-container\"><div class=\"sk-text-repr-fallback\"><pre>ElasticNet(alpha=0.5, fit_intercept=False, max_iter=100000)</pre><b>In a Jupyter environment, please rerun this cell to show the HTML representation or trust the notebook. <br />On GitHub, the HTML representation is unable to render, please try loading this page with nbviewer.org.</b></div><div class=\"sk-container\" hidden><div class=\"sk-item\"><div class=\"sk-estimator sk-toggleable\"><input class=\"sk-toggleable__control sk-hidden--visually\" id=\"sk-estimator-id-1\" type=\"checkbox\" checked><label for=\"sk-estimator-id-1\" class=\"sk-toggleable__label sk-toggleable__label-arrow\">ElasticNet</label><div class=\"sk-toggleable__content\"><pre>ElasticNet(alpha=0.5, fit_intercept=False, max_iter=100000)</pre></div></div></div></div></div>"
      ],
      "text/plain": [
       "ElasticNet(alpha=0.5, fit_intercept=False, max_iter=100000)"
      ]
     },
     "execution_count": 15,
     "metadata": {},
     "output_type": "execute_result"
    }
   ],
   "source": [
    "r.icrfs.model"
   ]
  },
  {
   "cell_type": "code",
   "execution_count": null,
   "metadata": {},
   "outputs": [
    {
     "data": {
      "text/plain": [
       "array([ 183378.14553397,  140318.94833352,   69085.79388944,\n",
       "         42868.98474404,   29947.69303848,   44827.05366262,\n",
       "         46096.02812581,   22861.82518928,  -15757.27538682,\n",
       "        -14888.09811053,  247990.79104194,   99322.85216628,\n",
       "         -5048.99606003, -122806.4928787 ,  -92180.66561062,\n",
       "        -50545.17421981,  -31198.61043775,   -5748.99327737,\n",
       "        -10522.10889884])"
      ]
     },
     "execution_count": 16,
     "metadata": {},
     "output_type": "execute_result"
    }
   ],
   "source": [
    "r.icrfs.model.coef_"
   ]
  },
  {
   "cell_type": "code",
   "execution_count": null,
   "metadata": {},
   "outputs": [
    {
     "name": "stderr",
     "output_type": "stream",
     "text": [
      "/home/aweaver/git/rocky/rocky-app/./src/rocky/LogLinear.py:329: RuntimeWarning: overflow encountered in exp\n",
      "  yhat = np.exp(self.model.predict(X))\n"
     ]
    },
    {
     "data": {
      "text/html": [
       "<div>\n",
       "<style scoped>\n",
       "    .dataframe tbody tr th:only-of-type {\n",
       "        vertical-align: middle;\n",
       "    }\n",
       "\n",
       "    .dataframe tbody tr th {\n",
       "        vertical-align: top;\n",
       "    }\n",
       "\n",
       "    .dataframe thead th {\n",
       "        text-align: right;\n",
       "    }\n",
       "</style>\n",
       "<table border=\"1\" class=\"dataframe\">\n",
       "  <thead>\n",
       "    <tr style=\"text-align: right;\">\n",
       "      <th>development_period</th>\n",
       "      <th>1</th>\n",
       "      <th>2</th>\n",
       "      <th>3</th>\n",
       "      <th>4</th>\n",
       "      <th>5</th>\n",
       "      <th>6</th>\n",
       "      <th>7</th>\n",
       "      <th>8</th>\n",
       "      <th>9</th>\n",
       "      <th>10</th>\n",
       "    </tr>\n",
       "    <tr>\n",
       "      <th>accident_period</th>\n",
       "      <th></th>\n",
       "      <th></th>\n",
       "      <th></th>\n",
       "      <th></th>\n",
       "      <th></th>\n",
       "      <th></th>\n",
       "      <th></th>\n",
       "      <th></th>\n",
       "      <th></th>\n",
       "      <th></th>\n",
       "    </tr>\n",
       "  </thead>\n",
       "  <tbody>\n",
       "    <tr>\n",
       "      <th>2001</th>\n",
       "      <td>inf</td>\n",
       "      <td>inf</td>\n",
       "      <td>inf</td>\n",
       "      <td>inf</td>\n",
       "      <td>inf</td>\n",
       "      <td>inf</td>\n",
       "      <td>inf</td>\n",
       "      <td>inf</td>\n",
       "      <td>inf</td>\n",
       "      <td>inf</td>\n",
       "    </tr>\n",
       "    <tr>\n",
       "      <th>2002</th>\n",
       "      <td>inf</td>\n",
       "      <td>inf</td>\n",
       "      <td>inf</td>\n",
       "      <td>inf</td>\n",
       "      <td>inf</td>\n",
       "      <td>inf</td>\n",
       "      <td>inf</td>\n",
       "      <td>inf</td>\n",
       "      <td>inf</td>\n",
       "      <td>inf</td>\n",
       "    </tr>\n",
       "    <tr>\n",
       "      <th>2003</th>\n",
       "      <td>inf</td>\n",
       "      <td>inf</td>\n",
       "      <td>inf</td>\n",
       "      <td>inf</td>\n",
       "      <td>inf</td>\n",
       "      <td>inf</td>\n",
       "      <td>inf</td>\n",
       "      <td>inf</td>\n",
       "      <td>inf</td>\n",
       "      <td>inf</td>\n",
       "    </tr>\n",
       "    <tr>\n",
       "      <th>2004</th>\n",
       "      <td>inf</td>\n",
       "      <td>inf</td>\n",
       "      <td>inf</td>\n",
       "      <td>inf</td>\n",
       "      <td>inf</td>\n",
       "      <td>inf</td>\n",
       "      <td>inf</td>\n",
       "      <td>inf</td>\n",
       "      <td>inf</td>\n",
       "      <td>inf</td>\n",
       "    </tr>\n",
       "    <tr>\n",
       "      <th>2005</th>\n",
       "      <td>inf</td>\n",
       "      <td>inf</td>\n",
       "      <td>inf</td>\n",
       "      <td>inf</td>\n",
       "      <td>inf</td>\n",
       "      <td>inf</td>\n",
       "      <td>inf</td>\n",
       "      <td>inf</td>\n",
       "      <td>inf</td>\n",
       "      <td>inf</td>\n",
       "    </tr>\n",
       "    <tr>\n",
       "      <th>2006</th>\n",
       "      <td>inf</td>\n",
       "      <td>inf</td>\n",
       "      <td>inf</td>\n",
       "      <td>inf</td>\n",
       "      <td>inf</td>\n",
       "      <td>inf</td>\n",
       "      <td>inf</td>\n",
       "      <td>inf</td>\n",
       "      <td>inf</td>\n",
       "      <td>inf</td>\n",
       "    </tr>\n",
       "    <tr>\n",
       "      <th>2007</th>\n",
       "      <td>inf</td>\n",
       "      <td>inf</td>\n",
       "      <td>inf</td>\n",
       "      <td>inf</td>\n",
       "      <td>inf</td>\n",
       "      <td>inf</td>\n",
       "      <td>inf</td>\n",
       "      <td>inf</td>\n",
       "      <td>inf</td>\n",
       "      <td>inf</td>\n",
       "    </tr>\n",
       "    <tr>\n",
       "      <th>2008</th>\n",
       "      <td>inf</td>\n",
       "      <td>inf</td>\n",
       "      <td>inf</td>\n",
       "      <td>inf</td>\n",
       "      <td>inf</td>\n",
       "      <td>inf</td>\n",
       "      <td>inf</td>\n",
       "      <td>inf</td>\n",
       "      <td>inf</td>\n",
       "      <td>inf</td>\n",
       "    </tr>\n",
       "    <tr>\n",
       "      <th>2009</th>\n",
       "      <td>inf</td>\n",
       "      <td>inf</td>\n",
       "      <td>inf</td>\n",
       "      <td>inf</td>\n",
       "      <td>inf</td>\n",
       "      <td>inf</td>\n",
       "      <td>inf</td>\n",
       "      <td>inf</td>\n",
       "      <td>inf</td>\n",
       "      <td>inf</td>\n",
       "    </tr>\n",
       "    <tr>\n",
       "      <th>2010</th>\n",
       "      <td>inf</td>\n",
       "      <td>inf</td>\n",
       "      <td>inf</td>\n",
       "      <td>inf</td>\n",
       "      <td>inf</td>\n",
       "      <td>inf</td>\n",
       "      <td>inf</td>\n",
       "      <td>inf</td>\n",
       "      <td>inf</td>\n",
       "      <td>inf</td>\n",
       "    </tr>\n",
       "  </tbody>\n",
       "</table>\n",
       "</div>"
      ],
      "text/plain": [
       "development_period   1    2    3    4    5    6    7    8    9    10\n",
       "accident_period                                                     \n",
       "2001                inf  inf  inf  inf  inf  inf  inf  inf  inf  inf\n",
       "2002                inf  inf  inf  inf  inf  inf  inf  inf  inf  inf\n",
       "2003                inf  inf  inf  inf  inf  inf  inf  inf  inf  inf\n",
       "2004                inf  inf  inf  inf  inf  inf  inf  inf  inf  inf\n",
       "2005                inf  inf  inf  inf  inf  inf  inf  inf  inf  inf\n",
       "2006                inf  inf  inf  inf  inf  inf  inf  inf  inf  inf\n",
       "2007                inf  inf  inf  inf  inf  inf  inf  inf  inf  inf\n",
       "2008                inf  inf  inf  inf  inf  inf  inf  inf  inf  inf\n",
       "2009                inf  inf  inf  inf  inf  inf  inf  inf  inf  inf\n",
       "2010                inf  inf  inf  inf  inf  inf  inf  inf  inf  inf"
      ]
     },
     "execution_count": 17,
     "metadata": {},
     "output_type": "execute_result"
    }
   ],
   "source": [
    "r.icrfs.PredictTriangle().pivot_table(index='accident_period', columns='development_period', values='yhat').round(0)"
   ]
  },
  {
   "cell_type": "code",
   "execution_count": null,
   "metadata": {},
   "outputs": [
    {
     "data": {
      "text/html": [
       "<div>\n",
       "<style scoped>\n",
       "    .dataframe tbody tr th:only-of-type {\n",
       "        vertical-align: middle;\n",
       "    }\n",
       "\n",
       "    .dataframe tbody tr th {\n",
       "        vertical-align: top;\n",
       "    }\n",
       "\n",
       "    .dataframe thead th {\n",
       "        text-align: right;\n",
       "    }\n",
       "</style>\n",
       "<table border=\"1\" class=\"dataframe\">\n",
       "  <thead>\n",
       "    <tr style=\"text-align: right;\">\n",
       "      <th>development_period</th>\n",
       "      <th>1</th>\n",
       "      <th>2</th>\n",
       "      <th>3</th>\n",
       "      <th>4</th>\n",
       "      <th>5</th>\n",
       "      <th>6</th>\n",
       "      <th>7</th>\n",
       "      <th>8</th>\n",
       "      <th>9</th>\n",
       "      <th>10</th>\n",
       "    </tr>\n",
       "    <tr>\n",
       "      <th>accident_period</th>\n",
       "      <th></th>\n",
       "      <th></th>\n",
       "      <th></th>\n",
       "      <th></th>\n",
       "      <th></th>\n",
       "      <th></th>\n",
       "      <th></th>\n",
       "      <th></th>\n",
       "      <th></th>\n",
       "      <th></th>\n",
       "    </tr>\n",
       "  </thead>\n",
       "  <tbody>\n",
       "    <tr>\n",
       "      <th>2001</th>\n",
       "      <td>357848.0</td>\n",
       "      <td>766940.0</td>\n",
       "      <td>610542.0</td>\n",
       "      <td>482940.0</td>\n",
       "      <td>527326.0</td>\n",
       "      <td>574398.0</td>\n",
       "      <td>146342.0</td>\n",
       "      <td>139950.0</td>\n",
       "      <td>227229.0</td>\n",
       "      <td>67948.0</td>\n",
       "    </tr>\n",
       "    <tr>\n",
       "      <th>2002</th>\n",
       "      <td>352118.0</td>\n",
       "      <td>884021.0</td>\n",
       "      <td>933894.0</td>\n",
       "      <td>1183289.0</td>\n",
       "      <td>445745.0</td>\n",
       "      <td>320996.0</td>\n",
       "      <td>527804.0</td>\n",
       "      <td>266172.0</td>\n",
       "      <td>425046.0</td>\n",
       "      <td>NaN</td>\n",
       "    </tr>\n",
       "    <tr>\n",
       "      <th>2003</th>\n",
       "      <td>290507.0</td>\n",
       "      <td>1001799.0</td>\n",
       "      <td>926219.0</td>\n",
       "      <td>1016654.0</td>\n",
       "      <td>750816.0</td>\n",
       "      <td>146923.0</td>\n",
       "      <td>495992.0</td>\n",
       "      <td>280405.0</td>\n",
       "      <td>NaN</td>\n",
       "      <td>NaN</td>\n",
       "    </tr>\n",
       "    <tr>\n",
       "      <th>2004</th>\n",
       "      <td>310608.0</td>\n",
       "      <td>1108250.0</td>\n",
       "      <td>776189.0</td>\n",
       "      <td>1562400.0</td>\n",
       "      <td>272482.0</td>\n",
       "      <td>352053.0</td>\n",
       "      <td>206286.0</td>\n",
       "      <td>NaN</td>\n",
       "      <td>NaN</td>\n",
       "      <td>NaN</td>\n",
       "    </tr>\n",
       "    <tr>\n",
       "      <th>2005</th>\n",
       "      <td>443160.0</td>\n",
       "      <td>693190.0</td>\n",
       "      <td>991983.0</td>\n",
       "      <td>769488.0</td>\n",
       "      <td>504851.0</td>\n",
       "      <td>470639.0</td>\n",
       "      <td>NaN</td>\n",
       "      <td>NaN</td>\n",
       "      <td>NaN</td>\n",
       "      <td>NaN</td>\n",
       "    </tr>\n",
       "    <tr>\n",
       "      <th>2006</th>\n",
       "      <td>396132.0</td>\n",
       "      <td>937085.0</td>\n",
       "      <td>847498.0</td>\n",
       "      <td>805037.0</td>\n",
       "      <td>705960.0</td>\n",
       "      <td>NaN</td>\n",
       "      <td>NaN</td>\n",
       "      <td>NaN</td>\n",
       "      <td>NaN</td>\n",
       "      <td>NaN</td>\n",
       "    </tr>\n",
       "    <tr>\n",
       "      <th>2007</th>\n",
       "      <td>440832.0</td>\n",
       "      <td>847631.0</td>\n",
       "      <td>1131398.0</td>\n",
       "      <td>1063269.0</td>\n",
       "      <td>NaN</td>\n",
       "      <td>NaN</td>\n",
       "      <td>NaN</td>\n",
       "      <td>NaN</td>\n",
       "      <td>NaN</td>\n",
       "      <td>NaN</td>\n",
       "    </tr>\n",
       "    <tr>\n",
       "      <th>2008</th>\n",
       "      <td>359480.0</td>\n",
       "      <td>1061648.0</td>\n",
       "      <td>1443370.0</td>\n",
       "      <td>NaN</td>\n",
       "      <td>NaN</td>\n",
       "      <td>NaN</td>\n",
       "      <td>NaN</td>\n",
       "      <td>NaN</td>\n",
       "      <td>NaN</td>\n",
       "      <td>NaN</td>\n",
       "    </tr>\n",
       "    <tr>\n",
       "      <th>2009</th>\n",
       "      <td>376686.0</td>\n",
       "      <td>986608.0</td>\n",
       "      <td>NaN</td>\n",
       "      <td>NaN</td>\n",
       "      <td>NaN</td>\n",
       "      <td>NaN</td>\n",
       "      <td>NaN</td>\n",
       "      <td>NaN</td>\n",
       "      <td>NaN</td>\n",
       "      <td>NaN</td>\n",
       "    </tr>\n",
       "    <tr>\n",
       "      <th>2010</th>\n",
       "      <td>344014.0</td>\n",
       "      <td>NaN</td>\n",
       "      <td>NaN</td>\n",
       "      <td>NaN</td>\n",
       "      <td>NaN</td>\n",
       "      <td>NaN</td>\n",
       "      <td>NaN</td>\n",
       "      <td>NaN</td>\n",
       "      <td>NaN</td>\n",
       "      <td>NaN</td>\n",
       "    </tr>\n",
       "  </tbody>\n",
       "</table>\n",
       "</div>"
      ],
      "text/plain": [
       "development_period         1          2          3          4         5  \\\n",
       "accident_period                                                           \n",
       "2001                357848.0   766940.0   610542.0   482940.0  527326.0   \n",
       "2002                352118.0   884021.0   933894.0  1183289.0  445745.0   \n",
       "2003                290507.0  1001799.0   926219.0  1016654.0  750816.0   \n",
       "2004                310608.0  1108250.0   776189.0  1562400.0  272482.0   \n",
       "2005                443160.0   693190.0   991983.0   769488.0  504851.0   \n",
       "2006                396132.0   937085.0   847498.0   805037.0  705960.0   \n",
       "2007                440832.0   847631.0  1131398.0  1063269.0       NaN   \n",
       "2008                359480.0  1061648.0  1443370.0        NaN       NaN   \n",
       "2009                376686.0   986608.0        NaN        NaN       NaN   \n",
       "2010                344014.0        NaN        NaN        NaN       NaN   \n",
       "\n",
       "development_period         6         7         8         9       10  \n",
       "accident_period                                                      \n",
       "2001                574398.0  146342.0  139950.0  227229.0  67948.0  \n",
       "2002                320996.0  527804.0  266172.0  425046.0      NaN  \n",
       "2003                146923.0  495992.0  280405.0       NaN      NaN  \n",
       "2004                352053.0  206286.0       NaN       NaN      NaN  \n",
       "2005                470639.0       NaN       NaN       NaN      NaN  \n",
       "2006                     NaN       NaN       NaN       NaN      NaN  \n",
       "2007                     NaN       NaN       NaN       NaN      NaN  \n",
       "2008                     NaN       NaN       NaN       NaN      NaN  \n",
       "2009                     NaN       NaN       NaN       NaN      NaN  \n",
       "2010                     NaN       NaN       NaN       NaN      NaN  "
      ]
     },
     "execution_count": 18,
     "metadata": {},
     "output_type": "execute_result"
    }
   ],
   "source": [
    "r.paid_loss.incr_triangle.astype(float).round(0)"
   ]
  },
  {
   "cell_type": "code",
   "execution_count": null,
   "metadata": {},
   "outputs": [
    {
     "data": {
      "text/plain": [
       "array([ 0,  1,  2,  3,  4,  5,  6,  7,  8,  9, 10, 11, 12, 13, 14, 15, 16,\n",
       "       17, 18, 20, 21, 22, 23, 24, 25, 26, 27, 30, 31, 32, 33, 34, 35, 36,\n",
       "       40, 41, 42, 43, 44, 45, 50, 51, 52, 53, 54, 60, 61, 62, 63, 70, 71,\n",
       "       72, 80, 81, 90])"
      ]
     },
     "execution_count": 19,
     "metadata": {},
     "output_type": "execute_result"
    }
   ],
   "source": [
    "r.icrfs.train_index"
   ]
  },
  {
   "cell_type": "code",
   "execution_count": null,
   "metadata": {},
   "outputs": [
    {
     "name": "stderr",
     "output_type": "stream",
     "text": [
      "/home/aweaver/git/rocky/rocky-app/./src/rocky/LogLinear.py:329: RuntimeWarning: overflow encountered in exp\n",
      "  yhat = np.exp(self.model.predict(X))\n"
     ]
    },
    {
     "ename": "AttributeError",
     "evalue": "'LogLinear' object has no attribute 'VarY'",
     "output_type": "error",
     "traceback": [
      "\u001b[0;31m---------------------------------------------------------------------------\u001b[0m",
      "\u001b[0;31mAttributeError\u001b[0m                            Traceback (most recent call last)",
      "Cell \u001b[0;32mIn[20], line 1\u001b[0m\n\u001b[0;32m----> 1\u001b[0m r\u001b[39m.\u001b[39;49micrfs\u001b[39m.\u001b[39;49mPearsonResiduals()\n",
      "File \u001b[0;32m~/git/rocky/rocky-app/./src/rocky/_util/BaseEstimator.py:996\u001b[0m, in \u001b[0;36mBaseEstimator.PearsonResiduals\u001b[0;34m(self, kind)\u001b[0m\n\u001b[1;32m    995\u001b[0m \u001b[39mdef\u001b[39;00m \u001b[39mPearsonResiduals\u001b[39m(\u001b[39mself\u001b[39m, kind\u001b[39m=\u001b[39m\u001b[39m\"\u001b[39m\u001b[39mtrain\u001b[39m\u001b[39m\"\u001b[39m):\n\u001b[0;32m--> 996\u001b[0m     res \u001b[39m=\u001b[39m np\u001b[39m.\u001b[39mdivide(\u001b[39mself\u001b[39m\u001b[39m.\u001b[39mRawResiduals(kind\u001b[39m=\u001b[39mkind), np\u001b[39m.\u001b[39msqrt(\u001b[39mself\u001b[39;49m\u001b[39m.\u001b[39;49mVarY(kind\u001b[39m=\u001b[39mkind)))\n\u001b[1;32m    997\u001b[0m     \u001b[39mreturn\u001b[39;00m res\n",
      "\u001b[0;31mAttributeError\u001b[0m: 'LogLinear' object has no attribute 'VarY'"
     ]
    }
   ],
   "source": [
    "r.icrfs.PearsonResiduals()"
   ]
  },
  {
   "cell_type": "code",
   "execution_count": null,
   "metadata": {},
   "outputs": [
    {
     "ename": "",
     "evalue": "",
     "output_type": "error",
     "traceback": [
      "\u001b[1;31mRunning cells with '.env' requires the ipykernel package.\n",
      "\u001b[1;31mRun the following command to install 'ipykernel' into the Python environment. \n",
      "\u001b[1;31mCommand: '/home/aweaver/git/rocky/.env/bin/python -m pip install ipykernel -U --force-reinstall'"
     ]
    }
   ],
   "source": [
    "# chain ladder ult vs GLM\n",
    "df = pd.concat([pd.DataFrame(r.paid_loss.ult()), pd.DataFrame(r.icrfs.Ultimate())], axis=1)\n",
    "df = df.assign(Diff=df['Log-linear Ultimate'] - df['Chain Ladder Ultimate Loss']).astype(int)\n",
    "df['Diagonal'] = r.paid_loss.diag().astype(int)\n",
    "df['Unpaid'] = df['Log-linear Ultimate'] - df.Diagonal\n",
    "df"
   ]
  },
  {
   "cell_type": "code",
   "execution_count": null,
   "metadata": {},
   "outputs": [
    {
     "ename": "",
     "evalue": "",
     "output_type": "error",
     "traceback": [
      "\u001b[1;31mRunning cells with '.env' requires the ipykernel package.\n",
      "\u001b[1;31mRun the following command to install 'ipykernel' into the Python environment. \n",
      "\u001b[1;31mCommand: '/home/aweaver/git/rocky/.env/bin/python -m pip install ipykernel -U --force-reinstall'"
     ]
    }
   ],
   "source": [
    "r.icrfs.plot.obs_pred(log=True, color='dev')"
   ]
  },
  {
   "cell_type": "code",
   "execution_count": null,
   "metadata": {},
   "outputs": [
    {
     "ename": "",
     "evalue": "",
     "output_type": "error",
     "traceback": [
      "\u001b[1;31mRunning cells with '.env' requires the ipykernel package.\n",
      "\u001b[1;31mRun the following command to install 'ipykernel' into the Python environment. \n",
      "\u001b[1;31mCommand: '/home/aweaver/git/rocky/.env/bin/python -m pip install ipykernel -U --force-reinstall'"
     ]
    }
   ],
   "source": [
    "r.tweedie.plot.residual('acc', log=True)"
   ]
  },
  {
   "cell_type": "code",
   "execution_count": null,
   "metadata": {},
   "outputs": [
    {
     "ename": "",
     "evalue": "",
     "output_type": "error",
     "traceback": [
      "\u001b[1;31mRunning cells with '.env' requires the ipykernel package.\n",
      "\u001b[1;31mRun the following command to install 'ipykernel' into the Python environment. \n",
      "\u001b[1;31mCommand: '/home/aweaver/git/rocky/.env/bin/python -m pip install ipykernel -U --force-reinstall'"
     ]
    }
   ],
   "source": [
    "r.tweedie.plot.residual('dev', log=False)"
   ]
  },
  {
   "cell_type": "code",
   "execution_count": null,
   "metadata": {},
   "outputs": [
    {
     "ename": "",
     "evalue": "",
     "output_type": "error",
     "traceback": [
      "\u001b[1;31mRunning cells with '.env' requires the ipykernel package.\n",
      "\u001b[1;31mRun the following command to install 'ipykernel' into the Python environment. \n",
      "\u001b[1;31mCommand: '/home/aweaver/git/rocky/.env/bin/python -m pip install ipykernel -U --force-reinstall'"
     ]
    }
   ],
   "source": [
    "r.paid_loss.tri"
   ]
  },
  {
   "cell_type": "code",
   "execution_count": null,
   "metadata": {},
   "outputs": [
    {
     "ename": "",
     "evalue": "",
     "output_type": "error",
     "traceback": [
      "\u001b[1;31mRunning cells with '.env' requires the ipykernel package.\n",
      "\u001b[1;31mRun the following command to install 'ipykernel' into the Python environment. \n",
      "\u001b[1;31mCommand: '/home/aweaver/git/rocky/.env/bin/python -m pip install ipykernel -U --force-reinstall'"
     ]
    }
   ],
   "source": [
    "## accident period parameters should roughly follow the first column:\n",
    "r.paid_loss.tri.iloc[:, 0].plot()"
   ]
  },
  {
   "cell_type": "code",
   "execution_count": null,
   "metadata": {},
   "outputs": [
    {
     "ename": "",
     "evalue": "",
     "output_type": "error",
     "traceback": [
      "\u001b[1;31mRunning cells with '.env' requires the ipykernel package.\n",
      "\u001b[1;31mRun the following command to install 'ipykernel' into the Python environment. \n",
      "\u001b[1;31mCommand: '/home/aweaver/git/rocky/.env/bin/python -m pip install ipykernel -U --force-reinstall'"
     ]
    }
   ],
   "source": [
    "# but the actual fitted parameters include regularization terms that smooth out some of these bumps\n",
    "r.tweedie.PlotParameter('acc')"
   ]
  },
  {
   "cell_type": "code",
   "execution_count": null,
   "metadata": {},
   "outputs": [
    {
     "ename": "",
     "evalue": "",
     "output_type": "error",
     "traceback": [
      "\u001b[1;31mRunning cells with '.env' requires the ipykernel package.\n",
      "\u001b[1;31mRun the following command to install 'ipykernel' into the Python environment. \n",
      "\u001b[1;31mCommand: '/home/aweaver/git/rocky/.env/bin/python -m pip install ipykernel -U --force-reinstall'"
     ]
    }
   ],
   "source": [
    "# does not include dev_period_0012 - first development period is assumed to be included in the first accident period parameter\n",
    "r.tweedie.PlotParameter('dev')"
   ]
  },
  {
   "cell_type": "code",
   "execution_count": null,
   "metadata": {},
   "outputs": [
    {
     "ename": "",
     "evalue": "",
     "output_type": "error",
     "traceback": [
      "\u001b[1;31mRunning cells with '.env' requires the ipykernel package.\n",
      "\u001b[1;31mRun the following command to install 'ipykernel' into the Python environment. \n",
      "\u001b[1;31mCommand: '/home/aweaver/git/rocky/.env/bin/python -m pip install ipykernel -U --force-reinstall'"
     ]
    }
   ],
   "source": [
    "r.tweedie.Ultimate()"
   ]
  },
  {
   "cell_type": "code",
   "execution_count": null,
   "metadata": {},
   "outputs": [
    {
     "ename": "",
     "evalue": "",
     "output_type": "error",
     "traceback": [
      "\u001b[1;31mRunning cells with '.env' requires the ipykernel package.\n",
      "\u001b[1;31mRun the following command to install 'ipykernel' into the Python environment. \n",
      "\u001b[1;31mCommand: '/home/aweaver/git/rocky/.env/bin/python -m pip install ipykernel -U --force-reinstall'"
     ]
    }
   ],
   "source": [
    "# final 2 accident years don't change much from 2020 - can set parameters for these years to be 0 (for no change)\n",
    "r.tweedie.ManualFit(\n",
    "  accident_period_2021=0, accident_period_2022=0,\n",
    "  accident_period_2005=0,\n",
    "  accident_period_2013=0,\n",
    "  accident_period_2016=0,\n",
    "  accident_period_2018=0\n",
    "  )"
   ]
  },
  {
   "cell_type": "code",
   "execution_count": null,
   "metadata": {},
   "outputs": [
    {
     "ename": "",
     "evalue": "",
     "output_type": "error",
     "traceback": [
      "\u001b[1;31mRunning cells with '.env' requires the ipykernel package.\n",
      "\u001b[1;31mRun the following command to install 'ipykernel' into the Python environment. \n",
      "\u001b[1;31mCommand: '/home/aweaver/git/rocky/.env/bin/python -m pip install ipykernel -U --force-reinstall'"
     ]
    }
   ],
   "source": [
    "r.tweedie.PlotParameter('acc')"
   ]
  },
  {
   "cell_type": "code",
   "execution_count": null,
   "metadata": {},
   "outputs": [
    {
     "ename": "",
     "evalue": "",
     "output_type": "error",
     "traceback": [
      "\u001b[1;31mRunning cells with '.env' requires the ipykernel package.\n",
      "\u001b[1;31mRun the following command to install 'ipykernel' into the Python environment. \n",
      "\u001b[1;31mCommand: '/home/aweaver/git/rocky/.env/bin/python -m pip install ipykernel -U --force-reinstall'"
     ]
    }
   ],
   "source": [
    "r.tweedie.Ultimate()"
   ]
  },
  {
   "cell_type": "code",
   "execution_count": null,
   "metadata": {},
   "outputs": [
    {
     "ename": "",
     "evalue": "",
     "output_type": "error",
     "traceback": [
      "\u001b[1;31mRunning cells with '.env' requires the ipykernel package.\n",
      "\u001b[1;31mRun the following command to install 'ipykernel' into the Python environment. \n",
      "\u001b[1;31mCommand: '/home/aweaver/git/rocky/.env/bin/python -m pip install ipykernel -U --force-reinstall'"
     ]
    }
   ],
   "source": [
    "## TODO\n",
    "# - add a method to do a future calendar year projection\n",
    "# - add a method to combine parameters into a single parameter for each year"
   ]
  },
  {
   "cell_type": "code",
   "execution_count": null,
   "metadata": {},
   "outputs": [
    {
     "ename": "",
     "evalue": "",
     "output_type": "error",
     "traceback": [
      "\u001b[1;31mRunning cells with '.env' requires the ipykernel package.\n",
      "\u001b[1;31mRun the following command to install 'ipykernel' into the Python environment. \n",
      "\u001b[1;31mCommand: '/home/aweaver/git/rocky/.env/bin/python -m pip install ipykernel -U --force-reinstall'"
     ]
    }
   ],
   "source": [
    "# add a second glm model that includes calendar year effects\n",
    "r.AddModel('tweediecal', 'glm', 'paid_loss', cal=True)\n",
    "print(r)"
   ]
  },
  {
   "cell_type": "code",
   "execution_count": null,
   "metadata": {},
   "outputs": [
    {
     "ename": "",
     "evalue": "",
     "output_type": "error",
     "traceback": [
      "\u001b[1;31mRunning cells with '.env' requires the ipykernel package.\n",
      "\u001b[1;31mRun the following command to install 'ipykernel' into the Python environment. \n",
      "\u001b[1;31mCommand: '/home/aweaver/git/rocky/.env/bin/python -m pip install ipykernel -U --force-reinstall'"
     ]
    }
   ],
   "source": [
    "# can look at design matrix for this model -- it has 39 more columns for the 39 calendar periods in a 20x20 triangle\n",
    "r.tweediecal.GetX()"
   ]
  },
  {
   "cell_type": "code",
   "execution_count": null,
   "metadata": {},
   "outputs": [
    {
     "ename": "",
     "evalue": "",
     "output_type": "error",
     "traceback": [
      "\u001b[1;31mRunning cells with '.env' requires the ipykernel package.\n",
      "\u001b[1;31mRun the following command to install 'ipykernel' into the Python environment. \n",
      "\u001b[1;31mCommand: '/home/aweaver/git/rocky/.env/bin/python -m pip install ipykernel -U --force-reinstall'"
     ]
    }
   ],
   "source": [
    "# using same hyperparameters as before, but could decide to refit\n",
    "r.tweediecal.SetHyperparameters(alpha=0.3, power=1.8)\n",
    "r.tweediecal"
   ]
  },
  {
   "cell_type": "code",
   "execution_count": null,
   "metadata": {},
   "outputs": [
    {
     "ename": "",
     "evalue": "",
     "output_type": "error",
     "traceback": [
      "\u001b[1;31mRunning cells with '.env' requires the ipykernel package.\n",
      "\u001b[1;31mRun the following command to install 'ipykernel' into the Python environment. \n",
      "\u001b[1;31mCommand: '/home/aweaver/git/rocky/.env/bin/python -m pip install ipykernel -U --force-reinstall'"
     ]
    }
   ],
   "source": [
    "r.tweediecal.Fit()"
   ]
  },
  {
   "cell_type": "code",
   "execution_count": null,
   "metadata": {},
   "outputs": [
    {
     "ename": "",
     "evalue": "",
     "output_type": "error",
     "traceback": [
      "\u001b[1;31mRunning cells with '.env' requires the ipykernel package.\n",
      "\u001b[1;31mRun the following command to install 'ipykernel' into the Python environment. \n",
      "\u001b[1;31mCommand: '/home/aweaver/git/rocky/.env/bin/python -m pip install ipykernel -U --force-reinstall'"
     ]
    }
   ],
   "source": [
    "r.tweediecal.Ultimate()"
   ]
  },
  {
   "cell_type": "code",
   "execution_count": null,
   "metadata": {},
   "outputs": [
    {
     "ename": "",
     "evalue": "",
     "output_type": "error",
     "traceback": [
      "\u001b[1;31mRunning cells with '.env' requires the ipykernel package.\n",
      "\u001b[1;31mRun the following command to install 'ipykernel' into the Python environment. \n",
      "\u001b[1;31mCommand: '/home/aweaver/git/rocky/.env/bin/python -m pip install ipykernel -U --force-reinstall'"
     ]
    }
   ],
   "source": [
    "r.tweediecal.PlotParameter('acc')"
   ]
  },
  {
   "cell_type": "code",
   "execution_count": null,
   "metadata": {},
   "outputs": [
    {
     "ename": "",
     "evalue": "",
     "output_type": "error",
     "traceback": [
      "\u001b[1;31mRunning cells with '.env' requires the ipykernel package.\n",
      "\u001b[1;31mRun the following command to install 'ipykernel' into the Python environment. \n",
      "\u001b[1;31mCommand: '/home/aweaver/git/rocky/.env/bin/python -m pip install ipykernel -U --force-reinstall'"
     ]
    }
   ],
   "source": [
    "r.tweediecal.PlotParameter('dev')"
   ]
  },
  {
   "cell_type": "code",
   "execution_count": null,
   "metadata": {},
   "outputs": [
    {
     "ename": "",
     "evalue": "",
     "output_type": "error",
     "traceback": [
      "\u001b[1;31mRunning cells with '.env' requires the ipykernel package.\n",
      "\u001b[1;31mRun the following command to install 'ipykernel' into the Python environment. \n",
      "\u001b[1;31mCommand: '/home/aweaver/git/rocky/.env/bin/python -m pip install ipykernel -U --force-reinstall'"
     ]
    }
   ],
   "source": [
    "r.tweediecal.PlotParameter('cal')"
   ]
  },
  {
   "cell_type": "code",
   "execution_count": null,
   "metadata": {},
   "outputs": [
    {
     "ename": "",
     "evalue": "",
     "output_type": "error",
     "traceback": [
      "\u001b[1;31mRunning cells with '.env' requires the ipykernel package.\n",
      "\u001b[1;31mRun the following command to install 'ipykernel' into the Python environment. \n",
      "\u001b[1;31mCommand: '/home/aweaver/git/rocky/.env/bin/python -m pip install ipykernel -U --force-reinstall'"
     ]
    }
   ],
   "source": [
    "## add a 1% future cal trend (eg assume that trend reverses itself)\n",
    "future_cy_trend = 0.01\n",
    "manfit = {}\n",
    "for i in range(21, 40):\n",
    "  manfit[f\"calendar_period_00{i}\"] = future_cy_trend\n",
    "\n",
    "r.tweediecal.ManualFit(**manfit)"
   ]
  },
  {
   "cell_type": "code",
   "execution_count": null,
   "metadata": {},
   "outputs": [
    {
     "ename": "",
     "evalue": "",
     "output_type": "error",
     "traceback": [
      "\u001b[1;31mRunning cells with '.env' requires the ipykernel package.\n",
      "\u001b[1;31mRun the following command to install 'ipykernel' into the Python environment. \n",
      "\u001b[1;31mCommand: '/home/aweaver/git/rocky/.env/bin/python -m pip install ipykernel -U --force-reinstall'"
     ]
    }
   ],
   "source": [
    "r.tweediecal.PlotParameter('cal')"
   ]
  },
  {
   "cell_type": "code",
   "execution_count": null,
   "metadata": {},
   "outputs": [
    {
     "ename": "",
     "evalue": "",
     "output_type": "error",
     "traceback": [
      "\u001b[1;31mRunning cells with '.env' requires the ipykernel package.\n",
      "\u001b[1;31mRun the following command to install 'ipykernel' into the Python environment. \n",
      "\u001b[1;31mCommand: '/home/aweaver/git/rocky/.env/bin/python -m pip install ipykernel -U --force-reinstall'"
     ]
    }
   ],
   "source": [
    "r.tweediecal.Ultimate()"
   ]
  },
  {
   "cell_type": "code",
   "execution_count": null,
   "metadata": {},
   "outputs": [
    {
     "ename": "",
     "evalue": "",
     "output_type": "error",
     "traceback": [
      "\u001b[1;31mRunning cells with '.env' requires the ipykernel package.\n",
      "\u001b[1;31mRun the following command to install 'ipykernel' into the Python environment. \n",
      "\u001b[1;31mCommand: '/home/aweaver/git/rocky/.env/bin/python -m pip install ipykernel -U --force-reinstall'"
     ]
    }
   ],
   "source": [
    "def parse_param_name(x):\n",
    "  if x.find(\"_\") == -1:\n",
    "    return x\n",
    "  else:\n",
    "    end = x.split(\"_\")[len(x.split(\"_\"))-1]\n",
    "    out = x.replace(f\"_{end}\", \"\")[:3]\n",
    "    return out\n",
    "  \n",
    "\n",
    "df = pd.DataFrame(dict(nm=r.tweediecal.GetParameterNames(), val=r.tweediecal.model.coef_))\n",
    "parse_param_name(df.nm[2])"
   ]
  },
  {
   "cell_type": "code",
   "execution_count": null,
   "metadata": {},
   "outputs": [
    {
     "ename": "",
     "evalue": "",
     "output_type": "error",
     "traceback": [
      "\u001b[1;31mRunning cells with '.env' requires the ipykernel package.\n",
      "\u001b[1;31mRun the following command to install 'ipykernel' into the Python environment. \n",
      "\u001b[1;31mCommand: '/home/aweaver/git/rocky/.env/bin/python -m pip install ipykernel -U --force-reinstall'"
     ]
    }
   ],
   "source": [
    "df = pd.DataFrame({\n",
    "  'chain ladder': r.paid_loss.ult(tail=1.05),\n",
    "  'tweedie': r.tweedie.Ultimate(tail=1.05),\n",
    "  'tweediecal': r.tweediecal.Ultimate(tail=1.05)\n",
    "}).round(-3)/1000\n",
    "\n",
    "df"
   ]
  },
  {
   "cell_type": "code",
   "execution_count": null,
   "metadata": {},
   "outputs": [
    {
     "ename": "",
     "evalue": "",
     "output_type": "error",
     "traceback": [
      "\u001b[1;31mRunning cells with '.env' requires the ipykernel package.\n",
      "\u001b[1;31mRun the following command to install 'ipykernel' into the Python environment. \n",
      "\u001b[1;31mCommand: '/home/aweaver/git/rocky/.env/bin/python -m pip install ipykernel -U --force-reinstall'"
     ]
    }
   ],
   "source": [
    "r.Add"
   ]
  }
 ],
 "metadata": {
  "kernelspec": {
   "display_name": "dat",
   "language": "python",
   "name": "python3"
  },
  "language_info": {
   "codemirror_mode": {
    "name": "ipython",
    "version": 3
   },
   "file_extension": ".py",
   "mimetype": "text/x-python",
   "name": "python",
   "nbconvert_exporter": "python",
   "pygments_lexer": "ipython3",
   "version": "3.11.3"
  },
  "orig_nbformat": 4,
  "vscode": {
   "interpreter": {
    "hash": "ba478163c995622e2b1453e06e2da8ac1639a4b44994d6e4f00b5cb5d33915e6"
   }
  }
 },
 "nbformat": 4,
 "nbformat_minor": 2
}
