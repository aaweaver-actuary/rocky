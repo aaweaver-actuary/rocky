{
 "cells": [
  {
   "attachments": {},
   "cell_type": "markdown",
   "metadata": {},
   "source": [
    "## `rocky`"
   ]
  },
  {
   "cell_type": "code",
   "execution_count": 3,
   "metadata": {},
   "outputs": [],
   "source": [
    "import sys\n",
    "# mydir = r'C:\\Users\\aweaver\\rocky\\rocky-app\\src\\py'\n",
    "mydir = './src'\n",
    "sys.path.append(mydir)\n",
    "from rocky.core import rocky\n",
    "from rocky.triangle import Triangle\n",
    "\n",
    "import pandas as pd\n",
    "import numpy as np"
   ]
  },
  {
   "cell_type": "code",
   "execution_count": 4,
   "metadata": {},
   "outputs": [
    {
     "name": "stdout",
     "output_type": "stream",
     "text": [
      "rocky(id='rocky0', mod=(), f=(), plot=(), t=())\n"
     ]
    }
   ],
   "source": [
    "# creat a new rocky object\n",
    "r = rocky()\n",
    "\n",
    "# inspect object\n",
    "print(r)"
   ]
  },
  {
   "cell_type": "code",
   "execution_count": 5,
   "metadata": {},
   "outputs": [
    {
     "ename": "AttributeError",
     "evalue": "'Triangle' object has no attribute 'base_linear_model'",
     "output_type": "error",
     "traceback": [
      "\u001b[0;31m---------------------------------------------------------------------------\u001b[0m",
      "\u001b[0;31mAttributeError\u001b[0m                            Traceback (most recent call last)",
      "Cell \u001b[0;32mIn[5], line 2\u001b[0m\n\u001b[1;32m      1\u001b[0m \u001b[39m## Could read in sample data (taylor_ashe, mack_1994) to try it out\u001b[39;00m\n\u001b[0;32m----> 2\u001b[0m r\u001b[39m.\u001b[39;49mSampleTri(\u001b[39m'\u001b[39;49m\u001b[39mtaylor_ashe\u001b[39;49m\u001b[39m'\u001b[39;49m)\n\u001b[1;32m      3\u001b[0m \u001b[39m# r.paid_loss.reset_base_linear_model(var_name='accident_period', trends=False)\u001b[39;00m\n\u001b[1;32m      4\u001b[0m \n\u001b[1;32m      5\u001b[0m \u001b[39m## Could copy a triangle from a file to the clipboard and then read it in\u001b[39;00m\n\u001b[0;32m   (...)\u001b[0m\n\u001b[1;32m     13\u001b[0m \u001b[39m# read in triangle from file\u001b[39;00m\n\u001b[1;32m     14\u001b[0m \u001b[39m# r.FromExcel(path, 1, 'paid_loss', 'Gross Paid Ultimates', \"a28:u48\") # takes filepath, number of origin columns, name of triangle, sheet name, and range of triangle\u001b[39;00m\n\u001b[1;32m     15\u001b[0m \u001b[39mprint\u001b[39m(r)\n",
      "File \u001b[0;32m~/git/rocky/rocky-app/./src/rocky/core.py:143\u001b[0m, in \u001b[0;36mrocky.SampleTri\u001b[0;34m(self, sample, id)\u001b[0m\n\u001b[1;32m    141\u001b[0m     \u001b[39mif\u001b[39;00m \u001b[39mid\u001b[39m \u001b[39mis\u001b[39;00m \u001b[39mNone\u001b[39;00m:\n\u001b[1;32m    142\u001b[0m         \u001b[39mid\u001b[39m \u001b[39m=\u001b[39m \u001b[39m\"\u001b[39m\u001b[39mpaid_loss\u001b[39m\u001b[39m\"\u001b[39m\n\u001b[0;32m--> 143\u001b[0m     \u001b[39mself\u001b[39;49m\u001b[39m.\u001b[39;49mload_taylor_ashe(\u001b[39mid\u001b[39;49m\u001b[39m=\u001b[39;49m\u001b[39mid\u001b[39;49m)\n\u001b[1;32m    144\u001b[0m     \u001b[39mgetattr\u001b[39m(\u001b[39mself\u001b[39m, \u001b[39mf\u001b[39m\u001b[39m\"\u001b[39m\u001b[39m{\u001b[39;00m\u001b[39mid\u001b[39m\u001b[39m}\u001b[39;00m\u001b[39m\"\u001b[39m)\u001b[39m.\u001b[39mbase_linear_model()\n\u001b[1;32m    145\u001b[0m \u001b[39melif\u001b[39;00m sample\u001b[39m.\u001b[39mlower() \u001b[39m==\u001b[39m \u001b[39m\"\u001b[39m\u001b[39mmack_1994\u001b[39m\u001b[39m\"\u001b[39m:\n",
      "File \u001b[0;32m~/git/rocky/rocky-app/./src/rocky/core.py:104\u001b[0m, in \u001b[0;36mrocky.load_taylor_ashe\u001b[0;34m(self, id)\u001b[0m\n\u001b[1;32m     97\u001b[0m \u001b[39m\u001b[39m\u001b[39m\"\"\"\u001b[39;00m\n\u001b[1;32m     98\u001b[0m \u001b[39mLoad the Taylor-Ashe triangle data set. This is the set of triangles\u001b[39;00m\n\u001b[1;32m     99\u001b[0m \u001b[39mused in the Mack paper from 1994.\u001b[39;00m\n\u001b[1;32m    100\u001b[0m \n\u001b[1;32m    101\u001b[0m \u001b[39mA paid loss triangle is created and added to the rocky object.\u001b[39;00m\n\u001b[1;32m    102\u001b[0m \u001b[39m\"\"\"\u001b[39;00m\n\u001b[1;32m    103\u001b[0m tri \u001b[39m=\u001b[39m Triangle\u001b[39m.\u001b[39mfrom_taylor_ashe()\n\u001b[0;32m--> 104\u001b[0m tri\u001b[39m.\u001b[39;49mbase_linear_model()\n\u001b[1;32m    106\u001b[0m \u001b[39mif\u001b[39;00m \u001b[39mid\u001b[39m \u001b[39mis\u001b[39;00m \u001b[39mNone\u001b[39;00m:\n\u001b[1;32m    107\u001b[0m     \u001b[39mid\u001b[39m \u001b[39m=\u001b[39m \u001b[39m\"\u001b[39m\u001b[39mpaid_loss\u001b[39m\u001b[39m\"\u001b[39m\n",
      "\u001b[0;31mAttributeError\u001b[0m: 'Triangle' object has no attribute 'base_linear_model'"
     ]
    }
   ],
   "source": [
    "## Could read in sample data (taylor_ashe, mack_1994) to try it out\n",
    "r.SampleTri('taylor_ashe')\n",
    "# r.paid_loss.reset_base_linear_model(var_name='accident_period', trends=False)\n",
    "\n",
    "## Could copy a triangle from a file to the clipboard and then read it in\n",
    "# r.FromClipboard('paid_loss')\n",
    "\n",
    "## for this demo, we'll just read in a triangle from a link ratio file\n",
    "\n",
    "# triangle file path for WC 4Q2022\n",
    "# path = r'O:\\STAFFHQ\\SYMDATA\\Actuarial\\Reserving Applications\\IBNR Allocation\\4Q2022 Analysis\\Workers Compensation 4Q2022.xlsb'\n",
    "\n",
    "# read in triangle from file\n",
    "# r.FromExcel(path, 1, 'paid_loss', 'Gross Paid Ultimates', \"a28:u48\") # takes filepath, number of origin columns, name of triangle, sheet name, and range of triangle\n",
    "print(r)"
   ]
  },
  {
   "cell_type": "code",
   "execution_count": 4,
   "metadata": {},
   "outputs": [
    {
     "data": {
      "text/html": [
       "<div>\n",
       "<style scoped>\n",
       "    .dataframe tbody tr th:only-of-type {\n",
       "        vertical-align: middle;\n",
       "    }\n",
       "\n",
       "    .dataframe tbody tr th {\n",
       "        vertical-align: top;\n",
       "    }\n",
       "\n",
       "    .dataframe thead th {\n",
       "        text-align: right;\n",
       "    }\n",
       "</style>\n",
       "<table border=\"1\" class=\"dataframe\">\n",
       "  <thead>\n",
       "    <tr style=\"text-align: right;\">\n",
       "      <th>development_period</th>\n",
       "      <th>1</th>\n",
       "      <th>2</th>\n",
       "      <th>3</th>\n",
       "      <th>4</th>\n",
       "      <th>5</th>\n",
       "      <th>6</th>\n",
       "      <th>7</th>\n",
       "      <th>8</th>\n",
       "      <th>9</th>\n",
       "      <th>10</th>\n",
       "    </tr>\n",
       "    <tr>\n",
       "      <th>accident_period</th>\n",
       "      <th></th>\n",
       "      <th></th>\n",
       "      <th></th>\n",
       "      <th></th>\n",
       "      <th></th>\n",
       "      <th></th>\n",
       "      <th></th>\n",
       "      <th></th>\n",
       "      <th></th>\n",
       "      <th></th>\n",
       "    </tr>\n",
       "  </thead>\n",
       "  <tbody>\n",
       "    <tr>\n",
       "      <th>2001-01-01</th>\n",
       "      <td>357848.0</td>\n",
       "      <td>1124788.0</td>\n",
       "      <td>1735330.0</td>\n",
       "      <td>2218270.0</td>\n",
       "      <td>2745596.0</td>\n",
       "      <td>3319994.0</td>\n",
       "      <td>3466336.0</td>\n",
       "      <td>3606286.0</td>\n",
       "      <td>3833515.0</td>\n",
       "      <td>3901463.0</td>\n",
       "    </tr>\n",
       "    <tr>\n",
       "      <th>2002-01-01</th>\n",
       "      <td>352118.0</td>\n",
       "      <td>1236139.0</td>\n",
       "      <td>2170033.0</td>\n",
       "      <td>3353322.0</td>\n",
       "      <td>3799067.0</td>\n",
       "      <td>4120063.0</td>\n",
       "      <td>4647867.0</td>\n",
       "      <td>4914039.0</td>\n",
       "      <td>5339085.0</td>\n",
       "      <td>NaN</td>\n",
       "    </tr>\n",
       "    <tr>\n",
       "      <th>2003-01-01</th>\n",
       "      <td>290507.0</td>\n",
       "      <td>1292306.0</td>\n",
       "      <td>2218525.0</td>\n",
       "      <td>3235179.0</td>\n",
       "      <td>3985995.0</td>\n",
       "      <td>4132918.0</td>\n",
       "      <td>4628910.0</td>\n",
       "      <td>4909315.0</td>\n",
       "      <td>NaN</td>\n",
       "      <td>NaN</td>\n",
       "    </tr>\n",
       "    <tr>\n",
       "      <th>2004-01-01</th>\n",
       "      <td>310608.0</td>\n",
       "      <td>1418858.0</td>\n",
       "      <td>2195047.0</td>\n",
       "      <td>3757447.0</td>\n",
       "      <td>4029929.0</td>\n",
       "      <td>4381982.0</td>\n",
       "      <td>4588268.0</td>\n",
       "      <td>NaN</td>\n",
       "      <td>NaN</td>\n",
       "      <td>NaN</td>\n",
       "    </tr>\n",
       "    <tr>\n",
       "      <th>2005-01-01</th>\n",
       "      <td>443160.0</td>\n",
       "      <td>1136350.0</td>\n",
       "      <td>2128333.0</td>\n",
       "      <td>2897821.0</td>\n",
       "      <td>3402672.0</td>\n",
       "      <td>3873311.0</td>\n",
       "      <td>NaN</td>\n",
       "      <td>NaN</td>\n",
       "      <td>NaN</td>\n",
       "      <td>NaN</td>\n",
       "    </tr>\n",
       "    <tr>\n",
       "      <th>2006-01-01</th>\n",
       "      <td>396132.0</td>\n",
       "      <td>1333217.0</td>\n",
       "      <td>2180715.0</td>\n",
       "      <td>2985752.0</td>\n",
       "      <td>3691712.0</td>\n",
       "      <td>NaN</td>\n",
       "      <td>NaN</td>\n",
       "      <td>NaN</td>\n",
       "      <td>NaN</td>\n",
       "      <td>NaN</td>\n",
       "    </tr>\n",
       "    <tr>\n",
       "      <th>2007-01-01</th>\n",
       "      <td>440832.0</td>\n",
       "      <td>1288463.0</td>\n",
       "      <td>2419861.0</td>\n",
       "      <td>3483130.0</td>\n",
       "      <td>NaN</td>\n",
       "      <td>NaN</td>\n",
       "      <td>NaN</td>\n",
       "      <td>NaN</td>\n",
       "      <td>NaN</td>\n",
       "      <td>NaN</td>\n",
       "    </tr>\n",
       "    <tr>\n",
       "      <th>2008-01-01</th>\n",
       "      <td>359480.0</td>\n",
       "      <td>1421128.0</td>\n",
       "      <td>2864498.0</td>\n",
       "      <td>NaN</td>\n",
       "      <td>NaN</td>\n",
       "      <td>NaN</td>\n",
       "      <td>NaN</td>\n",
       "      <td>NaN</td>\n",
       "      <td>NaN</td>\n",
       "      <td>NaN</td>\n",
       "    </tr>\n",
       "    <tr>\n",
       "      <th>2009-01-01</th>\n",
       "      <td>376686.0</td>\n",
       "      <td>1363294.0</td>\n",
       "      <td>NaN</td>\n",
       "      <td>NaN</td>\n",
       "      <td>NaN</td>\n",
       "      <td>NaN</td>\n",
       "      <td>NaN</td>\n",
       "      <td>NaN</td>\n",
       "      <td>NaN</td>\n",
       "      <td>NaN</td>\n",
       "    </tr>\n",
       "    <tr>\n",
       "      <th>2010-01-01</th>\n",
       "      <td>344014.0</td>\n",
       "      <td>NaN</td>\n",
       "      <td>NaN</td>\n",
       "      <td>NaN</td>\n",
       "      <td>NaN</td>\n",
       "      <td>NaN</td>\n",
       "      <td>NaN</td>\n",
       "      <td>NaN</td>\n",
       "      <td>NaN</td>\n",
       "      <td>NaN</td>\n",
       "    </tr>\n",
       "  </tbody>\n",
       "</table>\n",
       "</div>"
      ],
      "text/plain": [
       "development_period         1          2          3          4          5  \\\n",
       "accident_period                                                            \n",
       "2001-01-01          357848.0  1124788.0  1735330.0  2218270.0  2745596.0   \n",
       "2002-01-01          352118.0  1236139.0  2170033.0  3353322.0  3799067.0   \n",
       "2003-01-01          290507.0  1292306.0  2218525.0  3235179.0  3985995.0   \n",
       "2004-01-01          310608.0  1418858.0  2195047.0  3757447.0  4029929.0   \n",
       "2005-01-01          443160.0  1136350.0  2128333.0  2897821.0  3402672.0   \n",
       "2006-01-01          396132.0  1333217.0  2180715.0  2985752.0  3691712.0   \n",
       "2007-01-01          440832.0  1288463.0  2419861.0  3483130.0        NaN   \n",
       "2008-01-01          359480.0  1421128.0  2864498.0        NaN        NaN   \n",
       "2009-01-01          376686.0  1363294.0        NaN        NaN        NaN   \n",
       "2010-01-01          344014.0        NaN        NaN        NaN        NaN   \n",
       "\n",
       "development_period          6          7          8          9         10  \n",
       "accident_period                                                            \n",
       "2001-01-01          3319994.0  3466336.0  3606286.0  3833515.0  3901463.0  \n",
       "2002-01-01          4120063.0  4647867.0  4914039.0  5339085.0        NaN  \n",
       "2003-01-01          4132918.0  4628910.0  4909315.0        NaN        NaN  \n",
       "2004-01-01          4381982.0  4588268.0        NaN        NaN        NaN  \n",
       "2005-01-01          3873311.0        NaN        NaN        NaN        NaN  \n",
       "2006-01-01                NaN        NaN        NaN        NaN        NaN  \n",
       "2007-01-01                NaN        NaN        NaN        NaN        NaN  \n",
       "2008-01-01                NaN        NaN        NaN        NaN        NaN  \n",
       "2009-01-01                NaN        NaN        NaN        NaN        NaN  \n",
       "2010-01-01                NaN        NaN        NaN        NaN        NaN  "
      ]
     },
     "execution_count": 4,
     "metadata": {},
     "output_type": "execute_result"
    }
   ],
   "source": [
    "# access triangle object\n",
    "r.paid_loss.tri"
   ]
  },
  {
   "cell_type": "code",
   "execution_count": 5,
   "metadata": {},
   "outputs": [
    {
     "data": {
      "text/plain": [
       "0    2001\n",
       "1    2002\n",
       "2    2003\n",
       "3    2004\n",
       "4    2005\n",
       "5    2006\n",
       "6    2007\n",
       "7    2008\n",
       "8    2009\n",
       "9    2010\n",
       "Name: accident_period, dtype: int32"
      ]
     },
     "execution_count": 5,
     "metadata": {},
     "output_type": "execute_result"
    }
   ],
   "source": [
    "r.paid_loss.acc.dt.year"
   ]
  },
  {
   "cell_type": "code",
   "execution_count": 6,
   "metadata": {},
   "outputs": [
    {
     "data": {
      "text/plain": [
       "rocky(id='rocky0', mod=\"glm\", f=(), plot=(), t=\"paid_loss\")"
      ]
     },
     "execution_count": 6,
     "metadata": {},
     "output_type": "execute_result"
    }
   ],
   "source": [
    "r.AddModel('glm', 'glm', 'paid_loss')\n",
    "r"
   ]
  },
  {
   "cell_type": "code",
   "execution_count": 7,
   "metadata": {},
   "outputs": [
    {
     "data": {
      "text/html": [
       "<div>\n",
       "<style scoped>\n",
       "    .dataframe tbody tr th:only-of-type {\n",
       "        vertical-align: middle;\n",
       "    }\n",
       "\n",
       "    .dataframe tbody tr th {\n",
       "        vertical-align: top;\n",
       "    }\n",
       "\n",
       "    .dataframe thead th {\n",
       "        text-align: right;\n",
       "    }\n",
       "</style>\n",
       "<table border=\"1\" class=\"dataframe\">\n",
       "  <thead>\n",
       "    <tr style=\"text-align: right;\">\n",
       "      <th></th>\n",
       "      <th>is_observed</th>\n",
       "      <th>accident_period_2002</th>\n",
       "      <th>accident_period_2003</th>\n",
       "      <th>accident_period_2004</th>\n",
       "      <th>accident_period_2005</th>\n",
       "      <th>accident_period_2006</th>\n",
       "      <th>accident_period_2007</th>\n",
       "      <th>accident_period_2008</th>\n",
       "      <th>accident_period_2009</th>\n",
       "      <th>accident_period_2010</th>\n",
       "      <th>development_period_0002</th>\n",
       "      <th>development_period_0003</th>\n",
       "      <th>development_period_0004</th>\n",
       "      <th>development_period_0005</th>\n",
       "      <th>development_period_0006</th>\n",
       "      <th>development_period_0007</th>\n",
       "      <th>development_period_0008</th>\n",
       "      <th>development_period_0009</th>\n",
       "      <th>development_period_0010</th>\n",
       "    </tr>\n",
       "  </thead>\n",
       "  <tbody>\n",
       "    <tr>\n",
       "      <th>0</th>\n",
       "      <td>1</td>\n",
       "      <td>0</td>\n",
       "      <td>0</td>\n",
       "      <td>0</td>\n",
       "      <td>0</td>\n",
       "      <td>0</td>\n",
       "      <td>0</td>\n",
       "      <td>0</td>\n",
       "      <td>0</td>\n",
       "      <td>0</td>\n",
       "      <td>0</td>\n",
       "      <td>0</td>\n",
       "      <td>0</td>\n",
       "      <td>0</td>\n",
       "      <td>0</td>\n",
       "      <td>0</td>\n",
       "      <td>0</td>\n",
       "      <td>0</td>\n",
       "      <td>0</td>\n",
       "    </tr>\n",
       "    <tr>\n",
       "      <th>1</th>\n",
       "      <td>1</td>\n",
       "      <td>1</td>\n",
       "      <td>0</td>\n",
       "      <td>0</td>\n",
       "      <td>0</td>\n",
       "      <td>0</td>\n",
       "      <td>0</td>\n",
       "      <td>0</td>\n",
       "      <td>0</td>\n",
       "      <td>0</td>\n",
       "      <td>0</td>\n",
       "      <td>0</td>\n",
       "      <td>0</td>\n",
       "      <td>0</td>\n",
       "      <td>0</td>\n",
       "      <td>0</td>\n",
       "      <td>0</td>\n",
       "      <td>0</td>\n",
       "      <td>0</td>\n",
       "    </tr>\n",
       "    <tr>\n",
       "      <th>2</th>\n",
       "      <td>1</td>\n",
       "      <td>1</td>\n",
       "      <td>1</td>\n",
       "      <td>0</td>\n",
       "      <td>0</td>\n",
       "      <td>0</td>\n",
       "      <td>0</td>\n",
       "      <td>0</td>\n",
       "      <td>0</td>\n",
       "      <td>0</td>\n",
       "      <td>0</td>\n",
       "      <td>0</td>\n",
       "      <td>0</td>\n",
       "      <td>0</td>\n",
       "      <td>0</td>\n",
       "      <td>0</td>\n",
       "      <td>0</td>\n",
       "      <td>0</td>\n",
       "      <td>0</td>\n",
       "    </tr>\n",
       "    <tr>\n",
       "      <th>3</th>\n",
       "      <td>1</td>\n",
       "      <td>1</td>\n",
       "      <td>1</td>\n",
       "      <td>1</td>\n",
       "      <td>0</td>\n",
       "      <td>0</td>\n",
       "      <td>0</td>\n",
       "      <td>0</td>\n",
       "      <td>0</td>\n",
       "      <td>0</td>\n",
       "      <td>0</td>\n",
       "      <td>0</td>\n",
       "      <td>0</td>\n",
       "      <td>0</td>\n",
       "      <td>0</td>\n",
       "      <td>0</td>\n",
       "      <td>0</td>\n",
       "      <td>0</td>\n",
       "      <td>0</td>\n",
       "    </tr>\n",
       "    <tr>\n",
       "      <th>4</th>\n",
       "      <td>1</td>\n",
       "      <td>1</td>\n",
       "      <td>1</td>\n",
       "      <td>1</td>\n",
       "      <td>1</td>\n",
       "      <td>0</td>\n",
       "      <td>0</td>\n",
       "      <td>0</td>\n",
       "      <td>0</td>\n",
       "      <td>0</td>\n",
       "      <td>0</td>\n",
       "      <td>0</td>\n",
       "      <td>0</td>\n",
       "      <td>0</td>\n",
       "      <td>0</td>\n",
       "      <td>0</td>\n",
       "      <td>0</td>\n",
       "      <td>0</td>\n",
       "      <td>0</td>\n",
       "    </tr>\n",
       "    <tr>\n",
       "      <th>5</th>\n",
       "      <td>1</td>\n",
       "      <td>1</td>\n",
       "      <td>1</td>\n",
       "      <td>1</td>\n",
       "      <td>1</td>\n",
       "      <td>1</td>\n",
       "      <td>0</td>\n",
       "      <td>0</td>\n",
       "      <td>0</td>\n",
       "      <td>0</td>\n",
       "      <td>0</td>\n",
       "      <td>0</td>\n",
       "      <td>0</td>\n",
       "      <td>0</td>\n",
       "      <td>0</td>\n",
       "      <td>0</td>\n",
       "      <td>0</td>\n",
       "      <td>0</td>\n",
       "      <td>0</td>\n",
       "    </tr>\n",
       "    <tr>\n",
       "      <th>6</th>\n",
       "      <td>1</td>\n",
       "      <td>1</td>\n",
       "      <td>1</td>\n",
       "      <td>1</td>\n",
       "      <td>1</td>\n",
       "      <td>1</td>\n",
       "      <td>1</td>\n",
       "      <td>0</td>\n",
       "      <td>0</td>\n",
       "      <td>0</td>\n",
       "      <td>0</td>\n",
       "      <td>0</td>\n",
       "      <td>0</td>\n",
       "      <td>0</td>\n",
       "      <td>0</td>\n",
       "      <td>0</td>\n",
       "      <td>0</td>\n",
       "      <td>0</td>\n",
       "      <td>0</td>\n",
       "    </tr>\n",
       "    <tr>\n",
       "      <th>7</th>\n",
       "      <td>1</td>\n",
       "      <td>1</td>\n",
       "      <td>1</td>\n",
       "      <td>1</td>\n",
       "      <td>1</td>\n",
       "      <td>1</td>\n",
       "      <td>1</td>\n",
       "      <td>1</td>\n",
       "      <td>0</td>\n",
       "      <td>0</td>\n",
       "      <td>0</td>\n",
       "      <td>0</td>\n",
       "      <td>0</td>\n",
       "      <td>0</td>\n",
       "      <td>0</td>\n",
       "      <td>0</td>\n",
       "      <td>0</td>\n",
       "      <td>0</td>\n",
       "      <td>0</td>\n",
       "    </tr>\n",
       "    <tr>\n",
       "      <th>8</th>\n",
       "      <td>1</td>\n",
       "      <td>1</td>\n",
       "      <td>1</td>\n",
       "      <td>1</td>\n",
       "      <td>1</td>\n",
       "      <td>1</td>\n",
       "      <td>1</td>\n",
       "      <td>1</td>\n",
       "      <td>1</td>\n",
       "      <td>0</td>\n",
       "      <td>0</td>\n",
       "      <td>0</td>\n",
       "      <td>0</td>\n",
       "      <td>0</td>\n",
       "      <td>0</td>\n",
       "      <td>0</td>\n",
       "      <td>0</td>\n",
       "      <td>0</td>\n",
       "      <td>0</td>\n",
       "    </tr>\n",
       "    <tr>\n",
       "      <th>9</th>\n",
       "      <td>1</td>\n",
       "      <td>1</td>\n",
       "      <td>1</td>\n",
       "      <td>1</td>\n",
       "      <td>1</td>\n",
       "      <td>1</td>\n",
       "      <td>1</td>\n",
       "      <td>1</td>\n",
       "      <td>1</td>\n",
       "      <td>1</td>\n",
       "      <td>0</td>\n",
       "      <td>0</td>\n",
       "      <td>0</td>\n",
       "      <td>0</td>\n",
       "      <td>0</td>\n",
       "      <td>0</td>\n",
       "      <td>0</td>\n",
       "      <td>0</td>\n",
       "      <td>0</td>\n",
       "    </tr>\n",
       "  </tbody>\n",
       "</table>\n",
       "</div>"
      ],
      "text/plain": [
       "   is_observed  accident_period_2002  accident_period_2003  \\\n",
       "0            1                     0                     0   \n",
       "1            1                     1                     0   \n",
       "2            1                     1                     1   \n",
       "3            1                     1                     1   \n",
       "4            1                     1                     1   \n",
       "5            1                     1                     1   \n",
       "6            1                     1                     1   \n",
       "7            1                     1                     1   \n",
       "8            1                     1                     1   \n",
       "9            1                     1                     1   \n",
       "\n",
       "   accident_period_2004  accident_period_2005  accident_period_2006  \\\n",
       "0                     0                     0                     0   \n",
       "1                     0                     0                     0   \n",
       "2                     0                     0                     0   \n",
       "3                     1                     0                     0   \n",
       "4                     1                     1                     0   \n",
       "5                     1                     1                     1   \n",
       "6                     1                     1                     1   \n",
       "7                     1                     1                     1   \n",
       "8                     1                     1                     1   \n",
       "9                     1                     1                     1   \n",
       "\n",
       "   accident_period_2007  accident_period_2008  accident_period_2009  \\\n",
       "0                     0                     0                     0   \n",
       "1                     0                     0                     0   \n",
       "2                     0                     0                     0   \n",
       "3                     0                     0                     0   \n",
       "4                     0                     0                     0   \n",
       "5                     0                     0                     0   \n",
       "6                     1                     0                     0   \n",
       "7                     1                     1                     0   \n",
       "8                     1                     1                     1   \n",
       "9                     1                     1                     1   \n",
       "\n",
       "   accident_period_2010  development_period_0002  development_period_0003  \\\n",
       "0                     0                        0                        0   \n",
       "1                     0                        0                        0   \n",
       "2                     0                        0                        0   \n",
       "3                     0                        0                        0   \n",
       "4                     0                        0                        0   \n",
       "5                     0                        0                        0   \n",
       "6                     0                        0                        0   \n",
       "7                     0                        0                        0   \n",
       "8                     0                        0                        0   \n",
       "9                     1                        0                        0   \n",
       "\n",
       "   development_period_0004  development_period_0005  development_period_0006  \\\n",
       "0                        0                        0                        0   \n",
       "1                        0                        0                        0   \n",
       "2                        0                        0                        0   \n",
       "3                        0                        0                        0   \n",
       "4                        0                        0                        0   \n",
       "5                        0                        0                        0   \n",
       "6                        0                        0                        0   \n",
       "7                        0                        0                        0   \n",
       "8                        0                        0                        0   \n",
       "9                        0                        0                        0   \n",
       "\n",
       "   development_period_0007  development_period_0008  development_period_0009  \\\n",
       "0                        0                        0                        0   \n",
       "1                        0                        0                        0   \n",
       "2                        0                        0                        0   \n",
       "3                        0                        0                        0   \n",
       "4                        0                        0                        0   \n",
       "5                        0                        0                        0   \n",
       "6                        0                        0                        0   \n",
       "7                        0                        0                        0   \n",
       "8                        0                        0                        0   \n",
       "9                        0                        0                        0   \n",
       "\n",
       "   development_period_0010  \n",
       "0                        0  \n",
       "1                        0  \n",
       "2                        0  \n",
       "3                        0  \n",
       "4                        0  \n",
       "5                        0  \n",
       "6                        0  \n",
       "7                        0  \n",
       "8                        0  \n",
       "9                        0  "
      ]
     },
     "execution_count": 7,
     "metadata": {},
     "output_type": "execute_result"
    }
   ],
   "source": [
    "# access linear design matrix:\n",
    "r.paid_loss.X_base.head(10)"
   ]
  },
  {
   "cell_type": "code",
   "execution_count": 8,
   "metadata": {},
   "outputs": [
    {
     "data": {
      "text/html": [
       "<div>\n",
       "<style scoped>\n",
       "    .dataframe tbody tr th:only-of-type {\n",
       "        vertical-align: middle;\n",
       "    }\n",
       "\n",
       "    .dataframe tbody tr th {\n",
       "        vertical-align: top;\n",
       "    }\n",
       "\n",
       "    .dataframe thead th {\n",
       "        text-align: right;\n",
       "    }\n",
       "</style>\n",
       "<table border=\"1\" class=\"dataframe\">\n",
       "  <thead>\n",
       "    <tr style=\"text-align: right;\">\n",
       "      <th>Age-to-Age Factors as of (months)</th>\n",
       "      <th>1</th>\n",
       "      <th>2</th>\n",
       "      <th>3</th>\n",
       "      <th>4</th>\n",
       "      <th>5</th>\n",
       "      <th>6</th>\n",
       "      <th>7</th>\n",
       "      <th>8</th>\n",
       "      <th>9</th>\n",
       "    </tr>\n",
       "  </thead>\n",
       "  <tbody>\n",
       "    <tr>\n",
       "      <th>2001</th>\n",
       "      <td>3.143</td>\n",
       "      <td>1.543</td>\n",
       "      <td>1.278</td>\n",
       "      <td>1.238</td>\n",
       "      <td>1.209</td>\n",
       "      <td>1.044</td>\n",
       "      <td>1.04</td>\n",
       "      <td>1.063</td>\n",
       "      <td>1.018</td>\n",
       "    </tr>\n",
       "    <tr>\n",
       "      <th>2002</th>\n",
       "      <td>3.511</td>\n",
       "      <td>1.755</td>\n",
       "      <td>1.545</td>\n",
       "      <td>1.133</td>\n",
       "      <td>1.084</td>\n",
       "      <td>1.128</td>\n",
       "      <td>1.057</td>\n",
       "      <td>1.086</td>\n",
       "      <td></td>\n",
       "    </tr>\n",
       "    <tr>\n",
       "      <th>2003</th>\n",
       "      <td>4.448</td>\n",
       "      <td>1.717</td>\n",
       "      <td>1.458</td>\n",
       "      <td>1.232</td>\n",
       "      <td>1.037</td>\n",
       "      <td>1.12</td>\n",
       "      <td>1.061</td>\n",
       "      <td></td>\n",
       "      <td></td>\n",
       "    </tr>\n",
       "    <tr>\n",
       "      <th>2004</th>\n",
       "      <td>4.568</td>\n",
       "      <td>1.547</td>\n",
       "      <td>1.712</td>\n",
       "      <td>1.073</td>\n",
       "      <td>1.087</td>\n",
       "      <td>1.047</td>\n",
       "      <td></td>\n",
       "      <td></td>\n",
       "      <td></td>\n",
       "    </tr>\n",
       "    <tr>\n",
       "      <th>2005</th>\n",
       "      <td>2.564</td>\n",
       "      <td>1.873</td>\n",
       "      <td>1.362</td>\n",
       "      <td>1.174</td>\n",
       "      <td>1.138</td>\n",
       "      <td></td>\n",
       "      <td></td>\n",
       "      <td></td>\n",
       "      <td></td>\n",
       "    </tr>\n",
       "    <tr>\n",
       "      <th>2006</th>\n",
       "      <td>3.366</td>\n",
       "      <td>1.636</td>\n",
       "      <td>1.369</td>\n",
       "      <td>1.236</td>\n",
       "      <td></td>\n",
       "      <td></td>\n",
       "      <td></td>\n",
       "      <td></td>\n",
       "      <td></td>\n",
       "    </tr>\n",
       "    <tr>\n",
       "      <th>2007</th>\n",
       "      <td>2.923</td>\n",
       "      <td>1.878</td>\n",
       "      <td>1.439</td>\n",
       "      <td></td>\n",
       "      <td></td>\n",
       "      <td></td>\n",
       "      <td></td>\n",
       "      <td></td>\n",
       "      <td></td>\n",
       "    </tr>\n",
       "    <tr>\n",
       "      <th>2008</th>\n",
       "      <td>3.953</td>\n",
       "      <td>2.016</td>\n",
       "      <td></td>\n",
       "      <td></td>\n",
       "      <td></td>\n",
       "      <td></td>\n",
       "      <td></td>\n",
       "      <td></td>\n",
       "      <td></td>\n",
       "    </tr>\n",
       "    <tr>\n",
       "      <th>2009</th>\n",
       "      <td>3.619</td>\n",
       "      <td></td>\n",
       "      <td></td>\n",
       "      <td></td>\n",
       "      <td></td>\n",
       "      <td></td>\n",
       "      <td></td>\n",
       "      <td></td>\n",
       "      <td></td>\n",
       "    </tr>\n",
       "    <tr>\n",
       "      <th>Vol Wtd</th>\n",
       "      <td></td>\n",
       "      <td></td>\n",
       "      <td></td>\n",
       "      <td></td>\n",
       "      <td></td>\n",
       "      <td></td>\n",
       "      <td></td>\n",
       "      <td></td>\n",
       "      <td></td>\n",
       "    </tr>\n",
       "    <tr>\n",
       "      <th>All Years</th>\n",
       "      <td>3.491</td>\n",
       "      <td>1.747</td>\n",
       "      <td>1.457</td>\n",
       "      <td>1.174</td>\n",
       "      <td>1.104</td>\n",
       "      <td>1.086</td>\n",
       "      <td>1.054</td>\n",
       "      <td>1.077</td>\n",
       "      <td>1.018</td>\n",
       "    </tr>\n",
       "    <tr>\n",
       "      <th>5 Years</th>\n",
       "      <td>3.245</td>\n",
       "      <td>1.787</td>\n",
       "      <td>1.468</td>\n",
       "      <td>1.165</td>\n",
       "      <td>1.104</td>\n",
       "      <td>1.086</td>\n",
       "      <td>1.054</td>\n",
       "      <td>1.077</td>\n",
       "      <td>1.018</td>\n",
       "    </tr>\n",
       "    <tr>\n",
       "      <th>3 Years</th>\n",
       "      <td>3.46</td>\n",
       "      <td>1.847</td>\n",
       "      <td>1.392</td>\n",
       "      <td>1.154</td>\n",
       "      <td>1.085</td>\n",
       "      <td>1.097</td>\n",
       "      <td>1.054</td>\n",
       "      <td>1.077</td>\n",
       "      <td>1.018</td>\n",
       "    </tr>\n",
       "    <tr>\n",
       "      <th>2 Years</th>\n",
       "      <td>3.782</td>\n",
       "      <td>1.95</td>\n",
       "      <td>1.406</td>\n",
       "      <td>1.206</td>\n",
       "      <td>1.111</td>\n",
       "      <td>1.082</td>\n",
       "      <td>1.059</td>\n",
       "      <td>1.077</td>\n",
       "      <td>1.018</td>\n",
       "    </tr>\n",
       "    <tr>\n",
       "      <th>Simple</th>\n",
       "      <td></td>\n",
       "      <td></td>\n",
       "      <td></td>\n",
       "      <td></td>\n",
       "      <td></td>\n",
       "      <td></td>\n",
       "      <td></td>\n",
       "      <td></td>\n",
       "      <td></td>\n",
       "    </tr>\n",
       "    <tr>\n",
       "      <th>All Years</th>\n",
       "      <td>3.566</td>\n",
       "      <td>1.746</td>\n",
       "      <td>1.452</td>\n",
       "      <td>1.181</td>\n",
       "      <td>1.111</td>\n",
       "      <td>1.085</td>\n",
       "      <td>1.053</td>\n",
       "      <td>1.075</td>\n",
       "      <td>1.018</td>\n",
       "    </tr>\n",
       "    <tr>\n",
       "      <th>5 Years</th>\n",
       "      <td>3.285</td>\n",
       "      <td>1.79</td>\n",
       "      <td>1.468</td>\n",
       "      <td>1.17</td>\n",
       "      <td>1.111</td>\n",
       "      <td>1.085</td>\n",
       "      <td>1.053</td>\n",
       "      <td>1.075</td>\n",
       "      <td>1.018</td>\n",
       "    </tr>\n",
       "    <tr>\n",
       "      <th>3 Years</th>\n",
       "      <td>3.498</td>\n",
       "      <td>1.843</td>\n",
       "      <td>1.39</td>\n",
       "      <td>1.161</td>\n",
       "      <td>1.088</td>\n",
       "      <td>1.098</td>\n",
       "      <td>1.053</td>\n",
       "      <td>1.075</td>\n",
       "      <td>1.018</td>\n",
       "    </tr>\n",
       "    <tr>\n",
       "      <th>2 Years</th>\n",
       "      <td>3.786</td>\n",
       "      <td>1.947</td>\n",
       "      <td>1.404</td>\n",
       "      <td>1.205</td>\n",
       "      <td>1.113</td>\n",
       "      <td>1.084</td>\n",
       "      <td>1.059</td>\n",
       "      <td>1.075</td>\n",
       "      <td>1.018</td>\n",
       "    </tr>\n",
       "    <tr>\n",
       "      <th>Medial 5-Year</th>\n",
       "      <td></td>\n",
       "      <td></td>\n",
       "      <td></td>\n",
       "      <td></td>\n",
       "      <td></td>\n",
       "      <td></td>\n",
       "      <td></td>\n",
       "      <td></td>\n",
       "      <td></td>\n",
       "    </tr>\n",
       "    <tr>\n",
       "      <th>Ex. Hi/Low</th>\n",
       "      <td>3.303</td>\n",
       "      <td>1.796</td>\n",
       "      <td>1.422</td>\n",
       "      <td>1.18</td>\n",
       "      <td>1.103</td>\n",
       "      <td>1.084</td>\n",
       "      <td>1.057</td>\n",
       "      <td>1.077</td>\n",
       "      <td>1.018</td>\n",
       "    </tr>\n",
       "    <tr>\n",
       "      <th>Ex. Hi</th>\n",
       "      <td>3.118</td>\n",
       "      <td>1.733</td>\n",
       "      <td>1.407</td>\n",
       "      <td>1.153</td>\n",
       "      <td>1.087</td>\n",
       "      <td>1.07</td>\n",
       "      <td>1.049</td>\n",
       "      <td>1.063</td>\n",
       "      <td>1.018</td>\n",
       "    </tr>\n",
       "    <tr>\n",
       "      <th>Ex. Low</th>\n",
       "      <td>3.465</td>\n",
       "      <td>1.851</td>\n",
       "      <td>1.495</td>\n",
       "      <td>1.194</td>\n",
       "      <td>1.13</td>\n",
       "      <td>1.098</td>\n",
       "      <td>1.059</td>\n",
       "      <td>1.086</td>\n",
       "      <td>1.018</td>\n",
       "    </tr>\n",
       "  </tbody>\n",
       "</table>\n",
       "</div>"
      ],
      "text/plain": [
       "Age-to-Age Factors as of (months)      1      2      3      4      5      6  \\\n",
       "2001                               3.143  1.543  1.278  1.238  1.209  1.044   \n",
       "2002                               3.511  1.755  1.545  1.133  1.084  1.128   \n",
       "2003                               4.448  1.717  1.458  1.232  1.037   1.12   \n",
       "2004                               4.568  1.547  1.712  1.073  1.087  1.047   \n",
       "2005                               2.564  1.873  1.362  1.174  1.138          \n",
       "2006                               3.366  1.636  1.369  1.236                 \n",
       "2007                               2.923  1.878  1.439                        \n",
       "2008                               3.953  2.016                               \n",
       "2009                               3.619                                      \n",
       "Vol Wtd                                                                       \n",
       "All Years                          3.491  1.747  1.457  1.174  1.104  1.086   \n",
       "5 Years                            3.245  1.787  1.468  1.165  1.104  1.086   \n",
       "3 Years                             3.46  1.847  1.392  1.154  1.085  1.097   \n",
       "2 Years                            3.782   1.95  1.406  1.206  1.111  1.082   \n",
       "Simple                                                                        \n",
       "All Years                          3.566  1.746  1.452  1.181  1.111  1.085   \n",
       "5 Years                            3.285   1.79  1.468   1.17  1.111  1.085   \n",
       "3 Years                            3.498  1.843   1.39  1.161  1.088  1.098   \n",
       "2 Years                            3.786  1.947  1.404  1.205  1.113  1.084   \n",
       "Medial 5-Year                                                                 \n",
       "Ex. Hi/Low                         3.303  1.796  1.422   1.18  1.103  1.084   \n",
       "Ex. Hi                             3.118  1.733  1.407  1.153  1.087   1.07   \n",
       "Ex. Low                            3.465  1.851  1.495  1.194   1.13  1.098   \n",
       "\n",
       "Age-to-Age Factors as of (months)      7      8      9  \n",
       "2001                                1.04  1.063  1.018  \n",
       "2002                               1.057  1.086         \n",
       "2003                               1.061                \n",
       "2004                                                    \n",
       "2005                                                    \n",
       "2006                                                    \n",
       "2007                                                    \n",
       "2008                                                    \n",
       "2009                                                    \n",
       "Vol Wtd                                                 \n",
       "All Years                          1.054  1.077  1.018  \n",
       "5 Years                            1.054  1.077  1.018  \n",
       "3 Years                            1.054  1.077  1.018  \n",
       "2 Years                            1.059  1.077  1.018  \n",
       "Simple                                                  \n",
       "All Years                          1.053  1.075  1.018  \n",
       "5 Years                            1.053  1.075  1.018  \n",
       "3 Years                            1.053  1.075  1.018  \n",
       "2 Years                            1.059  1.075  1.018  \n",
       "Medial 5-Year                                           \n",
       "Ex. Hi/Low                         1.057  1.077  1.018  \n",
       "Ex. Hi                             1.049  1.063  1.018  \n",
       "Ex. Low                            1.059  1.086  1.018  "
      ]
     },
     "execution_count": 8,
     "metadata": {},
     "output_type": "execute_result"
    }
   ],
   "source": [
    "# quick ATA factor summary\n",
    "r.paid_loss.ata_summary()"
   ]
  },
  {
   "cell_type": "code",
   "execution_count": 9,
   "metadata": {},
   "outputs": [
    {
     "data": {
      "text/plain": [
       "Accident Period\n",
       "2001-01-01    4139452.0\n",
       "2002-01-01    5765176.0\n",
       "2003-01-01    5706935.0\n",
       "2004-01-01    5621078.0\n",
       "2005-01-01    5154550.0\n",
       "2006-01-01    5422953.0\n",
       "2007-01-01    5961413.0\n",
       "2008-01-01    7197996.0\n",
       "2009-01-01    6120629.0\n",
       "2010-01-01    5011529.0\n",
       "Name: Chain Ladder Ultimate Loss, dtype: float64"
      ]
     },
     "execution_count": 9,
     "metadata": {},
     "output_type": "execute_result"
    }
   ],
   "source": [
    "# Triangle data type actually has a robust chain-ladder implementation that can be accessed\n",
    "\n",
    "# this isn't important for right now, but it is there and it works well:\n",
    "r.paid_loss.ult('vwa', 5, tail=1.061)"
   ]
  },
  {
   "cell_type": "code",
   "execution_count": 10,
   "metadata": {},
   "outputs": [
    {
     "name": "stdout",
     "output_type": "stream",
     "text": [
      "This is for testing and compatability only. Please do not assign much credibility to these estimates for the purposes selecting carried reserves.\n",
      "rocky(id='rocky0', mod=(\"glm\", \"icrfs\"), f=(), plot=(), t=\"paid_loss\")\n"
     ]
    }
   ],
   "source": [
    "# now add a GLM model to the triangle:\n",
    "r.AddModel('icrfs', 'loglinear', 'paid_loss')\n",
    "print(r)"
   ]
  },
  {
   "cell_type": "code",
   "execution_count": 11,
   "metadata": {},
   "outputs": [
    {
     "data": {
      "text/html": [
       "<div>\n",
       "<style scoped>\n",
       "    .dataframe tbody tr th:only-of-type {\n",
       "        vertical-align: middle;\n",
       "    }\n",
       "\n",
       "    .dataframe tbody tr th {\n",
       "        vertical-align: top;\n",
       "    }\n",
       "\n",
       "    .dataframe thead th {\n",
       "        text-align: right;\n",
       "    }\n",
       "</style>\n",
       "<table border=\"1\" class=\"dataframe\">\n",
       "  <thead>\n",
       "    <tr style=\"text-align: right;\">\n",
       "      <th></th>\n",
       "      <th>weights</th>\n",
       "    </tr>\n",
       "  </thead>\n",
       "  <tbody>\n",
       "    <tr>\n",
       "      <th>0</th>\n",
       "      <td>1.0</td>\n",
       "    </tr>\n",
       "    <tr>\n",
       "      <th>1</th>\n",
       "      <td>1.0</td>\n",
       "    </tr>\n",
       "    <tr>\n",
       "      <th>2</th>\n",
       "      <td>1.0</td>\n",
       "    </tr>\n",
       "    <tr>\n",
       "      <th>3</th>\n",
       "      <td>1.0</td>\n",
       "    </tr>\n",
       "    <tr>\n",
       "      <th>4</th>\n",
       "      <td>1.0</td>\n",
       "    </tr>\n",
       "  </tbody>\n",
       "</table>\n",
       "</div>"
      ],
      "text/plain": [
       "   weights\n",
       "0      1.0\n",
       "1      1.0\n",
       "2      1.0\n",
       "3      1.0\n",
       "4      1.0"
      ]
     },
     "execution_count": 11,
     "metadata": {},
     "output_type": "execute_result"
    }
   ],
   "source": [
    "r.icrfs.GetWeights().head()"
   ]
  },
  {
   "cell_type": "code",
   "execution_count": 12,
   "metadata": {},
   "outputs": [
    {
     "data": {
      "text/plain": [
       "0     12.787864\n",
       "1     12.771722\n",
       "2     12.579383\n",
       "3     12.646287\n",
       "4     13.001686\n",
       "5     12.889503\n",
       "6     12.996419\n",
       "7     12.792414\n",
       "8     12.839167\n",
       "9     12.748438\n",
       "10    13.550164\n",
       "11    13.692236\n",
       "12    13.817308\n",
       "13    13.918293\n",
       "14    13.449059\n",
       "15    13.750529\n",
       "16    13.650201\n",
       "17    13.875333\n",
       "18    13.802028\n",
       "20    13.322102\n",
       "21    13.747118\n",
       "22    13.738866\n",
       "23    13.562151\n",
       "24    13.807461\n",
       "25    13.650044\n",
       "26    13.938965\n",
       "27    14.182491\n",
       "30    13.087648\n",
       "31    13.983808\n",
       "32    13.832027\n",
       "33    14.261734\n",
       "34    13.553481\n",
       "35    13.598644\n",
       "36    13.876859\n",
       "40    13.175574\n",
       "41    13.007502\n",
       "42    13.528916\n",
       "43    12.515328\n",
       "44    13.132019\n",
       "45    13.467314\n",
       "50    13.261078\n",
       "51    12.679184\n",
       "52    11.897664\n",
       "53    12.771537\n",
       "54    13.061847\n",
       "60    11.893702\n",
       "61    13.176480\n",
       "62    13.114315\n",
       "63    12.237019\n",
       "70    11.849040\n",
       "71    12.491898\n",
       "72    12.543990\n",
       "80    12.333714\n",
       "81    12.959953\n",
       "90    11.126498\n",
       "Name: paid_loss, dtype: float64"
      ]
     },
     "execution_count": 12,
     "metadata": {},
     "output_type": "execute_result"
    }
   ],
   "source": [
    "r.icrfs.GetY('train')"
   ]
  },
  {
   "cell_type": "code",
   "execution_count": 13,
   "metadata": {},
   "outputs": [
    {
     "data": {
      "text/plain": [
       "loglinear(alpha=3.0, l1_ratio=0.05)"
      ]
     },
     "execution_count": 13,
     "metadata": {},
     "output_type": "execute_result"
    }
   ],
   "source": [
    "# r.icrfs.TuneFitHyperparameters()\n",
    "r.icrfs.SetHyperparameters(alpha=3, l1_ratio=0.05)\n",
    "r.icrfs"
   ]
  },
  {
   "cell_type": "code",
   "execution_count": 14,
   "metadata": {},
   "outputs": [
    {
     "data": {
      "text/plain": [
       "tweedieGLM(alpha=0.2, power=2.3)"
      ]
     },
     "execution_count": 14,
     "metadata": {},
     "output_type": "execute_result"
    }
   ],
   "source": [
    "# r.glm.TuneFitHyperparameters()\n",
    "r.glm.SetHyperparameters(alpha=0.2, power=2.3)\n",
    "r.glm"
   ]
  },
  {
   "cell_type": "code",
   "execution_count": 15,
   "metadata": {},
   "outputs": [
    {
     "data": {
      "text/plain": [
       "0     12.787864\n",
       "1     12.771722\n",
       "2     12.579383\n",
       "3     12.646287\n",
       "4     13.001686\n",
       "5     12.889503\n",
       "6     12.996419\n",
       "7     12.792414\n",
       "8     12.839167\n",
       "9     12.748438\n",
       "10    13.550164\n",
       "11    13.692236\n",
       "12    13.817308\n",
       "13    13.918293\n",
       "14    13.449059\n",
       "15    13.750529\n",
       "16    13.650201\n",
       "17    13.875333\n",
       "18    13.802028\n",
       "20    13.322102\n",
       "21    13.747118\n",
       "22    13.738866\n",
       "23    13.562151\n",
       "24    13.807461\n",
       "25    13.650044\n",
       "26    13.938965\n",
       "27    14.182491\n",
       "30    13.087648\n",
       "31    13.983808\n",
       "32    13.832027\n",
       "33    14.261734\n",
       "34    13.553481\n",
       "35    13.598644\n",
       "36    13.876859\n",
       "40    13.175574\n",
       "41    13.007502\n",
       "42    13.528916\n",
       "43    12.515328\n",
       "44    13.132019\n",
       "45    13.467314\n",
       "50    13.261078\n",
       "51    12.679184\n",
       "52    11.897664\n",
       "53    12.771537\n",
       "54    13.061847\n",
       "60    11.893702\n",
       "61    13.176480\n",
       "62    13.114315\n",
       "63    12.237019\n",
       "70    11.849040\n",
       "71    12.491898\n",
       "72    12.543990\n",
       "80    12.333714\n",
       "81    12.959953\n",
       "90    11.126498\n",
       "Name: paid_loss, dtype: float64"
      ]
     },
     "execution_count": 15,
     "metadata": {},
     "output_type": "execute_result"
    }
   ],
   "source": [
    "r.icrfs.GetY('train')\n",
    "# r.icrfs.is_fitted"
   ]
  },
  {
   "cell_type": "code",
   "execution_count": 16,
   "metadata": {},
   "outputs": [
    {
     "data": {
      "text/plain": [
       "loglinear(alpha=3.0, l1_ratio=0.05)"
      ]
     },
     "execution_count": 16,
     "metadata": {},
     "output_type": "execute_result"
    }
   ],
   "source": [
    "r.icrfs"
   ]
  },
  {
   "cell_type": "code",
   "execution_count": 17,
   "metadata": {},
   "outputs": [
    {
     "name": "stdout",
     "output_type": "stream",
     "text": [
      "rocky(id='rocky0', mod=(\"glm\", \"icrfs\"), f=(), plot=(), t=\"paid_loss\")\n"
     ]
    }
   ],
   "source": [
    "## now that we have a set of hyperparameters, we can reuse them\n",
    "## next time using model.SetHyperparameters(alpha, power):\n",
    "# -> r.tweedie.SetHyperparameters(alpha=0.4, power=1.8)\n",
    "\n",
    "# fit base model to the data\n",
    "r.icrfs.Fit()\n",
    "r.glm.Fit()\n",
    "print(r)"
   ]
  },
  {
   "cell_type": "code",
   "execution_count": 18,
   "metadata": {},
   "outputs": [],
   "source": [
    "dat = r.icrfs.GetX(\"train\")\n",
    "DYwGp = r.icrfs.GetHeteroGp().loc[r.icrfs.GetIdx('train')]\n",
    "DYwGp.rename(columns={DYwGp.columns[0]: \"gp\"}, inplace=True)\n",
    "DYw = r.icrfs.GetWeights(\"train\")\n",
    "#this is a test\n",
    "\n",
    "\n",
    "# print(f\"dat: {dat.head(10)}\")\n",
    "# print(f\"DYwGp: {DYwGp.head(10)}\")\n",
    "\n",
    "# join weight groups to data frame\n",
    "# dat = dat.join(DYwGp)\n",
    "# dat"
   ]
  },
  {
   "cell_type": "code",
   "execution_count": 19,
   "metadata": {},
   "outputs": [
    {
     "data": {
      "text/html": [
       "<div>\n",
       "<style scoped>\n",
       "    .dataframe tbody tr th:only-of-type {\n",
       "        vertical-align: middle;\n",
       "    }\n",
       "\n",
       "    .dataframe tbody tr th {\n",
       "        vertical-align: top;\n",
       "    }\n",
       "\n",
       "    .dataframe thead th {\n",
       "        text-align: right;\n",
       "    }\n",
       "</style>\n",
       "<table border=\"1\" class=\"dataframe\">\n",
       "  <thead>\n",
       "    <tr style=\"text-align: right;\">\n",
       "      <th></th>\n",
       "      <th>weights</th>\n",
       "    </tr>\n",
       "  </thead>\n",
       "  <tbody>\n",
       "    <tr>\n",
       "      <th>0</th>\n",
       "      <td>1.0</td>\n",
       "    </tr>\n",
       "    <tr>\n",
       "      <th>1</th>\n",
       "      <td>1.0</td>\n",
       "    </tr>\n",
       "    <tr>\n",
       "      <th>2</th>\n",
       "      <td>1.0</td>\n",
       "    </tr>\n",
       "    <tr>\n",
       "      <th>3</th>\n",
       "      <td>1.0</td>\n",
       "    </tr>\n",
       "    <tr>\n",
       "      <th>4</th>\n",
       "      <td>1.0</td>\n",
       "    </tr>\n",
       "    <tr>\n",
       "      <th>5</th>\n",
       "      <td>1.0</td>\n",
       "    </tr>\n",
       "    <tr>\n",
       "      <th>6</th>\n",
       "      <td>1.0</td>\n",
       "    </tr>\n",
       "    <tr>\n",
       "      <th>7</th>\n",
       "      <td>1.0</td>\n",
       "    </tr>\n",
       "    <tr>\n",
       "      <th>8</th>\n",
       "      <td>1.0</td>\n",
       "    </tr>\n",
       "    <tr>\n",
       "      <th>9</th>\n",
       "      <td>1.0</td>\n",
       "    </tr>\n",
       "    <tr>\n",
       "      <th>10</th>\n",
       "      <td>1.0</td>\n",
       "    </tr>\n",
       "    <tr>\n",
       "      <th>11</th>\n",
       "      <td>1.0</td>\n",
       "    </tr>\n",
       "    <tr>\n",
       "      <th>12</th>\n",
       "      <td>1.0</td>\n",
       "    </tr>\n",
       "    <tr>\n",
       "      <th>13</th>\n",
       "      <td>1.0</td>\n",
       "    </tr>\n",
       "    <tr>\n",
       "      <th>14</th>\n",
       "      <td>1.0</td>\n",
       "    </tr>\n",
       "    <tr>\n",
       "      <th>15</th>\n",
       "      <td>1.0</td>\n",
       "    </tr>\n",
       "    <tr>\n",
       "      <th>16</th>\n",
       "      <td>1.0</td>\n",
       "    </tr>\n",
       "    <tr>\n",
       "      <th>17</th>\n",
       "      <td>1.0</td>\n",
       "    </tr>\n",
       "    <tr>\n",
       "      <th>18</th>\n",
       "      <td>1.0</td>\n",
       "    </tr>\n",
       "    <tr>\n",
       "      <th>19</th>\n",
       "      <td>1.0</td>\n",
       "    </tr>\n",
       "    <tr>\n",
       "      <th>20</th>\n",
       "      <td>1.0</td>\n",
       "    </tr>\n",
       "    <tr>\n",
       "      <th>21</th>\n",
       "      <td>1.0</td>\n",
       "    </tr>\n",
       "    <tr>\n",
       "      <th>22</th>\n",
       "      <td>1.0</td>\n",
       "    </tr>\n",
       "    <tr>\n",
       "      <th>23</th>\n",
       "      <td>1.0</td>\n",
       "    </tr>\n",
       "    <tr>\n",
       "      <th>24</th>\n",
       "      <td>1.0</td>\n",
       "    </tr>\n",
       "    <tr>\n",
       "      <th>25</th>\n",
       "      <td>1.0</td>\n",
       "    </tr>\n",
       "    <tr>\n",
       "      <th>26</th>\n",
       "      <td>1.0</td>\n",
       "    </tr>\n",
       "    <tr>\n",
       "      <th>27</th>\n",
       "      <td>1.0</td>\n",
       "    </tr>\n",
       "    <tr>\n",
       "      <th>28</th>\n",
       "      <td>1.0</td>\n",
       "    </tr>\n",
       "    <tr>\n",
       "      <th>29</th>\n",
       "      <td>1.0</td>\n",
       "    </tr>\n",
       "    <tr>\n",
       "      <th>30</th>\n",
       "      <td>1.0</td>\n",
       "    </tr>\n",
       "    <tr>\n",
       "      <th>31</th>\n",
       "      <td>1.0</td>\n",
       "    </tr>\n",
       "    <tr>\n",
       "      <th>32</th>\n",
       "      <td>1.0</td>\n",
       "    </tr>\n",
       "    <tr>\n",
       "      <th>33</th>\n",
       "      <td>1.0</td>\n",
       "    </tr>\n",
       "    <tr>\n",
       "      <th>34</th>\n",
       "      <td>1.0</td>\n",
       "    </tr>\n",
       "    <tr>\n",
       "      <th>35</th>\n",
       "      <td>1.0</td>\n",
       "    </tr>\n",
       "    <tr>\n",
       "      <th>36</th>\n",
       "      <td>1.0</td>\n",
       "    </tr>\n",
       "    <tr>\n",
       "      <th>37</th>\n",
       "      <td>1.0</td>\n",
       "    </tr>\n",
       "    <tr>\n",
       "      <th>38</th>\n",
       "      <td>1.0</td>\n",
       "    </tr>\n",
       "    <tr>\n",
       "      <th>39</th>\n",
       "      <td>1.0</td>\n",
       "    </tr>\n",
       "    <tr>\n",
       "      <th>40</th>\n",
       "      <td>1.0</td>\n",
       "    </tr>\n",
       "    <tr>\n",
       "      <th>41</th>\n",
       "      <td>1.0</td>\n",
       "    </tr>\n",
       "    <tr>\n",
       "      <th>42</th>\n",
       "      <td>1.0</td>\n",
       "    </tr>\n",
       "    <tr>\n",
       "      <th>43</th>\n",
       "      <td>1.0</td>\n",
       "    </tr>\n",
       "    <tr>\n",
       "      <th>44</th>\n",
       "      <td>1.0</td>\n",
       "    </tr>\n",
       "    <tr>\n",
       "      <th>45</th>\n",
       "      <td>1.0</td>\n",
       "    </tr>\n",
       "    <tr>\n",
       "      <th>46</th>\n",
       "      <td>1.0</td>\n",
       "    </tr>\n",
       "    <tr>\n",
       "      <th>47</th>\n",
       "      <td>1.0</td>\n",
       "    </tr>\n",
       "    <tr>\n",
       "      <th>48</th>\n",
       "      <td>1.0</td>\n",
       "    </tr>\n",
       "    <tr>\n",
       "      <th>49</th>\n",
       "      <td>1.0</td>\n",
       "    </tr>\n",
       "    <tr>\n",
       "      <th>50</th>\n",
       "      <td>1.0</td>\n",
       "    </tr>\n",
       "    <tr>\n",
       "      <th>51</th>\n",
       "      <td>1.0</td>\n",
       "    </tr>\n",
       "    <tr>\n",
       "      <th>52</th>\n",
       "      <td>1.0</td>\n",
       "    </tr>\n",
       "    <tr>\n",
       "      <th>53</th>\n",
       "      <td>1.0</td>\n",
       "    </tr>\n",
       "    <tr>\n",
       "      <th>54</th>\n",
       "      <td>1.0</td>\n",
       "    </tr>\n",
       "  </tbody>\n",
       "</table>\n",
       "</div>"
      ],
      "text/plain": [
       "    weights\n",
       "0       1.0\n",
       "1       1.0\n",
       "2       1.0\n",
       "3       1.0\n",
       "4       1.0\n",
       "5       1.0\n",
       "6       1.0\n",
       "7       1.0\n",
       "8       1.0\n",
       "9       1.0\n",
       "10      1.0\n",
       "11      1.0\n",
       "12      1.0\n",
       "13      1.0\n",
       "14      1.0\n",
       "15      1.0\n",
       "16      1.0\n",
       "17      1.0\n",
       "18      1.0\n",
       "19      1.0\n",
       "20      1.0\n",
       "21      1.0\n",
       "22      1.0\n",
       "23      1.0\n",
       "24      1.0\n",
       "25      1.0\n",
       "26      1.0\n",
       "27      1.0\n",
       "28      1.0\n",
       "29      1.0\n",
       "30      1.0\n",
       "31      1.0\n",
       "32      1.0\n",
       "33      1.0\n",
       "34      1.0\n",
       "35      1.0\n",
       "36      1.0\n",
       "37      1.0\n",
       "38      1.0\n",
       "39      1.0\n",
       "40      1.0\n",
       "41      1.0\n",
       "42      1.0\n",
       "43      1.0\n",
       "44      1.0\n",
       "45      1.0\n",
       "46      1.0\n",
       "47      1.0\n",
       "48      1.0\n",
       "49      1.0\n",
       "50      1.0\n",
       "51      1.0\n",
       "52      1.0\n",
       "53      1.0\n",
       "54      1.0"
      ]
     },
     "execution_count": 19,
     "metadata": {},
     "output_type": "execute_result"
    }
   ],
   "source": [
    "r.icrfs.GetWeights(\"train\")"
   ]
  },
  {
   "cell_type": "code",
   "execution_count": 20,
   "metadata": {},
   "outputs": [
    {
     "data": {
      "text/plain": [
       "0     3.310067e+01\n",
       "1     3.364652e+02\n",
       "2     6.792692e+03\n",
       "3     4.269626e+04\n",
       "4     1.555093e+05\n",
       "5     3.828523e+05\n",
       "6     6.866264e+05\n",
       "7     9.481833e+05\n",
       "8     1.062302e+06\n",
       "9     1.062489e+06\n",
       "10    3.085135e+02\n",
       "11    1.535919e+04\n",
       "12    1.651347e+05\n",
       "13    9.138839e+05\n",
       "14    3.198039e+06\n",
       "15    7.728825e+06\n",
       "16    1.375646e+07\n",
       "17    1.892005e+07\n",
       "18    2.117676e+07\n",
       "20    1.577666e+05\n",
       "21    1.536668e+06\n",
       "22    8.290674e+06\n",
       "23    2.873925e+07\n",
       "24    6.922090e+07\n",
       "25    1.230007e+08\n",
       "26    1.690583e+08\n",
       "27    3.601782e+04\n",
       "30    4.025690e+07\n",
       "31    1.391704e+08\n",
       "32    3.349092e+08\n",
       "33    5.948043e+08\n",
       "34    1.142243e+05\n",
       "35    2.375418e+06\n",
       "36    2.240357e+07\n",
       "40    2.449794e+05\n",
       "41    4.993060e+06\n",
       "42    4.690121e+07\n",
       "43    2.504820e+08\n",
       "44    8.650097e+08\n",
       "45    3.959297e+05\n",
       "50    1.031792e+07\n",
       "51    9.672562e+07\n",
       "52    5.618094e+05\n",
       "53    1.125712e+07\n",
       "54    5.600656e+05\n",
       "dtype: float64"
      ]
     },
     "execution_count": 20,
     "metadata": {},
     "output_type": "execute_result"
    }
   ],
   "source": [
    "resid2 = r.icrfs.RawResiduals().apply(lambda x: x**2)\n",
    "resid2 "
   ]
  },
  {
   "cell_type": "code",
   "execution_count": 21,
   "metadata": {},
   "outputs": [
    {
     "data": {
      "text/plain": [
       "36"
      ]
     },
     "execution_count": 21,
     "metadata": {},
     "output_type": "execute_result"
    }
   ],
   "source": [
    "r.icrfs.GetDegreesOfFreedom()"
   ]
  },
  {
   "cell_type": "code",
   "execution_count": 22,
   "metadata": {},
   "outputs": [],
   "source": [
    "W_vec = r.icrfs.GetWeights(kind=\"train\")\n",
    "\n",
    "# get the diagonal matrix of weights\n",
    "W = np.diag(W_vec.values.flatten())\n",
    "\n",
    "# get the X matrix (design matrix)\n",
    "X = r.icrfs.GetX(kind=\"train\").values\n",
    "\n",
    "# get the process variance\n",
    "# if process_var_est == \"ube\":\n",
    "V = r.icrfs._ProcessVarUBE()\n",
    "# elif process_var_est == \"mle\":\n",
    "#     V = r.icrfs._ProcessVarMLE()\n",
    "# else:\n",
    "#     raise ValueError(\"process_var_est must be 'ube' or 'mle'\")\n",
    "\n",
    "# # calculate the variance matrix\n",
    "# varMatrix = (np.linalg.inv(W) - X @ np.linalg.inv(X.T @ W @ X) @ X.T) * V\n",
    "\n",
    "# # return the standard errors\n",
    "# se = np.sqrt(np.abs(np.diag(varMatrix)))\n",
    "# return pd.Series(se, index=r.icrfs.GetX(kind=\"train\").columns, name=\"Std Error\")"
   ]
  },
  {
   "cell_type": "code",
   "execution_count": 23,
   "metadata": {},
   "outputs": [
    {
     "data": {
      "text/plain": [
       "0         5.753318\n",
       "1       -18.342986\n",
       "2       -82.417787\n",
       "3      -206.630735\n",
       "4      -394.346644\n",
       "5      -618.750574\n",
       "6      -828.629211\n",
       "7      -973.747030\n",
       "8     -1030.680221\n",
       "9     -1030.770951\n",
       "10      -17.564553\n",
       "11     -123.932203\n",
       "12     -406.367645\n",
       "13     -955.972764\n",
       "14    -1788.306085\n",
       "15    -2780.076457\n",
       "16    -3708.970456\n",
       "17    -4349.718144\n",
       "18    -4601.821227\n",
       "20     -397.198381\n",
       "21    -1239.624238\n",
       "22    -2879.353002\n",
       "23    -5360.900394\n",
       "24    -8319.910103\n",
       "25   -11090.569834\n",
       "26   -13002.241271\n",
       "27     -189.783610\n",
       "30    -6344.832842\n",
       "31   -11797.049889\n",
       "32   -18300.523713\n",
       "33   -24388.609072\n",
       "34     -337.970840\n",
       "35    -1541.239123\n",
       "36    -4733.241010\n",
       "40     -494.953978\n",
       "41    -2234.515564\n",
       "42    -6848.445458\n",
       "43   -15826.622978\n",
       "44   -29411.047880\n",
       "45     -629.229451\n",
       "50    -3212.152068\n",
       "51    -9834.918236\n",
       "52     -749.539471\n",
       "53    -3355.163896\n",
       "54     -748.375288\n",
       "dtype: float64"
      ]
     },
     "execution_count": 23,
     "metadata": {},
     "output_type": "execute_result"
    }
   ],
   "source": [
    "r.icrfs.RawResiduals().dropna()"
   ]
  },
  {
   "cell_type": "code",
   "execution_count": 24,
   "metadata": {},
   "outputs": [
    {
     "data": {
      "text/plain": [
       "weights    0.0\n",
       "0          0.0\n",
       "1          0.0\n",
       "2          0.0\n",
       "3          0.0\n",
       "4          0.0\n",
       "5          0.0\n",
       "6          0.0\n",
       "7          0.0\n",
       "8          0.0\n",
       "9          0.0\n",
       "10         0.0\n",
       "11         0.0\n",
       "12         0.0\n",
       "13         0.0\n",
       "14         0.0\n",
       "15         0.0\n",
       "16         0.0\n",
       "17         0.0\n",
       "18         0.0\n",
       "20         0.0\n",
       "21         0.0\n",
       "22         0.0\n",
       "23         0.0\n",
       "24         0.0\n",
       "25         0.0\n",
       "26         0.0\n",
       "27         0.0\n",
       "30         0.0\n",
       "31         0.0\n",
       "32         0.0\n",
       "33         0.0\n",
       "34         0.0\n",
       "35         0.0\n",
       "36         0.0\n",
       "40         0.0\n",
       "41         0.0\n",
       "42         0.0\n",
       "43         0.0\n",
       "44         0.0\n",
       "45         0.0\n",
       "50         0.0\n",
       "51         0.0\n",
       "52         0.0\n",
       "53         0.0\n",
       "54         0.0\n",
       "dtype: float64"
      ]
     },
     "execution_count": 24,
     "metadata": {},
     "output_type": "execute_result"
    }
   ],
   "source": [
    "V"
   ]
  },
  {
   "cell_type": "code",
   "execution_count": 25,
   "metadata": {},
   "outputs": [
    {
     "data": {
      "text/plain": [
       "array([[1., 0., 0., ..., 0., 0., 0.],\n",
       "       [0., 1., 0., ..., 0., 0., 0.],\n",
       "       [0., 0., 1., ..., 0., 0., 0.],\n",
       "       ...,\n",
       "       [0., 0., 0., ..., 1., 0., 0.],\n",
       "       [0., 0., 0., ..., 0., 1., 0.],\n",
       "       [0., 0., 0., ..., 0., 0., 1.]])"
      ]
     },
     "execution_count": 25,
     "metadata": {},
     "output_type": "execute_result"
    }
   ],
   "source": [
    "W"
   ]
  },
  {
   "cell_type": "code",
   "execution_count": 26,
   "metadata": {},
   "outputs": [
    {
     "ename": "ValueError",
     "evalue": "operands could not be broadcast together with shapes (55,55) (46,) ",
     "output_type": "error",
     "traceback": [
      "\u001b[0;31m---------------------------------------------------------------------------\u001b[0m",
      "\u001b[0;31mValueError\u001b[0m                                Traceback (most recent call last)",
      "Cell \u001b[0;32mIn[26], line 1\u001b[0m\n\u001b[0;32m----> 1\u001b[0m r\u001b[39m.\u001b[39;49micrfs\u001b[39m.\u001b[39;49m_StandardError()\n",
      "File \u001b[0;32m~/git/rocky/rocky-app/./src/rocky/LogLinear.py:1123\u001b[0m, in \u001b[0;36mLogLinear._StandardError\u001b[0;34m(self, process_var_est)\u001b[0m\n\u001b[1;32m   1120\u001b[0m     \u001b[39mraise\u001b[39;00m \u001b[39mValueError\u001b[39;00m(\u001b[39m\"\u001b[39m\u001b[39mprocess_var_est must be \u001b[39m\u001b[39m'\u001b[39m\u001b[39mube\u001b[39m\u001b[39m'\u001b[39m\u001b[39m or \u001b[39m\u001b[39m'\u001b[39m\u001b[39mmle\u001b[39m\u001b[39m'\u001b[39m\u001b[39m\"\u001b[39m)\n\u001b[1;32m   1122\u001b[0m \u001b[39m# calculate the variance matrix\u001b[39;00m\n\u001b[0;32m-> 1123\u001b[0m varMatrix \u001b[39m=\u001b[39m (np\u001b[39m.\u001b[39;49mlinalg\u001b[39m.\u001b[39;49minv(W) \u001b[39m-\u001b[39;49m X \u001b[39m@\u001b[39;49m np\u001b[39m.\u001b[39;49mlinalg\u001b[39m.\u001b[39;49minv(X\u001b[39m.\u001b[39;49mT \u001b[39m@\u001b[39;49m W \u001b[39m@\u001b[39;49m X) \u001b[39m@\u001b[39;49m X\u001b[39m.\u001b[39;49mT) \u001b[39m*\u001b[39;49m V\n\u001b[1;32m   1125\u001b[0m \u001b[39m# return the standard errors\u001b[39;00m\n\u001b[1;32m   1126\u001b[0m se \u001b[39m=\u001b[39m np\u001b[39m.\u001b[39msqrt(np\u001b[39m.\u001b[39mabs(np\u001b[39m.\u001b[39mdiag(varMatrix)))\n",
      "File \u001b[0;32m~/git/rocky/.env/lib/python3.11/site-packages/pandas/core/generic.py:2016\u001b[0m, in \u001b[0;36mNDFrame.__array_ufunc__\u001b[0;34m(self, ufunc, method, *inputs, **kwargs)\u001b[0m\n\u001b[1;32m   2012\u001b[0m \u001b[39m@final\u001b[39m\n\u001b[1;32m   2013\u001b[0m \u001b[39mdef\u001b[39;00m \u001b[39m__array_ufunc__\u001b[39m(\n\u001b[1;32m   2014\u001b[0m     \u001b[39mself\u001b[39m, ufunc: np\u001b[39m.\u001b[39mufunc, method: \u001b[39mstr\u001b[39m, \u001b[39m*\u001b[39minputs: Any, \u001b[39m*\u001b[39m\u001b[39m*\u001b[39mkwargs: Any\n\u001b[1;32m   2015\u001b[0m ):\n\u001b[0;32m-> 2016\u001b[0m     \u001b[39mreturn\u001b[39;00m arraylike\u001b[39m.\u001b[39;49marray_ufunc(\u001b[39mself\u001b[39;49m, ufunc, method, \u001b[39m*\u001b[39;49minputs, \u001b[39m*\u001b[39;49m\u001b[39m*\u001b[39;49mkwargs)\n",
      "File \u001b[0;32m~/git/rocky/.env/lib/python3.11/site-packages/pandas/core/arraylike.py:273\u001b[0m, in \u001b[0;36marray_ufunc\u001b[0;34m(self, ufunc, method, *inputs, **kwargs)\u001b[0m\n\u001b[1;32m    270\u001b[0m kwargs \u001b[39m=\u001b[39m _standardize_out_kwarg(\u001b[39m*\u001b[39m\u001b[39m*\u001b[39mkwargs)\n\u001b[1;32m    272\u001b[0m \u001b[39m# for binary ops, use our custom dunder methods\u001b[39;00m\n\u001b[0;32m--> 273\u001b[0m result \u001b[39m=\u001b[39m maybe_dispatch_ufunc_to_dunder_op(\u001b[39mself\u001b[39;49m, ufunc, method, \u001b[39m*\u001b[39;49minputs, \u001b[39m*\u001b[39;49m\u001b[39m*\u001b[39;49mkwargs)\n\u001b[1;32m    274\u001b[0m \u001b[39mif\u001b[39;00m result \u001b[39mis\u001b[39;00m \u001b[39mnot\u001b[39;00m \u001b[39mNotImplemented\u001b[39m:\n\u001b[1;32m    275\u001b[0m     \u001b[39mreturn\u001b[39;00m result\n",
      "File \u001b[0;32m~/git/rocky/.env/lib/python3.11/site-packages/pandas/_libs/ops_dispatch.pyx:113\u001b[0m, in \u001b[0;36mpandas._libs.ops_dispatch.maybe_dispatch_ufunc_to_dunder_op\u001b[0;34m()\u001b[0m\n",
      "File \u001b[0;32m~/git/rocky/.env/lib/python3.11/site-packages/pandas/core/ops/common.py:81\u001b[0m, in \u001b[0;36m_unpack_zerodim_and_defer.<locals>.new_method\u001b[0;34m(self, other)\u001b[0m\n\u001b[1;32m     77\u001b[0m             \u001b[39mreturn\u001b[39;00m \u001b[39mNotImplemented\u001b[39m\n\u001b[1;32m     79\u001b[0m other \u001b[39m=\u001b[39m item_from_zerodim(other)\n\u001b[0;32m---> 81\u001b[0m \u001b[39mreturn\u001b[39;00m method(\u001b[39mself\u001b[39;49m, other)\n",
      "File \u001b[0;32m~/git/rocky/.env/lib/python3.11/site-packages/pandas/core/arraylike.py:206\u001b[0m, in \u001b[0;36mOpsMixin.__rmul__\u001b[0;34m(self, other)\u001b[0m\n\u001b[1;32m    204\u001b[0m \u001b[39m@unpack_zerodim_and_defer\u001b[39m(\u001b[39m\"\u001b[39m\u001b[39m__rmul__\u001b[39m\u001b[39m\"\u001b[39m)\n\u001b[1;32m    205\u001b[0m \u001b[39mdef\u001b[39;00m \u001b[39m__rmul__\u001b[39m(\u001b[39mself\u001b[39m, other):\n\u001b[0;32m--> 206\u001b[0m     \u001b[39mreturn\u001b[39;00m \u001b[39mself\u001b[39;49m\u001b[39m.\u001b[39;49m_arith_method(other, roperator\u001b[39m.\u001b[39;49mrmul)\n",
      "File \u001b[0;32m~/git/rocky/.env/lib/python3.11/site-packages/pandas/core/series.py:6112\u001b[0m, in \u001b[0;36mSeries._arith_method\u001b[0;34m(self, other, op)\u001b[0m\n\u001b[1;32m   6110\u001b[0m \u001b[39mdef\u001b[39;00m \u001b[39m_arith_method\u001b[39m(\u001b[39mself\u001b[39m, other, op):\n\u001b[1;32m   6111\u001b[0m     \u001b[39mself\u001b[39m, other \u001b[39m=\u001b[39m ops\u001b[39m.\u001b[39malign_method_SERIES(\u001b[39mself\u001b[39m, other)\n\u001b[0;32m-> 6112\u001b[0m     \u001b[39mreturn\u001b[39;00m base\u001b[39m.\u001b[39;49mIndexOpsMixin\u001b[39m.\u001b[39;49m_arith_method(\u001b[39mself\u001b[39;49m, other, op)\n",
      "File \u001b[0;32m~/git/rocky/.env/lib/python3.11/site-packages/pandas/core/base.py:1348\u001b[0m, in \u001b[0;36mIndexOpsMixin._arith_method\u001b[0;34m(self, other, op)\u001b[0m\n\u001b[1;32m   1345\u001b[0m rvalues \u001b[39m=\u001b[39m ensure_wrapped_if_datetimelike(rvalues)\n\u001b[1;32m   1347\u001b[0m \u001b[39mwith\u001b[39;00m np\u001b[39m.\u001b[39merrstate(\u001b[39mall\u001b[39m\u001b[39m=\u001b[39m\u001b[39m\"\u001b[39m\u001b[39mignore\u001b[39m\u001b[39m\"\u001b[39m):\n\u001b[0;32m-> 1348\u001b[0m     result \u001b[39m=\u001b[39m ops\u001b[39m.\u001b[39;49marithmetic_op(lvalues, rvalues, op)\n\u001b[1;32m   1350\u001b[0m \u001b[39mreturn\u001b[39;00m \u001b[39mself\u001b[39m\u001b[39m.\u001b[39m_construct_result(result, name\u001b[39m=\u001b[39mres_name)\n",
      "File \u001b[0;32m~/git/rocky/.env/lib/python3.11/site-packages/pandas/core/ops/array_ops.py:232\u001b[0m, in \u001b[0;36marithmetic_op\u001b[0;34m(left, right, op)\u001b[0m\n\u001b[1;32m    228\u001b[0m     _bool_arith_check(op, left, right)\n\u001b[1;32m    230\u001b[0m     \u001b[39m# error: Argument 1 to \"_na_arithmetic_op\" has incompatible type\u001b[39;00m\n\u001b[1;32m    231\u001b[0m     \u001b[39m# \"Union[ExtensionArray, ndarray[Any, Any]]\"; expected \"ndarray[Any, Any]\"\u001b[39;00m\n\u001b[0;32m--> 232\u001b[0m     res_values \u001b[39m=\u001b[39m _na_arithmetic_op(left, right, op)  \u001b[39m# type: ignore[arg-type]\u001b[39;00m\n\u001b[1;32m    234\u001b[0m \u001b[39mreturn\u001b[39;00m res_values\n",
      "File \u001b[0;32m~/git/rocky/.env/lib/python3.11/site-packages/pandas/core/ops/array_ops.py:171\u001b[0m, in \u001b[0;36m_na_arithmetic_op\u001b[0;34m(left, right, op, is_cmp)\u001b[0m\n\u001b[1;32m    168\u001b[0m     func \u001b[39m=\u001b[39m partial(expressions\u001b[39m.\u001b[39mevaluate, op)\n\u001b[1;32m    170\u001b[0m \u001b[39mtry\u001b[39;00m:\n\u001b[0;32m--> 171\u001b[0m     result \u001b[39m=\u001b[39m func(left, right)\n\u001b[1;32m    172\u001b[0m \u001b[39mexcept\u001b[39;00m \u001b[39mTypeError\u001b[39;00m:\n\u001b[1;32m    173\u001b[0m     \u001b[39mif\u001b[39;00m \u001b[39mnot\u001b[39;00m is_cmp \u001b[39mand\u001b[39;00m (is_object_dtype(left\u001b[39m.\u001b[39mdtype) \u001b[39mor\u001b[39;00m is_object_dtype(right)):\n\u001b[1;32m    174\u001b[0m         \u001b[39m# For object dtype, fallback to a masked operation (only operating\u001b[39;00m\n\u001b[1;32m    175\u001b[0m         \u001b[39m#  on the non-missing values)\u001b[39;00m\n\u001b[1;32m    176\u001b[0m         \u001b[39m# Don't do this for comparisons, as that will handle complex numbers\u001b[39;00m\n\u001b[1;32m    177\u001b[0m         \u001b[39m#  incorrectly, see GH#32047\u001b[39;00m\n",
      "File \u001b[0;32m~/git/rocky/.env/lib/python3.11/site-packages/pandas/core/computation/expressions.py:239\u001b[0m, in \u001b[0;36mevaluate\u001b[0;34m(op, a, b, use_numexpr)\u001b[0m\n\u001b[1;32m    236\u001b[0m \u001b[39mif\u001b[39;00m op_str \u001b[39mis\u001b[39;00m \u001b[39mnot\u001b[39;00m \u001b[39mNone\u001b[39;00m:\n\u001b[1;32m    237\u001b[0m     \u001b[39mif\u001b[39;00m use_numexpr:\n\u001b[1;32m    238\u001b[0m         \u001b[39m# error: \"None\" not callable\u001b[39;00m\n\u001b[0;32m--> 239\u001b[0m         \u001b[39mreturn\u001b[39;00m _evaluate(op, op_str, a, b)  \u001b[39m# type: ignore[misc]\u001b[39;00m\n\u001b[1;32m    240\u001b[0m \u001b[39mreturn\u001b[39;00m _evaluate_standard(op, op_str, a, b)\n",
      "File \u001b[0;32m~/git/rocky/.env/lib/python3.11/site-packages/pandas/core/computation/expressions.py:70\u001b[0m, in \u001b[0;36m_evaluate_standard\u001b[0;34m(op, op_str, a, b)\u001b[0m\n\u001b[1;32m     68\u001b[0m \u001b[39mif\u001b[39;00m _TEST_MODE:\n\u001b[1;32m     69\u001b[0m     _store_test_result(\u001b[39mFalse\u001b[39;00m)\n\u001b[0;32m---> 70\u001b[0m \u001b[39mreturn\u001b[39;00m op(a, b)\n",
      "File \u001b[0;32m~/git/rocky/.env/lib/python3.11/site-packages/pandas/core/roperator.py:19\u001b[0m, in \u001b[0;36mrmul\u001b[0;34m(left, right)\u001b[0m\n\u001b[1;32m     18\u001b[0m \u001b[39mdef\u001b[39;00m \u001b[39mrmul\u001b[39m(left, right):\n\u001b[0;32m---> 19\u001b[0m     \u001b[39mreturn\u001b[39;00m right \u001b[39m*\u001b[39;49m left\n",
      "\u001b[0;31mValueError\u001b[0m: operands could not be broadcast together with shapes (55,55) (46,) "
     ]
    }
   ],
   "source": [
    "r.icrfs._StandardError()"
   ]
  },
  {
   "cell_type": "code",
   "execution_count": null,
   "metadata": {},
   "outputs": [
    {
     "ename": "LinAlgError",
     "evalue": "1-dimensional array given. Array must be at least two-dimensional",
     "output_type": "error",
     "traceback": [
      "\u001b[0;31m---------------------------------------------------------------------------\u001b[0m",
      "\u001b[0;31mLinAlgError\u001b[0m                               Traceback (most recent call last)",
      "Cell \u001b[0;32mIn[20], line 1\u001b[0m\n\u001b[0;32m----> 1\u001b[0m r\u001b[39m.\u001b[39;49micrfs\u001b[39m.\u001b[39;49m_CalcHeteroAdj()\n",
      "File \u001b[0;32m~/git/rocky/rocky-app/./src/rocky/LogLinear.py:1324\u001b[0m, in \u001b[0;36mLogLinear._CalcHeteroAdj\u001b[0;34m(self)\u001b[0m\n\u001b[1;32m   1321\u001b[0m \u001b[39m# For calculating standardized residuals we need to restrict to data used\u001b[39;00m\n\u001b[1;32m   1322\u001b[0m \u001b[39m# to fit the model (this is already done by the GetX method)\u001b[39;00m\n\u001b[1;32m   1323\u001b[0m fit_dat \u001b[39m=\u001b[39m dat\u001b[39m.\u001b[39mcopy()\n\u001b[0;32m-> 1324\u001b[0m fit_dat[\u001b[39m\"\u001b[39m\u001b[39mresidStd\u001b[39m\u001b[39m\"\u001b[39m] \u001b[39m=\u001b[39m \u001b[39mself\u001b[39;49m\u001b[39m.\u001b[39;49m_StandardizedResiduals()\n\u001b[1;32m   1326\u001b[0m \u001b[39m# calculate variance of residuals over each group then format to data frame\u001b[39;00m\n\u001b[1;32m   1327\u001b[0m res_gps \u001b[39m=\u001b[39m fit_dat[[\u001b[39m\"\u001b[39m\u001b[39mDY\u001b[39m\u001b[39m\"\u001b[39m, \u001b[39m\"\u001b[39m\u001b[39mgp\u001b[39m\u001b[39m\"\u001b[39m, \u001b[39m\"\u001b[39m\u001b[39mresidStd\u001b[39m\u001b[39m\"\u001b[39m]]\n",
      "File \u001b[0;32m~/git/rocky/rocky-app/./src/rocky/LogLinear.py:1151\u001b[0m, in \u001b[0;36mLogLinear._StandardizedResiduals\u001b[0;34m(self)\u001b[0m\n\u001b[1;32m   1149\u001b[0m y \u001b[39m=\u001b[39m \u001b[39mself\u001b[39m\u001b[39m.\u001b[39mGetY(kind\u001b[39m=\u001b[39m\u001b[39m\"\u001b[39m\u001b[39mtrain\u001b[39m\u001b[39m\"\u001b[39m, log\u001b[39m=\u001b[39m\u001b[39mTrue\u001b[39;00m)\n\u001b[1;32m   1150\u001b[0m yhat \u001b[39m=\u001b[39m \u001b[39mself\u001b[39m\u001b[39m.\u001b[39mGetYhat(kind\u001b[39m=\u001b[39m\u001b[39m\"\u001b[39m\u001b[39mtrain\u001b[39m\u001b[39m\"\u001b[39m, log\u001b[39m=\u001b[39m\u001b[39mTrue\u001b[39;00m)\n\u001b[0;32m-> 1151\u001b[0m se \u001b[39m=\u001b[39m \u001b[39mself\u001b[39;49m\u001b[39m.\u001b[39;49m_StandardError()\n\u001b[1;32m   1153\u001b[0m act_fit \u001b[39m=\u001b[39m y \u001b[39m-\u001b[39m yhat\n\u001b[1;32m   1155\u001b[0m std_resid \u001b[39m=\u001b[39m act_fit \u001b[39m/\u001b[39m se\n",
      "File \u001b[0;32m~/git/rocky/rocky-app/./src/rocky/LogLinear.py:1119\u001b[0m, in \u001b[0;36mLogLinear._StandardError\u001b[0;34m(self, process_var_est)\u001b[0m\n\u001b[1;32m   1116\u001b[0m     \u001b[39mraise\u001b[39;00m \u001b[39mValueError\u001b[39;00m(\u001b[39m\"\u001b[39m\u001b[39mprocess_var_est must be \u001b[39m\u001b[39m'\u001b[39m\u001b[39mube\u001b[39m\u001b[39m'\u001b[39m\u001b[39m or \u001b[39m\u001b[39m'\u001b[39m\u001b[39mmle\u001b[39m\u001b[39m'\u001b[39m\u001b[39m\"\u001b[39m)\n\u001b[1;32m   1118\u001b[0m \u001b[39m# calculate the variance matrix\u001b[39;00m\n\u001b[0;32m-> 1119\u001b[0m varMatrix \u001b[39m=\u001b[39m (np\u001b[39m.\u001b[39;49mlinalg\u001b[39m.\u001b[39;49minv(W) \u001b[39m-\u001b[39m X \u001b[39m@\u001b[39m np\u001b[39m.\u001b[39mlinalg\u001b[39m.\u001b[39minv(X\u001b[39m.\u001b[39mT \u001b[39m@\u001b[39m W \u001b[39m@\u001b[39m X) \u001b[39m@\u001b[39m X\u001b[39m.\u001b[39mT) \u001b[39m*\u001b[39m V\n\u001b[1;32m   1121\u001b[0m \u001b[39m# return the standard errors\u001b[39;00m\n\u001b[1;32m   1122\u001b[0m se \u001b[39m=\u001b[39m np\u001b[39m.\u001b[39msqrt(np\u001b[39m.\u001b[39mabs(np\u001b[39m.\u001b[39mdiag(varMatrix)))\n",
      "File \u001b[0;32m~/git/rocky/.env/lib/python3.11/site-packages/numpy/linalg/linalg.py:555\u001b[0m, in \u001b[0;36minv\u001b[0;34m(a)\u001b[0m\n\u001b[1;32m    494\u001b[0m \u001b[39m\u001b[39m\u001b[39m\"\"\"\u001b[39;00m\n\u001b[1;32m    495\u001b[0m \u001b[39mCompute the (multiplicative) inverse of a matrix.\u001b[39;00m\n\u001b[1;32m    496\u001b[0m \n\u001b[0;32m   (...)\u001b[0m\n\u001b[1;32m    552\u001b[0m \n\u001b[1;32m    553\u001b[0m \u001b[39m\"\"\"\u001b[39;00m\n\u001b[1;32m    554\u001b[0m a, wrap \u001b[39m=\u001b[39m _makearray(a)\n\u001b[0;32m--> 555\u001b[0m _assert_stacked_2d(a)\n\u001b[1;32m    556\u001b[0m _assert_stacked_square(a)\n\u001b[1;32m    557\u001b[0m t, result_t \u001b[39m=\u001b[39m _commonType(a)\n",
      "File \u001b[0;32m~/git/rocky/.env/lib/python3.11/site-packages/numpy/linalg/linalg.py:206\u001b[0m, in \u001b[0;36m_assert_stacked_2d\u001b[0;34m(*arrays)\u001b[0m\n\u001b[1;32m    204\u001b[0m \u001b[39mfor\u001b[39;00m a \u001b[39min\u001b[39;00m arrays:\n\u001b[1;32m    205\u001b[0m     \u001b[39mif\u001b[39;00m a\u001b[39m.\u001b[39mndim \u001b[39m<\u001b[39m \u001b[39m2\u001b[39m:\n\u001b[0;32m--> 206\u001b[0m         \u001b[39mraise\u001b[39;00m LinAlgError(\u001b[39m'\u001b[39m\u001b[39m%d\u001b[39;00m\u001b[39m-dimensional array given. Array must be \u001b[39m\u001b[39m'\u001b[39m\n\u001b[1;32m    207\u001b[0m                 \u001b[39m'\u001b[39m\u001b[39mat least two-dimensional\u001b[39m\u001b[39m'\u001b[39m \u001b[39m%\u001b[39m a\u001b[39m.\u001b[39mndim)\n",
      "\u001b[0;31mLinAlgError\u001b[0m: 1-dimensional array given. Array must be at least two-dimensional"
     ]
    }
   ],
   "source": [
    "r.icrfs._CalcHeteroAdj()"
   ]
  },
  {
   "cell_type": "code",
   "execution_count": null,
   "metadata": {},
   "outputs": [
    {
     "data": {
      "text/plain": [
       "0     1.950833\n",
       "1     1.486848\n",
       "2     2.603014\n",
       "3     3.439503\n",
       "4     4.058836\n",
       "5     4.497487\n",
       "6     4.784502\n",
       "7     4.943370\n",
       "8     4.999521\n",
       "9     4.999521\n",
       "10    1.486848\n",
       "11    2.579745\n",
       "12    3.367121\n",
       "13    3.911446\n",
       "14    4.279903\n",
       "15    4.514840\n",
       "16    4.641136\n",
       "17    4.684375\n",
       "18    4.684375\n",
       "Name: param, dtype: float64"
      ]
     },
     "execution_count": 39,
     "metadata": {},
     "output_type": "execute_result"
    }
   ],
   "source": [
    "para = r.icrfs.GetParameters().groupby('param_type')['param'].cumsum()\n",
    "para\n",
    "\n",
    "# model.feature_names_in_"
   ]
  },
  {
   "cell_type": "code",
   "execution_count": null,
   "metadata": {},
   "outputs": [
    {
     "data": {
      "application/vnd.plotly.v1+json": {
       "config": {
        "plotlyServerURL": "https://plot.ly"
       },
       "data": [
        {
         "alignmentgroup": "True",
         "bingroup": "x",
         "hovertemplate": "variable=0<br>value=%{x}<br>count=%{y}<extra></extra>",
         "legendgroup": "0",
         "marker": {
          "color": "#636efa",
          "pattern": {
           "shape": ""
          }
         },
         "name": "0",
         "offsetgroup": "0",
         "orientation": "v",
         "showlegend": true,
         "type": "histogram",
         "x": [
          0,
          0,
          0,
          0,
          0,
          0,
          0,
          0,
          0,
          0,
          0,
          0,
          0,
          0,
          0,
          0,
          0,
          0,
          0,
          0,
          0,
          0,
          0,
          0,
          0,
          0,
          0,
          0,
          0,
          0,
          0,
          0,
          0,
          0,
          0,
          0,
          0,
          0,
          0,
          0,
          0,
          0,
          0,
          0,
          0,
          0,
          0,
          0,
          0,
          0,
          0,
          0,
          0,
          0,
          0,
          0,
          0,
          0,
          0,
          0,
          0,
          0,
          0,
          0,
          0,
          0
         ],
         "xaxis": "x",
         "yaxis": "y"
        }
       ],
       "layout": {
        "barmode": "relative",
        "legend": {
         "title": {
          "text": "variable"
         },
         "tracegroupgap": 0
        },
        "margin": {
         "t": 60
        },
        "template": {
         "data": {
          "bar": [
           {
            "error_x": {
             "color": "#2a3f5f"
            },
            "error_y": {
             "color": "#2a3f5f"
            },
            "marker": {
             "line": {
              "color": "#E5ECF6",
              "width": 0.5
             },
             "pattern": {
              "fillmode": "overlay",
              "size": 10,
              "solidity": 0.2
             }
            },
            "type": "bar"
           }
          ],
          "barpolar": [
           {
            "marker": {
             "line": {
              "color": "#E5ECF6",
              "width": 0.5
             },
             "pattern": {
              "fillmode": "overlay",
              "size": 10,
              "solidity": 0.2
             }
            },
            "type": "barpolar"
           }
          ],
          "carpet": [
           {
            "aaxis": {
             "endlinecolor": "#2a3f5f",
             "gridcolor": "white",
             "linecolor": "white",
             "minorgridcolor": "white",
             "startlinecolor": "#2a3f5f"
            },
            "baxis": {
             "endlinecolor": "#2a3f5f",
             "gridcolor": "white",
             "linecolor": "white",
             "minorgridcolor": "white",
             "startlinecolor": "#2a3f5f"
            },
            "type": "carpet"
           }
          ],
          "choropleth": [
           {
            "colorbar": {
             "outlinewidth": 0,
             "ticks": ""
            },
            "type": "choropleth"
           }
          ],
          "contour": [
           {
            "colorbar": {
             "outlinewidth": 0,
             "ticks": ""
            },
            "colorscale": [
             [
              0,
              "#0d0887"
             ],
             [
              0.1111111111111111,
              "#46039f"
             ],
             [
              0.2222222222222222,
              "#7201a8"
             ],
             [
              0.3333333333333333,
              "#9c179e"
             ],
             [
              0.4444444444444444,
              "#bd3786"
             ],
             [
              0.5555555555555556,
              "#d8576b"
             ],
             [
              0.6666666666666666,
              "#ed7953"
             ],
             [
              0.7777777777777778,
              "#fb9f3a"
             ],
             [
              0.8888888888888888,
              "#fdca26"
             ],
             [
              1,
              "#f0f921"
             ]
            ],
            "type": "contour"
           }
          ],
          "contourcarpet": [
           {
            "colorbar": {
             "outlinewidth": 0,
             "ticks": ""
            },
            "type": "contourcarpet"
           }
          ],
          "heatmap": [
           {
            "colorbar": {
             "outlinewidth": 0,
             "ticks": ""
            },
            "colorscale": [
             [
              0,
              "#0d0887"
             ],
             [
              0.1111111111111111,
              "#46039f"
             ],
             [
              0.2222222222222222,
              "#7201a8"
             ],
             [
              0.3333333333333333,
              "#9c179e"
             ],
             [
              0.4444444444444444,
              "#bd3786"
             ],
             [
              0.5555555555555556,
              "#d8576b"
             ],
             [
              0.6666666666666666,
              "#ed7953"
             ],
             [
              0.7777777777777778,
              "#fb9f3a"
             ],
             [
              0.8888888888888888,
              "#fdca26"
             ],
             [
              1,
              "#f0f921"
             ]
            ],
            "type": "heatmap"
           }
          ],
          "heatmapgl": [
           {
            "colorbar": {
             "outlinewidth": 0,
             "ticks": ""
            },
            "colorscale": [
             [
              0,
              "#0d0887"
             ],
             [
              0.1111111111111111,
              "#46039f"
             ],
             [
              0.2222222222222222,
              "#7201a8"
             ],
             [
              0.3333333333333333,
              "#9c179e"
             ],
             [
              0.4444444444444444,
              "#bd3786"
             ],
             [
              0.5555555555555556,
              "#d8576b"
             ],
             [
              0.6666666666666666,
              "#ed7953"
             ],
             [
              0.7777777777777778,
              "#fb9f3a"
             ],
             [
              0.8888888888888888,
              "#fdca26"
             ],
             [
              1,
              "#f0f921"
             ]
            ],
            "type": "heatmapgl"
           }
          ],
          "histogram": [
           {
            "marker": {
             "pattern": {
              "fillmode": "overlay",
              "size": 10,
              "solidity": 0.2
             }
            },
            "type": "histogram"
           }
          ],
          "histogram2d": [
           {
            "colorbar": {
             "outlinewidth": 0,
             "ticks": ""
            },
            "colorscale": [
             [
              0,
              "#0d0887"
             ],
             [
              0.1111111111111111,
              "#46039f"
             ],
             [
              0.2222222222222222,
              "#7201a8"
             ],
             [
              0.3333333333333333,
              "#9c179e"
             ],
             [
              0.4444444444444444,
              "#bd3786"
             ],
             [
              0.5555555555555556,
              "#d8576b"
             ],
             [
              0.6666666666666666,
              "#ed7953"
             ],
             [
              0.7777777777777778,
              "#fb9f3a"
             ],
             [
              0.8888888888888888,
              "#fdca26"
             ],
             [
              1,
              "#f0f921"
             ]
            ],
            "type": "histogram2d"
           }
          ],
          "histogram2dcontour": [
           {
            "colorbar": {
             "outlinewidth": 0,
             "ticks": ""
            },
            "colorscale": [
             [
              0,
              "#0d0887"
             ],
             [
              0.1111111111111111,
              "#46039f"
             ],
             [
              0.2222222222222222,
              "#7201a8"
             ],
             [
              0.3333333333333333,
              "#9c179e"
             ],
             [
              0.4444444444444444,
              "#bd3786"
             ],
             [
              0.5555555555555556,
              "#d8576b"
             ],
             [
              0.6666666666666666,
              "#ed7953"
             ],
             [
              0.7777777777777778,
              "#fb9f3a"
             ],
             [
              0.8888888888888888,
              "#fdca26"
             ],
             [
              1,
              "#f0f921"
             ]
            ],
            "type": "histogram2dcontour"
           }
          ],
          "mesh3d": [
           {
            "colorbar": {
             "outlinewidth": 0,
             "ticks": ""
            },
            "type": "mesh3d"
           }
          ],
          "parcoords": [
           {
            "line": {
             "colorbar": {
              "outlinewidth": 0,
              "ticks": ""
             }
            },
            "type": "parcoords"
           }
          ],
          "pie": [
           {
            "automargin": true,
            "type": "pie"
           }
          ],
          "scatter": [
           {
            "fillpattern": {
             "fillmode": "overlay",
             "size": 10,
             "solidity": 0.2
            },
            "type": "scatter"
           }
          ],
          "scatter3d": [
           {
            "line": {
             "colorbar": {
              "outlinewidth": 0,
              "ticks": ""
             }
            },
            "marker": {
             "colorbar": {
              "outlinewidth": 0,
              "ticks": ""
             }
            },
            "type": "scatter3d"
           }
          ],
          "scattercarpet": [
           {
            "marker": {
             "colorbar": {
              "outlinewidth": 0,
              "ticks": ""
             }
            },
            "type": "scattercarpet"
           }
          ],
          "scattergeo": [
           {
            "marker": {
             "colorbar": {
              "outlinewidth": 0,
              "ticks": ""
             }
            },
            "type": "scattergeo"
           }
          ],
          "scattergl": [
           {
            "marker": {
             "colorbar": {
              "outlinewidth": 0,
              "ticks": ""
             }
            },
            "type": "scattergl"
           }
          ],
          "scattermapbox": [
           {
            "marker": {
             "colorbar": {
              "outlinewidth": 0,
              "ticks": ""
             }
            },
            "type": "scattermapbox"
           }
          ],
          "scatterpolar": [
           {
            "marker": {
             "colorbar": {
              "outlinewidth": 0,
              "ticks": ""
             }
            },
            "type": "scatterpolar"
           }
          ],
          "scatterpolargl": [
           {
            "marker": {
             "colorbar": {
              "outlinewidth": 0,
              "ticks": ""
             }
            },
            "type": "scatterpolargl"
           }
          ],
          "scatterternary": [
           {
            "marker": {
             "colorbar": {
              "outlinewidth": 0,
              "ticks": ""
             }
            },
            "type": "scatterternary"
           }
          ],
          "surface": [
           {
            "colorbar": {
             "outlinewidth": 0,
             "ticks": ""
            },
            "colorscale": [
             [
              0,
              "#0d0887"
             ],
             [
              0.1111111111111111,
              "#46039f"
             ],
             [
              0.2222222222222222,
              "#7201a8"
             ],
             [
              0.3333333333333333,
              "#9c179e"
             ],
             [
              0.4444444444444444,
              "#bd3786"
             ],
             [
              0.5555555555555556,
              "#d8576b"
             ],
             [
              0.6666666666666666,
              "#ed7953"
             ],
             [
              0.7777777777777778,
              "#fb9f3a"
             ],
             [
              0.8888888888888888,
              "#fdca26"
             ],
             [
              1,
              "#f0f921"
             ]
            ],
            "type": "surface"
           }
          ],
          "table": [
           {
            "cells": {
             "fill": {
              "color": "#EBF0F8"
             },
             "line": {
              "color": "white"
             }
            },
            "header": {
             "fill": {
              "color": "#C8D4E3"
             },
             "line": {
              "color": "white"
             }
            },
            "type": "table"
           }
          ]
         },
         "layout": {
          "annotationdefaults": {
           "arrowcolor": "#2a3f5f",
           "arrowhead": 0,
           "arrowwidth": 1
          },
          "autotypenumbers": "strict",
          "coloraxis": {
           "colorbar": {
            "outlinewidth": 0,
            "ticks": ""
           }
          },
          "colorscale": {
           "diverging": [
            [
             0,
             "#8e0152"
            ],
            [
             0.1,
             "#c51b7d"
            ],
            [
             0.2,
             "#de77ae"
            ],
            [
             0.3,
             "#f1b6da"
            ],
            [
             0.4,
             "#fde0ef"
            ],
            [
             0.5,
             "#f7f7f7"
            ],
            [
             0.6,
             "#e6f5d0"
            ],
            [
             0.7,
             "#b8e186"
            ],
            [
             0.8,
             "#7fbc41"
            ],
            [
             0.9,
             "#4d9221"
            ],
            [
             1,
             "#276419"
            ]
           ],
           "sequential": [
            [
             0,
             "#0d0887"
            ],
            [
             0.1111111111111111,
             "#46039f"
            ],
            [
             0.2222222222222222,
             "#7201a8"
            ],
            [
             0.3333333333333333,
             "#9c179e"
            ],
            [
             0.4444444444444444,
             "#bd3786"
            ],
            [
             0.5555555555555556,
             "#d8576b"
            ],
            [
             0.6666666666666666,
             "#ed7953"
            ],
            [
             0.7777777777777778,
             "#fb9f3a"
            ],
            [
             0.8888888888888888,
             "#fdca26"
            ],
            [
             1,
             "#f0f921"
            ]
           ],
           "sequentialminus": [
            [
             0,
             "#0d0887"
            ],
            [
             0.1111111111111111,
             "#46039f"
            ],
            [
             0.2222222222222222,
             "#7201a8"
            ],
            [
             0.3333333333333333,
             "#9c179e"
            ],
            [
             0.4444444444444444,
             "#bd3786"
            ],
            [
             0.5555555555555556,
             "#d8576b"
            ],
            [
             0.6666666666666666,
             "#ed7953"
            ],
            [
             0.7777777777777778,
             "#fb9f3a"
            ],
            [
             0.8888888888888888,
             "#fdca26"
            ],
            [
             1,
             "#f0f921"
            ]
           ]
          },
          "colorway": [
           "#636efa",
           "#EF553B",
           "#00cc96",
           "#ab63fa",
           "#FFA15A",
           "#19d3f3",
           "#FF6692",
           "#B6E880",
           "#FF97FF",
           "#FECB52"
          ],
          "font": {
           "color": "#2a3f5f"
          },
          "geo": {
           "bgcolor": "white",
           "lakecolor": "white",
           "landcolor": "#E5ECF6",
           "showlakes": true,
           "showland": true,
           "subunitcolor": "white"
          },
          "hoverlabel": {
           "align": "left"
          },
          "hovermode": "closest",
          "mapbox": {
           "style": "light"
          },
          "paper_bgcolor": "white",
          "plot_bgcolor": "#E5ECF6",
          "polar": {
           "angularaxis": {
            "gridcolor": "white",
            "linecolor": "white",
            "ticks": ""
           },
           "bgcolor": "#E5ECF6",
           "radialaxis": {
            "gridcolor": "white",
            "linecolor": "white",
            "ticks": ""
           }
          },
          "scene": {
           "xaxis": {
            "backgroundcolor": "#E5ECF6",
            "gridcolor": "white",
            "gridwidth": 2,
            "linecolor": "white",
            "showbackground": true,
            "ticks": "",
            "zerolinecolor": "white"
           },
           "yaxis": {
            "backgroundcolor": "#E5ECF6",
            "gridcolor": "white",
            "gridwidth": 2,
            "linecolor": "white",
            "showbackground": true,
            "ticks": "",
            "zerolinecolor": "white"
           },
           "zaxis": {
            "backgroundcolor": "#E5ECF6",
            "gridcolor": "white",
            "gridwidth": 2,
            "linecolor": "white",
            "showbackground": true,
            "ticks": "",
            "zerolinecolor": "white"
           }
          },
          "shapedefaults": {
           "line": {
            "color": "#2a3f5f"
           }
          },
          "ternary": {
           "aaxis": {
            "gridcolor": "white",
            "linecolor": "white",
            "ticks": ""
           },
           "baxis": {
            "gridcolor": "white",
            "linecolor": "white",
            "ticks": ""
           },
           "bgcolor": "#E5ECF6",
           "caxis": {
            "gridcolor": "white",
            "linecolor": "white",
            "ticks": ""
           }
          },
          "title": {
           "x": 0.05
          },
          "xaxis": {
           "automargin": true,
           "gridcolor": "white",
           "linecolor": "white",
           "ticks": "",
           "title": {
            "standoff": 15
           },
           "zerolinecolor": "white",
           "zerolinewidth": 2
          },
          "yaxis": {
           "automargin": true,
           "gridcolor": "white",
           "linecolor": "white",
           "ticks": "",
           "title": {
            "standoff": 15
           },
           "zerolinecolor": "white",
           "zerolinewidth": 2
          }
         }
        },
        "xaxis": {
         "anchor": "y",
         "domain": [
          0,
          1
         ],
         "title": {
          "text": "value"
         }
        },
        "yaxis": {
         "anchor": "x",
         "domain": [
          0,
          1
         ],
         "title": {
          "text": "count"
         }
        }
       }
      },
      "text/html": [
       "<div>                            <div id=\"abc24292-c5c4-4091-9424-aed5c478aae6\" class=\"plotly-graph-div\" style=\"height:525px; width:100%;\"></div>            <script type=\"text/javascript\">                require([\"plotly\"], function(Plotly) {                    window.PLOTLYENV=window.PLOTLYENV || {};                                    if (document.getElementById(\"abc24292-c5c4-4091-9424-aed5c478aae6\")) {                    Plotly.newPlot(                        \"abc24292-c5c4-4091-9424-aed5c478aae6\",                        [{\"alignmentgroup\":\"True\",\"bingroup\":\"x\",\"hovertemplate\":\"variable=0\\u003cbr\\u003evalue=%{x}\\u003cbr\\u003ecount=%{y}\\u003cextra\\u003e\\u003c\\u002fextra\\u003e\",\"legendgroup\":\"0\",\"marker\":{\"color\":\"#636efa\",\"pattern\":{\"shape\":\"\"}},\"name\":\"0\",\"offsetgroup\":\"0\",\"orientation\":\"v\",\"showlegend\":true,\"x\":[0.0,0.0,0.0,0.0,0.0,0.0,0.0,0.0,0.0,0.0,0.0,0.0,0.0,0.0,0.0,0.0,0.0,0.0,0.0,0.0,0.0,0.0,0.0,0.0,0.0,0.0,0.0,0.0,0.0,0.0,0.0,0.0,0.0,0.0,0.0,0.0,0.0,0.0,0.0,0.0,0.0,0.0,0.0,0.0,0.0,0.0,0.0,0.0,0.0,0.0,0.0,0.0,0.0,0.0,0.0,0.0,0.0,0.0,0.0,0.0,0.0,0.0,0.0,0.0,0.0,0.0],\"xaxis\":\"x\",\"yaxis\":\"y\",\"type\":\"histogram\"}],                        {\"template\":{\"data\":{\"histogram2dcontour\":[{\"type\":\"histogram2dcontour\",\"colorbar\":{\"outlinewidth\":0,\"ticks\":\"\"},\"colorscale\":[[0.0,\"#0d0887\"],[0.1111111111111111,\"#46039f\"],[0.2222222222222222,\"#7201a8\"],[0.3333333333333333,\"#9c179e\"],[0.4444444444444444,\"#bd3786\"],[0.5555555555555556,\"#d8576b\"],[0.6666666666666666,\"#ed7953\"],[0.7777777777777778,\"#fb9f3a\"],[0.8888888888888888,\"#fdca26\"],[1.0,\"#f0f921\"]]}],\"choropleth\":[{\"type\":\"choropleth\",\"colorbar\":{\"outlinewidth\":0,\"ticks\":\"\"}}],\"histogram2d\":[{\"type\":\"histogram2d\",\"colorbar\":{\"outlinewidth\":0,\"ticks\":\"\"},\"colorscale\":[[0.0,\"#0d0887\"],[0.1111111111111111,\"#46039f\"],[0.2222222222222222,\"#7201a8\"],[0.3333333333333333,\"#9c179e\"],[0.4444444444444444,\"#bd3786\"],[0.5555555555555556,\"#d8576b\"],[0.6666666666666666,\"#ed7953\"],[0.7777777777777778,\"#fb9f3a\"],[0.8888888888888888,\"#fdca26\"],[1.0,\"#f0f921\"]]}],\"heatmap\":[{\"type\":\"heatmap\",\"colorbar\":{\"outlinewidth\":0,\"ticks\":\"\"},\"colorscale\":[[0.0,\"#0d0887\"],[0.1111111111111111,\"#46039f\"],[0.2222222222222222,\"#7201a8\"],[0.3333333333333333,\"#9c179e\"],[0.4444444444444444,\"#bd3786\"],[0.5555555555555556,\"#d8576b\"],[0.6666666666666666,\"#ed7953\"],[0.7777777777777778,\"#fb9f3a\"],[0.8888888888888888,\"#fdca26\"],[1.0,\"#f0f921\"]]}],\"heatmapgl\":[{\"type\":\"heatmapgl\",\"colorbar\":{\"outlinewidth\":0,\"ticks\":\"\"},\"colorscale\":[[0.0,\"#0d0887\"],[0.1111111111111111,\"#46039f\"],[0.2222222222222222,\"#7201a8\"],[0.3333333333333333,\"#9c179e\"],[0.4444444444444444,\"#bd3786\"],[0.5555555555555556,\"#d8576b\"],[0.6666666666666666,\"#ed7953\"],[0.7777777777777778,\"#fb9f3a\"],[0.8888888888888888,\"#fdca26\"],[1.0,\"#f0f921\"]]}],\"contourcarpet\":[{\"type\":\"contourcarpet\",\"colorbar\":{\"outlinewidth\":0,\"ticks\":\"\"}}],\"contour\":[{\"type\":\"contour\",\"colorbar\":{\"outlinewidth\":0,\"ticks\":\"\"},\"colorscale\":[[0.0,\"#0d0887\"],[0.1111111111111111,\"#46039f\"],[0.2222222222222222,\"#7201a8\"],[0.3333333333333333,\"#9c179e\"],[0.4444444444444444,\"#bd3786\"],[0.5555555555555556,\"#d8576b\"],[0.6666666666666666,\"#ed7953\"],[0.7777777777777778,\"#fb9f3a\"],[0.8888888888888888,\"#fdca26\"],[1.0,\"#f0f921\"]]}],\"surface\":[{\"type\":\"surface\",\"colorbar\":{\"outlinewidth\":0,\"ticks\":\"\"},\"colorscale\":[[0.0,\"#0d0887\"],[0.1111111111111111,\"#46039f\"],[0.2222222222222222,\"#7201a8\"],[0.3333333333333333,\"#9c179e\"],[0.4444444444444444,\"#bd3786\"],[0.5555555555555556,\"#d8576b\"],[0.6666666666666666,\"#ed7953\"],[0.7777777777777778,\"#fb9f3a\"],[0.8888888888888888,\"#fdca26\"],[1.0,\"#f0f921\"]]}],\"mesh3d\":[{\"type\":\"mesh3d\",\"colorbar\":{\"outlinewidth\":0,\"ticks\":\"\"}}],\"scatter\":[{\"fillpattern\":{\"fillmode\":\"overlay\",\"size\":10,\"solidity\":0.2},\"type\":\"scatter\"}],\"parcoords\":[{\"type\":\"parcoords\",\"line\":{\"colorbar\":{\"outlinewidth\":0,\"ticks\":\"\"}}}],\"scatterpolargl\":[{\"type\":\"scatterpolargl\",\"marker\":{\"colorbar\":{\"outlinewidth\":0,\"ticks\":\"\"}}}],\"bar\":[{\"error_x\":{\"color\":\"#2a3f5f\"},\"error_y\":{\"color\":\"#2a3f5f\"},\"marker\":{\"line\":{\"color\":\"#E5ECF6\",\"width\":0.5},\"pattern\":{\"fillmode\":\"overlay\",\"size\":10,\"solidity\":0.2}},\"type\":\"bar\"}],\"scattergeo\":[{\"type\":\"scattergeo\",\"marker\":{\"colorbar\":{\"outlinewidth\":0,\"ticks\":\"\"}}}],\"scatterpolar\":[{\"type\":\"scatterpolar\",\"marker\":{\"colorbar\":{\"outlinewidth\":0,\"ticks\":\"\"}}}],\"histogram\":[{\"marker\":{\"pattern\":{\"fillmode\":\"overlay\",\"size\":10,\"solidity\":0.2}},\"type\":\"histogram\"}],\"scattergl\":[{\"type\":\"scattergl\",\"marker\":{\"colorbar\":{\"outlinewidth\":0,\"ticks\":\"\"}}}],\"scatter3d\":[{\"type\":\"scatter3d\",\"line\":{\"colorbar\":{\"outlinewidth\":0,\"ticks\":\"\"}},\"marker\":{\"colorbar\":{\"outlinewidth\":0,\"ticks\":\"\"}}}],\"scattermapbox\":[{\"type\":\"scattermapbox\",\"marker\":{\"colorbar\":{\"outlinewidth\":0,\"ticks\":\"\"}}}],\"scatterternary\":[{\"type\":\"scatterternary\",\"marker\":{\"colorbar\":{\"outlinewidth\":0,\"ticks\":\"\"}}}],\"scattercarpet\":[{\"type\":\"scattercarpet\",\"marker\":{\"colorbar\":{\"outlinewidth\":0,\"ticks\":\"\"}}}],\"carpet\":[{\"aaxis\":{\"endlinecolor\":\"#2a3f5f\",\"gridcolor\":\"white\",\"linecolor\":\"white\",\"minorgridcolor\":\"white\",\"startlinecolor\":\"#2a3f5f\"},\"baxis\":{\"endlinecolor\":\"#2a3f5f\",\"gridcolor\":\"white\",\"linecolor\":\"white\",\"minorgridcolor\":\"white\",\"startlinecolor\":\"#2a3f5f\"},\"type\":\"carpet\"}],\"table\":[{\"cells\":{\"fill\":{\"color\":\"#EBF0F8\"},\"line\":{\"color\":\"white\"}},\"header\":{\"fill\":{\"color\":\"#C8D4E3\"},\"line\":{\"color\":\"white\"}},\"type\":\"table\"}],\"barpolar\":[{\"marker\":{\"line\":{\"color\":\"#E5ECF6\",\"width\":0.5},\"pattern\":{\"fillmode\":\"overlay\",\"size\":10,\"solidity\":0.2}},\"type\":\"barpolar\"}],\"pie\":[{\"automargin\":true,\"type\":\"pie\"}]},\"layout\":{\"autotypenumbers\":\"strict\",\"colorway\":[\"#636efa\",\"#EF553B\",\"#00cc96\",\"#ab63fa\",\"#FFA15A\",\"#19d3f3\",\"#FF6692\",\"#B6E880\",\"#FF97FF\",\"#FECB52\"],\"font\":{\"color\":\"#2a3f5f\"},\"hovermode\":\"closest\",\"hoverlabel\":{\"align\":\"left\"},\"paper_bgcolor\":\"white\",\"plot_bgcolor\":\"#E5ECF6\",\"polar\":{\"bgcolor\":\"#E5ECF6\",\"angularaxis\":{\"gridcolor\":\"white\",\"linecolor\":\"white\",\"ticks\":\"\"},\"radialaxis\":{\"gridcolor\":\"white\",\"linecolor\":\"white\",\"ticks\":\"\"}},\"ternary\":{\"bgcolor\":\"#E5ECF6\",\"aaxis\":{\"gridcolor\":\"white\",\"linecolor\":\"white\",\"ticks\":\"\"},\"baxis\":{\"gridcolor\":\"white\",\"linecolor\":\"white\",\"ticks\":\"\"},\"caxis\":{\"gridcolor\":\"white\",\"linecolor\":\"white\",\"ticks\":\"\"}},\"coloraxis\":{\"colorbar\":{\"outlinewidth\":0,\"ticks\":\"\"}},\"colorscale\":{\"sequential\":[[0.0,\"#0d0887\"],[0.1111111111111111,\"#46039f\"],[0.2222222222222222,\"#7201a8\"],[0.3333333333333333,\"#9c179e\"],[0.4444444444444444,\"#bd3786\"],[0.5555555555555556,\"#d8576b\"],[0.6666666666666666,\"#ed7953\"],[0.7777777777777778,\"#fb9f3a\"],[0.8888888888888888,\"#fdca26\"],[1.0,\"#f0f921\"]],\"sequentialminus\":[[0.0,\"#0d0887\"],[0.1111111111111111,\"#46039f\"],[0.2222222222222222,\"#7201a8\"],[0.3333333333333333,\"#9c179e\"],[0.4444444444444444,\"#bd3786\"],[0.5555555555555556,\"#d8576b\"],[0.6666666666666666,\"#ed7953\"],[0.7777777777777778,\"#fb9f3a\"],[0.8888888888888888,\"#fdca26\"],[1.0,\"#f0f921\"]],\"diverging\":[[0,\"#8e0152\"],[0.1,\"#c51b7d\"],[0.2,\"#de77ae\"],[0.3,\"#f1b6da\"],[0.4,\"#fde0ef\"],[0.5,\"#f7f7f7\"],[0.6,\"#e6f5d0\"],[0.7,\"#b8e186\"],[0.8,\"#7fbc41\"],[0.9,\"#4d9221\"],[1,\"#276419\"]]},\"xaxis\":{\"gridcolor\":\"white\",\"linecolor\":\"white\",\"ticks\":\"\",\"title\":{\"standoff\":15},\"zerolinecolor\":\"white\",\"automargin\":true,\"zerolinewidth\":2},\"yaxis\":{\"gridcolor\":\"white\",\"linecolor\":\"white\",\"ticks\":\"\",\"title\":{\"standoff\":15},\"zerolinecolor\":\"white\",\"automargin\":true,\"zerolinewidth\":2},\"scene\":{\"xaxis\":{\"backgroundcolor\":\"#E5ECF6\",\"gridcolor\":\"white\",\"linecolor\":\"white\",\"showbackground\":true,\"ticks\":\"\",\"zerolinecolor\":\"white\",\"gridwidth\":2},\"yaxis\":{\"backgroundcolor\":\"#E5ECF6\",\"gridcolor\":\"white\",\"linecolor\":\"white\",\"showbackground\":true,\"ticks\":\"\",\"zerolinecolor\":\"white\",\"gridwidth\":2},\"zaxis\":{\"backgroundcolor\":\"#E5ECF6\",\"gridcolor\":\"white\",\"linecolor\":\"white\",\"showbackground\":true,\"ticks\":\"\",\"zerolinecolor\":\"white\",\"gridwidth\":2}},\"shapedefaults\":{\"line\":{\"color\":\"#2a3f5f\"}},\"annotationdefaults\":{\"arrowcolor\":\"#2a3f5f\",\"arrowhead\":0,\"arrowwidth\":1},\"geo\":{\"bgcolor\":\"white\",\"landcolor\":\"#E5ECF6\",\"subunitcolor\":\"white\",\"showland\":true,\"showlakes\":true,\"lakecolor\":\"white\"},\"title\":{\"x\":0.05},\"mapbox\":{\"style\":\"light\"}}},\"xaxis\":{\"anchor\":\"y\",\"domain\":[0.0,1.0],\"title\":{\"text\":\"value\"}},\"yaxis\":{\"anchor\":\"x\",\"domain\":[0.0,1.0],\"title\":{\"text\":\"count\"}},\"legend\":{\"title\":{\"text\":\"variable\"},\"tracegroupgap\":0},\"margin\":{\"t\":60},\"barmode\":\"relative\"},                        {\"responsive\": true}                    ).then(function(){\n",
       "                            \n",
       "var gd = document.getElementById('abc24292-c5c4-4091-9424-aed5c478aae6');\n",
       "var x = new MutationObserver(function (mutations, observer) {{\n",
       "        var display = window.getComputedStyle(gd).display;\n",
       "        if (!display || display === 'none') {{\n",
       "            console.log([gd, 'removed!']);\n",
       "            Plotly.purge(gd);\n",
       "            observer.disconnect();\n",
       "        }}\n",
       "}});\n",
       "\n",
       "// Listen for the removal of the full notebook cells\n",
       "var notebookContainer = gd.closest('#notebook-container');\n",
       "if (notebookContainer) {{\n",
       "    x.observe(notebookContainer, {childList: true});\n",
       "}}\n",
       "\n",
       "// Listen for the clearing of the current output cell\n",
       "var outputEl = gd.closest('.output');\n",
       "if (outputEl) {{\n",
       "    x.observe(outputEl, {childList: true});\n",
       "}}\n",
       "\n",
       "                        })                };                });            </script>        </div>"
      ]
     },
     "metadata": {},
     "output_type": "display_data"
    }
   ],
   "source": [
    "r.icrfs._ProcessVarUBE().hist()"
   ]
  },
  {
   "cell_type": "code",
   "execution_count": null,
   "metadata": {},
   "outputs": [
    {
     "data": {
      "text/html": [
       "<style>#sk-container-id-1 {color: black;}#sk-container-id-1 pre{padding: 0;}#sk-container-id-1 div.sk-toggleable {background-color: white;}#sk-container-id-1 label.sk-toggleable__label {cursor: pointer;display: block;width: 100%;margin-bottom: 0;padding: 0.3em;box-sizing: border-box;text-align: center;}#sk-container-id-1 label.sk-toggleable__label-arrow:before {content: \"▸\";float: left;margin-right: 0.25em;color: #696969;}#sk-container-id-1 label.sk-toggleable__label-arrow:hover:before {color: black;}#sk-container-id-1 div.sk-estimator:hover label.sk-toggleable__label-arrow:before {color: black;}#sk-container-id-1 div.sk-toggleable__content {max-height: 0;max-width: 0;overflow: hidden;text-align: left;background-color: #f0f8ff;}#sk-container-id-1 div.sk-toggleable__content pre {margin: 0.2em;color: black;border-radius: 0.25em;background-color: #f0f8ff;}#sk-container-id-1 input.sk-toggleable__control:checked~div.sk-toggleable__content {max-height: 200px;max-width: 100%;overflow: auto;}#sk-container-id-1 input.sk-toggleable__control:checked~label.sk-toggleable__label-arrow:before {content: \"▾\";}#sk-container-id-1 div.sk-estimator input.sk-toggleable__control:checked~label.sk-toggleable__label {background-color: #d4ebff;}#sk-container-id-1 div.sk-label input.sk-toggleable__control:checked~label.sk-toggleable__label {background-color: #d4ebff;}#sk-container-id-1 input.sk-hidden--visually {border: 0;clip: rect(1px 1px 1px 1px);clip: rect(1px, 1px, 1px, 1px);height: 1px;margin: -1px;overflow: hidden;padding: 0;position: absolute;width: 1px;}#sk-container-id-1 div.sk-estimator {font-family: monospace;background-color: #f0f8ff;border: 1px dotted black;border-radius: 0.25em;box-sizing: border-box;margin-bottom: 0.5em;}#sk-container-id-1 div.sk-estimator:hover {background-color: #d4ebff;}#sk-container-id-1 div.sk-parallel-item::after {content: \"\";width: 100%;border-bottom: 1px solid gray;flex-grow: 1;}#sk-container-id-1 div.sk-label:hover label.sk-toggleable__label {background-color: #d4ebff;}#sk-container-id-1 div.sk-serial::before {content: \"\";position: absolute;border-left: 1px solid gray;box-sizing: border-box;top: 0;bottom: 0;left: 50%;z-index: 0;}#sk-container-id-1 div.sk-serial {display: flex;flex-direction: column;align-items: center;background-color: white;padding-right: 0.2em;padding-left: 0.2em;position: relative;}#sk-container-id-1 div.sk-item {position: relative;z-index: 1;}#sk-container-id-1 div.sk-parallel {display: flex;align-items: stretch;justify-content: center;background-color: white;position: relative;}#sk-container-id-1 div.sk-item::before, #sk-container-id-1 div.sk-parallel-item::before {content: \"\";position: absolute;border-left: 1px solid gray;box-sizing: border-box;top: 0;bottom: 0;left: 50%;z-index: -1;}#sk-container-id-1 div.sk-parallel-item {display: flex;flex-direction: column;z-index: 1;position: relative;background-color: white;}#sk-container-id-1 div.sk-parallel-item:first-child::after {align-self: flex-end;width: 50%;}#sk-container-id-1 div.sk-parallel-item:last-child::after {align-self: flex-start;width: 50%;}#sk-container-id-1 div.sk-parallel-item:only-child::after {width: 0;}#sk-container-id-1 div.sk-dashed-wrapped {border: 1px dashed gray;margin: 0 0.4em 0.5em 0.4em;box-sizing: border-box;padding-bottom: 0.4em;background-color: white;}#sk-container-id-1 div.sk-label label {font-family: monospace;font-weight: bold;display: inline-block;line-height: 1.2em;}#sk-container-id-1 div.sk-label-container {text-align: center;}#sk-container-id-1 div.sk-container {/* jupyter's `normalize.less` sets `[hidden] { display: none; }` but bootstrap.min.css set `[hidden] { display: none !important; }` so we also need the `!important` here to be able to override the default hidden behavior on the sphinx rendered scikit-learn.org. See: https://github.com/scikit-learn/scikit-learn/issues/21755 */display: inline-block !important;position: relative;}#sk-container-id-1 div.sk-text-repr-fallback {display: none;}</style><div id=\"sk-container-id-1\" class=\"sk-top-container\"><div class=\"sk-text-repr-fallback\"><pre>ElasticNet(alpha=3, fit_intercept=False, l1_ratio=0.05, max_iter=100000)</pre><b>In a Jupyter environment, please rerun this cell to show the HTML representation or trust the notebook. <br />On GitHub, the HTML representation is unable to render, please try loading this page with nbviewer.org.</b></div><div class=\"sk-container\" hidden><div class=\"sk-item\"><div class=\"sk-estimator sk-toggleable\"><input class=\"sk-toggleable__control sk-hidden--visually\" id=\"sk-estimator-id-1\" type=\"checkbox\" checked><label for=\"sk-estimator-id-1\" class=\"sk-toggleable__label sk-toggleable__label-arrow\">ElasticNet</label><div class=\"sk-toggleable__content\"><pre>ElasticNet(alpha=3, fit_intercept=False, l1_ratio=0.05, max_iter=100000)</pre></div></div></div></div></div>"
      ],
      "text/plain": [
       "ElasticNet(alpha=3, fit_intercept=False, l1_ratio=0.05, max_iter=100000)"
      ]
     },
     "execution_count": 20,
     "metadata": {},
     "output_type": "execute_result"
    }
   ],
   "source": [
    "r.icrfs.model"
   ]
  },
  {
   "cell_type": "code",
   "execution_count": null,
   "metadata": {},
   "outputs": [
    {
     "data": {
      "text/plain": [
       "array([1.95083305, 1.48684759, 1.11616646, 0.83648878, 0.6193328 ,\n",
       "       0.43865107, 0.28701556, 0.15886801, 0.056151  , 0.        ,\n",
       "       1.48684788, 1.09289731, 0.78737558, 0.54432509, 0.36845754,\n",
       "       0.23493658, 0.12629572, 0.04323888, 0.        ])"
      ]
     },
     "execution_count": 21,
     "metadata": {},
     "output_type": "execute_result"
    }
   ],
   "source": [
    "r.icrfs.model.coef_"
   ]
  },
  {
   "cell_type": "code",
   "execution_count": null,
   "metadata": {},
   "outputs": [
    {
     "data": {
      "text/html": [
       "<div>\n",
       "<style scoped>\n",
       "    .dataframe tbody tr th:only-of-type {\n",
       "        vertical-align: middle;\n",
       "    }\n",
       "\n",
       "    .dataframe tbody tr th {\n",
       "        vertical-align: top;\n",
       "    }\n",
       "\n",
       "    .dataframe thead th {\n",
       "        text-align: right;\n",
       "    }\n",
       "</style>\n",
       "<table border=\"1\" class=\"dataframe\">\n",
       "  <thead>\n",
       "    <tr style=\"text-align: right;\">\n",
       "      <th>development_period</th>\n",
       "      <th>1</th>\n",
       "      <th>2</th>\n",
       "      <th>3</th>\n",
       "      <th>4</th>\n",
       "      <th>5</th>\n",
       "      <th>6</th>\n",
       "      <th>7</th>\n",
       "      <th>8</th>\n",
       "      <th>9</th>\n",
       "      <th>10</th>\n",
       "    </tr>\n",
       "    <tr>\n",
       "      <th>accident_period</th>\n",
       "      <th></th>\n",
       "      <th></th>\n",
       "      <th></th>\n",
       "      <th></th>\n",
       "      <th></th>\n",
       "      <th></th>\n",
       "      <th></th>\n",
       "      <th></th>\n",
       "      <th></th>\n",
       "      <th></th>\n",
       "    </tr>\n",
       "  </thead>\n",
       "  <tbody>\n",
       "    <tr>\n",
       "      <th>2001</th>\n",
       "      <td>7.0</td>\n",
       "      <td>31.0</td>\n",
       "      <td>93.0</td>\n",
       "      <td>204.0</td>\n",
       "      <td>352.0</td>\n",
       "      <td>508.0</td>\n",
       "      <td>643.0</td>\n",
       "      <td>729.0</td>\n",
       "      <td>761.0</td>\n",
       "      <td>761.0</td>\n",
       "    </tr>\n",
       "    <tr>\n",
       "      <th>2002</th>\n",
       "      <td>31.0</td>\n",
       "      <td>138.0</td>\n",
       "      <td>411.0</td>\n",
       "      <td>902.0</td>\n",
       "      <td>1555.0</td>\n",
       "      <td>2248.0</td>\n",
       "      <td>2843.0</td>\n",
       "      <td>3225.0</td>\n",
       "      <td>3368.0</td>\n",
       "      <td>3368.0</td>\n",
       "    </tr>\n",
       "    <tr>\n",
       "      <th>2003</th>\n",
       "      <td>95.0</td>\n",
       "      <td>420.0</td>\n",
       "      <td>1253.0</td>\n",
       "      <td>2754.0</td>\n",
       "      <td>4747.0</td>\n",
       "      <td>6862.0</td>\n",
       "      <td>8679.0</td>\n",
       "      <td>9848.0</td>\n",
       "      <td>10283.0</td>\n",
       "      <td>10283.0</td>\n",
       "    </tr>\n",
       "    <tr>\n",
       "      <th>2004</th>\n",
       "      <td>219.0</td>\n",
       "      <td>970.0</td>\n",
       "      <td>2893.0</td>\n",
       "      <td>6358.0</td>\n",
       "      <td>10958.0</td>\n",
       "      <td>15839.0</td>\n",
       "      <td>20034.0</td>\n",
       "      <td>22731.0</td>\n",
       "      <td>23735.0</td>\n",
       "      <td>23735.0</td>\n",
       "    </tr>\n",
       "    <tr>\n",
       "      <th>2005</th>\n",
       "      <td>407.0</td>\n",
       "      <td>1802.0</td>\n",
       "      <td>5374.0</td>\n",
       "      <td>11811.0</td>\n",
       "      <td>20356.0</td>\n",
       "      <td>29424.0</td>\n",
       "      <td>37217.0</td>\n",
       "      <td>42227.0</td>\n",
       "      <td>44092.0</td>\n",
       "      <td>44092.0</td>\n",
       "    </tr>\n",
       "    <tr>\n",
       "      <th>2006</th>\n",
       "      <td>632.0</td>\n",
       "      <td>2794.0</td>\n",
       "      <td>8334.0</td>\n",
       "      <td>18314.0</td>\n",
       "      <td>31564.0</td>\n",
       "      <td>45626.0</td>\n",
       "      <td>57708.0</td>\n",
       "      <td>65477.0</td>\n",
       "      <td>68370.0</td>\n",
       "      <td>68370.0</td>\n",
       "    </tr>\n",
       "    <tr>\n",
       "      <th>2007</th>\n",
       "      <td>842.0</td>\n",
       "      <td>3723.0</td>\n",
       "      <td>11104.0</td>\n",
       "      <td>24403.0</td>\n",
       "      <td>42057.0</td>\n",
       "      <td>60794.0</td>\n",
       "      <td>76893.0</td>\n",
       "      <td>87245.0</td>\n",
       "      <td>91100.0</td>\n",
       "      <td>91100.0</td>\n",
       "    </tr>\n",
       "    <tr>\n",
       "      <th>2008</th>\n",
       "      <td>987.0</td>\n",
       "      <td>4364.0</td>\n",
       "      <td>13016.0</td>\n",
       "      <td>28605.0</td>\n",
       "      <td>49299.0</td>\n",
       "      <td>71261.0</td>\n",
       "      <td>90133.0</td>\n",
       "      <td>102267.0</td>\n",
       "      <td>106786.0</td>\n",
       "      <td>106786.0</td>\n",
       "    </tr>\n",
       "    <tr>\n",
       "      <th>2009</th>\n",
       "      <td>1044.0</td>\n",
       "      <td>4616.0</td>\n",
       "      <td>13768.0</td>\n",
       "      <td>30257.0</td>\n",
       "      <td>52146.0</td>\n",
       "      <td>75377.0</td>\n",
       "      <td>95339.0</td>\n",
       "      <td>108173.0</td>\n",
       "      <td>112953.0</td>\n",
       "      <td>112953.0</td>\n",
       "    </tr>\n",
       "    <tr>\n",
       "      <th>2010</th>\n",
       "      <td>1044.0</td>\n",
       "      <td>4616.0</td>\n",
       "      <td>13768.0</td>\n",
       "      <td>30257.0</td>\n",
       "      <td>52146.0</td>\n",
       "      <td>75377.0</td>\n",
       "      <td>95339.0</td>\n",
       "      <td>108173.0</td>\n",
       "      <td>112953.0</td>\n",
       "      <td>112953.0</td>\n",
       "    </tr>\n",
       "  </tbody>\n",
       "</table>\n",
       "</div>"
      ],
      "text/plain": [
       "development_period      1       2        3        4        5        6   \\\n",
       "accident_period                                                          \n",
       "2001                   7.0    31.0     93.0    204.0    352.0    508.0   \n",
       "2002                  31.0   138.0    411.0    902.0   1555.0   2248.0   \n",
       "2003                  95.0   420.0   1253.0   2754.0   4747.0   6862.0   \n",
       "2004                 219.0   970.0   2893.0   6358.0  10958.0  15839.0   \n",
       "2005                 407.0  1802.0   5374.0  11811.0  20356.0  29424.0   \n",
       "2006                 632.0  2794.0   8334.0  18314.0  31564.0  45626.0   \n",
       "2007                 842.0  3723.0  11104.0  24403.0  42057.0  60794.0   \n",
       "2008                 987.0  4364.0  13016.0  28605.0  49299.0  71261.0   \n",
       "2009                1044.0  4616.0  13768.0  30257.0  52146.0  75377.0   \n",
       "2010                1044.0  4616.0  13768.0  30257.0  52146.0  75377.0   \n",
       "\n",
       "development_period       7         8         9         10  \n",
       "accident_period                                            \n",
       "2001                  643.0     729.0     761.0     761.0  \n",
       "2002                 2843.0    3225.0    3368.0    3368.0  \n",
       "2003                 8679.0    9848.0   10283.0   10283.0  \n",
       "2004                20034.0   22731.0   23735.0   23735.0  \n",
       "2005                37217.0   42227.0   44092.0   44092.0  \n",
       "2006                57708.0   65477.0   68370.0   68370.0  \n",
       "2007                76893.0   87245.0   91100.0   91100.0  \n",
       "2008                90133.0  102267.0  106786.0  106786.0  \n",
       "2009                95339.0  108173.0  112953.0  112953.0  \n",
       "2010                95339.0  108173.0  112953.0  112953.0  "
      ]
     },
     "execution_count": 22,
     "metadata": {},
     "output_type": "execute_result"
    }
   ],
   "source": [
    "r.icrfs.PredictTriangle().pivot_table(index='accident_period', columns='development_period', values='yhat').round(0)"
   ]
  },
  {
   "cell_type": "code",
   "execution_count": null,
   "metadata": {},
   "outputs": [
    {
     "data": {
      "text/html": [
       "<div>\n",
       "<style scoped>\n",
       "    .dataframe tbody tr th:only-of-type {\n",
       "        vertical-align: middle;\n",
       "    }\n",
       "\n",
       "    .dataframe tbody tr th {\n",
       "        vertical-align: top;\n",
       "    }\n",
       "\n",
       "    .dataframe thead th {\n",
       "        text-align: right;\n",
       "    }\n",
       "</style>\n",
       "<table border=\"1\" class=\"dataframe\">\n",
       "  <thead>\n",
       "    <tr style=\"text-align: right;\">\n",
       "      <th>development_period</th>\n",
       "      <th>1</th>\n",
       "      <th>2</th>\n",
       "      <th>3</th>\n",
       "      <th>4</th>\n",
       "      <th>5</th>\n",
       "      <th>6</th>\n",
       "      <th>7</th>\n",
       "      <th>8</th>\n",
       "      <th>9</th>\n",
       "      <th>10</th>\n",
       "    </tr>\n",
       "    <tr>\n",
       "      <th>accident_period</th>\n",
       "      <th></th>\n",
       "      <th></th>\n",
       "      <th></th>\n",
       "      <th></th>\n",
       "      <th></th>\n",
       "      <th></th>\n",
       "      <th></th>\n",
       "      <th></th>\n",
       "      <th></th>\n",
       "      <th></th>\n",
       "    </tr>\n",
       "  </thead>\n",
       "  <tbody>\n",
       "    <tr>\n",
       "      <th>2001</th>\n",
       "      <td>357848.0</td>\n",
       "      <td>766940.0</td>\n",
       "      <td>610542.0</td>\n",
       "      <td>482940.0</td>\n",
       "      <td>527326.0</td>\n",
       "      <td>574398.0</td>\n",
       "      <td>146342.0</td>\n",
       "      <td>139950.0</td>\n",
       "      <td>227229.0</td>\n",
       "      <td>67948.0</td>\n",
       "    </tr>\n",
       "    <tr>\n",
       "      <th>2002</th>\n",
       "      <td>352118.0</td>\n",
       "      <td>884021.0</td>\n",
       "      <td>933894.0</td>\n",
       "      <td>1183289.0</td>\n",
       "      <td>445745.0</td>\n",
       "      <td>320996.0</td>\n",
       "      <td>527804.0</td>\n",
       "      <td>266172.0</td>\n",
       "      <td>425046.0</td>\n",
       "      <td>NaN</td>\n",
       "    </tr>\n",
       "    <tr>\n",
       "      <th>2003</th>\n",
       "      <td>290507.0</td>\n",
       "      <td>1001799.0</td>\n",
       "      <td>926219.0</td>\n",
       "      <td>1016654.0</td>\n",
       "      <td>750816.0</td>\n",
       "      <td>146923.0</td>\n",
       "      <td>495992.0</td>\n",
       "      <td>280405.0</td>\n",
       "      <td>NaN</td>\n",
       "      <td>NaN</td>\n",
       "    </tr>\n",
       "    <tr>\n",
       "      <th>2004</th>\n",
       "      <td>310608.0</td>\n",
       "      <td>1108250.0</td>\n",
       "      <td>776189.0</td>\n",
       "      <td>1562400.0</td>\n",
       "      <td>272482.0</td>\n",
       "      <td>352053.0</td>\n",
       "      <td>206286.0</td>\n",
       "      <td>NaN</td>\n",
       "      <td>NaN</td>\n",
       "      <td>NaN</td>\n",
       "    </tr>\n",
       "    <tr>\n",
       "      <th>2005</th>\n",
       "      <td>443160.0</td>\n",
       "      <td>693190.0</td>\n",
       "      <td>991983.0</td>\n",
       "      <td>769488.0</td>\n",
       "      <td>504851.0</td>\n",
       "      <td>470639.0</td>\n",
       "      <td>NaN</td>\n",
       "      <td>NaN</td>\n",
       "      <td>NaN</td>\n",
       "      <td>NaN</td>\n",
       "    </tr>\n",
       "    <tr>\n",
       "      <th>2006</th>\n",
       "      <td>396132.0</td>\n",
       "      <td>937085.0</td>\n",
       "      <td>847498.0</td>\n",
       "      <td>805037.0</td>\n",
       "      <td>705960.0</td>\n",
       "      <td>NaN</td>\n",
       "      <td>NaN</td>\n",
       "      <td>NaN</td>\n",
       "      <td>NaN</td>\n",
       "      <td>NaN</td>\n",
       "    </tr>\n",
       "    <tr>\n",
       "      <th>2007</th>\n",
       "      <td>440832.0</td>\n",
       "      <td>847631.0</td>\n",
       "      <td>1131398.0</td>\n",
       "      <td>1063269.0</td>\n",
       "      <td>NaN</td>\n",
       "      <td>NaN</td>\n",
       "      <td>NaN</td>\n",
       "      <td>NaN</td>\n",
       "      <td>NaN</td>\n",
       "      <td>NaN</td>\n",
       "    </tr>\n",
       "    <tr>\n",
       "      <th>2008</th>\n",
       "      <td>359480.0</td>\n",
       "      <td>1061648.0</td>\n",
       "      <td>1443370.0</td>\n",
       "      <td>NaN</td>\n",
       "      <td>NaN</td>\n",
       "      <td>NaN</td>\n",
       "      <td>NaN</td>\n",
       "      <td>NaN</td>\n",
       "      <td>NaN</td>\n",
       "      <td>NaN</td>\n",
       "    </tr>\n",
       "    <tr>\n",
       "      <th>2009</th>\n",
       "      <td>376686.0</td>\n",
       "      <td>986608.0</td>\n",
       "      <td>NaN</td>\n",
       "      <td>NaN</td>\n",
       "      <td>NaN</td>\n",
       "      <td>NaN</td>\n",
       "      <td>NaN</td>\n",
       "      <td>NaN</td>\n",
       "      <td>NaN</td>\n",
       "      <td>NaN</td>\n",
       "    </tr>\n",
       "    <tr>\n",
       "      <th>2010</th>\n",
       "      <td>344014.0</td>\n",
       "      <td>NaN</td>\n",
       "      <td>NaN</td>\n",
       "      <td>NaN</td>\n",
       "      <td>NaN</td>\n",
       "      <td>NaN</td>\n",
       "      <td>NaN</td>\n",
       "      <td>NaN</td>\n",
       "      <td>NaN</td>\n",
       "      <td>NaN</td>\n",
       "    </tr>\n",
       "  </tbody>\n",
       "</table>\n",
       "</div>"
      ],
      "text/plain": [
       "development_period         1          2          3          4         5  \\\n",
       "accident_period                                                           \n",
       "2001                357848.0   766940.0   610542.0   482940.0  527326.0   \n",
       "2002                352118.0   884021.0   933894.0  1183289.0  445745.0   \n",
       "2003                290507.0  1001799.0   926219.0  1016654.0  750816.0   \n",
       "2004                310608.0  1108250.0   776189.0  1562400.0  272482.0   \n",
       "2005                443160.0   693190.0   991983.0   769488.0  504851.0   \n",
       "2006                396132.0   937085.0   847498.0   805037.0  705960.0   \n",
       "2007                440832.0   847631.0  1131398.0  1063269.0       NaN   \n",
       "2008                359480.0  1061648.0  1443370.0        NaN       NaN   \n",
       "2009                376686.0   986608.0        NaN        NaN       NaN   \n",
       "2010                344014.0        NaN        NaN        NaN       NaN   \n",
       "\n",
       "development_period         6         7         8         9       10  \n",
       "accident_period                                                      \n",
       "2001                574398.0  146342.0  139950.0  227229.0  67948.0  \n",
       "2002                320996.0  527804.0  266172.0  425046.0      NaN  \n",
       "2003                146923.0  495992.0  280405.0       NaN      NaN  \n",
       "2004                352053.0  206286.0       NaN       NaN      NaN  \n",
       "2005                470639.0       NaN       NaN       NaN      NaN  \n",
       "2006                     NaN       NaN       NaN       NaN      NaN  \n",
       "2007                     NaN       NaN       NaN       NaN      NaN  \n",
       "2008                     NaN       NaN       NaN       NaN      NaN  \n",
       "2009                     NaN       NaN       NaN       NaN      NaN  \n",
       "2010                     NaN       NaN       NaN       NaN      NaN  "
      ]
     },
     "execution_count": 23,
     "metadata": {},
     "output_type": "execute_result"
    }
   ],
   "source": [
    "r.paid_loss.incr_triangle.astype(float).round(0)"
   ]
  },
  {
   "cell_type": "code",
   "execution_count": null,
   "metadata": {},
   "outputs": [
    {
     "data": {
      "text/html": [
       "<div>\n",
       "<style scoped>\n",
       "    .dataframe tbody tr th:only-of-type {\n",
       "        vertical-align: middle;\n",
       "    }\n",
       "\n",
       "    .dataframe tbody tr th {\n",
       "        vertical-align: top;\n",
       "    }\n",
       "\n",
       "    .dataframe thead th {\n",
       "        text-align: right;\n",
       "    }\n",
       "</style>\n",
       "<table border=\"1\" class=\"dataframe\">\n",
       "  <thead>\n",
       "    <tr style=\"text-align: right;\">\n",
       "      <th>development_period</th>\n",
       "      <th>1</th>\n",
       "      <th>2</th>\n",
       "      <th>3</th>\n",
       "      <th>4</th>\n",
       "      <th>5</th>\n",
       "      <th>6</th>\n",
       "      <th>7</th>\n",
       "      <th>8</th>\n",
       "      <th>9</th>\n",
       "      <th>10</th>\n",
       "    </tr>\n",
       "    <tr>\n",
       "      <th>accident_period</th>\n",
       "      <th></th>\n",
       "      <th></th>\n",
       "      <th></th>\n",
       "      <th></th>\n",
       "      <th></th>\n",
       "      <th></th>\n",
       "      <th></th>\n",
       "      <th></th>\n",
       "      <th></th>\n",
       "      <th></th>\n",
       "    </tr>\n",
       "  </thead>\n",
       "  <tbody>\n",
       "    <tr>\n",
       "      <th>2001</th>\n",
       "      <td>357848.0</td>\n",
       "      <td>766940.0</td>\n",
       "      <td>610542.0</td>\n",
       "      <td>482940.0</td>\n",
       "      <td>527326.0</td>\n",
       "      <td>574398.0</td>\n",
       "      <td>146342.0</td>\n",
       "      <td>139950.0</td>\n",
       "      <td>227229.0</td>\n",
       "      <td>67948.0</td>\n",
       "    </tr>\n",
       "    <tr>\n",
       "      <th>2002</th>\n",
       "      <td>352118.0</td>\n",
       "      <td>884021.0</td>\n",
       "      <td>933894.0</td>\n",
       "      <td>1183289.0</td>\n",
       "      <td>445745.0</td>\n",
       "      <td>320996.0</td>\n",
       "      <td>527804.0</td>\n",
       "      <td>266172.0</td>\n",
       "      <td>425046.0</td>\n",
       "      <td>NaN</td>\n",
       "    </tr>\n",
       "    <tr>\n",
       "      <th>2003</th>\n",
       "      <td>290507.0</td>\n",
       "      <td>1001799.0</td>\n",
       "      <td>926219.0</td>\n",
       "      <td>1016654.0</td>\n",
       "      <td>750816.0</td>\n",
       "      <td>146923.0</td>\n",
       "      <td>495992.0</td>\n",
       "      <td>280405.0</td>\n",
       "      <td>NaN</td>\n",
       "      <td>NaN</td>\n",
       "    </tr>\n",
       "    <tr>\n",
       "      <th>2004</th>\n",
       "      <td>310608.0</td>\n",
       "      <td>1108250.0</td>\n",
       "      <td>776189.0</td>\n",
       "      <td>1562400.0</td>\n",
       "      <td>272482.0</td>\n",
       "      <td>352053.0</td>\n",
       "      <td>206286.0</td>\n",
       "      <td>NaN</td>\n",
       "      <td>NaN</td>\n",
       "      <td>NaN</td>\n",
       "    </tr>\n",
       "    <tr>\n",
       "      <th>2005</th>\n",
       "      <td>443160.0</td>\n",
       "      <td>693190.0</td>\n",
       "      <td>991983.0</td>\n",
       "      <td>769488.0</td>\n",
       "      <td>504851.0</td>\n",
       "      <td>470639.0</td>\n",
       "      <td>NaN</td>\n",
       "      <td>NaN</td>\n",
       "      <td>NaN</td>\n",
       "      <td>NaN</td>\n",
       "    </tr>\n",
       "    <tr>\n",
       "      <th>2006</th>\n",
       "      <td>396132.0</td>\n",
       "      <td>937085.0</td>\n",
       "      <td>847498.0</td>\n",
       "      <td>805037.0</td>\n",
       "      <td>705960.0</td>\n",
       "      <td>NaN</td>\n",
       "      <td>NaN</td>\n",
       "      <td>NaN</td>\n",
       "      <td>NaN</td>\n",
       "      <td>NaN</td>\n",
       "    </tr>\n",
       "    <tr>\n",
       "      <th>2007</th>\n",
       "      <td>440832.0</td>\n",
       "      <td>847631.0</td>\n",
       "      <td>1131398.0</td>\n",
       "      <td>1063269.0</td>\n",
       "      <td>NaN</td>\n",
       "      <td>NaN</td>\n",
       "      <td>NaN</td>\n",
       "      <td>NaN</td>\n",
       "      <td>NaN</td>\n",
       "      <td>NaN</td>\n",
       "    </tr>\n",
       "    <tr>\n",
       "      <th>2008</th>\n",
       "      <td>359480.0</td>\n",
       "      <td>1061648.0</td>\n",
       "      <td>1443370.0</td>\n",
       "      <td>NaN</td>\n",
       "      <td>NaN</td>\n",
       "      <td>NaN</td>\n",
       "      <td>NaN</td>\n",
       "      <td>NaN</td>\n",
       "      <td>NaN</td>\n",
       "      <td>NaN</td>\n",
       "    </tr>\n",
       "    <tr>\n",
       "      <th>2009</th>\n",
       "      <td>376686.0</td>\n",
       "      <td>986608.0</td>\n",
       "      <td>NaN</td>\n",
       "      <td>NaN</td>\n",
       "      <td>NaN</td>\n",
       "      <td>NaN</td>\n",
       "      <td>NaN</td>\n",
       "      <td>NaN</td>\n",
       "      <td>NaN</td>\n",
       "      <td>NaN</td>\n",
       "    </tr>\n",
       "    <tr>\n",
       "      <th>2010</th>\n",
       "      <td>344014.0</td>\n",
       "      <td>NaN</td>\n",
       "      <td>NaN</td>\n",
       "      <td>NaN</td>\n",
       "      <td>NaN</td>\n",
       "      <td>NaN</td>\n",
       "      <td>NaN</td>\n",
       "      <td>NaN</td>\n",
       "      <td>NaN</td>\n",
       "      <td>NaN</td>\n",
       "    </tr>\n",
       "  </tbody>\n",
       "</table>\n",
       "</div>"
      ],
      "text/plain": [
       "development_period         1          2          3          4         5  \\\n",
       "accident_period                                                           \n",
       "2001                357848.0   766940.0   610542.0   482940.0  527326.0   \n",
       "2002                352118.0   884021.0   933894.0  1183289.0  445745.0   \n",
       "2003                290507.0  1001799.0   926219.0  1016654.0  750816.0   \n",
       "2004                310608.0  1108250.0   776189.0  1562400.0  272482.0   \n",
       "2005                443160.0   693190.0   991983.0   769488.0  504851.0   \n",
       "2006                396132.0   937085.0   847498.0   805037.0  705960.0   \n",
       "2007                440832.0   847631.0  1131398.0  1063269.0       NaN   \n",
       "2008                359480.0  1061648.0  1443370.0        NaN       NaN   \n",
       "2009                376686.0   986608.0        NaN        NaN       NaN   \n",
       "2010                344014.0        NaN        NaN        NaN       NaN   \n",
       "\n",
       "development_period         6         7         8         9       10  \n",
       "accident_period                                                      \n",
       "2001                574398.0  146342.0  139950.0  227229.0  67948.0  \n",
       "2002                320996.0  527804.0  266172.0  425046.0      NaN  \n",
       "2003                146923.0  495992.0  280405.0       NaN      NaN  \n",
       "2004                352053.0  206286.0       NaN       NaN      NaN  \n",
       "2005                470639.0       NaN       NaN       NaN      NaN  \n",
       "2006                     NaN       NaN       NaN       NaN      NaN  \n",
       "2007                     NaN       NaN       NaN       NaN      NaN  \n",
       "2008                     NaN       NaN       NaN       NaN      NaN  \n",
       "2009                     NaN       NaN       NaN       NaN      NaN  \n",
       "2010                     NaN       NaN       NaN       NaN      NaN  "
      ]
     },
     "execution_count": 24,
     "metadata": {},
     "output_type": "execute_result"
    }
   ],
   "source": [
    "r.paid_loss.incr_triangle"
   ]
  },
  {
   "cell_type": "code",
   "execution_count": null,
   "metadata": {},
   "outputs": [
    {
     "data": {
      "text/html": [
       "<div>\n",
       "<style scoped>\n",
       "    .dataframe tbody tr th:only-of-type {\n",
       "        vertical-align: middle;\n",
       "    }\n",
       "\n",
       "    .dataframe tbody tr th {\n",
       "        vertical-align: top;\n",
       "    }\n",
       "\n",
       "    .dataframe thead th {\n",
       "        text-align: right;\n",
       "    }\n",
       "</style>\n",
       "<table border=\"1\" class=\"dataframe\">\n",
       "  <thead>\n",
       "    <tr style=\"text-align: right;\">\n",
       "      <th></th>\n",
       "      <th>development_period</th>\n",
       "      <th>hetero_001</th>\n",
       "      <th>hetero_002</th>\n",
       "      <th>hetero_003</th>\n",
       "      <th>hetero_004</th>\n",
       "      <th>hetero_005</th>\n",
       "      <th>hetero_006</th>\n",
       "      <th>hetero_007</th>\n",
       "      <th>hetero_008</th>\n",
       "      <th>hetero_009</th>\n",
       "      <th>hetero_010</th>\n",
       "    </tr>\n",
       "  </thead>\n",
       "  <tbody>\n",
       "    <tr>\n",
       "      <th>0</th>\n",
       "      <td>1</td>\n",
       "      <td>True</td>\n",
       "      <td>False</td>\n",
       "      <td>False</td>\n",
       "      <td>False</td>\n",
       "      <td>False</td>\n",
       "      <td>False</td>\n",
       "      <td>False</td>\n",
       "      <td>False</td>\n",
       "      <td>False</td>\n",
       "      <td>False</td>\n",
       "    </tr>\n",
       "    <tr>\n",
       "      <th>1</th>\n",
       "      <td>1</td>\n",
       "      <td>True</td>\n",
       "      <td>False</td>\n",
       "      <td>False</td>\n",
       "      <td>False</td>\n",
       "      <td>False</td>\n",
       "      <td>False</td>\n",
       "      <td>False</td>\n",
       "      <td>False</td>\n",
       "      <td>False</td>\n",
       "      <td>False</td>\n",
       "    </tr>\n",
       "    <tr>\n",
       "      <th>2</th>\n",
       "      <td>1</td>\n",
       "      <td>True</td>\n",
       "      <td>False</td>\n",
       "      <td>False</td>\n",
       "      <td>False</td>\n",
       "      <td>False</td>\n",
       "      <td>False</td>\n",
       "      <td>False</td>\n",
       "      <td>False</td>\n",
       "      <td>False</td>\n",
       "      <td>False</td>\n",
       "    </tr>\n",
       "    <tr>\n",
       "      <th>3</th>\n",
       "      <td>1</td>\n",
       "      <td>True</td>\n",
       "      <td>False</td>\n",
       "      <td>False</td>\n",
       "      <td>False</td>\n",
       "      <td>False</td>\n",
       "      <td>False</td>\n",
       "      <td>False</td>\n",
       "      <td>False</td>\n",
       "      <td>False</td>\n",
       "      <td>False</td>\n",
       "    </tr>\n",
       "    <tr>\n",
       "      <th>4</th>\n",
       "      <td>1</td>\n",
       "      <td>True</td>\n",
       "      <td>False</td>\n",
       "      <td>False</td>\n",
       "      <td>False</td>\n",
       "      <td>False</td>\n",
       "      <td>False</td>\n",
       "      <td>False</td>\n",
       "      <td>False</td>\n",
       "      <td>False</td>\n",
       "      <td>False</td>\n",
       "    </tr>\n",
       "    <tr>\n",
       "      <th>...</th>\n",
       "      <td>...</td>\n",
       "      <td>...</td>\n",
       "      <td>...</td>\n",
       "      <td>...</td>\n",
       "      <td>...</td>\n",
       "      <td>...</td>\n",
       "      <td>...</td>\n",
       "      <td>...</td>\n",
       "      <td>...</td>\n",
       "      <td>...</td>\n",
       "      <td>...</td>\n",
       "    </tr>\n",
       "    <tr>\n",
       "      <th>95</th>\n",
       "      <td>10</td>\n",
       "      <td>False</td>\n",
       "      <td>False</td>\n",
       "      <td>False</td>\n",
       "      <td>False</td>\n",
       "      <td>False</td>\n",
       "      <td>False</td>\n",
       "      <td>False</td>\n",
       "      <td>False</td>\n",
       "      <td>False</td>\n",
       "      <td>True</td>\n",
       "    </tr>\n",
       "    <tr>\n",
       "      <th>96</th>\n",
       "      <td>10</td>\n",
       "      <td>False</td>\n",
       "      <td>False</td>\n",
       "      <td>False</td>\n",
       "      <td>False</td>\n",
       "      <td>False</td>\n",
       "      <td>False</td>\n",
       "      <td>False</td>\n",
       "      <td>False</td>\n",
       "      <td>False</td>\n",
       "      <td>True</td>\n",
       "    </tr>\n",
       "    <tr>\n",
       "      <th>97</th>\n",
       "      <td>10</td>\n",
       "      <td>False</td>\n",
       "      <td>False</td>\n",
       "      <td>False</td>\n",
       "      <td>False</td>\n",
       "      <td>False</td>\n",
       "      <td>False</td>\n",
       "      <td>False</td>\n",
       "      <td>False</td>\n",
       "      <td>False</td>\n",
       "      <td>True</td>\n",
       "    </tr>\n",
       "    <tr>\n",
       "      <th>98</th>\n",
       "      <td>10</td>\n",
       "      <td>False</td>\n",
       "      <td>False</td>\n",
       "      <td>False</td>\n",
       "      <td>False</td>\n",
       "      <td>False</td>\n",
       "      <td>False</td>\n",
       "      <td>False</td>\n",
       "      <td>False</td>\n",
       "      <td>False</td>\n",
       "      <td>True</td>\n",
       "    </tr>\n",
       "    <tr>\n",
       "      <th>99</th>\n",
       "      <td>10</td>\n",
       "      <td>False</td>\n",
       "      <td>False</td>\n",
       "      <td>False</td>\n",
       "      <td>False</td>\n",
       "      <td>False</td>\n",
       "      <td>False</td>\n",
       "      <td>False</td>\n",
       "      <td>False</td>\n",
       "      <td>False</td>\n",
       "      <td>True</td>\n",
       "    </tr>\n",
       "  </tbody>\n",
       "</table>\n",
       "<p>100 rows × 11 columns</p>\n",
       "</div>"
      ],
      "text/plain": [
       "    development_period  hetero_001  hetero_002  hetero_003  hetero_004  \\\n",
       "0                    1        True       False       False       False   \n",
       "1                    1        True       False       False       False   \n",
       "2                    1        True       False       False       False   \n",
       "3                    1        True       False       False       False   \n",
       "4                    1        True       False       False       False   \n",
       "..                 ...         ...         ...         ...         ...   \n",
       "95                  10       False       False       False       False   \n",
       "96                  10       False       False       False       False   \n",
       "97                  10       False       False       False       False   \n",
       "98                  10       False       False       False       False   \n",
       "99                  10       False       False       False       False   \n",
       "\n",
       "    hetero_005  hetero_006  hetero_007  hetero_008  hetero_009  hetero_010  \n",
       "0        False       False       False       False       False       False  \n",
       "1        False       False       False       False       False       False  \n",
       "2        False       False       False       False       False       False  \n",
       "3        False       False       False       False       False       False  \n",
       "4        False       False       False       False       False       False  \n",
       "..         ...         ...         ...         ...         ...         ...  \n",
       "95       False       False       False       False       False        True  \n",
       "96       False       False       False       False       False        True  \n",
       "97       False       False       False       False       False        True  \n",
       "98       False       False       False       False       False        True  \n",
       "99       False       False       False       False       False        True  \n",
       "\n",
       "[100 rows x 11 columns]"
      ]
     },
     "execution_count": 25,
     "metadata": {},
     "output_type": "execute_result"
    }
   ],
   "source": [
    "r.icrfs.hetero_gp"
   ]
  },
  {
   "cell_type": "code",
   "execution_count": null,
   "metadata": {},
   "outputs": [
    {
     "data": {
      "text/html": [
       "<div>\n",
       "<style scoped>\n",
       "    .dataframe tbody tr th:only-of-type {\n",
       "        vertical-align: middle;\n",
       "    }\n",
       "\n",
       "    .dataframe tbody tr th {\n",
       "        vertical-align: top;\n",
       "    }\n",
       "\n",
       "    .dataframe thead th {\n",
       "        text-align: right;\n",
       "    }\n",
       "</style>\n",
       "<table border=\"1\" class=\"dataframe\">\n",
       "  <thead>\n",
       "    <tr style=\"text-align: right;\">\n",
       "      <th></th>\n",
       "      <th>development_period</th>\n",
       "    </tr>\n",
       "  </thead>\n",
       "  <tbody>\n",
       "    <tr>\n",
       "      <th>0</th>\n",
       "      <td>1</td>\n",
       "    </tr>\n",
       "    <tr>\n",
       "      <th>1</th>\n",
       "      <td>1</td>\n",
       "    </tr>\n",
       "    <tr>\n",
       "      <th>2</th>\n",
       "      <td>1</td>\n",
       "    </tr>\n",
       "    <tr>\n",
       "      <th>3</th>\n",
       "      <td>1</td>\n",
       "    </tr>\n",
       "    <tr>\n",
       "      <th>4</th>\n",
       "      <td>1</td>\n",
       "    </tr>\n",
       "    <tr>\n",
       "      <th>...</th>\n",
       "      <td>...</td>\n",
       "    </tr>\n",
       "    <tr>\n",
       "      <th>95</th>\n",
       "      <td>10</td>\n",
       "    </tr>\n",
       "    <tr>\n",
       "      <th>96</th>\n",
       "      <td>10</td>\n",
       "    </tr>\n",
       "    <tr>\n",
       "      <th>97</th>\n",
       "      <td>10</td>\n",
       "    </tr>\n",
       "    <tr>\n",
       "      <th>98</th>\n",
       "      <td>10</td>\n",
       "    </tr>\n",
       "    <tr>\n",
       "      <th>99</th>\n",
       "      <td>10</td>\n",
       "    </tr>\n",
       "  </tbody>\n",
       "</table>\n",
       "<p>100 rows × 1 columns</p>\n",
       "</div>"
      ],
      "text/plain": [
       "    development_period\n",
       "0                    1\n",
       "1                    1\n",
       "2                    1\n",
       "3                    1\n",
       "4                    1\n",
       "..                 ...\n",
       "95                  10\n",
       "96                  10\n",
       "97                  10\n",
       "98                  10\n",
       "99                  10\n",
       "\n",
       "[100 rows x 1 columns]"
      ]
     },
     "execution_count": 26,
     "metadata": {},
     "output_type": "execute_result"
    }
   ],
   "source": [
    "r.icrfs.GetHeteroGp()\n",
    "\n",
    "# r.icrfs.(r.icrfs.GetX().loc[r.icrfs.forecast_index])"
   ]
  },
  {
   "cell_type": "code",
   "execution_count": null,
   "metadata": {},
   "outputs": [
    {
     "data": {
      "text/plain": [
       "Accident Period\n",
       "2001-01-01    4139452.0\n",
       "2002-01-01    5765176.0\n",
       "2003-01-01    5706935.0\n",
       "2004-01-01    5621078.0\n",
       "2005-01-01    5154550.0\n",
       "2006-01-01    5422953.0\n",
       "2007-01-01    5961413.0\n",
       "2008-01-01    7197996.0\n",
       "2009-01-01    6120629.0\n",
       "2010-01-01    5011529.0\n",
       "Name: Chain Ladder Ultimate Loss, dtype: float64"
      ]
     },
     "execution_count": 27,
     "metadata": {},
     "output_type": "execute_result"
    }
   ],
   "source": [
    "r.paid_loss.ult('vwa', 5, tail=1.061)"
   ]
  },
  {
   "cell_type": "code",
   "execution_count": null,
   "metadata": {},
   "outputs": [
    {
     "data": {
      "text/plain": [
       "Accident Period\n",
       "2001-01-01    282773.0\n",
       "2002-01-01    211386.0\n",
       "2003-01-01    244726.0\n",
       "2004-01-01    176377.0\n",
       "2005-01-01    215390.0\n",
       "2006-01-01    258108.0\n",
       "2007-01-01    256830.0\n",
       "2008-01-01    325206.0\n",
       "2009-01-01    389263.0\n",
       "2010-01-01    418850.0\n",
       "Name: Log-linear Ultimate, dtype: float64"
      ]
     },
     "execution_count": 28,
     "metadata": {},
     "output_type": "execute_result"
    }
   ],
   "source": [
    "r.icrfs.Ultimate()"
   ]
  },
  {
   "cell_type": "code",
   "execution_count": null,
   "metadata": {},
   "outputs": [
    {
     "data": {
      "text/plain": [
       "Accident Period\n",
       "2001-01-01    6922300.0\n",
       "2002-01-01    5969505.0\n",
       "2003-01-01    5691169.0\n",
       "2004-01-01    6683660.0\n",
       "2005-01-01    5488934.0\n",
       "2006-01-01    6131080.0\n",
       "2007-01-01    7080337.0\n",
       "2008-01-01    5750500.0\n",
       "2009-01-01    6336181.0\n",
       "2010-01-01    5896610.0\n",
       "Name: tweedieGLM Ultimate, dtype: float64"
      ]
     },
     "execution_count": 29,
     "metadata": {},
     "output_type": "execute_result"
    }
   ],
   "source": [
    "r.glm.Ultimate()"
   ]
  },
  {
   "cell_type": "code",
   "execution_count": null,
   "metadata": {},
   "outputs": [
    {
     "data": {
      "text/html": [
       "<div>\n",
       "<style scoped>\n",
       "    .dataframe tbody tr th:only-of-type {\n",
       "        vertical-align: middle;\n",
       "    }\n",
       "\n",
       "    .dataframe tbody tr th {\n",
       "        vertical-align: top;\n",
       "    }\n",
       "\n",
       "    .dataframe thead th {\n",
       "        text-align: right;\n",
       "    }\n",
       "</style>\n",
       "<table border=\"1\" class=\"dataframe\">\n",
       "  <thead>\n",
       "    <tr style=\"text-align: right;\">\n",
       "      <th></th>\n",
       "      <th>Chain Ladder Ultimate Loss</th>\n",
       "      <th>Log-linear Ultimate</th>\n",
       "      <th>tweedieGLM Ultimate</th>\n",
       "      <th>Diff</th>\n",
       "      <th>Diagonal</th>\n",
       "      <th>Unpaid</th>\n",
       "    </tr>\n",
       "    <tr>\n",
       "      <th>Accident Period</th>\n",
       "      <th></th>\n",
       "      <th></th>\n",
       "      <th></th>\n",
       "      <th></th>\n",
       "      <th></th>\n",
       "      <th></th>\n",
       "    </tr>\n",
       "  </thead>\n",
       "  <tbody>\n",
       "    <tr>\n",
       "      <th>2001-01-01</th>\n",
       "      <td>3901463</td>\n",
       "      <td>282773</td>\n",
       "      <td>6922300</td>\n",
       "      <td>-3618690</td>\n",
       "      <td>3901463</td>\n",
       "      <td>-3618690</td>\n",
       "    </tr>\n",
       "    <tr>\n",
       "      <th>2002-01-01</th>\n",
       "      <td>5433719</td>\n",
       "      <td>211386</td>\n",
       "      <td>5969505</td>\n",
       "      <td>-5222333</td>\n",
       "      <td>5339085</td>\n",
       "      <td>-5127699</td>\n",
       "    </tr>\n",
       "    <tr>\n",
       "      <th>2003-01-01</th>\n",
       "      <td>5378826</td>\n",
       "      <td>244726</td>\n",
       "      <td>5691169</td>\n",
       "      <td>-5134100</td>\n",
       "      <td>4909315</td>\n",
       "      <td>-4664589</td>\n",
       "    </tr>\n",
       "    <tr>\n",
       "      <th>2004-01-01</th>\n",
       "      <td>5297906</td>\n",
       "      <td>176377</td>\n",
       "      <td>6683660</td>\n",
       "      <td>-5121529</td>\n",
       "      <td>4588268</td>\n",
       "      <td>-4411891</td>\n",
       "    </tr>\n",
       "    <tr>\n",
       "      <th>2005-01-01</th>\n",
       "      <td>4858200</td>\n",
       "      <td>215390</td>\n",
       "      <td>5488934</td>\n",
       "      <td>-4642810</td>\n",
       "      <td>3873311</td>\n",
       "      <td>-3657921</td>\n",
       "    </tr>\n",
       "    <tr>\n",
       "      <th>2006-01-01</th>\n",
       "      <td>5111171</td>\n",
       "      <td>258108</td>\n",
       "      <td>6131080</td>\n",
       "      <td>-4853063</td>\n",
       "      <td>3691712</td>\n",
       "      <td>-3433604</td>\n",
       "    </tr>\n",
       "    <tr>\n",
       "      <th>2007-01-01</th>\n",
       "      <td>5660771</td>\n",
       "      <td>256830</td>\n",
       "      <td>7080337</td>\n",
       "      <td>-5403941</td>\n",
       "      <td>3483130</td>\n",
       "      <td>-3226300</td>\n",
       "    </tr>\n",
       "    <tr>\n",
       "      <th>2008-01-01</th>\n",
       "      <td>6784799</td>\n",
       "      <td>325206</td>\n",
       "      <td>5750500</td>\n",
       "      <td>-6459593</td>\n",
       "      <td>2864498</td>\n",
       "      <td>-2539292</td>\n",
       "    </tr>\n",
       "    <tr>\n",
       "      <th>2009-01-01</th>\n",
       "      <td>5642266</td>\n",
       "      <td>389263</td>\n",
       "      <td>6336181</td>\n",
       "      <td>-5253003</td>\n",
       "      <td>1363294</td>\n",
       "      <td>-974031</td>\n",
       "    </tr>\n",
       "    <tr>\n",
       "      <th>2010-01-01</th>\n",
       "      <td>4969825</td>\n",
       "      <td>418850</td>\n",
       "      <td>5896610</td>\n",
       "      <td>-4550975</td>\n",
       "      <td>344014</td>\n",
       "      <td>74836</td>\n",
       "    </tr>\n",
       "  </tbody>\n",
       "</table>\n",
       "</div>"
      ],
      "text/plain": [
       "                 Chain Ladder Ultimate Loss  Log-linear Ultimate  \\\n",
       "Accident Period                                                    \n",
       "2001-01-01                          3901463               282773   \n",
       "2002-01-01                          5433719               211386   \n",
       "2003-01-01                          5378826               244726   \n",
       "2004-01-01                          5297906               176377   \n",
       "2005-01-01                          4858200               215390   \n",
       "2006-01-01                          5111171               258108   \n",
       "2007-01-01                          5660771               256830   \n",
       "2008-01-01                          6784799               325206   \n",
       "2009-01-01                          5642266               389263   \n",
       "2010-01-01                          4969825               418850   \n",
       "\n",
       "                 tweedieGLM Ultimate     Diff  Diagonal   Unpaid  \n",
       "Accident Period                                                   \n",
       "2001-01-01                   6922300 -3618690   3901463 -3618690  \n",
       "2002-01-01                   5969505 -5222333   5339085 -5127699  \n",
       "2003-01-01                   5691169 -5134100   4909315 -4664589  \n",
       "2004-01-01                   6683660 -5121529   4588268 -4411891  \n",
       "2005-01-01                   5488934 -4642810   3873311 -3657921  \n",
       "2006-01-01                   6131080 -4853063   3691712 -3433604  \n",
       "2007-01-01                   7080337 -5403941   3483130 -3226300  \n",
       "2008-01-01                   5750500 -6459593   2864498 -2539292  \n",
       "2009-01-01                   6336181 -5253003   1363294  -974031  \n",
       "2010-01-01                   5896610 -4550975    344014    74836  "
      ]
     },
     "execution_count": 30,
     "metadata": {},
     "output_type": "execute_result"
    }
   ],
   "source": [
    "# chain ladder ult vs GLM\n",
    "df = pd.concat([pd.DataFrame(r.paid_loss.ult()), pd.DataFrame(r.icrfs.Ultimate()), pd.DataFrame(r.glm.Ultimate())], axis=1)\n",
    "df = df.assign(Diff=df['Log-linear Ultimate'] - df['Chain Ladder Ultimate Loss']).astype(int)\n",
    "df['Diagonal'] = r.paid_loss.diag().astype(int)\n",
    "df['Unpaid'] = df['Log-linear Ultimate'] - df.Diagonal\n",
    "df"
   ]
  },
  {
   "cell_type": "code",
   "execution_count": null,
   "metadata": {},
   "outputs": [
    {
     "data": {
      "application/vnd.plotly.v1+json": {
       "config": {
        "plotlyServerURL": "https://plot.ly"
       },
       "data": [
        {
         "customdata": [
          [
           2001,
           "1.0",
           1
          ],
          [
           2002,
           "1.0",
           2
          ],
          [
           2003,
           "1.0",
           3
          ],
          [
           2004,
           "1.0",
           4
          ],
          [
           2005,
           "1.0",
           5
          ],
          [
           2006,
           "1.0",
           6
          ],
          [
           2007,
           "1.0",
           7
          ],
          [
           2008,
           "1.0",
           8
          ],
          [
           2009,
           "1.0",
           9
          ],
          [
           2010,
           "1.0",
           10
          ]
         ],
         "hovertemplate": "Development Period=%{customdata[1]}<br>Observed=%{x}<br>Predicted=%{y}<br>Accident Period=%{customdata[0]}<br>Calendar Period=%{customdata[2]}<extra></extra>",
         "legendgroup": "1.0",
         "marker": {
          "color": "#636efa",
          "line": {
           "color": "black",
           "width": 0.75
          },
          "opacity": 0.5,
          "symbol": "circle"
         },
         "mode": "markers",
         "name": "1.0",
         "orientation": "v",
         "showlegend": true,
         "type": "scatter",
         "x": [
          2.548496564438892,
          2.547233478942978,
          2.532059200098664,
          2.537363650029408,
          2.5650790534840753,
          2.5564132411897402,
          2.5646738679383394,
          2.5488523250531414,
          2.5525004385367267,
          2.545408725523565
         ],
         "xaxis": "x",
         "y": [
          1.9508330471550028,
          3.4376806369469515,
          4.553847096378643,
          5.390335871461676,
          6.009668668307572,
          6.448319733656861,
          6.735335296007284,
          6.894203307840894,
          6.950354306759117,
          6.950354306759117
         ],
         "yaxis": "y"
        },
        {
         "customdata": [
          [
           2001,
           "2.0",
           2
          ],
          [
           2002,
           "2.0",
           3
          ],
          [
           2003,
           "2.0",
           4
          ],
          [
           2004,
           "2.0",
           5
          ],
          [
           2005,
           "2.0",
           6
          ],
          [
           2006,
           "2.0",
           7
          ],
          [
           2007,
           "2.0",
           8
          ],
          [
           2008,
           "2.0",
           9
          ],
          [
           2009,
           "2.0",
           10
          ]
         ],
         "hovertemplate": "Development Period=%{customdata[1]}<br>Observed=%{x}<br>Predicted=%{y}<br>Accident Period=%{customdata[0]}<br>Calendar Period=%{customdata[2]}<extra></extra>",
         "legendgroup": "2.0",
         "marker": {
          "color": "#EF553B",
          "line": {
           "color": "black",
           "width": 0.75
          },
          "opacity": 0.5,
          "symbol": "circle"
         },
         "mode": "markers",
         "name": "2.0",
         "orientation": "v",
         "showlegend": true,
         "type": "scatter",
         "x": [
          2.6063986395353758,
          2.616828963945633,
          2.6259220049870606,
          2.633204000301696,
          2.5989091713250305,
          2.6210773158920695,
          2.6137542232491313,
          2.630112657596663,
          2.624815543423619
         ],
         "xaxis": "x",
         "y": [
          3.4376809280909306,
          4.924528517882879,
          6.040694977314571,
          6.877183752397603,
          7.4965165492435,
          7.935167614592789,
          8.222183176943211,
          8.381051188776823,
          8.437202187695044
         ],
         "yaxis": "y"
        },
        {
         "customdata": [
          [
           null,
           "nan",
           null
          ],
          [
           null,
           "nan",
           null
          ],
          [
           null,
           "nan",
           null
          ],
          [
           null,
           "nan",
           null
          ],
          [
           null,
           "nan",
           null
          ],
          [
           null,
           "nan",
           null
          ],
          [
           null,
           "nan",
           null
          ],
          [
           null,
           "nan",
           null
          ],
          [
           null,
           "nan",
           null
          ],
          [
           null,
           "nan",
           null
          ]
         ],
         "hovertemplate": "Development Period=%{customdata[1]}<br>Observed=%{x}<br>Predicted=%{y}<br>Accident Period=%{customdata[0]}<br>Calendar Period=%{customdata[2]}<extra></extra>",
         "legendgroup": "nan",
         "marker": {
          "color": "#00cc96",
          "line": {
           "color": "black",
           "width": 0.75
          },
          "opacity": 0.5,
          "symbol": "circle"
         },
         "mode": "markers",
         "name": "nan",
         "orientation": "v",
         "showlegend": true,
         "type": "scatter",
         "x": [
          null,
          null,
          null,
          null,
          null,
          null,
          null,
          null,
          null,
          null
         ],
         "xaxis": "x",
         "y": [
          4.530578235336991,
          6.804801401261425,
          7.920967860693118,
          9.30178172340978,
          9.921114520255676,
          10.359765585604965,
          7.952520609119267,
          9.068687068550958,
          9.905175843633991,
          6.5919687384242645
         ],
         "yaxis": "y"
        },
        {
         "customdata": [
          [
           2001,
           "3.0",
           3
          ],
          [
           2002,
           "3.0",
           4
          ],
          [
           2003,
           "3.0",
           5
          ],
          [
           2004,
           "3.0",
           6
          ],
          [
           2005,
           "3.0",
           7
          ],
          [
           2006,
           "3.0",
           8
          ],
          [
           2007,
           "3.0",
           9
          ],
          [
           2008,
           "3.0",
           10
          ]
         ],
         "hovertemplate": "Development Period=%{customdata[1]}<br>Observed=%{x}<br>Predicted=%{y}<br>Accident Period=%{customdata[0]}<br>Calendar Period=%{customdata[2]}<extra></extra>",
         "legendgroup": "3.0",
         "marker": {
          "color": "#ab63fa",
          "line": {
           "color": "black",
           "width": 0.75
          },
          "opacity": 0.5,
          "symbol": "circle"
         },
         "mode": "markers",
         "name": "3.0",
         "orientation": "v",
         "showlegend": true,
         "type": "scatter",
         "x": [
          2.5894244879605166,
          2.6208292181763495,
          2.6202287496724073,
          2.607282922303755,
          2.625209116272765,
          2.6137427273659,
          2.6346881266891553,
          2.6520081908032638
         ],
         "xaxis": "x",
         "y": [
          6.0174258251289405,
          7.133592284560631,
          7.970081059643665,
          8.58941385648956,
          9.02806492183885,
          9.315080484189272,
          9.473948496022883,
          5.317953811469477
         ],
         "yaxis": "y"
        },
        {
         "customdata": [
          [
           2001,
           "4.0",
           4
          ],
          [
           2002,
           "4.0",
           5
          ],
          [
           2003,
           "4.0",
           6
          ],
          [
           2004,
           "4.0",
           7
          ],
          [
           2005,
           "4.0",
           8
          ],
          [
           2006,
           "4.0",
           9
          ],
          [
           2007,
           "4.0",
           10
          ]
         ],
         "hovertemplate": "Development Period=%{customdata[1]}<br>Observed=%{x}<br>Predicted=%{y}<br>Accident Period=%{customdata[0]}<br>Calendar Period=%{customdata[2]}<extra></extra>",
         "legendgroup": "4.0",
         "marker": {
          "color": "#FFA15A",
          "line": {
           "color": "black",
           "width": 0.75
          },
          "opacity": 0.5,
          "symbol": "circle"
         },
         "mode": "markers",
         "name": "4.0",
         "orientation": "v",
         "showlegend": true,
         "type": "scatter",
         "x": [
          2.571668861811355,
          2.637900117967844,
          2.62698672935224,
          2.6575799825295183,
          2.606643387962766,
          2.6099700464496696,
          2.6302226097739467
         ],
         "xaxis": "x",
         "y": [
          8.75745663577615,
          9.376789432622045,
          9.815440497971334,
          10.102456060321757,
          5.862278899103107,
          7.349126488895056,
          8.465292948326749
         ],
         "yaxis": "y"
        },
        {
         "customdata": [
          [
           2001,
           "5.0",
           5
          ],
          [
           2002,
           "5.0",
           6
          ],
          [
           2003,
           "5.0",
           7
          ],
          [
           2004,
           "5.0",
           8
          ],
          [
           2005,
           "5.0",
           9
          ],
          [
           2006,
           "5.0",
           10
          ]
         ],
         "hovertemplate": "Development Period=%{customdata[1]}<br>Observed=%{x}<br>Predicted=%{y}<br>Accident Period=%{customdata[0]}<br>Calendar Period=%{customdata[2]}<extra></extra>",
         "legendgroup": "5.0",
         "marker": {
          "color": "#19d3f3",
          "line": {
           "color": "black",
           "width": 0.75
          },
          "opacity": 0.5,
          "symbol": "circle"
         },
         "mode": "markers",
         "name": "5.0",
         "orientation": "v",
         "showlegend": true,
         "type": "scatter",
         "x": [
          2.578364678456558,
          2.56552629243428,
          2.6048293128873934,
          2.5269541199747487,
          2.575053417184555,
          2.600265553880337
         ],
         "xaxis": "x",
         "y": [
          6.230736439677509,
          7.7175840294694575,
          8.833750488901149,
          9.67023926398418,
          10.289572060830078,
          6.465673019327318
         ],
         "yaxis": "y"
        },
        {
         "customdata": [
          [
           2001,
           "6.0",
           6
          ],
          [
           2002,
           "6.0",
           7
          ],
          [
           2003,
           "6.0",
           8
          ],
          [
           2004,
           "6.0",
           9
          ],
          [
           2005,
           "6.0",
           10
          ]
         ],
         "hovertemplate": "Development Period=%{customdata[1]}<br>Observed=%{x}<br>Predicted=%{y}<br>Accident Period=%{customdata[0]}<br>Calendar Period=%{customdata[2]}<extra></extra>",
         "legendgroup": "6.0",
         "marker": {
          "color": "#FF6692",
          "line": {
           "color": "black",
           "width": 0.75
          },
          "opacity": 0.5,
          "symbol": "circle"
         },
         "mode": "markers",
         "name": "6.0",
         "orientation": "v",
         "showlegend": true,
         "type": "scatter",
         "x": [
          2.5848332646230414,
          2.539961588970771,
          2.4763420715186326,
          2.5472190239157886,
          2.5696955093176514
         ],
         "xaxis": "x",
         "y": [
          8.078816328216213,
          9.194982787647904,
          6.635207614521584,
          8.122055204313533,
          6.635207614521585
         ],
         "yaxis": "y"
        },
        {
         "customdata": [
          [
           2001,
           "7.0",
           7
          ],
          [
           2002,
           "7.0",
           8
          ],
          [
           2003,
           "7.0",
           9
          ],
          [
           2004,
           "7.0",
           10
          ]
         ],
         "hovertemplate": "Development Period=%{customdata[1]}<br>Observed=%{x}<br>Predicted=%{y}<br>Accident Period=%{customdata[0]}<br>Calendar Period=%{customdata[2]}<extra></extra>",
         "legendgroup": "7.0",
         "marker": {
          "color": "#B6E880",
          "line": {
           "color": "black",
           "width": 0.75
          },
          "opacity": 0.5,
          "symbol": "circle"
         },
         "mode": "markers",
         "name": "7.0",
         "orientation": "v",
         "showlegend": true,
         "type": "scatter",
         "x": [
          2.4760089849724305,
          2.5784334434595597,
          2.573704387520838,
          2.504465688139405
         ],
         "xaxis": "x",
         "y": [
          null,
          null,
          null,
          null
         ],
         "yaxis": "y"
        },
        {
         "customdata": [
          [
           2001,
           "8.0",
           8
          ],
          [
           2002,
           "8.0",
           9
          ],
          [
           2003,
           "8.0",
           10
          ]
         ],
         "hovertemplate": "Development Period=%{customdata[1]}<br>Observed=%{x}<br>Predicted=%{y}<br>Accident Period=%{customdata[0]}<br>Calendar Period=%{customdata[2]}<extra></extra>",
         "legendgroup": "8.0",
         "marker": {
          "color": "#FF97FF",
          "line": {
           "color": "black",
           "width": 0.75
          },
          "opacity": 0.5,
          "symbol": "circle"
         },
         "mode": "markers",
         "name": "8.0",
         "orientation": "v",
         "showlegend": true,
         "type": "scatter",
         "x": [
          2.472246893411985,
          2.525080273788613,
          2.5292416875915387
         ],
         "xaxis": "x",
         "y": [
          null,
          null,
          null
         ],
         "yaxis": "y"
        },
        {
         "customdata": [
          [
           2001,
           "9.0",
           9
          ],
          [
           2002,
           "9.0",
           10
          ]
         ],
         "hovertemplate": "Development Period=%{customdata[1]}<br>Observed=%{x}<br>Predicted=%{y}<br>Accident Period=%{customdata[0]}<br>Calendar Period=%{customdata[2]}<extra></extra>",
         "legendgroup": "9.0",
         "marker": {
          "color": "#FECB52",
          "line": {
           "color": "black",
           "width": 0.75
          },
          "opacity": 0.5,
          "symbol": "circle"
         },
         "mode": "markers",
         "name": "9.0",
         "orientation": "v",
         "showlegend": true,
         "type": "scatter",
         "x": [
          2.512336455813955,
          2.5618640394779293
         ],
         "xaxis": "x",
         "y": [
          null,
          null
         ],
         "yaxis": "y"
        },
        {
         "customdata": [
          [
           2001,
           "10.0",
           10
          ]
         ],
         "hovertemplate": "Development Period=%{customdata[1]}<br>Observed=%{x}<br>Predicted=%{y}<br>Accident Period=%{customdata[0]}<br>Calendar Period=%{customdata[2]}<extra></extra>",
         "legendgroup": "10.0",
         "marker": {
          "color": "#636efa",
          "line": {
           "color": "black",
           "width": 0.75
          },
          "opacity": 0.5,
          "symbol": "circle"
         },
         "mode": "markers",
         "name": "10.0",
         "orientation": "v",
         "showlegend": true,
         "type": "scatter",
         "x": [
          2.4093294693912757
         ],
         "xaxis": "x",
         "y": [
          null
         ],
         "yaxis": "y"
        },
        {
         "customdata": [
          [
           2001,
           "1.0",
           1
          ],
          [
           2002,
           "1.0",
           2
          ],
          [
           2003,
           "1.0",
           3
          ],
          [
           2004,
           "1.0",
           4
          ],
          [
           2005,
           "1.0",
           5
          ],
          [
           2006,
           "1.0",
           6
          ],
          [
           2007,
           "1.0",
           7
          ],
          [
           2008,
           "1.0",
           8
          ],
          [
           2009,
           "1.0",
           9
          ],
          [
           2010,
           "1.0",
           10
          ]
         ],
         "hovertemplate": "Development Period=%{customdata[1]}<br>Observed=%{x}<br>Predicted=%{y}<br>Accident Period=%{customdata[0]}<br>Calendar Period=%{customdata[2]}<extra></extra>",
         "legendgroup": "1.0",
         "marker": {
          "color": "#636efa",
          "line": {
           "color": "black",
           "width": 0.75
          },
          "opacity": 0.5,
          "symbol": "circle"
         },
         "mode": "markers",
         "name": "1.0",
         "orientation": "v",
         "showlegend": true,
         "type": "scatter",
         "x": [
          2.548496564438892,
          2.547233478942978,
          2.532059200098664,
          2.537363650029408,
          2.5650790534840753,
          2.5564132411897402,
          2.5646738679383394,
          2.5488523250531414,
          2.5525004385367267,
          2.545408725523565
         ],
         "xaxis": "x",
         "y": [
          1.9508330471550028,
          3.4376806369469515,
          4.553847096378643,
          5.390335871461676,
          6.009668668307572,
          6.448319733656861,
          6.735335296007284,
          6.894203307840894,
          6.950354306759117,
          6.950354306759117
         ],
         "yaxis": "y"
        }
       ],
       "layout": {
        "legend": {
         "title": {
          "text": "Development Period"
         },
         "tracegroupgap": 0
        },
        "shapes": [
         {
          "line": {
           "color": "black",
           "dash": "dash"
          },
          "type": "line",
          "x0": 2.4093294693912757,
          "x1": 2.6575799825295183,
          "y0": 1.9508330471550028,
          "y1": 10.359765585604965
         }
        ],
        "template": {
         "data": {
          "bar": [
           {
            "error_x": {
             "color": "#2a3f5f"
            },
            "error_y": {
             "color": "#2a3f5f"
            },
            "marker": {
             "line": {
              "color": "#E5ECF6",
              "width": 0.5
             },
             "pattern": {
              "fillmode": "overlay",
              "size": 10,
              "solidity": 0.2
             }
            },
            "type": "bar"
           }
          ],
          "barpolar": [
           {
            "marker": {
             "line": {
              "color": "#E5ECF6",
              "width": 0.5
             },
             "pattern": {
              "fillmode": "overlay",
              "size": 10,
              "solidity": 0.2
             }
            },
            "type": "barpolar"
           }
          ],
          "carpet": [
           {
            "aaxis": {
             "endlinecolor": "#2a3f5f",
             "gridcolor": "white",
             "linecolor": "white",
             "minorgridcolor": "white",
             "startlinecolor": "#2a3f5f"
            },
            "baxis": {
             "endlinecolor": "#2a3f5f",
             "gridcolor": "white",
             "linecolor": "white",
             "minorgridcolor": "white",
             "startlinecolor": "#2a3f5f"
            },
            "type": "carpet"
           }
          ],
          "choropleth": [
           {
            "colorbar": {
             "outlinewidth": 0,
             "ticks": ""
            },
            "type": "choropleth"
           }
          ],
          "contour": [
           {
            "colorbar": {
             "outlinewidth": 0,
             "ticks": ""
            },
            "colorscale": [
             [
              0,
              "#0d0887"
             ],
             [
              0.1111111111111111,
              "#46039f"
             ],
             [
              0.2222222222222222,
              "#7201a8"
             ],
             [
              0.3333333333333333,
              "#9c179e"
             ],
             [
              0.4444444444444444,
              "#bd3786"
             ],
             [
              0.5555555555555556,
              "#d8576b"
             ],
             [
              0.6666666666666666,
              "#ed7953"
             ],
             [
              0.7777777777777778,
              "#fb9f3a"
             ],
             [
              0.8888888888888888,
              "#fdca26"
             ],
             [
              1,
              "#f0f921"
             ]
            ],
            "type": "contour"
           }
          ],
          "contourcarpet": [
           {
            "colorbar": {
             "outlinewidth": 0,
             "ticks": ""
            },
            "type": "contourcarpet"
           }
          ],
          "heatmap": [
           {
            "colorbar": {
             "outlinewidth": 0,
             "ticks": ""
            },
            "colorscale": [
             [
              0,
              "#0d0887"
             ],
             [
              0.1111111111111111,
              "#46039f"
             ],
             [
              0.2222222222222222,
              "#7201a8"
             ],
             [
              0.3333333333333333,
              "#9c179e"
             ],
             [
              0.4444444444444444,
              "#bd3786"
             ],
             [
              0.5555555555555556,
              "#d8576b"
             ],
             [
              0.6666666666666666,
              "#ed7953"
             ],
             [
              0.7777777777777778,
              "#fb9f3a"
             ],
             [
              0.8888888888888888,
              "#fdca26"
             ],
             [
              1,
              "#f0f921"
             ]
            ],
            "type": "heatmap"
           }
          ],
          "heatmapgl": [
           {
            "colorbar": {
             "outlinewidth": 0,
             "ticks": ""
            },
            "colorscale": [
             [
              0,
              "#0d0887"
             ],
             [
              0.1111111111111111,
              "#46039f"
             ],
             [
              0.2222222222222222,
              "#7201a8"
             ],
             [
              0.3333333333333333,
              "#9c179e"
             ],
             [
              0.4444444444444444,
              "#bd3786"
             ],
             [
              0.5555555555555556,
              "#d8576b"
             ],
             [
              0.6666666666666666,
              "#ed7953"
             ],
             [
              0.7777777777777778,
              "#fb9f3a"
             ],
             [
              0.8888888888888888,
              "#fdca26"
             ],
             [
              1,
              "#f0f921"
             ]
            ],
            "type": "heatmapgl"
           }
          ],
          "histogram": [
           {
            "marker": {
             "pattern": {
              "fillmode": "overlay",
              "size": 10,
              "solidity": 0.2
             }
            },
            "type": "histogram"
           }
          ],
          "histogram2d": [
           {
            "colorbar": {
             "outlinewidth": 0,
             "ticks": ""
            },
            "colorscale": [
             [
              0,
              "#0d0887"
             ],
             [
              0.1111111111111111,
              "#46039f"
             ],
             [
              0.2222222222222222,
              "#7201a8"
             ],
             [
              0.3333333333333333,
              "#9c179e"
             ],
             [
              0.4444444444444444,
              "#bd3786"
             ],
             [
              0.5555555555555556,
              "#d8576b"
             ],
             [
              0.6666666666666666,
              "#ed7953"
             ],
             [
              0.7777777777777778,
              "#fb9f3a"
             ],
             [
              0.8888888888888888,
              "#fdca26"
             ],
             [
              1,
              "#f0f921"
             ]
            ],
            "type": "histogram2d"
           }
          ],
          "histogram2dcontour": [
           {
            "colorbar": {
             "outlinewidth": 0,
             "ticks": ""
            },
            "colorscale": [
             [
              0,
              "#0d0887"
             ],
             [
              0.1111111111111111,
              "#46039f"
             ],
             [
              0.2222222222222222,
              "#7201a8"
             ],
             [
              0.3333333333333333,
              "#9c179e"
             ],
             [
              0.4444444444444444,
              "#bd3786"
             ],
             [
              0.5555555555555556,
              "#d8576b"
             ],
             [
              0.6666666666666666,
              "#ed7953"
             ],
             [
              0.7777777777777778,
              "#fb9f3a"
             ],
             [
              0.8888888888888888,
              "#fdca26"
             ],
             [
              1,
              "#f0f921"
             ]
            ],
            "type": "histogram2dcontour"
           }
          ],
          "mesh3d": [
           {
            "colorbar": {
             "outlinewidth": 0,
             "ticks": ""
            },
            "type": "mesh3d"
           }
          ],
          "parcoords": [
           {
            "line": {
             "colorbar": {
              "outlinewidth": 0,
              "ticks": ""
             }
            },
            "type": "parcoords"
           }
          ],
          "pie": [
           {
            "automargin": true,
            "type": "pie"
           }
          ],
          "scatter": [
           {
            "fillpattern": {
             "fillmode": "overlay",
             "size": 10,
             "solidity": 0.2
            },
            "type": "scatter"
           }
          ],
          "scatter3d": [
           {
            "line": {
             "colorbar": {
              "outlinewidth": 0,
              "ticks": ""
             }
            },
            "marker": {
             "colorbar": {
              "outlinewidth": 0,
              "ticks": ""
             }
            },
            "type": "scatter3d"
           }
          ],
          "scattercarpet": [
           {
            "marker": {
             "colorbar": {
              "outlinewidth": 0,
              "ticks": ""
             }
            },
            "type": "scattercarpet"
           }
          ],
          "scattergeo": [
           {
            "marker": {
             "colorbar": {
              "outlinewidth": 0,
              "ticks": ""
             }
            },
            "type": "scattergeo"
           }
          ],
          "scattergl": [
           {
            "marker": {
             "colorbar": {
              "outlinewidth": 0,
              "ticks": ""
             }
            },
            "type": "scattergl"
           }
          ],
          "scattermapbox": [
           {
            "marker": {
             "colorbar": {
              "outlinewidth": 0,
              "ticks": ""
             }
            },
            "type": "scattermapbox"
           }
          ],
          "scatterpolar": [
           {
            "marker": {
             "colorbar": {
              "outlinewidth": 0,
              "ticks": ""
             }
            },
            "type": "scatterpolar"
           }
          ],
          "scatterpolargl": [
           {
            "marker": {
             "colorbar": {
              "outlinewidth": 0,
              "ticks": ""
             }
            },
            "type": "scatterpolargl"
           }
          ],
          "scatterternary": [
           {
            "marker": {
             "colorbar": {
              "outlinewidth": 0,
              "ticks": ""
             }
            },
            "type": "scatterternary"
           }
          ],
          "surface": [
           {
            "colorbar": {
             "outlinewidth": 0,
             "ticks": ""
            },
            "colorscale": [
             [
              0,
              "#0d0887"
             ],
             [
              0.1111111111111111,
              "#46039f"
             ],
             [
              0.2222222222222222,
              "#7201a8"
             ],
             [
              0.3333333333333333,
              "#9c179e"
             ],
             [
              0.4444444444444444,
              "#bd3786"
             ],
             [
              0.5555555555555556,
              "#d8576b"
             ],
             [
              0.6666666666666666,
              "#ed7953"
             ],
             [
              0.7777777777777778,
              "#fb9f3a"
             ],
             [
              0.8888888888888888,
              "#fdca26"
             ],
             [
              1,
              "#f0f921"
             ]
            ],
            "type": "surface"
           }
          ],
          "table": [
           {
            "cells": {
             "fill": {
              "color": "#EBF0F8"
             },
             "line": {
              "color": "white"
             }
            },
            "header": {
             "fill": {
              "color": "#C8D4E3"
             },
             "line": {
              "color": "white"
             }
            },
            "type": "table"
           }
          ]
         },
         "layout": {
          "annotationdefaults": {
           "arrowcolor": "#2a3f5f",
           "arrowhead": 0,
           "arrowwidth": 1
          },
          "autotypenumbers": "strict",
          "coloraxis": {
           "colorbar": {
            "outlinewidth": 0,
            "ticks": ""
           }
          },
          "colorscale": {
           "diverging": [
            [
             0,
             "#8e0152"
            ],
            [
             0.1,
             "#c51b7d"
            ],
            [
             0.2,
             "#de77ae"
            ],
            [
             0.3,
             "#f1b6da"
            ],
            [
             0.4,
             "#fde0ef"
            ],
            [
             0.5,
             "#f7f7f7"
            ],
            [
             0.6,
             "#e6f5d0"
            ],
            [
             0.7,
             "#b8e186"
            ],
            [
             0.8,
             "#7fbc41"
            ],
            [
             0.9,
             "#4d9221"
            ],
            [
             1,
             "#276419"
            ]
           ],
           "sequential": [
            [
             0,
             "#0d0887"
            ],
            [
             0.1111111111111111,
             "#46039f"
            ],
            [
             0.2222222222222222,
             "#7201a8"
            ],
            [
             0.3333333333333333,
             "#9c179e"
            ],
            [
             0.4444444444444444,
             "#bd3786"
            ],
            [
             0.5555555555555556,
             "#d8576b"
            ],
            [
             0.6666666666666666,
             "#ed7953"
            ],
            [
             0.7777777777777778,
             "#fb9f3a"
            ],
            [
             0.8888888888888888,
             "#fdca26"
            ],
            [
             1,
             "#f0f921"
            ]
           ],
           "sequentialminus": [
            [
             0,
             "#0d0887"
            ],
            [
             0.1111111111111111,
             "#46039f"
            ],
            [
             0.2222222222222222,
             "#7201a8"
            ],
            [
             0.3333333333333333,
             "#9c179e"
            ],
            [
             0.4444444444444444,
             "#bd3786"
            ],
            [
             0.5555555555555556,
             "#d8576b"
            ],
            [
             0.6666666666666666,
             "#ed7953"
            ],
            [
             0.7777777777777778,
             "#fb9f3a"
            ],
            [
             0.8888888888888888,
             "#fdca26"
            ],
            [
             1,
             "#f0f921"
            ]
           ]
          },
          "colorway": [
           "#636efa",
           "#EF553B",
           "#00cc96",
           "#ab63fa",
           "#FFA15A",
           "#19d3f3",
           "#FF6692",
           "#B6E880",
           "#FF97FF",
           "#FECB52"
          ],
          "font": {
           "color": "#2a3f5f"
          },
          "geo": {
           "bgcolor": "white",
           "lakecolor": "white",
           "landcolor": "#E5ECF6",
           "showlakes": true,
           "showland": true,
           "subunitcolor": "white"
          },
          "hoverlabel": {
           "align": "left"
          },
          "hovermode": "closest",
          "mapbox": {
           "style": "light"
          },
          "paper_bgcolor": "white",
          "plot_bgcolor": "#E5ECF6",
          "polar": {
           "angularaxis": {
            "gridcolor": "white",
            "linecolor": "white",
            "ticks": ""
           },
           "bgcolor": "#E5ECF6",
           "radialaxis": {
            "gridcolor": "white",
            "linecolor": "white",
            "ticks": ""
           }
          },
          "scene": {
           "xaxis": {
            "backgroundcolor": "#E5ECF6",
            "gridcolor": "white",
            "gridwidth": 2,
            "linecolor": "white",
            "showbackground": true,
            "ticks": "",
            "zerolinecolor": "white"
           },
           "yaxis": {
            "backgroundcolor": "#E5ECF6",
            "gridcolor": "white",
            "gridwidth": 2,
            "linecolor": "white",
            "showbackground": true,
            "ticks": "",
            "zerolinecolor": "white"
           },
           "zaxis": {
            "backgroundcolor": "#E5ECF6",
            "gridcolor": "white",
            "gridwidth": 2,
            "linecolor": "white",
            "showbackground": true,
            "ticks": "",
            "zerolinecolor": "white"
           }
          },
          "shapedefaults": {
           "line": {
            "color": "#2a3f5f"
           }
          },
          "ternary": {
           "aaxis": {
            "gridcolor": "white",
            "linecolor": "white",
            "ticks": ""
           },
           "baxis": {
            "gridcolor": "white",
            "linecolor": "white",
            "ticks": ""
           },
           "bgcolor": "#E5ECF6",
           "caxis": {
            "gridcolor": "white",
            "linecolor": "white",
            "ticks": ""
           }
          },
          "title": {
           "x": 0.05
          },
          "xaxis": {
           "automargin": true,
           "gridcolor": "white",
           "linecolor": "white",
           "ticks": "",
           "title": {
            "standoff": 15
           },
           "zerolinecolor": "white",
           "zerolinewidth": 2
          },
          "yaxis": {
           "automargin": true,
           "gridcolor": "white",
           "linecolor": "white",
           "ticks": "",
           "title": {
            "standoff": 15
           },
           "zerolinecolor": "white",
           "zerolinewidth": 2
          }
         }
        },
        "title": {
         "text": "Observations vs. Predictions (log scale)"
        },
        "xaxis": {
         "anchor": "y",
         "domain": [
          0,
          1
         ],
         "title": {
          "text": "Observed"
         }
        },
        "yaxis": {
         "anchor": "x",
         "domain": [
          0,
          1
         ],
         "title": {
          "text": "Predicted"
         }
        }
       }
      },
      "text/html": [
       "<div>                            <div id=\"7246523c-fd74-48be-b8ca-fa6827749e24\" class=\"plotly-graph-div\" style=\"height:525px; width:100%;\"></div>            <script type=\"text/javascript\">                require([\"plotly\"], function(Plotly) {                    window.PLOTLYENV=window.PLOTLYENV || {};                                    if (document.getElementById(\"7246523c-fd74-48be-b8ca-fa6827749e24\")) {                    Plotly.newPlot(                        \"7246523c-fd74-48be-b8ca-fa6827749e24\",                        [{\"customdata\":[[2001.0,\"1.0\",1.0],[2002.0,\"1.0\",2.0],[2003.0,\"1.0\",3.0],[2004.0,\"1.0\",4.0],[2005.0,\"1.0\",5.0],[2006.0,\"1.0\",6.0],[2007.0,\"1.0\",7.0],[2008.0,\"1.0\",8.0],[2009.0,\"1.0\",9.0],[2010.0,\"1.0\",10.0]],\"hovertemplate\":\"Development Period=%{customdata[1]}\\u003cbr\\u003eObserved=%{x}\\u003cbr\\u003ePredicted=%{y}\\u003cbr\\u003eAccident Period=%{customdata[0]}\\u003cbr\\u003eCalendar Period=%{customdata[2]}\\u003cextra\\u003e\\u003c\\u002fextra\\u003e\",\"legendgroup\":\"1.0\",\"marker\":{\"color\":\"#636efa\",\"opacity\":0.5,\"symbol\":\"circle\",\"line\":{\"color\":\"black\",\"width\":0.75}},\"mode\":\"markers\",\"name\":\"1.0\",\"orientation\":\"v\",\"showlegend\":true,\"x\":[2.548496564438892,2.547233478942978,2.532059200098664,2.537363650029408,2.5650790534840753,2.5564132411897402,2.5646738679383394,2.5488523250531414,2.5525004385367267,2.545408725523565],\"xaxis\":\"x\",\"y\":[1.9508330471550028,3.4376806369469515,4.553847096378643,5.390335871461676,6.009668668307572,6.448319733656861,6.735335296007284,6.894203307840894,6.950354306759117,6.950354306759117],\"yaxis\":\"y\",\"type\":\"scatter\"},{\"customdata\":[[2001.0,\"2.0\",2.0],[2002.0,\"2.0\",3.0],[2003.0,\"2.0\",4.0],[2004.0,\"2.0\",5.0],[2005.0,\"2.0\",6.0],[2006.0,\"2.0\",7.0],[2007.0,\"2.0\",8.0],[2008.0,\"2.0\",9.0],[2009.0,\"2.0\",10.0]],\"hovertemplate\":\"Development Period=%{customdata[1]}\\u003cbr\\u003eObserved=%{x}\\u003cbr\\u003ePredicted=%{y}\\u003cbr\\u003eAccident Period=%{customdata[0]}\\u003cbr\\u003eCalendar Period=%{customdata[2]}\\u003cextra\\u003e\\u003c\\u002fextra\\u003e\",\"legendgroup\":\"2.0\",\"marker\":{\"color\":\"#EF553B\",\"opacity\":0.5,\"symbol\":\"circle\",\"line\":{\"color\":\"black\",\"width\":0.75}},\"mode\":\"markers\",\"name\":\"2.0\",\"orientation\":\"v\",\"showlegend\":true,\"x\":[2.6063986395353758,2.616828963945633,2.6259220049870606,2.633204000301696,2.5989091713250305,2.6210773158920695,2.6137542232491313,2.630112657596663,2.624815543423619],\"xaxis\":\"x\",\"y\":[3.4376809280909306,4.924528517882879,6.040694977314571,6.877183752397603,7.4965165492435,7.935167614592789,8.222183176943211,8.381051188776823,8.437202187695044],\"yaxis\":\"y\",\"type\":\"scatter\"},{\"customdata\":[[null,\"nan\",null],[null,\"nan\",null],[null,\"nan\",null],[null,\"nan\",null],[null,\"nan\",null],[null,\"nan\",null],[null,\"nan\",null],[null,\"nan\",null],[null,\"nan\",null],[null,\"nan\",null]],\"hovertemplate\":\"Development Period=%{customdata[1]}\\u003cbr\\u003eObserved=%{x}\\u003cbr\\u003ePredicted=%{y}\\u003cbr\\u003eAccident Period=%{customdata[0]}\\u003cbr\\u003eCalendar Period=%{customdata[2]}\\u003cextra\\u003e\\u003c\\u002fextra\\u003e\",\"legendgroup\":\"nan\",\"marker\":{\"color\":\"#00cc96\",\"opacity\":0.5,\"symbol\":\"circle\",\"line\":{\"color\":\"black\",\"width\":0.75}},\"mode\":\"markers\",\"name\":\"nan\",\"orientation\":\"v\",\"showlegend\":true,\"x\":[null,null,null,null,null,null,null,null,null,null],\"xaxis\":\"x\",\"y\":[4.530578235336991,6.804801401261425,7.920967860693118,9.30178172340978,9.921114520255676,10.359765585604965,7.952520609119267,9.068687068550958,9.905175843633991,6.5919687384242645],\"yaxis\":\"y\",\"type\":\"scatter\"},{\"customdata\":[[2001.0,\"3.0\",3.0],[2002.0,\"3.0\",4.0],[2003.0,\"3.0\",5.0],[2004.0,\"3.0\",6.0],[2005.0,\"3.0\",7.0],[2006.0,\"3.0\",8.0],[2007.0,\"3.0\",9.0],[2008.0,\"3.0\",10.0]],\"hovertemplate\":\"Development Period=%{customdata[1]}\\u003cbr\\u003eObserved=%{x}\\u003cbr\\u003ePredicted=%{y}\\u003cbr\\u003eAccident Period=%{customdata[0]}\\u003cbr\\u003eCalendar Period=%{customdata[2]}\\u003cextra\\u003e\\u003c\\u002fextra\\u003e\",\"legendgroup\":\"3.0\",\"marker\":{\"color\":\"#ab63fa\",\"opacity\":0.5,\"symbol\":\"circle\",\"line\":{\"color\":\"black\",\"width\":0.75}},\"mode\":\"markers\",\"name\":\"3.0\",\"orientation\":\"v\",\"showlegend\":true,\"x\":[2.5894244879605166,2.6208292181763495,2.6202287496724073,2.607282922303755,2.625209116272765,2.6137427273659,2.6346881266891553,2.6520081908032638],\"xaxis\":\"x\",\"y\":[6.0174258251289405,7.133592284560631,7.970081059643665,8.58941385648956,9.02806492183885,9.315080484189272,9.473948496022883,5.317953811469477],\"yaxis\":\"y\",\"type\":\"scatter\"},{\"customdata\":[[2001.0,\"4.0\",4.0],[2002.0,\"4.0\",5.0],[2003.0,\"4.0\",6.0],[2004.0,\"4.0\",7.0],[2005.0,\"4.0\",8.0],[2006.0,\"4.0\",9.0],[2007.0,\"4.0\",10.0]],\"hovertemplate\":\"Development Period=%{customdata[1]}\\u003cbr\\u003eObserved=%{x}\\u003cbr\\u003ePredicted=%{y}\\u003cbr\\u003eAccident Period=%{customdata[0]}\\u003cbr\\u003eCalendar Period=%{customdata[2]}\\u003cextra\\u003e\\u003c\\u002fextra\\u003e\",\"legendgroup\":\"4.0\",\"marker\":{\"color\":\"#FFA15A\",\"opacity\":0.5,\"symbol\":\"circle\",\"line\":{\"color\":\"black\",\"width\":0.75}},\"mode\":\"markers\",\"name\":\"4.0\",\"orientation\":\"v\",\"showlegend\":true,\"x\":[2.571668861811355,2.637900117967844,2.62698672935224,2.6575799825295183,2.606643387962766,2.6099700464496696,2.6302226097739467],\"xaxis\":\"x\",\"y\":[8.75745663577615,9.376789432622045,9.815440497971334,10.102456060321757,5.862278899103107,7.349126488895056,8.465292948326749],\"yaxis\":\"y\",\"type\":\"scatter\"},{\"customdata\":[[2001.0,\"5.0\",5.0],[2002.0,\"5.0\",6.0],[2003.0,\"5.0\",7.0],[2004.0,\"5.0\",8.0],[2005.0,\"5.0\",9.0],[2006.0,\"5.0\",10.0]],\"hovertemplate\":\"Development Period=%{customdata[1]}\\u003cbr\\u003eObserved=%{x}\\u003cbr\\u003ePredicted=%{y}\\u003cbr\\u003eAccident Period=%{customdata[0]}\\u003cbr\\u003eCalendar Period=%{customdata[2]}\\u003cextra\\u003e\\u003c\\u002fextra\\u003e\",\"legendgroup\":\"5.0\",\"marker\":{\"color\":\"#19d3f3\",\"opacity\":0.5,\"symbol\":\"circle\",\"line\":{\"color\":\"black\",\"width\":0.75}},\"mode\":\"markers\",\"name\":\"5.0\",\"orientation\":\"v\",\"showlegend\":true,\"x\":[2.578364678456558,2.56552629243428,2.6048293128873934,2.5269541199747487,2.575053417184555,2.600265553880337],\"xaxis\":\"x\",\"y\":[6.230736439677509,7.7175840294694575,8.833750488901149,9.67023926398418,10.289572060830078,6.465673019327318],\"yaxis\":\"y\",\"type\":\"scatter\"},{\"customdata\":[[2001.0,\"6.0\",6.0],[2002.0,\"6.0\",7.0],[2003.0,\"6.0\",8.0],[2004.0,\"6.0\",9.0],[2005.0,\"6.0\",10.0]],\"hovertemplate\":\"Development Period=%{customdata[1]}\\u003cbr\\u003eObserved=%{x}\\u003cbr\\u003ePredicted=%{y}\\u003cbr\\u003eAccident Period=%{customdata[0]}\\u003cbr\\u003eCalendar Period=%{customdata[2]}\\u003cextra\\u003e\\u003c\\u002fextra\\u003e\",\"legendgroup\":\"6.0\",\"marker\":{\"color\":\"#FF6692\",\"opacity\":0.5,\"symbol\":\"circle\",\"line\":{\"color\":\"black\",\"width\":0.75}},\"mode\":\"markers\",\"name\":\"6.0\",\"orientation\":\"v\",\"showlegend\":true,\"x\":[2.5848332646230414,2.539961588970771,2.4763420715186326,2.5472190239157886,2.5696955093176514],\"xaxis\":\"x\",\"y\":[8.078816328216213,9.194982787647904,6.635207614521584,8.122055204313533,6.635207614521585],\"yaxis\":\"y\",\"type\":\"scatter\"},{\"customdata\":[[2001.0,\"7.0\",7.0],[2002.0,\"7.0\",8.0],[2003.0,\"7.0\",9.0],[2004.0,\"7.0\",10.0]],\"hovertemplate\":\"Development Period=%{customdata[1]}\\u003cbr\\u003eObserved=%{x}\\u003cbr\\u003ePredicted=%{y}\\u003cbr\\u003eAccident Period=%{customdata[0]}\\u003cbr\\u003eCalendar Period=%{customdata[2]}\\u003cextra\\u003e\\u003c\\u002fextra\\u003e\",\"legendgroup\":\"7.0\",\"marker\":{\"color\":\"#B6E880\",\"opacity\":0.5,\"symbol\":\"circle\",\"line\":{\"color\":\"black\",\"width\":0.75}},\"mode\":\"markers\",\"name\":\"7.0\",\"orientation\":\"v\",\"showlegend\":true,\"x\":[2.4760089849724305,2.5784334434595597,2.573704387520838,2.504465688139405],\"xaxis\":\"x\",\"y\":[null,null,null,null],\"yaxis\":\"y\",\"type\":\"scatter\"},{\"customdata\":[[2001.0,\"8.0\",8.0],[2002.0,\"8.0\",9.0],[2003.0,\"8.0\",10.0]],\"hovertemplate\":\"Development Period=%{customdata[1]}\\u003cbr\\u003eObserved=%{x}\\u003cbr\\u003ePredicted=%{y}\\u003cbr\\u003eAccident Period=%{customdata[0]}\\u003cbr\\u003eCalendar Period=%{customdata[2]}\\u003cextra\\u003e\\u003c\\u002fextra\\u003e\",\"legendgroup\":\"8.0\",\"marker\":{\"color\":\"#FF97FF\",\"opacity\":0.5,\"symbol\":\"circle\",\"line\":{\"color\":\"black\",\"width\":0.75}},\"mode\":\"markers\",\"name\":\"8.0\",\"orientation\":\"v\",\"showlegend\":true,\"x\":[2.472246893411985,2.525080273788613,2.5292416875915387],\"xaxis\":\"x\",\"y\":[null,null,null],\"yaxis\":\"y\",\"type\":\"scatter\"},{\"customdata\":[[2001.0,\"9.0\",9.0],[2002.0,\"9.0\",10.0]],\"hovertemplate\":\"Development Period=%{customdata[1]}\\u003cbr\\u003eObserved=%{x}\\u003cbr\\u003ePredicted=%{y}\\u003cbr\\u003eAccident Period=%{customdata[0]}\\u003cbr\\u003eCalendar Period=%{customdata[2]}\\u003cextra\\u003e\\u003c\\u002fextra\\u003e\",\"legendgroup\":\"9.0\",\"marker\":{\"color\":\"#FECB52\",\"opacity\":0.5,\"symbol\":\"circle\",\"line\":{\"color\":\"black\",\"width\":0.75}},\"mode\":\"markers\",\"name\":\"9.0\",\"orientation\":\"v\",\"showlegend\":true,\"x\":[2.512336455813955,2.5618640394779293],\"xaxis\":\"x\",\"y\":[null,null],\"yaxis\":\"y\",\"type\":\"scatter\"},{\"customdata\":[[2001.0,\"10.0\",10.0]],\"hovertemplate\":\"Development Period=%{customdata[1]}\\u003cbr\\u003eObserved=%{x}\\u003cbr\\u003ePredicted=%{y}\\u003cbr\\u003eAccident Period=%{customdata[0]}\\u003cbr\\u003eCalendar Period=%{customdata[2]}\\u003cextra\\u003e\\u003c\\u002fextra\\u003e\",\"legendgroup\":\"10.0\",\"marker\":{\"color\":\"#636efa\",\"opacity\":0.5,\"symbol\":\"circle\",\"line\":{\"color\":\"black\",\"width\":0.75}},\"mode\":\"markers\",\"name\":\"10.0\",\"orientation\":\"v\",\"showlegend\":true,\"x\":[2.4093294693912757],\"xaxis\":\"x\",\"y\":[null],\"yaxis\":\"y\",\"type\":\"scatter\"},{\"customdata\":[[2001.0,\"1.0\",1.0],[2002.0,\"1.0\",2.0],[2003.0,\"1.0\",3.0],[2004.0,\"1.0\",4.0],[2005.0,\"1.0\",5.0],[2006.0,\"1.0\",6.0],[2007.0,\"1.0\",7.0],[2008.0,\"1.0\",8.0],[2009.0,\"1.0\",9.0],[2010.0,\"1.0\",10.0]],\"hovertemplate\":\"Development Period=%{customdata[1]}\\u003cbr\\u003eObserved=%{x}\\u003cbr\\u003ePredicted=%{y}\\u003cbr\\u003eAccident Period=%{customdata[0]}\\u003cbr\\u003eCalendar Period=%{customdata[2]}\\u003cextra\\u003e\\u003c\\u002fextra\\u003e\",\"legendgroup\":\"1.0\",\"marker\":{\"color\":\"#636efa\",\"opacity\":0.5,\"symbol\":\"circle\",\"line\":{\"color\":\"black\",\"width\":0.75}},\"mode\":\"markers\",\"name\":\"1.0\",\"orientation\":\"v\",\"showlegend\":true,\"x\":[2.548496564438892,2.547233478942978,2.532059200098664,2.537363650029408,2.5650790534840753,2.5564132411897402,2.5646738679383394,2.5488523250531414,2.5525004385367267,2.545408725523565],\"xaxis\":\"x\",\"y\":[1.9508330471550028,3.4376806369469515,4.553847096378643,5.390335871461676,6.009668668307572,6.448319733656861,6.735335296007284,6.894203307840894,6.950354306759117,6.950354306759117],\"yaxis\":\"y\",\"type\":\"scatter\"}],                        {\"template\":{\"data\":{\"histogram2dcontour\":[{\"type\":\"histogram2dcontour\",\"colorbar\":{\"outlinewidth\":0,\"ticks\":\"\"},\"colorscale\":[[0.0,\"#0d0887\"],[0.1111111111111111,\"#46039f\"],[0.2222222222222222,\"#7201a8\"],[0.3333333333333333,\"#9c179e\"],[0.4444444444444444,\"#bd3786\"],[0.5555555555555556,\"#d8576b\"],[0.6666666666666666,\"#ed7953\"],[0.7777777777777778,\"#fb9f3a\"],[0.8888888888888888,\"#fdca26\"],[1.0,\"#f0f921\"]]}],\"choropleth\":[{\"type\":\"choropleth\",\"colorbar\":{\"outlinewidth\":0,\"ticks\":\"\"}}],\"histogram2d\":[{\"type\":\"histogram2d\",\"colorbar\":{\"outlinewidth\":0,\"ticks\":\"\"},\"colorscale\":[[0.0,\"#0d0887\"],[0.1111111111111111,\"#46039f\"],[0.2222222222222222,\"#7201a8\"],[0.3333333333333333,\"#9c179e\"],[0.4444444444444444,\"#bd3786\"],[0.5555555555555556,\"#d8576b\"],[0.6666666666666666,\"#ed7953\"],[0.7777777777777778,\"#fb9f3a\"],[0.8888888888888888,\"#fdca26\"],[1.0,\"#f0f921\"]]}],\"heatmap\":[{\"type\":\"heatmap\",\"colorbar\":{\"outlinewidth\":0,\"ticks\":\"\"},\"colorscale\":[[0.0,\"#0d0887\"],[0.1111111111111111,\"#46039f\"],[0.2222222222222222,\"#7201a8\"],[0.3333333333333333,\"#9c179e\"],[0.4444444444444444,\"#bd3786\"],[0.5555555555555556,\"#d8576b\"],[0.6666666666666666,\"#ed7953\"],[0.7777777777777778,\"#fb9f3a\"],[0.8888888888888888,\"#fdca26\"],[1.0,\"#f0f921\"]]}],\"heatmapgl\":[{\"type\":\"heatmapgl\",\"colorbar\":{\"outlinewidth\":0,\"ticks\":\"\"},\"colorscale\":[[0.0,\"#0d0887\"],[0.1111111111111111,\"#46039f\"],[0.2222222222222222,\"#7201a8\"],[0.3333333333333333,\"#9c179e\"],[0.4444444444444444,\"#bd3786\"],[0.5555555555555556,\"#d8576b\"],[0.6666666666666666,\"#ed7953\"],[0.7777777777777778,\"#fb9f3a\"],[0.8888888888888888,\"#fdca26\"],[1.0,\"#f0f921\"]]}],\"contourcarpet\":[{\"type\":\"contourcarpet\",\"colorbar\":{\"outlinewidth\":0,\"ticks\":\"\"}}],\"contour\":[{\"type\":\"contour\",\"colorbar\":{\"outlinewidth\":0,\"ticks\":\"\"},\"colorscale\":[[0.0,\"#0d0887\"],[0.1111111111111111,\"#46039f\"],[0.2222222222222222,\"#7201a8\"],[0.3333333333333333,\"#9c179e\"],[0.4444444444444444,\"#bd3786\"],[0.5555555555555556,\"#d8576b\"],[0.6666666666666666,\"#ed7953\"],[0.7777777777777778,\"#fb9f3a\"],[0.8888888888888888,\"#fdca26\"],[1.0,\"#f0f921\"]]}],\"surface\":[{\"type\":\"surface\",\"colorbar\":{\"outlinewidth\":0,\"ticks\":\"\"},\"colorscale\":[[0.0,\"#0d0887\"],[0.1111111111111111,\"#46039f\"],[0.2222222222222222,\"#7201a8\"],[0.3333333333333333,\"#9c179e\"],[0.4444444444444444,\"#bd3786\"],[0.5555555555555556,\"#d8576b\"],[0.6666666666666666,\"#ed7953\"],[0.7777777777777778,\"#fb9f3a\"],[0.8888888888888888,\"#fdca26\"],[1.0,\"#f0f921\"]]}],\"mesh3d\":[{\"type\":\"mesh3d\",\"colorbar\":{\"outlinewidth\":0,\"ticks\":\"\"}}],\"scatter\":[{\"fillpattern\":{\"fillmode\":\"overlay\",\"size\":10,\"solidity\":0.2},\"type\":\"scatter\"}],\"parcoords\":[{\"type\":\"parcoords\",\"line\":{\"colorbar\":{\"outlinewidth\":0,\"ticks\":\"\"}}}],\"scatterpolargl\":[{\"type\":\"scatterpolargl\",\"marker\":{\"colorbar\":{\"outlinewidth\":0,\"ticks\":\"\"}}}],\"bar\":[{\"error_x\":{\"color\":\"#2a3f5f\"},\"error_y\":{\"color\":\"#2a3f5f\"},\"marker\":{\"line\":{\"color\":\"#E5ECF6\",\"width\":0.5},\"pattern\":{\"fillmode\":\"overlay\",\"size\":10,\"solidity\":0.2}},\"type\":\"bar\"}],\"scattergeo\":[{\"type\":\"scattergeo\",\"marker\":{\"colorbar\":{\"outlinewidth\":0,\"ticks\":\"\"}}}],\"scatterpolar\":[{\"type\":\"scatterpolar\",\"marker\":{\"colorbar\":{\"outlinewidth\":0,\"ticks\":\"\"}}}],\"histogram\":[{\"marker\":{\"pattern\":{\"fillmode\":\"overlay\",\"size\":10,\"solidity\":0.2}},\"type\":\"histogram\"}],\"scattergl\":[{\"type\":\"scattergl\",\"marker\":{\"colorbar\":{\"outlinewidth\":0,\"ticks\":\"\"}}}],\"scatter3d\":[{\"type\":\"scatter3d\",\"line\":{\"colorbar\":{\"outlinewidth\":0,\"ticks\":\"\"}},\"marker\":{\"colorbar\":{\"outlinewidth\":0,\"ticks\":\"\"}}}],\"scattermapbox\":[{\"type\":\"scattermapbox\",\"marker\":{\"colorbar\":{\"outlinewidth\":0,\"ticks\":\"\"}}}],\"scatterternary\":[{\"type\":\"scatterternary\",\"marker\":{\"colorbar\":{\"outlinewidth\":0,\"ticks\":\"\"}}}],\"scattercarpet\":[{\"type\":\"scattercarpet\",\"marker\":{\"colorbar\":{\"outlinewidth\":0,\"ticks\":\"\"}}}],\"carpet\":[{\"aaxis\":{\"endlinecolor\":\"#2a3f5f\",\"gridcolor\":\"white\",\"linecolor\":\"white\",\"minorgridcolor\":\"white\",\"startlinecolor\":\"#2a3f5f\"},\"baxis\":{\"endlinecolor\":\"#2a3f5f\",\"gridcolor\":\"white\",\"linecolor\":\"white\",\"minorgridcolor\":\"white\",\"startlinecolor\":\"#2a3f5f\"},\"type\":\"carpet\"}],\"table\":[{\"cells\":{\"fill\":{\"color\":\"#EBF0F8\"},\"line\":{\"color\":\"white\"}},\"header\":{\"fill\":{\"color\":\"#C8D4E3\"},\"line\":{\"color\":\"white\"}},\"type\":\"table\"}],\"barpolar\":[{\"marker\":{\"line\":{\"color\":\"#E5ECF6\",\"width\":0.5},\"pattern\":{\"fillmode\":\"overlay\",\"size\":10,\"solidity\":0.2}},\"type\":\"barpolar\"}],\"pie\":[{\"automargin\":true,\"type\":\"pie\"}]},\"layout\":{\"autotypenumbers\":\"strict\",\"colorway\":[\"#636efa\",\"#EF553B\",\"#00cc96\",\"#ab63fa\",\"#FFA15A\",\"#19d3f3\",\"#FF6692\",\"#B6E880\",\"#FF97FF\",\"#FECB52\"],\"font\":{\"color\":\"#2a3f5f\"},\"hovermode\":\"closest\",\"hoverlabel\":{\"align\":\"left\"},\"paper_bgcolor\":\"white\",\"plot_bgcolor\":\"#E5ECF6\",\"polar\":{\"bgcolor\":\"#E5ECF6\",\"angularaxis\":{\"gridcolor\":\"white\",\"linecolor\":\"white\",\"ticks\":\"\"},\"radialaxis\":{\"gridcolor\":\"white\",\"linecolor\":\"white\",\"ticks\":\"\"}},\"ternary\":{\"bgcolor\":\"#E5ECF6\",\"aaxis\":{\"gridcolor\":\"white\",\"linecolor\":\"white\",\"ticks\":\"\"},\"baxis\":{\"gridcolor\":\"white\",\"linecolor\":\"white\",\"ticks\":\"\"},\"caxis\":{\"gridcolor\":\"white\",\"linecolor\":\"white\",\"ticks\":\"\"}},\"coloraxis\":{\"colorbar\":{\"outlinewidth\":0,\"ticks\":\"\"}},\"colorscale\":{\"sequential\":[[0.0,\"#0d0887\"],[0.1111111111111111,\"#46039f\"],[0.2222222222222222,\"#7201a8\"],[0.3333333333333333,\"#9c179e\"],[0.4444444444444444,\"#bd3786\"],[0.5555555555555556,\"#d8576b\"],[0.6666666666666666,\"#ed7953\"],[0.7777777777777778,\"#fb9f3a\"],[0.8888888888888888,\"#fdca26\"],[1.0,\"#f0f921\"]],\"sequentialminus\":[[0.0,\"#0d0887\"],[0.1111111111111111,\"#46039f\"],[0.2222222222222222,\"#7201a8\"],[0.3333333333333333,\"#9c179e\"],[0.4444444444444444,\"#bd3786\"],[0.5555555555555556,\"#d8576b\"],[0.6666666666666666,\"#ed7953\"],[0.7777777777777778,\"#fb9f3a\"],[0.8888888888888888,\"#fdca26\"],[1.0,\"#f0f921\"]],\"diverging\":[[0,\"#8e0152\"],[0.1,\"#c51b7d\"],[0.2,\"#de77ae\"],[0.3,\"#f1b6da\"],[0.4,\"#fde0ef\"],[0.5,\"#f7f7f7\"],[0.6,\"#e6f5d0\"],[0.7,\"#b8e186\"],[0.8,\"#7fbc41\"],[0.9,\"#4d9221\"],[1,\"#276419\"]]},\"xaxis\":{\"gridcolor\":\"white\",\"linecolor\":\"white\",\"ticks\":\"\",\"title\":{\"standoff\":15},\"zerolinecolor\":\"white\",\"automargin\":true,\"zerolinewidth\":2},\"yaxis\":{\"gridcolor\":\"white\",\"linecolor\":\"white\",\"ticks\":\"\",\"title\":{\"standoff\":15},\"zerolinecolor\":\"white\",\"automargin\":true,\"zerolinewidth\":2},\"scene\":{\"xaxis\":{\"backgroundcolor\":\"#E5ECF6\",\"gridcolor\":\"white\",\"linecolor\":\"white\",\"showbackground\":true,\"ticks\":\"\",\"zerolinecolor\":\"white\",\"gridwidth\":2},\"yaxis\":{\"backgroundcolor\":\"#E5ECF6\",\"gridcolor\":\"white\",\"linecolor\":\"white\",\"showbackground\":true,\"ticks\":\"\",\"zerolinecolor\":\"white\",\"gridwidth\":2},\"zaxis\":{\"backgroundcolor\":\"#E5ECF6\",\"gridcolor\":\"white\",\"linecolor\":\"white\",\"showbackground\":true,\"ticks\":\"\",\"zerolinecolor\":\"white\",\"gridwidth\":2}},\"shapedefaults\":{\"line\":{\"color\":\"#2a3f5f\"}},\"annotationdefaults\":{\"arrowcolor\":\"#2a3f5f\",\"arrowhead\":0,\"arrowwidth\":1},\"geo\":{\"bgcolor\":\"white\",\"landcolor\":\"#E5ECF6\",\"subunitcolor\":\"white\",\"showland\":true,\"showlakes\":true,\"lakecolor\":\"white\"},\"title\":{\"x\":0.05},\"mapbox\":{\"style\":\"light\"}}},\"xaxis\":{\"anchor\":\"y\",\"domain\":[0.0,1.0],\"title\":{\"text\":\"Observed\"}},\"yaxis\":{\"anchor\":\"x\",\"domain\":[0.0,1.0],\"title\":{\"text\":\"Predicted\"}},\"legend\":{\"title\":{\"text\":\"Development Period\"},\"tracegroupgap\":0},\"title\":{\"text\":\"Observations vs. Predictions (log scale)\"},\"shapes\":[{\"line\":{\"color\":\"black\",\"dash\":\"dash\"},\"type\":\"line\",\"x0\":2.4093294693912757,\"x1\":2.6575799825295183,\"y0\":1.9508330471550028,\"y1\":10.359765585604965}]},                        {\"responsive\": true}                    ).then(function(){\n",
       "                            \n",
       "var gd = document.getElementById('7246523c-fd74-48be-b8ca-fa6827749e24');\n",
       "var x = new MutationObserver(function (mutations, observer) {{\n",
       "        var display = window.getComputedStyle(gd).display;\n",
       "        if (!display || display === 'none') {{\n",
       "            console.log([gd, 'removed!']);\n",
       "            Plotly.purge(gd);\n",
       "            observer.disconnect();\n",
       "        }}\n",
       "}});\n",
       "\n",
       "// Listen for the removal of the full notebook cells\n",
       "var notebookContainer = gd.closest('#notebook-container');\n",
       "if (notebookContainer) {{\n",
       "    x.observe(notebookContainer, {childList: true});\n",
       "}}\n",
       "\n",
       "// Listen for the clearing of the current output cell\n",
       "var outputEl = gd.closest('.output');\n",
       "if (outputEl) {{\n",
       "    x.observe(outputEl, {childList: true});\n",
       "}}\n",
       "\n",
       "                        })                };                });            </script>        </div>"
      ]
     },
     "metadata": {},
     "output_type": "display_data"
    }
   ],
   "source": [
    "r.icrfs.plot.obs_pred(log=True, color='dev')"
   ]
  },
  {
   "cell_type": "code",
   "execution_count": null,
   "metadata": {},
   "outputs": [
    {
     "ename": "AttributeError",
     "evalue": "'rocky' object has no attribute 'tweedie'",
     "output_type": "error",
     "traceback": [
      "\u001b[0;31m---------------------------------------------------------------------------\u001b[0m",
      "\u001b[0;31mAttributeError\u001b[0m                            Traceback (most recent call last)",
      "Cell \u001b[0;32mIn[32], line 1\u001b[0m\n\u001b[0;32m----> 1\u001b[0m r\u001b[39m.\u001b[39;49mtweedie\u001b[39m.\u001b[39mplot\u001b[39m.\u001b[39mresidual(\u001b[39m'\u001b[39m\u001b[39macc\u001b[39m\u001b[39m'\u001b[39m, log\u001b[39m=\u001b[39m\u001b[39mTrue\u001b[39;00m)\n",
      "\u001b[0;31mAttributeError\u001b[0m: 'rocky' object has no attribute 'tweedie'"
     ]
    }
   ],
   "source": [
    "r.tweedie.plot.residual('acc', log=True)"
   ]
  },
  {
   "cell_type": "code",
   "execution_count": null,
   "metadata": {},
   "outputs": [
    {
     "ename": "",
     "evalue": "",
     "output_type": "error",
     "traceback": [
      "\u001b[1;31mRunning cells with '.env' requires the ipykernel package.\n",
      "\u001b[1;31mRun the following command to install 'ipykernel' into the Python environment. \n",
      "\u001b[1;31mCommand: '/home/aweaver/git/rocky/.env/bin/python -m pip install ipykernel -U --force-reinstall'"
     ]
    }
   ],
   "source": [
    "r.tweedie.plot.residual('dev', log=False)"
   ]
  },
  {
   "cell_type": "code",
   "execution_count": null,
   "metadata": {},
   "outputs": [
    {
     "ename": "",
     "evalue": "",
     "output_type": "error",
     "traceback": [
      "\u001b[1;31mRunning cells with '.env' requires the ipykernel package.\n",
      "\u001b[1;31mRun the following command to install 'ipykernel' into the Python environment. \n",
      "\u001b[1;31mCommand: '/home/aweaver/git/rocky/.env/bin/python -m pip install ipykernel -U --force-reinstall'"
     ]
    }
   ],
   "source": [
    "r.paid_loss.tri"
   ]
  },
  {
   "cell_type": "code",
   "execution_count": null,
   "metadata": {},
   "outputs": [
    {
     "ename": "",
     "evalue": "",
     "output_type": "error",
     "traceback": [
      "\u001b[1;31mRunning cells with '.env' requires the ipykernel package.\n",
      "\u001b[1;31mRun the following command to install 'ipykernel' into the Python environment. \n",
      "\u001b[1;31mCommand: '/home/aweaver/git/rocky/.env/bin/python -m pip install ipykernel -U --force-reinstall'"
     ]
    }
   ],
   "source": [
    "## accident period parameters should roughly follow the first column:\n",
    "r.paid_loss.tri.iloc[:, 0].plot()"
   ]
  },
  {
   "cell_type": "code",
   "execution_count": null,
   "metadata": {},
   "outputs": [
    {
     "ename": "",
     "evalue": "",
     "output_type": "error",
     "traceback": [
      "\u001b[1;31mRunning cells with '.env' requires the ipykernel package.\n",
      "\u001b[1;31mRun the following command to install 'ipykernel' into the Python environment. \n",
      "\u001b[1;31mCommand: '/home/aweaver/git/rocky/.env/bin/python -m pip install ipykernel -U --force-reinstall'"
     ]
    }
   ],
   "source": [
    "# but the actual fitted parameters include regularization terms that smooth out some of these bumps\n",
    "r.tweedie.PlotParameter('acc')"
   ]
  },
  {
   "cell_type": "code",
   "execution_count": null,
   "metadata": {},
   "outputs": [
    {
     "ename": "",
     "evalue": "",
     "output_type": "error",
     "traceback": [
      "\u001b[1;31mRunning cells with '.env' requires the ipykernel package.\n",
      "\u001b[1;31mRun the following command to install 'ipykernel' into the Python environment. \n",
      "\u001b[1;31mCommand: '/home/aweaver/git/rocky/.env/bin/python -m pip install ipykernel -U --force-reinstall'"
     ]
    }
   ],
   "source": [
    "# does not include dev_period_0012 - first development period is assumed to be included in the first accident period parameter\n",
    "r.tweedie.PlotParameter('dev')"
   ]
  },
  {
   "cell_type": "code",
   "execution_count": null,
   "metadata": {},
   "outputs": [
    {
     "ename": "",
     "evalue": "",
     "output_type": "error",
     "traceback": [
      "\u001b[1;31mRunning cells with '.env' requires the ipykernel package.\n",
      "\u001b[1;31mRun the following command to install 'ipykernel' into the Python environment. \n",
      "\u001b[1;31mCommand: '/home/aweaver/git/rocky/.env/bin/python -m pip install ipykernel -U --force-reinstall'"
     ]
    }
   ],
   "source": [
    "r.tweedie.Ultimate()"
   ]
  },
  {
   "cell_type": "code",
   "execution_count": null,
   "metadata": {},
   "outputs": [
    {
     "ename": "",
     "evalue": "",
     "output_type": "error",
     "traceback": [
      "\u001b[1;31mRunning cells with '.env' requires the ipykernel package.\n",
      "\u001b[1;31mRun the following command to install 'ipykernel' into the Python environment. \n",
      "\u001b[1;31mCommand: '/home/aweaver/git/rocky/.env/bin/python -m pip install ipykernel -U --force-reinstall'"
     ]
    }
   ],
   "source": [
    "# final 2 accident years don't change much from 2020 - can set parameters for these years to be 0 (for no change)\n",
    "r.tweedie.ManualFit(\n",
    "  accident_period_2021=0, accident_period_2022=0,\n",
    "  accident_period_2005=0,\n",
    "  accident_period_2013=0,\n",
    "  accident_period_2016=0,\n",
    "  accident_period_2018=0\n",
    "  )"
   ]
  },
  {
   "cell_type": "code",
   "execution_count": null,
   "metadata": {},
   "outputs": [
    {
     "ename": "",
     "evalue": "",
     "output_type": "error",
     "traceback": [
      "\u001b[1;31mRunning cells with '.env' requires the ipykernel package.\n",
      "\u001b[1;31mRun the following command to install 'ipykernel' into the Python environment. \n",
      "\u001b[1;31mCommand: '/home/aweaver/git/rocky/.env/bin/python -m pip install ipykernel -U --force-reinstall'"
     ]
    }
   ],
   "source": [
    "r.tweedie.PlotParameter('acc')"
   ]
  },
  {
   "cell_type": "code",
   "execution_count": null,
   "metadata": {},
   "outputs": [
    {
     "ename": "",
     "evalue": "",
     "output_type": "error",
     "traceback": [
      "\u001b[1;31mRunning cells with '.env' requires the ipykernel package.\n",
      "\u001b[1;31mRun the following command to install 'ipykernel' into the Python environment. \n",
      "\u001b[1;31mCommand: '/home/aweaver/git/rocky/.env/bin/python -m pip install ipykernel -U --force-reinstall'"
     ]
    }
   ],
   "source": [
    "r.tweedie.Ultimate()"
   ]
  },
  {
   "cell_type": "code",
   "execution_count": null,
   "metadata": {},
   "outputs": [
    {
     "ename": "",
     "evalue": "",
     "output_type": "error",
     "traceback": [
      "\u001b[1;31mRunning cells with '.env' requires the ipykernel package.\n",
      "\u001b[1;31mRun the following command to install 'ipykernel' into the Python environment. \n",
      "\u001b[1;31mCommand: '/home/aweaver/git/rocky/.env/bin/python -m pip install ipykernel -U --force-reinstall'"
     ]
    }
   ],
   "source": [
    "## TODO\n",
    "# - add a method to do a future calendar year projection\n",
    "# - add a method to combine parameters into a single parameter for each year"
   ]
  },
  {
   "cell_type": "code",
   "execution_count": null,
   "metadata": {},
   "outputs": [
    {
     "ename": "",
     "evalue": "",
     "output_type": "error",
     "traceback": [
      "\u001b[1;31mRunning cells with '.env' requires the ipykernel package.\n",
      "\u001b[1;31mRun the following command to install 'ipykernel' into the Python environment. \n",
      "\u001b[1;31mCommand: '/home/aweaver/git/rocky/.env/bin/python -m pip install ipykernel -U --force-reinstall'"
     ]
    }
   ],
   "source": [
    "# add a second glm model that includes calendar year effects\n",
    "r.AddModel('tweediecal', 'glm', 'paid_loss', cal=True)\n",
    "print(r)"
   ]
  },
  {
   "cell_type": "code",
   "execution_count": null,
   "metadata": {},
   "outputs": [
    {
     "ename": "",
     "evalue": "",
     "output_type": "error",
     "traceback": [
      "\u001b[1;31mRunning cells with '.env' requires the ipykernel package.\n",
      "\u001b[1;31mRun the following command to install 'ipykernel' into the Python environment. \n",
      "\u001b[1;31mCommand: '/home/aweaver/git/rocky/.env/bin/python -m pip install ipykernel -U --force-reinstall'"
     ]
    }
   ],
   "source": [
    "# can look at design matrix for this model -- it has 39 more columns for the 39 calendar periods in a 20x20 triangle\n",
    "r.tweediecal.GetX()"
   ]
  },
  {
   "cell_type": "code",
   "execution_count": null,
   "metadata": {},
   "outputs": [
    {
     "ename": "",
     "evalue": "",
     "output_type": "error",
     "traceback": [
      "\u001b[1;31mRunning cells with '.env' requires the ipykernel package.\n",
      "\u001b[1;31mRun the following command to install 'ipykernel' into the Python environment. \n",
      "\u001b[1;31mCommand: '/home/aweaver/git/rocky/.env/bin/python -m pip install ipykernel -U --force-reinstall'"
     ]
    }
   ],
   "source": [
    "# using same hyperparameters as before, but could decide to refit\n",
    "r.tweediecal.SetHyperparameters(alpha=0.3, power=1.8)\n",
    "r.tweediecal"
   ]
  },
  {
   "cell_type": "code",
   "execution_count": null,
   "metadata": {},
   "outputs": [
    {
     "ename": "",
     "evalue": "",
     "output_type": "error",
     "traceback": [
      "\u001b[1;31mRunning cells with '.env' requires the ipykernel package.\n",
      "\u001b[1;31mRun the following command to install 'ipykernel' into the Python environment. \n",
      "\u001b[1;31mCommand: '/home/aweaver/git/rocky/.env/bin/python -m pip install ipykernel -U --force-reinstall'"
     ]
    }
   ],
   "source": [
    "r.tweediecal.Fit()"
   ]
  },
  {
   "cell_type": "code",
   "execution_count": null,
   "metadata": {},
   "outputs": [
    {
     "ename": "",
     "evalue": "",
     "output_type": "error",
     "traceback": [
      "\u001b[1;31mRunning cells with '.env' requires the ipykernel package.\n",
      "\u001b[1;31mRun the following command to install 'ipykernel' into the Python environment. \n",
      "\u001b[1;31mCommand: '/home/aweaver/git/rocky/.env/bin/python -m pip install ipykernel -U --force-reinstall'"
     ]
    }
   ],
   "source": [
    "r.tweediecal.Ultimate()"
   ]
  },
  {
   "cell_type": "code",
   "execution_count": null,
   "metadata": {},
   "outputs": [
    {
     "ename": "",
     "evalue": "",
     "output_type": "error",
     "traceback": [
      "\u001b[1;31mRunning cells with '.env' requires the ipykernel package.\n",
      "\u001b[1;31mRun the following command to install 'ipykernel' into the Python environment. \n",
      "\u001b[1;31mCommand: '/home/aweaver/git/rocky/.env/bin/python -m pip install ipykernel -U --force-reinstall'"
     ]
    }
   ],
   "source": [
    "r.tweediecal.PlotParameter('acc')"
   ]
  },
  {
   "cell_type": "code",
   "execution_count": null,
   "metadata": {},
   "outputs": [
    {
     "ename": "",
     "evalue": "",
     "output_type": "error",
     "traceback": [
      "\u001b[1;31mRunning cells with '.env' requires the ipykernel package.\n",
      "\u001b[1;31mRun the following command to install 'ipykernel' into the Python environment. \n",
      "\u001b[1;31mCommand: '/home/aweaver/git/rocky/.env/bin/python -m pip install ipykernel -U --force-reinstall'"
     ]
    }
   ],
   "source": [
    "r.tweediecal.PlotParameter('dev')"
   ]
  },
  {
   "cell_type": "code",
   "execution_count": null,
   "metadata": {},
   "outputs": [
    {
     "ename": "",
     "evalue": "",
     "output_type": "error",
     "traceback": [
      "\u001b[1;31mRunning cells with '.env' requires the ipykernel package.\n",
      "\u001b[1;31mRun the following command to install 'ipykernel' into the Python environment. \n",
      "\u001b[1;31mCommand: '/home/aweaver/git/rocky/.env/bin/python -m pip install ipykernel -U --force-reinstall'"
     ]
    }
   ],
   "source": [
    "r.tweediecal.PlotParameter('cal')"
   ]
  },
  {
   "cell_type": "code",
   "execution_count": null,
   "metadata": {},
   "outputs": [
    {
     "ename": "",
     "evalue": "",
     "output_type": "error",
     "traceback": [
      "\u001b[1;31mRunning cells with '.env' requires the ipykernel package.\n",
      "\u001b[1;31mRun the following command to install 'ipykernel' into the Python environment. \n",
      "\u001b[1;31mCommand: '/home/aweaver/git/rocky/.env/bin/python -m pip install ipykernel -U --force-reinstall'"
     ]
    }
   ],
   "source": [
    "## add a 1% future cal trend (eg assume that trend reverses itself)\n",
    "future_cy_trend = 0.01\n",
    "manfit = {}\n",
    "for i in range(21, 40):\n",
    "  manfit[f\"calendar_period_00{i}\"] = future_cy_trend\n",
    "\n",
    "r.tweediecal.ManualFit(**manfit)"
   ]
  },
  {
   "cell_type": "code",
   "execution_count": null,
   "metadata": {},
   "outputs": [
    {
     "ename": "",
     "evalue": "",
     "output_type": "error",
     "traceback": [
      "\u001b[1;31mRunning cells with '.env' requires the ipykernel package.\n",
      "\u001b[1;31mRun the following command to install 'ipykernel' into the Python environment. \n",
      "\u001b[1;31mCommand: '/home/aweaver/git/rocky/.env/bin/python -m pip install ipykernel -U --force-reinstall'"
     ]
    }
   ],
   "source": [
    "r.tweediecal.PlotParameter('cal')"
   ]
  },
  {
   "cell_type": "code",
   "execution_count": null,
   "metadata": {},
   "outputs": [
    {
     "ename": "",
     "evalue": "",
     "output_type": "error",
     "traceback": [
      "\u001b[1;31mRunning cells with '.env' requires the ipykernel package.\n",
      "\u001b[1;31mRun the following command to install 'ipykernel' into the Python environment. \n",
      "\u001b[1;31mCommand: '/home/aweaver/git/rocky/.env/bin/python -m pip install ipykernel -U --force-reinstall'"
     ]
    }
   ],
   "source": [
    "r.tweediecal.Ultimate()"
   ]
  },
  {
   "cell_type": "code",
   "execution_count": null,
   "metadata": {},
   "outputs": [
    {
     "ename": "",
     "evalue": "",
     "output_type": "error",
     "traceback": [
      "\u001b[1;31mRunning cells with '.env' requires the ipykernel package.\n",
      "\u001b[1;31mRun the following command to install 'ipykernel' into the Python environment. \n",
      "\u001b[1;31mCommand: '/home/aweaver/git/rocky/.env/bin/python -m pip install ipykernel -U --force-reinstall'"
     ]
    }
   ],
   "source": [
    "def parse_param_name(x):\n",
    "  if x.find(\"_\") == -1:\n",
    "    return x\n",
    "  else:\n",
    "    end = x.split(\"_\")[len(x.split(\"_\"))-1]\n",
    "    out = x.replace(f\"_{end}\", \"\")[:3]\n",
    "    return out\n",
    "  \n",
    "\n",
    "df = pd.DataFrame(dict(nm=r.tweediecal.GetParameterNames(), val=r.tweediecal.model.coef_))\n",
    "parse_param_name(df.nm[2])"
   ]
  },
  {
   "cell_type": "code",
   "execution_count": null,
   "metadata": {},
   "outputs": [
    {
     "ename": "",
     "evalue": "",
     "output_type": "error",
     "traceback": [
      "\u001b[1;31mRunning cells with '.env' requires the ipykernel package.\n",
      "\u001b[1;31mRun the following command to install 'ipykernel' into the Python environment. \n",
      "\u001b[1;31mCommand: '/home/aweaver/git/rocky/.env/bin/python -m pip install ipykernel -U --force-reinstall'"
     ]
    }
   ],
   "source": [
    "df = pd.DataFrame({\n",
    "  'chain ladder': r.paid_loss.ult(tail=1.05),\n",
    "  'tweedie': r.tweedie.Ultimate(tail=1.05),\n",
    "  'tweediecal': r.tweediecal.Ultimate(tail=1.05)\n",
    "}).round(-3)/1000\n",
    "\n",
    "df"
   ]
  },
  {
   "cell_type": "code",
   "execution_count": null,
   "metadata": {},
   "outputs": [
    {
     "ename": "",
     "evalue": "",
     "output_type": "error",
     "traceback": [
      "\u001b[1;31mRunning cells with '.env' requires the ipykernel package.\n",
      "\u001b[1;31mRun the following command to install 'ipykernel' into the Python environment. \n",
      "\u001b[1;31mCommand: '/home/aweaver/git/rocky/.env/bin/python -m pip install ipykernel -U --force-reinstall'"
     ]
    }
   ],
   "source": [
    "r.Add"
   ]
  }
 ],
 "metadata": {
  "kernelspec": {
   "display_name": "dat",
   "language": "python",
   "name": "python3"
  },
  "language_info": {
   "codemirror_mode": {
    "name": "ipython",
    "version": 3
   },
   "file_extension": ".py",
   "mimetype": "text/x-python",
   "name": "python",
   "nbconvert_exporter": "python",
   "pygments_lexer": "ipython3",
   "version": "3.11.3"
  },
  "orig_nbformat": 4,
  "vscode": {
   "interpreter": {
    "hash": "ba478163c995622e2b1453e06e2da8ac1639a4b44994d6e4f00b5cb5d33915e6"
   }
  }
 },
 "nbformat": 4,
 "nbformat_minor": 2
}
