{
 "cells": [
  {
   "attachments": {},
   "cell_type": "markdown",
   "metadata": {},
   "source": [
    "## `rocky`"
   ]
  },
  {
   "cell_type": "code",
   "execution_count": 17,
   "metadata": {},
   "outputs": [],
   "source": [
    "import os\n",
    "mydir = r'C:\\Users\\aweaver\\rocky\\rocky-app\\src\\py'\n",
    "# mydir = r'C:\\Users\\AndyW\\OneDrive\\Documents\\GitHub\\rocky\\rocky-app\\src\\py'\n",
    "os.chdir(mydir)\n",
    "from rockycore import rocky\n",
    "from triangle import Triangle\n",
    "\n",
    "import pandas as pd\n",
    "import numpy as np"
   ]
  },
  {
   "cell_type": "code",
   "execution_count": 18,
   "metadata": {},
   "outputs": [
    {
     "name": "stdout",
     "output_type": "stream",
     "text": [
      "rocky(id='rocky0', mod=(\"glm\", \"icrfs\"), f=(), plot=(), t=\"paid_loss\", rockylog=None)\n"
     ]
    }
   ],
   "source": [
    "# creat a new rocky object\n",
    "r = rocky()\n",
    "\n",
    "# inspect object\n",
    "print(r)"
   ]
  },
  {
   "cell_type": "code",
   "execution_count": 19,
   "metadata": {},
   "outputs": [
    {
     "name": "stdout",
     "output_type": "stream",
     "text": [
      "rocky(id='andys cool rocky object', mod=(\"glm\", \"icrfs\"), f=(), plot=(), t=\"paid_loss\", rockylog=None)\n"
     ]
    }
   ],
   "source": [
    "# rename rocky object\n",
    "r.rename('andys cool rocky object')\n",
    "print(r)"
   ]
  },
  {
   "cell_type": "code",
   "execution_count": 20,
   "metadata": {},
   "outputs": [
    {
     "name": "stdout",
     "output_type": "stream",
     "text": [
      "rocky(id='rocky1', mod=(\"glm\", \"icrfs\"), f=(), plot=(), t=\"paid_loss\", rockylog=None)\n"
     ]
    }
   ],
   "source": [
    "# change name to something more descriptive\n",
    "r.rename('rocky1')\n",
    "\n",
    "## Could read in sample data (taylor_ashe, mack_1994) to try it out\n",
    "# r.SampleTri('taylor_ashe')\n",
    "\n",
    "## Could copy a triangle from a file to the clipboard and then read it in\n",
    "# r.FromClipboard('paid_loss')\n",
    "\n",
    "## for this demo, we'll just read in a triangle from a link ratio file\n",
    "\n",
    "# triangle file path for WC 4Q2022\n",
    "path = r'O:\\STAFFHQ\\SYMDATA\\Actuarial\\Reserving Applications\\IBNR Allocation\\4Q2022 Analysis\\Workers Compensation 4Q2022.xlsb'\n",
    "\n",
    "# read in triangle from file\n",
    "r.FromExcel(path, 1, 'paid_loss', 'Gross Paid Ultimates', \"a28:u48\") # takes filepath, number of origin columns, name of triangle, sheet name, and range of triangle\n",
    "print(r)"
   ]
  },
  {
   "cell_type": "code",
   "execution_count": 21,
   "metadata": {},
   "outputs": [],
   "source": [
    "# r.TuneHyperparmeters()\n",
    "# r.AddModel()\n",
    "# r.Fit()\n",
    "# r.model.PlotParameter()"
   ]
  },
  {
   "cell_type": "code",
   "execution_count": 22,
   "metadata": {},
   "outputs": [
    {
     "data": {
      "text/plain": [
       "development_period           12            24        36        48        60  \\\n",
       "accident_period                                                               \n",
       "2003-01-01          50330.00000  107898.00000  136945.0  153476.0  163446.0   \n",
       "2004-01-01          56728.00000  118567.00000  147424.0  165383.0  177974.0   \n",
       "2005-01-01          57102.00000  118436.00000  147933.0  167785.0  178853.0   \n",
       "2006-01-01          63725.00000  135805.00000  171107.0  190146.0  201018.0   \n",
       "2007-01-01          64449.00000  136478.00000  173430.0  193387.0  205651.0   \n",
       "2008-01-01          68035.00000  145582.00000  181946.0  202926.0  217764.0   \n",
       "2009-01-01          61673.00000  123776.00000  152108.0  166905.0  175113.0   \n",
       "2010-01-01          63743.00000  125836.00000  153564.0  169391.0  180501.0   \n",
       "2011-01-01          61631.00000  123717.00000  151484.0  166925.0  174995.0   \n",
       "2012-01-01          59102.00000  115341.00000  140139.0  154009.0  162990.0   \n",
       "2013-01-01          58997.00000  113350.00000  136647.0  148550.0  156016.0   \n",
       "2014-01-01          53547.00000  103585.00000  125075.0  138638.0  147677.0   \n",
       "2015-01-01          45566.00000   87447.00000  108267.0  121106.0  127118.0   \n",
       "2016-01-01          43844.00000   91798.00000  112317.0  124121.0  133879.0   \n",
       "2017-01-01          42759.00000   83733.00000   99890.0  107009.0  112460.0   \n",
       "2018-01-01          46172.00000   89779.00000  108550.0  118092.0  124180.0   \n",
       "2019-01-01          46727.00000   88194.00000  106568.0  114994.0       NaN   \n",
       "2020-01-01          35114.00000   63465.00000   75927.0       NaN       NaN   \n",
       "2021-01-01          31909.48533   69983.79405       NaN       NaN       NaN   \n",
       "2022-01-01          34447.00000           NaN       NaN       NaN       NaN   \n",
       "\n",
       "development_period        72        84        96       108       120  \\\n",
       "accident_period                                                        \n",
       "2003-01-01          170897.0  176694.0  179683.0  181314.0  182628.0   \n",
       "2004-01-01          184788.0  189194.0  194049.0  197031.0  199073.0   \n",
       "2005-01-01          184737.0  189670.0  192074.0  193631.0  195255.0   \n",
       "2006-01-01          209221.0  214884.0  219271.0  222141.0  226018.0   \n",
       "2007-01-01          211715.0  216153.0  218710.0  222250.0  223615.0   \n",
       "2008-01-01          226280.0  230892.0  235734.0  238717.0  240135.0   \n",
       "2009-01-01          180130.0  184282.0  187589.0  188790.0  190638.0   \n",
       "2010-01-01          187276.0  190278.0  192477.0  195197.0  196939.0   \n",
       "2011-01-01          179062.0  181316.0  183516.0  185931.0  186904.0   \n",
       "2012-01-01          166658.0  169627.0  171608.0  173610.0  174188.0   \n",
       "2013-01-01          159853.0  162242.0  165372.0  168463.0  170404.0   \n",
       "2014-01-01          153121.0  156494.0  159141.0  161034.0       NaN   \n",
       "2015-01-01          130371.0  132477.0  133705.0       NaN       NaN   \n",
       "2016-01-01          139039.0  141790.0       NaN       NaN       NaN   \n",
       "2017-01-01          115488.0       NaN       NaN       NaN       NaN   \n",
       "2018-01-01               NaN       NaN       NaN       NaN       NaN   \n",
       "2019-01-01               NaN       NaN       NaN       NaN       NaN   \n",
       "2020-01-01               NaN       NaN       NaN       NaN       NaN   \n",
       "2021-01-01               NaN       NaN       NaN       NaN       NaN   \n",
       "2022-01-01               NaN       NaN       NaN       NaN       NaN   \n",
       "\n",
       "development_period       132       144       156       168       180  \\\n",
       "accident_period                                                        \n",
       "2003-01-01          183684.0  184610.0  185183.0  185970.0  186695.0   \n",
       "2004-01-01          200373.0  203933.0  205157.0  205872.0  206186.0   \n",
       "2005-01-01          196621.0  197400.0  198085.0  199019.0  199769.0   \n",
       "2006-01-01          228246.0  230138.0  232340.0  233039.0  234316.0   \n",
       "2007-01-01          225497.0  227206.0  227881.0  229481.0  230098.0   \n",
       "2008-01-01          241393.0  242397.0  242952.0  243311.0  243746.0   \n",
       "2009-01-01          191719.0  192974.0  193706.0  194419.0       NaN   \n",
       "2010-01-01          198366.0  198754.0  199674.0       NaN       NaN   \n",
       "2011-01-01          188619.0  189183.0       NaN       NaN       NaN   \n",
       "2012-01-01          174806.0       NaN       NaN       NaN       NaN   \n",
       "2013-01-01               NaN       NaN       NaN       NaN       NaN   \n",
       "2014-01-01               NaN       NaN       NaN       NaN       NaN   \n",
       "2015-01-01               NaN       NaN       NaN       NaN       NaN   \n",
       "2016-01-01               NaN       NaN       NaN       NaN       NaN   \n",
       "2017-01-01               NaN       NaN       NaN       NaN       NaN   \n",
       "2018-01-01               NaN       NaN       NaN       NaN       NaN   \n",
       "2019-01-01               NaN       NaN       NaN       NaN       NaN   \n",
       "2020-01-01               NaN       NaN       NaN       NaN       NaN   \n",
       "2021-01-01               NaN       NaN       NaN       NaN       NaN   \n",
       "2022-01-01               NaN       NaN       NaN       NaN       NaN   \n",
       "\n",
       "development_period       192       204       216       228       240  \n",
       "accident_period                                                       \n",
       "2003-01-01          187245.0  187945.0  188593.0  190049.0  190285.0  \n",
       "2004-01-01          206744.0  207097.0  207341.0  208639.0       NaN  \n",
       "2005-01-01          201215.0  201832.0  202066.0       NaN       NaN  \n",
       "2006-01-01          234901.0  235986.0       NaN       NaN       NaN  \n",
       "2007-01-01          230571.0       NaN       NaN       NaN       NaN  \n",
       "2008-01-01               NaN       NaN       NaN       NaN       NaN  \n",
       "2009-01-01               NaN       NaN       NaN       NaN       NaN  \n",
       "2010-01-01               NaN       NaN       NaN       NaN       NaN  \n",
       "2011-01-01               NaN       NaN       NaN       NaN       NaN  \n",
       "2012-01-01               NaN       NaN       NaN       NaN       NaN  \n",
       "2013-01-01               NaN       NaN       NaN       NaN       NaN  \n",
       "2014-01-01               NaN       NaN       NaN       NaN       NaN  \n",
       "2015-01-01               NaN       NaN       NaN       NaN       NaN  \n",
       "2016-01-01               NaN       NaN       NaN       NaN       NaN  \n",
       "2017-01-01               NaN       NaN       NaN       NaN       NaN  \n",
       "2018-01-01               NaN       NaN       NaN       NaN       NaN  \n",
       "2019-01-01               NaN       NaN       NaN       NaN       NaN  \n",
       "2020-01-01               NaN       NaN       NaN       NaN       NaN  \n",
       "2021-01-01               NaN       NaN       NaN       NaN       NaN  \n",
       "2022-01-01               NaN       NaN       NaN       NaN       NaN  "
      ]
     },
     "execution_count": 22,
     "metadata": {},
     "output_type": "execute_result"
    }
   ],
   "source": [
    "# access triangle object\n",
    "r.paid_loss"
   ]
  },
  {
   "cell_type": "code",
   "execution_count": 23,
   "metadata": {},
   "outputs": [
    {
     "name": "stdout",
     "output_type": "stream",
     "text": [
      "This is for testing only.I do not recommend assigning much credibility to these estimates\n"
     ]
    },
    {
     "data": {
      "text/plain": [
       "rocky(id='rocky1', mod=(\"glm\", \"icrfs\", \"ll\"), f=(), plot=(), t=\"paid_loss\", rockylog=None)"
      ]
     },
     "execution_count": 23,
     "metadata": {},
     "output_type": "execute_result"
    }
   ],
   "source": [
    "r.AddModel('ll', 'loglinear', 'paid_loss')\n",
    "r"
   ]
  },
  {
   "cell_type": "code",
   "execution_count": 25,
   "metadata": {},
   "outputs": [
    {
     "data": {
      "text/plain": [
       "0      2003\n",
       "1      2004\n",
       "2      2005\n",
       "3      2006\n",
       "4      2007\n",
       "       ... \n",
       "341    2004\n",
       "342    2005\n",
       "360    2003\n",
       "361    2004\n",
       "380    2003\n",
       "Name: accident_period, Length: 210, dtype: int32"
      ]
     },
     "execution_count": 25,
     "metadata": {},
     "output_type": "execute_result"
    }
   ],
   "source": [
    "r.ll.acc"
   ]
  },
  {
   "cell_type": "code",
   "execution_count": 8,
   "metadata": {},
   "outputs": [
    {
     "data": {
      "text/html": [
       "<div>\n",
       "<style scoped>\n",
       "    .dataframe tbody tr th:only-of-type {\n",
       "        vertical-align: middle;\n",
       "    }\n",
       "\n",
       "    .dataframe tbody tr th {\n",
       "        vertical-align: top;\n",
       "    }\n",
       "\n",
       "    .dataframe thead th {\n",
       "        text-align: right;\n",
       "    }\n",
       "</style>\n",
       "<table border=\"1\" class=\"dataframe\">\n",
       "  <thead>\n",
       "    <tr style=\"text-align: right;\">\n",
       "      <th>development_period</th>\n",
       "      <th>12</th>\n",
       "      <th>24</th>\n",
       "      <th>36</th>\n",
       "      <th>48</th>\n",
       "      <th>60</th>\n",
       "      <th>72</th>\n",
       "      <th>84</th>\n",
       "      <th>96</th>\n",
       "      <th>108</th>\n",
       "      <th>120</th>\n",
       "      <th>132</th>\n",
       "      <th>144</th>\n",
       "      <th>156</th>\n",
       "      <th>168</th>\n",
       "      <th>180</th>\n",
       "      <th>192</th>\n",
       "      <th>204</th>\n",
       "      <th>216</th>\n",
       "      <th>228</th>\n",
       "      <th>240</th>\n",
       "    </tr>\n",
       "    <tr>\n",
       "      <th>accident_period</th>\n",
       "      <th></th>\n",
       "      <th></th>\n",
       "      <th></th>\n",
       "      <th></th>\n",
       "      <th></th>\n",
       "      <th></th>\n",
       "      <th></th>\n",
       "      <th></th>\n",
       "      <th></th>\n",
       "      <th></th>\n",
       "      <th></th>\n",
       "      <th></th>\n",
       "      <th></th>\n",
       "      <th></th>\n",
       "      <th></th>\n",
       "      <th></th>\n",
       "      <th></th>\n",
       "      <th></th>\n",
       "      <th></th>\n",
       "      <th></th>\n",
       "    </tr>\n",
       "  </thead>\n",
       "  <tbody>\n",
       "    <tr>\n",
       "      <th>2003-01-01</th>\n",
       "      <td>50330.0</td>\n",
       "      <td>107898.0</td>\n",
       "      <td>136945.0</td>\n",
       "      <td>153476.0</td>\n",
       "      <td>163446.0</td>\n",
       "      <td>170897.0</td>\n",
       "      <td>176694.0</td>\n",
       "      <td>179683.0</td>\n",
       "      <td>181314.0</td>\n",
       "      <td>182628.0</td>\n",
       "      <td>183684.0</td>\n",
       "      <td>184610.0</td>\n",
       "      <td>185183.0</td>\n",
       "      <td>185970.0</td>\n",
       "      <td>186695.0</td>\n",
       "      <td>187245.0</td>\n",
       "      <td>187945.0</td>\n",
       "      <td>188593.0</td>\n",
       "      <td>190049.0</td>\n",
       "      <td>190285.0</td>\n",
       "    </tr>\n",
       "    <tr>\n",
       "      <th>2004-01-01</th>\n",
       "      <td>56728.0</td>\n",
       "      <td>118567.0</td>\n",
       "      <td>147424.0</td>\n",
       "      <td>165383.0</td>\n",
       "      <td>177974.0</td>\n",
       "      <td>184788.0</td>\n",
       "      <td>189194.0</td>\n",
       "      <td>194049.0</td>\n",
       "      <td>197031.0</td>\n",
       "      <td>199073.0</td>\n",
       "      <td>200373.0</td>\n",
       "      <td>203933.0</td>\n",
       "      <td>205157.0</td>\n",
       "      <td>205872.0</td>\n",
       "      <td>206186.0</td>\n",
       "      <td>206744.0</td>\n",
       "      <td>207097.0</td>\n",
       "      <td>207341.0</td>\n",
       "      <td>208639.0</td>\n",
       "      <td>NaN</td>\n",
       "    </tr>\n",
       "    <tr>\n",
       "      <th>2005-01-01</th>\n",
       "      <td>57102.0</td>\n",
       "      <td>118436.0</td>\n",
       "      <td>147933.0</td>\n",
       "      <td>167785.0</td>\n",
       "      <td>178853.0</td>\n",
       "      <td>184737.0</td>\n",
       "      <td>189670.0</td>\n",
       "      <td>192074.0</td>\n",
       "      <td>193631.0</td>\n",
       "      <td>195255.0</td>\n",
       "      <td>196621.0</td>\n",
       "      <td>197400.0</td>\n",
       "      <td>198085.0</td>\n",
       "      <td>199019.0</td>\n",
       "      <td>199769.0</td>\n",
       "      <td>201215.0</td>\n",
       "      <td>201832.0</td>\n",
       "      <td>202066.0</td>\n",
       "      <td>NaN</td>\n",
       "      <td>NaN</td>\n",
       "    </tr>\n",
       "    <tr>\n",
       "      <th>2006-01-01</th>\n",
       "      <td>63725.0</td>\n",
       "      <td>135805.0</td>\n",
       "      <td>171107.0</td>\n",
       "      <td>190146.0</td>\n",
       "      <td>201018.0</td>\n",
       "      <td>209221.0</td>\n",
       "      <td>214884.0</td>\n",
       "      <td>219271.0</td>\n",
       "      <td>222141.0</td>\n",
       "      <td>226018.0</td>\n",
       "      <td>228246.0</td>\n",
       "      <td>230138.0</td>\n",
       "      <td>232340.0</td>\n",
       "      <td>233039.0</td>\n",
       "      <td>234316.0</td>\n",
       "      <td>234901.0</td>\n",
       "      <td>235986.0</td>\n",
       "      <td>NaN</td>\n",
       "      <td>NaN</td>\n",
       "      <td>NaN</td>\n",
       "    </tr>\n",
       "    <tr>\n",
       "      <th>2007-01-01</th>\n",
       "      <td>64449.0</td>\n",
       "      <td>136478.0</td>\n",
       "      <td>173430.0</td>\n",
       "      <td>193387.0</td>\n",
       "      <td>205651.0</td>\n",
       "      <td>211715.0</td>\n",
       "      <td>216153.0</td>\n",
       "      <td>218710.0</td>\n",
       "      <td>222250.0</td>\n",
       "      <td>223615.0</td>\n",
       "      <td>225497.0</td>\n",
       "      <td>227206.0</td>\n",
       "      <td>227881.0</td>\n",
       "      <td>229481.0</td>\n",
       "      <td>230098.0</td>\n",
       "      <td>230571.0</td>\n",
       "      <td>NaN</td>\n",
       "      <td>NaN</td>\n",
       "      <td>NaN</td>\n",
       "      <td>NaN</td>\n",
       "    </tr>\n",
       "    <tr>\n",
       "      <th>2008-01-01</th>\n",
       "      <td>68035.0</td>\n",
       "      <td>145582.0</td>\n",
       "      <td>181946.0</td>\n",
       "      <td>202926.0</td>\n",
       "      <td>217764.0</td>\n",
       "      <td>226280.0</td>\n",
       "      <td>230892.0</td>\n",
       "      <td>235734.0</td>\n",
       "      <td>238717.0</td>\n",
       "      <td>240135.0</td>\n",
       "      <td>241393.0</td>\n",
       "      <td>242397.0</td>\n",
       "      <td>242952.0</td>\n",
       "      <td>243311.0</td>\n",
       "      <td>243746.0</td>\n",
       "      <td>NaN</td>\n",
       "      <td>NaN</td>\n",
       "      <td>NaN</td>\n",
       "      <td>NaN</td>\n",
       "      <td>NaN</td>\n",
       "    </tr>\n",
       "    <tr>\n",
       "      <th>2009-01-01</th>\n",
       "      <td>61673.0</td>\n",
       "      <td>123776.0</td>\n",
       "      <td>152108.0</td>\n",
       "      <td>166905.0</td>\n",
       "      <td>175113.0</td>\n",
       "      <td>180130.0</td>\n",
       "      <td>184282.0</td>\n",
       "      <td>187589.0</td>\n",
       "      <td>188790.0</td>\n",
       "      <td>190638.0</td>\n",
       "      <td>191719.0</td>\n",
       "      <td>192974.0</td>\n",
       "      <td>193706.0</td>\n",
       "      <td>194419.0</td>\n",
       "      <td>NaN</td>\n",
       "      <td>NaN</td>\n",
       "      <td>NaN</td>\n",
       "      <td>NaN</td>\n",
       "      <td>NaN</td>\n",
       "      <td>NaN</td>\n",
       "    </tr>\n",
       "    <tr>\n",
       "      <th>2010-01-01</th>\n",
       "      <td>63743.0</td>\n",
       "      <td>125836.0</td>\n",
       "      <td>153564.0</td>\n",
       "      <td>169391.0</td>\n",
       "      <td>180501.0</td>\n",
       "      <td>187276.0</td>\n",
       "      <td>190278.0</td>\n",
       "      <td>192477.0</td>\n",
       "      <td>195197.0</td>\n",
       "      <td>196939.0</td>\n",
       "      <td>198366.0</td>\n",
       "      <td>198754.0</td>\n",
       "      <td>199674.0</td>\n",
       "      <td>NaN</td>\n",
       "      <td>NaN</td>\n",
       "      <td>NaN</td>\n",
       "      <td>NaN</td>\n",
       "      <td>NaN</td>\n",
       "      <td>NaN</td>\n",
       "      <td>NaN</td>\n",
       "    </tr>\n",
       "    <tr>\n",
       "      <th>2011-01-01</th>\n",
       "      <td>61631.0</td>\n",
       "      <td>123717.0</td>\n",
       "      <td>151484.0</td>\n",
       "      <td>166925.0</td>\n",
       "      <td>174995.0</td>\n",
       "      <td>179062.0</td>\n",
       "      <td>181316.0</td>\n",
       "      <td>183516.0</td>\n",
       "      <td>185931.0</td>\n",
       "      <td>186904.0</td>\n",
       "      <td>188619.0</td>\n",
       "      <td>189183.0</td>\n",
       "      <td>NaN</td>\n",
       "      <td>NaN</td>\n",
       "      <td>NaN</td>\n",
       "      <td>NaN</td>\n",
       "      <td>NaN</td>\n",
       "      <td>NaN</td>\n",
       "      <td>NaN</td>\n",
       "      <td>NaN</td>\n",
       "    </tr>\n",
       "    <tr>\n",
       "      <th>2012-01-01</th>\n",
       "      <td>59102.0</td>\n",
       "      <td>115341.0</td>\n",
       "      <td>140139.0</td>\n",
       "      <td>154009.0</td>\n",
       "      <td>162990.0</td>\n",
       "      <td>166658.0</td>\n",
       "      <td>169627.0</td>\n",
       "      <td>171608.0</td>\n",
       "      <td>173610.0</td>\n",
       "      <td>174188.0</td>\n",
       "      <td>174806.0</td>\n",
       "      <td>NaN</td>\n",
       "      <td>NaN</td>\n",
       "      <td>NaN</td>\n",
       "      <td>NaN</td>\n",
       "      <td>NaN</td>\n",
       "      <td>NaN</td>\n",
       "      <td>NaN</td>\n",
       "      <td>NaN</td>\n",
       "      <td>NaN</td>\n",
       "    </tr>\n",
       "    <tr>\n",
       "      <th>2013-01-01</th>\n",
       "      <td>58997.0</td>\n",
       "      <td>113350.0</td>\n",
       "      <td>136647.0</td>\n",
       "      <td>148550.0</td>\n",
       "      <td>156016.0</td>\n",
       "      <td>159853.0</td>\n",
       "      <td>162242.0</td>\n",
       "      <td>165372.0</td>\n",
       "      <td>168463.0</td>\n",
       "      <td>170404.0</td>\n",
       "      <td>NaN</td>\n",
       "      <td>NaN</td>\n",
       "      <td>NaN</td>\n",
       "      <td>NaN</td>\n",
       "      <td>NaN</td>\n",
       "      <td>NaN</td>\n",
       "      <td>NaN</td>\n",
       "      <td>NaN</td>\n",
       "      <td>NaN</td>\n",
       "      <td>NaN</td>\n",
       "    </tr>\n",
       "    <tr>\n",
       "      <th>2014-01-01</th>\n",
       "      <td>53547.0</td>\n",
       "      <td>103585.0</td>\n",
       "      <td>125075.0</td>\n",
       "      <td>138638.0</td>\n",
       "      <td>147677.0</td>\n",
       "      <td>153121.0</td>\n",
       "      <td>156494.0</td>\n",
       "      <td>159141.0</td>\n",
       "      <td>161034.0</td>\n",
       "      <td>NaN</td>\n",
       "      <td>NaN</td>\n",
       "      <td>NaN</td>\n",
       "      <td>NaN</td>\n",
       "      <td>NaN</td>\n",
       "      <td>NaN</td>\n",
       "      <td>NaN</td>\n",
       "      <td>NaN</td>\n",
       "      <td>NaN</td>\n",
       "      <td>NaN</td>\n",
       "      <td>NaN</td>\n",
       "    </tr>\n",
       "    <tr>\n",
       "      <th>2015-01-01</th>\n",
       "      <td>45566.0</td>\n",
       "      <td>87447.0</td>\n",
       "      <td>108267.0</td>\n",
       "      <td>121106.0</td>\n",
       "      <td>127118.0</td>\n",
       "      <td>130371.0</td>\n",
       "      <td>132477.0</td>\n",
       "      <td>133705.0</td>\n",
       "      <td>NaN</td>\n",
       "      <td>NaN</td>\n",
       "      <td>NaN</td>\n",
       "      <td>NaN</td>\n",
       "      <td>NaN</td>\n",
       "      <td>NaN</td>\n",
       "      <td>NaN</td>\n",
       "      <td>NaN</td>\n",
       "      <td>NaN</td>\n",
       "      <td>NaN</td>\n",
       "      <td>NaN</td>\n",
       "      <td>NaN</td>\n",
       "    </tr>\n",
       "    <tr>\n",
       "      <th>2016-01-01</th>\n",
       "      <td>43844.0</td>\n",
       "      <td>91798.0</td>\n",
       "      <td>112317.0</td>\n",
       "      <td>124121.0</td>\n",
       "      <td>133879.0</td>\n",
       "      <td>139039.0</td>\n",
       "      <td>141790.0</td>\n",
       "      <td>NaN</td>\n",
       "      <td>NaN</td>\n",
       "      <td>NaN</td>\n",
       "      <td>NaN</td>\n",
       "      <td>NaN</td>\n",
       "      <td>NaN</td>\n",
       "      <td>NaN</td>\n",
       "      <td>NaN</td>\n",
       "      <td>NaN</td>\n",
       "      <td>NaN</td>\n",
       "      <td>NaN</td>\n",
       "      <td>NaN</td>\n",
       "      <td>NaN</td>\n",
       "    </tr>\n",
       "    <tr>\n",
       "      <th>2017-01-01</th>\n",
       "      <td>42759.0</td>\n",
       "      <td>83733.0</td>\n",
       "      <td>99890.0</td>\n",
       "      <td>107009.0</td>\n",
       "      <td>112460.0</td>\n",
       "      <td>115488.0</td>\n",
       "      <td>NaN</td>\n",
       "      <td>NaN</td>\n",
       "      <td>NaN</td>\n",
       "      <td>NaN</td>\n",
       "      <td>NaN</td>\n",
       "      <td>NaN</td>\n",
       "      <td>NaN</td>\n",
       "      <td>NaN</td>\n",
       "      <td>NaN</td>\n",
       "      <td>NaN</td>\n",
       "      <td>NaN</td>\n",
       "      <td>NaN</td>\n",
       "      <td>NaN</td>\n",
       "      <td>NaN</td>\n",
       "    </tr>\n",
       "    <tr>\n",
       "      <th>2018-01-01</th>\n",
       "      <td>46172.0</td>\n",
       "      <td>89779.0</td>\n",
       "      <td>108550.0</td>\n",
       "      <td>118092.0</td>\n",
       "      <td>124180.0</td>\n",
       "      <td>NaN</td>\n",
       "      <td>NaN</td>\n",
       "      <td>NaN</td>\n",
       "      <td>NaN</td>\n",
       "      <td>NaN</td>\n",
       "      <td>NaN</td>\n",
       "      <td>NaN</td>\n",
       "      <td>NaN</td>\n",
       "      <td>NaN</td>\n",
       "      <td>NaN</td>\n",
       "      <td>NaN</td>\n",
       "      <td>NaN</td>\n",
       "      <td>NaN</td>\n",
       "      <td>NaN</td>\n",
       "      <td>NaN</td>\n",
       "    </tr>\n",
       "    <tr>\n",
       "      <th>2019-01-01</th>\n",
       "      <td>46727.0</td>\n",
       "      <td>88194.0</td>\n",
       "      <td>106568.0</td>\n",
       "      <td>114994.0</td>\n",
       "      <td>NaN</td>\n",
       "      <td>NaN</td>\n",
       "      <td>NaN</td>\n",
       "      <td>NaN</td>\n",
       "      <td>NaN</td>\n",
       "      <td>NaN</td>\n",
       "      <td>NaN</td>\n",
       "      <td>NaN</td>\n",
       "      <td>NaN</td>\n",
       "      <td>NaN</td>\n",
       "      <td>NaN</td>\n",
       "      <td>NaN</td>\n",
       "      <td>NaN</td>\n",
       "      <td>NaN</td>\n",
       "      <td>NaN</td>\n",
       "      <td>NaN</td>\n",
       "    </tr>\n",
       "    <tr>\n",
       "      <th>2020-01-01</th>\n",
       "      <td>35114.0</td>\n",
       "      <td>63465.0</td>\n",
       "      <td>75927.0</td>\n",
       "      <td>NaN</td>\n",
       "      <td>NaN</td>\n",
       "      <td>NaN</td>\n",
       "      <td>NaN</td>\n",
       "      <td>NaN</td>\n",
       "      <td>NaN</td>\n",
       "      <td>NaN</td>\n",
       "      <td>NaN</td>\n",
       "      <td>NaN</td>\n",
       "      <td>NaN</td>\n",
       "      <td>NaN</td>\n",
       "      <td>NaN</td>\n",
       "      <td>NaN</td>\n",
       "      <td>NaN</td>\n",
       "      <td>NaN</td>\n",
       "      <td>NaN</td>\n",
       "      <td>NaN</td>\n",
       "    </tr>\n",
       "    <tr>\n",
       "      <th>2021-01-01</th>\n",
       "      <td>31909.0</td>\n",
       "      <td>69984.0</td>\n",
       "      <td>NaN</td>\n",
       "      <td>NaN</td>\n",
       "      <td>NaN</td>\n",
       "      <td>NaN</td>\n",
       "      <td>NaN</td>\n",
       "      <td>NaN</td>\n",
       "      <td>NaN</td>\n",
       "      <td>NaN</td>\n",
       "      <td>NaN</td>\n",
       "      <td>NaN</td>\n",
       "      <td>NaN</td>\n",
       "      <td>NaN</td>\n",
       "      <td>NaN</td>\n",
       "      <td>NaN</td>\n",
       "      <td>NaN</td>\n",
       "      <td>NaN</td>\n",
       "      <td>NaN</td>\n",
       "      <td>NaN</td>\n",
       "    </tr>\n",
       "    <tr>\n",
       "      <th>2022-01-01</th>\n",
       "      <td>34447.0</td>\n",
       "      <td>NaN</td>\n",
       "      <td>NaN</td>\n",
       "      <td>NaN</td>\n",
       "      <td>NaN</td>\n",
       "      <td>NaN</td>\n",
       "      <td>NaN</td>\n",
       "      <td>NaN</td>\n",
       "      <td>NaN</td>\n",
       "      <td>NaN</td>\n",
       "      <td>NaN</td>\n",
       "      <td>NaN</td>\n",
       "      <td>NaN</td>\n",
       "      <td>NaN</td>\n",
       "      <td>NaN</td>\n",
       "      <td>NaN</td>\n",
       "      <td>NaN</td>\n",
       "      <td>NaN</td>\n",
       "      <td>NaN</td>\n",
       "      <td>NaN</td>\n",
       "    </tr>\n",
       "  </tbody>\n",
       "</table>\n",
       "</div>"
      ],
      "text/plain": [
       "development_period       12        24        36        48        60        72  \\\n",
       "accident_period                                                                 \n",
       "2003-01-01          50330.0  107898.0  136945.0  153476.0  163446.0  170897.0   \n",
       "2004-01-01          56728.0  118567.0  147424.0  165383.0  177974.0  184788.0   \n",
       "2005-01-01          57102.0  118436.0  147933.0  167785.0  178853.0  184737.0   \n",
       "2006-01-01          63725.0  135805.0  171107.0  190146.0  201018.0  209221.0   \n",
       "2007-01-01          64449.0  136478.0  173430.0  193387.0  205651.0  211715.0   \n",
       "2008-01-01          68035.0  145582.0  181946.0  202926.0  217764.0  226280.0   \n",
       "2009-01-01          61673.0  123776.0  152108.0  166905.0  175113.0  180130.0   \n",
       "2010-01-01          63743.0  125836.0  153564.0  169391.0  180501.0  187276.0   \n",
       "2011-01-01          61631.0  123717.0  151484.0  166925.0  174995.0  179062.0   \n",
       "2012-01-01          59102.0  115341.0  140139.0  154009.0  162990.0  166658.0   \n",
       "2013-01-01          58997.0  113350.0  136647.0  148550.0  156016.0  159853.0   \n",
       "2014-01-01          53547.0  103585.0  125075.0  138638.0  147677.0  153121.0   \n",
       "2015-01-01          45566.0   87447.0  108267.0  121106.0  127118.0  130371.0   \n",
       "2016-01-01          43844.0   91798.0  112317.0  124121.0  133879.0  139039.0   \n",
       "2017-01-01          42759.0   83733.0   99890.0  107009.0  112460.0  115488.0   \n",
       "2018-01-01          46172.0   89779.0  108550.0  118092.0  124180.0       NaN   \n",
       "2019-01-01          46727.0   88194.0  106568.0  114994.0       NaN       NaN   \n",
       "2020-01-01          35114.0   63465.0   75927.0       NaN       NaN       NaN   \n",
       "2021-01-01          31909.0   69984.0       NaN       NaN       NaN       NaN   \n",
       "2022-01-01          34447.0       NaN       NaN       NaN       NaN       NaN   \n",
       "\n",
       "development_period        84        96       108       120       132  \\\n",
       "accident_period                                                        \n",
       "2003-01-01          176694.0  179683.0  181314.0  182628.0  183684.0   \n",
       "2004-01-01          189194.0  194049.0  197031.0  199073.0  200373.0   \n",
       "2005-01-01          189670.0  192074.0  193631.0  195255.0  196621.0   \n",
       "2006-01-01          214884.0  219271.0  222141.0  226018.0  228246.0   \n",
       "2007-01-01          216153.0  218710.0  222250.0  223615.0  225497.0   \n",
       "2008-01-01          230892.0  235734.0  238717.0  240135.0  241393.0   \n",
       "2009-01-01          184282.0  187589.0  188790.0  190638.0  191719.0   \n",
       "2010-01-01          190278.0  192477.0  195197.0  196939.0  198366.0   \n",
       "2011-01-01          181316.0  183516.0  185931.0  186904.0  188619.0   \n",
       "2012-01-01          169627.0  171608.0  173610.0  174188.0  174806.0   \n",
       "2013-01-01          162242.0  165372.0  168463.0  170404.0       NaN   \n",
       "2014-01-01          156494.0  159141.0  161034.0       NaN       NaN   \n",
       "2015-01-01          132477.0  133705.0       NaN       NaN       NaN   \n",
       "2016-01-01          141790.0       NaN       NaN       NaN       NaN   \n",
       "2017-01-01               NaN       NaN       NaN       NaN       NaN   \n",
       "2018-01-01               NaN       NaN       NaN       NaN       NaN   \n",
       "2019-01-01               NaN       NaN       NaN       NaN       NaN   \n",
       "2020-01-01               NaN       NaN       NaN       NaN       NaN   \n",
       "2021-01-01               NaN       NaN       NaN       NaN       NaN   \n",
       "2022-01-01               NaN       NaN       NaN       NaN       NaN   \n",
       "\n",
       "development_period       144       156       168       180       192  \\\n",
       "accident_period                                                        \n",
       "2003-01-01          184610.0  185183.0  185970.0  186695.0  187245.0   \n",
       "2004-01-01          203933.0  205157.0  205872.0  206186.0  206744.0   \n",
       "2005-01-01          197400.0  198085.0  199019.0  199769.0  201215.0   \n",
       "2006-01-01          230138.0  232340.0  233039.0  234316.0  234901.0   \n",
       "2007-01-01          227206.0  227881.0  229481.0  230098.0  230571.0   \n",
       "2008-01-01          242397.0  242952.0  243311.0  243746.0       NaN   \n",
       "2009-01-01          192974.0  193706.0  194419.0       NaN       NaN   \n",
       "2010-01-01          198754.0  199674.0       NaN       NaN       NaN   \n",
       "2011-01-01          189183.0       NaN       NaN       NaN       NaN   \n",
       "2012-01-01               NaN       NaN       NaN       NaN       NaN   \n",
       "2013-01-01               NaN       NaN       NaN       NaN       NaN   \n",
       "2014-01-01               NaN       NaN       NaN       NaN       NaN   \n",
       "2015-01-01               NaN       NaN       NaN       NaN       NaN   \n",
       "2016-01-01               NaN       NaN       NaN       NaN       NaN   \n",
       "2017-01-01               NaN       NaN       NaN       NaN       NaN   \n",
       "2018-01-01               NaN       NaN       NaN       NaN       NaN   \n",
       "2019-01-01               NaN       NaN       NaN       NaN       NaN   \n",
       "2020-01-01               NaN       NaN       NaN       NaN       NaN   \n",
       "2021-01-01               NaN       NaN       NaN       NaN       NaN   \n",
       "2022-01-01               NaN       NaN       NaN       NaN       NaN   \n",
       "\n",
       "development_period       204       216       228       240  \n",
       "accident_period                                             \n",
       "2003-01-01          187945.0  188593.0  190049.0  190285.0  \n",
       "2004-01-01          207097.0  207341.0  208639.0       NaN  \n",
       "2005-01-01          201832.0  202066.0       NaN       NaN  \n",
       "2006-01-01          235986.0       NaN       NaN       NaN  \n",
       "2007-01-01               NaN       NaN       NaN       NaN  \n",
       "2008-01-01               NaN       NaN       NaN       NaN  \n",
       "2009-01-01               NaN       NaN       NaN       NaN  \n",
       "2010-01-01               NaN       NaN       NaN       NaN  \n",
       "2011-01-01               NaN       NaN       NaN       NaN  \n",
       "2012-01-01               NaN       NaN       NaN       NaN  \n",
       "2013-01-01               NaN       NaN       NaN       NaN  \n",
       "2014-01-01               NaN       NaN       NaN       NaN  \n",
       "2015-01-01               NaN       NaN       NaN       NaN  \n",
       "2016-01-01               NaN       NaN       NaN       NaN  \n",
       "2017-01-01               NaN       NaN       NaN       NaN  \n",
       "2018-01-01               NaN       NaN       NaN       NaN  \n",
       "2019-01-01               NaN       NaN       NaN       NaN  \n",
       "2020-01-01               NaN       NaN       NaN       NaN  \n",
       "2021-01-01               NaN       NaN       NaN       NaN  \n",
       "2022-01-01               NaN       NaN       NaN       NaN  "
      ]
     },
     "execution_count": 8,
     "metadata": {},
     "output_type": "execute_result"
    }
   ],
   "source": [
    "# access dataframe representation of triangle object\n",
    "r.paid_loss.tri.round(0)"
   ]
  },
  {
   "cell_type": "code",
   "execution_count": 9,
   "metadata": {},
   "outputs": [
    {
     "data": {
      "text/html": [
       "<div>\n",
       "<style scoped>\n",
       "    .dataframe tbody tr th:only-of-type {\n",
       "        vertical-align: middle;\n",
       "    }\n",
       "\n",
       "    .dataframe tbody tr th {\n",
       "        vertical-align: top;\n",
       "    }\n",
       "\n",
       "    .dataframe thead th {\n",
       "        text-align: right;\n",
       "    }\n",
       "</style>\n",
       "<table border=\"1\" class=\"dataframe\">\n",
       "  <thead>\n",
       "    <tr style=\"text-align: right;\">\n",
       "      <th></th>\n",
       "      <th>is_observed</th>\n",
       "      <th>accident_period_2004</th>\n",
       "      <th>accident_period_2005</th>\n",
       "      <th>accident_period_2006</th>\n",
       "      <th>accident_period_2007</th>\n",
       "      <th>accident_period_2008</th>\n",
       "      <th>accident_period_2009</th>\n",
       "      <th>accident_period_2010</th>\n",
       "      <th>accident_period_2011</th>\n",
       "      <th>accident_period_2012</th>\n",
       "      <th>...</th>\n",
       "      <th>development_period_0132</th>\n",
       "      <th>development_period_0144</th>\n",
       "      <th>development_period_0156</th>\n",
       "      <th>development_period_0168</th>\n",
       "      <th>development_period_0180</th>\n",
       "      <th>development_period_0192</th>\n",
       "      <th>development_period_0204</th>\n",
       "      <th>development_period_0216</th>\n",
       "      <th>development_period_0228</th>\n",
       "      <th>development_period_0240</th>\n",
       "    </tr>\n",
       "  </thead>\n",
       "  <tbody>\n",
       "    <tr>\n",
       "      <th>0</th>\n",
       "      <td>1</td>\n",
       "      <td>0</td>\n",
       "      <td>0</td>\n",
       "      <td>0</td>\n",
       "      <td>0</td>\n",
       "      <td>0</td>\n",
       "      <td>0</td>\n",
       "      <td>0</td>\n",
       "      <td>0</td>\n",
       "      <td>0</td>\n",
       "      <td>...</td>\n",
       "      <td>0</td>\n",
       "      <td>0</td>\n",
       "      <td>0</td>\n",
       "      <td>0</td>\n",
       "      <td>0</td>\n",
       "      <td>0</td>\n",
       "      <td>0</td>\n",
       "      <td>0</td>\n",
       "      <td>0</td>\n",
       "      <td>0</td>\n",
       "    </tr>\n",
       "    <tr>\n",
       "      <th>1</th>\n",
       "      <td>1</td>\n",
       "      <td>1</td>\n",
       "      <td>0</td>\n",
       "      <td>0</td>\n",
       "      <td>0</td>\n",
       "      <td>0</td>\n",
       "      <td>0</td>\n",
       "      <td>0</td>\n",
       "      <td>0</td>\n",
       "      <td>0</td>\n",
       "      <td>...</td>\n",
       "      <td>0</td>\n",
       "      <td>0</td>\n",
       "      <td>0</td>\n",
       "      <td>0</td>\n",
       "      <td>0</td>\n",
       "      <td>0</td>\n",
       "      <td>0</td>\n",
       "      <td>0</td>\n",
       "      <td>0</td>\n",
       "      <td>0</td>\n",
       "    </tr>\n",
       "    <tr>\n",
       "      <th>2</th>\n",
       "      <td>1</td>\n",
       "      <td>1</td>\n",
       "      <td>1</td>\n",
       "      <td>0</td>\n",
       "      <td>0</td>\n",
       "      <td>0</td>\n",
       "      <td>0</td>\n",
       "      <td>0</td>\n",
       "      <td>0</td>\n",
       "      <td>0</td>\n",
       "      <td>...</td>\n",
       "      <td>0</td>\n",
       "      <td>0</td>\n",
       "      <td>0</td>\n",
       "      <td>0</td>\n",
       "      <td>0</td>\n",
       "      <td>0</td>\n",
       "      <td>0</td>\n",
       "      <td>0</td>\n",
       "      <td>0</td>\n",
       "      <td>0</td>\n",
       "    </tr>\n",
       "    <tr>\n",
       "      <th>3</th>\n",
       "      <td>1</td>\n",
       "      <td>1</td>\n",
       "      <td>1</td>\n",
       "      <td>1</td>\n",
       "      <td>0</td>\n",
       "      <td>0</td>\n",
       "      <td>0</td>\n",
       "      <td>0</td>\n",
       "      <td>0</td>\n",
       "      <td>0</td>\n",
       "      <td>...</td>\n",
       "      <td>0</td>\n",
       "      <td>0</td>\n",
       "      <td>0</td>\n",
       "      <td>0</td>\n",
       "      <td>0</td>\n",
       "      <td>0</td>\n",
       "      <td>0</td>\n",
       "      <td>0</td>\n",
       "      <td>0</td>\n",
       "      <td>0</td>\n",
       "    </tr>\n",
       "    <tr>\n",
       "      <th>4</th>\n",
       "      <td>1</td>\n",
       "      <td>1</td>\n",
       "      <td>1</td>\n",
       "      <td>1</td>\n",
       "      <td>1</td>\n",
       "      <td>0</td>\n",
       "      <td>0</td>\n",
       "      <td>0</td>\n",
       "      <td>0</td>\n",
       "      <td>0</td>\n",
       "      <td>...</td>\n",
       "      <td>0</td>\n",
       "      <td>0</td>\n",
       "      <td>0</td>\n",
       "      <td>0</td>\n",
       "      <td>0</td>\n",
       "      <td>0</td>\n",
       "      <td>0</td>\n",
       "      <td>0</td>\n",
       "      <td>0</td>\n",
       "      <td>0</td>\n",
       "    </tr>\n",
       "    <tr>\n",
       "      <th>5</th>\n",
       "      <td>1</td>\n",
       "      <td>1</td>\n",
       "      <td>1</td>\n",
       "      <td>1</td>\n",
       "      <td>1</td>\n",
       "      <td>1</td>\n",
       "      <td>0</td>\n",
       "      <td>0</td>\n",
       "      <td>0</td>\n",
       "      <td>0</td>\n",
       "      <td>...</td>\n",
       "      <td>0</td>\n",
       "      <td>0</td>\n",
       "      <td>0</td>\n",
       "      <td>0</td>\n",
       "      <td>0</td>\n",
       "      <td>0</td>\n",
       "      <td>0</td>\n",
       "      <td>0</td>\n",
       "      <td>0</td>\n",
       "      <td>0</td>\n",
       "    </tr>\n",
       "    <tr>\n",
       "      <th>6</th>\n",
       "      <td>1</td>\n",
       "      <td>1</td>\n",
       "      <td>1</td>\n",
       "      <td>1</td>\n",
       "      <td>1</td>\n",
       "      <td>1</td>\n",
       "      <td>1</td>\n",
       "      <td>0</td>\n",
       "      <td>0</td>\n",
       "      <td>0</td>\n",
       "      <td>...</td>\n",
       "      <td>0</td>\n",
       "      <td>0</td>\n",
       "      <td>0</td>\n",
       "      <td>0</td>\n",
       "      <td>0</td>\n",
       "      <td>0</td>\n",
       "      <td>0</td>\n",
       "      <td>0</td>\n",
       "      <td>0</td>\n",
       "      <td>0</td>\n",
       "    </tr>\n",
       "    <tr>\n",
       "      <th>7</th>\n",
       "      <td>1</td>\n",
       "      <td>1</td>\n",
       "      <td>1</td>\n",
       "      <td>1</td>\n",
       "      <td>1</td>\n",
       "      <td>1</td>\n",
       "      <td>1</td>\n",
       "      <td>1</td>\n",
       "      <td>0</td>\n",
       "      <td>0</td>\n",
       "      <td>...</td>\n",
       "      <td>0</td>\n",
       "      <td>0</td>\n",
       "      <td>0</td>\n",
       "      <td>0</td>\n",
       "      <td>0</td>\n",
       "      <td>0</td>\n",
       "      <td>0</td>\n",
       "      <td>0</td>\n",
       "      <td>0</td>\n",
       "      <td>0</td>\n",
       "    </tr>\n",
       "    <tr>\n",
       "      <th>8</th>\n",
       "      <td>1</td>\n",
       "      <td>1</td>\n",
       "      <td>1</td>\n",
       "      <td>1</td>\n",
       "      <td>1</td>\n",
       "      <td>1</td>\n",
       "      <td>1</td>\n",
       "      <td>1</td>\n",
       "      <td>1</td>\n",
       "      <td>0</td>\n",
       "      <td>...</td>\n",
       "      <td>0</td>\n",
       "      <td>0</td>\n",
       "      <td>0</td>\n",
       "      <td>0</td>\n",
       "      <td>0</td>\n",
       "      <td>0</td>\n",
       "      <td>0</td>\n",
       "      <td>0</td>\n",
       "      <td>0</td>\n",
       "      <td>0</td>\n",
       "    </tr>\n",
       "    <tr>\n",
       "      <th>9</th>\n",
       "      <td>1</td>\n",
       "      <td>1</td>\n",
       "      <td>1</td>\n",
       "      <td>1</td>\n",
       "      <td>1</td>\n",
       "      <td>1</td>\n",
       "      <td>1</td>\n",
       "      <td>1</td>\n",
       "      <td>1</td>\n",
       "      <td>1</td>\n",
       "      <td>...</td>\n",
       "      <td>0</td>\n",
       "      <td>0</td>\n",
       "      <td>0</td>\n",
       "      <td>0</td>\n",
       "      <td>0</td>\n",
       "      <td>0</td>\n",
       "      <td>0</td>\n",
       "      <td>0</td>\n",
       "      <td>0</td>\n",
       "      <td>0</td>\n",
       "    </tr>\n",
       "  </tbody>\n",
       "</table>\n",
       "<p>10 rows × 39 columns</p>\n",
       "</div>"
      ],
      "text/plain": [
       "   is_observed  accident_period_2004  accident_period_2005  \\\n",
       "0            1                     0                     0   \n",
       "1            1                     1                     0   \n",
       "2            1                     1                     1   \n",
       "3            1                     1                     1   \n",
       "4            1                     1                     1   \n",
       "5            1                     1                     1   \n",
       "6            1                     1                     1   \n",
       "7            1                     1                     1   \n",
       "8            1                     1                     1   \n",
       "9            1                     1                     1   \n",
       "\n",
       "   accident_period_2006  accident_period_2007  accident_period_2008  \\\n",
       "0                     0                     0                     0   \n",
       "1                     0                     0                     0   \n",
       "2                     0                     0                     0   \n",
       "3                     1                     0                     0   \n",
       "4                     1                     1                     0   \n",
       "5                     1                     1                     1   \n",
       "6                     1                     1                     1   \n",
       "7                     1                     1                     1   \n",
       "8                     1                     1                     1   \n",
       "9                     1                     1                     1   \n",
       "\n",
       "   accident_period_2009  accident_period_2010  accident_period_2011  \\\n",
       "0                     0                     0                     0   \n",
       "1                     0                     0                     0   \n",
       "2                     0                     0                     0   \n",
       "3                     0                     0                     0   \n",
       "4                     0                     0                     0   \n",
       "5                     0                     0                     0   \n",
       "6                     1                     0                     0   \n",
       "7                     1                     1                     0   \n",
       "8                     1                     1                     1   \n",
       "9                     1                     1                     1   \n",
       "\n",
       "   accident_period_2012  ...  development_period_0132  \\\n",
       "0                     0  ...                        0   \n",
       "1                     0  ...                        0   \n",
       "2                     0  ...                        0   \n",
       "3                     0  ...                        0   \n",
       "4                     0  ...                        0   \n",
       "5                     0  ...                        0   \n",
       "6                     0  ...                        0   \n",
       "7                     0  ...                        0   \n",
       "8                     0  ...                        0   \n",
       "9                     1  ...                        0   \n",
       "\n",
       "   development_period_0144  development_period_0156  development_period_0168  \\\n",
       "0                        0                        0                        0   \n",
       "1                        0                        0                        0   \n",
       "2                        0                        0                        0   \n",
       "3                        0                        0                        0   \n",
       "4                        0                        0                        0   \n",
       "5                        0                        0                        0   \n",
       "6                        0                        0                        0   \n",
       "7                        0                        0                        0   \n",
       "8                        0                        0                        0   \n",
       "9                        0                        0                        0   \n",
       "\n",
       "   development_period_0180  development_period_0192  development_period_0204  \\\n",
       "0                        0                        0                        0   \n",
       "1                        0                        0                        0   \n",
       "2                        0                        0                        0   \n",
       "3                        0                        0                        0   \n",
       "4                        0                        0                        0   \n",
       "5                        0                        0                        0   \n",
       "6                        0                        0                        0   \n",
       "7                        0                        0                        0   \n",
       "8                        0                        0                        0   \n",
       "9                        0                        0                        0   \n",
       "\n",
       "   development_period_0216  development_period_0228  development_period_0240  \n",
       "0                        0                        0                        0  \n",
       "1                        0                        0                        0  \n",
       "2                        0                        0                        0  \n",
       "3                        0                        0                        0  \n",
       "4                        0                        0                        0  \n",
       "5                        0                        0                        0  \n",
       "6                        0                        0                        0  \n",
       "7                        0                        0                        0  \n",
       "8                        0                        0                        0  \n",
       "9                        0                        0                        0  \n",
       "\n",
       "[10 rows x 39 columns]"
      ]
     },
     "execution_count": 9,
     "metadata": {},
     "output_type": "execute_result"
    }
   ],
   "source": [
    "# access linear design matrix:\n",
    "r.paid_loss.X_base.head(10)"
   ]
  },
  {
   "cell_type": "code",
   "execution_count": 10,
   "metadata": {},
   "outputs": [
    {
     "data": {
      "text/html": [
       "<div>\n",
       "<style scoped>\n",
       "    .dataframe tbody tr th:only-of-type {\n",
       "        vertical-align: middle;\n",
       "    }\n",
       "\n",
       "    .dataframe tbody tr th {\n",
       "        vertical-align: top;\n",
       "    }\n",
       "\n",
       "    .dataframe thead th {\n",
       "        text-align: right;\n",
       "    }\n",
       "</style>\n",
       "<table border=\"1\" class=\"dataframe\">\n",
       "  <thead>\n",
       "    <tr style=\"text-align: right;\">\n",
       "      <th>Age-to-Age Factors as of (months)</th>\n",
       "      <th>12</th>\n",
       "      <th>24</th>\n",
       "      <th>36</th>\n",
       "      <th>48</th>\n",
       "      <th>60</th>\n",
       "      <th>72</th>\n",
       "      <th>84</th>\n",
       "      <th>96</th>\n",
       "      <th>108</th>\n",
       "      <th>120</th>\n",
       "      <th>132</th>\n",
       "      <th>144</th>\n",
       "      <th>156</th>\n",
       "      <th>168</th>\n",
       "      <th>180</th>\n",
       "      <th>192</th>\n",
       "      <th>204</th>\n",
       "      <th>216</th>\n",
       "      <th>228</th>\n",
       "    </tr>\n",
       "  </thead>\n",
       "  <tbody>\n",
       "    <tr>\n",
       "      <th>2003</th>\n",
       "      <td>2.144</td>\n",
       "      <td>1.269</td>\n",
       "      <td>1.121</td>\n",
       "      <td>1.065</td>\n",
       "      <td>1.046</td>\n",
       "      <td>1.034</td>\n",
       "      <td>1.017</td>\n",
       "      <td>1.009</td>\n",
       "      <td>1.007</td>\n",
       "      <td>1.006</td>\n",
       "      <td>1.005</td>\n",
       "      <td>1.003</td>\n",
       "      <td>1.004</td>\n",
       "      <td>1.004</td>\n",
       "      <td>1.003</td>\n",
       "      <td>1.004</td>\n",
       "      <td>1.003</td>\n",
       "      <td>1.008</td>\n",
       "      <td>1.001</td>\n",
       "    </tr>\n",
       "    <tr>\n",
       "      <th>2004</th>\n",
       "      <td>2.09</td>\n",
       "      <td>1.243</td>\n",
       "      <td>1.122</td>\n",
       "      <td>1.076</td>\n",
       "      <td>1.038</td>\n",
       "      <td>1.024</td>\n",
       "      <td>1.026</td>\n",
       "      <td>1.015</td>\n",
       "      <td>1.01</td>\n",
       "      <td>1.007</td>\n",
       "      <td>1.018</td>\n",
       "      <td>1.006</td>\n",
       "      <td>1.003</td>\n",
       "      <td>1.002</td>\n",
       "      <td>1.003</td>\n",
       "      <td>1.002</td>\n",
       "      <td>1.001</td>\n",
       "      <td>1.006</td>\n",
       "      <td></td>\n",
       "    </tr>\n",
       "    <tr>\n",
       "      <th>2005</th>\n",
       "      <td>2.074</td>\n",
       "      <td>1.249</td>\n",
       "      <td>1.134</td>\n",
       "      <td>1.066</td>\n",
       "      <td>1.033</td>\n",
       "      <td>1.027</td>\n",
       "      <td>1.013</td>\n",
       "      <td>1.008</td>\n",
       "      <td>1.008</td>\n",
       "      <td>1.007</td>\n",
       "      <td>1.004</td>\n",
       "      <td>1.003</td>\n",
       "      <td>1.005</td>\n",
       "      <td>1.004</td>\n",
       "      <td>1.007</td>\n",
       "      <td>1.003</td>\n",
       "      <td>1.001</td>\n",
       "      <td></td>\n",
       "      <td></td>\n",
       "    </tr>\n",
       "    <tr>\n",
       "      <th>2006</th>\n",
       "      <td>2.131</td>\n",
       "      <td>1.26</td>\n",
       "      <td>1.111</td>\n",
       "      <td>1.057</td>\n",
       "      <td>1.041</td>\n",
       "      <td>1.027</td>\n",
       "      <td>1.02</td>\n",
       "      <td>1.013</td>\n",
       "      <td>1.017</td>\n",
       "      <td>1.01</td>\n",
       "      <td>1.008</td>\n",
       "      <td>1.01</td>\n",
       "      <td>1.003</td>\n",
       "      <td>1.005</td>\n",
       "      <td>1.002</td>\n",
       "      <td>1.005</td>\n",
       "      <td></td>\n",
       "      <td></td>\n",
       "      <td></td>\n",
       "    </tr>\n",
       "    <tr>\n",
       "      <th>2007</th>\n",
       "      <td>2.118</td>\n",
       "      <td>1.271</td>\n",
       "      <td>1.115</td>\n",
       "      <td>1.063</td>\n",
       "      <td>1.029</td>\n",
       "      <td>1.021</td>\n",
       "      <td>1.012</td>\n",
       "      <td>1.016</td>\n",
       "      <td>1.006</td>\n",
       "      <td>1.008</td>\n",
       "      <td>1.008</td>\n",
       "      <td>1.003</td>\n",
       "      <td>1.007</td>\n",
       "      <td>1.003</td>\n",
       "      <td>1.002</td>\n",
       "      <td></td>\n",
       "      <td></td>\n",
       "      <td></td>\n",
       "      <td></td>\n",
       "    </tr>\n",
       "    <tr>\n",
       "      <th>2008</th>\n",
       "      <td>2.14</td>\n",
       "      <td>1.25</td>\n",
       "      <td>1.115</td>\n",
       "      <td>1.073</td>\n",
       "      <td>1.039</td>\n",
       "      <td>1.02</td>\n",
       "      <td>1.021</td>\n",
       "      <td>1.013</td>\n",
       "      <td>1.006</td>\n",
       "      <td>1.005</td>\n",
       "      <td>1.004</td>\n",
       "      <td>1.002</td>\n",
       "      <td>1.001</td>\n",
       "      <td>1.002</td>\n",
       "      <td></td>\n",
       "      <td></td>\n",
       "      <td></td>\n",
       "      <td></td>\n",
       "      <td></td>\n",
       "    </tr>\n",
       "    <tr>\n",
       "      <th>2009</th>\n",
       "      <td>2.007</td>\n",
       "      <td>1.229</td>\n",
       "      <td>1.097</td>\n",
       "      <td>1.049</td>\n",
       "      <td>1.029</td>\n",
       "      <td>1.023</td>\n",
       "      <td>1.018</td>\n",
       "      <td>1.006</td>\n",
       "      <td>1.01</td>\n",
       "      <td>1.006</td>\n",
       "      <td>1.007</td>\n",
       "      <td>1.004</td>\n",
       "      <td>1.004</td>\n",
       "      <td></td>\n",
       "      <td></td>\n",
       "      <td></td>\n",
       "      <td></td>\n",
       "      <td></td>\n",
       "      <td></td>\n",
       "    </tr>\n",
       "    <tr>\n",
       "      <th>2010</th>\n",
       "      <td>1.974</td>\n",
       "      <td>1.22</td>\n",
       "      <td>1.103</td>\n",
       "      <td>1.066</td>\n",
       "      <td>1.038</td>\n",
       "      <td>1.016</td>\n",
       "      <td>1.012</td>\n",
       "      <td>1.014</td>\n",
       "      <td>1.009</td>\n",
       "      <td>1.007</td>\n",
       "      <td>1.002</td>\n",
       "      <td>1.005</td>\n",
       "      <td></td>\n",
       "      <td></td>\n",
       "      <td></td>\n",
       "      <td></td>\n",
       "      <td></td>\n",
       "      <td></td>\n",
       "      <td></td>\n",
       "    </tr>\n",
       "    <tr>\n",
       "      <th>2011</th>\n",
       "      <td>2.007</td>\n",
       "      <td>1.224</td>\n",
       "      <td>1.102</td>\n",
       "      <td>1.048</td>\n",
       "      <td>1.023</td>\n",
       "      <td>1.013</td>\n",
       "      <td>1.012</td>\n",
       "      <td>1.013</td>\n",
       "      <td>1.005</td>\n",
       "      <td>1.009</td>\n",
       "      <td>1.003</td>\n",
       "      <td></td>\n",
       "      <td></td>\n",
       "      <td></td>\n",
       "      <td></td>\n",
       "      <td></td>\n",
       "      <td></td>\n",
       "      <td></td>\n",
       "      <td></td>\n",
       "    </tr>\n",
       "    <tr>\n",
       "      <th>2012</th>\n",
       "      <td>1.952</td>\n",
       "      <td>1.215</td>\n",
       "      <td>1.099</td>\n",
       "      <td>1.058</td>\n",
       "      <td>1.023</td>\n",
       "      <td>1.018</td>\n",
       "      <td>1.012</td>\n",
       "      <td>1.012</td>\n",
       "      <td>1.003</td>\n",
       "      <td>1.004</td>\n",
       "      <td></td>\n",
       "      <td></td>\n",
       "      <td></td>\n",
       "      <td></td>\n",
       "      <td></td>\n",
       "      <td></td>\n",
       "      <td></td>\n",
       "      <td></td>\n",
       "      <td></td>\n",
       "    </tr>\n",
       "    <tr>\n",
       "      <th>2013</th>\n",
       "      <td>1.921</td>\n",
       "      <td>1.206</td>\n",
       "      <td>1.087</td>\n",
       "      <td>1.05</td>\n",
       "      <td>1.025</td>\n",
       "      <td>1.015</td>\n",
       "      <td>1.019</td>\n",
       "      <td>1.019</td>\n",
       "      <td>1.012</td>\n",
       "      <td></td>\n",
       "      <td></td>\n",
       "      <td></td>\n",
       "      <td></td>\n",
       "      <td></td>\n",
       "      <td></td>\n",
       "      <td></td>\n",
       "      <td></td>\n",
       "      <td></td>\n",
       "      <td></td>\n",
       "    </tr>\n",
       "    <tr>\n",
       "      <th>2014</th>\n",
       "      <td>1.934</td>\n",
       "      <td>1.207</td>\n",
       "      <td>1.108</td>\n",
       "      <td>1.065</td>\n",
       "      <td>1.037</td>\n",
       "      <td>1.022</td>\n",
       "      <td>1.017</td>\n",
       "      <td>1.012</td>\n",
       "      <td></td>\n",
       "      <td></td>\n",
       "      <td></td>\n",
       "      <td></td>\n",
       "      <td></td>\n",
       "      <td></td>\n",
       "      <td></td>\n",
       "      <td></td>\n",
       "      <td></td>\n",
       "      <td></td>\n",
       "      <td></td>\n",
       "    </tr>\n",
       "    <tr>\n",
       "      <th>2015</th>\n",
       "      <td>1.919</td>\n",
       "      <td>1.238</td>\n",
       "      <td>1.119</td>\n",
       "      <td>1.05</td>\n",
       "      <td>1.026</td>\n",
       "      <td>1.016</td>\n",
       "      <td>1.009</td>\n",
       "      <td></td>\n",
       "      <td></td>\n",
       "      <td></td>\n",
       "      <td></td>\n",
       "      <td></td>\n",
       "      <td></td>\n",
       "      <td></td>\n",
       "      <td></td>\n",
       "      <td></td>\n",
       "      <td></td>\n",
       "      <td></td>\n",
       "      <td></td>\n",
       "    </tr>\n",
       "    <tr>\n",
       "      <th>2016</th>\n",
       "      <td>2.094</td>\n",
       "      <td>1.224</td>\n",
       "      <td>1.105</td>\n",
       "      <td>1.079</td>\n",
       "      <td>1.039</td>\n",
       "      <td>1.02</td>\n",
       "      <td></td>\n",
       "      <td></td>\n",
       "      <td></td>\n",
       "      <td></td>\n",
       "      <td></td>\n",
       "      <td></td>\n",
       "      <td></td>\n",
       "      <td></td>\n",
       "      <td></td>\n",
       "      <td></td>\n",
       "      <td></td>\n",
       "      <td></td>\n",
       "      <td></td>\n",
       "    </tr>\n",
       "    <tr>\n",
       "      <th>2017</th>\n",
       "      <td>1.958</td>\n",
       "      <td>1.193</td>\n",
       "      <td>1.071</td>\n",
       "      <td>1.051</td>\n",
       "      <td>1.027</td>\n",
       "      <td></td>\n",
       "      <td></td>\n",
       "      <td></td>\n",
       "      <td></td>\n",
       "      <td></td>\n",
       "      <td></td>\n",
       "      <td></td>\n",
       "      <td></td>\n",
       "      <td></td>\n",
       "      <td></td>\n",
       "      <td></td>\n",
       "      <td></td>\n",
       "      <td></td>\n",
       "      <td></td>\n",
       "    </tr>\n",
       "    <tr>\n",
       "      <th>2018</th>\n",
       "      <td>1.944</td>\n",
       "      <td>1.209</td>\n",
       "      <td>1.088</td>\n",
       "      <td>1.052</td>\n",
       "      <td></td>\n",
       "      <td></td>\n",
       "      <td></td>\n",
       "      <td></td>\n",
       "      <td></td>\n",
       "      <td></td>\n",
       "      <td></td>\n",
       "      <td></td>\n",
       "      <td></td>\n",
       "      <td></td>\n",
       "      <td></td>\n",
       "      <td></td>\n",
       "      <td></td>\n",
       "      <td></td>\n",
       "      <td></td>\n",
       "    </tr>\n",
       "    <tr>\n",
       "      <th>2019</th>\n",
       "      <td>1.887</td>\n",
       "      <td>1.208</td>\n",
       "      <td>1.079</td>\n",
       "      <td></td>\n",
       "      <td></td>\n",
       "      <td></td>\n",
       "      <td></td>\n",
       "      <td></td>\n",
       "      <td></td>\n",
       "      <td></td>\n",
       "      <td></td>\n",
       "      <td></td>\n",
       "      <td></td>\n",
       "      <td></td>\n",
       "      <td></td>\n",
       "      <td></td>\n",
       "      <td></td>\n",
       "      <td></td>\n",
       "      <td></td>\n",
       "    </tr>\n",
       "    <tr>\n",
       "      <th>2020</th>\n",
       "      <td>1.807</td>\n",
       "      <td>1.196</td>\n",
       "      <td></td>\n",
       "      <td></td>\n",
       "      <td></td>\n",
       "      <td></td>\n",
       "      <td></td>\n",
       "      <td></td>\n",
       "      <td></td>\n",
       "      <td></td>\n",
       "      <td></td>\n",
       "      <td></td>\n",
       "      <td></td>\n",
       "      <td></td>\n",
       "      <td></td>\n",
       "      <td></td>\n",
       "      <td></td>\n",
       "      <td></td>\n",
       "      <td></td>\n",
       "    </tr>\n",
       "    <tr>\n",
       "      <th>2021</th>\n",
       "      <td>2.193</td>\n",
       "      <td></td>\n",
       "      <td></td>\n",
       "      <td></td>\n",
       "      <td></td>\n",
       "      <td></td>\n",
       "      <td></td>\n",
       "      <td></td>\n",
       "      <td></td>\n",
       "      <td></td>\n",
       "      <td></td>\n",
       "      <td></td>\n",
       "      <td></td>\n",
       "      <td></td>\n",
       "      <td></td>\n",
       "      <td></td>\n",
       "      <td></td>\n",
       "      <td></td>\n",
       "      <td></td>\n",
       "    </tr>\n",
       "    <tr>\n",
       "      <th>Vol Wtd</th>\n",
       "      <td></td>\n",
       "      <td></td>\n",
       "      <td></td>\n",
       "      <td></td>\n",
       "      <td></td>\n",
       "      <td></td>\n",
       "      <td></td>\n",
       "      <td></td>\n",
       "      <td></td>\n",
       "      <td></td>\n",
       "      <td></td>\n",
       "      <td></td>\n",
       "      <td></td>\n",
       "      <td></td>\n",
       "      <td></td>\n",
       "      <td></td>\n",
       "      <td></td>\n",
       "      <td></td>\n",
       "      <td></td>\n",
       "    </tr>\n",
       "    <tr>\n",
       "      <th>All Years</th>\n",
       "      <td>2.02</td>\n",
       "      <td>1.231</td>\n",
       "      <td>1.106</td>\n",
       "      <td>1.061</td>\n",
       "      <td>1.033</td>\n",
       "      <td>1.021</td>\n",
       "      <td>1.016</td>\n",
       "      <td>1.013</td>\n",
       "      <td>1.009</td>\n",
       "      <td>1.007</td>\n",
       "      <td>1.007</td>\n",
       "      <td>1.005</td>\n",
       "      <td>1.004</td>\n",
       "      <td>1.003</td>\n",
       "      <td>1.003</td>\n",
       "      <td>1.003</td>\n",
       "      <td>1.002</td>\n",
       "      <td>1.007</td>\n",
       "      <td>1.001</td>\n",
       "    </tr>\n",
       "    <tr>\n",
       "      <th>5 Years</th>\n",
       "      <td>1.95</td>\n",
       "      <td>1.207</td>\n",
       "      <td>1.093</td>\n",
       "      <td>1.06</td>\n",
       "      <td>1.031</td>\n",
       "      <td>1.018</td>\n",
       "      <td>1.014</td>\n",
       "      <td>1.014</td>\n",
       "      <td>1.008</td>\n",
       "      <td>1.006</td>\n",
       "      <td>1.005</td>\n",
       "      <td>1.005</td>\n",
       "      <td>1.004</td>\n",
       "      <td>1.003</td>\n",
       "      <td>1.003</td>\n",
       "      <td>1.003</td>\n",
       "      <td>1.002</td>\n",
       "      <td>1.007</td>\n",
       "      <td>1.001</td>\n",
       "    </tr>\n",
       "    <tr>\n",
       "      <th>3 Years</th>\n",
       "      <td>1.948</td>\n",
       "      <td>1.205</td>\n",
       "      <td>1.08</td>\n",
       "      <td>1.061</td>\n",
       "      <td>1.031</td>\n",
       "      <td>1.019</td>\n",
       "      <td>1.016</td>\n",
       "      <td>1.014</td>\n",
       "      <td>1.007</td>\n",
       "      <td>1.007</td>\n",
       "      <td>1.004</td>\n",
       "      <td>1.003</td>\n",
       "      <td>1.004</td>\n",
       "      <td>1.003</td>\n",
       "      <td>1.004</td>\n",
       "      <td>1.003</td>\n",
       "      <td>1.002</td>\n",
       "      <td>1.007</td>\n",
       "      <td>1.001</td>\n",
       "    </tr>\n",
       "    <tr>\n",
       "      <th>2 Years</th>\n",
       "      <td>1.991</td>\n",
       "      <td>1.203</td>\n",
       "      <td>1.084</td>\n",
       "      <td>1.051</td>\n",
       "      <td>1.033</td>\n",
       "      <td>1.018</td>\n",
       "      <td>1.013</td>\n",
       "      <td>1.015</td>\n",
       "      <td>1.007</td>\n",
       "      <td>1.006</td>\n",
       "      <td>1.002</td>\n",
       "      <td>1.004</td>\n",
       "      <td>1.002</td>\n",
       "      <td>1.002</td>\n",
       "      <td>1.002</td>\n",
       "      <td>1.004</td>\n",
       "      <td>1.001</td>\n",
       "      <td>1.007</td>\n",
       "      <td>1.001</td>\n",
       "    </tr>\n",
       "    <tr>\n",
       "      <th>Simple</th>\n",
       "      <td></td>\n",
       "      <td></td>\n",
       "      <td></td>\n",
       "      <td></td>\n",
       "      <td></td>\n",
       "      <td></td>\n",
       "      <td></td>\n",
       "      <td></td>\n",
       "      <td></td>\n",
       "      <td></td>\n",
       "      <td></td>\n",
       "      <td></td>\n",
       "      <td></td>\n",
       "      <td></td>\n",
       "      <td></td>\n",
       "      <td></td>\n",
       "      <td></td>\n",
       "      <td></td>\n",
       "      <td></td>\n",
       "    </tr>\n",
       "    <tr>\n",
       "      <th>All Years</th>\n",
       "      <td>2.016</td>\n",
       "      <td>1.228</td>\n",
       "      <td>1.105</td>\n",
       "      <td>1.061</td>\n",
       "      <td>1.033</td>\n",
       "      <td>1.021</td>\n",
       "      <td>1.016</td>\n",
       "      <td>1.013</td>\n",
       "      <td>1.009</td>\n",
       "      <td>1.007</td>\n",
       "      <td>1.006</td>\n",
       "      <td>1.004</td>\n",
       "      <td>1.004</td>\n",
       "      <td>1.003</td>\n",
       "      <td>1.003</td>\n",
       "      <td>1.003</td>\n",
       "      <td>1.002</td>\n",
       "      <td>1.007</td>\n",
       "      <td>1.001</td>\n",
       "    </tr>\n",
       "    <tr>\n",
       "      <th>5 Years</th>\n",
       "      <td>1.958</td>\n",
       "      <td>1.206</td>\n",
       "      <td>1.092</td>\n",
       "      <td>1.059</td>\n",
       "      <td>1.031</td>\n",
       "      <td>1.018</td>\n",
       "      <td>1.014</td>\n",
       "      <td>1.014</td>\n",
       "      <td>1.008</td>\n",
       "      <td>1.006</td>\n",
       "      <td>1.005</td>\n",
       "      <td>1.005</td>\n",
       "      <td>1.004</td>\n",
       "      <td>1.003</td>\n",
       "      <td>1.003</td>\n",
       "      <td>1.003</td>\n",
       "      <td>1.002</td>\n",
       "      <td>1.007</td>\n",
       "      <td>1.001</td>\n",
       "    </tr>\n",
       "    <tr>\n",
       "      <th>3 Years</th>\n",
       "      <td>1.963</td>\n",
       "      <td>1.205</td>\n",
       "      <td>1.079</td>\n",
       "      <td>1.06</td>\n",
       "      <td>1.03</td>\n",
       "      <td>1.019</td>\n",
       "      <td>1.015</td>\n",
       "      <td>1.014</td>\n",
       "      <td>1.007</td>\n",
       "      <td>1.007</td>\n",
       "      <td>1.004</td>\n",
       "      <td>1.004</td>\n",
       "      <td>1.004</td>\n",
       "      <td>1.003</td>\n",
       "      <td>1.004</td>\n",
       "      <td>1.003</td>\n",
       "      <td>1.002</td>\n",
       "      <td>1.007</td>\n",
       "      <td>1.001</td>\n",
       "    </tr>\n",
       "    <tr>\n",
       "      <th>2 Years</th>\n",
       "      <td>2.0</td>\n",
       "      <td>1.202</td>\n",
       "      <td>1.083</td>\n",
       "      <td>1.051</td>\n",
       "      <td>1.033</td>\n",
       "      <td>1.018</td>\n",
       "      <td>1.013</td>\n",
       "      <td>1.015</td>\n",
       "      <td>1.007</td>\n",
       "      <td>1.006</td>\n",
       "      <td>1.002</td>\n",
       "      <td>1.004</td>\n",
       "      <td>1.003</td>\n",
       "      <td>1.002</td>\n",
       "      <td>1.002</td>\n",
       "      <td>1.004</td>\n",
       "      <td>1.001</td>\n",
       "      <td>1.007</td>\n",
       "      <td>1.001</td>\n",
       "    </tr>\n",
       "    <tr>\n",
       "      <th>Medial 5-Year</th>\n",
       "      <td></td>\n",
       "      <td></td>\n",
       "      <td></td>\n",
       "      <td></td>\n",
       "      <td></td>\n",
       "      <td></td>\n",
       "      <td></td>\n",
       "      <td></td>\n",
       "      <td></td>\n",
       "      <td></td>\n",
       "      <td></td>\n",
       "      <td></td>\n",
       "      <td></td>\n",
       "      <td></td>\n",
       "      <td></td>\n",
       "      <td></td>\n",
       "      <td></td>\n",
       "      <td></td>\n",
       "      <td></td>\n",
       "    </tr>\n",
       "    <tr>\n",
       "      <th>Ex. Hi/Low</th>\n",
       "      <td>1.93</td>\n",
       "      <td>1.205</td>\n",
       "      <td>1.091</td>\n",
       "      <td>1.056</td>\n",
       "      <td>1.03</td>\n",
       "      <td>1.018</td>\n",
       "      <td>1.014</td>\n",
       "      <td>1.013</td>\n",
       "      <td>1.008</td>\n",
       "      <td>1.006</td>\n",
       "      <td>1.005</td>\n",
       "      <td>1.004</td>\n",
       "      <td>1.004</td>\n",
       "      <td>1.003</td>\n",
       "      <td>1.003</td>\n",
       "      <td>1.003</td>\n",
       "      <td>1.001</td>\n",
       "      <td>1.007</td>\n",
       "      <td>1.001</td>\n",
       "    </tr>\n",
       "    <tr>\n",
       "      <th>Ex. Hi</th>\n",
       "      <td>1.899</td>\n",
       "      <td>1.202</td>\n",
       "      <td>1.086</td>\n",
       "      <td>1.054</td>\n",
       "      <td>1.028</td>\n",
       "      <td>1.017</td>\n",
       "      <td>1.012</td>\n",
       "      <td>1.013</td>\n",
       "      <td>1.007</td>\n",
       "      <td>1.005</td>\n",
       "      <td>1.004</td>\n",
       "      <td>1.003</td>\n",
       "      <td>1.003</td>\n",
       "      <td>1.002</td>\n",
       "      <td>1.003</td>\n",
       "      <td>1.003</td>\n",
       "      <td>1.001</td>\n",
       "      <td>1.006</td>\n",
       "      <td>1.001</td>\n",
       "    </tr>\n",
       "    <tr>\n",
       "      <th>Ex. Low</th>\n",
       "      <td>1.996</td>\n",
       "      <td>1.209</td>\n",
       "      <td>1.098</td>\n",
       "      <td>1.062</td>\n",
       "      <td>1.032</td>\n",
       "      <td>1.019</td>\n",
       "      <td>1.015</td>\n",
       "      <td>1.014</td>\n",
       "      <td>1.009</td>\n",
       "      <td>1.007</td>\n",
       "      <td>1.005</td>\n",
       "      <td>1.005</td>\n",
       "      <td>1.005</td>\n",
       "      <td>1.003</td>\n",
       "      <td>1.004</td>\n",
       "      <td>1.004</td>\n",
       "      <td>1.002</td>\n",
       "      <td>1.008</td>\n",
       "      <td>1.001</td>\n",
       "    </tr>\n",
       "  </tbody>\n",
       "</table>\n",
       "</div>"
      ],
      "text/plain": [
       "Age-to-Age Factors as of (months)     12     24     36     48     60     72  \\\n",
       "2003                               2.144  1.269  1.121  1.065  1.046  1.034   \n",
       "2004                                2.09  1.243  1.122  1.076  1.038  1.024   \n",
       "2005                               2.074  1.249  1.134  1.066  1.033  1.027   \n",
       "2006                               2.131   1.26  1.111  1.057  1.041  1.027   \n",
       "2007                               2.118  1.271  1.115  1.063  1.029  1.021   \n",
       "2008                                2.14   1.25  1.115  1.073  1.039   1.02   \n",
       "2009                               2.007  1.229  1.097  1.049  1.029  1.023   \n",
       "2010                               1.974   1.22  1.103  1.066  1.038  1.016   \n",
       "2011                               2.007  1.224  1.102  1.048  1.023  1.013   \n",
       "2012                               1.952  1.215  1.099  1.058  1.023  1.018   \n",
       "2013                               1.921  1.206  1.087   1.05  1.025  1.015   \n",
       "2014                               1.934  1.207  1.108  1.065  1.037  1.022   \n",
       "2015                               1.919  1.238  1.119   1.05  1.026  1.016   \n",
       "2016                               2.094  1.224  1.105  1.079  1.039   1.02   \n",
       "2017                               1.958  1.193  1.071  1.051  1.027          \n",
       "2018                               1.944  1.209  1.088  1.052                 \n",
       "2019                               1.887  1.208  1.079                        \n",
       "2020                               1.807  1.196                               \n",
       "2021                               2.193                                      \n",
       "Vol Wtd                                                                       \n",
       "All Years                           2.02  1.231  1.106  1.061  1.033  1.021   \n",
       "5 Years                             1.95  1.207  1.093   1.06  1.031  1.018   \n",
       "3 Years                            1.948  1.205   1.08  1.061  1.031  1.019   \n",
       "2 Years                            1.991  1.203  1.084  1.051  1.033  1.018   \n",
       "Simple                                                                        \n",
       "All Years                          2.016  1.228  1.105  1.061  1.033  1.021   \n",
       "5 Years                            1.958  1.206  1.092  1.059  1.031  1.018   \n",
       "3 Years                            1.963  1.205  1.079   1.06   1.03  1.019   \n",
       "2 Years                              2.0  1.202  1.083  1.051  1.033  1.018   \n",
       "Medial 5-Year                                                                 \n",
       "Ex. Hi/Low                          1.93  1.205  1.091  1.056   1.03  1.018   \n",
       "Ex. Hi                             1.899  1.202  1.086  1.054  1.028  1.017   \n",
       "Ex. Low                            1.996  1.209  1.098  1.062  1.032  1.019   \n",
       "\n",
       "Age-to-Age Factors as of (months)     84     96    108    120    132    144  \\\n",
       "2003                               1.017  1.009  1.007  1.006  1.005  1.003   \n",
       "2004                               1.026  1.015   1.01  1.007  1.018  1.006   \n",
       "2005                               1.013  1.008  1.008  1.007  1.004  1.003   \n",
       "2006                                1.02  1.013  1.017   1.01  1.008   1.01   \n",
       "2007                               1.012  1.016  1.006  1.008  1.008  1.003   \n",
       "2008                               1.021  1.013  1.006  1.005  1.004  1.002   \n",
       "2009                               1.018  1.006   1.01  1.006  1.007  1.004   \n",
       "2010                               1.012  1.014  1.009  1.007  1.002  1.005   \n",
       "2011                               1.012  1.013  1.005  1.009  1.003          \n",
       "2012                               1.012  1.012  1.003  1.004                 \n",
       "2013                               1.019  1.019  1.012                        \n",
       "2014                               1.017  1.012                               \n",
       "2015                               1.009                                      \n",
       "2016                                                                          \n",
       "2017                                                                          \n",
       "2018                                                                          \n",
       "2019                                                                          \n",
       "2020                                                                          \n",
       "2021                                                                          \n",
       "Vol Wtd                                                                       \n",
       "All Years                          1.016  1.013  1.009  1.007  1.007  1.005   \n",
       "5 Years                            1.014  1.014  1.008  1.006  1.005  1.005   \n",
       "3 Years                            1.016  1.014  1.007  1.007  1.004  1.003   \n",
       "2 Years                            1.013  1.015  1.007  1.006  1.002  1.004   \n",
       "Simple                                                                        \n",
       "All Years                          1.016  1.013  1.009  1.007  1.006  1.004   \n",
       "5 Years                            1.014  1.014  1.008  1.006  1.005  1.005   \n",
       "3 Years                            1.015  1.014  1.007  1.007  1.004  1.004   \n",
       "2 Years                            1.013  1.015  1.007  1.006  1.002  1.004   \n",
       "Medial 5-Year                                                                 \n",
       "Ex. Hi/Low                         1.014  1.013  1.008  1.006  1.005  1.004   \n",
       "Ex. Hi                             1.012  1.013  1.007  1.005  1.004  1.003   \n",
       "Ex. Low                            1.015  1.014  1.009  1.007  1.005  1.005   \n",
       "\n",
       "Age-to-Age Factors as of (months)    156    168    180    192    204    216  \\\n",
       "2003                               1.004  1.004  1.003  1.004  1.003  1.008   \n",
       "2004                               1.003  1.002  1.003  1.002  1.001  1.006   \n",
       "2005                               1.005  1.004  1.007  1.003  1.001          \n",
       "2006                               1.003  1.005  1.002  1.005                 \n",
       "2007                               1.007  1.003  1.002                        \n",
       "2008                               1.001  1.002                               \n",
       "2009                               1.004                                      \n",
       "2010                                                                          \n",
       "2011                                                                          \n",
       "2012                                                                          \n",
       "2013                                                                          \n",
       "2014                                                                          \n",
       "2015                                                                          \n",
       "2016                                                                          \n",
       "2017                                                                          \n",
       "2018                                                                          \n",
       "2019                                                                          \n",
       "2020                                                                          \n",
       "2021                                                                          \n",
       "Vol Wtd                                                                       \n",
       "All Years                          1.004  1.003  1.003  1.003  1.002  1.007   \n",
       "5 Years                            1.004  1.003  1.003  1.003  1.002  1.007   \n",
       "3 Years                            1.004  1.003  1.004  1.003  1.002  1.007   \n",
       "2 Years                            1.002  1.002  1.002  1.004  1.001  1.007   \n",
       "Simple                                                                        \n",
       "All Years                          1.004  1.003  1.003  1.003  1.002  1.007   \n",
       "5 Years                            1.004  1.003  1.003  1.003  1.002  1.007   \n",
       "3 Years                            1.004  1.003  1.004  1.003  1.002  1.007   \n",
       "2 Years                            1.003  1.002  1.002  1.004  1.001  1.007   \n",
       "Medial 5-Year                                                                 \n",
       "Ex. Hi/Low                         1.004  1.003  1.003  1.003  1.001  1.007   \n",
       "Ex. Hi                             1.003  1.002  1.003  1.003  1.001  1.006   \n",
       "Ex. Low                            1.005  1.003  1.004  1.004  1.002  1.008   \n",
       "\n",
       "Age-to-Age Factors as of (months)    228  \n",
       "2003                               1.001  \n",
       "2004                                      \n",
       "2005                                      \n",
       "2006                                      \n",
       "2007                                      \n",
       "2008                                      \n",
       "2009                                      \n",
       "2010                                      \n",
       "2011                                      \n",
       "2012                                      \n",
       "2013                                      \n",
       "2014                                      \n",
       "2015                                      \n",
       "2016                                      \n",
       "2017                                      \n",
       "2018                                      \n",
       "2019                                      \n",
       "2020                                      \n",
       "2021                                      \n",
       "Vol Wtd                                   \n",
       "All Years                          1.001  \n",
       "5 Years                            1.001  \n",
       "3 Years                            1.001  \n",
       "2 Years                            1.001  \n",
       "Simple                                    \n",
       "All Years                          1.001  \n",
       "5 Years                            1.001  \n",
       "3 Years                            1.001  \n",
       "2 Years                            1.001  \n",
       "Medial 5-Year                             \n",
       "Ex. Hi/Low                         1.001  \n",
       "Ex. Hi                             1.001  \n",
       "Ex. Low                            1.001  "
      ]
     },
     "execution_count": 10,
     "metadata": {},
     "output_type": "execute_result"
    }
   ],
   "source": [
    "# quick ATA factor summary\n",
    "r.paid_loss.ata_summary()"
   ]
  },
  {
   "cell_type": "code",
   "execution_count": 11,
   "metadata": {},
   "outputs": [
    {
     "data": {
      "text/plain": [
       "Accident Period\n",
       "2003-01-01    201892.0\n",
       "2004-01-01    221641.0\n",
       "2005-01-01    216151.0\n",
       "2006-01-01    252912.0\n",
       "2007-01-01    247929.0\n",
       "2008-01-01    262991.0\n",
       "2009-01-01    210410.0\n",
       "2010-01-01    216947.0\n",
       "2011-01-01    206506.0\n",
       "2012-01-01    191710.0\n",
       "2013-01-01    188035.0\n",
       "2014-01-01    179076.0\n",
       "2015-01-01    150751.0\n",
       "2016-01-01    162097.0\n",
       "2017-01-01    134423.0\n",
       "2018-01-01    148963.0\n",
       "2019-01-01    146177.0\n",
       "2020-01-01    105478.0\n",
       "2021-01-01    117340.0\n",
       "2022-01-01    112604.0\n",
       "Name: Chain Ladder Ultimate Loss, dtype: float64"
      ]
     },
     "execution_count": 11,
     "metadata": {},
     "output_type": "execute_result"
    }
   ],
   "source": [
    "# Triangle data type actually has a robust chain-ladder implementation that can be accessed\n",
    "\n",
    "# this isn't important for right now, but it is there and it works well:\n",
    "r.paid_loss.ult('vwa', 5, tail=1.061)"
   ]
  },
  {
   "cell_type": "code",
   "execution_count": 12,
   "metadata": {},
   "outputs": [
    {
     "name": "stdout",
     "output_type": "stream",
     "text": [
      "This is for testing only.I do not recommend assigning much credibility to these estimates\n",
      "rocky(id='rocky1', mod=(\"glm\", \"icrfs\"), f=(), plot=(), t=\"paid_loss\", rockylog=None)\n"
     ]
    }
   ],
   "source": [
    "# now add a GLM model to the triangle:\n",
    "r.AddModel('icrfs', 'loglinear', 'paid_loss')\n",
    "print(r)"
   ]
  },
  {
   "cell_type": "code",
   "execution_count": 13,
   "metadata": {},
   "outputs": [
    {
     "data": {
      "text/plain": [
       "loglinear(alpha=0.5, l1_ratio=0.5)"
      ]
     },
     "execution_count": 13,
     "metadata": {},
     "output_type": "execute_result"
    }
   ],
   "source": [
    "# load hyperparameters\n",
    "# r.tweedie.TuneFitHyperparameters()\n",
    "r.icrfs.SetHyperparameters(alpha=0.5, l1_ratio=0.5)\n",
    "# r.tweedie.SetHyperparameters(alpha=0.2, power=2.3)\n",
    "# r.tweedie.SetHyperparameters(alpha=1, power=1)\n",
    "r.icrfs"
   ]
  },
  {
   "cell_type": "code",
   "execution_count": 14,
   "metadata": {},
   "outputs": [
    {
     "name": "stderr",
     "output_type": "stream",
     "text": [
      "c:\\users\\AWEAVER\\dat\\lib\\site-packages\\pandas\\core\\arraylike.py:396: RuntimeWarning: overflow encountered in exp\n",
      "  result = getattr(ufunc, method)(*inputs, **kwargs)\n"
     ]
    },
    {
     "data": {
      "text/plain": [
       "0                inf\n",
       "1                inf\n",
       "2                inf\n",
       "3                inf\n",
       "4                inf\n",
       "           ...      \n",
       "341    9.286533e+105\n",
       "342    4.216079e+101\n",
       "360              inf\n",
       "361              inf\n",
       "380    3.115285e+102\n",
       "Name: paid_loss, Length: 210, dtype: float64"
      ]
     },
     "execution_count": 14,
     "metadata": {},
     "output_type": "execute_result"
    }
   ],
   "source": [
    "r.icrfs.GetY('train')\n",
    "# r.icrfs.is_fitted"
   ]
  },
  {
   "cell_type": "code",
   "execution_count": 15,
   "metadata": {},
   "outputs": [
    {
     "name": "stderr",
     "output_type": "stream",
     "text": [
      "c:\\users\\AWEAVER\\dat\\lib\\site-packages\\pandas\\core\\arraylike.py:396: RuntimeWarning: overflow encountered in exp\n",
      "  result = getattr(ufunc, method)(*inputs, **kwargs)\n"
     ]
    },
    {
     "ename": "ValueError",
     "evalue": "Input y contains infinity or a value too large for dtype('float64').",
     "output_type": "error",
     "traceback": [
      "\u001b[1;31m---------------------------------------------------------------------------\u001b[0m",
      "\u001b[1;31mValueError\u001b[0m                                Traceback (most recent call last)",
      "Cell \u001b[1;32mIn[15], line 6\u001b[0m\n\u001b[0;32m      1\u001b[0m \u001b[39m## now that we have a set of hyperparameters, we can reuse them\u001b[39;00m\n\u001b[0;32m      2\u001b[0m \u001b[39m## next time using model.SetHyperparameters(alpha, power):\u001b[39;00m\n\u001b[0;32m      3\u001b[0m \u001b[39m# -> r.tweedie.SetHyperparameters(alpha=0.4, power=1.8)\u001b[39;00m\n\u001b[0;32m      4\u001b[0m \n\u001b[0;32m      5\u001b[0m \u001b[39m# fit base model to the data\u001b[39;00m\n\u001b[1;32m----> 6\u001b[0m r\u001b[39m.\u001b[39;49micrfs\u001b[39m.\u001b[39;49mFit()\n\u001b[0;32m      7\u001b[0m \u001b[39mprint\u001b[39m(r)\n",
      "File \u001b[1;32m~\\rocky\\rocky-app\\src\\py\\LogLinear.py:275\u001b[0m, in \u001b[0;36mloglinear.Fit\u001b[1;34m(self, X, y, alpha, l1_ratio, max_iter, **kwargs)\u001b[0m\n\u001b[0;32m    272\u001b[0m     X \u001b[39m=\u001b[39m X\u001b[39m.\u001b[39mdrop(columns\u001b[39m=\u001b[39m[\u001b[39m\"\u001b[39m\u001b[39mis_observed\u001b[39m\u001b[39m\"\u001b[39m])\n\u001b[0;32m    274\u001b[0m \u001b[39m# fit the model\u001b[39;00m\n\u001b[1;32m--> 275\u001b[0m \u001b[39mself\u001b[39;49m\u001b[39m.\u001b[39;49mmodel\u001b[39m.\u001b[39;49mfit(X, y)\n\u001b[0;32m    277\u001b[0m \u001b[39m# update attributes\u001b[39;00m\n\u001b[0;32m    278\u001b[0m \u001b[39mself\u001b[39m\u001b[39m.\u001b[39m_update_attributes(\u001b[39m\"\u001b[39m\u001b[39mfit\u001b[39m\u001b[39m\"\u001b[39m)\n",
      "File \u001b[1;32mc:\\users\\AWEAVER\\dat\\lib\\site-packages\\sklearn\\linear_model\\_coordinate_descent.py:908\u001b[0m, in \u001b[0;36mElasticNet.fit\u001b[1;34m(self, X, y, sample_weight, check_input)\u001b[0m\n\u001b[0;32m    906\u001b[0m \u001b[39mif\u001b[39;00m check_input:\n\u001b[0;32m    907\u001b[0m     X_copied \u001b[39m=\u001b[39m \u001b[39mself\u001b[39m\u001b[39m.\u001b[39mcopy_X \u001b[39mand\u001b[39;00m \u001b[39mself\u001b[39m\u001b[39m.\u001b[39mfit_intercept\n\u001b[1;32m--> 908\u001b[0m     X, y \u001b[39m=\u001b[39m \u001b[39mself\u001b[39;49m\u001b[39m.\u001b[39;49m_validate_data(\n\u001b[0;32m    909\u001b[0m         X,\n\u001b[0;32m    910\u001b[0m         y,\n\u001b[0;32m    911\u001b[0m         accept_sparse\u001b[39m=\u001b[39;49m\u001b[39m\"\u001b[39;49m\u001b[39mcsc\u001b[39;49m\u001b[39m\"\u001b[39;49m,\n\u001b[0;32m    912\u001b[0m         order\u001b[39m=\u001b[39;49m\u001b[39m\"\u001b[39;49m\u001b[39mF\u001b[39;49m\u001b[39m\"\u001b[39;49m,\n\u001b[0;32m    913\u001b[0m         dtype\u001b[39m=\u001b[39;49m[np\u001b[39m.\u001b[39;49mfloat64, np\u001b[39m.\u001b[39;49mfloat32],\n\u001b[0;32m    914\u001b[0m         copy\u001b[39m=\u001b[39;49mX_copied,\n\u001b[0;32m    915\u001b[0m         multi_output\u001b[39m=\u001b[39;49m\u001b[39mTrue\u001b[39;49;00m,\n\u001b[0;32m    916\u001b[0m         y_numeric\u001b[39m=\u001b[39;49m\u001b[39mTrue\u001b[39;49;00m,\n\u001b[0;32m    917\u001b[0m     )\n\u001b[0;32m    918\u001b[0m     y \u001b[39m=\u001b[39m check_array(\n\u001b[0;32m    919\u001b[0m         y, order\u001b[39m=\u001b[39m\u001b[39m\"\u001b[39m\u001b[39mF\u001b[39m\u001b[39m\"\u001b[39m, copy\u001b[39m=\u001b[39m\u001b[39mFalse\u001b[39;00m, dtype\u001b[39m=\u001b[39mX\u001b[39m.\u001b[39mdtype\u001b[39m.\u001b[39mtype, ensure_2d\u001b[39m=\u001b[39m\u001b[39mFalse\u001b[39;00m\n\u001b[0;32m    920\u001b[0m     )\n\u001b[0;32m    922\u001b[0m n_samples, n_features \u001b[39m=\u001b[39m X\u001b[39m.\u001b[39mshape\n",
      "File \u001b[1;32mc:\\users\\AWEAVER\\dat\\lib\\site-packages\\sklearn\\base.py:584\u001b[0m, in \u001b[0;36mBaseEstimator._validate_data\u001b[1;34m(self, X, y, reset, validate_separately, **check_params)\u001b[0m\n\u001b[0;32m    582\u001b[0m         y \u001b[39m=\u001b[39m check_array(y, input_name\u001b[39m=\u001b[39m\u001b[39m\"\u001b[39m\u001b[39my\u001b[39m\u001b[39m\"\u001b[39m, \u001b[39m*\u001b[39m\u001b[39m*\u001b[39mcheck_y_params)\n\u001b[0;32m    583\u001b[0m     \u001b[39melse\u001b[39;00m:\n\u001b[1;32m--> 584\u001b[0m         X, y \u001b[39m=\u001b[39m check_X_y(X, y, \u001b[39m*\u001b[39m\u001b[39m*\u001b[39mcheck_params)\n\u001b[0;32m    585\u001b[0m     out \u001b[39m=\u001b[39m X, y\n\u001b[0;32m    587\u001b[0m \u001b[39mif\u001b[39;00m \u001b[39mnot\u001b[39;00m no_val_X \u001b[39mand\u001b[39;00m check_params\u001b[39m.\u001b[39mget(\u001b[39m\"\u001b[39m\u001b[39mensure_2d\u001b[39m\u001b[39m\"\u001b[39m, \u001b[39mTrue\u001b[39;00m):\n",
      "File \u001b[1;32mc:\\users\\AWEAVER\\dat\\lib\\site-packages\\sklearn\\utils\\validation.py:1122\u001b[0m, in \u001b[0;36mcheck_X_y\u001b[1;34m(X, y, accept_sparse, accept_large_sparse, dtype, order, copy, force_all_finite, ensure_2d, allow_nd, multi_output, ensure_min_samples, ensure_min_features, y_numeric, estimator)\u001b[0m\n\u001b[0;32m   1102\u001b[0m     \u001b[39mraise\u001b[39;00m \u001b[39mValueError\u001b[39;00m(\n\u001b[0;32m   1103\u001b[0m         \u001b[39mf\u001b[39m\u001b[39m\"\u001b[39m\u001b[39m{\u001b[39;00mestimator_name\u001b[39m}\u001b[39;00m\u001b[39m requires y to be passed, but the target y is None\u001b[39m\u001b[39m\"\u001b[39m\n\u001b[0;32m   1104\u001b[0m     )\n\u001b[0;32m   1106\u001b[0m X \u001b[39m=\u001b[39m check_array(\n\u001b[0;32m   1107\u001b[0m     X,\n\u001b[0;32m   1108\u001b[0m     accept_sparse\u001b[39m=\u001b[39maccept_sparse,\n\u001b[1;32m   (...)\u001b[0m\n\u001b[0;32m   1119\u001b[0m     input_name\u001b[39m=\u001b[39m\u001b[39m\"\u001b[39m\u001b[39mX\u001b[39m\u001b[39m\"\u001b[39m,\n\u001b[0;32m   1120\u001b[0m )\n\u001b[1;32m-> 1122\u001b[0m y \u001b[39m=\u001b[39m _check_y(y, multi_output\u001b[39m=\u001b[39;49mmulti_output, y_numeric\u001b[39m=\u001b[39;49my_numeric, estimator\u001b[39m=\u001b[39;49mestimator)\n\u001b[0;32m   1124\u001b[0m check_consistent_length(X, y)\n\u001b[0;32m   1126\u001b[0m \u001b[39mreturn\u001b[39;00m X, y\n",
      "File \u001b[1;32mc:\\users\\AWEAVER\\dat\\lib\\site-packages\\sklearn\\utils\\validation.py:1132\u001b[0m, in \u001b[0;36m_check_y\u001b[1;34m(y, multi_output, y_numeric, estimator)\u001b[0m\n\u001b[0;32m   1130\u001b[0m \u001b[39m\u001b[39m\u001b[39m\"\"\"Isolated part of check_X_y dedicated to y validation\"\"\"\u001b[39;00m\n\u001b[0;32m   1131\u001b[0m \u001b[39mif\u001b[39;00m multi_output:\n\u001b[1;32m-> 1132\u001b[0m     y \u001b[39m=\u001b[39m check_array(\n\u001b[0;32m   1133\u001b[0m         y,\n\u001b[0;32m   1134\u001b[0m         accept_sparse\u001b[39m=\u001b[39;49m\u001b[39m\"\u001b[39;49m\u001b[39mcsr\u001b[39;49m\u001b[39m\"\u001b[39;49m,\n\u001b[0;32m   1135\u001b[0m         force_all_finite\u001b[39m=\u001b[39;49m\u001b[39mTrue\u001b[39;49;00m,\n\u001b[0;32m   1136\u001b[0m         ensure_2d\u001b[39m=\u001b[39;49m\u001b[39mFalse\u001b[39;49;00m,\n\u001b[0;32m   1137\u001b[0m         dtype\u001b[39m=\u001b[39;49m\u001b[39mNone\u001b[39;49;00m,\n\u001b[0;32m   1138\u001b[0m         input_name\u001b[39m=\u001b[39;49m\u001b[39m\"\u001b[39;49m\u001b[39my\u001b[39;49m\u001b[39m\"\u001b[39;49m,\n\u001b[0;32m   1139\u001b[0m         estimator\u001b[39m=\u001b[39;49mestimator,\n\u001b[0;32m   1140\u001b[0m     )\n\u001b[0;32m   1141\u001b[0m \u001b[39melse\u001b[39;00m:\n\u001b[0;32m   1142\u001b[0m     estimator_name \u001b[39m=\u001b[39m _check_estimator_name(estimator)\n",
      "File \u001b[1;32mc:\\users\\AWEAVER\\dat\\lib\\site-packages\\sklearn\\utils\\validation.py:921\u001b[0m, in \u001b[0;36mcheck_array\u001b[1;34m(array, accept_sparse, accept_large_sparse, dtype, order, copy, force_all_finite, ensure_2d, allow_nd, ensure_min_samples, ensure_min_features, estimator, input_name)\u001b[0m\n\u001b[0;32m    915\u001b[0m         \u001b[39mraise\u001b[39;00m \u001b[39mValueError\u001b[39;00m(\n\u001b[0;32m    916\u001b[0m             \u001b[39m\"\u001b[39m\u001b[39mFound array with dim \u001b[39m\u001b[39m%d\u001b[39;00m\u001b[39m. \u001b[39m\u001b[39m%s\u001b[39;00m\u001b[39m expected <= 2.\u001b[39m\u001b[39m\"\u001b[39m\n\u001b[0;32m    917\u001b[0m             \u001b[39m%\u001b[39m (array\u001b[39m.\u001b[39mndim, estimator_name)\n\u001b[0;32m    918\u001b[0m         )\n\u001b[0;32m    920\u001b[0m     \u001b[39mif\u001b[39;00m force_all_finite:\n\u001b[1;32m--> 921\u001b[0m         _assert_all_finite(\n\u001b[0;32m    922\u001b[0m             array,\n\u001b[0;32m    923\u001b[0m             input_name\u001b[39m=\u001b[39;49minput_name,\n\u001b[0;32m    924\u001b[0m             estimator_name\u001b[39m=\u001b[39;49mestimator_name,\n\u001b[0;32m    925\u001b[0m             allow_nan\u001b[39m=\u001b[39;49mforce_all_finite \u001b[39m==\u001b[39;49m \u001b[39m\"\u001b[39;49m\u001b[39mallow-nan\u001b[39;49m\u001b[39m\"\u001b[39;49m,\n\u001b[0;32m    926\u001b[0m         )\n\u001b[0;32m    928\u001b[0m \u001b[39mif\u001b[39;00m ensure_min_samples \u001b[39m>\u001b[39m \u001b[39m0\u001b[39m:\n\u001b[0;32m    929\u001b[0m     n_samples \u001b[39m=\u001b[39m _num_samples(array)\n",
      "File \u001b[1;32mc:\\users\\AWEAVER\\dat\\lib\\site-packages\\sklearn\\utils\\validation.py:161\u001b[0m, in \u001b[0;36m_assert_all_finite\u001b[1;34m(X, allow_nan, msg_dtype, estimator_name, input_name)\u001b[0m\n\u001b[0;32m    144\u001b[0m \u001b[39mif\u001b[39;00m estimator_name \u001b[39mand\u001b[39;00m input_name \u001b[39m==\u001b[39m \u001b[39m\"\u001b[39m\u001b[39mX\u001b[39m\u001b[39m\"\u001b[39m \u001b[39mand\u001b[39;00m has_nan_error:\n\u001b[0;32m    145\u001b[0m     \u001b[39m# Improve the error message on how to handle missing values in\u001b[39;00m\n\u001b[0;32m    146\u001b[0m     \u001b[39m# scikit-learn.\u001b[39;00m\n\u001b[0;32m    147\u001b[0m     msg_err \u001b[39m+\u001b[39m\u001b[39m=\u001b[39m (\n\u001b[0;32m    148\u001b[0m         \u001b[39mf\u001b[39m\u001b[39m\"\u001b[39m\u001b[39m\\n\u001b[39;00m\u001b[39m{\u001b[39;00mestimator_name\u001b[39m}\u001b[39;00m\u001b[39m does not accept missing values\u001b[39m\u001b[39m\"\u001b[39m\n\u001b[0;32m    149\u001b[0m         \u001b[39m\"\u001b[39m\u001b[39m encoded as NaN natively. For supervised learning, you might want\u001b[39m\u001b[39m\"\u001b[39m\n\u001b[1;32m   (...)\u001b[0m\n\u001b[0;32m    159\u001b[0m         \u001b[39m\"\u001b[39m\u001b[39m#estimators-that-handle-nan-values\u001b[39m\u001b[39m\"\u001b[39m\n\u001b[0;32m    160\u001b[0m     )\n\u001b[1;32m--> 161\u001b[0m \u001b[39mraise\u001b[39;00m \u001b[39mValueError\u001b[39;00m(msg_err)\n",
      "\u001b[1;31mValueError\u001b[0m: Input y contains infinity or a value too large for dtype('float64')."
     ]
    }
   ],
   "source": [
    "## now that we have a set of hyperparameters, we can reuse them\n",
    "## next time using model.SetHyperparameters(alpha, power):\n",
    "# -> r.tweedie.SetHyperparameters(alpha=0.4, power=1.8)\n",
    "\n",
    "# fit base model to the data\n",
    "r.icrfs.Fit()\n",
    "print(r)"
   ]
  },
  {
   "cell_type": "code",
   "execution_count": null,
   "metadata": {},
   "outputs": [
    {
     "data": {
      "text/html": [
       "<style>#sk-container-id-1 {color: black;background-color: white;}#sk-container-id-1 pre{padding: 0;}#sk-container-id-1 div.sk-toggleable {background-color: white;}#sk-container-id-1 label.sk-toggleable__label {cursor: pointer;display: block;width: 100%;margin-bottom: 0;padding: 0.3em;box-sizing: border-box;text-align: center;}#sk-container-id-1 label.sk-toggleable__label-arrow:before {content: \"▸\";float: left;margin-right: 0.25em;color: #696969;}#sk-container-id-1 label.sk-toggleable__label-arrow:hover:before {color: black;}#sk-container-id-1 div.sk-estimator:hover label.sk-toggleable__label-arrow:before {color: black;}#sk-container-id-1 div.sk-toggleable__content {max-height: 0;max-width: 0;overflow: hidden;text-align: left;background-color: #f0f8ff;}#sk-container-id-1 div.sk-toggleable__content pre {margin: 0.2em;color: black;border-radius: 0.25em;background-color: #f0f8ff;}#sk-container-id-1 input.sk-toggleable__control:checked~div.sk-toggleable__content {max-height: 200px;max-width: 100%;overflow: auto;}#sk-container-id-1 input.sk-toggleable__control:checked~label.sk-toggleable__label-arrow:before {content: \"▾\";}#sk-container-id-1 div.sk-estimator input.sk-toggleable__control:checked~label.sk-toggleable__label {background-color: #d4ebff;}#sk-container-id-1 div.sk-label input.sk-toggleable__control:checked~label.sk-toggleable__label {background-color: #d4ebff;}#sk-container-id-1 input.sk-hidden--visually {border: 0;clip: rect(1px 1px 1px 1px);clip: rect(1px, 1px, 1px, 1px);height: 1px;margin: -1px;overflow: hidden;padding: 0;position: absolute;width: 1px;}#sk-container-id-1 div.sk-estimator {font-family: monospace;background-color: #f0f8ff;border: 1px dotted black;border-radius: 0.25em;box-sizing: border-box;margin-bottom: 0.5em;}#sk-container-id-1 div.sk-estimator:hover {background-color: #d4ebff;}#sk-container-id-1 div.sk-parallel-item::after {content: \"\";width: 100%;border-bottom: 1px solid gray;flex-grow: 1;}#sk-container-id-1 div.sk-label:hover label.sk-toggleable__label {background-color: #d4ebff;}#sk-container-id-1 div.sk-serial::before {content: \"\";position: absolute;border-left: 1px solid gray;box-sizing: border-box;top: 0;bottom: 0;left: 50%;z-index: 0;}#sk-container-id-1 div.sk-serial {display: flex;flex-direction: column;align-items: center;background-color: white;padding-right: 0.2em;padding-left: 0.2em;position: relative;}#sk-container-id-1 div.sk-item {position: relative;z-index: 1;}#sk-container-id-1 div.sk-parallel {display: flex;align-items: stretch;justify-content: center;background-color: white;position: relative;}#sk-container-id-1 div.sk-item::before, #sk-container-id-1 div.sk-parallel-item::before {content: \"\";position: absolute;border-left: 1px solid gray;box-sizing: border-box;top: 0;bottom: 0;left: 50%;z-index: -1;}#sk-container-id-1 div.sk-parallel-item {display: flex;flex-direction: column;z-index: 1;position: relative;background-color: white;}#sk-container-id-1 div.sk-parallel-item:first-child::after {align-self: flex-end;width: 50%;}#sk-container-id-1 div.sk-parallel-item:last-child::after {align-self: flex-start;width: 50%;}#sk-container-id-1 div.sk-parallel-item:only-child::after {width: 0;}#sk-container-id-1 div.sk-dashed-wrapped {border: 1px dashed gray;margin: 0 0.4em 0.5em 0.4em;box-sizing: border-box;padding-bottom: 0.4em;background-color: white;}#sk-container-id-1 div.sk-label label {font-family: monospace;font-weight: bold;display: inline-block;line-height: 1.2em;}#sk-container-id-1 div.sk-label-container {text-align: center;}#sk-container-id-1 div.sk-container {/* jupyter's `normalize.less` sets `[hidden] { display: none; }` but bootstrap.min.css set `[hidden] { display: none !important; }` so we also need the `!important` here to be able to override the default hidden behavior on the sphinx rendered scikit-learn.org. See: https://github.com/scikit-learn/scikit-learn/issues/21755 */display: inline-block !important;position: relative;}#sk-container-id-1 div.sk-text-repr-fallback {display: none;}</style><div id=\"sk-container-id-1\" class=\"sk-top-container\"><div class=\"sk-text-repr-fallback\"><pre>ElasticNet(alpha=0.5, fit_intercept=False, max_iter=100000)</pre><b>In a Jupyter environment, please rerun this cell to show the HTML representation or trust the notebook. <br />On GitHub, the HTML representation is unable to render, please try loading this page with nbviewer.org.</b></div><div class=\"sk-container\" hidden><div class=\"sk-item\"><div class=\"sk-estimator sk-toggleable\"><input class=\"sk-toggleable__control sk-hidden--visually\" id=\"sk-estimator-id-1\" type=\"checkbox\" checked><label for=\"sk-estimator-id-1\" class=\"sk-toggleable__label sk-toggleable__label-arrow\">ElasticNet</label><div class=\"sk-toggleable__content\"><pre>ElasticNet(alpha=0.5, fit_intercept=False, max_iter=100000)</pre></div></div></div></div></div>"
      ],
      "text/plain": [
       "ElasticNet(alpha=0.5, fit_intercept=False, max_iter=100000)"
      ]
     },
     "execution_count": 16,
     "metadata": {},
     "output_type": "execute_result"
    }
   ],
   "source": [
    "r.icrfs.model"
   ]
  },
  {
   "cell_type": "code",
   "execution_count": null,
   "metadata": {},
   "outputs": [
    {
     "data": {
      "text/plain": [
       "array([ 2.94369082,  1.65068136,  0.94852667,  0.61106443,  0.33712596,\n",
       "        0.21382297,  0.14819288,  0.12054442,  0.0863156 ,  0.06378933,\n",
       "        0.04705171,  0.        ,  0.        ,  0.        ,  0.        ,\n",
       "        0.        ,  0.        ,  0.        ,  0.        ,  0.        ,\n",
       "        1.32996158,  0.25777067,  0.        ,  0.        , -0.        ,\n",
       "       -0.        , -0.        , -0.        , -0.        , -0.        ,\n",
       "       -0.        , -0.        , -0.        , -0.        ,  0.        ,\n",
       "        0.        ,  0.        ,  0.        ,  0.        ])"
      ]
     },
     "execution_count": 17,
     "metadata": {},
     "output_type": "execute_result"
    }
   ],
   "source": [
    "r.icrfs.model.coef_"
   ]
  },
  {
   "cell_type": "code",
   "execution_count": null,
   "metadata": {},
   "outputs": [
    {
     "data": {
      "text/html": [
       "<div>\n",
       "<style scoped>\n",
       "    .dataframe tbody tr th:only-of-type {\n",
       "        vertical-align: middle;\n",
       "    }\n",
       "\n",
       "    .dataframe tbody tr th {\n",
       "        vertical-align: top;\n",
       "    }\n",
       "\n",
       "    .dataframe thead th {\n",
       "        text-align: right;\n",
       "    }\n",
       "</style>\n",
       "<table border=\"1\" class=\"dataframe\">\n",
       "  <thead>\n",
       "    <tr style=\"text-align: right;\">\n",
       "      <th>development_period</th>\n",
       "      <th>12</th>\n",
       "      <th>24</th>\n",
       "      <th>36</th>\n",
       "      <th>48</th>\n",
       "      <th>60</th>\n",
       "      <th>72</th>\n",
       "      <th>84</th>\n",
       "      <th>96</th>\n",
       "      <th>108</th>\n",
       "      <th>120</th>\n",
       "      <th>132</th>\n",
       "      <th>144</th>\n",
       "      <th>156</th>\n",
       "      <th>168</th>\n",
       "      <th>180</th>\n",
       "      <th>192</th>\n",
       "      <th>204</th>\n",
       "      <th>216</th>\n",
       "      <th>228</th>\n",
       "      <th>240</th>\n",
       "    </tr>\n",
       "    <tr>\n",
       "      <th>accident_period</th>\n",
       "      <th></th>\n",
       "      <th></th>\n",
       "      <th></th>\n",
       "      <th></th>\n",
       "      <th></th>\n",
       "      <th></th>\n",
       "      <th></th>\n",
       "      <th></th>\n",
       "      <th></th>\n",
       "      <th></th>\n",
       "      <th></th>\n",
       "      <th></th>\n",
       "      <th></th>\n",
       "      <th></th>\n",
       "      <th></th>\n",
       "      <th></th>\n",
       "      <th></th>\n",
       "      <th></th>\n",
       "      <th></th>\n",
       "      <th></th>\n",
       "    </tr>\n",
       "  </thead>\n",
       "  <tbody>\n",
       "    <tr>\n",
       "      <th>2003</th>\n",
       "      <td>19.0</td>\n",
       "      <td>72.0</td>\n",
       "      <td>93.0</td>\n",
       "      <td>93.0</td>\n",
       "      <td>93.0</td>\n",
       "      <td>93.0</td>\n",
       "      <td>93.0</td>\n",
       "      <td>93.0</td>\n",
       "      <td>93.0</td>\n",
       "      <td>93.0</td>\n",
       "      <td>93.0</td>\n",
       "      <td>93.0</td>\n",
       "      <td>93.0</td>\n",
       "      <td>93.0</td>\n",
       "      <td>93.0</td>\n",
       "      <td>93.0</td>\n",
       "      <td>93.0</td>\n",
       "      <td>93.0</td>\n",
       "      <td>93.0</td>\n",
       "      <td>93.0</td>\n",
       "    </tr>\n",
       "    <tr>\n",
       "      <th>2004</th>\n",
       "      <td>99.0</td>\n",
       "      <td>374.0</td>\n",
       "      <td>484.0</td>\n",
       "      <td>484.0</td>\n",
       "      <td>484.0</td>\n",
       "      <td>484.0</td>\n",
       "      <td>484.0</td>\n",
       "      <td>484.0</td>\n",
       "      <td>484.0</td>\n",
       "      <td>484.0</td>\n",
       "      <td>484.0</td>\n",
       "      <td>484.0</td>\n",
       "      <td>484.0</td>\n",
       "      <td>484.0</td>\n",
       "      <td>484.0</td>\n",
       "      <td>484.0</td>\n",
       "      <td>484.0</td>\n",
       "      <td>484.0</td>\n",
       "      <td>484.0</td>\n",
       "      <td>484.0</td>\n",
       "    </tr>\n",
       "    <tr>\n",
       "      <th>2005</th>\n",
       "      <td>255.0</td>\n",
       "      <td>966.0</td>\n",
       "      <td>1250.0</td>\n",
       "      <td>1250.0</td>\n",
       "      <td>1250.0</td>\n",
       "      <td>1250.0</td>\n",
       "      <td>1250.0</td>\n",
       "      <td>1250.0</td>\n",
       "      <td>1250.0</td>\n",
       "      <td>1250.0</td>\n",
       "      <td>1250.0</td>\n",
       "      <td>1250.0</td>\n",
       "      <td>1250.0</td>\n",
       "      <td>1250.0</td>\n",
       "      <td>1250.0</td>\n",
       "      <td>1250.0</td>\n",
       "      <td>1250.0</td>\n",
       "      <td>1250.0</td>\n",
       "      <td>1250.0</td>\n",
       "      <td>1250.0</td>\n",
       "    </tr>\n",
       "    <tr>\n",
       "      <th>2006</th>\n",
       "      <td>471.0</td>\n",
       "      <td>1779.0</td>\n",
       "      <td>2302.0</td>\n",
       "      <td>2302.0</td>\n",
       "      <td>2302.0</td>\n",
       "      <td>2302.0</td>\n",
       "      <td>2302.0</td>\n",
       "      <td>2302.0</td>\n",
       "      <td>2302.0</td>\n",
       "      <td>2302.0</td>\n",
       "      <td>2302.0</td>\n",
       "      <td>2302.0</td>\n",
       "      <td>2302.0</td>\n",
       "      <td>2302.0</td>\n",
       "      <td>2302.0</td>\n",
       "      <td>2302.0</td>\n",
       "      <td>2302.0</td>\n",
       "      <td>2302.0</td>\n",
       "      <td>2302.0</td>\n",
       "      <td>2302.0</td>\n",
       "    </tr>\n",
       "    <tr>\n",
       "      <th>2007</th>\n",
       "      <td>659.0</td>\n",
       "      <td>2493.0</td>\n",
       "      <td>3225.0</td>\n",
       "      <td>3225.0</td>\n",
       "      <td>3225.0</td>\n",
       "      <td>3225.0</td>\n",
       "      <td>3225.0</td>\n",
       "      <td>3225.0</td>\n",
       "      <td>3225.0</td>\n",
       "      <td>3225.0</td>\n",
       "      <td>3225.0</td>\n",
       "      <td>3225.0</td>\n",
       "      <td>3225.0</td>\n",
       "      <td>3225.0</td>\n",
       "      <td>3225.0</td>\n",
       "      <td>3225.0</td>\n",
       "      <td>3225.0</td>\n",
       "      <td>3225.0</td>\n",
       "      <td>3225.0</td>\n",
       "      <td>3225.0</td>\n",
       "    </tr>\n",
       "    <tr>\n",
       "      <th>2008</th>\n",
       "      <td>816.0</td>\n",
       "      <td>3087.0</td>\n",
       "      <td>3994.0</td>\n",
       "      <td>3994.0</td>\n",
       "      <td>3994.0</td>\n",
       "      <td>3994.0</td>\n",
       "      <td>3994.0</td>\n",
       "      <td>3994.0</td>\n",
       "      <td>3994.0</td>\n",
       "      <td>3994.0</td>\n",
       "      <td>3994.0</td>\n",
       "      <td>3994.0</td>\n",
       "      <td>3994.0</td>\n",
       "      <td>3994.0</td>\n",
       "      <td>3994.0</td>\n",
       "      <td>3994.0</td>\n",
       "      <td>3994.0</td>\n",
       "      <td>3994.0</td>\n",
       "      <td>3994.0</td>\n",
       "      <td>3994.0</td>\n",
       "    </tr>\n",
       "    <tr>\n",
       "      <th>2009</th>\n",
       "      <td>947.0</td>\n",
       "      <td>3580.0</td>\n",
       "      <td>4632.0</td>\n",
       "      <td>4632.0</td>\n",
       "      <td>4632.0</td>\n",
       "      <td>4632.0</td>\n",
       "      <td>4632.0</td>\n",
       "      <td>4632.0</td>\n",
       "      <td>4632.0</td>\n",
       "      <td>4632.0</td>\n",
       "      <td>4632.0</td>\n",
       "      <td>4632.0</td>\n",
       "      <td>4632.0</td>\n",
       "      <td>4632.0</td>\n",
       "      <td>4632.0</td>\n",
       "      <td>4632.0</td>\n",
       "      <td>4632.0</td>\n",
       "      <td>4632.0</td>\n",
       "      <td>4632.0</td>\n",
       "      <td>4632.0</td>\n",
       "    </tr>\n",
       "    <tr>\n",
       "      <th>2010</th>\n",
       "      <td>1068.0</td>\n",
       "      <td>4038.0</td>\n",
       "      <td>5226.0</td>\n",
       "      <td>5226.0</td>\n",
       "      <td>5226.0</td>\n",
       "      <td>5226.0</td>\n",
       "      <td>5226.0</td>\n",
       "      <td>5226.0</td>\n",
       "      <td>5226.0</td>\n",
       "      <td>5226.0</td>\n",
       "      <td>5226.0</td>\n",
       "      <td>5226.0</td>\n",
       "      <td>5226.0</td>\n",
       "      <td>5226.0</td>\n",
       "      <td>5226.0</td>\n",
       "      <td>5226.0</td>\n",
       "      <td>5226.0</td>\n",
       "      <td>5226.0</td>\n",
       "      <td>5226.0</td>\n",
       "      <td>5226.0</td>\n",
       "    </tr>\n",
       "    <tr>\n",
       "      <th>2011</th>\n",
       "      <td>1164.0</td>\n",
       "      <td>4402.0</td>\n",
       "      <td>5697.0</td>\n",
       "      <td>5697.0</td>\n",
       "      <td>5697.0</td>\n",
       "      <td>5697.0</td>\n",
       "      <td>5697.0</td>\n",
       "      <td>5697.0</td>\n",
       "      <td>5697.0</td>\n",
       "      <td>5697.0</td>\n",
       "      <td>5697.0</td>\n",
       "      <td>5697.0</td>\n",
       "      <td>5697.0</td>\n",
       "      <td>5697.0</td>\n",
       "      <td>5697.0</td>\n",
       "      <td>5697.0</td>\n",
       "      <td>5697.0</td>\n",
       "      <td>5697.0</td>\n",
       "      <td>5697.0</td>\n",
       "      <td>5697.0</td>\n",
       "    </tr>\n",
       "    <tr>\n",
       "      <th>2012</th>\n",
       "      <td>1241.0</td>\n",
       "      <td>4692.0</td>\n",
       "      <td>6072.0</td>\n",
       "      <td>6072.0</td>\n",
       "      <td>6072.0</td>\n",
       "      <td>6072.0</td>\n",
       "      <td>6072.0</td>\n",
       "      <td>6072.0</td>\n",
       "      <td>6072.0</td>\n",
       "      <td>6072.0</td>\n",
       "      <td>6072.0</td>\n",
       "      <td>6072.0</td>\n",
       "      <td>6072.0</td>\n",
       "      <td>6072.0</td>\n",
       "      <td>6072.0</td>\n",
       "      <td>6072.0</td>\n",
       "      <td>6072.0</td>\n",
       "      <td>6072.0</td>\n",
       "      <td>6072.0</td>\n",
       "      <td>6072.0</td>\n",
       "    </tr>\n",
       "    <tr>\n",
       "      <th>2013</th>\n",
       "      <td>1301.0</td>\n",
       "      <td>4919.0</td>\n",
       "      <td>6365.0</td>\n",
       "      <td>6365.0</td>\n",
       "      <td>6365.0</td>\n",
       "      <td>6365.0</td>\n",
       "      <td>6365.0</td>\n",
       "      <td>6365.0</td>\n",
       "      <td>6365.0</td>\n",
       "      <td>6365.0</td>\n",
       "      <td>6365.0</td>\n",
       "      <td>6365.0</td>\n",
       "      <td>6365.0</td>\n",
       "      <td>6365.0</td>\n",
       "      <td>6365.0</td>\n",
       "      <td>6365.0</td>\n",
       "      <td>6365.0</td>\n",
       "      <td>6365.0</td>\n",
       "      <td>6365.0</td>\n",
       "      <td>6365.0</td>\n",
       "    </tr>\n",
       "    <tr>\n",
       "      <th>2014</th>\n",
       "      <td>1301.0</td>\n",
       "      <td>4919.0</td>\n",
       "      <td>6365.0</td>\n",
       "      <td>6365.0</td>\n",
       "      <td>6365.0</td>\n",
       "      <td>6365.0</td>\n",
       "      <td>6365.0</td>\n",
       "      <td>6365.0</td>\n",
       "      <td>6365.0</td>\n",
       "      <td>6365.0</td>\n",
       "      <td>6365.0</td>\n",
       "      <td>6365.0</td>\n",
       "      <td>6365.0</td>\n",
       "      <td>6365.0</td>\n",
       "      <td>6365.0</td>\n",
       "      <td>6365.0</td>\n",
       "      <td>6365.0</td>\n",
       "      <td>6365.0</td>\n",
       "      <td>6365.0</td>\n",
       "      <td>6365.0</td>\n",
       "    </tr>\n",
       "    <tr>\n",
       "      <th>2015</th>\n",
       "      <td>1301.0</td>\n",
       "      <td>4919.0</td>\n",
       "      <td>6365.0</td>\n",
       "      <td>6365.0</td>\n",
       "      <td>6365.0</td>\n",
       "      <td>6365.0</td>\n",
       "      <td>6365.0</td>\n",
       "      <td>6365.0</td>\n",
       "      <td>6365.0</td>\n",
       "      <td>6365.0</td>\n",
       "      <td>6365.0</td>\n",
       "      <td>6365.0</td>\n",
       "      <td>6365.0</td>\n",
       "      <td>6365.0</td>\n",
       "      <td>6365.0</td>\n",
       "      <td>6365.0</td>\n",
       "      <td>6365.0</td>\n",
       "      <td>6365.0</td>\n",
       "      <td>6365.0</td>\n",
       "      <td>6365.0</td>\n",
       "    </tr>\n",
       "    <tr>\n",
       "      <th>2016</th>\n",
       "      <td>1301.0</td>\n",
       "      <td>4919.0</td>\n",
       "      <td>6365.0</td>\n",
       "      <td>6365.0</td>\n",
       "      <td>6365.0</td>\n",
       "      <td>6365.0</td>\n",
       "      <td>6365.0</td>\n",
       "      <td>6365.0</td>\n",
       "      <td>6365.0</td>\n",
       "      <td>6365.0</td>\n",
       "      <td>6365.0</td>\n",
       "      <td>6365.0</td>\n",
       "      <td>6365.0</td>\n",
       "      <td>6365.0</td>\n",
       "      <td>6365.0</td>\n",
       "      <td>6365.0</td>\n",
       "      <td>6365.0</td>\n",
       "      <td>6365.0</td>\n",
       "      <td>6365.0</td>\n",
       "      <td>6365.0</td>\n",
       "    </tr>\n",
       "    <tr>\n",
       "      <th>2017</th>\n",
       "      <td>1301.0</td>\n",
       "      <td>4919.0</td>\n",
       "      <td>6365.0</td>\n",
       "      <td>6365.0</td>\n",
       "      <td>6365.0</td>\n",
       "      <td>6365.0</td>\n",
       "      <td>6365.0</td>\n",
       "      <td>6365.0</td>\n",
       "      <td>6365.0</td>\n",
       "      <td>6365.0</td>\n",
       "      <td>6365.0</td>\n",
       "      <td>6365.0</td>\n",
       "      <td>6365.0</td>\n",
       "      <td>6365.0</td>\n",
       "      <td>6365.0</td>\n",
       "      <td>6365.0</td>\n",
       "      <td>6365.0</td>\n",
       "      <td>6365.0</td>\n",
       "      <td>6365.0</td>\n",
       "      <td>6365.0</td>\n",
       "    </tr>\n",
       "    <tr>\n",
       "      <th>2018</th>\n",
       "      <td>1301.0</td>\n",
       "      <td>4919.0</td>\n",
       "      <td>6365.0</td>\n",
       "      <td>6365.0</td>\n",
       "      <td>6365.0</td>\n",
       "      <td>6365.0</td>\n",
       "      <td>6365.0</td>\n",
       "      <td>6365.0</td>\n",
       "      <td>6365.0</td>\n",
       "      <td>6365.0</td>\n",
       "      <td>6365.0</td>\n",
       "      <td>6365.0</td>\n",
       "      <td>6365.0</td>\n",
       "      <td>6365.0</td>\n",
       "      <td>6365.0</td>\n",
       "      <td>6365.0</td>\n",
       "      <td>6365.0</td>\n",
       "      <td>6365.0</td>\n",
       "      <td>6365.0</td>\n",
       "      <td>6365.0</td>\n",
       "    </tr>\n",
       "    <tr>\n",
       "      <th>2019</th>\n",
       "      <td>1301.0</td>\n",
       "      <td>4919.0</td>\n",
       "      <td>6365.0</td>\n",
       "      <td>6365.0</td>\n",
       "      <td>6365.0</td>\n",
       "      <td>6365.0</td>\n",
       "      <td>6365.0</td>\n",
       "      <td>6365.0</td>\n",
       "      <td>6365.0</td>\n",
       "      <td>6365.0</td>\n",
       "      <td>6365.0</td>\n",
       "      <td>6365.0</td>\n",
       "      <td>6365.0</td>\n",
       "      <td>6365.0</td>\n",
       "      <td>6365.0</td>\n",
       "      <td>6365.0</td>\n",
       "      <td>6365.0</td>\n",
       "      <td>6365.0</td>\n",
       "      <td>6365.0</td>\n",
       "      <td>6365.0</td>\n",
       "    </tr>\n",
       "    <tr>\n",
       "      <th>2020</th>\n",
       "      <td>1301.0</td>\n",
       "      <td>4919.0</td>\n",
       "      <td>6365.0</td>\n",
       "      <td>6365.0</td>\n",
       "      <td>6365.0</td>\n",
       "      <td>6365.0</td>\n",
       "      <td>6365.0</td>\n",
       "      <td>6365.0</td>\n",
       "      <td>6365.0</td>\n",
       "      <td>6365.0</td>\n",
       "      <td>6365.0</td>\n",
       "      <td>6365.0</td>\n",
       "      <td>6365.0</td>\n",
       "      <td>6365.0</td>\n",
       "      <td>6365.0</td>\n",
       "      <td>6365.0</td>\n",
       "      <td>6365.0</td>\n",
       "      <td>6365.0</td>\n",
       "      <td>6365.0</td>\n",
       "      <td>6365.0</td>\n",
       "    </tr>\n",
       "    <tr>\n",
       "      <th>2021</th>\n",
       "      <td>1301.0</td>\n",
       "      <td>4919.0</td>\n",
       "      <td>6365.0</td>\n",
       "      <td>6365.0</td>\n",
       "      <td>6365.0</td>\n",
       "      <td>6365.0</td>\n",
       "      <td>6365.0</td>\n",
       "      <td>6365.0</td>\n",
       "      <td>6365.0</td>\n",
       "      <td>6365.0</td>\n",
       "      <td>6365.0</td>\n",
       "      <td>6365.0</td>\n",
       "      <td>6365.0</td>\n",
       "      <td>6365.0</td>\n",
       "      <td>6365.0</td>\n",
       "      <td>6365.0</td>\n",
       "      <td>6365.0</td>\n",
       "      <td>6365.0</td>\n",
       "      <td>6365.0</td>\n",
       "      <td>6365.0</td>\n",
       "    </tr>\n",
       "    <tr>\n",
       "      <th>2022</th>\n",
       "      <td>1301.0</td>\n",
       "      <td>4919.0</td>\n",
       "      <td>6365.0</td>\n",
       "      <td>6365.0</td>\n",
       "      <td>6365.0</td>\n",
       "      <td>6365.0</td>\n",
       "      <td>6365.0</td>\n",
       "      <td>6365.0</td>\n",
       "      <td>6365.0</td>\n",
       "      <td>6365.0</td>\n",
       "      <td>6365.0</td>\n",
       "      <td>6365.0</td>\n",
       "      <td>6365.0</td>\n",
       "      <td>6365.0</td>\n",
       "      <td>6365.0</td>\n",
       "      <td>6365.0</td>\n",
       "      <td>6365.0</td>\n",
       "      <td>6365.0</td>\n",
       "      <td>6365.0</td>\n",
       "      <td>6365.0</td>\n",
       "    </tr>\n",
       "  </tbody>\n",
       "</table>\n",
       "</div>"
      ],
      "text/plain": [
       "development_period     12      24      36      48      60      72      84   \\\n",
       "accident_period                                                              \n",
       "2003                  19.0    72.0    93.0    93.0    93.0    93.0    93.0   \n",
       "2004                  99.0   374.0   484.0   484.0   484.0   484.0   484.0   \n",
       "2005                 255.0   966.0  1250.0  1250.0  1250.0  1250.0  1250.0   \n",
       "2006                 471.0  1779.0  2302.0  2302.0  2302.0  2302.0  2302.0   \n",
       "2007                 659.0  2493.0  3225.0  3225.0  3225.0  3225.0  3225.0   \n",
       "2008                 816.0  3087.0  3994.0  3994.0  3994.0  3994.0  3994.0   \n",
       "2009                 947.0  3580.0  4632.0  4632.0  4632.0  4632.0  4632.0   \n",
       "2010                1068.0  4038.0  5226.0  5226.0  5226.0  5226.0  5226.0   \n",
       "2011                1164.0  4402.0  5697.0  5697.0  5697.0  5697.0  5697.0   \n",
       "2012                1241.0  4692.0  6072.0  6072.0  6072.0  6072.0  6072.0   \n",
       "2013                1301.0  4919.0  6365.0  6365.0  6365.0  6365.0  6365.0   \n",
       "2014                1301.0  4919.0  6365.0  6365.0  6365.0  6365.0  6365.0   \n",
       "2015                1301.0  4919.0  6365.0  6365.0  6365.0  6365.0  6365.0   \n",
       "2016                1301.0  4919.0  6365.0  6365.0  6365.0  6365.0  6365.0   \n",
       "2017                1301.0  4919.0  6365.0  6365.0  6365.0  6365.0  6365.0   \n",
       "2018                1301.0  4919.0  6365.0  6365.0  6365.0  6365.0  6365.0   \n",
       "2019                1301.0  4919.0  6365.0  6365.0  6365.0  6365.0  6365.0   \n",
       "2020                1301.0  4919.0  6365.0  6365.0  6365.0  6365.0  6365.0   \n",
       "2021                1301.0  4919.0  6365.0  6365.0  6365.0  6365.0  6365.0   \n",
       "2022                1301.0  4919.0  6365.0  6365.0  6365.0  6365.0  6365.0   \n",
       "\n",
       "development_period     96      108     120     132     144     156     168  \\\n",
       "accident_period                                                              \n",
       "2003                  93.0    93.0    93.0    93.0    93.0    93.0    93.0   \n",
       "2004                 484.0   484.0   484.0   484.0   484.0   484.0   484.0   \n",
       "2005                1250.0  1250.0  1250.0  1250.0  1250.0  1250.0  1250.0   \n",
       "2006                2302.0  2302.0  2302.0  2302.0  2302.0  2302.0  2302.0   \n",
       "2007                3225.0  3225.0  3225.0  3225.0  3225.0  3225.0  3225.0   \n",
       "2008                3994.0  3994.0  3994.0  3994.0  3994.0  3994.0  3994.0   \n",
       "2009                4632.0  4632.0  4632.0  4632.0  4632.0  4632.0  4632.0   \n",
       "2010                5226.0  5226.0  5226.0  5226.0  5226.0  5226.0  5226.0   \n",
       "2011                5697.0  5697.0  5697.0  5697.0  5697.0  5697.0  5697.0   \n",
       "2012                6072.0  6072.0  6072.0  6072.0  6072.0  6072.0  6072.0   \n",
       "2013                6365.0  6365.0  6365.0  6365.0  6365.0  6365.0  6365.0   \n",
       "2014                6365.0  6365.0  6365.0  6365.0  6365.0  6365.0  6365.0   \n",
       "2015                6365.0  6365.0  6365.0  6365.0  6365.0  6365.0  6365.0   \n",
       "2016                6365.0  6365.0  6365.0  6365.0  6365.0  6365.0  6365.0   \n",
       "2017                6365.0  6365.0  6365.0  6365.0  6365.0  6365.0  6365.0   \n",
       "2018                6365.0  6365.0  6365.0  6365.0  6365.0  6365.0  6365.0   \n",
       "2019                6365.0  6365.0  6365.0  6365.0  6365.0  6365.0  6365.0   \n",
       "2020                6365.0  6365.0  6365.0  6365.0  6365.0  6365.0  6365.0   \n",
       "2021                6365.0  6365.0  6365.0  6365.0  6365.0  6365.0  6365.0   \n",
       "2022                6365.0  6365.0  6365.0  6365.0  6365.0  6365.0  6365.0   \n",
       "\n",
       "development_period     180     192     204     216     228     240  \n",
       "accident_period                                                     \n",
       "2003                  93.0    93.0    93.0    93.0    93.0    93.0  \n",
       "2004                 484.0   484.0   484.0   484.0   484.0   484.0  \n",
       "2005                1250.0  1250.0  1250.0  1250.0  1250.0  1250.0  \n",
       "2006                2302.0  2302.0  2302.0  2302.0  2302.0  2302.0  \n",
       "2007                3225.0  3225.0  3225.0  3225.0  3225.0  3225.0  \n",
       "2008                3994.0  3994.0  3994.0  3994.0  3994.0  3994.0  \n",
       "2009                4632.0  4632.0  4632.0  4632.0  4632.0  4632.0  \n",
       "2010                5226.0  5226.0  5226.0  5226.0  5226.0  5226.0  \n",
       "2011                5697.0  5697.0  5697.0  5697.0  5697.0  5697.0  \n",
       "2012                6072.0  6072.0  6072.0  6072.0  6072.0  6072.0  \n",
       "2013                6365.0  6365.0  6365.0  6365.0  6365.0  6365.0  \n",
       "2014                6365.0  6365.0  6365.0  6365.0  6365.0  6365.0  \n",
       "2015                6365.0  6365.0  6365.0  6365.0  6365.0  6365.0  \n",
       "2016                6365.0  6365.0  6365.0  6365.0  6365.0  6365.0  \n",
       "2017                6365.0  6365.0  6365.0  6365.0  6365.0  6365.0  \n",
       "2018                6365.0  6365.0  6365.0  6365.0  6365.0  6365.0  \n",
       "2019                6365.0  6365.0  6365.0  6365.0  6365.0  6365.0  \n",
       "2020                6365.0  6365.0  6365.0  6365.0  6365.0  6365.0  \n",
       "2021                6365.0  6365.0  6365.0  6365.0  6365.0  6365.0  \n",
       "2022                6365.0  6365.0  6365.0  6365.0  6365.0  6365.0  "
      ]
     },
     "execution_count": 18,
     "metadata": {},
     "output_type": "execute_result"
    }
   ],
   "source": [
    "r.icrfs.PredictTriangle().pivot_table(index='accident_period', columns='development_period', values='yhat').round(0)"
   ]
  },
  {
   "cell_type": "code",
   "execution_count": null,
   "metadata": {},
   "outputs": [
    {
     "data": {
      "text/html": [
       "<div>\n",
       "<style scoped>\n",
       "    .dataframe tbody tr th:only-of-type {\n",
       "        vertical-align: middle;\n",
       "    }\n",
       "\n",
       "    .dataframe tbody tr th {\n",
       "        vertical-align: top;\n",
       "    }\n",
       "\n",
       "    .dataframe thead th {\n",
       "        text-align: right;\n",
       "    }\n",
       "</style>\n",
       "<table border=\"1\" class=\"dataframe\">\n",
       "  <thead>\n",
       "    <tr style=\"text-align: right;\">\n",
       "      <th>development_period</th>\n",
       "      <th>12</th>\n",
       "      <th>24</th>\n",
       "      <th>36</th>\n",
       "      <th>48</th>\n",
       "      <th>60</th>\n",
       "      <th>72</th>\n",
       "      <th>84</th>\n",
       "      <th>96</th>\n",
       "      <th>108</th>\n",
       "      <th>120</th>\n",
       "      <th>132</th>\n",
       "      <th>144</th>\n",
       "      <th>156</th>\n",
       "      <th>168</th>\n",
       "      <th>180</th>\n",
       "      <th>192</th>\n",
       "      <th>204</th>\n",
       "      <th>216</th>\n",
       "      <th>228</th>\n",
       "      <th>240</th>\n",
       "    </tr>\n",
       "    <tr>\n",
       "      <th>accident_period</th>\n",
       "      <th></th>\n",
       "      <th></th>\n",
       "      <th></th>\n",
       "      <th></th>\n",
       "      <th></th>\n",
       "      <th></th>\n",
       "      <th></th>\n",
       "      <th></th>\n",
       "      <th></th>\n",
       "      <th></th>\n",
       "      <th></th>\n",
       "      <th></th>\n",
       "      <th></th>\n",
       "      <th></th>\n",
       "      <th></th>\n",
       "      <th></th>\n",
       "      <th></th>\n",
       "      <th></th>\n",
       "      <th></th>\n",
       "      <th></th>\n",
       "    </tr>\n",
       "  </thead>\n",
       "  <tbody>\n",
       "    <tr>\n",
       "      <th>2003</th>\n",
       "      <td>50330.0</td>\n",
       "      <td>57568.0</td>\n",
       "      <td>29047.0</td>\n",
       "      <td>16531.0</td>\n",
       "      <td>9970.0</td>\n",
       "      <td>7451.0</td>\n",
       "      <td>5797.0</td>\n",
       "      <td>2989.0</td>\n",
       "      <td>1631.0</td>\n",
       "      <td>1314.0</td>\n",
       "      <td>1056.0</td>\n",
       "      <td>926.0</td>\n",
       "      <td>573.0</td>\n",
       "      <td>787.0</td>\n",
       "      <td>725.0</td>\n",
       "      <td>550.0</td>\n",
       "      <td>700.0</td>\n",
       "      <td>648.0</td>\n",
       "      <td>1456.0</td>\n",
       "      <td>236.0</td>\n",
       "    </tr>\n",
       "    <tr>\n",
       "      <th>2004</th>\n",
       "      <td>56728.0</td>\n",
       "      <td>61839.0</td>\n",
       "      <td>28857.0</td>\n",
       "      <td>17959.0</td>\n",
       "      <td>12591.0</td>\n",
       "      <td>6814.0</td>\n",
       "      <td>4406.0</td>\n",
       "      <td>4855.0</td>\n",
       "      <td>2982.0</td>\n",
       "      <td>2042.0</td>\n",
       "      <td>1300.0</td>\n",
       "      <td>3560.0</td>\n",
       "      <td>1224.0</td>\n",
       "      <td>715.0</td>\n",
       "      <td>314.0</td>\n",
       "      <td>558.0</td>\n",
       "      <td>353.0</td>\n",
       "      <td>244.0</td>\n",
       "      <td>1298.0</td>\n",
       "      <td>NaN</td>\n",
       "    </tr>\n",
       "    <tr>\n",
       "      <th>2005</th>\n",
       "      <td>57102.0</td>\n",
       "      <td>61334.0</td>\n",
       "      <td>29497.0</td>\n",
       "      <td>19852.0</td>\n",
       "      <td>11068.0</td>\n",
       "      <td>5884.0</td>\n",
       "      <td>4933.0</td>\n",
       "      <td>2404.0</td>\n",
       "      <td>1557.0</td>\n",
       "      <td>1624.0</td>\n",
       "      <td>1366.0</td>\n",
       "      <td>779.0</td>\n",
       "      <td>685.0</td>\n",
       "      <td>934.0</td>\n",
       "      <td>750.0</td>\n",
       "      <td>1446.0</td>\n",
       "      <td>617.0</td>\n",
       "      <td>234.0</td>\n",
       "      <td>NaN</td>\n",
       "      <td>NaN</td>\n",
       "    </tr>\n",
       "    <tr>\n",
       "      <th>2006</th>\n",
       "      <td>63725.0</td>\n",
       "      <td>72080.0</td>\n",
       "      <td>35302.0</td>\n",
       "      <td>19039.0</td>\n",
       "      <td>10872.0</td>\n",
       "      <td>8203.0</td>\n",
       "      <td>5663.0</td>\n",
       "      <td>4387.0</td>\n",
       "      <td>2870.0</td>\n",
       "      <td>3877.0</td>\n",
       "      <td>2228.0</td>\n",
       "      <td>1892.0</td>\n",
       "      <td>2202.0</td>\n",
       "      <td>699.0</td>\n",
       "      <td>1277.0</td>\n",
       "      <td>585.0</td>\n",
       "      <td>1085.0</td>\n",
       "      <td>NaN</td>\n",
       "      <td>NaN</td>\n",
       "      <td>NaN</td>\n",
       "    </tr>\n",
       "    <tr>\n",
       "      <th>2007</th>\n",
       "      <td>64449.0</td>\n",
       "      <td>72029.0</td>\n",
       "      <td>36952.0</td>\n",
       "      <td>19957.0</td>\n",
       "      <td>12264.0</td>\n",
       "      <td>6064.0</td>\n",
       "      <td>4438.0</td>\n",
       "      <td>2557.0</td>\n",
       "      <td>3540.0</td>\n",
       "      <td>1365.0</td>\n",
       "      <td>1882.0</td>\n",
       "      <td>1709.0</td>\n",
       "      <td>675.0</td>\n",
       "      <td>1600.0</td>\n",
       "      <td>617.0</td>\n",
       "      <td>473.0</td>\n",
       "      <td>NaN</td>\n",
       "      <td>NaN</td>\n",
       "      <td>NaN</td>\n",
       "      <td>NaN</td>\n",
       "    </tr>\n",
       "    <tr>\n",
       "      <th>2008</th>\n",
       "      <td>68035.0</td>\n",
       "      <td>77547.0</td>\n",
       "      <td>36364.0</td>\n",
       "      <td>20980.0</td>\n",
       "      <td>14838.0</td>\n",
       "      <td>8516.0</td>\n",
       "      <td>4612.0</td>\n",
       "      <td>4842.0</td>\n",
       "      <td>2983.0</td>\n",
       "      <td>1418.0</td>\n",
       "      <td>1258.0</td>\n",
       "      <td>1004.0</td>\n",
       "      <td>555.0</td>\n",
       "      <td>359.0</td>\n",
       "      <td>435.0</td>\n",
       "      <td>NaN</td>\n",
       "      <td>NaN</td>\n",
       "      <td>NaN</td>\n",
       "      <td>NaN</td>\n",
       "      <td>NaN</td>\n",
       "    </tr>\n",
       "    <tr>\n",
       "      <th>2009</th>\n",
       "      <td>61673.0</td>\n",
       "      <td>62103.0</td>\n",
       "      <td>28332.0</td>\n",
       "      <td>14797.0</td>\n",
       "      <td>8208.0</td>\n",
       "      <td>5017.0</td>\n",
       "      <td>4152.0</td>\n",
       "      <td>3307.0</td>\n",
       "      <td>1201.0</td>\n",
       "      <td>1848.0</td>\n",
       "      <td>1081.0</td>\n",
       "      <td>1255.0</td>\n",
       "      <td>732.0</td>\n",
       "      <td>713.0</td>\n",
       "      <td>NaN</td>\n",
       "      <td>NaN</td>\n",
       "      <td>NaN</td>\n",
       "      <td>NaN</td>\n",
       "      <td>NaN</td>\n",
       "      <td>NaN</td>\n",
       "    </tr>\n",
       "    <tr>\n",
       "      <th>2010</th>\n",
       "      <td>63743.0</td>\n",
       "      <td>62093.0</td>\n",
       "      <td>27728.0</td>\n",
       "      <td>15827.0</td>\n",
       "      <td>11110.0</td>\n",
       "      <td>6775.0</td>\n",
       "      <td>3002.0</td>\n",
       "      <td>2199.0</td>\n",
       "      <td>2720.0</td>\n",
       "      <td>1742.0</td>\n",
       "      <td>1427.0</td>\n",
       "      <td>388.0</td>\n",
       "      <td>920.0</td>\n",
       "      <td>NaN</td>\n",
       "      <td>NaN</td>\n",
       "      <td>NaN</td>\n",
       "      <td>NaN</td>\n",
       "      <td>NaN</td>\n",
       "      <td>NaN</td>\n",
       "      <td>NaN</td>\n",
       "    </tr>\n",
       "    <tr>\n",
       "      <th>2011</th>\n",
       "      <td>61631.0</td>\n",
       "      <td>62086.0</td>\n",
       "      <td>27767.0</td>\n",
       "      <td>15441.0</td>\n",
       "      <td>8070.0</td>\n",
       "      <td>4067.0</td>\n",
       "      <td>2254.0</td>\n",
       "      <td>2200.0</td>\n",
       "      <td>2415.0</td>\n",
       "      <td>973.0</td>\n",
       "      <td>1715.0</td>\n",
       "      <td>564.0</td>\n",
       "      <td>NaN</td>\n",
       "      <td>NaN</td>\n",
       "      <td>NaN</td>\n",
       "      <td>NaN</td>\n",
       "      <td>NaN</td>\n",
       "      <td>NaN</td>\n",
       "      <td>NaN</td>\n",
       "      <td>NaN</td>\n",
       "    </tr>\n",
       "    <tr>\n",
       "      <th>2012</th>\n",
       "      <td>59102.0</td>\n",
       "      <td>56239.0</td>\n",
       "      <td>24798.0</td>\n",
       "      <td>13870.0</td>\n",
       "      <td>8981.0</td>\n",
       "      <td>3668.0</td>\n",
       "      <td>2969.0</td>\n",
       "      <td>1981.0</td>\n",
       "      <td>2002.0</td>\n",
       "      <td>578.0</td>\n",
       "      <td>618.0</td>\n",
       "      <td>NaN</td>\n",
       "      <td>NaN</td>\n",
       "      <td>NaN</td>\n",
       "      <td>NaN</td>\n",
       "      <td>NaN</td>\n",
       "      <td>NaN</td>\n",
       "      <td>NaN</td>\n",
       "      <td>NaN</td>\n",
       "      <td>NaN</td>\n",
       "    </tr>\n",
       "    <tr>\n",
       "      <th>2013</th>\n",
       "      <td>58997.0</td>\n",
       "      <td>54353.0</td>\n",
       "      <td>23297.0</td>\n",
       "      <td>11903.0</td>\n",
       "      <td>7466.0</td>\n",
       "      <td>3837.0</td>\n",
       "      <td>2389.0</td>\n",
       "      <td>3130.0</td>\n",
       "      <td>3091.0</td>\n",
       "      <td>1941.0</td>\n",
       "      <td>NaN</td>\n",
       "      <td>NaN</td>\n",
       "      <td>NaN</td>\n",
       "      <td>NaN</td>\n",
       "      <td>NaN</td>\n",
       "      <td>NaN</td>\n",
       "      <td>NaN</td>\n",
       "      <td>NaN</td>\n",
       "      <td>NaN</td>\n",
       "      <td>NaN</td>\n",
       "    </tr>\n",
       "    <tr>\n",
       "      <th>2014</th>\n",
       "      <td>53547.0</td>\n",
       "      <td>50038.0</td>\n",
       "      <td>21490.0</td>\n",
       "      <td>13563.0</td>\n",
       "      <td>9039.0</td>\n",
       "      <td>5444.0</td>\n",
       "      <td>3373.0</td>\n",
       "      <td>2647.0</td>\n",
       "      <td>1893.0</td>\n",
       "      <td>NaN</td>\n",
       "      <td>NaN</td>\n",
       "      <td>NaN</td>\n",
       "      <td>NaN</td>\n",
       "      <td>NaN</td>\n",
       "      <td>NaN</td>\n",
       "      <td>NaN</td>\n",
       "      <td>NaN</td>\n",
       "      <td>NaN</td>\n",
       "      <td>NaN</td>\n",
       "      <td>NaN</td>\n",
       "    </tr>\n",
       "    <tr>\n",
       "      <th>2015</th>\n",
       "      <td>45566.0</td>\n",
       "      <td>41881.0</td>\n",
       "      <td>20820.0</td>\n",
       "      <td>12839.0</td>\n",
       "      <td>6012.0</td>\n",
       "      <td>3253.0</td>\n",
       "      <td>2106.0</td>\n",
       "      <td>1228.0</td>\n",
       "      <td>NaN</td>\n",
       "      <td>NaN</td>\n",
       "      <td>NaN</td>\n",
       "      <td>NaN</td>\n",
       "      <td>NaN</td>\n",
       "      <td>NaN</td>\n",
       "      <td>NaN</td>\n",
       "      <td>NaN</td>\n",
       "      <td>NaN</td>\n",
       "      <td>NaN</td>\n",
       "      <td>NaN</td>\n",
       "      <td>NaN</td>\n",
       "    </tr>\n",
       "    <tr>\n",
       "      <th>2016</th>\n",
       "      <td>43844.0</td>\n",
       "      <td>47954.0</td>\n",
       "      <td>20519.0</td>\n",
       "      <td>11804.0</td>\n",
       "      <td>9758.0</td>\n",
       "      <td>5160.0</td>\n",
       "      <td>2751.0</td>\n",
       "      <td>NaN</td>\n",
       "      <td>NaN</td>\n",
       "      <td>NaN</td>\n",
       "      <td>NaN</td>\n",
       "      <td>NaN</td>\n",
       "      <td>NaN</td>\n",
       "      <td>NaN</td>\n",
       "      <td>NaN</td>\n",
       "      <td>NaN</td>\n",
       "      <td>NaN</td>\n",
       "      <td>NaN</td>\n",
       "      <td>NaN</td>\n",
       "      <td>NaN</td>\n",
       "    </tr>\n",
       "    <tr>\n",
       "      <th>2017</th>\n",
       "      <td>42759.0</td>\n",
       "      <td>40974.0</td>\n",
       "      <td>16157.0</td>\n",
       "      <td>7119.0</td>\n",
       "      <td>5451.0</td>\n",
       "      <td>3028.0</td>\n",
       "      <td>NaN</td>\n",
       "      <td>NaN</td>\n",
       "      <td>NaN</td>\n",
       "      <td>NaN</td>\n",
       "      <td>NaN</td>\n",
       "      <td>NaN</td>\n",
       "      <td>NaN</td>\n",
       "      <td>NaN</td>\n",
       "      <td>NaN</td>\n",
       "      <td>NaN</td>\n",
       "      <td>NaN</td>\n",
       "      <td>NaN</td>\n",
       "      <td>NaN</td>\n",
       "      <td>NaN</td>\n",
       "    </tr>\n",
       "    <tr>\n",
       "      <th>2018</th>\n",
       "      <td>46172.0</td>\n",
       "      <td>43607.0</td>\n",
       "      <td>18771.0</td>\n",
       "      <td>9542.0</td>\n",
       "      <td>6088.0</td>\n",
       "      <td>NaN</td>\n",
       "      <td>NaN</td>\n",
       "      <td>NaN</td>\n",
       "      <td>NaN</td>\n",
       "      <td>NaN</td>\n",
       "      <td>NaN</td>\n",
       "      <td>NaN</td>\n",
       "      <td>NaN</td>\n",
       "      <td>NaN</td>\n",
       "      <td>NaN</td>\n",
       "      <td>NaN</td>\n",
       "      <td>NaN</td>\n",
       "      <td>NaN</td>\n",
       "      <td>NaN</td>\n",
       "      <td>NaN</td>\n",
       "    </tr>\n",
       "    <tr>\n",
       "      <th>2019</th>\n",
       "      <td>46727.0</td>\n",
       "      <td>41467.0</td>\n",
       "      <td>18374.0</td>\n",
       "      <td>8426.0</td>\n",
       "      <td>NaN</td>\n",
       "      <td>NaN</td>\n",
       "      <td>NaN</td>\n",
       "      <td>NaN</td>\n",
       "      <td>NaN</td>\n",
       "      <td>NaN</td>\n",
       "      <td>NaN</td>\n",
       "      <td>NaN</td>\n",
       "      <td>NaN</td>\n",
       "      <td>NaN</td>\n",
       "      <td>NaN</td>\n",
       "      <td>NaN</td>\n",
       "      <td>NaN</td>\n",
       "      <td>NaN</td>\n",
       "      <td>NaN</td>\n",
       "      <td>NaN</td>\n",
       "    </tr>\n",
       "    <tr>\n",
       "      <th>2020</th>\n",
       "      <td>35114.0</td>\n",
       "      <td>28351.0</td>\n",
       "      <td>12462.0</td>\n",
       "      <td>NaN</td>\n",
       "      <td>NaN</td>\n",
       "      <td>NaN</td>\n",
       "      <td>NaN</td>\n",
       "      <td>NaN</td>\n",
       "      <td>NaN</td>\n",
       "      <td>NaN</td>\n",
       "      <td>NaN</td>\n",
       "      <td>NaN</td>\n",
       "      <td>NaN</td>\n",
       "      <td>NaN</td>\n",
       "      <td>NaN</td>\n",
       "      <td>NaN</td>\n",
       "      <td>NaN</td>\n",
       "      <td>NaN</td>\n",
       "      <td>NaN</td>\n",
       "      <td>NaN</td>\n",
       "    </tr>\n",
       "    <tr>\n",
       "      <th>2021</th>\n",
       "      <td>31909.0</td>\n",
       "      <td>38074.0</td>\n",
       "      <td>NaN</td>\n",
       "      <td>NaN</td>\n",
       "      <td>NaN</td>\n",
       "      <td>NaN</td>\n",
       "      <td>NaN</td>\n",
       "      <td>NaN</td>\n",
       "      <td>NaN</td>\n",
       "      <td>NaN</td>\n",
       "      <td>NaN</td>\n",
       "      <td>NaN</td>\n",
       "      <td>NaN</td>\n",
       "      <td>NaN</td>\n",
       "      <td>NaN</td>\n",
       "      <td>NaN</td>\n",
       "      <td>NaN</td>\n",
       "      <td>NaN</td>\n",
       "      <td>NaN</td>\n",
       "      <td>NaN</td>\n",
       "    </tr>\n",
       "    <tr>\n",
       "      <th>2022</th>\n",
       "      <td>34447.0</td>\n",
       "      <td>NaN</td>\n",
       "      <td>NaN</td>\n",
       "      <td>NaN</td>\n",
       "      <td>NaN</td>\n",
       "      <td>NaN</td>\n",
       "      <td>NaN</td>\n",
       "      <td>NaN</td>\n",
       "      <td>NaN</td>\n",
       "      <td>NaN</td>\n",
       "      <td>NaN</td>\n",
       "      <td>NaN</td>\n",
       "      <td>NaN</td>\n",
       "      <td>NaN</td>\n",
       "      <td>NaN</td>\n",
       "      <td>NaN</td>\n",
       "      <td>NaN</td>\n",
       "      <td>NaN</td>\n",
       "      <td>NaN</td>\n",
       "      <td>NaN</td>\n",
       "    </tr>\n",
       "  </tbody>\n",
       "</table>\n",
       "</div>"
      ],
      "text/plain": [
       "development_period       12       24       36       48       60      72  \\\n",
       "accident_period                                                           \n",
       "2003                50330.0  57568.0  29047.0  16531.0   9970.0  7451.0   \n",
       "2004                56728.0  61839.0  28857.0  17959.0  12591.0  6814.0   \n",
       "2005                57102.0  61334.0  29497.0  19852.0  11068.0  5884.0   \n",
       "2006                63725.0  72080.0  35302.0  19039.0  10872.0  8203.0   \n",
       "2007                64449.0  72029.0  36952.0  19957.0  12264.0  6064.0   \n",
       "2008                68035.0  77547.0  36364.0  20980.0  14838.0  8516.0   \n",
       "2009                61673.0  62103.0  28332.0  14797.0   8208.0  5017.0   \n",
       "2010                63743.0  62093.0  27728.0  15827.0  11110.0  6775.0   \n",
       "2011                61631.0  62086.0  27767.0  15441.0   8070.0  4067.0   \n",
       "2012                59102.0  56239.0  24798.0  13870.0   8981.0  3668.0   \n",
       "2013                58997.0  54353.0  23297.0  11903.0   7466.0  3837.0   \n",
       "2014                53547.0  50038.0  21490.0  13563.0   9039.0  5444.0   \n",
       "2015                45566.0  41881.0  20820.0  12839.0   6012.0  3253.0   \n",
       "2016                43844.0  47954.0  20519.0  11804.0   9758.0  5160.0   \n",
       "2017                42759.0  40974.0  16157.0   7119.0   5451.0  3028.0   \n",
       "2018                46172.0  43607.0  18771.0   9542.0   6088.0     NaN   \n",
       "2019                46727.0  41467.0  18374.0   8426.0      NaN     NaN   \n",
       "2020                35114.0  28351.0  12462.0      NaN      NaN     NaN   \n",
       "2021                31909.0  38074.0      NaN      NaN      NaN     NaN   \n",
       "2022                34447.0      NaN      NaN      NaN      NaN     NaN   \n",
       "\n",
       "development_period      84      96     108     120     132     144     156  \\\n",
       "accident_period                                                              \n",
       "2003                5797.0  2989.0  1631.0  1314.0  1056.0   926.0   573.0   \n",
       "2004                4406.0  4855.0  2982.0  2042.0  1300.0  3560.0  1224.0   \n",
       "2005                4933.0  2404.0  1557.0  1624.0  1366.0   779.0   685.0   \n",
       "2006                5663.0  4387.0  2870.0  3877.0  2228.0  1892.0  2202.0   \n",
       "2007                4438.0  2557.0  3540.0  1365.0  1882.0  1709.0   675.0   \n",
       "2008                4612.0  4842.0  2983.0  1418.0  1258.0  1004.0   555.0   \n",
       "2009                4152.0  3307.0  1201.0  1848.0  1081.0  1255.0   732.0   \n",
       "2010                3002.0  2199.0  2720.0  1742.0  1427.0   388.0   920.0   \n",
       "2011                2254.0  2200.0  2415.0   973.0  1715.0   564.0     NaN   \n",
       "2012                2969.0  1981.0  2002.0   578.0   618.0     NaN     NaN   \n",
       "2013                2389.0  3130.0  3091.0  1941.0     NaN     NaN     NaN   \n",
       "2014                3373.0  2647.0  1893.0     NaN     NaN     NaN     NaN   \n",
       "2015                2106.0  1228.0     NaN     NaN     NaN     NaN     NaN   \n",
       "2016                2751.0     NaN     NaN     NaN     NaN     NaN     NaN   \n",
       "2017                   NaN     NaN     NaN     NaN     NaN     NaN     NaN   \n",
       "2018                   NaN     NaN     NaN     NaN     NaN     NaN     NaN   \n",
       "2019                   NaN     NaN     NaN     NaN     NaN     NaN     NaN   \n",
       "2020                   NaN     NaN     NaN     NaN     NaN     NaN     NaN   \n",
       "2021                   NaN     NaN     NaN     NaN     NaN     NaN     NaN   \n",
       "2022                   NaN     NaN     NaN     NaN     NaN     NaN     NaN   \n",
       "\n",
       "development_period     168     180     192     204    216     228    240  \n",
       "accident_period                                                           \n",
       "2003                 787.0   725.0   550.0   700.0  648.0  1456.0  236.0  \n",
       "2004                 715.0   314.0   558.0   353.0  244.0  1298.0    NaN  \n",
       "2005                 934.0   750.0  1446.0   617.0  234.0     NaN    NaN  \n",
       "2006                 699.0  1277.0   585.0  1085.0    NaN     NaN    NaN  \n",
       "2007                1600.0   617.0   473.0     NaN    NaN     NaN    NaN  \n",
       "2008                 359.0   435.0     NaN     NaN    NaN     NaN    NaN  \n",
       "2009                 713.0     NaN     NaN     NaN    NaN     NaN    NaN  \n",
       "2010                   NaN     NaN     NaN     NaN    NaN     NaN    NaN  \n",
       "2011                   NaN     NaN     NaN     NaN    NaN     NaN    NaN  \n",
       "2012                   NaN     NaN     NaN     NaN    NaN     NaN    NaN  \n",
       "2013                   NaN     NaN     NaN     NaN    NaN     NaN    NaN  \n",
       "2014                   NaN     NaN     NaN     NaN    NaN     NaN    NaN  \n",
       "2015                   NaN     NaN     NaN     NaN    NaN     NaN    NaN  \n",
       "2016                   NaN     NaN     NaN     NaN    NaN     NaN    NaN  \n",
       "2017                   NaN     NaN     NaN     NaN    NaN     NaN    NaN  \n",
       "2018                   NaN     NaN     NaN     NaN    NaN     NaN    NaN  \n",
       "2019                   NaN     NaN     NaN     NaN    NaN     NaN    NaN  \n",
       "2020                   NaN     NaN     NaN     NaN    NaN     NaN    NaN  \n",
       "2021                   NaN     NaN     NaN     NaN    NaN     NaN    NaN  \n",
       "2022                   NaN     NaN     NaN     NaN    NaN     NaN    NaN  "
      ]
     },
     "execution_count": 19,
     "metadata": {},
     "output_type": "execute_result"
    }
   ],
   "source": [
    "r.paid_loss.incr_triangle.astype(float).round(0)"
   ]
  },
  {
   "cell_type": "code",
   "execution_count": 16,
   "metadata": {},
   "outputs": [
    {
     "data": {
      "text/plain": [
       "array([  0,   1,   2,   3,   4,   5,   6,   7,   8,   9,  10,  11,  12,\n",
       "        13,  14,  15,  16,  17,  18,  19,  20,  21,  22,  23,  24,  25,\n",
       "        26,  27,  28,  29,  30,  31,  32,  33,  34,  35,  36,  37,  38,\n",
       "        40,  41,  42,  43,  44,  45,  46,  47,  48,  49,  50,  51,  52,\n",
       "        53,  54,  55,  56,  57,  60,  61,  62,  63,  64,  65,  66,  67,\n",
       "        68,  69,  70,  71,  72,  73,  74,  75,  76,  80,  81,  82,  83,\n",
       "        84,  85,  86,  87,  88,  89,  90,  91,  92,  93,  94,  95, 100,\n",
       "       101, 102, 103, 104, 105, 106, 107, 108, 109, 110, 111, 112, 113,\n",
       "       114, 120, 121, 122, 123, 124, 125, 126, 127, 128, 129, 130, 131,\n",
       "       132, 133, 140, 141, 142, 143, 144, 145, 146, 147, 148, 149, 150,\n",
       "       151, 152, 160, 161, 162, 163, 164, 165, 166, 167, 168, 169, 170,\n",
       "       171, 180, 181, 182, 183, 184, 185, 186, 187, 188, 189, 190, 200,\n",
       "       201, 202, 203, 204, 205, 206, 207, 208, 209, 220, 221, 222, 223,\n",
       "       224, 225, 226, 227, 228, 240, 241, 242, 243, 244, 245, 246, 247,\n",
       "       260, 261, 262, 263, 264, 265, 266, 280, 281, 282, 283, 284, 285,\n",
       "       300, 301, 302, 303, 304, 320, 321, 322, 323, 340, 341, 342, 360,\n",
       "       361, 380], dtype=int64)"
      ]
     },
     "execution_count": 16,
     "metadata": {},
     "output_type": "execute_result"
    }
   ],
   "source": [
    "r.icrfs.train_index"
   ]
  },
  {
   "cell_type": "code",
   "execution_count": null,
   "metadata": {},
   "outputs": [
    {
     "name": "stdout",
     "output_type": "stream",
     "text": [
      "VarY is not implemented for this model.\n"
     ]
    },
    {
     "ename": "NotImplementedError",
     "evalue": "",
     "output_type": "error",
     "traceback": [
      "\u001b[1;31m---------------------------------------------------------------------------\u001b[0m",
      "\u001b[1;31mNotImplementedError\u001b[0m                       Traceback (most recent call last)",
      "Cell \u001b[1;32mIn[20], line 1\u001b[0m\n\u001b[1;32m----> 1\u001b[0m r\u001b[39m.\u001b[39;49micrfs\u001b[39m.\u001b[39;49mPearsonResiduals()\n",
      "File \u001b[1;32m~\\rocky\\rocky-app\\src\\py\\_util\\BaseEstimator.py:347\u001b[0m, in \u001b[0;36mBaseEstimator.PearsonResiduals\u001b[1;34m(self)\u001b[0m\n\u001b[0;32m    346\u001b[0m \u001b[39mdef\u001b[39;00m \u001b[39mPearsonResiduals\u001b[39m(\u001b[39mself\u001b[39m):\n\u001b[1;32m--> 347\u001b[0m     res \u001b[39m=\u001b[39m np\u001b[39m.\u001b[39mdivide(\u001b[39mself\u001b[39m\u001b[39m.\u001b[39mRawResiduals(), np\u001b[39m.\u001b[39msqrt(\u001b[39mself\u001b[39;49m\u001b[39m.\u001b[39;49mVarY()))\n\u001b[0;32m    348\u001b[0m     \u001b[39mreturn\u001b[39;00m res\n",
      "File \u001b[1;32m~\\rocky\\rocky-app\\src\\py\\_util\\BaseEstimator.py:265\u001b[0m, in \u001b[0;36mBaseEstimator.VarY\u001b[1;34m(self, kind)\u001b[0m\n\u001b[0;32m    263\u001b[0m \u001b[39mdef\u001b[39;00m \u001b[39mVarY\u001b[39m(\u001b[39mself\u001b[39m, kind\u001b[39m=\u001b[39m\u001b[39m\"\u001b[39m\u001b[39mtrain\u001b[39m\u001b[39m\"\u001b[39m):\n\u001b[0;32m    264\u001b[0m     \u001b[39mprint\u001b[39m(\u001b[39m\"\u001b[39m\u001b[39mVarY is not implemented for this model.\u001b[39m\u001b[39m\"\u001b[39m)\n\u001b[1;32m--> 265\u001b[0m     \u001b[39mraise\u001b[39;00m \u001b[39mNotImplementedError\u001b[39;00m\n",
      "\u001b[1;31mNotImplementedError\u001b[0m: "
     ]
    }
   ],
   "source": [
    "r.icrfs.PearsonResiduals()"
   ]
  },
  {
   "cell_type": "code",
   "execution_count": null,
   "metadata": {},
   "outputs": [
    {
     "data": {
      "text/html": [
       "<div>\n",
       "<style scoped>\n",
       "    .dataframe tbody tr th:only-of-type {\n",
       "        vertical-align: middle;\n",
       "    }\n",
       "\n",
       "    .dataframe tbody tr th {\n",
       "        vertical-align: top;\n",
       "    }\n",
       "\n",
       "    .dataframe thead th {\n",
       "        text-align: right;\n",
       "    }\n",
       "</style>\n",
       "<table border=\"1\" class=\"dataframe\">\n",
       "  <thead>\n",
       "    <tr style=\"text-align: right;\">\n",
       "      <th></th>\n",
       "      <th>Chain Ladder Ultimate Loss</th>\n",
       "      <th>Log-linear Ultimate</th>\n",
       "      <th>Diff</th>\n",
       "      <th>Diagonal</th>\n",
       "      <th>Unpaid</th>\n",
       "    </tr>\n",
       "    <tr>\n",
       "      <th>Accident Period</th>\n",
       "      <th></th>\n",
       "      <th></th>\n",
       "      <th></th>\n",
       "      <th></th>\n",
       "      <th></th>\n",
       "    </tr>\n",
       "  </thead>\n",
       "  <tbody>\n",
       "    <tr>\n",
       "      <th>2003-01-01</th>\n",
       "      <td>190285</td>\n",
       "      <td>57379</td>\n",
       "      <td>-132906</td>\n",
       "      <td>190285</td>\n",
       "      <td>-132906</td>\n",
       "    </tr>\n",
       "    <tr>\n",
       "      <th>2004-01-01</th>\n",
       "      <td>208898</td>\n",
       "      <td>49765</td>\n",
       "      <td>-159133</td>\n",
       "      <td>208639</td>\n",
       "      <td>-158874</td>\n",
       "    </tr>\n",
       "    <tr>\n",
       "      <th>2005-01-01</th>\n",
       "      <td>203724</td>\n",
       "      <td>51125</td>\n",
       "      <td>-152599</td>\n",
       "      <td>202066</td>\n",
       "      <td>-150941</td>\n",
       "    </tr>\n",
       "    <tr>\n",
       "      <th>2006-01-01</th>\n",
       "      <td>238371</td>\n",
       "      <td>47534</td>\n",
       "      <td>-190837</td>\n",
       "      <td>235986</td>\n",
       "      <td>-188452</td>\n",
       "    </tr>\n",
       "    <tr>\n",
       "      <th>2007-01-01</th>\n",
       "      <td>233675</td>\n",
       "      <td>49884</td>\n",
       "      <td>-183791</td>\n",
       "      <td>230571</td>\n",
       "      <td>-180687</td>\n",
       "    </tr>\n",
       "    <tr>\n",
       "      <th>2008-01-01</th>\n",
       "      <td>247871</td>\n",
       "      <td>51576</td>\n",
       "      <td>-196295</td>\n",
       "      <td>243746</td>\n",
       "      <td>-192170</td>\n",
       "    </tr>\n",
       "    <tr>\n",
       "      <th>2009-01-01</th>\n",
       "      <td>198337</td>\n",
       "      <td>49213</td>\n",
       "      <td>-149124</td>\n",
       "      <td>194419</td>\n",
       "      <td>-145206</td>\n",
       "    </tr>\n",
       "    <tr>\n",
       "      <th>2010-01-01</th>\n",
       "      <td>204494</td>\n",
       "      <td>51368</td>\n",
       "      <td>-153126</td>\n",
       "      <td>199674</td>\n",
       "      <td>-148306</td>\n",
       "    </tr>\n",
       "    <tr>\n",
       "      <th>2011-01-01</th>\n",
       "      <td>194624</td>\n",
       "      <td>52062</td>\n",
       "      <td>-142562</td>\n",
       "      <td>189183</td>\n",
       "      <td>-137121</td>\n",
       "    </tr>\n",
       "    <tr>\n",
       "      <th>2012-01-01</th>\n",
       "      <td>181005</td>\n",
       "      <td>54016</td>\n",
       "      <td>-126989</td>\n",
       "      <td>174806</td>\n",
       "      <td>-120790</td>\n",
       "    </tr>\n",
       "    <tr>\n",
       "      <th>2013-01-01</th>\n",
       "      <td>177666</td>\n",
       "      <td>57425</td>\n",
       "      <td>-120241</td>\n",
       "      <td>170404</td>\n",
       "      <td>-112979</td>\n",
       "    </tr>\n",
       "    <tr>\n",
       "      <th>2014-01-01</th>\n",
       "      <td>169347</td>\n",
       "      <td>60696</td>\n",
       "      <td>-108651</td>\n",
       "      <td>161034</td>\n",
       "      <td>-100338</td>\n",
       "    </tr>\n",
       "    <tr>\n",
       "      <th>2015-01-01</th>\n",
       "      <td>142374</td>\n",
       "      <td>61708</td>\n",
       "      <td>-80666</td>\n",
       "      <td>133705</td>\n",
       "      <td>-71997</td>\n",
       "    </tr>\n",
       "    <tr>\n",
       "      <th>2016-01-01</th>\n",
       "      <td>153425</td>\n",
       "      <td>62593</td>\n",
       "      <td>-90832</td>\n",
       "      <td>141790</td>\n",
       "      <td>-79197</td>\n",
       "    </tr>\n",
       "    <tr>\n",
       "      <th>2017-01-01</th>\n",
       "      <td>127624</td>\n",
       "      <td>63065</td>\n",
       "      <td>-64559</td>\n",
       "      <td>115488</td>\n",
       "      <td>-52423</td>\n",
       "    </tr>\n",
       "    <tr>\n",
       "      <th>2018-01-01</th>\n",
       "      <td>141768</td>\n",
       "      <td>61071</td>\n",
       "      <td>-80697</td>\n",
       "      <td>124180</td>\n",
       "      <td>-63109</td>\n",
       "    </tr>\n",
       "    <tr>\n",
       "      <th>2019-01-01</th>\n",
       "      <td>139290</td>\n",
       "      <td>61333</td>\n",
       "      <td>-77957</td>\n",
       "      <td>114994</td>\n",
       "      <td>-53661</td>\n",
       "    </tr>\n",
       "    <tr>\n",
       "      <th>2020-01-01</th>\n",
       "      <td>101717</td>\n",
       "      <td>62303</td>\n",
       "      <td>-39414</td>\n",
       "      <td>75927</td>\n",
       "      <td>-13624</td>\n",
       "    </tr>\n",
       "    <tr>\n",
       "      <th>2021-01-01</th>\n",
       "      <td>115452</td>\n",
       "      <td>63064</td>\n",
       "      <td>-52388</td>\n",
       "      <td>69983</td>\n",
       "      <td>-6919</td>\n",
       "    </tr>\n",
       "    <tr>\n",
       "      <th>2022-01-01</th>\n",
       "      <td>114804</td>\n",
       "      <td>63440</td>\n",
       "      <td>-51364</td>\n",
       "      <td>34447</td>\n",
       "      <td>28993</td>\n",
       "    </tr>\n",
       "  </tbody>\n",
       "</table>\n",
       "</div>"
      ],
      "text/plain": [
       "                 Chain Ladder Ultimate Loss  Log-linear Ultimate    Diff  \\\n",
       "Accident Period                                                            \n",
       "2003-01-01                           190285                57379 -132906   \n",
       "2004-01-01                           208898                49765 -159133   \n",
       "2005-01-01                           203724                51125 -152599   \n",
       "2006-01-01                           238371                47534 -190837   \n",
       "2007-01-01                           233675                49884 -183791   \n",
       "2008-01-01                           247871                51576 -196295   \n",
       "2009-01-01                           198337                49213 -149124   \n",
       "2010-01-01                           204494                51368 -153126   \n",
       "2011-01-01                           194624                52062 -142562   \n",
       "2012-01-01                           181005                54016 -126989   \n",
       "2013-01-01                           177666                57425 -120241   \n",
       "2014-01-01                           169347                60696 -108651   \n",
       "2015-01-01                           142374                61708  -80666   \n",
       "2016-01-01                           153425                62593  -90832   \n",
       "2017-01-01                           127624                63065  -64559   \n",
       "2018-01-01                           141768                61071  -80697   \n",
       "2019-01-01                           139290                61333  -77957   \n",
       "2020-01-01                           101717                62303  -39414   \n",
       "2021-01-01                           115452                63064  -52388   \n",
       "2022-01-01                           114804                63440  -51364   \n",
       "\n",
       "                 Diagonal  Unpaid  \n",
       "Accident Period                    \n",
       "2003-01-01         190285 -132906  \n",
       "2004-01-01         208639 -158874  \n",
       "2005-01-01         202066 -150941  \n",
       "2006-01-01         235986 -188452  \n",
       "2007-01-01         230571 -180687  \n",
       "2008-01-01         243746 -192170  \n",
       "2009-01-01         194419 -145206  \n",
       "2010-01-01         199674 -148306  \n",
       "2011-01-01         189183 -137121  \n",
       "2012-01-01         174806 -120790  \n",
       "2013-01-01         170404 -112979  \n",
       "2014-01-01         161034 -100338  \n",
       "2015-01-01         133705  -71997  \n",
       "2016-01-01         141790  -79197  \n",
       "2017-01-01         115488  -52423  \n",
       "2018-01-01         124180  -63109  \n",
       "2019-01-01         114994  -53661  \n",
       "2020-01-01          75927  -13624  \n",
       "2021-01-01          69983   -6919  \n",
       "2022-01-01          34447   28993  "
      ]
     },
     "execution_count": 21,
     "metadata": {},
     "output_type": "execute_result"
    }
   ],
   "source": [
    "# chain ladder ult vs GLM\n",
    "df = pd.concat([pd.DataFrame(r.paid_loss.ult()), pd.DataFrame(r.icrfs.Ultimate())], axis=1)\n",
    "df = df.assign(Diff=df['Log-linear Ultimate'] - df['Chain Ladder Ultimate Loss']).astype(int)\n",
    "df['Diagonal'] = r.paid_loss.diag().astype(int)\n",
    "df['Unpaid'] = df['Log-linear Ultimate'] - df.Diagonal\n",
    "df"
   ]
  },
  {
   "cell_type": "code",
   "execution_count": null,
   "metadata": {},
   "outputs": [
    {
     "data": {
      "application/vnd.plotly.v1+json": {
       "config": {
        "plotlyServerURL": "https://plot.ly"
       },
       "data": [
        {
         "customdata": [
          [
           2003,
           "12.0",
           1
          ],
          [
           2004,
           "12.0",
           2
          ],
          [
           2005,
           "12.0",
           3
          ],
          [
           2006,
           "12.0",
           4
          ],
          [
           2007,
           "12.0",
           5
          ],
          [
           2008,
           "12.0",
           6
          ],
          [
           2009,
           "12.0",
           7
          ],
          [
           2010,
           "12.0",
           8
          ],
          [
           2011,
           "12.0",
           9
          ],
          [
           2012,
           "12.0",
           10
          ],
          [
           2013,
           "12.0",
           11
          ],
          [
           2014,
           "12.0",
           12
          ],
          [
           2015,
           "12.0",
           13
          ],
          [
           2016,
           "12.0",
           14
          ],
          [
           2017,
           "12.0",
           15
          ],
          [
           2018,
           "12.0",
           16
          ],
          [
           2019,
           "12.0",
           17
          ],
          [
           2020,
           "12.0",
           18
          ],
          [
           2021,
           "12.0",
           19
          ],
          [
           2022,
           "12.0",
           20
          ]
         ],
         "hovertemplate": "Development Period=%{customdata[1]}<br>Observed=%{x}<br>Predicted=%{y}<br>Accident Period=%{customdata[0]}<br>Calendar Period=%{customdata[2]}<extra></extra>",
         "legendgroup": "12.0",
         "marker": {
          "color": "#636efa",
          "line": {
           "color": "black",
           "width": 0.75
          },
          "opacity": 0.5,
          "symbol": "circle"
         },
         "mode": "markers",
         "name": "12.0",
         "orientation": "v",
         "showlegend": true,
         "type": "scatter",
         "x": [
          2.3819835870314905,
          2.3929762117569227,
          2.3935763616503034,
          2.403545844501019,
          2.4045665604041075,
          2.4094444649915303,
          2.400582705035414,
          2.403571374399682,
          2.4005209381464314,
          2.396714580033922,
          2.396552724177459,
          2.38769020063017,
          2.3727561997359867,
          2.3691584011416533,
          2.3668112195780635,
          2.3739870846079154,
          2.3750989856750633,
          2.3481658449175438,
          2.338980529418879,
          2.346331816554008
         ],
         "xaxis": "x",
         "y": [
          2.943690818869217,
          4.59437217844025,
          5.542898849694126,
          6.15396328270168,
          6.4910892391981925,
          6.70491220630287,
          6.853105084437331,
          6.973649504887428,
          7.059965102329469,
          7.123754430204422,
          7.170806143436824,
          7.170806143436824,
          7.170806143436824,
          7.170806143436824,
          7.170806143436824,
          7.170806143436824,
          7.170806143436824,
          7.170806143436824,
          7.170806143436824,
          7.170806143436824
         ],
         "yaxis": "y"
        },
        {
         "customdata": [
          [
           2003,
           "24.0",
           2
          ],
          [
           2004,
           "24.0",
           3
          ],
          [
           2005,
           "24.0",
           4
          ],
          [
           2006,
           "24.0",
           5
          ],
          [
           2007,
           "24.0",
           6
          ],
          [
           2008,
           "24.0",
           7
          ],
          [
           2009,
           "24.0",
           8
          ],
          [
           2010,
           "24.0",
           9
          ],
          [
           2011,
           "24.0",
           10
          ],
          [
           2012,
           "24.0",
           11
          ],
          [
           2013,
           "24.0",
           12
          ],
          [
           2014,
           "24.0",
           13
          ],
          [
           2015,
           "24.0",
           14
          ],
          [
           2016,
           "24.0",
           15
          ],
          [
           2017,
           "24.0",
           16
          ],
          [
           2018,
           "24.0",
           17
          ],
          [
           2019,
           "24.0",
           18
          ],
          [
           2020,
           "24.0",
           19
          ],
          [
           2021,
           "24.0",
           20
          ]
         ],
         "hovertemplate": "Development Period=%{customdata[1]}<br>Observed=%{x}<br>Predicted=%{y}<br>Accident Period=%{customdata[0]}<br>Calendar Period=%{customdata[2]}<extra></extra>",
         "legendgroup": "24.0",
         "marker": {
          "color": "#EF553B",
          "line": {
           "color": "black",
           "width": 0.75
          },
          "opacity": 0.5,
          "symbol": "circle"
         },
         "mode": "markers",
         "name": "24.0",
         "orientation": "v",
         "showlegend": true,
         "type": "scatter",
         "x": [
          2.394318167738947,
          2.400826383109613,
          2.4000828435406145,
          2.414621147882263,
          2.414557867923724,
          2.4211357879812048,
          2.401212453586817,
          2.401197862345574,
          2.4011876469517404,
          2.3921849769009813,
          2.389061376655098,
          2.3814459945257074,
          2.364863644427034,
          2.377506787284679,
          2.362804267751613,
          2.3686511624830606,
          2.36392975755719,
          2.3275135394224473,
          2.3558694310141313
         ],
         "xaxis": "x",
         "y": [
          4.273652398020705,
          5.924333757591738,
          6.872860428845614,
          7.483924861853168,
          7.821050818349679,
          8.034873785454359,
          8.18306666358882,
          8.303611084038916,
          8.389926681480958,
          8.45371600935591,
          8.50076772258831,
          8.50076772258831,
          8.50076772258831,
          8.50076772258831,
          8.50076772258831,
          8.50076772258831,
          8.50076772258831,
          8.50076772258831,
          8.50076772258831
         ],
         "yaxis": "y"
        },
        {
         "customdata": [
          [
           null,
           "nan",
           null
          ],
          [
           null,
           "nan",
           null
          ],
          [
           null,
           "nan",
           null
          ],
          [
           null,
           "nan",
           null
          ],
          [
           null,
           "nan",
           null
          ],
          [
           null,
           "nan",
           null
          ],
          [
           null,
           "nan",
           null
          ],
          [
           null,
           "nan",
           null
          ],
          [
           null,
           "nan",
           null
          ],
          [
           null,
           "nan",
           null
          ],
          [
           null,
           "nan",
           null
          ],
          [
           null,
           "nan",
           null
          ],
          [
           null,
           "nan",
           null
          ],
          [
           null,
           "nan",
           null
          ],
          [
           null,
           "nan",
           null
          ],
          [
           null,
           "nan",
           null
          ],
          [
           null,
           "nan",
           null
          ],
          [
           null,
           "nan",
           null
          ],
          [
           null,
           "nan",
           null
          ],
          [
           null,
           "nan",
           null
          ],
          [
           null,
           "nan",
           null
          ],
          [
           null,
           "nan",
           null
          ],
          [
           null,
           "nan",
           null
          ],
          [
           null,
           "nan",
           null
          ],
          [
           null,
           "nan",
           null
          ],
          [
           null,
           "nan",
           null
          ],
          [
           null,
           "nan",
           null
          ],
          [
           null,
           "nan",
           null
          ],
          [
           null,
           "nan",
           null
          ],
          [
           null,
           "nan",
           null
          ],
          [
           null,
           "nan",
           null
          ],
          [
           null,
           "nan",
           null
          ],
          [
           null,
           "nan",
           null
          ],
          [
           null,
           "nan",
           null
          ],
          [
           null,
           "nan",
           null
          ],
          [
           null,
           "nan",
           null
          ],
          [
           null,
           "nan",
           null
          ],
          [
           null,
           "nan",
           null
          ],
          [
           null,
           "nan",
           null
          ],
          [
           null,
           "nan",
           null
          ],
          [
           null,
           "nan",
           null
          ],
          [
           null,
           "nan",
           null
          ],
          [
           null,
           "nan",
           null
          ],
          [
           null,
           "nan",
           null
          ],
          [
           null,
           "nan",
           null
          ]
         ],
         "hovertemplate": "Development Period=%{customdata[1]}<br>Observed=%{x}<br>Predicted=%{y}<br>Accident Period=%{customdata[0]}<br>Calendar Period=%{customdata[2]}<extra></extra>",
         "legendgroup": "nan",
         "marker": {
          "color": "#00cc96",
          "line": {
           "color": "black",
           "width": 0.75
          },
          "opacity": 0.5,
          "symbol": "circle"
         },
         "mode": "markers",
         "name": "nan",
         "orientation": "v",
         "showlegend": true,
         "type": "scatter",
         "x": [
          null,
          null,
          null,
          null,
          null,
          null,
          null,
          null,
          null,
          null,
          null,
          null,
          null,
          null,
          null,
          null,
          null,
          null,
          null,
          null,
          null,
          null,
          null,
          null,
          null,
          null,
          null,
          null,
          null,
          null,
          null,
          null,
          null,
          null,
          null,
          null,
          null,
          null,
          null,
          null,
          null,
          null,
          null,
          null,
          null
         ],
         "xaxis": "x",
         "y": [
          4.531423071543597,
          6.182104431114629,
          7.130631102368506,
          7.74169553537606,
          8.078821491872572,
          8.29264445897725,
          8.440837337111711,
          8.561381757561808,
          8.64769735500385,
          8.711486682878803,
          8.758538396111204,
          8.758538396111204,
          8.758538396111204,
          8.758538396111204,
          4.531423071543597,
          7.130631102368506,
          7.74169553537606,
          8.078821491872572,
          8.29264445897725,
          8.440837337111711,
          8.561381757561808,
          8.711486682878803,
          8.758538396111204,
          4.531423071543597,
          6.182104431114629,
          7.130631102368506,
          7.74169553537606,
          8.078821491872572,
          8.561381757561808,
          8.64769735500385,
          4.531423071543597,
          6.182104431114629,
          7.130631102368506,
          7.74169553537606,
          8.078821491872572,
          8.29264445897725,
          7.130631102368506,
          7.74169553537606,
          8.078821491872572,
          8.29264445897725,
          4.531423071543597,
          6.182104431114629,
          7.130631102368506,
          7.74169553537606,
          8.078821491872572
         ],
         "yaxis": "y"
        },
        {
         "customdata": [
          [
           2003,
           "36.0",
           3
          ],
          [
           2004,
           "36.0",
           4
          ],
          [
           2005,
           "36.0",
           5
          ],
          [
           2006,
           "36.0",
           6
          ],
          [
           2007,
           "36.0",
           7
          ],
          [
           2008,
           "36.0",
           8
          ],
          [
           2009,
           "36.0",
           9
          ],
          [
           2010,
           "36.0",
           10
          ],
          [
           2011,
           "36.0",
           11
          ],
          [
           2012,
           "36.0",
           12
          ],
          [
           2013,
           "36.0",
           13
          ],
          [
           2014,
           "36.0",
           14
          ],
          [
           2015,
           "36.0",
           15
          ],
          [
           2016,
           "36.0",
           16
          ],
          [
           2017,
           "36.0",
           17
          ],
          [
           2018,
           "36.0",
           18
          ],
          [
           2019,
           "36.0",
           19
          ],
          [
           2020,
           "36.0",
           20
          ]
         ],
         "hovertemplate": "Development Period=%{customdata[1]}<br>Observed=%{x}<br>Predicted=%{y}<br>Accident Period=%{customdata[0]}<br>Calendar Period=%{customdata[2]}<extra></extra>",
         "legendgroup": "36.0",
         "marker": {
          "color": "#ab63fa",
          "line": {
           "color": "black",
           "width": 0.75
          },
          "opacity": 0.5,
          "symbol": "circle"
         },
         "mode": "markers",
         "name": "36.0",
         "orientation": "v",
         "showlegend": true,
         "type": "scatter",
         "x": [
          2.3298763249512784,
          2.329237527957425,
          2.331371154247325,
          2.348675893208017,
          2.353028656412964,
          2.351502349395656,
          2.3274481483141822,
          2.3253439357835792,
          2.3254813168699564,
          2.3143672384894294,
          2.3081774143649225,
          2.3001163471107495,
          2.296936101661278,
          2.295470500711532,
          2.2711056406258403,
          2.2864626627337463,
          2.284287905838805,
          2.243942680194924
         ],
         "xaxis": "x",
         "y": [
          6.182104431114629,
          7.130631102368506,
          7.74169553537606,
          8.078821491872572,
          8.29264445897725,
          8.440837337111711,
          8.561381757561808,
          8.64769735500385,
          8.711486682878803,
          8.758538396111204,
          8.758538396111204,
          8.758538396111204,
          8.758538396111204,
          8.758538396111204,
          8.758538396111204,
          8.758538396111204,
          8.758538396111204,
          4.531423071543597
         ],
         "yaxis": "y"
        },
        {
         "customdata": [
          [
           2003,
           "48.0",
           4
          ],
          [
           2004,
           "48.0",
           5
          ],
          [
           2005,
           "48.0",
           6
          ],
          [
           2006,
           "48.0",
           7
          ],
          [
           2007,
           "48.0",
           8
          ],
          [
           2008,
           "48.0",
           9
          ],
          [
           2009,
           "48.0",
           10
          ],
          [
           2010,
           "48.0",
           11
          ],
          [
           2011,
           "48.0",
           12
          ],
          [
           2012,
           "48.0",
           13
          ],
          [
           2013,
           "48.0",
           14
          ],
          [
           2014,
           "48.0",
           15
          ],
          [
           2015,
           "48.0",
           16
          ],
          [
           2016,
           "48.0",
           17
          ],
          [
           2017,
           "48.0",
           18
          ],
          [
           2018,
           "48.0",
           19
          ],
          [
           2019,
           "48.0",
           20
          ]
         ],
         "hovertemplate": "Development Period=%{customdata[1]}<br>Observed=%{x}<br>Predicted=%{y}<br>Accident Period=%{customdata[0]}<br>Calendar Period=%{customdata[2]}<extra></extra>",
         "legendgroup": "48.0",
         "marker": {
          "color": "#FFA15A",
          "line": {
           "color": "black",
           "width": 0.75
          },
          "opacity": 0.5,
          "symbol": "circle"
         },
         "mode": "markers",
         "name": "48.0",
         "orientation": "v",
         "showlegend": true,
         "type": "scatter",
         "x": [
          2.273464441310985,
          2.2819584857435147,
          2.292136701836874,
          2.2879023050916647,
          2.292669620568082,
          2.2977056962711524,
          2.2619901285861848,
          2.2689737703702466,
          2.2664170010334677,
          2.2552296679914012,
          2.239064266966996,
          2.2528800919650385,
          2.24709803734265,
          2.238173895597165,
          2.18273370609742,
          2.215223660495886,
          2.2015571163798557
         ],
         "xaxis": "x",
         "y": [
          7.74169553537606,
          8.078821491872572,
          8.29264445897725,
          8.440837337111711,
          8.561381757561808,
          8.64769735500385,
          8.711486682878803,
          8.758538396111204,
          8.758538396111204,
          8.758538396111204,
          8.758538396111204,
          8.758538396111204,
          8.758538396111204,
          8.758538396111204,
          4.531423071543597,
          6.182104431114629,
          7.130631102368506
         ],
         "yaxis": "y"
        },
        {
         "customdata": [
          [
           2003,
           "60.0",
           5
          ],
          [
           2004,
           "60.0",
           6
          ],
          [
           2005,
           "60.0",
           7
          ],
          [
           2006,
           "60.0",
           8
          ],
          [
           2007,
           "60.0",
           9
          ],
          [
           2008,
           "60.0",
           10
          ],
          [
           2009,
           "60.0",
           11
          ],
          [
           2010,
           "60.0",
           12
          ],
          [
           2011,
           "60.0",
           13
          ],
          [
           2012,
           "60.0",
           14
          ],
          [
           2013,
           "60.0",
           15
          ],
          [
           2014,
           "60.0",
           16
          ],
          [
           2015,
           "60.0",
           17
          ],
          [
           2016,
           "60.0",
           18
          ],
          [
           2017,
           "60.0",
           19
          ],
          [
           2018,
           "60.0",
           20
          ]
         ],
         "hovertemplate": "Development Period=%{customdata[1]}<br>Observed=%{x}<br>Predicted=%{y}<br>Accident Period=%{customdata[0]}<br>Calendar Period=%{customdata[2]}<extra></extra>",
         "legendgroup": "60.0",
         "marker": {
          "color": "#19d3f3",
          "line": {
           "color": "black",
           "width": 0.75
          },
          "opacity": 0.5,
          "symbol": "circle"
         },
         "mode": "markers",
         "name": "60.0",
         "orientation": "v",
         "showlegend": true,
         "type": "scatter",
         "x": [
          2.2200005427275666,
          2.2450341076140345,
          2.231283845782467,
          2.2293632156933274,
          2.2422429197188785,
          2.262278250838093,
          2.1986529531006247,
          2.2316905089654084,
          2.1967698919006833,
          2.2085893654225495,
          2.188084563206568,
          2.209296289888426,
          2.1634968899559395,
          2.2176634662682506,
          2.1521754152087005,
          2.1649395229694792
         ],
         "xaxis": "x",
         "y": [
          8.440837337111711,
          8.561381757561808,
          8.64769735500385,
          8.711486682878803,
          8.758538396111204,
          8.758538396111204,
          8.758538396111204,
          8.758538396111204,
          8.758538396111204,
          8.758538396111204,
          4.531423071543597,
          6.182104431114629,
          7.130631102368506,
          7.74169553537606,
          8.078821491872572,
          8.29264445897725
         ],
         "yaxis": "y"
        },
        {
         "customdata": [
          [
           2003,
           "72.0",
           6
          ],
          [
           2004,
           "72.0",
           7
          ],
          [
           2005,
           "72.0",
           8
          ],
          [
           2006,
           "72.0",
           9
          ],
          [
           2007,
           "72.0",
           10
          ],
          [
           2008,
           "72.0",
           11
          ],
          [
           2009,
           "72.0",
           12
          ],
          [
           2010,
           "72.0",
           13
          ],
          [
           2011,
           "72.0",
           14
          ],
          [
           2012,
           "72.0",
           15
          ],
          [
           2013,
           "72.0",
           16
          ],
          [
           2014,
           "72.0",
           17
          ],
          [
           2015,
           "72.0",
           18
          ],
          [
           2016,
           "72.0",
           19
          ],
          [
           2017,
           "72.0",
           20
          ]
         ],
         "hovertemplate": "Development Period=%{customdata[1]}<br>Observed=%{x}<br>Predicted=%{y}<br>Accident Period=%{customdata[0]}<br>Calendar Period=%{customdata[2]}<extra></extra>",
         "legendgroup": "72.0",
         "marker": {
          "color": "#FF6692",
          "line": {
           "color": "black",
           "width": 0.75
          },
          "opacity": 0.5,
          "symbol": "circle"
         },
         "mode": "markers",
         "name": "72.0",
         "orientation": "v",
         "showlegend": true,
         "type": "scatter",
         "x": [
          2.187859027227598,
          2.1777851385441465,
          2.161020616427756,
          2.198585342187053,
          2.1644861337376953,
          2.202731831867395,
          2.1424852850002316,
          2.1771346352872043,
          2.117539137101681,
          2.1050364097221865,
          2.1105096521879094,
          2.1520260479576856,
          2.0902990013723177,
          2.1457782722344256,
          2.0813968306754704
         ],
         "xaxis": "x",
         "y": [
          8.758538396111204,
          8.758538396111204,
          8.758538396111204,
          8.758538396111204,
          8.758538396111204,
          4.531423071543597,
          6.182104431114629,
          7.130631102368506,
          7.74169553537606,
          8.078821491872572,
          8.29264445897725,
          8.440837337111711,
          8.561381757561808,
          8.64769735500385,
          8.711486682878803
         ],
         "yaxis": "y"
        },
        {
         "customdata": [
          [
           2003,
           "84.0",
           7
          ],
          [
           2004,
           "84.0",
           8
          ],
          [
           2005,
           "84.0",
           9
          ],
          [
           2006,
           "84.0",
           10
          ],
          [
           2007,
           "84.0",
           11
          ],
          [
           2008,
           "84.0",
           12
          ],
          [
           2009,
           "84.0",
           13
          ],
          [
           2010,
           "84.0",
           14
          ],
          [
           2011,
           "84.0",
           15
          ],
          [
           2012,
           "84.0",
           16
          ],
          [
           2013,
           "84.0",
           17
          ],
          [
           2014,
           "84.0",
           18
          ],
          [
           2015,
           "84.0",
           19
          ],
          [
           2016,
           "84.0",
           20
          ]
         ],
         "hovertemplate": "Development Period=%{customdata[1]}<br>Observed=%{x}<br>Predicted=%{y}<br>Accident Period=%{customdata[0]}<br>Calendar Period=%{customdata[2]}<extra></extra>",
         "legendgroup": "84.0",
         "marker": {
          "color": "#B6E880",
          "line": {
           "color": "black",
           "width": 0.75
          },
          "opacity": 0.5,
          "symbol": "circle"
         },
         "mode": "markers",
         "name": "84.0",
         "orientation": "v",
         "showlegend": true,
         "type": "scatter",
         "x": [
          2.159302981541478,
          2.1271266344544286,
          2.1405016687952156,
          2.156600371832414,
          2.1279887124588295,
          2.1325576783454028,
          2.120024958724235,
          2.0803204068888195,
          2.043874167248401,
          2.0789389747597045,
          2.0513802490790147,
          2.094768215238123,
          2.03503836276948,
          2.069355821478671
         ],
         "xaxis": "x",
         "y": [
          6.182104431114629,
          7.130631102368506,
          7.74169553537606,
          8.078821491872572,
          8.29264445897725,
          8.440837337111711,
          8.561381757561808,
          8.64769735500385,
          8.711486682878803,
          8.758538396111204,
          8.758538396111204,
          8.758538396111204,
          4.531423071543597,
          6.182104431114629
         ],
         "yaxis": "y"
        },
        {
         "customdata": [
          [
           2003,
           "96.0",
           8
          ],
          [
           2004,
           "96.0",
           9
          ],
          [
           2005,
           "96.0",
           10
          ],
          [
           2006,
           "96.0",
           11
          ],
          [
           2007,
           "96.0",
           12
          ],
          [
           2008,
           "96.0",
           13
          ],
          [
           2009,
           "96.0",
           14
          ],
          [
           2010,
           "96.0",
           15
          ],
          [
           2011,
           "96.0",
           16
          ],
          [
           2012,
           "96.0",
           17
          ],
          [
           2013,
           "96.0",
           18
          ],
          [
           2014,
           "96.0",
           19
          ],
          [
           2015,
           "96.0",
           20
          ]
         ],
         "hovertemplate": "Development Period=%{customdata[1]}<br>Observed=%{x}<br>Predicted=%{y}<br>Accident Period=%{customdata[0]}<br>Calendar Period=%{customdata[2]}<extra></extra>",
         "legendgroup": "96.0",
         "marker": {
          "color": "#FF97FF",
          "line": {
           "color": "black",
           "width": 0.75
          },
          "opacity": 0.5,
          "symbol": "circle"
         },
         "mode": "markers",
         "name": "96.0",
         "orientation": "v",
         "showlegend": true,
         "type": "scatter",
         "x": [
          2.0797782552709436,
          2.138625641822412,
          2.0521845849735625,
          2.126611453611888,
          2.0600790393640724,
          2.1383096968111994,
          2.092332681856556,
          2.0406692667352284,
          2.0407283428344116,
          2.02701036945722,
          2.0855215563160585,
          2.064477918280401,
          1.9619440742818899
         ],
         "xaxis": "x",
         "y": [
          8.64769735500385,
          8.711486682878803,
          8.758538396111204,
          8.758538396111204,
          4.531423071543597,
          6.182104431114629,
          7.130631102368506,
          7.74169553537606,
          8.078821491872572,
          8.29264445897725,
          8.440837337111711,
          8.561381757561808,
          8.64769735500385
         ],
         "yaxis": "y"
        },
        {
         "customdata": [
          [
           2003,
           "108.0",
           9
          ],
          [
           2004,
           "108.0",
           10
          ],
          [
           2005,
           "108.0",
           11
          ],
          [
           2006,
           "108.0",
           12
          ],
          [
           2007,
           "108.0",
           13
          ],
          [
           2008,
           "108.0",
           14
          ],
          [
           2009,
           "108.0",
           15
          ],
          [
           2010,
           "108.0",
           16
          ],
          [
           2011,
           "108.0",
           17
          ],
          [
           2012,
           "108.0",
           18
          ],
          [
           2013,
           "108.0",
           19
          ],
          [
           2014,
           "108.0",
           20
          ]
         ],
         "hovertemplate": "Development Period=%{customdata[1]}<br>Observed=%{x}<br>Predicted=%{y}<br>Accident Period=%{customdata[0]}<br>Calendar Period=%{customdata[2]}<extra></extra>",
         "legendgroup": "108.0",
         "marker": {
          "color": "#FECB52",
          "line": {
           "color": "black",
           "width": 0.75
          },
          "opacity": 0.5,
          "symbol": "circle"
         },
         "mode": "markers",
         "name": "108.0",
         "orientation": "v",
         "showlegend": true,
         "type": "scatter",
         "x": [
          2.0010675641729128,
          2.079485227641176,
          1.9947705382193206,
          2.074688678291911,
          2.100699238051309,
          2.0795271360808743,
          1.9588136570050596,
          2.0679238620373908,
          2.0527708402409246,
          2.0283984738613174,
          2.083962549272903,
          2.0210067748372986
         ],
         "xaxis": "x",
         "y": [
          8.29264445897725,
          8.440837337111711,
          8.561381757561808,
          8.64769735500385,
          8.711486682878803,
          4.531423071543597,
          6.182104431114629,
          7.130631102368506,
          7.74169553537606,
          8.078821491872572,
          8.29264445897725,
          8.440837337111711
         ],
         "yaxis": "y"
        },
        {
         "customdata": [
          [
           2003,
           "120.0",
           10
          ],
          [
           2004,
           "120.0",
           11
          ],
          [
           2005,
           "120.0",
           12
          ],
          [
           2006,
           "120.0",
           13
          ],
          [
           2007,
           "120.0",
           14
          ],
          [
           2008,
           "120.0",
           15
          ],
          [
           2009,
           "120.0",
           16
          ],
          [
           2010,
           "120.0",
           17
          ],
          [
           2011,
           "120.0",
           18
          ],
          [
           2012,
           "120.0",
           19
          ],
          [
           2013,
           "120.0",
           20
          ]
         ],
         "hovertemplate": "Development Period=%{customdata[1]}<br>Observed=%{x}<br>Predicted=%{y}<br>Accident Period=%{customdata[0]}<br>Calendar Period=%{customdata[2]}<extra></extra>",
         "legendgroup": "120.0",
         "marker": {
          "color": "#636efa",
          "line": {
           "color": "black",
           "width": 0.75
          },
          "opacity": 0.5,
          "symbol": "circle"
         },
         "mode": "markers",
         "name": "120.0",
         "orientation": "v",
         "showlegend": true,
         "type": "scatter",
         "x": [
          1.9714151422434227,
          2.0309974736948146,
          2.0004859280031657,
          2.111765563010476,
          1.976703931476512,
          1.9819668933277717,
          2.0178133483869924,
          2.0099292260300032,
          1.9286744762861734,
          1.8499613733262386,
          2.0243196886490686
         ],
         "xaxis": "x",
         "y": [
          8.440837337111711,
          8.561381757561808,
          4.531423071543597,
          6.182104431114629,
          7.130631102368506,
          7.74169553537606,
          8.078821491872572,
          8.29264445897725,
          8.440837337111711,
          4.531423071543597,
          6.182104431114629
         ],
         "yaxis": "y"
        },
        {
         "customdata": [
          [
           2003,
           "132.0",
           11
          ],
          [
           2004,
           "132.0",
           12
          ],
          [
           2005,
           "132.0",
           13
          ],
          [
           2006,
           "132.0",
           14
          ],
          [
           2007,
           "132.0",
           15
          ],
          [
           2008,
           "132.0",
           16
          ],
          [
           2009,
           "132.0",
           17
          ],
          [
           2010,
           "132.0",
           18
          ],
          [
           2011,
           "132.0",
           19
          ],
          [
           2012,
           "132.0",
           20
          ]
         ],
         "hovertemplate": "Development Period=%{customdata[1]}<br>Observed=%{x}<br>Predicted=%{y}<br>Accident Period=%{customdata[0]}<br>Calendar Period=%{customdata[2]}<extra></extra>",
         "legendgroup": "132.0",
         "marker": {
          "color": "#EF553B",
          "line": {
           "color": "black",
           "width": 0.75
          },
          "opacity": 0.5,
          "symbol": "circle"
         },
         "mode": "markers",
         "name": "132.0",
         "orientation": "v",
         "showlegend": true,
         "type": "scatter",
         "x": [
          1.9405017592268339,
          1.9699223271991275,
          1.9768053727463981,
          2.042370264968196,
          2.020234160747234,
          1.965331532435219,
          1.9438568736186268,
          1.9828383486972145,
          2.0078338741807653,
          1.8604282704811164
         ],
         "xaxis": "x",
         "y": [
          4.531423071543597,
          6.182104431114629,
          7.130631102368506,
          7.74169553537606,
          4.531423071543597,
          6.182104431114629,
          7.130631102368506,
          4.531423071543597,
          6.182104431114629,
          4.531423071543597
         ],
         "yaxis": "y"
        },
        {
         "customdata": [
          [
           2003,
           "144.0",
           12
          ],
          [
           2004,
           "144.0",
           13
          ],
          [
           2005,
           "144.0",
           14
          ],
          [
           2006,
           "144.0",
           15
          ],
          [
           2007,
           "144.0",
           16
          ],
          [
           2008,
           "144.0",
           17
          ],
          [
           2009,
           "144.0",
           18
          ],
          [
           2010,
           "144.0",
           19
          ],
          [
           2011,
           "144.0",
           20
          ]
         ],
         "hovertemplate": "Development Period=%{customdata[1]}<br>Observed=%{x}<br>Predicted=%{y}<br>Accident Period=%{customdata[0]}<br>Calendar Period=%{customdata[2]}<extra></extra>",
         "legendgroup": "144.0",
         "marker": {
          "color": "#00cc96",
          "line": {
           "color": "black",
           "width": 0.75
          },
          "opacity": 0.5,
          "symbol": "circle"
         },
         "mode": "markers",
         "name": "144.0",
         "orientation": "v",
         "showlegend": true,
         "type": "scatter",
         "x": [
          1.9214526646076298,
          2.101388415475436,
          1.8958207981888178,
          2.020936747560513,
          2.0073631581671663,
          1.9332224712633668,
          1.9649969532036449,
          1.7852391479970382,
          1.8460983775088184
         ],
         "xaxis": "x",
         "y": [
          null,
          null,
          null,
          null,
          null,
          null,
          null,
          null,
          null
         ],
         "yaxis": "y"
        },
        {
         "customdata": [
          [
           2003,
           "156.0",
           13
          ],
          [
           2004,
           "156.0",
           14
          ],
          [
           2005,
           "156.0",
           15
          ],
          [
           2006,
           "156.0",
           16
          ],
          [
           2007,
           "156.0",
           17
          ],
          [
           2008,
           "156.0",
           18
          ],
          [
           2009,
           "156.0",
           19
          ],
          [
           2010,
           "156.0",
           20
          ]
         ],
         "hovertemplate": "Development Period=%{customdata[1]}<br>Observed=%{x}<br>Predicted=%{y}<br>Accident Period=%{customdata[0]}<br>Calendar Period=%{customdata[2]}<extra></extra>",
         "legendgroup": "156.0",
         "marker": {
          "color": "#ab63fa",
          "line": {
           "color": "black",
           "width": 0.75
          },
          "opacity": 0.5,
          "symbol": "circle"
         },
         "mode": "markers",
         "name": "156.0",
         "orientation": "v",
         "showlegend": true,
         "type": "scatter",
         "x": [
          1.8485942861249616,
          1.961485290517051,
          1.8763179405929893,
          2.0408464040601126,
          1.8740631099685552,
          1.8435559216868687,
          1.8864301285162521,
          1.9205005669028463
         ],
         "xaxis": "x",
         "y": [
          null,
          null,
          null,
          null,
          null,
          null,
          null,
          null
         ],
         "yaxis": "y"
        },
        {
         "customdata": [
          [
           2003,
           "168.0",
           14
          ],
          [
           2004,
           "168.0",
           15
          ],
          [
           2005,
           "168.0",
           16
          ],
          [
           2006,
           "168.0",
           17
          ],
          [
           2007,
           "168.0",
           18
          ],
          [
           2008,
           "168.0",
           19
          ],
          [
           2009,
           "168.0",
           20
          ]
         ],
         "hovertemplate": "Development Period=%{customdata[1]}<br>Observed=%{x}<br>Predicted=%{y}<br>Accident Period=%{customdata[0]}<br>Calendar Period=%{customdata[2]}<extra></extra>",
         "legendgroup": "168.0",
         "marker": {
          "color": "#FFA15A",
          "line": {
           "color": "black",
           "width": 0.75
          },
          "opacity": 0.5,
          "symbol": "circle"
         },
         "mode": "markers",
         "name": "168.0",
         "orientation": "v",
         "showlegend": true,
         "type": "scatter",
         "x": [
          1.8973541947192274,
          1.8828611911398208,
          1.9227111845862184,
          1.8794117264291381,
          1.998469921523182,
          1.7721216343958586,
          1.8824348979374783
         ],
         "xaxis": "x",
         "y": [
          null,
          null,
          null,
          null,
          null,
          null,
          null
         ],
         "yaxis": "y"
        },
        {
         "customdata": [
          [
           2003,
           "180.0",
           15
          ],
          [
           2004,
           "180.0",
           16
          ],
          [
           2005,
           "180.0",
           17
          ],
          [
           2006,
           "180.0",
           18
          ],
          [
           2007,
           "180.0",
           19
          ],
          [
           2008,
           "180.0",
           20
          ]
         ],
         "hovertemplate": "Development Period=%{customdata[1]}<br>Observed=%{x}<br>Predicted=%{y}<br>Accident Period=%{customdata[0]}<br>Calendar Period=%{customdata[2]}<extra></extra>",
         "legendgroup": "180.0",
         "marker": {
          "color": "#19d3f3",
          "line": {
           "color": "black",
           "width": 0.75
          },
          "opacity": 0.5,
          "symbol": "circle"
         },
         "mode": "markers",
         "name": "180.0",
         "orientation": "v",
         "showlegend": true,
         "type": "scatter",
         "x": [
          1.8849722472122568,
          1.7490942815684707,
          1.8901064282760447,
          1.9674296288918065,
          1.8601762451891233,
          1.8042389474544507
         ],
         "xaxis": "x",
         "y": [
          null,
          null,
          null,
          null,
          null,
          null
         ],
         "yaxis": "y"
        },
        {
         "customdata": [
          [
           2003,
           "192.0",
           16
          ],
          [
           2004,
           "192.0",
           17
          ],
          [
           2005,
           "192.0",
           18
          ],
          [
           2006,
           "192.0",
           19
          ],
          [
           2007,
           "192.0",
           20
          ]
         ],
         "hovertemplate": "Development Period=%{customdata[1]}<br>Observed=%{x}<br>Predicted=%{y}<br>Accident Period=%{customdata[0]}<br>Calendar Period=%{customdata[2]}<extra></extra>",
         "legendgroup": "192.0",
         "marker": {
          "color": "#FF6692",
          "line": {
           "color": "black",
           "width": 0.75
          },
          "opacity": 0.5,
          "symbol": "circle"
         },
         "mode": "markers",
         "name": "192.0",
         "orientation": "v",
         "showlegend": true,
         "type": "scatter",
         "x": [
          1.8421227253165633,
          1.8444086796562071,
          1.9846577286940106,
          1.8518524748175982,
          1.8179299142439982
         ],
         "xaxis": "x",
         "y": [
          null,
          null,
          null,
          null,
          null
         ],
         "yaxis": "y"
        },
        {
         "customdata": [
          [
           2003,
           "204.0",
           17
          ],
          [
           2004,
           "204.0",
           18
          ],
          [
           2005,
           "204.0",
           19
          ],
          [
           2006,
           "204.0",
           20
          ]
         ],
         "hovertemplate": "Development Period=%{customdata[1]}<br>Observed=%{x}<br>Predicted=%{y}<br>Accident Period=%{customdata[0]}<br>Calendar Period=%{customdata[2]}<extra></extra>",
         "legendgroup": "204.0",
         "marker": {
          "color": "#B6E880",
          "line": {
           "color": "black",
           "width": 0.75
          },
          "opacity": 0.5,
          "symbol": "circle"
         },
         "mode": "markers",
         "name": "204.0",
         "orientation": "v",
         "showlegend": true,
         "type": "scatter",
         "x": [
          1.8796299726944552,
          1.7692527588711147,
          1.8601762451891233,
          1.9443854538659142
         ],
         "xaxis": "x",
         "y": [
          null,
          null,
          null,
          null
         ],
         "yaxis": "y"
        },
        {
         "customdata": [
          [
           2003,
           "216.0",
           18
          ],
          [
           2004,
           "216.0",
           19
          ],
          [
           2005,
           "216.0",
           20
          ]
         ],
         "hovertemplate": "Development Period=%{customdata[1]}<br>Observed=%{x}<br>Predicted=%{y}<br>Accident Period=%{customdata[0]}<br>Calendar Period=%{customdata[2]}<extra></extra>",
         "legendgroup": "216.0",
         "marker": {
          "color": "#FF97FF",
          "line": {
           "color": "black",
           "width": 0.75
          },
          "opacity": 0.5,
          "symbol": "circle"
         },
         "mode": "markers",
         "name": "216.0",
         "orientation": "v",
         "showlegend": true,
         "type": "scatter",
         "x": [
          1.8677772718818022,
          1.7042330915198087,
          1.6965914837958764
         ],
         "xaxis": "x",
         "y": [
          null,
          null,
          null
         ],
         "yaxis": "y"
        },
        {
         "customdata": [
          [
           2003,
           "228.0",
           19
          ],
          [
           2004,
           "228.0",
           20
          ]
         ],
         "hovertemplate": "Development Period=%{customdata[1]}<br>Observed=%{x}<br>Predicted=%{y}<br>Accident Period=%{customdata[0]}<br>Calendar Period=%{customdata[2]}<extra></extra>",
         "legendgroup": "228.0",
         "marker": {
          "color": "#FECB52",
          "line": {
           "color": "black",
           "width": 0.75
          },
          "opacity": 0.5,
          "symbol": "circle"
         },
         "mode": "markers",
         "name": "228.0",
         "orientation": "v",
         "showlegend": true,
         "type": "scatter",
         "x": [
          1.9856044078643906,
          1.9697075732463194
         ],
         "xaxis": "x",
         "y": [
          null,
          null
         ],
         "yaxis": "y"
        },
        {
         "customdata": [
          [
           2003,
           "240.0",
           20
          ]
         ],
         "hovertemplate": "Development Period=%{customdata[1]}<br>Observed=%{x}<br>Predicted=%{y}<br>Accident Period=%{customdata[0]}<br>Calendar Period=%{customdata[2]}<extra></extra>",
         "legendgroup": "240.0",
         "marker": {
          "color": "#636efa",
          "line": {
           "color": "black",
           "width": 0.75
          },
          "opacity": 0.5,
          "symbol": "circle"
         },
         "mode": "markers",
         "name": "240.0",
         "orientation": "v",
         "showlegend": true,
         "type": "scatter",
         "x": [
          1.698150339405538
         ],
         "xaxis": "x",
         "y": [
          null
         ],
         "yaxis": "y"
        },
        {
         "customdata": [
          [
           2003,
           "12.0",
           1
          ],
          [
           2004,
           "12.0",
           2
          ],
          [
           2005,
           "12.0",
           3
          ],
          [
           2006,
           "12.0",
           4
          ],
          [
           2007,
           "12.0",
           5
          ],
          [
           2008,
           "12.0",
           6
          ],
          [
           2009,
           "12.0",
           7
          ],
          [
           2010,
           "12.0",
           8
          ],
          [
           2011,
           "12.0",
           9
          ],
          [
           2012,
           "12.0",
           10
          ],
          [
           2013,
           "12.0",
           11
          ],
          [
           2014,
           "12.0",
           12
          ],
          [
           2015,
           "12.0",
           13
          ],
          [
           2016,
           "12.0",
           14
          ],
          [
           2017,
           "12.0",
           15
          ],
          [
           2018,
           "12.0",
           16
          ],
          [
           2019,
           "12.0",
           17
          ],
          [
           2020,
           "12.0",
           18
          ],
          [
           2021,
           "12.0",
           19
          ],
          [
           2022,
           "12.0",
           20
          ]
         ],
         "hovertemplate": "Development Period=%{customdata[1]}<br>Observed=%{x}<br>Predicted=%{y}<br>Accident Period=%{customdata[0]}<br>Calendar Period=%{customdata[2]}<extra></extra>",
         "legendgroup": "12.0",
         "marker": {
          "color": "#636efa",
          "line": {
           "color": "black",
           "width": 0.75
          },
          "opacity": 0.5,
          "symbol": "circle"
         },
         "mode": "markers",
         "name": "12.0",
         "orientation": "v",
         "showlegend": true,
         "type": "scatter",
         "x": [
          2.3819835870314905,
          2.3929762117569227,
          2.3935763616503034,
          2.403545844501019,
          2.4045665604041075,
          2.4094444649915303,
          2.400582705035414,
          2.403571374399682,
          2.4005209381464314,
          2.396714580033922,
          2.396552724177459,
          2.38769020063017,
          2.3727561997359867,
          2.3691584011416533,
          2.3668112195780635,
          2.3739870846079154,
          2.3750989856750633,
          2.3481658449175438,
          2.338980529418879,
          2.346331816554008
         ],
         "xaxis": "x",
         "y": [
          2.943690818869217,
          4.59437217844025,
          5.542898849694126,
          6.15396328270168,
          6.4910892391981925,
          6.70491220630287,
          6.853105084437331,
          6.973649504887428,
          7.059965102329469,
          7.123754430204422,
          7.170806143436824,
          7.170806143436824,
          7.170806143436824,
          7.170806143436824,
          7.170806143436824,
          7.170806143436824,
          7.170806143436824,
          7.170806143436824,
          7.170806143436824,
          7.170806143436824
         ],
         "yaxis": "y"
        }
       ],
       "layout": {
        "legend": {
         "title": {
          "text": "Development Period"
         },
         "tracegroupgap": 0
        },
        "shapes": [
         {
          "line": {
           "color": "black",
           "dash": "dash"
          },
          "type": "line",
          "x0": 1.6965914837958764,
          "x1": 2.4211357879812048,
          "y0": 2.943690818869217,
          "y1": 8.758538396111204
         }
        ],
        "template": {
         "data": {
          "bar": [
           {
            "error_x": {
             "color": "#2a3f5f"
            },
            "error_y": {
             "color": "#2a3f5f"
            },
            "marker": {
             "line": {
              "color": "#E5ECF6",
              "width": 0.5
             },
             "pattern": {
              "fillmode": "overlay",
              "size": 10,
              "solidity": 0.2
             }
            },
            "type": "bar"
           }
          ],
          "barpolar": [
           {
            "marker": {
             "line": {
              "color": "#E5ECF6",
              "width": 0.5
             },
             "pattern": {
              "fillmode": "overlay",
              "size": 10,
              "solidity": 0.2
             }
            },
            "type": "barpolar"
           }
          ],
          "carpet": [
           {
            "aaxis": {
             "endlinecolor": "#2a3f5f",
             "gridcolor": "white",
             "linecolor": "white",
             "minorgridcolor": "white",
             "startlinecolor": "#2a3f5f"
            },
            "baxis": {
             "endlinecolor": "#2a3f5f",
             "gridcolor": "white",
             "linecolor": "white",
             "minorgridcolor": "white",
             "startlinecolor": "#2a3f5f"
            },
            "type": "carpet"
           }
          ],
          "choropleth": [
           {
            "colorbar": {
             "outlinewidth": 0,
             "ticks": ""
            },
            "type": "choropleth"
           }
          ],
          "contour": [
           {
            "colorbar": {
             "outlinewidth": 0,
             "ticks": ""
            },
            "colorscale": [
             [
              0,
              "#0d0887"
             ],
             [
              0.1111111111111111,
              "#46039f"
             ],
             [
              0.2222222222222222,
              "#7201a8"
             ],
             [
              0.3333333333333333,
              "#9c179e"
             ],
             [
              0.4444444444444444,
              "#bd3786"
             ],
             [
              0.5555555555555556,
              "#d8576b"
             ],
             [
              0.6666666666666666,
              "#ed7953"
             ],
             [
              0.7777777777777778,
              "#fb9f3a"
             ],
             [
              0.8888888888888888,
              "#fdca26"
             ],
             [
              1,
              "#f0f921"
             ]
            ],
            "type": "contour"
           }
          ],
          "contourcarpet": [
           {
            "colorbar": {
             "outlinewidth": 0,
             "ticks": ""
            },
            "type": "contourcarpet"
           }
          ],
          "heatmap": [
           {
            "colorbar": {
             "outlinewidth": 0,
             "ticks": ""
            },
            "colorscale": [
             [
              0,
              "#0d0887"
             ],
             [
              0.1111111111111111,
              "#46039f"
             ],
             [
              0.2222222222222222,
              "#7201a8"
             ],
             [
              0.3333333333333333,
              "#9c179e"
             ],
             [
              0.4444444444444444,
              "#bd3786"
             ],
             [
              0.5555555555555556,
              "#d8576b"
             ],
             [
              0.6666666666666666,
              "#ed7953"
             ],
             [
              0.7777777777777778,
              "#fb9f3a"
             ],
             [
              0.8888888888888888,
              "#fdca26"
             ],
             [
              1,
              "#f0f921"
             ]
            ],
            "type": "heatmap"
           }
          ],
          "heatmapgl": [
           {
            "colorbar": {
             "outlinewidth": 0,
             "ticks": ""
            },
            "colorscale": [
             [
              0,
              "#0d0887"
             ],
             [
              0.1111111111111111,
              "#46039f"
             ],
             [
              0.2222222222222222,
              "#7201a8"
             ],
             [
              0.3333333333333333,
              "#9c179e"
             ],
             [
              0.4444444444444444,
              "#bd3786"
             ],
             [
              0.5555555555555556,
              "#d8576b"
             ],
             [
              0.6666666666666666,
              "#ed7953"
             ],
             [
              0.7777777777777778,
              "#fb9f3a"
             ],
             [
              0.8888888888888888,
              "#fdca26"
             ],
             [
              1,
              "#f0f921"
             ]
            ],
            "type": "heatmapgl"
           }
          ],
          "histogram": [
           {
            "marker": {
             "pattern": {
              "fillmode": "overlay",
              "size": 10,
              "solidity": 0.2
             }
            },
            "type": "histogram"
           }
          ],
          "histogram2d": [
           {
            "colorbar": {
             "outlinewidth": 0,
             "ticks": ""
            },
            "colorscale": [
             [
              0,
              "#0d0887"
             ],
             [
              0.1111111111111111,
              "#46039f"
             ],
             [
              0.2222222222222222,
              "#7201a8"
             ],
             [
              0.3333333333333333,
              "#9c179e"
             ],
             [
              0.4444444444444444,
              "#bd3786"
             ],
             [
              0.5555555555555556,
              "#d8576b"
             ],
             [
              0.6666666666666666,
              "#ed7953"
             ],
             [
              0.7777777777777778,
              "#fb9f3a"
             ],
             [
              0.8888888888888888,
              "#fdca26"
             ],
             [
              1,
              "#f0f921"
             ]
            ],
            "type": "histogram2d"
           }
          ],
          "histogram2dcontour": [
           {
            "colorbar": {
             "outlinewidth": 0,
             "ticks": ""
            },
            "colorscale": [
             [
              0,
              "#0d0887"
             ],
             [
              0.1111111111111111,
              "#46039f"
             ],
             [
              0.2222222222222222,
              "#7201a8"
             ],
             [
              0.3333333333333333,
              "#9c179e"
             ],
             [
              0.4444444444444444,
              "#bd3786"
             ],
             [
              0.5555555555555556,
              "#d8576b"
             ],
             [
              0.6666666666666666,
              "#ed7953"
             ],
             [
              0.7777777777777778,
              "#fb9f3a"
             ],
             [
              0.8888888888888888,
              "#fdca26"
             ],
             [
              1,
              "#f0f921"
             ]
            ],
            "type": "histogram2dcontour"
           }
          ],
          "mesh3d": [
           {
            "colorbar": {
             "outlinewidth": 0,
             "ticks": ""
            },
            "type": "mesh3d"
           }
          ],
          "parcoords": [
           {
            "line": {
             "colorbar": {
              "outlinewidth": 0,
              "ticks": ""
             }
            },
            "type": "parcoords"
           }
          ],
          "pie": [
           {
            "automargin": true,
            "type": "pie"
           }
          ],
          "scatter": [
           {
            "fillpattern": {
             "fillmode": "overlay",
             "size": 10,
             "solidity": 0.2
            },
            "type": "scatter"
           }
          ],
          "scatter3d": [
           {
            "line": {
             "colorbar": {
              "outlinewidth": 0,
              "ticks": ""
             }
            },
            "marker": {
             "colorbar": {
              "outlinewidth": 0,
              "ticks": ""
             }
            },
            "type": "scatter3d"
           }
          ],
          "scattercarpet": [
           {
            "marker": {
             "colorbar": {
              "outlinewidth": 0,
              "ticks": ""
             }
            },
            "type": "scattercarpet"
           }
          ],
          "scattergeo": [
           {
            "marker": {
             "colorbar": {
              "outlinewidth": 0,
              "ticks": ""
             }
            },
            "type": "scattergeo"
           }
          ],
          "scattergl": [
           {
            "marker": {
             "colorbar": {
              "outlinewidth": 0,
              "ticks": ""
             }
            },
            "type": "scattergl"
           }
          ],
          "scattermapbox": [
           {
            "marker": {
             "colorbar": {
              "outlinewidth": 0,
              "ticks": ""
             }
            },
            "type": "scattermapbox"
           }
          ],
          "scatterpolar": [
           {
            "marker": {
             "colorbar": {
              "outlinewidth": 0,
              "ticks": ""
             }
            },
            "type": "scatterpolar"
           }
          ],
          "scatterpolargl": [
           {
            "marker": {
             "colorbar": {
              "outlinewidth": 0,
              "ticks": ""
             }
            },
            "type": "scatterpolargl"
           }
          ],
          "scatterternary": [
           {
            "marker": {
             "colorbar": {
              "outlinewidth": 0,
              "ticks": ""
             }
            },
            "type": "scatterternary"
           }
          ],
          "surface": [
           {
            "colorbar": {
             "outlinewidth": 0,
             "ticks": ""
            },
            "colorscale": [
             [
              0,
              "#0d0887"
             ],
             [
              0.1111111111111111,
              "#46039f"
             ],
             [
              0.2222222222222222,
              "#7201a8"
             ],
             [
              0.3333333333333333,
              "#9c179e"
             ],
             [
              0.4444444444444444,
              "#bd3786"
             ],
             [
              0.5555555555555556,
              "#d8576b"
             ],
             [
              0.6666666666666666,
              "#ed7953"
             ],
             [
              0.7777777777777778,
              "#fb9f3a"
             ],
             [
              0.8888888888888888,
              "#fdca26"
             ],
             [
              1,
              "#f0f921"
             ]
            ],
            "type": "surface"
           }
          ],
          "table": [
           {
            "cells": {
             "fill": {
              "color": "#EBF0F8"
             },
             "line": {
              "color": "white"
             }
            },
            "header": {
             "fill": {
              "color": "#C8D4E3"
             },
             "line": {
              "color": "white"
             }
            },
            "type": "table"
           }
          ]
         },
         "layout": {
          "annotationdefaults": {
           "arrowcolor": "#2a3f5f",
           "arrowhead": 0,
           "arrowwidth": 1
          },
          "autotypenumbers": "strict",
          "coloraxis": {
           "colorbar": {
            "outlinewidth": 0,
            "ticks": ""
           }
          },
          "colorscale": {
           "diverging": [
            [
             0,
             "#8e0152"
            ],
            [
             0.1,
             "#c51b7d"
            ],
            [
             0.2,
             "#de77ae"
            ],
            [
             0.3,
             "#f1b6da"
            ],
            [
             0.4,
             "#fde0ef"
            ],
            [
             0.5,
             "#f7f7f7"
            ],
            [
             0.6,
             "#e6f5d0"
            ],
            [
             0.7,
             "#b8e186"
            ],
            [
             0.8,
             "#7fbc41"
            ],
            [
             0.9,
             "#4d9221"
            ],
            [
             1,
             "#276419"
            ]
           ],
           "sequential": [
            [
             0,
             "#0d0887"
            ],
            [
             0.1111111111111111,
             "#46039f"
            ],
            [
             0.2222222222222222,
             "#7201a8"
            ],
            [
             0.3333333333333333,
             "#9c179e"
            ],
            [
             0.4444444444444444,
             "#bd3786"
            ],
            [
             0.5555555555555556,
             "#d8576b"
            ],
            [
             0.6666666666666666,
             "#ed7953"
            ],
            [
             0.7777777777777778,
             "#fb9f3a"
            ],
            [
             0.8888888888888888,
             "#fdca26"
            ],
            [
             1,
             "#f0f921"
            ]
           ],
           "sequentialminus": [
            [
             0,
             "#0d0887"
            ],
            [
             0.1111111111111111,
             "#46039f"
            ],
            [
             0.2222222222222222,
             "#7201a8"
            ],
            [
             0.3333333333333333,
             "#9c179e"
            ],
            [
             0.4444444444444444,
             "#bd3786"
            ],
            [
             0.5555555555555556,
             "#d8576b"
            ],
            [
             0.6666666666666666,
             "#ed7953"
            ],
            [
             0.7777777777777778,
             "#fb9f3a"
            ],
            [
             0.8888888888888888,
             "#fdca26"
            ],
            [
             1,
             "#f0f921"
            ]
           ]
          },
          "colorway": [
           "#636efa",
           "#EF553B",
           "#00cc96",
           "#ab63fa",
           "#FFA15A",
           "#19d3f3",
           "#FF6692",
           "#B6E880",
           "#FF97FF",
           "#FECB52"
          ],
          "font": {
           "color": "#2a3f5f"
          },
          "geo": {
           "bgcolor": "white",
           "lakecolor": "white",
           "landcolor": "#E5ECF6",
           "showlakes": true,
           "showland": true,
           "subunitcolor": "white"
          },
          "hoverlabel": {
           "align": "left"
          },
          "hovermode": "closest",
          "mapbox": {
           "style": "light"
          },
          "paper_bgcolor": "white",
          "plot_bgcolor": "#E5ECF6",
          "polar": {
           "angularaxis": {
            "gridcolor": "white",
            "linecolor": "white",
            "ticks": ""
           },
           "bgcolor": "#E5ECF6",
           "radialaxis": {
            "gridcolor": "white",
            "linecolor": "white",
            "ticks": ""
           }
          },
          "scene": {
           "xaxis": {
            "backgroundcolor": "#E5ECF6",
            "gridcolor": "white",
            "gridwidth": 2,
            "linecolor": "white",
            "showbackground": true,
            "ticks": "",
            "zerolinecolor": "white"
           },
           "yaxis": {
            "backgroundcolor": "#E5ECF6",
            "gridcolor": "white",
            "gridwidth": 2,
            "linecolor": "white",
            "showbackground": true,
            "ticks": "",
            "zerolinecolor": "white"
           },
           "zaxis": {
            "backgroundcolor": "#E5ECF6",
            "gridcolor": "white",
            "gridwidth": 2,
            "linecolor": "white",
            "showbackground": true,
            "ticks": "",
            "zerolinecolor": "white"
           }
          },
          "shapedefaults": {
           "line": {
            "color": "#2a3f5f"
           }
          },
          "ternary": {
           "aaxis": {
            "gridcolor": "white",
            "linecolor": "white",
            "ticks": ""
           },
           "baxis": {
            "gridcolor": "white",
            "linecolor": "white",
            "ticks": ""
           },
           "bgcolor": "#E5ECF6",
           "caxis": {
            "gridcolor": "white",
            "linecolor": "white",
            "ticks": ""
           }
          },
          "title": {
           "x": 0.05
          },
          "xaxis": {
           "automargin": true,
           "gridcolor": "white",
           "linecolor": "white",
           "ticks": "",
           "title": {
            "standoff": 15
           },
           "zerolinecolor": "white",
           "zerolinewidth": 2
          },
          "yaxis": {
           "automargin": true,
           "gridcolor": "white",
           "linecolor": "white",
           "ticks": "",
           "title": {
            "standoff": 15
           },
           "zerolinecolor": "white",
           "zerolinewidth": 2
          }
         }
        },
        "title": {
         "text": "Observations vs. Predictions (log scale)"
        },
        "xaxis": {
         "anchor": "y",
         "domain": [
          0,
          1
         ],
         "title": {
          "text": "Observed"
         }
        },
        "yaxis": {
         "anchor": "x",
         "domain": [
          0,
          1
         ],
         "title": {
          "text": "Predicted"
         }
        }
       }
      }
     },
     "metadata": {},
     "output_type": "display_data"
    }
   ],
   "source": [
    "r.icrfs.plot.obs_pred(log=True, color='dev')"
   ]
  },
  {
   "cell_type": "code",
   "execution_count": null,
   "metadata": {},
   "outputs": [
    {
     "data": {
      "application/vnd.plotly.v1+json": {
       "config": {
        "plotlyServerURL": "https://plot.ly"
       },
       "data": [
        {
         "box": {
          "visible": false
         },
         "jitter": 0.05,
         "line": {
          "color": "black"
         },
         "marker": {
          "color": "rgba(0, 0, 0, 0.5)",
          "line": {
           "color": "rgba(0, 0, 0)",
           "width": 1
          },
          "opacity": 0.5,
          "size": 6
         },
         "meanline": {
          "visible": true
         },
         "name": "2003.0",
         "pointpos": 0,
         "points": "all",
         "type": "violin",
         "x": [
          2003,
          2003,
          2003,
          2003,
          2003,
          2003,
          2003,
          2003,
          2003,
          2003,
          2003,
          2003,
          2003,
          2003,
          2003,
          2003,
          2003,
          2003,
          2003,
          2003
         ],
         "y": [
          -0.1305454946421154,
          0.13198483636052494,
          -0.050997840453648635,
          -0.18153798908142882,
          -0.015388380291593506,
          0.3248648497405924,
          0.5336743810895133,
          0.32977339129423644,
          0.02481198521922945,
          0.2835059161423992,
          0.39948713700302196,
          null,
          null,
          null,
          null,
          null,
          null,
          null,
          null,
          null
         ]
        },
        {
         "box": {
          "visible": false
         },
         "jitter": 0.05,
         "line": {
          "color": "black"
         },
         "marker": {
          "color": "rgba(0, 0, 0, 0.5)",
          "line": {
           "color": "rgba(0, 0, 0)",
           "width": 1
          },
          "opacity": 0.5,
          "size": 6
         },
         "meanline": {
          "visible": true
         },
         "name": "2004.0",
         "pointpos": 0,
         "points": "all",
         "type": "violin",
         "x": [
          2004,
          2004,
          2004,
          2004,
          2004,
          2004,
          2004,
          2004,
          2004,
          2004,
          2004,
          2004,
          2004,
          2004,
          2004,
          2004,
          2004,
          2004,
          2004
         ],
         "y": [
          -0.07275056792624923,
          0.1416805434799997,
          -0.06279638408994792,
          -0.054162015549232834,
          0.2598947852006983,
          0.2753865554373913,
          0.2540651533786136,
          0.863823903568961,
          0.723815486496985,
          0.7662411922689305,
          0.5454915476888829,
          null,
          null,
          null,
          null,
          null,
          null,
          null,
          null
         ]
        },
        {
         "box": {
          "visible": false
         },
         "jitter": 0.05,
         "line": {
          "color": "black"
         },
         "marker": {
          "color": "rgba(0, 0, 0, 0.5)",
          "line": {
           "color": "rgba(0, 0, 0)",
           "width": 1
          },
          "opacity": 0.5,
          "size": 6
         },
         "meanline": {
          "visible": true
         },
         "name": "2005.0",
         "pointpos": 0,
         "points": "all",
         "type": "violin",
         "x": [
          2005,
          2005,
          2005,
          2005,
          2005,
          2005,
          2005,
          2005,
          2005,
          2005,
          2005,
          2005,
          2005,
          2005,
          2005,
          2005,
          2005,
          2005
         ],
         "y": [
          -0.07141527534313852,
          0.12824471480840494,
          -0.14115120572616924,
          0.09510966877315141,
          0.19262642588920187,
          0.20908941166928763,
          0.26675444019318917,
          0.1633660849680023,
          0.11586363945277434,
          0.6226794890431986,
          0.5897781106365345,
          null,
          null,
          null,
          null,
          null,
          null,
          null
         ]
        },
        {
         "box": {
          "visible": false
         },
         "jitter": 0.05,
         "line": {
          "color": "black"
         },
         "marker": {
          "color": "rgba(0, 0, 0, 0.5)",
          "line": {
           "color": "rgba(0, 0, 0)",
           "width": 1
          },
          "opacity": 0.5,
          "size": 6
         },
         "meanline": {
          "visible": true
         },
         "name": "2006.0",
         "pointpos": 0,
         "points": "all",
         "type": "violin",
         "x": [
          2006,
          2006,
          2006,
          2006,
          2006,
          2006,
          2006,
          2006,
          2006,
          2006,
          2006,
          2006,
          2006,
          2006,
          2006,
          2006,
          2006
         ],
         "y": [
          -0.06196825445609555,
          0.189396202604593,
          0.0830218481391487,
          0.14889702659758264,
          0.22373933464660212,
          0.5563323857144695,
          0.4492829026397267,
          0.8047683285087324,
          0.7890706281558293,
          1.4309772374949432,
          0.978704884496099,
          null,
          null,
          null,
          null,
          null,
          null
         ]
        },
        {
         "box": {
          "visible": false
         },
         "jitter": 0.05,
         "line": {
          "color": "black"
         },
         "marker": {
          "color": "rgba(0, 0, 0, 0.5)",
          "line": {
           "color": "rgba(0, 0, 0)",
           "width": 1
          },
          "opacity": 0.5,
          "size": 6
         },
         "meanline": {
          "visible": true
         },
         "name": "2007.0",
         "pointpos": 0,
         "points": "all",
         "type": "violin",
         "x": [
          2007,
          2007,
          2007,
          2007,
          2007,
          2007,
          2007,
          2007,
          2007,
          2007,
          2007,
          2007,
          2007,
          2007,
          2007,
          2007
         ],
         "y": [
          -0.0061489937907825976,
          0.23321040257162196,
          0.17776031034315487,
          0.23786895505436512,
          0.3466340658366409,
          0.31650439640464967,
          0.25459124865225036,
          0.32510802903965974,
          1.04786561936322,
          0.3818340737096193,
          0.9954710282093,
          null,
          null,
          null,
          null,
          null
         ]
        },
        {
         "box": {
          "visible": false
         },
         "jitter": 0.05,
         "line": {
          "color": "black"
         },
         "marker": {
          "color": "rgba(0, 0, 0, 0.5)",
          "line": {
           "color": "rgba(0, 0, 0)",
           "width": 1
          },
          "opacity": 0.5,
          "size": 6
         },
         "meanline": {
          "visible": true
         },
         "name": "2008.0",
         "pointpos": 0,
         "points": "all",
         "type": "violin",
         "x": [
          2008,
          2008,
          2008,
          2008,
          2008,
          2008,
          2008,
          2008,
          2008,
          2008,
          2008,
          2008,
          2008,
          2008,
          2008
         ],
         "y": [
          0.09705738012480936,
          0.3560840996595118,
          0.25732242004854555,
          0.34951445082005606,
          0.577048020064078,
          0.6734959835156928,
          0.38865163512274314,
          0.9017295227489175,
          0.8847662180117419,
          0.3196362861257569,
          0.5307874768268004,
          null,
          null,
          null,
          null
         ]
        },
        {
         "box": {
          "visible": false
         },
         "jitter": 0.05,
         "line": {
          "color": "black"
         },
         "marker": {
          "color": "rgba(0, 0, 0, 0.5)",
          "line": {
           "color": "rgba(0, 0, 0)",
           "width": 1
          },
          "opacity": 0.5,
          "size": 6
         },
         "meanline": {
          "visible": true
         },
         "name": "2009.0",
         "pointpos": 0,
         "points": "all",
         "type": "violin",
         "x": [
          2009,
          2009,
          2009,
          2009,
          2009,
          2009,
          2009,
          2009,
          2009,
          2009,
          2009,
          2009,
          2009,
          2009
         ],
         "y": [
          0.09448394389542614,
          0.22959680103018343,
          0.04961653012678724,
          0.04934959920553972,
          0.06541122345663553,
          0.08250971348901537,
          0.325461655025995,
          0.5152071644992517,
          -0.0868804129205829,
          0.6290148288017843,
          0.37391492347216726,
          null,
          null,
          null
         ]
        },
        {
         "box": {
          "visible": false
         },
         "jitter": 0.05,
         "line": {
          "color": "black"
         },
         "marker": {
          "color": "rgba(0, 0, 0, 0.5)",
          "line": {
           "color": "rgba(0, 0, 0)",
           "width": 1
          },
          "opacity": 0.5,
          "size": 6
         },
         "meanline": {
          "visible": true
         },
         "name": "2010.0",
         "pointpos": 0,
         "points": "all",
         "type": "violin",
         "x": [
          2010,
          2010,
          2010,
          2010,
          2010,
          2010,
          2010,
          2010,
          2010,
          2010,
          2010,
          2010,
          2010
         ],
         "y": [
          0.1693785605906193,
          0.2713172416941596,
          0.08972320699204772,
          0.11905975050565587,
          0.38312737444351974,
          0.37768100101920865,
          0.0628060941570654,
          0.0068776550153444305,
          0.7253609905560205,
          0.6190030426463933,
          0.6730823193549114,
          null,
          null
         ]
        },
        {
         "box": {
          "visible": false
         },
         "jitter": 0.05,
         "line": {
          "color": "black"
         },
         "marker": {
          "color": "rgba(0, 0, 0, 0.5)",
          "line": {
           "color": "rgba(0, 0, 0)",
           "width": 1
          },
          "opacity": 0.5,
          "size": 6
         },
         "meanline": {
          "visible": true
         },
         "name": "2011.0",
         "pointpos": 0,
         "points": "all",
         "type": "violin",
         "x": [
          2011,
          2011,
          2011,
          2011,
          2011,
          2011,
          2011,
          2011,
          2011,
          2011,
          2011,
          2011
         ],
         "y": [
          0.19734002899247294,
          0.33286035299795813,
          0.14010903308658484,
          0.1342593555228504,
          0.12573755644456241,
          -0.23294352587834233,
          -0.17478592960338357,
          0.05185430137346092,
          0.5061376102957764,
          0.1322005759940339,
          0.7950493929805544,
          null
         ]
        },
        {
         "box": {
          "visible": false
         },
         "jitter": 0.05,
         "line": {
          "color": "black"
         },
         "marker": {
          "color": "rgba(0, 0, 0, 0.5)",
          "line": {
           "color": "rgba(0, 0, 0)",
           "width": 1
          },
          "opacity": 0.5,
          "size": 6
         },
         "meanline": {
          "visible": true
         },
         "name": "2012.0",
         "pointpos": 0,
         "points": "all",
         "type": "violin",
         "x": [
          2012,
          2012,
          2012,
          2012,
          2012,
          2012,
          2012,
          2012,
          2012,
          2012,
          2012
         ],
         "y": [
          0.20442009690617624,
          0.2829305925474497,
          0.02944103907905138,
          0.10740665324234477,
          0.23893412589847252,
          -0.29168060084274217,
          0.10315011703002241,
          -0.003942982640605663,
          0.3631070016507403,
          -0.2984271526599098,
          -0.13415771825581668
         ]
        },
        {
         "box": {
          "visible": false
         },
         "jitter": 0.05,
         "line": {
          "color": "black"
         },
         "marker": {
          "color": "rgba(0, 0, 0, 0.5)",
          "line": {
           "color": "rgba(0, 0, 0)",
           "width": 1
          },
          "opacity": 0.5,
          "size": 6
         },
         "meanline": {
          "visible": true
         },
         "name": "2013.0",
         "pointpos": 0,
         "points": "all",
         "type": "violin",
         "x": [
          2013,
          2013,
          2013,
          2013,
          2013,
          2013,
          2013,
          2013,
          2013,
          2013
         ],
         "y": [
          0.20505919374385506,
          0.2512372024472871,
          0.006893269268180902,
          -0.03055127613489539,
          0.1501565646424723,
          -0.19757803533835627,
          -0.07430957237831315,
          0.5490908627691269,
          0.8465132925414807,
          0.8510858933391621
         ]
        },
        {
         "box": {
          "visible": false
         },
         "jitter": 0.05,
         "line": {
          "color": "black"
         },
         "marker": {
          "color": "rgba(0, 0, 0, 0.5)",
          "line": {
           "color": "rgba(0, 0, 0)",
           "width": 1
          },
          "opacity": 0.5,
          "size": 6
         },
         "meanline": {
          "visible": true
         },
         "name": "2014.0",
         "pointpos": 0,
         "points": "all",
         "type": "violin",
         "x": [
          2014,
          2014,
          2014,
          2014,
          2014,
          2014,
          2014,
          2014,
          2014
         ],
         "y": [
          0.148023009533631,
          0.20841074741532672,
          0.0066017557369129065,
          0.16230605503066542,
          0.2794740644687952,
          0.24784784676013238,
          0.35106348808900556,
          0.4233662579085049,
          0.4517841101927704
         ]
        },
        {
         "box": {
          "visible": false
         },
         "jitter": 0.05,
         "line": {
          "color": "black"
         },
         "marker": {
          "color": "rgba(0, 0, 0, 0.5)",
          "line": {
           "color": "rgba(0, 0, 0)",
           "width": 1
          },
          "opacity": 0.5,
          "size": 6
         },
         "meanline": {
          "visible": true
         },
         "name": "2015.0",
         "pointpos": 0,
         "points": "all",
         "type": "violin",
         "x": [
          2015,
          2015,
          2015,
          2015,
          2015,
          2015,
          2015,
          2015
         ],
         "y": [
          0.06707043372649046,
          0.11090566683562386,
          -0.010092055966921976,
          0.11368678870598892,
          -0.13355294619020697,
          -0.22520711409139693,
          -0.14569693201209688,
          -0.28301798382812215
         ]
        },
        {
         "box": {
          "visible": false
         },
         "jitter": 0.05,
         "line": {
          "color": "black"
         },
         "marker": {
          "color": "rgba(0, 0, 0, 0.5)",
          "line": {
           "color": "rgba(0, 0, 0)",
           "width": 1
          },
          "opacity": 0.5,
          "size": 6
         },
         "meanline": {
          "visible": true
         },
         "name": "2016.0",
         "pointpos": 0,
         "points": "all",
         "type": "violin",
         "x": [
          2016,
          2016,
          2016,
          2016,
          2016,
          2016,
          2016
         ],
         "y": [
          0.04352632446686755,
          0.26129545721575553,
          0.037647470388590065,
          0.05244356546048934,
          0.25048625625583654,
          0.2978076696942473,
          0.05960546772099651
         ]
        },
        {
         "box": {
          "visible": false
         },
         "jitter": 0.05,
         "line": {
          "color": "black"
         },
         "marker": {
          "color": "rgba(0, 0, 0, 0.5)",
          "line": {
           "color": "rgba(0, 0, 0)",
           "width": 1
          },
          "opacity": 0.5,
          "size": 6
         },
         "meanline": {
          "visible": true
         },
         "name": "2017.0",
         "pointpos": 0,
         "points": "all",
         "type": "violin",
         "x": [
          2017,
          2017,
          2017,
          2017,
          2017,
          2017
         ],
         "y": [
          0.08077044802511857,
          0.1662932617139088,
          -0.19511160644137426,
          -0.37398622363005884,
          -0.28728012948919535,
          -0.18624628039078495
         ]
        },
        {
         "box": {
          "visible": false
         },
         "jitter": 0.05,
         "line": {
          "color": "black"
         },
         "marker": {
          "color": "rgba(0, 0, 0, 0.5)",
          "line": {
           "color": "rgba(0, 0, 0)",
           "width": 1
          },
          "opacity": 0.5,
          "size": 6
         },
         "meanline": {
          "visible": true
         },
         "name": "2018.0",
         "pointpos": 0,
         "points": "all",
         "type": "violin",
         "x": [
          2018,
          2018,
          2018,
          2018,
          2018
         ],
         "y": [
          0.1638031192837346,
          0.2348120474807125,
          -0.022346139768975704,
          -0.14292205115543943,
          -0.12770127837816503
         ]
        },
        {
         "box": {
          "visible": false
         },
         "jitter": 0.05,
         "line": {
          "color": "black"
         },
         "marker": {
          "color": "rgba(0, 0, 0, 0.5)",
          "line": {
           "color": "rgba(0, 0, 0)",
           "width": 1
          },
          "opacity": 0.5,
          "size": 6
         },
         "meanline": {
          "visible": true
         },
         "name": "2019.0",
         "pointpos": 0,
         "points": "all",
         "type": "violin",
         "x": [
          2019,
          2019,
          2019,
          2019
         ],
         "y": [
          0.19855745487770982,
          0.20729802302647826,
          0.0000329517104056265,
          -0.27253892842598404
         ]
        },
        {
         "box": {
          "visible": false
         },
         "jitter": 0.05,
         "line": {
          "color": "black"
         },
         "marker": {
          "color": "rgba(0, 0, 0, 0.5)",
          "line": {
           "color": "rgba(0, 0, 0)",
           "width": 1
          },
          "opacity": 0.5,
          "size": 6
         },
         "meanline": {
          "visible": true
         },
         "name": "2020.0",
         "pointpos": 0,
         "points": "all",
         "type": "violin",
         "x": [
          2020,
          2020,
          2020
         ],
         "y": [
          -0.04340919452471681,
          -0.12918200892867127,
          -0.2966929917423826
         ]
        },
        {
         "box": {
          "visible": false
         },
         "jitter": 0.05,
         "line": {
          "color": "black"
         },
         "marker": {
          "color": "rgba(0, 0, 0, 0.5)",
          "line": {
           "color": "rgba(0, 0, 0)",
           "width": 1
          },
          "opacity": 0.5,
          "size": 6
         },
         "meanline": {
          "visible": true
         },
         "name": "2021.0",
         "pointpos": 0,
         "points": "all",
         "type": "violin",
         "x": [
          2021,
          2021
         ],
         "y": [
          -0.13838864035197496,
          0.16641258518164825
         ]
        },
        {
         "box": {
          "visible": false
         },
         "jitter": 0.05,
         "line": {
          "color": "black"
         },
         "marker": {
          "color": "rgba(0, 0, 0, 0.5)",
          "line": {
           "color": "rgba(0, 0, 0)",
           "width": 1
          },
          "opacity": 0.5,
          "size": 6
         },
         "meanline": {
          "visible": true
         },
         "name": "2022.0",
         "pointpos": 0,
         "points": "all",
         "type": "violin",
         "x": [
          2022
         ],
         "y": [
          -0.05652182063044009
         ]
        }
       ],
       "layout": {
        "template": {
         "data": {
          "bar": [
           {
            "error_x": {
             "color": "#2a3f5f"
            },
            "error_y": {
             "color": "#2a3f5f"
            },
            "marker": {
             "line": {
              "color": "#E5ECF6",
              "width": 0.5
             },
             "pattern": {
              "fillmode": "overlay",
              "size": 10,
              "solidity": 0.2
             }
            },
            "type": "bar"
           }
          ],
          "barpolar": [
           {
            "marker": {
             "line": {
              "color": "#E5ECF6",
              "width": 0.5
             },
             "pattern": {
              "fillmode": "overlay",
              "size": 10,
              "solidity": 0.2
             }
            },
            "type": "barpolar"
           }
          ],
          "carpet": [
           {
            "aaxis": {
             "endlinecolor": "#2a3f5f",
             "gridcolor": "white",
             "linecolor": "white",
             "minorgridcolor": "white",
             "startlinecolor": "#2a3f5f"
            },
            "baxis": {
             "endlinecolor": "#2a3f5f",
             "gridcolor": "white",
             "linecolor": "white",
             "minorgridcolor": "white",
             "startlinecolor": "#2a3f5f"
            },
            "type": "carpet"
           }
          ],
          "choropleth": [
           {
            "colorbar": {
             "outlinewidth": 0,
             "ticks": ""
            },
            "type": "choropleth"
           }
          ],
          "contour": [
           {
            "colorbar": {
             "outlinewidth": 0,
             "ticks": ""
            },
            "colorscale": [
             [
              0,
              "#0d0887"
             ],
             [
              0.1111111111111111,
              "#46039f"
             ],
             [
              0.2222222222222222,
              "#7201a8"
             ],
             [
              0.3333333333333333,
              "#9c179e"
             ],
             [
              0.4444444444444444,
              "#bd3786"
             ],
             [
              0.5555555555555556,
              "#d8576b"
             ],
             [
              0.6666666666666666,
              "#ed7953"
             ],
             [
              0.7777777777777778,
              "#fb9f3a"
             ],
             [
              0.8888888888888888,
              "#fdca26"
             ],
             [
              1,
              "#f0f921"
             ]
            ],
            "type": "contour"
           }
          ],
          "contourcarpet": [
           {
            "colorbar": {
             "outlinewidth": 0,
             "ticks": ""
            },
            "type": "contourcarpet"
           }
          ],
          "heatmap": [
           {
            "colorbar": {
             "outlinewidth": 0,
             "ticks": ""
            },
            "colorscale": [
             [
              0,
              "#0d0887"
             ],
             [
              0.1111111111111111,
              "#46039f"
             ],
             [
              0.2222222222222222,
              "#7201a8"
             ],
             [
              0.3333333333333333,
              "#9c179e"
             ],
             [
              0.4444444444444444,
              "#bd3786"
             ],
             [
              0.5555555555555556,
              "#d8576b"
             ],
             [
              0.6666666666666666,
              "#ed7953"
             ],
             [
              0.7777777777777778,
              "#fb9f3a"
             ],
             [
              0.8888888888888888,
              "#fdca26"
             ],
             [
              1,
              "#f0f921"
             ]
            ],
            "type": "heatmap"
           }
          ],
          "heatmapgl": [
           {
            "colorbar": {
             "outlinewidth": 0,
             "ticks": ""
            },
            "colorscale": [
             [
              0,
              "#0d0887"
             ],
             [
              0.1111111111111111,
              "#46039f"
             ],
             [
              0.2222222222222222,
              "#7201a8"
             ],
             [
              0.3333333333333333,
              "#9c179e"
             ],
             [
              0.4444444444444444,
              "#bd3786"
             ],
             [
              0.5555555555555556,
              "#d8576b"
             ],
             [
              0.6666666666666666,
              "#ed7953"
             ],
             [
              0.7777777777777778,
              "#fb9f3a"
             ],
             [
              0.8888888888888888,
              "#fdca26"
             ],
             [
              1,
              "#f0f921"
             ]
            ],
            "type": "heatmapgl"
           }
          ],
          "histogram": [
           {
            "marker": {
             "pattern": {
              "fillmode": "overlay",
              "size": 10,
              "solidity": 0.2
             }
            },
            "type": "histogram"
           }
          ],
          "histogram2d": [
           {
            "colorbar": {
             "outlinewidth": 0,
             "ticks": ""
            },
            "colorscale": [
             [
              0,
              "#0d0887"
             ],
             [
              0.1111111111111111,
              "#46039f"
             ],
             [
              0.2222222222222222,
              "#7201a8"
             ],
             [
              0.3333333333333333,
              "#9c179e"
             ],
             [
              0.4444444444444444,
              "#bd3786"
             ],
             [
              0.5555555555555556,
              "#d8576b"
             ],
             [
              0.6666666666666666,
              "#ed7953"
             ],
             [
              0.7777777777777778,
              "#fb9f3a"
             ],
             [
              0.8888888888888888,
              "#fdca26"
             ],
             [
              1,
              "#f0f921"
             ]
            ],
            "type": "histogram2d"
           }
          ],
          "histogram2dcontour": [
           {
            "colorbar": {
             "outlinewidth": 0,
             "ticks": ""
            },
            "colorscale": [
             [
              0,
              "#0d0887"
             ],
             [
              0.1111111111111111,
              "#46039f"
             ],
             [
              0.2222222222222222,
              "#7201a8"
             ],
             [
              0.3333333333333333,
              "#9c179e"
             ],
             [
              0.4444444444444444,
              "#bd3786"
             ],
             [
              0.5555555555555556,
              "#d8576b"
             ],
             [
              0.6666666666666666,
              "#ed7953"
             ],
             [
              0.7777777777777778,
              "#fb9f3a"
             ],
             [
              0.8888888888888888,
              "#fdca26"
             ],
             [
              1,
              "#f0f921"
             ]
            ],
            "type": "histogram2dcontour"
           }
          ],
          "mesh3d": [
           {
            "colorbar": {
             "outlinewidth": 0,
             "ticks": ""
            },
            "type": "mesh3d"
           }
          ],
          "parcoords": [
           {
            "line": {
             "colorbar": {
              "outlinewidth": 0,
              "ticks": ""
             }
            },
            "type": "parcoords"
           }
          ],
          "pie": [
           {
            "automargin": true,
            "type": "pie"
           }
          ],
          "scatter": [
           {
            "fillpattern": {
             "fillmode": "overlay",
             "size": 10,
             "solidity": 0.2
            },
            "type": "scatter"
           }
          ],
          "scatter3d": [
           {
            "line": {
             "colorbar": {
              "outlinewidth": 0,
              "ticks": ""
             }
            },
            "marker": {
             "colorbar": {
              "outlinewidth": 0,
              "ticks": ""
             }
            },
            "type": "scatter3d"
           }
          ],
          "scattercarpet": [
           {
            "marker": {
             "colorbar": {
              "outlinewidth": 0,
              "ticks": ""
             }
            },
            "type": "scattercarpet"
           }
          ],
          "scattergeo": [
           {
            "marker": {
             "colorbar": {
              "outlinewidth": 0,
              "ticks": ""
             }
            },
            "type": "scattergeo"
           }
          ],
          "scattergl": [
           {
            "marker": {
             "colorbar": {
              "outlinewidth": 0,
              "ticks": ""
             }
            },
            "type": "scattergl"
           }
          ],
          "scattermapbox": [
           {
            "marker": {
             "colorbar": {
              "outlinewidth": 0,
              "ticks": ""
             }
            },
            "type": "scattermapbox"
           }
          ],
          "scatterpolar": [
           {
            "marker": {
             "colorbar": {
              "outlinewidth": 0,
              "ticks": ""
             }
            },
            "type": "scatterpolar"
           }
          ],
          "scatterpolargl": [
           {
            "marker": {
             "colorbar": {
              "outlinewidth": 0,
              "ticks": ""
             }
            },
            "type": "scatterpolargl"
           }
          ],
          "scatterternary": [
           {
            "marker": {
             "colorbar": {
              "outlinewidth": 0,
              "ticks": ""
             }
            },
            "type": "scatterternary"
           }
          ],
          "surface": [
           {
            "colorbar": {
             "outlinewidth": 0,
             "ticks": ""
            },
            "colorscale": [
             [
              0,
              "#0d0887"
             ],
             [
              0.1111111111111111,
              "#46039f"
             ],
             [
              0.2222222222222222,
              "#7201a8"
             ],
             [
              0.3333333333333333,
              "#9c179e"
             ],
             [
              0.4444444444444444,
              "#bd3786"
             ],
             [
              0.5555555555555556,
              "#d8576b"
             ],
             [
              0.6666666666666666,
              "#ed7953"
             ],
             [
              0.7777777777777778,
              "#fb9f3a"
             ],
             [
              0.8888888888888888,
              "#fdca26"
             ],
             [
              1,
              "#f0f921"
             ]
            ],
            "type": "surface"
           }
          ],
          "table": [
           {
            "cells": {
             "fill": {
              "color": "#EBF0F8"
             },
             "line": {
              "color": "white"
             }
            },
            "header": {
             "fill": {
              "color": "#C8D4E3"
             },
             "line": {
              "color": "white"
             }
            },
            "type": "table"
           }
          ]
         },
         "layout": {
          "annotationdefaults": {
           "arrowcolor": "#2a3f5f",
           "arrowhead": 0,
           "arrowwidth": 1
          },
          "autotypenumbers": "strict",
          "coloraxis": {
           "colorbar": {
            "outlinewidth": 0,
            "ticks": ""
           }
          },
          "colorscale": {
           "diverging": [
            [
             0,
             "#8e0152"
            ],
            [
             0.1,
             "#c51b7d"
            ],
            [
             0.2,
             "#de77ae"
            ],
            [
             0.3,
             "#f1b6da"
            ],
            [
             0.4,
             "#fde0ef"
            ],
            [
             0.5,
             "#f7f7f7"
            ],
            [
             0.6,
             "#e6f5d0"
            ],
            [
             0.7,
             "#b8e186"
            ],
            [
             0.8,
             "#7fbc41"
            ],
            [
             0.9,
             "#4d9221"
            ],
            [
             1,
             "#276419"
            ]
           ],
           "sequential": [
            [
             0,
             "#0d0887"
            ],
            [
             0.1111111111111111,
             "#46039f"
            ],
            [
             0.2222222222222222,
             "#7201a8"
            ],
            [
             0.3333333333333333,
             "#9c179e"
            ],
            [
             0.4444444444444444,
             "#bd3786"
            ],
            [
             0.5555555555555556,
             "#d8576b"
            ],
            [
             0.6666666666666666,
             "#ed7953"
            ],
            [
             0.7777777777777778,
             "#fb9f3a"
            ],
            [
             0.8888888888888888,
             "#fdca26"
            ],
            [
             1,
             "#f0f921"
            ]
           ],
           "sequentialminus": [
            [
             0,
             "#0d0887"
            ],
            [
             0.1111111111111111,
             "#46039f"
            ],
            [
             0.2222222222222222,
             "#7201a8"
            ],
            [
             0.3333333333333333,
             "#9c179e"
            ],
            [
             0.4444444444444444,
             "#bd3786"
            ],
            [
             0.5555555555555556,
             "#d8576b"
            ],
            [
             0.6666666666666666,
             "#ed7953"
            ],
            [
             0.7777777777777778,
             "#fb9f3a"
            ],
            [
             0.8888888888888888,
             "#fdca26"
            ],
            [
             1,
             "#f0f921"
            ]
           ]
          },
          "colorway": [
           "#636efa",
           "#EF553B",
           "#00cc96",
           "#ab63fa",
           "#FFA15A",
           "#19d3f3",
           "#FF6692",
           "#B6E880",
           "#FF97FF",
           "#FECB52"
          ],
          "font": {
           "color": "#2a3f5f"
          },
          "geo": {
           "bgcolor": "white",
           "lakecolor": "white",
           "landcolor": "#E5ECF6",
           "showlakes": true,
           "showland": true,
           "subunitcolor": "white"
          },
          "hoverlabel": {
           "align": "left"
          },
          "hovermode": "closest",
          "mapbox": {
           "style": "light"
          },
          "paper_bgcolor": "white",
          "plot_bgcolor": "#E5ECF6",
          "polar": {
           "angularaxis": {
            "gridcolor": "white",
            "linecolor": "white",
            "ticks": ""
           },
           "bgcolor": "#E5ECF6",
           "radialaxis": {
            "gridcolor": "white",
            "linecolor": "white",
            "ticks": ""
           }
          },
          "scene": {
           "xaxis": {
            "backgroundcolor": "#E5ECF6",
            "gridcolor": "white",
            "gridwidth": 2,
            "linecolor": "white",
            "showbackground": true,
            "ticks": "",
            "zerolinecolor": "white"
           },
           "yaxis": {
            "backgroundcolor": "#E5ECF6",
            "gridcolor": "white",
            "gridwidth": 2,
            "linecolor": "white",
            "showbackground": true,
            "ticks": "",
            "zerolinecolor": "white"
           },
           "zaxis": {
            "backgroundcolor": "#E5ECF6",
            "gridcolor": "white",
            "gridwidth": 2,
            "linecolor": "white",
            "showbackground": true,
            "ticks": "",
            "zerolinecolor": "white"
           }
          },
          "shapedefaults": {
           "line": {
            "color": "#2a3f5f"
           }
          },
          "ternary": {
           "aaxis": {
            "gridcolor": "white",
            "linecolor": "white",
            "ticks": ""
           },
           "baxis": {
            "gridcolor": "white",
            "linecolor": "white",
            "ticks": ""
           },
           "bgcolor": "#E5ECF6",
           "caxis": {
            "gridcolor": "white",
            "linecolor": "white",
            "ticks": ""
           }
          },
          "title": {
           "x": 0.05
          },
          "xaxis": {
           "automargin": true,
           "gridcolor": "white",
           "linecolor": "white",
           "ticks": "",
           "title": {
            "standoff": 15
           },
           "zerolinecolor": "white",
           "zerolinewidth": 2
          },
          "yaxis": {
           "automargin": true,
           "gridcolor": "white",
           "linecolor": "white",
           "ticks": "",
           "title": {
            "standoff": 15
           },
           "zerolinecolor": "white",
           "zerolinewidth": 2
          }
         }
        },
        "title": {
         "text": "Pearson Residuals vs. acc (log scale)"
        },
        "xaxis": {
         "title": {
          "text": ""
         },
         "type": "category"
        },
        "yaxis": {
         "title": {
          "text": "Standardized Residuals"
         }
        }
       }
      }
     },
     "metadata": {},
     "output_type": "display_data"
    }
   ],
   "source": [
    "r.tweedie.plot.residual('acc', log=True)"
   ]
  },
  {
   "cell_type": "code",
   "execution_count": null,
   "metadata": {},
   "outputs": [
    {
     "data": {
      "application/vnd.plotly.v1+json": {
       "config": {
        "plotlyServerURL": "https://plot.ly"
       },
       "data": [
        {
         "box": {
          "visible": false
         },
         "jitter": 0.05,
         "line": {
          "color": "black"
         },
         "marker": {
          "color": "rgba(0, 0, 0, 0.5)",
          "line": {
           "color": "rgba(0, 0, 0)",
           "width": 1
          },
          "opacity": 0.5,
          "size": 6
         },
         "meanline": {
          "visible": true
         },
         "name": "12.0",
         "pointpos": 0,
         "points": "all",
         "type": "violin",
         "x": [
          12,
          12,
          12,
          12,
          12,
          12,
          12,
          12,
          12,
          12,
          12,
          12,
          12,
          12,
          12,
          12,
          12,
          12,
          12,
          12
         ],
         "y": [
          -7018.5073053106535,
          -4280.822442967001,
          -4227.098334409871,
          -4073.8480723222456,
          -397.5174143639815,
          6292.969989754827,
          5560.29317815305,
          9931.843610883072,
          11037.406292141655,
          10926.785448286435,
          10938.09714425978,
          7367.463670017263,
          2955.89674994137,
          1867.432123750441,
          3317.867196671614,
          6976.16722172001,
          8414.941070510147,
          -1557.8380853897543,
          -4736.06282226722,
          -2003.0828551332597
         ]
        },
        {
         "box": {
          "visible": false
         },
         "jitter": 0.05,
         "line": {
          "color": "black"
         },
         "marker": {
          "color": "rgba(0, 0, 0, 0.5)",
          "line": {
           "color": "rgba(0, 0, 0)",
           "width": 1
          },
          "opacity": 0.5,
          "size": 6
         },
         "meanline": {
          "visible": true
         },
         "name": "24.0",
         "pointpos": 0,
         "points": "all",
         "type": "violin",
         "x": [
          24,
          24,
          24,
          24,
          24,
          24,
          24,
          24,
          24,
          24,
          24,
          24,
          24,
          24,
          24,
          24,
          24,
          24,
          24
         ],
         "y": [
          7118.03659601415,
          8169.026635533053,
          7382.277244629979,
          12436.784076848759,
          14982.974145938373,
          23232.017782211355,
          12740.180657732366,
          14754.873898403777,
          17578.390805414783,
          13858.859255028081,
          12075.179630588464,
          9413.47414342341,
          4396.534394624898,
          11026.86078245299,
          6277.304304916048,
          9126.09679661598,
          7763.5600720156,
          -3909.5238792934797,
          5836.91231561825
         ]
        },
        {
         "box": {
          "visible": false
         },
         "jitter": 0.05,
         "line": {
          "color": "black"
         },
         "marker": {
          "color": "rgba(0, 0, 0, 0.5)",
          "line": {
           "color": "rgba(0, 0, 0)",
           "width": 1
          },
          "opacity": 0.5,
          "size": 6
         },
         "meanline": {
          "visible": true
         },
         "name": "36.0",
         "pointpos": 0,
         "points": "all",
         "type": "violin",
         "x": [
          36,
          36,
          36,
          36,
          36,
          36,
          36,
          36,
          36,
          36,
          36,
          36,
          36,
          36,
          36,
          36,
          36,
          36
         ],
         "y": [
          -1519.7570707972664,
          -1870.2223113535656,
          -4471.708716577879,
          2812.4736442821886,
          6017.889869529874,
          8250.304155244554,
          1371.4313612190053,
          2379.500778392812,
          3630.1617351349523,
          719.4364438236953,
          160.04026011636597,
          141.40445836820436,
          -211.18043523330925,
          758.1281011297724,
          -3480.971210496471,
          -424.1811440802994,
          0.6054447517053632,
          -4304.402047611344
         ]
        },
        {
         "box": {
          "visible": false
         },
         "jitter": 0.05,
         "line": {
          "color": "black"
         },
         "marker": {
          "color": "rgba(0, 0, 0, 0.5)",
          "line": {
           "color": "rgba(0, 0, 0)",
           "width": 1
          },
          "opacity": 0.5,
          "size": 6
         },
         "meanline": {
          "visible": true
         },
         "name": "48.0",
         "pointpos": 0,
         "points": "all",
         "type": "violin",
         "x": [
          48,
          48,
          48,
          48,
          48,
          48,
          48,
          48,
          48,
          48,
          48,
          48,
          48,
          48,
          48,
          48,
          48
         ],
         "y": [
          -3290.662298788553,
          -999.5192962114779,
          1801.1082326462674,
          2633.896419078934,
          4224.777400663472,
          6188.463602662947,
          712.5006144481085,
          1776.5054865740149,
          1939.9568366835992,
          1412.515822123998,
          -369.2638593746524,
          2031.995604832442,
          1379.7114878693792,
          603.0914939799859,
          -3228.5884209143096,
          -1466.0316707040529,
          -2639.82015137276
         ]
        },
        {
         "box": {
          "visible": false
         },
         "jitter": 0.05,
         "line": {
          "color": "black"
         },
         "marker": {
          "color": "rgba(0, 0, 0, 0.5)",
          "line": {
           "color": "rgba(0, 0, 0)",
           "width": 1
          },
          "opacity": 0.5,
          "size": 6
         },
         "meanline": {
          "visible": true
         },
         "name": "60.0",
         "pointpos": 0,
         "points": "all",
         "type": "violin",
         "x": [
          60,
          60,
          60,
          60,
          60,
          60,
          60,
          60,
          60,
          60,
          60,
          60,
          60,
          60,
          60,
          60
         ],
         "y": [
          -154.60868919834138,
          2881.6679714665843,
          1939.223872719731,
          2179.580341777939,
          3592.566861131674,
          6505.667427377484,
          519.71251490551,
          3536.023481420575,
          953.5007521517291,
          1908.7610793704944,
          1040.9602608111163,
          2203.8768720283215,
          -859.0052359238416,
          2162.156383411898,
          -1814.0792655715768,
          -829.2680342332706
         ]
        },
        {
         "box": {
          "visible": false
         },
         "jitter": 0.05,
         "line": {
          "color": "black"
         },
         "marker": {
          "color": "rgba(0, 0, 0, 0.5)",
          "line": {
           "color": "rgba(0, 0, 0)",
           "width": 1
          },
          "opacity": 0.5,
          "size": 6
         },
         "meanline": {
          "visible": true
         },
         "name": "72.0",
         "pointpos": 0,
         "points": "all",
         "type": "violin",
         "x": [
          72,
          72,
          72,
          72,
          72,
          72,
          72,
          72,
          72,
          72,
          72,
          72,
          72,
          72,
          72
         ],
         "y": [
          2066.721050487482,
          1640.2758701309822,
          1110.1772880143299,
          3500.155420561621,
          1645.2128767204285,
          4173.497636018706,
          397.33388956636736,
          2131.0821891984297,
          -1066.8155405137113,
          -1242.2612848957797,
          -838.1855257384505,
          1195.0740301222268,
          -821.6496257395752,
          1328.9883381090413,
          -619.8888973061294
         ]
        },
        {
         "box": {
          "visible": false
         },
         "jitter": 0.05,
         "line": {
          "color": "black"
         },
         "marker": {
          "color": "rgba(0, 0, 0, 0.5)",
          "line": {
           "color": "rgba(0, 0, 0)",
           "width": 1
          },
          "opacity": 0.5,
          "size": 6
         },
         "meanline": {
          "visible": true
         },
         "name": "84.0",
         "pointpos": 0,
         "points": "all",
         "type": "violin",
         "x": [
          84,
          84,
          84,
          84,
          84,
          84,
          84,
          84,
          84,
          84,
          84,
          84,
          84,
          84
         ],
         "y": [
          2397.3714989064338,
          988.5245875063624,
          1155.007129158253,
          2049.5214903202045,
          997.5145663657909,
          1485.2004692700139,
          1153.4510424576551,
          182.74507498036473,
          -430.4942399832016,
          290.9870612582872,
          -184.2879539095702,
          998.6135482887366,
          -330.3166905382823,
          159.1834144945051
         ]
        },
        {
         "box": {
          "visible": false
         },
         "jitter": 0.05,
         "line": {
          "color": "black"
         },
         "marker": {
          "color": "rgba(0, 0, 0, 0.5)",
          "line": {
           "color": "rgba(0, 0, 0)",
           "width": 1
          },
          "opacity": 0.5,
          "size": 6
         },
         "meanline": {
          "visible": true
         },
         "name": "96.0",
         "pointpos": 0,
         "points": "all",
         "type": "violin",
         "x": [
          96,
          96,
          96,
          96,
          96,
          96,
          96,
          96,
          96,
          96,
          96,
          96,
          96
         ],
         "y": [
          839.6499545219472,
          2808.389115121159,
          362.33034444899454,
          2425.1708189353826,
          709.6971298718956,
          2876.791521215543,
          1331.4748346739834,
          15.07207370535707,
          111.1721757704122,
          -7.826468285421242,
          1322.504578875835,
          913.6418305656107,
          -401.71444695243304
         ]
        },
        {
         "box": {
          "visible": false
         },
         "jitter": 0.05,
         "line": {
          "color": "black"
         },
         "marker": {
          "color": "rgba(0, 0, 0, 0.5)",
          "line": {
           "color": "rgba(0, 0, 0)",
           "width": 1
          },
          "opacity": 0.5,
          "size": 6
         },
         "meanline": {
          "visible": true
         },
         "name": "108.0",
         "pointpos": 0,
         "points": "all",
         "type": "violin",
         "x": [
          108,
          108,
          108,
          108,
          108,
          108,
          108,
          108,
          108,
          108,
          108,
          108
         ],
         "y": [
          39.97042452429105,
          1536.0323812038296,
          170.34100463773257,
          1566.254335896518,
          2298.573517198167,
          1751.585772290318,
          -109.01024267507637,
          1403.112642155814,
          959.1911208933325,
          609.5849588141443,
          1765.2459782339702,
          688.1214637922087
         ]
        },
        {
         "box": {
          "visible": false
         },
         "jitter": 0.05,
         "line": {
          "color": "black"
         },
         "marker": {
          "color": "rgba(0, 0, 0, 0.5)",
          "line": {
           "color": "rgba(0, 0, 0)",
           "width": 1
          },
          "opacity": 0.5,
          "size": 6
         },
         "meanline": {
          "visible": true
         },
         "name": "120.0",
         "pointpos": 0,
         "points": "all",
         "type": "violin",
         "x": [
          120,
          120,
          120,
          120,
          120,
          120,
          120,
          120,
          120,
          120,
          120
         ],
         "y": [
          324.3757922830089,
          1092.9667769728512,
          752.7159599428227,
          2950.1055472072085,
          433.2396616638647,
          387.94608865424584,
          862.8002392523799,
          803.9660759038375,
          120.491221733065,
          -200.99219092368037,
          1112.28799870054
         ]
        },
        {
         "box": {
          "visible": false
         },
         "jitter": 0.05,
         "line": {
          "color": "black"
         },
         "marker": {
          "color": "rgba(0, 0, 0, 0.5)",
          "line": {
           "color": "rgba(0, 0, 0)",
           "width": 1
          },
          "opacity": 0.5,
          "size": 6
         },
         "meanline": {
          "visible": true
         },
         "name": "132.0",
         "pointpos": 0,
         "points": "all",
         "type": "violin",
         "x": [
          132,
          132,
          132,
          132,
          132,
          132,
          132,
          132,
          132,
          132
         ],
         "y": [
          347.77890411783676,
          546.576116462629,
          608.6208933281412,
          1390.7232034881238,
          1186.5081508140458,
          518.117817685772,
          337.2336839488046,
          699.0391290028231,
          940.5764341405671,
          -88.72821769273526
         ]
        },
        {
         "box": {
          "visible": false
         },
         "jitter": 0.05,
         "line": {
          "color": "black"
         },
         "marker": {
          "color": "rgba(0, 0, 0, 0.5)",
          "line": {
           "color": "rgba(0, 0, 0)",
           "width": 1
          },
          "opacity": 0.5,
          "size": 6
         },
         "meanline": {
          "visible": true
         },
         "name": "144.0",
         "pointpos": 0,
         "points": "all",
         "type": "violin",
         "x": [
          144,
          144,
          144,
          144,
          144,
          144,
          144,
          144,
          144
         ],
         "y": [
          null,
          null,
          null,
          null,
          null,
          null,
          null,
          null,
          null
         ]
        },
        {
         "box": {
          "visible": false
         },
         "jitter": 0.05,
         "line": {
          "color": "black"
         },
         "marker": {
          "color": "rgba(0, 0, 0, 0.5)",
          "line": {
           "color": "rgba(0, 0, 0)",
           "width": 1
          },
          "opacity": 0.5,
          "size": 6
         },
         "meanline": {
          "visible": true
         },
         "name": "156.0",
         "pointpos": 0,
         "points": "all",
         "type": "violin",
         "x": [
          156,
          156,
          156,
          156,
          156,
          156,
          156,
          156
         ],
         "y": [
          null,
          null,
          null,
          null,
          null,
          null,
          null,
          null
         ]
        },
        {
         "box": {
          "visible": false
         },
         "jitter": 0.05,
         "line": {
          "color": "black"
         },
         "marker": {
          "color": "rgba(0, 0, 0, 0.5)",
          "line": {
           "color": "rgba(0, 0, 0)",
           "width": 1
          },
          "opacity": 0.5,
          "size": 6
         },
         "meanline": {
          "visible": true
         },
         "name": "168.0",
         "pointpos": 0,
         "points": "all",
         "type": "violin",
         "x": [
          168,
          168,
          168,
          168,
          168,
          168,
          168
         ],
         "y": [
          null,
          null,
          null,
          null,
          null,
          null,
          null
         ]
        },
        {
         "box": {
          "visible": false
         },
         "jitter": 0.05,
         "line": {
          "color": "black"
         },
         "marker": {
          "color": "rgba(0, 0, 0, 0.5)",
          "line": {
           "color": "rgba(0, 0, 0)",
           "width": 1
          },
          "opacity": 0.5,
          "size": 6
         },
         "meanline": {
          "visible": true
         },
         "name": "180.0",
         "pointpos": 0,
         "points": "all",
         "type": "violin",
         "x": [
          180,
          180,
          180,
          180,
          180,
          180
         ],
         "y": [
          null,
          null,
          null,
          null,
          null,
          null
         ]
        },
        {
         "box": {
          "visible": false
         },
         "jitter": 0.05,
         "line": {
          "color": "black"
         },
         "marker": {
          "color": "rgba(0, 0, 0, 0.5)",
          "line": {
           "color": "rgba(0, 0, 0)",
           "width": 1
          },
          "opacity": 0.5,
          "size": 6
         },
         "meanline": {
          "visible": true
         },
         "name": "192.0",
         "pointpos": 0,
         "points": "all",
         "type": "violin",
         "x": [
          192,
          192,
          192,
          192,
          192
         ],
         "y": [
          null,
          null,
          null,
          null,
          null
         ]
        },
        {
         "box": {
          "visible": false
         },
         "jitter": 0.05,
         "line": {
          "color": "black"
         },
         "marker": {
          "color": "rgba(0, 0, 0, 0.5)",
          "line": {
           "color": "rgba(0, 0, 0)",
           "width": 1
          },
          "opacity": 0.5,
          "size": 6
         },
         "meanline": {
          "visible": true
         },
         "name": "204.0",
         "pointpos": 0,
         "points": "all",
         "type": "violin",
         "x": [
          204,
          204,
          204,
          204
         ],
         "y": [
          null,
          null,
          null,
          null
         ]
        },
        {
         "box": {
          "visible": false
         },
         "jitter": 0.05,
         "line": {
          "color": "black"
         },
         "marker": {
          "color": "rgba(0, 0, 0, 0.5)",
          "line": {
           "color": "rgba(0, 0, 0)",
           "width": 1
          },
          "opacity": 0.5,
          "size": 6
         },
         "meanline": {
          "visible": true
         },
         "name": "216.0",
         "pointpos": 0,
         "points": "all",
         "type": "violin",
         "x": [
          216,
          216,
          216
         ],
         "y": [
          null,
          null,
          null
         ]
        },
        {
         "box": {
          "visible": false
         },
         "jitter": 0.05,
         "line": {
          "color": "black"
         },
         "marker": {
          "color": "rgba(0, 0, 0, 0.5)",
          "line": {
           "color": "rgba(0, 0, 0)",
           "width": 1
          },
          "opacity": 0.5,
          "size": 6
         },
         "meanline": {
          "visible": true
         },
         "name": "228.0",
         "pointpos": 0,
         "points": "all",
         "type": "violin",
         "x": [
          228,
          228
         ],
         "y": [
          null,
          null
         ]
        },
        {
         "box": {
          "visible": false
         },
         "jitter": 0.05,
         "line": {
          "color": "black"
         },
         "marker": {
          "color": "rgba(0, 0, 0, 0.5)",
          "line": {
           "color": "rgba(0, 0, 0)",
           "width": 1
          },
          "opacity": 0.5,
          "size": 6
         },
         "meanline": {
          "visible": true
         },
         "name": "240.0",
         "pointpos": 0,
         "points": "all",
         "type": "violin",
         "x": [
          240
         ],
         "y": [
          null
         ]
        }
       ],
       "layout": {
        "template": {
         "data": {
          "bar": [
           {
            "error_x": {
             "color": "#2a3f5f"
            },
            "error_y": {
             "color": "#2a3f5f"
            },
            "marker": {
             "line": {
              "color": "#E5ECF6",
              "width": 0.5
             },
             "pattern": {
              "fillmode": "overlay",
              "size": 10,
              "solidity": 0.2
             }
            },
            "type": "bar"
           }
          ],
          "barpolar": [
           {
            "marker": {
             "line": {
              "color": "#E5ECF6",
              "width": 0.5
             },
             "pattern": {
              "fillmode": "overlay",
              "size": 10,
              "solidity": 0.2
             }
            },
            "type": "barpolar"
           }
          ],
          "carpet": [
           {
            "aaxis": {
             "endlinecolor": "#2a3f5f",
             "gridcolor": "white",
             "linecolor": "white",
             "minorgridcolor": "white",
             "startlinecolor": "#2a3f5f"
            },
            "baxis": {
             "endlinecolor": "#2a3f5f",
             "gridcolor": "white",
             "linecolor": "white",
             "minorgridcolor": "white",
             "startlinecolor": "#2a3f5f"
            },
            "type": "carpet"
           }
          ],
          "choropleth": [
           {
            "colorbar": {
             "outlinewidth": 0,
             "ticks": ""
            },
            "type": "choropleth"
           }
          ],
          "contour": [
           {
            "colorbar": {
             "outlinewidth": 0,
             "ticks": ""
            },
            "colorscale": [
             [
              0,
              "#0d0887"
             ],
             [
              0.1111111111111111,
              "#46039f"
             ],
             [
              0.2222222222222222,
              "#7201a8"
             ],
             [
              0.3333333333333333,
              "#9c179e"
             ],
             [
              0.4444444444444444,
              "#bd3786"
             ],
             [
              0.5555555555555556,
              "#d8576b"
             ],
             [
              0.6666666666666666,
              "#ed7953"
             ],
             [
              0.7777777777777778,
              "#fb9f3a"
             ],
             [
              0.8888888888888888,
              "#fdca26"
             ],
             [
              1,
              "#f0f921"
             ]
            ],
            "type": "contour"
           }
          ],
          "contourcarpet": [
           {
            "colorbar": {
             "outlinewidth": 0,
             "ticks": ""
            },
            "type": "contourcarpet"
           }
          ],
          "heatmap": [
           {
            "colorbar": {
             "outlinewidth": 0,
             "ticks": ""
            },
            "colorscale": [
             [
              0,
              "#0d0887"
             ],
             [
              0.1111111111111111,
              "#46039f"
             ],
             [
              0.2222222222222222,
              "#7201a8"
             ],
             [
              0.3333333333333333,
              "#9c179e"
             ],
             [
              0.4444444444444444,
              "#bd3786"
             ],
             [
              0.5555555555555556,
              "#d8576b"
             ],
             [
              0.6666666666666666,
              "#ed7953"
             ],
             [
              0.7777777777777778,
              "#fb9f3a"
             ],
             [
              0.8888888888888888,
              "#fdca26"
             ],
             [
              1,
              "#f0f921"
             ]
            ],
            "type": "heatmap"
           }
          ],
          "heatmapgl": [
           {
            "colorbar": {
             "outlinewidth": 0,
             "ticks": ""
            },
            "colorscale": [
             [
              0,
              "#0d0887"
             ],
             [
              0.1111111111111111,
              "#46039f"
             ],
             [
              0.2222222222222222,
              "#7201a8"
             ],
             [
              0.3333333333333333,
              "#9c179e"
             ],
             [
              0.4444444444444444,
              "#bd3786"
             ],
             [
              0.5555555555555556,
              "#d8576b"
             ],
             [
              0.6666666666666666,
              "#ed7953"
             ],
             [
              0.7777777777777778,
              "#fb9f3a"
             ],
             [
              0.8888888888888888,
              "#fdca26"
             ],
             [
              1,
              "#f0f921"
             ]
            ],
            "type": "heatmapgl"
           }
          ],
          "histogram": [
           {
            "marker": {
             "pattern": {
              "fillmode": "overlay",
              "size": 10,
              "solidity": 0.2
             }
            },
            "type": "histogram"
           }
          ],
          "histogram2d": [
           {
            "colorbar": {
             "outlinewidth": 0,
             "ticks": ""
            },
            "colorscale": [
             [
              0,
              "#0d0887"
             ],
             [
              0.1111111111111111,
              "#46039f"
             ],
             [
              0.2222222222222222,
              "#7201a8"
             ],
             [
              0.3333333333333333,
              "#9c179e"
             ],
             [
              0.4444444444444444,
              "#bd3786"
             ],
             [
              0.5555555555555556,
              "#d8576b"
             ],
             [
              0.6666666666666666,
              "#ed7953"
             ],
             [
              0.7777777777777778,
              "#fb9f3a"
             ],
             [
              0.8888888888888888,
              "#fdca26"
             ],
             [
              1,
              "#f0f921"
             ]
            ],
            "type": "histogram2d"
           }
          ],
          "histogram2dcontour": [
           {
            "colorbar": {
             "outlinewidth": 0,
             "ticks": ""
            },
            "colorscale": [
             [
              0,
              "#0d0887"
             ],
             [
              0.1111111111111111,
              "#46039f"
             ],
             [
              0.2222222222222222,
              "#7201a8"
             ],
             [
              0.3333333333333333,
              "#9c179e"
             ],
             [
              0.4444444444444444,
              "#bd3786"
             ],
             [
              0.5555555555555556,
              "#d8576b"
             ],
             [
              0.6666666666666666,
              "#ed7953"
             ],
             [
              0.7777777777777778,
              "#fb9f3a"
             ],
             [
              0.8888888888888888,
              "#fdca26"
             ],
             [
              1,
              "#f0f921"
             ]
            ],
            "type": "histogram2dcontour"
           }
          ],
          "mesh3d": [
           {
            "colorbar": {
             "outlinewidth": 0,
             "ticks": ""
            },
            "type": "mesh3d"
           }
          ],
          "parcoords": [
           {
            "line": {
             "colorbar": {
              "outlinewidth": 0,
              "ticks": ""
             }
            },
            "type": "parcoords"
           }
          ],
          "pie": [
           {
            "automargin": true,
            "type": "pie"
           }
          ],
          "scatter": [
           {
            "fillpattern": {
             "fillmode": "overlay",
             "size": 10,
             "solidity": 0.2
            },
            "type": "scatter"
           }
          ],
          "scatter3d": [
           {
            "line": {
             "colorbar": {
              "outlinewidth": 0,
              "ticks": ""
             }
            },
            "marker": {
             "colorbar": {
              "outlinewidth": 0,
              "ticks": ""
             }
            },
            "type": "scatter3d"
           }
          ],
          "scattercarpet": [
           {
            "marker": {
             "colorbar": {
              "outlinewidth": 0,
              "ticks": ""
             }
            },
            "type": "scattercarpet"
           }
          ],
          "scattergeo": [
           {
            "marker": {
             "colorbar": {
              "outlinewidth": 0,
              "ticks": ""
             }
            },
            "type": "scattergeo"
           }
          ],
          "scattergl": [
           {
            "marker": {
             "colorbar": {
              "outlinewidth": 0,
              "ticks": ""
             }
            },
            "type": "scattergl"
           }
          ],
          "scattermapbox": [
           {
            "marker": {
             "colorbar": {
              "outlinewidth": 0,
              "ticks": ""
             }
            },
            "type": "scattermapbox"
           }
          ],
          "scatterpolar": [
           {
            "marker": {
             "colorbar": {
              "outlinewidth": 0,
              "ticks": ""
             }
            },
            "type": "scatterpolar"
           }
          ],
          "scatterpolargl": [
           {
            "marker": {
             "colorbar": {
              "outlinewidth": 0,
              "ticks": ""
             }
            },
            "type": "scatterpolargl"
           }
          ],
          "scatterternary": [
           {
            "marker": {
             "colorbar": {
              "outlinewidth": 0,
              "ticks": ""
             }
            },
            "type": "scatterternary"
           }
          ],
          "surface": [
           {
            "colorbar": {
             "outlinewidth": 0,
             "ticks": ""
            },
            "colorscale": [
             [
              0,
              "#0d0887"
             ],
             [
              0.1111111111111111,
              "#46039f"
             ],
             [
              0.2222222222222222,
              "#7201a8"
             ],
             [
              0.3333333333333333,
              "#9c179e"
             ],
             [
              0.4444444444444444,
              "#bd3786"
             ],
             [
              0.5555555555555556,
              "#d8576b"
             ],
             [
              0.6666666666666666,
              "#ed7953"
             ],
             [
              0.7777777777777778,
              "#fb9f3a"
             ],
             [
              0.8888888888888888,
              "#fdca26"
             ],
             [
              1,
              "#f0f921"
             ]
            ],
            "type": "surface"
           }
          ],
          "table": [
           {
            "cells": {
             "fill": {
              "color": "#EBF0F8"
             },
             "line": {
              "color": "white"
             }
            },
            "header": {
             "fill": {
              "color": "#C8D4E3"
             },
             "line": {
              "color": "white"
             }
            },
            "type": "table"
           }
          ]
         },
         "layout": {
          "annotationdefaults": {
           "arrowcolor": "#2a3f5f",
           "arrowhead": 0,
           "arrowwidth": 1
          },
          "autotypenumbers": "strict",
          "coloraxis": {
           "colorbar": {
            "outlinewidth": 0,
            "ticks": ""
           }
          },
          "colorscale": {
           "diverging": [
            [
             0,
             "#8e0152"
            ],
            [
             0.1,
             "#c51b7d"
            ],
            [
             0.2,
             "#de77ae"
            ],
            [
             0.3,
             "#f1b6da"
            ],
            [
             0.4,
             "#fde0ef"
            ],
            [
             0.5,
             "#f7f7f7"
            ],
            [
             0.6,
             "#e6f5d0"
            ],
            [
             0.7,
             "#b8e186"
            ],
            [
             0.8,
             "#7fbc41"
            ],
            [
             0.9,
             "#4d9221"
            ],
            [
             1,
             "#276419"
            ]
           ],
           "sequential": [
            [
             0,
             "#0d0887"
            ],
            [
             0.1111111111111111,
             "#46039f"
            ],
            [
             0.2222222222222222,
             "#7201a8"
            ],
            [
             0.3333333333333333,
             "#9c179e"
            ],
            [
             0.4444444444444444,
             "#bd3786"
            ],
            [
             0.5555555555555556,
             "#d8576b"
            ],
            [
             0.6666666666666666,
             "#ed7953"
            ],
            [
             0.7777777777777778,
             "#fb9f3a"
            ],
            [
             0.8888888888888888,
             "#fdca26"
            ],
            [
             1,
             "#f0f921"
            ]
           ],
           "sequentialminus": [
            [
             0,
             "#0d0887"
            ],
            [
             0.1111111111111111,
             "#46039f"
            ],
            [
             0.2222222222222222,
             "#7201a8"
            ],
            [
             0.3333333333333333,
             "#9c179e"
            ],
            [
             0.4444444444444444,
             "#bd3786"
            ],
            [
             0.5555555555555556,
             "#d8576b"
            ],
            [
             0.6666666666666666,
             "#ed7953"
            ],
            [
             0.7777777777777778,
             "#fb9f3a"
            ],
            [
             0.8888888888888888,
             "#fdca26"
            ],
            [
             1,
             "#f0f921"
            ]
           ]
          },
          "colorway": [
           "#636efa",
           "#EF553B",
           "#00cc96",
           "#ab63fa",
           "#FFA15A",
           "#19d3f3",
           "#FF6692",
           "#B6E880",
           "#FF97FF",
           "#FECB52"
          ],
          "font": {
           "color": "#2a3f5f"
          },
          "geo": {
           "bgcolor": "white",
           "lakecolor": "white",
           "landcolor": "#E5ECF6",
           "showlakes": true,
           "showland": true,
           "subunitcolor": "white"
          },
          "hoverlabel": {
           "align": "left"
          },
          "hovermode": "closest",
          "mapbox": {
           "style": "light"
          },
          "paper_bgcolor": "white",
          "plot_bgcolor": "#E5ECF6",
          "polar": {
           "angularaxis": {
            "gridcolor": "white",
            "linecolor": "white",
            "ticks": ""
           },
           "bgcolor": "#E5ECF6",
           "radialaxis": {
            "gridcolor": "white",
            "linecolor": "white",
            "ticks": ""
           }
          },
          "scene": {
           "xaxis": {
            "backgroundcolor": "#E5ECF6",
            "gridcolor": "white",
            "gridwidth": 2,
            "linecolor": "white",
            "showbackground": true,
            "ticks": "",
            "zerolinecolor": "white"
           },
           "yaxis": {
            "backgroundcolor": "#E5ECF6",
            "gridcolor": "white",
            "gridwidth": 2,
            "linecolor": "white",
            "showbackground": true,
            "ticks": "",
            "zerolinecolor": "white"
           },
           "zaxis": {
            "backgroundcolor": "#E5ECF6",
            "gridcolor": "white",
            "gridwidth": 2,
            "linecolor": "white",
            "showbackground": true,
            "ticks": "",
            "zerolinecolor": "white"
           }
          },
          "shapedefaults": {
           "line": {
            "color": "#2a3f5f"
           }
          },
          "ternary": {
           "aaxis": {
            "gridcolor": "white",
            "linecolor": "white",
            "ticks": ""
           },
           "baxis": {
            "gridcolor": "white",
            "linecolor": "white",
            "ticks": ""
           },
           "bgcolor": "#E5ECF6",
           "caxis": {
            "gridcolor": "white",
            "linecolor": "white",
            "ticks": ""
           }
          },
          "title": {
           "x": 0.05
          },
          "xaxis": {
           "automargin": true,
           "gridcolor": "white",
           "linecolor": "white",
           "ticks": "",
           "title": {
            "standoff": 15
           },
           "zerolinecolor": "white",
           "zerolinewidth": 2
          },
          "yaxis": {
           "automargin": true,
           "gridcolor": "white",
           "linecolor": "white",
           "ticks": "",
           "title": {
            "standoff": 15
           },
           "zerolinecolor": "white",
           "zerolinewidth": 2
          }
         }
        },
        "title": {
         "text": "Pearson Residuals vs. dev"
        },
        "xaxis": {
         "title": {
          "text": ""
         },
         "type": "category"
        },
        "yaxis": {
         "title": {
          "text": "Standardized Residuals"
         }
        }
       }
      }
     },
     "metadata": {},
     "output_type": "display_data"
    }
   ],
   "source": [
    "r.tweedie.plot.residual('dev', log=False)"
   ]
  },
  {
   "cell_type": "code",
   "execution_count": null,
   "metadata": {},
   "outputs": [
    {
     "data": {
      "text/html": [
       "<div>\n",
       "<style scoped>\n",
       "    .dataframe tbody tr th:only-of-type {\n",
       "        vertical-align: middle;\n",
       "    }\n",
       "\n",
       "    .dataframe tbody tr th {\n",
       "        vertical-align: top;\n",
       "    }\n",
       "\n",
       "    .dataframe thead th {\n",
       "        text-align: right;\n",
       "    }\n",
       "</style>\n",
       "<table border=\"1\" class=\"dataframe\">\n",
       "  <thead>\n",
       "    <tr style=\"text-align: right;\">\n",
       "      <th>development_period</th>\n",
       "      <th>12</th>\n",
       "      <th>24</th>\n",
       "      <th>36</th>\n",
       "      <th>48</th>\n",
       "      <th>60</th>\n",
       "      <th>72</th>\n",
       "      <th>84</th>\n",
       "      <th>96</th>\n",
       "      <th>108</th>\n",
       "      <th>120</th>\n",
       "      <th>132</th>\n",
       "      <th>144</th>\n",
       "      <th>156</th>\n",
       "      <th>168</th>\n",
       "      <th>180</th>\n",
       "      <th>192</th>\n",
       "      <th>204</th>\n",
       "      <th>216</th>\n",
       "      <th>228</th>\n",
       "      <th>240</th>\n",
       "    </tr>\n",
       "    <tr>\n",
       "      <th>Accident Period</th>\n",
       "      <th></th>\n",
       "      <th></th>\n",
       "      <th></th>\n",
       "      <th></th>\n",
       "      <th></th>\n",
       "      <th></th>\n",
       "      <th></th>\n",
       "      <th></th>\n",
       "      <th></th>\n",
       "      <th></th>\n",
       "      <th></th>\n",
       "      <th></th>\n",
       "      <th></th>\n",
       "      <th></th>\n",
       "      <th></th>\n",
       "      <th></th>\n",
       "      <th></th>\n",
       "      <th></th>\n",
       "      <th></th>\n",
       "      <th></th>\n",
       "    </tr>\n",
       "  </thead>\n",
       "  <tbody>\n",
       "    <tr>\n",
       "      <th>2003-01-01</th>\n",
       "      <td>50330.00000</td>\n",
       "      <td>107898.00000</td>\n",
       "      <td>136945.0</td>\n",
       "      <td>153476.0</td>\n",
       "      <td>163446.0</td>\n",
       "      <td>170897.0</td>\n",
       "      <td>176694.0</td>\n",
       "      <td>179683.0</td>\n",
       "      <td>181314.0</td>\n",
       "      <td>182628.0</td>\n",
       "      <td>183684.0</td>\n",
       "      <td>184610.0</td>\n",
       "      <td>185183.0</td>\n",
       "      <td>185970.0</td>\n",
       "      <td>186695.0</td>\n",
       "      <td>187245.0</td>\n",
       "      <td>187945.0</td>\n",
       "      <td>188593.0</td>\n",
       "      <td>190049.0</td>\n",
       "      <td>190285.0</td>\n",
       "    </tr>\n",
       "    <tr>\n",
       "      <th>2004-01-01</th>\n",
       "      <td>56728.00000</td>\n",
       "      <td>118567.00000</td>\n",
       "      <td>147424.0</td>\n",
       "      <td>165383.0</td>\n",
       "      <td>177974.0</td>\n",
       "      <td>184788.0</td>\n",
       "      <td>189194.0</td>\n",
       "      <td>194049.0</td>\n",
       "      <td>197031.0</td>\n",
       "      <td>199073.0</td>\n",
       "      <td>200373.0</td>\n",
       "      <td>203933.0</td>\n",
       "      <td>205157.0</td>\n",
       "      <td>205872.0</td>\n",
       "      <td>206186.0</td>\n",
       "      <td>206744.0</td>\n",
       "      <td>207097.0</td>\n",
       "      <td>207341.0</td>\n",
       "      <td>208639.0</td>\n",
       "      <td>NaN</td>\n",
       "    </tr>\n",
       "    <tr>\n",
       "      <th>2005-01-01</th>\n",
       "      <td>57102.00000</td>\n",
       "      <td>118436.00000</td>\n",
       "      <td>147933.0</td>\n",
       "      <td>167785.0</td>\n",
       "      <td>178853.0</td>\n",
       "      <td>184737.0</td>\n",
       "      <td>189670.0</td>\n",
       "      <td>192074.0</td>\n",
       "      <td>193631.0</td>\n",
       "      <td>195255.0</td>\n",
       "      <td>196621.0</td>\n",
       "      <td>197400.0</td>\n",
       "      <td>198085.0</td>\n",
       "      <td>199019.0</td>\n",
       "      <td>199769.0</td>\n",
       "      <td>201215.0</td>\n",
       "      <td>201832.0</td>\n",
       "      <td>202066.0</td>\n",
       "      <td>NaN</td>\n",
       "      <td>NaN</td>\n",
       "    </tr>\n",
       "    <tr>\n",
       "      <th>2006-01-01</th>\n",
       "      <td>63725.00000</td>\n",
       "      <td>135805.00000</td>\n",
       "      <td>171107.0</td>\n",
       "      <td>190146.0</td>\n",
       "      <td>201018.0</td>\n",
       "      <td>209221.0</td>\n",
       "      <td>214884.0</td>\n",
       "      <td>219271.0</td>\n",
       "      <td>222141.0</td>\n",
       "      <td>226018.0</td>\n",
       "      <td>228246.0</td>\n",
       "      <td>230138.0</td>\n",
       "      <td>232340.0</td>\n",
       "      <td>233039.0</td>\n",
       "      <td>234316.0</td>\n",
       "      <td>234901.0</td>\n",
       "      <td>235986.0</td>\n",
       "      <td>NaN</td>\n",
       "      <td>NaN</td>\n",
       "      <td>NaN</td>\n",
       "    </tr>\n",
       "    <tr>\n",
       "      <th>2007-01-01</th>\n",
       "      <td>64449.00000</td>\n",
       "      <td>136478.00000</td>\n",
       "      <td>173430.0</td>\n",
       "      <td>193387.0</td>\n",
       "      <td>205651.0</td>\n",
       "      <td>211715.0</td>\n",
       "      <td>216153.0</td>\n",
       "      <td>218710.0</td>\n",
       "      <td>222250.0</td>\n",
       "      <td>223615.0</td>\n",
       "      <td>225497.0</td>\n",
       "      <td>227206.0</td>\n",
       "      <td>227881.0</td>\n",
       "      <td>229481.0</td>\n",
       "      <td>230098.0</td>\n",
       "      <td>230571.0</td>\n",
       "      <td>NaN</td>\n",
       "      <td>NaN</td>\n",
       "      <td>NaN</td>\n",
       "      <td>NaN</td>\n",
       "    </tr>\n",
       "    <tr>\n",
       "      <th>2008-01-01</th>\n",
       "      <td>68035.00000</td>\n",
       "      <td>145582.00000</td>\n",
       "      <td>181946.0</td>\n",
       "      <td>202926.0</td>\n",
       "      <td>217764.0</td>\n",
       "      <td>226280.0</td>\n",
       "      <td>230892.0</td>\n",
       "      <td>235734.0</td>\n",
       "      <td>238717.0</td>\n",
       "      <td>240135.0</td>\n",
       "      <td>241393.0</td>\n",
       "      <td>242397.0</td>\n",
       "      <td>242952.0</td>\n",
       "      <td>243311.0</td>\n",
       "      <td>243746.0</td>\n",
       "      <td>NaN</td>\n",
       "      <td>NaN</td>\n",
       "      <td>NaN</td>\n",
       "      <td>NaN</td>\n",
       "      <td>NaN</td>\n",
       "    </tr>\n",
       "    <tr>\n",
       "      <th>2009-01-01</th>\n",
       "      <td>61673.00000</td>\n",
       "      <td>123776.00000</td>\n",
       "      <td>152108.0</td>\n",
       "      <td>166905.0</td>\n",
       "      <td>175113.0</td>\n",
       "      <td>180130.0</td>\n",
       "      <td>184282.0</td>\n",
       "      <td>187589.0</td>\n",
       "      <td>188790.0</td>\n",
       "      <td>190638.0</td>\n",
       "      <td>191719.0</td>\n",
       "      <td>192974.0</td>\n",
       "      <td>193706.0</td>\n",
       "      <td>194419.0</td>\n",
       "      <td>NaN</td>\n",
       "      <td>NaN</td>\n",
       "      <td>NaN</td>\n",
       "      <td>NaN</td>\n",
       "      <td>NaN</td>\n",
       "      <td>NaN</td>\n",
       "    </tr>\n",
       "    <tr>\n",
       "      <th>2010-01-01</th>\n",
       "      <td>63743.00000</td>\n",
       "      <td>125836.00000</td>\n",
       "      <td>153564.0</td>\n",
       "      <td>169391.0</td>\n",
       "      <td>180501.0</td>\n",
       "      <td>187276.0</td>\n",
       "      <td>190278.0</td>\n",
       "      <td>192477.0</td>\n",
       "      <td>195197.0</td>\n",
       "      <td>196939.0</td>\n",
       "      <td>198366.0</td>\n",
       "      <td>198754.0</td>\n",
       "      <td>199674.0</td>\n",
       "      <td>NaN</td>\n",
       "      <td>NaN</td>\n",
       "      <td>NaN</td>\n",
       "      <td>NaN</td>\n",
       "      <td>NaN</td>\n",
       "      <td>NaN</td>\n",
       "      <td>NaN</td>\n",
       "    </tr>\n",
       "    <tr>\n",
       "      <th>2011-01-01</th>\n",
       "      <td>61631.00000</td>\n",
       "      <td>123717.00000</td>\n",
       "      <td>151484.0</td>\n",
       "      <td>166925.0</td>\n",
       "      <td>174995.0</td>\n",
       "      <td>179062.0</td>\n",
       "      <td>181316.0</td>\n",
       "      <td>183516.0</td>\n",
       "      <td>185931.0</td>\n",
       "      <td>186904.0</td>\n",
       "      <td>188619.0</td>\n",
       "      <td>189183.0</td>\n",
       "      <td>NaN</td>\n",
       "      <td>NaN</td>\n",
       "      <td>NaN</td>\n",
       "      <td>NaN</td>\n",
       "      <td>NaN</td>\n",
       "      <td>NaN</td>\n",
       "      <td>NaN</td>\n",
       "      <td>NaN</td>\n",
       "    </tr>\n",
       "    <tr>\n",
       "      <th>2012-01-01</th>\n",
       "      <td>59102.00000</td>\n",
       "      <td>115341.00000</td>\n",
       "      <td>140139.0</td>\n",
       "      <td>154009.0</td>\n",
       "      <td>162990.0</td>\n",
       "      <td>166658.0</td>\n",
       "      <td>169627.0</td>\n",
       "      <td>171608.0</td>\n",
       "      <td>173610.0</td>\n",
       "      <td>174188.0</td>\n",
       "      <td>174806.0</td>\n",
       "      <td>NaN</td>\n",
       "      <td>NaN</td>\n",
       "      <td>NaN</td>\n",
       "      <td>NaN</td>\n",
       "      <td>NaN</td>\n",
       "      <td>NaN</td>\n",
       "      <td>NaN</td>\n",
       "      <td>NaN</td>\n",
       "      <td>NaN</td>\n",
       "    </tr>\n",
       "    <tr>\n",
       "      <th>2013-01-01</th>\n",
       "      <td>58997.00000</td>\n",
       "      <td>113350.00000</td>\n",
       "      <td>136647.0</td>\n",
       "      <td>148550.0</td>\n",
       "      <td>156016.0</td>\n",
       "      <td>159853.0</td>\n",
       "      <td>162242.0</td>\n",
       "      <td>165372.0</td>\n",
       "      <td>168463.0</td>\n",
       "      <td>170404.0</td>\n",
       "      <td>NaN</td>\n",
       "      <td>NaN</td>\n",
       "      <td>NaN</td>\n",
       "      <td>NaN</td>\n",
       "      <td>NaN</td>\n",
       "      <td>NaN</td>\n",
       "      <td>NaN</td>\n",
       "      <td>NaN</td>\n",
       "      <td>NaN</td>\n",
       "      <td>NaN</td>\n",
       "    </tr>\n",
       "    <tr>\n",
       "      <th>2014-01-01</th>\n",
       "      <td>53547.00000</td>\n",
       "      <td>103585.00000</td>\n",
       "      <td>125075.0</td>\n",
       "      <td>138638.0</td>\n",
       "      <td>147677.0</td>\n",
       "      <td>153121.0</td>\n",
       "      <td>156494.0</td>\n",
       "      <td>159141.0</td>\n",
       "      <td>161034.0</td>\n",
       "      <td>NaN</td>\n",
       "      <td>NaN</td>\n",
       "      <td>NaN</td>\n",
       "      <td>NaN</td>\n",
       "      <td>NaN</td>\n",
       "      <td>NaN</td>\n",
       "      <td>NaN</td>\n",
       "      <td>NaN</td>\n",
       "      <td>NaN</td>\n",
       "      <td>NaN</td>\n",
       "      <td>NaN</td>\n",
       "    </tr>\n",
       "    <tr>\n",
       "      <th>2015-01-01</th>\n",
       "      <td>45566.00000</td>\n",
       "      <td>87447.00000</td>\n",
       "      <td>108267.0</td>\n",
       "      <td>121106.0</td>\n",
       "      <td>127118.0</td>\n",
       "      <td>130371.0</td>\n",
       "      <td>132477.0</td>\n",
       "      <td>133705.0</td>\n",
       "      <td>NaN</td>\n",
       "      <td>NaN</td>\n",
       "      <td>NaN</td>\n",
       "      <td>NaN</td>\n",
       "      <td>NaN</td>\n",
       "      <td>NaN</td>\n",
       "      <td>NaN</td>\n",
       "      <td>NaN</td>\n",
       "      <td>NaN</td>\n",
       "      <td>NaN</td>\n",
       "      <td>NaN</td>\n",
       "      <td>NaN</td>\n",
       "    </tr>\n",
       "    <tr>\n",
       "      <th>2016-01-01</th>\n",
       "      <td>43844.00000</td>\n",
       "      <td>91798.00000</td>\n",
       "      <td>112317.0</td>\n",
       "      <td>124121.0</td>\n",
       "      <td>133879.0</td>\n",
       "      <td>139039.0</td>\n",
       "      <td>141790.0</td>\n",
       "      <td>NaN</td>\n",
       "      <td>NaN</td>\n",
       "      <td>NaN</td>\n",
       "      <td>NaN</td>\n",
       "      <td>NaN</td>\n",
       "      <td>NaN</td>\n",
       "      <td>NaN</td>\n",
       "      <td>NaN</td>\n",
       "      <td>NaN</td>\n",
       "      <td>NaN</td>\n",
       "      <td>NaN</td>\n",
       "      <td>NaN</td>\n",
       "      <td>NaN</td>\n",
       "    </tr>\n",
       "    <tr>\n",
       "      <th>2017-01-01</th>\n",
       "      <td>42759.00000</td>\n",
       "      <td>83733.00000</td>\n",
       "      <td>99890.0</td>\n",
       "      <td>107009.0</td>\n",
       "      <td>112460.0</td>\n",
       "      <td>115488.0</td>\n",
       "      <td>NaN</td>\n",
       "      <td>NaN</td>\n",
       "      <td>NaN</td>\n",
       "      <td>NaN</td>\n",
       "      <td>NaN</td>\n",
       "      <td>NaN</td>\n",
       "      <td>NaN</td>\n",
       "      <td>NaN</td>\n",
       "      <td>NaN</td>\n",
       "      <td>NaN</td>\n",
       "      <td>NaN</td>\n",
       "      <td>NaN</td>\n",
       "      <td>NaN</td>\n",
       "      <td>NaN</td>\n",
       "    </tr>\n",
       "    <tr>\n",
       "      <th>2018-01-01</th>\n",
       "      <td>46172.00000</td>\n",
       "      <td>89779.00000</td>\n",
       "      <td>108550.0</td>\n",
       "      <td>118092.0</td>\n",
       "      <td>124180.0</td>\n",
       "      <td>NaN</td>\n",
       "      <td>NaN</td>\n",
       "      <td>NaN</td>\n",
       "      <td>NaN</td>\n",
       "      <td>NaN</td>\n",
       "      <td>NaN</td>\n",
       "      <td>NaN</td>\n",
       "      <td>NaN</td>\n",
       "      <td>NaN</td>\n",
       "      <td>NaN</td>\n",
       "      <td>NaN</td>\n",
       "      <td>NaN</td>\n",
       "      <td>NaN</td>\n",
       "      <td>NaN</td>\n",
       "      <td>NaN</td>\n",
       "    </tr>\n",
       "    <tr>\n",
       "      <th>2019-01-01</th>\n",
       "      <td>46727.00000</td>\n",
       "      <td>88194.00000</td>\n",
       "      <td>106568.0</td>\n",
       "      <td>114994.0</td>\n",
       "      <td>NaN</td>\n",
       "      <td>NaN</td>\n",
       "      <td>NaN</td>\n",
       "      <td>NaN</td>\n",
       "      <td>NaN</td>\n",
       "      <td>NaN</td>\n",
       "      <td>NaN</td>\n",
       "      <td>NaN</td>\n",
       "      <td>NaN</td>\n",
       "      <td>NaN</td>\n",
       "      <td>NaN</td>\n",
       "      <td>NaN</td>\n",
       "      <td>NaN</td>\n",
       "      <td>NaN</td>\n",
       "      <td>NaN</td>\n",
       "      <td>NaN</td>\n",
       "    </tr>\n",
       "    <tr>\n",
       "      <th>2020-01-01</th>\n",
       "      <td>35114.00000</td>\n",
       "      <td>63465.00000</td>\n",
       "      <td>75927.0</td>\n",
       "      <td>NaN</td>\n",
       "      <td>NaN</td>\n",
       "      <td>NaN</td>\n",
       "      <td>NaN</td>\n",
       "      <td>NaN</td>\n",
       "      <td>NaN</td>\n",
       "      <td>NaN</td>\n",
       "      <td>NaN</td>\n",
       "      <td>NaN</td>\n",
       "      <td>NaN</td>\n",
       "      <td>NaN</td>\n",
       "      <td>NaN</td>\n",
       "      <td>NaN</td>\n",
       "      <td>NaN</td>\n",
       "      <td>NaN</td>\n",
       "      <td>NaN</td>\n",
       "      <td>NaN</td>\n",
       "    </tr>\n",
       "    <tr>\n",
       "      <th>2021-01-01</th>\n",
       "      <td>31909.48533</td>\n",
       "      <td>69983.79405</td>\n",
       "      <td>NaN</td>\n",
       "      <td>NaN</td>\n",
       "      <td>NaN</td>\n",
       "      <td>NaN</td>\n",
       "      <td>NaN</td>\n",
       "      <td>NaN</td>\n",
       "      <td>NaN</td>\n",
       "      <td>NaN</td>\n",
       "      <td>NaN</td>\n",
       "      <td>NaN</td>\n",
       "      <td>NaN</td>\n",
       "      <td>NaN</td>\n",
       "      <td>NaN</td>\n",
       "      <td>NaN</td>\n",
       "      <td>NaN</td>\n",
       "      <td>NaN</td>\n",
       "      <td>NaN</td>\n",
       "      <td>NaN</td>\n",
       "    </tr>\n",
       "    <tr>\n",
       "      <th>2022-01-01</th>\n",
       "      <td>34447.00000</td>\n",
       "      <td>NaN</td>\n",
       "      <td>NaN</td>\n",
       "      <td>NaN</td>\n",
       "      <td>NaN</td>\n",
       "      <td>NaN</td>\n",
       "      <td>NaN</td>\n",
       "      <td>NaN</td>\n",
       "      <td>NaN</td>\n",
       "      <td>NaN</td>\n",
       "      <td>NaN</td>\n",
       "      <td>NaN</td>\n",
       "      <td>NaN</td>\n",
       "      <td>NaN</td>\n",
       "      <td>NaN</td>\n",
       "      <td>NaN</td>\n",
       "      <td>NaN</td>\n",
       "      <td>NaN</td>\n",
       "      <td>NaN</td>\n",
       "      <td>NaN</td>\n",
       "    </tr>\n",
       "  </tbody>\n",
       "</table>\n",
       "</div>"
      ],
      "text/plain": [
       "development_period           12            24        36        48        60  \\\n",
       "Accident Period                                                               \n",
       "2003-01-01          50330.00000  107898.00000  136945.0  153476.0  163446.0   \n",
       "2004-01-01          56728.00000  118567.00000  147424.0  165383.0  177974.0   \n",
       "2005-01-01          57102.00000  118436.00000  147933.0  167785.0  178853.0   \n",
       "2006-01-01          63725.00000  135805.00000  171107.0  190146.0  201018.0   \n",
       "2007-01-01          64449.00000  136478.00000  173430.0  193387.0  205651.0   \n",
       "2008-01-01          68035.00000  145582.00000  181946.0  202926.0  217764.0   \n",
       "2009-01-01          61673.00000  123776.00000  152108.0  166905.0  175113.0   \n",
       "2010-01-01          63743.00000  125836.00000  153564.0  169391.0  180501.0   \n",
       "2011-01-01          61631.00000  123717.00000  151484.0  166925.0  174995.0   \n",
       "2012-01-01          59102.00000  115341.00000  140139.0  154009.0  162990.0   \n",
       "2013-01-01          58997.00000  113350.00000  136647.0  148550.0  156016.0   \n",
       "2014-01-01          53547.00000  103585.00000  125075.0  138638.0  147677.0   \n",
       "2015-01-01          45566.00000   87447.00000  108267.0  121106.0  127118.0   \n",
       "2016-01-01          43844.00000   91798.00000  112317.0  124121.0  133879.0   \n",
       "2017-01-01          42759.00000   83733.00000   99890.0  107009.0  112460.0   \n",
       "2018-01-01          46172.00000   89779.00000  108550.0  118092.0  124180.0   \n",
       "2019-01-01          46727.00000   88194.00000  106568.0  114994.0       NaN   \n",
       "2020-01-01          35114.00000   63465.00000   75927.0       NaN       NaN   \n",
       "2021-01-01          31909.48533   69983.79405       NaN       NaN       NaN   \n",
       "2022-01-01          34447.00000           NaN       NaN       NaN       NaN   \n",
       "\n",
       "development_period        72        84        96       108       120  \\\n",
       "Accident Period                                                        \n",
       "2003-01-01          170897.0  176694.0  179683.0  181314.0  182628.0   \n",
       "2004-01-01          184788.0  189194.0  194049.0  197031.0  199073.0   \n",
       "2005-01-01          184737.0  189670.0  192074.0  193631.0  195255.0   \n",
       "2006-01-01          209221.0  214884.0  219271.0  222141.0  226018.0   \n",
       "2007-01-01          211715.0  216153.0  218710.0  222250.0  223615.0   \n",
       "2008-01-01          226280.0  230892.0  235734.0  238717.0  240135.0   \n",
       "2009-01-01          180130.0  184282.0  187589.0  188790.0  190638.0   \n",
       "2010-01-01          187276.0  190278.0  192477.0  195197.0  196939.0   \n",
       "2011-01-01          179062.0  181316.0  183516.0  185931.0  186904.0   \n",
       "2012-01-01          166658.0  169627.0  171608.0  173610.0  174188.0   \n",
       "2013-01-01          159853.0  162242.0  165372.0  168463.0  170404.0   \n",
       "2014-01-01          153121.0  156494.0  159141.0  161034.0       NaN   \n",
       "2015-01-01          130371.0  132477.0  133705.0       NaN       NaN   \n",
       "2016-01-01          139039.0  141790.0       NaN       NaN       NaN   \n",
       "2017-01-01          115488.0       NaN       NaN       NaN       NaN   \n",
       "2018-01-01               NaN       NaN       NaN       NaN       NaN   \n",
       "2019-01-01               NaN       NaN       NaN       NaN       NaN   \n",
       "2020-01-01               NaN       NaN       NaN       NaN       NaN   \n",
       "2021-01-01               NaN       NaN       NaN       NaN       NaN   \n",
       "2022-01-01               NaN       NaN       NaN       NaN       NaN   \n",
       "\n",
       "development_period       132       144       156       168       180  \\\n",
       "Accident Period                                                        \n",
       "2003-01-01          183684.0  184610.0  185183.0  185970.0  186695.0   \n",
       "2004-01-01          200373.0  203933.0  205157.0  205872.0  206186.0   \n",
       "2005-01-01          196621.0  197400.0  198085.0  199019.0  199769.0   \n",
       "2006-01-01          228246.0  230138.0  232340.0  233039.0  234316.0   \n",
       "2007-01-01          225497.0  227206.0  227881.0  229481.0  230098.0   \n",
       "2008-01-01          241393.0  242397.0  242952.0  243311.0  243746.0   \n",
       "2009-01-01          191719.0  192974.0  193706.0  194419.0       NaN   \n",
       "2010-01-01          198366.0  198754.0  199674.0       NaN       NaN   \n",
       "2011-01-01          188619.0  189183.0       NaN       NaN       NaN   \n",
       "2012-01-01          174806.0       NaN       NaN       NaN       NaN   \n",
       "2013-01-01               NaN       NaN       NaN       NaN       NaN   \n",
       "2014-01-01               NaN       NaN       NaN       NaN       NaN   \n",
       "2015-01-01               NaN       NaN       NaN       NaN       NaN   \n",
       "2016-01-01               NaN       NaN       NaN       NaN       NaN   \n",
       "2017-01-01               NaN       NaN       NaN       NaN       NaN   \n",
       "2018-01-01               NaN       NaN       NaN       NaN       NaN   \n",
       "2019-01-01               NaN       NaN       NaN       NaN       NaN   \n",
       "2020-01-01               NaN       NaN       NaN       NaN       NaN   \n",
       "2021-01-01               NaN       NaN       NaN       NaN       NaN   \n",
       "2022-01-01               NaN       NaN       NaN       NaN       NaN   \n",
       "\n",
       "development_period       192       204       216       228       240  \n",
       "Accident Period                                                       \n",
       "2003-01-01          187245.0  187945.0  188593.0  190049.0  190285.0  \n",
       "2004-01-01          206744.0  207097.0  207341.0  208639.0       NaN  \n",
       "2005-01-01          201215.0  201832.0  202066.0       NaN       NaN  \n",
       "2006-01-01          234901.0  235986.0       NaN       NaN       NaN  \n",
       "2007-01-01          230571.0       NaN       NaN       NaN       NaN  \n",
       "2008-01-01               NaN       NaN       NaN       NaN       NaN  \n",
       "2009-01-01               NaN       NaN       NaN       NaN       NaN  \n",
       "2010-01-01               NaN       NaN       NaN       NaN       NaN  \n",
       "2011-01-01               NaN       NaN       NaN       NaN       NaN  \n",
       "2012-01-01               NaN       NaN       NaN       NaN       NaN  \n",
       "2013-01-01               NaN       NaN       NaN       NaN       NaN  \n",
       "2014-01-01               NaN       NaN       NaN       NaN       NaN  \n",
       "2015-01-01               NaN       NaN       NaN       NaN       NaN  \n",
       "2016-01-01               NaN       NaN       NaN       NaN       NaN  \n",
       "2017-01-01               NaN       NaN       NaN       NaN       NaN  \n",
       "2018-01-01               NaN       NaN       NaN       NaN       NaN  \n",
       "2019-01-01               NaN       NaN       NaN       NaN       NaN  \n",
       "2020-01-01               NaN       NaN       NaN       NaN       NaN  \n",
       "2021-01-01               NaN       NaN       NaN       NaN       NaN  \n",
       "2022-01-01               NaN       NaN       NaN       NaN       NaN  "
      ]
     },
     "execution_count": 21,
     "metadata": {},
     "output_type": "execute_result"
    }
   ],
   "source": [
    "r.paid_loss.tri"
   ]
  },
  {
   "cell_type": "code",
   "execution_count": null,
   "metadata": {},
   "outputs": [
    {
     "data": {
      "text/plain": [
       "<Axes: xlabel='Accident Period'>"
      ]
     },
     "execution_count": 22,
     "metadata": {},
     "output_type": "execute_result"
    },
    {
     "data": {
      "image/png": "[encoded data removed]",
      "text/plain": [
       "<Figure size 640x480 with 1 Axes>"
      ]
     },
     "metadata": {},
     "output_type": "display_data"
    }
   ],
   "source": [
    "## accident period parameters should roughly follow the first column:\n",
    "r.paid_loss.tri.iloc[:, 0].plot()"
   ]
  },
  {
   "cell_type": "code",
   "execution_count": null,
   "metadata": {},
   "outputs": [
    {
     "data": {
      "application/vnd.plotly.v1+json": {
       "config": {
        "plotlyServerURL": "https://plot.ly"
       },
       "data": [
        {
         "customdata": [
          [
           0.06187166849756018
          ],
          [
           0.005235933733455835
          ],
          [
           0.1002907870568744
          ],
          [
           -0.044521997566470926
          ],
          [
           -0.04905830863378976
          ],
          [
           -0.0956026085740838
          ],
          [
           -0.04188147644647586
          ],
          [
           -0.061655851783386784
          ],
          [
           -0.04898029383323712
          ],
          [
           -0.0024172664693680452
          ],
          [
           -0.03989063802961401
          ],
          [
           -0.08044537273147911
          ],
          [
           -0.01497983576376036
          ],
          [
           -0.06230230337072371
          ],
          [
           -0.006238817046954236
          ],
          [
           -0.0228057332827539
          ],
          [
           -0.043755595314443334
          ],
          [
           -0.0007171541594269803
          ],
          [
           -0.005348220142711987
          ]
         ],
         "hovertemplate": "parameter=%{x}<br>cumsum=%{y}<br>value=%{customdata[0]}<extra></extra>",
         "legendgroup": "",
         "line": {
          "color": "#636efa",
          "dash": "solid"
         },
         "marker": {
          "symbol": "circle"
         },
         "mode": "lines",
         "name": "",
         "orientation": "v",
         "showlegend": false,
         "type": "scatter",
         "x": [
          "accident_period_2004",
          "accident_period_2005",
          "accident_period_2006",
          "accident_period_2007",
          "accident_period_2008",
          "accident_period_2009",
          "accident_period_2010",
          "accident_period_2011",
          "accident_period_2012",
          "accident_period_2013",
          "accident_period_2014",
          "accident_period_2015",
          "accident_period_2016",
          "accident_period_2017",
          "accident_period_2018",
          "accident_period_2019",
          "accident_period_2020",
          "accident_period_2021",
          "accident_period_2022"
         ],
         "xaxis": "x",
         "y": [
          0.06187166849756018,
          0.06710760223101601,
          0.16739838928789041,
          0.12287639172141948,
          0.07381808308762973,
          -0.02178452548645407,
          -0.06366600193292993,
          -0.1253218537163167,
          -0.17430214754955384,
          -0.17671941401892188,
          -0.2166100520485359,
          -0.297055424780015,
          -0.3120352605437754,
          -0.37433756391449907,
          -0.3805763809614533,
          -0.4033821142442072,
          -0.44713770955865056,
          -0.44785486371807753,
          -0.4532030838607895
         ],
         "yaxis": "y"
        }
       ],
       "layout": {
        "legend": {
         "tracegroupgap": 0
        },
        "margin": {
         "t": 60
        },
        "template": {
         "data": {
          "bar": [
           {
            "error_x": {
             "color": "#2a3f5f"
            },
            "error_y": {
             "color": "#2a3f5f"
            },
            "marker": {
             "line": {
              "color": "#E5ECF6",
              "width": 0.5
             },
             "pattern": {
              "fillmode": "overlay",
              "size": 10,
              "solidity": 0.2
             }
            },
            "type": "bar"
           }
          ],
          "barpolar": [
           {
            "marker": {
             "line": {
              "color": "#E5ECF6",
              "width": 0.5
             },
             "pattern": {
              "fillmode": "overlay",
              "size": 10,
              "solidity": 0.2
             }
            },
            "type": "barpolar"
           }
          ],
          "carpet": [
           {
            "aaxis": {
             "endlinecolor": "#2a3f5f",
             "gridcolor": "white",
             "linecolor": "white",
             "minorgridcolor": "white",
             "startlinecolor": "#2a3f5f"
            },
            "baxis": {
             "endlinecolor": "#2a3f5f",
             "gridcolor": "white",
             "linecolor": "white",
             "minorgridcolor": "white",
             "startlinecolor": "#2a3f5f"
            },
            "type": "carpet"
           }
          ],
          "choropleth": [
           {
            "colorbar": {
             "outlinewidth": 0,
             "ticks": ""
            },
            "type": "choropleth"
           }
          ],
          "contour": [
           {
            "colorbar": {
             "outlinewidth": 0,
             "ticks": ""
            },
            "colorscale": [
             [
              0,
              "#0d0887"
             ],
             [
              0.1111111111111111,
              "#46039f"
             ],
             [
              0.2222222222222222,
              "#7201a8"
             ],
             [
              0.3333333333333333,
              "#9c179e"
             ],
             [
              0.4444444444444444,
              "#bd3786"
             ],
             [
              0.5555555555555556,
              "#d8576b"
             ],
             [
              0.6666666666666666,
              "#ed7953"
             ],
             [
              0.7777777777777778,
              "#fb9f3a"
             ],
             [
              0.8888888888888888,
              "#fdca26"
             ],
             [
              1,
              "#f0f921"
             ]
            ],
            "type": "contour"
           }
          ],
          "contourcarpet": [
           {
            "colorbar": {
             "outlinewidth": 0,
             "ticks": ""
            },
            "type": "contourcarpet"
           }
          ],
          "heatmap": [
           {
            "colorbar": {
             "outlinewidth": 0,
             "ticks": ""
            },
            "colorscale": [
             [
              0,
              "#0d0887"
             ],
             [
              0.1111111111111111,
              "#46039f"
             ],
             [
              0.2222222222222222,
              "#7201a8"
             ],
             [
              0.3333333333333333,
              "#9c179e"
             ],
             [
              0.4444444444444444,
              "#bd3786"
             ],
             [
              0.5555555555555556,
              "#d8576b"
             ],
             [
              0.6666666666666666,
              "#ed7953"
             ],
             [
              0.7777777777777778,
              "#fb9f3a"
             ],
             [
              0.8888888888888888,
              "#fdca26"
             ],
             [
              1,
              "#f0f921"
             ]
            ],
            "type": "heatmap"
           }
          ],
          "heatmapgl": [
           {
            "colorbar": {
             "outlinewidth": 0,
             "ticks": ""
            },
            "colorscale": [
             [
              0,
              "#0d0887"
             ],
             [
              0.1111111111111111,
              "#46039f"
             ],
             [
              0.2222222222222222,
              "#7201a8"
             ],
             [
              0.3333333333333333,
              "#9c179e"
             ],
             [
              0.4444444444444444,
              "#bd3786"
             ],
             [
              0.5555555555555556,
              "#d8576b"
             ],
             [
              0.6666666666666666,
              "#ed7953"
             ],
             [
              0.7777777777777778,
              "#fb9f3a"
             ],
             [
              0.8888888888888888,
              "#fdca26"
             ],
             [
              1,
              "#f0f921"
             ]
            ],
            "type": "heatmapgl"
           }
          ],
          "histogram": [
           {
            "marker": {
             "pattern": {
              "fillmode": "overlay",
              "size": 10,
              "solidity": 0.2
             }
            },
            "type": "histogram"
           }
          ],
          "histogram2d": [
           {
            "colorbar": {
             "outlinewidth": 0,
             "ticks": ""
            },
            "colorscale": [
             [
              0,
              "#0d0887"
             ],
             [
              0.1111111111111111,
              "#46039f"
             ],
             [
              0.2222222222222222,
              "#7201a8"
             ],
             [
              0.3333333333333333,
              "#9c179e"
             ],
             [
              0.4444444444444444,
              "#bd3786"
             ],
             [
              0.5555555555555556,
              "#d8576b"
             ],
             [
              0.6666666666666666,
              "#ed7953"
             ],
             [
              0.7777777777777778,
              "#fb9f3a"
             ],
             [
              0.8888888888888888,
              "#fdca26"
             ],
             [
              1,
              "#f0f921"
             ]
            ],
            "type": "histogram2d"
           }
          ],
          "histogram2dcontour": [
           {
            "colorbar": {
             "outlinewidth": 0,
             "ticks": ""
            },
            "colorscale": [
             [
              0,
              "#0d0887"
             ],
             [
              0.1111111111111111,
              "#46039f"
             ],
             [
              0.2222222222222222,
              "#7201a8"
             ],
             [
              0.3333333333333333,
              "#9c179e"
             ],
             [
              0.4444444444444444,
              "#bd3786"
             ],
             [
              0.5555555555555556,
              "#d8576b"
             ],
             [
              0.6666666666666666,
              "#ed7953"
             ],
             [
              0.7777777777777778,
              "#fb9f3a"
             ],
             [
              0.8888888888888888,
              "#fdca26"
             ],
             [
              1,
              "#f0f921"
             ]
            ],
            "type": "histogram2dcontour"
           }
          ],
          "mesh3d": [
           {
            "colorbar": {
             "outlinewidth": 0,
             "ticks": ""
            },
            "type": "mesh3d"
           }
          ],
          "parcoords": [
           {
            "line": {
             "colorbar": {
              "outlinewidth": 0,
              "ticks": ""
             }
            },
            "type": "parcoords"
           }
          ],
          "pie": [
           {
            "automargin": true,
            "type": "pie"
           }
          ],
          "scatter": [
           {
            "fillpattern": {
             "fillmode": "overlay",
             "size": 10,
             "solidity": 0.2
            },
            "type": "scatter"
           }
          ],
          "scatter3d": [
           {
            "line": {
             "colorbar": {
              "outlinewidth": 0,
              "ticks": ""
             }
            },
            "marker": {
             "colorbar": {
              "outlinewidth": 0,
              "ticks": ""
             }
            },
            "type": "scatter3d"
           }
          ],
          "scattercarpet": [
           {
            "marker": {
             "colorbar": {
              "outlinewidth": 0,
              "ticks": ""
             }
            },
            "type": "scattercarpet"
           }
          ],
          "scattergeo": [
           {
            "marker": {
             "colorbar": {
              "outlinewidth": 0,
              "ticks": ""
             }
            },
            "type": "scattergeo"
           }
          ],
          "scattergl": [
           {
            "marker": {
             "colorbar": {
              "outlinewidth": 0,
              "ticks": ""
             }
            },
            "type": "scattergl"
           }
          ],
          "scattermapbox": [
           {
            "marker": {
             "colorbar": {
              "outlinewidth": 0,
              "ticks": ""
             }
            },
            "type": "scattermapbox"
           }
          ],
          "scatterpolar": [
           {
            "marker": {
             "colorbar": {
              "outlinewidth": 0,
              "ticks": ""
             }
            },
            "type": "scatterpolar"
           }
          ],
          "scatterpolargl": [
           {
            "marker": {
             "colorbar": {
              "outlinewidth": 0,
              "ticks": ""
             }
            },
            "type": "scatterpolargl"
           }
          ],
          "scatterternary": [
           {
            "marker": {
             "colorbar": {
              "outlinewidth": 0,
              "ticks": ""
             }
            },
            "type": "scatterternary"
           }
          ],
          "surface": [
           {
            "colorbar": {
             "outlinewidth": 0,
             "ticks": ""
            },
            "colorscale": [
             [
              0,
              "#0d0887"
             ],
             [
              0.1111111111111111,
              "#46039f"
             ],
             [
              0.2222222222222222,
              "#7201a8"
             ],
             [
              0.3333333333333333,
              "#9c179e"
             ],
             [
              0.4444444444444444,
              "#bd3786"
             ],
             [
              0.5555555555555556,
              "#d8576b"
             ],
             [
              0.6666666666666666,
              "#ed7953"
             ],
             [
              0.7777777777777778,
              "#fb9f3a"
             ],
             [
              0.8888888888888888,
              "#fdca26"
             ],
             [
              1,
              "#f0f921"
             ]
            ],
            "type": "surface"
           }
          ],
          "table": [
           {
            "cells": {
             "fill": {
              "color": "#EBF0F8"
             },
             "line": {
              "color": "white"
             }
            },
            "header": {
             "fill": {
              "color": "#C8D4E3"
             },
             "line": {
              "color": "white"
             }
            },
            "type": "table"
           }
          ]
         },
         "layout": {
          "annotationdefaults": {
           "arrowcolor": "#2a3f5f",
           "arrowhead": 0,
           "arrowwidth": 1
          },
          "autotypenumbers": "strict",
          "coloraxis": {
           "colorbar": {
            "outlinewidth": 0,
            "ticks": ""
           }
          },
          "colorscale": {
           "diverging": [
            [
             0,
             "#8e0152"
            ],
            [
             0.1,
             "#c51b7d"
            ],
            [
             0.2,
             "#de77ae"
            ],
            [
             0.3,
             "#f1b6da"
            ],
            [
             0.4,
             "#fde0ef"
            ],
            [
             0.5,
             "#f7f7f7"
            ],
            [
             0.6,
             "#e6f5d0"
            ],
            [
             0.7,
             "#b8e186"
            ],
            [
             0.8,
             "#7fbc41"
            ],
            [
             0.9,
             "#4d9221"
            ],
            [
             1,
             "#276419"
            ]
           ],
           "sequential": [
            [
             0,
             "#0d0887"
            ],
            [
             0.1111111111111111,
             "#46039f"
            ],
            [
             0.2222222222222222,
             "#7201a8"
            ],
            [
             0.3333333333333333,
             "#9c179e"
            ],
            [
             0.4444444444444444,
             "#bd3786"
            ],
            [
             0.5555555555555556,
             "#d8576b"
            ],
            [
             0.6666666666666666,
             "#ed7953"
            ],
            [
             0.7777777777777778,
             "#fb9f3a"
            ],
            [
             0.8888888888888888,
             "#fdca26"
            ],
            [
             1,
             "#f0f921"
            ]
           ],
           "sequentialminus": [
            [
             0,
             "#0d0887"
            ],
            [
             0.1111111111111111,
             "#46039f"
            ],
            [
             0.2222222222222222,
             "#7201a8"
            ],
            [
             0.3333333333333333,
             "#9c179e"
            ],
            [
             0.4444444444444444,
             "#bd3786"
            ],
            [
             0.5555555555555556,
             "#d8576b"
            ],
            [
             0.6666666666666666,
             "#ed7953"
            ],
            [
             0.7777777777777778,
             "#fb9f3a"
            ],
            [
             0.8888888888888888,
             "#fdca26"
            ],
            [
             1,
             "#f0f921"
            ]
           ]
          },
          "colorway": [
           "#636efa",
           "#EF553B",
           "#00cc96",
           "#ab63fa",
           "#FFA15A",
           "#19d3f3",
           "#FF6692",
           "#B6E880",
           "#FF97FF",
           "#FECB52"
          ],
          "font": {
           "color": "#2a3f5f"
          },
          "geo": {
           "bgcolor": "white",
           "lakecolor": "white",
           "landcolor": "#E5ECF6",
           "showlakes": true,
           "showland": true,
           "subunitcolor": "white"
          },
          "hoverlabel": {
           "align": "left"
          },
          "hovermode": "closest",
          "mapbox": {
           "style": "light"
          },
          "paper_bgcolor": "white",
          "plot_bgcolor": "#E5ECF6",
          "polar": {
           "angularaxis": {
            "gridcolor": "white",
            "linecolor": "white",
            "ticks": ""
           },
           "bgcolor": "#E5ECF6",
           "radialaxis": {
            "gridcolor": "white",
            "linecolor": "white",
            "ticks": ""
           }
          },
          "scene": {
           "xaxis": {
            "backgroundcolor": "#E5ECF6",
            "gridcolor": "white",
            "gridwidth": 2,
            "linecolor": "white",
            "showbackground": true,
            "ticks": "",
            "zerolinecolor": "white"
           },
           "yaxis": {
            "backgroundcolor": "#E5ECF6",
            "gridcolor": "white",
            "gridwidth": 2,
            "linecolor": "white",
            "showbackground": true,
            "ticks": "",
            "zerolinecolor": "white"
           },
           "zaxis": {
            "backgroundcolor": "#E5ECF6",
            "gridcolor": "white",
            "gridwidth": 2,
            "linecolor": "white",
            "showbackground": true,
            "ticks": "",
            "zerolinecolor": "white"
           }
          },
          "shapedefaults": {
           "line": {
            "color": "#2a3f5f"
           }
          },
          "ternary": {
           "aaxis": {
            "gridcolor": "white",
            "linecolor": "white",
            "ticks": ""
           },
           "baxis": {
            "gridcolor": "white",
            "linecolor": "white",
            "ticks": ""
           },
           "bgcolor": "#E5ECF6",
           "caxis": {
            "gridcolor": "white",
            "linecolor": "white",
            "ticks": ""
           }
          },
          "title": {
           "x": 0.05
          },
          "xaxis": {
           "automargin": true,
           "gridcolor": "white",
           "linecolor": "white",
           "ticks": "",
           "title": {
            "standoff": 15
           },
           "zerolinecolor": "white",
           "zerolinewidth": 2
          },
          "yaxis": {
           "automargin": true,
           "gridcolor": "white",
           "linecolor": "white",
           "ticks": "",
           "title": {
            "standoff": 15
           },
           "zerolinecolor": "white",
           "zerolinewidth": 2
          }
         }
        },
        "title": {
         "text": "Cumulative acc parameters"
        },
        "xaxis": {
         "anchor": "y",
         "domain": [
          0,
          1
         ],
         "title": {
          "text": "Parameter"
         }
        },
        "yaxis": {
         "anchor": "x",
         "domain": [
          0,
          1
         ],
         "title": {
          "text": "Cumulative Parameter Value"
         }
        }
       }
      }
     },
     "metadata": {},
     "output_type": "display_data"
    }
   ],
   "source": [
    "# but the actual fitted parameters include regularization terms that smooth out some of these bumps\n",
    "r.tweedie.PlotParameter('acc')"
   ]
  },
  {
   "cell_type": "code",
   "execution_count": null,
   "metadata": {},
   "outputs": [
    {
     "data": {
      "application/vnd.plotly.v1+json": {
       "config": {
        "plotlyServerURL": "https://plot.ly"
       },
       "data": [
        {
         "customdata": [
          [
           -0.1281647940227863
          ],
          [
           -0.5629406417100781
          ],
          [
           -0.5386643738331081
          ],
          [
           -0.48262351611261817
          ],
          [
           -0.4765506739018742
          ],
          [
           -0.3917520523343785
          ],
          [
           -0.3066562707450185
          ],
          [
           -0.2713071470466417
          ],
          [
           -0.27676067845449115
          ],
          [
           -0.22316341193737277
          ],
          [
           -0.18239996781114792
          ],
          [
           -0.19680875811439572
          ],
          [
           -0.14914177671018516
          ],
          [
           -0.11196701034613729
          ],
          [
           -0.05806062445111913
          ],
          [
           -0.03718406961798342
          ],
          [
           -0.01813703532715992
          ],
          [
           0.04562800618590032
          ],
          [
           -0.029601122408418418
          ]
         ],
         "hovertemplate": "parameter=%{x}<br>cumsum=%{y}<br>value=%{customdata[0]}<extra></extra>",
         "legendgroup": "",
         "line": {
          "color": "#636efa",
          "dash": "solid"
         },
         "marker": {
          "symbol": "circle"
         },
         "mode": "lines",
         "name": "",
         "orientation": "v",
         "showlegend": false,
         "type": "scatter",
         "x": [
          "development_period_0024",
          "development_period_0036",
          "development_period_0048",
          "development_period_0060",
          "development_period_0072",
          "development_period_0084",
          "development_period_0096",
          "development_period_0108",
          "development_period_0120",
          "development_period_0132",
          "development_period_0144",
          "development_period_0156",
          "development_period_0168",
          "development_period_0180",
          "development_period_0192",
          "development_period_0204",
          "development_period_0216",
          "development_period_0228",
          "development_period_0240"
         ],
         "xaxis": "x",
         "y": [
          -0.1281647940227863,
          -0.6911054357328643,
          -1.2297698095659726,
          -1.7123933256785906,
          -2.1889439995804647,
          -2.580696051914843,
          -2.887352322659862,
          -3.1586594697065036,
          -3.4354201481609947,
          -3.6585835600983674,
          -3.8409835279095152,
          -4.037792286023911,
          -4.186934062734096,
          -4.298901073080233,
          -4.356961697531353,
          -4.394145767149336,
          -4.412282802476496,
          -4.366654796290596,
          -4.396255918699014
         ],
         "yaxis": "y"
        }
       ],
       "layout": {
        "legend": {
         "tracegroupgap": 0
        },
        "margin": {
         "t": 60
        },
        "template": {
         "data": {
          "bar": [
           {
            "error_x": {
             "color": "#2a3f5f"
            },
            "error_y": {
             "color": "#2a3f5f"
            },
            "marker": {
             "line": {
              "color": "#E5ECF6",
              "width": 0.5
             },
             "pattern": {
              "fillmode": "overlay",
              "size": 10,
              "solidity": 0.2
             }
            },
            "type": "bar"
           }
          ],
          "barpolar": [
           {
            "marker": {
             "line": {
              "color": "#E5ECF6",
              "width": 0.5
             },
             "pattern": {
              "fillmode": "overlay",
              "size": 10,
              "solidity": 0.2
             }
            },
            "type": "barpolar"
           }
          ],
          "carpet": [
           {
            "aaxis": {
             "endlinecolor": "#2a3f5f",
             "gridcolor": "white",
             "linecolor": "white",
             "minorgridcolor": "white",
             "startlinecolor": "#2a3f5f"
            },
            "baxis": {
             "endlinecolor": "#2a3f5f",
             "gridcolor": "white",
             "linecolor": "white",
             "minorgridcolor": "white",
             "startlinecolor": "#2a3f5f"
            },
            "type": "carpet"
           }
          ],
          "choropleth": [
           {
            "colorbar": {
             "outlinewidth": 0,
             "ticks": ""
            },
            "type": "choropleth"
           }
          ],
          "contour": [
           {
            "colorbar": {
             "outlinewidth": 0,
             "ticks": ""
            },
            "colorscale": [
             [
              0,
              "#0d0887"
             ],
             [
              0.1111111111111111,
              "#46039f"
             ],
             [
              0.2222222222222222,
              "#7201a8"
             ],
             [
              0.3333333333333333,
              "#9c179e"
             ],
             [
              0.4444444444444444,
              "#bd3786"
             ],
             [
              0.5555555555555556,
              "#d8576b"
             ],
             [
              0.6666666666666666,
              "#ed7953"
             ],
             [
              0.7777777777777778,
              "#fb9f3a"
             ],
             [
              0.8888888888888888,
              "#fdca26"
             ],
             [
              1,
              "#f0f921"
             ]
            ],
            "type": "contour"
           }
          ],
          "contourcarpet": [
           {
            "colorbar": {
             "outlinewidth": 0,
             "ticks": ""
            },
            "type": "contourcarpet"
           }
          ],
          "heatmap": [
           {
            "colorbar": {
             "outlinewidth": 0,
             "ticks": ""
            },
            "colorscale": [
             [
              0,
              "#0d0887"
             ],
             [
              0.1111111111111111,
              "#46039f"
             ],
             [
              0.2222222222222222,
              "#7201a8"
             ],
             [
              0.3333333333333333,
              "#9c179e"
             ],
             [
              0.4444444444444444,
              "#bd3786"
             ],
             [
              0.5555555555555556,
              "#d8576b"
             ],
             [
              0.6666666666666666,
              "#ed7953"
             ],
             [
              0.7777777777777778,
              "#fb9f3a"
             ],
             [
              0.8888888888888888,
              "#fdca26"
             ],
             [
              1,
              "#f0f921"
             ]
            ],
            "type": "heatmap"
           }
          ],
          "heatmapgl": [
           {
            "colorbar": {
             "outlinewidth": 0,
             "ticks": ""
            },
            "colorscale": [
             [
              0,
              "#0d0887"
             ],
             [
              0.1111111111111111,
              "#46039f"
             ],
             [
              0.2222222222222222,
              "#7201a8"
             ],
             [
              0.3333333333333333,
              "#9c179e"
             ],
             [
              0.4444444444444444,
              "#bd3786"
             ],
             [
              0.5555555555555556,
              "#d8576b"
             ],
             [
              0.6666666666666666,
              "#ed7953"
             ],
             [
              0.7777777777777778,
              "#fb9f3a"
             ],
             [
              0.8888888888888888,
              "#fdca26"
             ],
             [
              1,
              "#f0f921"
             ]
            ],
            "type": "heatmapgl"
           }
          ],
          "histogram": [
           {
            "marker": {
             "pattern": {
              "fillmode": "overlay",
              "size": 10,
              "solidity": 0.2
             }
            },
            "type": "histogram"
           }
          ],
          "histogram2d": [
           {
            "colorbar": {
             "outlinewidth": 0,
             "ticks": ""
            },
            "colorscale": [
             [
              0,
              "#0d0887"
             ],
             [
              0.1111111111111111,
              "#46039f"
             ],
             [
              0.2222222222222222,
              "#7201a8"
             ],
             [
              0.3333333333333333,
              "#9c179e"
             ],
             [
              0.4444444444444444,
              "#bd3786"
             ],
             [
              0.5555555555555556,
              "#d8576b"
             ],
             [
              0.6666666666666666,
              "#ed7953"
             ],
             [
              0.7777777777777778,
              "#fb9f3a"
             ],
             [
              0.8888888888888888,
              "#fdca26"
             ],
             [
              1,
              "#f0f921"
             ]
            ],
            "type": "histogram2d"
           }
          ],
          "histogram2dcontour": [
           {
            "colorbar": {
             "outlinewidth": 0,
             "ticks": ""
            },
            "colorscale": [
             [
              0,
              "#0d0887"
             ],
             [
              0.1111111111111111,
              "#46039f"
             ],
             [
              0.2222222222222222,
              "#7201a8"
             ],
             [
              0.3333333333333333,
              "#9c179e"
             ],
             [
              0.4444444444444444,
              "#bd3786"
             ],
             [
              0.5555555555555556,
              "#d8576b"
             ],
             [
              0.6666666666666666,
              "#ed7953"
             ],
             [
              0.7777777777777778,
              "#fb9f3a"
             ],
             [
              0.8888888888888888,
              "#fdca26"
             ],
             [
              1,
              "#f0f921"
             ]
            ],
            "type": "histogram2dcontour"
           }
          ],
          "mesh3d": [
           {
            "colorbar": {
             "outlinewidth": 0,
             "ticks": ""
            },
            "type": "mesh3d"
           }
          ],
          "parcoords": [
           {
            "line": {
             "colorbar": {
              "outlinewidth": 0,
              "ticks": ""
             }
            },
            "type": "parcoords"
           }
          ],
          "pie": [
           {
            "automargin": true,
            "type": "pie"
           }
          ],
          "scatter": [
           {
            "fillpattern": {
             "fillmode": "overlay",
             "size": 10,
             "solidity": 0.2
            },
            "type": "scatter"
           }
          ],
          "scatter3d": [
           {
            "line": {
             "colorbar": {
              "outlinewidth": 0,
              "ticks": ""
             }
            },
            "marker": {
             "colorbar": {
              "outlinewidth": 0,
              "ticks": ""
             }
            },
            "type": "scatter3d"
           }
          ],
          "scattercarpet": [
           {
            "marker": {
             "colorbar": {
              "outlinewidth": 0,
              "ticks": ""
             }
            },
            "type": "scattercarpet"
           }
          ],
          "scattergeo": [
           {
            "marker": {
             "colorbar": {
              "outlinewidth": 0,
              "ticks": ""
             }
            },
            "type": "scattergeo"
           }
          ],
          "scattergl": [
           {
            "marker": {
             "colorbar": {
              "outlinewidth": 0,
              "ticks": ""
             }
            },
            "type": "scattergl"
           }
          ],
          "scattermapbox": [
           {
            "marker": {
             "colorbar": {
              "outlinewidth": 0,
              "ticks": ""
             }
            },
            "type": "scattermapbox"
           }
          ],
          "scatterpolar": [
           {
            "marker": {
             "colorbar": {
              "outlinewidth": 0,
              "ticks": ""
             }
            },
            "type": "scatterpolar"
           }
          ],
          "scatterpolargl": [
           {
            "marker": {
             "colorbar": {
              "outlinewidth": 0,
              "ticks": ""
             }
            },
            "type": "scatterpolargl"
           }
          ],
          "scatterternary": [
           {
            "marker": {
             "colorbar": {
              "outlinewidth": 0,
              "ticks": ""
             }
            },
            "type": "scatterternary"
           }
          ],
          "surface": [
           {
            "colorbar": {
             "outlinewidth": 0,
             "ticks": ""
            },
            "colorscale": [
             [
              0,
              "#0d0887"
             ],
             [
              0.1111111111111111,
              "#46039f"
             ],
             [
              0.2222222222222222,
              "#7201a8"
             ],
             [
              0.3333333333333333,
              "#9c179e"
             ],
             [
              0.4444444444444444,
              "#bd3786"
             ],
             [
              0.5555555555555556,
              "#d8576b"
             ],
             [
              0.6666666666666666,
              "#ed7953"
             ],
             [
              0.7777777777777778,
              "#fb9f3a"
             ],
             [
              0.8888888888888888,
              "#fdca26"
             ],
             [
              1,
              "#f0f921"
             ]
            ],
            "type": "surface"
           }
          ],
          "table": [
           {
            "cells": {
             "fill": {
              "color": "#EBF0F8"
             },
             "line": {
              "color": "white"
             }
            },
            "header": {
             "fill": {
              "color": "#C8D4E3"
             },
             "line": {
              "color": "white"
             }
            },
            "type": "table"
           }
          ]
         },
         "layout": {
          "annotationdefaults": {
           "arrowcolor": "#2a3f5f",
           "arrowhead": 0,
           "arrowwidth": 1
          },
          "autotypenumbers": "strict",
          "coloraxis": {
           "colorbar": {
            "outlinewidth": 0,
            "ticks": ""
           }
          },
          "colorscale": {
           "diverging": [
            [
             0,
             "#8e0152"
            ],
            [
             0.1,
             "#c51b7d"
            ],
            [
             0.2,
             "#de77ae"
            ],
            [
             0.3,
             "#f1b6da"
            ],
            [
             0.4,
             "#fde0ef"
            ],
            [
             0.5,
             "#f7f7f7"
            ],
            [
             0.6,
             "#e6f5d0"
            ],
            [
             0.7,
             "#b8e186"
            ],
            [
             0.8,
             "#7fbc41"
            ],
            [
             0.9,
             "#4d9221"
            ],
            [
             1,
             "#276419"
            ]
           ],
           "sequential": [
            [
             0,
             "#0d0887"
            ],
            [
             0.1111111111111111,
             "#46039f"
            ],
            [
             0.2222222222222222,
             "#7201a8"
            ],
            [
             0.3333333333333333,
             "#9c179e"
            ],
            [
             0.4444444444444444,
             "#bd3786"
            ],
            [
             0.5555555555555556,
             "#d8576b"
            ],
            [
             0.6666666666666666,
             "#ed7953"
            ],
            [
             0.7777777777777778,
             "#fb9f3a"
            ],
            [
             0.8888888888888888,
             "#fdca26"
            ],
            [
             1,
             "#f0f921"
            ]
           ],
           "sequentialminus": [
            [
             0,
             "#0d0887"
            ],
            [
             0.1111111111111111,
             "#46039f"
            ],
            [
             0.2222222222222222,
             "#7201a8"
            ],
            [
             0.3333333333333333,
             "#9c179e"
            ],
            [
             0.4444444444444444,
             "#bd3786"
            ],
            [
             0.5555555555555556,
             "#d8576b"
            ],
            [
             0.6666666666666666,
             "#ed7953"
            ],
            [
             0.7777777777777778,
             "#fb9f3a"
            ],
            [
             0.8888888888888888,
             "#fdca26"
            ],
            [
             1,
             "#f0f921"
            ]
           ]
          },
          "colorway": [
           "#636efa",
           "#EF553B",
           "#00cc96",
           "#ab63fa",
           "#FFA15A",
           "#19d3f3",
           "#FF6692",
           "#B6E880",
           "#FF97FF",
           "#FECB52"
          ],
          "font": {
           "color": "#2a3f5f"
          },
          "geo": {
           "bgcolor": "white",
           "lakecolor": "white",
           "landcolor": "#E5ECF6",
           "showlakes": true,
           "showland": true,
           "subunitcolor": "white"
          },
          "hoverlabel": {
           "align": "left"
          },
          "hovermode": "closest",
          "mapbox": {
           "style": "light"
          },
          "paper_bgcolor": "white",
          "plot_bgcolor": "#E5ECF6",
          "polar": {
           "angularaxis": {
            "gridcolor": "white",
            "linecolor": "white",
            "ticks": ""
           },
           "bgcolor": "#E5ECF6",
           "radialaxis": {
            "gridcolor": "white",
            "linecolor": "white",
            "ticks": ""
           }
          },
          "scene": {
           "xaxis": {
            "backgroundcolor": "#E5ECF6",
            "gridcolor": "white",
            "gridwidth": 2,
            "linecolor": "white",
            "showbackground": true,
            "ticks": "",
            "zerolinecolor": "white"
           },
           "yaxis": {
            "backgroundcolor": "#E5ECF6",
            "gridcolor": "white",
            "gridwidth": 2,
            "linecolor": "white",
            "showbackground": true,
            "ticks": "",
            "zerolinecolor": "white"
           },
           "zaxis": {
            "backgroundcolor": "#E5ECF6",
            "gridcolor": "white",
            "gridwidth": 2,
            "linecolor": "white",
            "showbackground": true,
            "ticks": "",
            "zerolinecolor": "white"
           }
          },
          "shapedefaults": {
           "line": {
            "color": "#2a3f5f"
           }
          },
          "ternary": {
           "aaxis": {
            "gridcolor": "white",
            "linecolor": "white",
            "ticks": ""
           },
           "baxis": {
            "gridcolor": "white",
            "linecolor": "white",
            "ticks": ""
           },
           "bgcolor": "#E5ECF6",
           "caxis": {
            "gridcolor": "white",
            "linecolor": "white",
            "ticks": ""
           }
          },
          "title": {
           "x": 0.05
          },
          "xaxis": {
           "automargin": true,
           "gridcolor": "white",
           "linecolor": "white",
           "ticks": "",
           "title": {
            "standoff": 15
           },
           "zerolinecolor": "white",
           "zerolinewidth": 2
          },
          "yaxis": {
           "automargin": true,
           "gridcolor": "white",
           "linecolor": "white",
           "ticks": "",
           "title": {
            "standoff": 15
           },
           "zerolinecolor": "white",
           "zerolinewidth": 2
          }
         }
        },
        "title": {
         "text": "Cumulative dev parameters"
        },
        "xaxis": {
         "anchor": "y",
         "domain": [
          0,
          1
         ],
         "title": {
          "text": "Parameter"
         }
        },
        "yaxis": {
         "anchor": "x",
         "domain": [
          0,
          1
         ],
         "title": {
          "text": "Cumulative Parameter Value"
         }
        }
       }
      }
     },
     "metadata": {},
     "output_type": "display_data"
    }
   ],
   "source": [
    "# does not include dev_period_0012 - first development period is assumed to be included in the first accident period parameter\n",
    "r.tweedie.PlotParameter('dev')"
   ]
  },
  {
   "cell_type": "code",
   "execution_count": null,
   "metadata": {},
   "outputs": [
    {
     "data": {
      "text/plain": [
       "Accident Period\n",
       "2003-01-01    188192.0\n",
       "2004-01-01    202054.0\n",
       "2005-01-01    206675.0\n",
       "2006-01-01    220251.0\n",
       "2007-01-01    218047.0\n",
       "2008-01-01    220815.0\n",
       "2009-01-01    194559.0\n",
       "2010-01-01    197987.0\n",
       "2011-01-01    189398.0\n",
       "2012-01-01    177856.0\n",
       "2013-01-01    205376.0\n",
       "2014-01-01    174046.0\n",
       "2015-01-01    156715.0\n",
       "2016-01-01    149903.0\n",
       "2017-01-01    144159.0\n",
       "2018-01-01    155556.0\n",
       "2019-01-01    140621.0\n",
       "2020-01-01    121600.0\n",
       "2021-01-01    125190.0\n",
       "2022-01-01    123733.0\n",
       "Name: GLM Ultimate, dtype: float64"
      ]
     },
     "execution_count": 25,
     "metadata": {},
     "output_type": "execute_result"
    }
   ],
   "source": [
    "r.tweedie.Ultimate()"
   ]
  },
  {
   "cell_type": "code",
   "execution_count": null,
   "metadata": {},
   "outputs": [],
   "source": [
    "# final 2 accident years don't change much from 2020 - can set parameters for these years to be 0 (for no change)\n",
    "r.tweedie.ManualFit(\n",
    "  accident_period_2021=0, accident_period_2022=0,\n",
    "  accident_period_2005=0,\n",
    "  accident_period_2013=0,\n",
    "  accident_period_2016=0,\n",
    "  accident_period_2018=0\n",
    "  )"
   ]
  },
  {
   "cell_type": "code",
   "execution_count": null,
   "metadata": {},
   "outputs": [
    {
     "data": {
      "application/vnd.plotly.v1+json": {
       "config": {
        "plotlyServerURL": "https://plot.ly"
       },
       "data": [
        {
         "customdata": [
          [
           0.06187166849756018
          ],
          [
           0
          ],
          [
           0.1002907870568744
          ],
          [
           -0.044521997566470926
          ],
          [
           -0.04905830863378976
          ],
          [
           -0.0956026085740838
          ],
          [
           -0.04188147644647586
          ],
          [
           -0.061655851783386784
          ],
          [
           -0.04898029383323712
          ],
          [
           0
          ],
          [
           -0.03989063802961401
          ],
          [
           -0.08044537273147911
          ],
          [
           0
          ],
          [
           -0.06230230337072371
          ],
          [
           0
          ],
          [
           -0.0228057332827539
          ],
          [
           -0.043755595314443334
          ],
          [
           0
          ],
          [
           0
          ]
         ],
         "hovertemplate": "parameter=%{x}<br>cumsum=%{y}<br>value=%{customdata[0]}<extra></extra>",
         "legendgroup": "",
         "line": {
          "color": "#636efa",
          "dash": "solid"
         },
         "marker": {
          "symbol": "circle"
         },
         "mode": "lines",
         "name": "",
         "orientation": "v",
         "showlegend": false,
         "type": "scatter",
         "x": [
          "accident_period_2004",
          "accident_period_2005",
          "accident_period_2006",
          "accident_period_2007",
          "accident_period_2008",
          "accident_period_2009",
          "accident_period_2010",
          "accident_period_2011",
          "accident_period_2012",
          "accident_period_2013",
          "accident_period_2014",
          "accident_period_2015",
          "accident_period_2016",
          "accident_period_2017",
          "accident_period_2018",
          "accident_period_2019",
          "accident_period_2020",
          "accident_period_2021",
          "accident_period_2022"
         ],
         "xaxis": "x",
         "y": [
          0.06187166849756018,
          0.06187166849756018,
          0.1621624555544346,
          0.11764045798796366,
          0.0685821493541739,
          -0.027020459219909906,
          -0.06890193566638576,
          -0.13055778744977253,
          -0.17953808128300966,
          -0.17953808128300966,
          -0.21942871931262367,
          -0.29987409204410276,
          -0.29987409204410276,
          -0.3621763954148265,
          -0.3621763954148265,
          -0.3849821286975804,
          -0.4287377240120237,
          -0.4287377240120237,
          -0.4287377240120237
         ],
         "yaxis": "y"
        }
       ],
       "layout": {
        "legend": {
         "tracegroupgap": 0
        },
        "margin": {
         "t": 60
        },
        "template": {
         "data": {
          "bar": [
           {
            "error_x": {
             "color": "#2a3f5f"
            },
            "error_y": {
             "color": "#2a3f5f"
            },
            "marker": {
             "line": {
              "color": "#E5ECF6",
              "width": 0.5
             },
             "pattern": {
              "fillmode": "overlay",
              "size": 10,
              "solidity": 0.2
             }
            },
            "type": "bar"
           }
          ],
          "barpolar": [
           {
            "marker": {
             "line": {
              "color": "#E5ECF6",
              "width": 0.5
             },
             "pattern": {
              "fillmode": "overlay",
              "size": 10,
              "solidity": 0.2
             }
            },
            "type": "barpolar"
           }
          ],
          "carpet": [
           {
            "aaxis": {
             "endlinecolor": "#2a3f5f",
             "gridcolor": "white",
             "linecolor": "white",
             "minorgridcolor": "white",
             "startlinecolor": "#2a3f5f"
            },
            "baxis": {
             "endlinecolor": "#2a3f5f",
             "gridcolor": "white",
             "linecolor": "white",
             "minorgridcolor": "white",
             "startlinecolor": "#2a3f5f"
            },
            "type": "carpet"
           }
          ],
          "choropleth": [
           {
            "colorbar": {
             "outlinewidth": 0,
             "ticks": ""
            },
            "type": "choropleth"
           }
          ],
          "contour": [
           {
            "colorbar": {
             "outlinewidth": 0,
             "ticks": ""
            },
            "colorscale": [
             [
              0,
              "#0d0887"
             ],
             [
              0.1111111111111111,
              "#46039f"
             ],
             [
              0.2222222222222222,
              "#7201a8"
             ],
             [
              0.3333333333333333,
              "#9c179e"
             ],
             [
              0.4444444444444444,
              "#bd3786"
             ],
             [
              0.5555555555555556,
              "#d8576b"
             ],
             [
              0.6666666666666666,
              "#ed7953"
             ],
             [
              0.7777777777777778,
              "#fb9f3a"
             ],
             [
              0.8888888888888888,
              "#fdca26"
             ],
             [
              1,
              "#f0f921"
             ]
            ],
            "type": "contour"
           }
          ],
          "contourcarpet": [
           {
            "colorbar": {
             "outlinewidth": 0,
             "ticks": ""
            },
            "type": "contourcarpet"
           }
          ],
          "heatmap": [
           {
            "colorbar": {
             "outlinewidth": 0,
             "ticks": ""
            },
            "colorscale": [
             [
              0,
              "#0d0887"
             ],
             [
              0.1111111111111111,
              "#46039f"
             ],
             [
              0.2222222222222222,
              "#7201a8"
             ],
             [
              0.3333333333333333,
              "#9c179e"
             ],
             [
              0.4444444444444444,
              "#bd3786"
             ],
             [
              0.5555555555555556,
              "#d8576b"
             ],
             [
              0.6666666666666666,
              "#ed7953"
             ],
             [
              0.7777777777777778,
              "#fb9f3a"
             ],
             [
              0.8888888888888888,
              "#fdca26"
             ],
             [
              1,
              "#f0f921"
             ]
            ],
            "type": "heatmap"
           }
          ],
          "heatmapgl": [
           {
            "colorbar": {
             "outlinewidth": 0,
             "ticks": ""
            },
            "colorscale": [
             [
              0,
              "#0d0887"
             ],
             [
              0.1111111111111111,
              "#46039f"
             ],
             [
              0.2222222222222222,
              "#7201a8"
             ],
             [
              0.3333333333333333,
              "#9c179e"
             ],
             [
              0.4444444444444444,
              "#bd3786"
             ],
             [
              0.5555555555555556,
              "#d8576b"
             ],
             [
              0.6666666666666666,
              "#ed7953"
             ],
             [
              0.7777777777777778,
              "#fb9f3a"
             ],
             [
              0.8888888888888888,
              "#fdca26"
             ],
             [
              1,
              "#f0f921"
             ]
            ],
            "type": "heatmapgl"
           }
          ],
          "histogram": [
           {
            "marker": {
             "pattern": {
              "fillmode": "overlay",
              "size": 10,
              "solidity": 0.2
             }
            },
            "type": "histogram"
           }
          ],
          "histogram2d": [
           {
            "colorbar": {
             "outlinewidth": 0,
             "ticks": ""
            },
            "colorscale": [
             [
              0,
              "#0d0887"
             ],
             [
              0.1111111111111111,
              "#46039f"
             ],
             [
              0.2222222222222222,
              "#7201a8"
             ],
             [
              0.3333333333333333,
              "#9c179e"
             ],
             [
              0.4444444444444444,
              "#bd3786"
             ],
             [
              0.5555555555555556,
              "#d8576b"
             ],
             [
              0.6666666666666666,
              "#ed7953"
             ],
             [
              0.7777777777777778,
              "#fb9f3a"
             ],
             [
              0.8888888888888888,
              "#fdca26"
             ],
             [
              1,
              "#f0f921"
             ]
            ],
            "type": "histogram2d"
           }
          ],
          "histogram2dcontour": [
           {
            "colorbar": {
             "outlinewidth": 0,
             "ticks": ""
            },
            "colorscale": [
             [
              0,
              "#0d0887"
             ],
             [
              0.1111111111111111,
              "#46039f"
             ],
             [
              0.2222222222222222,
              "#7201a8"
             ],
             [
              0.3333333333333333,
              "#9c179e"
             ],
             [
              0.4444444444444444,
              "#bd3786"
             ],
             [
              0.5555555555555556,
              "#d8576b"
             ],
             [
              0.6666666666666666,
              "#ed7953"
             ],
             [
              0.7777777777777778,
              "#fb9f3a"
             ],
             [
              0.8888888888888888,
              "#fdca26"
             ],
             [
              1,
              "#f0f921"
             ]
            ],
            "type": "histogram2dcontour"
           }
          ],
          "mesh3d": [
           {
            "colorbar": {
             "outlinewidth": 0,
             "ticks": ""
            },
            "type": "mesh3d"
           }
          ],
          "parcoords": [
           {
            "line": {
             "colorbar": {
              "outlinewidth": 0,
              "ticks": ""
             }
            },
            "type": "parcoords"
           }
          ],
          "pie": [
           {
            "automargin": true,
            "type": "pie"
           }
          ],
          "scatter": [
           {
            "fillpattern": {
             "fillmode": "overlay",
             "size": 10,
             "solidity": 0.2
            },
            "type": "scatter"
           }
          ],
          "scatter3d": [
           {
            "line": {
             "colorbar": {
              "outlinewidth": 0,
              "ticks": ""
             }
            },
            "marker": {
             "colorbar": {
              "outlinewidth": 0,
              "ticks": ""
             }
            },
            "type": "scatter3d"
           }
          ],
          "scattercarpet": [
           {
            "marker": {
             "colorbar": {
              "outlinewidth": 0,
              "ticks": ""
             }
            },
            "type": "scattercarpet"
           }
          ],
          "scattergeo": [
           {
            "marker": {
             "colorbar": {
              "outlinewidth": 0,
              "ticks": ""
             }
            },
            "type": "scattergeo"
           }
          ],
          "scattergl": [
           {
            "marker": {
             "colorbar": {
              "outlinewidth": 0,
              "ticks": ""
             }
            },
            "type": "scattergl"
           }
          ],
          "scattermapbox": [
           {
            "marker": {
             "colorbar": {
              "outlinewidth": 0,
              "ticks": ""
             }
            },
            "type": "scattermapbox"
           }
          ],
          "scatterpolar": [
           {
            "marker": {
             "colorbar": {
              "outlinewidth": 0,
              "ticks": ""
             }
            },
            "type": "scatterpolar"
           }
          ],
          "scatterpolargl": [
           {
            "marker": {
             "colorbar": {
              "outlinewidth": 0,
              "ticks": ""
             }
            },
            "type": "scatterpolargl"
           }
          ],
          "scatterternary": [
           {
            "marker": {
             "colorbar": {
              "outlinewidth": 0,
              "ticks": ""
             }
            },
            "type": "scatterternary"
           }
          ],
          "surface": [
           {
            "colorbar": {
             "outlinewidth": 0,
             "ticks": ""
            },
            "colorscale": [
             [
              0,
              "#0d0887"
             ],
             [
              0.1111111111111111,
              "#46039f"
             ],
             [
              0.2222222222222222,
              "#7201a8"
             ],
             [
              0.3333333333333333,
              "#9c179e"
             ],
             [
              0.4444444444444444,
              "#bd3786"
             ],
             [
              0.5555555555555556,
              "#d8576b"
             ],
             [
              0.6666666666666666,
              "#ed7953"
             ],
             [
              0.7777777777777778,
              "#fb9f3a"
             ],
             [
              0.8888888888888888,
              "#fdca26"
             ],
             [
              1,
              "#f0f921"
             ]
            ],
            "type": "surface"
           }
          ],
          "table": [
           {
            "cells": {
             "fill": {
              "color": "#EBF0F8"
             },
             "line": {
              "color": "white"
             }
            },
            "header": {
             "fill": {
              "color": "#C8D4E3"
             },
             "line": {
              "color": "white"
             }
            },
            "type": "table"
           }
          ]
         },
         "layout": {
          "annotationdefaults": {
           "arrowcolor": "#2a3f5f",
           "arrowhead": 0,
           "arrowwidth": 1
          },
          "autotypenumbers": "strict",
          "coloraxis": {
           "colorbar": {
            "outlinewidth": 0,
            "ticks": ""
           }
          },
          "colorscale": {
           "diverging": [
            [
             0,
             "#8e0152"
            ],
            [
             0.1,
             "#c51b7d"
            ],
            [
             0.2,
             "#de77ae"
            ],
            [
             0.3,
             "#f1b6da"
            ],
            [
             0.4,
             "#fde0ef"
            ],
            [
             0.5,
             "#f7f7f7"
            ],
            [
             0.6,
             "#e6f5d0"
            ],
            [
             0.7,
             "#b8e186"
            ],
            [
             0.8,
             "#7fbc41"
            ],
            [
             0.9,
             "#4d9221"
            ],
            [
             1,
             "#276419"
            ]
           ],
           "sequential": [
            [
             0,
             "#0d0887"
            ],
            [
             0.1111111111111111,
             "#46039f"
            ],
            [
             0.2222222222222222,
             "#7201a8"
            ],
            [
             0.3333333333333333,
             "#9c179e"
            ],
            [
             0.4444444444444444,
             "#bd3786"
            ],
            [
             0.5555555555555556,
             "#d8576b"
            ],
            [
             0.6666666666666666,
             "#ed7953"
            ],
            [
             0.7777777777777778,
             "#fb9f3a"
            ],
            [
             0.8888888888888888,
             "#fdca26"
            ],
            [
             1,
             "#f0f921"
            ]
           ],
           "sequentialminus": [
            [
             0,
             "#0d0887"
            ],
            [
             0.1111111111111111,
             "#46039f"
            ],
            [
             0.2222222222222222,
             "#7201a8"
            ],
            [
             0.3333333333333333,
             "#9c179e"
            ],
            [
             0.4444444444444444,
             "#bd3786"
            ],
            [
             0.5555555555555556,
             "#d8576b"
            ],
            [
             0.6666666666666666,
             "#ed7953"
            ],
            [
             0.7777777777777778,
             "#fb9f3a"
            ],
            [
             0.8888888888888888,
             "#fdca26"
            ],
            [
             1,
             "#f0f921"
            ]
           ]
          },
          "colorway": [
           "#636efa",
           "#EF553B",
           "#00cc96",
           "#ab63fa",
           "#FFA15A",
           "#19d3f3",
           "#FF6692",
           "#B6E880",
           "#FF97FF",
           "#FECB52"
          ],
          "font": {
           "color": "#2a3f5f"
          },
          "geo": {
           "bgcolor": "white",
           "lakecolor": "white",
           "landcolor": "#E5ECF6",
           "showlakes": true,
           "showland": true,
           "subunitcolor": "white"
          },
          "hoverlabel": {
           "align": "left"
          },
          "hovermode": "closest",
          "mapbox": {
           "style": "light"
          },
          "paper_bgcolor": "white",
          "plot_bgcolor": "#E5ECF6",
          "polar": {
           "angularaxis": {
            "gridcolor": "white",
            "linecolor": "white",
            "ticks": ""
           },
           "bgcolor": "#E5ECF6",
           "radialaxis": {
            "gridcolor": "white",
            "linecolor": "white",
            "ticks": ""
           }
          },
          "scene": {
           "xaxis": {
            "backgroundcolor": "#E5ECF6",
            "gridcolor": "white",
            "gridwidth": 2,
            "linecolor": "white",
            "showbackground": true,
            "ticks": "",
            "zerolinecolor": "white"
           },
           "yaxis": {
            "backgroundcolor": "#E5ECF6",
            "gridcolor": "white",
            "gridwidth": 2,
            "linecolor": "white",
            "showbackground": true,
            "ticks": "",
            "zerolinecolor": "white"
           },
           "zaxis": {
            "backgroundcolor": "#E5ECF6",
            "gridcolor": "white",
            "gridwidth": 2,
            "linecolor": "white",
            "showbackground": true,
            "ticks": "",
            "zerolinecolor": "white"
           }
          },
          "shapedefaults": {
           "line": {
            "color": "#2a3f5f"
           }
          },
          "ternary": {
           "aaxis": {
            "gridcolor": "white",
            "linecolor": "white",
            "ticks": ""
           },
           "baxis": {
            "gridcolor": "white",
            "linecolor": "white",
            "ticks": ""
           },
           "bgcolor": "#E5ECF6",
           "caxis": {
            "gridcolor": "white",
            "linecolor": "white",
            "ticks": ""
           }
          },
          "title": {
           "x": 0.05
          },
          "xaxis": {
           "automargin": true,
           "gridcolor": "white",
           "linecolor": "white",
           "ticks": "",
           "title": {
            "standoff": 15
           },
           "zerolinecolor": "white",
           "zerolinewidth": 2
          },
          "yaxis": {
           "automargin": true,
           "gridcolor": "white",
           "linecolor": "white",
           "ticks": "",
           "title": {
            "standoff": 15
           },
           "zerolinecolor": "white",
           "zerolinewidth": 2
          }
         }
        },
        "title": {
         "text": "Cumulative acc parameters"
        },
        "xaxis": {
         "anchor": "y",
         "domain": [
          0,
          1
         ],
         "title": {
          "text": "Parameter"
         }
        },
        "yaxis": {
         "anchor": "x",
         "domain": [
          0,
          1
         ],
         "title": {
          "text": "Cumulative Parameter Value"
         }
        }
       }
      }
     },
     "metadata": {},
     "output_type": "display_data"
    }
   ],
   "source": [
    "r.tweedie.PlotParameter('acc')"
   ]
  },
  {
   "cell_type": "code",
   "execution_count": null,
   "metadata": {},
   "outputs": [
    {
     "data": {
      "text/plain": [
       "Accident Period\n",
       "2003-01-01    188348.0\n",
       "2004-01-01    202204.0\n",
       "2005-01-01    206818.0\n",
       "2006-01-01    220393.0\n",
       "2007-01-01    218216.0\n",
       "2008-01-01    220906.0\n",
       "2009-01-01    194614.0\n",
       "2010-01-01    198046.0\n",
       "2011-01-01    189464.0\n",
       "2012-01-01    177940.0\n",
       "2013-01-01    206266.0\n",
       "2014-01-01    174464.0\n",
       "2015-01-01    157229.0\n",
       "2016-01-01    150188.0\n",
       "2017-01-01    144478.0\n",
       "2018-01-01    155888.0\n",
       "2019-01-01    140811.0\n",
       "2020-01-01    121795.0\n",
       "2021-01-01    125355.0\n",
       "2022-01-01    123971.0\n",
       "Name: GLM Ultimate, dtype: float64"
      ]
     },
     "execution_count": 28,
     "metadata": {},
     "output_type": "execute_result"
    }
   ],
   "source": [
    "r.tweedie.Ultimate()"
   ]
  },
  {
   "cell_type": "code",
   "execution_count": null,
   "metadata": {},
   "outputs": [],
   "source": [
    "## TODO\n",
    "# - add a method to do a future calendar year projection\n",
    "# - add a method to combine parameters into a single parameter for each year"
   ]
  },
  {
   "cell_type": "code",
   "execution_count": null,
   "metadata": {},
   "outputs": [
    {
     "name": "stdout",
     "output_type": "stream",
     "text": [
      "rocky(id='rocky1', mod=(\"tweedie\", \"tweediecal\"), f=(), plot=(), t=\"paid_loss\", rockylog=None)\n"
     ]
    }
   ],
   "source": [
    "# add a second glm model that includes calendar year effects\n",
    "r.AddModel('tweediecal', 'glm', 'paid_loss', cal=True)\n",
    "print(r)"
   ]
  },
  {
   "cell_type": "code",
   "execution_count": null,
   "metadata": {},
   "outputs": [
    {
     "data": {
      "text/html": [
       "<div>\n",
       "<style scoped>\n",
       "    .dataframe tbody tr th:only-of-type {\n",
       "        vertical-align: middle;\n",
       "    }\n",
       "\n",
       "    .dataframe tbody tr th {\n",
       "        vertical-align: top;\n",
       "    }\n",
       "\n",
       "    .dataframe thead th {\n",
       "        text-align: right;\n",
       "    }\n",
       "</style>\n",
       "<table border=\"1\" class=\"dataframe\">\n",
       "  <thead>\n",
       "    <tr style=\"text-align: right;\">\n",
       "      <th></th>\n",
       "      <th>intercept</th>\n",
       "      <th>accident_period_2004</th>\n",
       "      <th>accident_period_2005</th>\n",
       "      <th>accident_period_2006</th>\n",
       "      <th>accident_period_2007</th>\n",
       "      <th>accident_period_2008</th>\n",
       "      <th>accident_period_2009</th>\n",
       "      <th>accident_period_2010</th>\n",
       "      <th>accident_period_2011</th>\n",
       "      <th>accident_period_2012</th>\n",
       "      <th>...</th>\n",
       "      <th>calendar_period_0030</th>\n",
       "      <th>calendar_period_0031</th>\n",
       "      <th>calendar_period_0032</th>\n",
       "      <th>calendar_period_0033</th>\n",
       "      <th>calendar_period_0034</th>\n",
       "      <th>calendar_period_0035</th>\n",
       "      <th>calendar_period_0036</th>\n",
       "      <th>calendar_period_0037</th>\n",
       "      <th>calendar_period_0038</th>\n",
       "      <th>calendar_period_0039</th>\n",
       "    </tr>\n",
       "  </thead>\n",
       "  <tbody>\n",
       "    <tr>\n",
       "      <th>0</th>\n",
       "      <td>1</td>\n",
       "      <td>0</td>\n",
       "      <td>0</td>\n",
       "      <td>0</td>\n",
       "      <td>0</td>\n",
       "      <td>0</td>\n",
       "      <td>0</td>\n",
       "      <td>0</td>\n",
       "      <td>0</td>\n",
       "      <td>0</td>\n",
       "      <td>...</td>\n",
       "      <td>0</td>\n",
       "      <td>0</td>\n",
       "      <td>0</td>\n",
       "      <td>0</td>\n",
       "      <td>0</td>\n",
       "      <td>0</td>\n",
       "      <td>0</td>\n",
       "      <td>0</td>\n",
       "      <td>0</td>\n",
       "      <td>0</td>\n",
       "    </tr>\n",
       "    <tr>\n",
       "      <th>1</th>\n",
       "      <td>1</td>\n",
       "      <td>1</td>\n",
       "      <td>0</td>\n",
       "      <td>0</td>\n",
       "      <td>0</td>\n",
       "      <td>0</td>\n",
       "      <td>0</td>\n",
       "      <td>0</td>\n",
       "      <td>0</td>\n",
       "      <td>0</td>\n",
       "      <td>...</td>\n",
       "      <td>0</td>\n",
       "      <td>0</td>\n",
       "      <td>0</td>\n",
       "      <td>0</td>\n",
       "      <td>0</td>\n",
       "      <td>0</td>\n",
       "      <td>0</td>\n",
       "      <td>0</td>\n",
       "      <td>0</td>\n",
       "      <td>0</td>\n",
       "    </tr>\n",
       "    <tr>\n",
       "      <th>2</th>\n",
       "      <td>1</td>\n",
       "      <td>1</td>\n",
       "      <td>1</td>\n",
       "      <td>0</td>\n",
       "      <td>0</td>\n",
       "      <td>0</td>\n",
       "      <td>0</td>\n",
       "      <td>0</td>\n",
       "      <td>0</td>\n",
       "      <td>0</td>\n",
       "      <td>...</td>\n",
       "      <td>0</td>\n",
       "      <td>0</td>\n",
       "      <td>0</td>\n",
       "      <td>0</td>\n",
       "      <td>0</td>\n",
       "      <td>0</td>\n",
       "      <td>0</td>\n",
       "      <td>0</td>\n",
       "      <td>0</td>\n",
       "      <td>0</td>\n",
       "    </tr>\n",
       "    <tr>\n",
       "      <th>3</th>\n",
       "      <td>1</td>\n",
       "      <td>1</td>\n",
       "      <td>1</td>\n",
       "      <td>1</td>\n",
       "      <td>0</td>\n",
       "      <td>0</td>\n",
       "      <td>0</td>\n",
       "      <td>0</td>\n",
       "      <td>0</td>\n",
       "      <td>0</td>\n",
       "      <td>...</td>\n",
       "      <td>0</td>\n",
       "      <td>0</td>\n",
       "      <td>0</td>\n",
       "      <td>0</td>\n",
       "      <td>0</td>\n",
       "      <td>0</td>\n",
       "      <td>0</td>\n",
       "      <td>0</td>\n",
       "      <td>0</td>\n",
       "      <td>0</td>\n",
       "    </tr>\n",
       "    <tr>\n",
       "      <th>4</th>\n",
       "      <td>1</td>\n",
       "      <td>1</td>\n",
       "      <td>1</td>\n",
       "      <td>1</td>\n",
       "      <td>1</td>\n",
       "      <td>0</td>\n",
       "      <td>0</td>\n",
       "      <td>0</td>\n",
       "      <td>0</td>\n",
       "      <td>0</td>\n",
       "      <td>...</td>\n",
       "      <td>0</td>\n",
       "      <td>0</td>\n",
       "      <td>0</td>\n",
       "      <td>0</td>\n",
       "      <td>0</td>\n",
       "      <td>0</td>\n",
       "      <td>0</td>\n",
       "      <td>0</td>\n",
       "      <td>0</td>\n",
       "      <td>0</td>\n",
       "    </tr>\n",
       "    <tr>\n",
       "      <th>...</th>\n",
       "      <td>...</td>\n",
       "      <td>...</td>\n",
       "      <td>...</td>\n",
       "      <td>...</td>\n",
       "      <td>...</td>\n",
       "      <td>...</td>\n",
       "      <td>...</td>\n",
       "      <td>...</td>\n",
       "      <td>...</td>\n",
       "      <td>...</td>\n",
       "      <td>...</td>\n",
       "      <td>...</td>\n",
       "      <td>...</td>\n",
       "      <td>...</td>\n",
       "      <td>...</td>\n",
       "      <td>...</td>\n",
       "      <td>...</td>\n",
       "      <td>...</td>\n",
       "      <td>...</td>\n",
       "      <td>...</td>\n",
       "      <td>...</td>\n",
       "    </tr>\n",
       "    <tr>\n",
       "      <th>395</th>\n",
       "      <td>1</td>\n",
       "      <td>1</td>\n",
       "      <td>1</td>\n",
       "      <td>1</td>\n",
       "      <td>1</td>\n",
       "      <td>1</td>\n",
       "      <td>1</td>\n",
       "      <td>1</td>\n",
       "      <td>1</td>\n",
       "      <td>1</td>\n",
       "      <td>...</td>\n",
       "      <td>1</td>\n",
       "      <td>1</td>\n",
       "      <td>1</td>\n",
       "      <td>1</td>\n",
       "      <td>1</td>\n",
       "      <td>1</td>\n",
       "      <td>0</td>\n",
       "      <td>0</td>\n",
       "      <td>0</td>\n",
       "      <td>0</td>\n",
       "    </tr>\n",
       "    <tr>\n",
       "      <th>396</th>\n",
       "      <td>1</td>\n",
       "      <td>1</td>\n",
       "      <td>1</td>\n",
       "      <td>1</td>\n",
       "      <td>1</td>\n",
       "      <td>1</td>\n",
       "      <td>1</td>\n",
       "      <td>1</td>\n",
       "      <td>1</td>\n",
       "      <td>1</td>\n",
       "      <td>...</td>\n",
       "      <td>1</td>\n",
       "      <td>1</td>\n",
       "      <td>1</td>\n",
       "      <td>1</td>\n",
       "      <td>1</td>\n",
       "      <td>1</td>\n",
       "      <td>1</td>\n",
       "      <td>0</td>\n",
       "      <td>0</td>\n",
       "      <td>0</td>\n",
       "    </tr>\n",
       "    <tr>\n",
       "      <th>397</th>\n",
       "      <td>1</td>\n",
       "      <td>1</td>\n",
       "      <td>1</td>\n",
       "      <td>1</td>\n",
       "      <td>1</td>\n",
       "      <td>1</td>\n",
       "      <td>1</td>\n",
       "      <td>1</td>\n",
       "      <td>1</td>\n",
       "      <td>1</td>\n",
       "      <td>...</td>\n",
       "      <td>1</td>\n",
       "      <td>1</td>\n",
       "      <td>1</td>\n",
       "      <td>1</td>\n",
       "      <td>1</td>\n",
       "      <td>1</td>\n",
       "      <td>1</td>\n",
       "      <td>1</td>\n",
       "      <td>0</td>\n",
       "      <td>0</td>\n",
       "    </tr>\n",
       "    <tr>\n",
       "      <th>398</th>\n",
       "      <td>1</td>\n",
       "      <td>1</td>\n",
       "      <td>1</td>\n",
       "      <td>1</td>\n",
       "      <td>1</td>\n",
       "      <td>1</td>\n",
       "      <td>1</td>\n",
       "      <td>1</td>\n",
       "      <td>1</td>\n",
       "      <td>1</td>\n",
       "      <td>...</td>\n",
       "      <td>1</td>\n",
       "      <td>1</td>\n",
       "      <td>1</td>\n",
       "      <td>1</td>\n",
       "      <td>1</td>\n",
       "      <td>1</td>\n",
       "      <td>1</td>\n",
       "      <td>1</td>\n",
       "      <td>1</td>\n",
       "      <td>0</td>\n",
       "    </tr>\n",
       "    <tr>\n",
       "      <th>399</th>\n",
       "      <td>1</td>\n",
       "      <td>1</td>\n",
       "      <td>1</td>\n",
       "      <td>1</td>\n",
       "      <td>1</td>\n",
       "      <td>1</td>\n",
       "      <td>1</td>\n",
       "      <td>1</td>\n",
       "      <td>1</td>\n",
       "      <td>1</td>\n",
       "      <td>...</td>\n",
       "      <td>1</td>\n",
       "      <td>1</td>\n",
       "      <td>1</td>\n",
       "      <td>1</td>\n",
       "      <td>1</td>\n",
       "      <td>1</td>\n",
       "      <td>1</td>\n",
       "      <td>1</td>\n",
       "      <td>1</td>\n",
       "      <td>1</td>\n",
       "    </tr>\n",
       "  </tbody>\n",
       "</table>\n",
       "<p>400 rows × 77 columns</p>\n",
       "</div>"
      ],
      "text/plain": [
       "     intercept  accident_period_2004  accident_period_2005  \\\n",
       "0            1                     0                     0   \n",
       "1            1                     1                     0   \n",
       "2            1                     1                     1   \n",
       "3            1                     1                     1   \n",
       "4            1                     1                     1   \n",
       "..         ...                   ...                   ...   \n",
       "395          1                     1                     1   \n",
       "396          1                     1                     1   \n",
       "397          1                     1                     1   \n",
       "398          1                     1                     1   \n",
       "399          1                     1                     1   \n",
       "\n",
       "     accident_period_2006  accident_period_2007  accident_period_2008  \\\n",
       "0                       0                     0                     0   \n",
       "1                       0                     0                     0   \n",
       "2                       0                     0                     0   \n",
       "3                       1                     0                     0   \n",
       "4                       1                     1                     0   \n",
       "..                    ...                   ...                   ...   \n",
       "395                     1                     1                     1   \n",
       "396                     1                     1                     1   \n",
       "397                     1                     1                     1   \n",
       "398                     1                     1                     1   \n",
       "399                     1                     1                     1   \n",
       "\n",
       "     accident_period_2009  accident_period_2010  accident_period_2011  \\\n",
       "0                       0                     0                     0   \n",
       "1                       0                     0                     0   \n",
       "2                       0                     0                     0   \n",
       "3                       0                     0                     0   \n",
       "4                       0                     0                     0   \n",
       "..                    ...                   ...                   ...   \n",
       "395                     1                     1                     1   \n",
       "396                     1                     1                     1   \n",
       "397                     1                     1                     1   \n",
       "398                     1                     1                     1   \n",
       "399                     1                     1                     1   \n",
       "\n",
       "     accident_period_2012  ...  calendar_period_0030  calendar_period_0031  \\\n",
       "0                       0  ...                     0                     0   \n",
       "1                       0  ...                     0                     0   \n",
       "2                       0  ...                     0                     0   \n",
       "3                       0  ...                     0                     0   \n",
       "4                       0  ...                     0                     0   \n",
       "..                    ...  ...                   ...                   ...   \n",
       "395                     1  ...                     1                     1   \n",
       "396                     1  ...                     1                     1   \n",
       "397                     1  ...                     1                     1   \n",
       "398                     1  ...                     1                     1   \n",
       "399                     1  ...                     1                     1   \n",
       "\n",
       "     calendar_period_0032  calendar_period_0033  calendar_period_0034  \\\n",
       "0                       0                     0                     0   \n",
       "1                       0                     0                     0   \n",
       "2                       0                     0                     0   \n",
       "3                       0                     0                     0   \n",
       "4                       0                     0                     0   \n",
       "..                    ...                   ...                   ...   \n",
       "395                     1                     1                     1   \n",
       "396                     1                     1                     1   \n",
       "397                     1                     1                     1   \n",
       "398                     1                     1                     1   \n",
       "399                     1                     1                     1   \n",
       "\n",
       "     calendar_period_0035  calendar_period_0036  calendar_period_0037  \\\n",
       "0                       0                     0                     0   \n",
       "1                       0                     0                     0   \n",
       "2                       0                     0                     0   \n",
       "3                       0                     0                     0   \n",
       "4                       0                     0                     0   \n",
       "..                    ...                   ...                   ...   \n",
       "395                     1                     0                     0   \n",
       "396                     1                     1                     0   \n",
       "397                     1                     1                     1   \n",
       "398                     1                     1                     1   \n",
       "399                     1                     1                     1   \n",
       "\n",
       "     calendar_period_0038  calendar_period_0039  \n",
       "0                       0                     0  \n",
       "1                       0                     0  \n",
       "2                       0                     0  \n",
       "3                       0                     0  \n",
       "4                       0                     0  \n",
       "..                    ...                   ...  \n",
       "395                     0                     0  \n",
       "396                     0                     0  \n",
       "397                     0                     0  \n",
       "398                     1                     0  \n",
       "399                     1                     1  \n",
       "\n",
       "[400 rows x 77 columns]"
      ]
     },
     "execution_count": 31,
     "metadata": {},
     "output_type": "execute_result"
    }
   ],
   "source": [
    "# can look at design matrix for this model -- it has 39 more columns for the 39 calendar periods in a 20x20 triangle\n",
    "r.tweediecal.GetX()"
   ]
  },
  {
   "cell_type": "code",
   "execution_count": null,
   "metadata": {},
   "outputs": [
    {
     "data": {
      "text/plain": [
       "tweedieGLM(alpha=0.3, power=1.8)"
      ]
     },
     "execution_count": 45,
     "metadata": {},
     "output_type": "execute_result"
    }
   ],
   "source": [
    "# using same hyperparameters as before, but could decide to refit\n",
    "r.tweediecal.SetHyperparameters(alpha=0.3, power=1.8)\n",
    "r.tweediecal"
   ]
  },
  {
   "cell_type": "code",
   "execution_count": null,
   "metadata": {},
   "outputs": [],
   "source": [
    "r.tweediecal.Fit()"
   ]
  },
  {
   "cell_type": "code",
   "execution_count": null,
   "metadata": {},
   "outputs": [
    {
     "data": {
      "text/plain": [
       "Accident Period\n",
       "2003-01-01    194280.0\n",
       "2004-01-01    206745.0\n",
       "2005-01-01    212257.0\n",
       "2006-01-01    225428.0\n",
       "2007-01-01    223951.0\n",
       "2008-01-01    225211.0\n",
       "2009-01-01    197511.0\n",
       "2010-01-01    201818.0\n",
       "2011-01-01    193107.0\n",
       "2012-01-01    182434.0\n",
       "2013-01-01    206633.0\n",
       "2014-01-01    177032.0\n",
       "2015-01-01    160941.0\n",
       "2016-01-01    155491.0\n",
       "2017-01-01    151186.0\n",
       "2018-01-01    161333.0\n",
       "2019-01-01    145918.0\n",
       "2020-01-01    128059.0\n",
       "2021-01-01    131724.0\n",
       "2022-01-01    131359.0\n",
       "Name: GLM Ultimate, dtype: float64"
      ]
     },
     "execution_count": 47,
     "metadata": {},
     "output_type": "execute_result"
    }
   ],
   "source": [
    "r.tweediecal.Ultimate()"
   ]
  },
  {
   "cell_type": "code",
   "execution_count": null,
   "metadata": {},
   "outputs": [
    {
     "data": {
      "application/vnd.plotly.v1+json": {
       "config": {
        "plotlyServerURL": "https://plot.ly"
       },
       "data": [
        {
         "customdata": [
          [
           0.11300829174482845
          ],
          [
           0.06922702699368555
          ],
          [
           0.1983361914127963
          ],
          [
           0.030543036519910215
          ],
          [
           0.03890516804969225
          ],
          [
           -0.004483397028531249
          ],
          [
           0.06446614410392859
          ],
          [
           0.03980655392591275
          ],
          [
           0.05631302105805508
          ],
          [
           0.11830407091487313
          ],
          [
           0.0689728759373465
          ],
          [
           0.0162459299933083
          ],
          [
           0.1002142525352942
          ],
          [
           0.026578240525873025
          ],
          [
           0.09028132125734886
          ],
          [
           0.059010145816232734
          ],
          [
           0.01590119509773909
          ],
          [
           0.052552610415574845
          ],
          [
           0.01589605234970817
          ]
         ],
         "hovertemplate": "parameter=%{x}<br>cumsum=%{y}<br>value=%{customdata[0]}<extra></extra>",
         "legendgroup": "",
         "line": {
          "color": "#636efa",
          "dash": "solid"
         },
         "marker": {
          "symbol": "circle"
         },
         "mode": "lines",
         "name": "",
         "orientation": "v",
         "showlegend": false,
         "type": "scatter",
         "x": [
          "accident_period_2004",
          "accident_period_2005",
          "accident_period_2006",
          "accident_period_2007",
          "accident_period_2008",
          "accident_period_2009",
          "accident_period_2010",
          "accident_period_2011",
          "accident_period_2012",
          "accident_period_2013",
          "accident_period_2014",
          "accident_period_2015",
          "accident_period_2016",
          "accident_period_2017",
          "accident_period_2018",
          "accident_period_2019",
          "accident_period_2020",
          "accident_period_2021",
          "accident_period_2022"
         ],
         "xaxis": "x",
         "y": [
          0.11300829174482845,
          0.182235318738514,
          0.3805715101513103,
          0.4111145466712205,
          0.45001971472091273,
          0.4455363176923815,
          0.5100024617963101,
          0.5498090157222228,
          0.606122036780278,
          0.724426107695151,
          0.7933989836324975,
          0.8096449136258058,
          0.9098591661611001,
          0.9364374066869731,
          1.026718727944322,
          1.0857288737605546,
          1.1016300688582938,
          1.1541826792738685,
          1.1700787316235768
         ],
         "yaxis": "y"
        }
       ],
       "layout": {
        "legend": {
         "tracegroupgap": 0
        },
        "margin": {
         "t": 60
        },
        "template": {
         "data": {
          "bar": [
           {
            "error_x": {
             "color": "#2a3f5f"
            },
            "error_y": {
             "color": "#2a3f5f"
            },
            "marker": {
             "line": {
              "color": "#E5ECF6",
              "width": 0.5
             },
             "pattern": {
              "fillmode": "overlay",
              "size": 10,
              "solidity": 0.2
             }
            },
            "type": "bar"
           }
          ],
          "barpolar": [
           {
            "marker": {
             "line": {
              "color": "#E5ECF6",
              "width": 0.5
             },
             "pattern": {
              "fillmode": "overlay",
              "size": 10,
              "solidity": 0.2
             }
            },
            "type": "barpolar"
           }
          ],
          "carpet": [
           {
            "aaxis": {
             "endlinecolor": "#2a3f5f",
             "gridcolor": "white",
             "linecolor": "white",
             "minorgridcolor": "white",
             "startlinecolor": "#2a3f5f"
            },
            "baxis": {
             "endlinecolor": "#2a3f5f",
             "gridcolor": "white",
             "linecolor": "white",
             "minorgridcolor": "white",
             "startlinecolor": "#2a3f5f"
            },
            "type": "carpet"
           }
          ],
          "choropleth": [
           {
            "colorbar": {
             "outlinewidth": 0,
             "ticks": ""
            },
            "type": "choropleth"
           }
          ],
          "contour": [
           {
            "colorbar": {
             "outlinewidth": 0,
             "ticks": ""
            },
            "colorscale": [
             [
              0,
              "#0d0887"
             ],
             [
              0.1111111111111111,
              "#46039f"
             ],
             [
              0.2222222222222222,
              "#7201a8"
             ],
             [
              0.3333333333333333,
              "#9c179e"
             ],
             [
              0.4444444444444444,
              "#bd3786"
             ],
             [
              0.5555555555555556,
              "#d8576b"
             ],
             [
              0.6666666666666666,
              "#ed7953"
             ],
             [
              0.7777777777777778,
              "#fb9f3a"
             ],
             [
              0.8888888888888888,
              "#fdca26"
             ],
             [
              1,
              "#f0f921"
             ]
            ],
            "type": "contour"
           }
          ],
          "contourcarpet": [
           {
            "colorbar": {
             "outlinewidth": 0,
             "ticks": ""
            },
            "type": "contourcarpet"
           }
          ],
          "heatmap": [
           {
            "colorbar": {
             "outlinewidth": 0,
             "ticks": ""
            },
            "colorscale": [
             [
              0,
              "#0d0887"
             ],
             [
              0.1111111111111111,
              "#46039f"
             ],
             [
              0.2222222222222222,
              "#7201a8"
             ],
             [
              0.3333333333333333,
              "#9c179e"
             ],
             [
              0.4444444444444444,
              "#bd3786"
             ],
             [
              0.5555555555555556,
              "#d8576b"
             ],
             [
              0.6666666666666666,
              "#ed7953"
             ],
             [
              0.7777777777777778,
              "#fb9f3a"
             ],
             [
              0.8888888888888888,
              "#fdca26"
             ],
             [
              1,
              "#f0f921"
             ]
            ],
            "type": "heatmap"
           }
          ],
          "heatmapgl": [
           {
            "colorbar": {
             "outlinewidth": 0,
             "ticks": ""
            },
            "colorscale": [
             [
              0,
              "#0d0887"
             ],
             [
              0.1111111111111111,
              "#46039f"
             ],
             [
              0.2222222222222222,
              "#7201a8"
             ],
             [
              0.3333333333333333,
              "#9c179e"
             ],
             [
              0.4444444444444444,
              "#bd3786"
             ],
             [
              0.5555555555555556,
              "#d8576b"
             ],
             [
              0.6666666666666666,
              "#ed7953"
             ],
             [
              0.7777777777777778,
              "#fb9f3a"
             ],
             [
              0.8888888888888888,
              "#fdca26"
             ],
             [
              1,
              "#f0f921"
             ]
            ],
            "type": "heatmapgl"
           }
          ],
          "histogram": [
           {
            "marker": {
             "pattern": {
              "fillmode": "overlay",
              "size": 10,
              "solidity": 0.2
             }
            },
            "type": "histogram"
           }
          ],
          "histogram2d": [
           {
            "colorbar": {
             "outlinewidth": 0,
             "ticks": ""
            },
            "colorscale": [
             [
              0,
              "#0d0887"
             ],
             [
              0.1111111111111111,
              "#46039f"
             ],
             [
              0.2222222222222222,
              "#7201a8"
             ],
             [
              0.3333333333333333,
              "#9c179e"
             ],
             [
              0.4444444444444444,
              "#bd3786"
             ],
             [
              0.5555555555555556,
              "#d8576b"
             ],
             [
              0.6666666666666666,
              "#ed7953"
             ],
             [
              0.7777777777777778,
              "#fb9f3a"
             ],
             [
              0.8888888888888888,
              "#fdca26"
             ],
             [
              1,
              "#f0f921"
             ]
            ],
            "type": "histogram2d"
           }
          ],
          "histogram2dcontour": [
           {
            "colorbar": {
             "outlinewidth": 0,
             "ticks": ""
            },
            "colorscale": [
             [
              0,
              "#0d0887"
             ],
             [
              0.1111111111111111,
              "#46039f"
             ],
             [
              0.2222222222222222,
              "#7201a8"
             ],
             [
              0.3333333333333333,
              "#9c179e"
             ],
             [
              0.4444444444444444,
              "#bd3786"
             ],
             [
              0.5555555555555556,
              "#d8576b"
             ],
             [
              0.6666666666666666,
              "#ed7953"
             ],
             [
              0.7777777777777778,
              "#fb9f3a"
             ],
             [
              0.8888888888888888,
              "#fdca26"
             ],
             [
              1,
              "#f0f921"
             ]
            ],
            "type": "histogram2dcontour"
           }
          ],
          "mesh3d": [
           {
            "colorbar": {
             "outlinewidth": 0,
             "ticks": ""
            },
            "type": "mesh3d"
           }
          ],
          "parcoords": [
           {
            "line": {
             "colorbar": {
              "outlinewidth": 0,
              "ticks": ""
             }
            },
            "type": "parcoords"
           }
          ],
          "pie": [
           {
            "automargin": true,
            "type": "pie"
           }
          ],
          "scatter": [
           {
            "fillpattern": {
             "fillmode": "overlay",
             "size": 10,
             "solidity": 0.2
            },
            "type": "scatter"
           }
          ],
          "scatter3d": [
           {
            "line": {
             "colorbar": {
              "outlinewidth": 0,
              "ticks": ""
             }
            },
            "marker": {
             "colorbar": {
              "outlinewidth": 0,
              "ticks": ""
             }
            },
            "type": "scatter3d"
           }
          ],
          "scattercarpet": [
           {
            "marker": {
             "colorbar": {
              "outlinewidth": 0,
              "ticks": ""
             }
            },
            "type": "scattercarpet"
           }
          ],
          "scattergeo": [
           {
            "marker": {
             "colorbar": {
              "outlinewidth": 0,
              "ticks": ""
             }
            },
            "type": "scattergeo"
           }
          ],
          "scattergl": [
           {
            "marker": {
             "colorbar": {
              "outlinewidth": 0,
              "ticks": ""
             }
            },
            "type": "scattergl"
           }
          ],
          "scattermapbox": [
           {
            "marker": {
             "colorbar": {
              "outlinewidth": 0,
              "ticks": ""
             }
            },
            "type": "scattermapbox"
           }
          ],
          "scatterpolar": [
           {
            "marker": {
             "colorbar": {
              "outlinewidth": 0,
              "ticks": ""
             }
            },
            "type": "scatterpolar"
           }
          ],
          "scatterpolargl": [
           {
            "marker": {
             "colorbar": {
              "outlinewidth": 0,
              "ticks": ""
             }
            },
            "type": "scatterpolargl"
           }
          ],
          "scatterternary": [
           {
            "marker": {
             "colorbar": {
              "outlinewidth": 0,
              "ticks": ""
             }
            },
            "type": "scatterternary"
           }
          ],
          "surface": [
           {
            "colorbar": {
             "outlinewidth": 0,
             "ticks": ""
            },
            "colorscale": [
             [
              0,
              "#0d0887"
             ],
             [
              0.1111111111111111,
              "#46039f"
             ],
             [
              0.2222222222222222,
              "#7201a8"
             ],
             [
              0.3333333333333333,
              "#9c179e"
             ],
             [
              0.4444444444444444,
              "#bd3786"
             ],
             [
              0.5555555555555556,
              "#d8576b"
             ],
             [
              0.6666666666666666,
              "#ed7953"
             ],
             [
              0.7777777777777778,
              "#fb9f3a"
             ],
             [
              0.8888888888888888,
              "#fdca26"
             ],
             [
              1,
              "#f0f921"
             ]
            ],
            "type": "surface"
           }
          ],
          "table": [
           {
            "cells": {
             "fill": {
              "color": "#EBF0F8"
             },
             "line": {
              "color": "white"
             }
            },
            "header": {
             "fill": {
              "color": "#C8D4E3"
             },
             "line": {
              "color": "white"
             }
            },
            "type": "table"
           }
          ]
         },
         "layout": {
          "annotationdefaults": {
           "arrowcolor": "#2a3f5f",
           "arrowhead": 0,
           "arrowwidth": 1
          },
          "autotypenumbers": "strict",
          "coloraxis": {
           "colorbar": {
            "outlinewidth": 0,
            "ticks": ""
           }
          },
          "colorscale": {
           "diverging": [
            [
             0,
             "#8e0152"
            ],
            [
             0.1,
             "#c51b7d"
            ],
            [
             0.2,
             "#de77ae"
            ],
            [
             0.3,
             "#f1b6da"
            ],
            [
             0.4,
             "#fde0ef"
            ],
            [
             0.5,
             "#f7f7f7"
            ],
            [
             0.6,
             "#e6f5d0"
            ],
            [
             0.7,
             "#b8e186"
            ],
            [
             0.8,
             "#7fbc41"
            ],
            [
             0.9,
             "#4d9221"
            ],
            [
             1,
             "#276419"
            ]
           ],
           "sequential": [
            [
             0,
             "#0d0887"
            ],
            [
             0.1111111111111111,
             "#46039f"
            ],
            [
             0.2222222222222222,
             "#7201a8"
            ],
            [
             0.3333333333333333,
             "#9c179e"
            ],
            [
             0.4444444444444444,
             "#bd3786"
            ],
            [
             0.5555555555555556,
             "#d8576b"
            ],
            [
             0.6666666666666666,
             "#ed7953"
            ],
            [
             0.7777777777777778,
             "#fb9f3a"
            ],
            [
             0.8888888888888888,
             "#fdca26"
            ],
            [
             1,
             "#f0f921"
            ]
           ],
           "sequentialminus": [
            [
             0,
             "#0d0887"
            ],
            [
             0.1111111111111111,
             "#46039f"
            ],
            [
             0.2222222222222222,
             "#7201a8"
            ],
            [
             0.3333333333333333,
             "#9c179e"
            ],
            [
             0.4444444444444444,
             "#bd3786"
            ],
            [
             0.5555555555555556,
             "#d8576b"
            ],
            [
             0.6666666666666666,
             "#ed7953"
            ],
            [
             0.7777777777777778,
             "#fb9f3a"
            ],
            [
             0.8888888888888888,
             "#fdca26"
            ],
            [
             1,
             "#f0f921"
            ]
           ]
          },
          "colorway": [
           "#636efa",
           "#EF553B",
           "#00cc96",
           "#ab63fa",
           "#FFA15A",
           "#19d3f3",
           "#FF6692",
           "#B6E880",
           "#FF97FF",
           "#FECB52"
          ],
          "font": {
           "color": "#2a3f5f"
          },
          "geo": {
           "bgcolor": "white",
           "lakecolor": "white",
           "landcolor": "#E5ECF6",
           "showlakes": true,
           "showland": true,
           "subunitcolor": "white"
          },
          "hoverlabel": {
           "align": "left"
          },
          "hovermode": "closest",
          "mapbox": {
           "style": "light"
          },
          "paper_bgcolor": "white",
          "plot_bgcolor": "#E5ECF6",
          "polar": {
           "angularaxis": {
            "gridcolor": "white",
            "linecolor": "white",
            "ticks": ""
           },
           "bgcolor": "#E5ECF6",
           "radialaxis": {
            "gridcolor": "white",
            "linecolor": "white",
            "ticks": ""
           }
          },
          "scene": {
           "xaxis": {
            "backgroundcolor": "#E5ECF6",
            "gridcolor": "white",
            "gridwidth": 2,
            "linecolor": "white",
            "showbackground": true,
            "ticks": "",
            "zerolinecolor": "white"
           },
           "yaxis": {
            "backgroundcolor": "#E5ECF6",
            "gridcolor": "white",
            "gridwidth": 2,
            "linecolor": "white",
            "showbackground": true,
            "ticks": "",
            "zerolinecolor": "white"
           },
           "zaxis": {
            "backgroundcolor": "#E5ECF6",
            "gridcolor": "white",
            "gridwidth": 2,
            "linecolor": "white",
            "showbackground": true,
            "ticks": "",
            "zerolinecolor": "white"
           }
          },
          "shapedefaults": {
           "line": {
            "color": "#2a3f5f"
           }
          },
          "ternary": {
           "aaxis": {
            "gridcolor": "white",
            "linecolor": "white",
            "ticks": ""
           },
           "baxis": {
            "gridcolor": "white",
            "linecolor": "white",
            "ticks": ""
           },
           "bgcolor": "#E5ECF6",
           "caxis": {
            "gridcolor": "white",
            "linecolor": "white",
            "ticks": ""
           }
          },
          "title": {
           "x": 0.05
          },
          "xaxis": {
           "automargin": true,
           "gridcolor": "white",
           "linecolor": "white",
           "ticks": "",
           "title": {
            "standoff": 15
           },
           "zerolinecolor": "white",
           "zerolinewidth": 2
          },
          "yaxis": {
           "automargin": true,
           "gridcolor": "white",
           "linecolor": "white",
           "ticks": "",
           "title": {
            "standoff": 15
           },
           "zerolinecolor": "white",
           "zerolinewidth": 2
          }
         }
        },
        "title": {
         "text": "Cumulative acc parameters"
        },
        "xaxis": {
         "anchor": "y",
         "domain": [
          0,
          1
         ],
         "title": {
          "text": "Parameter"
         }
        },
        "yaxis": {
         "anchor": "x",
         "domain": [
          0,
          1
         ],
         "title": {
          "text": "Cumulative Parameter Value"
         }
        }
       }
      }
     },
     "metadata": {},
     "output_type": "display_data"
    }
   ],
   "source": [
    "r.tweediecal.PlotParameter('acc')"
   ]
  },
  {
   "cell_type": "code",
   "execution_count": null,
   "metadata": {},
   "outputs": [
    {
     "data": {
      "application/vnd.plotly.v1+json": {
       "config": {
        "plotlyServerURL": "https://plot.ly"
       },
       "data": [
        {
         "customdata": [
          [
           -0.05126102492435836
          ],
          [
           -0.5108803299453277
          ],
          [
           -0.45989449807685767
          ],
          [
           -0.3897867442499011
          ],
          [
           -0.3894046859501199
          ],
          [
           -0.29332378768461254
          ],
          [
           -0.19395203714669945
          ],
          [
           -0.15750148249910964
          ],
          [
           -0.1790264531624955
          ],
          [
           -0.1176803123087665
          ],
          [
           -0.08139304072799088
          ],
          [
           -0.102513410658827
          ],
          [
           -0.056791746780888
          ],
          [
           -0.027227608247795222
          ],
          [
           0.024555063990054294
          ],
          [
           0.03214707376347204
          ],
          [
           0.033533722188032834
          ],
          [
           0.1048353612992402
          ],
          [
           -0.03209650188440782
          ]
         ],
         "hovertemplate": "parameter=%{x}<br>cumsum=%{y}<br>value=%{customdata[0]}<extra></extra>",
         "legendgroup": "",
         "line": {
          "color": "#636efa",
          "dash": "solid"
         },
         "marker": {
          "symbol": "circle"
         },
         "mode": "lines",
         "name": "",
         "orientation": "v",
         "showlegend": false,
         "type": "scatter",
         "x": [
          "development_period_0024",
          "development_period_0036",
          "development_period_0048",
          "development_period_0060",
          "development_period_0072",
          "development_period_0084",
          "development_period_0096",
          "development_period_0108",
          "development_period_0120",
          "development_period_0132",
          "development_period_0144",
          "development_period_0156",
          "development_period_0168",
          "development_period_0180",
          "development_period_0192",
          "development_period_0204",
          "development_period_0216",
          "development_period_0228",
          "development_period_0240"
         ],
         "xaxis": "x",
         "y": [
          -0.05126102492435836,
          -0.5621413548696861,
          -1.0220358529465439,
          -1.4118225971964449,
          -1.8012272831465648,
          -2.0945510708311774,
          -2.288503107977877,
          -2.4460045904769863,
          -2.6250310436394817,
          -2.7427113559482486,
          -2.824104396676239,
          -2.926617807335066,
          -2.9834095541159544,
          -3.0106371623637496,
          -2.986082098373695,
          -2.953935024610223,
          -2.9204013024221904,
          -2.81556594112295,
          -2.847662443007358
         ],
         "yaxis": "y"
        }
       ],
       "layout": {
        "legend": {
         "tracegroupgap": 0
        },
        "margin": {
         "t": 60
        },
        "template": {
         "data": {
          "bar": [
           {
            "error_x": {
             "color": "#2a3f5f"
            },
            "error_y": {
             "color": "#2a3f5f"
            },
            "marker": {
             "line": {
              "color": "#E5ECF6",
              "width": 0.5
             },
             "pattern": {
              "fillmode": "overlay",
              "size": 10,
              "solidity": 0.2
             }
            },
            "type": "bar"
           }
          ],
          "barpolar": [
           {
            "marker": {
             "line": {
              "color": "#E5ECF6",
              "width": 0.5
             },
             "pattern": {
              "fillmode": "overlay",
              "size": 10,
              "solidity": 0.2
             }
            },
            "type": "barpolar"
           }
          ],
          "carpet": [
           {
            "aaxis": {
             "endlinecolor": "#2a3f5f",
             "gridcolor": "white",
             "linecolor": "white",
             "minorgridcolor": "white",
             "startlinecolor": "#2a3f5f"
            },
            "baxis": {
             "endlinecolor": "#2a3f5f",
             "gridcolor": "white",
             "linecolor": "white",
             "minorgridcolor": "white",
             "startlinecolor": "#2a3f5f"
            },
            "type": "carpet"
           }
          ],
          "choropleth": [
           {
            "colorbar": {
             "outlinewidth": 0,
             "ticks": ""
            },
            "type": "choropleth"
           }
          ],
          "contour": [
           {
            "colorbar": {
             "outlinewidth": 0,
             "ticks": ""
            },
            "colorscale": [
             [
              0,
              "#0d0887"
             ],
             [
              0.1111111111111111,
              "#46039f"
             ],
             [
              0.2222222222222222,
              "#7201a8"
             ],
             [
              0.3333333333333333,
              "#9c179e"
             ],
             [
              0.4444444444444444,
              "#bd3786"
             ],
             [
              0.5555555555555556,
              "#d8576b"
             ],
             [
              0.6666666666666666,
              "#ed7953"
             ],
             [
              0.7777777777777778,
              "#fb9f3a"
             ],
             [
              0.8888888888888888,
              "#fdca26"
             ],
             [
              1,
              "#f0f921"
             ]
            ],
            "type": "contour"
           }
          ],
          "contourcarpet": [
           {
            "colorbar": {
             "outlinewidth": 0,
             "ticks": ""
            },
            "type": "contourcarpet"
           }
          ],
          "heatmap": [
           {
            "colorbar": {
             "outlinewidth": 0,
             "ticks": ""
            },
            "colorscale": [
             [
              0,
              "#0d0887"
             ],
             [
              0.1111111111111111,
              "#46039f"
             ],
             [
              0.2222222222222222,
              "#7201a8"
             ],
             [
              0.3333333333333333,
              "#9c179e"
             ],
             [
              0.4444444444444444,
              "#bd3786"
             ],
             [
              0.5555555555555556,
              "#d8576b"
             ],
             [
              0.6666666666666666,
              "#ed7953"
             ],
             [
              0.7777777777777778,
              "#fb9f3a"
             ],
             [
              0.8888888888888888,
              "#fdca26"
             ],
             [
              1,
              "#f0f921"
             ]
            ],
            "type": "heatmap"
           }
          ],
          "heatmapgl": [
           {
            "colorbar": {
             "outlinewidth": 0,
             "ticks": ""
            },
            "colorscale": [
             [
              0,
              "#0d0887"
             ],
             [
              0.1111111111111111,
              "#46039f"
             ],
             [
              0.2222222222222222,
              "#7201a8"
             ],
             [
              0.3333333333333333,
              "#9c179e"
             ],
             [
              0.4444444444444444,
              "#bd3786"
             ],
             [
              0.5555555555555556,
              "#d8576b"
             ],
             [
              0.6666666666666666,
              "#ed7953"
             ],
             [
              0.7777777777777778,
              "#fb9f3a"
             ],
             [
              0.8888888888888888,
              "#fdca26"
             ],
             [
              1,
              "#f0f921"
             ]
            ],
            "type": "heatmapgl"
           }
          ],
          "histogram": [
           {
            "marker": {
             "pattern": {
              "fillmode": "overlay",
              "size": 10,
              "solidity": 0.2
             }
            },
            "type": "histogram"
           }
          ],
          "histogram2d": [
           {
            "colorbar": {
             "outlinewidth": 0,
             "ticks": ""
            },
            "colorscale": [
             [
              0,
              "#0d0887"
             ],
             [
              0.1111111111111111,
              "#46039f"
             ],
             [
              0.2222222222222222,
              "#7201a8"
             ],
             [
              0.3333333333333333,
              "#9c179e"
             ],
             [
              0.4444444444444444,
              "#bd3786"
             ],
             [
              0.5555555555555556,
              "#d8576b"
             ],
             [
              0.6666666666666666,
              "#ed7953"
             ],
             [
              0.7777777777777778,
              "#fb9f3a"
             ],
             [
              0.8888888888888888,
              "#fdca26"
             ],
             [
              1,
              "#f0f921"
             ]
            ],
            "type": "histogram2d"
           }
          ],
          "histogram2dcontour": [
           {
            "colorbar": {
             "outlinewidth": 0,
             "ticks": ""
            },
            "colorscale": [
             [
              0,
              "#0d0887"
             ],
             [
              0.1111111111111111,
              "#46039f"
             ],
             [
              0.2222222222222222,
              "#7201a8"
             ],
             [
              0.3333333333333333,
              "#9c179e"
             ],
             [
              0.4444444444444444,
              "#bd3786"
             ],
             [
              0.5555555555555556,
              "#d8576b"
             ],
             [
              0.6666666666666666,
              "#ed7953"
             ],
             [
              0.7777777777777778,
              "#fb9f3a"
             ],
             [
              0.8888888888888888,
              "#fdca26"
             ],
             [
              1,
              "#f0f921"
             ]
            ],
            "type": "histogram2dcontour"
           }
          ],
          "mesh3d": [
           {
            "colorbar": {
             "outlinewidth": 0,
             "ticks": ""
            },
            "type": "mesh3d"
           }
          ],
          "parcoords": [
           {
            "line": {
             "colorbar": {
              "outlinewidth": 0,
              "ticks": ""
             }
            },
            "type": "parcoords"
           }
          ],
          "pie": [
           {
            "automargin": true,
            "type": "pie"
           }
          ],
          "scatter": [
           {
            "fillpattern": {
             "fillmode": "overlay",
             "size": 10,
             "solidity": 0.2
            },
            "type": "scatter"
           }
          ],
          "scatter3d": [
           {
            "line": {
             "colorbar": {
              "outlinewidth": 0,
              "ticks": ""
             }
            },
            "marker": {
             "colorbar": {
              "outlinewidth": 0,
              "ticks": ""
             }
            },
            "type": "scatter3d"
           }
          ],
          "scattercarpet": [
           {
            "marker": {
             "colorbar": {
              "outlinewidth": 0,
              "ticks": ""
             }
            },
            "type": "scattercarpet"
           }
          ],
          "scattergeo": [
           {
            "marker": {
             "colorbar": {
              "outlinewidth": 0,
              "ticks": ""
             }
            },
            "type": "scattergeo"
           }
          ],
          "scattergl": [
           {
            "marker": {
             "colorbar": {
              "outlinewidth": 0,
              "ticks": ""
             }
            },
            "type": "scattergl"
           }
          ],
          "scattermapbox": [
           {
            "marker": {
             "colorbar": {
              "outlinewidth": 0,
              "ticks": ""
             }
            },
            "type": "scattermapbox"
           }
          ],
          "scatterpolar": [
           {
            "marker": {
             "colorbar": {
              "outlinewidth": 0,
              "ticks": ""
             }
            },
            "type": "scatterpolar"
           }
          ],
          "scatterpolargl": [
           {
            "marker": {
             "colorbar": {
              "outlinewidth": 0,
              "ticks": ""
             }
            },
            "type": "scatterpolargl"
           }
          ],
          "scatterternary": [
           {
            "marker": {
             "colorbar": {
              "outlinewidth": 0,
              "ticks": ""
             }
            },
            "type": "scatterternary"
           }
          ],
          "surface": [
           {
            "colorbar": {
             "outlinewidth": 0,
             "ticks": ""
            },
            "colorscale": [
             [
              0,
              "#0d0887"
             ],
             [
              0.1111111111111111,
              "#46039f"
             ],
             [
              0.2222222222222222,
              "#7201a8"
             ],
             [
              0.3333333333333333,
              "#9c179e"
             ],
             [
              0.4444444444444444,
              "#bd3786"
             ],
             [
              0.5555555555555556,
              "#d8576b"
             ],
             [
              0.6666666666666666,
              "#ed7953"
             ],
             [
              0.7777777777777778,
              "#fb9f3a"
             ],
             [
              0.8888888888888888,
              "#fdca26"
             ],
             [
              1,
              "#f0f921"
             ]
            ],
            "type": "surface"
           }
          ],
          "table": [
           {
            "cells": {
             "fill": {
              "color": "#EBF0F8"
             },
             "line": {
              "color": "white"
             }
            },
            "header": {
             "fill": {
              "color": "#C8D4E3"
             },
             "line": {
              "color": "white"
             }
            },
            "type": "table"
           }
          ]
         },
         "layout": {
          "annotationdefaults": {
           "arrowcolor": "#2a3f5f",
           "arrowhead": 0,
           "arrowwidth": 1
          },
          "autotypenumbers": "strict",
          "coloraxis": {
           "colorbar": {
            "outlinewidth": 0,
            "ticks": ""
           }
          },
          "colorscale": {
           "diverging": [
            [
             0,
             "#8e0152"
            ],
            [
             0.1,
             "#c51b7d"
            ],
            [
             0.2,
             "#de77ae"
            ],
            [
             0.3,
             "#f1b6da"
            ],
            [
             0.4,
             "#fde0ef"
            ],
            [
             0.5,
             "#f7f7f7"
            ],
            [
             0.6,
             "#e6f5d0"
            ],
            [
             0.7,
             "#b8e186"
            ],
            [
             0.8,
             "#7fbc41"
            ],
            [
             0.9,
             "#4d9221"
            ],
            [
             1,
             "#276419"
            ]
           ],
           "sequential": [
            [
             0,
             "#0d0887"
            ],
            [
             0.1111111111111111,
             "#46039f"
            ],
            [
             0.2222222222222222,
             "#7201a8"
            ],
            [
             0.3333333333333333,
             "#9c179e"
            ],
            [
             0.4444444444444444,
             "#bd3786"
            ],
            [
             0.5555555555555556,
             "#d8576b"
            ],
            [
             0.6666666666666666,
             "#ed7953"
            ],
            [
             0.7777777777777778,
             "#fb9f3a"
            ],
            [
             0.8888888888888888,
             "#fdca26"
            ],
            [
             1,
             "#f0f921"
            ]
           ],
           "sequentialminus": [
            [
             0,
             "#0d0887"
            ],
            [
             0.1111111111111111,
             "#46039f"
            ],
            [
             0.2222222222222222,
             "#7201a8"
            ],
            [
             0.3333333333333333,
             "#9c179e"
            ],
            [
             0.4444444444444444,
             "#bd3786"
            ],
            [
             0.5555555555555556,
             "#d8576b"
            ],
            [
             0.6666666666666666,
             "#ed7953"
            ],
            [
             0.7777777777777778,
             "#fb9f3a"
            ],
            [
             0.8888888888888888,
             "#fdca26"
            ],
            [
             1,
             "#f0f921"
            ]
           ]
          },
          "colorway": [
           "#636efa",
           "#EF553B",
           "#00cc96",
           "#ab63fa",
           "#FFA15A",
           "#19d3f3",
           "#FF6692",
           "#B6E880",
           "#FF97FF",
           "#FECB52"
          ],
          "font": {
           "color": "#2a3f5f"
          },
          "geo": {
           "bgcolor": "white",
           "lakecolor": "white",
           "landcolor": "#E5ECF6",
           "showlakes": true,
           "showland": true,
           "subunitcolor": "white"
          },
          "hoverlabel": {
           "align": "left"
          },
          "hovermode": "closest",
          "mapbox": {
           "style": "light"
          },
          "paper_bgcolor": "white",
          "plot_bgcolor": "#E5ECF6",
          "polar": {
           "angularaxis": {
            "gridcolor": "white",
            "linecolor": "white",
            "ticks": ""
           },
           "bgcolor": "#E5ECF6",
           "radialaxis": {
            "gridcolor": "white",
            "linecolor": "white",
            "ticks": ""
           }
          },
          "scene": {
           "xaxis": {
            "backgroundcolor": "#E5ECF6",
            "gridcolor": "white",
            "gridwidth": 2,
            "linecolor": "white",
            "showbackground": true,
            "ticks": "",
            "zerolinecolor": "white"
           },
           "yaxis": {
            "backgroundcolor": "#E5ECF6",
            "gridcolor": "white",
            "gridwidth": 2,
            "linecolor": "white",
            "showbackground": true,
            "ticks": "",
            "zerolinecolor": "white"
           },
           "zaxis": {
            "backgroundcolor": "#E5ECF6",
            "gridcolor": "white",
            "gridwidth": 2,
            "linecolor": "white",
            "showbackground": true,
            "ticks": "",
            "zerolinecolor": "white"
           }
          },
          "shapedefaults": {
           "line": {
            "color": "#2a3f5f"
           }
          },
          "ternary": {
           "aaxis": {
            "gridcolor": "white",
            "linecolor": "white",
            "ticks": ""
           },
           "baxis": {
            "gridcolor": "white",
            "linecolor": "white",
            "ticks": ""
           },
           "bgcolor": "#E5ECF6",
           "caxis": {
            "gridcolor": "white",
            "linecolor": "white",
            "ticks": ""
           }
          },
          "title": {
           "x": 0.05
          },
          "xaxis": {
           "automargin": true,
           "gridcolor": "white",
           "linecolor": "white",
           "ticks": "",
           "title": {
            "standoff": 15
           },
           "zerolinecolor": "white",
           "zerolinewidth": 2
          },
          "yaxis": {
           "automargin": true,
           "gridcolor": "white",
           "linecolor": "white",
           "ticks": "",
           "title": {
            "standoff": 15
           },
           "zerolinecolor": "white",
           "zerolinewidth": 2
          }
         }
        },
        "title": {
         "text": "Cumulative dev parameters"
        },
        "xaxis": {
         "anchor": "y",
         "domain": [
          0,
          1
         ],
         "title": {
          "text": "Parameter"
         }
        },
        "yaxis": {
         "anchor": "x",
         "domain": [
          0,
          1
         ],
         "title": {
          "text": "Cumulative Parameter Value"
         }
        }
       }
      }
     },
     "metadata": {},
     "output_type": "display_data"
    }
   ],
   "source": [
    "r.tweediecal.PlotParameter('dev')"
   ]
  },
  {
   "cell_type": "code",
   "execution_count": null,
   "metadata": {},
   "outputs": [
    {
     "data": {
      "application/vnd.plotly.v1+json": {
       "config": {
        "plotlyServerURL": "https://plot.ly"
       },
       "data": [
        {
         "customdata": [
          [
           0.0012815044538179686
          ],
          [
           -0.02454397902281324
          ],
          [
           -0.046207766915740724
          ],
          [
           -0.04447864696269362
          ],
          [
           -0.03927989821705697
          ],
          [
           -0.07300553147869185
          ],
          [
           -0.1047421981396356
          ],
          [
           -0.08718134678047973
          ],
          [
           -0.11782166927755436
          ],
          [
           -0.11861108285570132
          ],
          [
           -0.11182832297532354
          ],
          [
           -0.06499338424709816
          ],
          [
           -0.18786095092251928
          ],
          [
           -0.13825758834466653
          ],
          [
           -0.07365653879015586
          ],
          [
           -0.1256233644787254
          ],
          [
           -0.07582029737341558
          ],
          [
           -0.1506169019412392
          ],
          [
           -0.09433574711408782
          ],
          [
           0
          ],
          [
           0
          ],
          [
           0
          ],
          [
           0
          ],
          [
           0
          ],
          [
           0
          ],
          [
           0
          ],
          [
           0
          ],
          [
           0
          ],
          [
           0
          ],
          [
           0
          ],
          [
           0
          ],
          [
           0
          ],
          [
           0
          ],
          [
           0
          ],
          [
           0
          ],
          [
           0
          ],
          [
           0
          ],
          [
           0
          ]
         ],
         "hovertemplate": "parameter=%{x}<br>cumsum=%{y}<br>value=%{customdata[0]}<extra></extra>",
         "legendgroup": "",
         "line": {
          "color": "#636efa",
          "dash": "solid"
         },
         "marker": {
          "symbol": "circle"
         },
         "mode": "lines",
         "name": "",
         "orientation": "v",
         "showlegend": false,
         "type": "scatter",
         "x": [
          "calendar_period_0002",
          "calendar_period_0003",
          "calendar_period_0004",
          "calendar_period_0005",
          "calendar_period_0006",
          "calendar_period_0007",
          "calendar_period_0008",
          "calendar_period_0009",
          "calendar_period_0010",
          "calendar_period_0011",
          "calendar_period_0012",
          "calendar_period_0013",
          "calendar_period_0014",
          "calendar_period_0015",
          "calendar_period_0016",
          "calendar_period_0017",
          "calendar_period_0018",
          "calendar_period_0019",
          "calendar_period_0020",
          "calendar_period_0021",
          "calendar_period_0022",
          "calendar_period_0023",
          "calendar_period_0024",
          "calendar_period_0025",
          "calendar_period_0026",
          "calendar_period_0027",
          "calendar_period_0028",
          "calendar_period_0029",
          "calendar_period_0030",
          "calendar_period_0031",
          "calendar_period_0032",
          "calendar_period_0033",
          "calendar_period_0034",
          "calendar_period_0035",
          "calendar_period_0036",
          "calendar_period_0037",
          "calendar_period_0038",
          "calendar_period_0039"
         ],
         "xaxis": "x",
         "y": [
          0.0012815044538179686,
          -0.023262474568995273,
          -0.06947024148473599,
          -0.11394888844742962,
          -0.15322878666448658,
          -0.22623431814317843,
          -0.33097651628281405,
          -0.4181578630632938,
          -0.5359795323408482,
          -0.6545906151965495,
          -0.766418938171873,
          -0.8314123224189711,
          -1.0192732733414904,
          -1.157530861686157,
          -1.2311874004763128,
          -1.3568107649550383,
          -1.4326310623284537,
          -1.583247964269693,
          -1.6775837113837808,
          -1.6775837113837808,
          -1.6775837113837808,
          -1.6775837113837808,
          -1.6775837113837808,
          -1.6775837113837808,
          -1.6775837113837808,
          -1.6775837113837808,
          -1.6775837113837808,
          -1.6775837113837808,
          -1.6775837113837808,
          -1.6775837113837808,
          -1.6775837113837808,
          -1.6775837113837808,
          -1.6775837113837808,
          -1.6775837113837808,
          -1.6775837113837808,
          -1.6775837113837808,
          -1.6775837113837808,
          -1.6775837113837808
         ],
         "yaxis": "y"
        }
       ],
       "layout": {
        "legend": {
         "tracegroupgap": 0
        },
        "margin": {
         "t": 60
        },
        "template": {
         "data": {
          "bar": [
           {
            "error_x": {
             "color": "#2a3f5f"
            },
            "error_y": {
             "color": "#2a3f5f"
            },
            "marker": {
             "line": {
              "color": "#E5ECF6",
              "width": 0.5
             },
             "pattern": {
              "fillmode": "overlay",
              "size": 10,
              "solidity": 0.2
             }
            },
            "type": "bar"
           }
          ],
          "barpolar": [
           {
            "marker": {
             "line": {
              "color": "#E5ECF6",
              "width": 0.5
             },
             "pattern": {
              "fillmode": "overlay",
              "size": 10,
              "solidity": 0.2
             }
            },
            "type": "barpolar"
           }
          ],
          "carpet": [
           {
            "aaxis": {
             "endlinecolor": "#2a3f5f",
             "gridcolor": "white",
             "linecolor": "white",
             "minorgridcolor": "white",
             "startlinecolor": "#2a3f5f"
            },
            "baxis": {
             "endlinecolor": "#2a3f5f",
             "gridcolor": "white",
             "linecolor": "white",
             "minorgridcolor": "white",
             "startlinecolor": "#2a3f5f"
            },
            "type": "carpet"
           }
          ],
          "choropleth": [
           {
            "colorbar": {
             "outlinewidth": 0,
             "ticks": ""
            },
            "type": "choropleth"
           }
          ],
          "contour": [
           {
            "colorbar": {
             "outlinewidth": 0,
             "ticks": ""
            },
            "colorscale": [
             [
              0,
              "#0d0887"
             ],
             [
              0.1111111111111111,
              "#46039f"
             ],
             [
              0.2222222222222222,
              "#7201a8"
             ],
             [
              0.3333333333333333,
              "#9c179e"
             ],
             [
              0.4444444444444444,
              "#bd3786"
             ],
             [
              0.5555555555555556,
              "#d8576b"
             ],
             [
              0.6666666666666666,
              "#ed7953"
             ],
             [
              0.7777777777777778,
              "#fb9f3a"
             ],
             [
              0.8888888888888888,
              "#fdca26"
             ],
             [
              1,
              "#f0f921"
             ]
            ],
            "type": "contour"
           }
          ],
          "contourcarpet": [
           {
            "colorbar": {
             "outlinewidth": 0,
             "ticks": ""
            },
            "type": "contourcarpet"
           }
          ],
          "heatmap": [
           {
            "colorbar": {
             "outlinewidth": 0,
             "ticks": ""
            },
            "colorscale": [
             [
              0,
              "#0d0887"
             ],
             [
              0.1111111111111111,
              "#46039f"
             ],
             [
              0.2222222222222222,
              "#7201a8"
             ],
             [
              0.3333333333333333,
              "#9c179e"
             ],
             [
              0.4444444444444444,
              "#bd3786"
             ],
             [
              0.5555555555555556,
              "#d8576b"
             ],
             [
              0.6666666666666666,
              "#ed7953"
             ],
             [
              0.7777777777777778,
              "#fb9f3a"
             ],
             [
              0.8888888888888888,
              "#fdca26"
             ],
             [
              1,
              "#f0f921"
             ]
            ],
            "type": "heatmap"
           }
          ],
          "heatmapgl": [
           {
            "colorbar": {
             "outlinewidth": 0,
             "ticks": ""
            },
            "colorscale": [
             [
              0,
              "#0d0887"
             ],
             [
              0.1111111111111111,
              "#46039f"
             ],
             [
              0.2222222222222222,
              "#7201a8"
             ],
             [
              0.3333333333333333,
              "#9c179e"
             ],
             [
              0.4444444444444444,
              "#bd3786"
             ],
             [
              0.5555555555555556,
              "#d8576b"
             ],
             [
              0.6666666666666666,
              "#ed7953"
             ],
             [
              0.7777777777777778,
              "#fb9f3a"
             ],
             [
              0.8888888888888888,
              "#fdca26"
             ],
             [
              1,
              "#f0f921"
             ]
            ],
            "type": "heatmapgl"
           }
          ],
          "histogram": [
           {
            "marker": {
             "pattern": {
              "fillmode": "overlay",
              "size": 10,
              "solidity": 0.2
             }
            },
            "type": "histogram"
           }
          ],
          "histogram2d": [
           {
            "colorbar": {
             "outlinewidth": 0,
             "ticks": ""
            },
            "colorscale": [
             [
              0,
              "#0d0887"
             ],
             [
              0.1111111111111111,
              "#46039f"
             ],
             [
              0.2222222222222222,
              "#7201a8"
             ],
             [
              0.3333333333333333,
              "#9c179e"
             ],
             [
              0.4444444444444444,
              "#bd3786"
             ],
             [
              0.5555555555555556,
              "#d8576b"
             ],
             [
              0.6666666666666666,
              "#ed7953"
             ],
             [
              0.7777777777777778,
              "#fb9f3a"
             ],
             [
              0.8888888888888888,
              "#fdca26"
             ],
             [
              1,
              "#f0f921"
             ]
            ],
            "type": "histogram2d"
           }
          ],
          "histogram2dcontour": [
           {
            "colorbar": {
             "outlinewidth": 0,
             "ticks": ""
            },
            "colorscale": [
             [
              0,
              "#0d0887"
             ],
             [
              0.1111111111111111,
              "#46039f"
             ],
             [
              0.2222222222222222,
              "#7201a8"
             ],
             [
              0.3333333333333333,
              "#9c179e"
             ],
             [
              0.4444444444444444,
              "#bd3786"
             ],
             [
              0.5555555555555556,
              "#d8576b"
             ],
             [
              0.6666666666666666,
              "#ed7953"
             ],
             [
              0.7777777777777778,
              "#fb9f3a"
             ],
             [
              0.8888888888888888,
              "#fdca26"
             ],
             [
              1,
              "#f0f921"
             ]
            ],
            "type": "histogram2dcontour"
           }
          ],
          "mesh3d": [
           {
            "colorbar": {
             "outlinewidth": 0,
             "ticks": ""
            },
            "type": "mesh3d"
           }
          ],
          "parcoords": [
           {
            "line": {
             "colorbar": {
              "outlinewidth": 0,
              "ticks": ""
             }
            },
            "type": "parcoords"
           }
          ],
          "pie": [
           {
            "automargin": true,
            "type": "pie"
           }
          ],
          "scatter": [
           {
            "fillpattern": {
             "fillmode": "overlay",
             "size": 10,
             "solidity": 0.2
            },
            "type": "scatter"
           }
          ],
          "scatter3d": [
           {
            "line": {
             "colorbar": {
              "outlinewidth": 0,
              "ticks": ""
             }
            },
            "marker": {
             "colorbar": {
              "outlinewidth": 0,
              "ticks": ""
             }
            },
            "type": "scatter3d"
           }
          ],
          "scattercarpet": [
           {
            "marker": {
             "colorbar": {
              "outlinewidth": 0,
              "ticks": ""
             }
            },
            "type": "scattercarpet"
           }
          ],
          "scattergeo": [
           {
            "marker": {
             "colorbar": {
              "outlinewidth": 0,
              "ticks": ""
             }
            },
            "type": "scattergeo"
           }
          ],
          "scattergl": [
           {
            "marker": {
             "colorbar": {
              "outlinewidth": 0,
              "ticks": ""
             }
            },
            "type": "scattergl"
           }
          ],
          "scattermapbox": [
           {
            "marker": {
             "colorbar": {
              "outlinewidth": 0,
              "ticks": ""
             }
            },
            "type": "scattermapbox"
           }
          ],
          "scatterpolar": [
           {
            "marker": {
             "colorbar": {
              "outlinewidth": 0,
              "ticks": ""
             }
            },
            "type": "scatterpolar"
           }
          ],
          "scatterpolargl": [
           {
            "marker": {
             "colorbar": {
              "outlinewidth": 0,
              "ticks": ""
             }
            },
            "type": "scatterpolargl"
           }
          ],
          "scatterternary": [
           {
            "marker": {
             "colorbar": {
              "outlinewidth": 0,
              "ticks": ""
             }
            },
            "type": "scatterternary"
           }
          ],
          "surface": [
           {
            "colorbar": {
             "outlinewidth": 0,
             "ticks": ""
            },
            "colorscale": [
             [
              0,
              "#0d0887"
             ],
             [
              0.1111111111111111,
              "#46039f"
             ],
             [
              0.2222222222222222,
              "#7201a8"
             ],
             [
              0.3333333333333333,
              "#9c179e"
             ],
             [
              0.4444444444444444,
              "#bd3786"
             ],
             [
              0.5555555555555556,
              "#d8576b"
             ],
             [
              0.6666666666666666,
              "#ed7953"
             ],
             [
              0.7777777777777778,
              "#fb9f3a"
             ],
             [
              0.8888888888888888,
              "#fdca26"
             ],
             [
              1,
              "#f0f921"
             ]
            ],
            "type": "surface"
           }
          ],
          "table": [
           {
            "cells": {
             "fill": {
              "color": "#EBF0F8"
             },
             "line": {
              "color": "white"
             }
            },
            "header": {
             "fill": {
              "color": "#C8D4E3"
             },
             "line": {
              "color": "white"
             }
            },
            "type": "table"
           }
          ]
         },
         "layout": {
          "annotationdefaults": {
           "arrowcolor": "#2a3f5f",
           "arrowhead": 0,
           "arrowwidth": 1
          },
          "autotypenumbers": "strict",
          "coloraxis": {
           "colorbar": {
            "outlinewidth": 0,
            "ticks": ""
           }
          },
          "colorscale": {
           "diverging": [
            [
             0,
             "#8e0152"
            ],
            [
             0.1,
             "#c51b7d"
            ],
            [
             0.2,
             "#de77ae"
            ],
            [
             0.3,
             "#f1b6da"
            ],
            [
             0.4,
             "#fde0ef"
            ],
            [
             0.5,
             "#f7f7f7"
            ],
            [
             0.6,
             "#e6f5d0"
            ],
            [
             0.7,
             "#b8e186"
            ],
            [
             0.8,
             "#7fbc41"
            ],
            [
             0.9,
             "#4d9221"
            ],
            [
             1,
             "#276419"
            ]
           ],
           "sequential": [
            [
             0,
             "#0d0887"
            ],
            [
             0.1111111111111111,
             "#46039f"
            ],
            [
             0.2222222222222222,
             "#7201a8"
            ],
            [
             0.3333333333333333,
             "#9c179e"
            ],
            [
             0.4444444444444444,
             "#bd3786"
            ],
            [
             0.5555555555555556,
             "#d8576b"
            ],
            [
             0.6666666666666666,
             "#ed7953"
            ],
            [
             0.7777777777777778,
             "#fb9f3a"
            ],
            [
             0.8888888888888888,
             "#fdca26"
            ],
            [
             1,
             "#f0f921"
            ]
           ],
           "sequentialminus": [
            [
             0,
             "#0d0887"
            ],
            [
             0.1111111111111111,
             "#46039f"
            ],
            [
             0.2222222222222222,
             "#7201a8"
            ],
            [
             0.3333333333333333,
             "#9c179e"
            ],
            [
             0.4444444444444444,
             "#bd3786"
            ],
            [
             0.5555555555555556,
             "#d8576b"
            ],
            [
             0.6666666666666666,
             "#ed7953"
            ],
            [
             0.7777777777777778,
             "#fb9f3a"
            ],
            [
             0.8888888888888888,
             "#fdca26"
            ],
            [
             1,
             "#f0f921"
            ]
           ]
          },
          "colorway": [
           "#636efa",
           "#EF553B",
           "#00cc96",
           "#ab63fa",
           "#FFA15A",
           "#19d3f3",
           "#FF6692",
           "#B6E880",
           "#FF97FF",
           "#FECB52"
          ],
          "font": {
           "color": "#2a3f5f"
          },
          "geo": {
           "bgcolor": "white",
           "lakecolor": "white",
           "landcolor": "#E5ECF6",
           "showlakes": true,
           "showland": true,
           "subunitcolor": "white"
          },
          "hoverlabel": {
           "align": "left"
          },
          "hovermode": "closest",
          "mapbox": {
           "style": "light"
          },
          "paper_bgcolor": "white",
          "plot_bgcolor": "#E5ECF6",
          "polar": {
           "angularaxis": {
            "gridcolor": "white",
            "linecolor": "white",
            "ticks": ""
           },
           "bgcolor": "#E5ECF6",
           "radialaxis": {
            "gridcolor": "white",
            "linecolor": "white",
            "ticks": ""
           }
          },
          "scene": {
           "xaxis": {
            "backgroundcolor": "#E5ECF6",
            "gridcolor": "white",
            "gridwidth": 2,
            "linecolor": "white",
            "showbackground": true,
            "ticks": "",
            "zerolinecolor": "white"
           },
           "yaxis": {
            "backgroundcolor": "#E5ECF6",
            "gridcolor": "white",
            "gridwidth": 2,
            "linecolor": "white",
            "showbackground": true,
            "ticks": "",
            "zerolinecolor": "white"
           },
           "zaxis": {
            "backgroundcolor": "#E5ECF6",
            "gridcolor": "white",
            "gridwidth": 2,
            "linecolor": "white",
            "showbackground": true,
            "ticks": "",
            "zerolinecolor": "white"
           }
          },
          "shapedefaults": {
           "line": {
            "color": "#2a3f5f"
           }
          },
          "ternary": {
           "aaxis": {
            "gridcolor": "white",
            "linecolor": "white",
            "ticks": ""
           },
           "baxis": {
            "gridcolor": "white",
            "linecolor": "white",
            "ticks": ""
           },
           "bgcolor": "#E5ECF6",
           "caxis": {
            "gridcolor": "white",
            "linecolor": "white",
            "ticks": ""
           }
          },
          "title": {
           "x": 0.05
          },
          "xaxis": {
           "automargin": true,
           "gridcolor": "white",
           "linecolor": "white",
           "ticks": "",
           "title": {
            "standoff": 15
           },
           "zerolinecolor": "white",
           "zerolinewidth": 2
          },
          "yaxis": {
           "automargin": true,
           "gridcolor": "white",
           "linecolor": "white",
           "ticks": "",
           "title": {
            "standoff": 15
           },
           "zerolinecolor": "white",
           "zerolinewidth": 2
          }
         }
        },
        "title": {
         "text": "Cumulative cal parameters"
        },
        "xaxis": {
         "anchor": "y",
         "domain": [
          0,
          1
         ],
         "title": {
          "text": "Parameter"
         }
        },
        "yaxis": {
         "anchor": "x",
         "domain": [
          0,
          1
         ],
         "title": {
          "text": "Cumulative Parameter Value"
         }
        }
       }
      }
     },
     "metadata": {},
     "output_type": "display_data"
    }
   ],
   "source": [
    "r.tweediecal.PlotParameter('cal')"
   ]
  },
  {
   "cell_type": "code",
   "execution_count": null,
   "metadata": {},
   "outputs": [],
   "source": [
    "## add a 1% future cal trend (eg assume that trend reverses itself)\n",
    "future_cy_trend = 0.01\n",
    "manfit = {}\n",
    "for i in range(21, 40):\n",
    "  manfit[f\"calendar_period_00{i}\"] = future_cy_trend\n",
    "\n",
    "r.tweediecal.ManualFit(**manfit)"
   ]
  },
  {
   "cell_type": "code",
   "execution_count": null,
   "metadata": {},
   "outputs": [
    {
     "data": {
      "application/vnd.plotly.v1+json": {
       "config": {
        "plotlyServerURL": "https://plot.ly"
       },
       "data": [
        {
         "customdata": [
          [
           0.0012815044538179686
          ],
          [
           -0.02454397902281324
          ],
          [
           -0.046207766915740724
          ],
          [
           -0.04447864696269362
          ],
          [
           -0.03927989821705697
          ],
          [
           -0.07300553147869185
          ],
          [
           -0.1047421981396356
          ],
          [
           -0.08718134678047973
          ],
          [
           -0.11782166927755436
          ],
          [
           -0.11861108285570132
          ],
          [
           -0.11182832297532354
          ],
          [
           -0.06499338424709816
          ],
          [
           -0.18786095092251928
          ],
          [
           -0.13825758834466653
          ],
          [
           -0.07365653879015586
          ],
          [
           -0.1256233644787254
          ],
          [
           -0.07582029737341558
          ],
          [
           -0.1506169019412392
          ],
          [
           -0.09433574711408782
          ],
          [
           0.01
          ],
          [
           0.01
          ],
          [
           0.01
          ],
          [
           0.01
          ],
          [
           0.01
          ],
          [
           0.01
          ],
          [
           0.01
          ],
          [
           0.01
          ],
          [
           0.01
          ],
          [
           0.01
          ],
          [
           0.01
          ],
          [
           0.01
          ],
          [
           0.01
          ],
          [
           0.01
          ],
          [
           0.01
          ],
          [
           0.01
          ],
          [
           0.01
          ],
          [
           0.01
          ],
          [
           0.01
          ]
         ],
         "hovertemplate": "parameter=%{x}<br>cumsum=%{y}<br>value=%{customdata[0]}<extra></extra>",
         "legendgroup": "",
         "line": {
          "color": "#636efa",
          "dash": "solid"
         },
         "marker": {
          "symbol": "circle"
         },
         "mode": "lines",
         "name": "",
         "orientation": "v",
         "showlegend": false,
         "type": "scatter",
         "x": [
          "calendar_period_0002",
          "calendar_period_0003",
          "calendar_period_0004",
          "calendar_period_0005",
          "calendar_period_0006",
          "calendar_period_0007",
          "calendar_period_0008",
          "calendar_period_0009",
          "calendar_period_0010",
          "calendar_period_0011",
          "calendar_period_0012",
          "calendar_period_0013",
          "calendar_period_0014",
          "calendar_period_0015",
          "calendar_period_0016",
          "calendar_period_0017",
          "calendar_period_0018",
          "calendar_period_0019",
          "calendar_period_0020",
          "calendar_period_0021",
          "calendar_period_0022",
          "calendar_period_0023",
          "calendar_period_0024",
          "calendar_period_0025",
          "calendar_period_0026",
          "calendar_period_0027",
          "calendar_period_0028",
          "calendar_period_0029",
          "calendar_period_0030",
          "calendar_period_0031",
          "calendar_period_0032",
          "calendar_period_0033",
          "calendar_period_0034",
          "calendar_period_0035",
          "calendar_period_0036",
          "calendar_period_0037",
          "calendar_period_0038",
          "calendar_period_0039"
         ],
         "xaxis": "x",
         "y": [
          0.0012815044538179686,
          -0.023262474568995273,
          -0.06947024148473599,
          -0.11394888844742962,
          -0.15322878666448658,
          -0.22623431814317843,
          -0.33097651628281405,
          -0.4181578630632938,
          -0.5359795323408482,
          -0.6545906151965495,
          -0.766418938171873,
          -0.8314123224189711,
          -1.0192732733414904,
          -1.157530861686157,
          -1.2311874004763128,
          -1.3568107649550383,
          -1.4326310623284537,
          -1.583247964269693,
          -1.6775837113837808,
          -1.6675837113837808,
          -1.6575837113837808,
          -1.6475837113837808,
          -1.6375837113837808,
          -1.6275837113837808,
          -1.6175837113837808,
          -1.6075837113837808,
          -1.5975837113837807,
          -1.5875837113837807,
          -1.5775837113837807,
          -1.5675837113837807,
          -1.5575837113837807,
          -1.547583711383781,
          -1.537583711383781,
          -1.527583711383781,
          -1.517583711383781,
          -1.5075837113837809,
          -1.4975837113837809,
          -1.4875837113837809
         ],
         "yaxis": "y"
        }
       ],
       "layout": {
        "legend": {
         "tracegroupgap": 0
        },
        "margin": {
         "t": 60
        },
        "template": {
         "data": {
          "bar": [
           {
            "error_x": {
             "color": "#2a3f5f"
            },
            "error_y": {
             "color": "#2a3f5f"
            },
            "marker": {
             "line": {
              "color": "#E5ECF6",
              "width": 0.5
             },
             "pattern": {
              "fillmode": "overlay",
              "size": 10,
              "solidity": 0.2
             }
            },
            "type": "bar"
           }
          ],
          "barpolar": [
           {
            "marker": {
             "line": {
              "color": "#E5ECF6",
              "width": 0.5
             },
             "pattern": {
              "fillmode": "overlay",
              "size": 10,
              "solidity": 0.2
             }
            },
            "type": "barpolar"
           }
          ],
          "carpet": [
           {
            "aaxis": {
             "endlinecolor": "#2a3f5f",
             "gridcolor": "white",
             "linecolor": "white",
             "minorgridcolor": "white",
             "startlinecolor": "#2a3f5f"
            },
            "baxis": {
             "endlinecolor": "#2a3f5f",
             "gridcolor": "white",
             "linecolor": "white",
             "minorgridcolor": "white",
             "startlinecolor": "#2a3f5f"
            },
            "type": "carpet"
           }
          ],
          "choropleth": [
           {
            "colorbar": {
             "outlinewidth": 0,
             "ticks": ""
            },
            "type": "choropleth"
           }
          ],
          "contour": [
           {
            "colorbar": {
             "outlinewidth": 0,
             "ticks": ""
            },
            "colorscale": [
             [
              0,
              "#0d0887"
             ],
             [
              0.1111111111111111,
              "#46039f"
             ],
             [
              0.2222222222222222,
              "#7201a8"
             ],
             [
              0.3333333333333333,
              "#9c179e"
             ],
             [
              0.4444444444444444,
              "#bd3786"
             ],
             [
              0.5555555555555556,
              "#d8576b"
             ],
             [
              0.6666666666666666,
              "#ed7953"
             ],
             [
              0.7777777777777778,
              "#fb9f3a"
             ],
             [
              0.8888888888888888,
              "#fdca26"
             ],
             [
              1,
              "#f0f921"
             ]
            ],
            "type": "contour"
           }
          ],
          "contourcarpet": [
           {
            "colorbar": {
             "outlinewidth": 0,
             "ticks": ""
            },
            "type": "contourcarpet"
           }
          ],
          "heatmap": [
           {
            "colorbar": {
             "outlinewidth": 0,
             "ticks": ""
            },
            "colorscale": [
             [
              0,
              "#0d0887"
             ],
             [
              0.1111111111111111,
              "#46039f"
             ],
             [
              0.2222222222222222,
              "#7201a8"
             ],
             [
              0.3333333333333333,
              "#9c179e"
             ],
             [
              0.4444444444444444,
              "#bd3786"
             ],
             [
              0.5555555555555556,
              "#d8576b"
             ],
             [
              0.6666666666666666,
              "#ed7953"
             ],
             [
              0.7777777777777778,
              "#fb9f3a"
             ],
             [
              0.8888888888888888,
              "#fdca26"
             ],
             [
              1,
              "#f0f921"
             ]
            ],
            "type": "heatmap"
           }
          ],
          "heatmapgl": [
           {
            "colorbar": {
             "outlinewidth": 0,
             "ticks": ""
            },
            "colorscale": [
             [
              0,
              "#0d0887"
             ],
             [
              0.1111111111111111,
              "#46039f"
             ],
             [
              0.2222222222222222,
              "#7201a8"
             ],
             [
              0.3333333333333333,
              "#9c179e"
             ],
             [
              0.4444444444444444,
              "#bd3786"
             ],
             [
              0.5555555555555556,
              "#d8576b"
             ],
             [
              0.6666666666666666,
              "#ed7953"
             ],
             [
              0.7777777777777778,
              "#fb9f3a"
             ],
             [
              0.8888888888888888,
              "#fdca26"
             ],
             [
              1,
              "#f0f921"
             ]
            ],
            "type": "heatmapgl"
           }
          ],
          "histogram": [
           {
            "marker": {
             "pattern": {
              "fillmode": "overlay",
              "size": 10,
              "solidity": 0.2
             }
            },
            "type": "histogram"
           }
          ],
          "histogram2d": [
           {
            "colorbar": {
             "outlinewidth": 0,
             "ticks": ""
            },
            "colorscale": [
             [
              0,
              "#0d0887"
             ],
             [
              0.1111111111111111,
              "#46039f"
             ],
             [
              0.2222222222222222,
              "#7201a8"
             ],
             [
              0.3333333333333333,
              "#9c179e"
             ],
             [
              0.4444444444444444,
              "#bd3786"
             ],
             [
              0.5555555555555556,
              "#d8576b"
             ],
             [
              0.6666666666666666,
              "#ed7953"
             ],
             [
              0.7777777777777778,
              "#fb9f3a"
             ],
             [
              0.8888888888888888,
              "#fdca26"
             ],
             [
              1,
              "#f0f921"
             ]
            ],
            "type": "histogram2d"
           }
          ],
          "histogram2dcontour": [
           {
            "colorbar": {
             "outlinewidth": 0,
             "ticks": ""
            },
            "colorscale": [
             [
              0,
              "#0d0887"
             ],
             [
              0.1111111111111111,
              "#46039f"
             ],
             [
              0.2222222222222222,
              "#7201a8"
             ],
             [
              0.3333333333333333,
              "#9c179e"
             ],
             [
              0.4444444444444444,
              "#bd3786"
             ],
             [
              0.5555555555555556,
              "#d8576b"
             ],
             [
              0.6666666666666666,
              "#ed7953"
             ],
             [
              0.7777777777777778,
              "#fb9f3a"
             ],
             [
              0.8888888888888888,
              "#fdca26"
             ],
             [
              1,
              "#f0f921"
             ]
            ],
            "type": "histogram2dcontour"
           }
          ],
          "mesh3d": [
           {
            "colorbar": {
             "outlinewidth": 0,
             "ticks": ""
            },
            "type": "mesh3d"
           }
          ],
          "parcoords": [
           {
            "line": {
             "colorbar": {
              "outlinewidth": 0,
              "ticks": ""
             }
            },
            "type": "parcoords"
           }
          ],
          "pie": [
           {
            "automargin": true,
            "type": "pie"
           }
          ],
          "scatter": [
           {
            "fillpattern": {
             "fillmode": "overlay",
             "size": 10,
             "solidity": 0.2
            },
            "type": "scatter"
           }
          ],
          "scatter3d": [
           {
            "line": {
             "colorbar": {
              "outlinewidth": 0,
              "ticks": ""
             }
            },
            "marker": {
             "colorbar": {
              "outlinewidth": 0,
              "ticks": ""
             }
            },
            "type": "scatter3d"
           }
          ],
          "scattercarpet": [
           {
            "marker": {
             "colorbar": {
              "outlinewidth": 0,
              "ticks": ""
             }
            },
            "type": "scattercarpet"
           }
          ],
          "scattergeo": [
           {
            "marker": {
             "colorbar": {
              "outlinewidth": 0,
              "ticks": ""
             }
            },
            "type": "scattergeo"
           }
          ],
          "scattergl": [
           {
            "marker": {
             "colorbar": {
              "outlinewidth": 0,
              "ticks": ""
             }
            },
            "type": "scattergl"
           }
          ],
          "scattermapbox": [
           {
            "marker": {
             "colorbar": {
              "outlinewidth": 0,
              "ticks": ""
             }
            },
            "type": "scattermapbox"
           }
          ],
          "scatterpolar": [
           {
            "marker": {
             "colorbar": {
              "outlinewidth": 0,
              "ticks": ""
             }
            },
            "type": "scatterpolar"
           }
          ],
          "scatterpolargl": [
           {
            "marker": {
             "colorbar": {
              "outlinewidth": 0,
              "ticks": ""
             }
            },
            "type": "scatterpolargl"
           }
          ],
          "scatterternary": [
           {
            "marker": {
             "colorbar": {
              "outlinewidth": 0,
              "ticks": ""
             }
            },
            "type": "scatterternary"
           }
          ],
          "surface": [
           {
            "colorbar": {
             "outlinewidth": 0,
             "ticks": ""
            },
            "colorscale": [
             [
              0,
              "#0d0887"
             ],
             [
              0.1111111111111111,
              "#46039f"
             ],
             [
              0.2222222222222222,
              "#7201a8"
             ],
             [
              0.3333333333333333,
              "#9c179e"
             ],
             [
              0.4444444444444444,
              "#bd3786"
             ],
             [
              0.5555555555555556,
              "#d8576b"
             ],
             [
              0.6666666666666666,
              "#ed7953"
             ],
             [
              0.7777777777777778,
              "#fb9f3a"
             ],
             [
              0.8888888888888888,
              "#fdca26"
             ],
             [
              1,
              "#f0f921"
             ]
            ],
            "type": "surface"
           }
          ],
          "table": [
           {
            "cells": {
             "fill": {
              "color": "#EBF0F8"
             },
             "line": {
              "color": "white"
             }
            },
            "header": {
             "fill": {
              "color": "#C8D4E3"
             },
             "line": {
              "color": "white"
             }
            },
            "type": "table"
           }
          ]
         },
         "layout": {
          "annotationdefaults": {
           "arrowcolor": "#2a3f5f",
           "arrowhead": 0,
           "arrowwidth": 1
          },
          "autotypenumbers": "strict",
          "coloraxis": {
           "colorbar": {
            "outlinewidth": 0,
            "ticks": ""
           }
          },
          "colorscale": {
           "diverging": [
            [
             0,
             "#8e0152"
            ],
            [
             0.1,
             "#c51b7d"
            ],
            [
             0.2,
             "#de77ae"
            ],
            [
             0.3,
             "#f1b6da"
            ],
            [
             0.4,
             "#fde0ef"
            ],
            [
             0.5,
             "#f7f7f7"
            ],
            [
             0.6,
             "#e6f5d0"
            ],
            [
             0.7,
             "#b8e186"
            ],
            [
             0.8,
             "#7fbc41"
            ],
            [
             0.9,
             "#4d9221"
            ],
            [
             1,
             "#276419"
            ]
           ],
           "sequential": [
            [
             0,
             "#0d0887"
            ],
            [
             0.1111111111111111,
             "#46039f"
            ],
            [
             0.2222222222222222,
             "#7201a8"
            ],
            [
             0.3333333333333333,
             "#9c179e"
            ],
            [
             0.4444444444444444,
             "#bd3786"
            ],
            [
             0.5555555555555556,
             "#d8576b"
            ],
            [
             0.6666666666666666,
             "#ed7953"
            ],
            [
             0.7777777777777778,
             "#fb9f3a"
            ],
            [
             0.8888888888888888,
             "#fdca26"
            ],
            [
             1,
             "#f0f921"
            ]
           ],
           "sequentialminus": [
            [
             0,
             "#0d0887"
            ],
            [
             0.1111111111111111,
             "#46039f"
            ],
            [
             0.2222222222222222,
             "#7201a8"
            ],
            [
             0.3333333333333333,
             "#9c179e"
            ],
            [
             0.4444444444444444,
             "#bd3786"
            ],
            [
             0.5555555555555556,
             "#d8576b"
            ],
            [
             0.6666666666666666,
             "#ed7953"
            ],
            [
             0.7777777777777778,
             "#fb9f3a"
            ],
            [
             0.8888888888888888,
             "#fdca26"
            ],
            [
             1,
             "#f0f921"
            ]
           ]
          },
          "colorway": [
           "#636efa",
           "#EF553B",
           "#00cc96",
           "#ab63fa",
           "#FFA15A",
           "#19d3f3",
           "#FF6692",
           "#B6E880",
           "#FF97FF",
           "#FECB52"
          ],
          "font": {
           "color": "#2a3f5f"
          },
          "geo": {
           "bgcolor": "white",
           "lakecolor": "white",
           "landcolor": "#E5ECF6",
           "showlakes": true,
           "showland": true,
           "subunitcolor": "white"
          },
          "hoverlabel": {
           "align": "left"
          },
          "hovermode": "closest",
          "mapbox": {
           "style": "light"
          },
          "paper_bgcolor": "white",
          "plot_bgcolor": "#E5ECF6",
          "polar": {
           "angularaxis": {
            "gridcolor": "white",
            "linecolor": "white",
            "ticks": ""
           },
           "bgcolor": "#E5ECF6",
           "radialaxis": {
            "gridcolor": "white",
            "linecolor": "white",
            "ticks": ""
           }
          },
          "scene": {
           "xaxis": {
            "backgroundcolor": "#E5ECF6",
            "gridcolor": "white",
            "gridwidth": 2,
            "linecolor": "white",
            "showbackground": true,
            "ticks": "",
            "zerolinecolor": "white"
           },
           "yaxis": {
            "backgroundcolor": "#E5ECF6",
            "gridcolor": "white",
            "gridwidth": 2,
            "linecolor": "white",
            "showbackground": true,
            "ticks": "",
            "zerolinecolor": "white"
           },
           "zaxis": {
            "backgroundcolor": "#E5ECF6",
            "gridcolor": "white",
            "gridwidth": 2,
            "linecolor": "white",
            "showbackground": true,
            "ticks": "",
            "zerolinecolor": "white"
           }
          },
          "shapedefaults": {
           "line": {
            "color": "#2a3f5f"
           }
          },
          "ternary": {
           "aaxis": {
            "gridcolor": "white",
            "linecolor": "white",
            "ticks": ""
           },
           "baxis": {
            "gridcolor": "white",
            "linecolor": "white",
            "ticks": ""
           },
           "bgcolor": "#E5ECF6",
           "caxis": {
            "gridcolor": "white",
            "linecolor": "white",
            "ticks": ""
           }
          },
          "title": {
           "x": 0.05
          },
          "xaxis": {
           "automargin": true,
           "gridcolor": "white",
           "linecolor": "white",
           "ticks": "",
           "title": {
            "standoff": 15
           },
           "zerolinecolor": "white",
           "zerolinewidth": 2
          },
          "yaxis": {
           "automargin": true,
           "gridcolor": "white",
           "linecolor": "white",
           "ticks": "",
           "title": {
            "standoff": 15
           },
           "zerolinecolor": "white",
           "zerolinewidth": 2
          }
         }
        },
        "title": {
         "text": "Cumulative cal parameters"
        },
        "xaxis": {
         "anchor": "y",
         "domain": [
          0,
          1
         ],
         "title": {
          "text": "Parameter"
         }
        },
        "yaxis": {
         "anchor": "x",
         "domain": [
          0,
          1
         ],
         "title": {
          "text": "Cumulative Parameter Value"
         }
        }
       }
      }
     },
     "metadata": {},
     "output_type": "display_data"
    }
   ],
   "source": [
    "r.tweediecal.PlotParameter('cal')"
   ]
  },
  {
   "cell_type": "code",
   "execution_count": null,
   "metadata": {},
   "outputs": [
    {
     "data": {
      "text/plain": [
       "Accident Period\n",
       "2003-01-01    195584.0\n",
       "2004-01-01    207689.0\n",
       "2005-01-01    213399.0\n",
       "2006-01-01    226476.0\n",
       "2007-01-01    225216.0\n",
       "2008-01-01    226185.0\n",
       "2009-01-01    198145.0\n",
       "2010-01-01    202605.0\n",
       "2011-01-01    193849.0\n",
       "2012-01-01    183345.0\n",
       "2013-01-01    207766.0\n",
       "2014-01-01    177991.0\n",
       "2015-01-01    162247.0\n",
       "2016-01-01    156749.0\n",
       "2017-01-01    152771.0\n",
       "2018-01-01    162776.0\n",
       "2019-01-01    147095.0\n",
       "2020-01-01    129495.0\n",
       "2021-01-01    133205.0\n",
       "2022-01-01    133130.0\n",
       "Name: GLM Ultimate, dtype: float64"
      ]
     },
     "execution_count": 54,
     "metadata": {},
     "output_type": "execute_result"
    }
   ],
   "source": [
    "r.tweediecal.Ultimate()"
   ]
  },
  {
   "cell_type": "code",
   "execution_count": null,
   "metadata": {},
   "outputs": [
    {
     "data": {
      "text/plain": [
       "'acc'"
      ]
     },
     "execution_count": 55,
     "metadata": {},
     "output_type": "execute_result"
    }
   ],
   "source": [
    "def parse_param_name(x):\n",
    "  if x.find(\"_\") == -1:\n",
    "    return x\n",
    "  else:\n",
    "    end = x.split(\"_\")[len(x.split(\"_\"))-1]\n",
    "    out = x.replace(f\"_{end}\", \"\")[:3]\n",
    "    return out\n",
    "  \n",
    "\n",
    "df = pd.DataFrame(dict(nm=r.tweediecal.GetParameterNames(), val=r.tweediecal.model.coef_))\n",
    "parse_param_name(df.nm[2])"
   ]
  },
  {
   "cell_type": "code",
   "execution_count": null,
   "metadata": {},
   "outputs": [
    {
     "data": {
      "text/html": [
       "<div>\n",
       "<style scoped>\n",
       "    .dataframe tbody tr th:only-of-type {\n",
       "        vertical-align: middle;\n",
       "    }\n",
       "\n",
       "    .dataframe tbody tr th {\n",
       "        vertical-align: top;\n",
       "    }\n",
       "\n",
       "    .dataframe thead th {\n",
       "        text-align: right;\n",
       "    }\n",
       "</style>\n",
       "<table border=\"1\" class=\"dataframe\">\n",
       "  <thead>\n",
       "    <tr style=\"text-align: right;\">\n",
       "      <th></th>\n",
       "      <th>chain ladder</th>\n",
       "      <th>tweedie</th>\n",
       "      <th>tweediecal</th>\n",
       "    </tr>\n",
       "    <tr>\n",
       "      <th>Accident Period</th>\n",
       "      <th></th>\n",
       "      <th></th>\n",
       "      <th></th>\n",
       "    </tr>\n",
       "  </thead>\n",
       "  <tbody>\n",
       "    <tr>\n",
       "      <th>2003-01-01</th>\n",
       "      <td>200.0</td>\n",
       "      <td>198.0</td>\n",
       "      <td>205.0</td>\n",
       "    </tr>\n",
       "    <tr>\n",
       "      <th>2004-01-01</th>\n",
       "      <td>219.0</td>\n",
       "      <td>212.0</td>\n",
       "      <td>218.0</td>\n",
       "    </tr>\n",
       "    <tr>\n",
       "      <th>2005-01-01</th>\n",
       "      <td>214.0</td>\n",
       "      <td>217.0</td>\n",
       "      <td>224.0</td>\n",
       "    </tr>\n",
       "    <tr>\n",
       "      <th>2006-01-01</th>\n",
       "      <td>250.0</td>\n",
       "      <td>231.0</td>\n",
       "      <td>238.0</td>\n",
       "    </tr>\n",
       "    <tr>\n",
       "      <th>2007-01-01</th>\n",
       "      <td>245.0</td>\n",
       "      <td>229.0</td>\n",
       "      <td>236.0</td>\n",
       "    </tr>\n",
       "    <tr>\n",
       "      <th>2008-01-01</th>\n",
       "      <td>260.0</td>\n",
       "      <td>232.0</td>\n",
       "      <td>237.0</td>\n",
       "    </tr>\n",
       "    <tr>\n",
       "      <th>2009-01-01</th>\n",
       "      <td>208.0</td>\n",
       "      <td>204.0</td>\n",
       "      <td>208.0</td>\n",
       "    </tr>\n",
       "    <tr>\n",
       "      <th>2010-01-01</th>\n",
       "      <td>215.0</td>\n",
       "      <td>208.0</td>\n",
       "      <td>213.0</td>\n",
       "    </tr>\n",
       "    <tr>\n",
       "      <th>2011-01-01</th>\n",
       "      <td>204.0</td>\n",
       "      <td>199.0</td>\n",
       "      <td>204.0</td>\n",
       "    </tr>\n",
       "    <tr>\n",
       "      <th>2012-01-01</th>\n",
       "      <td>190.0</td>\n",
       "      <td>187.0</td>\n",
       "      <td>193.0</td>\n",
       "    </tr>\n",
       "    <tr>\n",
       "      <th>2013-01-01</th>\n",
       "      <td>187.0</td>\n",
       "      <td>217.0</td>\n",
       "      <td>218.0</td>\n",
       "    </tr>\n",
       "    <tr>\n",
       "      <th>2014-01-01</th>\n",
       "      <td>178.0</td>\n",
       "      <td>183.0</td>\n",
       "      <td>187.0</td>\n",
       "    </tr>\n",
       "    <tr>\n",
       "      <th>2015-01-01</th>\n",
       "      <td>149.0</td>\n",
       "      <td>165.0</td>\n",
       "      <td>170.0</td>\n",
       "    </tr>\n",
       "    <tr>\n",
       "      <th>2016-01-01</th>\n",
       "      <td>161.0</td>\n",
       "      <td>158.0</td>\n",
       "      <td>165.0</td>\n",
       "    </tr>\n",
       "    <tr>\n",
       "      <th>2017-01-01</th>\n",
       "      <td>134.0</td>\n",
       "      <td>152.0</td>\n",
       "      <td>160.0</td>\n",
       "    </tr>\n",
       "    <tr>\n",
       "      <th>2018-01-01</th>\n",
       "      <td>149.0</td>\n",
       "      <td>164.0</td>\n",
       "      <td>171.0</td>\n",
       "    </tr>\n",
       "    <tr>\n",
       "      <th>2019-01-01</th>\n",
       "      <td>146.0</td>\n",
       "      <td>148.0</td>\n",
       "      <td>154.0</td>\n",
       "    </tr>\n",
       "    <tr>\n",
       "      <th>2020-01-01</th>\n",
       "      <td>107.0</td>\n",
       "      <td>128.0</td>\n",
       "      <td>136.0</td>\n",
       "    </tr>\n",
       "    <tr>\n",
       "      <th>2021-01-01</th>\n",
       "      <td>121.0</td>\n",
       "      <td>132.0</td>\n",
       "      <td>140.0</td>\n",
       "    </tr>\n",
       "    <tr>\n",
       "      <th>2022-01-01</th>\n",
       "      <td>121.0</td>\n",
       "      <td>130.0</td>\n",
       "      <td>140.0</td>\n",
       "    </tr>\n",
       "  </tbody>\n",
       "</table>\n",
       "</div>"
      ],
      "text/plain": [
       "                 chain ladder  tweedie  tweediecal\n",
       "Accident Period                                   \n",
       "2003-01-01              200.0    198.0       205.0\n",
       "2004-01-01              219.0    212.0       218.0\n",
       "2005-01-01              214.0    217.0       224.0\n",
       "2006-01-01              250.0    231.0       238.0\n",
       "2007-01-01              245.0    229.0       236.0\n",
       "2008-01-01              260.0    232.0       237.0\n",
       "2009-01-01              208.0    204.0       208.0\n",
       "2010-01-01              215.0    208.0       213.0\n",
       "2011-01-01              204.0    199.0       204.0\n",
       "2012-01-01              190.0    187.0       193.0\n",
       "2013-01-01              187.0    217.0       218.0\n",
       "2014-01-01              178.0    183.0       187.0\n",
       "2015-01-01              149.0    165.0       170.0\n",
       "2016-01-01              161.0    158.0       165.0\n",
       "2017-01-01              134.0    152.0       160.0\n",
       "2018-01-01              149.0    164.0       171.0\n",
       "2019-01-01              146.0    148.0       154.0\n",
       "2020-01-01              107.0    128.0       136.0\n",
       "2021-01-01              121.0    132.0       140.0\n",
       "2022-01-01              121.0    130.0       140.0"
      ]
     },
     "execution_count": 58,
     "metadata": {},
     "output_type": "execute_result"
    }
   ],
   "source": [
    "df = pd.DataFrame({\n",
    "  'chain ladder': r.paid_loss.ult(tail=1.05),\n",
    "  'tweedie': r.tweedie.Ultimate(tail=1.05),\n",
    "  'tweediecal': r.tweediecal.Ultimate(tail=1.05)\n",
    "}).round(-3)/1000\n",
    "\n",
    "df"
   ]
  },
  {
   "cell_type": "code",
   "execution_count": null,
   "metadata": {},
   "outputs": [],
   "source": [
    "r.Add"
   ]
  }
 ],
 "metadata": {
  "kernelspec": {
   "display_name": "dat",
   "language": "python",
   "name": "python3"
  },
  "language_info": {
   "codemirror_mode": {
    "name": "ipython",
    "version": 3
   },
   "file_extension": ".py",
   "mimetype": "text/x-python",
   "name": "python",
   "nbconvert_exporter": "python",
   "pygments_lexer": "ipython3",
   "version": "3.10.11"
  },
  "orig_nbformat": 4,
  "vscode": {
   "interpreter": {
    "hash": "ba478163c995622e2b1453e06e2da8ac1639a4b44994d6e4f00b5cb5d33915e6"
   }
  }
 },
 "nbformat": 4,
 "nbformat_minor": 2
}
