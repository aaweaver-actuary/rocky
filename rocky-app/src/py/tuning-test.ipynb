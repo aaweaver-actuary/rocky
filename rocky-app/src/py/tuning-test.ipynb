{
 "cells": [
  {
   "cell_type": "code",
   "execution_count": 1,
   "metadata": {},
   "outputs": [],
   "source": [
    "%run rockycore\n",
    "%run TriangleTimeSeriesSplit"
   ]
  },
  {
   "cell_type": "code",
   "execution_count": 2,
   "metadata": {},
   "outputs": [],
   "source": [
    "rky = rocky()"
   ]
  },
  {
   "cell_type": "code",
   "execution_count": 3,
   "metadata": {},
   "outputs": [
    {
     "data": {
      "text/html": [
       "<div>\n",
       "<style scoped>\n",
       "    .dataframe tbody tr th:only-of-type {\n",
       "        vertical-align: middle;\n",
       "    }\n",
       "\n",
       "    .dataframe tbody tr th {\n",
       "        vertical-align: top;\n",
       "    }\n",
       "\n",
       "    .dataframe thead th {\n",
       "        text-align: right;\n",
       "    }\n",
       "</style>\n",
       "<table border=\"1\" class=\"dataframe\">\n",
       "  <thead>\n",
       "    <tr style=\"text-align: right;\">\n",
       "      <th>development_period</th>\n",
       "      <th>1</th>\n",
       "      <th>2</th>\n",
       "      <th>3</th>\n",
       "      <th>4</th>\n",
       "      <th>5</th>\n",
       "      <th>6</th>\n",
       "      <th>7</th>\n",
       "      <th>8</th>\n",
       "      <th>9</th>\n",
       "      <th>10</th>\n",
       "    </tr>\n",
       "    <tr>\n",
       "      <th>accident_period</th>\n",
       "      <th></th>\n",
       "      <th></th>\n",
       "      <th></th>\n",
       "      <th></th>\n",
       "      <th></th>\n",
       "      <th></th>\n",
       "      <th></th>\n",
       "      <th></th>\n",
       "      <th></th>\n",
       "      <th></th>\n",
       "    </tr>\n",
       "  </thead>\n",
       "  <tbody>\n",
       "    <tr>\n",
       "      <th>2001-01-01</th>\n",
       "      <td>357848.0</td>\n",
       "      <td>1124788.0</td>\n",
       "      <td>1735330.0</td>\n",
       "      <td>2218270.0</td>\n",
       "      <td>2745596.0</td>\n",
       "      <td>3319994.0</td>\n",
       "      <td>3466336.0</td>\n",
       "      <td>3606286.0</td>\n",
       "      <td>3833515.0</td>\n",
       "      <td>3901463.0</td>\n",
       "    </tr>\n",
       "    <tr>\n",
       "      <th>2002-01-01</th>\n",
       "      <td>352118.0</td>\n",
       "      <td>1236139.0</td>\n",
       "      <td>2170033.0</td>\n",
       "      <td>3353322.0</td>\n",
       "      <td>3799067.0</td>\n",
       "      <td>4120063.0</td>\n",
       "      <td>4647867.0</td>\n",
       "      <td>4914039.0</td>\n",
       "      <td>5339085.0</td>\n",
       "      <td>NaN</td>\n",
       "    </tr>\n",
       "    <tr>\n",
       "      <th>2003-01-01</th>\n",
       "      <td>290507.0</td>\n",
       "      <td>1292306.0</td>\n",
       "      <td>2218525.0</td>\n",
       "      <td>3235179.0</td>\n",
       "      <td>3985995.0</td>\n",
       "      <td>4132918.0</td>\n",
       "      <td>4628910.0</td>\n",
       "      <td>4909315.0</td>\n",
       "      <td>NaN</td>\n",
       "      <td>NaN</td>\n",
       "    </tr>\n",
       "    <tr>\n",
       "      <th>2004-01-01</th>\n",
       "      <td>310608.0</td>\n",
       "      <td>1418858.0</td>\n",
       "      <td>2195047.0</td>\n",
       "      <td>3757447.0</td>\n",
       "      <td>4029929.0</td>\n",
       "      <td>4381982.0</td>\n",
       "      <td>4588268.0</td>\n",
       "      <td>NaN</td>\n",
       "      <td>NaN</td>\n",
       "      <td>NaN</td>\n",
       "    </tr>\n",
       "    <tr>\n",
       "      <th>2005-01-01</th>\n",
       "      <td>443160.0</td>\n",
       "      <td>1136350.0</td>\n",
       "      <td>2128333.0</td>\n",
       "      <td>2897821.0</td>\n",
       "      <td>3402672.0</td>\n",
       "      <td>3873311.0</td>\n",
       "      <td>NaN</td>\n",
       "      <td>NaN</td>\n",
       "      <td>NaN</td>\n",
       "      <td>NaN</td>\n",
       "    </tr>\n",
       "    <tr>\n",
       "      <th>2006-01-01</th>\n",
       "      <td>396132.0</td>\n",
       "      <td>1333217.0</td>\n",
       "      <td>2180715.0</td>\n",
       "      <td>2985752.0</td>\n",
       "      <td>3691712.0</td>\n",
       "      <td>NaN</td>\n",
       "      <td>NaN</td>\n",
       "      <td>NaN</td>\n",
       "      <td>NaN</td>\n",
       "      <td>NaN</td>\n",
       "    </tr>\n",
       "    <tr>\n",
       "      <th>2007-01-01</th>\n",
       "      <td>440832.0</td>\n",
       "      <td>1288463.0</td>\n",
       "      <td>2419861.0</td>\n",
       "      <td>3483130.0</td>\n",
       "      <td>NaN</td>\n",
       "      <td>NaN</td>\n",
       "      <td>NaN</td>\n",
       "      <td>NaN</td>\n",
       "      <td>NaN</td>\n",
       "      <td>NaN</td>\n",
       "    </tr>\n",
       "    <tr>\n",
       "      <th>2008-01-01</th>\n",
       "      <td>359480.0</td>\n",
       "      <td>1421128.0</td>\n",
       "      <td>2864498.0</td>\n",
       "      <td>NaN</td>\n",
       "      <td>NaN</td>\n",
       "      <td>NaN</td>\n",
       "      <td>NaN</td>\n",
       "      <td>NaN</td>\n",
       "      <td>NaN</td>\n",
       "      <td>NaN</td>\n",
       "    </tr>\n",
       "    <tr>\n",
       "      <th>2009-01-01</th>\n",
       "      <td>376686.0</td>\n",
       "      <td>1363294.0</td>\n",
       "      <td>NaN</td>\n",
       "      <td>NaN</td>\n",
       "      <td>NaN</td>\n",
       "      <td>NaN</td>\n",
       "      <td>NaN</td>\n",
       "      <td>NaN</td>\n",
       "      <td>NaN</td>\n",
       "      <td>NaN</td>\n",
       "    </tr>\n",
       "    <tr>\n",
       "      <th>2010-01-01</th>\n",
       "      <td>344014.0</td>\n",
       "      <td>NaN</td>\n",
       "      <td>NaN</td>\n",
       "      <td>NaN</td>\n",
       "      <td>NaN</td>\n",
       "      <td>NaN</td>\n",
       "      <td>NaN</td>\n",
       "      <td>NaN</td>\n",
       "      <td>NaN</td>\n",
       "      <td>NaN</td>\n",
       "    </tr>\n",
       "  </tbody>\n",
       "</table>\n",
       "</div>"
      ],
      "text/plain": [
       "development_period         1          2          3          4          5   \n",
       "accident_period                                                            \n",
       "2001-01-01          357848.0  1124788.0  1735330.0  2218270.0  2745596.0  \\\n",
       "2002-01-01          352118.0  1236139.0  2170033.0  3353322.0  3799067.0   \n",
       "2003-01-01          290507.0  1292306.0  2218525.0  3235179.0  3985995.0   \n",
       "2004-01-01          310608.0  1418858.0  2195047.0  3757447.0  4029929.0   \n",
       "2005-01-01          443160.0  1136350.0  2128333.0  2897821.0  3402672.0   \n",
       "2006-01-01          396132.0  1333217.0  2180715.0  2985752.0  3691712.0   \n",
       "2007-01-01          440832.0  1288463.0  2419861.0  3483130.0        NaN   \n",
       "2008-01-01          359480.0  1421128.0  2864498.0        NaN        NaN   \n",
       "2009-01-01          376686.0  1363294.0        NaN        NaN        NaN   \n",
       "2010-01-01          344014.0        NaN        NaN        NaN        NaN   \n",
       "\n",
       "development_period          6          7          8          9         10  \n",
       "accident_period                                                            \n",
       "2001-01-01          3319994.0  3466336.0  3606286.0  3833515.0  3901463.0  \n",
       "2002-01-01          4120063.0  4647867.0  4914039.0  5339085.0        NaN  \n",
       "2003-01-01          4132918.0  4628910.0  4909315.0        NaN        NaN  \n",
       "2004-01-01          4381982.0  4588268.0        NaN        NaN        NaN  \n",
       "2005-01-01          3873311.0        NaN        NaN        NaN        NaN  \n",
       "2006-01-01                NaN        NaN        NaN        NaN        NaN  \n",
       "2007-01-01                NaN        NaN        NaN        NaN        NaN  \n",
       "2008-01-01                NaN        NaN        NaN        NaN        NaN  \n",
       "2009-01-01                NaN        NaN        NaN        NaN        NaN  \n",
       "2010-01-01                NaN        NaN        NaN        NaN        NaN  "
      ]
     },
     "execution_count": 3,
     "metadata": {},
     "output_type": "execute_result"
    }
   ],
   "source": [
    "rky.SampleTri('taylor_ashe')\n",
    "rky.paid_loss.tri"
   ]
  },
  {
   "cell_type": "code",
   "execution_count": 39,
   "metadata": {},
   "outputs": [
    {
     "name": "stdout",
     "output_type": "stream",
     "text": [
      "n_estimators_10\n",
      "min_samples_split_2\n",
      "min_samples_leaf_1\n",
      "max_features_sqrt\n",
      "bootstrap_False\n"
     ]
    }
   ],
   "source": [
    "import itertools\n",
    "def get_grid(grid):\n",
    "  return list(itertools.product(*[grid[k] for k in grid.keys()]))\n",
    "\n",
    "# anonymous function to get the key for each combination of hyperparameters\n",
    "def is_number(n):\n",
    "    try:\n",
    "        float(n)\n",
    "    except ValueError:\n",
    "        return False\n",
    "    except TypeError:\n",
    "        return False\n",
    "    return True\n",
    "\n",
    "def get_key(grid, param_set):   \n",
    "    return \"-\".join(\n",
    "        [\n",
    "            f\"{k}_{np.round(v, 2) if is_number(v) and not isinstance(v, bool) else v}\"\n",
    "            for k, v in zip(grid.keys(), param_set)\n",
    "        ]\n",
    "    )\n",
    "\n",
    "grid = ts.random_forest_grid\n",
    "\n",
    "for k, v in zip(grid.keys(), get_grid(grid)[3]):\n",
    "  if v is not None:\n",
    "    if isinstance(v, bool):\n",
    "        print(f\"{k}_{v}\" )\n",
    "    elif isinstance(v, str):\n",
    "        print(f\"{k}_{v}\" )\n",
    "    else:\n",
    "        print(f\"{k}_{np.round(v, 2)}\" )\n",
    "        # print(f\"{k}_{v}\" )\n",
    "# "
   ]
  },
  {
   "cell_type": "code",
   "execution_count": 45,
   "metadata": {},
   "outputs": [
    {
     "data": {
      "application/vnd.jupyter.widget-view+json": {
       "model_id": "8191705cd6e845f49b96676368b9c825",
       "version_major": 2,
       "version_minor": 0
      },
      "text/plain": [
       "Training models with data through 2009:   0%|          | 0/288 [00:00<?, ?it/s]"
      ]
     },
     "metadata": {},
     "output_type": "display_data"
    },
    {
     "data": {
      "application/vnd.jupyter.widget-view+json": {
       "model_id": "4dd7a5896c674312b7f20416159aae31",
       "version_major": 2,
       "version_minor": 0
      },
      "text/plain": [
       "Training models with data through 2008:   0%|          | 0/288 [00:00<?, ?it/s]"
      ]
     },
     "metadata": {},
     "output_type": "display_data"
    },
    {
     "data": {
      "application/vnd.jupyter.widget-view+json": {
       "model_id": "11206b31f3534aecb6a7ae385d91417a",
       "version_major": 2,
       "version_minor": 0
      },
      "text/plain": [
       "Training models with data through 2007:   0%|          | 0/288 [00:00<?, ?it/s]"
      ]
     },
     "metadata": {},
     "output_type": "display_data"
    },
    {
     "data": {
      "application/vnd.jupyter.widget-view+json": {
       "model_id": "96a06d12d2b548b796ec7b048a6c82fa",
       "version_major": 2,
       "version_minor": 0
      },
      "text/plain": [
       "Training models with data through 2006:   0%|          | 0/288 [00:00<?, ?it/s]"
      ]
     },
     "metadata": {},
     "output_type": "display_data"
    },
    {
     "data": {
      "application/vnd.jupyter.widget-view+json": {
       "model_id": "7317d15f5e8f44379a41f582279009ba",
       "version_major": 2,
       "version_minor": 0
      },
      "text/plain": [
       "Training models with data through 2005:   0%|          | 0/288 [00:00<?, ?it/s]"
      ]
     },
     "metadata": {},
     "output_type": "display_data"
    },
    {
     "name": "stdout",
     "output_type": "stream",
     "text": [
      "0 / 288 models failed to converge.\n"
     ]
    },
    {
     "data": {
      "text/html": [
       "<div>\n",
       "<style scoped>\n",
       "    .dataframe tbody tr th:only-of-type {\n",
       "        vertical-align: middle;\n",
       "    }\n",
       "\n",
       "    .dataframe tbody tr th {\n",
       "        vertical-align: top;\n",
       "    }\n",
       "\n",
       "    .dataframe thead th {\n",
       "        text-align: right;\n",
       "    }\n",
       "</style>\n",
       "<table border=\"1\" class=\"dataframe\">\n",
       "  <thead>\n",
       "    <tr style=\"text-align: right;\">\n",
       "      <th></th>\n",
       "      <th>ave_mse_train</th>\n",
       "      <th>sd_mse_train</th>\n",
       "      <th>cv_mse_train</th>\n",
       "      <th>ave_mse_test</th>\n",
       "      <th>sd_mse_test</th>\n",
       "      <th>cv_mse_test</th>\n",
       "      <th>ave_mae_train</th>\n",
       "      <th>sd_mae_train</th>\n",
       "      <th>cv_mae_train</th>\n",
       "      <th>ave_mae_test</th>\n",
       "      <th>sd_mae_test</th>\n",
       "      <th>cv_mae_test</th>\n",
       "    </tr>\n",
       "  </thead>\n",
       "  <tbody>\n",
       "    <tr>\n",
       "      <th>n_estimators_10-min_samples_split_2-min_samples_leaf_2-bootstrap_False</th>\n",
       "      <td>2.355701e+10</td>\n",
       "      <td>9.471512e+09</td>\n",
       "      <td>0.402068</td>\n",
       "      <td>1.114593e+11</td>\n",
       "      <td>6.163147e+10</td>\n",
       "      <td>0.55295</td>\n",
       "      <td>109894.085351</td>\n",
       "      <td>20925.715486</td>\n",
       "      <td>0.190417</td>\n",
       "      <td>251007.339556</td>\n",
       "      <td>85168.001</td>\n",
       "      <td>0.339305</td>\n",
       "    </tr>\n",
       "  </tbody>\n",
       "</table>\n",
       "</div>"
      ],
      "text/plain": [
       "                                                    ave_mse_train   \n",
       "n_estimators_10-min_samples_split_2-min_samples...   2.355701e+10  \\\n",
       "\n",
       "                                                    sd_mse_train   \n",
       "n_estimators_10-min_samples_split_2-min_samples...  9.471512e+09  \\\n",
       "\n",
       "                                                    cv_mse_train   \n",
       "n_estimators_10-min_samples_split_2-min_samples...      0.402068  \\\n",
       "\n",
       "                                                    ave_mse_test   \n",
       "n_estimators_10-min_samples_split_2-min_samples...  1.114593e+11  \\\n",
       "\n",
       "                                                     sd_mse_test  cv_mse_test   \n",
       "n_estimators_10-min_samples_split_2-min_samples...  6.163147e+10      0.55295  \\\n",
       "\n",
       "                                                    ave_mae_train   \n",
       "n_estimators_10-min_samples_split_2-min_samples...  109894.085351  \\\n",
       "\n",
       "                                                    sd_mae_train   \n",
       "n_estimators_10-min_samples_split_2-min_samples...  20925.715486  \\\n",
       "\n",
       "                                                    cv_mae_train   \n",
       "n_estimators_10-min_samples_split_2-min_samples...      0.190417  \\\n",
       "\n",
       "                                                     ave_mae_test   \n",
       "n_estimators_10-min_samples_split_2-min_samples...  251007.339556  \\\n",
       "\n",
       "                                                    sd_mae_test  cv_mae_test  \n",
       "n_estimators_10-min_samples_split_2-min_samples...    85168.001     0.339305  "
      ]
     },
     "execution_count": 45,
     "metadata": {},
     "output_type": "execute_result"
    }
   ],
   "source": [
    "%run TriangleTimeSeriesSplit\n",
    "ts = TriangleTimeSeriesSplit(rky.paid_loss)\n",
    "result = ts.TuneModel(RandomForestRegressor())\n",
    "result"
   ]
  },
  {
   "cell_type": "code",
   "execution_count": 5,
   "metadata": {},
   "outputs": [],
   "source": [
    "from sklearn.ensemble import RandomForestRegressor"
   ]
  },
  {
   "cell_type": "code",
   "execution_count": 6,
   "metadata": {},
   "outputs": [
    {
     "ename": "AttributeError",
     "evalue": "'NoneType' object has no attribute 'ay'",
     "output_type": "error",
     "traceback": [
      "\u001b[1;31m---------------------------------------------------------------------------\u001b[0m",
      "\u001b[1;31mAttributeError\u001b[0m                            Traceback (most recent call last)",
      "Cell \u001b[1;32mIn[6], line 1\u001b[0m\n\u001b[1;32m----> 1\u001b[0m ts\u001b[39m.\u001b[39;49mTuneModel(RandomForestRegressor())\n",
      "File \u001b[1;32m~\\OneDrive\\Documents\\GitHub\\rocky\\rocky-app\\src\\py\\TriangleTimeSeriesSplit.py:344\u001b[0m, in \u001b[0;36mTriangleTimeSeriesSplit.TuneModel\u001b[1;34m(self, model, grid, n_jobs, verbose, use_cal, **kwargs)\u001b[0m\n\u001b[0;32m    312\u001b[0m \u001b[39mdef\u001b[39;00m \u001b[39mTuneModel\u001b[39m(\n\u001b[0;32m    313\u001b[0m     \u001b[39mself\u001b[39m, model, grid\u001b[39m=\u001b[39m\u001b[39mNone\u001b[39;00m, n_jobs\u001b[39m=\u001b[39m\u001b[39m-\u001b[39m\u001b[39m1\u001b[39m, verbose\u001b[39m=\u001b[39m\u001b[39m0\u001b[39m, use_cal\u001b[39m=\u001b[39m\u001b[39mFalse\u001b[39;00m, \u001b[39m*\u001b[39m\u001b[39m*\u001b[39mkwargs\n\u001b[0;32m    314\u001b[0m ):\n\u001b[0;32m    315\u001b[0m \u001b[39m    \u001b[39m\u001b[39m\"\"\"\u001b[39;00m\n\u001b[0;32m    316\u001b[0m \u001b[39m    Tune a model's hyperparameters using time series cross validation.\u001b[39;00m\n\u001b[0;32m    317\u001b[0m \n\u001b[1;32m   (...)\u001b[0m\n\u001b[0;32m    342\u001b[0m \u001b[39m        if you want to pass a validation set, you can pass X_valid and y_valid here.\u001b[39;00m\n\u001b[0;32m    343\u001b[0m \u001b[39m    \"\"\"\u001b[39;00m\n\u001b[1;32m--> 344\u001b[0m     first_ay \u001b[39m=\u001b[39m \u001b[39mself\u001b[39;49m\u001b[39m.\u001b[39;49mtri\u001b[39m.\u001b[39;49may\u001b[39m.\u001b[39mmin()\n\u001b[0;32m    346\u001b[0m     result_dict \u001b[39m=\u001b[39m {}\n\u001b[0;32m    348\u001b[0m     \u001b[39m# apply default grid if none is passed (if model is one of the three models\u001b[39;00m\n\u001b[0;32m    349\u001b[0m     \u001b[39m# that have default grids)\u001b[39;00m\n",
      "\u001b[1;31mAttributeError\u001b[0m: 'NoneType' object has no attribute 'ay'"
     ]
    }
   ],
   "source": []
  }
 ],
 "metadata": {
  "kernelspec": {
   "display_name": "rocky",
   "language": "python",
   "name": "python3"
  },
  "language_info": {
   "codemirror_mode": {
    "name": "ipython",
    "version": 3
   },
   "file_extension": ".py",
   "mimetype": "text/x-python",
   "name": "python",
   "nbconvert_exporter": "python",
   "pygments_lexer": "ipython3",
   "version": "3.9.16"
  },
  "orig_nbformat": 4
 },
 "nbformat": 4,
 "nbformat_minor": 2
}
