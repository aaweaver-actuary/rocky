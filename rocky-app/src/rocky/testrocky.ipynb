{
 "cells": [
  {
   "cell_type": "code",
   "execution_count": 1,
   "metadata": {},
   "outputs": [],
   "source": [
    "%run rockycore"
   ]
  },
  {
   "cell_type": "code",
   "execution_count": 2,
   "metadata": {},
   "outputs": [
    {
     "name": "stdout",
     "output_type": "stream",
     "text": [
      "This is for testing only. Please do not recommend assigning much credibility to these estimates for the purposes selecting carried reserves.\n"
     ]
    }
   ],
   "source": [
    "r = rocky()\n",
    "r.SampleTri('taylor_ashe')\n",
    "r.AddModel('icrfs', 'loglinear', 'paid_loss')"
   ]
  },
  {
   "cell_type": "code",
   "execution_count": 3,
   "metadata": {},
   "outputs": [
    {
     "name": "stderr",
     "output_type": "stream",
     "text": [
      "C:\\Users\\AndyW\\OneDrive\\Documents\\GitHub\\rocky\\rocky-app\\src\\py\\LogLinear.py:271: UserWarning: `alpha` and `l1_ratio`\n",
      "  warnings.warn(message)\n",
      "Tuning on 9 and earlier:   0%|          | 0/651 [00:00<?, ?it/s]"
     ]
    },
    {
     "name": "stderr",
     "output_type": "stream",
     "text": [
      "Tuning on 9 and earlier: 100%|██████████| 651/651 [00:04<00:00, 155.53it/s]\n",
      "Tuning on 8 and earlier: 100%|██████████| 651/651 [00:04<00:00, 160.99it/s]\n",
      "Tuning on 7 and earlier: 100%|██████████| 651/651 [00:03<00:00, 165.60it/s]\n",
      "Tuning on 6 and earlier: 100%|██████████| 651/651 [00:03<00:00, 167.22it/s]\n",
      "Tuning on 5 and earlier: 100%|██████████| 651/651 [00:04<00:00, 161.09it/s]\n",
      "C:\\Users\\AndyW\\OneDrive\\Documents\\GitHub\\rocky\\rocky-app\\src\\py\\LogLinear.py:331: RuntimeWarning: overflow encountered in exp\n",
      "  yhat = np.exp(self.model.predict(X))\n",
      "C:\\Users\\AndyW\\OneDrive\\Documents\\GitHub\\rocky\\rocky-app\\src\\py\\LogLinear.py:331: RuntimeWarning: overflow encountered in exp\n",
      "  yhat = np.exp(self.model.predict(X))\n"
     ]
    }
   ],
   "source": [
    "r.icrfs.Fit()"
   ]
  },
  {
   "cell_type": "code",
   "execution_count": 17,
   "metadata": {},
   "outputs": [
    {
     "data": {
      "text/html": [
       "<div>\n",
       "<style scoped>\n",
       "    .dataframe tbody tr th:only-of-type {\n",
       "        vertical-align: middle;\n",
       "    }\n",
       "\n",
       "    .dataframe tbody tr th {\n",
       "        vertical-align: top;\n",
       "    }\n",
       "\n",
       "    .dataframe thead th {\n",
       "        text-align: right;\n",
       "    }\n",
       "</style>\n",
       "<table border=\"1\" class=\"dataframe\">\n",
       "  <thead>\n",
       "    <tr style=\"text-align: right;\">\n",
       "      <th></th>\n",
       "      <th>alpha_</th>\n",
       "      <th>l1ratio_</th>\n",
       "      <th>max_iter_</th>\n",
       "      <th>tuning_mse_mean</th>\n",
       "      <th>tuning_mse_std</th>\n",
       "      <th>tuning_mae_mean</th>\n",
       "      <th>tuning_mae_std</th>\n",
       "      <th>tuning_d2_mean</th>\n",
       "      <th>tuning_d2_std</th>\n",
       "      <th>tuning_r2_mean</th>\n",
       "      <th>tuning_r2_std</th>\n",
       "    </tr>\n",
       "  </thead>\n",
       "  <tbody>\n",
       "    <tr>\n",
       "      <th>611</th>\n",
       "      <td>3.0</td>\n",
       "      <td>0.05</td>\n",
       "      <td>100000</td>\n",
       "      <td>1.337601e+11</td>\n",
       "      <td>9.144612e+09</td>\n",
       "      <td>317561.461791</td>\n",
       "      <td>12045.278201</td>\n",
       "      <td>0.0</td>\n",
       "      <td>0.0</td>\n",
       "      <td>0.000183</td>\n",
       "      <td>0.064884</td>\n",
       "    </tr>\n",
       "  </tbody>\n",
       "</table>\n",
       "</div>"
      ],
      "text/plain": [
       "     alpha_  l1ratio_  max_iter_  tuning_mse_mean  tuning_mse_std   \n",
       "611     3.0      0.05     100000     1.337601e+11    9.144612e+09  \\\n",
       "\n",
       "     tuning_mae_mean  tuning_mae_std  tuning_d2_mean  tuning_d2_std   \n",
       "611    317561.461791    12045.278201             0.0            0.0  \\\n",
       "\n",
       "     tuning_r2_mean  tuning_r2_std  \n",
       "611        0.000183       0.064884  "
      ]
     },
     "execution_count": 17,
     "metadata": {},
     "output_type": "execute_result"
    }
   ],
   "source": [
    "r.icrfs.cv.tweedie_optimal"
   ]
  },
  {
   "cell_type": "code",
   "execution_count": 16,
   "metadata": {},
   "outputs": [
    {
     "data": {
      "text/plain": [
       "<Axes: >"
      ]
     },
     "execution_count": 16,
     "metadata": {},
     "output_type": "execute_result"
    },
    {
     "data": {
      "image/png": "[encoded data removed]",
      "text/plain": [
       "<Figure size 640x480 with 1 Axes>"
      ]
     },
     "metadata": {},
     "output_type": "display_data"
    }
   ],
   "source": [
    "r.icrfs.cv.tuning_results.tuning_mse_mean.hist()"
   ]
  }
 ],
 "metadata": {
  "kernelspec": {
   "display_name": "rocky",
   "language": "python",
   "name": "python3"
  },
  "language_info": {
   "codemirror_mode": {
    "name": "ipython",
    "version": 3
   },
   "file_extension": ".py",
   "mimetype": "text/x-python",
   "name": "python",
   "nbconvert_exporter": "python",
   "pygments_lexer": "ipython3",
   "version": "3.9.16"
  },
  "orig_nbformat": 4
 },
 "nbformat": 4,
 "nbformat_minor": 2
}
