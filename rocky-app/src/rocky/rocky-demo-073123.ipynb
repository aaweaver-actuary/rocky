{
 "cells": [
  {
   "cell_type": "code",
   "execution_count": 1,
   "metadata": {},
   "outputs": [],
   "source": [
    "import pandas as pd\n",
    "import numpy as np\n",
    "import plotly.express as px\n",
    "\n",
    "# add the rocky package to the path\n",
    "import sys\n",
    "sys.path.append('../')\n",
    "\n",
    "# import the rocky package\n",
    "from rocky.core import rocky\n",
    "from rocky.triangle import Triangle"
   ]
  },
  {
   "cell_type": "markdown",
   "metadata": {},
   "source": [
    "### a `rocky` object is a container that holds triangles, models, and forecasts"
   ]
  },
  {
   "cell_type": "code",
   "execution_count": 2,
   "metadata": {},
   "outputs": [
    {
     "data": {
      "text/plain": [
       "rocky(id='rocky0', mod=(), f=(), plot=(), t=())"
      ]
     },
     "execution_count": 2,
     "metadata": {},
     "output_type": "execute_result"
    }
   ],
   "source": [
    "rky = rocky()\n",
    "rky"
   ]
  },
  {
   "cell_type": "markdown",
   "metadata": {},
   "source": [
    "### you can add `Triangle` objects to the `rocky` object from just about anywhere:\n",
    "- `xlsx`\n",
    "- `csv`\n",
    "- `pd.DataFrame`\n",
    "- `clipboard`\n",
    "- several sample triangles are available in the `rocky` package as well"
   ]
  },
  {
   "cell_type": "code",
   "execution_count": 3,
   "metadata": {},
   "outputs": [
    {
     "data": {
      "text/plain": [
       "development_period         1          2          3          4          5  \\\n",
       "accident_period                                                            \n",
       "2001-01-01          357848.0  1124788.0  1735330.0  2218270.0  2745596.0   \n",
       "2002-01-01          352118.0  1236139.0  2170033.0  3353322.0  3799067.0   \n",
       "2003-01-01          290507.0  1292306.0  2218525.0  3235179.0  3985995.0   \n",
       "2004-01-01          310608.0  1418858.0  2195047.0  3757447.0  4029929.0   \n",
       "2005-01-01          443160.0  1136350.0  2128333.0  2897821.0  3402672.0   \n",
       "2006-01-01          396132.0  1333217.0  2180715.0  2985752.0  3691712.0   \n",
       "2007-01-01          440832.0  1288463.0  2419861.0  3483130.0        NaN   \n",
       "2008-01-01          359480.0  1421128.0  2864498.0        NaN        NaN   \n",
       "2009-01-01          376686.0  1363294.0        NaN        NaN        NaN   \n",
       "2010-01-01          344014.0        NaN        NaN        NaN        NaN   \n",
       "\n",
       "development_period          6          7          8          9         10  \n",
       "accident_period                                                            \n",
       "2001-01-01          3319994.0  3466336.0  3606286.0  3833515.0  3901463.0  \n",
       "2002-01-01          4120063.0  4647867.0  4914039.0  5339085.0        NaN  \n",
       "2003-01-01          4132918.0  4628910.0  4909315.0        NaN        NaN  \n",
       "2004-01-01          4381982.0  4588268.0        NaN        NaN        NaN  \n",
       "2005-01-01          3873311.0        NaN        NaN        NaN        NaN  \n",
       "2006-01-01                NaN        NaN        NaN        NaN        NaN  \n",
       "2007-01-01                NaN        NaN        NaN        NaN        NaN  \n",
       "2008-01-01                NaN        NaN        NaN        NaN        NaN  \n",
       "2009-01-01                NaN        NaN        NaN        NaN        NaN  \n",
       "2010-01-01                NaN        NaN        NaN        NaN        NaN  "
      ]
     },
     "execution_count": 3,
     "metadata": {},
     "output_type": "execute_result"
    }
   ],
   "source": [
    "# rky.FromClipboard(id='trifromclip')\n",
    "# rky.FromExcel('./tri_data.xlsx', origin_columns=1, id='trifromexcel', sheet_name='Sheet1', sheet_range='g45:x65')\n",
    "# rky.FromCSV('./tri_data.csv', origin_columns=1, id='trifromcsv')\n",
    "# rky.FromDF(df, id='trifromdf')\n",
    "\n",
    "rky.SampleTri('taylor_ashe', id='loss_tri')\n",
    "rky.loss_tri"
   ]
  },
  {
   "cell_type": "markdown",
   "metadata": {},
   "source": [
    "### a `Triangle` object is a wrapper around a `pandas.DataFrame` that adds convenience methods for doing loss development analyses"
   ]
  },
  {
   "cell_type": "code",
   "execution_count": 4,
   "metadata": {},
   "outputs": [
    {
     "data": {
      "text/html": [
       "<div>\n",
       "<style scoped>\n",
       "    .dataframe tbody tr th:only-of-type {\n",
       "        vertical-align: middle;\n",
       "    }\n",
       "\n",
       "    .dataframe tbody tr th {\n",
       "        vertical-align: top;\n",
       "    }\n",
       "\n",
       "    .dataframe thead th {\n",
       "        text-align: right;\n",
       "    }\n",
       "</style>\n",
       "<table border=\"1\" class=\"dataframe\">\n",
       "  <thead>\n",
       "    <tr style=\"text-align: right;\">\n",
       "      <th>development_period</th>\n",
       "      <th>1</th>\n",
       "      <th>2</th>\n",
       "      <th>3</th>\n",
       "      <th>4</th>\n",
       "      <th>5</th>\n",
       "      <th>6</th>\n",
       "      <th>7</th>\n",
       "      <th>8</th>\n",
       "      <th>9</th>\n",
       "      <th>10</th>\n",
       "    </tr>\n",
       "    <tr>\n",
       "      <th>accident_period</th>\n",
       "      <th></th>\n",
       "      <th></th>\n",
       "      <th></th>\n",
       "      <th></th>\n",
       "      <th></th>\n",
       "      <th></th>\n",
       "      <th></th>\n",
       "      <th></th>\n",
       "      <th></th>\n",
       "      <th></th>\n",
       "    </tr>\n",
       "  </thead>\n",
       "  <tbody>\n",
       "    <tr>\n",
       "      <th>2001-01-01</th>\n",
       "      <td>357848.0</td>\n",
       "      <td>1124788.0</td>\n",
       "      <td>1735330.0</td>\n",
       "      <td>2218270.0</td>\n",
       "      <td>2745596.0</td>\n",
       "      <td>3319994.0</td>\n",
       "      <td>3466336.0</td>\n",
       "      <td>3606286.0</td>\n",
       "      <td>3833515.0</td>\n",
       "      <td>3901463.0</td>\n",
       "    </tr>\n",
       "    <tr>\n",
       "      <th>2002-01-01</th>\n",
       "      <td>352118.0</td>\n",
       "      <td>1236139.0</td>\n",
       "      <td>2170033.0</td>\n",
       "      <td>3353322.0</td>\n",
       "      <td>3799067.0</td>\n",
       "      <td>4120063.0</td>\n",
       "      <td>4647867.0</td>\n",
       "      <td>4914039.0</td>\n",
       "      <td>5339085.0</td>\n",
       "      <td>NaN</td>\n",
       "    </tr>\n",
       "    <tr>\n",
       "      <th>2003-01-01</th>\n",
       "      <td>290507.0</td>\n",
       "      <td>1292306.0</td>\n",
       "      <td>2218525.0</td>\n",
       "      <td>3235179.0</td>\n",
       "      <td>3985995.0</td>\n",
       "      <td>4132918.0</td>\n",
       "      <td>4628910.0</td>\n",
       "      <td>4909315.0</td>\n",
       "      <td>NaN</td>\n",
       "      <td>NaN</td>\n",
       "    </tr>\n",
       "    <tr>\n",
       "      <th>2004-01-01</th>\n",
       "      <td>310608.0</td>\n",
       "      <td>1418858.0</td>\n",
       "      <td>2195047.0</td>\n",
       "      <td>3757447.0</td>\n",
       "      <td>4029929.0</td>\n",
       "      <td>4381982.0</td>\n",
       "      <td>4588268.0</td>\n",
       "      <td>NaN</td>\n",
       "      <td>NaN</td>\n",
       "      <td>NaN</td>\n",
       "    </tr>\n",
       "    <tr>\n",
       "      <th>2005-01-01</th>\n",
       "      <td>443160.0</td>\n",
       "      <td>1136350.0</td>\n",
       "      <td>2128333.0</td>\n",
       "      <td>2897821.0</td>\n",
       "      <td>3402672.0</td>\n",
       "      <td>3873311.0</td>\n",
       "      <td>NaN</td>\n",
       "      <td>NaN</td>\n",
       "      <td>NaN</td>\n",
       "      <td>NaN</td>\n",
       "    </tr>\n",
       "    <tr>\n",
       "      <th>2006-01-01</th>\n",
       "      <td>396132.0</td>\n",
       "      <td>1333217.0</td>\n",
       "      <td>2180715.0</td>\n",
       "      <td>2985752.0</td>\n",
       "      <td>3691712.0</td>\n",
       "      <td>NaN</td>\n",
       "      <td>NaN</td>\n",
       "      <td>NaN</td>\n",
       "      <td>NaN</td>\n",
       "      <td>NaN</td>\n",
       "    </tr>\n",
       "    <tr>\n",
       "      <th>2007-01-01</th>\n",
       "      <td>440832.0</td>\n",
       "      <td>1288463.0</td>\n",
       "      <td>2419861.0</td>\n",
       "      <td>3483130.0</td>\n",
       "      <td>NaN</td>\n",
       "      <td>NaN</td>\n",
       "      <td>NaN</td>\n",
       "      <td>NaN</td>\n",
       "      <td>NaN</td>\n",
       "      <td>NaN</td>\n",
       "    </tr>\n",
       "    <tr>\n",
       "      <th>2008-01-01</th>\n",
       "      <td>359480.0</td>\n",
       "      <td>1421128.0</td>\n",
       "      <td>2864498.0</td>\n",
       "      <td>NaN</td>\n",
       "      <td>NaN</td>\n",
       "      <td>NaN</td>\n",
       "      <td>NaN</td>\n",
       "      <td>NaN</td>\n",
       "      <td>NaN</td>\n",
       "      <td>NaN</td>\n",
       "    </tr>\n",
       "    <tr>\n",
       "      <th>2009-01-01</th>\n",
       "      <td>376686.0</td>\n",
       "      <td>1363294.0</td>\n",
       "      <td>NaN</td>\n",
       "      <td>NaN</td>\n",
       "      <td>NaN</td>\n",
       "      <td>NaN</td>\n",
       "      <td>NaN</td>\n",
       "      <td>NaN</td>\n",
       "      <td>NaN</td>\n",
       "      <td>NaN</td>\n",
       "    </tr>\n",
       "    <tr>\n",
       "      <th>2010-01-01</th>\n",
       "      <td>344014.0</td>\n",
       "      <td>NaN</td>\n",
       "      <td>NaN</td>\n",
       "      <td>NaN</td>\n",
       "      <td>NaN</td>\n",
       "      <td>NaN</td>\n",
       "      <td>NaN</td>\n",
       "      <td>NaN</td>\n",
       "      <td>NaN</td>\n",
       "      <td>NaN</td>\n",
       "    </tr>\n",
       "  </tbody>\n",
       "</table>\n",
       "</div>"
      ],
      "text/plain": [
       "development_period         1          2          3          4          5  \\\n",
       "accident_period                                                            \n",
       "2001-01-01          357848.0  1124788.0  1735330.0  2218270.0  2745596.0   \n",
       "2002-01-01          352118.0  1236139.0  2170033.0  3353322.0  3799067.0   \n",
       "2003-01-01          290507.0  1292306.0  2218525.0  3235179.0  3985995.0   \n",
       "2004-01-01          310608.0  1418858.0  2195047.0  3757447.0  4029929.0   \n",
       "2005-01-01          443160.0  1136350.0  2128333.0  2897821.0  3402672.0   \n",
       "2006-01-01          396132.0  1333217.0  2180715.0  2985752.0  3691712.0   \n",
       "2007-01-01          440832.0  1288463.0  2419861.0  3483130.0        NaN   \n",
       "2008-01-01          359480.0  1421128.0  2864498.0        NaN        NaN   \n",
       "2009-01-01          376686.0  1363294.0        NaN        NaN        NaN   \n",
       "2010-01-01          344014.0        NaN        NaN        NaN        NaN   \n",
       "\n",
       "development_period          6          7          8          9         10  \n",
       "accident_period                                                            \n",
       "2001-01-01          3319994.0  3466336.0  3606286.0  3833515.0  3901463.0  \n",
       "2002-01-01          4120063.0  4647867.0  4914039.0  5339085.0        NaN  \n",
       "2003-01-01          4132918.0  4628910.0  4909315.0        NaN        NaN  \n",
       "2004-01-01          4381982.0  4588268.0        NaN        NaN        NaN  \n",
       "2005-01-01          3873311.0        NaN        NaN        NaN        NaN  \n",
       "2006-01-01                NaN        NaN        NaN        NaN        NaN  \n",
       "2007-01-01                NaN        NaN        NaN        NaN        NaN  \n",
       "2008-01-01                NaN        NaN        NaN        NaN        NaN  \n",
       "2009-01-01                NaN        NaN        NaN        NaN        NaN  \n",
       "2010-01-01                NaN        NaN        NaN        NaN        NaN  "
      ]
     },
     "execution_count": 4,
     "metadata": {},
     "output_type": "execute_result"
    }
   ],
   "source": [
    "# expose underlying df with:\n",
    "rky.loss_tri.df"
   ]
  },
  {
   "cell_type": "markdown",
   "metadata": {},
   "source": [
    "#### (lots and lots of functionality for working with triangles and doing chain-ladder analyses outside of the scope of this demo)"
   ]
  },
  {
   "cell_type": "markdown",
   "metadata": {},
   "source": [
    "### once your `rocky` object has a `Triangle` object, you can assign it to a `model`"
   ]
  },
  {
   "cell_type": "code",
   "execution_count": 5,
   "metadata": {},
   "outputs": [
    {
     "name": "stdout",
     "output_type": "stream",
     "text": [
      "This is for testing and compatability only. Please do not assign much credibility to these estimates for the purposes selecting carried reserves.\n"
     ]
    },
    {
     "data": {
      "text/plain": [
       "loglinear()"
      ]
     },
     "execution_count": 5,
     "metadata": {},
     "output_type": "execute_result"
    }
   ],
   "source": [
    "rky.AddModel(id='icrfs', model_class='loglinear', tri=rky.loss_tri)\n",
    "rky.icrfs"
   ]
  },
  {
   "cell_type": "markdown",
   "metadata": {},
   "source": [
    "### most model types will end up using some sort of hyperparameter set\n",
    "\n",
    "### hyperparameters can be automatically tuned using the `TuneFitHyperparameters` method for a rocky model"
   ]
  },
  {
   "cell_type": "code",
   "execution_count": 6,
   "metadata": {},
   "outputs": [
    {
     "data": {
      "text/plain": [
       "loglinear()"
      ]
     },
     "execution_count": 6,
     "metadata": {},
     "output_type": "execute_result"
    }
   ],
   "source": [
    "# rky.icrfs.TuneFitHyperparameters(measures={'tuning_mse_mean':'min', 'tuning_mae_mean':'min', 'tuning_mse_std':'min'})\n",
    "rky.icrfs"
   ]
  },
  {
   "cell_type": "code",
   "execution_count": 7,
   "metadata": {},
   "outputs": [
    {
     "data": {
      "text/plain": [
       "loglinear(alpha=0.1, l1_ratio=0.10)"
      ]
     },
     "execution_count": 7,
     "metadata": {},
     "output_type": "execute_result"
    }
   ],
   "source": [
    "rky.icrfs.SetHyperparameters(alpha=0.1, l1_ratio=0.1)\n",
    "rky.icrfs"
   ]
  },
  {
   "cell_type": "code",
   "execution_count": 8,
   "metadata": {},
   "outputs": [
    {
     "name": "stdout",
     "output_type": "stream",
     "text": [
      "Fitting hetero adjustment: (Step/RMSE/L2-Norm)\n",
      "1/1.7029 2/1.2363 3/0.7826 4/0.4546 5/0.2513 6/0.1352 7/0.0717 8/0.0377 9/0.0198 10/0.0103 11/0.0054 "
     ]
    },
    {
     "data": {
      "text/plain": [
       "loglinear(alpha=0.1, l1_ratio=0.10)"
      ]
     },
     "execution_count": 8,
     "metadata": {},
     "output_type": "execute_result"
    }
   ],
   "source": [
    "rky.icrfs.Fit()\n",
    "rky.icrfs.FitHetero()\n",
    "icrfs = rky.icrfs\n",
    "icrfs"
   ]
  },
  {
   "cell_type": "code",
   "execution_count": 9,
   "metadata": {},
   "outputs": [
    {
     "data": {
      "text/html": [
       "<div>\n",
       "<style scoped>\n",
       "    .dataframe tbody tr th:only-of-type {\n",
       "        vertical-align: middle;\n",
       "    }\n",
       "\n",
       "    .dataframe tbody tr th {\n",
       "        vertical-align: top;\n",
       "    }\n",
       "\n",
       "    .dataframe thead th {\n",
       "        text-align: right;\n",
       "    }\n",
       "</style>\n",
       "<table border=\"1\" class=\"dataframe\">\n",
       "  <thead>\n",
       "    <tr style=\"text-align: right;\">\n",
       "      <th></th>\n",
       "      <th>names</th>\n",
       "      <th>param</th>\n",
       "      <th>param_type</th>\n",
       "    </tr>\n",
       "  </thead>\n",
       "  <tbody>\n",
       "    <tr>\n",
       "      <th>0</th>\n",
       "      <td>intercept</td>\n",
       "      <td>0.866676</td>\n",
       "      <td>intercept</td>\n",
       "    </tr>\n",
       "    <tr>\n",
       "      <th>1</th>\n",
       "      <td>accident_period_2002</td>\n",
       "      <td>0.085427</td>\n",
       "      <td>accident</td>\n",
       "    </tr>\n",
       "    <tr>\n",
       "      <th>2</th>\n",
       "      <td>accident_period_2003</td>\n",
       "      <td>0.024184</td>\n",
       "      <td>accident</td>\n",
       "    </tr>\n",
       "    <tr>\n",
       "      <th>3</th>\n",
       "      <td>accident_period_2004</td>\n",
       "      <td>0.000000</td>\n",
       "      <td>accident</td>\n",
       "    </tr>\n",
       "    <tr>\n",
       "      <th>4</th>\n",
       "      <td>accident_period_2005</td>\n",
       "      <td>0.031243</td>\n",
       "      <td>accident</td>\n",
       "    </tr>\n",
       "    <tr>\n",
       "      <th>5</th>\n",
       "      <td>accident_period_2006</td>\n",
       "      <td>0.049344</td>\n",
       "      <td>accident</td>\n",
       "    </tr>\n",
       "    <tr>\n",
       "      <th>6</th>\n",
       "      <td>accident_period_2007</td>\n",
       "      <td>0.079473</td>\n",
       "      <td>accident</td>\n",
       "    </tr>\n",
       "    <tr>\n",
       "      <th>7</th>\n",
       "      <td>accident_period_2008</td>\n",
       "      <td>0.082436</td>\n",
       "      <td>accident</td>\n",
       "    </tr>\n",
       "    <tr>\n",
       "      <th>8</th>\n",
       "      <td>accident_period_2009</td>\n",
       "      <td>0.035437</td>\n",
       "      <td>accident</td>\n",
       "    </tr>\n",
       "    <tr>\n",
       "      <th>9</th>\n",
       "      <td>accident_period_2010</td>\n",
       "      <td>0.051389</td>\n",
       "      <td>accident</td>\n",
       "    </tr>\n",
       "    <tr>\n",
       "      <th>10</th>\n",
       "      <td>development_period_002</td>\n",
       "      <td>-0.648661</td>\n",
       "      <td>development</td>\n",
       "    </tr>\n",
       "    <tr>\n",
       "      <th>11</th>\n",
       "      <td>development_period_003</td>\n",
       "      <td>-0.200407</td>\n",
       "      <td>development</td>\n",
       "    </tr>\n",
       "    <tr>\n",
       "      <th>12</th>\n",
       "      <td>development_period_004</td>\n",
       "      <td>-0.152793</td>\n",
       "      <td>development</td>\n",
       "    </tr>\n",
       "    <tr>\n",
       "      <th>13</th>\n",
       "      <td>development_period_005</td>\n",
       "      <td>-0.332976</td>\n",
       "      <td>development</td>\n",
       "    </tr>\n",
       "    <tr>\n",
       "      <th>14</th>\n",
       "      <td>development_period_006</td>\n",
       "      <td>-0.278367</td>\n",
       "      <td>development</td>\n",
       "    </tr>\n",
       "    <tr>\n",
       "      <th>15</th>\n",
       "      <td>development_period_007</td>\n",
       "      <td>-0.172066</td>\n",
       "      <td>development</td>\n",
       "    </tr>\n",
       "    <tr>\n",
       "      <th>16</th>\n",
       "      <td>development_period_008</td>\n",
       "      <td>-0.138397</td>\n",
       "      <td>development</td>\n",
       "    </tr>\n",
       "    <tr>\n",
       "      <th>17</th>\n",
       "      <td>development_period_009</td>\n",
       "      <td>-0.032004</td>\n",
       "      <td>development</td>\n",
       "    </tr>\n",
       "    <tr>\n",
       "      <th>18</th>\n",
       "      <td>development_period_010</td>\n",
       "      <td>-0.092032</td>\n",
       "      <td>development</td>\n",
       "    </tr>\n",
       "  </tbody>\n",
       "</table>\n",
       "</div>"
      ],
      "text/plain": [
       "                     names     param   param_type\n",
       "0                intercept  0.866676    intercept\n",
       "1     accident_period_2002  0.085427     accident\n",
       "2     accident_period_2003  0.024184     accident\n",
       "3     accident_period_2004  0.000000     accident\n",
       "4     accident_period_2005  0.031243     accident\n",
       "5     accident_period_2006  0.049344     accident\n",
       "6     accident_period_2007  0.079473     accident\n",
       "7     accident_period_2008  0.082436     accident\n",
       "8     accident_period_2009  0.035437     accident\n",
       "9     accident_period_2010  0.051389     accident\n",
       "10  development_period_002 -0.648661  development\n",
       "11  development_period_003 -0.200407  development\n",
       "12  development_period_004 -0.152793  development\n",
       "13  development_period_005 -0.332976  development\n",
       "14  development_period_006 -0.278367  development\n",
       "15  development_period_007 -0.172066  development\n",
       "16  development_period_008 -0.138397  development\n",
       "17  development_period_009 -0.032004  development\n",
       "18  development_period_010 -0.092032  development"
      ]
     },
     "execution_count": 9,
     "metadata": {},
     "output_type": "execute_result"
    }
   ],
   "source": [
    "icrfs.GetParameters()"
   ]
  },
  {
   "cell_type": "code",
   "execution_count": 10,
   "metadata": {},
   "outputs": [
    {
     "data": {
      "application/vnd.plotly.v1+json": {
       "config": {
        "plotlyServerURL": "https://plot.ly"
       },
       "data": [
        {
         "hovertemplate": "Accident Period=%{x}<br>Estimate=%{y}<extra></extra>",
         "legendgroup": "",
         "line": {
          "color": "red",
          "dash": "solid"
         },
         "marker": {
          "symbol": "circle"
         },
         "mode": "lines",
         "name": "",
         "orientation": "v",
         "showlegend": false,
         "type": "scatter",
         "x": [
          "accident_period_2002",
          "accident_period_2003",
          "accident_period_2004",
          "accident_period_2005",
          "accident_period_2006",
          "accident_period_2007",
          "accident_period_2008",
          "accident_period_2009",
          "accident_period_2010"
         ],
         "xaxis": "x",
         "y": [
          0.08542706040375343,
          0.02418432600971882,
          0,
          0.031243133117111216,
          0.04934377836508698,
          0.07947316421836104,
          0.08243634946916635,
          0.03543675290549581,
          0.05138905699469181
         ],
         "yaxis": "y"
        },
        {
         "hovertemplate": "Development Period=%{x}<br>Estimate=%{y}<extra></extra>",
         "legendgroup": "",
         "line": {
          "color": "blue",
          "dash": "solid"
         },
         "marker": {
          "symbol": "circle"
         },
         "mode": "lines",
         "name": "",
         "orientation": "v",
         "showlegend": false,
         "type": "scatter",
         "x": [
          "development_period_002",
          "development_period_003",
          "development_period_004",
          "development_period_005",
          "development_period_006",
          "development_period_007",
          "development_period_008",
          "development_period_009",
          "development_period_010"
         ],
         "xaxis": "x2",
         "y": [
          -0.6486611938000003,
          -0.849067877620074,
          -1.0018603867067817,
          -1.334836082862557,
          -1.6132033652902742,
          -1.7852693480180295,
          -1.9236665948888212,
          -1.9556708895308985,
          -2.0477027264655026
         ],
         "yaxis": "y2"
        },
        {
         "hovertemplate": "Calendar Period=%{x}<br>Estimate=%{y}<extra></extra>",
         "legendgroup": "",
         "line": {
          "color": "green",
          "dash": "solid"
         },
         "marker": {
          "symbol": "circle"
         },
         "mode": "lines",
         "name": "",
         "orientation": "v",
         "showlegend": false,
         "type": "scatter",
         "x": [],
         "xaxis": "x3",
         "y": [],
         "yaxis": "y3"
        },
        {
         "hovertemplate": "Development Period=%{x}<br>Hetero Adjustment=%{y}<extra></extra>",
         "legendgroup": "",
         "line": {
          "color": "black",
          "dash": "solid"
         },
         "marker": {
          "symbol": "circle"
         },
         "mode": "lines",
         "name": "",
         "orientation": "v",
         "showlegend": false,
         "type": "scatter",
         "x": [
          1,
          1,
          1,
          1,
          1,
          1,
          1,
          1,
          1,
          1,
          2,
          2,
          2,
          2,
          2,
          2,
          2,
          2,
          2,
          3,
          3,
          3,
          3,
          3,
          3,
          3,
          3,
          4,
          4,
          4,
          4,
          4,
          4,
          4,
          5,
          5,
          5,
          5,
          5,
          5,
          6,
          6,
          6,
          6,
          6,
          7,
          7,
          7,
          7,
          8,
          8,
          8,
          9,
          9,
          10
         ],
         "xaxis": "x4",
         "y": [
          19.867647502442946,
          19.867647502442946,
          19.867647502442946,
          19.867647502442946,
          19.867647502442946,
          19.867647502442946,
          19.867647502442946,
          19.867647502442946,
          19.867647502442946,
          19.867647502442946,
          1,
          1,
          1,
          1,
          1,
          1,
          1,
          1,
          1,
          1,
          1,
          1,
          1,
          1,
          1,
          1,
          1,
          1,
          1,
          1,
          1,
          1,
          1,
          1,
          1,
          1,
          1,
          1,
          1,
          1,
          1,
          1,
          1,
          1,
          1,
          1,
          1,
          1,
          1,
          1,
          1,
          1,
          1,
          1,
          1
         ],
         "yaxis": "y4"
        }
       ],
       "layout": {
        "annotations": [
         {
          "font": {
           "size": 16
          },
          "showarrow": false,
          "text": "Accident Period",
          "x": 0.225,
          "xanchor": "center",
          "xref": "paper",
          "y": 1,
          "yanchor": "bottom",
          "yref": "paper"
         },
         {
          "font": {
           "size": 16
          },
          "showarrow": false,
          "text": "Development Period",
          "x": 0.775,
          "xanchor": "center",
          "xref": "paper",
          "y": 1,
          "yanchor": "bottom",
          "yref": "paper"
         },
         {
          "font": {
           "size": 16
          },
          "showarrow": false,
          "text": "Calendar Period",
          "x": 0.225,
          "xanchor": "center",
          "xref": "paper",
          "y": 0.375,
          "yanchor": "bottom",
          "yref": "paper"
         },
         {
          "font": {
           "size": 16
          },
          "showarrow": false,
          "text": "Heteroskedasticity Adjustment",
          "x": 0.775,
          "xanchor": "center",
          "xref": "paper",
          "y": 0.375,
          "yanchor": "bottom",
          "yref": "paper"
         }
        ],
        "height": 800,
        "template": {
         "data": {
          "bar": [
           {
            "error_x": {
             "color": "#2a3f5f"
            },
            "error_y": {
             "color": "#2a3f5f"
            },
            "marker": {
             "line": {
              "color": "#E5ECF6",
              "width": 0.5
             },
             "pattern": {
              "fillmode": "overlay",
              "size": 10,
              "solidity": 0.2
             }
            },
            "type": "bar"
           }
          ],
          "barpolar": [
           {
            "marker": {
             "line": {
              "color": "#E5ECF6",
              "width": 0.5
             },
             "pattern": {
              "fillmode": "overlay",
              "size": 10,
              "solidity": 0.2
             }
            },
            "type": "barpolar"
           }
          ],
          "carpet": [
           {
            "aaxis": {
             "endlinecolor": "#2a3f5f",
             "gridcolor": "white",
             "linecolor": "white",
             "minorgridcolor": "white",
             "startlinecolor": "#2a3f5f"
            },
            "baxis": {
             "endlinecolor": "#2a3f5f",
             "gridcolor": "white",
             "linecolor": "white",
             "minorgridcolor": "white",
             "startlinecolor": "#2a3f5f"
            },
            "type": "carpet"
           }
          ],
          "choropleth": [
           {
            "colorbar": {
             "outlinewidth": 0,
             "ticks": ""
            },
            "type": "choropleth"
           }
          ],
          "contour": [
           {
            "colorbar": {
             "outlinewidth": 0,
             "ticks": ""
            },
            "colorscale": [
             [
              0,
              "#0d0887"
             ],
             [
              0.1111111111111111,
              "#46039f"
             ],
             [
              0.2222222222222222,
              "#7201a8"
             ],
             [
              0.3333333333333333,
              "#9c179e"
             ],
             [
              0.4444444444444444,
              "#bd3786"
             ],
             [
              0.5555555555555556,
              "#d8576b"
             ],
             [
              0.6666666666666666,
              "#ed7953"
             ],
             [
              0.7777777777777778,
              "#fb9f3a"
             ],
             [
              0.8888888888888888,
              "#fdca26"
             ],
             [
              1,
              "#f0f921"
             ]
            ],
            "type": "contour"
           }
          ],
          "contourcarpet": [
           {
            "colorbar": {
             "outlinewidth": 0,
             "ticks": ""
            },
            "type": "contourcarpet"
           }
          ],
          "heatmap": [
           {
            "colorbar": {
             "outlinewidth": 0,
             "ticks": ""
            },
            "colorscale": [
             [
              0,
              "#0d0887"
             ],
             [
              0.1111111111111111,
              "#46039f"
             ],
             [
              0.2222222222222222,
              "#7201a8"
             ],
             [
              0.3333333333333333,
              "#9c179e"
             ],
             [
              0.4444444444444444,
              "#bd3786"
             ],
             [
              0.5555555555555556,
              "#d8576b"
             ],
             [
              0.6666666666666666,
              "#ed7953"
             ],
             [
              0.7777777777777778,
              "#fb9f3a"
             ],
             [
              0.8888888888888888,
              "#fdca26"
             ],
             [
              1,
              "#f0f921"
             ]
            ],
            "type": "heatmap"
           }
          ],
          "heatmapgl": [
           {
            "colorbar": {
             "outlinewidth": 0,
             "ticks": ""
            },
            "colorscale": [
             [
              0,
              "#0d0887"
             ],
             [
              0.1111111111111111,
              "#46039f"
             ],
             [
              0.2222222222222222,
              "#7201a8"
             ],
             [
              0.3333333333333333,
              "#9c179e"
             ],
             [
              0.4444444444444444,
              "#bd3786"
             ],
             [
              0.5555555555555556,
              "#d8576b"
             ],
             [
              0.6666666666666666,
              "#ed7953"
             ],
             [
              0.7777777777777778,
              "#fb9f3a"
             ],
             [
              0.8888888888888888,
              "#fdca26"
             ],
             [
              1,
              "#f0f921"
             ]
            ],
            "type": "heatmapgl"
           }
          ],
          "histogram": [
           {
            "marker": {
             "pattern": {
              "fillmode": "overlay",
              "size": 10,
              "solidity": 0.2
             }
            },
            "type": "histogram"
           }
          ],
          "histogram2d": [
           {
            "colorbar": {
             "outlinewidth": 0,
             "ticks": ""
            },
            "colorscale": [
             [
              0,
              "#0d0887"
             ],
             [
              0.1111111111111111,
              "#46039f"
             ],
             [
              0.2222222222222222,
              "#7201a8"
             ],
             [
              0.3333333333333333,
              "#9c179e"
             ],
             [
              0.4444444444444444,
              "#bd3786"
             ],
             [
              0.5555555555555556,
              "#d8576b"
             ],
             [
              0.6666666666666666,
              "#ed7953"
             ],
             [
              0.7777777777777778,
              "#fb9f3a"
             ],
             [
              0.8888888888888888,
              "#fdca26"
             ],
             [
              1,
              "#f0f921"
             ]
            ],
            "type": "histogram2d"
           }
          ],
          "histogram2dcontour": [
           {
            "colorbar": {
             "outlinewidth": 0,
             "ticks": ""
            },
            "colorscale": [
             [
              0,
              "#0d0887"
             ],
             [
              0.1111111111111111,
              "#46039f"
             ],
             [
              0.2222222222222222,
              "#7201a8"
             ],
             [
              0.3333333333333333,
              "#9c179e"
             ],
             [
              0.4444444444444444,
              "#bd3786"
             ],
             [
              0.5555555555555556,
              "#d8576b"
             ],
             [
              0.6666666666666666,
              "#ed7953"
             ],
             [
              0.7777777777777778,
              "#fb9f3a"
             ],
             [
              0.8888888888888888,
              "#fdca26"
             ],
             [
              1,
              "#f0f921"
             ]
            ],
            "type": "histogram2dcontour"
           }
          ],
          "mesh3d": [
           {
            "colorbar": {
             "outlinewidth": 0,
             "ticks": ""
            },
            "type": "mesh3d"
           }
          ],
          "parcoords": [
           {
            "line": {
             "colorbar": {
              "outlinewidth": 0,
              "ticks": ""
             }
            },
            "type": "parcoords"
           }
          ],
          "pie": [
           {
            "automargin": true,
            "type": "pie"
           }
          ],
          "scatter": [
           {
            "fillpattern": {
             "fillmode": "overlay",
             "size": 10,
             "solidity": 0.2
            },
            "type": "scatter"
           }
          ],
          "scatter3d": [
           {
            "line": {
             "colorbar": {
              "outlinewidth": 0,
              "ticks": ""
             }
            },
            "marker": {
             "colorbar": {
              "outlinewidth": 0,
              "ticks": ""
             }
            },
            "type": "scatter3d"
           }
          ],
          "scattercarpet": [
           {
            "marker": {
             "colorbar": {
              "outlinewidth": 0,
              "ticks": ""
             }
            },
            "type": "scattercarpet"
           }
          ],
          "scattergeo": [
           {
            "marker": {
             "colorbar": {
              "outlinewidth": 0,
              "ticks": ""
             }
            },
            "type": "scattergeo"
           }
          ],
          "scattergl": [
           {
            "marker": {
             "colorbar": {
              "outlinewidth": 0,
              "ticks": ""
             }
            },
            "type": "scattergl"
           }
          ],
          "scattermapbox": [
           {
            "marker": {
             "colorbar": {
              "outlinewidth": 0,
              "ticks": ""
             }
            },
            "type": "scattermapbox"
           }
          ],
          "scatterpolar": [
           {
            "marker": {
             "colorbar": {
              "outlinewidth": 0,
              "ticks": ""
             }
            },
            "type": "scatterpolar"
           }
          ],
          "scatterpolargl": [
           {
            "marker": {
             "colorbar": {
              "outlinewidth": 0,
              "ticks": ""
             }
            },
            "type": "scatterpolargl"
           }
          ],
          "scatterternary": [
           {
            "marker": {
             "colorbar": {
              "outlinewidth": 0,
              "ticks": ""
             }
            },
            "type": "scatterternary"
           }
          ],
          "surface": [
           {
            "colorbar": {
             "outlinewidth": 0,
             "ticks": ""
            },
            "colorscale": [
             [
              0,
              "#0d0887"
             ],
             [
              0.1111111111111111,
              "#46039f"
             ],
             [
              0.2222222222222222,
              "#7201a8"
             ],
             [
              0.3333333333333333,
              "#9c179e"
             ],
             [
              0.4444444444444444,
              "#bd3786"
             ],
             [
              0.5555555555555556,
              "#d8576b"
             ],
             [
              0.6666666666666666,
              "#ed7953"
             ],
             [
              0.7777777777777778,
              "#fb9f3a"
             ],
             [
              0.8888888888888888,
              "#fdca26"
             ],
             [
              1,
              "#f0f921"
             ]
            ],
            "type": "surface"
           }
          ],
          "table": [
           {
            "cells": {
             "fill": {
              "color": "#EBF0F8"
             },
             "line": {
              "color": "white"
             }
            },
            "header": {
             "fill": {
              "color": "#C8D4E3"
             },
             "line": {
              "color": "white"
             }
            },
            "type": "table"
           }
          ]
         },
         "layout": {
          "annotationdefaults": {
           "arrowcolor": "#2a3f5f",
           "arrowhead": 0,
           "arrowwidth": 1
          },
          "autotypenumbers": "strict",
          "coloraxis": {
           "colorbar": {
            "outlinewidth": 0,
            "ticks": ""
           }
          },
          "colorscale": {
           "diverging": [
            [
             0,
             "#8e0152"
            ],
            [
             0.1,
             "#c51b7d"
            ],
            [
             0.2,
             "#de77ae"
            ],
            [
             0.3,
             "#f1b6da"
            ],
            [
             0.4,
             "#fde0ef"
            ],
            [
             0.5,
             "#f7f7f7"
            ],
            [
             0.6,
             "#e6f5d0"
            ],
            [
             0.7,
             "#b8e186"
            ],
            [
             0.8,
             "#7fbc41"
            ],
            [
             0.9,
             "#4d9221"
            ],
            [
             1,
             "#276419"
            ]
           ],
           "sequential": [
            [
             0,
             "#0d0887"
            ],
            [
             0.1111111111111111,
             "#46039f"
            ],
            [
             0.2222222222222222,
             "#7201a8"
            ],
            [
             0.3333333333333333,
             "#9c179e"
            ],
            [
             0.4444444444444444,
             "#bd3786"
            ],
            [
             0.5555555555555556,
             "#d8576b"
            ],
            [
             0.6666666666666666,
             "#ed7953"
            ],
            [
             0.7777777777777778,
             "#fb9f3a"
            ],
            [
             0.8888888888888888,
             "#fdca26"
            ],
            [
             1,
             "#f0f921"
            ]
           ],
           "sequentialminus": [
            [
             0,
             "#0d0887"
            ],
            [
             0.1111111111111111,
             "#46039f"
            ],
            [
             0.2222222222222222,
             "#7201a8"
            ],
            [
             0.3333333333333333,
             "#9c179e"
            ],
            [
             0.4444444444444444,
             "#bd3786"
            ],
            [
             0.5555555555555556,
             "#d8576b"
            ],
            [
             0.6666666666666666,
             "#ed7953"
            ],
            [
             0.7777777777777778,
             "#fb9f3a"
            ],
            [
             0.8888888888888888,
             "#fdca26"
            ],
            [
             1,
             "#f0f921"
            ]
           ]
          },
          "colorway": [
           "#636efa",
           "#EF553B",
           "#00cc96",
           "#ab63fa",
           "#FFA15A",
           "#19d3f3",
           "#FF6692",
           "#B6E880",
           "#FF97FF",
           "#FECB52"
          ],
          "font": {
           "color": "#2a3f5f"
          },
          "geo": {
           "bgcolor": "white",
           "lakecolor": "white",
           "landcolor": "#E5ECF6",
           "showlakes": true,
           "showland": true,
           "subunitcolor": "white"
          },
          "hoverlabel": {
           "align": "left"
          },
          "hovermode": "closest",
          "mapbox": {
           "style": "light"
          },
          "paper_bgcolor": "white",
          "plot_bgcolor": "#E5ECF6",
          "polar": {
           "angularaxis": {
            "gridcolor": "white",
            "linecolor": "white",
            "ticks": ""
           },
           "bgcolor": "#E5ECF6",
           "radialaxis": {
            "gridcolor": "white",
            "linecolor": "white",
            "ticks": ""
           }
          },
          "scene": {
           "xaxis": {
            "backgroundcolor": "#E5ECF6",
            "gridcolor": "white",
            "gridwidth": 2,
            "linecolor": "white",
            "showbackground": true,
            "ticks": "",
            "zerolinecolor": "white"
           },
           "yaxis": {
            "backgroundcolor": "#E5ECF6",
            "gridcolor": "white",
            "gridwidth": 2,
            "linecolor": "white",
            "showbackground": true,
            "ticks": "",
            "zerolinecolor": "white"
           },
           "zaxis": {
            "backgroundcolor": "#E5ECF6",
            "gridcolor": "white",
            "gridwidth": 2,
            "linecolor": "white",
            "showbackground": true,
            "ticks": "",
            "zerolinecolor": "white"
           }
          },
          "shapedefaults": {
           "line": {
            "color": "#2a3f5f"
           }
          },
          "ternary": {
           "aaxis": {
            "gridcolor": "white",
            "linecolor": "white",
            "ticks": ""
           },
           "baxis": {
            "gridcolor": "white",
            "linecolor": "white",
            "ticks": ""
           },
           "bgcolor": "#E5ECF6",
           "caxis": {
            "gridcolor": "white",
            "linecolor": "white",
            "ticks": ""
           }
          },
          "title": {
           "x": 0.05
          },
          "xaxis": {
           "automargin": true,
           "gridcolor": "white",
           "linecolor": "white",
           "ticks": "",
           "title": {
            "standoff": 15
           },
           "zerolinecolor": "white",
           "zerolinewidth": 2
          },
          "yaxis": {
           "automargin": true,
           "gridcolor": "white",
           "linecolor": "white",
           "ticks": "",
           "title": {
            "standoff": 15
           },
           "zerolinecolor": "white",
           "zerolinewidth": 2
          }
         }
        },
        "title": {
         "text": "Parameter Trend Plots"
        },
        "width": 1200,
        "xaxis": {
         "anchor": "y",
         "domain": [
          0,
          0.45
         ]
        },
        "xaxis2": {
         "anchor": "y2",
         "domain": [
          0.55,
          1
         ]
        },
        "xaxis3": {
         "anchor": "y3",
         "domain": [
          0,
          0.45
         ]
        },
        "xaxis4": {
         "anchor": "y4",
         "domain": [
          0.55,
          1
         ]
        },
        "yaxis": {
         "anchor": "x",
         "domain": [
          0.625,
          1
         ]
        },
        "yaxis2": {
         "anchor": "x2",
         "domain": [
          0.625,
          1
         ]
        },
        "yaxis3": {
         "anchor": "x3",
         "domain": [
          0,
          0.375
         ]
        },
        "yaxis4": {
         "anchor": "x4",
         "domain": [
          0,
          0.375
         ]
        }
       }
      }
     },
     "metadata": {},
     "output_type": "display_data"
    }
   ],
   "source": [
    "icrfs.TrendPlot()"
   ]
  },
  {
   "cell_type": "code",
   "execution_count": 16,
   "metadata": {},
   "outputs": [
    {
     "data": {
      "application/vnd.plotly.v1+json": {
       "config": {
        "plotlyServerURL": "https://plot.ly"
       },
       "data": [
        {
         "customdata": [
          [
           2001,
           1,
           2001,
           19.8676,
           0.8667
          ],
          [
           2002,
           1,
           2002,
           19.8676,
           0.9521
          ],
          [
           2003,
           1,
           2003,
           19.8676,
           0.8909
          ],
          [
           2004,
           1,
           2004,
           19.8676,
           0.8667
          ],
          [
           2005,
           1,
           2005,
           19.8676,
           0.8979
          ],
          [
           2006,
           1,
           2006,
           19.8676,
           0.916
          ],
          [
           2007,
           1,
           2007,
           19.8676,
           0.9461
          ],
          [
           2008,
           1,
           2008,
           19.8676,
           0.9491
          ],
          [
           2009,
           1,
           2009,
           19.8676,
           0.9021
          ],
          [
           2010,
           1,
           2010,
           19.8676,
           0.9181
          ],
          [
           2001,
           2,
           2002,
           1,
           0.218
          ],
          [
           2002,
           2,
           2003,
           1,
           0.3034
          ],
          [
           2003,
           2,
           2004,
           1,
           0.2422
          ],
          [
           2004,
           2,
           2005,
           1,
           0.218
          ],
          [
           2005,
           2,
           2006,
           1,
           0.2493
          ],
          [
           2006,
           2,
           2007,
           1,
           0.2674
          ],
          [
           2007,
           2,
           2008,
           1,
           0.2975
          ],
          [
           2008,
           2,
           2009,
           1,
           0.3005
          ],
          [
           2009,
           2,
           2010,
           1,
           0.2535
          ],
          [
           2001,
           3,
           2003,
           1,
           0.0176
          ],
          [
           2002,
           3,
           2004,
           1,
           0.103
          ],
          [
           2003,
           3,
           2005,
           1,
           0.0418
          ],
          [
           2004,
           3,
           2006,
           1,
           0.0176
          ],
          [
           2005,
           3,
           2007,
           1,
           0.0489
          ],
          [
           2006,
           3,
           2008,
           1,
           0.067
          ],
          [
           2007,
           3,
           2009,
           1,
           0.0971
          ],
          [
           2008,
           3,
           2010,
           1,
           0.1
          ],
          [
           2001,
           4,
           2004,
           1,
           -0.1352
          ],
          [
           2002,
           4,
           2005,
           1,
           -0.0498
          ],
          [
           2003,
           4,
           2006,
           1,
           -0.111
          ],
          [
           2004,
           4,
           2007,
           1,
           -0.1352
          ],
          [
           2005,
           4,
           2008,
           1,
           -0.1039
          ],
          [
           2006,
           4,
           2009,
           1,
           -0.0858
          ],
          [
           2007,
           4,
           2010,
           1,
           -0.0557
          ],
          [
           2001,
           5,
           2005,
           1,
           -0.4682
          ],
          [
           2002,
           5,
           2006,
           1,
           -0.3827
          ],
          [
           2003,
           5,
           2007,
           1,
           -0.444
          ],
          [
           2004,
           5,
           2008,
           1,
           -0.4682
          ],
          [
           2005,
           5,
           2009,
           1,
           -0.4369
          ],
          [
           2006,
           5,
           2010,
           1,
           -0.4188
          ],
          [
           2001,
           6,
           2006,
           1,
           -0.7465
          ],
          [
           2002,
           6,
           2007,
           1,
           -0.6611
          ],
          [
           2003,
           6,
           2008,
           1,
           -0.7223
          ],
          [
           2004,
           6,
           2009,
           1,
           -0.7465
          ],
          [
           2005,
           6,
           2010,
           1,
           -0.7153
          ],
          [
           2001,
           7,
           2007,
           1,
           -0.9186
          ],
          [
           2002,
           7,
           2008,
           1,
           -0.8332
          ],
          [
           2003,
           7,
           2009,
           1,
           -0.8944
          ],
          [
           2004,
           7,
           2010,
           1,
           -0.9186
          ],
          [
           2001,
           8,
           2008,
           1,
           -1.057
          ],
          [
           2002,
           8,
           2009,
           1,
           -0.9716
          ],
          [
           2003,
           8,
           2010,
           1,
           -1.0328
          ],
          [
           2001,
           9,
           2009,
           1,
           -1.089
          ],
          [
           2002,
           9,
           2010,
           1,
           -1.0036
          ],
          [
           2001,
           10,
           2010,
           1,
           -1.181
          ]
         ],
         "hovertemplate": "Fitted=%{x}<br>Actual=%{y}<br>Accident Period=%{customdata[0]}<br>Development Period=%{customdata[1]}<br>Calendar Period=%{customdata[2]}<br>Hetero Adjustment=%{customdata[3]}<br>yhat=%{customdata[4]}<br>color=%{marker.color}<extra></extra>",
         "legendgroup": "",
         "marker": {
          "color": [
           1,
           1,
           1,
           1,
           1,
           1,
           1,
           1,
           1,
           1,
           2,
           2,
           2,
           2,
           2,
           2,
           2,
           2,
           2,
           3,
           3,
           3,
           3,
           3,
           3,
           3,
           3,
           4,
           4,
           4,
           4,
           4,
           4,
           4,
           5,
           5,
           5,
           5,
           5,
           5,
           6,
           6,
           6,
           6,
           6,
           7,
           7,
           7,
           7,
           8,
           8,
           8,
           9,
           9,
           10
          ],
          "coloraxis": "coloraxis",
          "symbol": "circle"
         },
         "mode": "markers",
         "name": "",
         "orientation": "v",
         "showlegend": false,
         "type": "scatter",
         "x": [
          14.72808181030401,
          14.828850394294793,
          14.756609308209857,
          14.72808181030401,
          14.764935779863151,
          14.78628705172405,
          14.821827260348774,
          14.825322592863024,
          14.769882516012961,
          14.788699634228912,
          13.962929999155833,
          14.063698583146614,
          13.99145749706168,
          13.962929999155833,
          13.999783968714972,
          14.021135240575873,
          14.056675449200597,
          14.060170781714847,
          14.004730704864784,
          13.726533034828707,
          13.827301618819488,
          13.755060532734554,
          13.726533034828707,
          13.763387004387846,
          13.784738276248746,
          13.820278484873471,
          13.823773817387721,
          13.546301095296934,
          13.647069679287716,
          13.574828593202781,
          13.546301095296934,
          13.583155064856076,
          13.604506336716975,
          13.640046545341699,
          13.153527549696992,
          13.254296133687776,
          13.18205504760284,
          13.153527549696992,
          13.190381519256134,
          13.211732791117033,
          12.825169336889159,
          12.92593792087994,
          12.853696834795006,
          12.825169336889159,
          12.8620233064483,
          12.622202673275662,
          12.722971257266446,
          12.650730171181511,
          12.622202673275662,
          12.458951186808973,
          12.559719770799756,
          12.487478684714821,
          12.421199361597342,
          12.521967945588125,
          12.312639874168658
         ],
         "xaxis": "x",
         "y": [
          1.7559,
          1.7422,
          1.5791,
          1.6358,
          1.9371,
          1.842,
          1.9327,
          1.7597,
          1.7994,
          1.7224,
          -0.1319,
          -0.0115,
          0.0946,
          0.1802,
          -0.2176,
          0.038,
          -0.0471,
          0.1438,
          0.0816,
          -0.3252,
          0.0351,
          0.0281,
          -0.1217,
          0.0862,
          -0.0472,
          0.1977,
          0.4041,
          -0.524,
          0.2357,
          0.107,
          0.4713,
          -0.1291,
          -0.0908,
          0.145,
          -0.4495,
          -0.592,
          -0.1499,
          -1.0092,
          -0.4864,
          -0.2021,
          -0.377,
          -0.8703,
          -1.5328,
          -0.792,
          -0.5459,
          -1.5362,
          -0.4487,
          -0.5014,
          -1.2451,
          -1.574,
          -1.0291,
          -0.9849,
          -1.1632,
          -0.6323,
          -2.1866
         ],
         "yaxis": "y"
        }
       ],
       "layout": {
        "coloraxis": {
         "colorbar": {
          "title": {
           "text": "color"
          }
         },
         "colorscale": [
          [
           0,
           "#0d0887"
          ],
          [
           0.1111111111111111,
           "#46039f"
          ],
          [
           0.2222222222222222,
           "#7201a8"
          ],
          [
           0.3333333333333333,
           "#9c179e"
          ],
          [
           0.4444444444444444,
           "#bd3786"
          ],
          [
           0.5555555555555556,
           "#d8576b"
          ],
          [
           0.6666666666666666,
           "#ed7953"
          ],
          [
           0.7777777777777778,
           "#fb9f3a"
          ],
          [
           0.8888888888888888,
           "#fdca26"
          ],
          [
           1,
           "#f0f921"
          ]
         ]
        },
        "height": 800,
        "legend": {
         "tracegroupgap": 0
        },
        "shapes": [
         {
          "line": {
           "color": "black",
           "dash": "dash",
           "width": 1
          },
          "type": "line",
          "x0": 12.312639874168658,
          "x1": 14.828850394294793,
          "y0": 12.312639874168658,
          "y1": 14.828850394294793
         }
        ],
        "template": {
         "data": {
          "bar": [
           {
            "error_x": {
             "color": "#2a3f5f"
            },
            "error_y": {
             "color": "#2a3f5f"
            },
            "marker": {
             "line": {
              "color": "#E5ECF6",
              "width": 0.5
             },
             "pattern": {
              "fillmode": "overlay",
              "size": 10,
              "solidity": 0.2
             }
            },
            "type": "bar"
           }
          ],
          "barpolar": [
           {
            "marker": {
             "line": {
              "color": "#E5ECF6",
              "width": 0.5
             },
             "pattern": {
              "fillmode": "overlay",
              "size": 10,
              "solidity": 0.2
             }
            },
            "type": "barpolar"
           }
          ],
          "carpet": [
           {
            "aaxis": {
             "endlinecolor": "#2a3f5f",
             "gridcolor": "white",
             "linecolor": "white",
             "minorgridcolor": "white",
             "startlinecolor": "#2a3f5f"
            },
            "baxis": {
             "endlinecolor": "#2a3f5f",
             "gridcolor": "white",
             "linecolor": "white",
             "minorgridcolor": "white",
             "startlinecolor": "#2a3f5f"
            },
            "type": "carpet"
           }
          ],
          "choropleth": [
           {
            "colorbar": {
             "outlinewidth": 0,
             "ticks": ""
            },
            "type": "choropleth"
           }
          ],
          "contour": [
           {
            "colorbar": {
             "outlinewidth": 0,
             "ticks": ""
            },
            "colorscale": [
             [
              0,
              "#0d0887"
             ],
             [
              0.1111111111111111,
              "#46039f"
             ],
             [
              0.2222222222222222,
              "#7201a8"
             ],
             [
              0.3333333333333333,
              "#9c179e"
             ],
             [
              0.4444444444444444,
              "#bd3786"
             ],
             [
              0.5555555555555556,
              "#d8576b"
             ],
             [
              0.6666666666666666,
              "#ed7953"
             ],
             [
              0.7777777777777778,
              "#fb9f3a"
             ],
             [
              0.8888888888888888,
              "#fdca26"
             ],
             [
              1,
              "#f0f921"
             ]
            ],
            "type": "contour"
           }
          ],
          "contourcarpet": [
           {
            "colorbar": {
             "outlinewidth": 0,
             "ticks": ""
            },
            "type": "contourcarpet"
           }
          ],
          "heatmap": [
           {
            "colorbar": {
             "outlinewidth": 0,
             "ticks": ""
            },
            "colorscale": [
             [
              0,
              "#0d0887"
             ],
             [
              0.1111111111111111,
              "#46039f"
             ],
             [
              0.2222222222222222,
              "#7201a8"
             ],
             [
              0.3333333333333333,
              "#9c179e"
             ],
             [
              0.4444444444444444,
              "#bd3786"
             ],
             [
              0.5555555555555556,
              "#d8576b"
             ],
             [
              0.6666666666666666,
              "#ed7953"
             ],
             [
              0.7777777777777778,
              "#fb9f3a"
             ],
             [
              0.8888888888888888,
              "#fdca26"
             ],
             [
              1,
              "#f0f921"
             ]
            ],
            "type": "heatmap"
           }
          ],
          "heatmapgl": [
           {
            "colorbar": {
             "outlinewidth": 0,
             "ticks": ""
            },
            "colorscale": [
             [
              0,
              "#0d0887"
             ],
             [
              0.1111111111111111,
              "#46039f"
             ],
             [
              0.2222222222222222,
              "#7201a8"
             ],
             [
              0.3333333333333333,
              "#9c179e"
             ],
             [
              0.4444444444444444,
              "#bd3786"
             ],
             [
              0.5555555555555556,
              "#d8576b"
             ],
             [
              0.6666666666666666,
              "#ed7953"
             ],
             [
              0.7777777777777778,
              "#fb9f3a"
             ],
             [
              0.8888888888888888,
              "#fdca26"
             ],
             [
              1,
              "#f0f921"
             ]
            ],
            "type": "heatmapgl"
           }
          ],
          "histogram": [
           {
            "marker": {
             "pattern": {
              "fillmode": "overlay",
              "size": 10,
              "solidity": 0.2
             }
            },
            "type": "histogram"
           }
          ],
          "histogram2d": [
           {
            "colorbar": {
             "outlinewidth": 0,
             "ticks": ""
            },
            "colorscale": [
             [
              0,
              "#0d0887"
             ],
             [
              0.1111111111111111,
              "#46039f"
             ],
             [
              0.2222222222222222,
              "#7201a8"
             ],
             [
              0.3333333333333333,
              "#9c179e"
             ],
             [
              0.4444444444444444,
              "#bd3786"
             ],
             [
              0.5555555555555556,
              "#d8576b"
             ],
             [
              0.6666666666666666,
              "#ed7953"
             ],
             [
              0.7777777777777778,
              "#fb9f3a"
             ],
             [
              0.8888888888888888,
              "#fdca26"
             ],
             [
              1,
              "#f0f921"
             ]
            ],
            "type": "histogram2d"
           }
          ],
          "histogram2dcontour": [
           {
            "colorbar": {
             "outlinewidth": 0,
             "ticks": ""
            },
            "colorscale": [
             [
              0,
              "#0d0887"
             ],
             [
              0.1111111111111111,
              "#46039f"
             ],
             [
              0.2222222222222222,
              "#7201a8"
             ],
             [
              0.3333333333333333,
              "#9c179e"
             ],
             [
              0.4444444444444444,
              "#bd3786"
             ],
             [
              0.5555555555555556,
              "#d8576b"
             ],
             [
              0.6666666666666666,
              "#ed7953"
             ],
             [
              0.7777777777777778,
              "#fb9f3a"
             ],
             [
              0.8888888888888888,
              "#fdca26"
             ],
             [
              1,
              "#f0f921"
             ]
            ],
            "type": "histogram2dcontour"
           }
          ],
          "mesh3d": [
           {
            "colorbar": {
             "outlinewidth": 0,
             "ticks": ""
            },
            "type": "mesh3d"
           }
          ],
          "parcoords": [
           {
            "line": {
             "colorbar": {
              "outlinewidth": 0,
              "ticks": ""
             }
            },
            "type": "parcoords"
           }
          ],
          "pie": [
           {
            "automargin": true,
            "type": "pie"
           }
          ],
          "scatter": [
           {
            "fillpattern": {
             "fillmode": "overlay",
             "size": 10,
             "solidity": 0.2
            },
            "type": "scatter"
           }
          ],
          "scatter3d": [
           {
            "line": {
             "colorbar": {
              "outlinewidth": 0,
              "ticks": ""
             }
            },
            "marker": {
             "colorbar": {
              "outlinewidth": 0,
              "ticks": ""
             }
            },
            "type": "scatter3d"
           }
          ],
          "scattercarpet": [
           {
            "marker": {
             "colorbar": {
              "outlinewidth": 0,
              "ticks": ""
             }
            },
            "type": "scattercarpet"
           }
          ],
          "scattergeo": [
           {
            "marker": {
             "colorbar": {
              "outlinewidth": 0,
              "ticks": ""
             }
            },
            "type": "scattergeo"
           }
          ],
          "scattergl": [
           {
            "marker": {
             "colorbar": {
              "outlinewidth": 0,
              "ticks": ""
             }
            },
            "type": "scattergl"
           }
          ],
          "scattermapbox": [
           {
            "marker": {
             "colorbar": {
              "outlinewidth": 0,
              "ticks": ""
             }
            },
            "type": "scattermapbox"
           }
          ],
          "scatterpolar": [
           {
            "marker": {
             "colorbar": {
              "outlinewidth": 0,
              "ticks": ""
             }
            },
            "type": "scatterpolar"
           }
          ],
          "scatterpolargl": [
           {
            "marker": {
             "colorbar": {
              "outlinewidth": 0,
              "ticks": ""
             }
            },
            "type": "scatterpolargl"
           }
          ],
          "scatterternary": [
           {
            "marker": {
             "colorbar": {
              "outlinewidth": 0,
              "ticks": ""
             }
            },
            "type": "scatterternary"
           }
          ],
          "surface": [
           {
            "colorbar": {
             "outlinewidth": 0,
             "ticks": ""
            },
            "colorscale": [
             [
              0,
              "#0d0887"
             ],
             [
              0.1111111111111111,
              "#46039f"
             ],
             [
              0.2222222222222222,
              "#7201a8"
             ],
             [
              0.3333333333333333,
              "#9c179e"
             ],
             [
              0.4444444444444444,
              "#bd3786"
             ],
             [
              0.5555555555555556,
              "#d8576b"
             ],
             [
              0.6666666666666666,
              "#ed7953"
             ],
             [
              0.7777777777777778,
              "#fb9f3a"
             ],
             [
              0.8888888888888888,
              "#fdca26"
             ],
             [
              1,
              "#f0f921"
             ]
            ],
            "type": "surface"
           }
          ],
          "table": [
           {
            "cells": {
             "fill": {
              "color": "#EBF0F8"
             },
             "line": {
              "color": "white"
             }
            },
            "header": {
             "fill": {
              "color": "#C8D4E3"
             },
             "line": {
              "color": "white"
             }
            },
            "type": "table"
           }
          ]
         },
         "layout": {
          "annotationdefaults": {
           "arrowcolor": "#2a3f5f",
           "arrowhead": 0,
           "arrowwidth": 1
          },
          "autotypenumbers": "strict",
          "coloraxis": {
           "colorbar": {
            "outlinewidth": 0,
            "ticks": ""
           }
          },
          "colorscale": {
           "diverging": [
            [
             0,
             "#8e0152"
            ],
            [
             0.1,
             "#c51b7d"
            ],
            [
             0.2,
             "#de77ae"
            ],
            [
             0.3,
             "#f1b6da"
            ],
            [
             0.4,
             "#fde0ef"
            ],
            [
             0.5,
             "#f7f7f7"
            ],
            [
             0.6,
             "#e6f5d0"
            ],
            [
             0.7,
             "#b8e186"
            ],
            [
             0.8,
             "#7fbc41"
            ],
            [
             0.9,
             "#4d9221"
            ],
            [
             1,
             "#276419"
            ]
           ],
           "sequential": [
            [
             0,
             "#0d0887"
            ],
            [
             0.1111111111111111,
             "#46039f"
            ],
            [
             0.2222222222222222,
             "#7201a8"
            ],
            [
             0.3333333333333333,
             "#9c179e"
            ],
            [
             0.4444444444444444,
             "#bd3786"
            ],
            [
             0.5555555555555556,
             "#d8576b"
            ],
            [
             0.6666666666666666,
             "#ed7953"
            ],
            [
             0.7777777777777778,
             "#fb9f3a"
            ],
            [
             0.8888888888888888,
             "#fdca26"
            ],
            [
             1,
             "#f0f921"
            ]
           ],
           "sequentialminus": [
            [
             0,
             "#0d0887"
            ],
            [
             0.1111111111111111,
             "#46039f"
            ],
            [
             0.2222222222222222,
             "#7201a8"
            ],
            [
             0.3333333333333333,
             "#9c179e"
            ],
            [
             0.4444444444444444,
             "#bd3786"
            ],
            [
             0.5555555555555556,
             "#d8576b"
            ],
            [
             0.6666666666666666,
             "#ed7953"
            ],
            [
             0.7777777777777778,
             "#fb9f3a"
            ],
            [
             0.8888888888888888,
             "#fdca26"
            ],
            [
             1,
             "#f0f921"
            ]
           ]
          },
          "colorway": [
           "#636efa",
           "#EF553B",
           "#00cc96",
           "#ab63fa",
           "#FFA15A",
           "#19d3f3",
           "#FF6692",
           "#B6E880",
           "#FF97FF",
           "#FECB52"
          ],
          "font": {
           "color": "#2a3f5f"
          },
          "geo": {
           "bgcolor": "white",
           "lakecolor": "white",
           "landcolor": "#E5ECF6",
           "showlakes": true,
           "showland": true,
           "subunitcolor": "white"
          },
          "hoverlabel": {
           "align": "left"
          },
          "hovermode": "closest",
          "mapbox": {
           "style": "light"
          },
          "paper_bgcolor": "white",
          "plot_bgcolor": "#E5ECF6",
          "polar": {
           "angularaxis": {
            "gridcolor": "white",
            "linecolor": "white",
            "ticks": ""
           },
           "bgcolor": "#E5ECF6",
           "radialaxis": {
            "gridcolor": "white",
            "linecolor": "white",
            "ticks": ""
           }
          },
          "scene": {
           "xaxis": {
            "backgroundcolor": "#E5ECF6",
            "gridcolor": "white",
            "gridwidth": 2,
            "linecolor": "white",
            "showbackground": true,
            "ticks": "",
            "zerolinecolor": "white"
           },
           "yaxis": {
            "backgroundcolor": "#E5ECF6",
            "gridcolor": "white",
            "gridwidth": 2,
            "linecolor": "white",
            "showbackground": true,
            "ticks": "",
            "zerolinecolor": "white"
           },
           "zaxis": {
            "backgroundcolor": "#E5ECF6",
            "gridcolor": "white",
            "gridwidth": 2,
            "linecolor": "white",
            "showbackground": true,
            "ticks": "",
            "zerolinecolor": "white"
           }
          },
          "shapedefaults": {
           "line": {
            "color": "#2a3f5f"
           }
          },
          "ternary": {
           "aaxis": {
            "gridcolor": "white",
            "linecolor": "white",
            "ticks": ""
           },
           "baxis": {
            "gridcolor": "white",
            "linecolor": "white",
            "ticks": ""
           },
           "bgcolor": "#E5ECF6",
           "caxis": {
            "gridcolor": "white",
            "linecolor": "white",
            "ticks": ""
           }
          },
          "title": {
           "x": 0.05
          },
          "xaxis": {
           "automargin": true,
           "gridcolor": "white",
           "linecolor": "white",
           "ticks": "",
           "title": {
            "standoff": 15
           },
           "zerolinecolor": "white",
           "zerolinewidth": 2
          },
          "yaxis": {
           "automargin": true,
           "gridcolor": "white",
           "linecolor": "white",
           "ticks": "",
           "title": {
            "standoff": 15
           },
           "zerolinecolor": "white",
           "zerolinewidth": 2
          }
         }
        },
        "title": {
         "text": "Fitted vs. Actual (log scale), with color varying with 'Development Period'"
        },
        "width": 1200,
        "xaxis": {
         "anchor": "y",
         "domain": [
          0,
          1
         ],
         "title": {
          "text": "Fitted"
         }
        },
        "yaxis": {
         "anchor": "x",
         "domain": [
          0,
          1
         ],
         "title": {
          "text": "Actual"
         }
        }
       }
      }
     },
     "metadata": {},
     "output_type": "display_data"
    }
   ],
   "source": [
    "icrfs.FitPlot(color='dev', actual_scale=True)"
   ]
  },
  {
   "cell_type": "code",
   "execution_count": 14,
   "metadata": {},
   "outputs": [
    {
     "data": {
      "application/vnd.plotly.v1+json": {
       "config": {
        "plotlyServerURL": "https://plot.ly"
       },
       "data": [
        {
         "hovertemplate": "Development Period=%{x}<br>resid_std=%{y}<extra></extra>",
         "legendgroup": "",
         "marker": {
          "color": "#636efa",
          "symbol": "circle"
         },
         "mode": "markers",
         "name": "",
         "orientation": "v",
         "showlegend": false,
         "type": "scatter",
         "x": [
          1,
          1,
          1,
          1,
          1,
          1,
          1,
          1,
          1,
          1,
          2,
          2,
          2,
          2,
          2,
          2,
          2,
          2,
          2,
          3,
          3,
          3,
          3,
          3,
          3,
          3,
          3,
          4,
          4,
          4,
          4,
          4,
          4,
          4,
          5,
          5,
          5,
          5,
          5,
          5,
          6,
          6,
          6,
          6,
          6,
          7,
          7,
          7,
          7,
          8,
          8,
          8,
          9,
          9,
          10
         ],
         "xaxis": "x",
         "y": [
          1.8654639610635633,
          1.6575339989058469,
          1.4439357698862463,
          1.6136643888596394,
          2.1802094842638615,
          1.942712898157588,
          2.0696581604340114,
          1.7006102059741028,
          1.8823652882787043,
          1.6875322007016573,
          -0.7341206403189892,
          -0.6606604709032146,
          -0.3097317536506492,
          -0.07938907810044211,
          -0.979485033584589,
          -0.48128323368052156,
          -0.7229311798369328,
          -0.3287412228227629,
          -0.3605145040581963,
          -0.7192956648941865,
          -0.14260929092146668,
          -0.028802629545443624,
          -0.2923592585292016,
          0.07838775731350534,
          -0.2395594358487984,
          0.21108785888023268,
          0.6379928357716063,
          -0.815732889711496,
          0.5989029172752366,
          0.45743807703687334,
          1.2724246236271748,
          -0.05277712236686464,
          -0.010427250846725218,
          0.42117959151111883,
          0.03921088163532512,
          -0.43893239334129225,
          0.6169054984200999,
          -1.1350629988023595,
          -0.10380069348371486,
          0.45456086162576487,
          0.7752801723813384,
          -0.4388615449419343,
          -1.7003417031121906,
          -0.09538717559853768,
          0.3553935390541526,
          -1.2956674284199958,
          0.8065834284148494,
          0.8245037743995298,
          -0.6850644300534549,
          -1.0847498735870718,
          -0.12062366398714255,
          0.10050804338420805,
          -0.15559683031464605,
          0.7789728705227359,
          -2.1095994556104487
         ],
         "yaxis": "y"
        },
        {
         "hovertemplate": "Accident Period=%{x}<br>resid_std=%{y}<extra></extra>",
         "legendgroup": "",
         "marker": {
          "color": "#636efa",
          "symbol": "circle"
         },
         "mode": "markers",
         "name": "",
         "orientation": "v",
         "showlegend": false,
         "type": "scatter",
         "x": [
          2001,
          2002,
          2003,
          2004,
          2005,
          2006,
          2007,
          2008,
          2009,
          2010,
          2001,
          2002,
          2003,
          2004,
          2005,
          2006,
          2007,
          2008,
          2009,
          2001,
          2002,
          2003,
          2004,
          2005,
          2006,
          2007,
          2008,
          2001,
          2002,
          2003,
          2004,
          2005,
          2006,
          2007,
          2001,
          2002,
          2003,
          2004,
          2005,
          2006,
          2001,
          2002,
          2003,
          2004,
          2005,
          2001,
          2002,
          2003,
          2004,
          2001,
          2002,
          2003,
          2001,
          2002,
          2001
         ],
         "xaxis": "x2",
         "y": [
          1.8654639610635633,
          1.6575339989058469,
          1.4439357698862463,
          1.6136643888596394,
          2.1802094842638615,
          1.942712898157588,
          2.0696581604340114,
          1.7006102059741028,
          1.8823652882787043,
          1.6875322007016573,
          -0.7341206403189892,
          -0.6606604709032146,
          -0.3097317536506492,
          -0.07938907810044211,
          -0.979485033584589,
          -0.48128323368052156,
          -0.7229311798369328,
          -0.3287412228227629,
          -0.3605145040581963,
          -0.7192956648941865,
          -0.14260929092146668,
          -0.028802629545443624,
          -0.2923592585292016,
          0.07838775731350534,
          -0.2395594358487984,
          0.21108785888023268,
          0.6379928357716063,
          -0.815732889711496,
          0.5989029172752366,
          0.45743807703687334,
          1.2724246236271748,
          -0.05277712236686464,
          -0.010427250846725218,
          0.42117959151111883,
          0.03921088163532512,
          -0.43893239334129225,
          0.6169054984200999,
          -1.1350629988023595,
          -0.10380069348371486,
          0.45456086162576487,
          0.7752801723813384,
          -0.4388615449419343,
          -1.7003417031121906,
          -0.09538717559853768,
          0.3553935390541526,
          -1.2956674284199958,
          0.8065834284148494,
          0.8245037743995298,
          -0.6850644300534549,
          -1.0847498735870718,
          -0.12062366398714255,
          0.10050804338420805,
          -0.15559683031464605,
          0.7789728705227359,
          -2.1095994556104487
         ],
         "yaxis": "y2"
        },
        {
         "hovertemplate": "Calendar Period=%{x}<br>resid_std=%{y}<extra></extra>",
         "legendgroup": "",
         "marker": {
          "color": "#636efa",
          "symbol": "circle"
         },
         "mode": "markers",
         "name": "",
         "orientation": "v",
         "showlegend": false,
         "type": "scatter",
         "x": [
          2001,
          2002,
          2003,
          2004,
          2005,
          2006,
          2007,
          2008,
          2009,
          2010,
          2002,
          2003,
          2004,
          2005,
          2006,
          2007,
          2008,
          2009,
          2010,
          2003,
          2004,
          2005,
          2006,
          2007,
          2008,
          2009,
          2010,
          2004,
          2005,
          2006,
          2007,
          2008,
          2009,
          2010,
          2005,
          2006,
          2007,
          2008,
          2009,
          2010,
          2006,
          2007,
          2008,
          2009,
          2010,
          2007,
          2008,
          2009,
          2010,
          2008,
          2009,
          2010,
          2009,
          2010,
          2010
         ],
         "xaxis": "x3",
         "y": [
          1.8654639610635633,
          1.6575339989058469,
          1.4439357698862463,
          1.6136643888596394,
          2.1802094842638615,
          1.942712898157588,
          2.0696581604340114,
          1.7006102059741028,
          1.8823652882787043,
          1.6875322007016573,
          -0.7341206403189892,
          -0.6606604709032146,
          -0.3097317536506492,
          -0.07938907810044211,
          -0.979485033584589,
          -0.48128323368052156,
          -0.7229311798369328,
          -0.3287412228227629,
          -0.3605145040581963,
          -0.7192956648941865,
          -0.14260929092146668,
          -0.028802629545443624,
          -0.2923592585292016,
          0.07838775731350534,
          -0.2395594358487984,
          0.21108785888023268,
          0.6379928357716063,
          -0.815732889711496,
          0.5989029172752366,
          0.45743807703687334,
          1.2724246236271748,
          -0.05277712236686464,
          -0.010427250846725218,
          0.42117959151111883,
          0.03921088163532512,
          -0.43893239334129225,
          0.6169054984200999,
          -1.1350629988023595,
          -0.10380069348371486,
          0.45456086162576487,
          0.7752801723813384,
          -0.4388615449419343,
          -1.7003417031121906,
          -0.09538717559853768,
          0.3553935390541526,
          -1.2956674284199958,
          0.8065834284148494,
          0.8245037743995298,
          -0.6850644300534549,
          -1.0847498735870718,
          -0.12062366398714255,
          0.10050804338420805,
          -0.15559683031464605,
          0.7789728705227359,
          -2.1095994556104487
         ],
         "yaxis": "y3"
        },
        {
         "hovertemplate": "yhat=%{x}<br>resid_std=%{y}<extra></extra>",
         "legendgroup": "",
         "marker": {
          "color": "#636efa",
          "symbol": "circle"
         },
         "mode": "markers",
         "name": "",
         "orientation": "v",
         "showlegend": false,
         "type": "scatter",
         "x": [
          0.8666763298892638,
          0.9521033902930173,
          0.8908606558989827,
          0.8666763298892638,
          0.897919463006375,
          0.9160201082543508,
          0.9461494941076248,
          0.9491126793584301,
          0.9021130827947597,
          0.9180653868839556,
          0.21801513608926348,
          0.3034421964930169,
          0.24219946209898235,
          0.21801513608926348,
          0.24925826920637473,
          0.26735891445435045,
          0.2974883003076245,
          0.3004514855584298,
          0.25345188899475934,
          0.01760845226918986,
          0.1030355126729433,
          0.04179277827890873,
          0.01760845226918986,
          0.048851585386301105,
          0.06695223063427685,
          0.0970816164875509,
          0.10004480173835621,
          -0.13518405681751786,
          -0.04975699641376442,
          -0.11099973080779899,
          -0.13518405681751786,
          -0.10394092370040661,
          -0.08584027845243086,
          -0.05571089259915682,
          -0.46815975297329304,
          -0.3827326925695397,
          -0.44397542696357417,
          -0.46815975297329304,
          -0.4369166198561818,
          -0.4188159746082061,
          -0.7465270354010103,
          -0.6610999749972569,
          -0.7223427093912914,
          -0.7465270354010103,
          -0.715283902283899,
          -0.9185930181287656,
          -0.8331659577250121,
          -0.8944086921190467,
          -0.9185930181287656,
          -1.0569902649995573,
          -0.9715632045958038,
          -1.0328059389898385,
          -1.0889945596416344,
          -1.0035674992378811,
          -1.1810263965762386
         ],
         "xaxis": "x4",
         "y": [
          1.8654639610635633,
          1.6575339989058469,
          1.4439357698862463,
          1.6136643888596394,
          2.1802094842638615,
          1.942712898157588,
          2.0696581604340114,
          1.7006102059741028,
          1.8823652882787043,
          1.6875322007016573,
          -0.7341206403189892,
          -0.6606604709032146,
          -0.3097317536506492,
          -0.07938907810044211,
          -0.979485033584589,
          -0.48128323368052156,
          -0.7229311798369328,
          -0.3287412228227629,
          -0.3605145040581963,
          -0.7192956648941865,
          -0.14260929092146668,
          -0.028802629545443624,
          -0.2923592585292016,
          0.07838775731350534,
          -0.2395594358487984,
          0.21108785888023268,
          0.6379928357716063,
          -0.815732889711496,
          0.5989029172752366,
          0.45743807703687334,
          1.2724246236271748,
          -0.05277712236686464,
          -0.010427250846725218,
          0.42117959151111883,
          0.03921088163532512,
          -0.43893239334129225,
          0.6169054984200999,
          -1.1350629988023595,
          -0.10380069348371486,
          0.45456086162576487,
          0.7752801723813384,
          -0.4388615449419343,
          -1.7003417031121906,
          -0.09538717559853768,
          0.3553935390541526,
          -1.2956674284199958,
          0.8065834284148494,
          0.8245037743995298,
          -0.6850644300534549,
          -1.0847498735870718,
          -0.12062366398714255,
          0.10050804338420805,
          -0.15559683031464605,
          0.7789728705227359,
          -2.1095994556104487
         ],
         "yaxis": "y4"
        }
       ],
       "layout": {
        "annotations": [
         {
          "font": {
           "size": 16
          },
          "showarrow": false,
          "text": "Development Period",
          "x": 0.225,
          "xanchor": "center",
          "xref": "paper",
          "y": 1,
          "yanchor": "bottom",
          "yref": "paper"
         },
         {
          "font": {
           "size": 16
          },
          "showarrow": false,
          "text": "Accident Period",
          "x": 0.775,
          "xanchor": "center",
          "xref": "paper",
          "y": 1,
          "yanchor": "bottom",
          "yref": "paper"
         },
         {
          "font": {
           "size": 16
          },
          "showarrow": false,
          "text": "Calendar Period",
          "x": 0.225,
          "xanchor": "center",
          "xref": "paper",
          "y": 0.375,
          "yanchor": "bottom",
          "yref": "paper"
         },
         {
          "font": {
           "size": 16
          },
          "showarrow": false,
          "text": "Expected",
          "x": 0.775,
          "xanchor": "center",
          "xref": "paper",
          "y": 0.375,
          "yanchor": "bottom",
          "yref": "paper"
         }
        ],
        "height": 800,
        "template": {
         "data": {
          "bar": [
           {
            "error_x": {
             "color": "#2a3f5f"
            },
            "error_y": {
             "color": "#2a3f5f"
            },
            "marker": {
             "line": {
              "color": "#E5ECF6",
              "width": 0.5
             },
             "pattern": {
              "fillmode": "overlay",
              "size": 10,
              "solidity": 0.2
             }
            },
            "type": "bar"
           }
          ],
          "barpolar": [
           {
            "marker": {
             "line": {
              "color": "#E5ECF6",
              "width": 0.5
             },
             "pattern": {
              "fillmode": "overlay",
              "size": 10,
              "solidity": 0.2
             }
            },
            "type": "barpolar"
           }
          ],
          "carpet": [
           {
            "aaxis": {
             "endlinecolor": "#2a3f5f",
             "gridcolor": "white",
             "linecolor": "white",
             "minorgridcolor": "white",
             "startlinecolor": "#2a3f5f"
            },
            "baxis": {
             "endlinecolor": "#2a3f5f",
             "gridcolor": "white",
             "linecolor": "white",
             "minorgridcolor": "white",
             "startlinecolor": "#2a3f5f"
            },
            "type": "carpet"
           }
          ],
          "choropleth": [
           {
            "colorbar": {
             "outlinewidth": 0,
             "ticks": ""
            },
            "type": "choropleth"
           }
          ],
          "contour": [
           {
            "colorbar": {
             "outlinewidth": 0,
             "ticks": ""
            },
            "colorscale": [
             [
              0,
              "#0d0887"
             ],
             [
              0.1111111111111111,
              "#46039f"
             ],
             [
              0.2222222222222222,
              "#7201a8"
             ],
             [
              0.3333333333333333,
              "#9c179e"
             ],
             [
              0.4444444444444444,
              "#bd3786"
             ],
             [
              0.5555555555555556,
              "#d8576b"
             ],
             [
              0.6666666666666666,
              "#ed7953"
             ],
             [
              0.7777777777777778,
              "#fb9f3a"
             ],
             [
              0.8888888888888888,
              "#fdca26"
             ],
             [
              1,
              "#f0f921"
             ]
            ],
            "type": "contour"
           }
          ],
          "contourcarpet": [
           {
            "colorbar": {
             "outlinewidth": 0,
             "ticks": ""
            },
            "type": "contourcarpet"
           }
          ],
          "heatmap": [
           {
            "colorbar": {
             "outlinewidth": 0,
             "ticks": ""
            },
            "colorscale": [
             [
              0,
              "#0d0887"
             ],
             [
              0.1111111111111111,
              "#46039f"
             ],
             [
              0.2222222222222222,
              "#7201a8"
             ],
             [
              0.3333333333333333,
              "#9c179e"
             ],
             [
              0.4444444444444444,
              "#bd3786"
             ],
             [
              0.5555555555555556,
              "#d8576b"
             ],
             [
              0.6666666666666666,
              "#ed7953"
             ],
             [
              0.7777777777777778,
              "#fb9f3a"
             ],
             [
              0.8888888888888888,
              "#fdca26"
             ],
             [
              1,
              "#f0f921"
             ]
            ],
            "type": "heatmap"
           }
          ],
          "heatmapgl": [
           {
            "colorbar": {
             "outlinewidth": 0,
             "ticks": ""
            },
            "colorscale": [
             [
              0,
              "#0d0887"
             ],
             [
              0.1111111111111111,
              "#46039f"
             ],
             [
              0.2222222222222222,
              "#7201a8"
             ],
             [
              0.3333333333333333,
              "#9c179e"
             ],
             [
              0.4444444444444444,
              "#bd3786"
             ],
             [
              0.5555555555555556,
              "#d8576b"
             ],
             [
              0.6666666666666666,
              "#ed7953"
             ],
             [
              0.7777777777777778,
              "#fb9f3a"
             ],
             [
              0.8888888888888888,
              "#fdca26"
             ],
             [
              1,
              "#f0f921"
             ]
            ],
            "type": "heatmapgl"
           }
          ],
          "histogram": [
           {
            "marker": {
             "pattern": {
              "fillmode": "overlay",
              "size": 10,
              "solidity": 0.2
             }
            },
            "type": "histogram"
           }
          ],
          "histogram2d": [
           {
            "colorbar": {
             "outlinewidth": 0,
             "ticks": ""
            },
            "colorscale": [
             [
              0,
              "#0d0887"
             ],
             [
              0.1111111111111111,
              "#46039f"
             ],
             [
              0.2222222222222222,
              "#7201a8"
             ],
             [
              0.3333333333333333,
              "#9c179e"
             ],
             [
              0.4444444444444444,
              "#bd3786"
             ],
             [
              0.5555555555555556,
              "#d8576b"
             ],
             [
              0.6666666666666666,
              "#ed7953"
             ],
             [
              0.7777777777777778,
              "#fb9f3a"
             ],
             [
              0.8888888888888888,
              "#fdca26"
             ],
             [
              1,
              "#f0f921"
             ]
            ],
            "type": "histogram2d"
           }
          ],
          "histogram2dcontour": [
           {
            "colorbar": {
             "outlinewidth": 0,
             "ticks": ""
            },
            "colorscale": [
             [
              0,
              "#0d0887"
             ],
             [
              0.1111111111111111,
              "#46039f"
             ],
             [
              0.2222222222222222,
              "#7201a8"
             ],
             [
              0.3333333333333333,
              "#9c179e"
             ],
             [
              0.4444444444444444,
              "#bd3786"
             ],
             [
              0.5555555555555556,
              "#d8576b"
             ],
             [
              0.6666666666666666,
              "#ed7953"
             ],
             [
              0.7777777777777778,
              "#fb9f3a"
             ],
             [
              0.8888888888888888,
              "#fdca26"
             ],
             [
              1,
              "#f0f921"
             ]
            ],
            "type": "histogram2dcontour"
           }
          ],
          "mesh3d": [
           {
            "colorbar": {
             "outlinewidth": 0,
             "ticks": ""
            },
            "type": "mesh3d"
           }
          ],
          "parcoords": [
           {
            "line": {
             "colorbar": {
              "outlinewidth": 0,
              "ticks": ""
             }
            },
            "type": "parcoords"
           }
          ],
          "pie": [
           {
            "automargin": true,
            "type": "pie"
           }
          ],
          "scatter": [
           {
            "fillpattern": {
             "fillmode": "overlay",
             "size": 10,
             "solidity": 0.2
            },
            "type": "scatter"
           }
          ],
          "scatter3d": [
           {
            "line": {
             "colorbar": {
              "outlinewidth": 0,
              "ticks": ""
             }
            },
            "marker": {
             "colorbar": {
              "outlinewidth": 0,
              "ticks": ""
             }
            },
            "type": "scatter3d"
           }
          ],
          "scattercarpet": [
           {
            "marker": {
             "colorbar": {
              "outlinewidth": 0,
              "ticks": ""
             }
            },
            "type": "scattercarpet"
           }
          ],
          "scattergeo": [
           {
            "marker": {
             "colorbar": {
              "outlinewidth": 0,
              "ticks": ""
             }
            },
            "type": "scattergeo"
           }
          ],
          "scattergl": [
           {
            "marker": {
             "colorbar": {
              "outlinewidth": 0,
              "ticks": ""
             }
            },
            "type": "scattergl"
           }
          ],
          "scattermapbox": [
           {
            "marker": {
             "colorbar": {
              "outlinewidth": 0,
              "ticks": ""
             }
            },
            "type": "scattermapbox"
           }
          ],
          "scatterpolar": [
           {
            "marker": {
             "colorbar": {
              "outlinewidth": 0,
              "ticks": ""
             }
            },
            "type": "scatterpolar"
           }
          ],
          "scatterpolargl": [
           {
            "marker": {
             "colorbar": {
              "outlinewidth": 0,
              "ticks": ""
             }
            },
            "type": "scatterpolargl"
           }
          ],
          "scatterternary": [
           {
            "marker": {
             "colorbar": {
              "outlinewidth": 0,
              "ticks": ""
             }
            },
            "type": "scatterternary"
           }
          ],
          "surface": [
           {
            "colorbar": {
             "outlinewidth": 0,
             "ticks": ""
            },
            "colorscale": [
             [
              0,
              "#0d0887"
             ],
             [
              0.1111111111111111,
              "#46039f"
             ],
             [
              0.2222222222222222,
              "#7201a8"
             ],
             [
              0.3333333333333333,
              "#9c179e"
             ],
             [
              0.4444444444444444,
              "#bd3786"
             ],
             [
              0.5555555555555556,
              "#d8576b"
             ],
             [
              0.6666666666666666,
              "#ed7953"
             ],
             [
              0.7777777777777778,
              "#fb9f3a"
             ],
             [
              0.8888888888888888,
              "#fdca26"
             ],
             [
              1,
              "#f0f921"
             ]
            ],
            "type": "surface"
           }
          ],
          "table": [
           {
            "cells": {
             "fill": {
              "color": "#EBF0F8"
             },
             "line": {
              "color": "white"
             }
            },
            "header": {
             "fill": {
              "color": "#C8D4E3"
             },
             "line": {
              "color": "white"
             }
            },
            "type": "table"
           }
          ]
         },
         "layout": {
          "annotationdefaults": {
           "arrowcolor": "#2a3f5f",
           "arrowhead": 0,
           "arrowwidth": 1
          },
          "autotypenumbers": "strict",
          "coloraxis": {
           "colorbar": {
            "outlinewidth": 0,
            "ticks": ""
           }
          },
          "colorscale": {
           "diverging": [
            [
             0,
             "#8e0152"
            ],
            [
             0.1,
             "#c51b7d"
            ],
            [
             0.2,
             "#de77ae"
            ],
            [
             0.3,
             "#f1b6da"
            ],
            [
             0.4,
             "#fde0ef"
            ],
            [
             0.5,
             "#f7f7f7"
            ],
            [
             0.6,
             "#e6f5d0"
            ],
            [
             0.7,
             "#b8e186"
            ],
            [
             0.8,
             "#7fbc41"
            ],
            [
             0.9,
             "#4d9221"
            ],
            [
             1,
             "#276419"
            ]
           ],
           "sequential": [
            [
             0,
             "#0d0887"
            ],
            [
             0.1111111111111111,
             "#46039f"
            ],
            [
             0.2222222222222222,
             "#7201a8"
            ],
            [
             0.3333333333333333,
             "#9c179e"
            ],
            [
             0.4444444444444444,
             "#bd3786"
            ],
            [
             0.5555555555555556,
             "#d8576b"
            ],
            [
             0.6666666666666666,
             "#ed7953"
            ],
            [
             0.7777777777777778,
             "#fb9f3a"
            ],
            [
             0.8888888888888888,
             "#fdca26"
            ],
            [
             1,
             "#f0f921"
            ]
           ],
           "sequentialminus": [
            [
             0,
             "#0d0887"
            ],
            [
             0.1111111111111111,
             "#46039f"
            ],
            [
             0.2222222222222222,
             "#7201a8"
            ],
            [
             0.3333333333333333,
             "#9c179e"
            ],
            [
             0.4444444444444444,
             "#bd3786"
            ],
            [
             0.5555555555555556,
             "#d8576b"
            ],
            [
             0.6666666666666666,
             "#ed7953"
            ],
            [
             0.7777777777777778,
             "#fb9f3a"
            ],
            [
             0.8888888888888888,
             "#fdca26"
            ],
            [
             1,
             "#f0f921"
            ]
           ]
          },
          "colorway": [
           "#636efa",
           "#EF553B",
           "#00cc96",
           "#ab63fa",
           "#FFA15A",
           "#19d3f3",
           "#FF6692",
           "#B6E880",
           "#FF97FF",
           "#FECB52"
          ],
          "font": {
           "color": "#2a3f5f"
          },
          "geo": {
           "bgcolor": "white",
           "lakecolor": "white",
           "landcolor": "#E5ECF6",
           "showlakes": true,
           "showland": true,
           "subunitcolor": "white"
          },
          "hoverlabel": {
           "align": "left"
          },
          "hovermode": "closest",
          "mapbox": {
           "style": "light"
          },
          "paper_bgcolor": "white",
          "plot_bgcolor": "#E5ECF6",
          "polar": {
           "angularaxis": {
            "gridcolor": "white",
            "linecolor": "white",
            "ticks": ""
           },
           "bgcolor": "#E5ECF6",
           "radialaxis": {
            "gridcolor": "white",
            "linecolor": "white",
            "ticks": ""
           }
          },
          "scene": {
           "xaxis": {
            "backgroundcolor": "#E5ECF6",
            "gridcolor": "white",
            "gridwidth": 2,
            "linecolor": "white",
            "showbackground": true,
            "ticks": "",
            "zerolinecolor": "white"
           },
           "yaxis": {
            "backgroundcolor": "#E5ECF6",
            "gridcolor": "white",
            "gridwidth": 2,
            "linecolor": "white",
            "showbackground": true,
            "ticks": "",
            "zerolinecolor": "white"
           },
           "zaxis": {
            "backgroundcolor": "#E5ECF6",
            "gridcolor": "white",
            "gridwidth": 2,
            "linecolor": "white",
            "showbackground": true,
            "ticks": "",
            "zerolinecolor": "white"
           }
          },
          "shapedefaults": {
           "line": {
            "color": "#2a3f5f"
           }
          },
          "ternary": {
           "aaxis": {
            "gridcolor": "white",
            "linecolor": "white",
            "ticks": ""
           },
           "baxis": {
            "gridcolor": "white",
            "linecolor": "white",
            "ticks": ""
           },
           "bgcolor": "#E5ECF6",
           "caxis": {
            "gridcolor": "white",
            "linecolor": "white",
            "ticks": ""
           }
          },
          "title": {
           "x": 0.05
          },
          "xaxis": {
           "automargin": true,
           "gridcolor": "white",
           "linecolor": "white",
           "ticks": "",
           "title": {
            "standoff": 15
           },
           "zerolinecolor": "white",
           "zerolinewidth": 2
          },
          "yaxis": {
           "automargin": true,
           "gridcolor": "white",
           "linecolor": "white",
           "ticks": "",
           "title": {
            "standoff": 15
           },
           "zerolinecolor": "white",
           "zerolinewidth": 2
          }
         }
        },
        "title": {
         "text": "Standardized Residual Plots"
        },
        "width": 1200,
        "xaxis": {
         "anchor": "y",
         "domain": [
          0,
          0.45
         ]
        },
        "xaxis2": {
         "anchor": "y2",
         "domain": [
          0.55,
          1
         ]
        },
        "xaxis3": {
         "anchor": "y3",
         "domain": [
          0,
          0.45
         ]
        },
        "xaxis4": {
         "anchor": "y4",
         "domain": [
          0.55,
          1
         ]
        },
        "yaxis": {
         "anchor": "x",
         "domain": [
          0.625,
          1
         ]
        },
        "yaxis2": {
         "anchor": "x2",
         "domain": [
          0.625,
          1
         ]
        },
        "yaxis3": {
         "anchor": "x3",
         "domain": [
          0,
          0.375
         ]
        },
        "yaxis4": {
         "anchor": "x4",
         "domain": [
          0,
          0.375
         ]
        }
       }
      }
     },
     "metadata": {},
     "output_type": "display_data"
    }
   ],
   "source": [
    "icrfs.ResidualPlot()"
   ]
  },
  {
   "cell_type": "code",
   "execution_count": 15,
   "metadata": {},
   "outputs": [
    {
     "data": {
      "text/plain": [
       "0     1.755865\n",
       "1     1.742180\n",
       "2     1.579124\n",
       "3     1.635842\n",
       "4     1.937134\n",
       "5     1.842030\n",
       "6     1.932669\n",
       "7     1.759722\n",
       "8     1.799358\n",
       "9     1.722441\n",
       "10   -0.131909\n",
       "11   -0.011467\n",
       "12    0.094563\n",
       "13    0.180174\n",
       "14   -0.217621\n",
       "15    0.037951\n",
       "16   -0.047103\n",
       "17    0.143754\n",
       "18    0.081610\n",
       "20   -0.325250\n",
       "21    0.035060\n",
       "22    0.028064\n",
       "23   -0.121747\n",
       "24    0.086216\n",
       "25   -0.047236\n",
       "26    0.197698\n",
       "27    0.404149\n",
       "30   -0.524010\n",
       "31    0.235715\n",
       "32    0.107042\n",
       "33    0.471327\n",
       "34   -0.129098\n",
       "35   -0.090811\n",
       "36    0.145048\n",
       "40   -0.449470\n",
       "41   -0.591953\n",
       "42   -0.149922\n",
       "43   -1.009197\n",
       "44   -0.486394\n",
       "45   -0.202146\n",
       "50   -0.376983\n",
       "51   -0.870287\n",
       "52   -1.532824\n",
       "53   -0.791994\n",
       "54   -0.545883\n",
       "60   -1.536183\n",
       "61   -0.448701\n",
       "62   -0.501402\n",
       "63   -1.245135\n",
       "70   -1.574045\n",
       "71   -1.029059\n",
       "72   -0.984898\n",
       "80   -1.163161\n",
       "81   -0.632264\n",
       "90   -2.186584\n",
       "dtype: float64"
      ]
     },
     "execution_count": 15,
     "metadata": {},
     "output_type": "execute_result"
    }
   ],
   "source": [
    "icrfs.GetY('train')"
   ]
  }
 ],
 "metadata": {
  "kernelspec": {
   "display_name": ".env",
   "language": "python",
   "name": "python3"
  },
  "language_info": {
   "codemirror_mode": {
    "name": "ipython",
    "version": 3
   },
   "file_extension": ".py",
   "mimetype": "text/x-python",
   "name": "python",
   "nbconvert_exporter": "python",
   "pygments_lexer": "ipython3",
   "version": "3.10.12"
  },
  "orig_nbformat": 4,
  "vscode": {
   "interpreter": {
    "hash": "1c3a4564efa293e7c7ea6940cd6af6a26c4c80803813cdeb6d0df1b622fe18f6"
   }
  }
 },
 "nbformat": 4,
 "nbformat_minor": 2
}
