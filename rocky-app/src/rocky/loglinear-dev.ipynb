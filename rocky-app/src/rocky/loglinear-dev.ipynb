{
 "cells": [
  {
   "cell_type": "code",
   "execution_count": 1,
   "metadata": {},
   "outputs": [],
   "source": [
    "import sys\n",
    "sys.path.append('../')\n",
    "from rocky.core import rocky\n",
    "from rocky.triangle import Triangle\n",
    "from rocky.model_selection.TriangleTimeSeriesSplit import TriangleTimeSeriesSplit\n",
    "import pandas as pd\n",
    "import numpy as np"
   ]
  },
  {
   "cell_type": "code",
   "execution_count": 2,
   "metadata": {},
   "outputs": [
    {
     "data": {
      "text/html": [
       "<div>\n",
       "<style scoped>\n",
       "    .dataframe tbody tr th:only-of-type {\n",
       "        vertical-align: middle;\n",
       "    }\n",
       "\n",
       "    .dataframe tbody tr th {\n",
       "        vertical-align: top;\n",
       "    }\n",
       "\n",
       "    .dataframe thead th {\n",
       "        text-align: right;\n",
       "    }\n",
       "</style>\n",
       "<table border=\"1\" class=\"dataframe\">\n",
       "  <thead>\n",
       "    <tr style=\"text-align: right;\">\n",
       "      <th>development_period</th>\n",
       "      <th>1</th>\n",
       "      <th>2</th>\n",
       "      <th>3</th>\n",
       "      <th>4</th>\n",
       "      <th>5</th>\n",
       "      <th>6</th>\n",
       "      <th>7</th>\n",
       "      <th>8</th>\n",
       "      <th>9</th>\n",
       "      <th>10</th>\n",
       "    </tr>\n",
       "    <tr>\n",
       "      <th>accident_period</th>\n",
       "      <th></th>\n",
       "      <th></th>\n",
       "      <th></th>\n",
       "      <th></th>\n",
       "      <th></th>\n",
       "      <th></th>\n",
       "      <th></th>\n",
       "      <th></th>\n",
       "      <th></th>\n",
       "      <th></th>\n",
       "    </tr>\n",
       "  </thead>\n",
       "  <tbody>\n",
       "    <tr>\n",
       "      <th>2001-01-01</th>\n",
       "      <td>357848.0</td>\n",
       "      <td>1124788.0</td>\n",
       "      <td>1735330.0</td>\n",
       "      <td>2218270.0</td>\n",
       "      <td>2745596.0</td>\n",
       "      <td>3319994.0</td>\n",
       "      <td>3466336.0</td>\n",
       "      <td>3606286.0</td>\n",
       "      <td>3833515.0</td>\n",
       "      <td>3901463.0</td>\n",
       "    </tr>\n",
       "    <tr>\n",
       "      <th>2002-01-01</th>\n",
       "      <td>352118.0</td>\n",
       "      <td>1236139.0</td>\n",
       "      <td>2170033.0</td>\n",
       "      <td>3353322.0</td>\n",
       "      <td>3799067.0</td>\n",
       "      <td>4120063.0</td>\n",
       "      <td>4647867.0</td>\n",
       "      <td>4914039.0</td>\n",
       "      <td>5339085.0</td>\n",
       "      <td>NaN</td>\n",
       "    </tr>\n",
       "    <tr>\n",
       "      <th>2003-01-01</th>\n",
       "      <td>290507.0</td>\n",
       "      <td>1292306.0</td>\n",
       "      <td>2218525.0</td>\n",
       "      <td>3235179.0</td>\n",
       "      <td>3985995.0</td>\n",
       "      <td>4132918.0</td>\n",
       "      <td>4628910.0</td>\n",
       "      <td>4909315.0</td>\n",
       "      <td>NaN</td>\n",
       "      <td>NaN</td>\n",
       "    </tr>\n",
       "    <tr>\n",
       "      <th>2004-01-01</th>\n",
       "      <td>310608.0</td>\n",
       "      <td>1418858.0</td>\n",
       "      <td>2195047.0</td>\n",
       "      <td>3757447.0</td>\n",
       "      <td>4029929.0</td>\n",
       "      <td>4381982.0</td>\n",
       "      <td>4588268.0</td>\n",
       "      <td>NaN</td>\n",
       "      <td>NaN</td>\n",
       "      <td>NaN</td>\n",
       "    </tr>\n",
       "    <tr>\n",
       "      <th>2005-01-01</th>\n",
       "      <td>443160.0</td>\n",
       "      <td>1136350.0</td>\n",
       "      <td>2128333.0</td>\n",
       "      <td>2897821.0</td>\n",
       "      <td>3402672.0</td>\n",
       "      <td>3873311.0</td>\n",
       "      <td>NaN</td>\n",
       "      <td>NaN</td>\n",
       "      <td>NaN</td>\n",
       "      <td>NaN</td>\n",
       "    </tr>\n",
       "    <tr>\n",
       "      <th>2006-01-01</th>\n",
       "      <td>396132.0</td>\n",
       "      <td>1333217.0</td>\n",
       "      <td>2180715.0</td>\n",
       "      <td>2985752.0</td>\n",
       "      <td>3691712.0</td>\n",
       "      <td>NaN</td>\n",
       "      <td>NaN</td>\n",
       "      <td>NaN</td>\n",
       "      <td>NaN</td>\n",
       "      <td>NaN</td>\n",
       "    </tr>\n",
       "    <tr>\n",
       "      <th>2007-01-01</th>\n",
       "      <td>440832.0</td>\n",
       "      <td>1288463.0</td>\n",
       "      <td>2419861.0</td>\n",
       "      <td>3483130.0</td>\n",
       "      <td>NaN</td>\n",
       "      <td>NaN</td>\n",
       "      <td>NaN</td>\n",
       "      <td>NaN</td>\n",
       "      <td>NaN</td>\n",
       "      <td>NaN</td>\n",
       "    </tr>\n",
       "    <tr>\n",
       "      <th>2008-01-01</th>\n",
       "      <td>359480.0</td>\n",
       "      <td>1421128.0</td>\n",
       "      <td>2864498.0</td>\n",
       "      <td>NaN</td>\n",
       "      <td>NaN</td>\n",
       "      <td>NaN</td>\n",
       "      <td>NaN</td>\n",
       "      <td>NaN</td>\n",
       "      <td>NaN</td>\n",
       "      <td>NaN</td>\n",
       "    </tr>\n",
       "    <tr>\n",
       "      <th>2009-01-01</th>\n",
       "      <td>376686.0</td>\n",
       "      <td>1363294.0</td>\n",
       "      <td>NaN</td>\n",
       "      <td>NaN</td>\n",
       "      <td>NaN</td>\n",
       "      <td>NaN</td>\n",
       "      <td>NaN</td>\n",
       "      <td>NaN</td>\n",
       "      <td>NaN</td>\n",
       "      <td>NaN</td>\n",
       "    </tr>\n",
       "    <tr>\n",
       "      <th>2010-01-01</th>\n",
       "      <td>344014.0</td>\n",
       "      <td>NaN</td>\n",
       "      <td>NaN</td>\n",
       "      <td>NaN</td>\n",
       "      <td>NaN</td>\n",
       "      <td>NaN</td>\n",
       "      <td>NaN</td>\n",
       "      <td>NaN</td>\n",
       "      <td>NaN</td>\n",
       "      <td>NaN</td>\n",
       "    </tr>\n",
       "  </tbody>\n",
       "</table>\n",
       "</div>"
      ],
      "text/plain": [
       "development_period         1          2          3          4          5  \\\n",
       "accident_period                                                            \n",
       "2001-01-01          357848.0  1124788.0  1735330.0  2218270.0  2745596.0   \n",
       "2002-01-01          352118.0  1236139.0  2170033.0  3353322.0  3799067.0   \n",
       "2003-01-01          290507.0  1292306.0  2218525.0  3235179.0  3985995.0   \n",
       "2004-01-01          310608.0  1418858.0  2195047.0  3757447.0  4029929.0   \n",
       "2005-01-01          443160.0  1136350.0  2128333.0  2897821.0  3402672.0   \n",
       "2006-01-01          396132.0  1333217.0  2180715.0  2985752.0  3691712.0   \n",
       "2007-01-01          440832.0  1288463.0  2419861.0  3483130.0        NaN   \n",
       "2008-01-01          359480.0  1421128.0  2864498.0        NaN        NaN   \n",
       "2009-01-01          376686.0  1363294.0        NaN        NaN        NaN   \n",
       "2010-01-01          344014.0        NaN        NaN        NaN        NaN   \n",
       "\n",
       "development_period          6          7          8          9         10  \n",
       "accident_period                                                            \n",
       "2001-01-01          3319994.0  3466336.0  3606286.0  3833515.0  3901463.0  \n",
       "2002-01-01          4120063.0  4647867.0  4914039.0  5339085.0        NaN  \n",
       "2003-01-01          4132918.0  4628910.0  4909315.0        NaN        NaN  \n",
       "2004-01-01          4381982.0  4588268.0        NaN        NaN        NaN  \n",
       "2005-01-01          3873311.0        NaN        NaN        NaN        NaN  \n",
       "2006-01-01                NaN        NaN        NaN        NaN        NaN  \n",
       "2007-01-01                NaN        NaN        NaN        NaN        NaN  \n",
       "2008-01-01                NaN        NaN        NaN        NaN        NaN  \n",
       "2009-01-01                NaN        NaN        NaN        NaN        NaN  \n",
       "2010-01-01                NaN        NaN        NaN        NaN        NaN  "
      ]
     },
     "execution_count": 2,
     "metadata": {},
     "output_type": "execute_result"
    }
   ],
   "source": [
    "t = Triangle.from_taylor_ashe()\n",
    "t.df"
   ]
  },
  {
   "cell_type": "code",
   "execution_count": 16,
   "metadata": {},
   "outputs": [
    {
     "name": "stdout",
     "output_type": "stream",
     "text": [
      "This is for testing and compatability only. Please do not assign much credibility to these estimates for the purposes selecting carried reserves.\n"
     ]
    }
   ],
   "source": [
    "# Create a Rocky object\n",
    "rky = rocky()\n",
    "\n",
    "# add triangle\n",
    "rocky_inputs_file = r\"O:\\PARM\\Individual folders\\A Weaver\\Reserving\\rocky\\rocky-inputs.xlsx\"\n",
    "rky.FromExcel(filename=rocky_inputs_file, sheet_name='triangle', id='paid_loss')\n",
    "# rky.SampleTri('taylor_ashe')\n",
    "\n",
    "# add model\n",
    "rky.AddModel('icrfs', model_class='loglinear', tri=rky.paid_loss, use_cal=True, plot_width=None)"
   ]
  },
  {
   "cell_type": "code",
   "execution_count": 4,
   "metadata": {},
   "outputs": [
    {
     "name": "stdout",
     "output_type": "stream",
     "text": [
      "Fitting hetero adjustment: (Step/RMSE/L2-Norm)\n",
      "1/0.0000 "
     ]
    }
   ],
   "source": [
    "# set hyperparameters\n",
    "rky.icrfs.SetHyperparameters(alpha=0.05, l1_ratio=0.01)\n",
    "# rky.icrfs.TuneFitHyperparameters(l1_ratio=[0, 0.025, 0.05])\n",
    "\n",
    "# fit model\n",
    "rky.icrfs.Fit()\n",
    "\n",
    "# basic hetero adjustment (one-step, no cross-validation,\n",
    "# just one parameter per development period)\n",
    "rky.icrfs.FitHetero()"
   ]
  },
  {
   "cell_type": "code",
   "execution_count": 5,
   "metadata": {},
   "outputs": [
    {
     "data": {
      "text/plain": [
       "0      0\n",
       "1      1\n",
       "2      2\n",
       "3      3\n",
       "4      4\n",
       "5      5\n",
       "6      6\n",
       "7      7\n",
       "8      8\n",
       "9      9\n",
       "10    10\n",
       "11    11\n",
       "12    12\n",
       "13    13\n",
       "14    14\n",
       "15    15\n",
       "16    16\n",
       "17    17\n",
       "18    18\n",
       "19    20\n",
       "20    21\n",
       "21    22\n",
       "22    23\n",
       "23    24\n",
       "24    25\n",
       "25    26\n",
       "26    27\n",
       "27    30\n",
       "28    31\n",
       "29    32\n",
       "30    33\n",
       "31    34\n",
       "32    35\n",
       "33    36\n",
       "34    40\n",
       "35    41\n",
       "36    42\n",
       "37    43\n",
       "38    44\n",
       "39    45\n",
       "40    50\n",
       "41    51\n",
       "42    52\n",
       "43    53\n",
       "44    54\n",
       "45    60\n",
       "46    61\n",
       "47    62\n",
       "48    63\n",
       "49    70\n",
       "50    71\n",
       "51    72\n",
       "52    80\n",
       "53    81\n",
       "54    90\n",
       "dtype: int64"
      ]
     },
     "execution_count": 5,
     "metadata": {},
     "output_type": "execute_result"
    }
   ],
   "source": [
    "rky.icrfs.GetIdx()"
   ]
  },
  {
   "cell_type": "code",
   "execution_count": 6,
   "metadata": {},
   "outputs": [
    {
     "name": "stdout",
     "output_type": "stream",
     "text": [
      "X:    intercept  accident_period_2002  accident_period_2003  \\\n",
      "0          1                     0                     0   \n",
      "1          1                     1                     0   \n",
      "2          1                     0                     1   \n",
      "3          1                     0                     0   \n",
      "4          1                     0                     0   \n",
      "\n",
      "   accident_period_2004  accident_period_2005  accident_period_2006  \\\n",
      "0                     0                     0                     0   \n",
      "1                     0                     0                     0   \n",
      "2                     0                     0                     0   \n",
      "3                     1                     0                     0   \n",
      "4                     0                     1                     0   \n",
      "\n",
      "   accident_period_2007  accident_period_2008  accident_period_2009  \\\n",
      "0                     0                     0                     0   \n",
      "1                     0                     0                     0   \n",
      "2                     0                     0                     0   \n",
      "3                     0                     0                     0   \n",
      "4                     0                     0                     0   \n",
      "\n",
      "   accident_period_2010  ...  calendar_period_2010  calendar_period_2011  \\\n",
      "0                     0  ...                     0                     0   \n",
      "1                     0  ...                     0                     0   \n",
      "2                     0  ...                     0                     0   \n",
      "3                     0  ...                     0                     0   \n",
      "4                     0  ...                     0                     0   \n",
      "\n",
      "   calendar_period_2012  calendar_period_2013  calendar_period_2014  \\\n",
      "0                     0                     0                     0   \n",
      "1                     0                     0                     0   \n",
      "2                     0                     0                     0   \n",
      "3                     0                     0                     0   \n",
      "4                     0                     0                     0   \n",
      "\n",
      "   calendar_period_2015  calendar_period_2016  calendar_period_2017  \\\n",
      "0                     0                     0                     0   \n",
      "1                     0                     0                     0   \n",
      "2                     0                     0                     0   \n",
      "3                     0                     0                     0   \n",
      "4                     0                     0                     0   \n",
      "\n",
      "   calendar_period_2018  calendar_period_2019  \n",
      "0                     0                     0  \n",
      "1                     0                     0  \n",
      "2                     0                     0  \n",
      "3                     0                     0  \n",
      "4                     0                     0  \n",
      "\n",
      "[5 rows x 37 columns]\n",
      "train_idx: [ 0  1  2  3  4  5  6  7 10 11 12 13 14 15 16 20 21 22 23 24 25 30 31 32\n",
      " 33 34 40 41 42 43 50 51 52 60 61 70]\n",
      "X:    intercept  accident_period_2002  accident_period_2003  \\\n",
      "0          1                     0                     0   \n",
      "1          1                     1                     0   \n",
      "2          1                     0                     1   \n",
      "3          1                     0                     0   \n",
      "4          1                     0                     0   \n",
      "\n",
      "   accident_period_2004  accident_period_2005  accident_period_2006  \\\n",
      "0                     0                     0                     0   \n",
      "1                     0                     0                     0   \n",
      "2                     0                     0                     0   \n",
      "3                     1                     0                     0   \n",
      "4                     0                     1                     0   \n",
      "\n",
      "   accident_period_2007  accident_period_2008  accident_period_2009  \\\n",
      "0                     0                     0                     0   \n",
      "1                     0                     0                     0   \n",
      "2                     0                     0                     0   \n",
      "3                     0                     0                     0   \n",
      "4                     0                     0                     0   \n",
      "\n",
      "   accident_period_2010  ...  calendar_period_2010  calendar_period_2011  \\\n",
      "0                     0  ...                     0                     0   \n",
      "1                     0  ...                     0                     0   \n",
      "2                     0  ...                     0                     0   \n",
      "3                     0  ...                     0                     0   \n",
      "4                     0  ...                     0                     0   \n",
      "\n",
      "   calendar_period_2012  calendar_period_2013  calendar_period_2014  \\\n",
      "0                     0                     0                     0   \n",
      "1                     0                     0                     0   \n",
      "2                     0                     0                     0   \n",
      "3                     0                     0                     0   \n",
      "4                     0                     0                     0   \n",
      "\n",
      "   calendar_period_2015  calendar_period_2016  calendar_period_2017  \\\n",
      "0                     0                     0                     0   \n",
      "1                     0                     0                     0   \n",
      "2                     0                     0                     0   \n",
      "3                     0                     0                     0   \n",
      "4                     0                     0                     0   \n",
      "\n",
      "   calendar_period_2018  calendar_period_2019  \n",
      "0                     0                     0  \n",
      "1                     0                     0  \n",
      "2                     0                     0  \n",
      "3                     0                     0  \n",
      "4                     0                     0  \n",
      "\n",
      "[5 rows x 37 columns]\n",
      "train_idx: [ 0  1  2  3  4  5  6 10 11 12 13 14 15 20 21 22 23 24 30 31 32 33 40 41\n",
      " 42 50 51 60]\n",
      "X:    intercept  accident_period_2002  accident_period_2003  \\\n",
      "0          1                     0                     0   \n",
      "1          1                     1                     0   \n",
      "2          1                     0                     1   \n",
      "3          1                     0                     0   \n",
      "4          1                     0                     0   \n",
      "\n",
      "   accident_period_2004  accident_period_2005  accident_period_2006  \\\n",
      "0                     0                     0                     0   \n",
      "1                     0                     0                     0   \n",
      "2                     0                     0                     0   \n",
      "3                     1                     0                     0   \n",
      "4                     0                     1                     0   \n",
      "\n",
      "   accident_period_2007  accident_period_2008  accident_period_2009  \\\n",
      "0                     0                     0                     0   \n",
      "1                     0                     0                     0   \n",
      "2                     0                     0                     0   \n",
      "3                     0                     0                     0   \n",
      "4                     0                     0                     0   \n",
      "\n",
      "   accident_period_2010  ...  calendar_period_2010  calendar_period_2011  \\\n",
      "0                     0  ...                     0                     0   \n",
      "1                     0  ...                     0                     0   \n",
      "2                     0  ...                     0                     0   \n",
      "3                     0  ...                     0                     0   \n",
      "4                     0  ...                     0                     0   \n",
      "\n",
      "   calendar_period_2012  calendar_period_2013  calendar_period_2014  \\\n",
      "0                     0                     0                     0   \n",
      "1                     0                     0                     0   \n",
      "2                     0                     0                     0   \n",
      "3                     0                     0                     0   \n",
      "4                     0                     0                     0   \n",
      "\n",
      "   calendar_period_2015  calendar_period_2016  calendar_period_2017  \\\n",
      "0                     0                     0                     0   \n",
      "1                     0                     0                     0   \n",
      "2                     0                     0                     0   \n",
      "3                     0                     0                     0   \n",
      "4                     0                     0                     0   \n",
      "\n",
      "   calendar_period_2018  calendar_period_2019  \n",
      "0                     0                     0  \n",
      "1                     0                     0  \n",
      "2                     0                     0  \n",
      "3                     0                     0  \n",
      "4                     0                     0  \n",
      "\n",
      "[5 rows x 37 columns]\n",
      "train_idx: [ 0  1  2  3  4  5 10 11 12 13 14 20 21 22 23 30 31 32 40 41 50]\n",
      "X:    intercept  accident_period_2002  accident_period_2003  \\\n",
      "0          1                     0                     0   \n",
      "1          1                     1                     0   \n",
      "2          1                     0                     1   \n",
      "3          1                     0                     0   \n",
      "4          1                     0                     0   \n",
      "\n",
      "   accident_period_2004  accident_period_2005  accident_period_2006  \\\n",
      "0                     0                     0                     0   \n",
      "1                     0                     0                     0   \n",
      "2                     0                     0                     0   \n",
      "3                     1                     0                     0   \n",
      "4                     0                     1                     0   \n",
      "\n",
      "   accident_period_2007  accident_period_2008  accident_period_2009  \\\n",
      "0                     0                     0                     0   \n",
      "1                     0                     0                     0   \n",
      "2                     0                     0                     0   \n",
      "3                     0                     0                     0   \n",
      "4                     0                     0                     0   \n",
      "\n",
      "   accident_period_2010  ...  calendar_period_2010  calendar_period_2011  \\\n",
      "0                     0  ...                     0                     0   \n",
      "1                     0  ...                     0                     0   \n",
      "2                     0  ...                     0                     0   \n",
      "3                     0  ...                     0                     0   \n",
      "4                     0  ...                     0                     0   \n",
      "\n",
      "   calendar_period_2012  calendar_period_2013  calendar_period_2014  \\\n",
      "0                     0                     0                     0   \n",
      "1                     0                     0                     0   \n",
      "2                     0                     0                     0   \n",
      "3                     0                     0                     0   \n",
      "4                     0                     0                     0   \n",
      "\n",
      "   calendar_period_2015  calendar_period_2016  calendar_period_2017  \\\n",
      "0                     0                     0                     0   \n",
      "1                     0                     0                     0   \n",
      "2                     0                     0                     0   \n",
      "3                     0                     0                     0   \n",
      "4                     0                     0                     0   \n",
      "\n",
      "   calendar_period_2018  calendar_period_2019  \n",
      "0                     0                     0  \n",
      "1                     0                     0  \n",
      "2                     0                     0  \n",
      "3                     0                     0  \n",
      "4                     0                     0  \n",
      "\n",
      "[5 rows x 37 columns]\n",
      "train_idx: [ 0  1  2  3  4 10 11 12 13 20 21 22 30 31 40]\n",
      "X:    intercept  accident_period_2002  accident_period_2003  \\\n",
      "0          1                     0                     0   \n",
      "1          1                     1                     0   \n",
      "2          1                     0                     1   \n",
      "3          1                     0                     0   \n",
      "4          1                     0                     0   \n",
      "\n",
      "   accident_period_2004  accident_period_2005  accident_period_2006  \\\n",
      "0                     0                     0                     0   \n",
      "1                     0                     0                     0   \n",
      "2                     0                     0                     0   \n",
      "3                     1                     0                     0   \n",
      "4                     0                     1                     0   \n",
      "\n",
      "   accident_period_2007  accident_period_2008  accident_period_2009  \\\n",
      "0                     0                     0                     0   \n",
      "1                     0                     0                     0   \n",
      "2                     0                     0                     0   \n",
      "3                     0                     0                     0   \n",
      "4                     0                     0                     0   \n",
      "\n",
      "   accident_period_2010  ...  calendar_period_2010  calendar_period_2011  \\\n",
      "0                     0  ...                     0                     0   \n",
      "1                     0  ...                     0                     0   \n",
      "2                     0  ...                     0                     0   \n",
      "3                     0  ...                     0                     0   \n",
      "4                     0  ...                     0                     0   \n",
      "\n",
      "   calendar_period_2012  calendar_period_2013  calendar_period_2014  \\\n",
      "0                     0                     0                     0   \n",
      "1                     0                     0                     0   \n",
      "2                     0                     0                     0   \n",
      "3                     0                     0                     0   \n",
      "4                     0                     0                     0   \n",
      "\n",
      "   calendar_period_2015  calendar_period_2016  calendar_period_2017  \\\n",
      "0                     0                     0                     0   \n",
      "1                     0                     0                     0   \n",
      "2                     0                     0                     0   \n",
      "3                     0                     0                     0   \n",
      "4                     0                     0                     0   \n",
      "\n",
      "   calendar_period_2018  calendar_period_2019  \n",
      "0                     0                     0  \n",
      "1                     0                     0  \n",
      "2                     0                     0  \n",
      "3                     0                     0  \n",
      "4                     0                     0  \n",
      "\n",
      "[5 rows x 37 columns]\n",
      "train_idx: [ 0  1  2  3 10 11 12 20 21 30]\n"
     ]
    },
    {
     "data": {
      "text/html": [
       "<div>\n",
       "<style scoped>\n",
       "    .dataframe tbody tr th:only-of-type {\n",
       "        vertical-align: middle;\n",
       "    }\n",
       "\n",
       "    .dataframe tbody tr th {\n",
       "        vertical-align: top;\n",
       "    }\n",
       "\n",
       "    .dataframe thead th {\n",
       "        text-align: right;\n",
       "    }\n",
       "</style>\n",
       "<table border=\"1\" class=\"dataframe\">\n",
       "  <thead>\n",
       "    <tr style=\"text-align: right;\">\n",
       "      <th></th>\n",
       "      <th>n_run</th>\n",
       "      <th>train_mse</th>\n",
       "      <th>test_mse</th>\n",
       "      <th>train_mae</th>\n",
       "      <th>test_mae</th>\n",
       "      <th>train_mape</th>\n",
       "      <th>test_mape</th>\n",
       "      <th>train_msle</th>\n",
       "      <th>test_msle</th>\n",
       "    </tr>\n",
       "  </thead>\n",
       "  <tbody>\n",
       "    <tr>\n",
       "      <th>0</th>\n",
       "      <td>1</td>\n",
       "      <td>0.602362</td>\n",
       "      <td>0.899664</td>\n",
       "      <td>0.656229</td>\n",
       "      <td>0.735559</td>\n",
       "      <td>1.360161</td>\n",
       "      <td>0.906413</td>\n",
       "      <td>NaN</td>\n",
       "      <td>NaN</td>\n",
       "    </tr>\n",
       "    <tr>\n",
       "      <th>1</th>\n",
       "      <td>2</td>\n",
       "      <td>0.504740</td>\n",
       "      <td>1.184415</td>\n",
       "      <td>0.591539</td>\n",
       "      <td>0.844762</td>\n",
       "      <td>1.236848</td>\n",
       "      <td>1.137061</td>\n",
       "      <td>NaN</td>\n",
       "      <td>NaN</td>\n",
       "    </tr>\n",
       "    <tr>\n",
       "      <th>2</th>\n",
       "      <td>3</td>\n",
       "      <td>0.311430</td>\n",
       "      <td>1.463392</td>\n",
       "      <td>0.504096</td>\n",
       "      <td>0.955620</td>\n",
       "      <td>1.746443</td>\n",
       "      <td>1.828788</td>\n",
       "      <td>NaN</td>\n",
       "      <td>NaN</td>\n",
       "    </tr>\n",
       "    <tr>\n",
       "      <th>3</th>\n",
       "      <td>4</td>\n",
       "      <td>0.314188</td>\n",
       "      <td>1.337858</td>\n",
       "      <td>0.521403</td>\n",
       "      <td>0.880916</td>\n",
       "      <td>2.211219</td>\n",
       "      <td>1.949156</td>\n",
       "      <td>NaN</td>\n",
       "      <td>NaN</td>\n",
       "    </tr>\n",
       "    <tr>\n",
       "      <th>4</th>\n",
       "      <td>5</td>\n",
       "      <td>0.284673</td>\n",
       "      <td>1.095323</td>\n",
       "      <td>0.492531</td>\n",
       "      <td>0.813183</td>\n",
       "      <td>0.888326</td>\n",
       "      <td>1.466822</td>\n",
       "      <td>NaN</td>\n",
       "      <td>NaN</td>\n",
       "    </tr>\n",
       "  </tbody>\n",
       "</table>\n",
       "</div>"
      ],
      "text/plain": [
       "   n_run  train_mse  test_mse  train_mae  test_mae  train_mape  test_mape  \\\n",
       "0      1   0.602362  0.899664   0.656229  0.735559    1.360161   0.906413   \n",
       "1      2   0.504740  1.184415   0.591539  0.844762    1.236848   1.137061   \n",
       "2      3   0.311430  1.463392   0.504096  0.955620    1.746443   1.828788   \n",
       "3      4   0.314188  1.337858   0.521403  0.880916    2.211219   1.949156   \n",
       "4      5   0.284673  1.095323   0.492531  0.813183    0.888326   1.466822   \n",
       "\n",
       "   train_msle  test_msle  \n",
       "0         NaN        NaN  \n",
       "1         NaN        NaN  \n",
       "2         NaN        NaN  \n",
       "3         NaN        NaN  \n",
       "4         NaN        NaN  "
      ]
     },
     "execution_count": 6,
     "metadata": {},
     "output_type": "execute_result"
    }
   ],
   "source": [
    "rky.icrfs.GetCVStatistics()"
   ]
  },
  {
   "attachments": {},
   "cell_type": "markdown",
   "metadata": {},
   "source": [
    "^^ this doesn't work when using a real triangle?"
   ]
  },
  {
   "cell_type": "code",
   "execution_count": 7,
   "metadata": {},
   "outputs": [
    {
     "data": {
      "text/html": [
       "<div>\n",
       "<style scoped>\n",
       "    .dataframe tbody tr th:only-of-type {\n",
       "        vertical-align: middle;\n",
       "    }\n",
       "\n",
       "    .dataframe tbody tr th {\n",
       "        vertical-align: top;\n",
       "    }\n",
       "\n",
       "    .dataframe thead th {\n",
       "        text-align: right;\n",
       "    }\n",
       "</style>\n",
       "<table border=\"1\" class=\"dataframe\">\n",
       "  <thead>\n",
       "    <tr style=\"text-align: right;\">\n",
       "      <th></th>\n",
       "      <th>0.0000</th>\n",
       "      <th>0.0025</th>\n",
       "      <th>0.0050</th>\n",
       "      <th>0.0075</th>\n",
       "      <th>0.0100</th>\n",
       "      <th>0.0125</th>\n",
       "      <th>0.0150</th>\n",
       "      <th>0.0175</th>\n",
       "      <th>0.0200</th>\n",
       "      <th>0.0225</th>\n",
       "      <th>...</th>\n",
       "      <th>0.2600</th>\n",
       "      <th>0.2625</th>\n",
       "      <th>0.2650</th>\n",
       "      <th>0.2675</th>\n",
       "      <th>0.2700</th>\n",
       "      <th>0.2725</th>\n",
       "      <th>0.2750</th>\n",
       "      <th>0.2775</th>\n",
       "      <th>0.2800</th>\n",
       "      <th>0.2825</th>\n",
       "    </tr>\n",
       "  </thead>\n",
       "  <tbody>\n",
       "    <tr>\n",
       "      <th>0</th>\n",
       "      <td>1.0</td>\n",
       "      <td>2.0</td>\n",
       "      <td>3.0</td>\n",
       "      <td>4.0</td>\n",
       "      <td>5.0</td>\n",
       "      <td>6.0</td>\n",
       "      <td>7.0</td>\n",
       "      <td>8.0</td>\n",
       "      <td>9.0</td>\n",
       "      <td>10.0</td>\n",
       "      <td>...</td>\n",
       "      <td>105.0</td>\n",
       "      <td>106.0</td>\n",
       "      <td>107.0</td>\n",
       "      <td>108.0</td>\n",
       "      <td>109.0</td>\n",
       "      <td>110.0</td>\n",
       "      <td>111.0</td>\n",
       "      <td>112.0</td>\n",
       "      <td>113.0</td>\n",
       "      <td>114.0</td>\n",
       "    </tr>\n",
       "    <tr>\n",
       "      <th>1</th>\n",
       "      <td>1.0</td>\n",
       "      <td>2.0</td>\n",
       "      <td>3.0</td>\n",
       "      <td>4.0</td>\n",
       "      <td>5.0</td>\n",
       "      <td>6.0</td>\n",
       "      <td>7.0</td>\n",
       "      <td>8.0</td>\n",
       "      <td>9.0</td>\n",
       "      <td>10.0</td>\n",
       "      <td>...</td>\n",
       "      <td>105.0</td>\n",
       "      <td>106.0</td>\n",
       "      <td>107.0</td>\n",
       "      <td>108.0</td>\n",
       "      <td>109.0</td>\n",
       "      <td>110.0</td>\n",
       "      <td>111.0</td>\n",
       "      <td>112.0</td>\n",
       "      <td>113.0</td>\n",
       "      <td>114.0</td>\n",
       "    </tr>\n",
       "    <tr>\n",
       "      <th>2</th>\n",
       "      <td>1.0</td>\n",
       "      <td>2.0</td>\n",
       "      <td>3.0</td>\n",
       "      <td>4.0</td>\n",
       "      <td>5.0</td>\n",
       "      <td>6.0</td>\n",
       "      <td>7.0</td>\n",
       "      <td>8.0</td>\n",
       "      <td>9.0</td>\n",
       "      <td>10.0</td>\n",
       "      <td>...</td>\n",
       "      <td>105.0</td>\n",
       "      <td>106.0</td>\n",
       "      <td>107.0</td>\n",
       "      <td>108.0</td>\n",
       "      <td>109.0</td>\n",
       "      <td>110.0</td>\n",
       "      <td>111.0</td>\n",
       "      <td>112.0</td>\n",
       "      <td>113.0</td>\n",
       "      <td>114.0</td>\n",
       "    </tr>\n",
       "    <tr>\n",
       "      <th>3</th>\n",
       "      <td>114.0</td>\n",
       "      <td>1.0</td>\n",
       "      <td>2.0</td>\n",
       "      <td>3.0</td>\n",
       "      <td>4.0</td>\n",
       "      <td>5.0</td>\n",
       "      <td>6.0</td>\n",
       "      <td>7.0</td>\n",
       "      <td>8.0</td>\n",
       "      <td>9.0</td>\n",
       "      <td>...</td>\n",
       "      <td>104.0</td>\n",
       "      <td>105.0</td>\n",
       "      <td>106.0</td>\n",
       "      <td>107.0</td>\n",
       "      <td>108.0</td>\n",
       "      <td>109.0</td>\n",
       "      <td>110.0</td>\n",
       "      <td>111.0</td>\n",
       "      <td>112.0</td>\n",
       "      <td>113.0</td>\n",
       "    </tr>\n",
       "    <tr>\n",
       "      <th>4</th>\n",
       "      <td>1.0</td>\n",
       "      <td>2.0</td>\n",
       "      <td>3.0</td>\n",
       "      <td>4.0</td>\n",
       "      <td>5.0</td>\n",
       "      <td>6.0</td>\n",
       "      <td>7.0</td>\n",
       "      <td>8.0</td>\n",
       "      <td>9.0</td>\n",
       "      <td>10.0</td>\n",
       "      <td>...</td>\n",
       "      <td>105.0</td>\n",
       "      <td>106.0</td>\n",
       "      <td>107.0</td>\n",
       "      <td>108.0</td>\n",
       "      <td>109.0</td>\n",
       "      <td>110.0</td>\n",
       "      <td>111.0</td>\n",
       "      <td>112.0</td>\n",
       "      <td>113.0</td>\n",
       "      <td>114.0</td>\n",
       "    </tr>\n",
       "    <tr>\n",
       "      <th>5</th>\n",
       "      <td>2.0</td>\n",
       "      <td>1.0</td>\n",
       "      <td>3.0</td>\n",
       "      <td>4.0</td>\n",
       "      <td>5.0</td>\n",
       "      <td>6.0</td>\n",
       "      <td>7.0</td>\n",
       "      <td>8.0</td>\n",
       "      <td>9.0</td>\n",
       "      <td>10.0</td>\n",
       "      <td>...</td>\n",
       "      <td>105.0</td>\n",
       "      <td>106.0</td>\n",
       "      <td>107.0</td>\n",
       "      <td>108.0</td>\n",
       "      <td>109.0</td>\n",
       "      <td>110.0</td>\n",
       "      <td>111.0</td>\n",
       "      <td>112.0</td>\n",
       "      <td>113.0</td>\n",
       "      <td>114.0</td>\n",
       "    </tr>\n",
       "    <tr>\n",
       "      <th>6</th>\n",
       "      <td>2.0</td>\n",
       "      <td>1.0</td>\n",
       "      <td>3.0</td>\n",
       "      <td>4.0</td>\n",
       "      <td>5.0</td>\n",
       "      <td>6.0</td>\n",
       "      <td>7.0</td>\n",
       "      <td>8.0</td>\n",
       "      <td>9.0</td>\n",
       "      <td>10.0</td>\n",
       "      <td>...</td>\n",
       "      <td>105.0</td>\n",
       "      <td>106.0</td>\n",
       "      <td>107.0</td>\n",
       "      <td>108.0</td>\n",
       "      <td>109.0</td>\n",
       "      <td>110.0</td>\n",
       "      <td>111.0</td>\n",
       "      <td>112.0</td>\n",
       "      <td>113.0</td>\n",
       "      <td>114.0</td>\n",
       "    </tr>\n",
       "    <tr>\n",
       "      <th>7</th>\n",
       "      <td>2.0</td>\n",
       "      <td>1.0</td>\n",
       "      <td>3.0</td>\n",
       "      <td>4.0</td>\n",
       "      <td>5.0</td>\n",
       "      <td>6.0</td>\n",
       "      <td>7.0</td>\n",
       "      <td>8.0</td>\n",
       "      <td>9.0</td>\n",
       "      <td>10.0</td>\n",
       "      <td>...</td>\n",
       "      <td>105.0</td>\n",
       "      <td>106.0</td>\n",
       "      <td>107.0</td>\n",
       "      <td>108.0</td>\n",
       "      <td>109.0</td>\n",
       "      <td>110.0</td>\n",
       "      <td>111.0</td>\n",
       "      <td>112.0</td>\n",
       "      <td>113.0</td>\n",
       "      <td>114.0</td>\n",
       "    </tr>\n",
       "    <tr>\n",
       "      <th>8</th>\n",
       "      <td>114.0</td>\n",
       "      <td>113.0</td>\n",
       "      <td>112.0</td>\n",
       "      <td>1.0</td>\n",
       "      <td>2.0</td>\n",
       "      <td>3.0</td>\n",
       "      <td>4.0</td>\n",
       "      <td>5.0</td>\n",
       "      <td>6.0</td>\n",
       "      <td>7.0</td>\n",
       "      <td>...</td>\n",
       "      <td>102.0</td>\n",
       "      <td>103.0</td>\n",
       "      <td>104.0</td>\n",
       "      <td>105.0</td>\n",
       "      <td>106.0</td>\n",
       "      <td>107.0</td>\n",
       "      <td>108.0</td>\n",
       "      <td>109.0</td>\n",
       "      <td>110.0</td>\n",
       "      <td>111.0</td>\n",
       "    </tr>\n",
       "    <tr>\n",
       "      <th>9</th>\n",
       "      <td>114.0</td>\n",
       "      <td>113.0</td>\n",
       "      <td>112.0</td>\n",
       "      <td>1.0</td>\n",
       "      <td>2.0</td>\n",
       "      <td>3.0</td>\n",
       "      <td>4.0</td>\n",
       "      <td>5.0</td>\n",
       "      <td>6.0</td>\n",
       "      <td>7.0</td>\n",
       "      <td>...</td>\n",
       "      <td>102.0</td>\n",
       "      <td>103.0</td>\n",
       "      <td>104.0</td>\n",
       "      <td>105.0</td>\n",
       "      <td>106.0</td>\n",
       "      <td>107.0</td>\n",
       "      <td>108.0</td>\n",
       "      <td>109.0</td>\n",
       "      <td>110.0</td>\n",
       "      <td>111.0</td>\n",
       "    </tr>\n",
       "    <tr>\n",
       "      <th>10</th>\n",
       "      <td>1.0</td>\n",
       "      <td>2.0</td>\n",
       "      <td>3.0</td>\n",
       "      <td>4.0</td>\n",
       "      <td>5.0</td>\n",
       "      <td>6.0</td>\n",
       "      <td>7.0</td>\n",
       "      <td>8.0</td>\n",
       "      <td>9.0</td>\n",
       "      <td>10.0</td>\n",
       "      <td>...</td>\n",
       "      <td>105.0</td>\n",
       "      <td>106.0</td>\n",
       "      <td>107.0</td>\n",
       "      <td>108.0</td>\n",
       "      <td>109.0</td>\n",
       "      <td>110.0</td>\n",
       "      <td>111.0</td>\n",
       "      <td>112.0</td>\n",
       "      <td>113.0</td>\n",
       "      <td>114.0</td>\n",
       "    </tr>\n",
       "    <tr>\n",
       "      <th>11</th>\n",
       "      <td>114.0</td>\n",
       "      <td>113.0</td>\n",
       "      <td>1.0</td>\n",
       "      <td>2.0</td>\n",
       "      <td>3.0</td>\n",
       "      <td>4.0</td>\n",
       "      <td>5.0</td>\n",
       "      <td>6.0</td>\n",
       "      <td>7.0</td>\n",
       "      <td>8.0</td>\n",
       "      <td>...</td>\n",
       "      <td>103.0</td>\n",
       "      <td>104.0</td>\n",
       "      <td>105.0</td>\n",
       "      <td>106.0</td>\n",
       "      <td>107.0</td>\n",
       "      <td>108.0</td>\n",
       "      <td>109.0</td>\n",
       "      <td>110.0</td>\n",
       "      <td>111.0</td>\n",
       "      <td>112.0</td>\n",
       "    </tr>\n",
       "    <tr>\n",
       "      <th>12</th>\n",
       "      <td>114.0</td>\n",
       "      <td>113.0</td>\n",
       "      <td>112.0</td>\n",
       "      <td>1.0</td>\n",
       "      <td>2.0</td>\n",
       "      <td>3.0</td>\n",
       "      <td>4.0</td>\n",
       "      <td>5.0</td>\n",
       "      <td>6.0</td>\n",
       "      <td>7.0</td>\n",
       "      <td>...</td>\n",
       "      <td>102.0</td>\n",
       "      <td>103.0</td>\n",
       "      <td>104.0</td>\n",
       "      <td>105.0</td>\n",
       "      <td>106.0</td>\n",
       "      <td>107.0</td>\n",
       "      <td>108.0</td>\n",
       "      <td>109.0</td>\n",
       "      <td>110.0</td>\n",
       "      <td>111.0</td>\n",
       "    </tr>\n",
       "    <tr>\n",
       "      <th>13</th>\n",
       "      <td>114.0</td>\n",
       "      <td>113.0</td>\n",
       "      <td>112.0</td>\n",
       "      <td>111.0</td>\n",
       "      <td>110.0</td>\n",
       "      <td>109.0</td>\n",
       "      <td>108.0</td>\n",
       "      <td>107.0</td>\n",
       "      <td>106.0</td>\n",
       "      <td>105.0</td>\n",
       "      <td>...</td>\n",
       "      <td>10.0</td>\n",
       "      <td>9.0</td>\n",
       "      <td>8.0</td>\n",
       "      <td>7.0</td>\n",
       "      <td>6.0</td>\n",
       "      <td>5.0</td>\n",
       "      <td>4.0</td>\n",
       "      <td>3.0</td>\n",
       "      <td>2.0</td>\n",
       "      <td>1.0</td>\n",
       "    </tr>\n",
       "    <tr>\n",
       "      <th>14</th>\n",
       "      <td>107.0</td>\n",
       "      <td>105.0</td>\n",
       "      <td>114.0</td>\n",
       "      <td>113.0</td>\n",
       "      <td>112.0</td>\n",
       "      <td>111.0</td>\n",
       "      <td>110.0</td>\n",
       "      <td>108.0</td>\n",
       "      <td>109.0</td>\n",
       "      <td>106.0</td>\n",
       "      <td>...</td>\n",
       "      <td>10.0</td>\n",
       "      <td>9.0</td>\n",
       "      <td>8.0</td>\n",
       "      <td>1.0</td>\n",
       "      <td>2.0</td>\n",
       "      <td>3.0</td>\n",
       "      <td>4.0</td>\n",
       "      <td>5.0</td>\n",
       "      <td>6.0</td>\n",
       "      <td>7.0</td>\n",
       "    </tr>\n",
       "    <tr>\n",
       "      <th>15</th>\n",
       "      <td>114.0</td>\n",
       "      <td>113.0</td>\n",
       "      <td>112.0</td>\n",
       "      <td>110.0</td>\n",
       "      <td>111.0</td>\n",
       "      <td>109.0</td>\n",
       "      <td>108.0</td>\n",
       "      <td>106.0</td>\n",
       "      <td>107.0</td>\n",
       "      <td>105.0</td>\n",
       "      <td>...</td>\n",
       "      <td>65.0</td>\n",
       "      <td>66.0</td>\n",
       "      <td>67.0</td>\n",
       "      <td>68.0</td>\n",
       "      <td>69.0</td>\n",
       "      <td>70.0</td>\n",
       "      <td>71.0</td>\n",
       "      <td>72.0</td>\n",
       "      <td>73.0</td>\n",
       "      <td>74.0</td>\n",
       "    </tr>\n",
       "    <tr>\n",
       "      <th>16</th>\n",
       "      <td>114.0</td>\n",
       "      <td>113.0</td>\n",
       "      <td>112.0</td>\n",
       "      <td>111.0</td>\n",
       "      <td>110.0</td>\n",
       "      <td>109.0</td>\n",
       "      <td>108.0</td>\n",
       "      <td>107.0</td>\n",
       "      <td>106.0</td>\n",
       "      <td>105.0</td>\n",
       "      <td>...</td>\n",
       "      <td>79.0</td>\n",
       "      <td>80.0</td>\n",
       "      <td>81.0</td>\n",
       "      <td>82.0</td>\n",
       "      <td>83.0</td>\n",
       "      <td>84.0</td>\n",
       "      <td>85.0</td>\n",
       "      <td>86.0</td>\n",
       "      <td>87.0</td>\n",
       "      <td>88.0</td>\n",
       "    </tr>\n",
       "    <tr>\n",
       "      <th>17</th>\n",
       "      <td>1.0</td>\n",
       "      <td>2.0</td>\n",
       "      <td>3.0</td>\n",
       "      <td>4.0</td>\n",
       "      <td>5.0</td>\n",
       "      <td>6.0</td>\n",
       "      <td>7.0</td>\n",
       "      <td>8.0</td>\n",
       "      <td>9.0</td>\n",
       "      <td>10.0</td>\n",
       "      <td>...</td>\n",
       "      <td>105.0</td>\n",
       "      <td>106.0</td>\n",
       "      <td>107.0</td>\n",
       "      <td>108.0</td>\n",
       "      <td>109.0</td>\n",
       "      <td>110.0</td>\n",
       "      <td>111.0</td>\n",
       "      <td>112.0</td>\n",
       "      <td>113.0</td>\n",
       "      <td>114.0</td>\n",
       "    </tr>\n",
       "    <tr>\n",
       "      <th>18</th>\n",
       "      <td>114.0</td>\n",
       "      <td>113.0</td>\n",
       "      <td>112.0</td>\n",
       "      <td>111.0</td>\n",
       "      <td>110.0</td>\n",
       "      <td>109.0</td>\n",
       "      <td>108.0</td>\n",
       "      <td>107.0</td>\n",
       "      <td>106.0</td>\n",
       "      <td>105.0</td>\n",
       "      <td>...</td>\n",
       "      <td>90.0</td>\n",
       "      <td>91.0</td>\n",
       "      <td>92.0</td>\n",
       "      <td>93.0</td>\n",
       "      <td>94.0</td>\n",
       "      <td>95.0</td>\n",
       "      <td>96.0</td>\n",
       "      <td>97.0</td>\n",
       "      <td>98.0</td>\n",
       "      <td>99.0</td>\n",
       "    </tr>\n",
       "    <tr>\n",
       "      <th>19</th>\n",
       "      <td>114.0</td>\n",
       "      <td>113.0</td>\n",
       "      <td>1.0</td>\n",
       "      <td>2.0</td>\n",
       "      <td>3.0</td>\n",
       "      <td>4.0</td>\n",
       "      <td>5.0</td>\n",
       "      <td>6.0</td>\n",
       "      <td>7.0</td>\n",
       "      <td>8.0</td>\n",
       "      <td>...</td>\n",
       "      <td>103.0</td>\n",
       "      <td>104.0</td>\n",
       "      <td>105.0</td>\n",
       "      <td>106.0</td>\n",
       "      <td>107.0</td>\n",
       "      <td>108.0</td>\n",
       "      <td>109.0</td>\n",
       "      <td>110.0</td>\n",
       "      <td>111.0</td>\n",
       "      <td>112.0</td>\n",
       "    </tr>\n",
       "    <tr>\n",
       "      <th>20</th>\n",
       "      <td>114.0</td>\n",
       "      <td>113.0</td>\n",
       "      <td>1.0</td>\n",
       "      <td>2.0</td>\n",
       "      <td>3.0</td>\n",
       "      <td>4.0</td>\n",
       "      <td>5.0</td>\n",
       "      <td>6.0</td>\n",
       "      <td>7.0</td>\n",
       "      <td>8.0</td>\n",
       "      <td>...</td>\n",
       "      <td>103.0</td>\n",
       "      <td>104.0</td>\n",
       "      <td>105.0</td>\n",
       "      <td>106.0</td>\n",
       "      <td>107.0</td>\n",
       "      <td>108.0</td>\n",
       "      <td>109.0</td>\n",
       "      <td>110.0</td>\n",
       "      <td>111.0</td>\n",
       "      <td>112.0</td>\n",
       "    </tr>\n",
       "    <tr>\n",
       "      <th>21</th>\n",
       "      <td>1.0</td>\n",
       "      <td>2.0</td>\n",
       "      <td>3.0</td>\n",
       "      <td>4.0</td>\n",
       "      <td>5.0</td>\n",
       "      <td>6.0</td>\n",
       "      <td>7.0</td>\n",
       "      <td>8.0</td>\n",
       "      <td>9.0</td>\n",
       "      <td>10.0</td>\n",
       "      <td>...</td>\n",
       "      <td>105.0</td>\n",
       "      <td>106.0</td>\n",
       "      <td>107.0</td>\n",
       "      <td>108.0</td>\n",
       "      <td>109.0</td>\n",
       "      <td>110.0</td>\n",
       "      <td>111.0</td>\n",
       "      <td>112.0</td>\n",
       "      <td>113.0</td>\n",
       "      <td>114.0</td>\n",
       "    </tr>\n",
       "    <tr>\n",
       "      <th>22</th>\n",
       "      <td>1.0</td>\n",
       "      <td>2.0</td>\n",
       "      <td>3.0</td>\n",
       "      <td>4.0</td>\n",
       "      <td>5.0</td>\n",
       "      <td>6.0</td>\n",
       "      <td>7.0</td>\n",
       "      <td>8.0</td>\n",
       "      <td>9.0</td>\n",
       "      <td>10.0</td>\n",
       "      <td>...</td>\n",
       "      <td>105.0</td>\n",
       "      <td>106.0</td>\n",
       "      <td>107.0</td>\n",
       "      <td>108.0</td>\n",
       "      <td>109.0</td>\n",
       "      <td>110.0</td>\n",
       "      <td>111.0</td>\n",
       "      <td>112.0</td>\n",
       "      <td>113.0</td>\n",
       "      <td>114.0</td>\n",
       "    </tr>\n",
       "    <tr>\n",
       "      <th>23</th>\n",
       "      <td>114.0</td>\n",
       "      <td>113.0</td>\n",
       "      <td>1.0</td>\n",
       "      <td>2.0</td>\n",
       "      <td>3.0</td>\n",
       "      <td>4.0</td>\n",
       "      <td>5.0</td>\n",
       "      <td>6.0</td>\n",
       "      <td>7.0</td>\n",
       "      <td>8.0</td>\n",
       "      <td>...</td>\n",
       "      <td>103.0</td>\n",
       "      <td>104.0</td>\n",
       "      <td>105.0</td>\n",
       "      <td>106.0</td>\n",
       "      <td>107.0</td>\n",
       "      <td>108.0</td>\n",
       "      <td>109.0</td>\n",
       "      <td>110.0</td>\n",
       "      <td>111.0</td>\n",
       "      <td>112.0</td>\n",
       "    </tr>\n",
       "    <tr>\n",
       "      <th>24</th>\n",
       "      <td>1.0</td>\n",
       "      <td>2.0</td>\n",
       "      <td>3.0</td>\n",
       "      <td>4.0</td>\n",
       "      <td>5.0</td>\n",
       "      <td>6.0</td>\n",
       "      <td>7.0</td>\n",
       "      <td>8.0</td>\n",
       "      <td>9.0</td>\n",
       "      <td>10.0</td>\n",
       "      <td>...</td>\n",
       "      <td>105.0</td>\n",
       "      <td>106.0</td>\n",
       "      <td>107.0</td>\n",
       "      <td>108.0</td>\n",
       "      <td>109.0</td>\n",
       "      <td>110.0</td>\n",
       "      <td>111.0</td>\n",
       "      <td>112.0</td>\n",
       "      <td>113.0</td>\n",
       "      <td>114.0</td>\n",
       "    </tr>\n",
       "    <tr>\n",
       "      <th>25</th>\n",
       "      <td>114.0</td>\n",
       "      <td>113.0</td>\n",
       "      <td>112.0</td>\n",
       "      <td>111.0</td>\n",
       "      <td>110.0</td>\n",
       "      <td>109.0</td>\n",
       "      <td>108.0</td>\n",
       "      <td>107.0</td>\n",
       "      <td>106.0</td>\n",
       "      <td>1.0</td>\n",
       "      <td>...</td>\n",
       "      <td>96.0</td>\n",
       "      <td>97.0</td>\n",
       "      <td>98.0</td>\n",
       "      <td>99.0</td>\n",
       "      <td>100.0</td>\n",
       "      <td>101.0</td>\n",
       "      <td>102.0</td>\n",
       "      <td>103.0</td>\n",
       "      <td>104.0</td>\n",
       "      <td>105.0</td>\n",
       "    </tr>\n",
       "    <tr>\n",
       "      <th>26</th>\n",
       "      <td>1.0</td>\n",
       "      <td>2.0</td>\n",
       "      <td>3.0</td>\n",
       "      <td>4.0</td>\n",
       "      <td>5.0</td>\n",
       "      <td>6.0</td>\n",
       "      <td>7.0</td>\n",
       "      <td>8.0</td>\n",
       "      <td>9.0</td>\n",
       "      <td>10.0</td>\n",
       "      <td>...</td>\n",
       "      <td>105.0</td>\n",
       "      <td>106.0</td>\n",
       "      <td>107.0</td>\n",
       "      <td>108.0</td>\n",
       "      <td>109.0</td>\n",
       "      <td>110.0</td>\n",
       "      <td>111.0</td>\n",
       "      <td>112.0</td>\n",
       "      <td>113.0</td>\n",
       "      <td>114.0</td>\n",
       "    </tr>\n",
       "    <tr>\n",
       "      <th>27</th>\n",
       "      <td>1.0</td>\n",
       "      <td>2.0</td>\n",
       "      <td>3.0</td>\n",
       "      <td>4.0</td>\n",
       "      <td>5.0</td>\n",
       "      <td>6.0</td>\n",
       "      <td>7.0</td>\n",
       "      <td>8.0</td>\n",
       "      <td>9.0</td>\n",
       "      <td>10.0</td>\n",
       "      <td>...</td>\n",
       "      <td>105.0</td>\n",
       "      <td>106.0</td>\n",
       "      <td>107.0</td>\n",
       "      <td>108.0</td>\n",
       "      <td>109.0</td>\n",
       "      <td>110.0</td>\n",
       "      <td>111.0</td>\n",
       "      <td>112.0</td>\n",
       "      <td>113.0</td>\n",
       "      <td>114.0</td>\n",
       "    </tr>\n",
       "    <tr>\n",
       "      <th>28</th>\n",
       "      <td>1.0</td>\n",
       "      <td>2.0</td>\n",
       "      <td>3.0</td>\n",
       "      <td>4.0</td>\n",
       "      <td>5.0</td>\n",
       "      <td>6.0</td>\n",
       "      <td>7.0</td>\n",
       "      <td>8.0</td>\n",
       "      <td>9.0</td>\n",
       "      <td>10.0</td>\n",
       "      <td>...</td>\n",
       "      <td>105.0</td>\n",
       "      <td>106.0</td>\n",
       "      <td>107.0</td>\n",
       "      <td>108.0</td>\n",
       "      <td>109.0</td>\n",
       "      <td>110.0</td>\n",
       "      <td>111.0</td>\n",
       "      <td>112.0</td>\n",
       "      <td>113.0</td>\n",
       "      <td>114.0</td>\n",
       "    </tr>\n",
       "    <tr>\n",
       "      <th>29</th>\n",
       "      <td>1.0</td>\n",
       "      <td>2.0</td>\n",
       "      <td>3.0</td>\n",
       "      <td>4.0</td>\n",
       "      <td>5.0</td>\n",
       "      <td>6.0</td>\n",
       "      <td>7.0</td>\n",
       "      <td>8.0</td>\n",
       "      <td>9.0</td>\n",
       "      <td>10.0</td>\n",
       "      <td>...</td>\n",
       "      <td>105.0</td>\n",
       "      <td>106.0</td>\n",
       "      <td>107.0</td>\n",
       "      <td>108.0</td>\n",
       "      <td>109.0</td>\n",
       "      <td>110.0</td>\n",
       "      <td>111.0</td>\n",
       "      <td>112.0</td>\n",
       "      <td>113.0</td>\n",
       "      <td>114.0</td>\n",
       "    </tr>\n",
       "    <tr>\n",
       "      <th>30</th>\n",
       "      <td>1.0</td>\n",
       "      <td>2.0</td>\n",
       "      <td>3.0</td>\n",
       "      <td>4.0</td>\n",
       "      <td>5.0</td>\n",
       "      <td>6.0</td>\n",
       "      <td>7.0</td>\n",
       "      <td>8.0</td>\n",
       "      <td>9.0</td>\n",
       "      <td>10.0</td>\n",
       "      <td>...</td>\n",
       "      <td>105.0</td>\n",
       "      <td>106.0</td>\n",
       "      <td>107.0</td>\n",
       "      <td>108.0</td>\n",
       "      <td>109.0</td>\n",
       "      <td>110.0</td>\n",
       "      <td>111.0</td>\n",
       "      <td>112.0</td>\n",
       "      <td>113.0</td>\n",
       "      <td>114.0</td>\n",
       "    </tr>\n",
       "    <tr>\n",
       "      <th>31</th>\n",
       "      <td>1.0</td>\n",
       "      <td>2.0</td>\n",
       "      <td>3.0</td>\n",
       "      <td>4.0</td>\n",
       "      <td>5.0</td>\n",
       "      <td>6.0</td>\n",
       "      <td>7.0</td>\n",
       "      <td>8.0</td>\n",
       "      <td>9.0</td>\n",
       "      <td>10.0</td>\n",
       "      <td>...</td>\n",
       "      <td>105.0</td>\n",
       "      <td>106.0</td>\n",
       "      <td>107.0</td>\n",
       "      <td>108.0</td>\n",
       "      <td>109.0</td>\n",
       "      <td>110.0</td>\n",
       "      <td>111.0</td>\n",
       "      <td>112.0</td>\n",
       "      <td>113.0</td>\n",
       "      <td>114.0</td>\n",
       "    </tr>\n",
       "    <tr>\n",
       "      <th>32</th>\n",
       "      <td>1.0</td>\n",
       "      <td>2.0</td>\n",
       "      <td>3.0</td>\n",
       "      <td>4.0</td>\n",
       "      <td>5.0</td>\n",
       "      <td>6.0</td>\n",
       "      <td>7.0</td>\n",
       "      <td>8.0</td>\n",
       "      <td>9.0</td>\n",
       "      <td>10.0</td>\n",
       "      <td>...</td>\n",
       "      <td>105.0</td>\n",
       "      <td>106.0</td>\n",
       "      <td>107.0</td>\n",
       "      <td>108.0</td>\n",
       "      <td>109.0</td>\n",
       "      <td>110.0</td>\n",
       "      <td>111.0</td>\n",
       "      <td>112.0</td>\n",
       "      <td>113.0</td>\n",
       "      <td>114.0</td>\n",
       "    </tr>\n",
       "    <tr>\n",
       "      <th>33</th>\n",
       "      <td>1.0</td>\n",
       "      <td>2.0</td>\n",
       "      <td>3.0</td>\n",
       "      <td>4.0</td>\n",
       "      <td>5.0</td>\n",
       "      <td>6.0</td>\n",
       "      <td>7.0</td>\n",
       "      <td>8.0</td>\n",
       "      <td>9.0</td>\n",
       "      <td>10.0</td>\n",
       "      <td>...</td>\n",
       "      <td>105.0</td>\n",
       "      <td>106.0</td>\n",
       "      <td>107.0</td>\n",
       "      <td>108.0</td>\n",
       "      <td>109.0</td>\n",
       "      <td>110.0</td>\n",
       "      <td>111.0</td>\n",
       "      <td>112.0</td>\n",
       "      <td>113.0</td>\n",
       "      <td>114.0</td>\n",
       "    </tr>\n",
       "    <tr>\n",
       "      <th>34</th>\n",
       "      <td>1.0</td>\n",
       "      <td>2.0</td>\n",
       "      <td>3.0</td>\n",
       "      <td>4.0</td>\n",
       "      <td>5.0</td>\n",
       "      <td>6.0</td>\n",
       "      <td>7.0</td>\n",
       "      <td>8.0</td>\n",
       "      <td>9.0</td>\n",
       "      <td>10.0</td>\n",
       "      <td>...</td>\n",
       "      <td>105.0</td>\n",
       "      <td>106.0</td>\n",
       "      <td>107.0</td>\n",
       "      <td>108.0</td>\n",
       "      <td>109.0</td>\n",
       "      <td>110.0</td>\n",
       "      <td>111.0</td>\n",
       "      <td>112.0</td>\n",
       "      <td>113.0</td>\n",
       "      <td>114.0</td>\n",
       "    </tr>\n",
       "    <tr>\n",
       "      <th>35</th>\n",
       "      <td>1.0</td>\n",
       "      <td>2.0</td>\n",
       "      <td>3.0</td>\n",
       "      <td>4.0</td>\n",
       "      <td>5.0</td>\n",
       "      <td>6.0</td>\n",
       "      <td>7.0</td>\n",
       "      <td>8.0</td>\n",
       "      <td>9.0</td>\n",
       "      <td>10.0</td>\n",
       "      <td>...</td>\n",
       "      <td>105.0</td>\n",
       "      <td>106.0</td>\n",
       "      <td>107.0</td>\n",
       "      <td>108.0</td>\n",
       "      <td>109.0</td>\n",
       "      <td>110.0</td>\n",
       "      <td>111.0</td>\n",
       "      <td>112.0</td>\n",
       "      <td>113.0</td>\n",
       "      <td>114.0</td>\n",
       "    </tr>\n",
       "    <tr>\n",
       "      <th>36</th>\n",
       "      <td>1.0</td>\n",
       "      <td>2.0</td>\n",
       "      <td>3.0</td>\n",
       "      <td>4.0</td>\n",
       "      <td>5.0</td>\n",
       "      <td>6.0</td>\n",
       "      <td>7.0</td>\n",
       "      <td>8.0</td>\n",
       "      <td>9.0</td>\n",
       "      <td>10.0</td>\n",
       "      <td>...</td>\n",
       "      <td>105.0</td>\n",
       "      <td>106.0</td>\n",
       "      <td>107.0</td>\n",
       "      <td>108.0</td>\n",
       "      <td>109.0</td>\n",
       "      <td>110.0</td>\n",
       "      <td>111.0</td>\n",
       "      <td>112.0</td>\n",
       "      <td>113.0</td>\n",
       "      <td>114.0</td>\n",
       "    </tr>\n",
       "  </tbody>\n",
       "</table>\n",
       "<p>37 rows × 114 columns</p>\n",
       "</div>"
      ],
      "text/plain": [
       "    0.0000  0.0025  0.0050  0.0075  0.0100  0.0125  0.0150  0.0175  0.0200  \\\n",
       "0      1.0     2.0     3.0     4.0     5.0     6.0     7.0     8.0     9.0   \n",
       "1      1.0     2.0     3.0     4.0     5.0     6.0     7.0     8.0     9.0   \n",
       "2      1.0     2.0     3.0     4.0     5.0     6.0     7.0     8.0     9.0   \n",
       "3    114.0     1.0     2.0     3.0     4.0     5.0     6.0     7.0     8.0   \n",
       "4      1.0     2.0     3.0     4.0     5.0     6.0     7.0     8.0     9.0   \n",
       "5      2.0     1.0     3.0     4.0     5.0     6.0     7.0     8.0     9.0   \n",
       "6      2.0     1.0     3.0     4.0     5.0     6.0     7.0     8.0     9.0   \n",
       "7      2.0     1.0     3.0     4.0     5.0     6.0     7.0     8.0     9.0   \n",
       "8    114.0   113.0   112.0     1.0     2.0     3.0     4.0     5.0     6.0   \n",
       "9    114.0   113.0   112.0     1.0     2.0     3.0     4.0     5.0     6.0   \n",
       "10     1.0     2.0     3.0     4.0     5.0     6.0     7.0     8.0     9.0   \n",
       "11   114.0   113.0     1.0     2.0     3.0     4.0     5.0     6.0     7.0   \n",
       "12   114.0   113.0   112.0     1.0     2.0     3.0     4.0     5.0     6.0   \n",
       "13   114.0   113.0   112.0   111.0   110.0   109.0   108.0   107.0   106.0   \n",
       "14   107.0   105.0   114.0   113.0   112.0   111.0   110.0   108.0   109.0   \n",
       "15   114.0   113.0   112.0   110.0   111.0   109.0   108.0   106.0   107.0   \n",
       "16   114.0   113.0   112.0   111.0   110.0   109.0   108.0   107.0   106.0   \n",
       "17     1.0     2.0     3.0     4.0     5.0     6.0     7.0     8.0     9.0   \n",
       "18   114.0   113.0   112.0   111.0   110.0   109.0   108.0   107.0   106.0   \n",
       "19   114.0   113.0     1.0     2.0     3.0     4.0     5.0     6.0     7.0   \n",
       "20   114.0   113.0     1.0     2.0     3.0     4.0     5.0     6.0     7.0   \n",
       "21     1.0     2.0     3.0     4.0     5.0     6.0     7.0     8.0     9.0   \n",
       "22     1.0     2.0     3.0     4.0     5.0     6.0     7.0     8.0     9.0   \n",
       "23   114.0   113.0     1.0     2.0     3.0     4.0     5.0     6.0     7.0   \n",
       "24     1.0     2.0     3.0     4.0     5.0     6.0     7.0     8.0     9.0   \n",
       "25   114.0   113.0   112.0   111.0   110.0   109.0   108.0   107.0   106.0   \n",
       "26     1.0     2.0     3.0     4.0     5.0     6.0     7.0     8.0     9.0   \n",
       "27     1.0     2.0     3.0     4.0     5.0     6.0     7.0     8.0     9.0   \n",
       "28     1.0     2.0     3.0     4.0     5.0     6.0     7.0     8.0     9.0   \n",
       "29     1.0     2.0     3.0     4.0     5.0     6.0     7.0     8.0     9.0   \n",
       "30     1.0     2.0     3.0     4.0     5.0     6.0     7.0     8.0     9.0   \n",
       "31     1.0     2.0     3.0     4.0     5.0     6.0     7.0     8.0     9.0   \n",
       "32     1.0     2.0     3.0     4.0     5.0     6.0     7.0     8.0     9.0   \n",
       "33     1.0     2.0     3.0     4.0     5.0     6.0     7.0     8.0     9.0   \n",
       "34     1.0     2.0     3.0     4.0     5.0     6.0     7.0     8.0     9.0   \n",
       "35     1.0     2.0     3.0     4.0     5.0     6.0     7.0     8.0     9.0   \n",
       "36     1.0     2.0     3.0     4.0     5.0     6.0     7.0     8.0     9.0   \n",
       "\n",
       "    0.0225  ...  0.2600  0.2625  0.2650  0.2675  0.2700  0.2725  0.2750  \\\n",
       "0     10.0  ...   105.0   106.0   107.0   108.0   109.0   110.0   111.0   \n",
       "1     10.0  ...   105.0   106.0   107.0   108.0   109.0   110.0   111.0   \n",
       "2     10.0  ...   105.0   106.0   107.0   108.0   109.0   110.0   111.0   \n",
       "3      9.0  ...   104.0   105.0   106.0   107.0   108.0   109.0   110.0   \n",
       "4     10.0  ...   105.0   106.0   107.0   108.0   109.0   110.0   111.0   \n",
       "5     10.0  ...   105.0   106.0   107.0   108.0   109.0   110.0   111.0   \n",
       "6     10.0  ...   105.0   106.0   107.0   108.0   109.0   110.0   111.0   \n",
       "7     10.0  ...   105.0   106.0   107.0   108.0   109.0   110.0   111.0   \n",
       "8      7.0  ...   102.0   103.0   104.0   105.0   106.0   107.0   108.0   \n",
       "9      7.0  ...   102.0   103.0   104.0   105.0   106.0   107.0   108.0   \n",
       "10    10.0  ...   105.0   106.0   107.0   108.0   109.0   110.0   111.0   \n",
       "11     8.0  ...   103.0   104.0   105.0   106.0   107.0   108.0   109.0   \n",
       "12     7.0  ...   102.0   103.0   104.0   105.0   106.0   107.0   108.0   \n",
       "13   105.0  ...    10.0     9.0     8.0     7.0     6.0     5.0     4.0   \n",
       "14   106.0  ...    10.0     9.0     8.0     1.0     2.0     3.0     4.0   \n",
       "15   105.0  ...    65.0    66.0    67.0    68.0    69.0    70.0    71.0   \n",
       "16   105.0  ...    79.0    80.0    81.0    82.0    83.0    84.0    85.0   \n",
       "17    10.0  ...   105.0   106.0   107.0   108.0   109.0   110.0   111.0   \n",
       "18   105.0  ...    90.0    91.0    92.0    93.0    94.0    95.0    96.0   \n",
       "19     8.0  ...   103.0   104.0   105.0   106.0   107.0   108.0   109.0   \n",
       "20     8.0  ...   103.0   104.0   105.0   106.0   107.0   108.0   109.0   \n",
       "21    10.0  ...   105.0   106.0   107.0   108.0   109.0   110.0   111.0   \n",
       "22    10.0  ...   105.0   106.0   107.0   108.0   109.0   110.0   111.0   \n",
       "23     8.0  ...   103.0   104.0   105.0   106.0   107.0   108.0   109.0   \n",
       "24    10.0  ...   105.0   106.0   107.0   108.0   109.0   110.0   111.0   \n",
       "25     1.0  ...    96.0    97.0    98.0    99.0   100.0   101.0   102.0   \n",
       "26    10.0  ...   105.0   106.0   107.0   108.0   109.0   110.0   111.0   \n",
       "27    10.0  ...   105.0   106.0   107.0   108.0   109.0   110.0   111.0   \n",
       "28    10.0  ...   105.0   106.0   107.0   108.0   109.0   110.0   111.0   \n",
       "29    10.0  ...   105.0   106.0   107.0   108.0   109.0   110.0   111.0   \n",
       "30    10.0  ...   105.0   106.0   107.0   108.0   109.0   110.0   111.0   \n",
       "31    10.0  ...   105.0   106.0   107.0   108.0   109.0   110.0   111.0   \n",
       "32    10.0  ...   105.0   106.0   107.0   108.0   109.0   110.0   111.0   \n",
       "33    10.0  ...   105.0   106.0   107.0   108.0   109.0   110.0   111.0   \n",
       "34    10.0  ...   105.0   106.0   107.0   108.0   109.0   110.0   111.0   \n",
       "35    10.0  ...   105.0   106.0   107.0   108.0   109.0   110.0   111.0   \n",
       "36    10.0  ...   105.0   106.0   107.0   108.0   109.0   110.0   111.0   \n",
       "\n",
       "    0.2775  0.2800  0.2825  \n",
       "0    112.0   113.0   114.0  \n",
       "1    112.0   113.0   114.0  \n",
       "2    112.0   113.0   114.0  \n",
       "3    111.0   112.0   113.0  \n",
       "4    112.0   113.0   114.0  \n",
       "5    112.0   113.0   114.0  \n",
       "6    112.0   113.0   114.0  \n",
       "7    112.0   113.0   114.0  \n",
       "8    109.0   110.0   111.0  \n",
       "9    109.0   110.0   111.0  \n",
       "10   112.0   113.0   114.0  \n",
       "11   110.0   111.0   112.0  \n",
       "12   109.0   110.0   111.0  \n",
       "13     3.0     2.0     1.0  \n",
       "14     5.0     6.0     7.0  \n",
       "15    72.0    73.0    74.0  \n",
       "16    86.0    87.0    88.0  \n",
       "17   112.0   113.0   114.0  \n",
       "18    97.0    98.0    99.0  \n",
       "19   110.0   111.0   112.0  \n",
       "20   110.0   111.0   112.0  \n",
       "21   112.0   113.0   114.0  \n",
       "22   112.0   113.0   114.0  \n",
       "23   110.0   111.0   112.0  \n",
       "24   112.0   113.0   114.0  \n",
       "25   103.0   104.0   105.0  \n",
       "26   112.0   113.0   114.0  \n",
       "27   112.0   113.0   114.0  \n",
       "28   112.0   113.0   114.0  \n",
       "29   112.0   113.0   114.0  \n",
       "30   112.0   113.0   114.0  \n",
       "31   112.0   113.0   114.0  \n",
       "32   112.0   113.0   114.0  \n",
       "33   112.0   113.0   114.0  \n",
       "34   112.0   113.0   114.0  \n",
       "35   112.0   113.0   114.0  \n",
       "36   112.0   113.0   114.0  \n",
       "\n",
       "[37 rows x 114 columns]"
      ]
     },
     "execution_count": 7,
     "metadata": {},
     "output_type": "execute_result"
    }
   ],
   "source": [
    "rky.icrfs.LassoFeatureImportance()"
   ]
  },
  {
   "cell_type": "code",
   "execution_count": 8,
   "metadata": {},
   "outputs": [
    {
     "data": {
      "text/plain": [
       "Accident Period\n",
       "2001-01-01    3901463.0\n",
       "2002-01-01    5433719.0\n",
       "2003-01-01    5378826.0\n",
       "2004-01-01    5297906.0\n",
       "2005-01-01    4858200.0\n",
       "2006-01-01    5111171.0\n",
       "2007-01-01    5660771.0\n",
       "2008-01-01    6784799.0\n",
       "2009-01-01    5642266.0\n",
       "2010-01-01    4969825.0\n",
       "Name: Chain Ladder Ultimate Loss, dtype: float64"
      ]
     },
     "execution_count": 8,
     "metadata": {},
     "output_type": "execute_result"
    }
   ],
   "source": [
    "rky.icrfs.tri.ult()"
   ]
  },
  {
   "cell_type": "code",
   "execution_count": 9,
   "metadata": {},
   "outputs": [
    {
     "data": {
      "text/plain": [
       "accident_period\n",
       "2001-01-01    2567142.0\n",
       "2002-01-01    3706315.0\n",
       "2003-01-01    3638545.0\n",
       "2004-01-01    3629865.0\n",
       "2005-01-01    3506981.0\n",
       "2006-01-01    3807868.0\n",
       "2007-01-01    4326249.0\n",
       "2008-01-01    4866519.0\n",
       "2009-01-01    4457979.0\n",
       "2010-01-01    4296988.0\n",
       "Name: Log-linear Ultimate, dtype: float64"
      ]
     },
     "execution_count": 9,
     "metadata": {},
     "output_type": "execute_result"
    }
   ],
   "source": [
    "rky.icrfs.Ultimate()"
   ]
  },
  {
   "cell_type": "code",
   "execution_count": 10,
   "metadata": {},
   "outputs": [
    {
     "data": {
      "application/vnd.plotly.v1+json": {
       "config": {
        "plotlyServerURL": "https://plot.ly"
       },
       "data": [
        {
         "hovertemplate": "Accident Period=%{x}<br>Estimate=%{y}<extra></extra>",
         "legendgroup": "",
         "line": {
          "color": "red",
          "dash": "solid"
         },
         "marker": {
          "symbol": "circle"
         },
         "mode": "lines",
         "name": "",
         "orientation": "v",
         "showlegend": false,
         "type": "scatter",
         "x": [
          "accident_period_2002",
          "accident_period_2003",
          "accident_period_2004",
          "accident_period_2005",
          "accident_period_2006",
          "accident_period_2007",
          "accident_period_2008",
          "accident_period_2009",
          "accident_period_2010"
         ],
         "xaxis": "x",
         "y": [
          0.2841043018230536,
          0.11459635848273922,
          -0.02554487323472511,
          0.05440976841459285,
          0.08799089169762853,
          0.15257288902059132,
          0.16312754613241878,
          -0.014925589569344765,
          -0.13272337884081561
         ],
         "yaxis": "y"
        },
        {
         "hovertemplate": "Development Period=%{x}<br>Estimate=%{y}<extra></extra>",
         "legendgroup": "",
         "line": {
          "color": "blue",
          "dash": "solid"
         },
         "marker": {
          "symbol": "circle"
         },
         "mode": "lines",
         "name": "",
         "orientation": "v",
         "showlegend": false,
         "type": "scatter",
         "x": [
          "development_period_002",
          "development_period_003",
          "development_period_004",
          "development_period_005",
          "development_period_006",
          "development_period_007",
          "development_period_008",
          "development_period_009",
          "development_period_010"
         ],
         "xaxis": "x2",
         "y": [
          0.8460360507312956,
          0.9698856747241966,
          0.8319393074903336,
          0.16056469703236698,
          -0.38428080819586685,
          -0.7120623953662091,
          -1.0525252990348417,
          -1.2126850366120336,
          -1.6818530618009948
         ],
         "yaxis": "y2"
        },
        {
         "hovertemplate": "Calendar Period=%{x}<br>Estimate=%{y}<extra></extra>",
         "legendgroup": "",
         "line": {
          "color": "green",
          "dash": "solid"
         },
         "marker": {
          "symbol": "circle"
         },
         "mode": "lines",
         "name": "",
         "orientation": "v",
         "showlegend": false,
         "type": "scatter",
         "x": [
          "calendar_period_2002",
          "calendar_period_2003",
          "calendar_period_2004",
          "calendar_period_2005",
          "calendar_period_2006",
          "calendar_period_2007",
          "calendar_period_2008",
          "calendar_period_2009",
          "calendar_period_2010",
          "calendar_period_2011",
          "calendar_period_2012",
          "calendar_period_2013",
          "calendar_period_2014",
          "calendar_period_2015",
          "calendar_period_2016",
          "calendar_period_2017",
          "calendar_period_2018",
          "calendar_period_2019"
         ],
         "xaxis": "x3",
         "y": [
          -0.1660762132409813,
          -0.23897131384057682,
          -0.14383408679046206,
          0.08418105413256693,
          0.05152591218307297,
          0.03400004831831557,
          -0.1636549430896532,
          0.11489502577567204,
          0.1668762149926058,
          0.1668762149926058,
          0.1668762149926058,
          0.1668762149926058,
          0.1668762149926058,
          0.1668762149926058,
          0.1668762149926058,
          0.1668762149926058,
          0.1668762149926058,
          0.1668762149926058
         ],
         "yaxis": "y3"
        },
        {
         "hovertemplate": "Development Period=%{x}<br>Hetero Adjustment=%{y}<extra></extra>",
         "legendgroup": "",
         "line": {
          "color": "black",
          "dash": "solid"
         },
         "marker": {
          "symbol": "circle"
         },
         "mode": "lines",
         "name": "",
         "orientation": "v",
         "showlegend": false,
         "type": "scatter",
         "x": [
          1,
          1,
          1,
          1,
          1,
          1,
          1,
          1,
          1,
          1,
          2,
          2,
          2,
          2,
          2,
          2,
          2,
          2,
          2,
          3,
          3,
          3,
          3,
          3,
          3,
          3,
          3,
          4,
          4,
          4,
          4,
          4,
          4,
          4,
          5,
          5,
          5,
          5,
          5,
          5,
          6,
          6,
          6,
          6,
          6,
          7,
          7,
          7,
          7,
          8,
          8,
          8,
          9,
          9,
          10
         ],
         "xaxis": "x4",
         "y": [
          1,
          1,
          1,
          1,
          1,
          1,
          1,
          1,
          1,
          1,
          1,
          1,
          1,
          1,
          1,
          1,
          1,
          1,
          1,
          1,
          1,
          1,
          1,
          1,
          1,
          1,
          1,
          1,
          1,
          1,
          1,
          1,
          1,
          1,
          1,
          1,
          1,
          1,
          1,
          1,
          1,
          1,
          1,
          1,
          1,
          1,
          1,
          1,
          1,
          1,
          1,
          1,
          1,
          1,
          1
         ],
         "yaxis": "y4"
        }
       ],
       "layout": {
        "annotations": [
         {
          "font": {
           "size": 16
          },
          "showarrow": false,
          "text": "Accident Period",
          "x": 0.225,
          "xanchor": "center",
          "xref": "paper",
          "y": 1,
          "yanchor": "bottom",
          "yref": "paper"
         },
         {
          "font": {
           "size": 16
          },
          "showarrow": false,
          "text": "Development Period",
          "x": 0.775,
          "xanchor": "center",
          "xref": "paper",
          "y": 1,
          "yanchor": "bottom",
          "yref": "paper"
         },
         {
          "font": {
           "size": 16
          },
          "showarrow": false,
          "text": "Calendar Period",
          "x": 0.225,
          "xanchor": "center",
          "xref": "paper",
          "y": 0.375,
          "yanchor": "bottom",
          "yref": "paper"
         },
         {
          "font": {
           "size": 16
          },
          "showarrow": false,
          "text": "Heteroskedasticity Adjustment",
          "x": 0.775,
          "xanchor": "center",
          "xref": "paper",
          "y": 0.375,
          "yanchor": "bottom",
          "yref": "paper"
         }
        ],
        "height": 800,
        "template": {
         "data": {
          "bar": [
           {
            "error_x": {
             "color": "#2a3f5f"
            },
            "error_y": {
             "color": "#2a3f5f"
            },
            "marker": {
             "line": {
              "color": "#E5ECF6",
              "width": 0.5
             },
             "pattern": {
              "fillmode": "overlay",
              "size": 10,
              "solidity": 0.2
             }
            },
            "type": "bar"
           }
          ],
          "barpolar": [
           {
            "marker": {
             "line": {
              "color": "#E5ECF6",
              "width": 0.5
             },
             "pattern": {
              "fillmode": "overlay",
              "size": 10,
              "solidity": 0.2
             }
            },
            "type": "barpolar"
           }
          ],
          "carpet": [
           {
            "aaxis": {
             "endlinecolor": "#2a3f5f",
             "gridcolor": "white",
             "linecolor": "white",
             "minorgridcolor": "white",
             "startlinecolor": "#2a3f5f"
            },
            "baxis": {
             "endlinecolor": "#2a3f5f",
             "gridcolor": "white",
             "linecolor": "white",
             "minorgridcolor": "white",
             "startlinecolor": "#2a3f5f"
            },
            "type": "carpet"
           }
          ],
          "choropleth": [
           {
            "colorbar": {
             "outlinewidth": 0,
             "ticks": ""
            },
            "type": "choropleth"
           }
          ],
          "contour": [
           {
            "colorbar": {
             "outlinewidth": 0,
             "ticks": ""
            },
            "colorscale": [
             [
              0,
              "#0d0887"
             ],
             [
              0.1111111111111111,
              "#46039f"
             ],
             [
              0.2222222222222222,
              "#7201a8"
             ],
             [
              0.3333333333333333,
              "#9c179e"
             ],
             [
              0.4444444444444444,
              "#bd3786"
             ],
             [
              0.5555555555555556,
              "#d8576b"
             ],
             [
              0.6666666666666666,
              "#ed7953"
             ],
             [
              0.7777777777777778,
              "#fb9f3a"
             ],
             [
              0.8888888888888888,
              "#fdca26"
             ],
             [
              1,
              "#f0f921"
             ]
            ],
            "type": "contour"
           }
          ],
          "contourcarpet": [
           {
            "colorbar": {
             "outlinewidth": 0,
             "ticks": ""
            },
            "type": "contourcarpet"
           }
          ],
          "heatmap": [
           {
            "colorbar": {
             "outlinewidth": 0,
             "ticks": ""
            },
            "colorscale": [
             [
              0,
              "#0d0887"
             ],
             [
              0.1111111111111111,
              "#46039f"
             ],
             [
              0.2222222222222222,
              "#7201a8"
             ],
             [
              0.3333333333333333,
              "#9c179e"
             ],
             [
              0.4444444444444444,
              "#bd3786"
             ],
             [
              0.5555555555555556,
              "#d8576b"
             ],
             [
              0.6666666666666666,
              "#ed7953"
             ],
             [
              0.7777777777777778,
              "#fb9f3a"
             ],
             [
              0.8888888888888888,
              "#fdca26"
             ],
             [
              1,
              "#f0f921"
             ]
            ],
            "type": "heatmap"
           }
          ],
          "heatmapgl": [
           {
            "colorbar": {
             "outlinewidth": 0,
             "ticks": ""
            },
            "colorscale": [
             [
              0,
              "#0d0887"
             ],
             [
              0.1111111111111111,
              "#46039f"
             ],
             [
              0.2222222222222222,
              "#7201a8"
             ],
             [
              0.3333333333333333,
              "#9c179e"
             ],
             [
              0.4444444444444444,
              "#bd3786"
             ],
             [
              0.5555555555555556,
              "#d8576b"
             ],
             [
              0.6666666666666666,
              "#ed7953"
             ],
             [
              0.7777777777777778,
              "#fb9f3a"
             ],
             [
              0.8888888888888888,
              "#fdca26"
             ],
             [
              1,
              "#f0f921"
             ]
            ],
            "type": "heatmapgl"
           }
          ],
          "histogram": [
           {
            "marker": {
             "pattern": {
              "fillmode": "overlay",
              "size": 10,
              "solidity": 0.2
             }
            },
            "type": "histogram"
           }
          ],
          "histogram2d": [
           {
            "colorbar": {
             "outlinewidth": 0,
             "ticks": ""
            },
            "colorscale": [
             [
              0,
              "#0d0887"
             ],
             [
              0.1111111111111111,
              "#46039f"
             ],
             [
              0.2222222222222222,
              "#7201a8"
             ],
             [
              0.3333333333333333,
              "#9c179e"
             ],
             [
              0.4444444444444444,
              "#bd3786"
             ],
             [
              0.5555555555555556,
              "#d8576b"
             ],
             [
              0.6666666666666666,
              "#ed7953"
             ],
             [
              0.7777777777777778,
              "#fb9f3a"
             ],
             [
              0.8888888888888888,
              "#fdca26"
             ],
             [
              1,
              "#f0f921"
             ]
            ],
            "type": "histogram2d"
           }
          ],
          "histogram2dcontour": [
           {
            "colorbar": {
             "outlinewidth": 0,
             "ticks": ""
            },
            "colorscale": [
             [
              0,
              "#0d0887"
             ],
             [
              0.1111111111111111,
              "#46039f"
             ],
             [
              0.2222222222222222,
              "#7201a8"
             ],
             [
              0.3333333333333333,
              "#9c179e"
             ],
             [
              0.4444444444444444,
              "#bd3786"
             ],
             [
              0.5555555555555556,
              "#d8576b"
             ],
             [
              0.6666666666666666,
              "#ed7953"
             ],
             [
              0.7777777777777778,
              "#fb9f3a"
             ],
             [
              0.8888888888888888,
              "#fdca26"
             ],
             [
              1,
              "#f0f921"
             ]
            ],
            "type": "histogram2dcontour"
           }
          ],
          "mesh3d": [
           {
            "colorbar": {
             "outlinewidth": 0,
             "ticks": ""
            },
            "type": "mesh3d"
           }
          ],
          "parcoords": [
           {
            "line": {
             "colorbar": {
              "outlinewidth": 0,
              "ticks": ""
             }
            },
            "type": "parcoords"
           }
          ],
          "pie": [
           {
            "automargin": true,
            "type": "pie"
           }
          ],
          "scatter": [
           {
            "fillpattern": {
             "fillmode": "overlay",
             "size": 10,
             "solidity": 0.2
            },
            "type": "scatter"
           }
          ],
          "scatter3d": [
           {
            "line": {
             "colorbar": {
              "outlinewidth": 0,
              "ticks": ""
             }
            },
            "marker": {
             "colorbar": {
              "outlinewidth": 0,
              "ticks": ""
             }
            },
            "type": "scatter3d"
           }
          ],
          "scattercarpet": [
           {
            "marker": {
             "colorbar": {
              "outlinewidth": 0,
              "ticks": ""
             }
            },
            "type": "scattercarpet"
           }
          ],
          "scattergeo": [
           {
            "marker": {
             "colorbar": {
              "outlinewidth": 0,
              "ticks": ""
             }
            },
            "type": "scattergeo"
           }
          ],
          "scattergl": [
           {
            "marker": {
             "colorbar": {
              "outlinewidth": 0,
              "ticks": ""
             }
            },
            "type": "scattergl"
           }
          ],
          "scattermapbox": [
           {
            "marker": {
             "colorbar": {
              "outlinewidth": 0,
              "ticks": ""
             }
            },
            "type": "scattermapbox"
           }
          ],
          "scatterpolar": [
           {
            "marker": {
             "colorbar": {
              "outlinewidth": 0,
              "ticks": ""
             }
            },
            "type": "scatterpolar"
           }
          ],
          "scatterpolargl": [
           {
            "marker": {
             "colorbar": {
              "outlinewidth": 0,
              "ticks": ""
             }
            },
            "type": "scatterpolargl"
           }
          ],
          "scatterternary": [
           {
            "marker": {
             "colorbar": {
              "outlinewidth": 0,
              "ticks": ""
             }
            },
            "type": "scatterternary"
           }
          ],
          "surface": [
           {
            "colorbar": {
             "outlinewidth": 0,
             "ticks": ""
            },
            "colorscale": [
             [
              0,
              "#0d0887"
             ],
             [
              0.1111111111111111,
              "#46039f"
             ],
             [
              0.2222222222222222,
              "#7201a8"
             ],
             [
              0.3333333333333333,
              "#9c179e"
             ],
             [
              0.4444444444444444,
              "#bd3786"
             ],
             [
              0.5555555555555556,
              "#d8576b"
             ],
             [
              0.6666666666666666,
              "#ed7953"
             ],
             [
              0.7777777777777778,
              "#fb9f3a"
             ],
             [
              0.8888888888888888,
              "#fdca26"
             ],
             [
              1,
              "#f0f921"
             ]
            ],
            "type": "surface"
           }
          ],
          "table": [
           {
            "cells": {
             "fill": {
              "color": "#EBF0F8"
             },
             "line": {
              "color": "white"
             }
            },
            "header": {
             "fill": {
              "color": "#C8D4E3"
             },
             "line": {
              "color": "white"
             }
            },
            "type": "table"
           }
          ]
         },
         "layout": {
          "annotationdefaults": {
           "arrowcolor": "#2a3f5f",
           "arrowhead": 0,
           "arrowwidth": 1
          },
          "autotypenumbers": "strict",
          "coloraxis": {
           "colorbar": {
            "outlinewidth": 0,
            "ticks": ""
           }
          },
          "colorscale": {
           "diverging": [
            [
             0,
             "#8e0152"
            ],
            [
             0.1,
             "#c51b7d"
            ],
            [
             0.2,
             "#de77ae"
            ],
            [
             0.3,
             "#f1b6da"
            ],
            [
             0.4,
             "#fde0ef"
            ],
            [
             0.5,
             "#f7f7f7"
            ],
            [
             0.6,
             "#e6f5d0"
            ],
            [
             0.7,
             "#b8e186"
            ],
            [
             0.8,
             "#7fbc41"
            ],
            [
             0.9,
             "#4d9221"
            ],
            [
             1,
             "#276419"
            ]
           ],
           "sequential": [
            [
             0,
             "#0d0887"
            ],
            [
             0.1111111111111111,
             "#46039f"
            ],
            [
             0.2222222222222222,
             "#7201a8"
            ],
            [
             0.3333333333333333,
             "#9c179e"
            ],
            [
             0.4444444444444444,
             "#bd3786"
            ],
            [
             0.5555555555555556,
             "#d8576b"
            ],
            [
             0.6666666666666666,
             "#ed7953"
            ],
            [
             0.7777777777777778,
             "#fb9f3a"
            ],
            [
             0.8888888888888888,
             "#fdca26"
            ],
            [
             1,
             "#f0f921"
            ]
           ],
           "sequentialminus": [
            [
             0,
             "#0d0887"
            ],
            [
             0.1111111111111111,
             "#46039f"
            ],
            [
             0.2222222222222222,
             "#7201a8"
            ],
            [
             0.3333333333333333,
             "#9c179e"
            ],
            [
             0.4444444444444444,
             "#bd3786"
            ],
            [
             0.5555555555555556,
             "#d8576b"
            ],
            [
             0.6666666666666666,
             "#ed7953"
            ],
            [
             0.7777777777777778,
             "#fb9f3a"
            ],
            [
             0.8888888888888888,
             "#fdca26"
            ],
            [
             1,
             "#f0f921"
            ]
           ]
          },
          "colorway": [
           "#636efa",
           "#EF553B",
           "#00cc96",
           "#ab63fa",
           "#FFA15A",
           "#19d3f3",
           "#FF6692",
           "#B6E880",
           "#FF97FF",
           "#FECB52"
          ],
          "font": {
           "color": "#2a3f5f"
          },
          "geo": {
           "bgcolor": "white",
           "lakecolor": "white",
           "landcolor": "#E5ECF6",
           "showlakes": true,
           "showland": true,
           "subunitcolor": "white"
          },
          "hoverlabel": {
           "align": "left"
          },
          "hovermode": "closest",
          "mapbox": {
           "style": "light"
          },
          "paper_bgcolor": "white",
          "plot_bgcolor": "#E5ECF6",
          "polar": {
           "angularaxis": {
            "gridcolor": "white",
            "linecolor": "white",
            "ticks": ""
           },
           "bgcolor": "#E5ECF6",
           "radialaxis": {
            "gridcolor": "white",
            "linecolor": "white",
            "ticks": ""
           }
          },
          "scene": {
           "xaxis": {
            "backgroundcolor": "#E5ECF6",
            "gridcolor": "white",
            "gridwidth": 2,
            "linecolor": "white",
            "showbackground": true,
            "ticks": "",
            "zerolinecolor": "white"
           },
           "yaxis": {
            "backgroundcolor": "#E5ECF6",
            "gridcolor": "white",
            "gridwidth": 2,
            "linecolor": "white",
            "showbackground": true,
            "ticks": "",
            "zerolinecolor": "white"
           },
           "zaxis": {
            "backgroundcolor": "#E5ECF6",
            "gridcolor": "white",
            "gridwidth": 2,
            "linecolor": "white",
            "showbackground": true,
            "ticks": "",
            "zerolinecolor": "white"
           }
          },
          "shapedefaults": {
           "line": {
            "color": "#2a3f5f"
           }
          },
          "ternary": {
           "aaxis": {
            "gridcolor": "white",
            "linecolor": "white",
            "ticks": ""
           },
           "baxis": {
            "gridcolor": "white",
            "linecolor": "white",
            "ticks": ""
           },
           "bgcolor": "#E5ECF6",
           "caxis": {
            "gridcolor": "white",
            "linecolor": "white",
            "ticks": ""
           }
          },
          "title": {
           "x": 0.05
          },
          "xaxis": {
           "automargin": true,
           "gridcolor": "white",
           "linecolor": "white",
           "ticks": "",
           "title": {
            "standoff": 15
           },
           "zerolinecolor": "white",
           "zerolinewidth": 2
          },
          "yaxis": {
           "automargin": true,
           "gridcolor": "white",
           "linecolor": "white",
           "ticks": "",
           "title": {
            "standoff": 15
           },
           "zerolinecolor": "white",
           "zerolinewidth": 2
          }
         }
        },
        "title": {
         "text": "Parameter Trend Plots"
        },
        "xaxis": {
         "anchor": "y",
         "domain": [
          0,
          0.45
         ]
        },
        "xaxis2": {
         "anchor": "y2",
         "domain": [
          0.55,
          1
         ]
        },
        "xaxis3": {
         "anchor": "y3",
         "domain": [
          0,
          0.45
         ]
        },
        "xaxis4": {
         "anchor": "y4",
         "domain": [
          0.55,
          1
         ]
        },
        "yaxis": {
         "anchor": "x",
         "domain": [
          0.625,
          1
         ]
        },
        "yaxis2": {
         "anchor": "x2",
         "domain": [
          0.625,
          1
         ]
        },
        "yaxis3": {
         "anchor": "x3",
         "domain": [
          0,
          0.375
         ]
        },
        "yaxis4": {
         "anchor": "x4",
         "domain": [
          0,
          0.375
         ]
        }
       }
      }
     },
     "metadata": {},
     "output_type": "display_data"
    }
   ],
   "source": [
    "rky.icrfs.TrendPlot()"
   ]
  },
  {
   "cell_type": "code",
   "execution_count": 15,
   "metadata": {},
   "outputs": [
    {
     "data": {
      "application/vnd.plotly.v1+json": {
       "config": {
        "plotlyServerURL": "https://plot.ly"
       },
       "data": [
        {
         "customdata": [
          [
           2001,
           1,
           2001,
           1,
           -0.274
          ],
          [
           2002,
           1,
           2002,
           1,
           -0.156
          ],
          [
           2003,
           1,
           2003,
           1,
           -0.399
          ],
          [
           2004,
           1,
           2004,
           1,
           -0.444
          ],
          [
           2005,
           1,
           2005,
           1,
           -0.136
          ],
          [
           2006,
           1,
           2006,
           1,
           -0.135
          ],
          [
           2007,
           1,
           2007,
           1,
           -0.088
          ],
          [
           2008,
           1,
           2008,
           1,
           -0.275
          ],
          [
           2009,
           1,
           2009,
           1,
           -0.174
          ],
          [
           2010,
           1,
           2010,
           1,
           -0.24
          ],
          [
           2001,
           2,
           2002,
           1,
           0.406
          ],
          [
           2002,
           2,
           2003,
           1,
           0.617
          ],
          [
           2003,
           2,
           2004,
           1,
           0.542
          ],
          [
           2004,
           2,
           2005,
           1,
           0.63
          ],
          [
           2005,
           2,
           2006,
           1,
           0.678
          ],
          [
           2006,
           2,
           2007,
           1,
           0.694
          ],
          [
           2007,
           2,
           2008,
           1,
           0.561
          ],
          [
           2008,
           2,
           2009,
           1,
           0.85
          ],
          [
           2009,
           2,
           2010,
           1,
           0.724
          ],
          [
           2001,
           3,
           2003,
           1,
           0.457
          ],
          [
           2002,
           3,
           2004,
           1,
           0.836
          ],
          [
           2003,
           3,
           2005,
           1,
           0.894
          ],
          [
           2004,
           3,
           2006,
           1,
           0.722
          ],
          [
           2005,
           3,
           2007,
           1,
           0.784
          ],
          [
           2006,
           3,
           2008,
           1,
           0.62
          ],
          [
           2007,
           3,
           2009,
           1,
           0.963
          ],
          [
           2008,
           3,
           2010,
           1,
           1.026
          ],
          [
           2001,
           4,
           2004,
           1,
           0.414
          ],
          [
           2002,
           4,
           2005,
           1,
           0.926
          ],
          [
           2003,
           4,
           2006,
           1,
           0.724
          ],
          [
           2004,
           4,
           2007,
           1,
           0.566
          ],
          [
           2005,
           4,
           2008,
           1,
           0.448
          ],
          [
           2006,
           4,
           2009,
           1,
           0.761
          ],
          [
           2007,
           4,
           2010,
           1,
           0.877
          ],
          [
           2001,
           5,
           2005,
           1,
           -0.03
          ],
          [
           2002,
           5,
           2006,
           1,
           0.222
          ],
          [
           2003,
           5,
           2007,
           1,
           0.035
          ],
          [
           2004,
           5,
           2008,
           1,
           -0.303
          ],
          [
           2005,
           5,
           2009,
           1,
           0.056
          ],
          [
           2006,
           5,
           2010,
           1,
           0.141
          ],
          [
           2001,
           6,
           2006,
           1,
           -0.607
          ],
          [
           2002,
           6,
           2007,
           1,
           -0.34
          ],
          [
           2003,
           6,
           2008,
           1,
           -0.708
          ],
          [
           2004,
           6,
           2009,
           1,
           -0.569
          ],
          [
           2005,
           6,
           2010,
           1,
           -0.437
          ],
          [
           2001,
           7,
           2007,
           1,
           -0.952
          ],
          [
           2002,
           7,
           2008,
           1,
           -0.866
          ],
          [
           2003,
           7,
           2009,
           1,
           -0.757
          ],
          [
           2004,
           7,
           2010,
           1,
           -0.845
          ],
          [
           2001,
           8,
           2008,
           1,
           -1.491
          ],
          [
           2002,
           8,
           2009,
           1,
           -0.928
          ],
          [
           2003,
           8,
           2010,
           1,
           -1.045
          ],
          [
           2001,
           9,
           2009,
           1,
           -1.372
          ],
          [
           2002,
           9,
           2010,
           1,
           -1.036
          ],
          [
           2001,
           10,
           2010,
           1,
           -1.789
          ]
         ],
         "hovertemplate": "Fitted=%{x}<br>Actual=%{y}<br>Accident Period=%{customdata[0]}<br>Development Period=%{customdata[1]}<br>Calendar Period=%{customdata[2]}<br>Hetero Adjustment=%{customdata[3]}<br>yhat=%{customdata[4]}<br>color=%{marker.color}<extra></extra>",
         "legendgroup": "",
         "marker": {
          "color": [
           2001,
           2002,
           2003,
           2004,
           2005,
           2006,
           2007,
           2008,
           2009,
           2010,
           2001,
           2002,
           2003,
           2004,
           2005,
           2006,
           2007,
           2008,
           2009,
           2001,
           2002,
           2003,
           2004,
           2005,
           2006,
           2007,
           2008,
           2001,
           2002,
           2003,
           2004,
           2005,
           2006,
           2007,
           2001,
           2002,
           2003,
           2004,
           2005,
           2006,
           2001,
           2002,
           2003,
           2004,
           2005,
           2001,
           2002,
           2003,
           2004,
           2001,
           2002,
           2003,
           2001,
           2002,
           2001
          ],
          "coloraxis": "coloraxis",
          "line": {
           "color": "black",
           "width": 1
          },
          "opacity": 0.6,
          "size": 9,
          "symbol": "circle"
         },
         "mode": "markers",
         "name": "",
         "orientation": "v",
         "showlegend": false,
         "type": "scatter",
         "x": [
          -0.274,
          -0.156,
          -0.399,
          -0.444,
          -0.136,
          -0.135,
          -0.088,
          -0.275,
          -0.174,
          -0.24,
          0.406,
          0.617,
          0.542,
          0.63,
          0.678,
          0.694,
          0.561,
          0.85,
          0.724,
          0.457,
          0.836,
          0.894,
          0.722,
          0.784,
          0.62,
          0.963,
          1.026,
          0.414,
          0.926,
          0.724,
          0.566,
          0.448,
          0.761,
          0.877,
          -0.03,
          0.222,
          0.035,
          -0.303,
          0.056,
          0.141,
          -0.607,
          -0.34,
          -0.708,
          -0.569,
          -0.437,
          -0.952,
          -0.866,
          -0.757,
          -0.845,
          -1.491,
          -0.928,
          -1.045,
          -1.372,
          -1.036,
          -1.789
         ],
         "xaxis": "x",
         "y": [
          -0.569,
          -0.594,
          -0.886,
          -0.784,
          -0.244,
          -0.415,
          -0.252,
          -0.562,
          -0.491,
          -0.629,
          0.59,
          0.805,
          0.996,
          1.149,
          0.436,
          0.894,
          0.742,
          1.084,
          0.972,
          0.243,
          0.889,
          0.876,
          0.608,
          0.981,
          0.741,
          1.18,
          1.551,
          -0.113,
          1.249,
          1.018,
          1.671,
          0.595,
          0.663,
          1.086,
          0.02,
          -0.235,
          0.557,
          -0.983,
          -0.046,
          0.464,
          0.15,
          -0.734,
          -1.922,
          -0.594,
          -0.153,
          -1.928,
          0.022,
          -0.073,
          -1.406,
          -1.996,
          -1.019,
          -0.94,
          -1.259,
          -0.308,
          -3.094
         ],
         "yaxis": "y"
        }
       ],
       "layout": {
        "coloraxis": {
         "colorbar": {
          "title": {
           "text": "color"
          }
         },
         "colorscale": [
          [
           0,
           "#0d0887"
          ],
          [
           0.1111111111111111,
           "#46039f"
          ],
          [
           0.2222222222222222,
           "#7201a8"
          ],
          [
           0.3333333333333333,
           "#9c179e"
          ],
          [
           0.4444444444444444,
           "#bd3786"
          ],
          [
           0.5555555555555556,
           "#d8576b"
          ],
          [
           0.6666666666666666,
           "#ed7953"
          ],
          [
           0.7777777777777778,
           "#fb9f3a"
          ],
          [
           0.8888888888888888,
           "#fdca26"
          ],
          [
           1,
           "#f0f921"
          ]
         ]
        },
        "height": 800,
        "legend": {
         "tracegroupgap": 0
        },
        "shapes": [
         {
          "line": {
           "color": "black",
           "dash": "dash",
           "width": 1
          },
          "type": "line",
          "x0": -1.7892969275193857,
          "x1": 1.0255693551382246,
          "y0": -1.7892969275193857,
          "y1": 1.0255693551382246
         }
        ],
        "template": {
         "data": {
          "bar": [
           {
            "error_x": {
             "color": "#2a3f5f"
            },
            "error_y": {
             "color": "#2a3f5f"
            },
            "marker": {
             "line": {
              "color": "#E5ECF6",
              "width": 0.5
             },
             "pattern": {
              "fillmode": "overlay",
              "size": 10,
              "solidity": 0.2
             }
            },
            "type": "bar"
           }
          ],
          "barpolar": [
           {
            "marker": {
             "line": {
              "color": "#E5ECF6",
              "width": 0.5
             },
             "pattern": {
              "fillmode": "overlay",
              "size": 10,
              "solidity": 0.2
             }
            },
            "type": "barpolar"
           }
          ],
          "carpet": [
           {
            "aaxis": {
             "endlinecolor": "#2a3f5f",
             "gridcolor": "white",
             "linecolor": "white",
             "minorgridcolor": "white",
             "startlinecolor": "#2a3f5f"
            },
            "baxis": {
             "endlinecolor": "#2a3f5f",
             "gridcolor": "white",
             "linecolor": "white",
             "minorgridcolor": "white",
             "startlinecolor": "#2a3f5f"
            },
            "type": "carpet"
           }
          ],
          "choropleth": [
           {
            "colorbar": {
             "outlinewidth": 0,
             "ticks": ""
            },
            "type": "choropleth"
           }
          ],
          "contour": [
           {
            "colorbar": {
             "outlinewidth": 0,
             "ticks": ""
            },
            "colorscale": [
             [
              0,
              "#0d0887"
             ],
             [
              0.1111111111111111,
              "#46039f"
             ],
             [
              0.2222222222222222,
              "#7201a8"
             ],
             [
              0.3333333333333333,
              "#9c179e"
             ],
             [
              0.4444444444444444,
              "#bd3786"
             ],
             [
              0.5555555555555556,
              "#d8576b"
             ],
             [
              0.6666666666666666,
              "#ed7953"
             ],
             [
              0.7777777777777778,
              "#fb9f3a"
             ],
             [
              0.8888888888888888,
              "#fdca26"
             ],
             [
              1,
              "#f0f921"
             ]
            ],
            "type": "contour"
           }
          ],
          "contourcarpet": [
           {
            "colorbar": {
             "outlinewidth": 0,
             "ticks": ""
            },
            "type": "contourcarpet"
           }
          ],
          "heatmap": [
           {
            "colorbar": {
             "outlinewidth": 0,
             "ticks": ""
            },
            "colorscale": [
             [
              0,
              "#0d0887"
             ],
             [
              0.1111111111111111,
              "#46039f"
             ],
             [
              0.2222222222222222,
              "#7201a8"
             ],
             [
              0.3333333333333333,
              "#9c179e"
             ],
             [
              0.4444444444444444,
              "#bd3786"
             ],
             [
              0.5555555555555556,
              "#d8576b"
             ],
             [
              0.6666666666666666,
              "#ed7953"
             ],
             [
              0.7777777777777778,
              "#fb9f3a"
             ],
             [
              0.8888888888888888,
              "#fdca26"
             ],
             [
              1,
              "#f0f921"
             ]
            ],
            "type": "heatmap"
           }
          ],
          "heatmapgl": [
           {
            "colorbar": {
             "outlinewidth": 0,
             "ticks": ""
            },
            "colorscale": [
             [
              0,
              "#0d0887"
             ],
             [
              0.1111111111111111,
              "#46039f"
             ],
             [
              0.2222222222222222,
              "#7201a8"
             ],
             [
              0.3333333333333333,
              "#9c179e"
             ],
             [
              0.4444444444444444,
              "#bd3786"
             ],
             [
              0.5555555555555556,
              "#d8576b"
             ],
             [
              0.6666666666666666,
              "#ed7953"
             ],
             [
              0.7777777777777778,
              "#fb9f3a"
             ],
             [
              0.8888888888888888,
              "#fdca26"
             ],
             [
              1,
              "#f0f921"
             ]
            ],
            "type": "heatmapgl"
           }
          ],
          "histogram": [
           {
            "marker": {
             "pattern": {
              "fillmode": "overlay",
              "size": 10,
              "solidity": 0.2
             }
            },
            "type": "histogram"
           }
          ],
          "histogram2d": [
           {
            "colorbar": {
             "outlinewidth": 0,
             "ticks": ""
            },
            "colorscale": [
             [
              0,
              "#0d0887"
             ],
             [
              0.1111111111111111,
              "#46039f"
             ],
             [
              0.2222222222222222,
              "#7201a8"
             ],
             [
              0.3333333333333333,
              "#9c179e"
             ],
             [
              0.4444444444444444,
              "#bd3786"
             ],
             [
              0.5555555555555556,
              "#d8576b"
             ],
             [
              0.6666666666666666,
              "#ed7953"
             ],
             [
              0.7777777777777778,
              "#fb9f3a"
             ],
             [
              0.8888888888888888,
              "#fdca26"
             ],
             [
              1,
              "#f0f921"
             ]
            ],
            "type": "histogram2d"
           }
          ],
          "histogram2dcontour": [
           {
            "colorbar": {
             "outlinewidth": 0,
             "ticks": ""
            },
            "colorscale": [
             [
              0,
              "#0d0887"
             ],
             [
              0.1111111111111111,
              "#46039f"
             ],
             [
              0.2222222222222222,
              "#7201a8"
             ],
             [
              0.3333333333333333,
              "#9c179e"
             ],
             [
              0.4444444444444444,
              "#bd3786"
             ],
             [
              0.5555555555555556,
              "#d8576b"
             ],
             [
              0.6666666666666666,
              "#ed7953"
             ],
             [
              0.7777777777777778,
              "#fb9f3a"
             ],
             [
              0.8888888888888888,
              "#fdca26"
             ],
             [
              1,
              "#f0f921"
             ]
            ],
            "type": "histogram2dcontour"
           }
          ],
          "mesh3d": [
           {
            "colorbar": {
             "outlinewidth": 0,
             "ticks": ""
            },
            "type": "mesh3d"
           }
          ],
          "parcoords": [
           {
            "line": {
             "colorbar": {
              "outlinewidth": 0,
              "ticks": ""
             }
            },
            "type": "parcoords"
           }
          ],
          "pie": [
           {
            "automargin": true,
            "type": "pie"
           }
          ],
          "scatter": [
           {
            "fillpattern": {
             "fillmode": "overlay",
             "size": 10,
             "solidity": 0.2
            },
            "type": "scatter"
           }
          ],
          "scatter3d": [
           {
            "line": {
             "colorbar": {
              "outlinewidth": 0,
              "ticks": ""
             }
            },
            "marker": {
             "colorbar": {
              "outlinewidth": 0,
              "ticks": ""
             }
            },
            "type": "scatter3d"
           }
          ],
          "scattercarpet": [
           {
            "marker": {
             "colorbar": {
              "outlinewidth": 0,
              "ticks": ""
             }
            },
            "type": "scattercarpet"
           }
          ],
          "scattergeo": [
           {
            "marker": {
             "colorbar": {
              "outlinewidth": 0,
              "ticks": ""
             }
            },
            "type": "scattergeo"
           }
          ],
          "scattergl": [
           {
            "marker": {
             "colorbar": {
              "outlinewidth": 0,
              "ticks": ""
             }
            },
            "type": "scattergl"
           }
          ],
          "scattermapbox": [
           {
            "marker": {
             "colorbar": {
              "outlinewidth": 0,
              "ticks": ""
             }
            },
            "type": "scattermapbox"
           }
          ],
          "scatterpolar": [
           {
            "marker": {
             "colorbar": {
              "outlinewidth": 0,
              "ticks": ""
             }
            },
            "type": "scatterpolar"
           }
          ],
          "scatterpolargl": [
           {
            "marker": {
             "colorbar": {
              "outlinewidth": 0,
              "ticks": ""
             }
            },
            "type": "scatterpolargl"
           }
          ],
          "scatterternary": [
           {
            "marker": {
             "colorbar": {
              "outlinewidth": 0,
              "ticks": ""
             }
            },
            "type": "scatterternary"
           }
          ],
          "surface": [
           {
            "colorbar": {
             "outlinewidth": 0,
             "ticks": ""
            },
            "colorscale": [
             [
              0,
              "#0d0887"
             ],
             [
              0.1111111111111111,
              "#46039f"
             ],
             [
              0.2222222222222222,
              "#7201a8"
             ],
             [
              0.3333333333333333,
              "#9c179e"
             ],
             [
              0.4444444444444444,
              "#bd3786"
             ],
             [
              0.5555555555555556,
              "#d8576b"
             ],
             [
              0.6666666666666666,
              "#ed7953"
             ],
             [
              0.7777777777777778,
              "#fb9f3a"
             ],
             [
              0.8888888888888888,
              "#fdca26"
             ],
             [
              1,
              "#f0f921"
             ]
            ],
            "type": "surface"
           }
          ],
          "table": [
           {
            "cells": {
             "fill": {
              "color": "#EBF0F8"
             },
             "line": {
              "color": "white"
             }
            },
            "header": {
             "fill": {
              "color": "#C8D4E3"
             },
             "line": {
              "color": "white"
             }
            },
            "type": "table"
           }
          ]
         },
         "layout": {
          "annotationdefaults": {
           "arrowcolor": "#2a3f5f",
           "arrowhead": 0,
           "arrowwidth": 1
          },
          "autotypenumbers": "strict",
          "coloraxis": {
           "colorbar": {
            "outlinewidth": 0,
            "ticks": ""
           }
          },
          "colorscale": {
           "diverging": [
            [
             0,
             "#8e0152"
            ],
            [
             0.1,
             "#c51b7d"
            ],
            [
             0.2,
             "#de77ae"
            ],
            [
             0.3,
             "#f1b6da"
            ],
            [
             0.4,
             "#fde0ef"
            ],
            [
             0.5,
             "#f7f7f7"
            ],
            [
             0.6,
             "#e6f5d0"
            ],
            [
             0.7,
             "#b8e186"
            ],
            [
             0.8,
             "#7fbc41"
            ],
            [
             0.9,
             "#4d9221"
            ],
            [
             1,
             "#276419"
            ]
           ],
           "sequential": [
            [
             0,
             "#0d0887"
            ],
            [
             0.1111111111111111,
             "#46039f"
            ],
            [
             0.2222222222222222,
             "#7201a8"
            ],
            [
             0.3333333333333333,
             "#9c179e"
            ],
            [
             0.4444444444444444,
             "#bd3786"
            ],
            [
             0.5555555555555556,
             "#d8576b"
            ],
            [
             0.6666666666666666,
             "#ed7953"
            ],
            [
             0.7777777777777778,
             "#fb9f3a"
            ],
            [
             0.8888888888888888,
             "#fdca26"
            ],
            [
             1,
             "#f0f921"
            ]
           ],
           "sequentialminus": [
            [
             0,
             "#0d0887"
            ],
            [
             0.1111111111111111,
             "#46039f"
            ],
            [
             0.2222222222222222,
             "#7201a8"
            ],
            [
             0.3333333333333333,
             "#9c179e"
            ],
            [
             0.4444444444444444,
             "#bd3786"
            ],
            [
             0.5555555555555556,
             "#d8576b"
            ],
            [
             0.6666666666666666,
             "#ed7953"
            ],
            [
             0.7777777777777778,
             "#fb9f3a"
            ],
            [
             0.8888888888888888,
             "#fdca26"
            ],
            [
             1,
             "#f0f921"
            ]
           ]
          },
          "colorway": [
           "#636efa",
           "#EF553B",
           "#00cc96",
           "#ab63fa",
           "#FFA15A",
           "#19d3f3",
           "#FF6692",
           "#B6E880",
           "#FF97FF",
           "#FECB52"
          ],
          "font": {
           "color": "#2a3f5f"
          },
          "geo": {
           "bgcolor": "white",
           "lakecolor": "white",
           "landcolor": "#E5ECF6",
           "showlakes": true,
           "showland": true,
           "subunitcolor": "white"
          },
          "hoverlabel": {
           "align": "left"
          },
          "hovermode": "closest",
          "mapbox": {
           "style": "light"
          },
          "paper_bgcolor": "white",
          "plot_bgcolor": "#E5ECF6",
          "polar": {
           "angularaxis": {
            "gridcolor": "white",
            "linecolor": "white",
            "ticks": ""
           },
           "bgcolor": "#E5ECF6",
           "radialaxis": {
            "gridcolor": "white",
            "linecolor": "white",
            "ticks": ""
           }
          },
          "scene": {
           "xaxis": {
            "backgroundcolor": "#E5ECF6",
            "gridcolor": "white",
            "gridwidth": 2,
            "linecolor": "white",
            "showbackground": true,
            "ticks": "",
            "zerolinecolor": "white"
           },
           "yaxis": {
            "backgroundcolor": "#E5ECF6",
            "gridcolor": "white",
            "gridwidth": 2,
            "linecolor": "white",
            "showbackground": true,
            "ticks": "",
            "zerolinecolor": "white"
           },
           "zaxis": {
            "backgroundcolor": "#E5ECF6",
            "gridcolor": "white",
            "gridwidth": 2,
            "linecolor": "white",
            "showbackground": true,
            "ticks": "",
            "zerolinecolor": "white"
           }
          },
          "shapedefaults": {
           "line": {
            "color": "#2a3f5f"
           }
          },
          "ternary": {
           "aaxis": {
            "gridcolor": "white",
            "linecolor": "white",
            "ticks": ""
           },
           "baxis": {
            "gridcolor": "white",
            "linecolor": "white",
            "ticks": ""
           },
           "bgcolor": "#E5ECF6",
           "caxis": {
            "gridcolor": "white",
            "linecolor": "white",
            "ticks": ""
           }
          },
          "title": {
           "x": 0.05
          },
          "xaxis": {
           "automargin": true,
           "gridcolor": "white",
           "linecolor": "white",
           "ticks": "",
           "title": {
            "standoff": 15
           },
           "zerolinecolor": "white",
           "zerolinewidth": 2
          },
          "yaxis": {
           "automargin": true,
           "gridcolor": "white",
           "linecolor": "white",
           "ticks": "",
           "title": {
            "standoff": 15
           },
           "zerolinecolor": "white",
           "zerolinewidth": 2
          }
         }
        },
        "title": {
         "text": "Fitted vs. Actual (log scale), with color varying with 'Accident Period'"
        },
        "xaxis": {
         "anchor": "y",
         "domain": [
          0,
          1
         ],
         "title": {
          "text": "Fitted"
         }
        },
        "yaxis": {
         "anchor": "x",
         "domain": [
          0,
          1
         ],
         "title": {
          "text": "Actual"
         }
        }
       }
      }
     },
     "metadata": {},
     "output_type": "display_data"
    }
   ],
   "source": [
    "#test \n",
    "rky.icrfs.FitPlot('acc')"
   ]
  },
  {
   "cell_type": "code",
   "execution_count": 12,
   "metadata": {},
   "outputs": [
    {
     "data": {
      "application/vnd.plotly.v1+json": {
       "config": {
        "plotlyServerURL": "https://plot.ly"
       },
       "data": [
        {
         "hovertemplate": "Development Period=%{x}<br>resid_std=%{y}<br>Accident Period=%{marker.color}<extra></extra>",
         "legendgroup": "",
         "marker": {
          "color": [
           2001,
           2002,
           2003,
           2004,
           2005,
           2006,
           2007,
           2008,
           2009,
           2010,
           2001,
           2002,
           2003,
           2004,
           2005,
           2006,
           2007,
           2008,
           2009,
           2001,
           2002,
           2003,
           2004,
           2005,
           2006,
           2007,
           2008,
           2001,
           2002,
           2003,
           2004,
           2005,
           2006,
           2007,
           2001,
           2002,
           2003,
           2004,
           2005,
           2006,
           2001,
           2002,
           2003,
           2004,
           2005,
           2001,
           2002,
           2003,
           2004,
           2001,
           2002,
           2003,
           2001,
           2002,
           2001
          ],
          "coloraxis": "coloraxis",
          "line": {
           "color": "black",
           "width": 1
          },
          "opacity": 0.5,
          "size": 9,
          "symbol": "circle"
         },
         "mode": "markers",
         "name": "",
         "orientation": "v",
         "showlegend": false,
         "type": "scatter",
         "x": [
          1,
          1,
          1,
          1,
          1,
          1,
          1,
          1,
          1,
          1,
          2,
          2,
          2,
          2,
          2,
          2,
          2,
          2,
          2,
          3,
          3,
          3,
          3,
          3,
          3,
          3,
          3,
          4,
          4,
          4,
          4,
          4,
          4,
          4,
          5,
          5,
          5,
          5,
          5,
          5,
          6,
          6,
          6,
          6,
          6,
          7,
          7,
          7,
          7,
          8,
          8,
          8,
          9,
          9,
          10
         ],
         "xaxis": "x",
         "y": [
          -0.6137446888533942,
          -0.9105916502490196,
          -1.0145418787719085,
          -0.7091026967764762,
          -0.22564283810809088,
          -0.5825960616637781,
          -0.3422215644424154,
          -0.5982464845900273,
          -0.6595451187402309,
          -0.8096298171227754,
          0.3828565941708345,
          0.39268244665135693,
          0.9433530791963292,
          1.0799637136203244,
          -0.5035009547226904,
          0.41712535261092915,
          0.3767067458283353,
          0.487194601274272,
          0.5177196230287492,
          -0.4449857078586575,
          0.11038408245565619,
          -0.0375576194123609,
          -0.23700050090187832,
          0.40933652435283124,
          0.2528007670877646,
          0.45266141869651444,
          1.0931319127667558,
          -1.097822038037791,
          0.6718892742723527,
          0.6125020761048964,
          2.300687702826558,
          0.304370156306427,
          -0.2026351421132912,
          0.4351158256547796,
          0.10361821774512148,
          -0.9518537716805887,
          1.087705161235248,
          -1.4166093924869811,
          -0.21146958546664138,
          0.6714730930353371,
          1.5767046244592526,
          -0.8198863600472182,
          -2.5286301238898004,
          -0.05129701006353092,
          0.5927195575098114,
          -2.0315978011199873,
          1.847984634422441,
          1.424199751763831,
          -1.168596354986804,
          -1.0524460471285415,
          -0.18958523175094935,
          0.21998921810391972,
          0.23487495321757654,
          1.5169140913327073,
          -2.716899603775809
         ],
         "yaxis": "y"
        },
        {
         "hovertemplate": "Accident Period=%{marker.color}<br>resid_std=%{y}<extra></extra>",
         "legendgroup": "",
         "marker": {
          "color": [
           2001,
           2002,
           2003,
           2004,
           2005,
           2006,
           2007,
           2008,
           2009,
           2010,
           2001,
           2002,
           2003,
           2004,
           2005,
           2006,
           2007,
           2008,
           2009,
           2001,
           2002,
           2003,
           2004,
           2005,
           2006,
           2007,
           2008,
           2001,
           2002,
           2003,
           2004,
           2005,
           2006,
           2007,
           2001,
           2002,
           2003,
           2004,
           2005,
           2006,
           2001,
           2002,
           2003,
           2004,
           2005,
           2001,
           2002,
           2003,
           2004,
           2001,
           2002,
           2003,
           2001,
           2002,
           2001
          ],
          "coloraxis": "coloraxis",
          "line": {
           "color": "black",
           "width": 1
          },
          "opacity": 0.5,
          "size": 9,
          "symbol": "circle"
         },
         "mode": "markers",
         "name": "",
         "orientation": "v",
         "showlegend": false,
         "type": "scatter",
         "x": [
          2001,
          2002,
          2003,
          2004,
          2005,
          2006,
          2007,
          2008,
          2009,
          2010,
          2001,
          2002,
          2003,
          2004,
          2005,
          2006,
          2007,
          2008,
          2009,
          2001,
          2002,
          2003,
          2004,
          2005,
          2006,
          2007,
          2008,
          2001,
          2002,
          2003,
          2004,
          2005,
          2006,
          2007,
          2001,
          2002,
          2003,
          2004,
          2005,
          2006,
          2001,
          2002,
          2003,
          2004,
          2005,
          2001,
          2002,
          2003,
          2004,
          2001,
          2002,
          2003,
          2001,
          2002,
          2001
         ],
         "xaxis": "x2",
         "y": [
          -0.6137446888533942,
          -0.9105916502490196,
          -1.0145418787719085,
          -0.7091026967764762,
          -0.22564283810809088,
          -0.5825960616637781,
          -0.3422215644424154,
          -0.5982464845900273,
          -0.6595451187402309,
          -0.8096298171227754,
          0.3828565941708345,
          0.39268244665135693,
          0.9433530791963292,
          1.0799637136203244,
          -0.5035009547226904,
          0.41712535261092915,
          0.3767067458283353,
          0.487194601274272,
          0.5177196230287492,
          -0.4449857078586575,
          0.11038408245565619,
          -0.0375576194123609,
          -0.23700050090187832,
          0.40933652435283124,
          0.2528007670877646,
          0.45266141869651444,
          1.0931319127667558,
          -1.097822038037791,
          0.6718892742723527,
          0.6125020761048964,
          2.300687702826558,
          0.304370156306427,
          -0.2026351421132912,
          0.4351158256547796,
          0.10361821774512148,
          -0.9518537716805887,
          1.087705161235248,
          -1.4166093924869811,
          -0.21146958546664138,
          0.6714730930353371,
          1.5767046244592526,
          -0.8198863600472182,
          -2.5286301238898004,
          -0.05129701006353092,
          0.5927195575098114,
          -2.0315978011199873,
          1.847984634422441,
          1.424199751763831,
          -1.168596354986804,
          -1.0524460471285415,
          -0.18958523175094935,
          0.21998921810391972,
          0.23487495321757654,
          1.5169140913327073,
          -2.716899603775809
         ],
         "yaxis": "y2"
        },
        {
         "hovertemplate": "Calendar Period=%{x}<br>resid_std=%{y}<br>Accident Period=%{marker.color}<extra></extra>",
         "legendgroup": "",
         "marker": {
          "color": [
           2001,
           2002,
           2003,
           2004,
           2005,
           2006,
           2007,
           2008,
           2009,
           2010,
           2001,
           2002,
           2003,
           2004,
           2005,
           2006,
           2007,
           2008,
           2009,
           2001,
           2002,
           2003,
           2004,
           2005,
           2006,
           2007,
           2008,
           2001,
           2002,
           2003,
           2004,
           2005,
           2006,
           2007,
           2001,
           2002,
           2003,
           2004,
           2005,
           2006,
           2001,
           2002,
           2003,
           2004,
           2005,
           2001,
           2002,
           2003,
           2004,
           2001,
           2002,
           2003,
           2001,
           2002,
           2001
          ],
          "coloraxis": "coloraxis",
          "line": {
           "color": "black",
           "width": 1
          },
          "opacity": 0.5,
          "size": 9,
          "symbol": "circle"
         },
         "mode": "markers",
         "name": "",
         "orientation": "v",
         "showlegend": false,
         "type": "scatter",
         "x": [
          2001,
          2002,
          2003,
          2004,
          2005,
          2006,
          2007,
          2008,
          2009,
          2010,
          2002,
          2003,
          2004,
          2005,
          2006,
          2007,
          2008,
          2009,
          2010,
          2003,
          2004,
          2005,
          2006,
          2007,
          2008,
          2009,
          2010,
          2004,
          2005,
          2006,
          2007,
          2008,
          2009,
          2010,
          2005,
          2006,
          2007,
          2008,
          2009,
          2010,
          2006,
          2007,
          2008,
          2009,
          2010,
          2007,
          2008,
          2009,
          2010,
          2008,
          2009,
          2010,
          2009,
          2010,
          2010
         ],
         "xaxis": "x3",
         "y": [
          -0.6137446888533942,
          -0.9105916502490196,
          -1.0145418787719085,
          -0.7091026967764762,
          -0.22564283810809088,
          -0.5825960616637781,
          -0.3422215644424154,
          -0.5982464845900273,
          -0.6595451187402309,
          -0.8096298171227754,
          0.3828565941708345,
          0.39268244665135693,
          0.9433530791963292,
          1.0799637136203244,
          -0.5035009547226904,
          0.41712535261092915,
          0.3767067458283353,
          0.487194601274272,
          0.5177196230287492,
          -0.4449857078586575,
          0.11038408245565619,
          -0.0375576194123609,
          -0.23700050090187832,
          0.40933652435283124,
          0.2528007670877646,
          0.45266141869651444,
          1.0931319127667558,
          -1.097822038037791,
          0.6718892742723527,
          0.6125020761048964,
          2.300687702826558,
          0.304370156306427,
          -0.2026351421132912,
          0.4351158256547796,
          0.10361821774512148,
          -0.9518537716805887,
          1.087705161235248,
          -1.4166093924869811,
          -0.21146958546664138,
          0.6714730930353371,
          1.5767046244592526,
          -0.8198863600472182,
          -2.5286301238898004,
          -0.05129701006353092,
          0.5927195575098114,
          -2.0315978011199873,
          1.847984634422441,
          1.424199751763831,
          -1.168596354986804,
          -1.0524460471285415,
          -0.18958523175094935,
          0.21998921810391972,
          0.23487495321757654,
          1.5169140913327073,
          -2.716899603775809
         ],
         "yaxis": "y3"
        },
        {
         "hovertemplate": "yhat=%{x}<br>resid_std=%{y}<br>Accident Period=%{marker.color}<extra></extra>",
         "legendgroup": "",
         "marker": {
          "color": [
           2001,
           2002,
           2003,
           2004,
           2005,
           2006,
           2007,
           2008,
           2009,
           2010,
           2001,
           2002,
           2003,
           2004,
           2005,
           2006,
           2007,
           2008,
           2009,
           2001,
           2002,
           2003,
           2004,
           2005,
           2006,
           2007,
           2008,
           2001,
           2002,
           2003,
           2004,
           2005,
           2006,
           2007,
           2001,
           2002,
           2003,
           2004,
           2005,
           2006,
           2001,
           2002,
           2003,
           2004,
           2005,
           2001,
           2002,
           2003,
           2004,
           2001,
           2002,
           2003,
           2001,
           2002,
           2001
          ],
          "coloraxis": "coloraxis",
          "line": {
           "color": "black",
           "width": 1
          },
          "opacity": 0.5,
          "size": 9,
          "symbol": "circle"
         },
         "mode": "markers",
         "name": "",
         "orientation": "v",
         "showlegend": false,
         "type": "scatter",
         "x": [
          -0.274,
          -0.156,
          -0.399,
          -0.444,
          -0.136,
          -0.135,
          -0.088,
          -0.275,
          -0.174,
          -0.24,
          0.406,
          0.617,
          0.542,
          0.63,
          0.678,
          0.694,
          0.561,
          0.85,
          0.724,
          0.457,
          0.836,
          0.894,
          0.722,
          0.784,
          0.62,
          0.963,
          1.026,
          0.414,
          0.926,
          0.724,
          0.566,
          0.448,
          0.761,
          0.877,
          -0.03,
          0.222,
          0.035,
          -0.303,
          0.056,
          0.141,
          -0.607,
          -0.34,
          -0.708,
          -0.569,
          -0.437,
          -0.952,
          -0.866,
          -0.757,
          -0.845,
          -1.491,
          -0.928,
          -1.045,
          -1.372,
          -1.036,
          -1.789
         ],
         "xaxis": "x4",
         "y": [
          -0.614,
          -0.912,
          -1.014,
          -0.708,
          -0.225,
          -0.583,
          -0.341,
          -0.598,
          -0.66,
          -0.81,
          0.383,
          0.391,
          0.945,
          1.081,
          -0.504,
          0.416,
          0.377,
          0.487,
          0.516,
          -0.446,
          0.11,
          -0.037,
          -0.237,
          0.41,
          0.252,
          0.452,
          1.093,
          -1.097,
          0.673,
          0.612,
          2.301,
          0.306,
          -0.204,
          0.435,
          0.104,
          -0.952,
          1.087,
          -1.416,
          -0.212,
          0.673,
          1.576,
          -0.82,
          -2.528,
          -0.052,
          0.591,
          -2.032,
          1.849,
          1.424,
          -1.168,
          -1.052,
          -0.189,
          0.219,
          0.235,
          1.516,
          -2.717
         ],
         "yaxis": "y4"
        }
       ],
       "layout": {
        "annotations": [
         {
          "font": {
           "size": 16
          },
          "showarrow": false,
          "text": "Development Period",
          "x": 0.225,
          "xanchor": "center",
          "xref": "paper",
          "y": 1,
          "yanchor": "bottom",
          "yref": "paper"
         },
         {
          "font": {
           "size": 16
          },
          "showarrow": false,
          "text": "Accident Period",
          "x": 0.775,
          "xanchor": "center",
          "xref": "paper",
          "y": 1,
          "yanchor": "bottom",
          "yref": "paper"
         },
         {
          "font": {
           "size": 16
          },
          "showarrow": false,
          "text": "Calendar Period",
          "x": 0.225,
          "xanchor": "center",
          "xref": "paper",
          "y": 0.375,
          "yanchor": "bottom",
          "yref": "paper"
         },
         {
          "font": {
           "size": 16
          },
          "showarrow": false,
          "text": "Expected",
          "x": 0.775,
          "xanchor": "center",
          "xref": "paper",
          "y": 0.375,
          "yanchor": "bottom",
          "yref": "paper"
         }
        ],
        "height": 800,
        "template": {
         "data": {
          "bar": [
           {
            "error_x": {
             "color": "#2a3f5f"
            },
            "error_y": {
             "color": "#2a3f5f"
            },
            "marker": {
             "line": {
              "color": "#E5ECF6",
              "width": 0.5
             },
             "pattern": {
              "fillmode": "overlay",
              "size": 10,
              "solidity": 0.2
             }
            },
            "type": "bar"
           }
          ],
          "barpolar": [
           {
            "marker": {
             "line": {
              "color": "#E5ECF6",
              "width": 0.5
             },
             "pattern": {
              "fillmode": "overlay",
              "size": 10,
              "solidity": 0.2
             }
            },
            "type": "barpolar"
           }
          ],
          "carpet": [
           {
            "aaxis": {
             "endlinecolor": "#2a3f5f",
             "gridcolor": "white",
             "linecolor": "white",
             "minorgridcolor": "white",
             "startlinecolor": "#2a3f5f"
            },
            "baxis": {
             "endlinecolor": "#2a3f5f",
             "gridcolor": "white",
             "linecolor": "white",
             "minorgridcolor": "white",
             "startlinecolor": "#2a3f5f"
            },
            "type": "carpet"
           }
          ],
          "choropleth": [
           {
            "colorbar": {
             "outlinewidth": 0,
             "ticks": ""
            },
            "type": "choropleth"
           }
          ],
          "contour": [
           {
            "colorbar": {
             "outlinewidth": 0,
             "ticks": ""
            },
            "colorscale": [
             [
              0,
              "#0d0887"
             ],
             [
              0.1111111111111111,
              "#46039f"
             ],
             [
              0.2222222222222222,
              "#7201a8"
             ],
             [
              0.3333333333333333,
              "#9c179e"
             ],
             [
              0.4444444444444444,
              "#bd3786"
             ],
             [
              0.5555555555555556,
              "#d8576b"
             ],
             [
              0.6666666666666666,
              "#ed7953"
             ],
             [
              0.7777777777777778,
              "#fb9f3a"
             ],
             [
              0.8888888888888888,
              "#fdca26"
             ],
             [
              1,
              "#f0f921"
             ]
            ],
            "type": "contour"
           }
          ],
          "contourcarpet": [
           {
            "colorbar": {
             "outlinewidth": 0,
             "ticks": ""
            },
            "type": "contourcarpet"
           }
          ],
          "heatmap": [
           {
            "colorbar": {
             "outlinewidth": 0,
             "ticks": ""
            },
            "colorscale": [
             [
              0,
              "#0d0887"
             ],
             [
              0.1111111111111111,
              "#46039f"
             ],
             [
              0.2222222222222222,
              "#7201a8"
             ],
             [
              0.3333333333333333,
              "#9c179e"
             ],
             [
              0.4444444444444444,
              "#bd3786"
             ],
             [
              0.5555555555555556,
              "#d8576b"
             ],
             [
              0.6666666666666666,
              "#ed7953"
             ],
             [
              0.7777777777777778,
              "#fb9f3a"
             ],
             [
              0.8888888888888888,
              "#fdca26"
             ],
             [
              1,
              "#f0f921"
             ]
            ],
            "type": "heatmap"
           }
          ],
          "heatmapgl": [
           {
            "colorbar": {
             "outlinewidth": 0,
             "ticks": ""
            },
            "colorscale": [
             [
              0,
              "#0d0887"
             ],
             [
              0.1111111111111111,
              "#46039f"
             ],
             [
              0.2222222222222222,
              "#7201a8"
             ],
             [
              0.3333333333333333,
              "#9c179e"
             ],
             [
              0.4444444444444444,
              "#bd3786"
             ],
             [
              0.5555555555555556,
              "#d8576b"
             ],
             [
              0.6666666666666666,
              "#ed7953"
             ],
             [
              0.7777777777777778,
              "#fb9f3a"
             ],
             [
              0.8888888888888888,
              "#fdca26"
             ],
             [
              1,
              "#f0f921"
             ]
            ],
            "type": "heatmapgl"
           }
          ],
          "histogram": [
           {
            "marker": {
             "pattern": {
              "fillmode": "overlay",
              "size": 10,
              "solidity": 0.2
             }
            },
            "type": "histogram"
           }
          ],
          "histogram2d": [
           {
            "colorbar": {
             "outlinewidth": 0,
             "ticks": ""
            },
            "colorscale": [
             [
              0,
              "#0d0887"
             ],
             [
              0.1111111111111111,
              "#46039f"
             ],
             [
              0.2222222222222222,
              "#7201a8"
             ],
             [
              0.3333333333333333,
              "#9c179e"
             ],
             [
              0.4444444444444444,
              "#bd3786"
             ],
             [
              0.5555555555555556,
              "#d8576b"
             ],
             [
              0.6666666666666666,
              "#ed7953"
             ],
             [
              0.7777777777777778,
              "#fb9f3a"
             ],
             [
              0.8888888888888888,
              "#fdca26"
             ],
             [
              1,
              "#f0f921"
             ]
            ],
            "type": "histogram2d"
           }
          ],
          "histogram2dcontour": [
           {
            "colorbar": {
             "outlinewidth": 0,
             "ticks": ""
            },
            "colorscale": [
             [
              0,
              "#0d0887"
             ],
             [
              0.1111111111111111,
              "#46039f"
             ],
             [
              0.2222222222222222,
              "#7201a8"
             ],
             [
              0.3333333333333333,
              "#9c179e"
             ],
             [
              0.4444444444444444,
              "#bd3786"
             ],
             [
              0.5555555555555556,
              "#d8576b"
             ],
             [
              0.6666666666666666,
              "#ed7953"
             ],
             [
              0.7777777777777778,
              "#fb9f3a"
             ],
             [
              0.8888888888888888,
              "#fdca26"
             ],
             [
              1,
              "#f0f921"
             ]
            ],
            "type": "histogram2dcontour"
           }
          ],
          "mesh3d": [
           {
            "colorbar": {
             "outlinewidth": 0,
             "ticks": ""
            },
            "type": "mesh3d"
           }
          ],
          "parcoords": [
           {
            "line": {
             "colorbar": {
              "outlinewidth": 0,
              "ticks": ""
             }
            },
            "type": "parcoords"
           }
          ],
          "pie": [
           {
            "automargin": true,
            "type": "pie"
           }
          ],
          "scatter": [
           {
            "fillpattern": {
             "fillmode": "overlay",
             "size": 10,
             "solidity": 0.2
            },
            "type": "scatter"
           }
          ],
          "scatter3d": [
           {
            "line": {
             "colorbar": {
              "outlinewidth": 0,
              "ticks": ""
             }
            },
            "marker": {
             "colorbar": {
              "outlinewidth": 0,
              "ticks": ""
             }
            },
            "type": "scatter3d"
           }
          ],
          "scattercarpet": [
           {
            "marker": {
             "colorbar": {
              "outlinewidth": 0,
              "ticks": ""
             }
            },
            "type": "scattercarpet"
           }
          ],
          "scattergeo": [
           {
            "marker": {
             "colorbar": {
              "outlinewidth": 0,
              "ticks": ""
             }
            },
            "type": "scattergeo"
           }
          ],
          "scattergl": [
           {
            "marker": {
             "colorbar": {
              "outlinewidth": 0,
              "ticks": ""
             }
            },
            "type": "scattergl"
           }
          ],
          "scattermapbox": [
           {
            "marker": {
             "colorbar": {
              "outlinewidth": 0,
              "ticks": ""
             }
            },
            "type": "scattermapbox"
           }
          ],
          "scatterpolar": [
           {
            "marker": {
             "colorbar": {
              "outlinewidth": 0,
              "ticks": ""
             }
            },
            "type": "scatterpolar"
           }
          ],
          "scatterpolargl": [
           {
            "marker": {
             "colorbar": {
              "outlinewidth": 0,
              "ticks": ""
             }
            },
            "type": "scatterpolargl"
           }
          ],
          "scatterternary": [
           {
            "marker": {
             "colorbar": {
              "outlinewidth": 0,
              "ticks": ""
             }
            },
            "type": "scatterternary"
           }
          ],
          "surface": [
           {
            "colorbar": {
             "outlinewidth": 0,
             "ticks": ""
            },
            "colorscale": [
             [
              0,
              "#0d0887"
             ],
             [
              0.1111111111111111,
              "#46039f"
             ],
             [
              0.2222222222222222,
              "#7201a8"
             ],
             [
              0.3333333333333333,
              "#9c179e"
             ],
             [
              0.4444444444444444,
              "#bd3786"
             ],
             [
              0.5555555555555556,
              "#d8576b"
             ],
             [
              0.6666666666666666,
              "#ed7953"
             ],
             [
              0.7777777777777778,
              "#fb9f3a"
             ],
             [
              0.8888888888888888,
              "#fdca26"
             ],
             [
              1,
              "#f0f921"
             ]
            ],
            "type": "surface"
           }
          ],
          "table": [
           {
            "cells": {
             "fill": {
              "color": "#EBF0F8"
             },
             "line": {
              "color": "white"
             }
            },
            "header": {
             "fill": {
              "color": "#C8D4E3"
             },
             "line": {
              "color": "white"
             }
            },
            "type": "table"
           }
          ]
         },
         "layout": {
          "annotationdefaults": {
           "arrowcolor": "#2a3f5f",
           "arrowhead": 0,
           "arrowwidth": 1
          },
          "autotypenumbers": "strict",
          "coloraxis": {
           "colorbar": {
            "outlinewidth": 0,
            "ticks": ""
           }
          },
          "colorscale": {
           "diverging": [
            [
             0,
             "#8e0152"
            ],
            [
             0.1,
             "#c51b7d"
            ],
            [
             0.2,
             "#de77ae"
            ],
            [
             0.3,
             "#f1b6da"
            ],
            [
             0.4,
             "#fde0ef"
            ],
            [
             0.5,
             "#f7f7f7"
            ],
            [
             0.6,
             "#e6f5d0"
            ],
            [
             0.7,
             "#b8e186"
            ],
            [
             0.8,
             "#7fbc41"
            ],
            [
             0.9,
             "#4d9221"
            ],
            [
             1,
             "#276419"
            ]
           ],
           "sequential": [
            [
             0,
             "#0d0887"
            ],
            [
             0.1111111111111111,
             "#46039f"
            ],
            [
             0.2222222222222222,
             "#7201a8"
            ],
            [
             0.3333333333333333,
             "#9c179e"
            ],
            [
             0.4444444444444444,
             "#bd3786"
            ],
            [
             0.5555555555555556,
             "#d8576b"
            ],
            [
             0.6666666666666666,
             "#ed7953"
            ],
            [
             0.7777777777777778,
             "#fb9f3a"
            ],
            [
             0.8888888888888888,
             "#fdca26"
            ],
            [
             1,
             "#f0f921"
            ]
           ],
           "sequentialminus": [
            [
             0,
             "#0d0887"
            ],
            [
             0.1111111111111111,
             "#46039f"
            ],
            [
             0.2222222222222222,
             "#7201a8"
            ],
            [
             0.3333333333333333,
             "#9c179e"
            ],
            [
             0.4444444444444444,
             "#bd3786"
            ],
            [
             0.5555555555555556,
             "#d8576b"
            ],
            [
             0.6666666666666666,
             "#ed7953"
            ],
            [
             0.7777777777777778,
             "#fb9f3a"
            ],
            [
             0.8888888888888888,
             "#fdca26"
            ],
            [
             1,
             "#f0f921"
            ]
           ]
          },
          "colorway": [
           "#636efa",
           "#EF553B",
           "#00cc96",
           "#ab63fa",
           "#FFA15A",
           "#19d3f3",
           "#FF6692",
           "#B6E880",
           "#FF97FF",
           "#FECB52"
          ],
          "font": {
           "color": "#2a3f5f"
          },
          "geo": {
           "bgcolor": "white",
           "lakecolor": "white",
           "landcolor": "#E5ECF6",
           "showlakes": true,
           "showland": true,
           "subunitcolor": "white"
          },
          "hoverlabel": {
           "align": "left"
          },
          "hovermode": "closest",
          "mapbox": {
           "style": "light"
          },
          "paper_bgcolor": "white",
          "plot_bgcolor": "#E5ECF6",
          "polar": {
           "angularaxis": {
            "gridcolor": "white",
            "linecolor": "white",
            "ticks": ""
           },
           "bgcolor": "#E5ECF6",
           "radialaxis": {
            "gridcolor": "white",
            "linecolor": "white",
            "ticks": ""
           }
          },
          "scene": {
           "xaxis": {
            "backgroundcolor": "#E5ECF6",
            "gridcolor": "white",
            "gridwidth": 2,
            "linecolor": "white",
            "showbackground": true,
            "ticks": "",
            "zerolinecolor": "white"
           },
           "yaxis": {
            "backgroundcolor": "#E5ECF6",
            "gridcolor": "white",
            "gridwidth": 2,
            "linecolor": "white",
            "showbackground": true,
            "ticks": "",
            "zerolinecolor": "white"
           },
           "zaxis": {
            "backgroundcolor": "#E5ECF6",
            "gridcolor": "white",
            "gridwidth": 2,
            "linecolor": "white",
            "showbackground": true,
            "ticks": "",
            "zerolinecolor": "white"
           }
          },
          "shapedefaults": {
           "line": {
            "color": "#2a3f5f"
           }
          },
          "ternary": {
           "aaxis": {
            "gridcolor": "white",
            "linecolor": "white",
            "ticks": ""
           },
           "baxis": {
            "gridcolor": "white",
            "linecolor": "white",
            "ticks": ""
           },
           "bgcolor": "#E5ECF6",
           "caxis": {
            "gridcolor": "white",
            "linecolor": "white",
            "ticks": ""
           }
          },
          "title": {
           "x": 0.05
          },
          "xaxis": {
           "automargin": true,
           "gridcolor": "white",
           "linecolor": "white",
           "ticks": "",
           "title": {
            "standoff": 15
           },
           "zerolinecolor": "white",
           "zerolinewidth": 2
          },
          "yaxis": {
           "automargin": true,
           "gridcolor": "white",
           "linecolor": "white",
           "ticks": "",
           "title": {
            "standoff": 15
           },
           "zerolinecolor": "white",
           "zerolinewidth": 2
          }
         }
        },
        "title": {
         "text": "Standardized Residual Plots"
        },
        "xaxis": {
         "anchor": "y",
         "domain": [
          0,
          0.45
         ]
        },
        "xaxis2": {
         "anchor": "y2",
         "domain": [
          0.55,
          1
         ]
        },
        "xaxis3": {
         "anchor": "y3",
         "domain": [
          0,
          0.45
         ]
        },
        "xaxis4": {
         "anchor": "y4",
         "domain": [
          0.55,
          1
         ]
        },
        "yaxis": {
         "anchor": "x",
         "domain": [
          0.625,
          1
         ]
        },
        "yaxis2": {
         "anchor": "x2",
         "domain": [
          0.625,
          1
         ]
        },
        "yaxis3": {
         "anchor": "x3",
         "domain": [
          0,
          0.375
         ]
        },
        "yaxis4": {
         "anchor": "x4",
         "domain": [
          0,
          0.375
         ]
        }
       }
      }
     },
     "metadata": {},
     "output_type": "display_data"
    }
   ],
   "source": [
    "rky.icrfs.ResidualPlot(color_col='acc')"
   ]
  },
  {
   "attachments": {},
   "cell_type": "markdown",
   "metadata": {},
   "source": [
    "$\\text{AIC} = 2k - 2l$"
   ]
  },
  {
   "cell_type": "code",
   "execution_count": 13,
   "metadata": {},
   "outputs": [
    {
     "data": {
      "text/plain": [
       "37"
      ]
     },
     "execution_count": 13,
     "metadata": {},
     "output_type": "execute_result"
    }
   ],
   "source": [
    "# k - number of parameters:\n",
    "rky.icrfs.GetP()"
   ]
  },
  {
   "cell_type": "code",
   "execution_count": 14,
   "metadata": {},
   "outputs": [],
   "source": [
    "# l - loglikelihood:\n",
    "# log(likelihood)\n"
   ]
  },
  {
   "attachments": {},
   "cell_type": "markdown",
   "metadata": {},
   "source": [
    "In general\n",
    "\n",
    "Objective function of elastic net regularization:\n",
    "\n",
    "$$\n",
    "\\min_{\\beta} \\frac{1}{2n} \\sum_{i=1}^n \\left( y_i - \\beta_0 - \\mathbf{x}_i^T\\beta \\right)^2 + \\alpha \\lambda \\|{\\beta}\\|^1 + \\frac{\\alpha(1-\\lambda)}{2} \\|\\beta\\|_2^2\n",
    "$$\n",
    "\n",
    "Here $\\alpha$ is the strength of the regularization, $\\lambda$ is the portion of the regularization that is $\\ell_1$-norm, and $k$ is the number of parameters in the model.\n",
    "\n"
   ]
  }
 ],
 "metadata": {
  "kernelspec": {
   "display_name": ".env",
   "language": "python",
   "name": "python3"
  },
  "language_info": {
   "codemirror_mode": {
    "name": "ipython",
    "version": 3
   },
   "file_extension": ".py",
   "mimetype": "text/x-python",
   "name": "python",
   "nbconvert_exporter": "python",
   "pygments_lexer": "ipython3",
   "version": "3.10.12"
  },
  "orig_nbformat": 4,
  "vscode": {
   "interpreter": {
    "hash": "1c3a4564efa293e7c7ea6940cd6af6a26c4c80803813cdeb6d0df1b622fe18f6"
   }
  }
 },
 "nbformat": 4,
 "nbformat_minor": 2
}
