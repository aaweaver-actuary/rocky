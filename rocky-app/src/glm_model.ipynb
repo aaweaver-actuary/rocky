{
 "cells": [
  {
   "cell_type": "code",
   "execution_count": 7,
   "metadata": {},
   "outputs": [],
   "source": [
    "import pandas as pd\n",
    "import numpy as np\n",
    "import plotly.express as px\n",
    "from sklearn.linear_model import TweedieRegressor\n",
    "from sklearn.model_selection import GridSearchCV\n",
    "from sklearn.metrics import mean_squared_error, mean_absolute_error, mean_tweedie_deviance, d2_tweedie_score, make_scorer\n",
    "from xgboost import XGBRegressor\n",
    "import itertools\n",
    "\n",
    "from tqdm.notebook import tqdm"
   ]
  },
  {
   "cell_type": "code",
   "execution_count": 331,
   "metadata": {},
   "outputs": [],
   "source": [
    "from importlib import reload\n",
    "import py.rockycore, py.triangle, py.TriangleTimeSeriesSplit, py.GLM\n",
    "\n",
    "reload(py.triangle)\n",
    "from py.triangle import Triangle\n",
    "\n",
    "reload(py.rockycore)\n",
    "from py.rockycore import ROCKY\n",
    "\n",
    "reload(py.TriangleTimeSeriesSplit)\n",
    "from py.TriangleTimeSeriesSplit import TriangleTimeSeriesSplit\n",
    "\n",
    "reload(py.GLM)\n",
    "from py.GLM import glm"
   ]
  },
  {
   "cell_type": "code",
   "execution_count": 332,
   "metadata": {},
   "outputs": [],
   "source": [
    "r = ROCKY()"
   ]
  },
  {
   "cell_type": "code",
   "execution_count": 333,
   "metadata": {},
   "outputs": [
    {
     "data": {
      "text/html": [
       "<div>\n",
       "<style scoped>\n",
       "    .dataframe tbody tr th:only-of-type {\n",
       "        vertical-align: middle;\n",
       "    }\n",
       "\n",
       "    .dataframe tbody tr th {\n",
       "        vertical-align: top;\n",
       "    }\n",
       "\n",
       "    .dataframe thead th {\n",
       "        text-align: right;\n",
       "    }\n",
       "</style>\n",
       "<table border=\"1\" class=\"dataframe\">\n",
       "  <thead>\n",
       "    <tr style=\"text-align: right;\">\n",
       "      <th>development_period</th>\n",
       "      <th>12</th>\n",
       "      <th>24</th>\n",
       "      <th>36</th>\n",
       "      <th>48</th>\n",
       "      <th>60</th>\n",
       "      <th>72</th>\n",
       "      <th>84</th>\n",
       "      <th>96</th>\n",
       "      <th>108</th>\n",
       "      <th>120</th>\n",
       "      <th>132</th>\n",
       "      <th>144</th>\n",
       "      <th>156</th>\n",
       "      <th>168</th>\n",
       "      <th>180</th>\n",
       "      <th>192</th>\n",
       "      <th>204</th>\n",
       "      <th>216</th>\n",
       "      <th>228</th>\n",
       "      <th>240</th>\n",
       "    </tr>\n",
       "    <tr>\n",
       "      <th>accident_period</th>\n",
       "      <th></th>\n",
       "      <th></th>\n",
       "      <th></th>\n",
       "      <th></th>\n",
       "      <th></th>\n",
       "      <th></th>\n",
       "      <th></th>\n",
       "      <th></th>\n",
       "      <th></th>\n",
       "      <th></th>\n",
       "      <th></th>\n",
       "      <th></th>\n",
       "      <th></th>\n",
       "      <th></th>\n",
       "      <th></th>\n",
       "      <th></th>\n",
       "      <th></th>\n",
       "      <th></th>\n",
       "      <th></th>\n",
       "      <th></th>\n",
       "    </tr>\n",
       "  </thead>\n",
       "  <tbody>\n",
       "    <tr>\n",
       "      <th>2003-01-01</th>\n",
       "      <td>0.206509</td>\n",
       "      <td>0.442715</td>\n",
       "      <td>0.561898</td>\n",
       "      <td>0.629726</td>\n",
       "      <td>0.670634</td>\n",
       "      <td>0.701206</td>\n",
       "      <td>0.724992</td>\n",
       "      <td>0.737256</td>\n",
       "      <td>0.743948</td>\n",
       "      <td>0.749339</td>\n",
       "      <td>0.753672</td>\n",
       "      <td>0.757472</td>\n",
       "      <td>0.759823</td>\n",
       "      <td>0.763052</td>\n",
       "      <td>0.766027</td>\n",
       "      <td>0.768283</td>\n",
       "      <td>0.771155</td>\n",
       "      <td>0.773814</td>\n",
       "      <td>0.779788</td>\n",
       "      <td>0.780757</td>\n",
       "    </tr>\n",
       "    <tr>\n",
       "      <th>2004-01-01</th>\n",
       "      <td>0.228167</td>\n",
       "      <td>0.476890</td>\n",
       "      <td>0.592956</td>\n",
       "      <td>0.665189</td>\n",
       "      <td>0.715832</td>\n",
       "      <td>0.743238</td>\n",
       "      <td>0.760960</td>\n",
       "      <td>0.780487</td>\n",
       "      <td>0.792481</td>\n",
       "      <td>0.800694</td>\n",
       "      <td>0.805923</td>\n",
       "      <td>0.820242</td>\n",
       "      <td>0.825165</td>\n",
       "      <td>0.828041</td>\n",
       "      <td>0.829304</td>\n",
       "      <td>0.831548</td>\n",
       "      <td>0.832968</td>\n",
       "      <td>0.833949</td>\n",
       "      <td>0.839170</td>\n",
       "      <td>NaN</td>\n",
       "    </tr>\n",
       "    <tr>\n",
       "      <th>2005-01-01</th>\n",
       "      <td>0.223228</td>\n",
       "      <td>0.463000</td>\n",
       "      <td>0.578312</td>\n",
       "      <td>0.655920</td>\n",
       "      <td>0.699188</td>\n",
       "      <td>0.722190</td>\n",
       "      <td>0.741474</td>\n",
       "      <td>0.750872</td>\n",
       "      <td>0.756959</td>\n",
       "      <td>0.763308</td>\n",
       "      <td>0.768648</td>\n",
       "      <td>0.771693</td>\n",
       "      <td>0.774371</td>\n",
       "      <td>0.778022</td>\n",
       "      <td>0.780954</td>\n",
       "      <td>0.786607</td>\n",
       "      <td>0.789019</td>\n",
       "      <td>0.789934</td>\n",
       "      <td>NaN</td>\n",
       "      <td>NaN</td>\n",
       "    </tr>\n",
       "    <tr>\n",
       "      <th>2006-01-01</th>\n",
       "      <td>0.219659</td>\n",
       "      <td>0.468118</td>\n",
       "      <td>0.589803</td>\n",
       "      <td>0.655430</td>\n",
       "      <td>0.692906</td>\n",
       "      <td>0.721181</td>\n",
       "      <td>0.740702</td>\n",
       "      <td>0.755824</td>\n",
       "      <td>0.765716</td>\n",
       "      <td>0.779080</td>\n",
       "      <td>0.786760</td>\n",
       "      <td>0.793282</td>\n",
       "      <td>0.800872</td>\n",
       "      <td>0.803282</td>\n",
       "      <td>0.807683</td>\n",
       "      <td>0.809700</td>\n",
       "      <td>0.813440</td>\n",
       "      <td>NaN</td>\n",
       "      <td>NaN</td>\n",
       "      <td>NaN</td>\n",
       "    </tr>\n",
       "    <tr>\n",
       "      <th>2007-01-01</th>\n",
       "      <td>0.209939</td>\n",
       "      <td>0.444570</td>\n",
       "      <td>0.564939</td>\n",
       "      <td>0.629948</td>\n",
       "      <td>0.669897</td>\n",
       "      <td>0.689651</td>\n",
       "      <td>0.704107</td>\n",
       "      <td>0.712436</td>\n",
       "      <td>0.723968</td>\n",
       "      <td>0.728414</td>\n",
       "      <td>0.734545</td>\n",
       "      <td>0.740112</td>\n",
       "      <td>0.742310</td>\n",
       "      <td>0.747522</td>\n",
       "      <td>0.749532</td>\n",
       "      <td>0.751073</td>\n",
       "      <td>NaN</td>\n",
       "      <td>NaN</td>\n",
       "      <td>NaN</td>\n",
       "      <td>NaN</td>\n",
       "    </tr>\n",
       "    <tr>\n",
       "      <th>2008-01-01</th>\n",
       "      <td>0.213169</td>\n",
       "      <td>0.456141</td>\n",
       "      <td>0.570077</td>\n",
       "      <td>0.635812</td>\n",
       "      <td>0.682303</td>\n",
       "      <td>0.708986</td>\n",
       "      <td>0.723436</td>\n",
       "      <td>0.738607</td>\n",
       "      <td>0.747954</td>\n",
       "      <td>0.752397</td>\n",
       "      <td>0.756338</td>\n",
       "      <td>0.759484</td>\n",
       "      <td>0.761223</td>\n",
       "      <td>0.762348</td>\n",
       "      <td>0.763711</td>\n",
       "      <td>NaN</td>\n",
       "      <td>NaN</td>\n",
       "      <td>NaN</td>\n",
       "      <td>NaN</td>\n",
       "      <td>NaN</td>\n",
       "    </tr>\n",
       "    <tr>\n",
       "      <th>2009-01-01</th>\n",
       "      <td>0.210698</td>\n",
       "      <td>0.422866</td>\n",
       "      <td>0.519658</td>\n",
       "      <td>0.570211</td>\n",
       "      <td>0.598252</td>\n",
       "      <td>0.615392</td>\n",
       "      <td>0.629577</td>\n",
       "      <td>0.640875</td>\n",
       "      <td>0.644978</td>\n",
       "      <td>0.651292</td>\n",
       "      <td>0.654985</td>\n",
       "      <td>0.659272</td>\n",
       "      <td>0.661773</td>\n",
       "      <td>0.664209</td>\n",
       "      <td>NaN</td>\n",
       "      <td>NaN</td>\n",
       "      <td>NaN</td>\n",
       "      <td>NaN</td>\n",
       "      <td>NaN</td>\n",
       "      <td>NaN</td>\n",
       "    </tr>\n",
       "    <tr>\n",
       "      <th>2010-01-01</th>\n",
       "      <td>0.229538</td>\n",
       "      <td>0.453135</td>\n",
       "      <td>0.552983</td>\n",
       "      <td>0.609976</td>\n",
       "      <td>0.649983</td>\n",
       "      <td>0.674379</td>\n",
       "      <td>0.685190</td>\n",
       "      <td>0.693108</td>\n",
       "      <td>0.702903</td>\n",
       "      <td>0.709176</td>\n",
       "      <td>0.714314</td>\n",
       "      <td>0.715712</td>\n",
       "      <td>0.719025</td>\n",
       "      <td>NaN</td>\n",
       "      <td>NaN</td>\n",
       "      <td>NaN</td>\n",
       "      <td>NaN</td>\n",
       "      <td>NaN</td>\n",
       "      <td>NaN</td>\n",
       "      <td>NaN</td>\n",
       "    </tr>\n",
       "    <tr>\n",
       "      <th>2011-01-01</th>\n",
       "      <td>0.221038</td>\n",
       "      <td>0.443709</td>\n",
       "      <td>0.543295</td>\n",
       "      <td>0.598673</td>\n",
       "      <td>0.627616</td>\n",
       "      <td>0.642203</td>\n",
       "      <td>0.650286</td>\n",
       "      <td>0.658177</td>\n",
       "      <td>0.666838</td>\n",
       "      <td>0.670328</td>\n",
       "      <td>0.676479</td>\n",
       "      <td>0.678501</td>\n",
       "      <td>NaN</td>\n",
       "      <td>NaN</td>\n",
       "      <td>NaN</td>\n",
       "      <td>NaN</td>\n",
       "      <td>NaN</td>\n",
       "      <td>NaN</td>\n",
       "      <td>NaN</td>\n",
       "      <td>NaN</td>\n",
       "    </tr>\n",
       "    <tr>\n",
       "      <th>2012-01-01</th>\n",
       "      <td>0.210906</td>\n",
       "      <td>0.411595</td>\n",
       "      <td>0.500086</td>\n",
       "      <td>0.549582</td>\n",
       "      <td>0.581630</td>\n",
       "      <td>0.594720</td>\n",
       "      <td>0.605314</td>\n",
       "      <td>0.612384</td>\n",
       "      <td>0.619528</td>\n",
       "      <td>0.621590</td>\n",
       "      <td>0.623796</td>\n",
       "      <td>NaN</td>\n",
       "      <td>NaN</td>\n",
       "      <td>NaN</td>\n",
       "      <td>NaN</td>\n",
       "      <td>NaN</td>\n",
       "      <td>NaN</td>\n",
       "      <td>NaN</td>\n",
       "      <td>NaN</td>\n",
       "      <td>NaN</td>\n",
       "    </tr>\n",
       "    <tr>\n",
       "      <th>2013-01-01</th>\n",
       "      <td>0.210588</td>\n",
       "      <td>0.404600</td>\n",
       "      <td>0.487758</td>\n",
       "      <td>0.530246</td>\n",
       "      <td>0.556895</td>\n",
       "      <td>0.570591</td>\n",
       "      <td>0.579119</td>\n",
       "      <td>0.590291</td>\n",
       "      <td>0.601325</td>\n",
       "      <td>0.608253</td>\n",
       "      <td>NaN</td>\n",
       "      <td>NaN</td>\n",
       "      <td>NaN</td>\n",
       "      <td>NaN</td>\n",
       "      <td>NaN</td>\n",
       "      <td>NaN</td>\n",
       "      <td>NaN</td>\n",
       "      <td>NaN</td>\n",
       "      <td>NaN</td>\n",
       "      <td>NaN</td>\n",
       "    </tr>\n",
       "    <tr>\n",
       "      <th>2014-01-01</th>\n",
       "      <td>0.194779</td>\n",
       "      <td>0.376793</td>\n",
       "      <td>0.454963</td>\n",
       "      <td>0.504299</td>\n",
       "      <td>0.537179</td>\n",
       "      <td>0.556981</td>\n",
       "      <td>0.569251</td>\n",
       "      <td>0.578879</td>\n",
       "      <td>0.585765</td>\n",
       "      <td>NaN</td>\n",
       "      <td>NaN</td>\n",
       "      <td>NaN</td>\n",
       "      <td>NaN</td>\n",
       "      <td>NaN</td>\n",
       "      <td>NaN</td>\n",
       "      <td>NaN</td>\n",
       "      <td>NaN</td>\n",
       "      <td>NaN</td>\n",
       "      <td>NaN</td>\n",
       "      <td>NaN</td>\n",
       "    </tr>\n",
       "    <tr>\n",
       "      <th>2015-01-01</th>\n",
       "      <td>0.168166</td>\n",
       "      <td>0.322732</td>\n",
       "      <td>0.399570</td>\n",
       "      <td>0.446954</td>\n",
       "      <td>0.469142</td>\n",
       "      <td>0.481147</td>\n",
       "      <td>0.488919</td>\n",
       "      <td>0.493452</td>\n",
       "      <td>NaN</td>\n",
       "      <td>NaN</td>\n",
       "      <td>NaN</td>\n",
       "      <td>NaN</td>\n",
       "      <td>NaN</td>\n",
       "      <td>NaN</td>\n",
       "      <td>NaN</td>\n",
       "      <td>NaN</td>\n",
       "      <td>NaN</td>\n",
       "      <td>NaN</td>\n",
       "      <td>NaN</td>\n",
       "      <td>NaN</td>\n",
       "    </tr>\n",
       "    <tr>\n",
       "      <th>2016-01-01</th>\n",
       "      <td>0.162919</td>\n",
       "      <td>0.341111</td>\n",
       "      <td>0.417357</td>\n",
       "      <td>0.461219</td>\n",
       "      <td>0.497479</td>\n",
       "      <td>0.516653</td>\n",
       "      <td>0.526875</td>\n",
       "      <td>NaN</td>\n",
       "      <td>NaN</td>\n",
       "      <td>NaN</td>\n",
       "      <td>NaN</td>\n",
       "      <td>NaN</td>\n",
       "      <td>NaN</td>\n",
       "      <td>NaN</td>\n",
       "      <td>NaN</td>\n",
       "      <td>NaN</td>\n",
       "      <td>NaN</td>\n",
       "      <td>NaN</td>\n",
       "      <td>NaN</td>\n",
       "      <td>NaN</td>\n",
       "    </tr>\n",
       "    <tr>\n",
       "      <th>2017-01-01</th>\n",
       "      <td>0.158704</td>\n",
       "      <td>0.310782</td>\n",
       "      <td>0.370750</td>\n",
       "      <td>0.397173</td>\n",
       "      <td>0.417405</td>\n",
       "      <td>0.428644</td>\n",
       "      <td>NaN</td>\n",
       "      <td>NaN</td>\n",
       "      <td>NaN</td>\n",
       "      <td>NaN</td>\n",
       "      <td>NaN</td>\n",
       "      <td>NaN</td>\n",
       "      <td>NaN</td>\n",
       "      <td>NaN</td>\n",
       "      <td>NaN</td>\n",
       "      <td>NaN</td>\n",
       "      <td>NaN</td>\n",
       "      <td>NaN</td>\n",
       "      <td>NaN</td>\n",
       "      <td>NaN</td>\n",
       "    </tr>\n",
       "    <tr>\n",
       "      <th>2018-01-01</th>\n",
       "      <td>0.167362</td>\n",
       "      <td>0.325426</td>\n",
       "      <td>0.393466</td>\n",
       "      <td>0.428054</td>\n",
       "      <td>0.450121</td>\n",
       "      <td>NaN</td>\n",
       "      <td>NaN</td>\n",
       "      <td>NaN</td>\n",
       "      <td>NaN</td>\n",
       "      <td>NaN</td>\n",
       "      <td>NaN</td>\n",
       "      <td>NaN</td>\n",
       "      <td>NaN</td>\n",
       "      <td>NaN</td>\n",
       "      <td>NaN</td>\n",
       "      <td>NaN</td>\n",
       "      <td>NaN</td>\n",
       "      <td>NaN</td>\n",
       "      <td>NaN</td>\n",
       "      <td>NaN</td>\n",
       "    </tr>\n",
       "    <tr>\n",
       "      <th>2019-01-01</th>\n",
       "      <td>0.172374</td>\n",
       "      <td>0.325344</td>\n",
       "      <td>0.393125</td>\n",
       "      <td>0.424208</td>\n",
       "      <td>NaN</td>\n",
       "      <td>NaN</td>\n",
       "      <td>NaN</td>\n",
       "      <td>NaN</td>\n",
       "      <td>NaN</td>\n",
       "      <td>NaN</td>\n",
       "      <td>NaN</td>\n",
       "      <td>NaN</td>\n",
       "      <td>NaN</td>\n",
       "      <td>NaN</td>\n",
       "      <td>NaN</td>\n",
       "      <td>NaN</td>\n",
       "      <td>NaN</td>\n",
       "      <td>NaN</td>\n",
       "      <td>NaN</td>\n",
       "      <td>NaN</td>\n",
       "    </tr>\n",
       "    <tr>\n",
       "      <th>2020-01-01</th>\n",
       "      <td>0.138299</td>\n",
       "      <td>0.249961</td>\n",
       "      <td>0.299044</td>\n",
       "      <td>NaN</td>\n",
       "      <td>NaN</td>\n",
       "      <td>NaN</td>\n",
       "      <td>NaN</td>\n",
       "      <td>NaN</td>\n",
       "      <td>NaN</td>\n",
       "      <td>NaN</td>\n",
       "      <td>NaN</td>\n",
       "      <td>NaN</td>\n",
       "      <td>NaN</td>\n",
       "      <td>NaN</td>\n",
       "      <td>NaN</td>\n",
       "      <td>NaN</td>\n",
       "      <td>NaN</td>\n",
       "      <td>NaN</td>\n",
       "      <td>NaN</td>\n",
       "      <td>NaN</td>\n",
       "    </tr>\n",
       "    <tr>\n",
       "      <th>2021-01-01</th>\n",
       "      <td>0.124936</td>\n",
       "      <td>0.274009</td>\n",
       "      <td>NaN</td>\n",
       "      <td>NaN</td>\n",
       "      <td>NaN</td>\n",
       "      <td>NaN</td>\n",
       "      <td>NaN</td>\n",
       "      <td>NaN</td>\n",
       "      <td>NaN</td>\n",
       "      <td>NaN</td>\n",
       "      <td>NaN</td>\n",
       "      <td>NaN</td>\n",
       "      <td>NaN</td>\n",
       "      <td>NaN</td>\n",
       "      <td>NaN</td>\n",
       "      <td>NaN</td>\n",
       "      <td>NaN</td>\n",
       "      <td>NaN</td>\n",
       "      <td>NaN</td>\n",
       "      <td>NaN</td>\n",
       "    </tr>\n",
       "    <tr>\n",
       "      <th>2022-01-01</th>\n",
       "      <td>0.120719</td>\n",
       "      <td>NaN</td>\n",
       "      <td>NaN</td>\n",
       "      <td>NaN</td>\n",
       "      <td>NaN</td>\n",
       "      <td>NaN</td>\n",
       "      <td>NaN</td>\n",
       "      <td>NaN</td>\n",
       "      <td>NaN</td>\n",
       "      <td>NaN</td>\n",
       "      <td>NaN</td>\n",
       "      <td>NaN</td>\n",
       "      <td>NaN</td>\n",
       "      <td>NaN</td>\n",
       "      <td>NaN</td>\n",
       "      <td>NaN</td>\n",
       "      <td>NaN</td>\n",
       "      <td>NaN</td>\n",
       "      <td>NaN</td>\n",
       "      <td>NaN</td>\n",
       "    </tr>\n",
       "  </tbody>\n",
       "</table>\n",
       "</div>"
      ],
      "text/plain": [
       "development_period        12        24        36        48        60   \n",
       "accident_period                                                        \n",
       "2003-01-01          0.206509  0.442715  0.561898  0.629726  0.670634  \\\n",
       "2004-01-01          0.228167  0.476890  0.592956  0.665189  0.715832   \n",
       "2005-01-01          0.223228  0.463000  0.578312  0.655920  0.699188   \n",
       "2006-01-01          0.219659  0.468118  0.589803  0.655430  0.692906   \n",
       "2007-01-01          0.209939  0.444570  0.564939  0.629948  0.669897   \n",
       "2008-01-01          0.213169  0.456141  0.570077  0.635812  0.682303   \n",
       "2009-01-01          0.210698  0.422866  0.519658  0.570211  0.598252   \n",
       "2010-01-01          0.229538  0.453135  0.552983  0.609976  0.649983   \n",
       "2011-01-01          0.221038  0.443709  0.543295  0.598673  0.627616   \n",
       "2012-01-01          0.210906  0.411595  0.500086  0.549582  0.581630   \n",
       "2013-01-01          0.210588  0.404600  0.487758  0.530246  0.556895   \n",
       "2014-01-01          0.194779  0.376793  0.454963  0.504299  0.537179   \n",
       "2015-01-01          0.168166  0.322732  0.399570  0.446954  0.469142   \n",
       "2016-01-01          0.162919  0.341111  0.417357  0.461219  0.497479   \n",
       "2017-01-01          0.158704  0.310782  0.370750  0.397173  0.417405   \n",
       "2018-01-01          0.167362  0.325426  0.393466  0.428054  0.450121   \n",
       "2019-01-01          0.172374  0.325344  0.393125  0.424208       NaN   \n",
       "2020-01-01          0.138299  0.249961  0.299044       NaN       NaN   \n",
       "2021-01-01          0.124936  0.274009       NaN       NaN       NaN   \n",
       "2022-01-01          0.120719       NaN       NaN       NaN       NaN   \n",
       "\n",
       "development_period        72        84        96       108       120   \n",
       "accident_period                                                        \n",
       "2003-01-01          0.701206  0.724992  0.737256  0.743948  0.749339  \\\n",
       "2004-01-01          0.743238  0.760960  0.780487  0.792481  0.800694   \n",
       "2005-01-01          0.722190  0.741474  0.750872  0.756959  0.763308   \n",
       "2006-01-01          0.721181  0.740702  0.755824  0.765716  0.779080   \n",
       "2007-01-01          0.689651  0.704107  0.712436  0.723968  0.728414   \n",
       "2008-01-01          0.708986  0.723436  0.738607  0.747954  0.752397   \n",
       "2009-01-01          0.615392  0.629577  0.640875  0.644978  0.651292   \n",
       "2010-01-01          0.674379  0.685190  0.693108  0.702903  0.709176   \n",
       "2011-01-01          0.642203  0.650286  0.658177  0.666838  0.670328   \n",
       "2012-01-01          0.594720  0.605314  0.612384  0.619528  0.621590   \n",
       "2013-01-01          0.570591  0.579119  0.590291  0.601325  0.608253   \n",
       "2014-01-01          0.556981  0.569251  0.578879  0.585765       NaN   \n",
       "2015-01-01          0.481147  0.488919  0.493452       NaN       NaN   \n",
       "2016-01-01          0.516653  0.526875       NaN       NaN       NaN   \n",
       "2017-01-01          0.428644       NaN       NaN       NaN       NaN   \n",
       "2018-01-01               NaN       NaN       NaN       NaN       NaN   \n",
       "2019-01-01               NaN       NaN       NaN       NaN       NaN   \n",
       "2020-01-01               NaN       NaN       NaN       NaN       NaN   \n",
       "2021-01-01               NaN       NaN       NaN       NaN       NaN   \n",
       "2022-01-01               NaN       NaN       NaN       NaN       NaN   \n",
       "\n",
       "development_period       132       144       156       168       180   \n",
       "accident_period                                                        \n",
       "2003-01-01          0.753672  0.757472  0.759823  0.763052  0.766027  \\\n",
       "2004-01-01          0.805923  0.820242  0.825165  0.828041  0.829304   \n",
       "2005-01-01          0.768648  0.771693  0.774371  0.778022  0.780954   \n",
       "2006-01-01          0.786760  0.793282  0.800872  0.803282  0.807683   \n",
       "2007-01-01          0.734545  0.740112  0.742310  0.747522  0.749532   \n",
       "2008-01-01          0.756338  0.759484  0.761223  0.762348  0.763711   \n",
       "2009-01-01          0.654985  0.659272  0.661773  0.664209       NaN   \n",
       "2010-01-01          0.714314  0.715712  0.719025       NaN       NaN   \n",
       "2011-01-01          0.676479  0.678501       NaN       NaN       NaN   \n",
       "2012-01-01          0.623796       NaN       NaN       NaN       NaN   \n",
       "2013-01-01               NaN       NaN       NaN       NaN       NaN   \n",
       "2014-01-01               NaN       NaN       NaN       NaN       NaN   \n",
       "2015-01-01               NaN       NaN       NaN       NaN       NaN   \n",
       "2016-01-01               NaN       NaN       NaN       NaN       NaN   \n",
       "2017-01-01               NaN       NaN       NaN       NaN       NaN   \n",
       "2018-01-01               NaN       NaN       NaN       NaN       NaN   \n",
       "2019-01-01               NaN       NaN       NaN       NaN       NaN   \n",
       "2020-01-01               NaN       NaN       NaN       NaN       NaN   \n",
       "2021-01-01               NaN       NaN       NaN       NaN       NaN   \n",
       "2022-01-01               NaN       NaN       NaN       NaN       NaN   \n",
       "\n",
       "development_period       192       204       216       228       240  \n",
       "accident_period                                                       \n",
       "2003-01-01          0.768283  0.771155  0.773814  0.779788  0.780757  \n",
       "2004-01-01          0.831548  0.832968  0.833949  0.839170       NaN  \n",
       "2005-01-01          0.786607  0.789019  0.789934       NaN       NaN  \n",
       "2006-01-01          0.809700  0.813440       NaN       NaN       NaN  \n",
       "2007-01-01          0.751073       NaN       NaN       NaN       NaN  \n",
       "2008-01-01               NaN       NaN       NaN       NaN       NaN  \n",
       "2009-01-01               NaN       NaN       NaN       NaN       NaN  \n",
       "2010-01-01               NaN       NaN       NaN       NaN       NaN  \n",
       "2011-01-01               NaN       NaN       NaN       NaN       NaN  \n",
       "2012-01-01               NaN       NaN       NaN       NaN       NaN  \n",
       "2013-01-01               NaN       NaN       NaN       NaN       NaN  \n",
       "2014-01-01               NaN       NaN       NaN       NaN       NaN  \n",
       "2015-01-01               NaN       NaN       NaN       NaN       NaN  \n",
       "2016-01-01               NaN       NaN       NaN       NaN       NaN  \n",
       "2017-01-01               NaN       NaN       NaN       NaN       NaN  \n",
       "2018-01-01               NaN       NaN       NaN       NaN       NaN  \n",
       "2019-01-01               NaN       NaN       NaN       NaN       NaN  \n",
       "2020-01-01               NaN       NaN       NaN       NaN       NaN  \n",
       "2021-01-01               NaN       NaN       NaN       NaN       NaN  \n",
       "2022-01-01               NaN       NaN       NaN       NaN       NaN  "
      ]
     },
     "execution_count": 333,
     "metadata": {},
     "output_type": "execute_result"
    }
   ],
   "source": [
    "r.FromCSV('../../paid.csv', origin_columns=1, id='paid_loss')\n",
    "r.paid_loss.tri"
   ]
  },
  {
   "cell_type": "code",
   "execution_count": 334,
   "metadata": {},
   "outputs": [],
   "source": [
    "r.TweedieGLM(id='BaseGLM', tri=r.paid_loss, cal=False, n_validation=5)"
   ]
  },
  {
   "cell_type": "code",
   "execution_count": 335,
   "metadata": {},
   "outputs": [
    {
     "name": "stderr",
     "output_type": "stream",
     "text": [
      "Training models with data through 2021: 100%|██████████| 651/651 [00:11<00:00, 56.98it/s]\n",
      "Training models with data through 2020: 100%|██████████| 651/651 [00:12<00:00, 51.03it/s]\n",
      "Training models with data through 2019: 100%|██████████| 651/651 [00:12<00:00, 53.16it/s]\n",
      "Training models with data through 2018: 100%|██████████| 651/651 [00:12<00:00, 53.67it/s]\n",
      "Training models with data through 2017: 100%|██████████| 651/651 [00:11<00:00, 54.47it/s]\n"
     ]
    },
    {
     "ename": "TypeError",
     "evalue": "'TweedieRegressor' object is not subscriptable",
     "output_type": "error",
     "traceback": [
      "\u001b[1;31m---------------------------------------------------------------------------\u001b[0m",
      "\u001b[1;31mTypeError\u001b[0m                                 Traceback (most recent call last)",
      "Cell \u001b[1;32mIn[335], line 1\u001b[0m\n\u001b[1;32m----> 1\u001b[0m r\u001b[39m.\u001b[39;49mBaseGLM\u001b[39m.\u001b[39;49mTuneFitHyperparameters()\n",
      "File \u001b[1;32mc:\\Users\\AndyW\\OneDrive\\Documents\\GitHub\\rocky\\rocky-app\\src\\py\\GLM.py:161\u001b[0m, in \u001b[0;36mglm.TuneFitHyperparameters\u001b[1;34m(self, n_splits, param_grid, measures, tie_criterion)\u001b[0m\n\u001b[0;32m    158\u001b[0m opt_tweedie \u001b[39m=\u001b[39m cv\u001b[39m.\u001b[39mOptimalTweedie(measures\u001b[39m=\u001b[39mmeasures, tie_criterion\u001b[39m=\u001b[39mtie_criterion)\n\u001b[0;32m    160\u001b[0m \u001b[39m# set the optimal hyperparameters\u001b[39;00m\n\u001b[1;32m--> 161\u001b[0m \u001b[39mself\u001b[39m\u001b[39m.\u001b[39mopt_alpha \u001b[39m=\u001b[39m opt_tweedie\u001b[39m.\u001b[39malpha\n\u001b[0;32m    162\u001b[0m \u001b[39mself\u001b[39m\u001b[39m.\u001b[39mopt_p \u001b[39m=\u001b[39m opt_tweedie\u001b[39m.\u001b[39mpower\n\u001b[0;32m    163\u001b[0m \u001b[39mself\u001b[39m\u001b[39m.\u001b[39mopt_link \u001b[39m=\u001b[39m opt_tweedie\u001b[39m.\u001b[39mlink\n",
      "\u001b[1;31mTypeError\u001b[0m: 'TweedieRegressor' object is not subscriptable"
     ]
    }
   ],
   "source": [
    "r.BaseGLM.TuneFitHyperparameters()"
   ]
  },
  {
   "attachments": {},
   "cell_type": "markdown",
   "metadata": {},
   "source": [
    "## triangle CV below"
   ]
  },
  {
   "cell_type": "code",
   "execution_count": 273,
   "metadata": {},
   "outputs": [],
   "source": [
    "reload(py.TriangleTimeSeriesSplit)\n",
    "from py.TriangleTimeSeriesSplit import TriangleTimeSeriesSplit\n",
    "cv = TriangleTimeSeriesSplit(r.paid_loss, n_splits=5)"
   ]
  },
  {
   "cell_type": "code",
   "execution_count": 274,
   "metadata": {},
   "outputs": [
    {
     "name": "stderr",
     "output_type": "stream",
     "text": [
      "Training models with data through 2021: 100%|██████████| 441/441 [00:08<00:00, 53.13it/s]\n",
      "Training models with data through 2020: 100%|██████████| 441/441 [00:08<00:00, 53.35it/s]\n",
      "Training models with data through 2019: 100%|██████████| 441/441 [00:07<00:00, 56.27it/s]\n",
      "Training models with data through 2018: 100%|██████████| 441/441 [00:07<00:00, 58.65it/s]\n",
      "Training models with data through 2017: 100%|██████████| 441/441 [00:07<00:00, 59.90it/s]\n"
     ]
    }
   ],
   "source": [
    "cv.TuneTweedie()"
   ]
  },
  {
   "cell_type": "code",
   "execution_count": 275,
   "metadata": {},
   "outputs": [
    {
     "data": {
      "text/html": [
       "<div>\n",
       "<style scoped>\n",
       "    .dataframe tbody tr th:only-of-type {\n",
       "        vertical-align: middle;\n",
       "    }\n",
       "\n",
       "    .dataframe tbody tr th {\n",
       "        vertical-align: top;\n",
       "    }\n",
       "\n",
       "    .dataframe thead th {\n",
       "        text-align: right;\n",
       "    }\n",
       "</style>\n",
       "<table border=\"1\" class=\"dataframe\">\n",
       "  <thead>\n",
       "    <tr style=\"text-align: right;\">\n",
       "      <th></th>\n",
       "      <th>ave_mse_train</th>\n",
       "      <th>sd_mse_train</th>\n",
       "      <th>cv_mse_train</th>\n",
       "      <th>ave_mse_test</th>\n",
       "      <th>sd_mse_test</th>\n",
       "      <th>cv_mse_test</th>\n",
       "      <th>ave_d2_train</th>\n",
       "      <th>sd_d2_train</th>\n",
       "      <th>cv_d2_train</th>\n",
       "      <th>ave_d2_test</th>\n",
       "      <th>sd_d2_test</th>\n",
       "      <th>cv_d2_test</th>\n",
       "      <th>ave_mae_train</th>\n",
       "      <th>sd_mae_train</th>\n",
       "      <th>cv_mae_train</th>\n",
       "      <th>ave_mae_test</th>\n",
       "      <th>sd_mae_test</th>\n",
       "      <th>cv_mae_test</th>\n",
       "      <th>alpha</th>\n",
       "      <th>p</th>\n",
       "    </tr>\n",
       "  </thead>\n",
       "  <tbody>\n",
       "    <tr>\n",
       "      <th>alpha_0.0_p_3.0</th>\n",
       "      <td>0.001088</td>\n",
       "      <td>0.000331</td>\n",
       "      <td>0.304704</td>\n",
       "      <td>0.000116</td>\n",
       "      <td>0.000059</td>\n",
       "      <td>0.514395</td>\n",
       "      <td>0.918708</td>\n",
       "      <td>0.019105</td>\n",
       "      <td>0.020796</td>\n",
       "      <td>0.686524</td>\n",
       "      <td>0.008976</td>\n",
       "      <td>0.013075</td>\n",
       "      <td>0.013382</td>\n",
       "      <td>0.002254</td>\n",
       "      <td>0.168401</td>\n",
       "      <td>0.005249</td>\n",
       "      <td>0.00106</td>\n",
       "      <td>0.201871</td>\n",
       "      <td>0.0</td>\n",
       "      <td>3.0</td>\n",
       "    </tr>\n",
       "  </tbody>\n",
       "</table>\n",
       "</div>"
      ],
      "text/plain": [
       "                 ave_mse_train  sd_mse_train  cv_mse_train  ave_mse_test   \n",
       "alpha_0.0_p_3.0       0.001088      0.000331      0.304704      0.000116  \\\n",
       "\n",
       "                 sd_mse_test  cv_mse_test  ave_d2_train  sd_d2_train   \n",
       "alpha_0.0_p_3.0     0.000059     0.514395      0.918708     0.019105  \\\n",
       "\n",
       "                 cv_d2_train  ave_d2_test  sd_d2_test  cv_d2_test   \n",
       "alpha_0.0_p_3.0     0.020796     0.686524    0.008976    0.013075  \\\n",
       "\n",
       "                 ave_mae_train  sd_mae_train  cv_mae_train  ave_mae_test   \n",
       "alpha_0.0_p_3.0       0.013382      0.002254      0.168401      0.005249  \\\n",
       "\n",
       "                 sd_mae_test  cv_mae_test  alpha    p  \n",
       "alpha_0.0_p_3.0      0.00106     0.201871    0.0  3.0  "
      ]
     },
     "execution_count": 275,
     "metadata": {},
     "output_type": "execute_result"
    }
   ],
   "source": [
    "cv.TweedieParetoFront({\n",
    "    'ave_mse_test':'min',\n",
    "    'sd_mse_test':'min',\n",
    "    'ave_mae_test':'min',\n",
    "    })"
   ]
  },
  {
   "cell_type": "code",
   "execution_count": 278,
   "metadata": {},
   "outputs": [
    {
     "data": {
      "text/html": [
       "<div>\n",
       "<style scoped>\n",
       "    .dataframe tbody tr th:only-of-type {\n",
       "        vertical-align: middle;\n",
       "    }\n",
       "\n",
       "    .dataframe tbody tr th {\n",
       "        vertical-align: top;\n",
       "    }\n",
       "\n",
       "    .dataframe thead th {\n",
       "        text-align: right;\n",
       "    }\n",
       "</style>\n",
       "<table border=\"1\" class=\"dataframe\">\n",
       "  <thead>\n",
       "    <tr style=\"text-align: right;\">\n",
       "      <th></th>\n",
       "      <th>accident_period_2004</th>\n",
       "      <th>accident_period_2005</th>\n",
       "      <th>accident_period_2006</th>\n",
       "      <th>accident_period_2007</th>\n",
       "      <th>accident_period_2008</th>\n",
       "      <th>accident_period_2009</th>\n",
       "      <th>accident_period_2010</th>\n",
       "      <th>accident_period_2011</th>\n",
       "      <th>accident_period_2012</th>\n",
       "      <th>accident_period_2013</th>\n",
       "      <th>...</th>\n",
       "      <th>cal_0030</th>\n",
       "      <th>cal_0031</th>\n",
       "      <th>cal_0032</th>\n",
       "      <th>cal_0033</th>\n",
       "      <th>cal_0034</th>\n",
       "      <th>cal_0035</th>\n",
       "      <th>cal_0036</th>\n",
       "      <th>cal_0037</th>\n",
       "      <th>cal_0038</th>\n",
       "      <th>cal_0039</th>\n",
       "    </tr>\n",
       "  </thead>\n",
       "  <tbody>\n",
       "    <tr>\n",
       "      <th>0</th>\n",
       "      <td>0</td>\n",
       "      <td>0</td>\n",
       "      <td>0</td>\n",
       "      <td>0</td>\n",
       "      <td>0</td>\n",
       "      <td>0</td>\n",
       "      <td>0</td>\n",
       "      <td>0</td>\n",
       "      <td>0</td>\n",
       "      <td>0</td>\n",
       "      <td>...</td>\n",
       "      <td>0</td>\n",
       "      <td>0</td>\n",
       "      <td>0</td>\n",
       "      <td>0</td>\n",
       "      <td>0</td>\n",
       "      <td>0</td>\n",
       "      <td>0</td>\n",
       "      <td>0</td>\n",
       "      <td>0</td>\n",
       "      <td>0</td>\n",
       "    </tr>\n",
       "    <tr>\n",
       "      <th>1</th>\n",
       "      <td>1</td>\n",
       "      <td>0</td>\n",
       "      <td>0</td>\n",
       "      <td>0</td>\n",
       "      <td>0</td>\n",
       "      <td>0</td>\n",
       "      <td>0</td>\n",
       "      <td>0</td>\n",
       "      <td>0</td>\n",
       "      <td>0</td>\n",
       "      <td>...</td>\n",
       "      <td>0</td>\n",
       "      <td>0</td>\n",
       "      <td>0</td>\n",
       "      <td>0</td>\n",
       "      <td>0</td>\n",
       "      <td>0</td>\n",
       "      <td>0</td>\n",
       "      <td>0</td>\n",
       "      <td>0</td>\n",
       "      <td>0</td>\n",
       "    </tr>\n",
       "    <tr>\n",
       "      <th>2</th>\n",
       "      <td>1</td>\n",
       "      <td>1</td>\n",
       "      <td>0</td>\n",
       "      <td>0</td>\n",
       "      <td>0</td>\n",
       "      <td>0</td>\n",
       "      <td>0</td>\n",
       "      <td>0</td>\n",
       "      <td>0</td>\n",
       "      <td>0</td>\n",
       "      <td>...</td>\n",
       "      <td>0</td>\n",
       "      <td>0</td>\n",
       "      <td>0</td>\n",
       "      <td>0</td>\n",
       "      <td>0</td>\n",
       "      <td>0</td>\n",
       "      <td>0</td>\n",
       "      <td>0</td>\n",
       "      <td>0</td>\n",
       "      <td>0</td>\n",
       "    </tr>\n",
       "    <tr>\n",
       "      <th>3</th>\n",
       "      <td>1</td>\n",
       "      <td>1</td>\n",
       "      <td>1</td>\n",
       "      <td>0</td>\n",
       "      <td>0</td>\n",
       "      <td>0</td>\n",
       "      <td>0</td>\n",
       "      <td>0</td>\n",
       "      <td>0</td>\n",
       "      <td>0</td>\n",
       "      <td>...</td>\n",
       "      <td>0</td>\n",
       "      <td>0</td>\n",
       "      <td>0</td>\n",
       "      <td>0</td>\n",
       "      <td>0</td>\n",
       "      <td>0</td>\n",
       "      <td>0</td>\n",
       "      <td>0</td>\n",
       "      <td>0</td>\n",
       "      <td>0</td>\n",
       "    </tr>\n",
       "    <tr>\n",
       "      <th>4</th>\n",
       "      <td>1</td>\n",
       "      <td>1</td>\n",
       "      <td>1</td>\n",
       "      <td>1</td>\n",
       "      <td>0</td>\n",
       "      <td>0</td>\n",
       "      <td>0</td>\n",
       "      <td>0</td>\n",
       "      <td>0</td>\n",
       "      <td>0</td>\n",
       "      <td>...</td>\n",
       "      <td>0</td>\n",
       "      <td>0</td>\n",
       "      <td>0</td>\n",
       "      <td>0</td>\n",
       "      <td>0</td>\n",
       "      <td>0</td>\n",
       "      <td>0</td>\n",
       "      <td>0</td>\n",
       "      <td>0</td>\n",
       "      <td>0</td>\n",
       "    </tr>\n",
       "    <tr>\n",
       "      <th>...</th>\n",
       "      <td>...</td>\n",
       "      <td>...</td>\n",
       "      <td>...</td>\n",
       "      <td>...</td>\n",
       "      <td>...</td>\n",
       "      <td>...</td>\n",
       "      <td>...</td>\n",
       "      <td>...</td>\n",
       "      <td>...</td>\n",
       "      <td>...</td>\n",
       "      <td>...</td>\n",
       "      <td>...</td>\n",
       "      <td>...</td>\n",
       "      <td>...</td>\n",
       "      <td>...</td>\n",
       "      <td>...</td>\n",
       "      <td>...</td>\n",
       "      <td>...</td>\n",
       "      <td>...</td>\n",
       "      <td>...</td>\n",
       "      <td>...</td>\n",
       "    </tr>\n",
       "    <tr>\n",
       "      <th>395</th>\n",
       "      <td>1</td>\n",
       "      <td>1</td>\n",
       "      <td>1</td>\n",
       "      <td>1</td>\n",
       "      <td>1</td>\n",
       "      <td>1</td>\n",
       "      <td>1</td>\n",
       "      <td>1</td>\n",
       "      <td>1</td>\n",
       "      <td>1</td>\n",
       "      <td>...</td>\n",
       "      <td>1</td>\n",
       "      <td>1</td>\n",
       "      <td>1</td>\n",
       "      <td>1</td>\n",
       "      <td>1</td>\n",
       "      <td>1</td>\n",
       "      <td>0</td>\n",
       "      <td>0</td>\n",
       "      <td>0</td>\n",
       "      <td>0</td>\n",
       "    </tr>\n",
       "    <tr>\n",
       "      <th>396</th>\n",
       "      <td>1</td>\n",
       "      <td>1</td>\n",
       "      <td>1</td>\n",
       "      <td>1</td>\n",
       "      <td>1</td>\n",
       "      <td>1</td>\n",
       "      <td>1</td>\n",
       "      <td>1</td>\n",
       "      <td>1</td>\n",
       "      <td>1</td>\n",
       "      <td>...</td>\n",
       "      <td>1</td>\n",
       "      <td>1</td>\n",
       "      <td>1</td>\n",
       "      <td>1</td>\n",
       "      <td>1</td>\n",
       "      <td>1</td>\n",
       "      <td>1</td>\n",
       "      <td>0</td>\n",
       "      <td>0</td>\n",
       "      <td>0</td>\n",
       "    </tr>\n",
       "    <tr>\n",
       "      <th>397</th>\n",
       "      <td>1</td>\n",
       "      <td>1</td>\n",
       "      <td>1</td>\n",
       "      <td>1</td>\n",
       "      <td>1</td>\n",
       "      <td>1</td>\n",
       "      <td>1</td>\n",
       "      <td>1</td>\n",
       "      <td>1</td>\n",
       "      <td>1</td>\n",
       "      <td>...</td>\n",
       "      <td>1</td>\n",
       "      <td>1</td>\n",
       "      <td>1</td>\n",
       "      <td>1</td>\n",
       "      <td>1</td>\n",
       "      <td>1</td>\n",
       "      <td>1</td>\n",
       "      <td>1</td>\n",
       "      <td>0</td>\n",
       "      <td>0</td>\n",
       "    </tr>\n",
       "    <tr>\n",
       "      <th>398</th>\n",
       "      <td>1</td>\n",
       "      <td>1</td>\n",
       "      <td>1</td>\n",
       "      <td>1</td>\n",
       "      <td>1</td>\n",
       "      <td>1</td>\n",
       "      <td>1</td>\n",
       "      <td>1</td>\n",
       "      <td>1</td>\n",
       "      <td>1</td>\n",
       "      <td>...</td>\n",
       "      <td>1</td>\n",
       "      <td>1</td>\n",
       "      <td>1</td>\n",
       "      <td>1</td>\n",
       "      <td>1</td>\n",
       "      <td>1</td>\n",
       "      <td>1</td>\n",
       "      <td>1</td>\n",
       "      <td>1</td>\n",
       "      <td>0</td>\n",
       "    </tr>\n",
       "    <tr>\n",
       "      <th>399</th>\n",
       "      <td>1</td>\n",
       "      <td>1</td>\n",
       "      <td>1</td>\n",
       "      <td>1</td>\n",
       "      <td>1</td>\n",
       "      <td>1</td>\n",
       "      <td>1</td>\n",
       "      <td>1</td>\n",
       "      <td>1</td>\n",
       "      <td>1</td>\n",
       "      <td>...</td>\n",
       "      <td>1</td>\n",
       "      <td>1</td>\n",
       "      <td>1</td>\n",
       "      <td>1</td>\n",
       "      <td>1</td>\n",
       "      <td>1</td>\n",
       "      <td>1</td>\n",
       "      <td>1</td>\n",
       "      <td>1</td>\n",
       "      <td>1</td>\n",
       "    </tr>\n",
       "  </tbody>\n",
       "</table>\n",
       "<p>400 rows × 76 columns</p>\n",
       "</div>"
      ],
      "text/plain": [
       "     accident_period_2004  accident_period_2005  accident_period_2006   \n",
       "0                       0                     0                     0  \\\n",
       "1                       1                     0                     0   \n",
       "2                       1                     1                     0   \n",
       "3                       1                     1                     1   \n",
       "4                       1                     1                     1   \n",
       "..                    ...                   ...                   ...   \n",
       "395                     1                     1                     1   \n",
       "396                     1                     1                     1   \n",
       "397                     1                     1                     1   \n",
       "398                     1                     1                     1   \n",
       "399                     1                     1                     1   \n",
       "\n",
       "     accident_period_2007  accident_period_2008  accident_period_2009   \n",
       "0                       0                     0                     0  \\\n",
       "1                       0                     0                     0   \n",
       "2                       0                     0                     0   \n",
       "3                       0                     0                     0   \n",
       "4                       1                     0                     0   \n",
       "..                    ...                   ...                   ...   \n",
       "395                     1                     1                     1   \n",
       "396                     1                     1                     1   \n",
       "397                     1                     1                     1   \n",
       "398                     1                     1                     1   \n",
       "399                     1                     1                     1   \n",
       "\n",
       "     accident_period_2010  accident_period_2011  accident_period_2012   \n",
       "0                       0                     0                     0  \\\n",
       "1                       0                     0                     0   \n",
       "2                       0                     0                     0   \n",
       "3                       0                     0                     0   \n",
       "4                       0                     0                     0   \n",
       "..                    ...                   ...                   ...   \n",
       "395                     1                     1                     1   \n",
       "396                     1                     1                     1   \n",
       "397                     1                     1                     1   \n",
       "398                     1                     1                     1   \n",
       "399                     1                     1                     1   \n",
       "\n",
       "     accident_period_2013  ...  cal_0030  cal_0031  cal_0032  cal_0033   \n",
       "0                       0  ...         0         0         0         0  \\\n",
       "1                       0  ...         0         0         0         0   \n",
       "2                       0  ...         0         0         0         0   \n",
       "3                       0  ...         0         0         0         0   \n",
       "4                       0  ...         0         0         0         0   \n",
       "..                    ...  ...       ...       ...       ...       ...   \n",
       "395                     1  ...         1         1         1         1   \n",
       "396                     1  ...         1         1         1         1   \n",
       "397                     1  ...         1         1         1         1   \n",
       "398                     1  ...         1         1         1         1   \n",
       "399                     1  ...         1         1         1         1   \n",
       "\n",
       "     cal_0034  cal_0035  cal_0036  cal_0037  cal_0038  cal_0039  \n",
       "0           0         0         0         0         0         0  \n",
       "1           0         0         0         0         0         0  \n",
       "2           0         0         0         0         0         0  \n",
       "3           0         0         0         0         0         0  \n",
       "4           0         0         0         0         0         0  \n",
       "..        ...       ...       ...       ...       ...       ...  \n",
       "395         1         1         0         0         0         0  \n",
       "396         1         1         1         0         0         0  \n",
       "397         1         1         1         1         0         0  \n",
       "398         1         1         1         1         1         0  \n",
       "399         1         1         1         1         1         1  \n",
       "\n",
       "[400 rows x 76 columns]"
      ]
     },
     "execution_count": 278,
     "metadata": {},
     "output_type": "execute_result"
    }
   ],
   "source": [
    "r.paid_loss.get_X_base(cal=True)"
   ]
  },
  {
   "cell_type": "code",
   "execution_count": 269,
   "metadata": {},
   "outputs": [
    {
     "data": {
      "text/html": [
       "<div>\n",
       "<style scoped>\n",
       "    .dataframe tbody tr th:only-of-type {\n",
       "        vertical-align: middle;\n",
       "    }\n",
       "\n",
       "    .dataframe tbody tr th {\n",
       "        vertical-align: top;\n",
       "    }\n",
       "\n",
       "    .dataframe thead th {\n",
       "        text-align: right;\n",
       "    }\n",
       "</style>\n",
       "<table border=\"1\" class=\"dataframe\">\n",
       "  <thead>\n",
       "    <tr style=\"text-align: right;\">\n",
       "      <th></th>\n",
       "      <th>ave_mse_train</th>\n",
       "      <th>sd_mse_train</th>\n",
       "      <th>cv_mse_train</th>\n",
       "      <th>ave_mse_test</th>\n",
       "      <th>sd_mse_test</th>\n",
       "      <th>cv_mse_test</th>\n",
       "      <th>ave_d2_train</th>\n",
       "      <th>sd_d2_train</th>\n",
       "      <th>cv_d2_train</th>\n",
       "      <th>ave_d2_test</th>\n",
       "      <th>sd_d2_test</th>\n",
       "      <th>cv_d2_test</th>\n",
       "      <th>alpha</th>\n",
       "      <th>p</th>\n",
       "    </tr>\n",
       "  </thead>\n",
       "  <tbody>\n",
       "    <tr>\n",
       "      <th>alpha_0.1_p_3.0</th>\n",
       "      <td>0.000789</td>\n",
       "      <td>0.000237</td>\n",
       "      <td>0.300392</td>\n",
       "      <td>0.000110</td>\n",
       "      <td>0.000018</td>\n",
       "      <td>0.168268</td>\n",
       "      <td>0.918443</td>\n",
       "      <td>0.019077</td>\n",
       "      <td>0.020771</td>\n",
       "      <td>0.689705</td>\n",
       "      <td>0.009541</td>\n",
       "      <td>0.013833</td>\n",
       "      <td>0.1</td>\n",
       "      <td>3.0</td>\n",
       "    </tr>\n",
       "    <tr>\n",
       "      <th>alpha_0.1_p_2.9</th>\n",
       "      <td>0.000654</td>\n",
       "      <td>0.000176</td>\n",
       "      <td>0.268532</td>\n",
       "      <td>0.000112</td>\n",
       "      <td>0.000017</td>\n",
       "      <td>0.151699</td>\n",
       "      <td>0.926452</td>\n",
       "      <td>0.015952</td>\n",
       "      <td>0.017219</td>\n",
       "      <td>0.720718</td>\n",
       "      <td>0.010671</td>\n",
       "      <td>0.014805</td>\n",
       "      <td>0.1</td>\n",
       "      <td>2.9</td>\n",
       "    </tr>\n",
       "    <tr>\n",
       "      <th>alpha_0.1_p_2.8</th>\n",
       "      <td>0.000538</td>\n",
       "      <td>0.000125</td>\n",
       "      <td>0.232272</td>\n",
       "      <td>0.000115</td>\n",
       "      <td>0.000016</td>\n",
       "      <td>0.137524</td>\n",
       "      <td>0.933716</td>\n",
       "      <td>0.013150</td>\n",
       "      <td>0.014083</td>\n",
       "      <td>0.750525</td>\n",
       "      <td>0.011859</td>\n",
       "      <td>0.015800</td>\n",
       "      <td>0.1</td>\n",
       "      <td>2.8</td>\n",
       "    </tr>\n",
       "    <tr>\n",
       "      <th>alpha_0.0_p_3.0</th>\n",
       "      <td>0.001088</td>\n",
       "      <td>0.000331</td>\n",
       "      <td>0.304694</td>\n",
       "      <td>0.000116</td>\n",
       "      <td>0.000060</td>\n",
       "      <td>0.515410</td>\n",
       "      <td>0.918708</td>\n",
       "      <td>0.019105</td>\n",
       "      <td>0.020796</td>\n",
       "      <td>0.686524</td>\n",
       "      <td>0.008979</td>\n",
       "      <td>0.013079</td>\n",
       "      <td>0.0</td>\n",
       "      <td>3.0</td>\n",
       "    </tr>\n",
       "    <tr>\n",
       "      <th>alpha_0.2_p_3.0</th>\n",
       "      <td>0.000659</td>\n",
       "      <td>0.000179</td>\n",
       "      <td>0.271973</td>\n",
       "      <td>0.000116</td>\n",
       "      <td>0.000015</td>\n",
       "      <td>0.129277</td>\n",
       "      <td>0.917927</td>\n",
       "      <td>0.018972</td>\n",
       "      <td>0.020668</td>\n",
       "      <td>0.692154</td>\n",
       "      <td>0.010090</td>\n",
       "      <td>0.014578</td>\n",
       "      <td>0.2</td>\n",
       "      <td>3.0</td>\n",
       "    </tr>\n",
       "    <tr>\n",
       "      <th>...</th>\n",
       "      <td>...</td>\n",
       "      <td>...</td>\n",
       "      <td>...</td>\n",
       "      <td>...</td>\n",
       "      <td>...</td>\n",
       "      <td>...</td>\n",
       "      <td>...</td>\n",
       "      <td>...</td>\n",
       "      <td>...</td>\n",
       "      <td>...</td>\n",
       "      <td>...</td>\n",
       "      <td>...</td>\n",
       "      <td>...</td>\n",
       "      <td>...</td>\n",
       "    </tr>\n",
       "    <tr>\n",
       "      <th>alpha_1.6_p_1.0</th>\n",
       "      <td>0.005867</td>\n",
       "      <td>0.000318</td>\n",
       "      <td>0.054209</td>\n",
       "      <td>0.003593</td>\n",
       "      <td>0.000625</td>\n",
       "      <td>0.173978</td>\n",
       "      <td>0.089100</td>\n",
       "      <td>0.003055</td>\n",
       "      <td>0.034291</td>\n",
       "      <td>-0.698233</td>\n",
       "      <td>0.032739</td>\n",
       "      <td>-0.046888</td>\n",
       "      <td>1.6</td>\n",
       "      <td>1.0</td>\n",
       "    </tr>\n",
       "    <tr>\n",
       "      <th>alpha_1.7000000000000002_p_1.0</th>\n",
       "      <td>0.005896</td>\n",
       "      <td>0.000322</td>\n",
       "      <td>0.054531</td>\n",
       "      <td>0.003616</td>\n",
       "      <td>0.000629</td>\n",
       "      <td>0.173889</td>\n",
       "      <td>0.084322</td>\n",
       "      <td>0.002910</td>\n",
       "      <td>0.034506</td>\n",
       "      <td>-0.705216</td>\n",
       "      <td>0.032719</td>\n",
       "      <td>-0.046395</td>\n",
       "      <td>1.7</td>\n",
       "      <td>1.0</td>\n",
       "    </tr>\n",
       "    <tr>\n",
       "      <th>alpha_1.8_p_1.0</th>\n",
       "      <td>0.005923</td>\n",
       "      <td>0.000325</td>\n",
       "      <td>0.054821</td>\n",
       "      <td>0.003638</td>\n",
       "      <td>0.000632</td>\n",
       "      <td>0.173828</td>\n",
       "      <td>0.080027</td>\n",
       "      <td>0.002775</td>\n",
       "      <td>0.034677</td>\n",
       "      <td>-0.711512</td>\n",
       "      <td>0.032722</td>\n",
       "      <td>-0.045990</td>\n",
       "      <td>1.8</td>\n",
       "      <td>1.0</td>\n",
       "    </tr>\n",
       "    <tr>\n",
       "      <th>alpha_1.9000000000000001_p_1.0</th>\n",
       "      <td>0.005946</td>\n",
       "      <td>0.000328</td>\n",
       "      <td>0.055082</td>\n",
       "      <td>0.003657</td>\n",
       "      <td>0.000635</td>\n",
       "      <td>0.173775</td>\n",
       "      <td>0.076147</td>\n",
       "      <td>0.002653</td>\n",
       "      <td>0.034837</td>\n",
       "      <td>-0.717206</td>\n",
       "      <td>0.032726</td>\n",
       "      <td>-0.045629</td>\n",
       "      <td>1.9</td>\n",
       "      <td>1.0</td>\n",
       "    </tr>\n",
       "    <tr>\n",
       "      <th>alpha_2.0_p_1.0</th>\n",
       "      <td>0.005968</td>\n",
       "      <td>0.000330</td>\n",
       "      <td>0.055318</td>\n",
       "      <td>0.003674</td>\n",
       "      <td>0.000638</td>\n",
       "      <td>0.173730</td>\n",
       "      <td>0.072625</td>\n",
       "      <td>0.002541</td>\n",
       "      <td>0.034985</td>\n",
       "      <td>-0.722376</td>\n",
       "      <td>0.032731</td>\n",
       "      <td>-0.045311</td>\n",
       "      <td>2.0</td>\n",
       "      <td>1.0</td>\n",
       "    </tr>\n",
       "  </tbody>\n",
       "</table>\n",
       "<p>441 rows × 14 columns</p>\n",
       "</div>"
      ],
      "text/plain": [
       "                                ave_mse_train  sd_mse_train  cv_mse_train   \n",
       "alpha_0.1_p_3.0                      0.000789      0.000237      0.300392  \\\n",
       "alpha_0.1_p_2.9                      0.000654      0.000176      0.268532   \n",
       "alpha_0.1_p_2.8                      0.000538      0.000125      0.232272   \n",
       "alpha_0.0_p_3.0                      0.001088      0.000331      0.304694   \n",
       "alpha_0.2_p_3.0                      0.000659      0.000179      0.271973   \n",
       "...                                       ...           ...           ...   \n",
       "alpha_1.6_p_1.0                      0.005867      0.000318      0.054209   \n",
       "alpha_1.7000000000000002_p_1.0       0.005896      0.000322      0.054531   \n",
       "alpha_1.8_p_1.0                      0.005923      0.000325      0.054821   \n",
       "alpha_1.9000000000000001_p_1.0       0.005946      0.000328      0.055082   \n",
       "alpha_2.0_p_1.0                      0.005968      0.000330      0.055318   \n",
       "\n",
       "                                ave_mse_test  sd_mse_test  cv_mse_test   \n",
       "alpha_0.1_p_3.0                     0.000110     0.000018     0.168268  \\\n",
       "alpha_0.1_p_2.9                     0.000112     0.000017     0.151699   \n",
       "alpha_0.1_p_2.8                     0.000115     0.000016     0.137524   \n",
       "alpha_0.0_p_3.0                     0.000116     0.000060     0.515410   \n",
       "alpha_0.2_p_3.0                     0.000116     0.000015     0.129277   \n",
       "...                                      ...          ...          ...   \n",
       "alpha_1.6_p_1.0                     0.003593     0.000625     0.173978   \n",
       "alpha_1.7000000000000002_p_1.0      0.003616     0.000629     0.173889   \n",
       "alpha_1.8_p_1.0                     0.003638     0.000632     0.173828   \n",
       "alpha_1.9000000000000001_p_1.0      0.003657     0.000635     0.173775   \n",
       "alpha_2.0_p_1.0                     0.003674     0.000638     0.173730   \n",
       "\n",
       "                                ave_d2_train  sd_d2_train  cv_d2_train   \n",
       "alpha_0.1_p_3.0                     0.918443     0.019077     0.020771  \\\n",
       "alpha_0.1_p_2.9                     0.926452     0.015952     0.017219   \n",
       "alpha_0.1_p_2.8                     0.933716     0.013150     0.014083   \n",
       "alpha_0.0_p_3.0                     0.918708     0.019105     0.020796   \n",
       "alpha_0.2_p_3.0                     0.917927     0.018972     0.020668   \n",
       "...                                      ...          ...          ...   \n",
       "alpha_1.6_p_1.0                     0.089100     0.003055     0.034291   \n",
       "alpha_1.7000000000000002_p_1.0      0.084322     0.002910     0.034506   \n",
       "alpha_1.8_p_1.0                     0.080027     0.002775     0.034677   \n",
       "alpha_1.9000000000000001_p_1.0      0.076147     0.002653     0.034837   \n",
       "alpha_2.0_p_1.0                     0.072625     0.002541     0.034985   \n",
       "\n",
       "                                ave_d2_test  sd_d2_test  cv_d2_test  alpha   \n",
       "alpha_0.1_p_3.0                    0.689705    0.009541    0.013833    0.1  \\\n",
       "alpha_0.1_p_2.9                    0.720718    0.010671    0.014805    0.1   \n",
       "alpha_0.1_p_2.8                    0.750525    0.011859    0.015800    0.1   \n",
       "alpha_0.0_p_3.0                    0.686524    0.008979    0.013079    0.0   \n",
       "alpha_0.2_p_3.0                    0.692154    0.010090    0.014578    0.2   \n",
       "...                                     ...         ...         ...    ...   \n",
       "alpha_1.6_p_1.0                   -0.698233    0.032739   -0.046888    1.6   \n",
       "alpha_1.7000000000000002_p_1.0    -0.705216    0.032719   -0.046395    1.7   \n",
       "alpha_1.8_p_1.0                   -0.711512    0.032722   -0.045990    1.8   \n",
       "alpha_1.9000000000000001_p_1.0    -0.717206    0.032726   -0.045629    1.9   \n",
       "alpha_2.0_p_1.0                   -0.722376    0.032731   -0.045311    2.0   \n",
       "\n",
       "                                  p  \n",
       "alpha_0.1_p_3.0                 3.0  \n",
       "alpha_0.1_p_2.9                 2.9  \n",
       "alpha_0.1_p_2.8                 2.8  \n",
       "alpha_0.0_p_3.0                 3.0  \n",
       "alpha_0.2_p_3.0                 3.0  \n",
       "...                             ...  \n",
       "alpha_1.6_p_1.0                 1.0  \n",
       "alpha_1.7000000000000002_p_1.0  1.0  \n",
       "alpha_1.8_p_1.0                 1.0  \n",
       "alpha_1.9000000000000001_p_1.0  1.0  \n",
       "alpha_2.0_p_1.0                 1.0  \n",
       "\n",
       "[441 rows x 14 columns]"
      ]
     },
     "execution_count": 269,
     "metadata": {},
     "output_type": "execute_result"
    }
   ],
   "source": [
    "cv.tweedie_result.sort_values('ave_mse_test')"
   ]
  },
  {
   "cell_type": "code",
   "execution_count": 219,
   "metadata": {},
   "outputs": [
    {
     "data": {
      "text/html": [
       "<div>\n",
       "<style scoped>\n",
       "    .dataframe tbody tr th:only-of-type {\n",
       "        vertical-align: middle;\n",
       "    }\n",
       "\n",
       "    .dataframe tbody tr th {\n",
       "        vertical-align: top;\n",
       "    }\n",
       "\n",
       "    .dataframe thead th {\n",
       "        text-align: right;\n",
       "    }\n",
       "</style>\n",
       "<table border=\"1\" class=\"dataframe\">\n",
       "  <thead>\n",
       "    <tr style=\"text-align: right;\">\n",
       "      <th></th>\n",
       "      <th>alpha_0.1_p_2.4</th>\n",
       "      <th>alpha_0.1_p_2.5</th>\n",
       "      <th>alpha_0.1_p_2.6</th>\n",
       "      <th>alpha_0.2_p_2.8</th>\n",
       "      <th>alpha_0.2_p_2.9</th>\n",
       "      <th>alpha_0.2_p_2.7</th>\n",
       "      <th>alpha_0.1_p_2.7</th>\n",
       "      <th>alpha_0.2_p_3.0</th>\n",
       "      <th>alpha_0.1_p_2.3</th>\n",
       "      <th>alpha_0.30000000000000004_p_3.0</th>\n",
       "      <th>...</th>\n",
       "      <th>alpha_1.8_p_1.1</th>\n",
       "      <th>alpha_1.4000000000000001_p_1.0</th>\n",
       "      <th>alpha_1.9000000000000001_p_1.1</th>\n",
       "      <th>alpha_2.0_p_1.1</th>\n",
       "      <th>alpha_1.5_p_1.0</th>\n",
       "      <th>alpha_1.6_p_1.0</th>\n",
       "      <th>alpha_1.7000000000000002_p_1.0</th>\n",
       "      <th>alpha_1.8_p_1.0</th>\n",
       "      <th>alpha_1.9000000000000001_p_1.0</th>\n",
       "      <th>alpha_2.0_p_1.0</th>\n",
       "    </tr>\n",
       "  </thead>\n",
       "  <tbody>\n",
       "    <tr>\n",
       "      <th>ave_mse_train</th>\n",
       "      <td>2.978066e-04</td>\n",
       "      <td>3.198087e-04</td>\n",
       "      <td>3.679250e-04</td>\n",
       "      <td>4.630627e-04</td>\n",
       "      <td>5.473972e-04</td>\n",
       "      <td>4.097326e-04</td>\n",
       "      <td>4.412130e-04</td>\n",
       "      <td>6.592913e-04</td>\n",
       "      <td>3.012995e-04</td>\n",
       "      <td>5.952825e-04</td>\n",
       "      <td>...</td>\n",
       "      <td>0.005795</td>\n",
       "      <td>0.005797</td>\n",
       "      <td>0.005824</td>\n",
       "      <td>0.005851</td>\n",
       "      <td>0.005834</td>\n",
       "      <td>0.005867</td>\n",
       "      <td>0.005896</td>\n",
       "      <td>0.005923</td>\n",
       "      <td>0.005946</td>\n",
       "      <td>0.005968</td>\n",
       "    </tr>\n",
       "    <tr>\n",
       "      <th>sd_mse_train</th>\n",
       "      <td>1.951462e-05</td>\n",
       "      <td>3.318946e-05</td>\n",
       "      <td>5.428135e-05</td>\n",
       "      <td>8.097555e-05</td>\n",
       "      <td>1.239072e-04</td>\n",
       "      <td>5.019819e-05</td>\n",
       "      <td>8.454232e-05</td>\n",
       "      <td>1.793093e-04</td>\n",
       "      <td>1.185931e-05</td>\n",
       "      <td>1.399271e-04</td>\n",
       "      <td>...</td>\n",
       "      <td>0.000314</td>\n",
       "      <td>0.000310</td>\n",
       "      <td>0.000317</td>\n",
       "      <td>0.000320</td>\n",
       "      <td>0.000314</td>\n",
       "      <td>0.000318</td>\n",
       "      <td>0.000322</td>\n",
       "      <td>0.000325</td>\n",
       "      <td>0.000328</td>\n",
       "      <td>0.000330</td>\n",
       "    </tr>\n",
       "    <tr>\n",
       "      <th>cv_mse_train</th>\n",
       "      <td>6.552782e-02</td>\n",
       "      <td>1.037791e-01</td>\n",
       "      <td>1.475337e-01</td>\n",
       "      <td>1.748695e-01</td>\n",
       "      <td>2.263571e-01</td>\n",
       "      <td>1.225145e-01</td>\n",
       "      <td>1.916134e-01</td>\n",
       "      <td>2.719728e-01</td>\n",
       "      <td>3.936053e-02</td>\n",
       "      <td>2.350600e-01</td>\n",
       "      <td>...</td>\n",
       "      <td>0.054215</td>\n",
       "      <td>0.053422</td>\n",
       "      <td>0.054511</td>\n",
       "      <td>0.054772</td>\n",
       "      <td>0.053836</td>\n",
       "      <td>0.054209</td>\n",
       "      <td>0.054531</td>\n",
       "      <td>0.054821</td>\n",
       "      <td>0.055082</td>\n",
       "      <td>0.055318</td>\n",
       "    </tr>\n",
       "    <tr>\n",
       "      <th>ave_mse_test</th>\n",
       "      <td>1.312684e-04</td>\n",
       "      <td>1.263688e-04</td>\n",
       "      <td>1.221007e-04</td>\n",
       "      <td>1.227905e-04</td>\n",
       "      <td>1.193238e-04</td>\n",
       "      <td>1.264005e-04</td>\n",
       "      <td>1.182694e-04</td>\n",
       "      <td>1.162075e-04</td>\n",
       "      <td>1.368026e-04</td>\n",
       "      <td>1.197669e-04</td>\n",
       "      <td>...</td>\n",
       "      <td>0.003498</td>\n",
       "      <td>0.003537</td>\n",
       "      <td>0.003523</td>\n",
       "      <td>0.003545</td>\n",
       "      <td>0.003567</td>\n",
       "      <td>0.003593</td>\n",
       "      <td>0.003616</td>\n",
       "      <td>0.003638</td>\n",
       "      <td>0.003657</td>\n",
       "      <td>0.003674</td>\n",
       "    </tr>\n",
       "    <tr>\n",
       "      <th>sd_mse_test</th>\n",
       "      <td>1.260809e-05</td>\n",
       "      <td>1.313256e-05</td>\n",
       "      <td>1.383507e-05</td>\n",
       "      <td>1.398045e-05</td>\n",
       "      <td>1.440234e-05</td>\n",
       "      <td>1.363907e-05</td>\n",
       "      <td>1.474471e-05</td>\n",
       "      <td>1.502295e-05</td>\n",
       "      <td>1.287674e-05</td>\n",
       "      <td>1.489417e-05</td>\n",
       "      <td>...</td>\n",
       "      <td>0.000615</td>\n",
       "      <td>0.000616</td>\n",
       "      <td>0.000619</td>\n",
       "      <td>0.000623</td>\n",
       "      <td>0.000622</td>\n",
       "      <td>0.000625</td>\n",
       "      <td>0.000629</td>\n",
       "      <td>0.000632</td>\n",
       "      <td>0.000635</td>\n",
       "      <td>0.000638</td>\n",
       "    </tr>\n",
       "    <tr>\n",
       "      <th>cv_mse_test</th>\n",
       "      <td>9.604824e-02</td>\n",
       "      <td>1.039225e-01</td>\n",
       "      <td>1.133087e-01</td>\n",
       "      <td>1.138561e-01</td>\n",
       "      <td>1.206996e-01</td>\n",
       "      <td>1.079036e-01</td>\n",
       "      <td>1.246706e-01</td>\n",
       "      <td>1.292769e-01</td>\n",
       "      <td>9.412640e-02</td>\n",
       "      <td>1.243597e-01</td>\n",
       "      <td>...</td>\n",
       "      <td>0.175667</td>\n",
       "      <td>0.174213</td>\n",
       "      <td>0.175659</td>\n",
       "      <td>0.175631</td>\n",
       "      <td>0.174249</td>\n",
       "      <td>0.173978</td>\n",
       "      <td>0.173889</td>\n",
       "      <td>0.173828</td>\n",
       "      <td>0.173775</td>\n",
       "      <td>0.173730</td>\n",
       "    </tr>\n",
       "    <tr>\n",
       "      <th>ave_d2_train</th>\n",
       "      <td>9.534356e-01</td>\n",
       "      <td>9.499945e-01</td>\n",
       "      <td>9.455612e-01</td>\n",
       "      <td>9.321788e-01</td>\n",
       "      <td>9.255419e-01</td>\n",
       "      <td>9.376865e-01</td>\n",
       "      <td>9.401186e-01</td>\n",
       "      <td>9.179267e-01</td>\n",
       "      <td>9.559144e-01</td>\n",
       "      <td>9.172747e-01</td>\n",
       "      <td>...</td>\n",
       "      <td>0.100129</td>\n",
       "      <td>0.100488</td>\n",
       "      <td>0.095399</td>\n",
       "      <td>0.091093</td>\n",
       "      <td>0.094451</td>\n",
       "      <td>0.089100</td>\n",
       "      <td>0.084322</td>\n",
       "      <td>0.080027</td>\n",
       "      <td>0.076147</td>\n",
       "      <td>0.072625</td>\n",
       "    </tr>\n",
       "    <tr>\n",
       "      <th>sd_d2_train</th>\n",
       "      <td>4.747504e-03</td>\n",
       "      <td>6.471718e-03</td>\n",
       "      <td>8.435010e-03</td>\n",
       "      <td>1.282376e-02</td>\n",
       "      <td>1.575975e-02</td>\n",
       "      <td>1.014446e-02</td>\n",
       "      <td>1.065111e-02</td>\n",
       "      <td>1.897190e-02</td>\n",
       "      <td>3.274384e-03</td>\n",
       "      <td>1.880926e-02</td>\n",
       "      <td>...</td>\n",
       "      <td>0.002440</td>\n",
       "      <td>0.003406</td>\n",
       "      <td>0.002322</td>\n",
       "      <td>0.002225</td>\n",
       "      <td>0.003219</td>\n",
       "      <td>0.003055</td>\n",
       "      <td>0.002910</td>\n",
       "      <td>0.002775</td>\n",
       "      <td>0.002653</td>\n",
       "      <td>0.002541</td>\n",
       "    </tr>\n",
       "    <tr>\n",
       "      <th>cv_d2_train</th>\n",
       "      <td>4.979366e-03</td>\n",
       "      <td>6.812374e-03</td>\n",
       "      <td>8.920639e-03</td>\n",
       "      <td>1.375676e-02</td>\n",
       "      <td>1.702759e-02</td>\n",
       "      <td>1.081860e-02</td>\n",
       "      <td>1.132954e-02</td>\n",
       "      <td>2.066821e-02</td>\n",
       "      <td>3.425395e-03</td>\n",
       "      <td>2.050559e-02</td>\n",
       "      <td>...</td>\n",
       "      <td>0.024371</td>\n",
       "      <td>0.033896</td>\n",
       "      <td>0.024343</td>\n",
       "      <td>0.024429</td>\n",
       "      <td>0.034081</td>\n",
       "      <td>0.034291</td>\n",
       "      <td>0.034506</td>\n",
       "      <td>0.034677</td>\n",
       "      <td>0.034837</td>\n",
       "      <td>0.034985</td>\n",
       "    </tr>\n",
       "    <tr>\n",
       "      <th>ave_d2_test</th>\n",
       "      <td>8.465489e-01</td>\n",
       "      <td>8.273817e-01</td>\n",
       "      <td>8.045323e-01</td>\n",
       "      <td>7.533266e-01</td>\n",
       "      <td>7.235269e-01</td>\n",
       "      <td>7.807617e-01</td>\n",
       "      <td>7.786730e-01</td>\n",
       "      <td>6.921544e-01</td>\n",
       "      <td>8.614300e-01</td>\n",
       "      <td>6.940843e-01</td>\n",
       "      <td>...</td>\n",
       "      <td>-0.634044</td>\n",
       "      <td>-0.681782</td>\n",
       "      <td>-0.640844</td>\n",
       "      <td>-0.646971</td>\n",
       "      <td>-0.690554</td>\n",
       "      <td>-0.698233</td>\n",
       "      <td>-0.705216</td>\n",
       "      <td>-0.711512</td>\n",
       "      <td>-0.717206</td>\n",
       "      <td>-0.722376</td>\n",
       "    </tr>\n",
       "    <tr>\n",
       "      <th>sd_d2_test</th>\n",
       "      <td>1.232117e-02</td>\n",
       "      <td>1.301419e-02</td>\n",
       "      <td>1.318304e-02</td>\n",
       "      <td>1.281231e-02</td>\n",
       "      <td>1.150672e-02</td>\n",
       "      <td>1.364833e-02</td>\n",
       "      <td>1.276309e-02</td>\n",
       "      <td>1.009024e-02</td>\n",
       "      <td>1.153130e-02</td>\n",
       "      <td>1.061645e-02</td>\n",
       "      <td>...</td>\n",
       "      <td>0.030971</td>\n",
       "      <td>0.032767</td>\n",
       "      <td>0.030949</td>\n",
       "      <td>0.031052</td>\n",
       "      <td>0.032963</td>\n",
       "      <td>0.032739</td>\n",
       "      <td>0.032719</td>\n",
       "      <td>0.032722</td>\n",
       "      <td>0.032726</td>\n",
       "      <td>0.032731</td>\n",
       "    </tr>\n",
       "    <tr>\n",
       "      <th>cv_d2_test</th>\n",
       "      <td>1.455458e-02</td>\n",
       "      <td>1.572937e-02</td>\n",
       "      <td>1.638596e-02</td>\n",
       "      <td>1.700764e-02</td>\n",
       "      <td>1.590365e-02</td>\n",
       "      <td>1.748078e-02</td>\n",
       "      <td>1.639082e-02</td>\n",
       "      <td>1.457802e-02</td>\n",
       "      <td>1.338623e-02</td>\n",
       "      <td>1.529562e-02</td>\n",
       "      <td>...</td>\n",
       "      <td>-0.048847</td>\n",
       "      <td>-0.048061</td>\n",
       "      <td>-0.048293</td>\n",
       "      <td>-0.047996</td>\n",
       "      <td>-0.047735</td>\n",
       "      <td>-0.046888</td>\n",
       "      <td>-0.046395</td>\n",
       "      <td>-0.045990</td>\n",
       "      <td>-0.045629</td>\n",
       "      <td>-0.045311</td>\n",
       "    </tr>\n",
       "    <tr>\n",
       "      <th>sortby</th>\n",
       "      <td>1.655044e-09</td>\n",
       "      <td>1.659546e-09</td>\n",
       "      <td>1.689272e-09</td>\n",
       "      <td>1.716666e-09</td>\n",
       "      <td>1.718542e-09</td>\n",
       "      <td>1.723984e-09</td>\n",
       "      <td>1.743848e-09</td>\n",
       "      <td>1.745780e-09</td>\n",
       "      <td>1.761572e-09</td>\n",
       "      <td>1.783828e-09</td>\n",
       "      <td>...</td>\n",
       "      <td>0.000002</td>\n",
       "      <td>0.000002</td>\n",
       "      <td>0.000002</td>\n",
       "      <td>0.000002</td>\n",
       "      <td>0.000002</td>\n",
       "      <td>0.000002</td>\n",
       "      <td>0.000002</td>\n",
       "      <td>0.000002</td>\n",
       "      <td>0.000002</td>\n",
       "      <td>0.000002</td>\n",
       "    </tr>\n",
       "  </tbody>\n",
       "</table>\n",
       "<p>13 rows × 441 columns</p>\n",
       "</div>"
      ],
      "text/plain": [
       "               alpha_0.1_p_2.4  alpha_0.1_p_2.5  alpha_0.1_p_2.6   \n",
       "ave_mse_train     2.978066e-04     3.198087e-04     3.679250e-04  \\\n",
       "sd_mse_train      1.951462e-05     3.318946e-05     5.428135e-05   \n",
       "cv_mse_train      6.552782e-02     1.037791e-01     1.475337e-01   \n",
       "ave_mse_test      1.312684e-04     1.263688e-04     1.221007e-04   \n",
       "sd_mse_test       1.260809e-05     1.313256e-05     1.383507e-05   \n",
       "cv_mse_test       9.604824e-02     1.039225e-01     1.133087e-01   \n",
       "ave_d2_train      9.534356e-01     9.499945e-01     9.455612e-01   \n",
       "sd_d2_train       4.747504e-03     6.471718e-03     8.435010e-03   \n",
       "cv_d2_train       4.979366e-03     6.812374e-03     8.920639e-03   \n",
       "ave_d2_test       8.465489e-01     8.273817e-01     8.045323e-01   \n",
       "sd_d2_test        1.232117e-02     1.301419e-02     1.318304e-02   \n",
       "cv_d2_test        1.455458e-02     1.572937e-02     1.638596e-02   \n",
       "sortby            1.655044e-09     1.659546e-09     1.689272e-09   \n",
       "\n",
       "               alpha_0.2_p_2.8  alpha_0.2_p_2.9  alpha_0.2_p_2.7   \n",
       "ave_mse_train     4.630627e-04     5.473972e-04     4.097326e-04  \\\n",
       "sd_mse_train      8.097555e-05     1.239072e-04     5.019819e-05   \n",
       "cv_mse_train      1.748695e-01     2.263571e-01     1.225145e-01   \n",
       "ave_mse_test      1.227905e-04     1.193238e-04     1.264005e-04   \n",
       "sd_mse_test       1.398045e-05     1.440234e-05     1.363907e-05   \n",
       "cv_mse_test       1.138561e-01     1.206996e-01     1.079036e-01   \n",
       "ave_d2_train      9.321788e-01     9.255419e-01     9.376865e-01   \n",
       "sd_d2_train       1.282376e-02     1.575975e-02     1.014446e-02   \n",
       "cv_d2_train       1.375676e-02     1.702759e-02     1.081860e-02   \n",
       "ave_d2_test       7.533266e-01     7.235269e-01     7.807617e-01   \n",
       "sd_d2_test        1.281231e-02     1.150672e-02     1.364833e-02   \n",
       "cv_d2_test        1.700764e-02     1.590365e-02     1.748078e-02   \n",
       "sortby            1.716666e-09     1.718542e-09     1.723984e-09   \n",
       "\n",
       "               alpha_0.1_p_2.7  alpha_0.2_p_3.0  alpha_0.1_p_2.3   \n",
       "ave_mse_train     4.412130e-04     6.592913e-04     3.012995e-04  \\\n",
       "sd_mse_train      8.454232e-05     1.793093e-04     1.185931e-05   \n",
       "cv_mse_train      1.916134e-01     2.719728e-01     3.936053e-02   \n",
       "ave_mse_test      1.182694e-04     1.162075e-04     1.368026e-04   \n",
       "sd_mse_test       1.474471e-05     1.502295e-05     1.287674e-05   \n",
       "cv_mse_test       1.246706e-01     1.292769e-01     9.412640e-02   \n",
       "ave_d2_train      9.401186e-01     9.179267e-01     9.559144e-01   \n",
       "sd_d2_train       1.065111e-02     1.897190e-02     3.274384e-03   \n",
       "cv_d2_train       1.132954e-02     2.066821e-02     3.425395e-03   \n",
       "ave_d2_test       7.786730e-01     6.921544e-01     8.614300e-01   \n",
       "sd_d2_test        1.276309e-02     1.009024e-02     1.153130e-02   \n",
       "cv_d2_test        1.639082e-02     1.457802e-02     1.338623e-02   \n",
       "sortby            1.743848e-09     1.745780e-09     1.761572e-09   \n",
       "\n",
       "               alpha_0.30000000000000004_p_3.0  ...  alpha_1.8_p_1.1   \n",
       "ave_mse_train                     5.952825e-04  ...         0.005795  \\\n",
       "sd_mse_train                      1.399271e-04  ...         0.000314   \n",
       "cv_mse_train                      2.350600e-01  ...         0.054215   \n",
       "ave_mse_test                      1.197669e-04  ...         0.003498   \n",
       "sd_mse_test                       1.489417e-05  ...         0.000615   \n",
       "cv_mse_test                       1.243597e-01  ...         0.175667   \n",
       "ave_d2_train                      9.172747e-01  ...         0.100129   \n",
       "sd_d2_train                       1.880926e-02  ...         0.002440   \n",
       "cv_d2_train                       2.050559e-02  ...         0.024371   \n",
       "ave_d2_test                       6.940843e-01  ...        -0.634044   \n",
       "sd_d2_test                        1.061645e-02  ...         0.030971   \n",
       "cv_d2_test                        1.529562e-02  ...        -0.048847   \n",
       "sortby                            1.783828e-09  ...         0.000002   \n",
       "\n",
       "               alpha_1.4000000000000001_p_1.0  alpha_1.9000000000000001_p_1.1   \n",
       "ave_mse_train                        0.005797                        0.005824  \\\n",
       "sd_mse_train                         0.000310                        0.000317   \n",
       "cv_mse_train                         0.053422                        0.054511   \n",
       "ave_mse_test                         0.003537                        0.003523   \n",
       "sd_mse_test                          0.000616                        0.000619   \n",
       "cv_mse_test                          0.174213                        0.175659   \n",
       "ave_d2_train                         0.100488                        0.095399   \n",
       "sd_d2_train                          0.003406                        0.002322   \n",
       "cv_d2_train                          0.033896                        0.024343   \n",
       "ave_d2_test                         -0.681782                       -0.640844   \n",
       "sd_d2_test                           0.032767                        0.030949   \n",
       "cv_d2_test                          -0.048061                       -0.048293   \n",
       "sortby                               0.000002                        0.000002   \n",
       "\n",
       "               alpha_2.0_p_1.1  alpha_1.5_p_1.0  alpha_1.6_p_1.0   \n",
       "ave_mse_train         0.005851         0.005834         0.005867  \\\n",
       "sd_mse_train          0.000320         0.000314         0.000318   \n",
       "cv_mse_train          0.054772         0.053836         0.054209   \n",
       "ave_mse_test          0.003545         0.003567         0.003593   \n",
       "sd_mse_test           0.000623         0.000622         0.000625   \n",
       "cv_mse_test           0.175631         0.174249         0.173978   \n",
       "ave_d2_train          0.091093         0.094451         0.089100   \n",
       "sd_d2_train           0.002225         0.003219         0.003055   \n",
       "cv_d2_train           0.024429         0.034081         0.034291   \n",
       "ave_d2_test          -0.646971        -0.690554        -0.698233   \n",
       "sd_d2_test            0.031052         0.032963         0.032739   \n",
       "cv_d2_test           -0.047996        -0.047735        -0.046888   \n",
       "sortby                0.000002         0.000002         0.000002   \n",
       "\n",
       "               alpha_1.7000000000000002_p_1.0  alpha_1.8_p_1.0   \n",
       "ave_mse_train                        0.005896         0.005923  \\\n",
       "sd_mse_train                         0.000322         0.000325   \n",
       "cv_mse_train                         0.054531         0.054821   \n",
       "ave_mse_test                         0.003616         0.003638   \n",
       "sd_mse_test                          0.000629         0.000632   \n",
       "cv_mse_test                          0.173889         0.173828   \n",
       "ave_d2_train                         0.084322         0.080027   \n",
       "sd_d2_train                          0.002910         0.002775   \n",
       "cv_d2_train                          0.034506         0.034677   \n",
       "ave_d2_test                         -0.705216        -0.711512   \n",
       "sd_d2_test                           0.032719         0.032722   \n",
       "cv_d2_test                          -0.046395        -0.045990   \n",
       "sortby                               0.000002         0.000002   \n",
       "\n",
       "               alpha_1.9000000000000001_p_1.0  alpha_2.0_p_1.0  \n",
       "ave_mse_train                        0.005946         0.005968  \n",
       "sd_mse_train                         0.000328         0.000330  \n",
       "cv_mse_train                         0.055082         0.055318  \n",
       "ave_mse_test                         0.003657         0.003674  \n",
       "sd_mse_test                          0.000635         0.000638  \n",
       "cv_mse_test                          0.173775         0.173730  \n",
       "ave_d2_train                         0.076147         0.072625  \n",
       "sd_d2_train                          0.002653         0.002541  \n",
       "cv_d2_train                          0.034837         0.034985  \n",
       "ave_d2_test                         -0.717206        -0.722376  \n",
       "sd_d2_test                           0.032726         0.032731  \n",
       "cv_d2_test                          -0.045629        -0.045311  \n",
       "sortby                               0.000002         0.000002  \n",
       "\n",
       "[13 rows x 441 columns]"
      ]
     },
     "execution_count": 219,
     "metadata": {},
     "output_type": "execute_result"
    }
   ],
   "source": [
    "cv.tweedie_result.assign(sortby=cv.tweedie_result['ave_mse_test'] * cv.tweedie_result['sd_mse_test']).sort_values('sortby').T"
   ]
  },
  {
   "cell_type": "code",
   "execution_count": 39,
   "metadata": {},
   "outputs": [
    {
     "name": "stdout",
     "output_type": "stream",
     "text": [
      "Calendar periods from 19 to 20\n",
      "Number of models: 432\n"
     ]
    },
    {
     "data": {
      "application/vnd.jupyter.widget-view+json": {
       "model_id": "d7dc162a320b457c9e9a03ad44204555",
       "version_major": 2,
       "version_minor": 0
      },
      "text/plain": [
       "0it [00:00, ?it/s]"
      ]
     },
     "metadata": {},
     "output_type": "display_data"
    },
    {
     "name": "stdout",
     "output_type": "stream",
     "text": [
      "Calendar periods from 18 to 20\n",
      "Number of models: 432\n"
     ]
    },
    {
     "data": {
      "application/vnd.jupyter.widget-view+json": {
       "model_id": "238d3453e0884dbca09aa101159aac05",
       "version_major": 2,
       "version_minor": 0
      },
      "text/plain": [
       "0it [00:00, ?it/s]"
      ]
     },
     "metadata": {},
     "output_type": "display_data"
    },
    {
     "name": "stdout",
     "output_type": "stream",
     "text": [
      "Calendar periods from 17 to 20\n",
      "Number of models: 432\n"
     ]
    },
    {
     "data": {
      "application/vnd.jupyter.widget-view+json": {
       "model_id": "6e86bf7bd56b410381572c59aad52bec",
       "version_major": 2,
       "version_minor": 0
      },
      "text/plain": [
       "0it [00:00, ?it/s]"
      ]
     },
     "metadata": {},
     "output_type": "display_data"
    },
    {
     "name": "stdout",
     "output_type": "stream",
     "text": [
      "Calendar periods from 16 to 20\n",
      "Number of models: 432\n"
     ]
    },
    {
     "data": {
      "application/vnd.jupyter.widget-view+json": {
       "model_id": "ff5e4a26863a43f4bcfbd025959efdef",
       "version_major": 2,
       "version_minor": 0
      },
      "text/plain": [
       "0it [00:00, ?it/s]"
      ]
     },
     "metadata": {},
     "output_type": "display_data"
    },
    {
     "name": "stdout",
     "output_type": "stream",
     "text": [
      "Calendar periods from 15 to 20\n",
      "Number of models: 432\n"
     ]
    },
    {
     "data": {
      "application/vnd.jupyter.widget-view+json": {
       "model_id": "c314b893abd54e14be70894c0e106b97",
       "version_major": 2,
       "version_minor": 0
      },
      "text/plain": [
       "0it [00:00, ?it/s]"
      ]
     },
     "metadata": {},
     "output_type": "display_data"
    }
   ],
   "source": [
    "xgb_models = {}\n",
    "xgb_scores = {}\n",
    "xgb_df_dict = {}\n",
    "\n",
    "\n",
    "# for a, p in itertools.product(tweedie_grid['alpha'], tweedie_grid['power']):\n",
    "#     tweedie_name = f'TweedieRegressor_Alpha-{a}_P-{p}'\n",
    "#     models[tweedie_name] = {}\n",
    "#     scores[tweedie_name] = {}\n",
    "#     df_dict[tweedie_name] = {'alpha': a, 'power': p, 'model': 'TweedieRegressor'}\n",
    "\n",
    "xgb_grid = {\n",
    "    'n_estimators': [50, 100, 200, 300],\n",
    "    'max_depth': [3, 4, 5],\n",
    "    'learning_rate': [0.1, 0.2, 0.3],\n",
    "    'reg_lambda': [0],\n",
    "    'reg_alpha': [0],\n",
    "    'gamma': [0, 0.1, 0.5, 1],\n",
    "    'subsample': [0.5, 0.75, 1],\n",
    "}\n",
    "\n",
    "def xgb_name(n, d, l, la, a, g, s):\n",
    "    return f'XGBRegressor_nEstimators-{n}_MaxDepth-{d}_LearnRt-{l}_Lambda-{la}_Alpha-{a}_Gamma-{g}_Subsample-{s}'\n",
    "\n",
    "for n, d, l, la, a, g, s in itertools.product(xgb_grid['n_estimators'], xgb_grid['max_depth'], xgb_grid['learning_rate'], xgb_grid['reg_lambda'], xgb_grid['reg_alpha'], xgb_grid['gamma'], xgb_grid['subsample']):\n",
    "    nm = xgb_name(n, d, l, la, a, g, s)\n",
    "    xgb_models[nm] = {}\n",
    "    xgb_scores[nm] = {}\n",
    "    xgb_df_dict[nm] = {'n_estimators': n, 'max_depth': d, 'learning_rate': l, 'reg_lambda': la, 'reg_alpha': a, 'gamma': g, 'subsample': s, 'model': 'XGBRegressor'}\n",
    "    \n",
    "\n",
    "for train, test in cv.GetSplit():\n",
    "    X_train = r.paid_loss.get_X_base().iloc[train]\n",
    "    y_train = r.paid_loss.get_y_base().iloc[train]\n",
    "    X_id_train = r.paid_loss.get_X_id().iloc[train]\n",
    "    \n",
    "    X_test = r.paid_loss.get_X_base().iloc[test]\n",
    "    y_test = r.paid_loss.get_y_base().iloc[test]\n",
    "    X_id_test = r.paid_loss.get_X_id().iloc[test]\n",
    "\n",
    "    print(f\"Calendar periods from {X_id_test.cal.min()} to {X_id_test.cal.max()}\")\n",
    "\n",
    "    total_len = 1\n",
    "    for k in xgb_grid.keys():\n",
    "        total_len *= len(xgb_grid[k])\n",
    "\n",
    "    print(f\"Number of models: {total_len}\")  \n",
    "\n",
    "    for n, d, l, la, a, g, s in tqdm(itertools.product(xgb_grid['n_estimators'], xgb_grid['max_depth'], xgb_grid['learning_rate'], xgb_grid['reg_lambda'], xgb_grid['reg_alpha'], xgb_grid['gamma'], xgb_grid['subsample'])):\n",
    "        nm = xgb_name(n, d, l, la, a, g, s)\n",
    "        xgb_models[nm][f\"cy_{X_id_test.cal.min()}\"] = XGBRegressor(n_estimators=n, max_depth=d, learning_rate=l, reg_lambda=la, reg_alpha=a, gamma=g, subsample=s).fit(X_train, y_train)\n",
    "        xgb_scores[nm][f\"cy_{X_id_test.cal.min()}\"] = xgb_models[nm][f\"cy_{X_id_test.cal.min()}\"].score(X_test, y_test)\n",
    "        xgb_df_dict[nm][f\"cy_{X_id_test.cal.min()}_score\"] = xgb_scores[nm][f\"cy_{X_id_test.cal.min()}\"]\n",
    "        xgb_df_dict[nm][f\"cy_{X_id_test.cal.min()}_mse\"] = mean_squared_error(y_test, xgb_models[nm][f\"cy_{X_id_test.cal.min()}\"].predict(X_test))\n",
    "        xgb_df_dict[nm][f\"cy_{X_id_test.cal.min()}_mae\"] = mean_absolute_error(y_test, xgb_models[nm][f\"cy_{X_id_test.cal.min()}\"].predict(X_test))\n",
    "        \n",
    "\n",
    "    # TweedieRegressor\n",
    "    # print('\\nTWEEDIE REGRESSOR')\n",
    "    # print('-----------------')\n",
    "    # for a, p in itertools.product(tweedie_grid['alpha'], tweedie_grid['power']):\n",
    "    #     tweedie_name = f'TweedieRegressor_Alpha-{a}_P-{p}'\n",
    "    #     models[tweedie_name][f\"cy_{X_id_test.cal.min()}\"] = TweedieRegressor(alpha=a, power=p, max_iter=10000).fit(X_train, y_train)\n",
    "    #     scores[tweedie_name][f\"cy_{X_id_test.cal.min()}\"] = models[tweedie_name][f\"cy_{X_id_test.cal.min()}\"].score(X_test, y_test)\n",
    "    #     df_dict[tweedie_name][f\"cy_{X_id_test.cal.min()}_score\"] = scores[tweedie_name][f\"cy_{X_id_test.cal.min()}\"]\n",
    "    #     df_dict[tweedie_name][f\"cy_{X_id_test.cal.min()}_mse\"] = mean_squared_error(y_test, models[tweedie_name][f\"cy_{X_id_test.cal.min()}\"].predict(X_test))\n",
    "    #     # df_dict[tweedie_name][f\"cy_{X_id_test.cal.min()}_mean_sq_err\"] = mse_score(models[tweedie_name][f\"cy_{X_id_test.cal.min()}\"], X_test, y_test)\n",
    "    #     df_dict[tweedie_name][f\"cy_{X_id_test.cal.min()}_mae\"] = mean_absolute_error(y_test, models[tweedie_name][f\"cy_{X_id_test.cal.min()}\"].predict(X_test))\n",
    "    #     df_dict[tweedie_name][f\"cy_{X_id_test.cal.min()}_deviance\"] = mean_tweedie_deviance(y_test, models[tweedie_name][f\"cy_{X_id_test.cal.min()}\"].predict(X_test), power=p)\n",
    "    #     df_dict[tweedie_name][f\"cy_{X_id_test.cal.min()}_d2\"] = d2_tweedie_score(y_test, models[tweedie_name][f\"cy_{X_id_test.cal.min()}\"].predict(X_test), power=p)\n",
    "\n"
   ]
  },
  {
   "cell_type": "code",
   "execution_count": 63,
   "metadata": {},
   "outputs": [
    {
     "name": "stdout",
     "output_type": "stream",
     "text": [
      "Calendar periods from 19 to 20\n",
      "Calendar periods from 18 to 20\n",
      "Calendar periods from 17 to 20\n",
      "Calendar periods from 16 to 20\n",
      "Calendar periods from 15 to 20\n"
     ]
    }
   ],
   "source": [
    "\n",
    "mse_score = make_scorer(mean_squared_error, greater_is_better=False)\n",
    "mae_score = make_scorer(mean_absolute_error, greater_is_better=False)\n",
    "mt_dev_score = make_scorer(mean_tweedie_deviance, greater_is_better=False)\n",
    "d2_score = make_scorer(d2_tweedie_score, greater_is_better=True)\n",
    "\n",
    "models = {}\n",
    "scores = {}\n",
    "df_dict = {}\n",
    "\n",
    "tweedie_grid = {\n",
    "    'alpha': np.round(np.linspace(0, 2, 20), 3),\n",
    "    'power': [0, 1, 1.5, 1.8, 2, 2.5, 3],\n",
    "}\n",
    "\n",
    "for a, p in itertools.product(tweedie_grid['alpha'], tweedie_grid['power']):\n",
    "    tweedie_name = f'TweedieRegressor_Alpha-{a}_P-{p}'\n",
    "    models[tweedie_name] = {}\n",
    "    scores[tweedie_name] = {}\n",
    "    df_dict[tweedie_name] = {'alpha': a, 'power': p, 'model': 'TweedieRegressor'}\n",
    "\n",
    "xgb_grid = {\n",
    "    'n_estimators': [100, 200, 300],\n",
    "    'max_depth': [3, 4, 5],\n",
    "    'learning_rate': [0.1, 0.2, 0.3],\n",
    "    # 'booster': ['gbtree', 'gblinear', 'dart'],\n",
    "    'reg_lambda': [0, 0.1, 0.5, 1],\n",
    "    'reg_alpha': [0],\n",
    "    'gamma': [0, 0.1, 0.5, 1],\n",
    "    'min_child_weight': [0, 0.1, 0.5, 1],\n",
    "    'subsample': [0.5, 0.75, 1],\n",
    "}\n",
    "    \n",
    "\n",
    "for train, test in cv.GetSplit():\n",
    "    X_train = r.paid_loss.get_X_base().iloc[train]\n",
    "    y_train = r.paid_loss.get_y_base().iloc[train]\n",
    "    X_id_train = r.paid_loss.get_X_id().iloc[train]\n",
    "    \n",
    "    X_test = r.paid_loss.get_X_base().iloc[test]\n",
    "    y_test = r.paid_loss.get_y_base().iloc[test]\n",
    "    X_id_test = r.paid_loss.get_X_id().iloc[test]\n",
    "\n",
    "    print(f\"Calendar periods from {X_id_test.cal.min()} to {X_id_test.cal.max()}\")\n",
    "\n",
    "    # TweedieRegressor\n",
    "    # print('\\nTWEEDIE REGRESSOR')\n",
    "    # print('-----------------')\n",
    "    for a, p in itertools.product(tweedie_grid['alpha'], tweedie_grid['power']):\n",
    "        tweedie_name = f'TweedieRegressor_Alpha-{a}_P-{p}'\n",
    "        models[tweedie_name][f\"cy_{X_id_test.cal.min()}\"] = TweedieRegressor(alpha=a, power=p, max_iter=10000).fit(X_train, y_train)\n",
    "        scores[tweedie_name][f\"cy_{X_id_test.cal.min()}\"] = models[tweedie_name][f\"cy_{X_id_test.cal.min()}\"].score(X_test, y_test)\n",
    "        df_dict[tweedie_name][f\"cy_{X_id_test.cal.min()}_score\"] = scores[tweedie_name][f\"cy_{X_id_test.cal.min()}\"]\n",
    "        df_dict[tweedie_name][f\"cy_{X_id_test.cal.min()}_mse_train\"] = mean_squared_error(y_train, models[tweedie_name][f\"cy_{X_id_test.cal.min()}\"].predict(X_train))\n",
    "        df_dict[tweedie_name][f\"cy_{X_id_test.cal.min()}_mse_val\"] = mean_squared_error(y_test, models[tweedie_name][f\"cy_{X_id_test.cal.min()}\"].predict(X_test))\n",
    "        # df_dict[tweedie_name][f\"cy_{X_id_test.cal.min()}_mean_sq_err\"] = mse_score(models[tweedie_name][f\"cy_{X_id_test.cal.min()}\"], X_test, y_test)\n",
    "        # df_dict[tweedie_name][f\"cy_{X_id_test.cal.min()}_mae\"] = mean_absolute_error(y_test, models[tweedie_name][f\"cy_{X_id_test.cal.min()}\"].predict(X_test))\n",
    "        # df_dict[tweedie_name][f\"cy_{X_id_test.cal.min()}_deviance\"] = mean_tweedie_deviance(y_test, models[tweedie_name][f\"cy_{X_id_test.cal.min()}\"].predict(X_test), power=p)\n",
    "        df_dict[tweedie_name][f\"cy_{X_id_test.cal.min()}_d2_train\"] = d2_tweedie_score(y_train, models[tweedie_name][f\"cy_{X_id_test.cal.min()}\"].predict(X_train), power=p)\n",
    "        df_dict[tweedie_name][f\"cy_{X_id_test.cal.min()}_d2_val\"] = d2_tweedie_score(y_test, models[tweedie_name][f\"cy_{X_id_test.cal.min()}\"].predict(X_test), power=p)\n",
    "\n"
   ]
  },
  {
   "cell_type": "code",
   "execution_count": 41,
   "metadata": {},
   "outputs": [
    {
     "data": {
      "text/html": [
       "<div>\n",
       "<style scoped>\n",
       "    .dataframe tbody tr th:only-of-type {\n",
       "        vertical-align: middle;\n",
       "    }\n",
       "\n",
       "    .dataframe tbody tr th {\n",
       "        vertical-align: top;\n",
       "    }\n",
       "\n",
       "    .dataframe thead th {\n",
       "        text-align: right;\n",
       "    }\n",
       "</style>\n",
       "<table border=\"1\" class=\"dataframe\">\n",
       "  <thead>\n",
       "    <tr style=\"text-align: right;\">\n",
       "      <th></th>\n",
       "      <th>n_estimators</th>\n",
       "      <th>max_depth</th>\n",
       "      <th>learning_rate</th>\n",
       "      <th>reg_lambda</th>\n",
       "      <th>reg_alpha</th>\n",
       "      <th>gamma</th>\n",
       "      <th>subsample</th>\n",
       "      <th>model</th>\n",
       "      <th>cy_19_score</th>\n",
       "      <th>cy_19_mse</th>\n",
       "      <th>...</th>\n",
       "      <th>std_score</th>\n",
       "      <th>cv_score</th>\n",
       "      <th>ave_mse</th>\n",
       "      <th>median_mse</th>\n",
       "      <th>std_mse</th>\n",
       "      <th>cv_mse</th>\n",
       "      <th>ave_mae</th>\n",
       "      <th>median_mae</th>\n",
       "      <th>std_mae</th>\n",
       "      <th>cv_mae</th>\n",
       "    </tr>\n",
       "  </thead>\n",
       "  <tbody>\n",
       "    <tr>\n",
       "      <th>0</th>\n",
       "      <td>50</td>\n",
       "      <td>3</td>\n",
       "      <td>0.1</td>\n",
       "      <td>0</td>\n",
       "      <td>0</td>\n",
       "      <td>0</td>\n",
       "      <td>0.5</td>\n",
       "      <td>XGBRegressor</td>\n",
       "      <td>0.947162</td>\n",
       "      <td>0.000077</td>\n",
       "      <td>...</td>\n",
       "      <td>0.018892</td>\n",
       "      <td>0.020412</td>\n",
       "      <td>0.000135</td>\n",
       "      <td>0.000135</td>\n",
       "      <td>0.000031</td>\n",
       "      <td>0.231093</td>\n",
       "      <td>0.006841</td>\n",
       "      <td>0.006987</td>\n",
       "      <td>0.000695</td>\n",
       "      <td>0.101525</td>\n",
       "    </tr>\n",
       "    <tr>\n",
       "      <th>1</th>\n",
       "      <td>50</td>\n",
       "      <td>3</td>\n",
       "      <td>0.1</td>\n",
       "      <td>0</td>\n",
       "      <td>0</td>\n",
       "      <td>0</td>\n",
       "      <td>0.75</td>\n",
       "      <td>XGBRegressor</td>\n",
       "      <td>0.95206</td>\n",
       "      <td>0.00007</td>\n",
       "      <td>...</td>\n",
       "      <td>0.019942</td>\n",
       "      <td>0.021545</td>\n",
       "      <td>0.000136</td>\n",
       "      <td>0.000136</td>\n",
       "      <td>0.000035</td>\n",
       "      <td>0.254275</td>\n",
       "      <td>0.006864</td>\n",
       "      <td>0.007024</td>\n",
       "      <td>0.000755</td>\n",
       "      <td>0.109964</td>\n",
       "    </tr>\n",
       "    <tr>\n",
       "      <th>2</th>\n",
       "      <td>50</td>\n",
       "      <td>3</td>\n",
       "      <td>0.1</td>\n",
       "      <td>0</td>\n",
       "      <td>0</td>\n",
       "      <td>0</td>\n",
       "      <td>1</td>\n",
       "      <td>XGBRegressor</td>\n",
       "      <td>0.950881</td>\n",
       "      <td>0.000071</td>\n",
       "      <td>...</td>\n",
       "      <td>0.021626</td>\n",
       "      <td>0.02339</td>\n",
       "      <td>0.000137</td>\n",
       "      <td>0.000135</td>\n",
       "      <td>0.000036</td>\n",
       "      <td>0.261803</td>\n",
       "      <td>0.007145</td>\n",
       "      <td>0.007286</td>\n",
       "      <td>0.000712</td>\n",
       "      <td>0.099626</td>\n",
       "    </tr>\n",
       "    <tr>\n",
       "      <th>3</th>\n",
       "      <td>50</td>\n",
       "      <td>3</td>\n",
       "      <td>0.1</td>\n",
       "      <td>0</td>\n",
       "      <td>0</td>\n",
       "      <td>0.1</td>\n",
       "      <td>0.5</td>\n",
       "      <td>XGBRegressor</td>\n",
       "      <td>0.371814</td>\n",
       "      <td>0.000914</td>\n",
       "      <td>...</td>\n",
       "      <td>0.042739</td>\n",
       "      <td>0.122713</td>\n",
       "      <td>0.001204</td>\n",
       "      <td>0.001215</td>\n",
       "      <td>0.000225</td>\n",
       "      <td>0.186657</td>\n",
       "      <td>0.032779</td>\n",
       "      <td>0.03307</td>\n",
       "      <td>0.002725</td>\n",
       "      <td>0.083147</td>\n",
       "    </tr>\n",
       "    <tr>\n",
       "      <th>4</th>\n",
       "      <td>50</td>\n",
       "      <td>3</td>\n",
       "      <td>0.1</td>\n",
       "      <td>0</td>\n",
       "      <td>0</td>\n",
       "      <td>0.1</td>\n",
       "      <td>0.75</td>\n",
       "      <td>XGBRegressor</td>\n",
       "      <td>0.4324</td>\n",
       "      <td>0.000826</td>\n",
       "      <td>...</td>\n",
       "      <td>0.050394</td>\n",
       "      <td>0.123784</td>\n",
       "      <td>0.001099</td>\n",
       "      <td>0.001068</td>\n",
       "      <td>0.000229</td>\n",
       "      <td>0.208579</td>\n",
       "      <td>0.03143</td>\n",
       "      <td>0.031115</td>\n",
       "      <td>0.003084</td>\n",
       "      <td>0.098107</td>\n",
       "    </tr>\n",
       "    <tr>\n",
       "      <th>...</th>\n",
       "      <td>...</td>\n",
       "      <td>...</td>\n",
       "      <td>...</td>\n",
       "      <td>...</td>\n",
       "      <td>...</td>\n",
       "      <td>...</td>\n",
       "      <td>...</td>\n",
       "      <td>...</td>\n",
       "      <td>...</td>\n",
       "      <td>...</td>\n",
       "      <td>...</td>\n",
       "      <td>...</td>\n",
       "      <td>...</td>\n",
       "      <td>...</td>\n",
       "      <td>...</td>\n",
       "      <td>...</td>\n",
       "      <td>...</td>\n",
       "      <td>...</td>\n",
       "      <td>...</td>\n",
       "      <td>...</td>\n",
       "      <td>...</td>\n",
       "    </tr>\n",
       "    <tr>\n",
       "      <th>427</th>\n",
       "      <td>300</td>\n",
       "      <td>5</td>\n",
       "      <td>0.3</td>\n",
       "      <td>0</td>\n",
       "      <td>0</td>\n",
       "      <td>0.5</td>\n",
       "      <td>0.75</td>\n",
       "      <td>XGBRegressor</td>\n",
       "      <td>-0.337038</td>\n",
       "      <td>0.001945</td>\n",
       "      <td>...</td>\n",
       "      <td>0.081923</td>\n",
       "      <td>-0.246769</td>\n",
       "      <td>0.002457</td>\n",
       "      <td>0.002403</td>\n",
       "      <td>0.000441</td>\n",
       "      <td>0.179527</td>\n",
       "      <td>0.046696</td>\n",
       "      <td>0.046274</td>\n",
       "      <td>0.004001</td>\n",
       "      <td>0.085692</td>\n",
       "    </tr>\n",
       "    <tr>\n",
       "      <th>428</th>\n",
       "      <td>300</td>\n",
       "      <td>5</td>\n",
       "      <td>0.3</td>\n",
       "      <td>0</td>\n",
       "      <td>0</td>\n",
       "      <td>0.5</td>\n",
       "      <td>1</td>\n",
       "      <td>XGBRegressor</td>\n",
       "      <td>-0.266042</td>\n",
       "      <td>0.001842</td>\n",
       "      <td>...</td>\n",
       "      <td>0.062317</td>\n",
       "      <td>-0.191779</td>\n",
       "      <td>0.002445</td>\n",
       "      <td>0.002428</td>\n",
       "      <td>0.000426</td>\n",
       "      <td>0.174326</td>\n",
       "      <td>0.046597</td>\n",
       "      <td>0.046526</td>\n",
       "      <td>0.003955</td>\n",
       "      <td>0.084875</td>\n",
       "    </tr>\n",
       "    <tr>\n",
       "      <th>429</th>\n",
       "      <td>300</td>\n",
       "      <td>5</td>\n",
       "      <td>0.3</td>\n",
       "      <td>0</td>\n",
       "      <td>0</td>\n",
       "      <td>1</td>\n",
       "      <td>0.5</td>\n",
       "      <td>XGBRegressor</td>\n",
       "      <td>-1.279738</td>\n",
       "      <td>0.003317</td>\n",
       "      <td>...</td>\n",
       "      <td>0.168949</td>\n",
       "      <td>-0.140464</td>\n",
       "      <td>0.004048</td>\n",
       "      <td>0.003935</td>\n",
       "      <td>0.000698</td>\n",
       "      <td>0.172498</td>\n",
       "      <td>0.061207</td>\n",
       "      <td>0.060382</td>\n",
       "      <td>0.005144</td>\n",
       "      <td>0.084048</td>\n",
       "    </tr>\n",
       "    <tr>\n",
       "      <th>430</th>\n",
       "      <td>300</td>\n",
       "      <td>5</td>\n",
       "      <td>0.3</td>\n",
       "      <td>0</td>\n",
       "      <td>0</td>\n",
       "      <td>1</td>\n",
       "      <td>0.75</td>\n",
       "      <td>XGBRegressor</td>\n",
       "      <td>-1.239698</td>\n",
       "      <td>0.003258</td>\n",
       "      <td>...</td>\n",
       "      <td>0.112579</td>\n",
       "      <td>-0.093222</td>\n",
       "      <td>0.004065</td>\n",
       "      <td>0.003984</td>\n",
       "      <td>0.000678</td>\n",
       "      <td>0.166754</td>\n",
       "      <td>0.061386</td>\n",
       "      <td>0.060817</td>\n",
       "      <td>0.005093</td>\n",
       "      <td>0.082962</td>\n",
       "    </tr>\n",
       "    <tr>\n",
       "      <th>431</th>\n",
       "      <td>300</td>\n",
       "      <td>5</td>\n",
       "      <td>0.3</td>\n",
       "      <td>0</td>\n",
       "      <td>0</td>\n",
       "      <td>1</td>\n",
       "      <td>1</td>\n",
       "      <td>XGBRegressor</td>\n",
       "      <td>-1.137267</td>\n",
       "      <td>0.003109</td>\n",
       "      <td>...</td>\n",
       "      <td>0.069179</td>\n",
       "      <td>-0.058209</td>\n",
       "      <td>0.004029</td>\n",
       "      <td>0.004012</td>\n",
       "      <td>0.000638</td>\n",
       "      <td>0.158274</td>\n",
       "      <td>0.061132</td>\n",
       "      <td>0.061083</td>\n",
       "      <td>0.004868</td>\n",
       "      <td>0.079631</td>\n",
       "    </tr>\n",
       "  </tbody>\n",
       "</table>\n",
       "<p>432 rows × 35 columns</p>\n",
       "</div>"
      ],
      "text/plain": [
       "    n_estimators max_depth learning_rate reg_lambda reg_alpha gamma subsample   \n",
       "0             50         3           0.1          0         0     0       0.5  \\\n",
       "1             50         3           0.1          0         0     0      0.75   \n",
       "2             50         3           0.1          0         0     0         1   \n",
       "3             50         3           0.1          0         0   0.1       0.5   \n",
       "4             50         3           0.1          0         0   0.1      0.75   \n",
       "..           ...       ...           ...        ...       ...   ...       ...   \n",
       "427          300         5           0.3          0         0   0.5      0.75   \n",
       "428          300         5           0.3          0         0   0.5         1   \n",
       "429          300         5           0.3          0         0     1       0.5   \n",
       "430          300         5           0.3          0         0     1      0.75   \n",
       "431          300         5           0.3          0         0     1         1   \n",
       "\n",
       "            model cy_19_score cy_19_mse  ... std_score  cv_score   ave_mse   \n",
       "0    XGBRegressor    0.947162  0.000077  ...  0.018892  0.020412  0.000135  \\\n",
       "1    XGBRegressor     0.95206   0.00007  ...  0.019942  0.021545  0.000136   \n",
       "2    XGBRegressor    0.950881  0.000071  ...  0.021626   0.02339  0.000137   \n",
       "3    XGBRegressor    0.371814  0.000914  ...  0.042739  0.122713  0.001204   \n",
       "4    XGBRegressor      0.4324  0.000826  ...  0.050394  0.123784  0.001099   \n",
       "..            ...         ...       ...  ...       ...       ...       ...   \n",
       "427  XGBRegressor   -0.337038  0.001945  ...  0.081923 -0.246769  0.002457   \n",
       "428  XGBRegressor   -0.266042  0.001842  ...  0.062317 -0.191779  0.002445   \n",
       "429  XGBRegressor   -1.279738  0.003317  ...  0.168949 -0.140464  0.004048   \n",
       "430  XGBRegressor   -1.239698  0.003258  ...  0.112579 -0.093222  0.004065   \n",
       "431  XGBRegressor   -1.137267  0.003109  ...  0.069179 -0.058209  0.004029   \n",
       "\n",
       "    median_mse   std_mse    cv_mse   ave_mae median_mae   std_mae    cv_mae  \n",
       "0     0.000135  0.000031  0.231093  0.006841   0.006987  0.000695  0.101525  \n",
       "1     0.000136  0.000035  0.254275  0.006864   0.007024  0.000755  0.109964  \n",
       "2     0.000135  0.000036  0.261803  0.007145   0.007286  0.000712  0.099626  \n",
       "3     0.001215  0.000225  0.186657  0.032779    0.03307  0.002725  0.083147  \n",
       "4     0.001068  0.000229  0.208579   0.03143   0.031115  0.003084  0.098107  \n",
       "..         ...       ...       ...       ...        ...       ...       ...  \n",
       "427   0.002403  0.000441  0.179527  0.046696   0.046274  0.004001  0.085692  \n",
       "428   0.002428  0.000426  0.174326  0.046597   0.046526  0.003955  0.084875  \n",
       "429   0.003935  0.000698  0.172498  0.061207   0.060382  0.005144  0.084048  \n",
       "430   0.003984  0.000678  0.166754  0.061386   0.060817  0.005093  0.082962  \n",
       "431   0.004012  0.000638  0.158274  0.061132   0.061083  0.004868  0.079631  \n",
       "\n",
       "[432 rows x 35 columns]"
      ]
     },
     "execution_count": 41,
     "metadata": {},
     "output_type": "execute_result"
    }
   ],
   "source": [
    "score_df = pd.DataFrame(xgb_df_dict).T.reset_index(drop=True)\n",
    "\n",
    "for measure in ['score', 'mse', 'mae']:\n",
    "    score_df[f'ave_{measure}'] = score_df[[c for c in score_df.columns if measure in c]].mean(axis=1)\n",
    "    score_df[f'median_{measure}'] = score_df[[c for c in score_df.columns if measure in c]].median(axis=1)\n",
    "    score_df[f'std_{measure}'] = score_df[[c for c in score_df.columns if measure in c]].std(axis=1)\n",
    "    score_df[f'cv_{measure}'] = score_df[f'std_{measure}'] / score_df[f'ave_{measure}']\n",
    "\n",
    "score_df"
   ]
  },
  {
   "cell_type": "code",
   "execution_count": 45,
   "metadata": {},
   "outputs": [],
   "source": [
    "def xgb_plot_measure(measure):\n",
    "    score_df['color_srs'] = score_df['n_estimators max_depth learning_rate gamma'.split()].apply(lambda df: f'nEst-{df.n_estimators} maxDepth-{df.max_depth} learnRate-{df.learning_rate} gamma-{df.gamma}', axis=1)\n",
    "    return px.line(score_df['color_srs subsample'.split() + [measure]], x='subsample', y=measure, color='color_srs', title=f'{measure.replace(\"_\", \" \").title()} by Regularization Parameters')"
   ]
  },
  {
   "cell_type": "code",
   "execution_count": 46,
   "metadata": {},
   "outputs": [
    {
     "data": {
      "application/vnd.plotly.v1+json": {
       "config": {
        "plotlyServerURL": "https://plot.ly"
       },
       "data": [
        {
         "hovertemplate": "color_srs=nEst-50 maxDepth-3 learnRate-0.1 gamma-0<br>subsample=%{x}<br>ave_mse=%{y}<extra></extra>",
         "legendgroup": "nEst-50 maxDepth-3 learnRate-0.1 gamma-0",
         "line": {
          "color": "#636efa",
          "dash": "solid"
         },
         "marker": {
          "symbol": "circle"
         },
         "mode": "lines",
         "name": "nEst-50 maxDepth-3 learnRate-0.1 gamma-0",
         "orientation": "v",
         "showlegend": true,
         "type": "scatter",
         "x": [
          0.5,
          0.75,
          1
         ],
         "xaxis": "x",
         "y": [
          0.00013546940059992193,
          0.0001358103129521952,
          0.00013732376899826558
         ],
         "yaxis": "y"
        },
        {
         "hovertemplate": "color_srs=nEst-50 maxDepth-3 learnRate-0.1 gamma-0.1<br>subsample=%{x}<br>ave_mse=%{y}<extra></extra>",
         "legendgroup": "nEst-50 maxDepth-3 learnRate-0.1 gamma-0.1",
         "line": {
          "color": "#EF553B",
          "dash": "solid"
         },
         "marker": {
          "symbol": "circle"
         },
         "mode": "lines",
         "name": "nEst-50 maxDepth-3 learnRate-0.1 gamma-0.1",
         "orientation": "v",
         "showlegend": true,
         "type": "scatter",
         "x": [
          0.5,
          0.75,
          1
         ],
         "xaxis": "x",
         "y": [
          0.0012039296339107642,
          0.001098678576981696,
          0.001105892119330347
         ],
         "yaxis": "y"
        },
        {
         "hovertemplate": "color_srs=nEst-50 maxDepth-3 learnRate-0.1 gamma-0.5<br>subsample=%{x}<br>ave_mse=%{y}<extra></extra>",
         "legendgroup": "nEst-50 maxDepth-3 learnRate-0.1 gamma-0.5",
         "line": {
          "color": "#00cc96",
          "dash": "solid"
         },
         "marker": {
          "symbol": "circle"
         },
         "mode": "lines",
         "name": "nEst-50 maxDepth-3 learnRate-0.1 gamma-0.5",
         "orientation": "v",
         "showlegend": true,
         "type": "scatter",
         "x": [
          0.5,
          0.75,
          1
         ],
         "xaxis": "x",
         "y": [
          0.0038013643301324784,
          0.00328971361839456,
          0.002898167193381937
         ],
         "yaxis": "y"
        },
        {
         "hovertemplate": "color_srs=nEst-50 maxDepth-3 learnRate-0.1 gamma-1<br>subsample=%{x}<br>ave_mse=%{y}<extra></extra>",
         "legendgroup": "nEst-50 maxDepth-3 learnRate-0.1 gamma-1",
         "line": {
          "color": "#ab63fa",
          "dash": "solid"
         },
         "marker": {
          "symbol": "circle"
         },
         "mode": "lines",
         "name": "nEst-50 maxDepth-3 learnRate-0.1 gamma-1",
         "orientation": "v",
         "showlegend": true,
         "type": "scatter",
         "x": [
          0.5,
          0.75,
          1
         ],
         "xaxis": "x",
         "y": [
          0.004022386053720734,
          0.004160736299818979,
          0.00423954334922801
         ],
         "yaxis": "y"
        },
        {
         "hovertemplate": "color_srs=nEst-50 maxDepth-3 learnRate-0.2 gamma-0<br>subsample=%{x}<br>ave_mse=%{y}<extra></extra>",
         "legendgroup": "nEst-50 maxDepth-3 learnRate-0.2 gamma-0",
         "line": {
          "color": "#FFA15A",
          "dash": "solid"
         },
         "marker": {
          "symbol": "circle"
         },
         "mode": "lines",
         "name": "nEst-50 maxDepth-3 learnRate-0.2 gamma-0",
         "orientation": "v",
         "showlegend": true,
         "type": "scatter",
         "x": [
          0.5,
          0.75,
          1
         ],
         "xaxis": "x",
         "y": [
          0.00011316785759602028,
          0.00011769876365681659,
          0.00011355975014041935
         ],
         "yaxis": "y"
        },
        {
         "hovertemplate": "color_srs=nEst-50 maxDepth-3 learnRate-0.2 gamma-0.1<br>subsample=%{x}<br>ave_mse=%{y}<extra></extra>",
         "legendgroup": "nEst-50 maxDepth-3 learnRate-0.2 gamma-0.1",
         "line": {
          "color": "#19d3f3",
          "dash": "solid"
         },
         "marker": {
          "symbol": "circle"
         },
         "mode": "lines",
         "name": "nEst-50 maxDepth-3 learnRate-0.2 gamma-0.1",
         "orientation": "v",
         "showlegend": true,
         "type": "scatter",
         "x": [
          0.5,
          0.75,
          1
         ],
         "xaxis": "x",
         "y": [
          0.0009658957290272085,
          0.0008745224779170575,
          0.0009162558596878704
         ],
         "yaxis": "y"
        },
        {
         "hovertemplate": "color_srs=nEst-50 maxDepth-3 learnRate-0.2 gamma-0.5<br>subsample=%{x}<br>ave_mse=%{y}<extra></extra>",
         "legendgroup": "nEst-50 maxDepth-3 learnRate-0.2 gamma-0.5",
         "line": {
          "color": "#FF6692",
          "dash": "solid"
         },
         "marker": {
          "symbol": "circle"
         },
         "mode": "lines",
         "name": "nEst-50 maxDepth-3 learnRate-0.2 gamma-0.5",
         "orientation": "v",
         "showlegend": true,
         "type": "scatter",
         "x": [
          0.5,
          0.75,
          1
         ],
         "xaxis": "x",
         "y": [
          0.0033398637699249166,
          0.002831713382798798,
          0.0026276740139834264
         ],
         "yaxis": "y"
        },
        {
         "hovertemplate": "color_srs=nEst-50 maxDepth-3 learnRate-0.2 gamma-1<br>subsample=%{x}<br>ave_mse=%{y}<extra></extra>",
         "legendgroup": "nEst-50 maxDepth-3 learnRate-0.2 gamma-1",
         "line": {
          "color": "#B6E880",
          "dash": "solid"
         },
         "marker": {
          "symbol": "circle"
         },
         "mode": "lines",
         "name": "nEst-50 maxDepth-3 learnRate-0.2 gamma-1",
         "orientation": "v",
         "showlegend": true,
         "type": "scatter",
         "x": [
          0.5,
          0.75,
          1
         ],
         "xaxis": "x",
         "y": [
          0.0037381174643054196,
          0.003939558078680858,
          0.004029944311493604
         ],
         "yaxis": "y"
        },
        {
         "hovertemplate": "color_srs=nEst-50 maxDepth-3 learnRate-0.3 gamma-0<br>subsample=%{x}<br>ave_mse=%{y}<extra></extra>",
         "legendgroup": "nEst-50 maxDepth-3 learnRate-0.3 gamma-0",
         "line": {
          "color": "#FF97FF",
          "dash": "solid"
         },
         "marker": {
          "symbol": "circle"
         },
         "mode": "lines",
         "name": "nEst-50 maxDepth-3 learnRate-0.3 gamma-0",
         "orientation": "v",
         "showlegend": true,
         "type": "scatter",
         "x": [
          0.5,
          0.75,
          1
         ],
         "xaxis": "x",
         "y": [
          0.00012006352498956216,
          0.00011190203094323813,
          0.00012539823345672342
         ],
         "yaxis": "y"
        },
        {
         "hovertemplate": "color_srs=nEst-50 maxDepth-3 learnRate-0.3 gamma-0.1<br>subsample=%{x}<br>ave_mse=%{y}<extra></extra>",
         "legendgroup": "nEst-50 maxDepth-3 learnRate-0.3 gamma-0.1",
         "line": {
          "color": "#FECB52",
          "dash": "solid"
         },
         "marker": {
          "symbol": "circle"
         },
         "mode": "lines",
         "name": "nEst-50 maxDepth-3 learnRate-0.3 gamma-0.1",
         "orientation": "v",
         "showlegend": true,
         "type": "scatter",
         "x": [
          0.5,
          0.75,
          1
         ],
         "xaxis": "x",
         "y": [
          0.0009104967861336506,
          0.0008752884190983048,
          0.0008146885387783482
         ],
         "yaxis": "y"
        },
        {
         "hovertemplate": "color_srs=nEst-50 maxDepth-3 learnRate-0.3 gamma-0.5<br>subsample=%{x}<br>ave_mse=%{y}<extra></extra>",
         "legendgroup": "nEst-50 maxDepth-3 learnRate-0.3 gamma-0.5",
         "line": {
          "color": "#636efa",
          "dash": "solid"
         },
         "marker": {
          "symbol": "circle"
         },
         "mode": "lines",
         "name": "nEst-50 maxDepth-3 learnRate-0.3 gamma-0.5",
         "orientation": "v",
         "showlegend": true,
         "type": "scatter",
         "x": [
          0.5,
          0.75,
          1
         ],
         "xaxis": "x",
         "y": [
          0.003161173037812222,
          0.00238035038290789,
          0.002445476203506178
         ],
         "yaxis": "y"
        },
        {
         "hovertemplate": "color_srs=nEst-50 maxDepth-3 learnRate-0.3 gamma-1<br>subsample=%{x}<br>ave_mse=%{y}<extra></extra>",
         "legendgroup": "nEst-50 maxDepth-3 learnRate-0.3 gamma-1",
         "line": {
          "color": "#EF553B",
          "dash": "solid"
         },
         "marker": {
          "symbol": "circle"
         },
         "mode": "lines",
         "name": "nEst-50 maxDepth-3 learnRate-0.3 gamma-1",
         "orientation": "v",
         "showlegend": true,
         "type": "scatter",
         "x": [
          0.5,
          0.75,
          1
         ],
         "xaxis": "x",
         "y": [
          0.0037114884776979,
          0.003940761666882787,
          0.0040293768787266135
         ],
         "yaxis": "y"
        },
        {
         "hovertemplate": "color_srs=nEst-50 maxDepth-4 learnRate-0.1 gamma-0<br>subsample=%{x}<br>ave_mse=%{y}<extra></extra>",
         "legendgroup": "nEst-50 maxDepth-4 learnRate-0.1 gamma-0",
         "line": {
          "color": "#00cc96",
          "dash": "solid"
         },
         "marker": {
          "symbol": "circle"
         },
         "mode": "lines",
         "name": "nEst-50 maxDepth-4 learnRate-0.1 gamma-0",
         "orientation": "v",
         "showlegend": true,
         "type": "scatter",
         "x": [
          0.5,
          0.75,
          1
         ],
         "xaxis": "x",
         "y": [
          0.0001351265015627281,
          0.00013705285437405962,
          0.00013437011491499536
         ],
         "yaxis": "y"
        },
        {
         "hovertemplate": "color_srs=nEst-50 maxDepth-4 learnRate-0.1 gamma-0.1<br>subsample=%{x}<br>ave_mse=%{y}<extra></extra>",
         "legendgroup": "nEst-50 maxDepth-4 learnRate-0.1 gamma-0.1",
         "line": {
          "color": "#ab63fa",
          "dash": "solid"
         },
         "marker": {
          "symbol": "circle"
         },
         "mode": "lines",
         "name": "nEst-50 maxDepth-4 learnRate-0.1 gamma-0.1",
         "orientation": "v",
         "showlegend": true,
         "type": "scatter",
         "x": [
          0.5,
          0.75,
          1
         ],
         "xaxis": "x",
         "y": [
          0.0012039296339107642,
          0.001098678576981696,
          0.001105892119330347
         ],
         "yaxis": "y"
        },
        {
         "hovertemplate": "color_srs=nEst-50 maxDepth-4 learnRate-0.1 gamma-0.5<br>subsample=%{x}<br>ave_mse=%{y}<extra></extra>",
         "legendgroup": "nEst-50 maxDepth-4 learnRate-0.1 gamma-0.5",
         "line": {
          "color": "#FFA15A",
          "dash": "solid"
         },
         "marker": {
          "symbol": "circle"
         },
         "mode": "lines",
         "name": "nEst-50 maxDepth-4 learnRate-0.1 gamma-0.5",
         "orientation": "v",
         "showlegend": true,
         "type": "scatter",
         "x": [
          0.5,
          0.75,
          1
         ],
         "xaxis": "x",
         "y": [
          0.0038013643301324784,
          0.00328971361839456,
          0.002898167193381937
         ],
         "yaxis": "y"
        },
        {
         "hovertemplate": "color_srs=nEst-50 maxDepth-4 learnRate-0.1 gamma-1<br>subsample=%{x}<br>ave_mse=%{y}<extra></extra>",
         "legendgroup": "nEst-50 maxDepth-4 learnRate-0.1 gamma-1",
         "line": {
          "color": "#19d3f3",
          "dash": "solid"
         },
         "marker": {
          "symbol": "circle"
         },
         "mode": "lines",
         "name": "nEst-50 maxDepth-4 learnRate-0.1 gamma-1",
         "orientation": "v",
         "showlegend": true,
         "type": "scatter",
         "x": [
          0.5,
          0.75,
          1
         ],
         "xaxis": "x",
         "y": [
          0.004022386053720734,
          0.004160736299818979,
          0.00423954334922801
         ],
         "yaxis": "y"
        },
        {
         "hovertemplate": "color_srs=nEst-50 maxDepth-4 learnRate-0.2 gamma-0<br>subsample=%{x}<br>ave_mse=%{y}<extra></extra>",
         "legendgroup": "nEst-50 maxDepth-4 learnRate-0.2 gamma-0",
         "line": {
          "color": "#FF6692",
          "dash": "solid"
         },
         "marker": {
          "symbol": "circle"
         },
         "mode": "lines",
         "name": "nEst-50 maxDepth-4 learnRate-0.2 gamma-0",
         "orientation": "v",
         "showlegend": true,
         "type": "scatter",
         "x": [
          0.5,
          0.75,
          1
         ],
         "xaxis": "x",
         "y": [
          0.00011428722175876264,
          0.00011738579116301984,
          0.0001116734100305815
         ],
         "yaxis": "y"
        },
        {
         "hovertemplate": "color_srs=nEst-50 maxDepth-4 learnRate-0.2 gamma-0.1<br>subsample=%{x}<br>ave_mse=%{y}<extra></extra>",
         "legendgroup": "nEst-50 maxDepth-4 learnRate-0.2 gamma-0.1",
         "line": {
          "color": "#B6E880",
          "dash": "solid"
         },
         "marker": {
          "symbol": "circle"
         },
         "mode": "lines",
         "name": "nEst-50 maxDepth-4 learnRate-0.2 gamma-0.1",
         "orientation": "v",
         "showlegend": true,
         "type": "scatter",
         "x": [
          0.5,
          0.75,
          1
         ],
         "xaxis": "x",
         "y": [
          0.0009658957290272085,
          0.0008745224779170575,
          0.0009162558596878704
         ],
         "yaxis": "y"
        },
        {
         "hovertemplate": "color_srs=nEst-50 maxDepth-4 learnRate-0.2 gamma-0.5<br>subsample=%{x}<br>ave_mse=%{y}<extra></extra>",
         "legendgroup": "nEst-50 maxDepth-4 learnRate-0.2 gamma-0.5",
         "line": {
          "color": "#FF97FF",
          "dash": "solid"
         },
         "marker": {
          "symbol": "circle"
         },
         "mode": "lines",
         "name": "nEst-50 maxDepth-4 learnRate-0.2 gamma-0.5",
         "orientation": "v",
         "showlegend": true,
         "type": "scatter",
         "x": [
          0.5,
          0.75,
          1
         ],
         "xaxis": "x",
         "y": [
          0.0033398637699249166,
          0.002831713382798798,
          0.0026276740139834264
         ],
         "yaxis": "y"
        },
        {
         "hovertemplate": "color_srs=nEst-50 maxDepth-4 learnRate-0.2 gamma-1<br>subsample=%{x}<br>ave_mse=%{y}<extra></extra>",
         "legendgroup": "nEst-50 maxDepth-4 learnRate-0.2 gamma-1",
         "line": {
          "color": "#FECB52",
          "dash": "solid"
         },
         "marker": {
          "symbol": "circle"
         },
         "mode": "lines",
         "name": "nEst-50 maxDepth-4 learnRate-0.2 gamma-1",
         "orientation": "v",
         "showlegend": true,
         "type": "scatter",
         "x": [
          0.5,
          0.75,
          1
         ],
         "xaxis": "x",
         "y": [
          0.0037381174643054196,
          0.003939558078680858,
          0.004029944311493604
         ],
         "yaxis": "y"
        },
        {
         "hovertemplate": "color_srs=nEst-50 maxDepth-4 learnRate-0.3 gamma-0<br>subsample=%{x}<br>ave_mse=%{y}<extra></extra>",
         "legendgroup": "nEst-50 maxDepth-4 learnRate-0.3 gamma-0",
         "line": {
          "color": "#636efa",
          "dash": "solid"
         },
         "marker": {
          "symbol": "circle"
         },
         "mode": "lines",
         "name": "nEst-50 maxDepth-4 learnRate-0.3 gamma-0",
         "orientation": "v",
         "showlegend": true,
         "type": "scatter",
         "x": [
          0.5,
          0.75,
          1
         ],
         "xaxis": "x",
         "y": [
          0.00011202643197289932,
          0.00011614175514529986,
          0.00011874714384498481
         ],
         "yaxis": "y"
        },
        {
         "hovertemplate": "color_srs=nEst-50 maxDepth-4 learnRate-0.3 gamma-0.1<br>subsample=%{x}<br>ave_mse=%{y}<extra></extra>",
         "legendgroup": "nEst-50 maxDepth-4 learnRate-0.3 gamma-0.1",
         "line": {
          "color": "#EF553B",
          "dash": "solid"
         },
         "marker": {
          "symbol": "circle"
         },
         "mode": "lines",
         "name": "nEst-50 maxDepth-4 learnRate-0.3 gamma-0.1",
         "orientation": "v",
         "showlegend": true,
         "type": "scatter",
         "x": [
          0.5,
          0.75,
          1
         ],
         "xaxis": "x",
         "y": [
          0.0009104967861336506,
          0.0008752884190983048,
          0.0008146885387783482
         ],
         "yaxis": "y"
        },
        {
         "hovertemplate": "color_srs=nEst-50 maxDepth-4 learnRate-0.3 gamma-0.5<br>subsample=%{x}<br>ave_mse=%{y}<extra></extra>",
         "legendgroup": "nEst-50 maxDepth-4 learnRate-0.3 gamma-0.5",
         "line": {
          "color": "#00cc96",
          "dash": "solid"
         },
         "marker": {
          "symbol": "circle"
         },
         "mode": "lines",
         "name": "nEst-50 maxDepth-4 learnRate-0.3 gamma-0.5",
         "orientation": "v",
         "showlegend": true,
         "type": "scatter",
         "x": [
          0.5,
          0.75,
          1
         ],
         "xaxis": "x",
         "y": [
          0.003161173037812222,
          0.00238035038290789,
          0.002445476203506178
         ],
         "yaxis": "y"
        },
        {
         "hovertemplate": "color_srs=nEst-50 maxDepth-4 learnRate-0.3 gamma-1<br>subsample=%{x}<br>ave_mse=%{y}<extra></extra>",
         "legendgroup": "nEst-50 maxDepth-4 learnRate-0.3 gamma-1",
         "line": {
          "color": "#ab63fa",
          "dash": "solid"
         },
         "marker": {
          "symbol": "circle"
         },
         "mode": "lines",
         "name": "nEst-50 maxDepth-4 learnRate-0.3 gamma-1",
         "orientation": "v",
         "showlegend": true,
         "type": "scatter",
         "x": [
          0.5,
          0.75,
          1
         ],
         "xaxis": "x",
         "y": [
          0.0037114884776979,
          0.003940761666882787,
          0.0040293768787266135
         ],
         "yaxis": "y"
        },
        {
         "hovertemplate": "color_srs=nEst-50 maxDepth-5 learnRate-0.1 gamma-0<br>subsample=%{x}<br>ave_mse=%{y}<extra></extra>",
         "legendgroup": "nEst-50 maxDepth-5 learnRate-0.1 gamma-0",
         "line": {
          "color": "#FFA15A",
          "dash": "solid"
         },
         "marker": {
          "symbol": "circle"
         },
         "mode": "lines",
         "name": "nEst-50 maxDepth-5 learnRate-0.1 gamma-0",
         "orientation": "v",
         "showlegend": true,
         "type": "scatter",
         "x": [
          0.5,
          0.75,
          1
         ],
         "xaxis": "x",
         "y": [
          0.00013429289514319906,
          0.0001368618121825,
          0.0001358713796705487
         ],
         "yaxis": "y"
        },
        {
         "hovertemplate": "color_srs=nEst-50 maxDepth-5 learnRate-0.1 gamma-0.1<br>subsample=%{x}<br>ave_mse=%{y}<extra></extra>",
         "legendgroup": "nEst-50 maxDepth-5 learnRate-0.1 gamma-0.1",
         "line": {
          "color": "#19d3f3",
          "dash": "solid"
         },
         "marker": {
          "symbol": "circle"
         },
         "mode": "lines",
         "name": "nEst-50 maxDepth-5 learnRate-0.1 gamma-0.1",
         "orientation": "v",
         "showlegend": true,
         "type": "scatter",
         "x": [
          0.5,
          0.75,
          1
         ],
         "xaxis": "x",
         "y": [
          0.0012039296339107642,
          0.001098678576981696,
          0.001105892119330347
         ],
         "yaxis": "y"
        },
        {
         "hovertemplate": "color_srs=nEst-50 maxDepth-5 learnRate-0.1 gamma-0.5<br>subsample=%{x}<br>ave_mse=%{y}<extra></extra>",
         "legendgroup": "nEst-50 maxDepth-5 learnRate-0.1 gamma-0.5",
         "line": {
          "color": "#FF6692",
          "dash": "solid"
         },
         "marker": {
          "symbol": "circle"
         },
         "mode": "lines",
         "name": "nEst-50 maxDepth-5 learnRate-0.1 gamma-0.5",
         "orientation": "v",
         "showlegend": true,
         "type": "scatter",
         "x": [
          0.5,
          0.75,
          1
         ],
         "xaxis": "x",
         "y": [
          0.0038013643301324784,
          0.00328971361839456,
          0.002898167193381937
         ],
         "yaxis": "y"
        },
        {
         "hovertemplate": "color_srs=nEst-50 maxDepth-5 learnRate-0.1 gamma-1<br>subsample=%{x}<br>ave_mse=%{y}<extra></extra>",
         "legendgroup": "nEst-50 maxDepth-5 learnRate-0.1 gamma-1",
         "line": {
          "color": "#B6E880",
          "dash": "solid"
         },
         "marker": {
          "symbol": "circle"
         },
         "mode": "lines",
         "name": "nEst-50 maxDepth-5 learnRate-0.1 gamma-1",
         "orientation": "v",
         "showlegend": true,
         "type": "scatter",
         "x": [
          0.5,
          0.75,
          1
         ],
         "xaxis": "x",
         "y": [
          0.004022386053720734,
          0.004160736299818979,
          0.00423954334922801
         ],
         "yaxis": "y"
        },
        {
         "hovertemplate": "color_srs=nEst-50 maxDepth-5 learnRate-0.2 gamma-0<br>subsample=%{x}<br>ave_mse=%{y}<extra></extra>",
         "legendgroup": "nEst-50 maxDepth-5 learnRate-0.2 gamma-0",
         "line": {
          "color": "#FF97FF",
          "dash": "solid"
         },
         "marker": {
          "symbol": "circle"
         },
         "mode": "lines",
         "name": "nEst-50 maxDepth-5 learnRate-0.2 gamma-0",
         "orientation": "v",
         "showlegend": true,
         "type": "scatter",
         "x": [
          0.5,
          0.75,
          1
         ],
         "xaxis": "x",
         "y": [
          0.00010941576105353743,
          0.00011686662033138632,
          0.00011343206683850043
         ],
         "yaxis": "y"
        },
        {
         "hovertemplate": "color_srs=nEst-50 maxDepth-5 learnRate-0.2 gamma-0.1<br>subsample=%{x}<br>ave_mse=%{y}<extra></extra>",
         "legendgroup": "nEst-50 maxDepth-5 learnRate-0.2 gamma-0.1",
         "line": {
          "color": "#FECB52",
          "dash": "solid"
         },
         "marker": {
          "symbol": "circle"
         },
         "mode": "lines",
         "name": "nEst-50 maxDepth-5 learnRate-0.2 gamma-0.1",
         "orientation": "v",
         "showlegend": true,
         "type": "scatter",
         "x": [
          0.5,
          0.75,
          1
         ],
         "xaxis": "x",
         "y": [
          0.0009658957290272085,
          0.0008745224779170575,
          0.0009162558596878704
         ],
         "yaxis": "y"
        },
        {
         "hovertemplate": "color_srs=nEst-50 maxDepth-5 learnRate-0.2 gamma-0.5<br>subsample=%{x}<br>ave_mse=%{y}<extra></extra>",
         "legendgroup": "nEst-50 maxDepth-5 learnRate-0.2 gamma-0.5",
         "line": {
          "color": "#636efa",
          "dash": "solid"
         },
         "marker": {
          "symbol": "circle"
         },
         "mode": "lines",
         "name": "nEst-50 maxDepth-5 learnRate-0.2 gamma-0.5",
         "orientation": "v",
         "showlegend": true,
         "type": "scatter",
         "x": [
          0.5,
          0.75,
          1
         ],
         "xaxis": "x",
         "y": [
          0.0033398637699249166,
          0.002831713382798798,
          0.0026276740139834264
         ],
         "yaxis": "y"
        },
        {
         "hovertemplate": "color_srs=nEst-50 maxDepth-5 learnRate-0.2 gamma-1<br>subsample=%{x}<br>ave_mse=%{y}<extra></extra>",
         "legendgroup": "nEst-50 maxDepth-5 learnRate-0.2 gamma-1",
         "line": {
          "color": "#EF553B",
          "dash": "solid"
         },
         "marker": {
          "symbol": "circle"
         },
         "mode": "lines",
         "name": "nEst-50 maxDepth-5 learnRate-0.2 gamma-1",
         "orientation": "v",
         "showlegend": true,
         "type": "scatter",
         "x": [
          0.5,
          0.75,
          1
         ],
         "xaxis": "x",
         "y": [
          0.0037381174643054196,
          0.003939558078680858,
          0.004029944311493604
         ],
         "yaxis": "y"
        },
        {
         "hovertemplate": "color_srs=nEst-50 maxDepth-5 learnRate-0.3 gamma-0<br>subsample=%{x}<br>ave_mse=%{y}<extra></extra>",
         "legendgroup": "nEst-50 maxDepth-5 learnRate-0.3 gamma-0",
         "line": {
          "color": "#00cc96",
          "dash": "solid"
         },
         "marker": {
          "symbol": "circle"
         },
         "mode": "lines",
         "name": "nEst-50 maxDepth-5 learnRate-0.3 gamma-0",
         "orientation": "v",
         "showlegend": true,
         "type": "scatter",
         "x": [
          0.5,
          0.75,
          1
         ],
         "xaxis": "x",
         "y": [
          0.00011357140774488494,
          0.0001153075895776817,
          0.00011354251011298053
         ],
         "yaxis": "y"
        },
        {
         "hovertemplate": "color_srs=nEst-50 maxDepth-5 learnRate-0.3 gamma-0.1<br>subsample=%{x}<br>ave_mse=%{y}<extra></extra>",
         "legendgroup": "nEst-50 maxDepth-5 learnRate-0.3 gamma-0.1",
         "line": {
          "color": "#ab63fa",
          "dash": "solid"
         },
         "marker": {
          "symbol": "circle"
         },
         "mode": "lines",
         "name": "nEst-50 maxDepth-5 learnRate-0.3 gamma-0.1",
         "orientation": "v",
         "showlegend": true,
         "type": "scatter",
         "x": [
          0.5,
          0.75,
          1
         ],
         "xaxis": "x",
         "y": [
          0.0009104967861336506,
          0.0008752884190983048,
          0.0008146885387783482
         ],
         "yaxis": "y"
        },
        {
         "hovertemplate": "color_srs=nEst-50 maxDepth-5 learnRate-0.3 gamma-0.5<br>subsample=%{x}<br>ave_mse=%{y}<extra></extra>",
         "legendgroup": "nEst-50 maxDepth-5 learnRate-0.3 gamma-0.5",
         "line": {
          "color": "#FFA15A",
          "dash": "solid"
         },
         "marker": {
          "symbol": "circle"
         },
         "mode": "lines",
         "name": "nEst-50 maxDepth-5 learnRate-0.3 gamma-0.5",
         "orientation": "v",
         "showlegend": true,
         "type": "scatter",
         "x": [
          0.5,
          0.75,
          1
         ],
         "xaxis": "x",
         "y": [
          0.003161173037812222,
          0.00238035038290789,
          0.002445476203506178
         ],
         "yaxis": "y"
        },
        {
         "hovertemplate": "color_srs=nEst-50 maxDepth-5 learnRate-0.3 gamma-1<br>subsample=%{x}<br>ave_mse=%{y}<extra></extra>",
         "legendgroup": "nEst-50 maxDepth-5 learnRate-0.3 gamma-1",
         "line": {
          "color": "#19d3f3",
          "dash": "solid"
         },
         "marker": {
          "symbol": "circle"
         },
         "mode": "lines",
         "name": "nEst-50 maxDepth-5 learnRate-0.3 gamma-1",
         "orientation": "v",
         "showlegend": true,
         "type": "scatter",
         "x": [
          0.5,
          0.75,
          1
         ],
         "xaxis": "x",
         "y": [
          0.0037114884776979,
          0.003940761666882787,
          0.0040293768787266135
         ],
         "yaxis": "y"
        },
        {
         "hovertemplate": "color_srs=nEst-100 maxDepth-3 learnRate-0.1 gamma-0<br>subsample=%{x}<br>ave_mse=%{y}<extra></extra>",
         "legendgroup": "nEst-100 maxDepth-3 learnRate-0.1 gamma-0",
         "line": {
          "color": "#FF6692",
          "dash": "solid"
         },
         "marker": {
          "symbol": "circle"
         },
         "mode": "lines",
         "name": "nEst-100 maxDepth-3 learnRate-0.1 gamma-0",
         "orientation": "v",
         "showlegend": true,
         "type": "scatter",
         "x": [
          0.5,
          0.75,
          1
         ],
         "xaxis": "x",
         "y": [
          0.00010895742345924681,
          0.00011804336421485753,
          0.00011903138183454618
         ],
         "yaxis": "y"
        },
        {
         "hovertemplate": "color_srs=nEst-100 maxDepth-3 learnRate-0.1 gamma-0.1<br>subsample=%{x}<br>ave_mse=%{y}<extra></extra>",
         "legendgroup": "nEst-100 maxDepth-3 learnRate-0.1 gamma-0.1",
         "line": {
          "color": "#B6E880",
          "dash": "solid"
         },
         "marker": {
          "symbol": "circle"
         },
         "mode": "lines",
         "name": "nEst-100 maxDepth-3 learnRate-0.1 gamma-0.1",
         "orientation": "v",
         "showlegend": true,
         "type": "scatter",
         "x": [
          0.5,
          0.75,
          1
         ],
         "xaxis": "x",
         "y": [
          0.0010764840851609568,
          0.0009885249763554288,
          0.0009734389624181135
         ],
         "yaxis": "y"
        },
        {
         "hovertemplate": "color_srs=nEst-100 maxDepth-3 learnRate-0.1 gamma-0.5<br>subsample=%{x}<br>ave_mse=%{y}<extra></extra>",
         "legendgroup": "nEst-100 maxDepth-3 learnRate-0.1 gamma-0.5",
         "line": {
          "color": "#FF97FF",
          "dash": "solid"
         },
         "marker": {
          "symbol": "circle"
         },
         "mode": "lines",
         "name": "nEst-100 maxDepth-3 learnRate-0.1 gamma-0.5",
         "orientation": "v",
         "showlegend": true,
         "type": "scatter",
         "x": [
          0.5,
          0.75,
          1
         ],
         "xaxis": "x",
         "y": [
          0.003743721600967931,
          0.003110935432597112,
          0.0027120976463266043
         ],
         "yaxis": "y"
        },
        {
         "hovertemplate": "color_srs=nEst-100 maxDepth-3 learnRate-0.1 gamma-1<br>subsample=%{x}<br>ave_mse=%{y}<extra></extra>",
         "legendgroup": "nEst-100 maxDepth-3 learnRate-0.1 gamma-1",
         "line": {
          "color": "#FECB52",
          "dash": "solid"
         },
         "marker": {
          "symbol": "circle"
         },
         "mode": "lines",
         "name": "nEst-100 maxDepth-3 learnRate-0.1 gamma-1",
         "orientation": "v",
         "showlegend": true,
         "type": "scatter",
         "x": [
          0.5,
          0.75,
          1
         ],
         "xaxis": "x",
         "y": [
          0.003954524964920407,
          0.004069333968680934,
          0.004030433985547618
         ],
         "yaxis": "y"
        },
        {
         "hovertemplate": "color_srs=nEst-100 maxDepth-3 learnRate-0.2 gamma-0<br>subsample=%{x}<br>ave_mse=%{y}<extra></extra>",
         "legendgroup": "nEst-100 maxDepth-3 learnRate-0.2 gamma-0",
         "line": {
          "color": "#636efa",
          "dash": "solid"
         },
         "marker": {
          "symbol": "circle"
         },
         "mode": "lines",
         "name": "nEst-100 maxDepth-3 learnRate-0.2 gamma-0",
         "orientation": "v",
         "showlegend": true,
         "type": "scatter",
         "x": [
          0.5,
          0.75,
          1
         ],
         "xaxis": "x",
         "y": [
          0.00011577494561307412,
          0.00011943869376262644,
          0.00011431519080402639
         ],
         "yaxis": "y"
        },
        {
         "hovertemplate": "color_srs=nEst-100 maxDepth-3 learnRate-0.2 gamma-0.1<br>subsample=%{x}<br>ave_mse=%{y}<extra></extra>",
         "legendgroup": "nEst-100 maxDepth-3 learnRate-0.2 gamma-0.1",
         "line": {
          "color": "#EF553B",
          "dash": "solid"
         },
         "marker": {
          "symbol": "circle"
         },
         "mode": "lines",
         "name": "nEst-100 maxDepth-3 learnRate-0.2 gamma-0.1",
         "orientation": "v",
         "showlegend": true,
         "type": "scatter",
         "x": [
          0.5,
          0.75,
          1
         ],
         "xaxis": "x",
         "y": [
          0.0010434035554819248,
          0.0009044738640763465,
          0.0009159114231283873
         ],
         "yaxis": "y"
        },
        {
         "hovertemplate": "color_srs=nEst-100 maxDepth-3 learnRate-0.2 gamma-0.5<br>subsample=%{x}<br>ave_mse=%{y}<extra></extra>",
         "legendgroup": "nEst-100 maxDepth-3 learnRate-0.2 gamma-0.5",
         "line": {
          "color": "#00cc96",
          "dash": "solid"
         },
         "marker": {
          "symbol": "circle"
         },
         "mode": "lines",
         "name": "nEst-100 maxDepth-3 learnRate-0.2 gamma-0.5",
         "orientation": "v",
         "showlegend": true,
         "type": "scatter",
         "x": [
          0.5,
          0.75,
          1
         ],
         "xaxis": "x",
         "y": [
          0.0035368755778683357,
          0.0028183362122048035,
          0.002627176888077958
         ],
         "yaxis": "y"
        },
        {
         "hovertemplate": "color_srs=nEst-100 maxDepth-3 learnRate-0.2 gamma-1<br>subsample=%{x}<br>ave_mse=%{y}<extra></extra>",
         "legendgroup": "nEst-100 maxDepth-3 learnRate-0.2 gamma-1",
         "line": {
          "color": "#ab63fa",
          "dash": "solid"
         },
         "marker": {
          "symbol": "circle"
         },
         "mode": "lines",
         "name": "nEst-100 maxDepth-3 learnRate-0.2 gamma-1",
         "orientation": "v",
         "showlegend": true,
         "type": "scatter",
         "x": [
          0.5,
          0.75,
          1
         ],
         "xaxis": "x",
         "y": [
          0.003927939795880537,
          0.004109635712977308,
          0.004029377144396324
         ],
         "yaxis": "y"
        },
        {
         "hovertemplate": "color_srs=nEst-100 maxDepth-3 learnRate-0.3 gamma-0<br>subsample=%{x}<br>ave_mse=%{y}<extra></extra>",
         "legendgroup": "nEst-100 maxDepth-3 learnRate-0.3 gamma-0",
         "line": {
          "color": "#FFA15A",
          "dash": "solid"
         },
         "marker": {
          "symbol": "circle"
         },
         "mode": "lines",
         "name": "nEst-100 maxDepth-3 learnRate-0.3 gamma-0",
         "orientation": "v",
         "showlegend": true,
         "type": "scatter",
         "x": [
          0.5,
          0.75,
          1
         ],
         "xaxis": "x",
         "y": [
          0.0001224925060850494,
          0.00011708935002643975,
          0.00012539823581466454
         ],
         "yaxis": "y"
        },
        {
         "hovertemplate": "color_srs=nEst-100 maxDepth-3 learnRate-0.3 gamma-0.1<br>subsample=%{x}<br>ave_mse=%{y}<extra></extra>",
         "legendgroup": "nEst-100 maxDepth-3 learnRate-0.3 gamma-0.1",
         "line": {
          "color": "#19d3f3",
          "dash": "solid"
         },
         "marker": {
          "symbol": "circle"
         },
         "mode": "lines",
         "name": "nEst-100 maxDepth-3 learnRate-0.3 gamma-0.1",
         "orientation": "v",
         "showlegend": true,
         "type": "scatter",
         "x": [
          0.5,
          0.75,
          1
         ],
         "xaxis": "x",
         "y": [
          0.000984935333082876,
          0.0009105598745882551,
          0.0008146882096895193
         ],
         "yaxis": "y"
        },
        {
         "hovertemplate": "color_srs=nEst-100 maxDepth-3 learnRate-0.3 gamma-0.5<br>subsample=%{x}<br>ave_mse=%{y}<extra></extra>",
         "legendgroup": "nEst-100 maxDepth-3 learnRate-0.3 gamma-0.5",
         "line": {
          "color": "#FF6692",
          "dash": "solid"
         },
         "marker": {
          "symbol": "circle"
         },
         "mode": "lines",
         "name": "nEst-100 maxDepth-3 learnRate-0.3 gamma-0.5",
         "orientation": "v",
         "showlegend": true,
         "type": "scatter",
         "x": [
          0.5,
          0.75,
          1
         ],
         "xaxis": "x",
         "y": [
          0.003354398501036545,
          0.002502480871751025,
          0.002445476147399895
         ],
         "yaxis": "y"
        },
        {
         "hovertemplate": "color_srs=nEst-100 maxDepth-3 learnRate-0.3 gamma-1<br>subsample=%{x}<br>ave_mse=%{y}<extra></extra>",
         "legendgroup": "nEst-100 maxDepth-3 learnRate-0.3 gamma-1",
         "line": {
          "color": "#B6E880",
          "dash": "solid"
         },
         "marker": {
          "symbol": "circle"
         },
         "mode": "lines",
         "name": "nEst-100 maxDepth-3 learnRate-0.3 gamma-1",
         "orientation": "v",
         "showlegend": true,
         "type": "scatter",
         "x": [
          0.5,
          0.75,
          1
         ],
         "xaxis": "x",
         "y": [
          0.0038929142862987555,
          0.004130297550506146,
          0.0040293768787266135
         ],
         "yaxis": "y"
        },
        {
         "hovertemplate": "color_srs=nEst-100 maxDepth-4 learnRate-0.1 gamma-0<br>subsample=%{x}<br>ave_mse=%{y}<extra></extra>",
         "legendgroup": "nEst-100 maxDepth-4 learnRate-0.1 gamma-0",
         "line": {
          "color": "#FF97FF",
          "dash": "solid"
         },
         "marker": {
          "symbol": "circle"
         },
         "mode": "lines",
         "name": "nEst-100 maxDepth-4 learnRate-0.1 gamma-0",
         "orientation": "v",
         "showlegend": true,
         "type": "scatter",
         "x": [
          0.5,
          0.75,
          1
         ],
         "xaxis": "x",
         "y": [
          0.00011368343210648672,
          0.00011596014014496362,
          0.00011462840007454137
         ],
         "yaxis": "y"
        },
        {
         "hovertemplate": "color_srs=nEst-100 maxDepth-4 learnRate-0.1 gamma-0.1<br>subsample=%{x}<br>ave_mse=%{y}<extra></extra>",
         "legendgroup": "nEst-100 maxDepth-4 learnRate-0.1 gamma-0.1",
         "line": {
          "color": "#FECB52",
          "dash": "solid"
         },
         "marker": {
          "symbol": "circle"
         },
         "mode": "lines",
         "name": "nEst-100 maxDepth-4 learnRate-0.1 gamma-0.1",
         "orientation": "v",
         "showlegend": true,
         "type": "scatter",
         "x": [
          0.5,
          0.75,
          1
         ],
         "xaxis": "x",
         "y": [
          0.0010764840851609568,
          0.0009885249763554288,
          0.0009734389624181135
         ],
         "yaxis": "y"
        },
        {
         "hovertemplate": "color_srs=nEst-100 maxDepth-4 learnRate-0.1 gamma-0.5<br>subsample=%{x}<br>ave_mse=%{y}<extra></extra>",
         "legendgroup": "nEst-100 maxDepth-4 learnRate-0.1 gamma-0.5",
         "line": {
          "color": "#636efa",
          "dash": "solid"
         },
         "marker": {
          "symbol": "circle"
         },
         "mode": "lines",
         "name": "nEst-100 maxDepth-4 learnRate-0.1 gamma-0.5",
         "orientation": "v",
         "showlegend": true,
         "type": "scatter",
         "x": [
          0.5,
          0.75,
          1
         ],
         "xaxis": "x",
         "y": [
          0.003743721600967931,
          0.003110935432597112,
          0.0027120976463266043
         ],
         "yaxis": "y"
        },
        {
         "hovertemplate": "color_srs=nEst-100 maxDepth-4 learnRate-0.1 gamma-1<br>subsample=%{x}<br>ave_mse=%{y}<extra></extra>",
         "legendgroup": "nEst-100 maxDepth-4 learnRate-0.1 gamma-1",
         "line": {
          "color": "#EF553B",
          "dash": "solid"
         },
         "marker": {
          "symbol": "circle"
         },
         "mode": "lines",
         "name": "nEst-100 maxDepth-4 learnRate-0.1 gamma-1",
         "orientation": "v",
         "showlegend": true,
         "type": "scatter",
         "x": [
          0.5,
          0.75,
          1
         ],
         "xaxis": "x",
         "y": [
          0.003954524964920407,
          0.004069333968680934,
          0.004030433985547618
         ],
         "yaxis": "y"
        },
        {
         "hovertemplate": "color_srs=nEst-100 maxDepth-4 learnRate-0.2 gamma-0<br>subsample=%{x}<br>ave_mse=%{y}<extra></extra>",
         "legendgroup": "nEst-100 maxDepth-4 learnRate-0.2 gamma-0",
         "line": {
          "color": "#00cc96",
          "dash": "solid"
         },
         "marker": {
          "symbol": "circle"
         },
         "mode": "lines",
         "name": "nEst-100 maxDepth-4 learnRate-0.2 gamma-0",
         "orientation": "v",
         "showlegend": true,
         "type": "scatter",
         "x": [
          0.5,
          0.75,
          1
         ],
         "xaxis": "x",
         "y": [
          0.00011465735559162377,
          0.00012087406854987055,
          0.0001116358713980035
         ],
         "yaxis": "y"
        },
        {
         "hovertemplate": "color_srs=nEst-100 maxDepth-4 learnRate-0.2 gamma-0.1<br>subsample=%{x}<br>ave_mse=%{y}<extra></extra>",
         "legendgroup": "nEst-100 maxDepth-4 learnRate-0.2 gamma-0.1",
         "line": {
          "color": "#ab63fa",
          "dash": "solid"
         },
         "marker": {
          "symbol": "circle"
         },
         "mode": "lines",
         "name": "nEst-100 maxDepth-4 learnRate-0.2 gamma-0.1",
         "orientation": "v",
         "showlegend": true,
         "type": "scatter",
         "x": [
          0.5,
          0.75,
          1
         ],
         "xaxis": "x",
         "y": [
          0.0010434035554819248,
          0.0009044738640763465,
          0.0009159114231283873
         ],
         "yaxis": "y"
        },
        {
         "hovertemplate": "color_srs=nEst-100 maxDepth-4 learnRate-0.2 gamma-0.5<br>subsample=%{x}<br>ave_mse=%{y}<extra></extra>",
         "legendgroup": "nEst-100 maxDepth-4 learnRate-0.2 gamma-0.5",
         "line": {
          "color": "#FFA15A",
          "dash": "solid"
         },
         "marker": {
          "symbol": "circle"
         },
         "mode": "lines",
         "name": "nEst-100 maxDepth-4 learnRate-0.2 gamma-0.5",
         "orientation": "v",
         "showlegend": true,
         "type": "scatter",
         "x": [
          0.5,
          0.75,
          1
         ],
         "xaxis": "x",
         "y": [
          0.0035368755778683357,
          0.0028183362122048035,
          0.002627176888077958
         ],
         "yaxis": "y"
        },
        {
         "hovertemplate": "color_srs=nEst-100 maxDepth-4 learnRate-0.2 gamma-1<br>subsample=%{x}<br>ave_mse=%{y}<extra></extra>",
         "legendgroup": "nEst-100 maxDepth-4 learnRate-0.2 gamma-1",
         "line": {
          "color": "#19d3f3",
          "dash": "solid"
         },
         "marker": {
          "symbol": "circle"
         },
         "mode": "lines",
         "name": "nEst-100 maxDepth-4 learnRate-0.2 gamma-1",
         "orientation": "v",
         "showlegend": true,
         "type": "scatter",
         "x": [
          0.5,
          0.75,
          1
         ],
         "xaxis": "x",
         "y": [
          0.003927939795880537,
          0.004109635712977308,
          0.004029377144396324
         ],
         "yaxis": "y"
        },
        {
         "hovertemplate": "color_srs=nEst-100 maxDepth-4 learnRate-0.3 gamma-0<br>subsample=%{x}<br>ave_mse=%{y}<extra></extra>",
         "legendgroup": "nEst-100 maxDepth-4 learnRate-0.3 gamma-0",
         "line": {
          "color": "#FF6692",
          "dash": "solid"
         },
         "marker": {
          "symbol": "circle"
         },
         "mode": "lines",
         "name": "nEst-100 maxDepth-4 learnRate-0.3 gamma-0",
         "orientation": "v",
         "showlegend": true,
         "type": "scatter",
         "x": [
          0.5,
          0.75,
          1
         ],
         "xaxis": "x",
         "y": [
          0.00011643688133651606,
          0.0001168920222601786,
          0.00011874713103149481
         ],
         "yaxis": "y"
        },
        {
         "hovertemplate": "color_srs=nEst-100 maxDepth-4 learnRate-0.3 gamma-0.1<br>subsample=%{x}<br>ave_mse=%{y}<extra></extra>",
         "legendgroup": "nEst-100 maxDepth-4 learnRate-0.3 gamma-0.1",
         "line": {
          "color": "#B6E880",
          "dash": "solid"
         },
         "marker": {
          "symbol": "circle"
         },
         "mode": "lines",
         "name": "nEst-100 maxDepth-4 learnRate-0.3 gamma-0.1",
         "orientation": "v",
         "showlegend": true,
         "type": "scatter",
         "x": [
          0.5,
          0.75,
          1
         ],
         "xaxis": "x",
         "y": [
          0.000984935333082876,
          0.0009105598745882551,
          0.0008146882096895193
         ],
         "yaxis": "y"
        },
        {
         "hovertemplate": "color_srs=nEst-100 maxDepth-4 learnRate-0.3 gamma-0.5<br>subsample=%{x}<br>ave_mse=%{y}<extra></extra>",
         "legendgroup": "nEst-100 maxDepth-4 learnRate-0.3 gamma-0.5",
         "line": {
          "color": "#FF97FF",
          "dash": "solid"
         },
         "marker": {
          "symbol": "circle"
         },
         "mode": "lines",
         "name": "nEst-100 maxDepth-4 learnRate-0.3 gamma-0.5",
         "orientation": "v",
         "showlegend": true,
         "type": "scatter",
         "x": [
          0.5,
          0.75,
          1
         ],
         "xaxis": "x",
         "y": [
          0.003354398501036545,
          0.002502480871751025,
          0.002445476147399895
         ],
         "yaxis": "y"
        },
        {
         "hovertemplate": "color_srs=nEst-100 maxDepth-4 learnRate-0.3 gamma-1<br>subsample=%{x}<br>ave_mse=%{y}<extra></extra>",
         "legendgroup": "nEst-100 maxDepth-4 learnRate-0.3 gamma-1",
         "line": {
          "color": "#FECB52",
          "dash": "solid"
         },
         "marker": {
          "symbol": "circle"
         },
         "mode": "lines",
         "name": "nEst-100 maxDepth-4 learnRate-0.3 gamma-1",
         "orientation": "v",
         "showlegend": true,
         "type": "scatter",
         "x": [
          0.5,
          0.75,
          1
         ],
         "xaxis": "x",
         "y": [
          0.0038929142862987555,
          0.004130297550506146,
          0.0040293768787266135
         ],
         "yaxis": "y"
        },
        {
         "hovertemplate": "color_srs=nEst-100 maxDepth-5 learnRate-0.1 gamma-0<br>subsample=%{x}<br>ave_mse=%{y}<extra></extra>",
         "legendgroup": "nEst-100 maxDepth-5 learnRate-0.1 gamma-0",
         "line": {
          "color": "#636efa",
          "dash": "solid"
         },
         "marker": {
          "symbol": "circle"
         },
         "mode": "lines",
         "name": "nEst-100 maxDepth-5 learnRate-0.1 gamma-0",
         "orientation": "v",
         "showlegend": true,
         "type": "scatter",
         "x": [
          0.5,
          0.75,
          1
         ],
         "xaxis": "x",
         "y": [
          0.00011290910155831301,
          0.00011643058048850439,
          0.00011365058862387368
         ],
         "yaxis": "y"
        },
        {
         "hovertemplate": "color_srs=nEst-100 maxDepth-5 learnRate-0.1 gamma-0.1<br>subsample=%{x}<br>ave_mse=%{y}<extra></extra>",
         "legendgroup": "nEst-100 maxDepth-5 learnRate-0.1 gamma-0.1",
         "line": {
          "color": "#EF553B",
          "dash": "solid"
         },
         "marker": {
          "symbol": "circle"
         },
         "mode": "lines",
         "name": "nEst-100 maxDepth-5 learnRate-0.1 gamma-0.1",
         "orientation": "v",
         "showlegend": true,
         "type": "scatter",
         "x": [
          0.5,
          0.75,
          1
         ],
         "xaxis": "x",
         "y": [
          0.0010764840851609568,
          0.0009885249763554288,
          0.0009734389624181135
         ],
         "yaxis": "y"
        },
        {
         "hovertemplate": "color_srs=nEst-100 maxDepth-5 learnRate-0.1 gamma-0.5<br>subsample=%{x}<br>ave_mse=%{y}<extra></extra>",
         "legendgroup": "nEst-100 maxDepth-5 learnRate-0.1 gamma-0.5",
         "line": {
          "color": "#00cc96",
          "dash": "solid"
         },
         "marker": {
          "symbol": "circle"
         },
         "mode": "lines",
         "name": "nEst-100 maxDepth-5 learnRate-0.1 gamma-0.5",
         "orientation": "v",
         "showlegend": true,
         "type": "scatter",
         "x": [
          0.5,
          0.75,
          1
         ],
         "xaxis": "x",
         "y": [
          0.003743721600967931,
          0.003110935432597112,
          0.0027120976463266043
         ],
         "yaxis": "y"
        },
        {
         "hovertemplate": "color_srs=nEst-100 maxDepth-5 learnRate-0.1 gamma-1<br>subsample=%{x}<br>ave_mse=%{y}<extra></extra>",
         "legendgroup": "nEst-100 maxDepth-5 learnRate-0.1 gamma-1",
         "line": {
          "color": "#ab63fa",
          "dash": "solid"
         },
         "marker": {
          "symbol": "circle"
         },
         "mode": "lines",
         "name": "nEst-100 maxDepth-5 learnRate-0.1 gamma-1",
         "orientation": "v",
         "showlegend": true,
         "type": "scatter",
         "x": [
          0.5,
          0.75,
          1
         ],
         "xaxis": "x",
         "y": [
          0.003954524964920407,
          0.004069333968680934,
          0.004030433985547618
         ],
         "yaxis": "y"
        },
        {
         "hovertemplate": "color_srs=nEst-100 maxDepth-5 learnRate-0.2 gamma-0<br>subsample=%{x}<br>ave_mse=%{y}<extra></extra>",
         "legendgroup": "nEst-100 maxDepth-5 learnRate-0.2 gamma-0",
         "line": {
          "color": "#FFA15A",
          "dash": "solid"
         },
         "marker": {
          "symbol": "circle"
         },
         "mode": "lines",
         "name": "nEst-100 maxDepth-5 learnRate-0.2 gamma-0",
         "orientation": "v",
         "showlegend": true,
         "type": "scatter",
         "x": [
          0.5,
          0.75,
          1
         ],
         "xaxis": "x",
         "y": [
          0.00011187688503494978,
          0.00011644155926964486,
          0.00011338609019687016
         ],
         "yaxis": "y"
        },
        {
         "hovertemplate": "color_srs=nEst-100 maxDepth-5 learnRate-0.2 gamma-0.1<br>subsample=%{x}<br>ave_mse=%{y}<extra></extra>",
         "legendgroup": "nEst-100 maxDepth-5 learnRate-0.2 gamma-0.1",
         "line": {
          "color": "#19d3f3",
          "dash": "solid"
         },
         "marker": {
          "symbol": "circle"
         },
         "mode": "lines",
         "name": "nEst-100 maxDepth-5 learnRate-0.2 gamma-0.1",
         "orientation": "v",
         "showlegend": true,
         "type": "scatter",
         "x": [
          0.5,
          0.75,
          1
         ],
         "xaxis": "x",
         "y": [
          0.0010434035554819248,
          0.0009044738640763465,
          0.0009159114231283873
         ],
         "yaxis": "y"
        },
        {
         "hovertemplate": "color_srs=nEst-100 maxDepth-5 learnRate-0.2 gamma-0.5<br>subsample=%{x}<br>ave_mse=%{y}<extra></extra>",
         "legendgroup": "nEst-100 maxDepth-5 learnRate-0.2 gamma-0.5",
         "line": {
          "color": "#FF6692",
          "dash": "solid"
         },
         "marker": {
          "symbol": "circle"
         },
         "mode": "lines",
         "name": "nEst-100 maxDepth-5 learnRate-0.2 gamma-0.5",
         "orientation": "v",
         "showlegend": true,
         "type": "scatter",
         "x": [
          0.5,
          0.75,
          1
         ],
         "xaxis": "x",
         "y": [
          0.0035368755778683357,
          0.0028183362122048035,
          0.002627176888077958
         ],
         "yaxis": "y"
        },
        {
         "hovertemplate": "color_srs=nEst-100 maxDepth-5 learnRate-0.2 gamma-1<br>subsample=%{x}<br>ave_mse=%{y}<extra></extra>",
         "legendgroup": "nEst-100 maxDepth-5 learnRate-0.2 gamma-1",
         "line": {
          "color": "#B6E880",
          "dash": "solid"
         },
         "marker": {
          "symbol": "circle"
         },
         "mode": "lines",
         "name": "nEst-100 maxDepth-5 learnRate-0.2 gamma-1",
         "orientation": "v",
         "showlegend": true,
         "type": "scatter",
         "x": [
          0.5,
          0.75,
          1
         ],
         "xaxis": "x",
         "y": [
          0.003927939795880537,
          0.004109635712977308,
          0.004029377144396324
         ],
         "yaxis": "y"
        },
        {
         "hovertemplate": "color_srs=nEst-100 maxDepth-5 learnRate-0.3 gamma-0<br>subsample=%{x}<br>ave_mse=%{y}<extra></extra>",
         "legendgroup": "nEst-100 maxDepth-5 learnRate-0.3 gamma-0",
         "line": {
          "color": "#FF97FF",
          "dash": "solid"
         },
         "marker": {
          "symbol": "circle"
         },
         "mode": "lines",
         "name": "nEst-100 maxDepth-5 learnRate-0.3 gamma-0",
         "orientation": "v",
         "showlegend": true,
         "type": "scatter",
         "x": [
          0.5,
          0.75,
          1
         ],
         "xaxis": "x",
         "y": [
          0.00011292130309754658,
          0.00011669721453381064,
          0.00011354248359432182
         ],
         "yaxis": "y"
        },
        {
         "hovertemplate": "color_srs=nEst-100 maxDepth-5 learnRate-0.3 gamma-0.1<br>subsample=%{x}<br>ave_mse=%{y}<extra></extra>",
         "legendgroup": "nEst-100 maxDepth-5 learnRate-0.3 gamma-0.1",
         "line": {
          "color": "#FECB52",
          "dash": "solid"
         },
         "marker": {
          "symbol": "circle"
         },
         "mode": "lines",
         "name": "nEst-100 maxDepth-5 learnRate-0.3 gamma-0.1",
         "orientation": "v",
         "showlegend": true,
         "type": "scatter",
         "x": [
          0.5,
          0.75,
          1
         ],
         "xaxis": "x",
         "y": [
          0.000984935333082876,
          0.0009105598745882551,
          0.0008146882096895193
         ],
         "yaxis": "y"
        },
        {
         "hovertemplate": "color_srs=nEst-100 maxDepth-5 learnRate-0.3 gamma-0.5<br>subsample=%{x}<br>ave_mse=%{y}<extra></extra>",
         "legendgroup": "nEst-100 maxDepth-5 learnRate-0.3 gamma-0.5",
         "line": {
          "color": "#636efa",
          "dash": "solid"
         },
         "marker": {
          "symbol": "circle"
         },
         "mode": "lines",
         "name": "nEst-100 maxDepth-5 learnRate-0.3 gamma-0.5",
         "orientation": "v",
         "showlegend": true,
         "type": "scatter",
         "x": [
          0.5,
          0.75,
          1
         ],
         "xaxis": "x",
         "y": [
          0.003354398501036545,
          0.002502480871751025,
          0.002445476147399895
         ],
         "yaxis": "y"
        },
        {
         "hovertemplate": "color_srs=nEst-100 maxDepth-5 learnRate-0.3 gamma-1<br>subsample=%{x}<br>ave_mse=%{y}<extra></extra>",
         "legendgroup": "nEst-100 maxDepth-5 learnRate-0.3 gamma-1",
         "line": {
          "color": "#EF553B",
          "dash": "solid"
         },
         "marker": {
          "symbol": "circle"
         },
         "mode": "lines",
         "name": "nEst-100 maxDepth-5 learnRate-0.3 gamma-1",
         "orientation": "v",
         "showlegend": true,
         "type": "scatter",
         "x": [
          0.5,
          0.75,
          1
         ],
         "xaxis": "x",
         "y": [
          0.0038929142862987555,
          0.004130297550506146,
          0.0040293768787266135
         ],
         "yaxis": "y"
        },
        {
         "hovertemplate": "color_srs=nEst-200 maxDepth-3 learnRate-0.1 gamma-0<br>subsample=%{x}<br>ave_mse=%{y}<extra></extra>",
         "legendgroup": "nEst-200 maxDepth-3 learnRate-0.1 gamma-0",
         "line": {
          "color": "#00cc96",
          "dash": "solid"
         },
         "marker": {
          "symbol": "circle"
         },
         "mode": "lines",
         "name": "nEst-200 maxDepth-3 learnRate-0.1 gamma-0",
         "orientation": "v",
         "showlegend": true,
         "type": "scatter",
         "x": [
          0.5,
          0.75,
          1
         ],
         "xaxis": "x",
         "y": [
          0.00011027293507186266,
          0.0001243009574556214,
          0.0001189784525305542
         ],
         "yaxis": "y"
        },
        {
         "hovertemplate": "color_srs=nEst-200 maxDepth-3 learnRate-0.1 gamma-0.1<br>subsample=%{x}<br>ave_mse=%{y}<extra></extra>",
         "legendgroup": "nEst-200 maxDepth-3 learnRate-0.1 gamma-0.1",
         "line": {
          "color": "#ab63fa",
          "dash": "solid"
         },
         "marker": {
          "symbol": "circle"
         },
         "mode": "lines",
         "name": "nEst-200 maxDepth-3 learnRate-0.1 gamma-0.1",
         "orientation": "v",
         "showlegend": true,
         "type": "scatter",
         "x": [
          0.5,
          0.75,
          1
         ],
         "xaxis": "x",
         "y": [
          0.0010912018917361645,
          0.000981853935369905,
          0.0009727784186957137
         ],
         "yaxis": "y"
        },
        {
         "hovertemplate": "color_srs=nEst-200 maxDepth-3 learnRate-0.1 gamma-0.5<br>subsample=%{x}<br>ave_mse=%{y}<extra></extra>",
         "legendgroup": "nEst-200 maxDepth-3 learnRate-0.1 gamma-0.5",
         "line": {
          "color": "#FFA15A",
          "dash": "solid"
         },
         "marker": {
          "symbol": "circle"
         },
         "mode": "lines",
         "name": "nEst-200 maxDepth-3 learnRate-0.1 gamma-0.5",
         "orientation": "v",
         "showlegend": true,
         "type": "scatter",
         "x": [
          0.5,
          0.75,
          1
         ],
         "xaxis": "x",
         "y": [
          0.0037125380417892583,
          0.003071519283286704,
          0.002711160555735315
         ],
         "yaxis": "y"
        },
        {
         "hovertemplate": "color_srs=nEst-200 maxDepth-3 learnRate-0.1 gamma-1<br>subsample=%{x}<br>ave_mse=%{y}<extra></extra>",
         "legendgroup": "nEst-200 maxDepth-3 learnRate-0.1 gamma-1",
         "line": {
          "color": "#19d3f3",
          "dash": "solid"
         },
         "marker": {
          "symbol": "circle"
         },
         "mode": "lines",
         "name": "nEst-200 maxDepth-3 learnRate-0.1 gamma-1",
         "orientation": "v",
         "showlegend": true,
         "type": "scatter",
         "x": [
          0.5,
          0.75,
          1
         ],
         "xaxis": "x",
         "y": [
          0.004055927552495324,
          0.0040078909839753206,
          0.0040293789629983956
         ],
         "yaxis": "y"
        },
        {
         "hovertemplate": "color_srs=nEst-200 maxDepth-3 learnRate-0.2 gamma-0<br>subsample=%{x}<br>ave_mse=%{y}<extra></extra>",
         "legendgroup": "nEst-200 maxDepth-3 learnRate-0.2 gamma-0",
         "line": {
          "color": "#FF6692",
          "dash": "solid"
         },
         "marker": {
          "symbol": "circle"
         },
         "mode": "lines",
         "name": "nEst-200 maxDepth-3 learnRate-0.2 gamma-0",
         "orientation": "v",
         "showlegend": true,
         "type": "scatter",
         "x": [
          0.5,
          0.75,
          1
         ],
         "xaxis": "x",
         "y": [
          0.0001243088625225749,
          0.00012459273027709135,
          0.00011431519793351189
         ],
         "yaxis": "y"
        },
        {
         "hovertemplate": "color_srs=nEst-200 maxDepth-3 learnRate-0.2 gamma-0.1<br>subsample=%{x}<br>ave_mse=%{y}<extra></extra>",
         "legendgroup": "nEst-200 maxDepth-3 learnRate-0.2 gamma-0.1",
         "line": {
          "color": "#B6E880",
          "dash": "solid"
         },
         "marker": {
          "symbol": "circle"
         },
         "mode": "lines",
         "name": "nEst-200 maxDepth-3 learnRate-0.2 gamma-0.1",
         "orientation": "v",
         "showlegend": true,
         "type": "scatter",
         "x": [
          0.5,
          0.75,
          1
         ],
         "xaxis": "x",
         "y": [
          0.0010971749185441407,
          0.0008984799282974624,
          0.0009159114231283873
         ],
         "yaxis": "y"
        },
        {
         "hovertemplate": "color_srs=nEst-200 maxDepth-3 learnRate-0.2 gamma-0.5<br>subsample=%{x}<br>ave_mse=%{y}<extra></extra>",
         "legendgroup": "nEst-200 maxDepth-3 learnRate-0.2 gamma-0.5",
         "line": {
          "color": "#FF97FF",
          "dash": "solid"
         },
         "marker": {
          "symbol": "circle"
         },
         "mode": "lines",
         "name": "nEst-200 maxDepth-3 learnRate-0.2 gamma-0.5",
         "orientation": "v",
         "showlegend": true,
         "type": "scatter",
         "x": [
          0.5,
          0.75,
          1
         ],
         "xaxis": "x",
         "y": [
          0.0034247726366163113,
          0.002765738435309776,
          0.002627176888077958
         ],
         "yaxis": "y"
        },
        {
         "hovertemplate": "color_srs=nEst-200 maxDepth-3 learnRate-0.2 gamma-1<br>subsample=%{x}<br>ave_mse=%{y}<extra></extra>",
         "legendgroup": "nEst-200 maxDepth-3 learnRate-0.2 gamma-1",
         "line": {
          "color": "#FECB52",
          "dash": "solid"
         },
         "marker": {
          "symbol": "circle"
         },
         "mode": "lines",
         "name": "nEst-200 maxDepth-3 learnRate-0.2 gamma-1",
         "orientation": "v",
         "showlegend": true,
         "type": "scatter",
         "x": [
          0.5,
          0.75,
          1
         ],
         "xaxis": "x",
         "y": [
          0.004072209303031339,
          0.004019171987613853,
          0.004029377144396324
         ],
         "yaxis": "y"
        },
        {
         "hovertemplate": "color_srs=nEst-200 maxDepth-3 learnRate-0.3 gamma-0<br>subsample=%{x}<br>ave_mse=%{y}<extra></extra>",
         "legendgroup": "nEst-200 maxDepth-3 learnRate-0.3 gamma-0",
         "line": {
          "color": "#636efa",
          "dash": "solid"
         },
         "marker": {
          "symbol": "circle"
         },
         "mode": "lines",
         "name": "nEst-200 maxDepth-3 learnRate-0.3 gamma-0",
         "orientation": "v",
         "showlegend": true,
         "type": "scatter",
         "x": [
          0.5,
          0.75,
          1
         ],
         "xaxis": "x",
         "y": [
          0.0001235895557611907,
          0.00012210965081183413,
          0.00012539824295227392
         ],
         "yaxis": "y"
        },
        {
         "hovertemplate": "color_srs=nEst-200 maxDepth-3 learnRate-0.3 gamma-0.1<br>subsample=%{x}<br>ave_mse=%{y}<extra></extra>",
         "legendgroup": "nEst-200 maxDepth-3 learnRate-0.3 gamma-0.1",
         "line": {
          "color": "#EF553B",
          "dash": "solid"
         },
         "marker": {
          "symbol": "circle"
         },
         "mode": "lines",
         "name": "nEst-200 maxDepth-3 learnRate-0.3 gamma-0.1",
         "orientation": "v",
         "showlegend": true,
         "type": "scatter",
         "x": [
          0.5,
          0.75,
          1
         ],
         "xaxis": "x",
         "y": [
          0.0010434471266101508,
          0.0009083924824223634,
          0.0008146882096895193
         ],
         "yaxis": "y"
        },
        {
         "hovertemplate": "color_srs=nEst-200 maxDepth-3 learnRate-0.3 gamma-0.5<br>subsample=%{x}<br>ave_mse=%{y}<extra></extra>",
         "legendgroup": "nEst-200 maxDepth-3 learnRate-0.3 gamma-0.5",
         "line": {
          "color": "#00cc96",
          "dash": "solid"
         },
         "marker": {
          "symbol": "circle"
         },
         "mode": "lines",
         "name": "nEst-200 maxDepth-3 learnRate-0.3 gamma-0.5",
         "orientation": "v",
         "showlegend": true,
         "type": "scatter",
         "x": [
          0.5,
          0.75,
          1
         ],
         "xaxis": "x",
         "y": [
          0.003182089050186227,
          0.002452508495309356,
          0.002445476147399895
         ],
         "yaxis": "y"
        },
        {
         "hovertemplate": "color_srs=nEst-200 maxDepth-3 learnRate-0.3 gamma-1<br>subsample=%{x}<br>ave_mse=%{y}<extra></extra>",
         "legendgroup": "nEst-200 maxDepth-3 learnRate-0.3 gamma-1",
         "line": {
          "color": "#ab63fa",
          "dash": "solid"
         },
         "marker": {
          "symbol": "circle"
         },
         "mode": "lines",
         "name": "nEst-200 maxDepth-3 learnRate-0.3 gamma-1",
         "orientation": "v",
         "showlegend": true,
         "type": "scatter",
         "x": [
          0.5,
          0.75,
          1
         ],
         "xaxis": "x",
         "y": [
          0.004098295102403832,
          0.0040344444682521765,
          0.0040293768787266135
         ],
         "yaxis": "y"
        },
        {
         "hovertemplate": "color_srs=nEst-200 maxDepth-4 learnRate-0.1 gamma-0<br>subsample=%{x}<br>ave_mse=%{y}<extra></extra>",
         "legendgroup": "nEst-200 maxDepth-4 learnRate-0.1 gamma-0",
         "line": {
          "color": "#FFA15A",
          "dash": "solid"
         },
         "marker": {
          "symbol": "circle"
         },
         "mode": "lines",
         "name": "nEst-200 maxDepth-4 learnRate-0.1 gamma-0",
         "orientation": "v",
         "showlegend": true,
         "type": "scatter",
         "x": [
          0.5,
          0.75,
          1
         ],
         "xaxis": "x",
         "y": [
          0.00011400847170213102,
          0.00011590591245174226,
          0.0001145505365574466
         ],
         "yaxis": "y"
        },
        {
         "hovertemplate": "color_srs=nEst-200 maxDepth-4 learnRate-0.1 gamma-0.1<br>subsample=%{x}<br>ave_mse=%{y}<extra></extra>",
         "legendgroup": "nEst-200 maxDepth-4 learnRate-0.1 gamma-0.1",
         "line": {
          "color": "#19d3f3",
          "dash": "solid"
         },
         "marker": {
          "symbol": "circle"
         },
         "mode": "lines",
         "name": "nEst-200 maxDepth-4 learnRate-0.1 gamma-0.1",
         "orientation": "v",
         "showlegend": true,
         "type": "scatter",
         "x": [
          0.5,
          0.75,
          1
         ],
         "xaxis": "x",
         "y": [
          0.0010912018917361645,
          0.000981853935369905,
          0.0009727784186957137
         ],
         "yaxis": "y"
        },
        {
         "hovertemplate": "color_srs=nEst-200 maxDepth-4 learnRate-0.1 gamma-0.5<br>subsample=%{x}<br>ave_mse=%{y}<extra></extra>",
         "legendgroup": "nEst-200 maxDepth-4 learnRate-0.1 gamma-0.5",
         "line": {
          "color": "#FF6692",
          "dash": "solid"
         },
         "marker": {
          "symbol": "circle"
         },
         "mode": "lines",
         "name": "nEst-200 maxDepth-4 learnRate-0.1 gamma-0.5",
         "orientation": "v",
         "showlegend": true,
         "type": "scatter",
         "x": [
          0.5,
          0.75,
          1
         ],
         "xaxis": "x",
         "y": [
          0.0037125380417892583,
          0.003071519283286704,
          0.002711160555735315
         ],
         "yaxis": "y"
        },
        {
         "hovertemplate": "color_srs=nEst-200 maxDepth-4 learnRate-0.1 gamma-1<br>subsample=%{x}<br>ave_mse=%{y}<extra></extra>",
         "legendgroup": "nEst-200 maxDepth-4 learnRate-0.1 gamma-1",
         "line": {
          "color": "#B6E880",
          "dash": "solid"
         },
         "marker": {
          "symbol": "circle"
         },
         "mode": "lines",
         "name": "nEst-200 maxDepth-4 learnRate-0.1 gamma-1",
         "orientation": "v",
         "showlegend": true,
         "type": "scatter",
         "x": [
          0.5,
          0.75,
          1
         ],
         "xaxis": "x",
         "y": [
          0.004055927552495324,
          0.0040078909839753206,
          0.0040293789629983956
         ],
         "yaxis": "y"
        },
        {
         "hovertemplate": "color_srs=nEst-200 maxDepth-4 learnRate-0.2 gamma-0<br>subsample=%{x}<br>ave_mse=%{y}<extra></extra>",
         "legendgroup": "nEst-200 maxDepth-4 learnRate-0.2 gamma-0",
         "line": {
          "color": "#FF97FF",
          "dash": "solid"
         },
         "marker": {
          "symbol": "circle"
         },
         "mode": "lines",
         "name": "nEst-200 maxDepth-4 learnRate-0.2 gamma-0",
         "orientation": "v",
         "showlegend": true,
         "type": "scatter",
         "x": [
          0.5,
          0.75,
          1
         ],
         "xaxis": "x",
         "y": [
          0.00011573946634166087,
          0.00012171981579960458,
          0.00011163587947493047
         ],
         "yaxis": "y"
        },
        {
         "hovertemplate": "color_srs=nEst-200 maxDepth-4 learnRate-0.2 gamma-0.1<br>subsample=%{x}<br>ave_mse=%{y}<extra></extra>",
         "legendgroup": "nEst-200 maxDepth-4 learnRate-0.2 gamma-0.1",
         "line": {
          "color": "#FECB52",
          "dash": "solid"
         },
         "marker": {
          "symbol": "circle"
         },
         "mode": "lines",
         "name": "nEst-200 maxDepth-4 learnRate-0.2 gamma-0.1",
         "orientation": "v",
         "showlegend": true,
         "type": "scatter",
         "x": [
          0.5,
          0.75,
          1
         ],
         "xaxis": "x",
         "y": [
          0.0010971749185441407,
          0.0008984799282974624,
          0.0009159114231283873
         ],
         "yaxis": "y"
        },
        {
         "hovertemplate": "color_srs=nEst-200 maxDepth-4 learnRate-0.2 gamma-0.5<br>subsample=%{x}<br>ave_mse=%{y}<extra></extra>",
         "legendgroup": "nEst-200 maxDepth-4 learnRate-0.2 gamma-0.5",
         "line": {
          "color": "#636efa",
          "dash": "solid"
         },
         "marker": {
          "symbol": "circle"
         },
         "mode": "lines",
         "name": "nEst-200 maxDepth-4 learnRate-0.2 gamma-0.5",
         "orientation": "v",
         "showlegend": true,
         "type": "scatter",
         "x": [
          0.5,
          0.75,
          1
         ],
         "xaxis": "x",
         "y": [
          0.0034247726366163113,
          0.002765738435309776,
          0.002627176888077958
         ],
         "yaxis": "y"
        },
        {
         "hovertemplate": "color_srs=nEst-200 maxDepth-4 learnRate-0.2 gamma-1<br>subsample=%{x}<br>ave_mse=%{y}<extra></extra>",
         "legendgroup": "nEst-200 maxDepth-4 learnRate-0.2 gamma-1",
         "line": {
          "color": "#EF553B",
          "dash": "solid"
         },
         "marker": {
          "symbol": "circle"
         },
         "mode": "lines",
         "name": "nEst-200 maxDepth-4 learnRate-0.2 gamma-1",
         "orientation": "v",
         "showlegend": true,
         "type": "scatter",
         "x": [
          0.5,
          0.75,
          1
         ],
         "xaxis": "x",
         "y": [
          0.004072209303031339,
          0.004019171987613853,
          0.004029377144396324
         ],
         "yaxis": "y"
        },
        {
         "hovertemplate": "color_srs=nEst-200 maxDepth-4 learnRate-0.3 gamma-0<br>subsample=%{x}<br>ave_mse=%{y}<extra></extra>",
         "legendgroup": "nEst-200 maxDepth-4 learnRate-0.3 gamma-0",
         "line": {
          "color": "#00cc96",
          "dash": "solid"
         },
         "marker": {
          "symbol": "circle"
         },
         "mode": "lines",
         "name": "nEst-200 maxDepth-4 learnRate-0.3 gamma-0",
         "orientation": "v",
         "showlegend": true,
         "type": "scatter",
         "x": [
          0.5,
          0.75,
          1
         ],
         "xaxis": "x",
         "y": [
          0.00011789814055296217,
          0.00011843008706967,
          0.00011874713605815688
         ],
         "yaxis": "y"
        },
        {
         "hovertemplate": "color_srs=nEst-200 maxDepth-4 learnRate-0.3 gamma-0.1<br>subsample=%{x}<br>ave_mse=%{y}<extra></extra>",
         "legendgroup": "nEst-200 maxDepth-4 learnRate-0.3 gamma-0.1",
         "line": {
          "color": "#ab63fa",
          "dash": "solid"
         },
         "marker": {
          "symbol": "circle"
         },
         "mode": "lines",
         "name": "nEst-200 maxDepth-4 learnRate-0.3 gamma-0.1",
         "orientation": "v",
         "showlegend": true,
         "type": "scatter",
         "x": [
          0.5,
          0.75,
          1
         ],
         "xaxis": "x",
         "y": [
          0.0010434471266101508,
          0.0009083924824223634,
          0.0008146882096895193
         ],
         "yaxis": "y"
        },
        {
         "hovertemplate": "color_srs=nEst-200 maxDepth-4 learnRate-0.3 gamma-0.5<br>subsample=%{x}<br>ave_mse=%{y}<extra></extra>",
         "legendgroup": "nEst-200 maxDepth-4 learnRate-0.3 gamma-0.5",
         "line": {
          "color": "#FFA15A",
          "dash": "solid"
         },
         "marker": {
          "symbol": "circle"
         },
         "mode": "lines",
         "name": "nEst-200 maxDepth-4 learnRate-0.3 gamma-0.5",
         "orientation": "v",
         "showlegend": true,
         "type": "scatter",
         "x": [
          0.5,
          0.75,
          1
         ],
         "xaxis": "x",
         "y": [
          0.003182089050186227,
          0.002452508495309356,
          0.002445476147399895
         ],
         "yaxis": "y"
        },
        {
         "hovertemplate": "color_srs=nEst-200 maxDepth-4 learnRate-0.3 gamma-1<br>subsample=%{x}<br>ave_mse=%{y}<extra></extra>",
         "legendgroup": "nEst-200 maxDepth-4 learnRate-0.3 gamma-1",
         "line": {
          "color": "#19d3f3",
          "dash": "solid"
         },
         "marker": {
          "symbol": "circle"
         },
         "mode": "lines",
         "name": "nEst-200 maxDepth-4 learnRate-0.3 gamma-1",
         "orientation": "v",
         "showlegend": true,
         "type": "scatter",
         "x": [
          0.5,
          0.75,
          1
         ],
         "xaxis": "x",
         "y": [
          0.004098295102403832,
          0.0040344444682521765,
          0.0040293768787266135
         ],
         "yaxis": "y"
        },
        {
         "hovertemplate": "color_srs=nEst-200 maxDepth-5 learnRate-0.1 gamma-0<br>subsample=%{x}<br>ave_mse=%{y}<extra></extra>",
         "legendgroup": "nEst-200 maxDepth-5 learnRate-0.1 gamma-0",
         "line": {
          "color": "#FF6692",
          "dash": "solid"
         },
         "marker": {
          "symbol": "circle"
         },
         "mode": "lines",
         "name": "nEst-200 maxDepth-5 learnRate-0.1 gamma-0",
         "orientation": "v",
         "showlegend": true,
         "type": "scatter",
         "x": [
          0.5,
          0.75,
          1
         ],
         "xaxis": "x",
         "y": [
          0.00011385669209766918,
          0.00011667957341234647,
          0.0001135625570599527
         ],
         "yaxis": "y"
        },
        {
         "hovertemplate": "color_srs=nEst-200 maxDepth-5 learnRate-0.1 gamma-0.1<br>subsample=%{x}<br>ave_mse=%{y}<extra></extra>",
         "legendgroup": "nEst-200 maxDepth-5 learnRate-0.1 gamma-0.1",
         "line": {
          "color": "#B6E880",
          "dash": "solid"
         },
         "marker": {
          "symbol": "circle"
         },
         "mode": "lines",
         "name": "nEst-200 maxDepth-5 learnRate-0.1 gamma-0.1",
         "orientation": "v",
         "showlegend": true,
         "type": "scatter",
         "x": [
          0.5,
          0.75,
          1
         ],
         "xaxis": "x",
         "y": [
          0.0010912018917361645,
          0.000981853935369905,
          0.0009727784186957137
         ],
         "yaxis": "y"
        },
        {
         "hovertemplate": "color_srs=nEst-200 maxDepth-5 learnRate-0.1 gamma-0.5<br>subsample=%{x}<br>ave_mse=%{y}<extra></extra>",
         "legendgroup": "nEst-200 maxDepth-5 learnRate-0.1 gamma-0.5",
         "line": {
          "color": "#FF97FF",
          "dash": "solid"
         },
         "marker": {
          "symbol": "circle"
         },
         "mode": "lines",
         "name": "nEst-200 maxDepth-5 learnRate-0.1 gamma-0.5",
         "orientation": "v",
         "showlegend": true,
         "type": "scatter",
         "x": [
          0.5,
          0.75,
          1
         ],
         "xaxis": "x",
         "y": [
          0.0037125380417892583,
          0.003071519283286704,
          0.002711160555735315
         ],
         "yaxis": "y"
        },
        {
         "hovertemplate": "color_srs=nEst-200 maxDepth-5 learnRate-0.1 gamma-1<br>subsample=%{x}<br>ave_mse=%{y}<extra></extra>",
         "legendgroup": "nEst-200 maxDepth-5 learnRate-0.1 gamma-1",
         "line": {
          "color": "#FECB52",
          "dash": "solid"
         },
         "marker": {
          "symbol": "circle"
         },
         "mode": "lines",
         "name": "nEst-200 maxDepth-5 learnRate-0.1 gamma-1",
         "orientation": "v",
         "showlegend": true,
         "type": "scatter",
         "x": [
          0.5,
          0.75,
          1
         ],
         "xaxis": "x",
         "y": [
          0.004055927552495324,
          0.0040078909839753206,
          0.0040293789629983956
         ],
         "yaxis": "y"
        },
        {
         "hovertemplate": "color_srs=nEst-200 maxDepth-5 learnRate-0.2 gamma-0<br>subsample=%{x}<br>ave_mse=%{y}<extra></extra>",
         "legendgroup": "nEst-200 maxDepth-5 learnRate-0.2 gamma-0",
         "line": {
          "color": "#636efa",
          "dash": "solid"
         },
         "marker": {
          "symbol": "circle"
         },
         "mode": "lines",
         "name": "nEst-200 maxDepth-5 learnRate-0.2 gamma-0",
         "orientation": "v",
         "showlegend": true,
         "type": "scatter",
         "x": [
          0.5,
          0.75,
          1
         ],
         "xaxis": "x",
         "y": [
          0.00011244458809834244,
          0.00011691937329019175,
          0.00011338608883530356
         ],
         "yaxis": "y"
        },
        {
         "hovertemplate": "color_srs=nEst-200 maxDepth-5 learnRate-0.2 gamma-0.1<br>subsample=%{x}<br>ave_mse=%{y}<extra></extra>",
         "legendgroup": "nEst-200 maxDepth-5 learnRate-0.2 gamma-0.1",
         "line": {
          "color": "#EF553B",
          "dash": "solid"
         },
         "marker": {
          "symbol": "circle"
         },
         "mode": "lines",
         "name": "nEst-200 maxDepth-5 learnRate-0.2 gamma-0.1",
         "orientation": "v",
         "showlegend": true,
         "type": "scatter",
         "x": [
          0.5,
          0.75,
          1
         ],
         "xaxis": "x",
         "y": [
          0.0010971749185441407,
          0.0008984799282974624,
          0.0009159114231283873
         ],
         "yaxis": "y"
        },
        {
         "hovertemplate": "color_srs=nEst-200 maxDepth-5 learnRate-0.2 gamma-0.5<br>subsample=%{x}<br>ave_mse=%{y}<extra></extra>",
         "legendgroup": "nEst-200 maxDepth-5 learnRate-0.2 gamma-0.5",
         "line": {
          "color": "#00cc96",
          "dash": "solid"
         },
         "marker": {
          "symbol": "circle"
         },
         "mode": "lines",
         "name": "nEst-200 maxDepth-5 learnRate-0.2 gamma-0.5",
         "orientation": "v",
         "showlegend": true,
         "type": "scatter",
         "x": [
          0.5,
          0.75,
          1
         ],
         "xaxis": "x",
         "y": [
          0.0034247726366163113,
          0.002765738435309776,
          0.002627176888077958
         ],
         "yaxis": "y"
        },
        {
         "hovertemplate": "color_srs=nEst-200 maxDepth-5 learnRate-0.2 gamma-1<br>subsample=%{x}<br>ave_mse=%{y}<extra></extra>",
         "legendgroup": "nEst-200 maxDepth-5 learnRate-0.2 gamma-1",
         "line": {
          "color": "#ab63fa",
          "dash": "solid"
         },
         "marker": {
          "symbol": "circle"
         },
         "mode": "lines",
         "name": "nEst-200 maxDepth-5 learnRate-0.2 gamma-1",
         "orientation": "v",
         "showlegend": true,
         "type": "scatter",
         "x": [
          0.5,
          0.75,
          1
         ],
         "xaxis": "x",
         "y": [
          0.004072209303031339,
          0.004019171987613853,
          0.004029377144396324
         ],
         "yaxis": "y"
        },
        {
         "hovertemplate": "color_srs=nEst-200 maxDepth-5 learnRate-0.3 gamma-0<br>subsample=%{x}<br>ave_mse=%{y}<extra></extra>",
         "legendgroup": "nEst-200 maxDepth-5 learnRate-0.3 gamma-0",
         "line": {
          "color": "#FFA15A",
          "dash": "solid"
         },
         "marker": {
          "symbol": "circle"
         },
         "mode": "lines",
         "name": "nEst-200 maxDepth-5 learnRate-0.3 gamma-0",
         "orientation": "v",
         "showlegend": true,
         "type": "scatter",
         "x": [
          0.5,
          0.75,
          1
         ],
         "xaxis": "x",
         "y": [
          0.00011296736927417799,
          0.00011672494260286134,
          0.0001135424846857751
         ],
         "yaxis": "y"
        },
        {
         "hovertemplate": "color_srs=nEst-200 maxDepth-5 learnRate-0.3 gamma-0.1<br>subsample=%{x}<br>ave_mse=%{y}<extra></extra>",
         "legendgroup": "nEst-200 maxDepth-5 learnRate-0.3 gamma-0.1",
         "line": {
          "color": "#19d3f3",
          "dash": "solid"
         },
         "marker": {
          "symbol": "circle"
         },
         "mode": "lines",
         "name": "nEst-200 maxDepth-5 learnRate-0.3 gamma-0.1",
         "orientation": "v",
         "showlegend": true,
         "type": "scatter",
         "x": [
          0.5,
          0.75,
          1
         ],
         "xaxis": "x",
         "y": [
          0.0010434471266101508,
          0.0009083924824223634,
          0.0008146882096895193
         ],
         "yaxis": "y"
        },
        {
         "hovertemplate": "color_srs=nEst-200 maxDepth-5 learnRate-0.3 gamma-0.5<br>subsample=%{x}<br>ave_mse=%{y}<extra></extra>",
         "legendgroup": "nEst-200 maxDepth-5 learnRate-0.3 gamma-0.5",
         "line": {
          "color": "#FF6692",
          "dash": "solid"
         },
         "marker": {
          "symbol": "circle"
         },
         "mode": "lines",
         "name": "nEst-200 maxDepth-5 learnRate-0.3 gamma-0.5",
         "orientation": "v",
         "showlegend": true,
         "type": "scatter",
         "x": [
          0.5,
          0.75,
          1
         ],
         "xaxis": "x",
         "y": [
          0.003182089050186227,
          0.002452508495309356,
          0.002445476147399895
         ],
         "yaxis": "y"
        },
        {
         "hovertemplate": "color_srs=nEst-200 maxDepth-5 learnRate-0.3 gamma-1<br>subsample=%{x}<br>ave_mse=%{y}<extra></extra>",
         "legendgroup": "nEst-200 maxDepth-5 learnRate-0.3 gamma-1",
         "line": {
          "color": "#B6E880",
          "dash": "solid"
         },
         "marker": {
          "symbol": "circle"
         },
         "mode": "lines",
         "name": "nEst-200 maxDepth-5 learnRate-0.3 gamma-1",
         "orientation": "v",
         "showlegend": true,
         "type": "scatter",
         "x": [
          0.5,
          0.75,
          1
         ],
         "xaxis": "x",
         "y": [
          0.004098295102403832,
          0.0040344444682521765,
          0.0040293768787266135
         ],
         "yaxis": "y"
        },
        {
         "hovertemplate": "color_srs=nEst-300 maxDepth-3 learnRate-0.1 gamma-0<br>subsample=%{x}<br>ave_mse=%{y}<extra></extra>",
         "legendgroup": "nEst-300 maxDepth-3 learnRate-0.1 gamma-0",
         "line": {
          "color": "#FF97FF",
          "dash": "solid"
         },
         "marker": {
          "symbol": "circle"
         },
         "mode": "lines",
         "name": "nEst-300 maxDepth-3 learnRate-0.1 gamma-0",
         "orientation": "v",
         "showlegend": true,
         "type": "scatter",
         "x": [
          0.5,
          0.75,
          1
         ],
         "xaxis": "x",
         "y": [
          0.0001178300132442868,
          0.00012795014204107844,
          0.00011897846057994147
         ],
         "yaxis": "y"
        },
        {
         "hovertemplate": "color_srs=nEst-300 maxDepth-3 learnRate-0.1 gamma-0.1<br>subsample=%{x}<br>ave_mse=%{y}<extra></extra>",
         "legendgroup": "nEst-300 maxDepth-3 learnRate-0.1 gamma-0.1",
         "line": {
          "color": "#FECB52",
          "dash": "solid"
         },
         "marker": {
          "symbol": "circle"
         },
         "mode": "lines",
         "name": "nEst-300 maxDepth-3 learnRate-0.1 gamma-0.1",
         "orientation": "v",
         "showlegend": true,
         "type": "scatter",
         "x": [
          0.5,
          0.75,
          1
         ],
         "xaxis": "x",
         "y": [
          0.0010491871767649402,
          0.0009687614070758877,
          0.0009727784186957137
         ],
         "yaxis": "y"
        },
        {
         "hovertemplate": "color_srs=nEst-300 maxDepth-3 learnRate-0.1 gamma-0.5<br>subsample=%{x}<br>ave_mse=%{y}<extra></extra>",
         "legendgroup": "nEst-300 maxDepth-3 learnRate-0.1 gamma-0.5",
         "line": {
          "color": "#636efa",
          "dash": "solid"
         },
         "marker": {
          "symbol": "circle"
         },
         "mode": "lines",
         "name": "nEst-300 maxDepth-3 learnRate-0.1 gamma-0.5",
         "orientation": "v",
         "showlegend": true,
         "type": "scatter",
         "x": [
          0.5,
          0.75,
          1
         ],
         "xaxis": "x",
         "y": [
          0.003702329504475676,
          0.002995641142148804,
          0.002711160555735315
         ],
         "yaxis": "y"
        },
        {
         "hovertemplate": "color_srs=nEst-300 maxDepth-3 learnRate-0.1 gamma-1<br>subsample=%{x}<br>ave_mse=%{y}<extra></extra>",
         "legendgroup": "nEst-300 maxDepth-3 learnRate-0.1 gamma-1",
         "line": {
          "color": "#EF553B",
          "dash": "solid"
         },
         "marker": {
          "symbol": "circle"
         },
         "mode": "lines",
         "name": "nEst-300 maxDepth-3 learnRate-0.1 gamma-1",
         "orientation": "v",
         "showlegend": true,
         "type": "scatter",
         "x": [
          0.5,
          0.75,
          1
         ],
         "xaxis": "x",
         "y": [
          0.004043403214307188,
          0.0040530007855776005,
          0.0040293789629983956
         ],
         "yaxis": "y"
        },
        {
         "hovertemplate": "color_srs=nEst-300 maxDepth-3 learnRate-0.2 gamma-0<br>subsample=%{x}<br>ave_mse=%{y}<extra></extra>",
         "legendgroup": "nEst-300 maxDepth-3 learnRate-0.2 gamma-0",
         "line": {
          "color": "#00cc96",
          "dash": "solid"
         },
         "marker": {
          "symbol": "circle"
         },
         "mode": "lines",
         "name": "nEst-300 maxDepth-3 learnRate-0.2 gamma-0",
         "orientation": "v",
         "showlegend": true,
         "type": "scatter",
         "x": [
          0.5,
          0.75,
          1
         ],
         "xaxis": "x",
         "y": [
          0.00012839088430541439,
          0.000127128423460102,
          0.00011431520174683
         ],
         "yaxis": "y"
        },
        {
         "hovertemplate": "color_srs=nEst-300 maxDepth-3 learnRate-0.2 gamma-0.1<br>subsample=%{x}<br>ave_mse=%{y}<extra></extra>",
         "legendgroup": "nEst-300 maxDepth-3 learnRate-0.2 gamma-0.1",
         "line": {
          "color": "#ab63fa",
          "dash": "solid"
         },
         "marker": {
          "symbol": "circle"
         },
         "mode": "lines",
         "name": "nEst-300 maxDepth-3 learnRate-0.2 gamma-0.1",
         "orientation": "v",
         "showlegend": true,
         "type": "scatter",
         "x": [
          0.5,
          0.75,
          1
         ],
         "xaxis": "x",
         "y": [
          0.001070656915542416,
          0.0008959481041005406,
          0.0009159114231283873
         ],
         "yaxis": "y"
        },
        {
         "hovertemplate": "color_srs=nEst-300 maxDepth-3 learnRate-0.2 gamma-0.5<br>subsample=%{x}<br>ave_mse=%{y}<extra></extra>",
         "legendgroup": "nEst-300 maxDepth-3 learnRate-0.2 gamma-0.5",
         "line": {
          "color": "#FFA15A",
          "dash": "solid"
         },
         "marker": {
          "symbol": "circle"
         },
         "mode": "lines",
         "name": "nEst-300 maxDepth-3 learnRate-0.2 gamma-0.5",
         "orientation": "v",
         "showlegend": true,
         "type": "scatter",
         "x": [
          0.5,
          0.75,
          1
         ],
         "xaxis": "x",
         "y": [
          0.0034062031340718136,
          0.0027830060460754336,
          0.002627176888077958
         ],
         "yaxis": "y"
        },
        {
         "hovertemplate": "color_srs=nEst-300 maxDepth-3 learnRate-0.2 gamma-1<br>subsample=%{x}<br>ave_mse=%{y}<extra></extra>",
         "legendgroup": "nEst-300 maxDepth-3 learnRate-0.2 gamma-1",
         "line": {
          "color": "#19d3f3",
          "dash": "solid"
         },
         "marker": {
          "symbol": "circle"
         },
         "mode": "lines",
         "name": "nEst-300 maxDepth-3 learnRate-0.2 gamma-1",
         "orientation": "v",
         "showlegend": true,
         "type": "scatter",
         "x": [
          0.5,
          0.75,
          1
         ],
         "xaxis": "x",
         "y": [
          0.004040956035121626,
          0.004062541865343551,
          0.004029377144396324
         ],
         "yaxis": "y"
        },
        {
         "hovertemplate": "color_srs=nEst-300 maxDepth-3 learnRate-0.3 gamma-0<br>subsample=%{x}<br>ave_mse=%{y}<extra></extra>",
         "legendgroup": "nEst-300 maxDepth-3 learnRate-0.3 gamma-0",
         "line": {
          "color": "#FF6692",
          "dash": "solid"
         },
         "marker": {
          "symbol": "circle"
         },
         "mode": "lines",
         "name": "nEst-300 maxDepth-3 learnRate-0.3 gamma-0",
         "orientation": "v",
         "showlegend": true,
         "type": "scatter",
         "x": [
          0.5,
          0.75,
          1
         ],
         "xaxis": "x",
         "y": [
          0.00012258098279538187,
          0.00012431985256005298,
          0.000125398249073538
         ],
         "yaxis": "y"
        },
        {
         "hovertemplate": "color_srs=nEst-300 maxDepth-3 learnRate-0.3 gamma-0.1<br>subsample=%{x}<br>ave_mse=%{y}<extra></extra>",
         "legendgroup": "nEst-300 maxDepth-3 learnRate-0.3 gamma-0.1",
         "line": {
          "color": "#B6E880",
          "dash": "solid"
         },
         "marker": {
          "symbol": "circle"
         },
         "mode": "lines",
         "name": "nEst-300 maxDepth-3 learnRate-0.3 gamma-0.1",
         "orientation": "v",
         "showlegend": true,
         "type": "scatter",
         "x": [
          0.5,
          0.75,
          1
         ],
         "xaxis": "x",
         "y": [
          0.0010234756353993883,
          0.0008009827046244576,
          0.0008146882096895193
         ],
         "yaxis": "y"
        },
        {
         "hovertemplate": "color_srs=nEst-300 maxDepth-3 learnRate-0.3 gamma-0.5<br>subsample=%{x}<br>ave_mse=%{y}<extra></extra>",
         "legendgroup": "nEst-300 maxDepth-3 learnRate-0.3 gamma-0.5",
         "line": {
          "color": "#FF97FF",
          "dash": "solid"
         },
         "marker": {
          "symbol": "circle"
         },
         "mode": "lines",
         "name": "nEst-300 maxDepth-3 learnRate-0.3 gamma-0.5",
         "orientation": "v",
         "showlegend": true,
         "type": "scatter",
         "x": [
          0.5,
          0.75,
          1
         ],
         "xaxis": "x",
         "y": [
          0.0031657049488716484,
          0.0024568257879322873,
          0.002445476147399895
         ],
         "yaxis": "y"
        },
        {
         "hovertemplate": "color_srs=nEst-300 maxDepth-3 learnRate-0.3 gamma-1<br>subsample=%{x}<br>ave_mse=%{y}<extra></extra>",
         "legendgroup": "nEst-300 maxDepth-3 learnRate-0.3 gamma-1",
         "line": {
          "color": "#FECB52",
          "dash": "solid"
         },
         "marker": {
          "symbol": "circle"
         },
         "mode": "lines",
         "name": "nEst-300 maxDepth-3 learnRate-0.3 gamma-1",
         "orientation": "v",
         "showlegend": true,
         "type": "scatter",
         "x": [
          0.5,
          0.75,
          1
         ],
         "xaxis": "x",
         "y": [
          0.0040477791451710605,
          0.004064645329809298,
          0.0040293768787266135
         ],
         "yaxis": "y"
        },
        {
         "hovertemplate": "color_srs=nEst-300 maxDepth-4 learnRate-0.1 gamma-0<br>subsample=%{x}<br>ave_mse=%{y}<extra></extra>",
         "legendgroup": "nEst-300 maxDepth-4 learnRate-0.1 gamma-0",
         "line": {
          "color": "#636efa",
          "dash": "solid"
         },
         "marker": {
          "symbol": "circle"
         },
         "mode": "lines",
         "name": "nEst-300 maxDepth-4 learnRate-0.1 gamma-0",
         "orientation": "v",
         "showlegend": true,
         "type": "scatter",
         "x": [
          0.5,
          0.75,
          1
         ],
         "xaxis": "x",
         "y": [
          0.00011692897310000264,
          0.00011731533244676276,
          0.00011455054021337588
         ],
         "yaxis": "y"
        },
        {
         "hovertemplate": "color_srs=nEst-300 maxDepth-4 learnRate-0.1 gamma-0.1<br>subsample=%{x}<br>ave_mse=%{y}<extra></extra>",
         "legendgroup": "nEst-300 maxDepth-4 learnRate-0.1 gamma-0.1",
         "line": {
          "color": "#EF553B",
          "dash": "solid"
         },
         "marker": {
          "symbol": "circle"
         },
         "mode": "lines",
         "name": "nEst-300 maxDepth-4 learnRate-0.1 gamma-0.1",
         "orientation": "v",
         "showlegend": true,
         "type": "scatter",
         "x": [
          0.5,
          0.75,
          1
         ],
         "xaxis": "x",
         "y": [
          0.0010491871767649402,
          0.0009687614070758877,
          0.0009727784186957137
         ],
         "yaxis": "y"
        },
        {
         "hovertemplate": "color_srs=nEst-300 maxDepth-4 learnRate-0.1 gamma-0.5<br>subsample=%{x}<br>ave_mse=%{y}<extra></extra>",
         "legendgroup": "nEst-300 maxDepth-4 learnRate-0.1 gamma-0.5",
         "line": {
          "color": "#00cc96",
          "dash": "solid"
         },
         "marker": {
          "symbol": "circle"
         },
         "mode": "lines",
         "name": "nEst-300 maxDepth-4 learnRate-0.1 gamma-0.5",
         "orientation": "v",
         "showlegend": true,
         "type": "scatter",
         "x": [
          0.5,
          0.75,
          1
         ],
         "xaxis": "x",
         "y": [
          0.003702329504475676,
          0.002995641142148804,
          0.002711160555735315
         ],
         "yaxis": "y"
        },
        {
         "hovertemplate": "color_srs=nEst-300 maxDepth-4 learnRate-0.1 gamma-1<br>subsample=%{x}<br>ave_mse=%{y}<extra></extra>",
         "legendgroup": "nEst-300 maxDepth-4 learnRate-0.1 gamma-1",
         "line": {
          "color": "#ab63fa",
          "dash": "solid"
         },
         "marker": {
          "symbol": "circle"
         },
         "mode": "lines",
         "name": "nEst-300 maxDepth-4 learnRate-0.1 gamma-1",
         "orientation": "v",
         "showlegend": true,
         "type": "scatter",
         "x": [
          0.5,
          0.75,
          1
         ],
         "xaxis": "x",
         "y": [
          0.004043403214307188,
          0.0040530007855776005,
          0.0040293789629983956
         ],
         "yaxis": "y"
        },
        {
         "hovertemplate": "color_srs=nEst-300 maxDepth-4 learnRate-0.2 gamma-0<br>subsample=%{x}<br>ave_mse=%{y}<extra></extra>",
         "legendgroup": "nEst-300 maxDepth-4 learnRate-0.2 gamma-0",
         "line": {
          "color": "#FFA15A",
          "dash": "solid"
         },
         "marker": {
          "symbol": "circle"
         },
         "mode": "lines",
         "name": "nEst-300 maxDepth-4 learnRate-0.2 gamma-0",
         "orientation": "v",
         "showlegend": true,
         "type": "scatter",
         "x": [
          0.5,
          0.75,
          1
         ],
         "xaxis": "x",
         "y": [
          0.0001158504738806893,
          0.00012210092812258515,
          0.00011163588396450566
         ],
         "yaxis": "y"
        },
        {
         "hovertemplate": "color_srs=nEst-300 maxDepth-4 learnRate-0.2 gamma-0.1<br>subsample=%{x}<br>ave_mse=%{y}<extra></extra>",
         "legendgroup": "nEst-300 maxDepth-4 learnRate-0.2 gamma-0.1",
         "line": {
          "color": "#19d3f3",
          "dash": "solid"
         },
         "marker": {
          "symbol": "circle"
         },
         "mode": "lines",
         "name": "nEst-300 maxDepth-4 learnRate-0.2 gamma-0.1",
         "orientation": "v",
         "showlegend": true,
         "type": "scatter",
         "x": [
          0.5,
          0.75,
          1
         ],
         "xaxis": "x",
         "y": [
          0.001070656915542416,
          0.0008959481041005406,
          0.0009159114231283873
         ],
         "yaxis": "y"
        },
        {
         "hovertemplate": "color_srs=nEst-300 maxDepth-4 learnRate-0.2 gamma-0.5<br>subsample=%{x}<br>ave_mse=%{y}<extra></extra>",
         "legendgroup": "nEst-300 maxDepth-4 learnRate-0.2 gamma-0.5",
         "line": {
          "color": "#FF6692",
          "dash": "solid"
         },
         "marker": {
          "symbol": "circle"
         },
         "mode": "lines",
         "name": "nEst-300 maxDepth-4 learnRate-0.2 gamma-0.5",
         "orientation": "v",
         "showlegend": true,
         "type": "scatter",
         "x": [
          0.5,
          0.75,
          1
         ],
         "xaxis": "x",
         "y": [
          0.0034062031340718136,
          0.0027830060460754336,
          0.002627176888077958
         ],
         "yaxis": "y"
        },
        {
         "hovertemplate": "color_srs=nEst-300 maxDepth-4 learnRate-0.2 gamma-1<br>subsample=%{x}<br>ave_mse=%{y}<extra></extra>",
         "legendgroup": "nEst-300 maxDepth-4 learnRate-0.2 gamma-1",
         "line": {
          "color": "#B6E880",
          "dash": "solid"
         },
         "marker": {
          "symbol": "circle"
         },
         "mode": "lines",
         "name": "nEst-300 maxDepth-4 learnRate-0.2 gamma-1",
         "orientation": "v",
         "showlegend": true,
         "type": "scatter",
         "x": [
          0.5,
          0.75,
          1
         ],
         "xaxis": "x",
         "y": [
          0.004040956035121626,
          0.004062541865343551,
          0.004029377144396324
         ],
         "yaxis": "y"
        },
        {
         "hovertemplate": "color_srs=nEst-300 maxDepth-4 learnRate-0.3 gamma-0<br>subsample=%{x}<br>ave_mse=%{y}<extra></extra>",
         "legendgroup": "nEst-300 maxDepth-4 learnRate-0.3 gamma-0",
         "line": {
          "color": "#FF97FF",
          "dash": "solid"
         },
         "marker": {
          "symbol": "circle"
         },
         "mode": "lines",
         "name": "nEst-300 maxDepth-4 learnRate-0.3 gamma-0",
         "orientation": "v",
         "showlegend": true,
         "type": "scatter",
         "x": [
          0.5,
          0.75,
          1
         ],
         "xaxis": "x",
         "y": [
          0.00011865736140835208,
          0.0001185055300927902,
          0.0001187471401477709
         ],
         "yaxis": "y"
        },
        {
         "hovertemplate": "color_srs=nEst-300 maxDepth-4 learnRate-0.3 gamma-0.1<br>subsample=%{x}<br>ave_mse=%{y}<extra></extra>",
         "legendgroup": "nEst-300 maxDepth-4 learnRate-0.3 gamma-0.1",
         "line": {
          "color": "#FECB52",
          "dash": "solid"
         },
         "marker": {
          "symbol": "circle"
         },
         "mode": "lines",
         "name": "nEst-300 maxDepth-4 learnRate-0.3 gamma-0.1",
         "orientation": "v",
         "showlegend": true,
         "type": "scatter",
         "x": [
          0.5,
          0.75,
          1
         ],
         "xaxis": "x",
         "y": [
          0.0010234756353993883,
          0.0008009827046244576,
          0.0008146882096895193
         ],
         "yaxis": "y"
        },
        {
         "hovertemplate": "color_srs=nEst-300 maxDepth-4 learnRate-0.3 gamma-0.5<br>subsample=%{x}<br>ave_mse=%{y}<extra></extra>",
         "legendgroup": "nEst-300 maxDepth-4 learnRate-0.3 gamma-0.5",
         "line": {
          "color": "#636efa",
          "dash": "solid"
         },
         "marker": {
          "symbol": "circle"
         },
         "mode": "lines",
         "name": "nEst-300 maxDepth-4 learnRate-0.3 gamma-0.5",
         "orientation": "v",
         "showlegend": true,
         "type": "scatter",
         "x": [
          0.5,
          0.75,
          1
         ],
         "xaxis": "x",
         "y": [
          0.0031657049488716484,
          0.0024568257879322873,
          0.002445476147399895
         ],
         "yaxis": "y"
        },
        {
         "hovertemplate": "color_srs=nEst-300 maxDepth-4 learnRate-0.3 gamma-1<br>subsample=%{x}<br>ave_mse=%{y}<extra></extra>",
         "legendgroup": "nEst-300 maxDepth-4 learnRate-0.3 gamma-1",
         "line": {
          "color": "#EF553B",
          "dash": "solid"
         },
         "marker": {
          "symbol": "circle"
         },
         "mode": "lines",
         "name": "nEst-300 maxDepth-4 learnRate-0.3 gamma-1",
         "orientation": "v",
         "showlegend": true,
         "type": "scatter",
         "x": [
          0.5,
          0.75,
          1
         ],
         "xaxis": "x",
         "y": [
          0.0040477791451710605,
          0.004064645329809298,
          0.0040293768787266135
         ],
         "yaxis": "y"
        },
        {
         "hovertemplate": "color_srs=nEst-300 maxDepth-5 learnRate-0.1 gamma-0<br>subsample=%{x}<br>ave_mse=%{y}<extra></extra>",
         "legendgroup": "nEst-300 maxDepth-5 learnRate-0.1 gamma-0",
         "line": {
          "color": "#00cc96",
          "dash": "solid"
         },
         "marker": {
          "symbol": "circle"
         },
         "mode": "lines",
         "name": "nEst-300 maxDepth-5 learnRate-0.1 gamma-0",
         "orientation": "v",
         "showlegend": true,
         "type": "scatter",
         "x": [
          0.5,
          0.75,
          1
         ],
         "xaxis": "x",
         "y": [
          0.000114969828310703,
          0.00011672984352045998,
          0.00011356254851732972
         ],
         "yaxis": "y"
        },
        {
         "hovertemplate": "color_srs=nEst-300 maxDepth-5 learnRate-0.1 gamma-0.1<br>subsample=%{x}<br>ave_mse=%{y}<extra></extra>",
         "legendgroup": "nEst-300 maxDepth-5 learnRate-0.1 gamma-0.1",
         "line": {
          "color": "#ab63fa",
          "dash": "solid"
         },
         "marker": {
          "symbol": "circle"
         },
         "mode": "lines",
         "name": "nEst-300 maxDepth-5 learnRate-0.1 gamma-0.1",
         "orientation": "v",
         "showlegend": true,
         "type": "scatter",
         "x": [
          0.5,
          0.75,
          1
         ],
         "xaxis": "x",
         "y": [
          0.0010491871767649402,
          0.0009687614070758877,
          0.0009727784186957137
         ],
         "yaxis": "y"
        },
        {
         "hovertemplate": "color_srs=nEst-300 maxDepth-5 learnRate-0.1 gamma-0.5<br>subsample=%{x}<br>ave_mse=%{y}<extra></extra>",
         "legendgroup": "nEst-300 maxDepth-5 learnRate-0.1 gamma-0.5",
         "line": {
          "color": "#FFA15A",
          "dash": "solid"
         },
         "marker": {
          "symbol": "circle"
         },
         "mode": "lines",
         "name": "nEst-300 maxDepth-5 learnRate-0.1 gamma-0.5",
         "orientation": "v",
         "showlegend": true,
         "type": "scatter",
         "x": [
          0.5,
          0.75,
          1
         ],
         "xaxis": "x",
         "y": [
          0.003702329504475676,
          0.002995641142148804,
          0.002711160555735315
         ],
         "yaxis": "y"
        },
        {
         "hovertemplate": "color_srs=nEst-300 maxDepth-5 learnRate-0.1 gamma-1<br>subsample=%{x}<br>ave_mse=%{y}<extra></extra>",
         "legendgroup": "nEst-300 maxDepth-5 learnRate-0.1 gamma-1",
         "line": {
          "color": "#19d3f3",
          "dash": "solid"
         },
         "marker": {
          "symbol": "circle"
         },
         "mode": "lines",
         "name": "nEst-300 maxDepth-5 learnRate-0.1 gamma-1",
         "orientation": "v",
         "showlegend": true,
         "type": "scatter",
         "x": [
          0.5,
          0.75,
          1
         ],
         "xaxis": "x",
         "y": [
          0.004043403214307188,
          0.0040530007855776005,
          0.0040293789629983956
         ],
         "yaxis": "y"
        },
        {
         "hovertemplate": "color_srs=nEst-300 maxDepth-5 learnRate-0.2 gamma-0<br>subsample=%{x}<br>ave_mse=%{y}<extra></extra>",
         "legendgroup": "nEst-300 maxDepth-5 learnRate-0.2 gamma-0",
         "line": {
          "color": "#FF6692",
          "dash": "solid"
         },
         "marker": {
          "symbol": "circle"
         },
         "mode": "lines",
         "name": "nEst-300 maxDepth-5 learnRate-0.2 gamma-0",
         "orientation": "v",
         "showlegend": true,
         "type": "scatter",
         "x": [
          0.5,
          0.75,
          1
         ],
         "xaxis": "x",
         "y": [
          0.00011296158226626074,
          0.00011624112109152258,
          0.00011338608952283274
         ],
         "yaxis": "y"
        },
        {
         "hovertemplate": "color_srs=nEst-300 maxDepth-5 learnRate-0.2 gamma-0.1<br>subsample=%{x}<br>ave_mse=%{y}<extra></extra>",
         "legendgroup": "nEst-300 maxDepth-5 learnRate-0.2 gamma-0.1",
         "line": {
          "color": "#B6E880",
          "dash": "solid"
         },
         "marker": {
          "symbol": "circle"
         },
         "mode": "lines",
         "name": "nEst-300 maxDepth-5 learnRate-0.2 gamma-0.1",
         "orientation": "v",
         "showlegend": true,
         "type": "scatter",
         "x": [
          0.5,
          0.75,
          1
         ],
         "xaxis": "x",
         "y": [
          0.001070656915542416,
          0.0008959481041005406,
          0.0009159114231283873
         ],
         "yaxis": "y"
        },
        {
         "hovertemplate": "color_srs=nEst-300 maxDepth-5 learnRate-0.2 gamma-0.5<br>subsample=%{x}<br>ave_mse=%{y}<extra></extra>",
         "legendgroup": "nEst-300 maxDepth-5 learnRate-0.2 gamma-0.5",
         "line": {
          "color": "#FF97FF",
          "dash": "solid"
         },
         "marker": {
          "symbol": "circle"
         },
         "mode": "lines",
         "name": "nEst-300 maxDepth-5 learnRate-0.2 gamma-0.5",
         "orientation": "v",
         "showlegend": true,
         "type": "scatter",
         "x": [
          0.5,
          0.75,
          1
         ],
         "xaxis": "x",
         "y": [
          0.0034062031340718136,
          0.0027830060460754336,
          0.002627176888077958
         ],
         "yaxis": "y"
        },
        {
         "hovertemplate": "color_srs=nEst-300 maxDepth-5 learnRate-0.2 gamma-1<br>subsample=%{x}<br>ave_mse=%{y}<extra></extra>",
         "legendgroup": "nEst-300 maxDepth-5 learnRate-0.2 gamma-1",
         "line": {
          "color": "#FECB52",
          "dash": "solid"
         },
         "marker": {
          "symbol": "circle"
         },
         "mode": "lines",
         "name": "nEst-300 maxDepth-5 learnRate-0.2 gamma-1",
         "orientation": "v",
         "showlegend": true,
         "type": "scatter",
         "x": [
          0.5,
          0.75,
          1
         ],
         "xaxis": "x",
         "y": [
          0.004040956035121626,
          0.004062541865343551,
          0.004029377144396324
         ],
         "yaxis": "y"
        },
        {
         "hovertemplate": "color_srs=nEst-300 maxDepth-5 learnRate-0.3 gamma-0<br>subsample=%{x}<br>ave_mse=%{y}<extra></extra>",
         "legendgroup": "nEst-300 maxDepth-5 learnRate-0.3 gamma-0",
         "line": {
          "color": "#636efa",
          "dash": "solid"
         },
         "marker": {
          "symbol": "circle"
         },
         "mode": "lines",
         "name": "nEst-300 maxDepth-5 learnRate-0.3 gamma-0",
         "orientation": "v",
         "showlegend": true,
         "type": "scatter",
         "x": [
          0.5,
          0.75,
          1
         ],
         "xaxis": "x",
         "y": [
          0.00011339000289057521,
          0.00011665182033429216,
          0.00011354248547881056
         ],
         "yaxis": "y"
        },
        {
         "hovertemplate": "color_srs=nEst-300 maxDepth-5 learnRate-0.3 gamma-0.1<br>subsample=%{x}<br>ave_mse=%{y}<extra></extra>",
         "legendgroup": "nEst-300 maxDepth-5 learnRate-0.3 gamma-0.1",
         "line": {
          "color": "#EF553B",
          "dash": "solid"
         },
         "marker": {
          "symbol": "circle"
         },
         "mode": "lines",
         "name": "nEst-300 maxDepth-5 learnRate-0.3 gamma-0.1",
         "orientation": "v",
         "showlegend": true,
         "type": "scatter",
         "x": [
          0.5,
          0.75,
          1
         ],
         "xaxis": "x",
         "y": [
          0.0010234756353993883,
          0.0008009827046244576,
          0.0008146882096895193
         ],
         "yaxis": "y"
        },
        {
         "hovertemplate": "color_srs=nEst-300 maxDepth-5 learnRate-0.3 gamma-0.5<br>subsample=%{x}<br>ave_mse=%{y}<extra></extra>",
         "legendgroup": "nEst-300 maxDepth-5 learnRate-0.3 gamma-0.5",
         "line": {
          "color": "#00cc96",
          "dash": "solid"
         },
         "marker": {
          "symbol": "circle"
         },
         "mode": "lines",
         "name": "nEst-300 maxDepth-5 learnRate-0.3 gamma-0.5",
         "orientation": "v",
         "showlegend": true,
         "type": "scatter",
         "x": [
          0.5,
          0.75,
          1
         ],
         "xaxis": "x",
         "y": [
          0.0031657049488716484,
          0.0024568257879322873,
          0.002445476147399895
         ],
         "yaxis": "y"
        },
        {
         "hovertemplate": "color_srs=nEst-300 maxDepth-5 learnRate-0.3 gamma-1<br>subsample=%{x}<br>ave_mse=%{y}<extra></extra>",
         "legendgroup": "nEst-300 maxDepth-5 learnRate-0.3 gamma-1",
         "line": {
          "color": "#ab63fa",
          "dash": "solid"
         },
         "marker": {
          "symbol": "circle"
         },
         "mode": "lines",
         "name": "nEst-300 maxDepth-5 learnRate-0.3 gamma-1",
         "orientation": "v",
         "showlegend": true,
         "type": "scatter",
         "x": [
          0.5,
          0.75,
          1
         ],
         "xaxis": "x",
         "y": [
          0.0040477791451710605,
          0.004064645329809298,
          0.0040293768787266135
         ],
         "yaxis": "y"
        }
       ],
       "layout": {
        "legend": {
         "title": {
          "text": "color_srs"
         },
         "tracegroupgap": 0
        },
        "template": {
         "data": {
          "bar": [
           {
            "error_x": {
             "color": "#2a3f5f"
            },
            "error_y": {
             "color": "#2a3f5f"
            },
            "marker": {
             "line": {
              "color": "#E5ECF6",
              "width": 0.5
             },
             "pattern": {
              "fillmode": "overlay",
              "size": 10,
              "solidity": 0.2
             }
            },
            "type": "bar"
           }
          ],
          "barpolar": [
           {
            "marker": {
             "line": {
              "color": "#E5ECF6",
              "width": 0.5
             },
             "pattern": {
              "fillmode": "overlay",
              "size": 10,
              "solidity": 0.2
             }
            },
            "type": "barpolar"
           }
          ],
          "carpet": [
           {
            "aaxis": {
             "endlinecolor": "#2a3f5f",
             "gridcolor": "white",
             "linecolor": "white",
             "minorgridcolor": "white",
             "startlinecolor": "#2a3f5f"
            },
            "baxis": {
             "endlinecolor": "#2a3f5f",
             "gridcolor": "white",
             "linecolor": "white",
             "minorgridcolor": "white",
             "startlinecolor": "#2a3f5f"
            },
            "type": "carpet"
           }
          ],
          "choropleth": [
           {
            "colorbar": {
             "outlinewidth": 0,
             "ticks": ""
            },
            "type": "choropleth"
           }
          ],
          "contour": [
           {
            "colorbar": {
             "outlinewidth": 0,
             "ticks": ""
            },
            "colorscale": [
             [
              0,
              "#0d0887"
             ],
             [
              0.1111111111111111,
              "#46039f"
             ],
             [
              0.2222222222222222,
              "#7201a8"
             ],
             [
              0.3333333333333333,
              "#9c179e"
             ],
             [
              0.4444444444444444,
              "#bd3786"
             ],
             [
              0.5555555555555556,
              "#d8576b"
             ],
             [
              0.6666666666666666,
              "#ed7953"
             ],
             [
              0.7777777777777778,
              "#fb9f3a"
             ],
             [
              0.8888888888888888,
              "#fdca26"
             ],
             [
              1,
              "#f0f921"
             ]
            ],
            "type": "contour"
           }
          ],
          "contourcarpet": [
           {
            "colorbar": {
             "outlinewidth": 0,
             "ticks": ""
            },
            "type": "contourcarpet"
           }
          ],
          "heatmap": [
           {
            "colorbar": {
             "outlinewidth": 0,
             "ticks": ""
            },
            "colorscale": [
             [
              0,
              "#0d0887"
             ],
             [
              0.1111111111111111,
              "#46039f"
             ],
             [
              0.2222222222222222,
              "#7201a8"
             ],
             [
              0.3333333333333333,
              "#9c179e"
             ],
             [
              0.4444444444444444,
              "#bd3786"
             ],
             [
              0.5555555555555556,
              "#d8576b"
             ],
             [
              0.6666666666666666,
              "#ed7953"
             ],
             [
              0.7777777777777778,
              "#fb9f3a"
             ],
             [
              0.8888888888888888,
              "#fdca26"
             ],
             [
              1,
              "#f0f921"
             ]
            ],
            "type": "heatmap"
           }
          ],
          "heatmapgl": [
           {
            "colorbar": {
             "outlinewidth": 0,
             "ticks": ""
            },
            "colorscale": [
             [
              0,
              "#0d0887"
             ],
             [
              0.1111111111111111,
              "#46039f"
             ],
             [
              0.2222222222222222,
              "#7201a8"
             ],
             [
              0.3333333333333333,
              "#9c179e"
             ],
             [
              0.4444444444444444,
              "#bd3786"
             ],
             [
              0.5555555555555556,
              "#d8576b"
             ],
             [
              0.6666666666666666,
              "#ed7953"
             ],
             [
              0.7777777777777778,
              "#fb9f3a"
             ],
             [
              0.8888888888888888,
              "#fdca26"
             ],
             [
              1,
              "#f0f921"
             ]
            ],
            "type": "heatmapgl"
           }
          ],
          "histogram": [
           {
            "marker": {
             "pattern": {
              "fillmode": "overlay",
              "size": 10,
              "solidity": 0.2
             }
            },
            "type": "histogram"
           }
          ],
          "histogram2d": [
           {
            "colorbar": {
             "outlinewidth": 0,
             "ticks": ""
            },
            "colorscale": [
             [
              0,
              "#0d0887"
             ],
             [
              0.1111111111111111,
              "#46039f"
             ],
             [
              0.2222222222222222,
              "#7201a8"
             ],
             [
              0.3333333333333333,
              "#9c179e"
             ],
             [
              0.4444444444444444,
              "#bd3786"
             ],
             [
              0.5555555555555556,
              "#d8576b"
             ],
             [
              0.6666666666666666,
              "#ed7953"
             ],
             [
              0.7777777777777778,
              "#fb9f3a"
             ],
             [
              0.8888888888888888,
              "#fdca26"
             ],
             [
              1,
              "#f0f921"
             ]
            ],
            "type": "histogram2d"
           }
          ],
          "histogram2dcontour": [
           {
            "colorbar": {
             "outlinewidth": 0,
             "ticks": ""
            },
            "colorscale": [
             [
              0,
              "#0d0887"
             ],
             [
              0.1111111111111111,
              "#46039f"
             ],
             [
              0.2222222222222222,
              "#7201a8"
             ],
             [
              0.3333333333333333,
              "#9c179e"
             ],
             [
              0.4444444444444444,
              "#bd3786"
             ],
             [
              0.5555555555555556,
              "#d8576b"
             ],
             [
              0.6666666666666666,
              "#ed7953"
             ],
             [
              0.7777777777777778,
              "#fb9f3a"
             ],
             [
              0.8888888888888888,
              "#fdca26"
             ],
             [
              1,
              "#f0f921"
             ]
            ],
            "type": "histogram2dcontour"
           }
          ],
          "mesh3d": [
           {
            "colorbar": {
             "outlinewidth": 0,
             "ticks": ""
            },
            "type": "mesh3d"
           }
          ],
          "parcoords": [
           {
            "line": {
             "colorbar": {
              "outlinewidth": 0,
              "ticks": ""
             }
            },
            "type": "parcoords"
           }
          ],
          "pie": [
           {
            "automargin": true,
            "type": "pie"
           }
          ],
          "scatter": [
           {
            "fillpattern": {
             "fillmode": "overlay",
             "size": 10,
             "solidity": 0.2
            },
            "type": "scatter"
           }
          ],
          "scatter3d": [
           {
            "line": {
             "colorbar": {
              "outlinewidth": 0,
              "ticks": ""
             }
            },
            "marker": {
             "colorbar": {
              "outlinewidth": 0,
              "ticks": ""
             }
            },
            "type": "scatter3d"
           }
          ],
          "scattercarpet": [
           {
            "marker": {
             "colorbar": {
              "outlinewidth": 0,
              "ticks": ""
             }
            },
            "type": "scattercarpet"
           }
          ],
          "scattergeo": [
           {
            "marker": {
             "colorbar": {
              "outlinewidth": 0,
              "ticks": ""
             }
            },
            "type": "scattergeo"
           }
          ],
          "scattergl": [
           {
            "marker": {
             "colorbar": {
              "outlinewidth": 0,
              "ticks": ""
             }
            },
            "type": "scattergl"
           }
          ],
          "scattermapbox": [
           {
            "marker": {
             "colorbar": {
              "outlinewidth": 0,
              "ticks": ""
             }
            },
            "type": "scattermapbox"
           }
          ],
          "scatterpolar": [
           {
            "marker": {
             "colorbar": {
              "outlinewidth": 0,
              "ticks": ""
             }
            },
            "type": "scatterpolar"
           }
          ],
          "scatterpolargl": [
           {
            "marker": {
             "colorbar": {
              "outlinewidth": 0,
              "ticks": ""
             }
            },
            "type": "scatterpolargl"
           }
          ],
          "scatterternary": [
           {
            "marker": {
             "colorbar": {
              "outlinewidth": 0,
              "ticks": ""
             }
            },
            "type": "scatterternary"
           }
          ],
          "surface": [
           {
            "colorbar": {
             "outlinewidth": 0,
             "ticks": ""
            },
            "colorscale": [
             [
              0,
              "#0d0887"
             ],
             [
              0.1111111111111111,
              "#46039f"
             ],
             [
              0.2222222222222222,
              "#7201a8"
             ],
             [
              0.3333333333333333,
              "#9c179e"
             ],
             [
              0.4444444444444444,
              "#bd3786"
             ],
             [
              0.5555555555555556,
              "#d8576b"
             ],
             [
              0.6666666666666666,
              "#ed7953"
             ],
             [
              0.7777777777777778,
              "#fb9f3a"
             ],
             [
              0.8888888888888888,
              "#fdca26"
             ],
             [
              1,
              "#f0f921"
             ]
            ],
            "type": "surface"
           }
          ],
          "table": [
           {
            "cells": {
             "fill": {
              "color": "#EBF0F8"
             },
             "line": {
              "color": "white"
             }
            },
            "header": {
             "fill": {
              "color": "#C8D4E3"
             },
             "line": {
              "color": "white"
             }
            },
            "type": "table"
           }
          ]
         },
         "layout": {
          "annotationdefaults": {
           "arrowcolor": "#2a3f5f",
           "arrowhead": 0,
           "arrowwidth": 1
          },
          "autotypenumbers": "strict",
          "coloraxis": {
           "colorbar": {
            "outlinewidth": 0,
            "ticks": ""
           }
          },
          "colorscale": {
           "diverging": [
            [
             0,
             "#8e0152"
            ],
            [
             0.1,
             "#c51b7d"
            ],
            [
             0.2,
             "#de77ae"
            ],
            [
             0.3,
             "#f1b6da"
            ],
            [
             0.4,
             "#fde0ef"
            ],
            [
             0.5,
             "#f7f7f7"
            ],
            [
             0.6,
             "#e6f5d0"
            ],
            [
             0.7,
             "#b8e186"
            ],
            [
             0.8,
             "#7fbc41"
            ],
            [
             0.9,
             "#4d9221"
            ],
            [
             1,
             "#276419"
            ]
           ],
           "sequential": [
            [
             0,
             "#0d0887"
            ],
            [
             0.1111111111111111,
             "#46039f"
            ],
            [
             0.2222222222222222,
             "#7201a8"
            ],
            [
             0.3333333333333333,
             "#9c179e"
            ],
            [
             0.4444444444444444,
             "#bd3786"
            ],
            [
             0.5555555555555556,
             "#d8576b"
            ],
            [
             0.6666666666666666,
             "#ed7953"
            ],
            [
             0.7777777777777778,
             "#fb9f3a"
            ],
            [
             0.8888888888888888,
             "#fdca26"
            ],
            [
             1,
             "#f0f921"
            ]
           ],
           "sequentialminus": [
            [
             0,
             "#0d0887"
            ],
            [
             0.1111111111111111,
             "#46039f"
            ],
            [
             0.2222222222222222,
             "#7201a8"
            ],
            [
             0.3333333333333333,
             "#9c179e"
            ],
            [
             0.4444444444444444,
             "#bd3786"
            ],
            [
             0.5555555555555556,
             "#d8576b"
            ],
            [
             0.6666666666666666,
             "#ed7953"
            ],
            [
             0.7777777777777778,
             "#fb9f3a"
            ],
            [
             0.8888888888888888,
             "#fdca26"
            ],
            [
             1,
             "#f0f921"
            ]
           ]
          },
          "colorway": [
           "#636efa",
           "#EF553B",
           "#00cc96",
           "#ab63fa",
           "#FFA15A",
           "#19d3f3",
           "#FF6692",
           "#B6E880",
           "#FF97FF",
           "#FECB52"
          ],
          "font": {
           "color": "#2a3f5f"
          },
          "geo": {
           "bgcolor": "white",
           "lakecolor": "white",
           "landcolor": "#E5ECF6",
           "showlakes": true,
           "showland": true,
           "subunitcolor": "white"
          },
          "hoverlabel": {
           "align": "left"
          },
          "hovermode": "closest",
          "mapbox": {
           "style": "light"
          },
          "paper_bgcolor": "white",
          "plot_bgcolor": "#E5ECF6",
          "polar": {
           "angularaxis": {
            "gridcolor": "white",
            "linecolor": "white",
            "ticks": ""
           },
           "bgcolor": "#E5ECF6",
           "radialaxis": {
            "gridcolor": "white",
            "linecolor": "white",
            "ticks": ""
           }
          },
          "scene": {
           "xaxis": {
            "backgroundcolor": "#E5ECF6",
            "gridcolor": "white",
            "gridwidth": 2,
            "linecolor": "white",
            "showbackground": true,
            "ticks": "",
            "zerolinecolor": "white"
           },
           "yaxis": {
            "backgroundcolor": "#E5ECF6",
            "gridcolor": "white",
            "gridwidth": 2,
            "linecolor": "white",
            "showbackground": true,
            "ticks": "",
            "zerolinecolor": "white"
           },
           "zaxis": {
            "backgroundcolor": "#E5ECF6",
            "gridcolor": "white",
            "gridwidth": 2,
            "linecolor": "white",
            "showbackground": true,
            "ticks": "",
            "zerolinecolor": "white"
           }
          },
          "shapedefaults": {
           "line": {
            "color": "#2a3f5f"
           }
          },
          "ternary": {
           "aaxis": {
            "gridcolor": "white",
            "linecolor": "white",
            "ticks": ""
           },
           "baxis": {
            "gridcolor": "white",
            "linecolor": "white",
            "ticks": ""
           },
           "bgcolor": "#E5ECF6",
           "caxis": {
            "gridcolor": "white",
            "linecolor": "white",
            "ticks": ""
           }
          },
          "title": {
           "x": 0.05
          },
          "xaxis": {
           "automargin": true,
           "gridcolor": "white",
           "linecolor": "white",
           "ticks": "",
           "title": {
            "standoff": 15
           },
           "zerolinecolor": "white",
           "zerolinewidth": 2
          },
          "yaxis": {
           "automargin": true,
           "gridcolor": "white",
           "linecolor": "white",
           "ticks": "",
           "title": {
            "standoff": 15
           },
           "zerolinecolor": "white",
           "zerolinewidth": 2
          }
         }
        },
        "title": {
         "text": "Ave Mse by Regularization Parameters"
        },
        "xaxis": {
         "anchor": "y",
         "domain": [
          0,
          1
         ],
         "title": {
          "text": "subsample"
         }
        },
        "yaxis": {
         "anchor": "x",
         "domain": [
          0,
          1
         ],
         "title": {
          "text": "ave_mse"
         }
        }
       }
      }
     },
     "metadata": {},
     "output_type": "display_data"
    }
   ],
   "source": [
    "xgb_plot_measure('ave_mse')"
   ]
  },
  {
   "cell_type": "code",
   "execution_count": 70,
   "metadata": {},
   "outputs": [],
   "source": [
    "\n",
    "def plot_measure(measure):\n",
    "    score_df = pd.DataFrame(df_dict).T.reset_index(drop=True)\n",
    "\n",
    "    for measure1 in ['score', 'mse_train', 'mse_val', 'd2_train', 'd2_val']:\n",
    "        score_df[f'ave_{measure1}'] = score_df[[c for c in score_df.columns if measure1 in c]].mean(axis=1)\n",
    "        score_df[f'median_{measure1}'] = score_df[[c for c in score_df.columns if measure1 in c]].median(axis=1)\n",
    "        score_df[f'std_{measure1}'] = score_df[[c for c in score_df.columns if measure1 in c]].std(axis=1)\n",
    "        score_df[f'cv_{measure1}'] = score_df[f'std_{measure1}'] / score_df[f'ave_{measure1}']\n",
    "    \n",
    "    score_df.drop(columns=[c for c in score_df.columns if \"cy_\" in c], inplace=True)\n",
    "\n",
    "    \n",
    "\n",
    "    return px.line(score_df['alpha power'.split() + [measure]], x='alpha', y=measure, color='power', title=f'{measure.replace(\"_\", \" \").title()} by Alpha and Power')\n",
    "\n",
    "    # return score_df"
   ]
  },
  {
   "cell_type": "code",
   "execution_count": 71,
   "metadata": {},
   "outputs": [
    {
     "data": {
      "application/vnd.plotly.v1+json": {
       "config": {
        "plotlyServerURL": "https://plot.ly"
       },
       "data": [
        {
         "hovertemplate": "power=0.0<br>alpha=%{x}<br>ave_mse_train=%{y}<extra></extra>",
         "legendgroup": "0.0",
         "line": {
          "color": "#636efa",
          "dash": "solid"
         },
         "marker": {
          "symbol": "circle"
         },
         "mode": "lines",
         "name": "0.0",
         "orientation": "v",
         "showlegend": true,
         "type": "scatter",
         "x": [
          0,
          0.105,
          0.211,
          0.316,
          0.421,
          0.526,
          0.632,
          0.737,
          0.842,
          0.947,
          1.053,
          1.158,
          1.263,
          1.368,
          1.474,
          1.579,
          1.684,
          1.789,
          1.895,
          2
         ],
         "xaxis": "x",
         "y": [
          0.00004844391779170197,
          0.00035926000832248737,
          0.0006787289467660835,
          0.0009654626022864279,
          0.001221010625111094,
          0.001452882441370106,
          0.0016631041285292546,
          0.00185379224950608,
          0.00202754908835301,
          0.0021869922936013355,
          0.0023355533391497063,
          0.002472035164822839,
          0.0025988243805744535,
          0.0027168967522985957,
          0.002828203311292418,
          0.0029320878477478505,
          0.0030297099356895872,
          0.003121675903782389,
          0.003209307471081136,
          0.0032914545012844394
         ],
         "yaxis": "y"
        },
        {
         "hovertemplate": "power=1.0<br>alpha=%{x}<br>ave_mse_train=%{y}<extra></extra>",
         "legendgroup": "1.0",
         "line": {
          "color": "#EF553B",
          "dash": "solid"
         },
         "marker": {
          "symbol": "circle"
         },
         "mode": "lines",
         "name": "1.0",
         "orientation": "v",
         "showlegend": true,
         "type": "scatter",
         "x": [
          0,
          0.105,
          0.211,
          0.316,
          0.421,
          0.526,
          0.632,
          0.737,
          0.842,
          0.947,
          1.053,
          1.158,
          1.263,
          1.368,
          1.474,
          1.579,
          1.684,
          1.789,
          1.895,
          2
         ],
         "xaxis": "x",
         "y": [
          0.00004485494808173161,
          0.002635693343858555,
          0.0037712390743946727,
          0.004370908782361282,
          0.004746989608182722,
          0.005005282741564618,
          0.00519551484156051,
          0.005339463173981439,
          0.005452349111289516,
          0.005543913147336397,
          0.005620275038546648,
          0.005683537892830516,
          0.005737460788974804,
          0.005783968188705159,
          0.0058248119238295416,
          0.00586037043058176,
          0.005891829255224029,
          0.0059199002167138965,
          0.0059453264111146206,
          0.0059680526527777136
         ],
         "yaxis": "y"
        },
        {
         "hovertemplate": "power=1.5<br>alpha=%{x}<br>ave_mse_train=%{y}<extra></extra>",
         "legendgroup": "1.5",
         "line": {
          "color": "#00cc96",
          "dash": "solid"
         },
         "marker": {
          "symbol": "circle"
         },
         "mode": "lines",
         "name": "1.5",
         "orientation": "v",
         "showlegend": true,
         "type": "scatter",
         "x": [
          0,
          0.105,
          0.211,
          0.316,
          0.421,
          0.526,
          0.632,
          0.737,
          0.842,
          0.947,
          1.053,
          1.158,
          1.263,
          1.368,
          1.474,
          1.579,
          1.684,
          1.789,
          1.895,
          2
         ],
         "xaxis": "x",
         "y": [
          0.00007884833347732774,
          0.0012108368030208359,
          0.0020854873422556726,
          0.0026671432957904775,
          0.0030913402181412435,
          0.003419382291839912,
          0.003685339296199306,
          0.0039027073426791277,
          0.004085601900431027,
          0.004242335932169368,
          0.004379659118032989,
          0.004499020958590498,
          0.004604601759659486,
          0.004698797806657587,
          0.004784168094871212,
          0.004860542016964786,
          0.0049298658482813396,
          0.004993223727792978,
          0.005051797018343474,
          0.0051052077083066
         ],
         "yaxis": "y"
        },
        {
         "hovertemplate": "power=1.8<br>alpha=%{x}<br>ave_mse_train=%{y}<extra></extra>",
         "legendgroup": "1.8",
         "line": {
          "color": "#ab63fa",
          "dash": "solid"
         },
         "marker": {
          "symbol": "circle"
         },
         "mode": "lines",
         "name": "1.8",
         "orientation": "v",
         "showlegend": true,
         "type": "scatter",
         "x": [
          0,
          0.105,
          0.211,
          0.316,
          0.421,
          0.526,
          0.632,
          0.737,
          0.842,
          0.947,
          1.053,
          1.158,
          1.263,
          1.368,
          1.474,
          1.579,
          1.684,
          1.789,
          1.895,
          2
         ],
         "xaxis": "x",
         "y": [
          0.00014222813773298563,
          0.0007017041469213788,
          0.001354554640794952,
          0.00184819999963203,
          0.002229870499721859,
          0.002535373306817151,
          0.002788862601930571,
          0.0030005678436477606,
          0.003182626218429065,
          0.0033416185000407273,
          0.003483737731103973,
          0.0036098176580160726,
          0.003723661548795801,
          0.003827082756384733,
          0.0039226709982121384,
          0.00400981577383374,
          0.004090418943395751,
          0.004165208690133188,
          0.004235532766668513,
          0.0043006503534780876
         ],
         "yaxis": "y"
        },
        {
         "hovertemplate": "power=2.0<br>alpha=%{x}<br>ave_mse_train=%{y}<extra></extra>",
         "legendgroup": "2.0",
         "line": {
          "color": "#FFA15A",
          "dash": "solid"
         },
         "marker": {
          "symbol": "circle"
         },
         "mode": "lines",
         "name": "2.0",
         "orientation": "v",
         "showlegend": true,
         "type": "scatter",
         "x": [
          0,
          0.105,
          0.211,
          0.316,
          0.421,
          0.526,
          0.632,
          0.737,
          0.842,
          0.947,
          1.053,
          1.158,
          1.263,
          1.368,
          1.474,
          1.579,
          1.684,
          1.789,
          1.895,
          2
         ],
         "xaxis": "x",
         "y": [
          0.00021540090780282172,
          0.00047572542787334643,
          0.0009575832954371206,
          0.0013720306396809284,
          0.0017184986200160922,
          0.00200911985358244,
          0.0022574370197732535,
          0.0024688503309467915,
          0.002652289254218803,
          0.002813407441285582,
          0.0029574441226389685,
          0.003084864171588084,
          0.003199773366527621,
          0.0033041096431816195,
          0.0034001907625236,
          0.0034877238175971036,
          0.003568502111662316,
          0.003643573331052747,
          0.0037141139225930694,
          0.0037795534392132102
         ],
         "yaxis": "y"
        },
        {
         "hovertemplate": "power=2.5<br>alpha=%{x}<br>ave_mse_train=%{y}<extra></extra>",
         "legendgroup": "2.5",
         "line": {
          "color": "#19d3f3",
          "dash": "solid"
         },
         "marker": {
          "symbol": "circle"
         },
         "mode": "lines",
         "name": "2.5",
         "orientation": "v",
         "showlegend": true,
         "type": "scatter",
         "x": [
          0,
          0.105,
          0.211,
          0.316,
          0.421,
          0.526,
          0.632,
          0.737,
          0.842,
          0.947,
          1.053,
          1.158,
          1.263,
          1.368,
          1.474,
          1.579,
          1.684,
          1.789,
          1.895,
          2
         ],
         "xaxis": "x",
         "y": [
          0.000536527530855764,
          0.00032095141512041725,
          0.0004157116568971452,
          0.0005647309089576089,
          0.0007258308010124708,
          0.0008856064575027401,
          0.0010405517572127923,
          0.0011860062184733547,
          0.0013231298590264306,
          0.0014522660735717895,
          0.0015747562010836695,
          0.0016891968214821384,
          0.0017970019878578367,
          0.0018989002945251818,
          0.0019962340219054804,
          0.002087657072691537,
          0.002174515008081115,
          0.002257207617136401,
          0.0023366686851426827,
          0.002411888599238661
         ],
         "yaxis": "y"
        },
        {
         "hovertemplate": "power=3.0<br>alpha=%{x}<br>ave_mse_train=%{y}<extra></extra>",
         "legendgroup": "3.0",
         "line": {
          "color": "#FF6692",
          "dash": "solid"
         },
         "marker": {
          "symbol": "circle"
         },
         "mode": "lines",
         "name": "3.0",
         "orientation": "v",
         "showlegend": true,
         "type": "scatter",
         "x": [
          0,
          0.105,
          0.211,
          0.316,
          0.421,
          0.526,
          0.632,
          0.737,
          0.842,
          0.947,
          1.053,
          1.158,
          1.263,
          1.368,
          1.474,
          1.579,
          1.684,
          1.789,
          1.895,
          2
         ],
         "xaxis": "x",
         "y": [
          0.0010878781673710875,
          0.0007802784258460953,
          0.0006497359298068642,
          0.0005889492515401002,
          0.000565821180535442,
          0.0005660787837765015,
          0.0005818318791904471,
          0.0006077029501731229,
          0.0006405010518883072,
          0.0006781305207097905,
          0.0007194003777459921,
          0.0007624625234019888,
          0.0008069121215202075,
          0.0008521841793583534,
          0.0008983092855802749,
          0.0009441100370261269,
          0.0009897794726396987,
          0.0010351439251729145,
          0.0010805238970361553,
          0.0011249177511695398
         ],
         "yaxis": "y"
        }
       ],
       "layout": {
        "legend": {
         "title": {
          "text": "power"
         },
         "tracegroupgap": 0
        },
        "template": {
         "data": {
          "bar": [
           {
            "error_x": {
             "color": "#2a3f5f"
            },
            "error_y": {
             "color": "#2a3f5f"
            },
            "marker": {
             "line": {
              "color": "#E5ECF6",
              "width": 0.5
             },
             "pattern": {
              "fillmode": "overlay",
              "size": 10,
              "solidity": 0.2
             }
            },
            "type": "bar"
           }
          ],
          "barpolar": [
           {
            "marker": {
             "line": {
              "color": "#E5ECF6",
              "width": 0.5
             },
             "pattern": {
              "fillmode": "overlay",
              "size": 10,
              "solidity": 0.2
             }
            },
            "type": "barpolar"
           }
          ],
          "carpet": [
           {
            "aaxis": {
             "endlinecolor": "#2a3f5f",
             "gridcolor": "white",
             "linecolor": "white",
             "minorgridcolor": "white",
             "startlinecolor": "#2a3f5f"
            },
            "baxis": {
             "endlinecolor": "#2a3f5f",
             "gridcolor": "white",
             "linecolor": "white",
             "minorgridcolor": "white",
             "startlinecolor": "#2a3f5f"
            },
            "type": "carpet"
           }
          ],
          "choropleth": [
           {
            "colorbar": {
             "outlinewidth": 0,
             "ticks": ""
            },
            "type": "choropleth"
           }
          ],
          "contour": [
           {
            "colorbar": {
             "outlinewidth": 0,
             "ticks": ""
            },
            "colorscale": [
             [
              0,
              "#0d0887"
             ],
             [
              0.1111111111111111,
              "#46039f"
             ],
             [
              0.2222222222222222,
              "#7201a8"
             ],
             [
              0.3333333333333333,
              "#9c179e"
             ],
             [
              0.4444444444444444,
              "#bd3786"
             ],
             [
              0.5555555555555556,
              "#d8576b"
             ],
             [
              0.6666666666666666,
              "#ed7953"
             ],
             [
              0.7777777777777778,
              "#fb9f3a"
             ],
             [
              0.8888888888888888,
              "#fdca26"
             ],
             [
              1,
              "#f0f921"
             ]
            ],
            "type": "contour"
           }
          ],
          "contourcarpet": [
           {
            "colorbar": {
             "outlinewidth": 0,
             "ticks": ""
            },
            "type": "contourcarpet"
           }
          ],
          "heatmap": [
           {
            "colorbar": {
             "outlinewidth": 0,
             "ticks": ""
            },
            "colorscale": [
             [
              0,
              "#0d0887"
             ],
             [
              0.1111111111111111,
              "#46039f"
             ],
             [
              0.2222222222222222,
              "#7201a8"
             ],
             [
              0.3333333333333333,
              "#9c179e"
             ],
             [
              0.4444444444444444,
              "#bd3786"
             ],
             [
              0.5555555555555556,
              "#d8576b"
             ],
             [
              0.6666666666666666,
              "#ed7953"
             ],
             [
              0.7777777777777778,
              "#fb9f3a"
             ],
             [
              0.8888888888888888,
              "#fdca26"
             ],
             [
              1,
              "#f0f921"
             ]
            ],
            "type": "heatmap"
           }
          ],
          "heatmapgl": [
           {
            "colorbar": {
             "outlinewidth": 0,
             "ticks": ""
            },
            "colorscale": [
             [
              0,
              "#0d0887"
             ],
             [
              0.1111111111111111,
              "#46039f"
             ],
             [
              0.2222222222222222,
              "#7201a8"
             ],
             [
              0.3333333333333333,
              "#9c179e"
             ],
             [
              0.4444444444444444,
              "#bd3786"
             ],
             [
              0.5555555555555556,
              "#d8576b"
             ],
             [
              0.6666666666666666,
              "#ed7953"
             ],
             [
              0.7777777777777778,
              "#fb9f3a"
             ],
             [
              0.8888888888888888,
              "#fdca26"
             ],
             [
              1,
              "#f0f921"
             ]
            ],
            "type": "heatmapgl"
           }
          ],
          "histogram": [
           {
            "marker": {
             "pattern": {
              "fillmode": "overlay",
              "size": 10,
              "solidity": 0.2
             }
            },
            "type": "histogram"
           }
          ],
          "histogram2d": [
           {
            "colorbar": {
             "outlinewidth": 0,
             "ticks": ""
            },
            "colorscale": [
             [
              0,
              "#0d0887"
             ],
             [
              0.1111111111111111,
              "#46039f"
             ],
             [
              0.2222222222222222,
              "#7201a8"
             ],
             [
              0.3333333333333333,
              "#9c179e"
             ],
             [
              0.4444444444444444,
              "#bd3786"
             ],
             [
              0.5555555555555556,
              "#d8576b"
             ],
             [
              0.6666666666666666,
              "#ed7953"
             ],
             [
              0.7777777777777778,
              "#fb9f3a"
             ],
             [
              0.8888888888888888,
              "#fdca26"
             ],
             [
              1,
              "#f0f921"
             ]
            ],
            "type": "histogram2d"
           }
          ],
          "histogram2dcontour": [
           {
            "colorbar": {
             "outlinewidth": 0,
             "ticks": ""
            },
            "colorscale": [
             [
              0,
              "#0d0887"
             ],
             [
              0.1111111111111111,
              "#46039f"
             ],
             [
              0.2222222222222222,
              "#7201a8"
             ],
             [
              0.3333333333333333,
              "#9c179e"
             ],
             [
              0.4444444444444444,
              "#bd3786"
             ],
             [
              0.5555555555555556,
              "#d8576b"
             ],
             [
              0.6666666666666666,
              "#ed7953"
             ],
             [
              0.7777777777777778,
              "#fb9f3a"
             ],
             [
              0.8888888888888888,
              "#fdca26"
             ],
             [
              1,
              "#f0f921"
             ]
            ],
            "type": "histogram2dcontour"
           }
          ],
          "mesh3d": [
           {
            "colorbar": {
             "outlinewidth": 0,
             "ticks": ""
            },
            "type": "mesh3d"
           }
          ],
          "parcoords": [
           {
            "line": {
             "colorbar": {
              "outlinewidth": 0,
              "ticks": ""
             }
            },
            "type": "parcoords"
           }
          ],
          "pie": [
           {
            "automargin": true,
            "type": "pie"
           }
          ],
          "scatter": [
           {
            "fillpattern": {
             "fillmode": "overlay",
             "size": 10,
             "solidity": 0.2
            },
            "type": "scatter"
           }
          ],
          "scatter3d": [
           {
            "line": {
             "colorbar": {
              "outlinewidth": 0,
              "ticks": ""
             }
            },
            "marker": {
             "colorbar": {
              "outlinewidth": 0,
              "ticks": ""
             }
            },
            "type": "scatter3d"
           }
          ],
          "scattercarpet": [
           {
            "marker": {
             "colorbar": {
              "outlinewidth": 0,
              "ticks": ""
             }
            },
            "type": "scattercarpet"
           }
          ],
          "scattergeo": [
           {
            "marker": {
             "colorbar": {
              "outlinewidth": 0,
              "ticks": ""
             }
            },
            "type": "scattergeo"
           }
          ],
          "scattergl": [
           {
            "marker": {
             "colorbar": {
              "outlinewidth": 0,
              "ticks": ""
             }
            },
            "type": "scattergl"
           }
          ],
          "scattermapbox": [
           {
            "marker": {
             "colorbar": {
              "outlinewidth": 0,
              "ticks": ""
             }
            },
            "type": "scattermapbox"
           }
          ],
          "scatterpolar": [
           {
            "marker": {
             "colorbar": {
              "outlinewidth": 0,
              "ticks": ""
             }
            },
            "type": "scatterpolar"
           }
          ],
          "scatterpolargl": [
           {
            "marker": {
             "colorbar": {
              "outlinewidth": 0,
              "ticks": ""
             }
            },
            "type": "scatterpolargl"
           }
          ],
          "scatterternary": [
           {
            "marker": {
             "colorbar": {
              "outlinewidth": 0,
              "ticks": ""
             }
            },
            "type": "scatterternary"
           }
          ],
          "surface": [
           {
            "colorbar": {
             "outlinewidth": 0,
             "ticks": ""
            },
            "colorscale": [
             [
              0,
              "#0d0887"
             ],
             [
              0.1111111111111111,
              "#46039f"
             ],
             [
              0.2222222222222222,
              "#7201a8"
             ],
             [
              0.3333333333333333,
              "#9c179e"
             ],
             [
              0.4444444444444444,
              "#bd3786"
             ],
             [
              0.5555555555555556,
              "#d8576b"
             ],
             [
              0.6666666666666666,
              "#ed7953"
             ],
             [
              0.7777777777777778,
              "#fb9f3a"
             ],
             [
              0.8888888888888888,
              "#fdca26"
             ],
             [
              1,
              "#f0f921"
             ]
            ],
            "type": "surface"
           }
          ],
          "table": [
           {
            "cells": {
             "fill": {
              "color": "#EBF0F8"
             },
             "line": {
              "color": "white"
             }
            },
            "header": {
             "fill": {
              "color": "#C8D4E3"
             },
             "line": {
              "color": "white"
             }
            },
            "type": "table"
           }
          ]
         },
         "layout": {
          "annotationdefaults": {
           "arrowcolor": "#2a3f5f",
           "arrowhead": 0,
           "arrowwidth": 1
          },
          "autotypenumbers": "strict",
          "coloraxis": {
           "colorbar": {
            "outlinewidth": 0,
            "ticks": ""
           }
          },
          "colorscale": {
           "diverging": [
            [
             0,
             "#8e0152"
            ],
            [
             0.1,
             "#c51b7d"
            ],
            [
             0.2,
             "#de77ae"
            ],
            [
             0.3,
             "#f1b6da"
            ],
            [
             0.4,
             "#fde0ef"
            ],
            [
             0.5,
             "#f7f7f7"
            ],
            [
             0.6,
             "#e6f5d0"
            ],
            [
             0.7,
             "#b8e186"
            ],
            [
             0.8,
             "#7fbc41"
            ],
            [
             0.9,
             "#4d9221"
            ],
            [
             1,
             "#276419"
            ]
           ],
           "sequential": [
            [
             0,
             "#0d0887"
            ],
            [
             0.1111111111111111,
             "#46039f"
            ],
            [
             0.2222222222222222,
             "#7201a8"
            ],
            [
             0.3333333333333333,
             "#9c179e"
            ],
            [
             0.4444444444444444,
             "#bd3786"
            ],
            [
             0.5555555555555556,
             "#d8576b"
            ],
            [
             0.6666666666666666,
             "#ed7953"
            ],
            [
             0.7777777777777778,
             "#fb9f3a"
            ],
            [
             0.8888888888888888,
             "#fdca26"
            ],
            [
             1,
             "#f0f921"
            ]
           ],
           "sequentialminus": [
            [
             0,
             "#0d0887"
            ],
            [
             0.1111111111111111,
             "#46039f"
            ],
            [
             0.2222222222222222,
             "#7201a8"
            ],
            [
             0.3333333333333333,
             "#9c179e"
            ],
            [
             0.4444444444444444,
             "#bd3786"
            ],
            [
             0.5555555555555556,
             "#d8576b"
            ],
            [
             0.6666666666666666,
             "#ed7953"
            ],
            [
             0.7777777777777778,
             "#fb9f3a"
            ],
            [
             0.8888888888888888,
             "#fdca26"
            ],
            [
             1,
             "#f0f921"
            ]
           ]
          },
          "colorway": [
           "#636efa",
           "#EF553B",
           "#00cc96",
           "#ab63fa",
           "#FFA15A",
           "#19d3f3",
           "#FF6692",
           "#B6E880",
           "#FF97FF",
           "#FECB52"
          ],
          "font": {
           "color": "#2a3f5f"
          },
          "geo": {
           "bgcolor": "white",
           "lakecolor": "white",
           "landcolor": "#E5ECF6",
           "showlakes": true,
           "showland": true,
           "subunitcolor": "white"
          },
          "hoverlabel": {
           "align": "left"
          },
          "hovermode": "closest",
          "mapbox": {
           "style": "light"
          },
          "paper_bgcolor": "white",
          "plot_bgcolor": "#E5ECF6",
          "polar": {
           "angularaxis": {
            "gridcolor": "white",
            "linecolor": "white",
            "ticks": ""
           },
           "bgcolor": "#E5ECF6",
           "radialaxis": {
            "gridcolor": "white",
            "linecolor": "white",
            "ticks": ""
           }
          },
          "scene": {
           "xaxis": {
            "backgroundcolor": "#E5ECF6",
            "gridcolor": "white",
            "gridwidth": 2,
            "linecolor": "white",
            "showbackground": true,
            "ticks": "",
            "zerolinecolor": "white"
           },
           "yaxis": {
            "backgroundcolor": "#E5ECF6",
            "gridcolor": "white",
            "gridwidth": 2,
            "linecolor": "white",
            "showbackground": true,
            "ticks": "",
            "zerolinecolor": "white"
           },
           "zaxis": {
            "backgroundcolor": "#E5ECF6",
            "gridcolor": "white",
            "gridwidth": 2,
            "linecolor": "white",
            "showbackground": true,
            "ticks": "",
            "zerolinecolor": "white"
           }
          },
          "shapedefaults": {
           "line": {
            "color": "#2a3f5f"
           }
          },
          "ternary": {
           "aaxis": {
            "gridcolor": "white",
            "linecolor": "white",
            "ticks": ""
           },
           "baxis": {
            "gridcolor": "white",
            "linecolor": "white",
            "ticks": ""
           },
           "bgcolor": "#E5ECF6",
           "caxis": {
            "gridcolor": "white",
            "linecolor": "white",
            "ticks": ""
           }
          },
          "title": {
           "x": 0.05
          },
          "xaxis": {
           "automargin": true,
           "gridcolor": "white",
           "linecolor": "white",
           "ticks": "",
           "title": {
            "standoff": 15
           },
           "zerolinecolor": "white",
           "zerolinewidth": 2
          },
          "yaxis": {
           "automargin": true,
           "gridcolor": "white",
           "linecolor": "white",
           "ticks": "",
           "title": {
            "standoff": 15
           },
           "zerolinecolor": "white",
           "zerolinewidth": 2
          }
         }
        },
        "title": {
         "text": "Ave Mse Train by Alpha and Power"
        },
        "xaxis": {
         "anchor": "y",
         "domain": [
          0,
          1
         ],
         "title": {
          "text": "alpha"
         }
        },
        "yaxis": {
         "anchor": "x",
         "domain": [
          0,
          1
         ],
         "title": {
          "text": "ave_mse_train"
         }
        }
       }
      }
     },
     "metadata": {},
     "output_type": "display_data"
    }
   ],
   "source": [
    "plot_measure('ave_mse_train')"
   ]
  },
  {
   "cell_type": "code",
   "execution_count": 72,
   "metadata": {},
   "outputs": [
    {
     "data": {
      "application/vnd.plotly.v1+json": {
       "config": {
        "plotlyServerURL": "https://plot.ly"
       },
       "data": [
        {
         "hovertemplate": "power=0.0<br>alpha=%{x}<br>ave_mse_val=%{y}<extra></extra>",
         "legendgroup": "0.0",
         "line": {
          "color": "#636efa",
          "dash": "solid"
         },
         "marker": {
          "symbol": "circle"
         },
         "mode": "lines",
         "name": "0.0",
         "orientation": "v",
         "showlegend": true,
         "type": "scatter",
         "x": [
          0,
          0.105,
          0.211,
          0.316,
          0.421,
          0.526,
          0.632,
          0.737,
          0.842,
          0.947,
          1.053,
          1.158,
          1.263,
          1.368,
          1.474,
          1.579,
          1.684,
          1.789,
          1.895,
          2
         ],
         "xaxis": "x",
         "y": [
          0.0004213784864746643,
          0.00022705542082613388,
          0.000302224885474651,
          0.00041184392454824743,
          0.0005244941161644676,
          0.0006367312845671827,
          0.0007454327007406983,
          0.0008488799685296667,
          0.000946335336640572,
          0.0010376922135755056,
          0.0011238810615557117,
          0.0012052085869643416,
          0.0012820450913453851,
          0.0013551214845262324,
          0.001423714878941498,
          0.0014888625370096022,
          0.001550795275354642,
          0.001609778109018141,
          0.0016665367348246251,
          0.001719677474250917
         ],
         "yaxis": "y"
        },
        {
         "hovertemplate": "power=1.0<br>alpha=%{x}<br>ave_mse_val=%{y}<extra></extra>",
         "legendgroup": "1.0",
         "line": {
          "color": "#EF553B",
          "dash": "solid"
         },
         "marker": {
          "symbol": "circle"
         },
         "mode": "lines",
         "name": "1.0",
         "orientation": "v",
         "showlegend": true,
         "type": "scatter",
         "x": [
          0,
          0.105,
          0.211,
          0.316,
          0.421,
          0.526,
          0.632,
          0.737,
          0.842,
          0.947,
          1.053,
          1.158,
          1.263,
          1.368,
          1.474,
          1.579,
          1.684,
          1.789,
          1.895,
          2
         ],
         "xaxis": "x",
         "y": [
          0.0001284056936741832,
          0.0013607122550109243,
          0.0020661277406747313,
          0.0024745867081062134,
          0.002743253804480493,
          0.0029325708956554775,
          0.0030754224007275726,
          0.00318371624123445,
          0.0032695125606897976,
          0.0033404414656463773,
          0.0034001389007049564,
          0.003448360022522773,
          0.0034903270424882947,
          0.0035270390086140995,
          0.003559480424868694,
          0.0035874030598595182,
          0.0036126298784579063,
          0.0036352974558469253,
          0.003655919001346575,
          0.0036744081236770782
         ],
         "yaxis": "y"
        },
        {
         "hovertemplate": "power=1.5<br>alpha=%{x}<br>ave_mse_val=%{y}<extra></extra>",
         "legendgroup": "1.5",
         "line": {
          "color": "#00cc96",
          "dash": "solid"
         },
         "marker": {
          "symbol": "circle"
         },
         "mode": "lines",
         "name": "1.5",
         "orientation": "v",
         "showlegend": true,
         "type": "scatter",
         "x": [
          0,
          0.105,
          0.211,
          0.316,
          0.421,
          0.526,
          0.632,
          0.737,
          0.842,
          0.947,
          1.053,
          1.158,
          1.263,
          1.368,
          1.474,
          1.579,
          1.684,
          1.789,
          1.895,
          2
         ],
         "xaxis": "x",
         "y": [
          0.00013385666048230498,
          0.0003288332450787236,
          0.0005644528449561122,
          0.0008057913053147805,
          0.001031346405682763,
          0.0012348124428272118,
          0.001417670075309532,
          0.0015784729801927653,
          0.0017217395148734032,
          0.0018496083043938656,
          0.0019656979960393627,
          0.002069468100614164,
          0.0021635604419919354,
          0.002249046337284819,
          0.002327837745630722,
          0.0023994892683755825,
          0.0024652409037943766,
          0.002526027812063731,
          0.0025827677529058975,
          0.0026349737473061693
         ],
         "yaxis": "y"
        },
        {
         "hovertemplate": "power=1.8<br>alpha=%{x}<br>ave_mse_val=%{y}<extra></extra>",
         "legendgroup": "1.8",
         "line": {
          "color": "#ab63fa",
          "dash": "solid"
         },
         "marker": {
          "symbol": "circle"
         },
         "mode": "lines",
         "name": "1.8",
         "orientation": "v",
         "showlegend": true,
         "type": "scatter",
         "x": [
          0,
          0.105,
          0.211,
          0.316,
          0.421,
          0.526,
          0.632,
          0.737,
          0.842,
          0.947,
          1.053,
          1.158,
          1.263,
          1.368,
          1.474,
          1.579,
          1.684,
          1.789,
          1.895,
          2
         ],
         "xaxis": "x",
         "y": [
          0.00013103415184888785,
          0.00019186728273123548,
          0.0002396130864383973,
          0.0002989839641721684,
          0.0003715461706849485,
          0.00045295093506753916,
          0.0005401278344496682,
          0.0006285561079978601,
          0.0007171750981770312,
          0.0008046785157865454,
          0.0008909671245650936,
          0.0009738998833702354,
          0.0010541826768891438,
          0.0011315490285457312,
          0.0012065523109738908,
          0.0012779295923276192,
          0.0013463535048090051,
          0.0014119912897054723,
          0.0014755532783899432,
          0.0015358475688796737
         ],
         "yaxis": "y"
        },
        {
         "hovertemplate": "power=2.0<br>alpha=%{x}<br>ave_mse_val=%{y}<extra></extra>",
         "legendgroup": "2.0",
         "line": {
          "color": "#FFA15A",
          "dash": "solid"
         },
         "marker": {
          "symbol": "circle"
         },
         "mode": "lines",
         "name": "2.0",
         "orientation": "v",
         "showlegend": true,
         "type": "scatter",
         "x": [
          0,
          0.105,
          0.211,
          0.316,
          0.421,
          0.526,
          0.632,
          0.737,
          0.842,
          0.947,
          1.053,
          1.158,
          1.263,
          1.368,
          1.474,
          1.579,
          1.684,
          1.789,
          1.895,
          2
         ],
         "xaxis": "x",
         "y": [
          0.00012842587631526972,
          0.00016164161108663832,
          0.0001805749285338811,
          0.00019736718075159254,
          0.0002178714892112979,
          0.00024276499687552705,
          0.00027223183161753596,
          0.0003052149260122591,
          0.000341306982966338,
          0.00037990112259774254,
          0.00042087240933223107,
          0.0004629915973286442,
          0.0005062319035468159,
          0.00055025749165528,
          0.000595224448339667,
          0.0006400323399742781,
          0.0006849017588376407,
          0.0007297300097557077,
          0.0007746919757756921,
          0.0008188797181738324
         ],
         "yaxis": "y"
        },
        {
         "hovertemplate": "power=2.5<br>alpha=%{x}<br>ave_mse_val=%{y}<extra></extra>",
         "legendgroup": "2.5",
         "line": {
          "color": "#19d3f3",
          "dash": "solid"
         },
         "marker": {
          "symbol": "circle"
         },
         "mode": "lines",
         "name": "2.5",
         "orientation": "v",
         "showlegend": true,
         "type": "scatter",
         "x": [
          0,
          0.105,
          0.211,
          0.316,
          0.421,
          0.526,
          0.632,
          0.737,
          0.842,
          0.947,
          1.053,
          1.158,
          1.263,
          1.368,
          1.474,
          1.579,
          1.684,
          1.789,
          1.895,
          2
         ],
         "xaxis": "x",
         "y": [
          0.0001212088683374523,
          0.0001272306008388947,
          0.00013532268467561894,
          0.00013746866551799888,
          0.00013824819984039228,
          0.00013894723950370593,
          0.00014011296631269665,
          0.0001417734423032506,
          0.0001439218495750681,
          0.00014647992747202472,
          0.00014944914375202272,
          0.0001526803114293383,
          0.00015618271798924053,
          0.00015989121384774223,
          0.00016382929734413382,
          0.00016788724350909958,
          0.00017207851007367892,
          0.00017638415755297752,
          0.00018083344023471574,
          0.00018533903109329062
         ],
         "yaxis": "y"
        },
        {
         "hovertemplate": "power=3.0<br>alpha=%{x}<br>ave_mse_val=%{y}<extra></extra>",
         "legendgroup": "3.0",
         "line": {
          "color": "#FF6692",
          "dash": "solid"
         },
         "marker": {
          "symbol": "circle"
         },
         "mode": "lines",
         "name": "3.0",
         "orientation": "v",
         "showlegend": true,
         "type": "scatter",
         "x": [
          0,
          0.105,
          0.211,
          0.316,
          0.421,
          0.526,
          0.632,
          0.737,
          0.842,
          0.947,
          1.053,
          1.158,
          1.263,
          1.368,
          1.474,
          1.579,
          1.684,
          1.789,
          1.895,
          2
         ],
         "xaxis": "x",
         "y": [
          0.00011561672978975673,
          0.00011018133223062373,
          0.00011673939029128454,
          0.00012014849340992177,
          0.00012153765485777726,
          0.0001218023124948036,
          0.00012146757146627744,
          0.0001209067834111977,
          0.00012023573697635303,
          0.00011961644747182961,
          0.00011904949306673458,
          0.00011862995445774803,
          0.00011834494248510354,
          0.00011818149758551443,
          0.0001181619743411219,
          0.0001182700655329481,
          0.00011850278476012231,
          0.00011884585963415638,
          0.00011930222860270217,
          0.00011984864328312339
         ],
         "yaxis": "y"
        }
       ],
       "layout": {
        "legend": {
         "title": {
          "text": "power"
         },
         "tracegroupgap": 0
        },
        "template": {
         "data": {
          "bar": [
           {
            "error_x": {
             "color": "#2a3f5f"
            },
            "error_y": {
             "color": "#2a3f5f"
            },
            "marker": {
             "line": {
              "color": "#E5ECF6",
              "width": 0.5
             },
             "pattern": {
              "fillmode": "overlay",
              "size": 10,
              "solidity": 0.2
             }
            },
            "type": "bar"
           }
          ],
          "barpolar": [
           {
            "marker": {
             "line": {
              "color": "#E5ECF6",
              "width": 0.5
             },
             "pattern": {
              "fillmode": "overlay",
              "size": 10,
              "solidity": 0.2
             }
            },
            "type": "barpolar"
           }
          ],
          "carpet": [
           {
            "aaxis": {
             "endlinecolor": "#2a3f5f",
             "gridcolor": "white",
             "linecolor": "white",
             "minorgridcolor": "white",
             "startlinecolor": "#2a3f5f"
            },
            "baxis": {
             "endlinecolor": "#2a3f5f",
             "gridcolor": "white",
             "linecolor": "white",
             "minorgridcolor": "white",
             "startlinecolor": "#2a3f5f"
            },
            "type": "carpet"
           }
          ],
          "choropleth": [
           {
            "colorbar": {
             "outlinewidth": 0,
             "ticks": ""
            },
            "type": "choropleth"
           }
          ],
          "contour": [
           {
            "colorbar": {
             "outlinewidth": 0,
             "ticks": ""
            },
            "colorscale": [
             [
              0,
              "#0d0887"
             ],
             [
              0.1111111111111111,
              "#46039f"
             ],
             [
              0.2222222222222222,
              "#7201a8"
             ],
             [
              0.3333333333333333,
              "#9c179e"
             ],
             [
              0.4444444444444444,
              "#bd3786"
             ],
             [
              0.5555555555555556,
              "#d8576b"
             ],
             [
              0.6666666666666666,
              "#ed7953"
             ],
             [
              0.7777777777777778,
              "#fb9f3a"
             ],
             [
              0.8888888888888888,
              "#fdca26"
             ],
             [
              1,
              "#f0f921"
             ]
            ],
            "type": "contour"
           }
          ],
          "contourcarpet": [
           {
            "colorbar": {
             "outlinewidth": 0,
             "ticks": ""
            },
            "type": "contourcarpet"
           }
          ],
          "heatmap": [
           {
            "colorbar": {
             "outlinewidth": 0,
             "ticks": ""
            },
            "colorscale": [
             [
              0,
              "#0d0887"
             ],
             [
              0.1111111111111111,
              "#46039f"
             ],
             [
              0.2222222222222222,
              "#7201a8"
             ],
             [
              0.3333333333333333,
              "#9c179e"
             ],
             [
              0.4444444444444444,
              "#bd3786"
             ],
             [
              0.5555555555555556,
              "#d8576b"
             ],
             [
              0.6666666666666666,
              "#ed7953"
             ],
             [
              0.7777777777777778,
              "#fb9f3a"
             ],
             [
              0.8888888888888888,
              "#fdca26"
             ],
             [
              1,
              "#f0f921"
             ]
            ],
            "type": "heatmap"
           }
          ],
          "heatmapgl": [
           {
            "colorbar": {
             "outlinewidth": 0,
             "ticks": ""
            },
            "colorscale": [
             [
              0,
              "#0d0887"
             ],
             [
              0.1111111111111111,
              "#46039f"
             ],
             [
              0.2222222222222222,
              "#7201a8"
             ],
             [
              0.3333333333333333,
              "#9c179e"
             ],
             [
              0.4444444444444444,
              "#bd3786"
             ],
             [
              0.5555555555555556,
              "#d8576b"
             ],
             [
              0.6666666666666666,
              "#ed7953"
             ],
             [
              0.7777777777777778,
              "#fb9f3a"
             ],
             [
              0.8888888888888888,
              "#fdca26"
             ],
             [
              1,
              "#f0f921"
             ]
            ],
            "type": "heatmapgl"
           }
          ],
          "histogram": [
           {
            "marker": {
             "pattern": {
              "fillmode": "overlay",
              "size": 10,
              "solidity": 0.2
             }
            },
            "type": "histogram"
           }
          ],
          "histogram2d": [
           {
            "colorbar": {
             "outlinewidth": 0,
             "ticks": ""
            },
            "colorscale": [
             [
              0,
              "#0d0887"
             ],
             [
              0.1111111111111111,
              "#46039f"
             ],
             [
              0.2222222222222222,
              "#7201a8"
             ],
             [
              0.3333333333333333,
              "#9c179e"
             ],
             [
              0.4444444444444444,
              "#bd3786"
             ],
             [
              0.5555555555555556,
              "#d8576b"
             ],
             [
              0.6666666666666666,
              "#ed7953"
             ],
             [
              0.7777777777777778,
              "#fb9f3a"
             ],
             [
              0.8888888888888888,
              "#fdca26"
             ],
             [
              1,
              "#f0f921"
             ]
            ],
            "type": "histogram2d"
           }
          ],
          "histogram2dcontour": [
           {
            "colorbar": {
             "outlinewidth": 0,
             "ticks": ""
            },
            "colorscale": [
             [
              0,
              "#0d0887"
             ],
             [
              0.1111111111111111,
              "#46039f"
             ],
             [
              0.2222222222222222,
              "#7201a8"
             ],
             [
              0.3333333333333333,
              "#9c179e"
             ],
             [
              0.4444444444444444,
              "#bd3786"
             ],
             [
              0.5555555555555556,
              "#d8576b"
             ],
             [
              0.6666666666666666,
              "#ed7953"
             ],
             [
              0.7777777777777778,
              "#fb9f3a"
             ],
             [
              0.8888888888888888,
              "#fdca26"
             ],
             [
              1,
              "#f0f921"
             ]
            ],
            "type": "histogram2dcontour"
           }
          ],
          "mesh3d": [
           {
            "colorbar": {
             "outlinewidth": 0,
             "ticks": ""
            },
            "type": "mesh3d"
           }
          ],
          "parcoords": [
           {
            "line": {
             "colorbar": {
              "outlinewidth": 0,
              "ticks": ""
             }
            },
            "type": "parcoords"
           }
          ],
          "pie": [
           {
            "automargin": true,
            "type": "pie"
           }
          ],
          "scatter": [
           {
            "fillpattern": {
             "fillmode": "overlay",
             "size": 10,
             "solidity": 0.2
            },
            "type": "scatter"
           }
          ],
          "scatter3d": [
           {
            "line": {
             "colorbar": {
              "outlinewidth": 0,
              "ticks": ""
             }
            },
            "marker": {
             "colorbar": {
              "outlinewidth": 0,
              "ticks": ""
             }
            },
            "type": "scatter3d"
           }
          ],
          "scattercarpet": [
           {
            "marker": {
             "colorbar": {
              "outlinewidth": 0,
              "ticks": ""
             }
            },
            "type": "scattercarpet"
           }
          ],
          "scattergeo": [
           {
            "marker": {
             "colorbar": {
              "outlinewidth": 0,
              "ticks": ""
             }
            },
            "type": "scattergeo"
           }
          ],
          "scattergl": [
           {
            "marker": {
             "colorbar": {
              "outlinewidth": 0,
              "ticks": ""
             }
            },
            "type": "scattergl"
           }
          ],
          "scattermapbox": [
           {
            "marker": {
             "colorbar": {
              "outlinewidth": 0,
              "ticks": ""
             }
            },
            "type": "scattermapbox"
           }
          ],
          "scatterpolar": [
           {
            "marker": {
             "colorbar": {
              "outlinewidth": 0,
              "ticks": ""
             }
            },
            "type": "scatterpolar"
           }
          ],
          "scatterpolargl": [
           {
            "marker": {
             "colorbar": {
              "outlinewidth": 0,
              "ticks": ""
             }
            },
            "type": "scatterpolargl"
           }
          ],
          "scatterternary": [
           {
            "marker": {
             "colorbar": {
              "outlinewidth": 0,
              "ticks": ""
             }
            },
            "type": "scatterternary"
           }
          ],
          "surface": [
           {
            "colorbar": {
             "outlinewidth": 0,
             "ticks": ""
            },
            "colorscale": [
             [
              0,
              "#0d0887"
             ],
             [
              0.1111111111111111,
              "#46039f"
             ],
             [
              0.2222222222222222,
              "#7201a8"
             ],
             [
              0.3333333333333333,
              "#9c179e"
             ],
             [
              0.4444444444444444,
              "#bd3786"
             ],
             [
              0.5555555555555556,
              "#d8576b"
             ],
             [
              0.6666666666666666,
              "#ed7953"
             ],
             [
              0.7777777777777778,
              "#fb9f3a"
             ],
             [
              0.8888888888888888,
              "#fdca26"
             ],
             [
              1,
              "#f0f921"
             ]
            ],
            "type": "surface"
           }
          ],
          "table": [
           {
            "cells": {
             "fill": {
              "color": "#EBF0F8"
             },
             "line": {
              "color": "white"
             }
            },
            "header": {
             "fill": {
              "color": "#C8D4E3"
             },
             "line": {
              "color": "white"
             }
            },
            "type": "table"
           }
          ]
         },
         "layout": {
          "annotationdefaults": {
           "arrowcolor": "#2a3f5f",
           "arrowhead": 0,
           "arrowwidth": 1
          },
          "autotypenumbers": "strict",
          "coloraxis": {
           "colorbar": {
            "outlinewidth": 0,
            "ticks": ""
           }
          },
          "colorscale": {
           "diverging": [
            [
             0,
             "#8e0152"
            ],
            [
             0.1,
             "#c51b7d"
            ],
            [
             0.2,
             "#de77ae"
            ],
            [
             0.3,
             "#f1b6da"
            ],
            [
             0.4,
             "#fde0ef"
            ],
            [
             0.5,
             "#f7f7f7"
            ],
            [
             0.6,
             "#e6f5d0"
            ],
            [
             0.7,
             "#b8e186"
            ],
            [
             0.8,
             "#7fbc41"
            ],
            [
             0.9,
             "#4d9221"
            ],
            [
             1,
             "#276419"
            ]
           ],
           "sequential": [
            [
             0,
             "#0d0887"
            ],
            [
             0.1111111111111111,
             "#46039f"
            ],
            [
             0.2222222222222222,
             "#7201a8"
            ],
            [
             0.3333333333333333,
             "#9c179e"
            ],
            [
             0.4444444444444444,
             "#bd3786"
            ],
            [
             0.5555555555555556,
             "#d8576b"
            ],
            [
             0.6666666666666666,
             "#ed7953"
            ],
            [
             0.7777777777777778,
             "#fb9f3a"
            ],
            [
             0.8888888888888888,
             "#fdca26"
            ],
            [
             1,
             "#f0f921"
            ]
           ],
           "sequentialminus": [
            [
             0,
             "#0d0887"
            ],
            [
             0.1111111111111111,
             "#46039f"
            ],
            [
             0.2222222222222222,
             "#7201a8"
            ],
            [
             0.3333333333333333,
             "#9c179e"
            ],
            [
             0.4444444444444444,
             "#bd3786"
            ],
            [
             0.5555555555555556,
             "#d8576b"
            ],
            [
             0.6666666666666666,
             "#ed7953"
            ],
            [
             0.7777777777777778,
             "#fb9f3a"
            ],
            [
             0.8888888888888888,
             "#fdca26"
            ],
            [
             1,
             "#f0f921"
            ]
           ]
          },
          "colorway": [
           "#636efa",
           "#EF553B",
           "#00cc96",
           "#ab63fa",
           "#FFA15A",
           "#19d3f3",
           "#FF6692",
           "#B6E880",
           "#FF97FF",
           "#FECB52"
          ],
          "font": {
           "color": "#2a3f5f"
          },
          "geo": {
           "bgcolor": "white",
           "lakecolor": "white",
           "landcolor": "#E5ECF6",
           "showlakes": true,
           "showland": true,
           "subunitcolor": "white"
          },
          "hoverlabel": {
           "align": "left"
          },
          "hovermode": "closest",
          "mapbox": {
           "style": "light"
          },
          "paper_bgcolor": "white",
          "plot_bgcolor": "#E5ECF6",
          "polar": {
           "angularaxis": {
            "gridcolor": "white",
            "linecolor": "white",
            "ticks": ""
           },
           "bgcolor": "#E5ECF6",
           "radialaxis": {
            "gridcolor": "white",
            "linecolor": "white",
            "ticks": ""
           }
          },
          "scene": {
           "xaxis": {
            "backgroundcolor": "#E5ECF6",
            "gridcolor": "white",
            "gridwidth": 2,
            "linecolor": "white",
            "showbackground": true,
            "ticks": "",
            "zerolinecolor": "white"
           },
           "yaxis": {
            "backgroundcolor": "#E5ECF6",
            "gridcolor": "white",
            "gridwidth": 2,
            "linecolor": "white",
            "showbackground": true,
            "ticks": "",
            "zerolinecolor": "white"
           },
           "zaxis": {
            "backgroundcolor": "#E5ECF6",
            "gridcolor": "white",
            "gridwidth": 2,
            "linecolor": "white",
            "showbackground": true,
            "ticks": "",
            "zerolinecolor": "white"
           }
          },
          "shapedefaults": {
           "line": {
            "color": "#2a3f5f"
           }
          },
          "ternary": {
           "aaxis": {
            "gridcolor": "white",
            "linecolor": "white",
            "ticks": ""
           },
           "baxis": {
            "gridcolor": "white",
            "linecolor": "white",
            "ticks": ""
           },
           "bgcolor": "#E5ECF6",
           "caxis": {
            "gridcolor": "white",
            "linecolor": "white",
            "ticks": ""
           }
          },
          "title": {
           "x": 0.05
          },
          "xaxis": {
           "automargin": true,
           "gridcolor": "white",
           "linecolor": "white",
           "ticks": "",
           "title": {
            "standoff": 15
           },
           "zerolinecolor": "white",
           "zerolinewidth": 2
          },
          "yaxis": {
           "automargin": true,
           "gridcolor": "white",
           "linecolor": "white",
           "ticks": "",
           "title": {
            "standoff": 15
           },
           "zerolinecolor": "white",
           "zerolinewidth": 2
          }
         }
        },
        "title": {
         "text": "Ave Mse Val by Alpha and Power"
        },
        "xaxis": {
         "anchor": "y",
         "domain": [
          0,
          1
         ],
         "title": {
          "text": "alpha"
         }
        },
        "yaxis": {
         "anchor": "x",
         "domain": [
          0,
          1
         ],
         "title": {
          "text": "ave_mse_val"
         }
        }
       }
      }
     },
     "metadata": {},
     "output_type": "display_data"
    }
   ],
   "source": [
    "plot_measure('ave_mse_val')"
   ]
  },
  {
   "cell_type": "code",
   "execution_count": 73,
   "metadata": {},
   "outputs": [
    {
     "data": {
      "application/vnd.plotly.v1+json": {
       "config": {
        "plotlyServerURL": "https://plot.ly"
       },
       "data": [
        {
         "hovertemplate": "power=0.0<br>alpha=%{x}<br>std_mse_train=%{y}<extra></extra>",
         "legendgroup": "0.0",
         "line": {
          "color": "#636efa",
          "dash": "solid"
         },
         "marker": {
          "symbol": "circle"
         },
         "mode": "lines",
         "name": "0.0",
         "orientation": "v",
         "showlegend": true,
         "type": "scatter",
         "x": [
          0,
          0.105,
          0.211,
          0.316,
          0.421,
          0.526,
          0.632,
          0.737,
          0.842,
          0.947,
          1.053,
          1.158,
          1.263,
          1.368,
          1.474,
          1.579,
          1.684,
          1.789,
          1.895,
          2
         ],
         "xaxis": "x",
         "y": [
          0.000010182885939213233,
          0.0000049062425127695275,
          0.000017858142064983574,
          0.000033322900436724576,
          0.00004792425578565714,
          0.0000602006151792447,
          0.00007340595281344131,
          0.00008402387275589954,
          0.00009482263437279832,
          0.00010505324130788066,
          0.00011438168723664581,
          0.00012337515925822025,
          0.0001320689784416985,
          0.00014010924085024383,
          0.00014690605208695853,
          0.0001540711261317253,
          0.00016086977787006123,
          0.00016730366736522403,
          0.00017344774529404495,
          0.00017923195277200449
         ],
         "yaxis": "y"
        },
        {
         "hovertemplate": "power=1.0<br>alpha=%{x}<br>std_mse_train=%{y}<extra></extra>",
         "legendgroup": "1.0",
         "line": {
          "color": "#EF553B",
          "dash": "solid"
         },
         "marker": {
          "symbol": "circle"
         },
         "mode": "lines",
         "name": "1.0",
         "orientation": "v",
         "showlegend": true,
         "type": "scatter",
         "x": [
          0,
          0.105,
          0.211,
          0.316,
          0.421,
          0.526,
          0.632,
          0.737,
          0.842,
          0.947,
          1.053,
          1.158,
          1.263,
          1.368,
          1.474,
          1.579,
          1.684,
          1.789,
          1.895,
          2
         ],
         "xaxis": "x",
         "y": [
          0.0000019354732541596984,
          0.00004131235288501049,
          0.0001029438508770025,
          0.00014762891449068358,
          0.00017951921216170086,
          0.00020294079176675573,
          0.00022119861647019808,
          0.00023547134216441741,
          0.0002466195674161083,
          0.00025602053240034384,
          0.0002639033580080184,
          0.00027059423922381906,
          0.00027633798168789605,
          0.00028132631166370806,
          0.0002857197883241748,
          0.0002896157070838059,
          0.00029302935416354066,
          0.000296096051318276,
          0.00029888239033527554,
          0.0003013795763300204
         ],
         "yaxis": "y"
        },
        {
         "hovertemplate": "power=1.5<br>alpha=%{x}<br>std_mse_train=%{y}<extra></extra>",
         "legendgroup": "1.5",
         "line": {
          "color": "#00cc96",
          "dash": "solid"
         },
         "marker": {
          "symbol": "circle"
         },
         "mode": "lines",
         "name": "1.5",
         "orientation": "v",
         "showlegend": true,
         "type": "scatter",
         "x": [
          0,
          0.105,
          0.211,
          0.316,
          0.421,
          0.526,
          0.632,
          0.737,
          0.842,
          0.947,
          1.053,
          1.158,
          1.263,
          1.368,
          1.474,
          1.579,
          1.684,
          1.789,
          1.895,
          2
         ],
         "xaxis": "x",
         "y": [
          0.0000025082509334966823,
          0.000009442848449599835,
          0.000035353729996718807,
          0.0000634876212133915,
          0.00008911852161319374,
          0.00011169040796569298,
          0.0001313676512788678,
          0.0001478395038773943,
          0.000162228328922499,
          0.0001751145915194366,
          0.0001865264908947214,
          0.00019628446885984572,
          0.000204965111351353,
          0.00021277040160265669,
          0.00021988940885340555,
          0.00022633788964025798,
          0.000232131693043367,
          0.00023750653210327747,
          0.00024242912792066555,
          0.00024689670079196973
         ],
         "yaxis": "y"
        },
        {
         "hovertemplate": "power=1.8<br>alpha=%{x}<br>std_mse_train=%{y}<extra></extra>",
         "legendgroup": "1.8",
         "line": {
          "color": "#ab63fa",
          "dash": "solid"
         },
         "marker": {
          "symbol": "circle"
         },
         "mode": "lines",
         "name": "1.8",
         "orientation": "v",
         "showlegend": true,
         "type": "scatter",
         "x": [
          0,
          0.105,
          0.211,
          0.316,
          0.421,
          0.526,
          0.632,
          0.737,
          0.842,
          0.947,
          1.053,
          1.158,
          1.263,
          1.368,
          1.474,
          1.579,
          1.684,
          1.789,
          1.895,
          2
         ],
         "xaxis": "x",
         "y": [
          0.000007895019411721543,
          0.000009414751077326645,
          0.00001960231198495356,
          0.00003319315315865443,
          0.00004762140323772279,
          0.0000621641459024633,
          0.00007644530289169751,
          0.00008973084620140561,
          0.00010212034003409572,
          0.00011376822993896792,
          0.00012495955598126996,
          0.00013495314037141528,
          0.00014430709299013102,
          0.0001531091806704822,
          0.0001613361173831693,
          0.00016898182262057885,
          0.00017612107096656127,
          0.00018276578113338553,
          0.0001890272645555644,
          0.0001948411605495376
         ],
         "yaxis": "y"
        },
        {
         "hovertemplate": "power=2.0<br>alpha=%{x}<br>std_mse_train=%{y}<extra></extra>",
         "legendgroup": "2.0",
         "line": {
          "color": "#FFA15A",
          "dash": "solid"
         },
         "marker": {
          "symbol": "circle"
         },
         "mode": "lines",
         "name": "2.0",
         "orientation": "v",
         "showlegend": true,
         "type": "scatter",
         "x": [
          0,
          0.105,
          0.211,
          0.316,
          0.421,
          0.526,
          0.632,
          0.737,
          0.842,
          0.947,
          1.053,
          1.158,
          1.263,
          1.368,
          1.474,
          1.579,
          1.684,
          1.789,
          1.895,
          2
         ],
         "xaxis": "x",
         "y": [
          0.00001593127405399587,
          0.000008951547445005021,
          0.000019247620441907558,
          0.00002933905834439066,
          0.00003930751516611514,
          0.00004889687567793206,
          0.00005810794202778932,
          0.00006705995393073568,
          0.0000753429041746361,
          0.00008319230446138309,
          0.00009081527185031136,
          0.00009808784250478756,
          0.0001051896961101968,
          0.00011197268433594985,
          0.00011855162272962208,
          0.00012490936737520836,
          0.00013106649246082586,
          0.00013706288898701255,
          0.00014290289948628424,
          0.0001484271357725479
         ],
         "yaxis": "y"
        },
        {
         "hovertemplate": "power=2.5<br>alpha=%{x}<br>std_mse_train=%{y}<extra></extra>",
         "legendgroup": "2.5",
         "line": {
          "color": "#19d3f3",
          "dash": "solid"
         },
         "marker": {
          "symbol": "circle"
         },
         "mode": "lines",
         "name": "2.5",
         "orientation": "v",
         "showlegend": true,
         "type": "scatter",
         "x": [
          0,
          0.105,
          0.211,
          0.316,
          0.421,
          0.526,
          0.632,
          0.737,
          0.842,
          0.947,
          1.053,
          1.158,
          1.263,
          1.368,
          1.474,
          1.579,
          1.684,
          1.789,
          1.895,
          2
         ],
         "xaxis": "x",
         "y": [
          0.00008994716212110003,
          0.000029064830777426282,
          0.000017468358779491877,
          0.000020941044942291985,
          0.000028160955160896917,
          0.00003562755078619095,
          0.00004282928375610304,
          0.000049574930527648076,
          0.00005589971950749344,
          0.0000618420656823706,
          0.0000674633470930519,
          0.00007278139964071201,
          0.00007781937922680212,
          0.00008267802843591459,
          0.00008734565520349233,
          0.00009180987834085395,
          0.00009615479233191025,
          0.0001003635024319385,
          0.00010441737131672068,
          0.00010833864643108185
         ],
         "yaxis": "y"
        },
        {
         "hovertemplate": "power=3.0<br>alpha=%{x}<br>std_mse_train=%{y}<extra></extra>",
         "legendgroup": "3.0",
         "line": {
          "color": "#FF6692",
          "dash": "solid"
         },
         "marker": {
          "symbol": "circle"
         },
         "mode": "lines",
         "name": "3.0",
         "orientation": "v",
         "showlegend": true,
         "type": "scatter",
         "x": [
          0,
          0.105,
          0.211,
          0.316,
          0.421,
          0.526,
          0.632,
          0.737,
          0.842,
          0.947,
          1.053,
          1.158,
          1.263,
          1.368,
          1.474,
          1.579,
          1.684,
          1.789,
          1.895,
          2
         ],
         "xaxis": "x",
         "y": [
          0.0003038114584811215,
          0.00021385672248719193,
          0.00015951463572315059,
          0.00012329186555462457,
          0.00009781007739709013,
          0.00007969804930152954,
          0.00006688279826213547,
          0.00005825054686685203,
          0.00005275518954430717,
          0.000049695565569216335,
          0.00004853410866947354,
          0.00004877448398645552,
          0.000049948440406397023,
          0.00005183747154925232,
          0.00005419313734430317,
          0.00005681874538256275,
          0.0000596423412420672,
          0.00006257365178964172,
          0.00006560319729911071,
          0.00006864448663196166
         ],
         "yaxis": "y"
        }
       ],
       "layout": {
        "legend": {
         "title": {
          "text": "power"
         },
         "tracegroupgap": 0
        },
        "template": {
         "data": {
          "bar": [
           {
            "error_x": {
             "color": "#2a3f5f"
            },
            "error_y": {
             "color": "#2a3f5f"
            },
            "marker": {
             "line": {
              "color": "#E5ECF6",
              "width": 0.5
             },
             "pattern": {
              "fillmode": "overlay",
              "size": 10,
              "solidity": 0.2
             }
            },
            "type": "bar"
           }
          ],
          "barpolar": [
           {
            "marker": {
             "line": {
              "color": "#E5ECF6",
              "width": 0.5
             },
             "pattern": {
              "fillmode": "overlay",
              "size": 10,
              "solidity": 0.2
             }
            },
            "type": "barpolar"
           }
          ],
          "carpet": [
           {
            "aaxis": {
             "endlinecolor": "#2a3f5f",
             "gridcolor": "white",
             "linecolor": "white",
             "minorgridcolor": "white",
             "startlinecolor": "#2a3f5f"
            },
            "baxis": {
             "endlinecolor": "#2a3f5f",
             "gridcolor": "white",
             "linecolor": "white",
             "minorgridcolor": "white",
             "startlinecolor": "#2a3f5f"
            },
            "type": "carpet"
           }
          ],
          "choropleth": [
           {
            "colorbar": {
             "outlinewidth": 0,
             "ticks": ""
            },
            "type": "choropleth"
           }
          ],
          "contour": [
           {
            "colorbar": {
             "outlinewidth": 0,
             "ticks": ""
            },
            "colorscale": [
             [
              0,
              "#0d0887"
             ],
             [
              0.1111111111111111,
              "#46039f"
             ],
             [
              0.2222222222222222,
              "#7201a8"
             ],
             [
              0.3333333333333333,
              "#9c179e"
             ],
             [
              0.4444444444444444,
              "#bd3786"
             ],
             [
              0.5555555555555556,
              "#d8576b"
             ],
             [
              0.6666666666666666,
              "#ed7953"
             ],
             [
              0.7777777777777778,
              "#fb9f3a"
             ],
             [
              0.8888888888888888,
              "#fdca26"
             ],
             [
              1,
              "#f0f921"
             ]
            ],
            "type": "contour"
           }
          ],
          "contourcarpet": [
           {
            "colorbar": {
             "outlinewidth": 0,
             "ticks": ""
            },
            "type": "contourcarpet"
           }
          ],
          "heatmap": [
           {
            "colorbar": {
             "outlinewidth": 0,
             "ticks": ""
            },
            "colorscale": [
             [
              0,
              "#0d0887"
             ],
             [
              0.1111111111111111,
              "#46039f"
             ],
             [
              0.2222222222222222,
              "#7201a8"
             ],
             [
              0.3333333333333333,
              "#9c179e"
             ],
             [
              0.4444444444444444,
              "#bd3786"
             ],
             [
              0.5555555555555556,
              "#d8576b"
             ],
             [
              0.6666666666666666,
              "#ed7953"
             ],
             [
              0.7777777777777778,
              "#fb9f3a"
             ],
             [
              0.8888888888888888,
              "#fdca26"
             ],
             [
              1,
              "#f0f921"
             ]
            ],
            "type": "heatmap"
           }
          ],
          "heatmapgl": [
           {
            "colorbar": {
             "outlinewidth": 0,
             "ticks": ""
            },
            "colorscale": [
             [
              0,
              "#0d0887"
             ],
             [
              0.1111111111111111,
              "#46039f"
             ],
             [
              0.2222222222222222,
              "#7201a8"
             ],
             [
              0.3333333333333333,
              "#9c179e"
             ],
             [
              0.4444444444444444,
              "#bd3786"
             ],
             [
              0.5555555555555556,
              "#d8576b"
             ],
             [
              0.6666666666666666,
              "#ed7953"
             ],
             [
              0.7777777777777778,
              "#fb9f3a"
             ],
             [
              0.8888888888888888,
              "#fdca26"
             ],
             [
              1,
              "#f0f921"
             ]
            ],
            "type": "heatmapgl"
           }
          ],
          "histogram": [
           {
            "marker": {
             "pattern": {
              "fillmode": "overlay",
              "size": 10,
              "solidity": 0.2
             }
            },
            "type": "histogram"
           }
          ],
          "histogram2d": [
           {
            "colorbar": {
             "outlinewidth": 0,
             "ticks": ""
            },
            "colorscale": [
             [
              0,
              "#0d0887"
             ],
             [
              0.1111111111111111,
              "#46039f"
             ],
             [
              0.2222222222222222,
              "#7201a8"
             ],
             [
              0.3333333333333333,
              "#9c179e"
             ],
             [
              0.4444444444444444,
              "#bd3786"
             ],
             [
              0.5555555555555556,
              "#d8576b"
             ],
             [
              0.6666666666666666,
              "#ed7953"
             ],
             [
              0.7777777777777778,
              "#fb9f3a"
             ],
             [
              0.8888888888888888,
              "#fdca26"
             ],
             [
              1,
              "#f0f921"
             ]
            ],
            "type": "histogram2d"
           }
          ],
          "histogram2dcontour": [
           {
            "colorbar": {
             "outlinewidth": 0,
             "ticks": ""
            },
            "colorscale": [
             [
              0,
              "#0d0887"
             ],
             [
              0.1111111111111111,
              "#46039f"
             ],
             [
              0.2222222222222222,
              "#7201a8"
             ],
             [
              0.3333333333333333,
              "#9c179e"
             ],
             [
              0.4444444444444444,
              "#bd3786"
             ],
             [
              0.5555555555555556,
              "#d8576b"
             ],
             [
              0.6666666666666666,
              "#ed7953"
             ],
             [
              0.7777777777777778,
              "#fb9f3a"
             ],
             [
              0.8888888888888888,
              "#fdca26"
             ],
             [
              1,
              "#f0f921"
             ]
            ],
            "type": "histogram2dcontour"
           }
          ],
          "mesh3d": [
           {
            "colorbar": {
             "outlinewidth": 0,
             "ticks": ""
            },
            "type": "mesh3d"
           }
          ],
          "parcoords": [
           {
            "line": {
             "colorbar": {
              "outlinewidth": 0,
              "ticks": ""
             }
            },
            "type": "parcoords"
           }
          ],
          "pie": [
           {
            "automargin": true,
            "type": "pie"
           }
          ],
          "scatter": [
           {
            "fillpattern": {
             "fillmode": "overlay",
             "size": 10,
             "solidity": 0.2
            },
            "type": "scatter"
           }
          ],
          "scatter3d": [
           {
            "line": {
             "colorbar": {
              "outlinewidth": 0,
              "ticks": ""
             }
            },
            "marker": {
             "colorbar": {
              "outlinewidth": 0,
              "ticks": ""
             }
            },
            "type": "scatter3d"
           }
          ],
          "scattercarpet": [
           {
            "marker": {
             "colorbar": {
              "outlinewidth": 0,
              "ticks": ""
             }
            },
            "type": "scattercarpet"
           }
          ],
          "scattergeo": [
           {
            "marker": {
             "colorbar": {
              "outlinewidth": 0,
              "ticks": ""
             }
            },
            "type": "scattergeo"
           }
          ],
          "scattergl": [
           {
            "marker": {
             "colorbar": {
              "outlinewidth": 0,
              "ticks": ""
             }
            },
            "type": "scattergl"
           }
          ],
          "scattermapbox": [
           {
            "marker": {
             "colorbar": {
              "outlinewidth": 0,
              "ticks": ""
             }
            },
            "type": "scattermapbox"
           }
          ],
          "scatterpolar": [
           {
            "marker": {
             "colorbar": {
              "outlinewidth": 0,
              "ticks": ""
             }
            },
            "type": "scatterpolar"
           }
          ],
          "scatterpolargl": [
           {
            "marker": {
             "colorbar": {
              "outlinewidth": 0,
              "ticks": ""
             }
            },
            "type": "scatterpolargl"
           }
          ],
          "scatterternary": [
           {
            "marker": {
             "colorbar": {
              "outlinewidth": 0,
              "ticks": ""
             }
            },
            "type": "scatterternary"
           }
          ],
          "surface": [
           {
            "colorbar": {
             "outlinewidth": 0,
             "ticks": ""
            },
            "colorscale": [
             [
              0,
              "#0d0887"
             ],
             [
              0.1111111111111111,
              "#46039f"
             ],
             [
              0.2222222222222222,
              "#7201a8"
             ],
             [
              0.3333333333333333,
              "#9c179e"
             ],
             [
              0.4444444444444444,
              "#bd3786"
             ],
             [
              0.5555555555555556,
              "#d8576b"
             ],
             [
              0.6666666666666666,
              "#ed7953"
             ],
             [
              0.7777777777777778,
              "#fb9f3a"
             ],
             [
              0.8888888888888888,
              "#fdca26"
             ],
             [
              1,
              "#f0f921"
             ]
            ],
            "type": "surface"
           }
          ],
          "table": [
           {
            "cells": {
             "fill": {
              "color": "#EBF0F8"
             },
             "line": {
              "color": "white"
             }
            },
            "header": {
             "fill": {
              "color": "#C8D4E3"
             },
             "line": {
              "color": "white"
             }
            },
            "type": "table"
           }
          ]
         },
         "layout": {
          "annotationdefaults": {
           "arrowcolor": "#2a3f5f",
           "arrowhead": 0,
           "arrowwidth": 1
          },
          "autotypenumbers": "strict",
          "coloraxis": {
           "colorbar": {
            "outlinewidth": 0,
            "ticks": ""
           }
          },
          "colorscale": {
           "diverging": [
            [
             0,
             "#8e0152"
            ],
            [
             0.1,
             "#c51b7d"
            ],
            [
             0.2,
             "#de77ae"
            ],
            [
             0.3,
             "#f1b6da"
            ],
            [
             0.4,
             "#fde0ef"
            ],
            [
             0.5,
             "#f7f7f7"
            ],
            [
             0.6,
             "#e6f5d0"
            ],
            [
             0.7,
             "#b8e186"
            ],
            [
             0.8,
             "#7fbc41"
            ],
            [
             0.9,
             "#4d9221"
            ],
            [
             1,
             "#276419"
            ]
           ],
           "sequential": [
            [
             0,
             "#0d0887"
            ],
            [
             0.1111111111111111,
             "#46039f"
            ],
            [
             0.2222222222222222,
             "#7201a8"
            ],
            [
             0.3333333333333333,
             "#9c179e"
            ],
            [
             0.4444444444444444,
             "#bd3786"
            ],
            [
             0.5555555555555556,
             "#d8576b"
            ],
            [
             0.6666666666666666,
             "#ed7953"
            ],
            [
             0.7777777777777778,
             "#fb9f3a"
            ],
            [
             0.8888888888888888,
             "#fdca26"
            ],
            [
             1,
             "#f0f921"
            ]
           ],
           "sequentialminus": [
            [
             0,
             "#0d0887"
            ],
            [
             0.1111111111111111,
             "#46039f"
            ],
            [
             0.2222222222222222,
             "#7201a8"
            ],
            [
             0.3333333333333333,
             "#9c179e"
            ],
            [
             0.4444444444444444,
             "#bd3786"
            ],
            [
             0.5555555555555556,
             "#d8576b"
            ],
            [
             0.6666666666666666,
             "#ed7953"
            ],
            [
             0.7777777777777778,
             "#fb9f3a"
            ],
            [
             0.8888888888888888,
             "#fdca26"
            ],
            [
             1,
             "#f0f921"
            ]
           ]
          },
          "colorway": [
           "#636efa",
           "#EF553B",
           "#00cc96",
           "#ab63fa",
           "#FFA15A",
           "#19d3f3",
           "#FF6692",
           "#B6E880",
           "#FF97FF",
           "#FECB52"
          ],
          "font": {
           "color": "#2a3f5f"
          },
          "geo": {
           "bgcolor": "white",
           "lakecolor": "white",
           "landcolor": "#E5ECF6",
           "showlakes": true,
           "showland": true,
           "subunitcolor": "white"
          },
          "hoverlabel": {
           "align": "left"
          },
          "hovermode": "closest",
          "mapbox": {
           "style": "light"
          },
          "paper_bgcolor": "white",
          "plot_bgcolor": "#E5ECF6",
          "polar": {
           "angularaxis": {
            "gridcolor": "white",
            "linecolor": "white",
            "ticks": ""
           },
           "bgcolor": "#E5ECF6",
           "radialaxis": {
            "gridcolor": "white",
            "linecolor": "white",
            "ticks": ""
           }
          },
          "scene": {
           "xaxis": {
            "backgroundcolor": "#E5ECF6",
            "gridcolor": "white",
            "gridwidth": 2,
            "linecolor": "white",
            "showbackground": true,
            "ticks": "",
            "zerolinecolor": "white"
           },
           "yaxis": {
            "backgroundcolor": "#E5ECF6",
            "gridcolor": "white",
            "gridwidth": 2,
            "linecolor": "white",
            "showbackground": true,
            "ticks": "",
            "zerolinecolor": "white"
           },
           "zaxis": {
            "backgroundcolor": "#E5ECF6",
            "gridcolor": "white",
            "gridwidth": 2,
            "linecolor": "white",
            "showbackground": true,
            "ticks": "",
            "zerolinecolor": "white"
           }
          },
          "shapedefaults": {
           "line": {
            "color": "#2a3f5f"
           }
          },
          "ternary": {
           "aaxis": {
            "gridcolor": "white",
            "linecolor": "white",
            "ticks": ""
           },
           "baxis": {
            "gridcolor": "white",
            "linecolor": "white",
            "ticks": ""
           },
           "bgcolor": "#E5ECF6",
           "caxis": {
            "gridcolor": "white",
            "linecolor": "white",
            "ticks": ""
           }
          },
          "title": {
           "x": 0.05
          },
          "xaxis": {
           "automargin": true,
           "gridcolor": "white",
           "linecolor": "white",
           "ticks": "",
           "title": {
            "standoff": 15
           },
           "zerolinecolor": "white",
           "zerolinewidth": 2
          },
          "yaxis": {
           "automargin": true,
           "gridcolor": "white",
           "linecolor": "white",
           "ticks": "",
           "title": {
            "standoff": 15
           },
           "zerolinecolor": "white",
           "zerolinewidth": 2
          }
         }
        },
        "title": {
         "text": "Std Mse Train by Alpha and Power"
        },
        "xaxis": {
         "anchor": "y",
         "domain": [
          0,
          1
         ],
         "title": {
          "text": "alpha"
         }
        },
        "yaxis": {
         "anchor": "x",
         "domain": [
          0,
          1
         ],
         "title": {
          "text": "std_mse_train"
         }
        }
       }
      }
     },
     "metadata": {},
     "output_type": "display_data"
    }
   ],
   "source": [
    "plot_measure('std_mse_train')"
   ]
  },
  {
   "cell_type": "code",
   "execution_count": 74,
   "metadata": {},
   "outputs": [
    {
     "data": {
      "application/vnd.plotly.v1+json": {
       "config": {
        "plotlyServerURL": "https://plot.ly"
       },
       "data": [
        {
         "hovertemplate": "power=0.0<br>alpha=%{x}<br>std_mse_val=%{y}<extra></extra>",
         "legendgroup": "0.0",
         "line": {
          "color": "#636efa",
          "dash": "solid"
         },
         "marker": {
          "symbol": "circle"
         },
         "mode": "lines",
         "name": "0.0",
         "orientation": "v",
         "showlegend": true,
         "type": "scatter",
         "x": [
          0,
          0.105,
          0.211,
          0.316,
          0.421,
          0.526,
          0.632,
          0.737,
          0.842,
          0.947,
          1.053,
          1.158,
          1.263,
          1.368,
          1.474,
          1.579,
          1.684,
          1.789,
          1.895,
          2
         ],
         "xaxis": "x",
         "y": [
          0.00006175384587469287,
          0.000010816981755061256,
          0.00003823579636679101,
          0.00007373608603562952,
          0.00010559607560711329,
          0.00013395068007862967,
          0.00016075597170275732,
          0.00018423489771977135,
          0.0002055040855842338,
          0.00022541258493273986,
          0.00024304679591732615,
          0.00025941565565684927,
          0.0002744694191087757,
          0.0002895001203181056,
          0.00030162922060055386,
          0.0003144206546839601,
          0.0003263848918178369,
          0.00033755105492013334,
          0.0003480797703024619,
          0.0003575606224737258
         ],
         "yaxis": "y"
        },
        {
         "hovertemplate": "power=1.0<br>alpha=%{x}<br>std_mse_val=%{y}<extra></extra>",
         "legendgroup": "1.0",
         "line": {
          "color": "#EF553B",
          "dash": "solid"
         },
         "marker": {
          "symbol": "circle"
         },
         "mode": "lines",
         "name": "1.0",
         "orientation": "v",
         "showlegend": true,
         "type": "scatter",
         "x": [
          0,
          0.105,
          0.211,
          0.316,
          0.421,
          0.526,
          0.632,
          0.737,
          0.842,
          0.947,
          1.053,
          1.158,
          1.263,
          1.368,
          1.474,
          1.579,
          1.684,
          1.789,
          1.895,
          2
         ],
         "xaxis": "x",
         "y": [
          0.000047555274312266784,
          0.00021885793172333413,
          0.000333223507006883,
          0.00039753360276706975,
          0.0004398661743963024,
          0.0004692677203857039,
          0.00049098982917813,
          0.0005086451337945448,
          0.0005210498273774467,
          0.0005317136532743499,
          0.0005409498874967155,
          0.0005486626329153249,
          0.0005552098435716921,
          0.0005609032768183411,
          0.0005661313218153844,
          0.0005698167430454752,
          0.0005735285032127934,
          0.0005769122131275251,
          0.0005799932204894941,
          0.0005827668518627924
         ],
         "yaxis": "y"
        },
        {
         "hovertemplate": "power=1.5<br>alpha=%{x}<br>std_mse_val=%{y}<extra></extra>",
         "legendgroup": "1.5",
         "line": {
          "color": "#00cc96",
          "dash": "solid"
         },
         "marker": {
          "symbol": "circle"
         },
         "mode": "lines",
         "name": "1.5",
         "orientation": "v",
         "showlegend": true,
         "type": "scatter",
         "x": [
          0,
          0.105,
          0.211,
          0.316,
          0.421,
          0.526,
          0.632,
          0.737,
          0.842,
          0.947,
          1.053,
          1.158,
          1.263,
          1.368,
          1.474,
          1.579,
          1.684,
          1.789,
          1.895,
          2
         ],
         "xaxis": "x",
         "y": [
          0.00006360451357238335,
          0.000059938741359058555,
          0.0001176661680208038,
          0.0001684195658715803,
          0.0002126748795218802,
          0.000250529412563067,
          0.0002830291330063818,
          0.000310699787824215,
          0.0003344093019632008,
          0.0003550519706880365,
          0.00037354823265869317,
          0.00038969394476703976,
          0.0004039579205331688,
          0.0004168507095394316,
          0.0004285429514802357,
          0.0004388583990755347,
          0.00044812728438659147,
          0.00045676849754831025,
          0.00046471782965905605,
          0.00047197908544572404
         ],
         "yaxis": "y"
        },
        {
         "hovertemplate": "power=1.8<br>alpha=%{x}<br>std_mse_val=%{y}<extra></extra>",
         "legendgroup": "1.8",
         "line": {
          "color": "#ab63fa",
          "dash": "solid"
         },
         "marker": {
          "symbol": "circle"
         },
         "mode": "lines",
         "name": "1.8",
         "orientation": "v",
         "showlegend": true,
         "type": "scatter",
         "x": [
          0,
          0.105,
          0.211,
          0.316,
          0.421,
          0.526,
          0.632,
          0.737,
          0.842,
          0.947,
          1.053,
          1.158,
          1.263,
          1.368,
          1.474,
          1.579,
          1.684,
          1.789,
          1.895,
          2
         ],
         "xaxis": "x",
         "y": [
          0.000060462107470608305,
          0.000026529092724424086,
          0.0000467533843525543,
          0.00006632724351006879,
          0.00008731055929638751,
          0.00010910744661579506,
          0.0001313203712575981,
          0.00015283889059106005,
          0.00017369552054960114,
          0.00019358786315733941,
          0.00021264179447328605,
          0.0002303260005377095,
          0.0002471212723514511,
          0.0002628401999598183,
          0.0002777233307990291,
          0.00029154699668498054,
          0.00030453348191366425,
          0.0003167273451031048,
          0.00032827116028504776,
          0.00033903536671214184
         ],
         "yaxis": "y"
        },
        {
         "hovertemplate": "power=2.0<br>alpha=%{x}<br>std_mse_val=%{y}<extra></extra>",
         "legendgroup": "2.0",
         "line": {
          "color": "#FFA15A",
          "dash": "solid"
         },
         "marker": {
          "symbol": "circle"
         },
         "mode": "lines",
         "name": "2.0",
         "orientation": "v",
         "showlegend": true,
         "type": "scatter",
         "x": [
          0,
          0.105,
          0.211,
          0.316,
          0.421,
          0.526,
          0.632,
          0.737,
          0.842,
          0.947,
          1.053,
          1.158,
          1.263,
          1.368,
          1.474,
          1.579,
          1.684,
          1.789,
          1.895,
          2
         ],
         "xaxis": "x",
         "y": [
          0.00005930833152587857,
          0.000017689257880652487,
          0.000029634161761634653,
          0.000038077433029245526,
          0.00004591934407985173,
          0.000054350282332277226,
          0.00006372866020754786,
          0.00007387997195863309,
          0.00008473920109917575,
          0.00009608227174733226,
          0.00010798304568980942,
          0.00012002047682934668,
          0.0001321611426308703,
          0.0001443366976801607,
          0.00015653676396719054,
          0.0001684847137324544,
          0.0001802460469460166,
          0.00019177326173867894,
          0.00020310827519402438,
          0.00021406638139775957
         ],
         "yaxis": "y"
        },
        {
         "hovertemplate": "power=2.5<br>alpha=%{x}<br>std_mse_val=%{y}<extra></extra>",
         "legendgroup": "2.5",
         "line": {
          "color": "#19d3f3",
          "dash": "solid"
         },
         "marker": {
          "symbol": "circle"
         },
         "mode": "lines",
         "name": "2.5",
         "orientation": "v",
         "showlegend": true,
         "type": "scatter",
         "x": [
          0,
          0.105,
          0.211,
          0.316,
          0.421,
          0.526,
          0.632,
          0.737,
          0.842,
          0.947,
          1.053,
          1.158,
          1.263,
          1.368,
          1.474,
          1.579,
          1.684,
          1.789,
          1.895,
          2
         ],
         "xaxis": "x",
         "y": [
          0.00005656329917307373,
          0.000011858656767241307,
          0.000013723096086302352,
          0.0000171553966941027,
          0.000020083728598469095,
          0.000022482972636779297,
          0.000024423300726869432,
          0.000026042759517992206,
          0.000027425446668464943,
          0.000028609948471653386,
          0.000029680751157173656,
          0.000030637778635189214,
          0.00003153250455343287,
          0.00003237574040649991,
          0.0000332058390707379,
          0.000034006011464745656,
          0.000034798491758594296,
          0.00003559330787758234,
          0.00003640403380466681,
          0.000037225110165976415
         ],
         "yaxis": "y"
        },
        {
         "hovertemplate": "power=3.0<br>alpha=%{x}<br>std_mse_val=%{y}<extra></extra>",
         "legendgroup": "3.0",
         "line": {
          "color": "#FF6692",
          "dash": "solid"
         },
         "marker": {
          "symbol": "circle"
         },
         "mode": "lines",
         "name": "3.0",
         "orientation": "v",
         "showlegend": true,
         "type": "scatter",
         "x": [
          0,
          0.105,
          0.211,
          0.316,
          0.421,
          0.526,
          0.632,
          0.737,
          0.842,
          0.947,
          1.053,
          1.158,
          1.263,
          1.368,
          1.474,
          1.579,
          1.684,
          1.789,
          1.895,
          2
         ],
         "xaxis": "x",
         "y": [
          0.000054484562422217965,
          0.000016512740625830498,
          0.000013631173851179428,
          0.00001371788881037446,
          0.000014050156655934328,
          0.000014451610825819374,
          0.00001493134882995367,
          0.00001542487678664174,
          0.000015943691297056423,
          0.000016456609123522627,
          0.000016969289328933116,
          0.00001747811753290616,
          0.00001797653491195298,
          0.00001846235999323135,
          0.000018945821956567418,
          0.000019409692634180123,
          0.000019857763283261096,
          0.0000202951064573804,
          0.00002072261812749508,
          0.00002113832603123407
         ],
         "yaxis": "y"
        }
       ],
       "layout": {
        "legend": {
         "title": {
          "text": "power"
         },
         "tracegroupgap": 0
        },
        "template": {
         "data": {
          "bar": [
           {
            "error_x": {
             "color": "#2a3f5f"
            },
            "error_y": {
             "color": "#2a3f5f"
            },
            "marker": {
             "line": {
              "color": "#E5ECF6",
              "width": 0.5
             },
             "pattern": {
              "fillmode": "overlay",
              "size": 10,
              "solidity": 0.2
             }
            },
            "type": "bar"
           }
          ],
          "barpolar": [
           {
            "marker": {
             "line": {
              "color": "#E5ECF6",
              "width": 0.5
             },
             "pattern": {
              "fillmode": "overlay",
              "size": 10,
              "solidity": 0.2
             }
            },
            "type": "barpolar"
           }
          ],
          "carpet": [
           {
            "aaxis": {
             "endlinecolor": "#2a3f5f",
             "gridcolor": "white",
             "linecolor": "white",
             "minorgridcolor": "white",
             "startlinecolor": "#2a3f5f"
            },
            "baxis": {
             "endlinecolor": "#2a3f5f",
             "gridcolor": "white",
             "linecolor": "white",
             "minorgridcolor": "white",
             "startlinecolor": "#2a3f5f"
            },
            "type": "carpet"
           }
          ],
          "choropleth": [
           {
            "colorbar": {
             "outlinewidth": 0,
             "ticks": ""
            },
            "type": "choropleth"
           }
          ],
          "contour": [
           {
            "colorbar": {
             "outlinewidth": 0,
             "ticks": ""
            },
            "colorscale": [
             [
              0,
              "#0d0887"
             ],
             [
              0.1111111111111111,
              "#46039f"
             ],
             [
              0.2222222222222222,
              "#7201a8"
             ],
             [
              0.3333333333333333,
              "#9c179e"
             ],
             [
              0.4444444444444444,
              "#bd3786"
             ],
             [
              0.5555555555555556,
              "#d8576b"
             ],
             [
              0.6666666666666666,
              "#ed7953"
             ],
             [
              0.7777777777777778,
              "#fb9f3a"
             ],
             [
              0.8888888888888888,
              "#fdca26"
             ],
             [
              1,
              "#f0f921"
             ]
            ],
            "type": "contour"
           }
          ],
          "contourcarpet": [
           {
            "colorbar": {
             "outlinewidth": 0,
             "ticks": ""
            },
            "type": "contourcarpet"
           }
          ],
          "heatmap": [
           {
            "colorbar": {
             "outlinewidth": 0,
             "ticks": ""
            },
            "colorscale": [
             [
              0,
              "#0d0887"
             ],
             [
              0.1111111111111111,
              "#46039f"
             ],
             [
              0.2222222222222222,
              "#7201a8"
             ],
             [
              0.3333333333333333,
              "#9c179e"
             ],
             [
              0.4444444444444444,
              "#bd3786"
             ],
             [
              0.5555555555555556,
              "#d8576b"
             ],
             [
              0.6666666666666666,
              "#ed7953"
             ],
             [
              0.7777777777777778,
              "#fb9f3a"
             ],
             [
              0.8888888888888888,
              "#fdca26"
             ],
             [
              1,
              "#f0f921"
             ]
            ],
            "type": "heatmap"
           }
          ],
          "heatmapgl": [
           {
            "colorbar": {
             "outlinewidth": 0,
             "ticks": ""
            },
            "colorscale": [
             [
              0,
              "#0d0887"
             ],
             [
              0.1111111111111111,
              "#46039f"
             ],
             [
              0.2222222222222222,
              "#7201a8"
             ],
             [
              0.3333333333333333,
              "#9c179e"
             ],
             [
              0.4444444444444444,
              "#bd3786"
             ],
             [
              0.5555555555555556,
              "#d8576b"
             ],
             [
              0.6666666666666666,
              "#ed7953"
             ],
             [
              0.7777777777777778,
              "#fb9f3a"
             ],
             [
              0.8888888888888888,
              "#fdca26"
             ],
             [
              1,
              "#f0f921"
             ]
            ],
            "type": "heatmapgl"
           }
          ],
          "histogram": [
           {
            "marker": {
             "pattern": {
              "fillmode": "overlay",
              "size": 10,
              "solidity": 0.2
             }
            },
            "type": "histogram"
           }
          ],
          "histogram2d": [
           {
            "colorbar": {
             "outlinewidth": 0,
             "ticks": ""
            },
            "colorscale": [
             [
              0,
              "#0d0887"
             ],
             [
              0.1111111111111111,
              "#46039f"
             ],
             [
              0.2222222222222222,
              "#7201a8"
             ],
             [
              0.3333333333333333,
              "#9c179e"
             ],
             [
              0.4444444444444444,
              "#bd3786"
             ],
             [
              0.5555555555555556,
              "#d8576b"
             ],
             [
              0.6666666666666666,
              "#ed7953"
             ],
             [
              0.7777777777777778,
              "#fb9f3a"
             ],
             [
              0.8888888888888888,
              "#fdca26"
             ],
             [
              1,
              "#f0f921"
             ]
            ],
            "type": "histogram2d"
           }
          ],
          "histogram2dcontour": [
           {
            "colorbar": {
             "outlinewidth": 0,
             "ticks": ""
            },
            "colorscale": [
             [
              0,
              "#0d0887"
             ],
             [
              0.1111111111111111,
              "#46039f"
             ],
             [
              0.2222222222222222,
              "#7201a8"
             ],
             [
              0.3333333333333333,
              "#9c179e"
             ],
             [
              0.4444444444444444,
              "#bd3786"
             ],
             [
              0.5555555555555556,
              "#d8576b"
             ],
             [
              0.6666666666666666,
              "#ed7953"
             ],
             [
              0.7777777777777778,
              "#fb9f3a"
             ],
             [
              0.8888888888888888,
              "#fdca26"
             ],
             [
              1,
              "#f0f921"
             ]
            ],
            "type": "histogram2dcontour"
           }
          ],
          "mesh3d": [
           {
            "colorbar": {
             "outlinewidth": 0,
             "ticks": ""
            },
            "type": "mesh3d"
           }
          ],
          "parcoords": [
           {
            "line": {
             "colorbar": {
              "outlinewidth": 0,
              "ticks": ""
             }
            },
            "type": "parcoords"
           }
          ],
          "pie": [
           {
            "automargin": true,
            "type": "pie"
           }
          ],
          "scatter": [
           {
            "fillpattern": {
             "fillmode": "overlay",
             "size": 10,
             "solidity": 0.2
            },
            "type": "scatter"
           }
          ],
          "scatter3d": [
           {
            "line": {
             "colorbar": {
              "outlinewidth": 0,
              "ticks": ""
             }
            },
            "marker": {
             "colorbar": {
              "outlinewidth": 0,
              "ticks": ""
             }
            },
            "type": "scatter3d"
           }
          ],
          "scattercarpet": [
           {
            "marker": {
             "colorbar": {
              "outlinewidth": 0,
              "ticks": ""
             }
            },
            "type": "scattercarpet"
           }
          ],
          "scattergeo": [
           {
            "marker": {
             "colorbar": {
              "outlinewidth": 0,
              "ticks": ""
             }
            },
            "type": "scattergeo"
           }
          ],
          "scattergl": [
           {
            "marker": {
             "colorbar": {
              "outlinewidth": 0,
              "ticks": ""
             }
            },
            "type": "scattergl"
           }
          ],
          "scattermapbox": [
           {
            "marker": {
             "colorbar": {
              "outlinewidth": 0,
              "ticks": ""
             }
            },
            "type": "scattermapbox"
           }
          ],
          "scatterpolar": [
           {
            "marker": {
             "colorbar": {
              "outlinewidth": 0,
              "ticks": ""
             }
            },
            "type": "scatterpolar"
           }
          ],
          "scatterpolargl": [
           {
            "marker": {
             "colorbar": {
              "outlinewidth": 0,
              "ticks": ""
             }
            },
            "type": "scatterpolargl"
           }
          ],
          "scatterternary": [
           {
            "marker": {
             "colorbar": {
              "outlinewidth": 0,
              "ticks": ""
             }
            },
            "type": "scatterternary"
           }
          ],
          "surface": [
           {
            "colorbar": {
             "outlinewidth": 0,
             "ticks": ""
            },
            "colorscale": [
             [
              0,
              "#0d0887"
             ],
             [
              0.1111111111111111,
              "#46039f"
             ],
             [
              0.2222222222222222,
              "#7201a8"
             ],
             [
              0.3333333333333333,
              "#9c179e"
             ],
             [
              0.4444444444444444,
              "#bd3786"
             ],
             [
              0.5555555555555556,
              "#d8576b"
             ],
             [
              0.6666666666666666,
              "#ed7953"
             ],
             [
              0.7777777777777778,
              "#fb9f3a"
             ],
             [
              0.8888888888888888,
              "#fdca26"
             ],
             [
              1,
              "#f0f921"
             ]
            ],
            "type": "surface"
           }
          ],
          "table": [
           {
            "cells": {
             "fill": {
              "color": "#EBF0F8"
             },
             "line": {
              "color": "white"
             }
            },
            "header": {
             "fill": {
              "color": "#C8D4E3"
             },
             "line": {
              "color": "white"
             }
            },
            "type": "table"
           }
          ]
         },
         "layout": {
          "annotationdefaults": {
           "arrowcolor": "#2a3f5f",
           "arrowhead": 0,
           "arrowwidth": 1
          },
          "autotypenumbers": "strict",
          "coloraxis": {
           "colorbar": {
            "outlinewidth": 0,
            "ticks": ""
           }
          },
          "colorscale": {
           "diverging": [
            [
             0,
             "#8e0152"
            ],
            [
             0.1,
             "#c51b7d"
            ],
            [
             0.2,
             "#de77ae"
            ],
            [
             0.3,
             "#f1b6da"
            ],
            [
             0.4,
             "#fde0ef"
            ],
            [
             0.5,
             "#f7f7f7"
            ],
            [
             0.6,
             "#e6f5d0"
            ],
            [
             0.7,
             "#b8e186"
            ],
            [
             0.8,
             "#7fbc41"
            ],
            [
             0.9,
             "#4d9221"
            ],
            [
             1,
             "#276419"
            ]
           ],
           "sequential": [
            [
             0,
             "#0d0887"
            ],
            [
             0.1111111111111111,
             "#46039f"
            ],
            [
             0.2222222222222222,
             "#7201a8"
            ],
            [
             0.3333333333333333,
             "#9c179e"
            ],
            [
             0.4444444444444444,
             "#bd3786"
            ],
            [
             0.5555555555555556,
             "#d8576b"
            ],
            [
             0.6666666666666666,
             "#ed7953"
            ],
            [
             0.7777777777777778,
             "#fb9f3a"
            ],
            [
             0.8888888888888888,
             "#fdca26"
            ],
            [
             1,
             "#f0f921"
            ]
           ],
           "sequentialminus": [
            [
             0,
             "#0d0887"
            ],
            [
             0.1111111111111111,
             "#46039f"
            ],
            [
             0.2222222222222222,
             "#7201a8"
            ],
            [
             0.3333333333333333,
             "#9c179e"
            ],
            [
             0.4444444444444444,
             "#bd3786"
            ],
            [
             0.5555555555555556,
             "#d8576b"
            ],
            [
             0.6666666666666666,
             "#ed7953"
            ],
            [
             0.7777777777777778,
             "#fb9f3a"
            ],
            [
             0.8888888888888888,
             "#fdca26"
            ],
            [
             1,
             "#f0f921"
            ]
           ]
          },
          "colorway": [
           "#636efa",
           "#EF553B",
           "#00cc96",
           "#ab63fa",
           "#FFA15A",
           "#19d3f3",
           "#FF6692",
           "#B6E880",
           "#FF97FF",
           "#FECB52"
          ],
          "font": {
           "color": "#2a3f5f"
          },
          "geo": {
           "bgcolor": "white",
           "lakecolor": "white",
           "landcolor": "#E5ECF6",
           "showlakes": true,
           "showland": true,
           "subunitcolor": "white"
          },
          "hoverlabel": {
           "align": "left"
          },
          "hovermode": "closest",
          "mapbox": {
           "style": "light"
          },
          "paper_bgcolor": "white",
          "plot_bgcolor": "#E5ECF6",
          "polar": {
           "angularaxis": {
            "gridcolor": "white",
            "linecolor": "white",
            "ticks": ""
           },
           "bgcolor": "#E5ECF6",
           "radialaxis": {
            "gridcolor": "white",
            "linecolor": "white",
            "ticks": ""
           }
          },
          "scene": {
           "xaxis": {
            "backgroundcolor": "#E5ECF6",
            "gridcolor": "white",
            "gridwidth": 2,
            "linecolor": "white",
            "showbackground": true,
            "ticks": "",
            "zerolinecolor": "white"
           },
           "yaxis": {
            "backgroundcolor": "#E5ECF6",
            "gridcolor": "white",
            "gridwidth": 2,
            "linecolor": "white",
            "showbackground": true,
            "ticks": "",
            "zerolinecolor": "white"
           },
           "zaxis": {
            "backgroundcolor": "#E5ECF6",
            "gridcolor": "white",
            "gridwidth": 2,
            "linecolor": "white",
            "showbackground": true,
            "ticks": "",
            "zerolinecolor": "white"
           }
          },
          "shapedefaults": {
           "line": {
            "color": "#2a3f5f"
           }
          },
          "ternary": {
           "aaxis": {
            "gridcolor": "white",
            "linecolor": "white",
            "ticks": ""
           },
           "baxis": {
            "gridcolor": "white",
            "linecolor": "white",
            "ticks": ""
           },
           "bgcolor": "#E5ECF6",
           "caxis": {
            "gridcolor": "white",
            "linecolor": "white",
            "ticks": ""
           }
          },
          "title": {
           "x": 0.05
          },
          "xaxis": {
           "automargin": true,
           "gridcolor": "white",
           "linecolor": "white",
           "ticks": "",
           "title": {
            "standoff": 15
           },
           "zerolinecolor": "white",
           "zerolinewidth": 2
          },
          "yaxis": {
           "automargin": true,
           "gridcolor": "white",
           "linecolor": "white",
           "ticks": "",
           "title": {
            "standoff": 15
           },
           "zerolinecolor": "white",
           "zerolinewidth": 2
          }
         }
        },
        "title": {
         "text": "Std Mse Val by Alpha and Power"
        },
        "xaxis": {
         "anchor": "y",
         "domain": [
          0,
          1
         ],
         "title": {
          "text": "alpha"
         }
        },
        "yaxis": {
         "anchor": "x",
         "domain": [
          0,
          1
         ],
         "title": {
          "text": "std_mse_val"
         }
        }
       }
      }
     },
     "metadata": {},
     "output_type": "display_data"
    }
   ],
   "source": [
    "plot_measure('std_mse_val')"
   ]
  },
  {
   "cell_type": "code",
   "execution_count": 110,
   "metadata": {},
   "outputs": [
    {
     "data": {
      "application/vnd.plotly.v1+json": {
       "config": {
        "plotlyServerURL": "https://plot.ly"
       },
       "data": [
        {
         "hovertemplate": "power=0.0<br>alpha=%{x}<br>cv_mse=%{y}<extra></extra>",
         "legendgroup": "0.0",
         "line": {
          "color": "#636efa",
          "dash": "solid"
         },
         "marker": {
          "symbol": "circle"
         },
         "mode": "lines",
         "name": "0.0",
         "orientation": "v",
         "showlegend": true,
         "type": "scatter",
         "x": [
          0,
          0.105,
          0.211,
          0.316,
          0.421,
          0.526,
          0.632,
          0.737,
          0.842,
          0.947,
          1.053,
          1.158,
          1.263,
          1.368,
          1.474,
          1.579,
          1.684,
          1.789,
          1.895,
          2
         ],
         "xaxis": "x",
         "y": [
          0.1465519665973879,
          0.04764027088938909,
          0.12651438781006014,
          0.17903890682984047,
          0.2013293807360865,
          0.21037238679057912,
          0.21565457423993117,
          0.21703291931706442,
          0.21715778501282615,
          0.2172248976949061,
          0.2162566878570701,
          0.2152454425422415,
          0.2140871806784471,
          0.2136340716488002,
          0.21186069279883402,
          0.21118178936483797,
          0.21046291345142118,
          0.20968793961673224,
          0.20886414504333828,
          0.20792307152216288
         ],
         "yaxis": "y"
        },
        {
         "hovertemplate": "power=1.0<br>alpha=%{x}<br>cv_mse=%{y}<extra></extra>",
         "legendgroup": "1.0",
         "line": {
          "color": "#EF553B",
          "dash": "solid"
         },
         "marker": {
          "symbol": "circle"
         },
         "mode": "lines",
         "name": "1.0",
         "orientation": "v",
         "showlegend": true,
         "type": "scatter",
         "x": [
          0,
          0.105,
          0.211,
          0.316,
          0.421,
          0.526,
          0.632,
          0.737,
          0.842,
          0.947,
          1.053,
          1.158,
          1.263,
          1.368,
          1.474,
          1.579,
          1.684,
          1.789,
          1.895,
          2
         ],
         "xaxis": "x",
         "y": [
          0.37035175739896403,
          0.1608407147928399,
          0.1612792377000189,
          0.16064646329216722,
          0.16034468763986737,
          0.16001922445623087,
          0.1596495587279241,
          0.15976459434629872,
          0.15936621062178036,
          0.15917466560709903,
          0.15909640849806445,
          0.15910828026417345,
          0.1590710087659512,
          0.15902950759785903,
          0.1590488650703195,
          0.15883822741339498,
          0.1587565077266124,
          0.15869738862761654,
          0.15864498646602038,
          0.15860155765157685
         ],
         "yaxis": "y"
        },
        {
         "hovertemplate": "power=1.5<br>alpha=%{x}<br>cv_mse=%{y}<extra></extra>",
         "legendgroup": "1.5",
         "line": {
          "color": "#00cc96",
          "dash": "solid"
         },
         "marker": {
          "symbol": "circle"
         },
         "mode": "lines",
         "name": "1.5",
         "orientation": "v",
         "showlegend": true,
         "type": "scatter",
         "x": [
          0,
          0.105,
          0.211,
          0.316,
          0.421,
          0.526,
          0.632,
          0.737,
          0.842,
          0.947,
          1.053,
          1.158,
          1.263,
          1.368,
          1.474,
          1.579,
          1.684,
          1.789,
          1.895,
          2
         ],
         "xaxis": "x",
         "y": [
          0.47516883615060357,
          0.18227701199952898,
          0.208460581025068,
          0.20901139632648133,
          0.20621090872090353,
          0.2028886362607894,
          0.19964386491305858,
          0.1968356707545744,
          0.19422758150949992,
          0.19196062747155024,
          0.19003337919219862,
          0.18830633081582115,
          0.1867097921984814,
          0.18534554074269466,
          0.184094854671292,
          0.18289658756116675,
          0.1817782934304133,
          0.1808248093575567,
          0.17993016566673384,
          0.17912098210778973
         ],
         "yaxis": "y"
        },
        {
         "hovertemplate": "power=1.8<br>alpha=%{x}<br>cv_mse=%{y}<extra></extra>",
         "legendgroup": "1.8",
         "line": {
          "color": "#ab63fa",
          "dash": "solid"
         },
         "marker": {
          "symbol": "circle"
         },
         "mode": "lines",
         "name": "1.8",
         "orientation": "v",
         "showlegend": true,
         "type": "scatter",
         "x": [
          0,
          0.105,
          0.211,
          0.316,
          0.421,
          0.526,
          0.632,
          0.737,
          0.842,
          0.947,
          1.053,
          1.158,
          1.263,
          1.368,
          1.474,
          1.579,
          1.684,
          1.789,
          1.895,
          2
         ],
         "xaxis": "x",
         "y": [
          0.46142251174590615,
          0.13826793368197954,
          0.19512032939225227,
          0.22184214358692023,
          0.2349924886466459,
          0.24088138067211656,
          0.24312831682040487,
          0.24315870714851187,
          0.24219402066679852,
          0.24057789459945253,
          0.2386640186943851,
          0.23649864269482546,
          0.23441978109590775,
          0.2322835275618777,
          0.23017927053229842,
          0.2281401091541806,
          0.22619132406601164,
          0.22431253465392909,
          0.22247326822603272,
          0.2207480570219945
         ],
         "yaxis": "y"
        },
        {
         "hovertemplate": "power=2.0<br>alpha=%{x}<br>cv_mse=%{y}<extra></extra>",
         "legendgroup": "2.0",
         "line": {
          "color": "#FFA15A",
          "dash": "solid"
         },
         "marker": {
          "symbol": "circle"
         },
         "mode": "lines",
         "name": "2.0",
         "orientation": "v",
         "showlegend": true,
         "type": "scatter",
         "x": [
          0,
          0.105,
          0.211,
          0.316,
          0.421,
          0.526,
          0.632,
          0.737,
          0.842,
          0.947,
          1.053,
          1.158,
          1.263,
          1.368,
          1.474,
          1.579,
          1.684,
          1.789,
          1.895,
          2
         ],
         "xaxis": "x",
         "y": [
          0.4618098254613729,
          0.10943505055249182,
          0.16411005670742615,
          0.19292687307100972,
          0.21076343786918286,
          0.2238802258636333,
          0.23409701881255957,
          0.24205884333345368,
          0.24827854491196658,
          0.25291389267377545,
          0.25656955242359225,
          0.25922819662783825,
          0.2610683793433579,
          0.2623075557698783,
          0.2629877929306127,
          0.26324406316597304,
          0.2631706585947676,
          0.26280029486916545,
          0.26217939716059907,
          0.2614137053914888
         ],
         "yaxis": "y"
        },
        {
         "hovertemplate": "power=2.5<br>alpha=%{x}<br>cv_mse=%{y}<extra></extra>",
         "legendgroup": "2.5",
         "line": {
          "color": "#19d3f3",
          "dash": "solid"
         },
         "marker": {
          "symbol": "circle"
         },
         "mode": "lines",
         "name": "2.5",
         "orientation": "v",
         "showlegend": true,
         "type": "scatter",
         "x": [
          0,
          0.105,
          0.211,
          0.316,
          0.421,
          0.526,
          0.632,
          0.737,
          0.842,
          0.947,
          1.053,
          1.158,
          1.263,
          1.368,
          1.474,
          1.579,
          1.684,
          1.789,
          1.895,
          2
         ],
         "xaxis": "x",
         "y": [
          0.4666597415594899,
          0.09320601088929296,
          0.10141016725464684,
          0.12479496057853658,
          0.14527298454269774,
          0.16180942289378583,
          0.17431149571384286,
          0.1836927924927382,
          0.19055790868057268,
          0.19531651172559067,
          0.19860101176907508,
          0.2006662047540336,
          0.20189496609737034,
          0.20248605053014349,
          0.20268559780847337,
          0.20255268210954044,
          0.2022245063819684,
          0.2017942448538315,
          0.20131251032671607,
          0.20084873621271448
         ],
         "yaxis": "y"
        },
        {
         "hovertemplate": "power=3.0<br>alpha=%{x}<br>cv_mse=%{y}<extra></extra>",
         "legendgroup": "3.0",
         "line": {
          "color": "#FF6692",
          "dash": "solid"
         },
         "marker": {
          "symbol": "circle"
         },
         "mode": "lines",
         "name": "3.0",
         "orientation": "v",
         "showlegend": true,
         "type": "scatter",
         "x": [
          0,
          0.105,
          0.211,
          0.316,
          0.421,
          0.526,
          0.632,
          0.737,
          0.842,
          0.947,
          1.053,
          1.158,
          1.263,
          1.368,
          1.474,
          1.579,
          1.684,
          1.789,
          1.895,
          2
         ],
         "xaxis": "x",
         "y": [
          0.4712515439702838,
          0.14986876897864335,
          0.1167658475615415,
          0.11417445546796717,
          0.11560332205171928,
          0.11864808253485266,
          0.12292456867056901,
          0.1275766036565751,
          0.13260359771564503,
          0.13757814641166513,
          0.14253978653584676,
          0.14733308811250764,
          0.15189947736225184,
          0.15622039295848536,
          0.16033772338529745,
          0.1641133159664387,
          0.16757212350290257,
          0.17076830879809274,
          0.1736984997699005,
          0.1763751799951388
         ],
         "yaxis": "y"
        }
       ],
       "layout": {
        "legend": {
         "title": {
          "text": "power"
         },
         "tracegroupgap": 0
        },
        "template": {
         "data": {
          "bar": [
           {
            "error_x": {
             "color": "#2a3f5f"
            },
            "error_y": {
             "color": "#2a3f5f"
            },
            "marker": {
             "line": {
              "color": "#E5ECF6",
              "width": 0.5
             },
             "pattern": {
              "fillmode": "overlay",
              "size": 10,
              "solidity": 0.2
             }
            },
            "type": "bar"
           }
          ],
          "barpolar": [
           {
            "marker": {
             "line": {
              "color": "#E5ECF6",
              "width": 0.5
             },
             "pattern": {
              "fillmode": "overlay",
              "size": 10,
              "solidity": 0.2
             }
            },
            "type": "barpolar"
           }
          ],
          "carpet": [
           {
            "aaxis": {
             "endlinecolor": "#2a3f5f",
             "gridcolor": "white",
             "linecolor": "white",
             "minorgridcolor": "white",
             "startlinecolor": "#2a3f5f"
            },
            "baxis": {
             "endlinecolor": "#2a3f5f",
             "gridcolor": "white",
             "linecolor": "white",
             "minorgridcolor": "white",
             "startlinecolor": "#2a3f5f"
            },
            "type": "carpet"
           }
          ],
          "choropleth": [
           {
            "colorbar": {
             "outlinewidth": 0,
             "ticks": ""
            },
            "type": "choropleth"
           }
          ],
          "contour": [
           {
            "colorbar": {
             "outlinewidth": 0,
             "ticks": ""
            },
            "colorscale": [
             [
              0,
              "#0d0887"
             ],
             [
              0.1111111111111111,
              "#46039f"
             ],
             [
              0.2222222222222222,
              "#7201a8"
             ],
             [
              0.3333333333333333,
              "#9c179e"
             ],
             [
              0.4444444444444444,
              "#bd3786"
             ],
             [
              0.5555555555555556,
              "#d8576b"
             ],
             [
              0.6666666666666666,
              "#ed7953"
             ],
             [
              0.7777777777777778,
              "#fb9f3a"
             ],
             [
              0.8888888888888888,
              "#fdca26"
             ],
             [
              1,
              "#f0f921"
             ]
            ],
            "type": "contour"
           }
          ],
          "contourcarpet": [
           {
            "colorbar": {
             "outlinewidth": 0,
             "ticks": ""
            },
            "type": "contourcarpet"
           }
          ],
          "heatmap": [
           {
            "colorbar": {
             "outlinewidth": 0,
             "ticks": ""
            },
            "colorscale": [
             [
              0,
              "#0d0887"
             ],
             [
              0.1111111111111111,
              "#46039f"
             ],
             [
              0.2222222222222222,
              "#7201a8"
             ],
             [
              0.3333333333333333,
              "#9c179e"
             ],
             [
              0.4444444444444444,
              "#bd3786"
             ],
             [
              0.5555555555555556,
              "#d8576b"
             ],
             [
              0.6666666666666666,
              "#ed7953"
             ],
             [
              0.7777777777777778,
              "#fb9f3a"
             ],
             [
              0.8888888888888888,
              "#fdca26"
             ],
             [
              1,
              "#f0f921"
             ]
            ],
            "type": "heatmap"
           }
          ],
          "heatmapgl": [
           {
            "colorbar": {
             "outlinewidth": 0,
             "ticks": ""
            },
            "colorscale": [
             [
              0,
              "#0d0887"
             ],
             [
              0.1111111111111111,
              "#46039f"
             ],
             [
              0.2222222222222222,
              "#7201a8"
             ],
             [
              0.3333333333333333,
              "#9c179e"
             ],
             [
              0.4444444444444444,
              "#bd3786"
             ],
             [
              0.5555555555555556,
              "#d8576b"
             ],
             [
              0.6666666666666666,
              "#ed7953"
             ],
             [
              0.7777777777777778,
              "#fb9f3a"
             ],
             [
              0.8888888888888888,
              "#fdca26"
             ],
             [
              1,
              "#f0f921"
             ]
            ],
            "type": "heatmapgl"
           }
          ],
          "histogram": [
           {
            "marker": {
             "pattern": {
              "fillmode": "overlay",
              "size": 10,
              "solidity": 0.2
             }
            },
            "type": "histogram"
           }
          ],
          "histogram2d": [
           {
            "colorbar": {
             "outlinewidth": 0,
             "ticks": ""
            },
            "colorscale": [
             [
              0,
              "#0d0887"
             ],
             [
              0.1111111111111111,
              "#46039f"
             ],
             [
              0.2222222222222222,
              "#7201a8"
             ],
             [
              0.3333333333333333,
              "#9c179e"
             ],
             [
              0.4444444444444444,
              "#bd3786"
             ],
             [
              0.5555555555555556,
              "#d8576b"
             ],
             [
              0.6666666666666666,
              "#ed7953"
             ],
             [
              0.7777777777777778,
              "#fb9f3a"
             ],
             [
              0.8888888888888888,
              "#fdca26"
             ],
             [
              1,
              "#f0f921"
             ]
            ],
            "type": "histogram2d"
           }
          ],
          "histogram2dcontour": [
           {
            "colorbar": {
             "outlinewidth": 0,
             "ticks": ""
            },
            "colorscale": [
             [
              0,
              "#0d0887"
             ],
             [
              0.1111111111111111,
              "#46039f"
             ],
             [
              0.2222222222222222,
              "#7201a8"
             ],
             [
              0.3333333333333333,
              "#9c179e"
             ],
             [
              0.4444444444444444,
              "#bd3786"
             ],
             [
              0.5555555555555556,
              "#d8576b"
             ],
             [
              0.6666666666666666,
              "#ed7953"
             ],
             [
              0.7777777777777778,
              "#fb9f3a"
             ],
             [
              0.8888888888888888,
              "#fdca26"
             ],
             [
              1,
              "#f0f921"
             ]
            ],
            "type": "histogram2dcontour"
           }
          ],
          "mesh3d": [
           {
            "colorbar": {
             "outlinewidth": 0,
             "ticks": ""
            },
            "type": "mesh3d"
           }
          ],
          "parcoords": [
           {
            "line": {
             "colorbar": {
              "outlinewidth": 0,
              "ticks": ""
             }
            },
            "type": "parcoords"
           }
          ],
          "pie": [
           {
            "automargin": true,
            "type": "pie"
           }
          ],
          "scatter": [
           {
            "fillpattern": {
             "fillmode": "overlay",
             "size": 10,
             "solidity": 0.2
            },
            "type": "scatter"
           }
          ],
          "scatter3d": [
           {
            "line": {
             "colorbar": {
              "outlinewidth": 0,
              "ticks": ""
             }
            },
            "marker": {
             "colorbar": {
              "outlinewidth": 0,
              "ticks": ""
             }
            },
            "type": "scatter3d"
           }
          ],
          "scattercarpet": [
           {
            "marker": {
             "colorbar": {
              "outlinewidth": 0,
              "ticks": ""
             }
            },
            "type": "scattercarpet"
           }
          ],
          "scattergeo": [
           {
            "marker": {
             "colorbar": {
              "outlinewidth": 0,
              "ticks": ""
             }
            },
            "type": "scattergeo"
           }
          ],
          "scattergl": [
           {
            "marker": {
             "colorbar": {
              "outlinewidth": 0,
              "ticks": ""
             }
            },
            "type": "scattergl"
           }
          ],
          "scattermapbox": [
           {
            "marker": {
             "colorbar": {
              "outlinewidth": 0,
              "ticks": ""
             }
            },
            "type": "scattermapbox"
           }
          ],
          "scatterpolar": [
           {
            "marker": {
             "colorbar": {
              "outlinewidth": 0,
              "ticks": ""
             }
            },
            "type": "scatterpolar"
           }
          ],
          "scatterpolargl": [
           {
            "marker": {
             "colorbar": {
              "outlinewidth": 0,
              "ticks": ""
             }
            },
            "type": "scatterpolargl"
           }
          ],
          "scatterternary": [
           {
            "marker": {
             "colorbar": {
              "outlinewidth": 0,
              "ticks": ""
             }
            },
            "type": "scatterternary"
           }
          ],
          "surface": [
           {
            "colorbar": {
             "outlinewidth": 0,
             "ticks": ""
            },
            "colorscale": [
             [
              0,
              "#0d0887"
             ],
             [
              0.1111111111111111,
              "#46039f"
             ],
             [
              0.2222222222222222,
              "#7201a8"
             ],
             [
              0.3333333333333333,
              "#9c179e"
             ],
             [
              0.4444444444444444,
              "#bd3786"
             ],
             [
              0.5555555555555556,
              "#d8576b"
             ],
             [
              0.6666666666666666,
              "#ed7953"
             ],
             [
              0.7777777777777778,
              "#fb9f3a"
             ],
             [
              0.8888888888888888,
              "#fdca26"
             ],
             [
              1,
              "#f0f921"
             ]
            ],
            "type": "surface"
           }
          ],
          "table": [
           {
            "cells": {
             "fill": {
              "color": "#EBF0F8"
             },
             "line": {
              "color": "white"
             }
            },
            "header": {
             "fill": {
              "color": "#C8D4E3"
             },
             "line": {
              "color": "white"
             }
            },
            "type": "table"
           }
          ]
         },
         "layout": {
          "annotationdefaults": {
           "arrowcolor": "#2a3f5f",
           "arrowhead": 0,
           "arrowwidth": 1
          },
          "autotypenumbers": "strict",
          "coloraxis": {
           "colorbar": {
            "outlinewidth": 0,
            "ticks": ""
           }
          },
          "colorscale": {
           "diverging": [
            [
             0,
             "#8e0152"
            ],
            [
             0.1,
             "#c51b7d"
            ],
            [
             0.2,
             "#de77ae"
            ],
            [
             0.3,
             "#f1b6da"
            ],
            [
             0.4,
             "#fde0ef"
            ],
            [
             0.5,
             "#f7f7f7"
            ],
            [
             0.6,
             "#e6f5d0"
            ],
            [
             0.7,
             "#b8e186"
            ],
            [
             0.8,
             "#7fbc41"
            ],
            [
             0.9,
             "#4d9221"
            ],
            [
             1,
             "#276419"
            ]
           ],
           "sequential": [
            [
             0,
             "#0d0887"
            ],
            [
             0.1111111111111111,
             "#46039f"
            ],
            [
             0.2222222222222222,
             "#7201a8"
            ],
            [
             0.3333333333333333,
             "#9c179e"
            ],
            [
             0.4444444444444444,
             "#bd3786"
            ],
            [
             0.5555555555555556,
             "#d8576b"
            ],
            [
             0.6666666666666666,
             "#ed7953"
            ],
            [
             0.7777777777777778,
             "#fb9f3a"
            ],
            [
             0.8888888888888888,
             "#fdca26"
            ],
            [
             1,
             "#f0f921"
            ]
           ],
           "sequentialminus": [
            [
             0,
             "#0d0887"
            ],
            [
             0.1111111111111111,
             "#46039f"
            ],
            [
             0.2222222222222222,
             "#7201a8"
            ],
            [
             0.3333333333333333,
             "#9c179e"
            ],
            [
             0.4444444444444444,
             "#bd3786"
            ],
            [
             0.5555555555555556,
             "#d8576b"
            ],
            [
             0.6666666666666666,
             "#ed7953"
            ],
            [
             0.7777777777777778,
             "#fb9f3a"
            ],
            [
             0.8888888888888888,
             "#fdca26"
            ],
            [
             1,
             "#f0f921"
            ]
           ]
          },
          "colorway": [
           "#636efa",
           "#EF553B",
           "#00cc96",
           "#ab63fa",
           "#FFA15A",
           "#19d3f3",
           "#FF6692",
           "#B6E880",
           "#FF97FF",
           "#FECB52"
          ],
          "font": {
           "color": "#2a3f5f"
          },
          "geo": {
           "bgcolor": "white",
           "lakecolor": "white",
           "landcolor": "#E5ECF6",
           "showlakes": true,
           "showland": true,
           "subunitcolor": "white"
          },
          "hoverlabel": {
           "align": "left"
          },
          "hovermode": "closest",
          "mapbox": {
           "style": "light"
          },
          "paper_bgcolor": "white",
          "plot_bgcolor": "#E5ECF6",
          "polar": {
           "angularaxis": {
            "gridcolor": "white",
            "linecolor": "white",
            "ticks": ""
           },
           "bgcolor": "#E5ECF6",
           "radialaxis": {
            "gridcolor": "white",
            "linecolor": "white",
            "ticks": ""
           }
          },
          "scene": {
           "xaxis": {
            "backgroundcolor": "#E5ECF6",
            "gridcolor": "white",
            "gridwidth": 2,
            "linecolor": "white",
            "showbackground": true,
            "ticks": "",
            "zerolinecolor": "white"
           },
           "yaxis": {
            "backgroundcolor": "#E5ECF6",
            "gridcolor": "white",
            "gridwidth": 2,
            "linecolor": "white",
            "showbackground": true,
            "ticks": "",
            "zerolinecolor": "white"
           },
           "zaxis": {
            "backgroundcolor": "#E5ECF6",
            "gridcolor": "white",
            "gridwidth": 2,
            "linecolor": "white",
            "showbackground": true,
            "ticks": "",
            "zerolinecolor": "white"
           }
          },
          "shapedefaults": {
           "line": {
            "color": "#2a3f5f"
           }
          },
          "ternary": {
           "aaxis": {
            "gridcolor": "white",
            "linecolor": "white",
            "ticks": ""
           },
           "baxis": {
            "gridcolor": "white",
            "linecolor": "white",
            "ticks": ""
           },
           "bgcolor": "#E5ECF6",
           "caxis": {
            "gridcolor": "white",
            "linecolor": "white",
            "ticks": ""
           }
          },
          "title": {
           "x": 0.05
          },
          "xaxis": {
           "automargin": true,
           "gridcolor": "white",
           "linecolor": "white",
           "ticks": "",
           "title": {
            "standoff": 15
           },
           "zerolinecolor": "white",
           "zerolinewidth": 2
          },
          "yaxis": {
           "automargin": true,
           "gridcolor": "white",
           "linecolor": "white",
           "ticks": "",
           "title": {
            "standoff": 15
           },
           "zerolinecolor": "white",
           "zerolinewidth": 2
          }
         }
        },
        "title": {
         "text": "Cv Mse by Alpha and Power"
        },
        "xaxis": {
         "anchor": "y",
         "domain": [
          0,
          1
         ],
         "title": {
          "text": "alpha"
         }
        },
        "yaxis": {
         "anchor": "x",
         "domain": [
          0,
          1
         ],
         "title": {
          "text": "cv_mse"
         }
        }
       }
      }
     },
     "metadata": {},
     "output_type": "display_data"
    }
   ],
   "source": [
    "plot_measure('cv_mse')"
   ]
  },
  {
   "cell_type": "code",
   "execution_count": 105,
   "metadata": {},
   "outputs": [
    {
     "data": {
      "application/vnd.plotly.v1+json": {
       "config": {
        "plotlyServerURL": "https://plot.ly"
       },
       "data": [
        {
         "hovertemplate": "power=0.0<br>alpha=%{x}<br>ave_d2=%{y}<extra></extra>",
         "legendgroup": "0.0",
         "line": {
          "color": "#636efa",
          "dash": "solid"
         },
         "marker": {
          "symbol": "circle"
         },
         "mode": "lines",
         "name": "0.0",
         "orientation": "v",
         "showlegend": true,
         "type": "scatter",
         "x": [
          0,
          0.105,
          0.211,
          0.316,
          0.421,
          0.526,
          0.632,
          0.737,
          0.842,
          0.947,
          1.053,
          1.158,
          1.263,
          1.368,
          1.474,
          1.579,
          1.684,
          1.789,
          1.895,
          2
         ],
         "xaxis": "x",
         "y": [
          0.7703222464411479,
          0.8740278078223126,
          0.8348792310920097,
          0.7768774721235905,
          0.7168834434682987,
          0.6568273622479349,
          0.5986271113573162,
          0.5430480976733094,
          0.49060345733949307,
          0.4414477268591046,
          0.3949850351442046,
          0.35109003656430426,
          0.3095869066302571,
          0.27021524855452334,
          0.23308917020612402,
          0.19792249983854396,
          0.16447523452743923,
          0.13260136966182381,
          0.10191081682249255,
          0.07313551015765449
         ],
         "yaxis": "y"
        },
        {
         "hovertemplate": "power=1.0<br>alpha=%{x}<br>ave_d2=%{y}<extra></extra>",
         "legendgroup": "1.0",
         "line": {
          "color": "#EF553B",
          "dash": "solid"
         },
         "marker": {
          "symbol": "circle"
         },
         "mode": "lines",
         "name": "1.0",
         "orientation": "v",
         "showlegend": true,
         "type": "scatter",
         "x": [
          0,
          0.105,
          0.211,
          0.316,
          0.421,
          0.526,
          0.632,
          0.737,
          0.842,
          0.947,
          1.053,
          1.158,
          1.263,
          1.368,
          1.474,
          1.579,
          1.684,
          1.789,
          1.895,
          2
         ],
         "xaxis": "x",
         "y": [
          0.9599705773613316,
          0.10947829824739634,
          -0.18966333907353197,
          -0.339529094464981,
          -0.4315385574930036,
          -0.4938544586877631,
          -0.5397169567706228,
          -0.573762419512132,
          -0.600451835431634,
          -0.6222734268746819,
          -0.6404669577924851,
          -0.6550466402829679,
          -0.6676680204228611,
          -0.6786627621466218,
          -0.6883332807085429,
          -0.6966617351860757,
          -0.704146419113772,
          -0.7108508751706326,
          -0.7169346712250586,
          -0.7223763495191677
         ],
         "yaxis": "y"
        },
        {
         "hovertemplate": "power=1.5<br>alpha=%{x}<br>ave_d2=%{y}<extra></extra>",
         "legendgroup": "1.5",
         "line": {
          "color": "#00cc96",
          "dash": "solid"
         },
         "marker": {
          "symbol": "circle"
         },
         "mode": "lines",
         "name": "1.5",
         "orientation": "v",
         "showlegend": true,
         "type": "scatter",
         "x": [
          0,
          0.105,
          0.211,
          0.316,
          0.421,
          0.526,
          0.632,
          0.737,
          0.842,
          0.947,
          1.053,
          1.158,
          1.263,
          1.368,
          1.474,
          1.579,
          1.684,
          1.789,
          1.895,
          2
         ],
         "xaxis": "x",
         "y": [
          0.9496055394522734,
          0.6748110205798789,
          0.4576087907230395,
          0.3066233635142168,
          0.19540260292208217,
          0.10986497487581673,
          0.041358071829899125,
          -0.013832192899661977,
          -0.05976769261705552,
          -0.09854463550794419,
          -0.1321247964085638,
          -0.16097368825986322,
          -0.1862703847260118,
          -0.20858727435364544,
          -0.2286331609998736,
          -0.24645555904350686,
          -0.26249261757070996,
          -0.27703983277747113,
          -0.29039718805854886,
          -0.3024999655795463
         ],
         "yaxis": "y"
        },
        {
         "hovertemplate": "power=1.8<br>alpha=%{x}<br>ave_d2=%{y}<extra></extra>",
         "legendgroup": "1.8",
         "line": {
          "color": "#ab63fa",
          "dash": "solid"
         },
         "marker": {
          "symbol": "circle"
         },
         "mode": "lines",
         "name": "1.8",
         "orientation": "v",
         "showlegend": true,
         "type": "scatter",
         "x": [
          0,
          0.105,
          0.211,
          0.316,
          0.421,
          0.526,
          0.632,
          0.737,
          0.842,
          0.947,
          1.053,
          1.158,
          1.263,
          1.368,
          1.474,
          1.579,
          1.684,
          1.789,
          1.895,
          2
         ],
         "xaxis": "x",
         "y": [
          0.9292185865274243,
          0.8378613269697185,
          0.7334310062150038,
          0.6375644384772846,
          0.5524596978603724,
          0.4778550604736931,
          0.4120998611391271,
          0.3550793967363159,
          0.30486783593464994,
          0.2604282946562281,
          0.22055525239983725,
          0.185256710698287,
          0.15348104052684575,
          0.12476533528403763,
          0.09849415768361328,
          0.07476672599434069,
          0.05307117618446298,
          0.03313757493926726,
          0.01458235893145383,
          -0.002387598285993109
         ],
         "yaxis": "y"
        },
        {
         "hovertemplate": "power=2.0<br>alpha=%{x}<br>ave_d2=%{y}<extra></extra>",
         "legendgroup": "2.0",
         "line": {
          "color": "#FFA15A",
          "dash": "solid"
         },
         "marker": {
          "symbol": "circle"
         },
         "mode": "lines",
         "name": "2.0",
         "orientation": "v",
         "showlegend": true,
         "type": "scatter",
         "x": [
          0,
          0.105,
          0.211,
          0.316,
          0.421,
          0.526,
          0.632,
          0.737,
          0.842,
          0.947,
          1.053,
          1.158,
          1.263,
          1.368,
          1.474,
          1.579,
          1.684,
          1.789,
          1.895,
          2
         ],
         "xaxis": "x",
         "y": [
          0.9080202083461593,
          0.8716891558220509,
          0.8222958609636086,
          0.7727780061878108,
          0.7239935154684878,
          0.6767014044411866,
          0.630897594377236,
          0.5876282256104058,
          0.5466441252126254,
          0.5079788336529063,
          0.4712905094761194,
          0.43717171663818044,
          0.4052070956676245,
          0.375272697520072,
          0.34697556147611214,
          0.3207352522606052,
          0.29615072835273404,
          0.27308391325727277,
          0.2512484536591416,
          0.23094920871199748
         ],
         "yaxis": "y"
        },
        {
         "hovertemplate": "power=2.5<br>alpha=%{x}<br>ave_d2=%{y}<extra></extra>",
         "legendgroup": "2.5",
         "line": {
          "color": "#19d3f3",
          "dash": "solid"
         },
         "marker": {
          "symbol": "circle"
         },
         "mode": "lines",
         "name": "2.5",
         "orientation": "v",
         "showlegend": true,
         "type": "scatter",
         "x": [
          0,
          0.105,
          0.211,
          0.316,
          0.421,
          0.526,
          0.632,
          0.737,
          0.842,
          0.947,
          1.053,
          1.158,
          1.263,
          1.368,
          1.474,
          1.579,
          1.684,
          1.789,
          1.895,
          2
         ],
         "xaxis": "x",
         "y": [
          0.8212013430651257,
          0.8273465139439992,
          0.8244450626038532,
          0.8194912087878181,
          0.8136876680009116,
          0.8074529377146668,
          0.8009343326187741,
          0.7943664161543842,
          0.7877515967809219,
          0.7811262472772571,
          0.7744525774067886,
          0.7678627134176771,
          0.7613079143449042,
          0.7547938894361692,
          0.7482561905914273,
          0.7418250546264558,
          0.7354341482336124,
          0.729083262511306,
          0.7227114326680467,
          0.7164336147349176
         ],
         "yaxis": "y"
        },
        {
         "hovertemplate": "power=3.0<br>alpha=%{x}<br>ave_d2=%{y}<extra></extra>",
         "legendgroup": "3.0",
         "line": {
          "color": "#FF6692",
          "dash": "solid"
         },
         "marker": {
          "symbol": "circle"
         },
         "mode": "lines",
         "name": "3.0",
         "orientation": "v",
         "showlegend": true,
         "type": "scatter",
         "x": [
          0,
          0.105,
          0.211,
          0.316,
          0.421,
          0.526,
          0.632,
          0.737,
          0.842,
          0.947,
          1.053,
          1.158,
          1.263,
          1.368,
          1.474,
          1.579,
          1.684,
          1.789,
          1.895,
          2
         ],
         "xaxis": "x",
         "y": [
          0.6865240310554654,
          0.6898425446207385,
          0.6923888349539913,
          0.6943552002457738,
          0.6959013275576191,
          0.6971213091341182,
          0.6980831799490883,
          0.6988175276918944,
          0.6993717649530563,
          0.6997746337415677,
          0.7000481357628543,
          0.7002078924186612,
          0.7002716634669713,
          0.7002504641549014,
          0.7001560558988101,
          0.6999968820176188,
          0.699780359071776,
          0.6995149144932805,
          0.6992005537160391,
          0.6988488077954944
         ],
         "yaxis": "y"
        }
       ],
       "layout": {
        "legend": {
         "title": {
          "text": "power"
         },
         "tracegroupgap": 0
        },
        "template": {
         "data": {
          "bar": [
           {
            "error_x": {
             "color": "#2a3f5f"
            },
            "error_y": {
             "color": "#2a3f5f"
            },
            "marker": {
             "line": {
              "color": "#E5ECF6",
              "width": 0.5
             },
             "pattern": {
              "fillmode": "overlay",
              "size": 10,
              "solidity": 0.2
             }
            },
            "type": "bar"
           }
          ],
          "barpolar": [
           {
            "marker": {
             "line": {
              "color": "#E5ECF6",
              "width": 0.5
             },
             "pattern": {
              "fillmode": "overlay",
              "size": 10,
              "solidity": 0.2
             }
            },
            "type": "barpolar"
           }
          ],
          "carpet": [
           {
            "aaxis": {
             "endlinecolor": "#2a3f5f",
             "gridcolor": "white",
             "linecolor": "white",
             "minorgridcolor": "white",
             "startlinecolor": "#2a3f5f"
            },
            "baxis": {
             "endlinecolor": "#2a3f5f",
             "gridcolor": "white",
             "linecolor": "white",
             "minorgridcolor": "white",
             "startlinecolor": "#2a3f5f"
            },
            "type": "carpet"
           }
          ],
          "choropleth": [
           {
            "colorbar": {
             "outlinewidth": 0,
             "ticks": ""
            },
            "type": "choropleth"
           }
          ],
          "contour": [
           {
            "colorbar": {
             "outlinewidth": 0,
             "ticks": ""
            },
            "colorscale": [
             [
              0,
              "#0d0887"
             ],
             [
              0.1111111111111111,
              "#46039f"
             ],
             [
              0.2222222222222222,
              "#7201a8"
             ],
             [
              0.3333333333333333,
              "#9c179e"
             ],
             [
              0.4444444444444444,
              "#bd3786"
             ],
             [
              0.5555555555555556,
              "#d8576b"
             ],
             [
              0.6666666666666666,
              "#ed7953"
             ],
             [
              0.7777777777777778,
              "#fb9f3a"
             ],
             [
              0.8888888888888888,
              "#fdca26"
             ],
             [
              1,
              "#f0f921"
             ]
            ],
            "type": "contour"
           }
          ],
          "contourcarpet": [
           {
            "colorbar": {
             "outlinewidth": 0,
             "ticks": ""
            },
            "type": "contourcarpet"
           }
          ],
          "heatmap": [
           {
            "colorbar": {
             "outlinewidth": 0,
             "ticks": ""
            },
            "colorscale": [
             [
              0,
              "#0d0887"
             ],
             [
              0.1111111111111111,
              "#46039f"
             ],
             [
              0.2222222222222222,
              "#7201a8"
             ],
             [
              0.3333333333333333,
              "#9c179e"
             ],
             [
              0.4444444444444444,
              "#bd3786"
             ],
             [
              0.5555555555555556,
              "#d8576b"
             ],
             [
              0.6666666666666666,
              "#ed7953"
             ],
             [
              0.7777777777777778,
              "#fb9f3a"
             ],
             [
              0.8888888888888888,
              "#fdca26"
             ],
             [
              1,
              "#f0f921"
             ]
            ],
            "type": "heatmap"
           }
          ],
          "heatmapgl": [
           {
            "colorbar": {
             "outlinewidth": 0,
             "ticks": ""
            },
            "colorscale": [
             [
              0,
              "#0d0887"
             ],
             [
              0.1111111111111111,
              "#46039f"
             ],
             [
              0.2222222222222222,
              "#7201a8"
             ],
             [
              0.3333333333333333,
              "#9c179e"
             ],
             [
              0.4444444444444444,
              "#bd3786"
             ],
             [
              0.5555555555555556,
              "#d8576b"
             ],
             [
              0.6666666666666666,
              "#ed7953"
             ],
             [
              0.7777777777777778,
              "#fb9f3a"
             ],
             [
              0.8888888888888888,
              "#fdca26"
             ],
             [
              1,
              "#f0f921"
             ]
            ],
            "type": "heatmapgl"
           }
          ],
          "histogram": [
           {
            "marker": {
             "pattern": {
              "fillmode": "overlay",
              "size": 10,
              "solidity": 0.2
             }
            },
            "type": "histogram"
           }
          ],
          "histogram2d": [
           {
            "colorbar": {
             "outlinewidth": 0,
             "ticks": ""
            },
            "colorscale": [
             [
              0,
              "#0d0887"
             ],
             [
              0.1111111111111111,
              "#46039f"
             ],
             [
              0.2222222222222222,
              "#7201a8"
             ],
             [
              0.3333333333333333,
              "#9c179e"
             ],
             [
              0.4444444444444444,
              "#bd3786"
             ],
             [
              0.5555555555555556,
              "#d8576b"
             ],
             [
              0.6666666666666666,
              "#ed7953"
             ],
             [
              0.7777777777777778,
              "#fb9f3a"
             ],
             [
              0.8888888888888888,
              "#fdca26"
             ],
             [
              1,
              "#f0f921"
             ]
            ],
            "type": "histogram2d"
           }
          ],
          "histogram2dcontour": [
           {
            "colorbar": {
             "outlinewidth": 0,
             "ticks": ""
            },
            "colorscale": [
             [
              0,
              "#0d0887"
             ],
             [
              0.1111111111111111,
              "#46039f"
             ],
             [
              0.2222222222222222,
              "#7201a8"
             ],
             [
              0.3333333333333333,
              "#9c179e"
             ],
             [
              0.4444444444444444,
              "#bd3786"
             ],
             [
              0.5555555555555556,
              "#d8576b"
             ],
             [
              0.6666666666666666,
              "#ed7953"
             ],
             [
              0.7777777777777778,
              "#fb9f3a"
             ],
             [
              0.8888888888888888,
              "#fdca26"
             ],
             [
              1,
              "#f0f921"
             ]
            ],
            "type": "histogram2dcontour"
           }
          ],
          "mesh3d": [
           {
            "colorbar": {
             "outlinewidth": 0,
             "ticks": ""
            },
            "type": "mesh3d"
           }
          ],
          "parcoords": [
           {
            "line": {
             "colorbar": {
              "outlinewidth": 0,
              "ticks": ""
             }
            },
            "type": "parcoords"
           }
          ],
          "pie": [
           {
            "automargin": true,
            "type": "pie"
           }
          ],
          "scatter": [
           {
            "fillpattern": {
             "fillmode": "overlay",
             "size": 10,
             "solidity": 0.2
            },
            "type": "scatter"
           }
          ],
          "scatter3d": [
           {
            "line": {
             "colorbar": {
              "outlinewidth": 0,
              "ticks": ""
             }
            },
            "marker": {
             "colorbar": {
              "outlinewidth": 0,
              "ticks": ""
             }
            },
            "type": "scatter3d"
           }
          ],
          "scattercarpet": [
           {
            "marker": {
             "colorbar": {
              "outlinewidth": 0,
              "ticks": ""
             }
            },
            "type": "scattercarpet"
           }
          ],
          "scattergeo": [
           {
            "marker": {
             "colorbar": {
              "outlinewidth": 0,
              "ticks": ""
             }
            },
            "type": "scattergeo"
           }
          ],
          "scattergl": [
           {
            "marker": {
             "colorbar": {
              "outlinewidth": 0,
              "ticks": ""
             }
            },
            "type": "scattergl"
           }
          ],
          "scattermapbox": [
           {
            "marker": {
             "colorbar": {
              "outlinewidth": 0,
              "ticks": ""
             }
            },
            "type": "scattermapbox"
           }
          ],
          "scatterpolar": [
           {
            "marker": {
             "colorbar": {
              "outlinewidth": 0,
              "ticks": ""
             }
            },
            "type": "scatterpolar"
           }
          ],
          "scatterpolargl": [
           {
            "marker": {
             "colorbar": {
              "outlinewidth": 0,
              "ticks": ""
             }
            },
            "type": "scatterpolargl"
           }
          ],
          "scatterternary": [
           {
            "marker": {
             "colorbar": {
              "outlinewidth": 0,
              "ticks": ""
             }
            },
            "type": "scatterternary"
           }
          ],
          "surface": [
           {
            "colorbar": {
             "outlinewidth": 0,
             "ticks": ""
            },
            "colorscale": [
             [
              0,
              "#0d0887"
             ],
             [
              0.1111111111111111,
              "#46039f"
             ],
             [
              0.2222222222222222,
              "#7201a8"
             ],
             [
              0.3333333333333333,
              "#9c179e"
             ],
             [
              0.4444444444444444,
              "#bd3786"
             ],
             [
              0.5555555555555556,
              "#d8576b"
             ],
             [
              0.6666666666666666,
              "#ed7953"
             ],
             [
              0.7777777777777778,
              "#fb9f3a"
             ],
             [
              0.8888888888888888,
              "#fdca26"
             ],
             [
              1,
              "#f0f921"
             ]
            ],
            "type": "surface"
           }
          ],
          "table": [
           {
            "cells": {
             "fill": {
              "color": "#EBF0F8"
             },
             "line": {
              "color": "white"
             }
            },
            "header": {
             "fill": {
              "color": "#C8D4E3"
             },
             "line": {
              "color": "white"
             }
            },
            "type": "table"
           }
          ]
         },
         "layout": {
          "annotationdefaults": {
           "arrowcolor": "#2a3f5f",
           "arrowhead": 0,
           "arrowwidth": 1
          },
          "autotypenumbers": "strict",
          "coloraxis": {
           "colorbar": {
            "outlinewidth": 0,
            "ticks": ""
           }
          },
          "colorscale": {
           "diverging": [
            [
             0,
             "#8e0152"
            ],
            [
             0.1,
             "#c51b7d"
            ],
            [
             0.2,
             "#de77ae"
            ],
            [
             0.3,
             "#f1b6da"
            ],
            [
             0.4,
             "#fde0ef"
            ],
            [
             0.5,
             "#f7f7f7"
            ],
            [
             0.6,
             "#e6f5d0"
            ],
            [
             0.7,
             "#b8e186"
            ],
            [
             0.8,
             "#7fbc41"
            ],
            [
             0.9,
             "#4d9221"
            ],
            [
             1,
             "#276419"
            ]
           ],
           "sequential": [
            [
             0,
             "#0d0887"
            ],
            [
             0.1111111111111111,
             "#46039f"
            ],
            [
             0.2222222222222222,
             "#7201a8"
            ],
            [
             0.3333333333333333,
             "#9c179e"
            ],
            [
             0.4444444444444444,
             "#bd3786"
            ],
            [
             0.5555555555555556,
             "#d8576b"
            ],
            [
             0.6666666666666666,
             "#ed7953"
            ],
            [
             0.7777777777777778,
             "#fb9f3a"
            ],
            [
             0.8888888888888888,
             "#fdca26"
            ],
            [
             1,
             "#f0f921"
            ]
           ],
           "sequentialminus": [
            [
             0,
             "#0d0887"
            ],
            [
             0.1111111111111111,
             "#46039f"
            ],
            [
             0.2222222222222222,
             "#7201a8"
            ],
            [
             0.3333333333333333,
             "#9c179e"
            ],
            [
             0.4444444444444444,
             "#bd3786"
            ],
            [
             0.5555555555555556,
             "#d8576b"
            ],
            [
             0.6666666666666666,
             "#ed7953"
            ],
            [
             0.7777777777777778,
             "#fb9f3a"
            ],
            [
             0.8888888888888888,
             "#fdca26"
            ],
            [
             1,
             "#f0f921"
            ]
           ]
          },
          "colorway": [
           "#636efa",
           "#EF553B",
           "#00cc96",
           "#ab63fa",
           "#FFA15A",
           "#19d3f3",
           "#FF6692",
           "#B6E880",
           "#FF97FF",
           "#FECB52"
          ],
          "font": {
           "color": "#2a3f5f"
          },
          "geo": {
           "bgcolor": "white",
           "lakecolor": "white",
           "landcolor": "#E5ECF6",
           "showlakes": true,
           "showland": true,
           "subunitcolor": "white"
          },
          "hoverlabel": {
           "align": "left"
          },
          "hovermode": "closest",
          "mapbox": {
           "style": "light"
          },
          "paper_bgcolor": "white",
          "plot_bgcolor": "#E5ECF6",
          "polar": {
           "angularaxis": {
            "gridcolor": "white",
            "linecolor": "white",
            "ticks": ""
           },
           "bgcolor": "#E5ECF6",
           "radialaxis": {
            "gridcolor": "white",
            "linecolor": "white",
            "ticks": ""
           }
          },
          "scene": {
           "xaxis": {
            "backgroundcolor": "#E5ECF6",
            "gridcolor": "white",
            "gridwidth": 2,
            "linecolor": "white",
            "showbackground": true,
            "ticks": "",
            "zerolinecolor": "white"
           },
           "yaxis": {
            "backgroundcolor": "#E5ECF6",
            "gridcolor": "white",
            "gridwidth": 2,
            "linecolor": "white",
            "showbackground": true,
            "ticks": "",
            "zerolinecolor": "white"
           },
           "zaxis": {
            "backgroundcolor": "#E5ECF6",
            "gridcolor": "white",
            "gridwidth": 2,
            "linecolor": "white",
            "showbackground": true,
            "ticks": "",
            "zerolinecolor": "white"
           }
          },
          "shapedefaults": {
           "line": {
            "color": "#2a3f5f"
           }
          },
          "ternary": {
           "aaxis": {
            "gridcolor": "white",
            "linecolor": "white",
            "ticks": ""
           },
           "baxis": {
            "gridcolor": "white",
            "linecolor": "white",
            "ticks": ""
           },
           "bgcolor": "#E5ECF6",
           "caxis": {
            "gridcolor": "white",
            "linecolor": "white",
            "ticks": ""
           }
          },
          "title": {
           "x": 0.05
          },
          "xaxis": {
           "automargin": true,
           "gridcolor": "white",
           "linecolor": "white",
           "ticks": "",
           "title": {
            "standoff": 15
           },
           "zerolinecolor": "white",
           "zerolinewidth": 2
          },
          "yaxis": {
           "automargin": true,
           "gridcolor": "white",
           "linecolor": "white",
           "ticks": "",
           "title": {
            "standoff": 15
           },
           "zerolinecolor": "white",
           "zerolinewidth": 2
          }
         }
        },
        "title": {
         "text": "Ave D2 by Alpha and Power"
        },
        "xaxis": {
         "anchor": "y",
         "domain": [
          0,
          1
         ],
         "title": {
          "text": "alpha"
         }
        },
        "yaxis": {
         "anchor": "x",
         "domain": [
          0,
          1
         ],
         "title": {
          "text": "ave_d2"
         }
        }
       }
      }
     },
     "metadata": {},
     "output_type": "display_data"
    }
   ],
   "source": [
    "plot_measure('ave_d2')"
   ]
  },
  {
   "cell_type": "code",
   "execution_count": 111,
   "metadata": {},
   "outputs": [
    {
     "data": {
      "application/vnd.plotly.v1+json": {
       "config": {
        "plotlyServerURL": "https://plot.ly"
       },
       "data": [
        {
         "hovertemplate": "power=0.0<br>alpha=%{x}<br>std_d2=%{y}<extra></extra>",
         "legendgroup": "0.0",
         "line": {
          "color": "#636efa",
          "dash": "solid"
         },
         "marker": {
          "symbol": "circle"
         },
         "mode": "lines",
         "name": "0.0",
         "orientation": "v",
         "showlegend": true,
         "type": "scatter",
         "x": [
          0,
          0.105,
          0.211,
          0.316,
          0.421,
          0.526,
          0.632,
          0.737,
          0.842,
          0.947,
          1.053,
          1.158,
          1.263,
          1.368,
          1.474,
          1.579,
          1.684,
          1.789,
          1.895,
          2
         ],
         "xaxis": "x",
         "y": [
          0.017487713770445633,
          0.014807946624786825,
          0.006477420515068419,
          0.012541338745691981,
          0.02124393101965264,
          0.02857807196157744,
          0.03544528970542822,
          0.0409356437184025,
          0.04570428719281222,
          0.0501226746358122,
          0.053660301573383515,
          0.05688687709224975,
          0.05972535721151025,
          0.06277021388534533,
          0.06456529625311372,
          0.06696709781987452,
          0.0691441715434679,
          0.07109547046208137,
          0.07285752471846604,
          0.07431239500884496
         ],
         "yaxis": "y"
        },
        {
         "hovertemplate": "power=1.0<br>alpha=%{x}<br>std_d2=%{y}<extra></extra>",
         "legendgroup": "1.0",
         "line": {
          "color": "#EF553B",
          "dash": "solid"
         },
         "marker": {
          "symbol": "circle"
         },
         "mode": "lines",
         "name": "1.0",
         "orientation": "v",
         "showlegend": true,
         "type": "scatter",
         "x": [
          0,
          0.105,
          0.211,
          0.316,
          0.421,
          0.526,
          0.632,
          0.737,
          0.842,
          0.947,
          1.053,
          1.158,
          1.263,
          1.368,
          1.474,
          1.579,
          1.684,
          1.789,
          1.895,
          2
         ],
         "xaxis": "x",
         "y": [
          0.007239762687657653,
          0.02223216761576791,
          0.02631411713768218,
          0.027782295075394176,
          0.028651040689971288,
          0.02912684143811508,
          0.029244428652531542,
          0.02986426721183377,
          0.029720810537316282,
          0.02975627109350529,
          0.029849239025220655,
          0.03005206018142798,
          0.030086659757521225,
          0.030157486152222815,
          0.03031663140520827,
          0.03016117937998771,
          0.030147931147577803,
          0.030152029159863654,
          0.030155871774391774,
          0.030161789396096622
         ],
         "yaxis": "y"
        },
        {
         "hovertemplate": "power=1.5<br>alpha=%{x}<br>std_d2=%{y}<extra></extra>",
         "legendgroup": "1.5",
         "line": {
          "color": "#00cc96",
          "dash": "solid"
         },
         "marker": {
          "symbol": "circle"
         },
         "mode": "lines",
         "name": "1.5",
         "orientation": "v",
         "showlegend": true,
         "type": "scatter",
         "x": [
          0,
          0.105,
          0.211,
          0.316,
          0.421,
          0.526,
          0.632,
          0.737,
          0.842,
          0.947,
          1.053,
          1.158,
          1.263,
          1.368,
          1.474,
          1.579,
          1.684,
          1.789,
          1.895,
          2
         ],
         "xaxis": "x",
         "y": [
          0.006344515297989944,
          0.027503460434539807,
          0.035042332720068944,
          0.037240269021175644,
          0.03773135909422846,
          0.037484677741813445,
          0.03687351264216545,
          0.03618881325162686,
          0.03539936631177604,
          0.03462479575065093,
          0.033922845693628474,
          0.03327078227124297,
          0.032622242570285336,
          0.03204898958834949,
          0.031505302688435904,
          0.03096304365974174,
          0.0304455958742852,
          0.029997792020165667,
          0.02957384789418787,
          0.02918330069850178
         ],
         "yaxis": "y"
        },
        {
         "hovertemplate": "power=1.8<br>alpha=%{x}<br>std_d2=%{y}<extra></extra>",
         "legendgroup": "1.8",
         "line": {
          "color": "#ab63fa",
          "dash": "solid"
         },
         "marker": {
          "symbol": "circle"
         },
         "mode": "lines",
         "name": "1.8",
         "orientation": "v",
         "showlegend": true,
         "type": "scatter",
         "x": [
          0,
          0.105,
          0.211,
          0.316,
          0.421,
          0.526,
          0.632,
          0.737,
          0.842,
          0.947,
          1.053,
          1.158,
          1.263,
          1.368,
          1.474,
          1.579,
          1.684,
          1.789,
          1.895,
          2
         ],
         "xaxis": "x",
         "y": [
          0.007284034136918382,
          0.020874494474344505,
          0.03339640870669656,
          0.040901415413183255,
          0.04524001049043954,
          0.047566498541664795,
          0.04868369993414515,
          0.048974148729084024,
          0.04880356398587248,
          0.048315631931411036,
          0.04764515680171893,
          0.046840668953917815,
          0.04602016773852516,
          0.04515458489335824,
          0.04428011643801887,
          0.043419139550966226,
          0.042584348036516284,
          0.04177088219444463,
          0.04097067355578659,
          0.0402138128106001
         ],
         "yaxis": "y"
        },
        {
         "hovertemplate": "power=2.0<br>alpha=%{x}<br>std_d2=%{y}<extra></extra>",
         "legendgroup": "2.0",
         "line": {
          "color": "#FFA15A",
          "dash": "solid"
         },
         "marker": {
          "symbol": "circle"
         },
         "mode": "lines",
         "name": "2.0",
         "orientation": "v",
         "showlegend": true,
         "type": "scatter",
         "x": [
          0,
          0.105,
          0.211,
          0.316,
          0.421,
          0.526,
          0.632,
          0.737,
          0.842,
          0.947,
          1.053,
          1.158,
          1.263,
          1.368,
          1.474,
          1.579,
          1.684,
          1.789,
          1.895,
          2
         ],
         "xaxis": "x",
         "y": [
          0.008764251840535467,
          0.014167695008450805,
          0.02440077765429364,
          0.03267312501772066,
          0.039405227500778024,
          0.04480924922012369,
          0.04907483486700041,
          0.05234163214505208,
          0.05476218213480814,
          0.05646122163230709,
          0.057610590676505445,
          0.05827779010690355,
          0.05857685469863121,
          0.05859302549760993,
          0.05836864581845771,
          0.0579729704237672,
          0.057447797028701085,
          0.05681258882044113,
          0.05609698298715284,
          0.055349883762987835
         ],
         "yaxis": "y"
        },
        {
         "hovertemplate": "power=2.5<br>alpha=%{x}<br>std_d2=%{y}<extra></extra>",
         "legendgroup": "2.5",
         "line": {
          "color": "#19d3f3",
          "dash": "solid"
         },
         "marker": {
          "symbol": "circle"
         },
         "mode": "lines",
         "name": "2.5",
         "orientation": "v",
         "showlegend": true,
         "type": "scatter",
         "x": [
          0,
          0.105,
          0.211,
          0.316,
          0.421,
          0.526,
          0.632,
          0.737,
          0.842,
          0.947,
          1.053,
          1.158,
          1.263,
          1.368,
          1.474,
          1.579,
          1.684,
          1.789,
          1.895,
          2
         ],
         "xaxis": "x",
         "y": [
          0.01120929257886306,
          0.011957617276512102,
          0.012378426373558408,
          0.013257135735403606,
          0.014614354779684252,
          0.016305155210660612,
          0.018189377214177765,
          0.020080222303338773,
          0.021933374493559688,
          0.023776598318286237,
          0.025600344742127155,
          0.027386493961531633,
          0.0291402174607305,
          0.030844121297628563,
          0.03252861933212172,
          0.03416599883773699,
          0.03577476806624383,
          0.03734561863496729,
          0.03890124584761899,
          0.040417494990521455
         ],
         "yaxis": "y"
        },
        {
         "hovertemplate": "power=3.0<br>alpha=%{x}<br>std_d2=%{y}<extra></extra>",
         "legendgroup": "3.0",
         "line": {
          "color": "#FF6692",
          "dash": "solid"
         },
         "marker": {
          "symbol": "circle"
         },
         "mode": "lines",
         "name": "3.0",
         "orientation": "v",
         "showlegend": true,
         "type": "scatter",
         "x": [
          0,
          0.105,
          0.211,
          0.316,
          0.421,
          0.526,
          0.632,
          0.737,
          0.842,
          0.947,
          1.053,
          1.158,
          1.263,
          1.368,
          1.474,
          1.579,
          1.684,
          1.789,
          1.895,
          2
         ],
         "xaxis": "x",
         "y": [
          0.008231317350845996,
          0.008749908421000183,
          0.009266442189310331,
          0.009767106944978983,
          0.010253777692122268,
          0.010719333551615395,
          0.011143105280935511,
          0.011524621977051454,
          0.011883590055869834,
          0.012222153796908122,
          0.01254610156735115,
          0.01285128964789043,
          0.013144226264314872,
          0.013426076342960159,
          0.013701082508152303,
          0.013961258843553138,
          0.01420806373431917,
          0.01444743282669897,
          0.014682503505103497,
          0.01491055959877677
         ],
         "yaxis": "y"
        }
       ],
       "layout": {
        "legend": {
         "title": {
          "text": "power"
         },
         "tracegroupgap": 0
        },
        "template": {
         "data": {
          "bar": [
           {
            "error_x": {
             "color": "#2a3f5f"
            },
            "error_y": {
             "color": "#2a3f5f"
            },
            "marker": {
             "line": {
              "color": "#E5ECF6",
              "width": 0.5
             },
             "pattern": {
              "fillmode": "overlay",
              "size": 10,
              "solidity": 0.2
             }
            },
            "type": "bar"
           }
          ],
          "barpolar": [
           {
            "marker": {
             "line": {
              "color": "#E5ECF6",
              "width": 0.5
             },
             "pattern": {
              "fillmode": "overlay",
              "size": 10,
              "solidity": 0.2
             }
            },
            "type": "barpolar"
           }
          ],
          "carpet": [
           {
            "aaxis": {
             "endlinecolor": "#2a3f5f",
             "gridcolor": "white",
             "linecolor": "white",
             "minorgridcolor": "white",
             "startlinecolor": "#2a3f5f"
            },
            "baxis": {
             "endlinecolor": "#2a3f5f",
             "gridcolor": "white",
             "linecolor": "white",
             "minorgridcolor": "white",
             "startlinecolor": "#2a3f5f"
            },
            "type": "carpet"
           }
          ],
          "choropleth": [
           {
            "colorbar": {
             "outlinewidth": 0,
             "ticks": ""
            },
            "type": "choropleth"
           }
          ],
          "contour": [
           {
            "colorbar": {
             "outlinewidth": 0,
             "ticks": ""
            },
            "colorscale": [
             [
              0,
              "#0d0887"
             ],
             [
              0.1111111111111111,
              "#46039f"
             ],
             [
              0.2222222222222222,
              "#7201a8"
             ],
             [
              0.3333333333333333,
              "#9c179e"
             ],
             [
              0.4444444444444444,
              "#bd3786"
             ],
             [
              0.5555555555555556,
              "#d8576b"
             ],
             [
              0.6666666666666666,
              "#ed7953"
             ],
             [
              0.7777777777777778,
              "#fb9f3a"
             ],
             [
              0.8888888888888888,
              "#fdca26"
             ],
             [
              1,
              "#f0f921"
             ]
            ],
            "type": "contour"
           }
          ],
          "contourcarpet": [
           {
            "colorbar": {
             "outlinewidth": 0,
             "ticks": ""
            },
            "type": "contourcarpet"
           }
          ],
          "heatmap": [
           {
            "colorbar": {
             "outlinewidth": 0,
             "ticks": ""
            },
            "colorscale": [
             [
              0,
              "#0d0887"
             ],
             [
              0.1111111111111111,
              "#46039f"
             ],
             [
              0.2222222222222222,
              "#7201a8"
             ],
             [
              0.3333333333333333,
              "#9c179e"
             ],
             [
              0.4444444444444444,
              "#bd3786"
             ],
             [
              0.5555555555555556,
              "#d8576b"
             ],
             [
              0.6666666666666666,
              "#ed7953"
             ],
             [
              0.7777777777777778,
              "#fb9f3a"
             ],
             [
              0.8888888888888888,
              "#fdca26"
             ],
             [
              1,
              "#f0f921"
             ]
            ],
            "type": "heatmap"
           }
          ],
          "heatmapgl": [
           {
            "colorbar": {
             "outlinewidth": 0,
             "ticks": ""
            },
            "colorscale": [
             [
              0,
              "#0d0887"
             ],
             [
              0.1111111111111111,
              "#46039f"
             ],
             [
              0.2222222222222222,
              "#7201a8"
             ],
             [
              0.3333333333333333,
              "#9c179e"
             ],
             [
              0.4444444444444444,
              "#bd3786"
             ],
             [
              0.5555555555555556,
              "#d8576b"
             ],
             [
              0.6666666666666666,
              "#ed7953"
             ],
             [
              0.7777777777777778,
              "#fb9f3a"
             ],
             [
              0.8888888888888888,
              "#fdca26"
             ],
             [
              1,
              "#f0f921"
             ]
            ],
            "type": "heatmapgl"
           }
          ],
          "histogram": [
           {
            "marker": {
             "pattern": {
              "fillmode": "overlay",
              "size": 10,
              "solidity": 0.2
             }
            },
            "type": "histogram"
           }
          ],
          "histogram2d": [
           {
            "colorbar": {
             "outlinewidth": 0,
             "ticks": ""
            },
            "colorscale": [
             [
              0,
              "#0d0887"
             ],
             [
              0.1111111111111111,
              "#46039f"
             ],
             [
              0.2222222222222222,
              "#7201a8"
             ],
             [
              0.3333333333333333,
              "#9c179e"
             ],
             [
              0.4444444444444444,
              "#bd3786"
             ],
             [
              0.5555555555555556,
              "#d8576b"
             ],
             [
              0.6666666666666666,
              "#ed7953"
             ],
             [
              0.7777777777777778,
              "#fb9f3a"
             ],
             [
              0.8888888888888888,
              "#fdca26"
             ],
             [
              1,
              "#f0f921"
             ]
            ],
            "type": "histogram2d"
           }
          ],
          "histogram2dcontour": [
           {
            "colorbar": {
             "outlinewidth": 0,
             "ticks": ""
            },
            "colorscale": [
             [
              0,
              "#0d0887"
             ],
             [
              0.1111111111111111,
              "#46039f"
             ],
             [
              0.2222222222222222,
              "#7201a8"
             ],
             [
              0.3333333333333333,
              "#9c179e"
             ],
             [
              0.4444444444444444,
              "#bd3786"
             ],
             [
              0.5555555555555556,
              "#d8576b"
             ],
             [
              0.6666666666666666,
              "#ed7953"
             ],
             [
              0.7777777777777778,
              "#fb9f3a"
             ],
             [
              0.8888888888888888,
              "#fdca26"
             ],
             [
              1,
              "#f0f921"
             ]
            ],
            "type": "histogram2dcontour"
           }
          ],
          "mesh3d": [
           {
            "colorbar": {
             "outlinewidth": 0,
             "ticks": ""
            },
            "type": "mesh3d"
           }
          ],
          "parcoords": [
           {
            "line": {
             "colorbar": {
              "outlinewidth": 0,
              "ticks": ""
             }
            },
            "type": "parcoords"
           }
          ],
          "pie": [
           {
            "automargin": true,
            "type": "pie"
           }
          ],
          "scatter": [
           {
            "fillpattern": {
             "fillmode": "overlay",
             "size": 10,
             "solidity": 0.2
            },
            "type": "scatter"
           }
          ],
          "scatter3d": [
           {
            "line": {
             "colorbar": {
              "outlinewidth": 0,
              "ticks": ""
             }
            },
            "marker": {
             "colorbar": {
              "outlinewidth": 0,
              "ticks": ""
             }
            },
            "type": "scatter3d"
           }
          ],
          "scattercarpet": [
           {
            "marker": {
             "colorbar": {
              "outlinewidth": 0,
              "ticks": ""
             }
            },
            "type": "scattercarpet"
           }
          ],
          "scattergeo": [
           {
            "marker": {
             "colorbar": {
              "outlinewidth": 0,
              "ticks": ""
             }
            },
            "type": "scattergeo"
           }
          ],
          "scattergl": [
           {
            "marker": {
             "colorbar": {
              "outlinewidth": 0,
              "ticks": ""
             }
            },
            "type": "scattergl"
           }
          ],
          "scattermapbox": [
           {
            "marker": {
             "colorbar": {
              "outlinewidth": 0,
              "ticks": ""
             }
            },
            "type": "scattermapbox"
           }
          ],
          "scatterpolar": [
           {
            "marker": {
             "colorbar": {
              "outlinewidth": 0,
              "ticks": ""
             }
            },
            "type": "scatterpolar"
           }
          ],
          "scatterpolargl": [
           {
            "marker": {
             "colorbar": {
              "outlinewidth": 0,
              "ticks": ""
             }
            },
            "type": "scatterpolargl"
           }
          ],
          "scatterternary": [
           {
            "marker": {
             "colorbar": {
              "outlinewidth": 0,
              "ticks": ""
             }
            },
            "type": "scatterternary"
           }
          ],
          "surface": [
           {
            "colorbar": {
             "outlinewidth": 0,
             "ticks": ""
            },
            "colorscale": [
             [
              0,
              "#0d0887"
             ],
             [
              0.1111111111111111,
              "#46039f"
             ],
             [
              0.2222222222222222,
              "#7201a8"
             ],
             [
              0.3333333333333333,
              "#9c179e"
             ],
             [
              0.4444444444444444,
              "#bd3786"
             ],
             [
              0.5555555555555556,
              "#d8576b"
             ],
             [
              0.6666666666666666,
              "#ed7953"
             ],
             [
              0.7777777777777778,
              "#fb9f3a"
             ],
             [
              0.8888888888888888,
              "#fdca26"
             ],
             [
              1,
              "#f0f921"
             ]
            ],
            "type": "surface"
           }
          ],
          "table": [
           {
            "cells": {
             "fill": {
              "color": "#EBF0F8"
             },
             "line": {
              "color": "white"
             }
            },
            "header": {
             "fill": {
              "color": "#C8D4E3"
             },
             "line": {
              "color": "white"
             }
            },
            "type": "table"
           }
          ]
         },
         "layout": {
          "annotationdefaults": {
           "arrowcolor": "#2a3f5f",
           "arrowhead": 0,
           "arrowwidth": 1
          },
          "autotypenumbers": "strict",
          "coloraxis": {
           "colorbar": {
            "outlinewidth": 0,
            "ticks": ""
           }
          },
          "colorscale": {
           "diverging": [
            [
             0,
             "#8e0152"
            ],
            [
             0.1,
             "#c51b7d"
            ],
            [
             0.2,
             "#de77ae"
            ],
            [
             0.3,
             "#f1b6da"
            ],
            [
             0.4,
             "#fde0ef"
            ],
            [
             0.5,
             "#f7f7f7"
            ],
            [
             0.6,
             "#e6f5d0"
            ],
            [
             0.7,
             "#b8e186"
            ],
            [
             0.8,
             "#7fbc41"
            ],
            [
             0.9,
             "#4d9221"
            ],
            [
             1,
             "#276419"
            ]
           ],
           "sequential": [
            [
             0,
             "#0d0887"
            ],
            [
             0.1111111111111111,
             "#46039f"
            ],
            [
             0.2222222222222222,
             "#7201a8"
            ],
            [
             0.3333333333333333,
             "#9c179e"
            ],
            [
             0.4444444444444444,
             "#bd3786"
            ],
            [
             0.5555555555555556,
             "#d8576b"
            ],
            [
             0.6666666666666666,
             "#ed7953"
            ],
            [
             0.7777777777777778,
             "#fb9f3a"
            ],
            [
             0.8888888888888888,
             "#fdca26"
            ],
            [
             1,
             "#f0f921"
            ]
           ],
           "sequentialminus": [
            [
             0,
             "#0d0887"
            ],
            [
             0.1111111111111111,
             "#46039f"
            ],
            [
             0.2222222222222222,
             "#7201a8"
            ],
            [
             0.3333333333333333,
             "#9c179e"
            ],
            [
             0.4444444444444444,
             "#bd3786"
            ],
            [
             0.5555555555555556,
             "#d8576b"
            ],
            [
             0.6666666666666666,
             "#ed7953"
            ],
            [
             0.7777777777777778,
             "#fb9f3a"
            ],
            [
             0.8888888888888888,
             "#fdca26"
            ],
            [
             1,
             "#f0f921"
            ]
           ]
          },
          "colorway": [
           "#636efa",
           "#EF553B",
           "#00cc96",
           "#ab63fa",
           "#FFA15A",
           "#19d3f3",
           "#FF6692",
           "#B6E880",
           "#FF97FF",
           "#FECB52"
          ],
          "font": {
           "color": "#2a3f5f"
          },
          "geo": {
           "bgcolor": "white",
           "lakecolor": "white",
           "landcolor": "#E5ECF6",
           "showlakes": true,
           "showland": true,
           "subunitcolor": "white"
          },
          "hoverlabel": {
           "align": "left"
          },
          "hovermode": "closest",
          "mapbox": {
           "style": "light"
          },
          "paper_bgcolor": "white",
          "plot_bgcolor": "#E5ECF6",
          "polar": {
           "angularaxis": {
            "gridcolor": "white",
            "linecolor": "white",
            "ticks": ""
           },
           "bgcolor": "#E5ECF6",
           "radialaxis": {
            "gridcolor": "white",
            "linecolor": "white",
            "ticks": ""
           }
          },
          "scene": {
           "xaxis": {
            "backgroundcolor": "#E5ECF6",
            "gridcolor": "white",
            "gridwidth": 2,
            "linecolor": "white",
            "showbackground": true,
            "ticks": "",
            "zerolinecolor": "white"
           },
           "yaxis": {
            "backgroundcolor": "#E5ECF6",
            "gridcolor": "white",
            "gridwidth": 2,
            "linecolor": "white",
            "showbackground": true,
            "ticks": "",
            "zerolinecolor": "white"
           },
           "zaxis": {
            "backgroundcolor": "#E5ECF6",
            "gridcolor": "white",
            "gridwidth": 2,
            "linecolor": "white",
            "showbackground": true,
            "ticks": "",
            "zerolinecolor": "white"
           }
          },
          "shapedefaults": {
           "line": {
            "color": "#2a3f5f"
           }
          },
          "ternary": {
           "aaxis": {
            "gridcolor": "white",
            "linecolor": "white",
            "ticks": ""
           },
           "baxis": {
            "gridcolor": "white",
            "linecolor": "white",
            "ticks": ""
           },
           "bgcolor": "#E5ECF6",
           "caxis": {
            "gridcolor": "white",
            "linecolor": "white",
            "ticks": ""
           }
          },
          "title": {
           "x": 0.05
          },
          "xaxis": {
           "automargin": true,
           "gridcolor": "white",
           "linecolor": "white",
           "ticks": "",
           "title": {
            "standoff": 15
           },
           "zerolinecolor": "white",
           "zerolinewidth": 2
          },
          "yaxis": {
           "automargin": true,
           "gridcolor": "white",
           "linecolor": "white",
           "ticks": "",
           "title": {
            "standoff": 15
           },
           "zerolinecolor": "white",
           "zerolinewidth": 2
          }
         }
        },
        "title": {
         "text": "Std D2 by Alpha and Power"
        },
        "xaxis": {
         "anchor": "y",
         "domain": [
          0,
          1
         ],
         "title": {
          "text": "alpha"
         }
        },
        "yaxis": {
         "anchor": "x",
         "domain": [
          0,
          1
         ],
         "title": {
          "text": "std_d2"
         }
        }
       }
      }
     },
     "metadata": {},
     "output_type": "display_data"
    }
   ],
   "source": [
    "plot_measure('std_d2')"
   ]
  },
  {
   "cell_type": "code",
   "execution_count": 94,
   "metadata": {},
   "outputs": [],
   "source": [
    "def order_scores(by, ascending):\n",
    "    return score_df.sort_values(by, ascending=ascending).drop(columns=[c for c in score_df.columns if \"cy_\" in c]).head(10)"
   ]
  },
  {
   "cell_type": "code",
   "execution_count": 95,
   "metadata": {},
   "outputs": [
    {
     "data": {
      "text/html": [
       "<div>\n",
       "<style scoped>\n",
       "    .dataframe tbody tr th:only-of-type {\n",
       "        vertical-align: middle;\n",
       "    }\n",
       "\n",
       "    .dataframe tbody tr th {\n",
       "        vertical-align: top;\n",
       "    }\n",
       "\n",
       "    .dataframe thead th {\n",
       "        text-align: right;\n",
       "    }\n",
       "</style>\n",
       "<table border=\"1\" class=\"dataframe\">\n",
       "  <thead>\n",
       "    <tr style=\"text-align: right;\">\n",
       "      <th></th>\n",
       "      <th>alpha</th>\n",
       "      <th>power</th>\n",
       "      <th>model</th>\n",
       "      <th>ave_score</th>\n",
       "      <th>median_score</th>\n",
       "      <th>ave_mse</th>\n",
       "      <th>median_mse</th>\n",
       "      <th>ave_mae</th>\n",
       "      <th>median_mae</th>\n",
       "      <th>ave_mdae</th>\n",
       "      <th>median_mdae</th>\n",
       "      <th>ave_deviance</th>\n",
       "      <th>median_deviance</th>\n",
       "      <th>ave_d2</th>\n",
       "      <th>median_d2</th>\n",
       "    </tr>\n",
       "  </thead>\n",
       "  <tbody>\n",
       "    <tr>\n",
       "      <th>1</th>\n",
       "      <td>0.0</td>\n",
       "      <td>1</td>\n",
       "      <td>TweedieRegressor</td>\n",
       "      <td>0.959971</td>\n",
       "      <td>0.962349</td>\n",
       "      <td>0.000128</td>\n",
       "      <td>0.000119</td>\n",
       "      <td>0.005843</td>\n",
       "      <td>0.005686</td>\n",
       "      <td>0.002456</td>\n",
       "      <td>0.002428</td>\n",
       "      <td>0.001938</td>\n",
       "      <td>0.001922</td>\n",
       "      <td>0.959971</td>\n",
       "      <td>0.962349</td>\n",
       "    </tr>\n",
       "    <tr>\n",
       "      <th>2</th>\n",
       "      <td>0.0</td>\n",
       "      <td>1.5</td>\n",
       "      <td>TweedieRegressor</td>\n",
       "      <td>0.949606</td>\n",
       "      <td>0.948623</td>\n",
       "      <td>0.000134</td>\n",
       "      <td>0.000121</td>\n",
       "      <td>0.005771</td>\n",
       "      <td>0.005565</td>\n",
       "      <td>0.0022</td>\n",
       "      <td>0.002209</td>\n",
       "      <td>0.015351</td>\n",
       "      <td>0.015371</td>\n",
       "      <td>0.949606</td>\n",
       "      <td>0.948623</td>\n",
       "    </tr>\n",
       "    <tr>\n",
       "      <th>3</th>\n",
       "      <td>0.0</td>\n",
       "      <td>1.8</td>\n",
       "      <td>TweedieRegressor</td>\n",
       "      <td>0.929219</td>\n",
       "      <td>0.929773</td>\n",
       "      <td>0.000131</td>\n",
       "      <td>0.000117</td>\n",
       "      <td>0.005699</td>\n",
       "      <td>0.005456</td>\n",
       "      <td>0.002238</td>\n",
       "      <td>0.002218</td>\n",
       "      <td>0.070314</td>\n",
       "      <td>0.069894</td>\n",
       "      <td>0.929219</td>\n",
       "      <td>0.929773</td>\n",
       "    </tr>\n",
       "    <tr>\n",
       "      <th>4</th>\n",
       "      <td>0.0</td>\n",
       "      <td>2</td>\n",
       "      <td>TweedieRegressor</td>\n",
       "      <td>0.90802</td>\n",
       "      <td>0.909905</td>\n",
       "      <td>0.000128</td>\n",
       "      <td>0.000115</td>\n",
       "      <td>0.005624</td>\n",
       "      <td>0.005396</td>\n",
       "      <td>0.002288</td>\n",
       "      <td>0.002305</td>\n",
       "      <td>0.208241</td>\n",
       "      <td>0.203824</td>\n",
       "      <td>0.90802</td>\n",
       "      <td>0.909905</td>\n",
       "    </tr>\n",
       "    <tr>\n",
       "      <th>7</th>\n",
       "      <td>0.105</td>\n",
       "      <td>0</td>\n",
       "      <td>TweedieRegressor</td>\n",
       "      <td>0.874028</td>\n",
       "      <td>0.876597</td>\n",
       "      <td>0.000227</td>\n",
       "      <td>0.000227</td>\n",
       "      <td>0.00947</td>\n",
       "      <td>0.00943</td>\n",
       "      <td>0.00476</td>\n",
       "      <td>0.004818</td>\n",
       "      <td>0.000227</td>\n",
       "      <td>0.000227</td>\n",
       "      <td>0.874028</td>\n",
       "      <td>0.876597</td>\n",
       "    </tr>\n",
       "    <tr>\n",
       "      <th>11</th>\n",
       "      <td>0.105</td>\n",
       "      <td>2</td>\n",
       "      <td>TweedieRegressor</td>\n",
       "      <td>0.871689</td>\n",
       "      <td>0.873356</td>\n",
       "      <td>0.000162</td>\n",
       "      <td>0.000163</td>\n",
       "      <td>0.007373</td>\n",
       "      <td>0.007292</td>\n",
       "      <td>0.002866</td>\n",
       "      <td>0.002734</td>\n",
       "      <td>0.289898</td>\n",
       "      <td>0.284283</td>\n",
       "      <td>0.871689</td>\n",
       "      <td>0.873356</td>\n",
       "    </tr>\n",
       "    <tr>\n",
       "      <th>10</th>\n",
       "      <td>0.105</td>\n",
       "      <td>1.8</td>\n",
       "      <td>TweedieRegressor</td>\n",
       "      <td>0.837861</td>\n",
       "      <td>0.842883</td>\n",
       "      <td>0.000192</td>\n",
       "      <td>0.000192</td>\n",
       "      <td>0.009034</td>\n",
       "      <td>0.008994</td>\n",
       "      <td>0.004523</td>\n",
       "      <td>0.004426</td>\n",
       "      <td>0.161245</td>\n",
       "      <td>0.156454</td>\n",
       "      <td>0.837861</td>\n",
       "      <td>0.842883</td>\n",
       "    </tr>\n",
       "    <tr>\n",
       "      <th>14</th>\n",
       "      <td>0.211</td>\n",
       "      <td>0</td>\n",
       "      <td>TweedieRegressor</td>\n",
       "      <td>0.834879</td>\n",
       "      <td>0.833989</td>\n",
       "      <td>0.000302</td>\n",
       "      <td>0.0003</td>\n",
       "      <td>0.010539</td>\n",
       "      <td>0.010365</td>\n",
       "      <td>0.004301</td>\n",
       "      <td>0.004082</td>\n",
       "      <td>0.000302</td>\n",
       "      <td>0.0003</td>\n",
       "      <td>0.834879</td>\n",
       "      <td>0.833989</td>\n",
       "    </tr>\n",
       "    <tr>\n",
       "      <th>12</th>\n",
       "      <td>0.105</td>\n",
       "      <td>2.5</td>\n",
       "      <td>TweedieRegressor</td>\n",
       "      <td>0.827347</td>\n",
       "      <td>0.830386</td>\n",
       "      <td>0.000127</td>\n",
       "      <td>0.000129</td>\n",
       "      <td>0.005875</td>\n",
       "      <td>0.005888</td>\n",
       "      <td>0.002136</td>\n",
       "      <td>0.002155</td>\n",
       "      <td>3.506584</td>\n",
       "      <td>3.377708</td>\n",
       "      <td>0.827347</td>\n",
       "      <td>0.830386</td>\n",
       "    </tr>\n",
       "    <tr>\n",
       "      <th>19</th>\n",
       "      <td>0.211</td>\n",
       "      <td>2.5</td>\n",
       "      <td>TweedieRegressor</td>\n",
       "      <td>0.824445</td>\n",
       "      <td>0.823137</td>\n",
       "      <td>0.000135</td>\n",
       "      <td>0.000136</td>\n",
       "      <td>0.006339</td>\n",
       "      <td>0.00641</td>\n",
       "      <td>0.002117</td>\n",
       "      <td>0.002038</td>\n",
       "      <td>3.562804</td>\n",
       "      <td>3.444346</td>\n",
       "      <td>0.824445</td>\n",
       "      <td>0.823137</td>\n",
       "    </tr>\n",
       "  </tbody>\n",
       "</table>\n",
       "</div>"
      ],
      "text/plain": [
       "    alpha power             model ave_score median_score   ave_mse median_mse   \n",
       "1     0.0     1  TweedieRegressor  0.959971     0.962349  0.000128   0.000119  \\\n",
       "2     0.0   1.5  TweedieRegressor  0.949606     0.948623  0.000134   0.000121   \n",
       "3     0.0   1.8  TweedieRegressor  0.929219     0.929773  0.000131   0.000117   \n",
       "4     0.0     2  TweedieRegressor   0.90802     0.909905  0.000128   0.000115   \n",
       "7   0.105     0  TweedieRegressor  0.874028     0.876597  0.000227   0.000227   \n",
       "11  0.105     2  TweedieRegressor  0.871689     0.873356  0.000162   0.000163   \n",
       "10  0.105   1.8  TweedieRegressor  0.837861     0.842883  0.000192   0.000192   \n",
       "14  0.211     0  TweedieRegressor  0.834879     0.833989  0.000302     0.0003   \n",
       "12  0.105   2.5  TweedieRegressor  0.827347     0.830386  0.000127   0.000129   \n",
       "19  0.211   2.5  TweedieRegressor  0.824445     0.823137  0.000135   0.000136   \n",
       "\n",
       "     ave_mae median_mae  ave_mdae median_mdae ave_deviance median_deviance   \n",
       "1   0.005843   0.005686  0.002456    0.002428     0.001938        0.001922  \\\n",
       "2   0.005771   0.005565    0.0022    0.002209     0.015351        0.015371   \n",
       "3   0.005699   0.005456  0.002238    0.002218     0.070314        0.069894   \n",
       "4   0.005624   0.005396  0.002288    0.002305     0.208241        0.203824   \n",
       "7    0.00947    0.00943   0.00476    0.004818     0.000227        0.000227   \n",
       "11  0.007373   0.007292  0.002866    0.002734     0.289898        0.284283   \n",
       "10  0.009034   0.008994  0.004523    0.004426     0.161245        0.156454   \n",
       "14  0.010539   0.010365  0.004301    0.004082     0.000302          0.0003   \n",
       "12  0.005875   0.005888  0.002136    0.002155     3.506584        3.377708   \n",
       "19  0.006339    0.00641  0.002117    0.002038     3.562804        3.444346   \n",
       "\n",
       "      ave_d2 median_d2  \n",
       "1   0.959971  0.962349  \n",
       "2   0.949606  0.948623  \n",
       "3   0.929219  0.929773  \n",
       "4    0.90802  0.909905  \n",
       "7   0.874028  0.876597  \n",
       "11  0.871689  0.873356  \n",
       "10  0.837861  0.842883  \n",
       "14  0.834879  0.833989  \n",
       "12  0.827347  0.830386  \n",
       "19  0.824445  0.823137  "
      ]
     },
     "execution_count": 95,
     "metadata": {},
     "output_type": "execute_result"
    }
   ],
   "source": [
    "order_scores('ave_score', False)"
   ]
  },
  {
   "cell_type": "code",
   "execution_count": 97,
   "metadata": {},
   "outputs": [
    {
     "data": {
      "text/html": [
       "<div>\n",
       "<style scoped>\n",
       "    .dataframe tbody tr th:only-of-type {\n",
       "        vertical-align: middle;\n",
       "    }\n",
       "\n",
       "    .dataframe tbody tr th {\n",
       "        vertical-align: top;\n",
       "    }\n",
       "\n",
       "    .dataframe thead th {\n",
       "        text-align: right;\n",
       "    }\n",
       "</style>\n",
       "<table border=\"1\" class=\"dataframe\">\n",
       "  <thead>\n",
       "    <tr style=\"text-align: right;\">\n",
       "      <th></th>\n",
       "      <th>alpha</th>\n",
       "      <th>power</th>\n",
       "      <th>model</th>\n",
       "      <th>ave_score</th>\n",
       "      <th>median_score</th>\n",
       "      <th>ave_mse</th>\n",
       "      <th>median_mse</th>\n",
       "      <th>ave_mae</th>\n",
       "      <th>median_mae</th>\n",
       "      <th>ave_mdae</th>\n",
       "      <th>median_mdae</th>\n",
       "      <th>ave_deviance</th>\n",
       "      <th>median_deviance</th>\n",
       "      <th>ave_d2</th>\n",
       "      <th>median_d2</th>\n",
       "    </tr>\n",
       "  </thead>\n",
       "  <tbody>\n",
       "    <tr>\n",
       "      <th>13</th>\n",
       "      <td>0.105</td>\n",
       "      <td>3</td>\n",
       "      <td>TweedieRegressor</td>\n",
       "      <td>0.689843</td>\n",
       "      <td>0.688456</td>\n",
       "      <td>0.00011</td>\n",
       "      <td>0.000108</td>\n",
       "      <td>0.005275</td>\n",
       "      <td>0.005209</td>\n",
       "      <td>0.002175</td>\n",
       "      <td>0.002147</td>\n",
       "      <td>69.088016</td>\n",
       "      <td>66.418436</td>\n",
       "      <td>0.689843</td>\n",
       "      <td>0.688456</td>\n",
       "    </tr>\n",
       "    <tr>\n",
       "      <th>6</th>\n",
       "      <td>0.0</td>\n",
       "      <td>3</td>\n",
       "      <td>TweedieRegressor</td>\n",
       "      <td>0.686524</td>\n",
       "      <td>0.684458</td>\n",
       "      <td>0.000116</td>\n",
       "      <td>0.000103</td>\n",
       "      <td>0.005249</td>\n",
       "      <td>0.005102</td>\n",
       "      <td>0.00214</td>\n",
       "      <td>0.002051</td>\n",
       "      <td>69.786452</td>\n",
       "      <td>67.198553</td>\n",
       "      <td>0.686524</td>\n",
       "      <td>0.684458</td>\n",
       "    </tr>\n",
       "    <tr>\n",
       "      <th>20</th>\n",
       "      <td>0.211</td>\n",
       "      <td>3</td>\n",
       "      <td>TweedieRegressor</td>\n",
       "      <td>0.692389</td>\n",
       "      <td>0.691986</td>\n",
       "      <td>0.000117</td>\n",
       "      <td>0.000117</td>\n",
       "      <td>0.005559</td>\n",
       "      <td>0.005538</td>\n",
       "      <td>0.002228</td>\n",
       "      <td>0.002256</td>\n",
       "      <td>68.55387</td>\n",
       "      <td>65.901893</td>\n",
       "      <td>0.692389</td>\n",
       "      <td>0.691986</td>\n",
       "    </tr>\n",
       "    <tr>\n",
       "      <th>104</th>\n",
       "      <td>1.474</td>\n",
       "      <td>3</td>\n",
       "      <td>TweedieRegressor</td>\n",
       "      <td>0.700156</td>\n",
       "      <td>0.698999</td>\n",
       "      <td>0.000118</td>\n",
       "      <td>0.000119</td>\n",
       "      <td>0.006414</td>\n",
       "      <td>0.006437</td>\n",
       "      <td>0.002224</td>\n",
       "      <td>0.002189</td>\n",
       "      <td>66.926884</td>\n",
       "      <td>64.128521</td>\n",
       "      <td>0.700156</td>\n",
       "      <td>0.698999</td>\n",
       "    </tr>\n",
       "    <tr>\n",
       "      <th>97</th>\n",
       "      <td>1.368</td>\n",
       "      <td>3</td>\n",
       "      <td>TweedieRegressor</td>\n",
       "      <td>0.70025</td>\n",
       "      <td>0.699594</td>\n",
       "      <td>0.000118</td>\n",
       "      <td>0.000119</td>\n",
       "      <td>0.006396</td>\n",
       "      <td>0.006407</td>\n",
       "      <td>0.002224</td>\n",
       "      <td>0.002203</td>\n",
       "      <td>66.906991</td>\n",
       "      <td>64.135126</td>\n",
       "      <td>0.70025</td>\n",
       "      <td>0.699594</td>\n",
       "    </tr>\n",
       "    <tr>\n",
       "      <th>111</th>\n",
       "      <td>1.579</td>\n",
       "      <td>3</td>\n",
       "      <td>TweedieRegressor</td>\n",
       "      <td>0.699997</td>\n",
       "      <td>0.698605</td>\n",
       "      <td>0.000118</td>\n",
       "      <td>0.00012</td>\n",
       "      <td>0.006429</td>\n",
       "      <td>0.006465</td>\n",
       "      <td>0.002213</td>\n",
       "      <td>0.002167</td>\n",
       "      <td>66.960342</td>\n",
       "      <td>64.134596</td>\n",
       "      <td>0.699997</td>\n",
       "      <td>0.698605</td>\n",
       "    </tr>\n",
       "    <tr>\n",
       "      <th>90</th>\n",
       "      <td>1.263</td>\n",
       "      <td>3</td>\n",
       "      <td>TweedieRegressor</td>\n",
       "      <td>0.700272</td>\n",
       "      <td>0.700103</td>\n",
       "      <td>0.000118</td>\n",
       "      <td>0.000119</td>\n",
       "      <td>0.006375</td>\n",
       "      <td>0.006373</td>\n",
       "      <td>0.002233</td>\n",
       "      <td>0.002218</td>\n",
       "      <td>66.902426</td>\n",
       "      <td>64.155631</td>\n",
       "      <td>0.700272</td>\n",
       "      <td>0.700103</td>\n",
       "    </tr>\n",
       "    <tr>\n",
       "      <th>118</th>\n",
       "      <td>1.684</td>\n",
       "      <td>3</td>\n",
       "      <td>TweedieRegressor</td>\n",
       "      <td>0.69978</td>\n",
       "      <td>0.698528</td>\n",
       "      <td>0.000119</td>\n",
       "      <td>0.00012</td>\n",
       "      <td>0.006443</td>\n",
       "      <td>0.006493</td>\n",
       "      <td>0.002222</td>\n",
       "      <td>0.002176</td>\n",
       "      <td>67.005839</td>\n",
       "      <td>64.152145</td>\n",
       "      <td>0.69978</td>\n",
       "      <td>0.698528</td>\n",
       "    </tr>\n",
       "    <tr>\n",
       "      <th>83</th>\n",
       "      <td>1.158</td>\n",
       "      <td>3</td>\n",
       "      <td>TweedieRegressor</td>\n",
       "      <td>0.700208</td>\n",
       "      <td>0.700513</td>\n",
       "      <td>0.000119</td>\n",
       "      <td>0.000119</td>\n",
       "      <td>0.00635</td>\n",
       "      <td>0.006334</td>\n",
       "      <td>0.002244</td>\n",
       "      <td>0.002242</td>\n",
       "      <td>66.915648</td>\n",
       "      <td>64.192377</td>\n",
       "      <td>0.700208</td>\n",
       "      <td>0.700513</td>\n",
       "    </tr>\n",
       "    <tr>\n",
       "      <th>125</th>\n",
       "      <td>1.789</td>\n",
       "      <td>3</td>\n",
       "      <td>TweedieRegressor</td>\n",
       "      <td>0.699515</td>\n",
       "      <td>0.698406</td>\n",
       "      <td>0.000119</td>\n",
       "      <td>0.00012</td>\n",
       "      <td>0.006456</td>\n",
       "      <td>0.00652</td>\n",
       "      <td>0.002216</td>\n",
       "      <td>0.002163</td>\n",
       "      <td>67.06161</td>\n",
       "      <td>64.179134</td>\n",
       "      <td>0.699515</td>\n",
       "      <td>0.698406</td>\n",
       "    </tr>\n",
       "  </tbody>\n",
       "</table>\n",
       "</div>"
      ],
      "text/plain": [
       "     alpha power             model ave_score median_score   ave_mse   \n",
       "13   0.105     3  TweedieRegressor  0.689843     0.688456   0.00011  \\\n",
       "6      0.0     3  TweedieRegressor  0.686524     0.684458  0.000116   \n",
       "20   0.211     3  TweedieRegressor  0.692389     0.691986  0.000117   \n",
       "104  1.474     3  TweedieRegressor  0.700156     0.698999  0.000118   \n",
       "97   1.368     3  TweedieRegressor   0.70025     0.699594  0.000118   \n",
       "111  1.579     3  TweedieRegressor  0.699997     0.698605  0.000118   \n",
       "90   1.263     3  TweedieRegressor  0.700272     0.700103  0.000118   \n",
       "118  1.684     3  TweedieRegressor   0.69978     0.698528  0.000119   \n",
       "83   1.158     3  TweedieRegressor  0.700208     0.700513  0.000119   \n",
       "125  1.789     3  TweedieRegressor  0.699515     0.698406  0.000119   \n",
       "\n",
       "    median_mse   ave_mae median_mae  ave_mdae median_mdae ave_deviance   \n",
       "13    0.000108  0.005275   0.005209  0.002175    0.002147    69.088016  \\\n",
       "6     0.000103  0.005249   0.005102   0.00214    0.002051    69.786452   \n",
       "20    0.000117  0.005559   0.005538  0.002228    0.002256     68.55387   \n",
       "104   0.000119  0.006414   0.006437  0.002224    0.002189    66.926884   \n",
       "97    0.000119  0.006396   0.006407  0.002224    0.002203    66.906991   \n",
       "111    0.00012  0.006429   0.006465  0.002213    0.002167    66.960342   \n",
       "90    0.000119  0.006375   0.006373  0.002233    0.002218    66.902426   \n",
       "118    0.00012  0.006443   0.006493  0.002222    0.002176    67.005839   \n",
       "83    0.000119   0.00635   0.006334  0.002244    0.002242    66.915648   \n",
       "125    0.00012  0.006456    0.00652  0.002216    0.002163     67.06161   \n",
       "\n",
       "    median_deviance    ave_d2 median_d2  \n",
       "13        66.418436  0.689843  0.688456  \n",
       "6         67.198553  0.686524  0.684458  \n",
       "20        65.901893  0.692389  0.691986  \n",
       "104       64.128521  0.700156  0.698999  \n",
       "97        64.135126   0.70025  0.699594  \n",
       "111       64.134596  0.699997  0.698605  \n",
       "90        64.155631  0.700272  0.700103  \n",
       "118       64.152145   0.69978  0.698528  \n",
       "83        64.192377  0.700208  0.700513  \n",
       "125       64.179134  0.699515  0.698406  "
      ]
     },
     "execution_count": 97,
     "metadata": {},
     "output_type": "execute_result"
    }
   ],
   "source": [
    "order_scores('ave_mse', True)"
   ]
  },
  {
   "cell_type": "code",
   "execution_count": null,
   "metadata": {},
   "outputs": [],
   "source": []
  },
  {
   "cell_type": "code",
   "execution_count": 75,
   "metadata": {},
   "outputs": [
    {
     "data": {
      "text/html": [
       "<div>\n",
       "<style scoped>\n",
       "    .dataframe tbody tr th:only-of-type {\n",
       "        vertical-align: middle;\n",
       "    }\n",
       "\n",
       "    .dataframe tbody tr th {\n",
       "        vertical-align: top;\n",
       "    }\n",
       "\n",
       "    .dataframe thead th {\n",
       "        text-align: right;\n",
       "    }\n",
       "</style>\n",
       "<table border=\"1\" class=\"dataframe\">\n",
       "  <thead>\n",
       "    <tr style=\"text-align: right;\">\n",
       "      <th></th>\n",
       "      <th>TweedieRegressor_Alpha-0.0_P-0</th>\n",
       "      <th>TweedieRegressor_Alpha-0.0_P-1</th>\n",
       "      <th>TweedieRegressor_Alpha-0.0_P-1.5</th>\n",
       "      <th>TweedieRegressor_Alpha-0.0_P-1.8</th>\n",
       "      <th>TweedieRegressor_Alpha-0.0_P-2</th>\n",
       "      <th>TweedieRegressor_Alpha-0.0_P-2.5</th>\n",
       "      <th>TweedieRegressor_Alpha-0.0_P-3</th>\n",
       "      <th>TweedieRegressor_Alpha-0.105_P-0</th>\n",
       "      <th>TweedieRegressor_Alpha-0.105_P-1</th>\n",
       "      <th>TweedieRegressor_Alpha-0.105_P-1.5</th>\n",
       "      <th>...</th>\n",
       "      <th>TweedieRegressor_Alpha-1.895_P-2</th>\n",
       "      <th>TweedieRegressor_Alpha-1.895_P-2.5</th>\n",
       "      <th>TweedieRegressor_Alpha-1.895_P-3</th>\n",
       "      <th>TweedieRegressor_Alpha-2.0_P-0</th>\n",
       "      <th>TweedieRegressor_Alpha-2.0_P-1</th>\n",
       "      <th>TweedieRegressor_Alpha-2.0_P-1.5</th>\n",
       "      <th>TweedieRegressor_Alpha-2.0_P-1.8</th>\n",
       "      <th>TweedieRegressor_Alpha-2.0_P-2</th>\n",
       "      <th>TweedieRegressor_Alpha-2.0_P-2.5</th>\n",
       "      <th>TweedieRegressor_Alpha-2.0_P-3</th>\n",
       "    </tr>\n",
       "  </thead>\n",
       "  <tbody>\n",
       "    <tr>\n",
       "      <th>cy_19</th>\n",
       "      <td>79.23</td>\n",
       "      <td>96.51</td>\n",
       "      <td>94.76</td>\n",
       "      <td>92.03</td>\n",
       "      <td>89.52</td>\n",
       "      <td>80.32</td>\n",
       "      <td>67.61</td>\n",
       "      <td>85.79</td>\n",
       "      <td>12.15</td>\n",
       "      <td>70.19</td>\n",
       "      <td>...</td>\n",
       "      <td>32.37</td>\n",
       "      <td>74.14</td>\n",
       "      <td>67.34</td>\n",
       "      <td>15.88</td>\n",
       "      <td>-70.06</td>\n",
       "      <td>-27.03</td>\n",
       "      <td>4.87</td>\n",
       "      <td>30.28</td>\n",
       "      <td>73.74</td>\n",
       "      <td>67.30</td>\n",
       "    </tr>\n",
       "    <tr>\n",
       "      <th>cy_18</th>\n",
       "      <td>73.55</td>\n",
       "      <td>94.46</td>\n",
       "      <td>93.88</td>\n",
       "      <td>91.98</td>\n",
       "      <td>89.81</td>\n",
       "      <td>80.99</td>\n",
       "      <td>68.24</td>\n",
       "      <td>85.21</td>\n",
       "      <td>12.84</td>\n",
       "      <td>70.24</td>\n",
       "      <td>...</td>\n",
       "      <td>30.29</td>\n",
       "      <td>76.35</td>\n",
       "      <td>69.73</td>\n",
       "      <td>13.40</td>\n",
       "      <td>-70.03</td>\n",
       "      <td>-27.88</td>\n",
       "      <td>3.27</td>\n",
       "      <td>28.17</td>\n",
       "      <td>75.91</td>\n",
       "      <td>69.72</td>\n",
       "    </tr>\n",
       "    <tr>\n",
       "      <th>cy_17</th>\n",
       "      <td>78.12</td>\n",
       "      <td>96.05</td>\n",
       "      <td>94.72</td>\n",
       "      <td>93.03</td>\n",
       "      <td>91.18</td>\n",
       "      <td>83.16</td>\n",
       "      <td>70.22</td>\n",
       "      <td>87.92</td>\n",
       "      <td>12.69</td>\n",
       "      <td>68.40</td>\n",
       "      <td>...</td>\n",
       "      <td>26.07</td>\n",
       "      <td>74.90</td>\n",
       "      <td>71.66</td>\n",
       "      <td>10.20</td>\n",
       "      <td>-69.72</td>\n",
       "      <td>-28.89</td>\n",
       "      <td>0.73</td>\n",
       "      <td>24.02</td>\n",
       "      <td>74.27</td>\n",
       "      <td>71.65</td>\n",
       "    </tr>\n",
       "    <tr>\n",
       "      <th>cy_16</th>\n",
       "      <td>77.44</td>\n",
       "      <td>96.54</td>\n",
       "      <td>95.77</td>\n",
       "      <td>93.82</td>\n",
       "      <td>91.75</td>\n",
       "      <td>83.03</td>\n",
       "      <td>68.20</td>\n",
       "      <td>88.88</td>\n",
       "      <td>10.72</td>\n",
       "      <td>66.42</td>\n",
       "      <td>...</td>\n",
       "      <td>21.56</td>\n",
       "      <td>71.60</td>\n",
       "      <td>71.59</td>\n",
       "      <td>3.87</td>\n",
       "      <td>-73.07</td>\n",
       "      <td>-31.64</td>\n",
       "      <td>-2.64</td>\n",
       "      <td>19.56</td>\n",
       "      <td>70.83</td>\n",
       "      <td>71.60</td>\n",
       "    </tr>\n",
       "    <tr>\n",
       "      <th>cy_15</th>\n",
       "      <td>76.82</td>\n",
       "      <td>96.42</td>\n",
       "      <td>95.66</td>\n",
       "      <td>93.75</td>\n",
       "      <td>91.76</td>\n",
       "      <td>83.10</td>\n",
       "      <td>68.99</td>\n",
       "      <td>89.21</td>\n",
       "      <td>6.34</td>\n",
       "      <td>62.16</td>\n",
       "      <td>...</td>\n",
       "      <td>15.34</td>\n",
       "      <td>64.36</td>\n",
       "      <td>69.28</td>\n",
       "      <td>-6.79</td>\n",
       "      <td>-78.31</td>\n",
       "      <td>-35.81</td>\n",
       "      <td>-7.43</td>\n",
       "      <td>13.45</td>\n",
       "      <td>63.46</td>\n",
       "      <td>69.15</td>\n",
       "    </tr>\n",
       "    <tr>\n",
       "      <th>pct_chg</th>\n",
       "      <td>3.13</td>\n",
       "      <td>0.09</td>\n",
       "      <td>-0.94</td>\n",
       "      <td>-1.83</td>\n",
       "      <td>-2.44</td>\n",
       "      <td>-3.34</td>\n",
       "      <td>-1.99</td>\n",
       "      <td>-3.83</td>\n",
       "      <td>91.58</td>\n",
       "      <td>12.91</td>\n",
       "      <td>...</td>\n",
       "      <td>111.08</td>\n",
       "      <td>15.19</td>\n",
       "      <td>-2.81</td>\n",
       "      <td>-333.86</td>\n",
       "      <td>-10.54</td>\n",
       "      <td>-24.52</td>\n",
       "      <td>-165.48</td>\n",
       "      <td>125.09</td>\n",
       "      <td>16.20</td>\n",
       "      <td>-2.67</td>\n",
       "    </tr>\n",
       "    <tr>\n",
       "      <th>abs_pct_chg</th>\n",
       "      <td>3.13</td>\n",
       "      <td>0.09</td>\n",
       "      <td>0.94</td>\n",
       "      <td>1.83</td>\n",
       "      <td>2.44</td>\n",
       "      <td>3.34</td>\n",
       "      <td>1.99</td>\n",
       "      <td>3.83</td>\n",
       "      <td>91.58</td>\n",
       "      <td>12.91</td>\n",
       "      <td>...</td>\n",
       "      <td>111.08</td>\n",
       "      <td>15.19</td>\n",
       "      <td>2.81</td>\n",
       "      <td>333.86</td>\n",
       "      <td>10.54</td>\n",
       "      <td>24.52</td>\n",
       "      <td>165.48</td>\n",
       "      <td>125.09</td>\n",
       "      <td>16.20</td>\n",
       "      <td>2.67</td>\n",
       "    </tr>\n",
       "  </tbody>\n",
       "</table>\n",
       "<p>7 rows × 140 columns</p>\n",
       "</div>"
      ],
      "text/plain": [
       "             TweedieRegressor_Alpha-0.0_P-0  TweedieRegressor_Alpha-0.0_P-1   \n",
       "cy_19                                 79.23                           96.51  \\\n",
       "cy_18                                 73.55                           94.46   \n",
       "cy_17                                 78.12                           96.05   \n",
       "cy_16                                 77.44                           96.54   \n",
       "cy_15                                 76.82                           96.42   \n",
       "pct_chg                                3.13                            0.09   \n",
       "abs_pct_chg                            3.13                            0.09   \n",
       "\n",
       "             TweedieRegressor_Alpha-0.0_P-1.5   \n",
       "cy_19                                   94.76  \\\n",
       "cy_18                                   93.88   \n",
       "cy_17                                   94.72   \n",
       "cy_16                                   95.77   \n",
       "cy_15                                   95.66   \n",
       "pct_chg                                 -0.94   \n",
       "abs_pct_chg                              0.94   \n",
       "\n",
       "             TweedieRegressor_Alpha-0.0_P-1.8  TweedieRegressor_Alpha-0.0_P-2   \n",
       "cy_19                                   92.03                           89.52  \\\n",
       "cy_18                                   91.98                           89.81   \n",
       "cy_17                                   93.03                           91.18   \n",
       "cy_16                                   93.82                           91.75   \n",
       "cy_15                                   93.75                           91.76   \n",
       "pct_chg                                 -1.83                           -2.44   \n",
       "abs_pct_chg                              1.83                            2.44   \n",
       "\n",
       "             TweedieRegressor_Alpha-0.0_P-2.5  TweedieRegressor_Alpha-0.0_P-3   \n",
       "cy_19                                   80.32                           67.61  \\\n",
       "cy_18                                   80.99                           68.24   \n",
       "cy_17                                   83.16                           70.22   \n",
       "cy_16                                   83.03                           68.20   \n",
       "cy_15                                   83.10                           68.99   \n",
       "pct_chg                                 -3.34                           -1.99   \n",
       "abs_pct_chg                              3.34                            1.99   \n",
       "\n",
       "             TweedieRegressor_Alpha-0.105_P-0   \n",
       "cy_19                                   85.79  \\\n",
       "cy_18                                   85.21   \n",
       "cy_17                                   87.92   \n",
       "cy_16                                   88.88   \n",
       "cy_15                                   89.21   \n",
       "pct_chg                                 -3.83   \n",
       "abs_pct_chg                              3.83   \n",
       "\n",
       "             TweedieRegressor_Alpha-0.105_P-1   \n",
       "cy_19                                   12.15  \\\n",
       "cy_18                                   12.84   \n",
       "cy_17                                   12.69   \n",
       "cy_16                                   10.72   \n",
       "cy_15                                    6.34   \n",
       "pct_chg                                 91.58   \n",
       "abs_pct_chg                             91.58   \n",
       "\n",
       "             TweedieRegressor_Alpha-0.105_P-1.5  ...   \n",
       "cy_19                                     70.19  ...  \\\n",
       "cy_18                                     70.24  ...   \n",
       "cy_17                                     68.40  ...   \n",
       "cy_16                                     66.42  ...   \n",
       "cy_15                                     62.16  ...   \n",
       "pct_chg                                   12.91  ...   \n",
       "abs_pct_chg                               12.91  ...   \n",
       "\n",
       "             TweedieRegressor_Alpha-1.895_P-2   \n",
       "cy_19                                   32.37  \\\n",
       "cy_18                                   30.29   \n",
       "cy_17                                   26.07   \n",
       "cy_16                                   21.56   \n",
       "cy_15                                   15.34   \n",
       "pct_chg                                111.08   \n",
       "abs_pct_chg                            111.08   \n",
       "\n",
       "             TweedieRegressor_Alpha-1.895_P-2.5   \n",
       "cy_19                                     74.14  \\\n",
       "cy_18                                     76.35   \n",
       "cy_17                                     74.90   \n",
       "cy_16                                     71.60   \n",
       "cy_15                                     64.36   \n",
       "pct_chg                                   15.19   \n",
       "abs_pct_chg                               15.19   \n",
       "\n",
       "             TweedieRegressor_Alpha-1.895_P-3  TweedieRegressor_Alpha-2.0_P-0   \n",
       "cy_19                                   67.34                           15.88  \\\n",
       "cy_18                                   69.73                           13.40   \n",
       "cy_17                                   71.66                           10.20   \n",
       "cy_16                                   71.59                            3.87   \n",
       "cy_15                                   69.28                           -6.79   \n",
       "pct_chg                                 -2.81                         -333.86   \n",
       "abs_pct_chg                              2.81                          333.86   \n",
       "\n",
       "             TweedieRegressor_Alpha-2.0_P-1  TweedieRegressor_Alpha-2.0_P-1.5   \n",
       "cy_19                                -70.06                            -27.03  \\\n",
       "cy_18                                -70.03                            -27.88   \n",
       "cy_17                                -69.72                            -28.89   \n",
       "cy_16                                -73.07                            -31.64   \n",
       "cy_15                                -78.31                            -35.81   \n",
       "pct_chg                              -10.54                            -24.52   \n",
       "abs_pct_chg                           10.54                             24.52   \n",
       "\n",
       "             TweedieRegressor_Alpha-2.0_P-1.8  TweedieRegressor_Alpha-2.0_P-2   \n",
       "cy_19                                    4.87                           30.28  \\\n",
       "cy_18                                    3.27                           28.17   \n",
       "cy_17                                    0.73                           24.02   \n",
       "cy_16                                   -2.64                           19.56   \n",
       "cy_15                                   -7.43                           13.45   \n",
       "pct_chg                               -165.48                          125.09   \n",
       "abs_pct_chg                            165.48                          125.09   \n",
       "\n",
       "             TweedieRegressor_Alpha-2.0_P-2.5  TweedieRegressor_Alpha-2.0_P-3  \n",
       "cy_19                                   73.74                           67.30  \n",
       "cy_18                                   75.91                           69.72  \n",
       "cy_17                                   74.27                           71.65  \n",
       "cy_16                                   70.83                           71.60  \n",
       "cy_15                                   63.46                           69.15  \n",
       "pct_chg                                 16.20                           -2.67  \n",
       "abs_pct_chg                             16.20                            2.67  \n",
       "\n",
       "[7 rows x 140 columns]"
      ]
     },
     "execution_count": 75,
     "metadata": {},
     "output_type": "execute_result"
    }
   ],
   "source": [
    "tweedie_scores = 100*pd.DataFrame(scores)\n",
    "tweedie_scores.loc['pct_chg'] = 100*(tweedie_scores.loc['cy_19'] / tweedie_scores.loc['cy_15'] - 1)\n",
    "tweedie_scores.loc['abs_pct_chg'] = tweedie_scores.loc['pct_chg'].abs()\n",
    "tweedie_scores = tweedie_scores.round(2)\n",
    "tweedie_scores"
   ]
  },
  {
   "cell_type": "code",
   "execution_count": 77,
   "metadata": {},
   "outputs": [
    {
     "data": {
      "text/html": [
       "<div>\n",
       "<style scoped>\n",
       "    .dataframe tbody tr th:only-of-type {\n",
       "        vertical-align: middle;\n",
       "    }\n",
       "\n",
       "    .dataframe tbody tr th {\n",
       "        vertical-align: top;\n",
       "    }\n",
       "\n",
       "    .dataframe thead th {\n",
       "        text-align: right;\n",
       "    }\n",
       "</style>\n",
       "<table border=\"1\" class=\"dataframe\">\n",
       "  <thead>\n",
       "    <tr style=\"text-align: right;\">\n",
       "      <th></th>\n",
       "      <th>index</th>\n",
       "      <th>abs_pct_chg</th>\n",
       "    </tr>\n",
       "  </thead>\n",
       "  <tbody>\n",
       "    <tr>\n",
       "      <th>0</th>\n",
       "      <td>TweedieRegressor_Alpha-0.0_P-1</td>\n",
       "      <td>0.09</td>\n",
       "    </tr>\n",
       "    <tr>\n",
       "      <th>1</th>\n",
       "      <td>TweedieRegressor_Alpha-0.421_P-2.5</td>\n",
       "      <td>0.09</td>\n",
       "    </tr>\n",
       "    <tr>\n",
       "      <th>2</th>\n",
       "      <td>TweedieRegressor_Alpha-0.211_P-0</td>\n",
       "      <td>0.38</td>\n",
       "    </tr>\n",
       "    <tr>\n",
       "      <th>3</th>\n",
       "      <td>TweedieRegressor_Alpha-0.0_P-1.5</td>\n",
       "      <td>0.94</td>\n",
       "    </tr>\n",
       "    <tr>\n",
       "      <th>4</th>\n",
       "      <td>TweedieRegressor_Alpha-0.316_P-2.5</td>\n",
       "      <td>1.15</td>\n",
       "    </tr>\n",
       "    <tr>\n",
       "      <th>...</th>\n",
       "      <td>...</td>\n",
       "      <td>...</td>\n",
       "    </tr>\n",
       "    <tr>\n",
       "      <th>135</th>\n",
       "      <td>TweedieRegressor_Alpha-1.895_P-0</td>\n",
       "      <td>616.83</td>\n",
       "    </tr>\n",
       "    <tr>\n",
       "      <th>136</th>\n",
       "      <td>TweedieRegressor_Alpha-1.684_P-0</td>\n",
       "      <td>632.26</td>\n",
       "    </tr>\n",
       "    <tr>\n",
       "      <th>137</th>\n",
       "      <td>TweedieRegressor_Alpha-1.474_P-1.8</td>\n",
       "      <td>695.55</td>\n",
       "    </tr>\n",
       "    <tr>\n",
       "      <th>138</th>\n",
       "      <td>TweedieRegressor_Alpha-1.579_P-1.8</td>\n",
       "      <td>4742.92</td>\n",
       "    </tr>\n",
       "    <tr>\n",
       "      <th>139</th>\n",
       "      <td>TweedieRegressor_Alpha-1.789_P-0</td>\n",
       "      <td>10420.44</td>\n",
       "    </tr>\n",
       "  </tbody>\n",
       "</table>\n",
       "<p>140 rows × 2 columns</p>\n",
       "</div>"
      ],
      "text/plain": [
       "                                  index  abs_pct_chg\n",
       "0        TweedieRegressor_Alpha-0.0_P-1         0.09\n",
       "1    TweedieRegressor_Alpha-0.421_P-2.5         0.09\n",
       "2      TweedieRegressor_Alpha-0.211_P-0         0.38\n",
       "3      TweedieRegressor_Alpha-0.0_P-1.5         0.94\n",
       "4    TweedieRegressor_Alpha-0.316_P-2.5         1.15\n",
       "..                                  ...          ...\n",
       "135    TweedieRegressor_Alpha-1.895_P-0       616.83\n",
       "136    TweedieRegressor_Alpha-1.684_P-0       632.26\n",
       "137  TweedieRegressor_Alpha-1.474_P-1.8       695.55\n",
       "138  TweedieRegressor_Alpha-1.579_P-1.8      4742.92\n",
       "139    TweedieRegressor_Alpha-1.789_P-0     10420.44\n",
       "\n",
       "[140 rows x 2 columns]"
      ]
     },
     "execution_count": 77,
     "metadata": {},
     "output_type": "execute_result"
    }
   ],
   "source": [
    "tweedie_scores.loc['abs_pct_chg'].sort_values().reset_index()"
   ]
  },
  {
   "cell_type": "code",
   "execution_count": null,
   "metadata": {},
   "outputs": [],
   "source": [
    "\n",
    "\n",
    "    # # XGBRegressor\n",
    "    # print('\\nXGB REGRESSOR')\n",
    "    # print('-------------')\n",
    "    # for n, d, l, rl, ra, g, mcw, s in itertools.product(\n",
    "    #     xgb_grid['n_estimators'], xgb_grid['max_depth'], xgb_grid['learning_rate'],\n",
    "    #     xgb_grid['reg_lambda'], xgb_grid['reg_alpha'],\n",
    "    #     xgb_grid['gamma'], xgb_grid['min_child_weight'], xgb_grid['subsample']\n",
    "    # ):\n",
    "    #     print(f'XGBRegressor_{n}_{d}_{l}_{rl}_{ra}_{g}_{mcw}_{s}')\n",
    "    #     models[f'XGBRegressor_{n}_{d}_{l}_{rl}_{ra}_{g}_{mcw}_{s}'] = XGBRegressor(\n",
    "    #         n_estimators=n, max_depth=d, learning_rate=l, reg_lambda=rl,\n",
    "    #         reg_alpha=ra, gamma=g, min_child_weight=mcw, subsample=s\n",
    "    #     ).fit(X_train, y_train)\n",
    "    #     scores[f'XGBRegressor_{n}_{d}_{l}_{rl}_{ra}_{g}_{mcw}_{s}'] = models[f'XGBRegressor_{n}_{d}_{l}_{rl}_{ra}_{g}_{mcw}_{s}'].score(X_test, y_test)"
   ]
  },
  {
   "cell_type": "code",
   "execution_count": 39,
   "metadata": {},
   "outputs": [
    {
     "data": {
      "text/html": [
       "<div>\n",
       "<style scoped>\n",
       "    .dataframe tbody tr th:only-of-type {\n",
       "        vertical-align: middle;\n",
       "    }\n",
       "\n",
       "    .dataframe tbody tr th {\n",
       "        vertical-align: top;\n",
       "    }\n",
       "\n",
       "    .dataframe thead th {\n",
       "        text-align: right;\n",
       "    }\n",
       "</style>\n",
       "<table border=\"1\" class=\"dataframe\">\n",
       "  <thead>\n",
       "    <tr style=\"text-align: right;\">\n",
       "      <th></th>\n",
       "      <th>cal_0002</th>\n",
       "      <th>cal_0003</th>\n",
       "      <th>cal_0004</th>\n",
       "      <th>cal_0005</th>\n",
       "      <th>cal_0006</th>\n",
       "      <th>cal_0007</th>\n",
       "      <th>cal_0008</th>\n",
       "      <th>cal_0009</th>\n",
       "      <th>cal_0010</th>\n",
       "      <th>cal_0011</th>\n",
       "      <th>...</th>\n",
       "      <th>cal_0030</th>\n",
       "      <th>cal_0031</th>\n",
       "      <th>cal_0032</th>\n",
       "      <th>cal_0033</th>\n",
       "      <th>cal_0034</th>\n",
       "      <th>cal_0035</th>\n",
       "      <th>cal_0036</th>\n",
       "      <th>cal_0037</th>\n",
       "      <th>cal_0038</th>\n",
       "      <th>cal_0039</th>\n",
       "    </tr>\n",
       "  </thead>\n",
       "  <tbody>\n",
       "    <tr>\n",
       "      <th>0</th>\n",
       "      <td>0</td>\n",
       "      <td>0</td>\n",
       "      <td>0</td>\n",
       "      <td>0</td>\n",
       "      <td>0</td>\n",
       "      <td>0</td>\n",
       "      <td>0</td>\n",
       "      <td>0</td>\n",
       "      <td>0</td>\n",
       "      <td>0</td>\n",
       "      <td>...</td>\n",
       "      <td>0</td>\n",
       "      <td>0</td>\n",
       "      <td>0</td>\n",
       "      <td>0</td>\n",
       "      <td>0</td>\n",
       "      <td>0</td>\n",
       "      <td>0</td>\n",
       "      <td>0</td>\n",
       "      <td>0</td>\n",
       "      <td>0</td>\n",
       "    </tr>\n",
       "    <tr>\n",
       "      <th>1</th>\n",
       "      <td>1</td>\n",
       "      <td>0</td>\n",
       "      <td>0</td>\n",
       "      <td>0</td>\n",
       "      <td>0</td>\n",
       "      <td>0</td>\n",
       "      <td>0</td>\n",
       "      <td>0</td>\n",
       "      <td>0</td>\n",
       "      <td>0</td>\n",
       "      <td>...</td>\n",
       "      <td>0</td>\n",
       "      <td>0</td>\n",
       "      <td>0</td>\n",
       "      <td>0</td>\n",
       "      <td>0</td>\n",
       "      <td>0</td>\n",
       "      <td>0</td>\n",
       "      <td>0</td>\n",
       "      <td>0</td>\n",
       "      <td>0</td>\n",
       "    </tr>\n",
       "    <tr>\n",
       "      <th>2</th>\n",
       "      <td>1</td>\n",
       "      <td>1</td>\n",
       "      <td>0</td>\n",
       "      <td>0</td>\n",
       "      <td>0</td>\n",
       "      <td>0</td>\n",
       "      <td>0</td>\n",
       "      <td>0</td>\n",
       "      <td>0</td>\n",
       "      <td>0</td>\n",
       "      <td>...</td>\n",
       "      <td>0</td>\n",
       "      <td>0</td>\n",
       "      <td>0</td>\n",
       "      <td>0</td>\n",
       "      <td>0</td>\n",
       "      <td>0</td>\n",
       "      <td>0</td>\n",
       "      <td>0</td>\n",
       "      <td>0</td>\n",
       "      <td>0</td>\n",
       "    </tr>\n",
       "    <tr>\n",
       "      <th>3</th>\n",
       "      <td>1</td>\n",
       "      <td>1</td>\n",
       "      <td>1</td>\n",
       "      <td>0</td>\n",
       "      <td>0</td>\n",
       "      <td>0</td>\n",
       "      <td>0</td>\n",
       "      <td>0</td>\n",
       "      <td>0</td>\n",
       "      <td>0</td>\n",
       "      <td>...</td>\n",
       "      <td>0</td>\n",
       "      <td>0</td>\n",
       "      <td>0</td>\n",
       "      <td>0</td>\n",
       "      <td>0</td>\n",
       "      <td>0</td>\n",
       "      <td>0</td>\n",
       "      <td>0</td>\n",
       "      <td>0</td>\n",
       "      <td>0</td>\n",
       "    </tr>\n",
       "    <tr>\n",
       "      <th>4</th>\n",
       "      <td>1</td>\n",
       "      <td>1</td>\n",
       "      <td>1</td>\n",
       "      <td>1</td>\n",
       "      <td>0</td>\n",
       "      <td>0</td>\n",
       "      <td>0</td>\n",
       "      <td>0</td>\n",
       "      <td>0</td>\n",
       "      <td>0</td>\n",
       "      <td>...</td>\n",
       "      <td>0</td>\n",
       "      <td>0</td>\n",
       "      <td>0</td>\n",
       "      <td>0</td>\n",
       "      <td>0</td>\n",
       "      <td>0</td>\n",
       "      <td>0</td>\n",
       "      <td>0</td>\n",
       "      <td>0</td>\n",
       "      <td>0</td>\n",
       "    </tr>\n",
       "    <tr>\n",
       "      <th>...</th>\n",
       "      <td>...</td>\n",
       "      <td>...</td>\n",
       "      <td>...</td>\n",
       "      <td>...</td>\n",
       "      <td>...</td>\n",
       "      <td>...</td>\n",
       "      <td>...</td>\n",
       "      <td>...</td>\n",
       "      <td>...</td>\n",
       "      <td>...</td>\n",
       "      <td>...</td>\n",
       "      <td>...</td>\n",
       "      <td>...</td>\n",
       "      <td>...</td>\n",
       "      <td>...</td>\n",
       "      <td>...</td>\n",
       "      <td>...</td>\n",
       "      <td>...</td>\n",
       "      <td>...</td>\n",
       "      <td>...</td>\n",
       "      <td>...</td>\n",
       "    </tr>\n",
       "    <tr>\n",
       "      <th>395</th>\n",
       "      <td>1</td>\n",
       "      <td>1</td>\n",
       "      <td>1</td>\n",
       "      <td>1</td>\n",
       "      <td>1</td>\n",
       "      <td>1</td>\n",
       "      <td>1</td>\n",
       "      <td>1</td>\n",
       "      <td>1</td>\n",
       "      <td>1</td>\n",
       "      <td>...</td>\n",
       "      <td>1</td>\n",
       "      <td>1</td>\n",
       "      <td>1</td>\n",
       "      <td>1</td>\n",
       "      <td>1</td>\n",
       "      <td>1</td>\n",
       "      <td>0</td>\n",
       "      <td>0</td>\n",
       "      <td>0</td>\n",
       "      <td>0</td>\n",
       "    </tr>\n",
       "    <tr>\n",
       "      <th>396</th>\n",
       "      <td>1</td>\n",
       "      <td>1</td>\n",
       "      <td>1</td>\n",
       "      <td>1</td>\n",
       "      <td>1</td>\n",
       "      <td>1</td>\n",
       "      <td>1</td>\n",
       "      <td>1</td>\n",
       "      <td>1</td>\n",
       "      <td>1</td>\n",
       "      <td>...</td>\n",
       "      <td>1</td>\n",
       "      <td>1</td>\n",
       "      <td>1</td>\n",
       "      <td>1</td>\n",
       "      <td>1</td>\n",
       "      <td>1</td>\n",
       "      <td>1</td>\n",
       "      <td>0</td>\n",
       "      <td>0</td>\n",
       "      <td>0</td>\n",
       "    </tr>\n",
       "    <tr>\n",
       "      <th>397</th>\n",
       "      <td>1</td>\n",
       "      <td>1</td>\n",
       "      <td>1</td>\n",
       "      <td>1</td>\n",
       "      <td>1</td>\n",
       "      <td>1</td>\n",
       "      <td>1</td>\n",
       "      <td>1</td>\n",
       "      <td>1</td>\n",
       "      <td>1</td>\n",
       "      <td>...</td>\n",
       "      <td>1</td>\n",
       "      <td>1</td>\n",
       "      <td>1</td>\n",
       "      <td>1</td>\n",
       "      <td>1</td>\n",
       "      <td>1</td>\n",
       "      <td>1</td>\n",
       "      <td>1</td>\n",
       "      <td>0</td>\n",
       "      <td>0</td>\n",
       "    </tr>\n",
       "    <tr>\n",
       "      <th>398</th>\n",
       "      <td>1</td>\n",
       "      <td>1</td>\n",
       "      <td>1</td>\n",
       "      <td>1</td>\n",
       "      <td>1</td>\n",
       "      <td>1</td>\n",
       "      <td>1</td>\n",
       "      <td>1</td>\n",
       "      <td>1</td>\n",
       "      <td>1</td>\n",
       "      <td>...</td>\n",
       "      <td>1</td>\n",
       "      <td>1</td>\n",
       "      <td>1</td>\n",
       "      <td>1</td>\n",
       "      <td>1</td>\n",
       "      <td>1</td>\n",
       "      <td>1</td>\n",
       "      <td>1</td>\n",
       "      <td>1</td>\n",
       "      <td>0</td>\n",
       "    </tr>\n",
       "    <tr>\n",
       "      <th>399</th>\n",
       "      <td>1</td>\n",
       "      <td>1</td>\n",
       "      <td>1</td>\n",
       "      <td>1</td>\n",
       "      <td>1</td>\n",
       "      <td>1</td>\n",
       "      <td>1</td>\n",
       "      <td>1</td>\n",
       "      <td>1</td>\n",
       "      <td>1</td>\n",
       "      <td>...</td>\n",
       "      <td>1</td>\n",
       "      <td>1</td>\n",
       "      <td>1</td>\n",
       "      <td>1</td>\n",
       "      <td>1</td>\n",
       "      <td>1</td>\n",
       "      <td>1</td>\n",
       "      <td>1</td>\n",
       "      <td>1</td>\n",
       "      <td>1</td>\n",
       "    </tr>\n",
       "  </tbody>\n",
       "</table>\n",
       "<p>400 rows × 38 columns</p>\n",
       "</div>"
      ],
      "text/plain": [
       "     cal_0002  cal_0003  cal_0004  cal_0005  cal_0006  cal_0007  cal_0008   \n",
       "0           0         0         0         0         0         0         0  \\\n",
       "1           1         0         0         0         0         0         0   \n",
       "2           1         1         0         0         0         0         0   \n",
       "3           1         1         1         0         0         0         0   \n",
       "4           1         1         1         1         0         0         0   \n",
       "..        ...       ...       ...       ...       ...       ...       ...   \n",
       "395         1         1         1         1         1         1         1   \n",
       "396         1         1         1         1         1         1         1   \n",
       "397         1         1         1         1         1         1         1   \n",
       "398         1         1         1         1         1         1         1   \n",
       "399         1         1         1         1         1         1         1   \n",
       "\n",
       "     cal_0009  cal_0010  cal_0011  ...  cal_0030  cal_0031  cal_0032   \n",
       "0           0         0         0  ...         0         0         0  \\\n",
       "1           0         0         0  ...         0         0         0   \n",
       "2           0         0         0  ...         0         0         0   \n",
       "3           0         0         0  ...         0         0         0   \n",
       "4           0         0         0  ...         0         0         0   \n",
       "..        ...       ...       ...  ...       ...       ...       ...   \n",
       "395         1         1         1  ...         1         1         1   \n",
       "396         1         1         1  ...         1         1         1   \n",
       "397         1         1         1  ...         1         1         1   \n",
       "398         1         1         1  ...         1         1         1   \n",
       "399         1         1         1  ...         1         1         1   \n",
       "\n",
       "     cal_0033  cal_0034  cal_0035  cal_0036  cal_0037  cal_0038  cal_0039  \n",
       "0           0         0         0         0         0         0         0  \n",
       "1           0         0         0         0         0         0         0  \n",
       "2           0         0         0         0         0         0         0  \n",
       "3           0         0         0         0         0         0         0  \n",
       "4           0         0         0         0         0         0         0  \n",
       "..        ...       ...       ...       ...       ...       ...       ...  \n",
       "395         1         1         1         0         0         0         0  \n",
       "396         1         1         1         1         0         0         0  \n",
       "397         1         1         1         1         1         0         0  \n",
       "398         1         1         1         1         1         1         0  \n",
       "399         1         1         1         1         1         1         1  \n",
       "\n",
       "[400 rows x 38 columns]"
      ]
     },
     "execution_count": 39,
     "metadata": {},
     "output_type": "execute_result"
    }
   ],
   "source": [
    "r.paid_loss.get_X_cal()"
   ]
  },
  {
   "cell_type": "code",
   "execution_count": 40,
   "metadata": {},
   "outputs": [
    {
     "data": {
      "text/html": [
       "<div>\n",
       "<style scoped>\n",
       "    .dataframe tbody tr th:only-of-type {\n",
       "        vertical-align: middle;\n",
       "    }\n",
       "\n",
       "    .dataframe tbody tr th {\n",
       "        vertical-align: top;\n",
       "    }\n",
       "\n",
       "    .dataframe thead th {\n",
       "        text-align: right;\n",
       "    }\n",
       "</style>\n",
       "<table border=\"1\" class=\"dataframe\">\n",
       "  <thead>\n",
       "    <tr style=\"text-align: right;\">\n",
       "      <th></th>\n",
       "      <th>ay</th>\n",
       "      <th>dev</th>\n",
       "      <th>cal</th>\n",
       "    </tr>\n",
       "  </thead>\n",
       "  <tbody>\n",
       "    <tr>\n",
       "      <th>0</th>\n",
       "      <td>2003</td>\n",
       "      <td>12</td>\n",
       "      <td>1</td>\n",
       "    </tr>\n",
       "    <tr>\n",
       "      <th>1</th>\n",
       "      <td>2004</td>\n",
       "      <td>12</td>\n",
       "      <td>2</td>\n",
       "    </tr>\n",
       "    <tr>\n",
       "      <th>2</th>\n",
       "      <td>2005</td>\n",
       "      <td>12</td>\n",
       "      <td>3</td>\n",
       "    </tr>\n",
       "    <tr>\n",
       "      <th>3</th>\n",
       "      <td>2006</td>\n",
       "      <td>12</td>\n",
       "      <td>4</td>\n",
       "    </tr>\n",
       "    <tr>\n",
       "      <th>4</th>\n",
       "      <td>2007</td>\n",
       "      <td>12</td>\n",
       "      <td>5</td>\n",
       "    </tr>\n",
       "    <tr>\n",
       "      <th>...</th>\n",
       "      <td>...</td>\n",
       "      <td>...</td>\n",
       "      <td>...</td>\n",
       "    </tr>\n",
       "    <tr>\n",
       "      <th>395</th>\n",
       "      <td>2018</td>\n",
       "      <td>240</td>\n",
       "      <td>35</td>\n",
       "    </tr>\n",
       "    <tr>\n",
       "      <th>396</th>\n",
       "      <td>2019</td>\n",
       "      <td>240</td>\n",
       "      <td>36</td>\n",
       "    </tr>\n",
       "    <tr>\n",
       "      <th>397</th>\n",
       "      <td>2020</td>\n",
       "      <td>240</td>\n",
       "      <td>37</td>\n",
       "    </tr>\n",
       "    <tr>\n",
       "      <th>398</th>\n",
       "      <td>2021</td>\n",
       "      <td>240</td>\n",
       "      <td>38</td>\n",
       "    </tr>\n",
       "    <tr>\n",
       "      <th>399</th>\n",
       "      <td>2022</td>\n",
       "      <td>240</td>\n",
       "      <td>39</td>\n",
       "    </tr>\n",
       "  </tbody>\n",
       "</table>\n",
       "<p>400 rows × 3 columns</p>\n",
       "</div>"
      ],
      "text/plain": [
       "       ay  dev  cal\n",
       "0    2003   12    1\n",
       "1    2004   12    2\n",
       "2    2005   12    3\n",
       "3    2006   12    4\n",
       "4    2007   12    5\n",
       "..    ...  ...  ...\n",
       "395  2018  240   35\n",
       "396  2019  240   36\n",
       "397  2020  240   37\n",
       "398  2021  240   38\n",
       "399  2022  240   39\n",
       "\n",
       "[400 rows x 3 columns]"
      ]
     },
     "execution_count": 40,
     "metadata": {},
     "output_type": "execute_result"
    }
   ],
   "source": [
    "r.paid_loss.X_id"
   ]
  },
  {
   "cell_type": "code",
   "execution_count": 41,
   "metadata": {},
   "outputs": [
    {
     "data": {
      "text/html": [
       "<div>\n",
       "<style scoped>\n",
       "    .dataframe tbody tr th:only-of-type {\n",
       "        vertical-align: middle;\n",
       "    }\n",
       "\n",
       "    .dataframe tbody tr th {\n",
       "        vertical-align: top;\n",
       "    }\n",
       "\n",
       "    .dataframe thead th {\n",
       "        text-align: right;\n",
       "    }\n",
       "</style>\n",
       "<table border=\"1\" class=\"dataframe\">\n",
       "  <thead>\n",
       "    <tr style=\"text-align: right;\">\n",
       "      <th></th>\n",
       "      <th>12</th>\n",
       "      <th>24</th>\n",
       "      <th>36</th>\n",
       "      <th>48</th>\n",
       "      <th>60</th>\n",
       "      <th>72</th>\n",
       "      <th>84</th>\n",
       "      <th>96</th>\n",
       "      <th>108</th>\n",
       "      <th>120</th>\n",
       "      <th>132</th>\n",
       "      <th>144</th>\n",
       "      <th>156</th>\n",
       "      <th>168</th>\n",
       "      <th>180</th>\n",
       "      <th>192</th>\n",
       "      <th>204</th>\n",
       "      <th>216</th>\n",
       "      <th>228</th>\n",
       "      <th>240</th>\n",
       "    </tr>\n",
       "    <tr>\n",
       "      <th>Acc. Year</th>\n",
       "      <th></th>\n",
       "      <th></th>\n",
       "      <th></th>\n",
       "      <th></th>\n",
       "      <th></th>\n",
       "      <th></th>\n",
       "      <th></th>\n",
       "      <th></th>\n",
       "      <th></th>\n",
       "      <th></th>\n",
       "      <th></th>\n",
       "      <th></th>\n",
       "      <th></th>\n",
       "      <th></th>\n",
       "      <th></th>\n",
       "      <th></th>\n",
       "      <th></th>\n",
       "      <th></th>\n",
       "      <th></th>\n",
       "      <th></th>\n",
       "    </tr>\n",
       "  </thead>\n",
       "  <tbody>\n",
       "    <tr>\n",
       "      <th>2003-01-01</th>\n",
       "      <td>1</td>\n",
       "      <td>2</td>\n",
       "      <td>3</td>\n",
       "      <td>4</td>\n",
       "      <td>5</td>\n",
       "      <td>6</td>\n",
       "      <td>7</td>\n",
       "      <td>8</td>\n",
       "      <td>9</td>\n",
       "      <td>10</td>\n",
       "      <td>11</td>\n",
       "      <td>12</td>\n",
       "      <td>13</td>\n",
       "      <td>14</td>\n",
       "      <td>15</td>\n",
       "      <td>16</td>\n",
       "      <td>17</td>\n",
       "      <td>18</td>\n",
       "      <td>19</td>\n",
       "      <td>20</td>\n",
       "    </tr>\n",
       "    <tr>\n",
       "      <th>2004-01-01</th>\n",
       "      <td>2</td>\n",
       "      <td>3</td>\n",
       "      <td>4</td>\n",
       "      <td>5</td>\n",
       "      <td>6</td>\n",
       "      <td>7</td>\n",
       "      <td>8</td>\n",
       "      <td>9</td>\n",
       "      <td>10</td>\n",
       "      <td>11</td>\n",
       "      <td>12</td>\n",
       "      <td>13</td>\n",
       "      <td>14</td>\n",
       "      <td>15</td>\n",
       "      <td>16</td>\n",
       "      <td>17</td>\n",
       "      <td>18</td>\n",
       "      <td>19</td>\n",
       "      <td>20</td>\n",
       "      <td>21</td>\n",
       "    </tr>\n",
       "    <tr>\n",
       "      <th>2005-01-01</th>\n",
       "      <td>3</td>\n",
       "      <td>4</td>\n",
       "      <td>5</td>\n",
       "      <td>6</td>\n",
       "      <td>7</td>\n",
       "      <td>8</td>\n",
       "      <td>9</td>\n",
       "      <td>10</td>\n",
       "      <td>11</td>\n",
       "      <td>12</td>\n",
       "      <td>13</td>\n",
       "      <td>14</td>\n",
       "      <td>15</td>\n",
       "      <td>16</td>\n",
       "      <td>17</td>\n",
       "      <td>18</td>\n",
       "      <td>19</td>\n",
       "      <td>20</td>\n",
       "      <td>21</td>\n",
       "      <td>22</td>\n",
       "    </tr>\n",
       "    <tr>\n",
       "      <th>2006-01-01</th>\n",
       "      <td>4</td>\n",
       "      <td>5</td>\n",
       "      <td>6</td>\n",
       "      <td>7</td>\n",
       "      <td>8</td>\n",
       "      <td>9</td>\n",
       "      <td>10</td>\n",
       "      <td>11</td>\n",
       "      <td>12</td>\n",
       "      <td>13</td>\n",
       "      <td>14</td>\n",
       "      <td>15</td>\n",
       "      <td>16</td>\n",
       "      <td>17</td>\n",
       "      <td>18</td>\n",
       "      <td>19</td>\n",
       "      <td>20</td>\n",
       "      <td>21</td>\n",
       "      <td>22</td>\n",
       "      <td>23</td>\n",
       "    </tr>\n",
       "    <tr>\n",
       "      <th>2007-01-01</th>\n",
       "      <td>5</td>\n",
       "      <td>6</td>\n",
       "      <td>7</td>\n",
       "      <td>8</td>\n",
       "      <td>9</td>\n",
       "      <td>10</td>\n",
       "      <td>11</td>\n",
       "      <td>12</td>\n",
       "      <td>13</td>\n",
       "      <td>14</td>\n",
       "      <td>15</td>\n",
       "      <td>16</td>\n",
       "      <td>17</td>\n",
       "      <td>18</td>\n",
       "      <td>19</td>\n",
       "      <td>20</td>\n",
       "      <td>21</td>\n",
       "      <td>22</td>\n",
       "      <td>23</td>\n",
       "      <td>24</td>\n",
       "    </tr>\n",
       "    <tr>\n",
       "      <th>2008-01-01</th>\n",
       "      <td>6</td>\n",
       "      <td>7</td>\n",
       "      <td>8</td>\n",
       "      <td>9</td>\n",
       "      <td>10</td>\n",
       "      <td>11</td>\n",
       "      <td>12</td>\n",
       "      <td>13</td>\n",
       "      <td>14</td>\n",
       "      <td>15</td>\n",
       "      <td>16</td>\n",
       "      <td>17</td>\n",
       "      <td>18</td>\n",
       "      <td>19</td>\n",
       "      <td>20</td>\n",
       "      <td>21</td>\n",
       "      <td>22</td>\n",
       "      <td>23</td>\n",
       "      <td>24</td>\n",
       "      <td>25</td>\n",
       "    </tr>\n",
       "    <tr>\n",
       "      <th>2009-01-01</th>\n",
       "      <td>7</td>\n",
       "      <td>8</td>\n",
       "      <td>9</td>\n",
       "      <td>10</td>\n",
       "      <td>11</td>\n",
       "      <td>12</td>\n",
       "      <td>13</td>\n",
       "      <td>14</td>\n",
       "      <td>15</td>\n",
       "      <td>16</td>\n",
       "      <td>17</td>\n",
       "      <td>18</td>\n",
       "      <td>19</td>\n",
       "      <td>20</td>\n",
       "      <td>21</td>\n",
       "      <td>22</td>\n",
       "      <td>23</td>\n",
       "      <td>24</td>\n",
       "      <td>25</td>\n",
       "      <td>26</td>\n",
       "    </tr>\n",
       "    <tr>\n",
       "      <th>2010-01-01</th>\n",
       "      <td>8</td>\n",
       "      <td>9</td>\n",
       "      <td>10</td>\n",
       "      <td>11</td>\n",
       "      <td>12</td>\n",
       "      <td>13</td>\n",
       "      <td>14</td>\n",
       "      <td>15</td>\n",
       "      <td>16</td>\n",
       "      <td>17</td>\n",
       "      <td>18</td>\n",
       "      <td>19</td>\n",
       "      <td>20</td>\n",
       "      <td>21</td>\n",
       "      <td>22</td>\n",
       "      <td>23</td>\n",
       "      <td>24</td>\n",
       "      <td>25</td>\n",
       "      <td>26</td>\n",
       "      <td>27</td>\n",
       "    </tr>\n",
       "    <tr>\n",
       "      <th>2011-01-01</th>\n",
       "      <td>9</td>\n",
       "      <td>10</td>\n",
       "      <td>11</td>\n",
       "      <td>12</td>\n",
       "      <td>13</td>\n",
       "      <td>14</td>\n",
       "      <td>15</td>\n",
       "      <td>16</td>\n",
       "      <td>17</td>\n",
       "      <td>18</td>\n",
       "      <td>19</td>\n",
       "      <td>20</td>\n",
       "      <td>21</td>\n",
       "      <td>22</td>\n",
       "      <td>23</td>\n",
       "      <td>24</td>\n",
       "      <td>25</td>\n",
       "      <td>26</td>\n",
       "      <td>27</td>\n",
       "      <td>28</td>\n",
       "    </tr>\n",
       "    <tr>\n",
       "      <th>2012-01-01</th>\n",
       "      <td>10</td>\n",
       "      <td>11</td>\n",
       "      <td>12</td>\n",
       "      <td>13</td>\n",
       "      <td>14</td>\n",
       "      <td>15</td>\n",
       "      <td>16</td>\n",
       "      <td>17</td>\n",
       "      <td>18</td>\n",
       "      <td>19</td>\n",
       "      <td>20</td>\n",
       "      <td>21</td>\n",
       "      <td>22</td>\n",
       "      <td>23</td>\n",
       "      <td>24</td>\n",
       "      <td>25</td>\n",
       "      <td>26</td>\n",
       "      <td>27</td>\n",
       "      <td>28</td>\n",
       "      <td>29</td>\n",
       "    </tr>\n",
       "    <tr>\n",
       "      <th>2013-01-01</th>\n",
       "      <td>11</td>\n",
       "      <td>12</td>\n",
       "      <td>13</td>\n",
       "      <td>14</td>\n",
       "      <td>15</td>\n",
       "      <td>16</td>\n",
       "      <td>17</td>\n",
       "      <td>18</td>\n",
       "      <td>19</td>\n",
       "      <td>20</td>\n",
       "      <td>21</td>\n",
       "      <td>22</td>\n",
       "      <td>23</td>\n",
       "      <td>24</td>\n",
       "      <td>25</td>\n",
       "      <td>26</td>\n",
       "      <td>27</td>\n",
       "      <td>28</td>\n",
       "      <td>29</td>\n",
       "      <td>30</td>\n",
       "    </tr>\n",
       "    <tr>\n",
       "      <th>2014-01-01</th>\n",
       "      <td>12</td>\n",
       "      <td>13</td>\n",
       "      <td>14</td>\n",
       "      <td>15</td>\n",
       "      <td>16</td>\n",
       "      <td>17</td>\n",
       "      <td>18</td>\n",
       "      <td>19</td>\n",
       "      <td>20</td>\n",
       "      <td>21</td>\n",
       "      <td>22</td>\n",
       "      <td>23</td>\n",
       "      <td>24</td>\n",
       "      <td>25</td>\n",
       "      <td>26</td>\n",
       "      <td>27</td>\n",
       "      <td>28</td>\n",
       "      <td>29</td>\n",
       "      <td>30</td>\n",
       "      <td>31</td>\n",
       "    </tr>\n",
       "    <tr>\n",
       "      <th>2015-01-01</th>\n",
       "      <td>13</td>\n",
       "      <td>14</td>\n",
       "      <td>15</td>\n",
       "      <td>16</td>\n",
       "      <td>17</td>\n",
       "      <td>18</td>\n",
       "      <td>19</td>\n",
       "      <td>20</td>\n",
       "      <td>21</td>\n",
       "      <td>22</td>\n",
       "      <td>23</td>\n",
       "      <td>24</td>\n",
       "      <td>25</td>\n",
       "      <td>26</td>\n",
       "      <td>27</td>\n",
       "      <td>28</td>\n",
       "      <td>29</td>\n",
       "      <td>30</td>\n",
       "      <td>31</td>\n",
       "      <td>32</td>\n",
       "    </tr>\n",
       "    <tr>\n",
       "      <th>2016-01-01</th>\n",
       "      <td>14</td>\n",
       "      <td>15</td>\n",
       "      <td>16</td>\n",
       "      <td>17</td>\n",
       "      <td>18</td>\n",
       "      <td>19</td>\n",
       "      <td>20</td>\n",
       "      <td>21</td>\n",
       "      <td>22</td>\n",
       "      <td>23</td>\n",
       "      <td>24</td>\n",
       "      <td>25</td>\n",
       "      <td>26</td>\n",
       "      <td>27</td>\n",
       "      <td>28</td>\n",
       "      <td>29</td>\n",
       "      <td>30</td>\n",
       "      <td>31</td>\n",
       "      <td>32</td>\n",
       "      <td>33</td>\n",
       "    </tr>\n",
       "    <tr>\n",
       "      <th>2017-01-01</th>\n",
       "      <td>15</td>\n",
       "      <td>16</td>\n",
       "      <td>17</td>\n",
       "      <td>18</td>\n",
       "      <td>19</td>\n",
       "      <td>20</td>\n",
       "      <td>21</td>\n",
       "      <td>22</td>\n",
       "      <td>23</td>\n",
       "      <td>24</td>\n",
       "      <td>25</td>\n",
       "      <td>26</td>\n",
       "      <td>27</td>\n",
       "      <td>28</td>\n",
       "      <td>29</td>\n",
       "      <td>30</td>\n",
       "      <td>31</td>\n",
       "      <td>32</td>\n",
       "      <td>33</td>\n",
       "      <td>34</td>\n",
       "    </tr>\n",
       "    <tr>\n",
       "      <th>2018-01-01</th>\n",
       "      <td>16</td>\n",
       "      <td>17</td>\n",
       "      <td>18</td>\n",
       "      <td>19</td>\n",
       "      <td>20</td>\n",
       "      <td>21</td>\n",
       "      <td>22</td>\n",
       "      <td>23</td>\n",
       "      <td>24</td>\n",
       "      <td>25</td>\n",
       "      <td>26</td>\n",
       "      <td>27</td>\n",
       "      <td>28</td>\n",
       "      <td>29</td>\n",
       "      <td>30</td>\n",
       "      <td>31</td>\n",
       "      <td>32</td>\n",
       "      <td>33</td>\n",
       "      <td>34</td>\n",
       "      <td>35</td>\n",
       "    </tr>\n",
       "    <tr>\n",
       "      <th>2019-01-01</th>\n",
       "      <td>17</td>\n",
       "      <td>18</td>\n",
       "      <td>19</td>\n",
       "      <td>20</td>\n",
       "      <td>21</td>\n",
       "      <td>22</td>\n",
       "      <td>23</td>\n",
       "      <td>24</td>\n",
       "      <td>25</td>\n",
       "      <td>26</td>\n",
       "      <td>27</td>\n",
       "      <td>28</td>\n",
       "      <td>29</td>\n",
       "      <td>30</td>\n",
       "      <td>31</td>\n",
       "      <td>32</td>\n",
       "      <td>33</td>\n",
       "      <td>34</td>\n",
       "      <td>35</td>\n",
       "      <td>36</td>\n",
       "    </tr>\n",
       "    <tr>\n",
       "      <th>2020-01-01</th>\n",
       "      <td>18</td>\n",
       "      <td>19</td>\n",
       "      <td>20</td>\n",
       "      <td>21</td>\n",
       "      <td>22</td>\n",
       "      <td>23</td>\n",
       "      <td>24</td>\n",
       "      <td>25</td>\n",
       "      <td>26</td>\n",
       "      <td>27</td>\n",
       "      <td>28</td>\n",
       "      <td>29</td>\n",
       "      <td>30</td>\n",
       "      <td>31</td>\n",
       "      <td>32</td>\n",
       "      <td>33</td>\n",
       "      <td>34</td>\n",
       "      <td>35</td>\n",
       "      <td>36</td>\n",
       "      <td>37</td>\n",
       "    </tr>\n",
       "    <tr>\n",
       "      <th>2021-01-01</th>\n",
       "      <td>19</td>\n",
       "      <td>20</td>\n",
       "      <td>21</td>\n",
       "      <td>22</td>\n",
       "      <td>23</td>\n",
       "      <td>24</td>\n",
       "      <td>25</td>\n",
       "      <td>26</td>\n",
       "      <td>27</td>\n",
       "      <td>28</td>\n",
       "      <td>29</td>\n",
       "      <td>30</td>\n",
       "      <td>31</td>\n",
       "      <td>32</td>\n",
       "      <td>33</td>\n",
       "      <td>34</td>\n",
       "      <td>35</td>\n",
       "      <td>36</td>\n",
       "      <td>37</td>\n",
       "      <td>38</td>\n",
       "    </tr>\n",
       "    <tr>\n",
       "      <th>2022-01-01</th>\n",
       "      <td>20</td>\n",
       "      <td>21</td>\n",
       "      <td>22</td>\n",
       "      <td>23</td>\n",
       "      <td>24</td>\n",
       "      <td>25</td>\n",
       "      <td>26</td>\n",
       "      <td>27</td>\n",
       "      <td>28</td>\n",
       "      <td>29</td>\n",
       "      <td>30</td>\n",
       "      <td>31</td>\n",
       "      <td>32</td>\n",
       "      <td>33</td>\n",
       "      <td>34</td>\n",
       "      <td>35</td>\n",
       "      <td>36</td>\n",
       "      <td>37</td>\n",
       "      <td>38</td>\n",
       "      <td>39</td>\n",
       "    </tr>\n",
       "  </tbody>\n",
       "</table>\n",
       "</div>"
      ],
      "text/plain": [
       "            12  24  36  48  60  72  84  96  108  120  132  144  156  168  180   \n",
       "Acc. Year                                                                       \n",
       "2003-01-01   1   2   3   4   5   6   7   8    9   10   11   12   13   14   15  \\\n",
       "2004-01-01   2   3   4   5   6   7   8   9   10   11   12   13   14   15   16   \n",
       "2005-01-01   3   4   5   6   7   8   9  10   11   12   13   14   15   16   17   \n",
       "2006-01-01   4   5   6   7   8   9  10  11   12   13   14   15   16   17   18   \n",
       "2007-01-01   5   6   7   8   9  10  11  12   13   14   15   16   17   18   19   \n",
       "2008-01-01   6   7   8   9  10  11  12  13   14   15   16   17   18   19   20   \n",
       "2009-01-01   7   8   9  10  11  12  13  14   15   16   17   18   19   20   21   \n",
       "2010-01-01   8   9  10  11  12  13  14  15   16   17   18   19   20   21   22   \n",
       "2011-01-01   9  10  11  12  13  14  15  16   17   18   19   20   21   22   23   \n",
       "2012-01-01  10  11  12  13  14  15  16  17   18   19   20   21   22   23   24   \n",
       "2013-01-01  11  12  13  14  15  16  17  18   19   20   21   22   23   24   25   \n",
       "2014-01-01  12  13  14  15  16  17  18  19   20   21   22   23   24   25   26   \n",
       "2015-01-01  13  14  15  16  17  18  19  20   21   22   23   24   25   26   27   \n",
       "2016-01-01  14  15  16  17  18  19  20  21   22   23   24   25   26   27   28   \n",
       "2017-01-01  15  16  17  18  19  20  21  22   23   24   25   26   27   28   29   \n",
       "2018-01-01  16  17  18  19  20  21  22  23   24   25   26   27   28   29   30   \n",
       "2019-01-01  17  18  19  20  21  22  23  24   25   26   27   28   29   30   31   \n",
       "2020-01-01  18  19  20  21  22  23  24  25   26   27   28   29   30   31   32   \n",
       "2021-01-01  19  20  21  22  23  24  25  26   27   28   29   30   31   32   33   \n",
       "2022-01-01  20  21  22  23  24  25  26  27   28   29   30   31   32   33   34   \n",
       "\n",
       "            192  204  216  228  240  \n",
       "Acc. Year                            \n",
       "2003-01-01   16   17   18   19   20  \n",
       "2004-01-01   17   18   19   20   21  \n",
       "2005-01-01   18   19   20   21   22  \n",
       "2006-01-01   19   20   21   22   23  \n",
       "2007-01-01   20   21   22   23   24  \n",
       "2008-01-01   21   22   23   24   25  \n",
       "2009-01-01   22   23   24   25   26  \n",
       "2010-01-01   23   24   25   26   27  \n",
       "2011-01-01   24   25   26   27   28  \n",
       "2012-01-01   25   26   27   28   29  \n",
       "2013-01-01   26   27   28   29   30  \n",
       "2014-01-01   27   28   29   30   31  \n",
       "2015-01-01   28   29   30   31   32  \n",
       "2016-01-01   29   30   31   32   33  \n",
       "2017-01-01   30   31   32   33   34  \n",
       "2018-01-01   31   32   33   34   35  \n",
       "2019-01-01   32   33   34   35   36  \n",
       "2020-01-01   33   34   35   36   37  \n",
       "2021-01-01   34   35   36   37   38  \n",
       "2022-01-01   35   36   37   38   39  "
      ]
     },
     "execution_count": 41,
     "metadata": {},
     "output_type": "execute_result"
    }
   ],
   "source": [
    "r.paid_loss.getCalendarIndex()"
   ]
  },
  {
   "cell_type": "code",
   "execution_count": 295,
   "metadata": {},
   "outputs": [],
   "source": [
    "g = glm(id='tweedie', tri=r.paid_loss)"
   ]
  },
  {
   "cell_type": "code",
   "execution_count": 296,
   "metadata": {},
   "outputs": [
    {
     "name": "stdout",
     "output_type": "stream",
     "text": [
      "Fitting 5 folds for each of 50 candidates, totalling 250 fits\n"
     ]
    },
    {
     "ename": "IndexError",
     "evalue": "indices are out-of-bounds",
     "output_type": "error",
     "traceback": [
      "\u001b[1;31m---------------------------------------------------------------------------\u001b[0m",
      "\u001b[1;31mIndexError\u001b[0m                                Traceback (most recent call last)",
      "Cell \u001b[1;32mIn[296], line 1\u001b[0m\n\u001b[1;32m----> 1\u001b[0m g\u001b[39m.\u001b[39;49mTuneHyperparameters(\u001b[39m5\u001b[39;49m)\n",
      "File \u001b[1;32mc:\\Users\\AndyW\\OneDrive\\Documents\\GitHub\\rocky\\rocky-app\\src\\py\\GLM.py:155\u001b[0m, in \u001b[0;36mglm.TuneHyperparameters\u001b[1;34m(self, n_splits)\u001b[0m\n\u001b[0;32m    153\u001b[0m X \u001b[39m=\u001b[39m \u001b[39mself\u001b[39m\u001b[39m.\u001b[39mGetX()\n\u001b[0;32m    154\u001b[0m y \u001b[39m=\u001b[39m \u001b[39mself\u001b[39m\u001b[39m.\u001b[39mGetY()\n\u001b[1;32m--> 155\u001b[0m search\u001b[39m.\u001b[39;49mfit(X, y)\n\u001b[0;32m    157\u001b[0m \u001b[39m# Get the best parameters\u001b[39;00m\n\u001b[0;32m    158\u001b[0m best_params \u001b[39m=\u001b[39m search\u001b[39m.\u001b[39mbest_params_\n",
      "File \u001b[1;32mc:\\Users\\AndyW\\anaconda3\\envs\\rocky\\lib\\site-packages\\sklearn\\model_selection\\_search.py:874\u001b[0m, in \u001b[0;36mBaseSearchCV.fit\u001b[1;34m(self, X, y, groups, **fit_params)\u001b[0m\n\u001b[0;32m    868\u001b[0m     results \u001b[39m=\u001b[39m \u001b[39mself\u001b[39m\u001b[39m.\u001b[39m_format_results(\n\u001b[0;32m    869\u001b[0m         all_candidate_params, n_splits, all_out, all_more_results\n\u001b[0;32m    870\u001b[0m     )\n\u001b[0;32m    872\u001b[0m     \u001b[39mreturn\u001b[39;00m results\n\u001b[1;32m--> 874\u001b[0m \u001b[39mself\u001b[39;49m\u001b[39m.\u001b[39;49m_run_search(evaluate_candidates)\n\u001b[0;32m    876\u001b[0m \u001b[39m# multimetric is determined here because in the case of a callable\u001b[39;00m\n\u001b[0;32m    877\u001b[0m \u001b[39m# self.scoring the return type is only known after calling\u001b[39;00m\n\u001b[0;32m    878\u001b[0m first_test_score \u001b[39m=\u001b[39m all_out[\u001b[39m0\u001b[39m][\u001b[39m\"\u001b[39m\u001b[39mtest_scores\u001b[39m\u001b[39m\"\u001b[39m]\n",
      "File \u001b[1;32mc:\\Users\\AndyW\\anaconda3\\envs\\rocky\\lib\\site-packages\\sklearn\\model_selection\\_search.py:1388\u001b[0m, in \u001b[0;36mGridSearchCV._run_search\u001b[1;34m(self, evaluate_candidates)\u001b[0m\n\u001b[0;32m   1386\u001b[0m \u001b[39mdef\u001b[39;00m \u001b[39m_run_search\u001b[39m(\u001b[39mself\u001b[39m, evaluate_candidates):\n\u001b[0;32m   1387\u001b[0m \u001b[39m    \u001b[39m\u001b[39m\"\"\"Search all candidates in param_grid\"\"\"\u001b[39;00m\n\u001b[1;32m-> 1388\u001b[0m     evaluate_candidates(ParameterGrid(\u001b[39mself\u001b[39;49m\u001b[39m.\u001b[39;49mparam_grid))\n",
      "File \u001b[1;32mc:\\Users\\AndyW\\anaconda3\\envs\\rocky\\lib\\site-packages\\sklearn\\model_selection\\_search.py:821\u001b[0m, in \u001b[0;36mBaseSearchCV.fit.<locals>.evaluate_candidates\u001b[1;34m(candidate_params, cv, more_results)\u001b[0m\n\u001b[0;32m    813\u001b[0m \u001b[39mif\u001b[39;00m \u001b[39mself\u001b[39m\u001b[39m.\u001b[39mverbose \u001b[39m>\u001b[39m \u001b[39m0\u001b[39m:\n\u001b[0;32m    814\u001b[0m     \u001b[39mprint\u001b[39m(\n\u001b[0;32m    815\u001b[0m         \u001b[39m\"\u001b[39m\u001b[39mFitting \u001b[39m\u001b[39m{0}\u001b[39;00m\u001b[39m folds for each of \u001b[39m\u001b[39m{1}\u001b[39;00m\u001b[39m candidates,\u001b[39m\u001b[39m\"\u001b[39m\n\u001b[0;32m    816\u001b[0m         \u001b[39m\"\u001b[39m\u001b[39m totalling \u001b[39m\u001b[39m{2}\u001b[39;00m\u001b[39m fits\u001b[39m\u001b[39m\"\u001b[39m\u001b[39m.\u001b[39mformat(\n\u001b[0;32m    817\u001b[0m             n_splits, n_candidates, n_candidates \u001b[39m*\u001b[39m n_splits\n\u001b[0;32m    818\u001b[0m         )\n\u001b[0;32m    819\u001b[0m     )\n\u001b[1;32m--> 821\u001b[0m out \u001b[39m=\u001b[39m parallel(\n\u001b[0;32m    822\u001b[0m     delayed(_fit_and_score)(\n\u001b[0;32m    823\u001b[0m         clone(base_estimator),\n\u001b[0;32m    824\u001b[0m         X,\n\u001b[0;32m    825\u001b[0m         y,\n\u001b[0;32m    826\u001b[0m         train\u001b[39m=\u001b[39;49mtrain,\n\u001b[0;32m    827\u001b[0m         test\u001b[39m=\u001b[39;49mtest,\n\u001b[0;32m    828\u001b[0m         parameters\u001b[39m=\u001b[39;49mparameters,\n\u001b[0;32m    829\u001b[0m         split_progress\u001b[39m=\u001b[39;49m(split_idx, n_splits),\n\u001b[0;32m    830\u001b[0m         candidate_progress\u001b[39m=\u001b[39;49m(cand_idx, n_candidates),\n\u001b[0;32m    831\u001b[0m         \u001b[39m*\u001b[39;49m\u001b[39m*\u001b[39;49mfit_and_score_kwargs,\n\u001b[0;32m    832\u001b[0m     )\n\u001b[0;32m    833\u001b[0m     \u001b[39mfor\u001b[39;49;00m (cand_idx, parameters), (split_idx, (train, test)) \u001b[39min\u001b[39;49;00m product(\n\u001b[0;32m    834\u001b[0m         \u001b[39menumerate\u001b[39;49m(candidate_params), \u001b[39menumerate\u001b[39;49m(cv\u001b[39m.\u001b[39;49msplit(X, y, groups))\n\u001b[0;32m    835\u001b[0m     )\n\u001b[0;32m    836\u001b[0m )\n\u001b[0;32m    838\u001b[0m \u001b[39mif\u001b[39;00m \u001b[39mlen\u001b[39m(out) \u001b[39m<\u001b[39m \u001b[39m1\u001b[39m:\n\u001b[0;32m    839\u001b[0m     \u001b[39mraise\u001b[39;00m \u001b[39mValueError\u001b[39;00m(\n\u001b[0;32m    840\u001b[0m         \u001b[39m\"\u001b[39m\u001b[39mNo fits were performed. \u001b[39m\u001b[39m\"\u001b[39m\n\u001b[0;32m    841\u001b[0m         \u001b[39m\"\u001b[39m\u001b[39mWas the CV iterator empty? \u001b[39m\u001b[39m\"\u001b[39m\n\u001b[0;32m    842\u001b[0m         \u001b[39m\"\u001b[39m\u001b[39mWere there no candidates?\u001b[39m\u001b[39m\"\u001b[39m\n\u001b[0;32m    843\u001b[0m     )\n",
      "File \u001b[1;32mc:\\Users\\AndyW\\anaconda3\\envs\\rocky\\lib\\site-packages\\sklearn\\utils\\parallel.py:63\u001b[0m, in \u001b[0;36mParallel.__call__\u001b[1;34m(self, iterable)\u001b[0m\n\u001b[0;32m     58\u001b[0m config \u001b[39m=\u001b[39m get_config()\n\u001b[0;32m     59\u001b[0m iterable_with_config \u001b[39m=\u001b[39m (\n\u001b[0;32m     60\u001b[0m     (_with_config(delayed_func, config), args, kwargs)\n\u001b[0;32m     61\u001b[0m     \u001b[39mfor\u001b[39;00m delayed_func, args, kwargs \u001b[39min\u001b[39;00m iterable\n\u001b[0;32m     62\u001b[0m )\n\u001b[1;32m---> 63\u001b[0m \u001b[39mreturn\u001b[39;00m \u001b[39msuper\u001b[39;49m()\u001b[39m.\u001b[39;49m\u001b[39m__call__\u001b[39;49m(iterable_with_config)\n",
      "File \u001b[1;32mc:\\Users\\AndyW\\anaconda3\\envs\\rocky\\lib\\site-packages\\joblib\\parallel.py:1085\u001b[0m, in \u001b[0;36mParallel.__call__\u001b[1;34m(self, iterable)\u001b[0m\n\u001b[0;32m   1076\u001b[0m \u001b[39mtry\u001b[39;00m:\n\u001b[0;32m   1077\u001b[0m     \u001b[39m# Only set self._iterating to True if at least a batch\u001b[39;00m\n\u001b[0;32m   1078\u001b[0m     \u001b[39m# was dispatched. In particular this covers the edge\u001b[39;00m\n\u001b[1;32m   (...)\u001b[0m\n\u001b[0;32m   1082\u001b[0m     \u001b[39m# was very quick and its callback already dispatched all the\u001b[39;00m\n\u001b[0;32m   1083\u001b[0m     \u001b[39m# remaining jobs.\u001b[39;00m\n\u001b[0;32m   1084\u001b[0m     \u001b[39mself\u001b[39m\u001b[39m.\u001b[39m_iterating \u001b[39m=\u001b[39m \u001b[39mFalse\u001b[39;00m\n\u001b[1;32m-> 1085\u001b[0m     \u001b[39mif\u001b[39;00m \u001b[39mself\u001b[39;49m\u001b[39m.\u001b[39;49mdispatch_one_batch(iterator):\n\u001b[0;32m   1086\u001b[0m         \u001b[39mself\u001b[39m\u001b[39m.\u001b[39m_iterating \u001b[39m=\u001b[39m \u001b[39mself\u001b[39m\u001b[39m.\u001b[39m_original_iterator \u001b[39mis\u001b[39;00m \u001b[39mnot\u001b[39;00m \u001b[39mNone\u001b[39;00m\n\u001b[0;32m   1088\u001b[0m     \u001b[39mwhile\u001b[39;00m \u001b[39mself\u001b[39m\u001b[39m.\u001b[39mdispatch_one_batch(iterator):\n",
      "File \u001b[1;32mc:\\Users\\AndyW\\anaconda3\\envs\\rocky\\lib\\site-packages\\joblib\\parallel.py:901\u001b[0m, in \u001b[0;36mParallel.dispatch_one_batch\u001b[1;34m(self, iterator)\u001b[0m\n\u001b[0;32m    899\u001b[0m     \u001b[39mreturn\u001b[39;00m \u001b[39mFalse\u001b[39;00m\n\u001b[0;32m    900\u001b[0m \u001b[39melse\u001b[39;00m:\n\u001b[1;32m--> 901\u001b[0m     \u001b[39mself\u001b[39;49m\u001b[39m.\u001b[39;49m_dispatch(tasks)\n\u001b[0;32m    902\u001b[0m     \u001b[39mreturn\u001b[39;00m \u001b[39mTrue\u001b[39;00m\n",
      "File \u001b[1;32mc:\\Users\\AndyW\\anaconda3\\envs\\rocky\\lib\\site-packages\\joblib\\parallel.py:819\u001b[0m, in \u001b[0;36mParallel._dispatch\u001b[1;34m(self, batch)\u001b[0m\n\u001b[0;32m    817\u001b[0m \u001b[39mwith\u001b[39;00m \u001b[39mself\u001b[39m\u001b[39m.\u001b[39m_lock:\n\u001b[0;32m    818\u001b[0m     job_idx \u001b[39m=\u001b[39m \u001b[39mlen\u001b[39m(\u001b[39mself\u001b[39m\u001b[39m.\u001b[39m_jobs)\n\u001b[1;32m--> 819\u001b[0m     job \u001b[39m=\u001b[39m \u001b[39mself\u001b[39;49m\u001b[39m.\u001b[39;49m_backend\u001b[39m.\u001b[39;49mapply_async(batch, callback\u001b[39m=\u001b[39;49mcb)\n\u001b[0;32m    820\u001b[0m     \u001b[39m# A job can complete so quickly than its callback is\u001b[39;00m\n\u001b[0;32m    821\u001b[0m     \u001b[39m# called before we get here, causing self._jobs to\u001b[39;00m\n\u001b[0;32m    822\u001b[0m     \u001b[39m# grow. To ensure correct results ordering, .insert is\u001b[39;00m\n\u001b[0;32m    823\u001b[0m     \u001b[39m# used (rather than .append) in the following line\u001b[39;00m\n\u001b[0;32m    824\u001b[0m     \u001b[39mself\u001b[39m\u001b[39m.\u001b[39m_jobs\u001b[39m.\u001b[39minsert(job_idx, job)\n",
      "File \u001b[1;32mc:\\Users\\AndyW\\anaconda3\\envs\\rocky\\lib\\site-packages\\joblib\\_parallel_backends.py:208\u001b[0m, in \u001b[0;36mSequentialBackend.apply_async\u001b[1;34m(self, func, callback)\u001b[0m\n\u001b[0;32m    206\u001b[0m \u001b[39mdef\u001b[39;00m \u001b[39mapply_async\u001b[39m(\u001b[39mself\u001b[39m, func, callback\u001b[39m=\u001b[39m\u001b[39mNone\u001b[39;00m):\n\u001b[0;32m    207\u001b[0m \u001b[39m    \u001b[39m\u001b[39m\"\"\"Schedule a func to be run\"\"\"\u001b[39;00m\n\u001b[1;32m--> 208\u001b[0m     result \u001b[39m=\u001b[39m ImmediateResult(func)\n\u001b[0;32m    209\u001b[0m     \u001b[39mif\u001b[39;00m callback:\n\u001b[0;32m    210\u001b[0m         callback(result)\n",
      "File \u001b[1;32mc:\\Users\\AndyW\\anaconda3\\envs\\rocky\\lib\\site-packages\\joblib\\_parallel_backends.py:597\u001b[0m, in \u001b[0;36mImmediateResult.__init__\u001b[1;34m(self, batch)\u001b[0m\n\u001b[0;32m    594\u001b[0m \u001b[39mdef\u001b[39;00m \u001b[39m__init__\u001b[39m(\u001b[39mself\u001b[39m, batch):\n\u001b[0;32m    595\u001b[0m     \u001b[39m# Don't delay the application, to avoid keeping the input\u001b[39;00m\n\u001b[0;32m    596\u001b[0m     \u001b[39m# arguments in memory\u001b[39;00m\n\u001b[1;32m--> 597\u001b[0m     \u001b[39mself\u001b[39m\u001b[39m.\u001b[39mresults \u001b[39m=\u001b[39m batch()\n",
      "File \u001b[1;32mc:\\Users\\AndyW\\anaconda3\\envs\\rocky\\lib\\site-packages\\joblib\\parallel.py:288\u001b[0m, in \u001b[0;36mBatchedCalls.__call__\u001b[1;34m(self)\u001b[0m\n\u001b[0;32m    284\u001b[0m \u001b[39mdef\u001b[39;00m \u001b[39m__call__\u001b[39m(\u001b[39mself\u001b[39m):\n\u001b[0;32m    285\u001b[0m     \u001b[39m# Set the default nested backend to self._backend but do not set the\u001b[39;00m\n\u001b[0;32m    286\u001b[0m     \u001b[39m# change the default number of processes to -1\u001b[39;00m\n\u001b[0;32m    287\u001b[0m     \u001b[39mwith\u001b[39;00m parallel_backend(\u001b[39mself\u001b[39m\u001b[39m.\u001b[39m_backend, n_jobs\u001b[39m=\u001b[39m\u001b[39mself\u001b[39m\u001b[39m.\u001b[39m_n_jobs):\n\u001b[1;32m--> 288\u001b[0m         \u001b[39mreturn\u001b[39;00m [func(\u001b[39m*\u001b[39margs, \u001b[39m*\u001b[39m\u001b[39m*\u001b[39mkwargs)\n\u001b[0;32m    289\u001b[0m                 \u001b[39mfor\u001b[39;00m func, args, kwargs \u001b[39min\u001b[39;00m \u001b[39mself\u001b[39m\u001b[39m.\u001b[39mitems]\n",
      "File \u001b[1;32mc:\\Users\\AndyW\\anaconda3\\envs\\rocky\\lib\\site-packages\\joblib\\parallel.py:288\u001b[0m, in \u001b[0;36m<listcomp>\u001b[1;34m(.0)\u001b[0m\n\u001b[0;32m    284\u001b[0m \u001b[39mdef\u001b[39;00m \u001b[39m__call__\u001b[39m(\u001b[39mself\u001b[39m):\n\u001b[0;32m    285\u001b[0m     \u001b[39m# Set the default nested backend to self._backend but do not set the\u001b[39;00m\n\u001b[0;32m    286\u001b[0m     \u001b[39m# change the default number of processes to -1\u001b[39;00m\n\u001b[0;32m    287\u001b[0m     \u001b[39mwith\u001b[39;00m parallel_backend(\u001b[39mself\u001b[39m\u001b[39m.\u001b[39m_backend, n_jobs\u001b[39m=\u001b[39m\u001b[39mself\u001b[39m\u001b[39m.\u001b[39m_n_jobs):\n\u001b[1;32m--> 288\u001b[0m         \u001b[39mreturn\u001b[39;00m [func(\u001b[39m*\u001b[39margs, \u001b[39m*\u001b[39m\u001b[39m*\u001b[39mkwargs)\n\u001b[0;32m    289\u001b[0m                 \u001b[39mfor\u001b[39;00m func, args, kwargs \u001b[39min\u001b[39;00m \u001b[39mself\u001b[39m\u001b[39m.\u001b[39mitems]\n",
      "File \u001b[1;32mc:\\Users\\AndyW\\anaconda3\\envs\\rocky\\lib\\site-packages\\sklearn\\utils\\parallel.py:123\u001b[0m, in \u001b[0;36m_FuncWrapper.__call__\u001b[1;34m(self, *args, **kwargs)\u001b[0m\n\u001b[0;32m    121\u001b[0m     config \u001b[39m=\u001b[39m {}\n\u001b[0;32m    122\u001b[0m \u001b[39mwith\u001b[39;00m config_context(\u001b[39m*\u001b[39m\u001b[39m*\u001b[39mconfig):\n\u001b[1;32m--> 123\u001b[0m     \u001b[39mreturn\u001b[39;00m \u001b[39mself\u001b[39m\u001b[39m.\u001b[39mfunction(\u001b[39m*\u001b[39margs, \u001b[39m*\u001b[39m\u001b[39m*\u001b[39mkwargs)\n",
      "File \u001b[1;32mc:\\Users\\AndyW\\anaconda3\\envs\\rocky\\lib\\site-packages\\sklearn\\model_selection\\_validation.py:678\u001b[0m, in \u001b[0;36m_fit_and_score\u001b[1;34m(estimator, X, y, scorer, train, test, verbose, parameters, fit_params, return_train_score, return_parameters, return_n_test_samples, return_times, return_estimator, split_progress, candidate_progress, error_score)\u001b[0m\n\u001b[0;32m    674\u001b[0m     estimator \u001b[39m=\u001b[39m estimator\u001b[39m.\u001b[39mset_params(\u001b[39m*\u001b[39m\u001b[39m*\u001b[39mcloned_parameters)\n\u001b[0;32m    676\u001b[0m start_time \u001b[39m=\u001b[39m time\u001b[39m.\u001b[39mtime()\n\u001b[1;32m--> 678\u001b[0m X_train, y_train \u001b[39m=\u001b[39m _safe_split(estimator, X, y, train)\n\u001b[0;32m    679\u001b[0m X_test, y_test \u001b[39m=\u001b[39m _safe_split(estimator, X, y, test, train)\n\u001b[0;32m    681\u001b[0m result \u001b[39m=\u001b[39m {}\n",
      "File \u001b[1;32mc:\\Users\\AndyW\\anaconda3\\envs\\rocky\\lib\\site-packages\\sklearn\\utils\\metaestimators.py:233\u001b[0m, in \u001b[0;36m_safe_split\u001b[1;34m(estimator, X, y, indices, train_indices)\u001b[0m\n\u001b[0;32m    231\u001b[0m         X_subset \u001b[39m=\u001b[39m X[np\u001b[39m.\u001b[39mix_(indices, train_indices)]\n\u001b[0;32m    232\u001b[0m \u001b[39melse\u001b[39;00m:\n\u001b[1;32m--> 233\u001b[0m     X_subset \u001b[39m=\u001b[39m _safe_indexing(X, indices)\n\u001b[0;32m    235\u001b[0m \u001b[39mif\u001b[39;00m y \u001b[39mis\u001b[39;00m \u001b[39mnot\u001b[39;00m \u001b[39mNone\u001b[39;00m:\n\u001b[0;32m    236\u001b[0m     y_subset \u001b[39m=\u001b[39m _safe_indexing(y, indices)\n",
      "File \u001b[1;32mc:\\Users\\AndyW\\anaconda3\\envs\\rocky\\lib\\site-packages\\sklearn\\utils\\__init__.py:354\u001b[0m, in \u001b[0;36m_safe_indexing\u001b[1;34m(X, indices, axis)\u001b[0m\n\u001b[0;32m    348\u001b[0m     \u001b[39mraise\u001b[39;00m \u001b[39mValueError\u001b[39;00m(\n\u001b[0;32m    349\u001b[0m         \u001b[39m\"\u001b[39m\u001b[39mSpecifying the columns using strings is only supported for \u001b[39m\u001b[39m\"\u001b[39m\n\u001b[0;32m    350\u001b[0m         \u001b[39m\"\u001b[39m\u001b[39mpandas DataFrames\u001b[39m\u001b[39m\"\u001b[39m\n\u001b[0;32m    351\u001b[0m     )\n\u001b[0;32m    353\u001b[0m \u001b[39mif\u001b[39;00m \u001b[39mhasattr\u001b[39m(X, \u001b[39m\"\u001b[39m\u001b[39miloc\u001b[39m\u001b[39m\"\u001b[39m):\n\u001b[1;32m--> 354\u001b[0m     \u001b[39mreturn\u001b[39;00m _pandas_indexing(X, indices, indices_dtype, axis\u001b[39m=\u001b[39;49maxis)\n\u001b[0;32m    355\u001b[0m \u001b[39melif\u001b[39;00m \u001b[39mhasattr\u001b[39m(X, \u001b[39m\"\u001b[39m\u001b[39mshape\u001b[39m\u001b[39m\"\u001b[39m):\n\u001b[0;32m    356\u001b[0m     \u001b[39mreturn\u001b[39;00m _array_indexing(X, indices, indices_dtype, axis\u001b[39m=\u001b[39maxis)\n",
      "File \u001b[1;32mc:\\Users\\AndyW\\anaconda3\\envs\\rocky\\lib\\site-packages\\sklearn\\utils\\__init__.py:196\u001b[0m, in \u001b[0;36m_pandas_indexing\u001b[1;34m(X, key, key_dtype, axis)\u001b[0m\n\u001b[0;32m    191\u001b[0m     key \u001b[39m=\u001b[39m np\u001b[39m.\u001b[39masarray(key)\n\u001b[0;32m    193\u001b[0m \u001b[39mif\u001b[39;00m key_dtype \u001b[39m==\u001b[39m \u001b[39m\"\u001b[39m\u001b[39mint\u001b[39m\u001b[39m\"\u001b[39m \u001b[39mand\u001b[39;00m \u001b[39mnot\u001b[39;00m (\u001b[39misinstance\u001b[39m(key, \u001b[39mslice\u001b[39m) \u001b[39mor\u001b[39;00m np\u001b[39m.\u001b[39misscalar(key)):\n\u001b[0;32m    194\u001b[0m     \u001b[39m# using take() instead of iloc[] ensures the return value is a \"proper\"\u001b[39;00m\n\u001b[0;32m    195\u001b[0m     \u001b[39m# copy that will not raise SettingWithCopyWarning\u001b[39;00m\n\u001b[1;32m--> 196\u001b[0m     \u001b[39mreturn\u001b[39;00m X\u001b[39m.\u001b[39;49mtake(key, axis\u001b[39m=\u001b[39;49maxis)\n\u001b[0;32m    197\u001b[0m \u001b[39melse\u001b[39;00m:\n\u001b[0;32m    198\u001b[0m     \u001b[39m# check whether we should index with loc or iloc\u001b[39;00m\n\u001b[0;32m    199\u001b[0m     indexer \u001b[39m=\u001b[39m X\u001b[39m.\u001b[39miloc \u001b[39mif\u001b[39;00m key_dtype \u001b[39m==\u001b[39m \u001b[39m\"\u001b[39m\u001b[39mint\u001b[39m\u001b[39m\"\u001b[39m \u001b[39melse\u001b[39;00m X\u001b[39m.\u001b[39mloc\n",
      "File \u001b[1;32mc:\\Users\\AndyW\\anaconda3\\envs\\rocky\\lib\\site-packages\\pandas\\core\\generic.py:3909\u001b[0m, in \u001b[0;36mNDFrame.take\u001b[1;34m(self, indices, axis, **kwargs)\u001b[0m\n\u001b[0;32m   3833\u001b[0m \u001b[39m\u001b[39m\u001b[39m\"\"\"\u001b[39;00m\n\u001b[0;32m   3834\u001b[0m \u001b[39mReturn the elements in the given *positional* indices along an axis.\u001b[39;00m\n\u001b[0;32m   3835\u001b[0m \n\u001b[1;32m   (...)\u001b[0m\n\u001b[0;32m   3904\u001b[0m \u001b[39m3    lion  mammal       80.5\u001b[39;00m\n\u001b[0;32m   3905\u001b[0m \u001b[39m\"\"\"\u001b[39;00m\n\u001b[0;32m   3907\u001b[0m nv\u001b[39m.\u001b[39mvalidate_take((), kwargs)\n\u001b[1;32m-> 3909\u001b[0m \u001b[39mreturn\u001b[39;00m \u001b[39mself\u001b[39;49m\u001b[39m.\u001b[39;49m_take(indices, axis)\n",
      "File \u001b[1;32mc:\\Users\\AndyW\\anaconda3\\envs\\rocky\\lib\\site-packages\\pandas\\core\\generic.py:3932\u001b[0m, in \u001b[0;36mNDFrame._take\u001b[1;34m(self, indices, axis, convert_indices)\u001b[0m\n\u001b[0;32m   3924\u001b[0m     \u001b[39mif\u001b[39;00m (\n\u001b[0;32m   3925\u001b[0m         axis \u001b[39m==\u001b[39m \u001b[39m0\u001b[39m\n\u001b[0;32m   3926\u001b[0m         \u001b[39mand\u001b[39;00m indices\u001b[39m.\u001b[39mndim \u001b[39m==\u001b[39m \u001b[39m1\u001b[39m\n\u001b[0;32m   3927\u001b[0m         \u001b[39mand\u001b[39;00m using_copy_on_write()\n\u001b[0;32m   3928\u001b[0m         \u001b[39mand\u001b[39;00m is_range_indexer(indices, \u001b[39mlen\u001b[39m(\u001b[39mself\u001b[39m))\n\u001b[0;32m   3929\u001b[0m     ):\n\u001b[0;32m   3930\u001b[0m         \u001b[39mreturn\u001b[39;00m \u001b[39mself\u001b[39m\u001b[39m.\u001b[39mcopy(deep\u001b[39m=\u001b[39m\u001b[39mNone\u001b[39;00m)\n\u001b[1;32m-> 3932\u001b[0m new_data \u001b[39m=\u001b[39m \u001b[39mself\u001b[39;49m\u001b[39m.\u001b[39;49m_mgr\u001b[39m.\u001b[39;49mtake(\n\u001b[0;32m   3933\u001b[0m     indices,\n\u001b[0;32m   3934\u001b[0m     axis\u001b[39m=\u001b[39;49m\u001b[39mself\u001b[39;49m\u001b[39m.\u001b[39;49m_get_block_manager_axis(axis),\n\u001b[0;32m   3935\u001b[0m     verify\u001b[39m=\u001b[39;49m\u001b[39mTrue\u001b[39;49;00m,\n\u001b[0;32m   3936\u001b[0m     convert_indices\u001b[39m=\u001b[39;49mconvert_indices,\n\u001b[0;32m   3937\u001b[0m )\n\u001b[0;32m   3938\u001b[0m \u001b[39mreturn\u001b[39;00m \u001b[39mself\u001b[39m\u001b[39m.\u001b[39m_constructor(new_data)\u001b[39m.\u001b[39m__finalize__(\u001b[39mself\u001b[39m, method\u001b[39m=\u001b[39m\u001b[39m\"\u001b[39m\u001b[39mtake\u001b[39m\u001b[39m\"\u001b[39m)\n",
      "File \u001b[1;32mc:\\Users\\AndyW\\anaconda3\\envs\\rocky\\lib\\site-packages\\pandas\\core\\internals\\managers.py:960\u001b[0m, in \u001b[0;36mBaseBlockManager.take\u001b[1;34m(self, indexer, axis, verify, convert_indices)\u001b[0m\n\u001b[0;32m    958\u001b[0m n \u001b[39m=\u001b[39m \u001b[39mself\u001b[39m\u001b[39m.\u001b[39mshape[axis]\n\u001b[0;32m    959\u001b[0m \u001b[39mif\u001b[39;00m convert_indices:\n\u001b[1;32m--> 960\u001b[0m     indexer \u001b[39m=\u001b[39m maybe_convert_indices(indexer, n, verify\u001b[39m=\u001b[39;49mverify)\n\u001b[0;32m    962\u001b[0m new_labels \u001b[39m=\u001b[39m \u001b[39mself\u001b[39m\u001b[39m.\u001b[39maxes[axis]\u001b[39m.\u001b[39mtake(indexer)\n\u001b[0;32m    963\u001b[0m \u001b[39mreturn\u001b[39;00m \u001b[39mself\u001b[39m\u001b[39m.\u001b[39mreindex_indexer(\n\u001b[0;32m    964\u001b[0m     new_axis\u001b[39m=\u001b[39mnew_labels,\n\u001b[0;32m    965\u001b[0m     indexer\u001b[39m=\u001b[39mindexer,\n\u001b[1;32m   (...)\u001b[0m\n\u001b[0;32m    968\u001b[0m     copy\u001b[39m=\u001b[39m\u001b[39mNone\u001b[39;00m,\n\u001b[0;32m    969\u001b[0m )\n",
      "File \u001b[1;32mc:\\Users\\AndyW\\anaconda3\\envs\\rocky\\lib\\site-packages\\pandas\\core\\indexers\\utils.py:284\u001b[0m, in \u001b[0;36mmaybe_convert_indices\u001b[1;34m(indices, n, verify)\u001b[0m\n\u001b[0;32m    282\u001b[0m     mask \u001b[39m=\u001b[39m (indices \u001b[39m>\u001b[39m\u001b[39m=\u001b[39m n) \u001b[39m|\u001b[39m (indices \u001b[39m<\u001b[39m \u001b[39m0\u001b[39m)\n\u001b[0;32m    283\u001b[0m     \u001b[39mif\u001b[39;00m mask\u001b[39m.\u001b[39many():\n\u001b[1;32m--> 284\u001b[0m         \u001b[39mraise\u001b[39;00m \u001b[39mIndexError\u001b[39;00m(\u001b[39m\"\u001b[39m\u001b[39mindices are out-of-bounds\u001b[39m\u001b[39m\"\u001b[39m)\n\u001b[0;32m    285\u001b[0m \u001b[39mreturn\u001b[39;00m indices\n",
      "\u001b[1;31mIndexError\u001b[0m: indices are out-of-bounds"
     ]
    }
   ],
   "source": [
    "g.TuneHyperparameters(5)"
   ]
  },
  {
   "cell_type": "code",
   "execution_count": 265,
   "metadata": {},
   "outputs": [
    {
     "data": {
      "text/plain": [
       "['Deviance',\n",
       " 'DevianceResiduals',\n",
       " 'Fit',\n",
       " 'FitGLM',\n",
       " 'GetDegreesOfFreedom',\n",
       " 'GetN',\n",
       " 'GetP',\n",
       " 'GetSaturatedModel',\n",
       " 'GetX',\n",
       " 'GetXForecast',\n",
       " 'GetXVal',\n",
       " 'GetY',\n",
       " 'GetYVal',\n",
       " 'LogLikelihood',\n",
       " 'LogPi',\n",
       " 'PearsonResiduals',\n",
       " 'Predict',\n",
       " 'PredictTriangle',\n",
       " 'RawResiduals',\n",
       " 'ScaleParameter',\n",
       " 'TuneHyperparameters',\n",
       " 'Ultimate',\n",
       " 'VarY',\n",
       " '__annotations__',\n",
       " '__class__',\n",
       " '__dataclass_fields__',\n",
       " '__dataclass_params__',\n",
       " '__delattr__',\n",
       " '__dict__',\n",
       " '__dir__',\n",
       " '__doc__',\n",
       " '__eq__',\n",
       " '__format__',\n",
       " '__ge__',\n",
       " '__getattribute__',\n",
       " '__gt__',\n",
       " '__hash__',\n",
       " '__init__',\n",
       " '__init_subclass__',\n",
       " '__le__',\n",
       " '__lt__',\n",
       " '__module__',\n",
       " '__ne__',\n",
       " '__new__',\n",
       " '__post_init__',\n",
       " '__reduce__',\n",
       " '__reduce_ex__',\n",
       " '__repr__',\n",
       " '__setattr__',\n",
       " '__sizeof__',\n",
       " '__str__',\n",
       " '__subclasshook__',\n",
       " '__weakref__',\n",
       " '_b',\n",
       " '_p',\n",
       " 'cal',\n",
       " 'coef',\n",
       " 'distribution_family',\n",
       " 'id',\n",
       " 'intercept',\n",
       " 'is_fitted',\n",
       " 'model',\n",
       " 'model_class',\n",
       " 'n_validation',\n",
       " 'saturated_model',\n",
       " 'tri',\n",
       " 'validate',\n",
       " 'weights']"
      ]
     },
     "execution_count": 265,
     "metadata": {},
     "output_type": "execute_result"
    }
   ],
   "source": [
    "dir(g)"
   ]
  },
  {
   "cell_type": "code",
   "execution_count": 264,
   "metadata": {},
   "outputs": [
    {
     "data": {
      "text/html": [
       "<div>\n",
       "<style scoped>\n",
       "    .dataframe tbody tr th:only-of-type {\n",
       "        vertical-align: middle;\n",
       "    }\n",
       "\n",
       "    .dataframe tbody tr th {\n",
       "        vertical-align: top;\n",
       "    }\n",
       "\n",
       "    .dataframe thead th {\n",
       "        text-align: right;\n",
       "    }\n",
       "</style>\n",
       "<table border=\"1\" class=\"dataframe\">\n",
       "  <thead>\n",
       "    <tr style=\"text-align: right;\">\n",
       "      <th></th>\n",
       "      <th>acc_year_2004</th>\n",
       "      <th>acc_year_2005</th>\n",
       "      <th>acc_year_2006</th>\n",
       "      <th>acc_year_2007</th>\n",
       "      <th>acc_year_2008</th>\n",
       "      <th>acc_year_2009</th>\n",
       "      <th>acc_year_2010</th>\n",
       "      <th>acc_year_2011</th>\n",
       "      <th>acc_year_2012</th>\n",
       "      <th>acc_year_2013</th>\n",
       "      <th>...</th>\n",
       "      <th>dev_0132</th>\n",
       "      <th>dev_0144</th>\n",
       "      <th>dev_0156</th>\n",
       "      <th>dev_0168</th>\n",
       "      <th>dev_0180</th>\n",
       "      <th>dev_0192</th>\n",
       "      <th>dev_0204</th>\n",
       "      <th>dev_0216</th>\n",
       "      <th>dev_0228</th>\n",
       "      <th>dev_0240</th>\n",
       "    </tr>\n",
       "  </thead>\n",
       "  <tbody>\n",
       "    <tr>\n",
       "      <th>0</th>\n",
       "      <td>0</td>\n",
       "      <td>0</td>\n",
       "      <td>0</td>\n",
       "      <td>0</td>\n",
       "      <td>0</td>\n",
       "      <td>0</td>\n",
       "      <td>0</td>\n",
       "      <td>0</td>\n",
       "      <td>0</td>\n",
       "      <td>0</td>\n",
       "      <td>...</td>\n",
       "      <td>0</td>\n",
       "      <td>0</td>\n",
       "      <td>0</td>\n",
       "      <td>0</td>\n",
       "      <td>0</td>\n",
       "      <td>0</td>\n",
       "      <td>0</td>\n",
       "      <td>0</td>\n",
       "      <td>0</td>\n",
       "      <td>0</td>\n",
       "    </tr>\n",
       "    <tr>\n",
       "      <th>1</th>\n",
       "      <td>1</td>\n",
       "      <td>0</td>\n",
       "      <td>0</td>\n",
       "      <td>0</td>\n",
       "      <td>0</td>\n",
       "      <td>0</td>\n",
       "      <td>0</td>\n",
       "      <td>0</td>\n",
       "      <td>0</td>\n",
       "      <td>0</td>\n",
       "      <td>...</td>\n",
       "      <td>0</td>\n",
       "      <td>0</td>\n",
       "      <td>0</td>\n",
       "      <td>0</td>\n",
       "      <td>0</td>\n",
       "      <td>0</td>\n",
       "      <td>0</td>\n",
       "      <td>0</td>\n",
       "      <td>0</td>\n",
       "      <td>0</td>\n",
       "    </tr>\n",
       "    <tr>\n",
       "      <th>2</th>\n",
       "      <td>1</td>\n",
       "      <td>1</td>\n",
       "      <td>0</td>\n",
       "      <td>0</td>\n",
       "      <td>0</td>\n",
       "      <td>0</td>\n",
       "      <td>0</td>\n",
       "      <td>0</td>\n",
       "      <td>0</td>\n",
       "      <td>0</td>\n",
       "      <td>...</td>\n",
       "      <td>0</td>\n",
       "      <td>0</td>\n",
       "      <td>0</td>\n",
       "      <td>0</td>\n",
       "      <td>0</td>\n",
       "      <td>0</td>\n",
       "      <td>0</td>\n",
       "      <td>0</td>\n",
       "      <td>0</td>\n",
       "      <td>0</td>\n",
       "    </tr>\n",
       "    <tr>\n",
       "      <th>3</th>\n",
       "      <td>1</td>\n",
       "      <td>1</td>\n",
       "      <td>1</td>\n",
       "      <td>0</td>\n",
       "      <td>0</td>\n",
       "      <td>0</td>\n",
       "      <td>0</td>\n",
       "      <td>0</td>\n",
       "      <td>0</td>\n",
       "      <td>0</td>\n",
       "      <td>...</td>\n",
       "      <td>0</td>\n",
       "      <td>0</td>\n",
       "      <td>0</td>\n",
       "      <td>0</td>\n",
       "      <td>0</td>\n",
       "      <td>0</td>\n",
       "      <td>0</td>\n",
       "      <td>0</td>\n",
       "      <td>0</td>\n",
       "      <td>0</td>\n",
       "    </tr>\n",
       "    <tr>\n",
       "      <th>4</th>\n",
       "      <td>1</td>\n",
       "      <td>1</td>\n",
       "      <td>1</td>\n",
       "      <td>1</td>\n",
       "      <td>0</td>\n",
       "      <td>0</td>\n",
       "      <td>0</td>\n",
       "      <td>0</td>\n",
       "      <td>0</td>\n",
       "      <td>0</td>\n",
       "      <td>...</td>\n",
       "      <td>0</td>\n",
       "      <td>0</td>\n",
       "      <td>0</td>\n",
       "      <td>0</td>\n",
       "      <td>0</td>\n",
       "      <td>0</td>\n",
       "      <td>0</td>\n",
       "      <td>0</td>\n",
       "      <td>0</td>\n",
       "      <td>0</td>\n",
       "    </tr>\n",
       "    <tr>\n",
       "      <th>...</th>\n",
       "      <td>...</td>\n",
       "      <td>...</td>\n",
       "      <td>...</td>\n",
       "      <td>...</td>\n",
       "      <td>...</td>\n",
       "      <td>...</td>\n",
       "      <td>...</td>\n",
       "      <td>...</td>\n",
       "      <td>...</td>\n",
       "      <td>...</td>\n",
       "      <td>...</td>\n",
       "      <td>...</td>\n",
       "      <td>...</td>\n",
       "      <td>...</td>\n",
       "      <td>...</td>\n",
       "      <td>...</td>\n",
       "      <td>...</td>\n",
       "      <td>...</td>\n",
       "      <td>...</td>\n",
       "      <td>...</td>\n",
       "      <td>...</td>\n",
       "    </tr>\n",
       "    <tr>\n",
       "      <th>205</th>\n",
       "      <td>1</td>\n",
       "      <td>0</td>\n",
       "      <td>0</td>\n",
       "      <td>0</td>\n",
       "      <td>0</td>\n",
       "      <td>0</td>\n",
       "      <td>0</td>\n",
       "      <td>0</td>\n",
       "      <td>0</td>\n",
       "      <td>0</td>\n",
       "      <td>...</td>\n",
       "      <td>1</td>\n",
       "      <td>1</td>\n",
       "      <td>1</td>\n",
       "      <td>1</td>\n",
       "      <td>1</td>\n",
       "      <td>1</td>\n",
       "      <td>1</td>\n",
       "      <td>1</td>\n",
       "      <td>0</td>\n",
       "      <td>0</td>\n",
       "    </tr>\n",
       "    <tr>\n",
       "      <th>206</th>\n",
       "      <td>1</td>\n",
       "      <td>1</td>\n",
       "      <td>0</td>\n",
       "      <td>0</td>\n",
       "      <td>0</td>\n",
       "      <td>0</td>\n",
       "      <td>0</td>\n",
       "      <td>0</td>\n",
       "      <td>0</td>\n",
       "      <td>0</td>\n",
       "      <td>...</td>\n",
       "      <td>1</td>\n",
       "      <td>1</td>\n",
       "      <td>1</td>\n",
       "      <td>1</td>\n",
       "      <td>1</td>\n",
       "      <td>1</td>\n",
       "      <td>1</td>\n",
       "      <td>1</td>\n",
       "      <td>0</td>\n",
       "      <td>0</td>\n",
       "    </tr>\n",
       "    <tr>\n",
       "      <th>207</th>\n",
       "      <td>0</td>\n",
       "      <td>0</td>\n",
       "      <td>0</td>\n",
       "      <td>0</td>\n",
       "      <td>0</td>\n",
       "      <td>0</td>\n",
       "      <td>0</td>\n",
       "      <td>0</td>\n",
       "      <td>0</td>\n",
       "      <td>0</td>\n",
       "      <td>...</td>\n",
       "      <td>1</td>\n",
       "      <td>1</td>\n",
       "      <td>1</td>\n",
       "      <td>1</td>\n",
       "      <td>1</td>\n",
       "      <td>1</td>\n",
       "      <td>1</td>\n",
       "      <td>1</td>\n",
       "      <td>1</td>\n",
       "      <td>0</td>\n",
       "    </tr>\n",
       "    <tr>\n",
       "      <th>208</th>\n",
       "      <td>1</td>\n",
       "      <td>0</td>\n",
       "      <td>0</td>\n",
       "      <td>0</td>\n",
       "      <td>0</td>\n",
       "      <td>0</td>\n",
       "      <td>0</td>\n",
       "      <td>0</td>\n",
       "      <td>0</td>\n",
       "      <td>0</td>\n",
       "      <td>...</td>\n",
       "      <td>1</td>\n",
       "      <td>1</td>\n",
       "      <td>1</td>\n",
       "      <td>1</td>\n",
       "      <td>1</td>\n",
       "      <td>1</td>\n",
       "      <td>1</td>\n",
       "      <td>1</td>\n",
       "      <td>1</td>\n",
       "      <td>0</td>\n",
       "    </tr>\n",
       "    <tr>\n",
       "      <th>209</th>\n",
       "      <td>0</td>\n",
       "      <td>0</td>\n",
       "      <td>0</td>\n",
       "      <td>0</td>\n",
       "      <td>0</td>\n",
       "      <td>0</td>\n",
       "      <td>0</td>\n",
       "      <td>0</td>\n",
       "      <td>0</td>\n",
       "      <td>0</td>\n",
       "      <td>...</td>\n",
       "      <td>1</td>\n",
       "      <td>1</td>\n",
       "      <td>1</td>\n",
       "      <td>1</td>\n",
       "      <td>1</td>\n",
       "      <td>1</td>\n",
       "      <td>1</td>\n",
       "      <td>1</td>\n",
       "      <td>1</td>\n",
       "      <td>1</td>\n",
       "    </tr>\n",
       "  </tbody>\n",
       "</table>\n",
       "<p>210 rows × 38 columns</p>\n",
       "</div>"
      ],
      "text/plain": [
       "     acc_year_2004  acc_year_2005  acc_year_2006  acc_year_2007   \n",
       "0                0              0              0              0  \\\n",
       "1                1              0              0              0   \n",
       "2                1              1              0              0   \n",
       "3                1              1              1              0   \n",
       "4                1              1              1              1   \n",
       "..             ...            ...            ...            ...   \n",
       "205              1              0              0              0   \n",
       "206              1              1              0              0   \n",
       "207              0              0              0              0   \n",
       "208              1              0              0              0   \n",
       "209              0              0              0              0   \n",
       "\n",
       "     acc_year_2008  acc_year_2009  acc_year_2010  acc_year_2011   \n",
       "0                0              0              0              0  \\\n",
       "1                0              0              0              0   \n",
       "2                0              0              0              0   \n",
       "3                0              0              0              0   \n",
       "4                0              0              0              0   \n",
       "..             ...            ...            ...            ...   \n",
       "205              0              0              0              0   \n",
       "206              0              0              0              0   \n",
       "207              0              0              0              0   \n",
       "208              0              0              0              0   \n",
       "209              0              0              0              0   \n",
       "\n",
       "     acc_year_2012  acc_year_2013  ...  dev_0132  dev_0144  dev_0156   \n",
       "0                0              0  ...         0         0         0  \\\n",
       "1                0              0  ...         0         0         0   \n",
       "2                0              0  ...         0         0         0   \n",
       "3                0              0  ...         0         0         0   \n",
       "4                0              0  ...         0         0         0   \n",
       "..             ...            ...  ...       ...       ...       ...   \n",
       "205              0              0  ...         1         1         1   \n",
       "206              0              0  ...         1         1         1   \n",
       "207              0              0  ...         1         1         1   \n",
       "208              0              0  ...         1         1         1   \n",
       "209              0              0  ...         1         1         1   \n",
       "\n",
       "     dev_0168  dev_0180  dev_0192  dev_0204  dev_0216  dev_0228  dev_0240  \n",
       "0           0         0         0         0         0         0         0  \n",
       "1           0         0         0         0         0         0         0  \n",
       "2           0         0         0         0         0         0         0  \n",
       "3           0         0         0         0         0         0         0  \n",
       "4           0         0         0         0         0         0         0  \n",
       "..        ...       ...       ...       ...       ...       ...       ...  \n",
       "205         1         1         1         1         1         0         0  \n",
       "206         1         1         1         1         1         0         0  \n",
       "207         1         1         1         1         1         1         0  \n",
       "208         1         1         1         1         1         1         0  \n",
       "209         1         1         1         1         1         1         1  \n",
       "\n",
       "[210 rows x 38 columns]"
      ]
     },
     "execution_count": 264,
     "metadata": {},
     "output_type": "execute_result"
    }
   ],
   "source": [
    "g.GetX()"
   ]
  },
  {
   "cell_type": "code",
   "execution_count": 256,
   "metadata": {},
   "outputs": [
    {
     "data": {
      "text/html": [
       "<div>\n",
       "<style scoped>\n",
       "    .dataframe tbody tr th:only-of-type {\n",
       "        vertical-align: middle;\n",
       "    }\n",
       "\n",
       "    .dataframe tbody tr th {\n",
       "        vertical-align: top;\n",
       "    }\n",
       "\n",
       "    .dataframe thead th {\n",
       "        text-align: right;\n",
       "    }\n",
       "</style>\n",
       "<table border=\"1\" class=\"dataframe\">\n",
       "  <thead>\n",
       "    <tr style=\"text-align: right;\">\n",
       "      <th></th>\n",
       "      <th>acc_year_2004</th>\n",
       "      <th>acc_year_2005</th>\n",
       "      <th>acc_year_2006</th>\n",
       "      <th>acc_year_2007</th>\n",
       "      <th>acc_year_2008</th>\n",
       "      <th>acc_year_2009</th>\n",
       "      <th>acc_year_2010</th>\n",
       "      <th>acc_year_2011</th>\n",
       "      <th>acc_year_2012</th>\n",
       "      <th>acc_year_2013</th>\n",
       "      <th>...</th>\n",
       "      <th>dev_0132</th>\n",
       "      <th>dev_0144</th>\n",
       "      <th>dev_0156</th>\n",
       "      <th>dev_0168</th>\n",
       "      <th>dev_0180</th>\n",
       "      <th>dev_0192</th>\n",
       "      <th>dev_0204</th>\n",
       "      <th>dev_0216</th>\n",
       "      <th>dev_0228</th>\n",
       "      <th>dev_0240</th>\n",
       "    </tr>\n",
       "  </thead>\n",
       "  <tbody>\n",
       "    <tr>\n",
       "      <th>0</th>\n",
       "      <td>0</td>\n",
       "      <td>0</td>\n",
       "      <td>0</td>\n",
       "      <td>0</td>\n",
       "      <td>0</td>\n",
       "      <td>0</td>\n",
       "      <td>0</td>\n",
       "      <td>0</td>\n",
       "      <td>0</td>\n",
       "      <td>0</td>\n",
       "      <td>...</td>\n",
       "      <td>0</td>\n",
       "      <td>0</td>\n",
       "      <td>0</td>\n",
       "      <td>0</td>\n",
       "      <td>0</td>\n",
       "      <td>0</td>\n",
       "      <td>0</td>\n",
       "      <td>0</td>\n",
       "      <td>0</td>\n",
       "      <td>0</td>\n",
       "    </tr>\n",
       "    <tr>\n",
       "      <th>1</th>\n",
       "      <td>1</td>\n",
       "      <td>0</td>\n",
       "      <td>0</td>\n",
       "      <td>0</td>\n",
       "      <td>0</td>\n",
       "      <td>0</td>\n",
       "      <td>0</td>\n",
       "      <td>0</td>\n",
       "      <td>0</td>\n",
       "      <td>0</td>\n",
       "      <td>...</td>\n",
       "      <td>0</td>\n",
       "      <td>0</td>\n",
       "      <td>0</td>\n",
       "      <td>0</td>\n",
       "      <td>0</td>\n",
       "      <td>0</td>\n",
       "      <td>0</td>\n",
       "      <td>0</td>\n",
       "      <td>0</td>\n",
       "      <td>0</td>\n",
       "    </tr>\n",
       "    <tr>\n",
       "      <th>2</th>\n",
       "      <td>1</td>\n",
       "      <td>1</td>\n",
       "      <td>0</td>\n",
       "      <td>0</td>\n",
       "      <td>0</td>\n",
       "      <td>0</td>\n",
       "      <td>0</td>\n",
       "      <td>0</td>\n",
       "      <td>0</td>\n",
       "      <td>0</td>\n",
       "      <td>...</td>\n",
       "      <td>0</td>\n",
       "      <td>0</td>\n",
       "      <td>0</td>\n",
       "      <td>0</td>\n",
       "      <td>0</td>\n",
       "      <td>0</td>\n",
       "      <td>0</td>\n",
       "      <td>0</td>\n",
       "      <td>0</td>\n",
       "      <td>0</td>\n",
       "    </tr>\n",
       "    <tr>\n",
       "      <th>3</th>\n",
       "      <td>1</td>\n",
       "      <td>1</td>\n",
       "      <td>1</td>\n",
       "      <td>0</td>\n",
       "      <td>0</td>\n",
       "      <td>0</td>\n",
       "      <td>0</td>\n",
       "      <td>0</td>\n",
       "      <td>0</td>\n",
       "      <td>0</td>\n",
       "      <td>...</td>\n",
       "      <td>0</td>\n",
       "      <td>0</td>\n",
       "      <td>0</td>\n",
       "      <td>0</td>\n",
       "      <td>0</td>\n",
       "      <td>0</td>\n",
       "      <td>0</td>\n",
       "      <td>0</td>\n",
       "      <td>0</td>\n",
       "      <td>0</td>\n",
       "    </tr>\n",
       "    <tr>\n",
       "      <th>4</th>\n",
       "      <td>1</td>\n",
       "      <td>1</td>\n",
       "      <td>1</td>\n",
       "      <td>1</td>\n",
       "      <td>0</td>\n",
       "      <td>0</td>\n",
       "      <td>0</td>\n",
       "      <td>0</td>\n",
       "      <td>0</td>\n",
       "      <td>0</td>\n",
       "      <td>...</td>\n",
       "      <td>0</td>\n",
       "      <td>0</td>\n",
       "      <td>0</td>\n",
       "      <td>0</td>\n",
       "      <td>0</td>\n",
       "      <td>0</td>\n",
       "      <td>0</td>\n",
       "      <td>0</td>\n",
       "      <td>0</td>\n",
       "      <td>0</td>\n",
       "    </tr>\n",
       "    <tr>\n",
       "      <th>...</th>\n",
       "      <td>...</td>\n",
       "      <td>...</td>\n",
       "      <td>...</td>\n",
       "      <td>...</td>\n",
       "      <td>...</td>\n",
       "      <td>...</td>\n",
       "      <td>...</td>\n",
       "      <td>...</td>\n",
       "      <td>...</td>\n",
       "      <td>...</td>\n",
       "      <td>...</td>\n",
       "      <td>...</td>\n",
       "      <td>...</td>\n",
       "      <td>...</td>\n",
       "      <td>...</td>\n",
       "      <td>...</td>\n",
       "      <td>...</td>\n",
       "      <td>...</td>\n",
       "      <td>...</td>\n",
       "      <td>...</td>\n",
       "      <td>...</td>\n",
       "    </tr>\n",
       "    <tr>\n",
       "      <th>395</th>\n",
       "      <td>1</td>\n",
       "      <td>1</td>\n",
       "      <td>1</td>\n",
       "      <td>1</td>\n",
       "      <td>1</td>\n",
       "      <td>1</td>\n",
       "      <td>1</td>\n",
       "      <td>1</td>\n",
       "      <td>1</td>\n",
       "      <td>1</td>\n",
       "      <td>...</td>\n",
       "      <td>1</td>\n",
       "      <td>1</td>\n",
       "      <td>1</td>\n",
       "      <td>1</td>\n",
       "      <td>1</td>\n",
       "      <td>1</td>\n",
       "      <td>1</td>\n",
       "      <td>1</td>\n",
       "      <td>1</td>\n",
       "      <td>1</td>\n",
       "    </tr>\n",
       "    <tr>\n",
       "      <th>396</th>\n",
       "      <td>1</td>\n",
       "      <td>1</td>\n",
       "      <td>1</td>\n",
       "      <td>1</td>\n",
       "      <td>1</td>\n",
       "      <td>1</td>\n",
       "      <td>1</td>\n",
       "      <td>1</td>\n",
       "      <td>1</td>\n",
       "      <td>1</td>\n",
       "      <td>...</td>\n",
       "      <td>1</td>\n",
       "      <td>1</td>\n",
       "      <td>1</td>\n",
       "      <td>1</td>\n",
       "      <td>1</td>\n",
       "      <td>1</td>\n",
       "      <td>1</td>\n",
       "      <td>1</td>\n",
       "      <td>1</td>\n",
       "      <td>1</td>\n",
       "    </tr>\n",
       "    <tr>\n",
       "      <th>397</th>\n",
       "      <td>1</td>\n",
       "      <td>1</td>\n",
       "      <td>1</td>\n",
       "      <td>1</td>\n",
       "      <td>1</td>\n",
       "      <td>1</td>\n",
       "      <td>1</td>\n",
       "      <td>1</td>\n",
       "      <td>1</td>\n",
       "      <td>1</td>\n",
       "      <td>...</td>\n",
       "      <td>1</td>\n",
       "      <td>1</td>\n",
       "      <td>1</td>\n",
       "      <td>1</td>\n",
       "      <td>1</td>\n",
       "      <td>1</td>\n",
       "      <td>1</td>\n",
       "      <td>1</td>\n",
       "      <td>1</td>\n",
       "      <td>1</td>\n",
       "    </tr>\n",
       "    <tr>\n",
       "      <th>398</th>\n",
       "      <td>1</td>\n",
       "      <td>1</td>\n",
       "      <td>1</td>\n",
       "      <td>1</td>\n",
       "      <td>1</td>\n",
       "      <td>1</td>\n",
       "      <td>1</td>\n",
       "      <td>1</td>\n",
       "      <td>1</td>\n",
       "      <td>1</td>\n",
       "      <td>...</td>\n",
       "      <td>1</td>\n",
       "      <td>1</td>\n",
       "      <td>1</td>\n",
       "      <td>1</td>\n",
       "      <td>1</td>\n",
       "      <td>1</td>\n",
       "      <td>1</td>\n",
       "      <td>1</td>\n",
       "      <td>1</td>\n",
       "      <td>1</td>\n",
       "    </tr>\n",
       "    <tr>\n",
       "      <th>399</th>\n",
       "      <td>1</td>\n",
       "      <td>1</td>\n",
       "      <td>1</td>\n",
       "      <td>1</td>\n",
       "      <td>1</td>\n",
       "      <td>1</td>\n",
       "      <td>1</td>\n",
       "      <td>1</td>\n",
       "      <td>1</td>\n",
       "      <td>1</td>\n",
       "      <td>...</td>\n",
       "      <td>1</td>\n",
       "      <td>1</td>\n",
       "      <td>1</td>\n",
       "      <td>1</td>\n",
       "      <td>1</td>\n",
       "      <td>1</td>\n",
       "      <td>1</td>\n",
       "      <td>1</td>\n",
       "      <td>1</td>\n",
       "      <td>1</td>\n",
       "    </tr>\n",
       "  </tbody>\n",
       "</table>\n",
       "<p>400 rows × 38 columns</p>\n",
       "</div>"
      ],
      "text/plain": [
       "     acc_year_2004  acc_year_2005  acc_year_2006  acc_year_2007   \n",
       "0                0              0              0              0  \\\n",
       "1                1              0              0              0   \n",
       "2                1              1              0              0   \n",
       "3                1              1              1              0   \n",
       "4                1              1              1              1   \n",
       "..             ...            ...            ...            ...   \n",
       "395              1              1              1              1   \n",
       "396              1              1              1              1   \n",
       "397              1              1              1              1   \n",
       "398              1              1              1              1   \n",
       "399              1              1              1              1   \n",
       "\n",
       "     acc_year_2008  acc_year_2009  acc_year_2010  acc_year_2011   \n",
       "0                0              0              0              0  \\\n",
       "1                0              0              0              0   \n",
       "2                0              0              0              0   \n",
       "3                0              0              0              0   \n",
       "4                0              0              0              0   \n",
       "..             ...            ...            ...            ...   \n",
       "395              1              1              1              1   \n",
       "396              1              1              1              1   \n",
       "397              1              1              1              1   \n",
       "398              1              1              1              1   \n",
       "399              1              1              1              1   \n",
       "\n",
       "     acc_year_2012  acc_year_2013  ...  dev_0132  dev_0144  dev_0156   \n",
       "0                0              0  ...         0         0         0  \\\n",
       "1                0              0  ...         0         0         0   \n",
       "2                0              0  ...         0         0         0   \n",
       "3                0              0  ...         0         0         0   \n",
       "4                0              0  ...         0         0         0   \n",
       "..             ...            ...  ...       ...       ...       ...   \n",
       "395              1              1  ...         1         1         1   \n",
       "396              1              1  ...         1         1         1   \n",
       "397              1              1  ...         1         1         1   \n",
       "398              1              1  ...         1         1         1   \n",
       "399              1              1  ...         1         1         1   \n",
       "\n",
       "     dev_0168  dev_0180  dev_0192  dev_0204  dev_0216  dev_0228  dev_0240  \n",
       "0           0         0         0         0         0         0         0  \n",
       "1           0         0         0         0         0         0         0  \n",
       "2           0         0         0         0         0         0         0  \n",
       "3           0         0         0         0         0         0         0  \n",
       "4           0         0         0         0         0         0         0  \n",
       "..        ...       ...       ...       ...       ...       ...       ...  \n",
       "395         1         1         1         1         1         1         1  \n",
       "396         1         1         1         1         1         1         1  \n",
       "397         1         1         1         1         1         1         1  \n",
       "398         1         1         1         1         1         1         1  \n",
       "399         1         1         1         1         1         1         1  \n",
       "\n",
       "[400 rows x 38 columns]"
      ]
     },
     "execution_count": 256,
     "metadata": {},
     "output_type": "execute_result"
    }
   ],
   "source": [
    "r.paid_loss.get_X_base()"
   ]
  },
  {
   "cell_type": "code",
   "execution_count": 257,
   "metadata": {},
   "outputs": [
    {
     "data": {
      "text/html": [
       "<div>\n",
       "<style scoped>\n",
       "    .dataframe tbody tr th:only-of-type {\n",
       "        vertical-align: middle;\n",
       "    }\n",
       "\n",
       "    .dataframe tbody tr th {\n",
       "        vertical-align: top;\n",
       "    }\n",
       "\n",
       "    .dataframe thead th {\n",
       "        text-align: right;\n",
       "    }\n",
       "</style>\n",
       "<table border=\"1\" class=\"dataframe\">\n",
       "  <thead>\n",
       "    <tr style=\"text-align: right;\">\n",
       "      <th></th>\n",
       "      <th>ay</th>\n",
       "      <th>dev</th>\n",
       "      <th>cal</th>\n",
       "    </tr>\n",
       "  </thead>\n",
       "  <tbody>\n",
       "    <tr>\n",
       "      <th>0</th>\n",
       "      <td>2003</td>\n",
       "      <td>12</td>\n",
       "      <td>0</td>\n",
       "    </tr>\n",
       "    <tr>\n",
       "      <th>1</th>\n",
       "      <td>2004</td>\n",
       "      <td>12</td>\n",
       "      <td>1</td>\n",
       "    </tr>\n",
       "    <tr>\n",
       "      <th>2</th>\n",
       "      <td>2005</td>\n",
       "      <td>12</td>\n",
       "      <td>2</td>\n",
       "    </tr>\n",
       "    <tr>\n",
       "      <th>3</th>\n",
       "      <td>2006</td>\n",
       "      <td>12</td>\n",
       "      <td>3</td>\n",
       "    </tr>\n",
       "    <tr>\n",
       "      <th>4</th>\n",
       "      <td>2007</td>\n",
       "      <td>12</td>\n",
       "      <td>4</td>\n",
       "    </tr>\n",
       "    <tr>\n",
       "      <th>...</th>\n",
       "      <td>...</td>\n",
       "      <td>...</td>\n",
       "      <td>...</td>\n",
       "    </tr>\n",
       "    <tr>\n",
       "      <th>395</th>\n",
       "      <td>2018</td>\n",
       "      <td>240</td>\n",
       "      <td>34</td>\n",
       "    </tr>\n",
       "    <tr>\n",
       "      <th>396</th>\n",
       "      <td>2019</td>\n",
       "      <td>240</td>\n",
       "      <td>35</td>\n",
       "    </tr>\n",
       "    <tr>\n",
       "      <th>397</th>\n",
       "      <td>2020</td>\n",
       "      <td>240</td>\n",
       "      <td>36</td>\n",
       "    </tr>\n",
       "    <tr>\n",
       "      <th>398</th>\n",
       "      <td>2021</td>\n",
       "      <td>240</td>\n",
       "      <td>37</td>\n",
       "    </tr>\n",
       "    <tr>\n",
       "      <th>399</th>\n",
       "      <td>2022</td>\n",
       "      <td>240</td>\n",
       "      <td>38</td>\n",
       "    </tr>\n",
       "  </tbody>\n",
       "</table>\n",
       "<p>400 rows × 3 columns</p>\n",
       "</div>"
      ],
      "text/plain": [
       "       ay  dev  cal\n",
       "0    2003   12    0\n",
       "1    2004   12    1\n",
       "2    2005   12    2\n",
       "3    2006   12    3\n",
       "4    2007   12    4\n",
       "..    ...  ...  ...\n",
       "395  2018  240   34\n",
       "396  2019  240   35\n",
       "397  2020  240   36\n",
       "398  2021  240   37\n",
       "399  2022  240   38\n",
       "\n",
       "[400 rows x 3 columns]"
      ]
     },
     "execution_count": 257,
     "metadata": {},
     "output_type": "execute_result"
    }
   ],
   "source": [
    "r.paid_loss.get_X_id()"
   ]
  },
  {
   "cell_type": "code",
   "execution_count": 235,
   "metadata": {},
   "outputs": [
    {
     "data": {
      "text/plain": [
       "0      0.206509\n",
       "1      0.228167\n",
       "2      0.223228\n",
       "3      0.219659\n",
       "4      0.209939\n",
       "         ...   \n",
       "205    0.000981\n",
       "206    0.000915\n",
       "207    0.005974\n",
       "208    0.005221\n",
       "209    0.000968\n",
       "Name: paid_loss, Length: 210, dtype: float64"
      ]
     },
     "execution_count": 235,
     "metadata": {},
     "output_type": "execute_result"
    }
   ],
   "source": [
    "r.paid_loss.get_y_base('train')"
   ]
  },
  {
   "cell_type": "code",
   "execution_count": 236,
   "metadata": {},
   "outputs": [],
   "source": [
    "X = r.paid_loss.get_X_base(split='train', cal=False).drop(columns='is_observed')\n",
    "y = r.paid_loss.get_y_base(split='train')"
   ]
  },
  {
   "cell_type": "code",
   "execution_count": 237,
   "metadata": {},
   "outputs": [
    {
     "data": {
      "text/html": [
       "<style>#sk-container-id-2 {color: black;background-color: white;}#sk-container-id-2 pre{padding: 0;}#sk-container-id-2 div.sk-toggleable {background-color: white;}#sk-container-id-2 label.sk-toggleable__label {cursor: pointer;display: block;width: 100%;margin-bottom: 0;padding: 0.3em;box-sizing: border-box;text-align: center;}#sk-container-id-2 label.sk-toggleable__label-arrow:before {content: \"▸\";float: left;margin-right: 0.25em;color: #696969;}#sk-container-id-2 label.sk-toggleable__label-arrow:hover:before {color: black;}#sk-container-id-2 div.sk-estimator:hover label.sk-toggleable__label-arrow:before {color: black;}#sk-container-id-2 div.sk-toggleable__content {max-height: 0;max-width: 0;overflow: hidden;text-align: left;background-color: #f0f8ff;}#sk-container-id-2 div.sk-toggleable__content pre {margin: 0.2em;color: black;border-radius: 0.25em;background-color: #f0f8ff;}#sk-container-id-2 input.sk-toggleable__control:checked~div.sk-toggleable__content {max-height: 200px;max-width: 100%;overflow: auto;}#sk-container-id-2 input.sk-toggleable__control:checked~label.sk-toggleable__label-arrow:before {content: \"▾\";}#sk-container-id-2 div.sk-estimator input.sk-toggleable__control:checked~label.sk-toggleable__label {background-color: #d4ebff;}#sk-container-id-2 div.sk-label input.sk-toggleable__control:checked~label.sk-toggleable__label {background-color: #d4ebff;}#sk-container-id-2 input.sk-hidden--visually {border: 0;clip: rect(1px 1px 1px 1px);clip: rect(1px, 1px, 1px, 1px);height: 1px;margin: -1px;overflow: hidden;padding: 0;position: absolute;width: 1px;}#sk-container-id-2 div.sk-estimator {font-family: monospace;background-color: #f0f8ff;border: 1px dotted black;border-radius: 0.25em;box-sizing: border-box;margin-bottom: 0.5em;}#sk-container-id-2 div.sk-estimator:hover {background-color: #d4ebff;}#sk-container-id-2 div.sk-parallel-item::after {content: \"\";width: 100%;border-bottom: 1px solid gray;flex-grow: 1;}#sk-container-id-2 div.sk-label:hover label.sk-toggleable__label {background-color: #d4ebff;}#sk-container-id-2 div.sk-serial::before {content: \"\";position: absolute;border-left: 1px solid gray;box-sizing: border-box;top: 0;bottom: 0;left: 50%;z-index: 0;}#sk-container-id-2 div.sk-serial {display: flex;flex-direction: column;align-items: center;background-color: white;padding-right: 0.2em;padding-left: 0.2em;position: relative;}#sk-container-id-2 div.sk-item {position: relative;z-index: 1;}#sk-container-id-2 div.sk-parallel {display: flex;align-items: stretch;justify-content: center;background-color: white;position: relative;}#sk-container-id-2 div.sk-item::before, #sk-container-id-2 div.sk-parallel-item::before {content: \"\";position: absolute;border-left: 1px solid gray;box-sizing: border-box;top: 0;bottom: 0;left: 50%;z-index: -1;}#sk-container-id-2 div.sk-parallel-item {display: flex;flex-direction: column;z-index: 1;position: relative;background-color: white;}#sk-container-id-2 div.sk-parallel-item:first-child::after {align-self: flex-end;width: 50%;}#sk-container-id-2 div.sk-parallel-item:last-child::after {align-self: flex-start;width: 50%;}#sk-container-id-2 div.sk-parallel-item:only-child::after {width: 0;}#sk-container-id-2 div.sk-dashed-wrapped {border: 1px dashed gray;margin: 0 0.4em 0.5em 0.4em;box-sizing: border-box;padding-bottom: 0.4em;background-color: white;}#sk-container-id-2 div.sk-label label {font-family: monospace;font-weight: bold;display: inline-block;line-height: 1.2em;}#sk-container-id-2 div.sk-label-container {text-align: center;}#sk-container-id-2 div.sk-container {/* jupyter's `normalize.less` sets `[hidden] { display: none; }` but bootstrap.min.css set `[hidden] { display: none !important; }` so we also need the `!important` here to be able to override the default hidden behavior on the sphinx rendered scikit-learn.org. See: https://github.com/scikit-learn/scikit-learn/issues/21755 */display: inline-block !important;position: relative;}#sk-container-id-2 div.sk-text-repr-fallback {display: none;}</style><div id=\"sk-container-id-2\" class=\"sk-top-container\"><div class=\"sk-text-repr-fallback\"><pre>PoissonRegressor()</pre><b>In a Jupyter environment, please rerun this cell to show the HTML representation or trust the notebook. <br />On GitHub, the HTML representation is unable to render, please try loading this page with nbviewer.org.</b></div><div class=\"sk-container\" hidden><div class=\"sk-item\"><div class=\"sk-estimator sk-toggleable\"><input class=\"sk-toggleable__control sk-hidden--visually\" id=\"sk-estimator-id-2\" type=\"checkbox\" checked><label for=\"sk-estimator-id-2\" class=\"sk-toggleable__label sk-toggleable__label-arrow\">PoissonRegressor</label><div class=\"sk-toggleable__content\"><pre>PoissonRegressor()</pre></div></div></div></div></div>"
      ],
      "text/plain": [
       "PoissonRegressor()"
      ]
     },
     "execution_count": 237,
     "metadata": {},
     "output_type": "execute_result"
    }
   ],
   "source": [
    "poisson = PoissonRegressor()\n",
    "poisson.fit(X, y)"
   ]
  },
  {
   "cell_type": "code",
   "execution_count": 238,
   "metadata": {},
   "outputs": [
    {
     "data": {
      "text/plain": [
       "array([ 0.00126537,  0.00199111,  0.00274112,  0.00316551,  0.00367228,\n",
       "        0.00390064,  0.00438418,  0.0043829 ,  0.00434906,  0.00434644,\n",
       "        0.00418345,  0.00388815,  0.00378859,  0.00327705,  0.00297555,\n",
       "        0.00230311,  0.00147676,  0.00096112,  0.00026724, -0.01204396,\n",
       "       -0.02427721, -0.02694663, -0.02647371, -0.02472527, -0.02218101,\n",
       "       -0.01947255, -0.01684593, -0.01435717, -0.01198969, -0.009817  ,\n",
       "       -0.00788303, -0.00612527, -0.00458611, -0.00326132, -0.00216923,\n",
       "       -0.00129677, -0.00062899, -0.00022407])"
      ]
     },
     "execution_count": 238,
     "metadata": {},
     "output_type": "execute_result"
    }
   ],
   "source": [
    "poisson.coef_"
   ]
  },
  {
   "cell_type": "code",
   "execution_count": null,
   "metadata": {},
   "outputs": [],
   "source": []
  }
 ],
 "metadata": {
  "kernelspec": {
   "display_name": "rocky",
   "language": "python",
   "name": "python3"
  },
  "language_info": {
   "codemirror_mode": {
    "name": "ipython",
    "version": 3
   },
   "file_extension": ".py",
   "mimetype": "text/x-python",
   "name": "python",
   "nbconvert_exporter": "python",
   "pygments_lexer": "ipython3",
   "version": "3.9.16"
  },
  "orig_nbformat": 4
 },
 "nbformat": 4,
 "nbformat_minor": 2
}
