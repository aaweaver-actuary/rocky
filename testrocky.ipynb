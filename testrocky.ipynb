{
 "cells": [
  {
   "cell_type": "code",
   "execution_count": 1,
   "metadata": {},
   "outputs": [],
   "source": [
    "from importlib import reload\n",
    "import warnings\n",
    "warnings.filterwarnings(\"ignore\", category=UserWarning, module=\"openpyxl\")\n"
   ]
  },
  {
   "cell_type": "code",
   "execution_count": 2,
   "metadata": {},
   "outputs": [],
   "source": [
    "import pandas as pd\n",
    "from numpy.linalg import lstsq\n",
    "import utils\n",
    "from triangle import Triangle\n",
    "from glm import Poisson\n",
    "import plotly.express as px\n",
    "import plotly.graph_objects as go\n",
    "\n",
    "from scipy.stats import probplot\n",
    "import scipy\n",
    "\n",
    "from sklearn.metrics import mean_squared_error, mean_absolute_error, mean_poisson_deviance, median_absolute_error, d2_tweedie_score\n",
    "from sklearn.preprocessing import add_dummy_feature\n",
    "from sklearn.model_selection import train_test_split, LeaveOneOut, TimeSeriesSplit, cross_val_predict, cross_val_score\n",
    "\n",
    "import statsmodels as sm\n",
    "import statsmodels.graphics.gofplots as smgof\n",
    "import plotly.graph_objs as go\n",
    "from scipy.stats import norm\n",
    "\n",
    "\n",
    "%matplotlib inline"
   ]
  },
  {
   "cell_type": "code",
   "execution_count": 3,
   "metadata": {},
   "outputs": [],
   "source": [
    "def load_tri(type, d, file, rng) -> Triangle:\n",
    "    t = tr.Triangle.from_excel(file, id=type, origin_columns=1, sheet_name=d[type], sheet_range=rng)\n",
    "    return(t)"
   ]
  },
  {
   "cell_type": "code",
   "execution_count": 4,
   "metadata": {},
   "outputs": [],
   "source": [
    "import chainladder\n",
    "chainladder = reload(chainladder)\n",
    "import triangle as tr\n",
    "tr = reload(tr)\n",
    "utils = reload(utils)\n",
    "\n",
    "\n",
    "file = r\"C:\\Users\\AndyW\\OneDrive\\work\\2022Q4 - OL Occ.xlsx\"\n",
    "\n",
    "ids = ['Reported Loss', 'Paid Loss', 'Paid DCCE', 'Reported Count', 'Closed Count']\n",
    "sheets = ['Reported Loss Development', 'Paid Loss Development', \"Paid DCCE Development\", \"Reported Count Development\", \"Closed Count Development\"]\n",
    "sht_dict = dict(zip(ids, sheets))\n",
    "cum_triangle_rng = \"B5:CD25\"\n",
    "\n",
    "\n",
    "rpt_loss = load_tri('Reported Loss', sht_dict, file, cum_triangle_rng)\n",
    "paid_loss = load_tri('Paid Loss', sht_dict, file, cum_triangle_rng)\n",
    "paid_dcce = load_tri('Paid DCCE', sht_dict, file, cum_triangle_rng)\n",
    "rpt_count = load_tri('Reported Count', sht_dict, file, cum_triangle_rng)\n",
    "closed_count = load_tri('Closed Count', sht_dict, file, cum_triangle_rng)\n",
    "\n",
    "# rpt_loss.tri.ata('simple')"
   ]
  },
  {
   "cell_type": "code",
   "execution_count": 9,
   "metadata": {},
   "outputs": [],
   "source": [
    "    ye_rpt_loss_df = rpt_loss.tri.loc[:, rpt_loss.tri.columns.to_series().mod(12).eq(0)]\n",
    "    ye_paid_loss_df = paid_loss.tri.loc[:, paid_loss.tri.columns.to_series().mod(12).eq(0)]\n",
    "\n",
    "    ye_rpt_count_df = rpt_count.tri.loc[:, rpt_count.tri.columns.to_series().mod(12).eq(0)]\n",
    "    ye_closed_count_df = closed_count.tri.loc[:, closed_count.tri.columns.to_series().mod(12).eq(0)]"
   ]
  },
  {
   "cell_type": "code",
   "execution_count": 7,
   "metadata": {},
   "outputs": [],
   "source": [
    "import rocky as r\n",
    "r = reload(r)"
   ]
  },
  {
   "attachments": {},
   "cell_type": "markdown",
   "metadata": {},
   "source": [
    "#### create a rocky3 object"
   ]
  },
  {
   "cell_type": "code",
   "execution_count": 9,
   "metadata": {},
   "outputs": [],
   "source": [
    "rsv = r.ROCKY()"
   ]
  },
  {
   "attachments": {},
   "cell_type": "markdown",
   "metadata": {},
   "source": [
    "#### check the rocky object"
   ]
  },
  {
   "cell_type": "code",
   "execution_count": 10,
   "metadata": {},
   "outputs": [
    {
     "data": {
      "text/plain": [
       "ROCKY(id=None, model=(), tri=(), forecast=(), validate=())"
      ]
     },
     "execution_count": 10,
     "metadata": {},
     "output_type": "execute_result"
    }
   ],
   "source": [
    "rsv"
   ]
  },
  {
   "attachments": {},
   "cell_type": "markdown",
   "metadata": {},
   "source": [
    "the `ROCKY`  object is created with the following blank attributes:\n",
    "1. `id` - the id of the rocky object and how it is accessed in rocky3\n",
    "2. `model` - container for fitting models to the data. any number of models can be fit.\n",
    "3. `tri` - container for the loss triangles used as input to the models. multiple triangles can be used, and are distinguished by their own `id` attributes.\n",
    "4. `forecast` - container for the forecast and future trend scenarios. multiple scenarios can be used, and are distinguished by their own `id` attributes.\n",
    "5. `validate` - this does not really store anything, but is the accessor for the validation functionality.\n",
    "6. `plot` - this does not really store anything, but is the accessor for the plotting functionality.\n",
    "\n",
    "\n",
    "since we don't have any triangles (eg `tri=()`), first we load a sample triangle from the `rocky` package. this is the taylor-ashe dataset, which has been used in reserving papers for decades. it is a simple triangle with 10 years of development and 10 accident years."
   ]
  },
  {
   "cell_type": "code",
   "execution_count": 11,
   "metadata": {},
   "outputs": [
    {
     "data": {
      "text/plain": [
       "\"paid_loss\""
      ]
     },
     "execution_count": 11,
     "metadata": {},
     "output_type": "execute_result"
    }
   ],
   "source": [
    "# add taylor-ashe triangle:\n",
    "rsv.tri_from_csv(id='paid_loss', file_path=\"./data/taylorashe.csv\", origin_columns=1)\n",
    "\n",
    "# check the triangle:\n",
    "rsv.tri"
   ]
  },
  {
   "attachments": {},
   "cell_type": "markdown",
   "metadata": {},
   "source": [
    "note that we access the triangle in our reserving analysis with `rsv.tri.paid_loss`:\n",
    "* `rsv` is the name of our `ROCKY3` object\n",
    "* `tri` is the name of the triangle container, and is used to access the triangles in our analysis\n",
    "* `paid_loss` is the `id` attribute given to the triangle when it was loaded. this is the name we use to access the triangle in our analysis.\n",
    "\n",
    "so the formula for accessing the triangle is `(analysis object \"rsv\").(triangle accessor \"tri\").(triangle id \"paid_loss\")`, which is `rsv.tri.paid_loss`.\n",
    "\n",
    "many objects that are part of a `rocky3` model are stored this way: `(analysis object).(object accessor).(object id)`. this is the same for the `model`, `forecast`, and `validate` containers. the `plot` container is a little different, but we'll get to that later.\n",
    "\n",
    "in general if you can set up a set of assumptions for something, it is containerized in `rocky3`.\n",
    "\n",
    "\n",
    "now that we have a triangle, we should exlore it a little. a rocky3 `Triangle` object has a number of attributes that are useful for exploring the triangle:  "
   ]
  },
  {
   "cell_type": "code",
   "execution_count": 12,
   "metadata": {},
   "outputs": [
    {
     "data": {
      "text/html": [
       "<div>\n",
       "<style scoped>\n",
       "    .dataframe tbody tr th:only-of-type {\n",
       "        vertical-align: middle;\n",
       "    }\n",
       "\n",
       "    .dataframe tbody tr th {\n",
       "        vertical-align: top;\n",
       "    }\n",
       "\n",
       "    .dataframe thead th {\n",
       "        text-align: right;\n",
       "    }\n",
       "</style>\n",
       "<table border=\"1\" class=\"dataframe\">\n",
       "  <thead>\n",
       "    <tr style=\"text-align: right;\">\n",
       "      <th></th>\n",
       "      <th>1</th>\n",
       "      <th>2</th>\n",
       "      <th>3</th>\n",
       "      <th>4</th>\n",
       "      <th>5</th>\n",
       "      <th>6</th>\n",
       "      <th>7</th>\n",
       "      <th>8</th>\n",
       "      <th>9</th>\n",
       "      <th>10</th>\n",
       "    </tr>\n",
       "    <tr>\n",
       "      <th>AY</th>\n",
       "      <th></th>\n",
       "      <th></th>\n",
       "      <th></th>\n",
       "      <th></th>\n",
       "      <th></th>\n",
       "      <th></th>\n",
       "      <th></th>\n",
       "      <th></th>\n",
       "      <th></th>\n",
       "      <th></th>\n",
       "    </tr>\n",
       "  </thead>\n",
       "  <tbody>\n",
       "    <tr>\n",
       "      <th>1</th>\n",
       "      <td>3.143200</td>\n",
       "      <td>1.542806</td>\n",
       "      <td>1.278299</td>\n",
       "      <td>1.237719</td>\n",
       "      <td>1.209207</td>\n",
       "      <td>1.044079</td>\n",
       "      <td>1.040374</td>\n",
       "      <td>1.063009</td>\n",
       "      <td>1.017725</td>\n",
       "      <td>NaN</td>\n",
       "    </tr>\n",
       "    <tr>\n",
       "      <th>2</th>\n",
       "      <td>3.510582</td>\n",
       "      <td>1.755493</td>\n",
       "      <td>1.545286</td>\n",
       "      <td>1.132926</td>\n",
       "      <td>1.084493</td>\n",
       "      <td>1.128106</td>\n",
       "      <td>1.057268</td>\n",
       "      <td>1.086496</td>\n",
       "      <td>NaN</td>\n",
       "      <td>NaN</td>\n",
       "    </tr>\n",
       "    <tr>\n",
       "      <th>3</th>\n",
       "      <td>4.448450</td>\n",
       "      <td>1.716718</td>\n",
       "      <td>1.458257</td>\n",
       "      <td>1.232079</td>\n",
       "      <td>1.036860</td>\n",
       "      <td>1.120010</td>\n",
       "      <td>1.060577</td>\n",
       "      <td>NaN</td>\n",
       "      <td>NaN</td>\n",
       "      <td>NaN</td>\n",
       "    </tr>\n",
       "    <tr>\n",
       "      <th>4</th>\n",
       "      <td>4.568002</td>\n",
       "      <td>1.547052</td>\n",
       "      <td>1.711784</td>\n",
       "      <td>1.072518</td>\n",
       "      <td>1.087360</td>\n",
       "      <td>1.047076</td>\n",
       "      <td>NaN</td>\n",
       "      <td>NaN</td>\n",
       "      <td>NaN</td>\n",
       "      <td>NaN</td>\n",
       "    </tr>\n",
       "    <tr>\n",
       "      <th>5</th>\n",
       "      <td>2.564198</td>\n",
       "      <td>1.872956</td>\n",
       "      <td>1.361545</td>\n",
       "      <td>1.174217</td>\n",
       "      <td>1.138315</td>\n",
       "      <td>NaN</td>\n",
       "      <td>NaN</td>\n",
       "      <td>NaN</td>\n",
       "      <td>NaN</td>\n",
       "      <td>NaN</td>\n",
       "    </tr>\n",
       "    <tr>\n",
       "      <th>6</th>\n",
       "      <td>3.365588</td>\n",
       "      <td>1.635679</td>\n",
       "      <td>1.369162</td>\n",
       "      <td>1.236443</td>\n",
       "      <td>NaN</td>\n",
       "      <td>NaN</td>\n",
       "      <td>NaN</td>\n",
       "      <td>NaN</td>\n",
       "      <td>NaN</td>\n",
       "      <td>NaN</td>\n",
       "    </tr>\n",
       "    <tr>\n",
       "      <th>7</th>\n",
       "      <td>2.922798</td>\n",
       "      <td>1.878099</td>\n",
       "      <td>1.439393</td>\n",
       "      <td>NaN</td>\n",
       "      <td>NaN</td>\n",
       "      <td>NaN</td>\n",
       "      <td>NaN</td>\n",
       "      <td>NaN</td>\n",
       "      <td>NaN</td>\n",
       "      <td>NaN</td>\n",
       "    </tr>\n",
       "    <tr>\n",
       "      <th>8</th>\n",
       "      <td>3.953288</td>\n",
       "      <td>2.015651</td>\n",
       "      <td>NaN</td>\n",
       "      <td>NaN</td>\n",
       "      <td>NaN</td>\n",
       "      <td>NaN</td>\n",
       "      <td>NaN</td>\n",
       "      <td>NaN</td>\n",
       "      <td>NaN</td>\n",
       "      <td>NaN</td>\n",
       "    </tr>\n",
       "    <tr>\n",
       "      <th>9</th>\n",
       "      <td>3.619179</td>\n",
       "      <td>NaN</td>\n",
       "      <td>NaN</td>\n",
       "      <td>NaN</td>\n",
       "      <td>NaN</td>\n",
       "      <td>NaN</td>\n",
       "      <td>NaN</td>\n",
       "      <td>NaN</td>\n",
       "      <td>NaN</td>\n",
       "      <td>NaN</td>\n",
       "    </tr>\n",
       "    <tr>\n",
       "      <th>10</th>\n",
       "      <td>NaN</td>\n",
       "      <td>NaN</td>\n",
       "      <td>NaN</td>\n",
       "      <td>NaN</td>\n",
       "      <td>NaN</td>\n",
       "      <td>NaN</td>\n",
       "      <td>NaN</td>\n",
       "      <td>NaN</td>\n",
       "      <td>NaN</td>\n",
       "      <td>NaN</td>\n",
       "    </tr>\n",
       "  </tbody>\n",
       "</table>\n",
       "</div>"
      ],
      "text/plain": [
       "           1         2         3         4         5         6         7  \\\n",
       "AY                                                                         \n",
       "1   3.143200  1.542806  1.278299  1.237719  1.209207  1.044079  1.040374   \n",
       "2   3.510582  1.755493  1.545286  1.132926  1.084493  1.128106  1.057268   \n",
       "3   4.448450  1.716718  1.458257  1.232079  1.036860  1.120010  1.060577   \n",
       "4   4.568002  1.547052  1.711784  1.072518  1.087360  1.047076       NaN   \n",
       "5   2.564198  1.872956  1.361545  1.174217  1.138315       NaN       NaN   \n",
       "6   3.365588  1.635679  1.369162  1.236443       NaN       NaN       NaN   \n",
       "7   2.922798  1.878099  1.439393       NaN       NaN       NaN       NaN   \n",
       "8   3.953288  2.015651       NaN       NaN       NaN       NaN       NaN   \n",
       "9   3.619179       NaN       NaN       NaN       NaN       NaN       NaN   \n",
       "10       NaN       NaN       NaN       NaN       NaN       NaN       NaN   \n",
       "\n",
       "           8         9  10  \n",
       "AY                          \n",
       "1   1.063009  1.017725 NaN  \n",
       "2   1.086496       NaN NaN  \n",
       "3        NaN       NaN NaN  \n",
       "4        NaN       NaN NaN  \n",
       "5        NaN       NaN NaN  \n",
       "6        NaN       NaN NaN  \n",
       "7        NaN       NaN NaN  \n",
       "8        NaN       NaN NaN  \n",
       "9        NaN       NaN NaN  \n",
       "10       NaN       NaN NaN  "
      ]
     },
     "execution_count": 12,
     "metadata": {},
     "output_type": "execute_result"
    }
   ],
   "source": [
    "# display a triangle with age-to-age factors:\n",
    "rsv.tri.paid_loss.ata()"
   ]
  },
  {
   "attachments": {},
   "cell_type": "markdown",
   "metadata": {},
   "source": [
    "note again the formula for accessing the triangle is `(analysis object).(triangle accessor).(triangle id)`, which is `rsv.tri.paid_loss`. to build an age-to-age factor triangle, call the triangle you want, then the `.ata()` method with no arguments gives you the age-to-age factor triangle.\n",
    "\n",
    "adding in areguments to the `.ata()` method transforms the triangle into a set of average ata factors. available args to change the ata factor type are initially:\n",
    "1. `'vwa'` - all years volume weighted average\n",
    "2. `'simple'` - all years simple average\n",
    "3. `'medial'` - all years medial average, excluding the highest and lowest values\n",
    "\n",
    "we can make a table with each of these:"
   ]
  },
  {
   "cell_type": "code",
   "execution_count": 13,
   "metadata": {},
   "outputs": [
    {
     "data": {
      "text/html": [
       "<div>\n",
       "<style scoped>\n",
       "    .dataframe tbody tr th:only-of-type {\n",
       "        vertical-align: middle;\n",
       "    }\n",
       "\n",
       "    .dataframe tbody tr th {\n",
       "        vertical-align: top;\n",
       "    }\n",
       "\n",
       "    .dataframe thead th {\n",
       "        text-align: right;\n",
       "    }\n",
       "</style>\n",
       "<table border=\"1\" class=\"dataframe\">\n",
       "  <thead>\n",
       "    <tr style=\"text-align: right;\">\n",
       "      <th></th>\n",
       "      <th>1</th>\n",
       "      <th>2</th>\n",
       "      <th>3</th>\n",
       "      <th>4</th>\n",
       "      <th>5</th>\n",
       "      <th>6</th>\n",
       "      <th>7</th>\n",
       "      <th>8</th>\n",
       "      <th>9</th>\n",
       "      <th>10</th>\n",
       "    </tr>\n",
       "  </thead>\n",
       "  <tbody>\n",
       "    <tr>\n",
       "      <th>vwa</th>\n",
       "      <td>3.490607</td>\n",
       "      <td>1.747333</td>\n",
       "      <td>1.457413</td>\n",
       "      <td>1.173852</td>\n",
       "      <td>1.103824</td>\n",
       "      <td>1.086269</td>\n",
       "      <td>1.053874</td>\n",
       "      <td>1.076555</td>\n",
       "      <td>1.017725</td>\n",
       "      <td>1.0</td>\n",
       "    </tr>\n",
       "    <tr>\n",
       "      <th>simple</th>\n",
       "      <td>3.566143</td>\n",
       "      <td>1.745557</td>\n",
       "      <td>1.451961</td>\n",
       "      <td>1.180984</td>\n",
       "      <td>1.111247</td>\n",
       "      <td>1.084818</td>\n",
       "      <td>1.052739</td>\n",
       "      <td>1.074753</td>\n",
       "      <td>1.017725</td>\n",
       "      <td>1.0</td>\n",
       "    </tr>\n",
       "    <tr>\n",
       "      <th>medial</th>\n",
       "      <td>3.566155</td>\n",
       "      <td>1.734333</td>\n",
       "      <td>1.434728</td>\n",
       "      <td>1.193916</td>\n",
       "      <td>1.103389</td>\n",
       "      <td>1.083543</td>\n",
       "      <td>1.057268</td>\n",
       "      <td>1.076555</td>\n",
       "      <td>1.017725</td>\n",
       "      <td>1.0</td>\n",
       "    </tr>\n",
       "  </tbody>\n",
       "</table>\n",
       "</div>"
      ],
      "text/plain": [
       "               1         2         3         4         5         6         7  \\\n",
       "vwa     3.490607  1.747333  1.457413  1.173852  1.103824  1.086269  1.053874   \n",
       "simple  3.566143  1.745557  1.451961  1.180984  1.111247  1.084818  1.052739   \n",
       "medial  3.566155  1.734333  1.434728  1.193916  1.103389  1.083543  1.057268   \n",
       "\n",
       "               8         9   10  \n",
       "vwa     1.076555  1.017725  1.0  \n",
       "simple  1.074753  1.017725  1.0  \n",
       "medial  1.076555  1.017725  1.0  "
      ]
     },
     "execution_count": 13,
     "metadata": {},
     "output_type": "execute_result"
    }
   ],
   "source": [
    "ata_fct_df = pd.DataFrame(dict(vwa=rsv.tri.paid_loss.ata('vwa'),\n",
    "                               simple=rsv.tri.paid_loss.ata('simple'),\n",
    "                               medial=rsv.tri.paid_loss.ata('medial')))\n",
    "\n",
    "ata_fct_df.transpose()"
   ]
  },
  {
   "attachments": {},
   "cell_type": "markdown",
   "metadata": {},
   "source": [
    "we can add more arguments to the `.ata()` method to change the number of years in the average, or whether just the highest, just the lowest, or both the highest and lowest years are excluded from the medial average."
   ]
  },
  {
   "cell_type": "code",
   "execution_count": 14,
   "metadata": {},
   "outputs": [
    {
     "data": {
      "text/html": [
       "<div>\n",
       "<style scoped>\n",
       "    .dataframe tbody tr th:only-of-type {\n",
       "        vertical-align: middle;\n",
       "    }\n",
       "\n",
       "    .dataframe tbody tr th {\n",
       "        vertical-align: top;\n",
       "    }\n",
       "\n",
       "    .dataframe thead th {\n",
       "        text-align: right;\n",
       "    }\n",
       "</style>\n",
       "<table border=\"1\" class=\"dataframe\">\n",
       "  <thead>\n",
       "    <tr style=\"text-align: right;\">\n",
       "      <th></th>\n",
       "      <th>1</th>\n",
       "      <th>2</th>\n",
       "      <th>3</th>\n",
       "      <th>4</th>\n",
       "      <th>5</th>\n",
       "      <th>6</th>\n",
       "      <th>7</th>\n",
       "      <th>8</th>\n",
       "      <th>9</th>\n",
       "      <th>10</th>\n",
       "    </tr>\n",
       "    <tr>\n",
       "      <th>AY</th>\n",
       "      <th></th>\n",
       "      <th></th>\n",
       "      <th></th>\n",
       "      <th></th>\n",
       "      <th></th>\n",
       "      <th></th>\n",
       "      <th></th>\n",
       "      <th></th>\n",
       "      <th></th>\n",
       "      <th></th>\n",
       "    </tr>\n",
       "  </thead>\n",
       "  <tbody>\n",
       "    <tr>\n",
       "      <th>1</th>\n",
       "      <td>3.143200</td>\n",
       "      <td>1.542806</td>\n",
       "      <td>1.278299</td>\n",
       "      <td>1.237719</td>\n",
       "      <td>1.209207</td>\n",
       "      <td>1.044079</td>\n",
       "      <td>1.040374</td>\n",
       "      <td>1.063009</td>\n",
       "      <td>1.017725</td>\n",
       "      <td>NaN</td>\n",
       "    </tr>\n",
       "    <tr>\n",
       "      <th>2</th>\n",
       "      <td>3.510582</td>\n",
       "      <td>1.755493</td>\n",
       "      <td>1.545286</td>\n",
       "      <td>1.132926</td>\n",
       "      <td>1.084493</td>\n",
       "      <td>1.128106</td>\n",
       "      <td>1.057268</td>\n",
       "      <td>1.086496</td>\n",
       "      <td>NaN</td>\n",
       "      <td>NaN</td>\n",
       "    </tr>\n",
       "    <tr>\n",
       "      <th>3</th>\n",
       "      <td>4.448450</td>\n",
       "      <td>1.716718</td>\n",
       "      <td>1.458257</td>\n",
       "      <td>1.232079</td>\n",
       "      <td>1.036860</td>\n",
       "      <td>1.120010</td>\n",
       "      <td>1.060577</td>\n",
       "      <td>NaN</td>\n",
       "      <td>NaN</td>\n",
       "      <td>NaN</td>\n",
       "    </tr>\n",
       "    <tr>\n",
       "      <th>4</th>\n",
       "      <td>4.568002</td>\n",
       "      <td>1.547052</td>\n",
       "      <td>1.711784</td>\n",
       "      <td>1.072518</td>\n",
       "      <td>1.087360</td>\n",
       "      <td>1.047076</td>\n",
       "      <td>NaN</td>\n",
       "      <td>NaN</td>\n",
       "      <td>NaN</td>\n",
       "      <td>NaN</td>\n",
       "    </tr>\n",
       "    <tr>\n",
       "      <th>5</th>\n",
       "      <td>2.564198</td>\n",
       "      <td>1.872956</td>\n",
       "      <td>1.361545</td>\n",
       "      <td>1.174217</td>\n",
       "      <td>1.138315</td>\n",
       "      <td>NaN</td>\n",
       "      <td>NaN</td>\n",
       "      <td>NaN</td>\n",
       "      <td>NaN</td>\n",
       "      <td>NaN</td>\n",
       "    </tr>\n",
       "    <tr>\n",
       "      <th>6</th>\n",
       "      <td>3.365588</td>\n",
       "      <td>1.635679</td>\n",
       "      <td>1.369162</td>\n",
       "      <td>1.236443</td>\n",
       "      <td>NaN</td>\n",
       "      <td>NaN</td>\n",
       "      <td>NaN</td>\n",
       "      <td>NaN</td>\n",
       "      <td>NaN</td>\n",
       "      <td>NaN</td>\n",
       "    </tr>\n",
       "    <tr>\n",
       "      <th>7</th>\n",
       "      <td>2.922798</td>\n",
       "      <td>1.878099</td>\n",
       "      <td>1.439393</td>\n",
       "      <td>NaN</td>\n",
       "      <td>NaN</td>\n",
       "      <td>NaN</td>\n",
       "      <td>NaN</td>\n",
       "      <td>NaN</td>\n",
       "      <td>NaN</td>\n",
       "      <td>NaN</td>\n",
       "    </tr>\n",
       "    <tr>\n",
       "      <th>8</th>\n",
       "      <td>3.953288</td>\n",
       "      <td>2.015651</td>\n",
       "      <td>NaN</td>\n",
       "      <td>NaN</td>\n",
       "      <td>NaN</td>\n",
       "      <td>NaN</td>\n",
       "      <td>NaN</td>\n",
       "      <td>NaN</td>\n",
       "      <td>NaN</td>\n",
       "      <td>NaN</td>\n",
       "    </tr>\n",
       "    <tr>\n",
       "      <th>9</th>\n",
       "      <td>3.619179</td>\n",
       "      <td>NaN</td>\n",
       "      <td>NaN</td>\n",
       "      <td>NaN</td>\n",
       "      <td>NaN</td>\n",
       "      <td>NaN</td>\n",
       "      <td>NaN</td>\n",
       "      <td>NaN</td>\n",
       "      <td>NaN</td>\n",
       "      <td>NaN</td>\n",
       "    </tr>\n",
       "    <tr>\n",
       "      <th>10</th>\n",
       "      <td>NaN</td>\n",
       "      <td>NaN</td>\n",
       "      <td>NaN</td>\n",
       "      <td>NaN</td>\n",
       "      <td>NaN</td>\n",
       "      <td>NaN</td>\n",
       "      <td>NaN</td>\n",
       "      <td>NaN</td>\n",
       "      <td>NaN</td>\n",
       "      <td>NaN</td>\n",
       "    </tr>\n",
       "  </tbody>\n",
       "</table>\n",
       "</div>"
      ],
      "text/plain": [
       "           1         2         3         4         5         6         7  \\\n",
       "AY                                                                         \n",
       "1   3.143200  1.542806  1.278299  1.237719  1.209207  1.044079  1.040374   \n",
       "2   3.510582  1.755493  1.545286  1.132926  1.084493  1.128106  1.057268   \n",
       "3   4.448450  1.716718  1.458257  1.232079  1.036860  1.120010  1.060577   \n",
       "4   4.568002  1.547052  1.711784  1.072518  1.087360  1.047076       NaN   \n",
       "5   2.564198  1.872956  1.361545  1.174217  1.138315       NaN       NaN   \n",
       "6   3.365588  1.635679  1.369162  1.236443       NaN       NaN       NaN   \n",
       "7   2.922798  1.878099  1.439393       NaN       NaN       NaN       NaN   \n",
       "8   3.953288  2.015651       NaN       NaN       NaN       NaN       NaN   \n",
       "9   3.619179       NaN       NaN       NaN       NaN       NaN       NaN   \n",
       "10       NaN       NaN       NaN       NaN       NaN       NaN       NaN   \n",
       "\n",
       "           8         9  10  \n",
       "AY                          \n",
       "1   1.063009  1.017725 NaN  \n",
       "2   1.086496       NaN NaN  \n",
       "3        NaN       NaN NaN  \n",
       "4        NaN       NaN NaN  \n",
       "5        NaN       NaN NaN  \n",
       "6        NaN       NaN NaN  \n",
       "7        NaN       NaN NaN  \n",
       "8        NaN       NaN NaN  \n",
       "9        NaN       NaN NaN  \n",
       "10       NaN       NaN NaN  "
      ]
     },
     "execution_count": 14,
     "metadata": {},
     "output_type": "execute_result"
    }
   ],
   "source": [
    "rsv.tri.paid_loss.ata()"
   ]
  },
  {
   "cell_type": "code",
   "execution_count": 15,
   "metadata": {},
   "outputs": [
    {
     "data": {
      "text/plain": [
       "triangle.Triangle"
      ]
     },
     "execution_count": 15,
     "metadata": {},
     "output_type": "execute_result"
    }
   ],
   "source": [
    "t1 = rsv.tri.paid_loss\n",
    "type(t1)"
   ]
  },
  {
   "cell_type": "code",
   "execution_count": 16,
   "metadata": {},
   "outputs": [
    {
     "name": "stdout",
     "output_type": "stream",
     "text": [
      "paid_loss\n"
     ]
    }
   ],
   "source": [
    "print(t1.id)"
   ]
  },
  {
   "cell_type": "code",
   "execution_count": 17,
   "metadata": {},
   "outputs": [
    {
     "data": {
      "text/html": [
       "<div>\n",
       "<style scoped>\n",
       "    .dataframe tbody tr th:only-of-type {\n",
       "        vertical-align: middle;\n",
       "    }\n",
       "\n",
       "    .dataframe tbody tr th {\n",
       "        vertical-align: top;\n",
       "    }\n",
       "\n",
       "    .dataframe thead th {\n",
       "        text-align: right;\n",
       "    }\n",
       "</style>\n",
       "<table border=\"1\" class=\"dataframe\">\n",
       "  <thead>\n",
       "    <tr style=\"text-align: right;\">\n",
       "      <th></th>\n",
       "      <th>AY</th>\n",
       "      <th>1</th>\n",
       "      <th>2</th>\n",
       "      <th>3</th>\n",
       "      <th>4</th>\n",
       "      <th>5</th>\n",
       "      <th>6</th>\n",
       "      <th>7</th>\n",
       "      <th>8</th>\n",
       "      <th>9</th>\n",
       "      <th>10</th>\n",
       "    </tr>\n",
       "  </thead>\n",
       "  <tbody>\n",
       "    <tr>\n",
       "      <th>0</th>\n",
       "      <td>1</td>\n",
       "      <td>357848</td>\n",
       "      <td>1124788.0</td>\n",
       "      <td>1735330.0</td>\n",
       "      <td>2218270.0</td>\n",
       "      <td>2745596.0</td>\n",
       "      <td>3319994.0</td>\n",
       "      <td>3466336.0</td>\n",
       "      <td>3606286.0</td>\n",
       "      <td>3833515.0</td>\n",
       "      <td>3901463.0</td>\n",
       "    </tr>\n",
       "    <tr>\n",
       "      <th>1</th>\n",
       "      <td>2</td>\n",
       "      <td>352118</td>\n",
       "      <td>1236139.0</td>\n",
       "      <td>2170033.0</td>\n",
       "      <td>3353322.0</td>\n",
       "      <td>3799067.0</td>\n",
       "      <td>4120063.0</td>\n",
       "      <td>4647867.0</td>\n",
       "      <td>4914039.0</td>\n",
       "      <td>5339085.0</td>\n",
       "      <td>NaN</td>\n",
       "    </tr>\n",
       "    <tr>\n",
       "      <th>2</th>\n",
       "      <td>3</td>\n",
       "      <td>290507</td>\n",
       "      <td>1292306.0</td>\n",
       "      <td>2218525.0</td>\n",
       "      <td>3235179.0</td>\n",
       "      <td>3985995.0</td>\n",
       "      <td>4132918.0</td>\n",
       "      <td>4628910.0</td>\n",
       "      <td>4909315.0</td>\n",
       "      <td>NaN</td>\n",
       "      <td>NaN</td>\n",
       "    </tr>\n",
       "    <tr>\n",
       "      <th>3</th>\n",
       "      <td>4</td>\n",
       "      <td>310608</td>\n",
       "      <td>1418858.0</td>\n",
       "      <td>2195047.0</td>\n",
       "      <td>3757447.0</td>\n",
       "      <td>4029929.0</td>\n",
       "      <td>4381982.0</td>\n",
       "      <td>4588268.0</td>\n",
       "      <td>NaN</td>\n",
       "      <td>NaN</td>\n",
       "      <td>NaN</td>\n",
       "    </tr>\n",
       "    <tr>\n",
       "      <th>4</th>\n",
       "      <td>5</td>\n",
       "      <td>443160</td>\n",
       "      <td>1136350.0</td>\n",
       "      <td>2128333.0</td>\n",
       "      <td>2897821.0</td>\n",
       "      <td>3402672.0</td>\n",
       "      <td>3873311.0</td>\n",
       "      <td>NaN</td>\n",
       "      <td>NaN</td>\n",
       "      <td>NaN</td>\n",
       "      <td>NaN</td>\n",
       "    </tr>\n",
       "    <tr>\n",
       "      <th>5</th>\n",
       "      <td>6</td>\n",
       "      <td>396132</td>\n",
       "      <td>1333217.0</td>\n",
       "      <td>2180715.0</td>\n",
       "      <td>2985752.0</td>\n",
       "      <td>3691712.0</td>\n",
       "      <td>NaN</td>\n",
       "      <td>NaN</td>\n",
       "      <td>NaN</td>\n",
       "      <td>NaN</td>\n",
       "      <td>NaN</td>\n",
       "    </tr>\n",
       "    <tr>\n",
       "      <th>6</th>\n",
       "      <td>7</td>\n",
       "      <td>440832</td>\n",
       "      <td>1288463.0</td>\n",
       "      <td>2419861.0</td>\n",
       "      <td>3483130.0</td>\n",
       "      <td>NaN</td>\n",
       "      <td>NaN</td>\n",
       "      <td>NaN</td>\n",
       "      <td>NaN</td>\n",
       "      <td>NaN</td>\n",
       "      <td>NaN</td>\n",
       "    </tr>\n",
       "    <tr>\n",
       "      <th>7</th>\n",
       "      <td>8</td>\n",
       "      <td>359480</td>\n",
       "      <td>1421128.0</td>\n",
       "      <td>2864498.0</td>\n",
       "      <td>NaN</td>\n",
       "      <td>NaN</td>\n",
       "      <td>NaN</td>\n",
       "      <td>NaN</td>\n",
       "      <td>NaN</td>\n",
       "      <td>NaN</td>\n",
       "      <td>NaN</td>\n",
       "    </tr>\n",
       "    <tr>\n",
       "      <th>8</th>\n",
       "      <td>9</td>\n",
       "      <td>376686</td>\n",
       "      <td>1363294.0</td>\n",
       "      <td>NaN</td>\n",
       "      <td>NaN</td>\n",
       "      <td>NaN</td>\n",
       "      <td>NaN</td>\n",
       "      <td>NaN</td>\n",
       "      <td>NaN</td>\n",
       "      <td>NaN</td>\n",
       "      <td>NaN</td>\n",
       "    </tr>\n",
       "    <tr>\n",
       "      <th>9</th>\n",
       "      <td>10</td>\n",
       "      <td>344014</td>\n",
       "      <td>NaN</td>\n",
       "      <td>NaN</td>\n",
       "      <td>NaN</td>\n",
       "      <td>NaN</td>\n",
       "      <td>NaN</td>\n",
       "      <td>NaN</td>\n",
       "      <td>NaN</td>\n",
       "      <td>NaN</td>\n",
       "      <td>NaN</td>\n",
       "    </tr>\n",
       "  </tbody>\n",
       "</table>\n",
       "</div>"
      ],
      "text/plain": [
       "   AY       1          2          3          4          5          6  \\\n",
       "0   1  357848  1124788.0  1735330.0  2218270.0  2745596.0  3319994.0   \n",
       "1   2  352118  1236139.0  2170033.0  3353322.0  3799067.0  4120063.0   \n",
       "2   3  290507  1292306.0  2218525.0  3235179.0  3985995.0  4132918.0   \n",
       "3   4  310608  1418858.0  2195047.0  3757447.0  4029929.0  4381982.0   \n",
       "4   5  443160  1136350.0  2128333.0  2897821.0  3402672.0  3873311.0   \n",
       "5   6  396132  1333217.0  2180715.0  2985752.0  3691712.0        NaN   \n",
       "6   7  440832  1288463.0  2419861.0  3483130.0        NaN        NaN   \n",
       "7   8  359480  1421128.0  2864498.0        NaN        NaN        NaN   \n",
       "8   9  376686  1363294.0        NaN        NaN        NaN        NaN   \n",
       "9  10  344014        NaN        NaN        NaN        NaN        NaN   \n",
       "\n",
       "           7          8          9         10  \n",
       "0  3466336.0  3606286.0  3833515.0  3901463.0  \n",
       "1  4647867.0  4914039.0  5339085.0        NaN  \n",
       "2  4628910.0  4909315.0        NaN        NaN  \n",
       "3  4588268.0        NaN        NaN        NaN  \n",
       "4        NaN        NaN        NaN        NaN  \n",
       "5        NaN        NaN        NaN        NaN  \n",
       "6        NaN        NaN        NaN        NaN  \n",
       "7        NaN        NaN        NaN        NaN  \n",
       "8        NaN        NaN        NaN        NaN  \n",
       "9        NaN        NaN        NaN        NaN  "
      ]
     },
     "execution_count": 17,
     "metadata": {},
     "output_type": "execute_result"
    }
   ],
   "source": [
    "(t1.tri\n",
    " .reset_index()\n",
    " .rename(columns={'index':'origin'})\n",
    "#  .melt(id_vars='origin', var_name='dev', value_name='value')\n",
    "#  .assign(type_of_loss=t1.id)\n",
    ")"
   ]
  },
  {
   "cell_type": "code",
   "execution_count": 18,
   "metadata": {},
   "outputs": [
    {
     "data": {
      "text/html": [
       "<div>\n",
       "<style scoped>\n",
       "    .dataframe tbody tr th:only-of-type {\n",
       "        vertical-align: middle;\n",
       "    }\n",
       "\n",
       "    .dataframe tbody tr th {\n",
       "        vertical-align: top;\n",
       "    }\n",
       "\n",
       "    .dataframe thead th {\n",
       "        text-align: right;\n",
       "    }\n",
       "</style>\n",
       "<table border=\"1\" class=\"dataframe\">\n",
       "  <thead>\n",
       "    <tr style=\"text-align: right;\">\n",
       "      <th></th>\n",
       "      <th>1</th>\n",
       "      <th>2</th>\n",
       "      <th>3</th>\n",
       "      <th>4</th>\n",
       "      <th>5</th>\n",
       "      <th>6</th>\n",
       "      <th>7</th>\n",
       "      <th>8</th>\n",
       "      <th>9</th>\n",
       "      <th>10</th>\n",
       "    </tr>\n",
       "  </thead>\n",
       "  <tbody>\n",
       "    <tr>\n",
       "      <th>5 Years</th>\n",
       "      <td>3.244797</td>\n",
       "      <td>1.786666</td>\n",
       "      <td>1.468194</td>\n",
       "      <td>1.165122</td>\n",
       "      <td>1.103824</td>\n",
       "      <td>1.086269</td>\n",
       "      <td>1.053874</td>\n",
       "      <td>1.076555</td>\n",
       "      <td>1.017725</td>\n",
       "      <td>1.0</td>\n",
       "    </tr>\n",
       "    <tr>\n",
       "      <th>3 Years</th>\n",
       "      <td>3.460401</td>\n",
       "      <td>1.846507</td>\n",
       "      <td>1.392009</td>\n",
       "      <td>1.153852</td>\n",
       "      <td>1.084915</td>\n",
       "      <td>1.097355</td>\n",
       "      <td>1.053874</td>\n",
       "      <td>1.076555</td>\n",
       "      <td>1.017725</td>\n",
       "      <td>1.0</td>\n",
       "    </tr>\n",
       "    <tr>\n",
       "      <th>2 Years</th>\n",
       "      <td>3.782329</td>\n",
       "      <td>1.950242</td>\n",
       "      <td>1.406103</td>\n",
       "      <td>1.205795</td>\n",
       "      <td>1.110687</td>\n",
       "      <td>1.082476</td>\n",
       "      <td>1.058919</td>\n",
       "      <td>1.076555</td>\n",
       "      <td>1.017725</td>\n",
       "      <td>1.0</td>\n",
       "    </tr>\n",
       "  </tbody>\n",
       "</table>\n",
       "</div>"
      ],
      "text/plain": [
       "                1         2         3         4         5         6         7  \\\n",
       "5 Years  3.244797  1.786666  1.468194  1.165122  1.103824  1.086269  1.053874   \n",
       "3 Years  3.460401  1.846507  1.392009  1.153852  1.084915  1.097355  1.053874   \n",
       "2 Years  3.782329  1.950242  1.406103  1.205795  1.110687  1.082476  1.058919   \n",
       "\n",
       "                8         9   10  \n",
       "5 Years  1.076555  1.017725  1.0  \n",
       "3 Years  1.076555  1.017725  1.0  \n",
       "2 Years  1.076555  1.017725  1.0  "
      ]
     },
     "execution_count": 18,
     "metadata": {},
     "output_type": "execute_result"
    }
   ],
   "source": [
    "# type(rsv.tri.paid_loss)\n",
    "rsv.tri.paid_loss.ata('vwa')\n",
    "\n",
    "vol_wtd = {\n",
    "                '5 Years': rsv.tri.paid_loss.ata('vwa', 5),\n",
    "                '3 Years': rsv.tri.paid_loss.ata('vwa', 3),\n",
    "                '2 Years': rsv.tri.paid_loss.ata('vwa', 2),\n",
    "\n",
    "                # '5 Years': self.triangle.ata('vwa', 5),\n",
    "                # '3 Years': self.triangle.ata('vwa', 3),\n",
    "                # '2 Years': self.triangle.ata('vwa', 2),\n",
    "            }\n",
    "pd.DataFrame(vol_wtd).transpose()"
   ]
  },
  {
   "cell_type": "code",
   "execution_count": 19,
   "metadata": {},
   "outputs": [
    {
     "data": {
      "text/plain": [
       "\"paid_loss\""
      ]
     },
     "execution_count": 19,
     "metadata": {},
     "output_type": "execute_result"
    }
   ],
   "source": [
    "rsv.tri"
   ]
  },
  {
   "cell_type": "code",
   "execution_count": 20,
   "metadata": {},
   "outputs": [
    {
     "data": {
      "text/html": [
       "<div>\n",
       "<style scoped>\n",
       "    .dataframe tbody tr th:only-of-type {\n",
       "        vertical-align: middle;\n",
       "    }\n",
       "\n",
       "    .dataframe tbody tr th {\n",
       "        vertical-align: top;\n",
       "    }\n",
       "\n",
       "    .dataframe thead th {\n",
       "        text-align: right;\n",
       "    }\n",
       "</style>\n",
       "<table border=\"1\" class=\"dataframe\">\n",
       "  <thead>\n",
       "    <tr style=\"text-align: right;\">\n",
       "      <th></th>\n",
       "      <th>1</th>\n",
       "      <th>2</th>\n",
       "      <th>3</th>\n",
       "      <th>4</th>\n",
       "      <th>5</th>\n",
       "      <th>6</th>\n",
       "      <th>7</th>\n",
       "      <th>8</th>\n",
       "      <th>9</th>\n",
       "    </tr>\n",
       "  </thead>\n",
       "  <tbody>\n",
       "    <tr>\n",
       "      <th>1</th>\n",
       "      <td>3.143</td>\n",
       "      <td>1.543</td>\n",
       "      <td>1.278</td>\n",
       "      <td>1.238</td>\n",
       "      <td>1.209</td>\n",
       "      <td>1.044</td>\n",
       "      <td>1.04</td>\n",
       "      <td>1.063</td>\n",
       "      <td>1.018</td>\n",
       "    </tr>\n",
       "    <tr>\n",
       "      <th>2</th>\n",
       "      <td>3.511</td>\n",
       "      <td>1.755</td>\n",
       "      <td>1.545</td>\n",
       "      <td>1.133</td>\n",
       "      <td>1.084</td>\n",
       "      <td>1.128</td>\n",
       "      <td>1.057</td>\n",
       "      <td>1.086</td>\n",
       "      <td></td>\n",
       "    </tr>\n",
       "    <tr>\n",
       "      <th>3</th>\n",
       "      <td>4.448</td>\n",
       "      <td>1.717</td>\n",
       "      <td>1.458</td>\n",
       "      <td>1.232</td>\n",
       "      <td>1.037</td>\n",
       "      <td>1.12</td>\n",
       "      <td>1.061</td>\n",
       "      <td></td>\n",
       "      <td></td>\n",
       "    </tr>\n",
       "    <tr>\n",
       "      <th>4</th>\n",
       "      <td>4.568</td>\n",
       "      <td>1.547</td>\n",
       "      <td>1.712</td>\n",
       "      <td>1.073</td>\n",
       "      <td>1.087</td>\n",
       "      <td>1.047</td>\n",
       "      <td></td>\n",
       "      <td></td>\n",
       "      <td></td>\n",
       "    </tr>\n",
       "    <tr>\n",
       "      <th>5</th>\n",
       "      <td>2.564</td>\n",
       "      <td>1.873</td>\n",
       "      <td>1.362</td>\n",
       "      <td>1.174</td>\n",
       "      <td>1.138</td>\n",
       "      <td></td>\n",
       "      <td></td>\n",
       "      <td></td>\n",
       "      <td></td>\n",
       "    </tr>\n",
       "    <tr>\n",
       "      <th>6</th>\n",
       "      <td>3.366</td>\n",
       "      <td>1.636</td>\n",
       "      <td>1.369</td>\n",
       "      <td>1.236</td>\n",
       "      <td></td>\n",
       "      <td></td>\n",
       "      <td></td>\n",
       "      <td></td>\n",
       "      <td></td>\n",
       "    </tr>\n",
       "    <tr>\n",
       "      <th>7</th>\n",
       "      <td>2.923</td>\n",
       "      <td>1.878</td>\n",
       "      <td>1.439</td>\n",
       "      <td></td>\n",
       "      <td></td>\n",
       "      <td></td>\n",
       "      <td></td>\n",
       "      <td></td>\n",
       "      <td></td>\n",
       "    </tr>\n",
       "    <tr>\n",
       "      <th>8</th>\n",
       "      <td>3.953</td>\n",
       "      <td>2.016</td>\n",
       "      <td></td>\n",
       "      <td></td>\n",
       "      <td></td>\n",
       "      <td></td>\n",
       "      <td></td>\n",
       "      <td></td>\n",
       "      <td></td>\n",
       "    </tr>\n",
       "    <tr>\n",
       "      <th>9</th>\n",
       "      <td>3.619</td>\n",
       "      <td></td>\n",
       "      <td></td>\n",
       "      <td></td>\n",
       "      <td></td>\n",
       "      <td></td>\n",
       "      <td></td>\n",
       "      <td></td>\n",
       "      <td></td>\n",
       "    </tr>\n",
       "    <tr>\n",
       "      <th>Vol wtd</th>\n",
       "      <td></td>\n",
       "      <td></td>\n",
       "      <td></td>\n",
       "      <td></td>\n",
       "      <td></td>\n",
       "      <td></td>\n",
       "      <td></td>\n",
       "      <td></td>\n",
       "      <td></td>\n",
       "    </tr>\n",
       "    <tr>\n",
       "      <th>all years</th>\n",
       "      <td>3.491</td>\n",
       "      <td>1.747</td>\n",
       "      <td>1.457</td>\n",
       "      <td>1.174</td>\n",
       "      <td>1.104</td>\n",
       "      <td>1.086</td>\n",
       "      <td>1.054</td>\n",
       "      <td>1.077</td>\n",
       "      <td>1.018</td>\n",
       "    </tr>\n",
       "    <tr>\n",
       "      <th>5 years</th>\n",
       "      <td>3.245</td>\n",
       "      <td>1.787</td>\n",
       "      <td>1.468</td>\n",
       "      <td>1.165</td>\n",
       "      <td>1.104</td>\n",
       "      <td>1.086</td>\n",
       "      <td>1.054</td>\n",
       "      <td>1.077</td>\n",
       "      <td>1.018</td>\n",
       "    </tr>\n",
       "    <tr>\n",
       "      <th>3 years</th>\n",
       "      <td>3.46</td>\n",
       "      <td>1.847</td>\n",
       "      <td>1.392</td>\n",
       "      <td>1.154</td>\n",
       "      <td>1.085</td>\n",
       "      <td>1.097</td>\n",
       "      <td>1.054</td>\n",
       "      <td>1.077</td>\n",
       "      <td>1.018</td>\n",
       "    </tr>\n",
       "    <tr>\n",
       "      <th>2 years</th>\n",
       "      <td>3.782</td>\n",
       "      <td>1.95</td>\n",
       "      <td>1.406</td>\n",
       "      <td>1.206</td>\n",
       "      <td>1.111</td>\n",
       "      <td>1.082</td>\n",
       "      <td>1.059</td>\n",
       "      <td>1.077</td>\n",
       "      <td>1.018</td>\n",
       "    </tr>\n",
       "    <tr>\n",
       "      <th>Simple</th>\n",
       "      <td></td>\n",
       "      <td></td>\n",
       "      <td></td>\n",
       "      <td></td>\n",
       "      <td></td>\n",
       "      <td></td>\n",
       "      <td></td>\n",
       "      <td></td>\n",
       "      <td></td>\n",
       "    </tr>\n",
       "    <tr>\n",
       "      <th>all years</th>\n",
       "      <td>3.566</td>\n",
       "      <td>1.746</td>\n",
       "      <td>1.452</td>\n",
       "      <td>1.181</td>\n",
       "      <td>1.111</td>\n",
       "      <td>1.085</td>\n",
       "      <td>1.053</td>\n",
       "      <td>1.075</td>\n",
       "      <td>1.018</td>\n",
       "    </tr>\n",
       "    <tr>\n",
       "      <th>5 years</th>\n",
       "      <td>3.285</td>\n",
       "      <td>1.79</td>\n",
       "      <td>1.468</td>\n",
       "      <td>1.17</td>\n",
       "      <td>1.111</td>\n",
       "      <td>1.085</td>\n",
       "      <td>1.053</td>\n",
       "      <td>1.075</td>\n",
       "      <td>1.018</td>\n",
       "    </tr>\n",
       "    <tr>\n",
       "      <th>3 years</th>\n",
       "      <td>3.498</td>\n",
       "      <td>1.843</td>\n",
       "      <td>1.39</td>\n",
       "      <td>1.161</td>\n",
       "      <td>1.088</td>\n",
       "      <td>1.098</td>\n",
       "      <td>1.053</td>\n",
       "      <td>1.075</td>\n",
       "      <td>1.018</td>\n",
       "    </tr>\n",
       "    <tr>\n",
       "      <th>2 years</th>\n",
       "      <td>3.786</td>\n",
       "      <td>1.947</td>\n",
       "      <td>1.404</td>\n",
       "      <td>1.205</td>\n",
       "      <td>1.113</td>\n",
       "      <td>1.084</td>\n",
       "      <td>1.059</td>\n",
       "      <td>1.075</td>\n",
       "      <td>1.018</td>\n",
       "    </tr>\n",
       "    <tr>\n",
       "      <th>Medial 5-Year</th>\n",
       "      <td></td>\n",
       "      <td></td>\n",
       "      <td></td>\n",
       "      <td></td>\n",
       "      <td></td>\n",
       "      <td></td>\n",
       "      <td></td>\n",
       "      <td></td>\n",
       "      <td></td>\n",
       "    </tr>\n",
       "    <tr>\n",
       "      <th>ex hi/low</th>\n",
       "      <td>3.303</td>\n",
       "      <td>1.796</td>\n",
       "      <td>1.422</td>\n",
       "      <td>1.18</td>\n",
       "      <td>1.103</td>\n",
       "      <td>1.084</td>\n",
       "      <td>1.057</td>\n",
       "      <td>1.077</td>\n",
       "      <td>1.018</td>\n",
       "    </tr>\n",
       "    <tr>\n",
       "      <th>ex hi</th>\n",
       "      <td>3.118</td>\n",
       "      <td>1.733</td>\n",
       "      <td>1.407</td>\n",
       "      <td>1.153</td>\n",
       "      <td>1.087</td>\n",
       "      <td>1.07</td>\n",
       "      <td>1.049</td>\n",
       "      <td>1.063</td>\n",
       "      <td>1.018</td>\n",
       "    </tr>\n",
       "    <tr>\n",
       "      <th>ex low</th>\n",
       "      <td>3.465</td>\n",
       "      <td>1.851</td>\n",
       "      <td>1.495</td>\n",
       "      <td>1.194</td>\n",
       "      <td>1.13</td>\n",
       "      <td>1.098</td>\n",
       "      <td>1.059</td>\n",
       "      <td>1.086</td>\n",
       "      <td>1.018</td>\n",
       "    </tr>\n",
       "  </tbody>\n",
       "</table>\n",
       "</div>"
      ],
      "text/plain": [
       "                   1      2      3      4      5      6      7      8      9\n",
       "1              3.143  1.543  1.278  1.238  1.209  1.044   1.04  1.063  1.018\n",
       "2              3.511  1.755  1.545  1.133  1.084  1.128  1.057  1.086       \n",
       "3              4.448  1.717  1.458  1.232  1.037   1.12  1.061              \n",
       "4              4.568  1.547  1.712  1.073  1.087  1.047                     \n",
       "5              2.564  1.873  1.362  1.174  1.138                            \n",
       "6              3.366  1.636  1.369  1.236                                   \n",
       "7              2.923  1.878  1.439                                          \n",
       "8              3.953  2.016                                                 \n",
       "9              3.619                                                        \n",
       "Vol wtd                                                                     \n",
       "all years      3.491  1.747  1.457  1.174  1.104  1.086  1.054  1.077  1.018\n",
       "5 years        3.245  1.787  1.468  1.165  1.104  1.086  1.054  1.077  1.018\n",
       "3 years         3.46  1.847  1.392  1.154  1.085  1.097  1.054  1.077  1.018\n",
       "2 years        3.782   1.95  1.406  1.206  1.111  1.082  1.059  1.077  1.018\n",
       "Simple                                                                      \n",
       "all years      3.566  1.746  1.452  1.181  1.111  1.085  1.053  1.075  1.018\n",
       "5 years        3.285   1.79  1.468   1.17  1.111  1.085  1.053  1.075  1.018\n",
       "3 years        3.498  1.843   1.39  1.161  1.088  1.098  1.053  1.075  1.018\n",
       "2 years        3.786  1.947  1.404  1.205  1.113  1.084  1.059  1.075  1.018\n",
       "Medial 5-Year                                                               \n",
       "ex hi/low      3.303  1.796  1.422   1.18  1.103  1.084  1.057  1.077  1.018\n",
       "ex hi          3.118  1.733  1.407  1.153  1.087   1.07  1.049  1.063  1.018\n",
       "ex low         3.465  1.851  1.495  1.194   1.13  1.098  1.059  1.086  1.018"
      ]
     },
     "execution_count": 20,
     "metadata": {},
     "output_type": "execute_result"
    }
   ],
   "source": [
    "vol_wtd  = pd.DataFrame({\n",
    "    # 'vol wtd all years': rsv.tri.paid_loss.ata('vwa'),\n",
    "    'Vol wtd': [\"\" for _ in range(10)],\n",
    "    'all years': rsv.tri.paid_loss.ata('vwa').round(3)\n",
    "    , '5 years': rsv.tri.paid_loss.ata('vwa', 5).round(3)\n",
    "    , '3 years': rsv.tri.paid_loss.ata('vwa', 3).round(3)\n",
    "    , '2 years': rsv.tri.paid_loss.ata('vwa', 2).round(3)\n",
    "    }).transpose()\n",
    "\n",
    "simple = pd.DataFrame({\n",
    "    'Simple': [\"\" for _ in range(10)],\n",
    "    'all years': rsv.tri.paid_loss.ata('simple').round(3),\n",
    "    '5 years': rsv.tri.paid_loss.ata('simple', 5).round(3),\n",
    "    '3 years': rsv.tri.paid_loss.ata('simple', 3).round(3),\n",
    "    '2 years': rsv.tri.paid_loss.ata('simple', 2).round(3)}).transpose()\n",
    "\n",
    "medial = pd.DataFrame({\n",
    "    'Medial 5-Year': [\"\" for _ in range(10)],\n",
    "    'ex hi/low': rsv.tri.paid_loss.ata('medial', 5, excludes='hl').round(3),\n",
    "    'ex hi': rsv.tri.paid_loss.ata('medial', 5, excludes='h').round(3),\n",
    "    'ex low': rsv.tri.paid_loss.ata('medial', 5, excludes='l').round(3),\n",
    "                         }).transpose()\n",
    "\n",
    "pd.concat([rsv.tri.paid_loss.ata().round(3).drop(index=10), vol_wtd, simple, medial], axis=0).drop(columns='10').fillna('')"
   ]
  },
  {
   "cell_type": "code",
   "execution_count": 21,
   "metadata": {},
   "outputs": [
    {
     "data": {
      "text/html": [
       "<div>\n",
       "<style scoped>\n",
       "    .dataframe tbody tr th:only-of-type {\n",
       "        vertical-align: middle;\n",
       "    }\n",
       "\n",
       "    .dataframe tbody tr th {\n",
       "        vertical-align: top;\n",
       "    }\n",
       "\n",
       "    .dataframe thead th {\n",
       "        text-align: right;\n",
       "    }\n",
       "</style>\n",
       "<table border=\"1\" class=\"dataframe\">\n",
       "  <thead>\n",
       "    <tr style=\"text-align: right;\">\n",
       "      <th></th>\n",
       "      <th>1</th>\n",
       "      <th>2</th>\n",
       "      <th>3</th>\n",
       "      <th>4</th>\n",
       "      <th>5</th>\n",
       "      <th>6</th>\n",
       "      <th>7</th>\n",
       "      <th>8</th>\n",
       "      <th>9</th>\n",
       "    </tr>\n",
       "  </thead>\n",
       "  <tbody>\n",
       "    <tr>\n",
       "      <th>1</th>\n",
       "      <td>3.143</td>\n",
       "      <td>1.543</td>\n",
       "      <td>1.278</td>\n",
       "      <td>1.238</td>\n",
       "      <td>1.209</td>\n",
       "      <td>1.044</td>\n",
       "      <td>1.04</td>\n",
       "      <td>1.063</td>\n",
       "      <td>1.018</td>\n",
       "    </tr>\n",
       "    <tr>\n",
       "      <th>2</th>\n",
       "      <td>3.511</td>\n",
       "      <td>1.755</td>\n",
       "      <td>1.545</td>\n",
       "      <td>1.133</td>\n",
       "      <td>1.084</td>\n",
       "      <td>1.128</td>\n",
       "      <td>1.057</td>\n",
       "      <td>1.086</td>\n",
       "      <td></td>\n",
       "    </tr>\n",
       "    <tr>\n",
       "      <th>3</th>\n",
       "      <td>4.448</td>\n",
       "      <td>1.717</td>\n",
       "      <td>1.458</td>\n",
       "      <td>1.232</td>\n",
       "      <td>1.037</td>\n",
       "      <td>1.12</td>\n",
       "      <td>1.061</td>\n",
       "      <td></td>\n",
       "      <td></td>\n",
       "    </tr>\n",
       "    <tr>\n",
       "      <th>4</th>\n",
       "      <td>4.568</td>\n",
       "      <td>1.547</td>\n",
       "      <td>1.712</td>\n",
       "      <td>1.073</td>\n",
       "      <td>1.087</td>\n",
       "      <td>1.047</td>\n",
       "      <td></td>\n",
       "      <td></td>\n",
       "      <td></td>\n",
       "    </tr>\n",
       "    <tr>\n",
       "      <th>5</th>\n",
       "      <td>2.564</td>\n",
       "      <td>1.873</td>\n",
       "      <td>1.362</td>\n",
       "      <td>1.174</td>\n",
       "      <td>1.138</td>\n",
       "      <td></td>\n",
       "      <td></td>\n",
       "      <td></td>\n",
       "      <td></td>\n",
       "    </tr>\n",
       "    <tr>\n",
       "      <th>6</th>\n",
       "      <td>3.366</td>\n",
       "      <td>1.636</td>\n",
       "      <td>1.369</td>\n",
       "      <td>1.236</td>\n",
       "      <td></td>\n",
       "      <td></td>\n",
       "      <td></td>\n",
       "      <td></td>\n",
       "      <td></td>\n",
       "    </tr>\n",
       "    <tr>\n",
       "      <th>7</th>\n",
       "      <td>2.923</td>\n",
       "      <td>1.878</td>\n",
       "      <td>1.439</td>\n",
       "      <td></td>\n",
       "      <td></td>\n",
       "      <td></td>\n",
       "      <td></td>\n",
       "      <td></td>\n",
       "      <td></td>\n",
       "    </tr>\n",
       "    <tr>\n",
       "      <th>8</th>\n",
       "      <td>3.953</td>\n",
       "      <td>2.016</td>\n",
       "      <td></td>\n",
       "      <td></td>\n",
       "      <td></td>\n",
       "      <td></td>\n",
       "      <td></td>\n",
       "      <td></td>\n",
       "      <td></td>\n",
       "    </tr>\n",
       "    <tr>\n",
       "      <th>9</th>\n",
       "      <td>3.619</td>\n",
       "      <td></td>\n",
       "      <td></td>\n",
       "      <td></td>\n",
       "      <td></td>\n",
       "      <td></td>\n",
       "      <td></td>\n",
       "      <td></td>\n",
       "      <td></td>\n",
       "    </tr>\n",
       "    <tr>\n",
       "      <th>Vol Wtd</th>\n",
       "      <td></td>\n",
       "      <td></td>\n",
       "      <td></td>\n",
       "      <td></td>\n",
       "      <td></td>\n",
       "      <td></td>\n",
       "      <td></td>\n",
       "      <td></td>\n",
       "      <td></td>\n",
       "    </tr>\n",
       "    <tr>\n",
       "      <th>All Years</th>\n",
       "      <td>3.491</td>\n",
       "      <td>1.747</td>\n",
       "      <td>1.457</td>\n",
       "      <td>1.174</td>\n",
       "      <td>1.104</td>\n",
       "      <td>1.086</td>\n",
       "      <td>1.054</td>\n",
       "      <td>1.077</td>\n",
       "      <td>1.018</td>\n",
       "    </tr>\n",
       "    <tr>\n",
       "      <th>5 Years</th>\n",
       "      <td>3.245</td>\n",
       "      <td>1.787</td>\n",
       "      <td>1.468</td>\n",
       "      <td>1.165</td>\n",
       "      <td>1.104</td>\n",
       "      <td>1.086</td>\n",
       "      <td>1.054</td>\n",
       "      <td>1.077</td>\n",
       "      <td>1.018</td>\n",
       "    </tr>\n",
       "    <tr>\n",
       "      <th>3 Years</th>\n",
       "      <td>3.46</td>\n",
       "      <td>1.847</td>\n",
       "      <td>1.392</td>\n",
       "      <td>1.154</td>\n",
       "      <td>1.085</td>\n",
       "      <td>1.097</td>\n",
       "      <td>1.054</td>\n",
       "      <td>1.077</td>\n",
       "      <td>1.018</td>\n",
       "    </tr>\n",
       "    <tr>\n",
       "      <th>2 Years</th>\n",
       "      <td>3.782</td>\n",
       "      <td>1.95</td>\n",
       "      <td>1.406</td>\n",
       "      <td>1.206</td>\n",
       "      <td>1.111</td>\n",
       "      <td>1.082</td>\n",
       "      <td>1.059</td>\n",
       "      <td>1.077</td>\n",
       "      <td>1.018</td>\n",
       "    </tr>\n",
       "    <tr>\n",
       "      <th>Simple</th>\n",
       "      <td></td>\n",
       "      <td></td>\n",
       "      <td></td>\n",
       "      <td></td>\n",
       "      <td></td>\n",
       "      <td></td>\n",
       "      <td></td>\n",
       "      <td></td>\n",
       "      <td></td>\n",
       "    </tr>\n",
       "    <tr>\n",
       "      <th>All Years</th>\n",
       "      <td>3.566</td>\n",
       "      <td>1.746</td>\n",
       "      <td>1.452</td>\n",
       "      <td>1.181</td>\n",
       "      <td>1.111</td>\n",
       "      <td>1.085</td>\n",
       "      <td>1.053</td>\n",
       "      <td>1.075</td>\n",
       "      <td>1.018</td>\n",
       "    </tr>\n",
       "    <tr>\n",
       "      <th>5 Years</th>\n",
       "      <td>3.285</td>\n",
       "      <td>1.79</td>\n",
       "      <td>1.468</td>\n",
       "      <td>1.17</td>\n",
       "      <td>1.111</td>\n",
       "      <td>1.085</td>\n",
       "      <td>1.053</td>\n",
       "      <td>1.075</td>\n",
       "      <td>1.018</td>\n",
       "    </tr>\n",
       "    <tr>\n",
       "      <th>3 Years</th>\n",
       "      <td>3.498</td>\n",
       "      <td>1.843</td>\n",
       "      <td>1.39</td>\n",
       "      <td>1.161</td>\n",
       "      <td>1.088</td>\n",
       "      <td>1.098</td>\n",
       "      <td>1.053</td>\n",
       "      <td>1.075</td>\n",
       "      <td>1.018</td>\n",
       "    </tr>\n",
       "    <tr>\n",
       "      <th>2 Years</th>\n",
       "      <td>3.786</td>\n",
       "      <td>1.947</td>\n",
       "      <td>1.404</td>\n",
       "      <td>1.205</td>\n",
       "      <td>1.113</td>\n",
       "      <td>1.084</td>\n",
       "      <td>1.059</td>\n",
       "      <td>1.075</td>\n",
       "      <td>1.018</td>\n",
       "    </tr>\n",
       "    <tr>\n",
       "      <th>Medial 5-Year</th>\n",
       "      <td></td>\n",
       "      <td></td>\n",
       "      <td></td>\n",
       "      <td></td>\n",
       "      <td></td>\n",
       "      <td></td>\n",
       "      <td></td>\n",
       "      <td></td>\n",
       "      <td></td>\n",
       "    </tr>\n",
       "    <tr>\n",
       "      <th>Ex. Hi/Low</th>\n",
       "      <td>3.303</td>\n",
       "      <td>1.796</td>\n",
       "      <td>1.422</td>\n",
       "      <td>1.18</td>\n",
       "      <td>1.103</td>\n",
       "      <td>1.084</td>\n",
       "      <td>1.057</td>\n",
       "      <td>1.077</td>\n",
       "      <td>1.018</td>\n",
       "    </tr>\n",
       "    <tr>\n",
       "      <th>Ex. Hi</th>\n",
       "      <td>3.118</td>\n",
       "      <td>1.733</td>\n",
       "      <td>1.407</td>\n",
       "      <td>1.153</td>\n",
       "      <td>1.087</td>\n",
       "      <td>1.07</td>\n",
       "      <td>1.049</td>\n",
       "      <td>1.063</td>\n",
       "      <td>1.018</td>\n",
       "    </tr>\n",
       "    <tr>\n",
       "      <th>Ex. Low</th>\n",
       "      <td>3.465</td>\n",
       "      <td>1.851</td>\n",
       "      <td>1.495</td>\n",
       "      <td>1.194</td>\n",
       "      <td>1.13</td>\n",
       "      <td>1.098</td>\n",
       "      <td>1.059</td>\n",
       "      <td>1.086</td>\n",
       "      <td>1.018</td>\n",
       "    </tr>\n",
       "  </tbody>\n",
       "</table>\n",
       "</div>"
      ],
      "text/plain": [
       "                   1      2      3      4      5      6      7      8      9\n",
       "1              3.143  1.543  1.278  1.238  1.209  1.044   1.04  1.063  1.018\n",
       "2              3.511  1.755  1.545  1.133  1.084  1.128  1.057  1.086       \n",
       "3              4.448  1.717  1.458  1.232  1.037   1.12  1.061              \n",
       "4              4.568  1.547  1.712  1.073  1.087  1.047                     \n",
       "5              2.564  1.873  1.362  1.174  1.138                            \n",
       "6              3.366  1.636  1.369  1.236                                   \n",
       "7              2.923  1.878  1.439                                          \n",
       "8              3.953  2.016                                                 \n",
       "9              3.619                                                        \n",
       "Vol Wtd                                                                     \n",
       "All Years      3.491  1.747  1.457  1.174  1.104  1.086  1.054  1.077  1.018\n",
       "5 Years        3.245  1.787  1.468  1.165  1.104  1.086  1.054  1.077  1.018\n",
       "3 Years         3.46  1.847  1.392  1.154  1.085  1.097  1.054  1.077  1.018\n",
       "2 Years        3.782   1.95  1.406  1.206  1.111  1.082  1.059  1.077  1.018\n",
       "Simple                                                                      \n",
       "All Years      3.566  1.746  1.452  1.181  1.111  1.085  1.053  1.075  1.018\n",
       "5 Years        3.285   1.79  1.468   1.17  1.111  1.085  1.053  1.075  1.018\n",
       "3 Years        3.498  1.843   1.39  1.161  1.088  1.098  1.053  1.075  1.018\n",
       "2 Years        3.786  1.947  1.404  1.205  1.113  1.084  1.059  1.075  1.018\n",
       "Medial 5-Year                                                               \n",
       "Ex. Hi/Low     3.303  1.796  1.422   1.18  1.103  1.084  1.057  1.077  1.018\n",
       "Ex. Hi         3.118  1.733  1.407  1.153  1.087   1.07  1.049  1.063  1.018\n",
       "Ex. Low        3.465  1.851  1.495  1.194   1.13  1.098  1.059  1.086  1.018"
      ]
     },
     "execution_count": 21,
     "metadata": {},
     "output_type": "execute_result"
    }
   ],
   "source": [
    "rsv.tri.paid_loss.ata_summary()"
   ]
  },
  {
   "cell_type": "code",
   "execution_count": 22,
   "metadata": {},
   "outputs": [],
   "source": [
    "# melted = rsv.tri.paid_loss.melt_triangle()\n",
    "\n",
    "# melted['AY'] = melted['AY'].astype(str).str.zfill(4).astype('category')\n",
    "# melted['dev'] = melted['dev'].astype(str).str.zfill(4).astype('category')\n",
    "\n",
    "# dm_total = pd.get_dummies(melted, columns=['AY', 'dev'], drop_first=True)\n",
    "# dm_ay = pd.get_dummies(melted[['AY']], drop_first=True)\n",
    "# dm_dev = pd.get_dummies(melted[['dev']], drop_first=True)\n",
    "\n",
    "# #each row is a triangle cell, and is the cumulative sum of the previous AY and dev columns\n",
    "# cols = dm_ay.columns.tolist()\n",
    "# cols.reverse()\n",
    "# for i, c in enumerate(cols):\n",
    "#     if i==0:\n",
    "#         dm_total[c] = dm_ay[c]\n",
    "#     else:\n",
    "#         dm_total[c] = dm_ay[c] + dm_total[cols[i-1]]\n",
    "\n",
    "# cols = dm_dev.columns.tolist()\n",
    "# cols.reverse()\n",
    "# for i, c in enumerate(cols):\n",
    "#     if i==0:\n",
    "#         dm_total[c] = dm_dev[c]\n",
    "#     else:\n",
    "#         dm_total[c] = dm_dev[c] + dm_total[cols[i-1]]\n",
    "\n",
    "# # dm_total.insert(0, 'AY_dev', dm_total.index)\n",
    " \n",
    "# dm_total['paid_loss'].notnull().astype(int)"
   ]
  },
  {
   "cell_type": "code",
   "execution_count": 23,
   "metadata": {},
   "outputs": [],
   "source": [
    "# dm = rsv.tri.paid_loss.base_design_matrix()\n",
    "# X = dm.drop(columns='paid_loss')\n",
    "# y = dm['paid_loss']\n",
    "\n",
    "# X_train = X.loc[X.is_observed.eq(1)].rename(columns={'is_observed': 'intercecpt'})\n",
    "# y_train = y[X.is_observed.eq(1)]\n",
    "\n",
    "# X_forecast = X.loc[X.is_observed.eq(0)].rename(columns={'is_observed': 'intercecpt'}).assign(intercept=1)\n",
    "# y_forecast = y[X.is_observed.eq(0)]\n",
    "\n",
    "# X_train.head()"
   ]
  },
  {
   "attachments": {},
   "cell_type": "markdown",
   "metadata": {},
   "source": [
    "### incremental triangle"
   ]
  },
  {
   "cell_type": "code",
   "execution_count": 24,
   "metadata": {},
   "outputs": [
    {
     "data": {
      "text/html": [
       "<div>\n",
       "<style scoped>\n",
       "    .dataframe tbody tr th:only-of-type {\n",
       "        vertical-align: middle;\n",
       "    }\n",
       "\n",
       "    .dataframe tbody tr th {\n",
       "        vertical-align: top;\n",
       "    }\n",
       "\n",
       "    .dataframe thead th {\n",
       "        text-align: right;\n",
       "    }\n",
       "</style>\n",
       "<table border=\"1\" class=\"dataframe\">\n",
       "  <thead>\n",
       "    <tr style=\"text-align: right;\">\n",
       "      <th></th>\n",
       "      <th>1</th>\n",
       "      <th>2</th>\n",
       "      <th>3</th>\n",
       "      <th>4</th>\n",
       "      <th>5</th>\n",
       "      <th>6</th>\n",
       "      <th>7</th>\n",
       "      <th>8</th>\n",
       "      <th>9</th>\n",
       "      <th>10</th>\n",
       "    </tr>\n",
       "    <tr>\n",
       "      <th>AY</th>\n",
       "      <th></th>\n",
       "      <th></th>\n",
       "      <th></th>\n",
       "      <th></th>\n",
       "      <th></th>\n",
       "      <th></th>\n",
       "      <th></th>\n",
       "      <th></th>\n",
       "      <th></th>\n",
       "      <th></th>\n",
       "    </tr>\n",
       "  </thead>\n",
       "  <tbody>\n",
       "    <tr>\n",
       "      <th>1</th>\n",
       "      <td>357848</td>\n",
       "      <td>766940.0</td>\n",
       "      <td>610542.0</td>\n",
       "      <td>482940.0</td>\n",
       "      <td>527326.0</td>\n",
       "      <td>574398.0</td>\n",
       "      <td>146342.0</td>\n",
       "      <td>139950.0</td>\n",
       "      <td>227229.0</td>\n",
       "      <td>67948.0</td>\n",
       "    </tr>\n",
       "    <tr>\n",
       "      <th>2</th>\n",
       "      <td>352118</td>\n",
       "      <td>884021.0</td>\n",
       "      <td>933894.0</td>\n",
       "      <td>1183289.0</td>\n",
       "      <td>445745.0</td>\n",
       "      <td>320996.0</td>\n",
       "      <td>527804.0</td>\n",
       "      <td>266172.0</td>\n",
       "      <td>425046.0</td>\n",
       "      <td>NaN</td>\n",
       "    </tr>\n",
       "    <tr>\n",
       "      <th>3</th>\n",
       "      <td>290507</td>\n",
       "      <td>1001799.0</td>\n",
       "      <td>926219.0</td>\n",
       "      <td>1016654.0</td>\n",
       "      <td>750816.0</td>\n",
       "      <td>146923.0</td>\n",
       "      <td>495992.0</td>\n",
       "      <td>280405.0</td>\n",
       "      <td>NaN</td>\n",
       "      <td>NaN</td>\n",
       "    </tr>\n",
       "    <tr>\n",
       "      <th>4</th>\n",
       "      <td>310608</td>\n",
       "      <td>1108250.0</td>\n",
       "      <td>776189.0</td>\n",
       "      <td>1562400.0</td>\n",
       "      <td>272482.0</td>\n",
       "      <td>352053.0</td>\n",
       "      <td>206286.0</td>\n",
       "      <td>NaN</td>\n",
       "      <td>NaN</td>\n",
       "      <td>NaN</td>\n",
       "    </tr>\n",
       "    <tr>\n",
       "      <th>5</th>\n",
       "      <td>443160</td>\n",
       "      <td>693190.0</td>\n",
       "      <td>991983.0</td>\n",
       "      <td>769488.0</td>\n",
       "      <td>504851.0</td>\n",
       "      <td>470639.0</td>\n",
       "      <td>NaN</td>\n",
       "      <td>NaN</td>\n",
       "      <td>NaN</td>\n",
       "      <td>NaN</td>\n",
       "    </tr>\n",
       "    <tr>\n",
       "      <th>6</th>\n",
       "      <td>396132</td>\n",
       "      <td>937085.0</td>\n",
       "      <td>847498.0</td>\n",
       "      <td>805037.0</td>\n",
       "      <td>705960.0</td>\n",
       "      <td>NaN</td>\n",
       "      <td>NaN</td>\n",
       "      <td>NaN</td>\n",
       "      <td>NaN</td>\n",
       "      <td>NaN</td>\n",
       "    </tr>\n",
       "    <tr>\n",
       "      <th>7</th>\n",
       "      <td>440832</td>\n",
       "      <td>847631.0</td>\n",
       "      <td>1131398.0</td>\n",
       "      <td>1063269.0</td>\n",
       "      <td>NaN</td>\n",
       "      <td>NaN</td>\n",
       "      <td>NaN</td>\n",
       "      <td>NaN</td>\n",
       "      <td>NaN</td>\n",
       "      <td>NaN</td>\n",
       "    </tr>\n",
       "    <tr>\n",
       "      <th>8</th>\n",
       "      <td>359480</td>\n",
       "      <td>1061648.0</td>\n",
       "      <td>1443370.0</td>\n",
       "      <td>NaN</td>\n",
       "      <td>NaN</td>\n",
       "      <td>NaN</td>\n",
       "      <td>NaN</td>\n",
       "      <td>NaN</td>\n",
       "      <td>NaN</td>\n",
       "      <td>NaN</td>\n",
       "    </tr>\n",
       "    <tr>\n",
       "      <th>9</th>\n",
       "      <td>376686</td>\n",
       "      <td>986608.0</td>\n",
       "      <td>NaN</td>\n",
       "      <td>NaN</td>\n",
       "      <td>NaN</td>\n",
       "      <td>NaN</td>\n",
       "      <td>NaN</td>\n",
       "      <td>NaN</td>\n",
       "      <td>NaN</td>\n",
       "      <td>NaN</td>\n",
       "    </tr>\n",
       "    <tr>\n",
       "      <th>10</th>\n",
       "      <td>344014</td>\n",
       "      <td>NaN</td>\n",
       "      <td>NaN</td>\n",
       "      <td>NaN</td>\n",
       "      <td>NaN</td>\n",
       "      <td>NaN</td>\n",
       "      <td>NaN</td>\n",
       "      <td>NaN</td>\n",
       "      <td>NaN</td>\n",
       "      <td>NaN</td>\n",
       "    </tr>\n",
       "  </tbody>\n",
       "</table>\n",
       "</div>"
      ],
      "text/plain": [
       "         1          2          3          4         5         6         7  \\\n",
       "AY                                                                          \n",
       "1   357848   766940.0   610542.0   482940.0  527326.0  574398.0  146342.0   \n",
       "2   352118   884021.0   933894.0  1183289.0  445745.0  320996.0  527804.0   \n",
       "3   290507  1001799.0   926219.0  1016654.0  750816.0  146923.0  495992.0   \n",
       "4   310608  1108250.0   776189.0  1562400.0  272482.0  352053.0  206286.0   \n",
       "5   443160   693190.0   991983.0   769488.0  504851.0  470639.0       NaN   \n",
       "6   396132   937085.0   847498.0   805037.0  705960.0       NaN       NaN   \n",
       "7   440832   847631.0  1131398.0  1063269.0       NaN       NaN       NaN   \n",
       "8   359480  1061648.0  1443370.0        NaN       NaN       NaN       NaN   \n",
       "9   376686   986608.0        NaN        NaN       NaN       NaN       NaN   \n",
       "10  344014        NaN        NaN        NaN       NaN       NaN       NaN   \n",
       "\n",
       "           8         9       10  \n",
       "AY                               \n",
       "1   139950.0  227229.0  67948.0  \n",
       "2   266172.0  425046.0      NaN  \n",
       "3   280405.0       NaN      NaN  \n",
       "4        NaN       NaN      NaN  \n",
       "5        NaN       NaN      NaN  \n",
       "6        NaN       NaN      NaN  \n",
       "7        NaN       NaN      NaN  \n",
       "8        NaN       NaN      NaN  \n",
       "9        NaN       NaN      NaN  \n",
       "10       NaN       NaN      NaN  "
      ]
     },
     "execution_count": 24,
     "metadata": {},
     "output_type": "execute_result"
    }
   ],
   "source": [
    "rsv.tri.paid_loss.cum_to_inc()\n",
    "rsv.tri.paid_loss.incr_triangle"
   ]
  },
  {
   "attachments": {},
   "cell_type": "markdown",
   "metadata": {},
   "source": [
    "### build design matrix `X` for a linear model\n",
    "- the ay parameters and dev parameters are represented by trends, not levels"
   ]
  },
  {
   "cell_type": "code",
   "execution_count": 25,
   "metadata": {},
   "outputs": [
    {
     "data": {
      "text/html": [
       "<div>\n",
       "<style scoped>\n",
       "    .dataframe tbody tr th:only-of-type {\n",
       "        vertical-align: middle;\n",
       "    }\n",
       "\n",
       "    .dataframe tbody tr th {\n",
       "        vertical-align: top;\n",
       "    }\n",
       "\n",
       "    .dataframe thead th {\n",
       "        text-align: right;\n",
       "    }\n",
       "</style>\n",
       "<table border=\"1\" class=\"dataframe\">\n",
       "  <thead>\n",
       "    <tr style=\"text-align: right;\">\n",
       "      <th></th>\n",
       "      <th>intercept</th>\n",
       "      <th>AY_0002</th>\n",
       "      <th>AY_0003</th>\n",
       "      <th>AY_0004</th>\n",
       "      <th>AY_0005</th>\n",
       "      <th>AY_0006</th>\n",
       "      <th>AY_0007</th>\n",
       "      <th>AY_0008</th>\n",
       "      <th>AY_0009</th>\n",
       "      <th>AY_0010</th>\n",
       "      <th>dev_0002</th>\n",
       "      <th>dev_0003</th>\n",
       "      <th>dev_0004</th>\n",
       "      <th>dev_0005</th>\n",
       "      <th>dev_0006</th>\n",
       "      <th>dev_0007</th>\n",
       "      <th>dev_0008</th>\n",
       "      <th>dev_0009</th>\n",
       "      <th>dev_0010</th>\n",
       "    </tr>\n",
       "  </thead>\n",
       "  <tbody>\n",
       "    <tr>\n",
       "      <th>0</th>\n",
       "      <td>1</td>\n",
       "      <td>0</td>\n",
       "      <td>0</td>\n",
       "      <td>0</td>\n",
       "      <td>0</td>\n",
       "      <td>0</td>\n",
       "      <td>0</td>\n",
       "      <td>0</td>\n",
       "      <td>0</td>\n",
       "      <td>0</td>\n",
       "      <td>0</td>\n",
       "      <td>0</td>\n",
       "      <td>0</td>\n",
       "      <td>0</td>\n",
       "      <td>0</td>\n",
       "      <td>0</td>\n",
       "      <td>0</td>\n",
       "      <td>0</td>\n",
       "      <td>0</td>\n",
       "    </tr>\n",
       "    <tr>\n",
       "      <th>1</th>\n",
       "      <td>1</td>\n",
       "      <td>1</td>\n",
       "      <td>0</td>\n",
       "      <td>0</td>\n",
       "      <td>0</td>\n",
       "      <td>0</td>\n",
       "      <td>0</td>\n",
       "      <td>0</td>\n",
       "      <td>0</td>\n",
       "      <td>0</td>\n",
       "      <td>0</td>\n",
       "      <td>0</td>\n",
       "      <td>0</td>\n",
       "      <td>0</td>\n",
       "      <td>0</td>\n",
       "      <td>0</td>\n",
       "      <td>0</td>\n",
       "      <td>0</td>\n",
       "      <td>0</td>\n",
       "    </tr>\n",
       "    <tr>\n",
       "      <th>2</th>\n",
       "      <td>1</td>\n",
       "      <td>1</td>\n",
       "      <td>1</td>\n",
       "      <td>0</td>\n",
       "      <td>0</td>\n",
       "      <td>0</td>\n",
       "      <td>0</td>\n",
       "      <td>0</td>\n",
       "      <td>0</td>\n",
       "      <td>0</td>\n",
       "      <td>0</td>\n",
       "      <td>0</td>\n",
       "      <td>0</td>\n",
       "      <td>0</td>\n",
       "      <td>0</td>\n",
       "      <td>0</td>\n",
       "      <td>0</td>\n",
       "      <td>0</td>\n",
       "      <td>0</td>\n",
       "    </tr>\n",
       "    <tr>\n",
       "      <th>3</th>\n",
       "      <td>1</td>\n",
       "      <td>1</td>\n",
       "      <td>1</td>\n",
       "      <td>1</td>\n",
       "      <td>0</td>\n",
       "      <td>0</td>\n",
       "      <td>0</td>\n",
       "      <td>0</td>\n",
       "      <td>0</td>\n",
       "      <td>0</td>\n",
       "      <td>0</td>\n",
       "      <td>0</td>\n",
       "      <td>0</td>\n",
       "      <td>0</td>\n",
       "      <td>0</td>\n",
       "      <td>0</td>\n",
       "      <td>0</td>\n",
       "      <td>0</td>\n",
       "      <td>0</td>\n",
       "    </tr>\n",
       "    <tr>\n",
       "      <th>4</th>\n",
       "      <td>1</td>\n",
       "      <td>1</td>\n",
       "      <td>1</td>\n",
       "      <td>1</td>\n",
       "      <td>1</td>\n",
       "      <td>0</td>\n",
       "      <td>0</td>\n",
       "      <td>0</td>\n",
       "      <td>0</td>\n",
       "      <td>0</td>\n",
       "      <td>0</td>\n",
       "      <td>0</td>\n",
       "      <td>0</td>\n",
       "      <td>0</td>\n",
       "      <td>0</td>\n",
       "      <td>0</td>\n",
       "      <td>0</td>\n",
       "      <td>0</td>\n",
       "      <td>0</td>\n",
       "    </tr>\n",
       "  </tbody>\n",
       "</table>\n",
       "</div>"
      ],
      "text/plain": [
       "   intercept  AY_0002  AY_0003  AY_0004  AY_0005  AY_0006  AY_0007  AY_0008  \\\n",
       "0          1        0        0        0        0        0        0        0   \n",
       "1          1        1        0        0        0        0        0        0   \n",
       "2          1        1        1        0        0        0        0        0   \n",
       "3          1        1        1        1        0        0        0        0   \n",
       "4          1        1        1        1        1        0        0        0   \n",
       "\n",
       "   AY_0009  AY_0010  dev_0002  dev_0003  dev_0004  dev_0005  dev_0006  \\\n",
       "0        0        0         0         0         0         0         0   \n",
       "1        0        0         0         0         0         0         0   \n",
       "2        0        0         0         0         0         0         0   \n",
       "3        0        0         0         0         0         0         0   \n",
       "4        0        0         0         0         0         0         0   \n",
       "\n",
       "   dev_0007  dev_0008  dev_0009  dev_0010  \n",
       "0         0         0         0         0  \n",
       "1         0         0         0         0  \n",
       "2         0         0         0         0  \n",
       "3         0         0         0         0  \n",
       "4         0         0         0         0  "
      ]
     },
     "execution_count": 25,
     "metadata": {},
     "output_type": "execute_result"
    }
   ],
   "source": [
    "rsv.tri.paid_loss.base_linear_model()\n",
    "X = rsv.tri.paid_loss.X_base_train\n",
    "X.head()"
   ]
  },
  {
   "attachments": {},
   "cell_type": "markdown",
   "metadata": {},
   "source": [
    "### use most recent calendar period as the validation period"
   ]
  },
  {
   "cell_type": "code",
   "execution_count": 26,
   "metadata": {},
   "outputs": [
    {
     "name": "stdout",
     "output_type": "stream",
     "text": [
      "X shape: (55, 19)\n",
      "X_train shape: (45, 19)\n",
      "X_val shape: (10, 19)\n"
     ]
    }
   ],
   "source": [
    "# cal periods\n",
    "X_id = rsv.tri.paid_loss.X_id_train\n",
    "\n",
    "X_train = X.loc[X_id.cal.ne(X_id.cal.max()), :]\n",
    "X_val = X.loc[X_id.cal.eq(X_id.cal.max()), :]\n",
    "\n",
    "print(f\"X shape: {X.shape}\")\n",
    "print(f\"X_train shape: {X_train.shape}\")\n",
    "print(f\"X_val shape: {X_val.shape}\")"
   ]
  },
  {
   "attachments": {},
   "cell_type": "markdown",
   "metadata": {},
   "source": [
    "### target `y` is the incremental loss"
   ]
  },
  {
   "cell_type": "code",
   "execution_count": 27,
   "metadata": {},
   "outputs": [
    {
     "name": "stdout",
     "output_type": "stream",
     "text": [
      "y shape: (55,)\n",
      "y_train shape: (45,)\n",
      "y_val shape: (10,)\n"
     ]
    }
   ],
   "source": [
    "y = rsv.tri.paid_loss.y_base_train\n",
    "y_train = y[X_id.cal.ne(X_id.cal.max())]\n",
    "y_val = y[X_id.cal.eq(X_id.cal.max())]\n",
    "\n",
    "print(f\"y shape: {y.shape}\")\n",
    "print(f\"y_train shape: {y_train.shape}\")\n",
    "print(f\"y_val shape: {y_val.shape}\")"
   ]
  },
  {
   "cell_type": "code",
   "execution_count": 28,
   "metadata": {},
   "outputs": [
    {
     "data": {
      "text/html": [
       "<div>\n",
       "<style scoped>\n",
       "    .dataframe tbody tr th:only-of-type {\n",
       "        vertical-align: middle;\n",
       "    }\n",
       "\n",
       "    .dataframe tbody tr th {\n",
       "        vertical-align: top;\n",
       "    }\n",
       "\n",
       "    .dataframe thead th {\n",
       "        text-align: right;\n",
       "    }\n",
       "</style>\n",
       "<table border=\"1\" class=\"dataframe\">\n",
       "  <thead>\n",
       "    <tr style=\"text-align: right;\">\n",
       "      <th></th>\n",
       "      <th>y</th>\n",
       "      <th>ay</th>\n",
       "      <th>dev</th>\n",
       "      <th>cal</th>\n",
       "      <th>intercept</th>\n",
       "      <th>AY_0002</th>\n",
       "      <th>AY_0003</th>\n",
       "      <th>AY_0004</th>\n",
       "      <th>AY_0005</th>\n",
       "      <th>AY_0006</th>\n",
       "      <th>...</th>\n",
       "      <th>AY_0010</th>\n",
       "      <th>dev_0002</th>\n",
       "      <th>dev_0003</th>\n",
       "      <th>dev_0004</th>\n",
       "      <th>dev_0005</th>\n",
       "      <th>dev_0006</th>\n",
       "      <th>dev_0007</th>\n",
       "      <th>dev_0008</th>\n",
       "      <th>dev_0009</th>\n",
       "      <th>dev_0010</th>\n",
       "    </tr>\n",
       "  </thead>\n",
       "  <tbody>\n",
       "    <tr>\n",
       "      <th>0</th>\n",
       "      <td>357848.0</td>\n",
       "      <td>1</td>\n",
       "      <td>1</td>\n",
       "      <td>1</td>\n",
       "      <td>1</td>\n",
       "      <td>0</td>\n",
       "      <td>0</td>\n",
       "      <td>0</td>\n",
       "      <td>0</td>\n",
       "      <td>0</td>\n",
       "      <td>...</td>\n",
       "      <td>0</td>\n",
       "      <td>0</td>\n",
       "      <td>0</td>\n",
       "      <td>0</td>\n",
       "      <td>0</td>\n",
       "      <td>0</td>\n",
       "      <td>0</td>\n",
       "      <td>0</td>\n",
       "      <td>0</td>\n",
       "      <td>0</td>\n",
       "    </tr>\n",
       "    <tr>\n",
       "      <th>1</th>\n",
       "      <td>352118.0</td>\n",
       "      <td>2</td>\n",
       "      <td>1</td>\n",
       "      <td>2</td>\n",
       "      <td>1</td>\n",
       "      <td>1</td>\n",
       "      <td>0</td>\n",
       "      <td>0</td>\n",
       "      <td>0</td>\n",
       "      <td>0</td>\n",
       "      <td>...</td>\n",
       "      <td>0</td>\n",
       "      <td>0</td>\n",
       "      <td>0</td>\n",
       "      <td>0</td>\n",
       "      <td>0</td>\n",
       "      <td>0</td>\n",
       "      <td>0</td>\n",
       "      <td>0</td>\n",
       "      <td>0</td>\n",
       "      <td>0</td>\n",
       "    </tr>\n",
       "    <tr>\n",
       "      <th>2</th>\n",
       "      <td>290507.0</td>\n",
       "      <td>3</td>\n",
       "      <td>1</td>\n",
       "      <td>3</td>\n",
       "      <td>1</td>\n",
       "      <td>1</td>\n",
       "      <td>1</td>\n",
       "      <td>0</td>\n",
       "      <td>0</td>\n",
       "      <td>0</td>\n",
       "      <td>...</td>\n",
       "      <td>0</td>\n",
       "      <td>0</td>\n",
       "      <td>0</td>\n",
       "      <td>0</td>\n",
       "      <td>0</td>\n",
       "      <td>0</td>\n",
       "      <td>0</td>\n",
       "      <td>0</td>\n",
       "      <td>0</td>\n",
       "      <td>0</td>\n",
       "    </tr>\n",
       "    <tr>\n",
       "      <th>3</th>\n",
       "      <td>310608.0</td>\n",
       "      <td>4</td>\n",
       "      <td>1</td>\n",
       "      <td>4</td>\n",
       "      <td>1</td>\n",
       "      <td>1</td>\n",
       "      <td>1</td>\n",
       "      <td>1</td>\n",
       "      <td>0</td>\n",
       "      <td>0</td>\n",
       "      <td>...</td>\n",
       "      <td>0</td>\n",
       "      <td>0</td>\n",
       "      <td>0</td>\n",
       "      <td>0</td>\n",
       "      <td>0</td>\n",
       "      <td>0</td>\n",
       "      <td>0</td>\n",
       "      <td>0</td>\n",
       "      <td>0</td>\n",
       "      <td>0</td>\n",
       "    </tr>\n",
       "    <tr>\n",
       "      <th>4</th>\n",
       "      <td>443160.0</td>\n",
       "      <td>5</td>\n",
       "      <td>1</td>\n",
       "      <td>5</td>\n",
       "      <td>1</td>\n",
       "      <td>1</td>\n",
       "      <td>1</td>\n",
       "      <td>1</td>\n",
       "      <td>1</td>\n",
       "      <td>0</td>\n",
       "      <td>...</td>\n",
       "      <td>0</td>\n",
       "      <td>0</td>\n",
       "      <td>0</td>\n",
       "      <td>0</td>\n",
       "      <td>0</td>\n",
       "      <td>0</td>\n",
       "      <td>0</td>\n",
       "      <td>0</td>\n",
       "      <td>0</td>\n",
       "      <td>0</td>\n",
       "    </tr>\n",
       "  </tbody>\n",
       "</table>\n",
       "<p>5 rows × 23 columns</p>\n",
       "</div>"
      ],
      "text/plain": [
       "          y  ay  dev  cal  intercept  AY_0002  AY_0003  AY_0004  AY_0005  \\\n",
       "0  357848.0   1    1    1          1        0        0        0        0   \n",
       "1  352118.0   2    1    2          1        1        0        0        0   \n",
       "2  290507.0   3    1    3          1        1        1        0        0   \n",
       "3  310608.0   4    1    4          1        1        1        1        0   \n",
       "4  443160.0   5    1    5          1        1        1        1        1   \n",
       "\n",
       "   AY_0006  ...  AY_0010  dev_0002  dev_0003  dev_0004  dev_0005  dev_0006  \\\n",
       "0        0  ...        0         0         0         0         0         0   \n",
       "1        0  ...        0         0         0         0         0         0   \n",
       "2        0  ...        0         0         0         0         0         0   \n",
       "3        0  ...        0         0         0         0         0         0   \n",
       "4        0  ...        0         0         0         0         0         0   \n",
       "\n",
       "   dev_0007  dev_0008  dev_0009  dev_0010  \n",
       "0         0         0         0         0  \n",
       "1         0         0         0         0  \n",
       "2         0         0         0         0  \n",
       "3         0         0         0         0  \n",
       "4         0         0         0         0  \n",
       "\n",
       "[5 rows x 23 columns]"
      ]
     },
     "execution_count": 28,
     "metadata": {},
     "output_type": "execute_result"
    }
   ],
   "source": [
    "pd.concat([pd.DataFrame(dict(y=y)), X_id, X], axis=1).head()"
   ]
  },
  {
   "attachments": {},
   "cell_type": "markdown",
   "metadata": {},
   "source": [
    "### fit the model"
   ]
  },
  {
   "cell_type": "code",
   "execution_count": 29,
   "metadata": {},
   "outputs": [
    {
     "data": {
      "text/html": [
       "<style>#sk-container-id-1 {color: black;background-color: white;}#sk-container-id-1 pre{padding: 0;}#sk-container-id-1 div.sk-toggleable {background-color: white;}#sk-container-id-1 label.sk-toggleable__label {cursor: pointer;display: block;width: 100%;margin-bottom: 0;padding: 0.3em;box-sizing: border-box;text-align: center;}#sk-container-id-1 label.sk-toggleable__label-arrow:before {content: \"▸\";float: left;margin-right: 0.25em;color: #696969;}#sk-container-id-1 label.sk-toggleable__label-arrow:hover:before {color: black;}#sk-container-id-1 div.sk-estimator:hover label.sk-toggleable__label-arrow:before {color: black;}#sk-container-id-1 div.sk-toggleable__content {max-height: 0;max-width: 0;overflow: hidden;text-align: left;background-color: #f0f8ff;}#sk-container-id-1 div.sk-toggleable__content pre {margin: 0.2em;color: black;border-radius: 0.25em;background-color: #f0f8ff;}#sk-container-id-1 input.sk-toggleable__control:checked~div.sk-toggleable__content {max-height: 200px;max-width: 100%;overflow: auto;}#sk-container-id-1 input.sk-toggleable__control:checked~label.sk-toggleable__label-arrow:before {content: \"▾\";}#sk-container-id-1 div.sk-estimator input.sk-toggleable__control:checked~label.sk-toggleable__label {background-color: #d4ebff;}#sk-container-id-1 div.sk-label input.sk-toggleable__control:checked~label.sk-toggleable__label {background-color: #d4ebff;}#sk-container-id-1 input.sk-hidden--visually {border: 0;clip: rect(1px 1px 1px 1px);clip: rect(1px, 1px, 1px, 1px);height: 1px;margin: -1px;overflow: hidden;padding: 0;position: absolute;width: 1px;}#sk-container-id-1 div.sk-estimator {font-family: monospace;background-color: #f0f8ff;border: 1px dotted black;border-radius: 0.25em;box-sizing: border-box;margin-bottom: 0.5em;}#sk-container-id-1 div.sk-estimator:hover {background-color: #d4ebff;}#sk-container-id-1 div.sk-parallel-item::after {content: \"\";width: 100%;border-bottom: 1px solid gray;flex-grow: 1;}#sk-container-id-1 div.sk-label:hover label.sk-toggleable__label {background-color: #d4ebff;}#sk-container-id-1 div.sk-serial::before {content: \"\";position: absolute;border-left: 1px solid gray;box-sizing: border-box;top: 0;bottom: 0;left: 50%;z-index: 0;}#sk-container-id-1 div.sk-serial {display: flex;flex-direction: column;align-items: center;background-color: white;padding-right: 0.2em;padding-left: 0.2em;position: relative;}#sk-container-id-1 div.sk-item {position: relative;z-index: 1;}#sk-container-id-1 div.sk-parallel {display: flex;align-items: stretch;justify-content: center;background-color: white;position: relative;}#sk-container-id-1 div.sk-item::before, #sk-container-id-1 div.sk-parallel-item::before {content: \"\";position: absolute;border-left: 1px solid gray;box-sizing: border-box;top: 0;bottom: 0;left: 50%;z-index: -1;}#sk-container-id-1 div.sk-parallel-item {display: flex;flex-direction: column;z-index: 1;position: relative;background-color: white;}#sk-container-id-1 div.sk-parallel-item:first-child::after {align-self: flex-end;width: 50%;}#sk-container-id-1 div.sk-parallel-item:last-child::after {align-self: flex-start;width: 50%;}#sk-container-id-1 div.sk-parallel-item:only-child::after {width: 0;}#sk-container-id-1 div.sk-dashed-wrapped {border: 1px dashed gray;margin: 0 0.4em 0.5em 0.4em;box-sizing: border-box;padding-bottom: 0.4em;background-color: white;}#sk-container-id-1 div.sk-label label {font-family: monospace;font-weight: bold;display: inline-block;line-height: 1.2em;}#sk-container-id-1 div.sk-label-container {text-align: center;}#sk-container-id-1 div.sk-container {/* jupyter's `normalize.less` sets `[hidden] { display: none; }` but bootstrap.min.css set `[hidden] { display: none !important; }` so we also need the `!important` here to be able to override the default hidden behavior on the sphinx rendered scikit-learn.org. See: https://github.com/scikit-learn/scikit-learn/issues/21755 */display: inline-block !important;position: relative;}#sk-container-id-1 div.sk-text-repr-fallback {display: none;}</style><div id=\"sk-container-id-1\" class=\"sk-top-container\"><div class=\"sk-text-repr-fallback\"><pre>PoissonRegressor(alpha=1, max_iter=1000)</pre><b>In a Jupyter environment, please rerun this cell to show the HTML representation or trust the notebook. <br />On GitHub, the HTML representation is unable to render, please try loading this page with nbviewer.org.</b></div><div class=\"sk-container\" hidden><div class=\"sk-item\"><div class=\"sk-estimator sk-toggleable\"><input class=\"sk-toggleable__control sk-hidden--visually\" id=\"sk-estimator-id-1\" type=\"checkbox\" checked><label for=\"sk-estimator-id-1\" class=\"sk-toggleable__label sk-toggleable__label-arrow\">PoissonRegressor</label><div class=\"sk-toggleable__content\"><pre>PoissonRegressor(alpha=1, max_iter=1000)</pre></div></div></div></div></div>"
      ],
      "text/plain": [
       "PoissonRegressor(alpha=1, max_iter=1000)"
      ]
     },
     "execution_count": 29,
     "metadata": {},
     "output_type": "execute_result"
    }
   ],
   "source": [
    "from sklearn.linear_model import PoissonRegressor\n",
    "\n",
    "model = PoissonRegressor(alpha=1, max_iter=1000)\n",
    "model.fit(X_train, y_train)\n"
   ]
  },
  {
   "cell_type": "code",
   "execution_count": 30,
   "metadata": {},
   "outputs": [
    {
     "data": {
      "text/html": [
       "<div>\n",
       "<style scoped>\n",
       "    .dataframe tbody tr th:only-of-type {\n",
       "        vertical-align: middle;\n",
       "    }\n",
       "\n",
       "    .dataframe tbody tr th {\n",
       "        vertical-align: top;\n",
       "    }\n",
       "\n",
       "    .dataframe thead th {\n",
       "        text-align: right;\n",
       "    }\n",
       "</style>\n",
       "<table border=\"1\" class=\"dataframe\">\n",
       "  <thead>\n",
       "    <tr style=\"text-align: right;\">\n",
       "      <th></th>\n",
       "      <th>params</th>\n",
       "      <th>coef</th>\n",
       "    </tr>\n",
       "  </thead>\n",
       "  <tbody>\n",
       "    <tr>\n",
       "      <th>0</th>\n",
       "      <td>intercept</td>\n",
       "      <td>12.554200</td>\n",
       "    </tr>\n",
       "    <tr>\n",
       "      <th>1</th>\n",
       "      <td>AY_0002</td>\n",
       "      <td>12.863926</td>\n",
       "    </tr>\n",
       "    <tr>\n",
       "      <th>2</th>\n",
       "      <td>AY_0003</td>\n",
       "      <td>12.543591</td>\n",
       "    </tr>\n",
       "    <tr>\n",
       "      <th>3</th>\n",
       "      <td>AY_0004</td>\n",
       "      <td>12.596011</td>\n",
       "    </tr>\n",
       "    <tr>\n",
       "      <th>4</th>\n",
       "      <td>AY_0005</td>\n",
       "      <td>12.393036</td>\n",
       "    </tr>\n",
       "    <tr>\n",
       "      <th>5</th>\n",
       "      <td>AY_0006</td>\n",
       "      <td>12.573752</td>\n",
       "    </tr>\n",
       "    <tr>\n",
       "      <th>6</th>\n",
       "      <td>AY_0007</td>\n",
       "      <td>12.723400</td>\n",
       "    </tr>\n",
       "    <tr>\n",
       "      <th>7</th>\n",
       "      <td>AY_0008</td>\n",
       "      <td>12.555323</td>\n",
       "    </tr>\n",
       "    <tr>\n",
       "      <th>8</th>\n",
       "      <td>AY_0009</td>\n",
       "      <td>12.472089</td>\n",
       "    </tr>\n",
       "    <tr>\n",
       "      <th>9</th>\n",
       "      <td>AY_0010</td>\n",
       "      <td>12.554519</td>\n",
       "    </tr>\n",
       "    <tr>\n",
       "      <th>10</th>\n",
       "      <td>dev_0002</td>\n",
       "      <td>13.460415</td>\n",
       "    </tr>\n",
       "    <tr>\n",
       "      <th>11</th>\n",
       "      <td>dev_0003</td>\n",
       "      <td>12.543208</td>\n",
       "    </tr>\n",
       "    <tr>\n",
       "      <th>12</th>\n",
       "      <td>dev_0004</td>\n",
       "      <td>12.663695</td>\n",
       "    </tr>\n",
       "    <tr>\n",
       "      <th>13</th>\n",
       "      <td>dev_0005</td>\n",
       "      <td>11.886599</td>\n",
       "    </tr>\n",
       "    <tr>\n",
       "      <th>14</th>\n",
       "      <td>dev_0006</td>\n",
       "      <td>12.180206</td>\n",
       "    </tr>\n",
       "    <tr>\n",
       "      <th>15</th>\n",
       "      <td>dev_0007</td>\n",
       "      <td>12.700248</td>\n",
       "    </tr>\n",
       "    <tr>\n",
       "      <th>16</th>\n",
       "      <td>dev_0008</td>\n",
       "      <td>11.947801</td>\n",
       "    </tr>\n",
       "    <tr>\n",
       "      <th>17</th>\n",
       "      <td>dev_0009</td>\n",
       "      <td>12.833438</td>\n",
       "    </tr>\n",
       "    <tr>\n",
       "      <th>18</th>\n",
       "      <td>dev_0010</td>\n",
       "      <td>12.554519</td>\n",
       "    </tr>\n",
       "  </tbody>\n",
       "</table>\n",
       "</div>"
      ],
      "text/plain": [
       "       params       coef\n",
       "0   intercept  12.554200\n",
       "1     AY_0002  12.863926\n",
       "2     AY_0003  12.543591\n",
       "3     AY_0004  12.596011\n",
       "4     AY_0005  12.393036\n",
       "5     AY_0006  12.573752\n",
       "6     AY_0007  12.723400\n",
       "7     AY_0008  12.555323\n",
       "8     AY_0009  12.472089\n",
       "9     AY_0010  12.554519\n",
       "10   dev_0002  13.460415\n",
       "11   dev_0003  12.543208\n",
       "12   dev_0004  12.663695\n",
       "13   dev_0005  11.886599\n",
       "14   dev_0006  12.180206\n",
       "15   dev_0007  12.700248\n",
       "16   dev_0008  11.947801\n",
       "17   dev_0009  12.833438\n",
       "18   dev_0010  12.554519"
      ]
     },
     "execution_count": 30,
     "metadata": {},
     "output_type": "execute_result"
    }
   ],
   "source": [
    "parameter_table = pd.DataFrame({   \n",
    "    'params':model.feature_names_in_\n",
    "    ,'coef':[model.intercept_] + model.coef_\n",
    "    })\n",
    "\n",
    "parameter_table"
   ]
  },
  {
   "cell_type": "code",
   "execution_count": 31,
   "metadata": {},
   "outputs": [
    {
     "data": {
      "text/html": [
       "<div>\n",
       "<style scoped>\n",
       "    .dataframe tbody tr th:only-of-type {\n",
       "        vertical-align: middle;\n",
       "    }\n",
       "\n",
       "    .dataframe tbody tr th {\n",
       "        vertical-align: top;\n",
       "    }\n",
       "\n",
       "    .dataframe thead th {\n",
       "        text-align: right;\n",
       "    }\n",
       "</style>\n",
       "<table border=\"1\" class=\"dataframe\">\n",
       "  <thead>\n",
       "    <tr style=\"text-align: right;\">\n",
       "      <th></th>\n",
       "      <th>raw_residual</th>\n",
       "      <th>y</th>\n",
       "      <th>y_pred</th>\n",
       "      <th>ay</th>\n",
       "      <th>dev</th>\n",
       "      <th>cal</th>\n",
       "      <th>intercept</th>\n",
       "      <th>AY_0002</th>\n",
       "      <th>AY_0003</th>\n",
       "      <th>AY_0004</th>\n",
       "      <th>...</th>\n",
       "      <th>AY_0010</th>\n",
       "      <th>dev_0002</th>\n",
       "      <th>dev_0003</th>\n",
       "      <th>dev_0004</th>\n",
       "      <th>dev_0005</th>\n",
       "      <th>dev_0006</th>\n",
       "      <th>dev_0007</th>\n",
       "      <th>dev_0008</th>\n",
       "      <th>dev_0009</th>\n",
       "      <th>dev_0010</th>\n",
       "    </tr>\n",
       "  </thead>\n",
       "  <tbody>\n",
       "    <tr>\n",
       "      <th>0</th>\n",
       "      <td>74565.451915</td>\n",
       "      <td>357848.0</td>\n",
       "      <td>283282.548085</td>\n",
       "      <td>1</td>\n",
       "      <td>1</td>\n",
       "      <td>1</td>\n",
       "      <td>1</td>\n",
       "      <td>0</td>\n",
       "      <td>0</td>\n",
       "      <td>0</td>\n",
       "      <td>...</td>\n",
       "      <td>0</td>\n",
       "      <td>0</td>\n",
       "      <td>0</td>\n",
       "      <td>0</td>\n",
       "      <td>0</td>\n",
       "      <td>0</td>\n",
       "      <td>0</td>\n",
       "      <td>0</td>\n",
       "      <td>0</td>\n",
       "      <td>0</td>\n",
       "    </tr>\n",
       "    <tr>\n",
       "      <th>1</th>\n",
       "      <td>-33887.697975</td>\n",
       "      <td>352118.0</td>\n",
       "      <td>386005.697975</td>\n",
       "      <td>2</td>\n",
       "      <td>1</td>\n",
       "      <td>2</td>\n",
       "      <td>1</td>\n",
       "      <td>1</td>\n",
       "      <td>0</td>\n",
       "      <td>0</td>\n",
       "      <td>...</td>\n",
       "      <td>0</td>\n",
       "      <td>0</td>\n",
       "      <td>0</td>\n",
       "      <td>0</td>\n",
       "      <td>0</td>\n",
       "      <td>0</td>\n",
       "      <td>0</td>\n",
       "      <td>0</td>\n",
       "      <td>0</td>\n",
       "      <td>0</td>\n",
       "    </tr>\n",
       "    <tr>\n",
       "      <th>2</th>\n",
       "      <td>-91303.449871</td>\n",
       "      <td>290507.0</td>\n",
       "      <td>381810.449871</td>\n",
       "      <td>3</td>\n",
       "      <td>1</td>\n",
       "      <td>3</td>\n",
       "      <td>1</td>\n",
       "      <td>1</td>\n",
       "      <td>1</td>\n",
       "      <td>0</td>\n",
       "      <td>...</td>\n",
       "      <td>0</td>\n",
       "      <td>0</td>\n",
       "      <td>0</td>\n",
       "      <td>0</td>\n",
       "      <td>0</td>\n",
       "      <td>0</td>\n",
       "      <td>0</td>\n",
       "      <td>0</td>\n",
       "      <td>0</td>\n",
       "      <td>0</td>\n",
       "    </tr>\n",
       "    <tr>\n",
       "      <th>3</th>\n",
       "      <td>-87377.959616</td>\n",
       "      <td>310608.0</td>\n",
       "      <td>397985.959616</td>\n",
       "      <td>4</td>\n",
       "      <td>1</td>\n",
       "      <td>4</td>\n",
       "      <td>1</td>\n",
       "      <td>1</td>\n",
       "      <td>1</td>\n",
       "      <td>1</td>\n",
       "      <td>...</td>\n",
       "      <td>0</td>\n",
       "      <td>0</td>\n",
       "      <td>0</td>\n",
       "      <td>0</td>\n",
       "      <td>0</td>\n",
       "      <td>0</td>\n",
       "      <td>0</td>\n",
       "      <td>0</td>\n",
       "      <td>0</td>\n",
       "      <td>0</td>\n",
       "    </tr>\n",
       "    <tr>\n",
       "      <th>4</th>\n",
       "      <td>104521.283161</td>\n",
       "      <td>443160.0</td>\n",
       "      <td>338638.716839</td>\n",
       "      <td>5</td>\n",
       "      <td>1</td>\n",
       "      <td>5</td>\n",
       "      <td>1</td>\n",
       "      <td>1</td>\n",
       "      <td>1</td>\n",
       "      <td>1</td>\n",
       "      <td>...</td>\n",
       "      <td>0</td>\n",
       "      <td>0</td>\n",
       "      <td>0</td>\n",
       "      <td>0</td>\n",
       "      <td>0</td>\n",
       "      <td>0</td>\n",
       "      <td>0</td>\n",
       "      <td>0</td>\n",
       "      <td>0</td>\n",
       "      <td>0</td>\n",
       "    </tr>\n",
       "  </tbody>\n",
       "</table>\n",
       "<p>5 rows × 25 columns</p>\n",
       "</div>"
      ],
      "text/plain": [
       "    raw_residual         y         y_pred  ay  dev  cal  intercept  AY_0002  \\\n",
       "0   74565.451915  357848.0  283282.548085   1    1    1          1        0   \n",
       "1  -33887.697975  352118.0  386005.697975   2    1    2          1        1   \n",
       "2  -91303.449871  290507.0  381810.449871   3    1    3          1        1   \n",
       "3  -87377.959616  310608.0  397985.959616   4    1    4          1        1   \n",
       "4  104521.283161  443160.0  338638.716839   5    1    5          1        1   \n",
       "\n",
       "   AY_0003  AY_0004  ...  AY_0010  dev_0002  dev_0003  dev_0004  dev_0005  \\\n",
       "0        0        0  ...        0         0         0         0         0   \n",
       "1        0        0  ...        0         0         0         0         0   \n",
       "2        1        0  ...        0         0         0         0         0   \n",
       "3        1        1  ...        0         0         0         0         0   \n",
       "4        1        1  ...        0         0         0         0         0   \n",
       "\n",
       "   dev_0006  dev_0007  dev_0008  dev_0009  dev_0010  \n",
       "0         0         0         0         0         0  \n",
       "1         0         0         0         0         0  \n",
       "2         0         0         0         0         0  \n",
       "3         0         0         0         0         0  \n",
       "4         0         0         0         0         0  \n",
       "\n",
       "[5 rows x 25 columns]"
      ]
     },
     "execution_count": 31,
     "metadata": {},
     "output_type": "execute_result"
    }
   ],
   "source": [
    "testdf = pd.concat([pd.DataFrame(dict(y=y)), X_id, X], axis=1)\n",
    "testdf['y_pred'] = model.predict(X)\n",
    "testdf['raw_residual'] = testdf.y - testdf.y_pred\n",
    "\n",
    "testdf = testdf['raw_residual y y_pred ay dev cal'.split() + parameter_table.params.tolist()]\n",
    "testdf.head()"
   ]
  },
  {
   "cell_type": "code",
   "execution_count": 228,
   "metadata": {},
   "outputs": [
    {
     "data": {
      "application/vnd.plotly.v1+json": {
       "config": {
        "plotlyServerURL": "https://plot.ly"
       },
       "data": [
        {
         "customdata": [
          [
           1,
           1,
           1
          ],
          [
           2,
           1,
           2
          ],
          [
           3,
           1,
           3
          ],
          [
           4,
           1,
           4
          ],
          [
           5,
           1,
           5
          ],
          [
           6,
           1,
           6
          ],
          [
           7,
           1,
           7
          ],
          [
           8,
           1,
           8
          ],
          [
           9,
           1,
           9
          ],
          [
           10,
           1,
           10
          ],
          [
           1,
           2,
           2
          ],
          [
           2,
           2,
           3
          ],
          [
           3,
           2,
           4
          ],
          [
           4,
           2,
           5
          ],
          [
           5,
           2,
           6
          ],
          [
           6,
           2,
           7
          ],
          [
           7,
           2,
           8
          ],
          [
           8,
           2,
           9
          ],
          [
           9,
           2,
           10
          ],
          [
           1,
           3,
           3
          ],
          [
           2,
           3,
           4
          ],
          [
           3,
           3,
           5
          ],
          [
           4,
           3,
           6
          ],
          [
           5,
           3,
           7
          ],
          [
           6,
           3,
           8
          ],
          [
           7,
           3,
           9
          ],
          [
           8,
           3,
           10
          ],
          [
           1,
           4,
           4
          ],
          [
           2,
           4,
           5
          ],
          [
           3,
           4,
           6
          ],
          [
           4,
           4,
           7
          ],
          [
           5,
           4,
           8
          ],
          [
           6,
           4,
           9
          ],
          [
           7,
           4,
           10
          ],
          [
           1,
           5,
           5
          ],
          [
           2,
           5,
           6
          ],
          [
           3,
           5,
           7
          ],
          [
           4,
           5,
           8
          ],
          [
           5,
           5,
           9
          ],
          [
           6,
           5,
           10
          ],
          [
           1,
           6,
           6
          ],
          [
           2,
           6,
           7
          ],
          [
           3,
           6,
           8
          ],
          [
           4,
           6,
           9
          ],
          [
           5,
           6,
           10
          ],
          [
           1,
           7,
           7
          ],
          [
           2,
           7,
           8
          ],
          [
           3,
           7,
           9
          ],
          [
           4,
           7,
           10
          ],
          [
           1,
           8,
           8
          ],
          [
           2,
           8,
           9
          ],
          [
           3,
           8,
           10
          ],
          [
           1,
           9,
           9
          ],
          [
           2,
           9,
           10
          ],
          [
           1,
           10,
           10
          ]
         ],
         "hovertemplate": "y=%{x}<br>y_pred=%{y}<br>ay=%{customdata[0]}<br>dev=%{customdata[1]}<br>cal=%{customdata[2]}<extra></extra>",
         "legendgroup": "",
         "marker": {
          "color": "#636efa",
          "symbol": "circle"
         },
         "mode": "markers",
         "name": "",
         "orientation": "v",
         "showlegend": false,
         "type": "scatter",
         "x": [
          357848,
          352118,
          290507,
          310608,
          443160,
          396132,
          440832,
          359480,
          376686,
          344014,
          766940,
          884021,
          1001799,
          1108250,
          693190,
          937085,
          847631,
          1061648,
          986608,
          610542,
          933894,
          926219,
          776189,
          991983,
          847498,
          1131398,
          1443370,
          482940,
          1183289,
          1016654,
          1562400,
          769488,
          805037,
          1063269,
          527326,
          445745,
          750816,
          272482,
          504851,
          705960,
          574398,
          320996,
          146923,
          352053,
          470639,
          146342,
          527804,
          495992,
          206286,
          139950,
          266172,
          280405,
          227229,
          425046,
          67948
         ],
         "xaxis": "x",
         "y": [
          283282.5480848699,
          386005.6979753048,
          381810.4498712028,
          397985.9596164438,
          338638.71683880227,
          345214.68122650107,
          408727.0439748389,
          409055.8243440379,
          376689.6880031134,
          376689.6880031134,
          700882.8347936852,
          955035.068953111,
          944655.4059497078,
          984676.0044691807,
          837842.1665346227,
          854112.0730033098,
          1011251.0324924889,
          1012064.4836519305,
          931985.8852938352,
          692999.8103431019,
          944293.5235392643,
          934030.6034965728,
          973601.0791980857,
          828418.7223344713,
          844505.6366336625,
          999877.2104796234,
          1000681.512527315,
          772943.1841082419,
          1053225.746852465,
          1041778.9124123226,
          1085914.1762737401,
          923983.8098932051,
          941926.4854543096,
          1115221.480944926,
          396345.2688716731,
          540066.9161736874,
          534197.2756008916,
          556828.6971355266,
          473794.99437297677,
          482995.5342260423,
          272591.0137676198,
          371437.22845800634,
          367400.3156956952,
          382965.33595364005,
          325857.9525922632,
          315355.7086315765,
          429709.1410811483,
          425038.90831284446,
          443045.8041582574,
          171912.02667807305,
          234250.29991024366,
          231704.38379621055,
          227216.23296557885,
          309608.7676072486,
          227216.23296557885
         ],
         "yaxis": "y"
        },
        {
         "hovertemplate": "<b>OLS trendline</b><br>y_pred = 0.770468 * y + 133414<br>R<sup>2</sup>=0.805356<br><br>y=%{x}<br>y_pred=%{y} <b>(trend)</b><extra></extra>",
         "legendgroup": "",
         "marker": {
          "color": "#636efa",
          "symbol": "circle"
         },
         "mode": "lines",
         "name": "",
         "showlegend": false,
         "type": "scatter",
         "x": [
          67948,
          139950,
          146342,
          146923,
          206286,
          227229,
          266172,
          272482,
          280405,
          290507,
          310608,
          320996,
          344014,
          352053,
          352118,
          357848,
          359480,
          376686,
          396132,
          425046,
          440832,
          443160,
          445745,
          470639,
          482940,
          495992,
          504851,
          527326,
          527804,
          574398,
          610542,
          693190,
          705960,
          750816,
          766940,
          769488,
          776189,
          805037,
          847498,
          847631,
          884021,
          926219,
          933894,
          937085,
          986608,
          991983,
          1001799,
          1016654,
          1061648,
          1063269,
          1108250,
          1131398,
          1183289,
          1443370,
          1562400
         ],
         "xaxis": "x",
         "y": [
          185765.37844485295,
          241240.58544159902,
          246165.41423973243,
          246613.055906146,
          292350.3231063326,
          308486.22572199407,
          338490.5448530499,
          343352.19530927984,
          349456.60997880594,
          357239.87351427897,
          372727.0424240536,
          380730.65968860453,
          398465.2825414573,
          404659.0714507493,
          404709.1518437215,
          409123.9311011221,
          410381.33419851784,
          423637.99945206655,
          438620.5120941977,
          460897.8118234262,
          473060.4131074271,
          474854.06164341816,
          476845.72034854564,
          496025.74038933613,
          505503.26214243984,
          515559.40505126916,
          522384.9773795958,
          539701.2363342341,
          540069.5198394763,
          575968.686457159,
          603816.466820071,
          667494.0717180887,
          677332.9427681768,
          711893.0367245397,
          724316.0560519964,
          726279.2074565089,
          731442.1107381566,
          753668.5596068287,
          786383.38369906,
          786485.855887757,
          814523.1712763794,
          847035.3623939691,
          852948.7011026164,
          855407.2631637622,
          893563.1293355332,
          897704.3926005468,
          905267.3024069419,
          916712.5983700632,
          951379.0168530442,
          952627.9448070138,
          987284.3472114004,
          1005119.1308501976,
          1045099.4642613272,
          1245483.4440246772,
          1337192.2005706436
         ],
         "yaxis": "y"
        }
       ],
       "layout": {
        "height": 600,
        "legend": {
         "tracegroupgap": 0,
         "x": 0.01,
         "xanchor": "left",
         "y": 0.99,
         "yanchor": "top"
        },
        "shapes": [
         {
          "line": {
           "color": "black",
           "dash": "dashdot",
           "width": 2
          },
          "name": "Line of Equality",
          "type": "line",
          "x0": 0,
          "x1": 1562400,
          "y0": 0,
          "y1": 1562400
         }
        ],
        "template": {
         "data": {
          "bar": [
           {
            "error_x": {
             "color": "#2a3f5f"
            },
            "error_y": {
             "color": "#2a3f5f"
            },
            "marker": {
             "line": {
              "color": "#E5ECF6",
              "width": 0.5
             },
             "pattern": {
              "fillmode": "overlay",
              "size": 10,
              "solidity": 0.2
             }
            },
            "type": "bar"
           }
          ],
          "barpolar": [
           {
            "marker": {
             "line": {
              "color": "#E5ECF6",
              "width": 0.5
             },
             "pattern": {
              "fillmode": "overlay",
              "size": 10,
              "solidity": 0.2
             }
            },
            "type": "barpolar"
           }
          ],
          "carpet": [
           {
            "aaxis": {
             "endlinecolor": "#2a3f5f",
             "gridcolor": "white",
             "linecolor": "white",
             "minorgridcolor": "white",
             "startlinecolor": "#2a3f5f"
            },
            "baxis": {
             "endlinecolor": "#2a3f5f",
             "gridcolor": "white",
             "linecolor": "white",
             "minorgridcolor": "white",
             "startlinecolor": "#2a3f5f"
            },
            "type": "carpet"
           }
          ],
          "choropleth": [
           {
            "colorbar": {
             "outlinewidth": 0,
             "ticks": ""
            },
            "type": "choropleth"
           }
          ],
          "contour": [
           {
            "colorbar": {
             "outlinewidth": 0,
             "ticks": ""
            },
            "colorscale": [
             [
              0,
              "#0d0887"
             ],
             [
              0.1111111111111111,
              "#46039f"
             ],
             [
              0.2222222222222222,
              "#7201a8"
             ],
             [
              0.3333333333333333,
              "#9c179e"
             ],
             [
              0.4444444444444444,
              "#bd3786"
             ],
             [
              0.5555555555555556,
              "#d8576b"
             ],
             [
              0.6666666666666666,
              "#ed7953"
             ],
             [
              0.7777777777777778,
              "#fb9f3a"
             ],
             [
              0.8888888888888888,
              "#fdca26"
             ],
             [
              1,
              "#f0f921"
             ]
            ],
            "type": "contour"
           }
          ],
          "contourcarpet": [
           {
            "colorbar": {
             "outlinewidth": 0,
             "ticks": ""
            },
            "type": "contourcarpet"
           }
          ],
          "heatmap": [
           {
            "colorbar": {
             "outlinewidth": 0,
             "ticks": ""
            },
            "colorscale": [
             [
              0,
              "#0d0887"
             ],
             [
              0.1111111111111111,
              "#46039f"
             ],
             [
              0.2222222222222222,
              "#7201a8"
             ],
             [
              0.3333333333333333,
              "#9c179e"
             ],
             [
              0.4444444444444444,
              "#bd3786"
             ],
             [
              0.5555555555555556,
              "#d8576b"
             ],
             [
              0.6666666666666666,
              "#ed7953"
             ],
             [
              0.7777777777777778,
              "#fb9f3a"
             ],
             [
              0.8888888888888888,
              "#fdca26"
             ],
             [
              1,
              "#f0f921"
             ]
            ],
            "type": "heatmap"
           }
          ],
          "heatmapgl": [
           {
            "colorbar": {
             "outlinewidth": 0,
             "ticks": ""
            },
            "colorscale": [
             [
              0,
              "#0d0887"
             ],
             [
              0.1111111111111111,
              "#46039f"
             ],
             [
              0.2222222222222222,
              "#7201a8"
             ],
             [
              0.3333333333333333,
              "#9c179e"
             ],
             [
              0.4444444444444444,
              "#bd3786"
             ],
             [
              0.5555555555555556,
              "#d8576b"
             ],
             [
              0.6666666666666666,
              "#ed7953"
             ],
             [
              0.7777777777777778,
              "#fb9f3a"
             ],
             [
              0.8888888888888888,
              "#fdca26"
             ],
             [
              1,
              "#f0f921"
             ]
            ],
            "type": "heatmapgl"
           }
          ],
          "histogram": [
           {
            "marker": {
             "pattern": {
              "fillmode": "overlay",
              "size": 10,
              "solidity": 0.2
             }
            },
            "type": "histogram"
           }
          ],
          "histogram2d": [
           {
            "colorbar": {
             "outlinewidth": 0,
             "ticks": ""
            },
            "colorscale": [
             [
              0,
              "#0d0887"
             ],
             [
              0.1111111111111111,
              "#46039f"
             ],
             [
              0.2222222222222222,
              "#7201a8"
             ],
             [
              0.3333333333333333,
              "#9c179e"
             ],
             [
              0.4444444444444444,
              "#bd3786"
             ],
             [
              0.5555555555555556,
              "#d8576b"
             ],
             [
              0.6666666666666666,
              "#ed7953"
             ],
             [
              0.7777777777777778,
              "#fb9f3a"
             ],
             [
              0.8888888888888888,
              "#fdca26"
             ],
             [
              1,
              "#f0f921"
             ]
            ],
            "type": "histogram2d"
           }
          ],
          "histogram2dcontour": [
           {
            "colorbar": {
             "outlinewidth": 0,
             "ticks": ""
            },
            "colorscale": [
             [
              0,
              "#0d0887"
             ],
             [
              0.1111111111111111,
              "#46039f"
             ],
             [
              0.2222222222222222,
              "#7201a8"
             ],
             [
              0.3333333333333333,
              "#9c179e"
             ],
             [
              0.4444444444444444,
              "#bd3786"
             ],
             [
              0.5555555555555556,
              "#d8576b"
             ],
             [
              0.6666666666666666,
              "#ed7953"
             ],
             [
              0.7777777777777778,
              "#fb9f3a"
             ],
             [
              0.8888888888888888,
              "#fdca26"
             ],
             [
              1,
              "#f0f921"
             ]
            ],
            "type": "histogram2dcontour"
           }
          ],
          "mesh3d": [
           {
            "colorbar": {
             "outlinewidth": 0,
             "ticks": ""
            },
            "type": "mesh3d"
           }
          ],
          "parcoords": [
           {
            "line": {
             "colorbar": {
              "outlinewidth": 0,
              "ticks": ""
             }
            },
            "type": "parcoords"
           }
          ],
          "pie": [
           {
            "automargin": true,
            "type": "pie"
           }
          ],
          "scatter": [
           {
            "fillpattern": {
             "fillmode": "overlay",
             "size": 10,
             "solidity": 0.2
            },
            "type": "scatter"
           }
          ],
          "scatter3d": [
           {
            "line": {
             "colorbar": {
              "outlinewidth": 0,
              "ticks": ""
             }
            },
            "marker": {
             "colorbar": {
              "outlinewidth": 0,
              "ticks": ""
             }
            },
            "type": "scatter3d"
           }
          ],
          "scattercarpet": [
           {
            "marker": {
             "colorbar": {
              "outlinewidth": 0,
              "ticks": ""
             }
            },
            "type": "scattercarpet"
           }
          ],
          "scattergeo": [
           {
            "marker": {
             "colorbar": {
              "outlinewidth": 0,
              "ticks": ""
             }
            },
            "type": "scattergeo"
           }
          ],
          "scattergl": [
           {
            "marker": {
             "colorbar": {
              "outlinewidth": 0,
              "ticks": ""
             }
            },
            "type": "scattergl"
           }
          ],
          "scattermapbox": [
           {
            "marker": {
             "colorbar": {
              "outlinewidth": 0,
              "ticks": ""
             }
            },
            "type": "scattermapbox"
           }
          ],
          "scatterpolar": [
           {
            "marker": {
             "colorbar": {
              "outlinewidth": 0,
              "ticks": ""
             }
            },
            "type": "scatterpolar"
           }
          ],
          "scatterpolargl": [
           {
            "marker": {
             "colorbar": {
              "outlinewidth": 0,
              "ticks": ""
             }
            },
            "type": "scatterpolargl"
           }
          ],
          "scatterternary": [
           {
            "marker": {
             "colorbar": {
              "outlinewidth": 0,
              "ticks": ""
             }
            },
            "type": "scatterternary"
           }
          ],
          "surface": [
           {
            "colorbar": {
             "outlinewidth": 0,
             "ticks": ""
            },
            "colorscale": [
             [
              0,
              "#0d0887"
             ],
             [
              0.1111111111111111,
              "#46039f"
             ],
             [
              0.2222222222222222,
              "#7201a8"
             ],
             [
              0.3333333333333333,
              "#9c179e"
             ],
             [
              0.4444444444444444,
              "#bd3786"
             ],
             [
              0.5555555555555556,
              "#d8576b"
             ],
             [
              0.6666666666666666,
              "#ed7953"
             ],
             [
              0.7777777777777778,
              "#fb9f3a"
             ],
             [
              0.8888888888888888,
              "#fdca26"
             ],
             [
              1,
              "#f0f921"
             ]
            ],
            "type": "surface"
           }
          ],
          "table": [
           {
            "cells": {
             "fill": {
              "color": "#EBF0F8"
             },
             "line": {
              "color": "white"
             }
            },
            "header": {
             "fill": {
              "color": "#C8D4E3"
             },
             "line": {
              "color": "white"
             }
            },
            "type": "table"
           }
          ]
         },
         "layout": {
          "annotationdefaults": {
           "arrowcolor": "#2a3f5f",
           "arrowhead": 0,
           "arrowwidth": 1
          },
          "autotypenumbers": "strict",
          "coloraxis": {
           "colorbar": {
            "outlinewidth": 0,
            "ticks": ""
           }
          },
          "colorscale": {
           "diverging": [
            [
             0,
             "#8e0152"
            ],
            [
             0.1,
             "#c51b7d"
            ],
            [
             0.2,
             "#de77ae"
            ],
            [
             0.3,
             "#f1b6da"
            ],
            [
             0.4,
             "#fde0ef"
            ],
            [
             0.5,
             "#f7f7f7"
            ],
            [
             0.6,
             "#e6f5d0"
            ],
            [
             0.7,
             "#b8e186"
            ],
            [
             0.8,
             "#7fbc41"
            ],
            [
             0.9,
             "#4d9221"
            ],
            [
             1,
             "#276419"
            ]
           ],
           "sequential": [
            [
             0,
             "#0d0887"
            ],
            [
             0.1111111111111111,
             "#46039f"
            ],
            [
             0.2222222222222222,
             "#7201a8"
            ],
            [
             0.3333333333333333,
             "#9c179e"
            ],
            [
             0.4444444444444444,
             "#bd3786"
            ],
            [
             0.5555555555555556,
             "#d8576b"
            ],
            [
             0.6666666666666666,
             "#ed7953"
            ],
            [
             0.7777777777777778,
             "#fb9f3a"
            ],
            [
             0.8888888888888888,
             "#fdca26"
            ],
            [
             1,
             "#f0f921"
            ]
           ],
           "sequentialminus": [
            [
             0,
             "#0d0887"
            ],
            [
             0.1111111111111111,
             "#46039f"
            ],
            [
             0.2222222222222222,
             "#7201a8"
            ],
            [
             0.3333333333333333,
             "#9c179e"
            ],
            [
             0.4444444444444444,
             "#bd3786"
            ],
            [
             0.5555555555555556,
             "#d8576b"
            ],
            [
             0.6666666666666666,
             "#ed7953"
            ],
            [
             0.7777777777777778,
             "#fb9f3a"
            ],
            [
             0.8888888888888888,
             "#fdca26"
            ],
            [
             1,
             "#f0f921"
            ]
           ]
          },
          "colorway": [
           "#636efa",
           "#EF553B",
           "#00cc96",
           "#ab63fa",
           "#FFA15A",
           "#19d3f3",
           "#FF6692",
           "#B6E880",
           "#FF97FF",
           "#FECB52"
          ],
          "font": {
           "color": "#2a3f5f"
          },
          "geo": {
           "bgcolor": "white",
           "lakecolor": "white",
           "landcolor": "#E5ECF6",
           "showlakes": true,
           "showland": true,
           "subunitcolor": "white"
          },
          "hoverlabel": {
           "align": "left"
          },
          "hovermode": "closest",
          "mapbox": {
           "style": "light"
          },
          "paper_bgcolor": "white",
          "plot_bgcolor": "#E5ECF6",
          "polar": {
           "angularaxis": {
            "gridcolor": "white",
            "linecolor": "white",
            "ticks": ""
           },
           "bgcolor": "#E5ECF6",
           "radialaxis": {
            "gridcolor": "white",
            "linecolor": "white",
            "ticks": ""
           }
          },
          "scene": {
           "xaxis": {
            "backgroundcolor": "#E5ECF6",
            "gridcolor": "white",
            "gridwidth": 2,
            "linecolor": "white",
            "showbackground": true,
            "ticks": "",
            "zerolinecolor": "white"
           },
           "yaxis": {
            "backgroundcolor": "#E5ECF6",
            "gridcolor": "white",
            "gridwidth": 2,
            "linecolor": "white",
            "showbackground": true,
            "ticks": "",
            "zerolinecolor": "white"
           },
           "zaxis": {
            "backgroundcolor": "#E5ECF6",
            "gridcolor": "white",
            "gridwidth": 2,
            "linecolor": "white",
            "showbackground": true,
            "ticks": "",
            "zerolinecolor": "white"
           }
          },
          "shapedefaults": {
           "line": {
            "color": "#2a3f5f"
           }
          },
          "ternary": {
           "aaxis": {
            "gridcolor": "white",
            "linecolor": "white",
            "ticks": ""
           },
           "baxis": {
            "gridcolor": "white",
            "linecolor": "white",
            "ticks": ""
           },
           "bgcolor": "#E5ECF6",
           "caxis": {
            "gridcolor": "white",
            "linecolor": "white",
            "ticks": ""
           }
          },
          "title": {
           "x": 0.05
          },
          "xaxis": {
           "automargin": true,
           "gridcolor": "white",
           "linecolor": "white",
           "ticks": "",
           "title": {
            "standoff": 15
           },
           "zerolinecolor": "white",
           "zerolinewidth": 2
          },
          "yaxis": {
           "automargin": true,
           "gridcolor": "white",
           "linecolor": "white",
           "ticks": "",
           "title": {
            "standoff": 15
           },
           "zerolinecolor": "white",
           "zerolinewidth": 2
          }
         }
        },
        "title": {
         "text": "Observed vs Predicted"
        },
        "width": 1000,
        "xaxis": {
         "anchor": "y",
         "domain": [
          0,
          1
         ],
         "title": {
          "text": "y"
         }
        },
        "yaxis": {
         "anchor": "x",
         "domain": [
          0,
          1
         ],
         "title": {
          "text": "y_pred"
         }
        }
       }
      }
     },
     "metadata": {},
     "output_type": "display_data"
    }
   ],
   "source": [
    "def actual_vs_predicted(df, observed_col, predicted_col, title='Observed vs Predicted', hover_data=['ay', 'dev', 'cal'], height=600, width=1000, trendline='ols'):\n",
    "    #\n",
    "    fig = px.scatter(df, x=observed_col, y=predicted_col, title=title,\n",
    "                     hover_data=hover_data, height=height, width=width,\n",
    "                     trendline=trendline)\n",
    "    fig.add_shape(\n",
    "        type=\"line\",\n",
    "        x0=0,\n",
    "        y0=0,\n",
    "        x1=df.y.max(),\n",
    "        y1=df.y.max(),\n",
    "        name='Line of Equality',\n",
    "        line=dict(\n",
    "            color=\"black\",\n",
    "            width=2,\n",
    "            dash=\"dashdot\",\n",
    "        ),\n",
    "    )\n",
    "\n",
    "    fig.update_layout(\n",
    "        legend=dict(\n",
    "            yanchor=\"top\",\n",
    "            y=0.99,\n",
    "            xanchor=\"left\",\n",
    "            x=0.01\n",
    "        )\n",
    "    )\n",
    "\n",
    "    \n",
    "\n",
    "    return fig\n",
    "\n",
    "# fig = px.scatter(testdf, x='y', y='y_pred', title='y vs y_pred', color='ay', hover_data=['ay', 'dev', 'cal'], height=600, width=1000, trendline='ols')\n",
    "\n",
    "# # add a 45 degree line\n",
    "# fig.add_shape(\n",
    "#     type=\"line\",\n",
    "#     x0=0,\n",
    "#     y0=0,\n",
    "#     x1=testdf.y.max(),\n",
    "#     y1=testdf.y.max(),\n",
    "#     line=dict(\n",
    "#         color=\"black\",\n",
    "#         width=2,\n",
    "#         dash=\"dashdot\",\n",
    "#     ),\n",
    "# )\n",
    "\n",
    "# fig.show()\n",
    "\n",
    "actual_vs_predicted(testdf, 'y', 'y_pred', 'Observed vs Predicted', ['ay', 'dev', 'cal'], 600, 1000, 'ols')"
   ]
  },
  {
   "cell_type": "code",
   "execution_count": 33,
   "metadata": {},
   "outputs": [
    {
     "data": {
      "application/vnd.plotly.v1+json": {
       "config": {
        "plotlyServerURL": "https://plot.ly"
       },
       "data": [
        {
         "customdata": [
          [
           1,
           1,
           1,
           0.485
          ],
          [
           2,
           1,
           2,
           -0.22
          ],
          [
           3,
           1,
           3,
           -0.594
          ],
          [
           4,
           1,
           4,
           -0.568
          ],
          [
           5,
           1,
           5,
           0.68
          ],
          [
           6,
           1,
           6,
           0.331
          ],
          [
           7,
           1,
           7,
           0.209
          ],
          [
           8,
           1,
           8,
           -0.322
          ],
          [
           9,
           1,
           9,
           0
          ],
          [
           10,
           1,
           10,
           -0.213
          ],
          [
           1,
           2,
           2,
           0.43
          ],
          [
           2,
           2,
           3,
           -0.462
          ],
          [
           3,
           2,
           4,
           0.372
          ],
          [
           4,
           2,
           5,
           0.804
          ],
          [
           5,
           2,
           6,
           -0.941
          ],
          [
           6,
           2,
           7,
           0.54
          ],
          [
           7,
           2,
           8,
           -1.064
          ],
          [
           8,
           2,
           9,
           0.323
          ],
          [
           9,
           2,
           10,
           0.355
          ],
          [
           1,
           3,
           3,
           -0.536
          ],
          [
           2,
           3,
           4,
           -0.068
          ],
          [
           3,
           3,
           5,
           -0.051
          ],
          [
           4,
           3,
           6,
           -1.284
          ],
          [
           5,
           3,
           7,
           1.064
          ],
          [
           6,
           3,
           8,
           0.019
          ],
          [
           7,
           3,
           9,
           0.856
          ],
          [
           8,
           3,
           10,
           2.88
          ],
          [
           1,
           4,
           4,
           -1.887
          ],
          [
           2,
           4,
           5,
           0.846
          ],
          [
           3,
           4,
           6,
           -0.163
          ],
          [
           4,
           4,
           7,
           3.1
          ],
          [
           5,
           4,
           8,
           -1.005
          ],
          [
           6,
           4,
           9,
           -0.89
          ],
          [
           7,
           4,
           10,
           -0.338
          ],
          [
           1,
           5,
           5,
           0.852
          ],
          [
           2,
           5,
           6,
           -0.614
          ],
          [
           3,
           5,
           7,
           1.409
          ],
          [
           4,
           5,
           8,
           -1.85
          ],
          [
           5,
           5,
           9,
           0.202
          ],
          [
           6,
           5,
           10,
           1.45
          ],
          [
           1,
           6,
           6,
           1.963
          ],
          [
           2,
           6,
           7,
           -0.328
          ],
          [
           3,
           6,
           8,
           -1.434
          ],
          [
           4,
           6,
           9,
           -0.201
          ],
          [
           5,
           6,
           10,
           0.942
          ],
          [
           1,
           7,
           7,
           -1.099
          ],
          [
           2,
           7,
           8,
           0.638
          ],
          [
           3,
           7,
           9,
           0.462
          ],
          [
           4,
           7,
           10,
           -1.54
          ],
          [
           1,
           8,
           8,
           -0.208
          ],
          [
           2,
           8,
           9,
           0.208
          ],
          [
           3,
           8,
           10,
           0.317
          ],
          [
           1,
           9,
           9,
           0
          ],
          [
           2,
           9,
           10,
           0.751
          ],
          [
           1,
           10,
           10,
           -1.036
          ]
         ],
         "hovertemplate": "<b>Fitted Values:</b> %{x}<br><b>Standardized Pearson Residuals:</b> %{customdata[3]}<br><b>AY:</b> %{customdata[0]}<br><b>DY:</b> %{customdata[1]}<br><b>CY:</b> %{customdata[2]}<br><extra></extra>",
         "marker": {
          "color": "red",
          "colorscale": [
           [
            0,
            "rgb(103,0,31)"
           ],
           [
            0.1,
            "rgb(178,24,43)"
           ],
           [
            0.2,
            "rgb(214,96,77)"
           ],
           [
            0.3,
            "rgb(244,165,130)"
           ],
           [
            0.4,
            "rgb(253,219,199)"
           ],
           [
            0.5,
            "rgb(247,247,247)"
           ],
           [
            0.6,
            "rgb(209,229,240)"
           ],
           [
            0.7,
            "rgb(146,197,222)"
           ],
           [
            0.8,
            "rgb(67,147,195)"
           ],
           [
            0.9,
            "rgb(33,102,172)"
           ],
           [
            1,
            "rgb(5,48,97)"
           ]
          ],
          "line": {
           "color": "black",
           "width": 1
          },
          "opacity": 0.5
         },
         "mode": "markers",
         "showlegend": false,
         "type": "scatter",
         "x": [
          283282.5480848699,
          386005.6979753048,
          381810.4498712028,
          397985.9596164438,
          338638.71683880227,
          345214.68122650107,
          408727.0439748389,
          409055.8243440379,
          376689.6880031134,
          376689.6880031134,
          700882.8347936852,
          955035.068953111,
          944655.4059497078,
          984676.0044691807,
          837842.1665346227,
          854112.0730033098,
          1011251.0324924889,
          1012064.4836519305,
          931985.8852938352,
          692999.8103431019,
          944293.5235392643,
          934030.6034965728,
          973601.0791980857,
          828418.7223344713,
          844505.6366336625,
          999877.2104796234,
          1000681.512527315,
          772943.1841082419,
          1053225.746852465,
          1041778.9124123226,
          1085914.1762737401,
          923983.8098932051,
          941926.4854543096,
          1115221.480944926,
          396345.2688716731,
          540066.9161736874,
          534197.2756008916,
          556828.6971355266,
          473794.99437297677,
          482995.5342260423,
          272591.0137676198,
          371437.22845800634,
          367400.3156956952,
          382965.33595364005,
          325857.9525922632,
          315355.7086315765,
          429709.1410811483,
          425038.90831284446,
          443045.8041582574,
          171912.02667807305,
          234250.29991024366,
          231704.38379621055,
          227216.23296557885,
          309608.7676072486,
          227216.23296557885
         ],
         "y": [
          0.4850558115169028,
          -0.22044290512126372,
          -0.5939381822828168,
          -0.5684024708746562,
          0.6799215256181596,
          0.3312223119904801,
          0.2088459883033195,
          -0.32249575495347266,
          -0.000023990833517270174,
          -0.2125586575839857,
          0.4297085453478436,
          -0.4619537059116131,
          0.3717248628306469,
          0.8038613479176834,
          -0.9409769836303039,
          0.5397472878474688,
          -1.0643648714340088,
          0.3225457922182101,
          0.3553223844968352,
          -0.5363964018806464,
          -0.06764995316421395,
          -0.050815271361743936,
          -1.2841855553649064,
          1.0640021806416573,
          0.019465626556710608,
          0.855556047118993,
          2.8797334157466956,
          -1.8865000640003655,
          0.8460746254956284,
          -0.16344009814788474,
          3.099588508722548,
          -1.0050108799582536,
          -0.8904799575377935,
          -0.3379561466849257,
          0.8520429126191132,
          -0.6135736110810565,
          1.4091267263123186,
          -1.849704043746802,
          0.20202245979860597,
          1.4504064162115673,
          1.9632849914869657,
          -0.32812529630284715,
          -1.4342272532266893,
          -0.20108787403236447,
          0.9418153667540131,
          -1.0994512806156,
          0.6381169854998887,
          0.46155704262503167,
          -1.5401464886349596,
          -0.20791621843455668,
          0.2076538898960811,
          0.3168024374208758,
          0.0000830508510679204,
          0.7509308801784339,
          -1.0360559750635183
         ]
        }
       ],
       "layout": {
        "coloraxis": {
         "showscale": false
        },
        "shapes": [
         {
          "line": {
           "color": "black",
           "dash": "dashdot",
           "width": 3
          },
          "type": "line",
          "x0": 0,
          "x1": 1115221.480944926,
          "y0": 0,
          "y1": 0
         }
        ],
        "template": {
         "data": {
          "bar": [
           {
            "error_x": {
             "color": "#2a3f5f"
            },
            "error_y": {
             "color": "#2a3f5f"
            },
            "marker": {
             "line": {
              "color": "#E5ECF6",
              "width": 0.5
             },
             "pattern": {
              "fillmode": "overlay",
              "size": 10,
              "solidity": 0.2
             }
            },
            "type": "bar"
           }
          ],
          "barpolar": [
           {
            "marker": {
             "line": {
              "color": "#E5ECF6",
              "width": 0.5
             },
             "pattern": {
              "fillmode": "overlay",
              "size": 10,
              "solidity": 0.2
             }
            },
            "type": "barpolar"
           }
          ],
          "carpet": [
           {
            "aaxis": {
             "endlinecolor": "#2a3f5f",
             "gridcolor": "white",
             "linecolor": "white",
             "minorgridcolor": "white",
             "startlinecolor": "#2a3f5f"
            },
            "baxis": {
             "endlinecolor": "#2a3f5f",
             "gridcolor": "white",
             "linecolor": "white",
             "minorgridcolor": "white",
             "startlinecolor": "#2a3f5f"
            },
            "type": "carpet"
           }
          ],
          "choropleth": [
           {
            "colorbar": {
             "outlinewidth": 0,
             "ticks": ""
            },
            "type": "choropleth"
           }
          ],
          "contour": [
           {
            "colorbar": {
             "outlinewidth": 0,
             "ticks": ""
            },
            "colorscale": [
             [
              0,
              "#0d0887"
             ],
             [
              0.1111111111111111,
              "#46039f"
             ],
             [
              0.2222222222222222,
              "#7201a8"
             ],
             [
              0.3333333333333333,
              "#9c179e"
             ],
             [
              0.4444444444444444,
              "#bd3786"
             ],
             [
              0.5555555555555556,
              "#d8576b"
             ],
             [
              0.6666666666666666,
              "#ed7953"
             ],
             [
              0.7777777777777778,
              "#fb9f3a"
             ],
             [
              0.8888888888888888,
              "#fdca26"
             ],
             [
              1,
              "#f0f921"
             ]
            ],
            "type": "contour"
           }
          ],
          "contourcarpet": [
           {
            "colorbar": {
             "outlinewidth": 0,
             "ticks": ""
            },
            "type": "contourcarpet"
           }
          ],
          "heatmap": [
           {
            "colorbar": {
             "outlinewidth": 0,
             "ticks": ""
            },
            "colorscale": [
             [
              0,
              "#0d0887"
             ],
             [
              0.1111111111111111,
              "#46039f"
             ],
             [
              0.2222222222222222,
              "#7201a8"
             ],
             [
              0.3333333333333333,
              "#9c179e"
             ],
             [
              0.4444444444444444,
              "#bd3786"
             ],
             [
              0.5555555555555556,
              "#d8576b"
             ],
             [
              0.6666666666666666,
              "#ed7953"
             ],
             [
              0.7777777777777778,
              "#fb9f3a"
             ],
             [
              0.8888888888888888,
              "#fdca26"
             ],
             [
              1,
              "#f0f921"
             ]
            ],
            "type": "heatmap"
           }
          ],
          "heatmapgl": [
           {
            "colorbar": {
             "outlinewidth": 0,
             "ticks": ""
            },
            "colorscale": [
             [
              0,
              "#0d0887"
             ],
             [
              0.1111111111111111,
              "#46039f"
             ],
             [
              0.2222222222222222,
              "#7201a8"
             ],
             [
              0.3333333333333333,
              "#9c179e"
             ],
             [
              0.4444444444444444,
              "#bd3786"
             ],
             [
              0.5555555555555556,
              "#d8576b"
             ],
             [
              0.6666666666666666,
              "#ed7953"
             ],
             [
              0.7777777777777778,
              "#fb9f3a"
             ],
             [
              0.8888888888888888,
              "#fdca26"
             ],
             [
              1,
              "#f0f921"
             ]
            ],
            "type": "heatmapgl"
           }
          ],
          "histogram": [
           {
            "marker": {
             "pattern": {
              "fillmode": "overlay",
              "size": 10,
              "solidity": 0.2
             }
            },
            "type": "histogram"
           }
          ],
          "histogram2d": [
           {
            "colorbar": {
             "outlinewidth": 0,
             "ticks": ""
            },
            "colorscale": [
             [
              0,
              "#0d0887"
             ],
             [
              0.1111111111111111,
              "#46039f"
             ],
             [
              0.2222222222222222,
              "#7201a8"
             ],
             [
              0.3333333333333333,
              "#9c179e"
             ],
             [
              0.4444444444444444,
              "#bd3786"
             ],
             [
              0.5555555555555556,
              "#d8576b"
             ],
             [
              0.6666666666666666,
              "#ed7953"
             ],
             [
              0.7777777777777778,
              "#fb9f3a"
             ],
             [
              0.8888888888888888,
              "#fdca26"
             ],
             [
              1,
              "#f0f921"
             ]
            ],
            "type": "histogram2d"
           }
          ],
          "histogram2dcontour": [
           {
            "colorbar": {
             "outlinewidth": 0,
             "ticks": ""
            },
            "colorscale": [
             [
              0,
              "#0d0887"
             ],
             [
              0.1111111111111111,
              "#46039f"
             ],
             [
              0.2222222222222222,
              "#7201a8"
             ],
             [
              0.3333333333333333,
              "#9c179e"
             ],
             [
              0.4444444444444444,
              "#bd3786"
             ],
             [
              0.5555555555555556,
              "#d8576b"
             ],
             [
              0.6666666666666666,
              "#ed7953"
             ],
             [
              0.7777777777777778,
              "#fb9f3a"
             ],
             [
              0.8888888888888888,
              "#fdca26"
             ],
             [
              1,
              "#f0f921"
             ]
            ],
            "type": "histogram2dcontour"
           }
          ],
          "mesh3d": [
           {
            "colorbar": {
             "outlinewidth": 0,
             "ticks": ""
            },
            "type": "mesh3d"
           }
          ],
          "parcoords": [
           {
            "line": {
             "colorbar": {
              "outlinewidth": 0,
              "ticks": ""
             }
            },
            "type": "parcoords"
           }
          ],
          "pie": [
           {
            "automargin": true,
            "type": "pie"
           }
          ],
          "scatter": [
           {
            "fillpattern": {
             "fillmode": "overlay",
             "size": 10,
             "solidity": 0.2
            },
            "type": "scatter"
           }
          ],
          "scatter3d": [
           {
            "line": {
             "colorbar": {
              "outlinewidth": 0,
              "ticks": ""
             }
            },
            "marker": {
             "colorbar": {
              "outlinewidth": 0,
              "ticks": ""
             }
            },
            "type": "scatter3d"
           }
          ],
          "scattercarpet": [
           {
            "marker": {
             "colorbar": {
              "outlinewidth": 0,
              "ticks": ""
             }
            },
            "type": "scattercarpet"
           }
          ],
          "scattergeo": [
           {
            "marker": {
             "colorbar": {
              "outlinewidth": 0,
              "ticks": ""
             }
            },
            "type": "scattergeo"
           }
          ],
          "scattergl": [
           {
            "marker": {
             "colorbar": {
              "outlinewidth": 0,
              "ticks": ""
             }
            },
            "type": "scattergl"
           }
          ],
          "scattermapbox": [
           {
            "marker": {
             "colorbar": {
              "outlinewidth": 0,
              "ticks": ""
             }
            },
            "type": "scattermapbox"
           }
          ],
          "scatterpolar": [
           {
            "marker": {
             "colorbar": {
              "outlinewidth": 0,
              "ticks": ""
             }
            },
            "type": "scatterpolar"
           }
          ],
          "scatterpolargl": [
           {
            "marker": {
             "colorbar": {
              "outlinewidth": 0,
              "ticks": ""
             }
            },
            "type": "scatterpolargl"
           }
          ],
          "scatterternary": [
           {
            "marker": {
             "colorbar": {
              "outlinewidth": 0,
              "ticks": ""
             }
            },
            "type": "scatterternary"
           }
          ],
          "surface": [
           {
            "colorbar": {
             "outlinewidth": 0,
             "ticks": ""
            },
            "colorscale": [
             [
              0,
              "#0d0887"
             ],
             [
              0.1111111111111111,
              "#46039f"
             ],
             [
              0.2222222222222222,
              "#7201a8"
             ],
             [
              0.3333333333333333,
              "#9c179e"
             ],
             [
              0.4444444444444444,
              "#bd3786"
             ],
             [
              0.5555555555555556,
              "#d8576b"
             ],
             [
              0.6666666666666666,
              "#ed7953"
             ],
             [
              0.7777777777777778,
              "#fb9f3a"
             ],
             [
              0.8888888888888888,
              "#fdca26"
             ],
             [
              1,
              "#f0f921"
             ]
            ],
            "type": "surface"
           }
          ],
          "table": [
           {
            "cells": {
             "fill": {
              "color": "#EBF0F8"
             },
             "line": {
              "color": "white"
             }
            },
            "header": {
             "fill": {
              "color": "#C8D4E3"
             },
             "line": {
              "color": "white"
             }
            },
            "type": "table"
           }
          ]
         },
         "layout": {
          "annotationdefaults": {
           "arrowcolor": "#2a3f5f",
           "arrowhead": 0,
           "arrowwidth": 1
          },
          "autotypenumbers": "strict",
          "coloraxis": {
           "colorbar": {
            "outlinewidth": 0,
            "ticks": ""
           }
          },
          "colorscale": {
           "diverging": [
            [
             0,
             "#8e0152"
            ],
            [
             0.1,
             "#c51b7d"
            ],
            [
             0.2,
             "#de77ae"
            ],
            [
             0.3,
             "#f1b6da"
            ],
            [
             0.4,
             "#fde0ef"
            ],
            [
             0.5,
             "#f7f7f7"
            ],
            [
             0.6,
             "#e6f5d0"
            ],
            [
             0.7,
             "#b8e186"
            ],
            [
             0.8,
             "#7fbc41"
            ],
            [
             0.9,
             "#4d9221"
            ],
            [
             1,
             "#276419"
            ]
           ],
           "sequential": [
            [
             0,
             "#0d0887"
            ],
            [
             0.1111111111111111,
             "#46039f"
            ],
            [
             0.2222222222222222,
             "#7201a8"
            ],
            [
             0.3333333333333333,
             "#9c179e"
            ],
            [
             0.4444444444444444,
             "#bd3786"
            ],
            [
             0.5555555555555556,
             "#d8576b"
            ],
            [
             0.6666666666666666,
             "#ed7953"
            ],
            [
             0.7777777777777778,
             "#fb9f3a"
            ],
            [
             0.8888888888888888,
             "#fdca26"
            ],
            [
             1,
             "#f0f921"
            ]
           ],
           "sequentialminus": [
            [
             0,
             "#0d0887"
            ],
            [
             0.1111111111111111,
             "#46039f"
            ],
            [
             0.2222222222222222,
             "#7201a8"
            ],
            [
             0.3333333333333333,
             "#9c179e"
            ],
            [
             0.4444444444444444,
             "#bd3786"
            ],
            [
             0.5555555555555556,
             "#d8576b"
            ],
            [
             0.6666666666666666,
             "#ed7953"
            ],
            [
             0.7777777777777778,
             "#fb9f3a"
            ],
            [
             0.8888888888888888,
             "#fdca26"
            ],
            [
             1,
             "#f0f921"
            ]
           ]
          },
          "colorway": [
           "#636efa",
           "#EF553B",
           "#00cc96",
           "#ab63fa",
           "#FFA15A",
           "#19d3f3",
           "#FF6692",
           "#B6E880",
           "#FF97FF",
           "#FECB52"
          ],
          "font": {
           "color": "#2a3f5f"
          },
          "geo": {
           "bgcolor": "white",
           "lakecolor": "white",
           "landcolor": "#E5ECF6",
           "showlakes": true,
           "showland": true,
           "subunitcolor": "white"
          },
          "hoverlabel": {
           "align": "left"
          },
          "hovermode": "closest",
          "mapbox": {
           "style": "light"
          },
          "paper_bgcolor": "white",
          "plot_bgcolor": "#E5ECF6",
          "polar": {
           "angularaxis": {
            "gridcolor": "white",
            "linecolor": "white",
            "ticks": ""
           },
           "bgcolor": "#E5ECF6",
           "radialaxis": {
            "gridcolor": "white",
            "linecolor": "white",
            "ticks": ""
           }
          },
          "scene": {
           "xaxis": {
            "backgroundcolor": "#E5ECF6",
            "gridcolor": "white",
            "gridwidth": 2,
            "linecolor": "white",
            "showbackground": true,
            "ticks": "",
            "zerolinecolor": "white"
           },
           "yaxis": {
            "backgroundcolor": "#E5ECF6",
            "gridcolor": "white",
            "gridwidth": 2,
            "linecolor": "white",
            "showbackground": true,
            "ticks": "",
            "zerolinecolor": "white"
           },
           "zaxis": {
            "backgroundcolor": "#E5ECF6",
            "gridcolor": "white",
            "gridwidth": 2,
            "linecolor": "white",
            "showbackground": true,
            "ticks": "",
            "zerolinecolor": "white"
           }
          },
          "shapedefaults": {
           "line": {
            "color": "#2a3f5f"
           }
          },
          "ternary": {
           "aaxis": {
            "gridcolor": "white",
            "linecolor": "white",
            "ticks": ""
           },
           "baxis": {
            "gridcolor": "white",
            "linecolor": "white",
            "ticks": ""
           },
           "bgcolor": "#E5ECF6",
           "caxis": {
            "gridcolor": "white",
            "linecolor": "white",
            "ticks": ""
           }
          },
          "title": {
           "x": 0.05
          },
          "xaxis": {
           "automargin": true,
           "gridcolor": "white",
           "linecolor": "white",
           "ticks": "",
           "title": {
            "standoff": 15
           },
           "zerolinecolor": "white",
           "zerolinewidth": 2
          },
          "yaxis": {
           "automargin": true,
           "gridcolor": "white",
           "linecolor": "white",
           "ticks": "",
           "title": {
            "standoff": 15
           },
           "zerolinecolor": "white",
           "zerolinewidth": 2
          }
         }
        },
        "title": {
         "text": "Standardized Pearson Residuals vs Fitted Values"
        },
        "xaxis": {
         "title": {
          "text": "Fitted Values"
         }
        },
        "yaxis": {
         "title": {
          "text": "Standardized Pearson Residuals"
         }
        }
       }
      }
     },
     "metadata": {},
     "output_type": "display_data"
    }
   ],
   "source": [
    "def plot_standardized_pearson_residuals_vs_fitted(df,\n",
    "                                                  model,\n",
    "                                                  title='Standardized Pearson Residuals vs Fitted Values'\n",
    "                                                  ) -> None:\n",
    "    \"\"\"\n",
    "    Plots the standardized Pearson residuals versus the fitted values for a given dataset and model.\n",
    "    \n",
    "    Args:\n",
    "    - df: Pandas DataFrame containing the input and output data (y and y_pred).\n",
    "    - model: Trained regression model object with a 'predict' method that can make predictions on input data.\n",
    "    - title: String representing the title of the plot (default is 'Standardized Pearson Residuals vs Fitted Values').\n",
    "    \n",
    "    Returns:\n",
    "    - None. Displays a scatter plot of the standardized Pearson residuals versus the fitted values.\n",
    "    \"\"\"\n",
    "    import numpy as np\n",
    "    from sklearn.metrics import mean_squared_error\n",
    "    \n",
    "    # calculate standardized pearson residuals\n",
    "    df['residuals'] = (df['y'] - df['y_pred']) / np.sqrt(mean_squared_error(df['y'], df['y_pred']))\n",
    "\n",
    "    # create message for hover template\n",
    "    hover  = '<b>Fitted Values:</b> %{x}<br>'\n",
    "    hover += '<b>Standardized Pearson Residuals:</b> %{customdata[3]}<br>'\n",
    "    hover += '<b>AY:</b> %{customdata[0]}<br>'\n",
    "    hover += '<b>DY:</b> %{customdata[1]}<br>'\n",
    "    hover += '<b>CY:</b> %{customdata[2]}<br>'\n",
    "    hover += '<extra></extra>'\n",
    "    \n",
    "    # add a scatter plot of the standardized residuals vs the fitted values, and a horizontal line at 0\n",
    "    fig = go.Figure(go.Scatter(x=df['y_pred'],\n",
    "                            y=df['residuals'],\n",
    "                            mode='markers',\n",
    "                            customdata=(df[['ay', 'dev', 'cal', 'residuals']]\n",
    "                                        .assign(residuals=df.residuals.round(3))).values,\n",
    "                            marker=dict(color='red',\n",
    "                                        colorscale='RdBu',\n",
    "                                        line=dict(color='black', width=1),\n",
    "                                        opacity=0.5),\n",
    "                            hovertemplate=hover,\n",
    "                            showlegend=False))\n",
    "\n",
    "    fig.update_layout(title=title,\n",
    "                    xaxis_title='Fitted Values',\n",
    "                    yaxis_title='Standardized Pearson Residuals',\n",
    "                    coloraxis_showscale=False)\n",
    "\n",
    "    \n",
    "    # add a horizontal line at 0\n",
    "    fig.add_shape(\n",
    "        type=\"line\",\n",
    "        x0=0,\n",
    "        y0=0,\n",
    "        x1=df['y_pred'].max(),\n",
    "        y1=0,\n",
    "        line=dict(\n",
    "            color=\"black\",\n",
    "            width=3,\n",
    "            dash=\"dashdot\",\n",
    "        ),\n",
    "    )\n",
    "    \n",
    "    # show the plot\n",
    "    fig.show()\n",
    "\n",
    "\n",
    "plot_standardized_pearson_residuals_vs_fitted(testdf, model)"
   ]
  },
  {
   "cell_type": "code",
   "execution_count": 34,
   "metadata": {},
   "outputs": [
    {
     "data": {
      "application/vnd.plotly.v1+json": {
       "config": {
        "plotlyServerURL": "https://plot.ly"
       },
       "data": [
        {
         "customdata": [
          [
           1,
           1,
           1
          ],
          [
           2,
           1,
           2
          ],
          [
           3,
           1,
           3
          ],
          [
           4,
           1,
           4
          ],
          [
           5,
           1,
           5
          ],
          [
           6,
           1,
           6
          ],
          [
           7,
           1,
           7
          ],
          [
           8,
           1,
           8
          ],
          [
           9,
           1,
           9
          ],
          [
           10,
           1,
           10
          ],
          [
           1,
           2,
           2
          ],
          [
           2,
           2,
           3
          ],
          [
           3,
           2,
           4
          ],
          [
           4,
           2,
           5
          ],
          [
           5,
           2,
           6
          ],
          [
           6,
           2,
           7
          ],
          [
           7,
           2,
           8
          ],
          [
           8,
           2,
           9
          ],
          [
           9,
           2,
           10
          ],
          [
           1,
           3,
           3
          ],
          [
           2,
           3,
           4
          ],
          [
           3,
           3,
           5
          ],
          [
           4,
           3,
           6
          ],
          [
           5,
           3,
           7
          ],
          [
           6,
           3,
           8
          ],
          [
           7,
           3,
           9
          ],
          [
           8,
           3,
           10
          ],
          [
           1,
           4,
           4
          ],
          [
           2,
           4,
           5
          ],
          [
           3,
           4,
           6
          ],
          [
           4,
           4,
           7
          ],
          [
           5,
           4,
           8
          ],
          [
           6,
           4,
           9
          ],
          [
           7,
           4,
           10
          ],
          [
           1,
           5,
           5
          ],
          [
           2,
           5,
           6
          ],
          [
           3,
           5,
           7
          ],
          [
           4,
           5,
           8
          ],
          [
           5,
           5,
           9
          ],
          [
           6,
           5,
           10
          ],
          [
           1,
           6,
           6
          ],
          [
           2,
           6,
           7
          ],
          [
           3,
           6,
           8
          ],
          [
           4,
           6,
           9
          ],
          [
           5,
           6,
           10
          ],
          [
           1,
           7,
           7
          ],
          [
           2,
           7,
           8
          ],
          [
           3,
           7,
           9
          ],
          [
           4,
           7,
           10
          ],
          [
           1,
           8,
           8
          ],
          [
           2,
           8,
           9
          ],
          [
           3,
           8,
           10
          ],
          [
           1,
           9,
           9
          ],
          [
           2,
           9,
           10
          ],
          [
           1,
           10,
           10
          ]
         ],
         "hovertemplate": "<b>ay:</b> %{x}<br><b>Standardized Pearson Residuals:</b> %{y}<br><b>AY:</b> %{customdata[0]}<br><b>Dev:</b> %{customdata[1]}<br><b>Cal:</b> %{customdata[2]}<extra></extra>",
         "marker": {
          "color": [
           357848,
           352118,
           290507,
           310608,
           443160,
           396132,
           440832,
           359480,
           376686,
           344014,
           766940,
           884021,
           1001799,
           1108250,
           693190,
           937085,
           847631,
           1061648,
           986608,
           610542,
           933894,
           926219,
           776189,
           991983,
           847498,
           1131398,
           1443370,
           482940,
           1183289,
           1016654,
           1562400,
           769488,
           805037,
           1063269,
           527326,
           445745,
           750816,
           272482,
           504851,
           705960,
           574398,
           320996,
           146923,
           352053,
           470639,
           146342,
           527804,
           495992,
           206286,
           139950,
           266172,
           280405,
           227229,
           425046,
           67948
          ],
          "colorscale": [
           [
            0,
            "rgb(103,0,31)"
           ],
           [
            0.1,
            "rgb(178,24,43)"
           ],
           [
            0.2,
            "rgb(214,96,77)"
           ],
           [
            0.3,
            "rgb(244,165,130)"
           ],
           [
            0.4,
            "rgb(253,219,199)"
           ],
           [
            0.5,
            "rgb(247,247,247)"
           ],
           [
            0.6,
            "rgb(209,229,240)"
           ],
           [
            0.7,
            "rgb(146,197,222)"
           ],
           [
            0.8,
            "rgb(67,147,195)"
           ],
           [
            0.9,
            "rgb(33,102,172)"
           ],
           [
            1,
            "rgb(5,48,97)"
           ]
          ],
          "line": {
           "color": "black",
           "width": 1
          },
          "opacity": 0.5
         },
         "mode": "markers",
         "showlegend": false,
         "type": "scatter",
         "x": [
          1,
          2,
          3,
          4,
          5,
          6,
          7,
          8,
          9,
          10,
          1,
          2,
          3,
          4,
          5,
          6,
          7,
          8,
          9,
          1,
          2,
          3,
          4,
          5,
          6,
          7,
          8,
          1,
          2,
          3,
          4,
          5,
          6,
          7,
          1,
          2,
          3,
          4,
          5,
          6,
          1,
          2,
          3,
          4,
          5,
          1,
          2,
          3,
          4,
          1,
          2,
          3,
          1,
          2,
          1
         ],
         "y": [
          0.4850558115169028,
          -0.22044290512126372,
          -0.5939381822828168,
          -0.5684024708746562,
          0.6799215256181596,
          0.3312223119904801,
          0.2088459883033195,
          -0.32249575495347266,
          -0.000023990833517270174,
          -0.2125586575839857,
          0.4297085453478436,
          -0.4619537059116131,
          0.3717248628306469,
          0.8038613479176834,
          -0.9409769836303039,
          0.5397472878474688,
          -1.0643648714340088,
          0.3225457922182101,
          0.3553223844968352,
          -0.5363964018806464,
          -0.06764995316421395,
          -0.050815271361743936,
          -1.2841855553649064,
          1.0640021806416573,
          0.019465626556710608,
          0.855556047118993,
          2.8797334157466956,
          -1.8865000640003655,
          0.8460746254956284,
          -0.16344009814788474,
          3.099588508722548,
          -1.0050108799582536,
          -0.8904799575377935,
          -0.3379561466849257,
          0.8520429126191132,
          -0.6135736110810565,
          1.4091267263123186,
          -1.849704043746802,
          0.20202245979860597,
          1.4504064162115673,
          1.9632849914869657,
          -0.32812529630284715,
          -1.4342272532266893,
          -0.20108787403236447,
          0.9418153667540131,
          -1.0994512806156,
          0.6381169854998887,
          0.46155704262503167,
          -1.5401464886349596,
          -0.20791621843455668,
          0.2076538898960811,
          0.3168024374208758,
          0.0000830508510679204,
          0.7509308801784339,
          -1.0360559750635183
         ]
        }
       ],
       "layout": {
        "coloraxis": {
         "showscale": false
        },
        "template": {
         "data": {
          "bar": [
           {
            "error_x": {
             "color": "#2a3f5f"
            },
            "error_y": {
             "color": "#2a3f5f"
            },
            "marker": {
             "line": {
              "color": "#E5ECF6",
              "width": 0.5
             },
             "pattern": {
              "fillmode": "overlay",
              "size": 10,
              "solidity": 0.2
             }
            },
            "type": "bar"
           }
          ],
          "barpolar": [
           {
            "marker": {
             "line": {
              "color": "#E5ECF6",
              "width": 0.5
             },
             "pattern": {
              "fillmode": "overlay",
              "size": 10,
              "solidity": 0.2
             }
            },
            "type": "barpolar"
           }
          ],
          "carpet": [
           {
            "aaxis": {
             "endlinecolor": "#2a3f5f",
             "gridcolor": "white",
             "linecolor": "white",
             "minorgridcolor": "white",
             "startlinecolor": "#2a3f5f"
            },
            "baxis": {
             "endlinecolor": "#2a3f5f",
             "gridcolor": "white",
             "linecolor": "white",
             "minorgridcolor": "white",
             "startlinecolor": "#2a3f5f"
            },
            "type": "carpet"
           }
          ],
          "choropleth": [
           {
            "colorbar": {
             "outlinewidth": 0,
             "ticks": ""
            },
            "type": "choropleth"
           }
          ],
          "contour": [
           {
            "colorbar": {
             "outlinewidth": 0,
             "ticks": ""
            },
            "colorscale": [
             [
              0,
              "#0d0887"
             ],
             [
              0.1111111111111111,
              "#46039f"
             ],
             [
              0.2222222222222222,
              "#7201a8"
             ],
             [
              0.3333333333333333,
              "#9c179e"
             ],
             [
              0.4444444444444444,
              "#bd3786"
             ],
             [
              0.5555555555555556,
              "#d8576b"
             ],
             [
              0.6666666666666666,
              "#ed7953"
             ],
             [
              0.7777777777777778,
              "#fb9f3a"
             ],
             [
              0.8888888888888888,
              "#fdca26"
             ],
             [
              1,
              "#f0f921"
             ]
            ],
            "type": "contour"
           }
          ],
          "contourcarpet": [
           {
            "colorbar": {
             "outlinewidth": 0,
             "ticks": ""
            },
            "type": "contourcarpet"
           }
          ],
          "heatmap": [
           {
            "colorbar": {
             "outlinewidth": 0,
             "ticks": ""
            },
            "colorscale": [
             [
              0,
              "#0d0887"
             ],
             [
              0.1111111111111111,
              "#46039f"
             ],
             [
              0.2222222222222222,
              "#7201a8"
             ],
             [
              0.3333333333333333,
              "#9c179e"
             ],
             [
              0.4444444444444444,
              "#bd3786"
             ],
             [
              0.5555555555555556,
              "#d8576b"
             ],
             [
              0.6666666666666666,
              "#ed7953"
             ],
             [
              0.7777777777777778,
              "#fb9f3a"
             ],
             [
              0.8888888888888888,
              "#fdca26"
             ],
             [
              1,
              "#f0f921"
             ]
            ],
            "type": "heatmap"
           }
          ],
          "heatmapgl": [
           {
            "colorbar": {
             "outlinewidth": 0,
             "ticks": ""
            },
            "colorscale": [
             [
              0,
              "#0d0887"
             ],
             [
              0.1111111111111111,
              "#46039f"
             ],
             [
              0.2222222222222222,
              "#7201a8"
             ],
             [
              0.3333333333333333,
              "#9c179e"
             ],
             [
              0.4444444444444444,
              "#bd3786"
             ],
             [
              0.5555555555555556,
              "#d8576b"
             ],
             [
              0.6666666666666666,
              "#ed7953"
             ],
             [
              0.7777777777777778,
              "#fb9f3a"
             ],
             [
              0.8888888888888888,
              "#fdca26"
             ],
             [
              1,
              "#f0f921"
             ]
            ],
            "type": "heatmapgl"
           }
          ],
          "histogram": [
           {
            "marker": {
             "pattern": {
              "fillmode": "overlay",
              "size": 10,
              "solidity": 0.2
             }
            },
            "type": "histogram"
           }
          ],
          "histogram2d": [
           {
            "colorbar": {
             "outlinewidth": 0,
             "ticks": ""
            },
            "colorscale": [
             [
              0,
              "#0d0887"
             ],
             [
              0.1111111111111111,
              "#46039f"
             ],
             [
              0.2222222222222222,
              "#7201a8"
             ],
             [
              0.3333333333333333,
              "#9c179e"
             ],
             [
              0.4444444444444444,
              "#bd3786"
             ],
             [
              0.5555555555555556,
              "#d8576b"
             ],
             [
              0.6666666666666666,
              "#ed7953"
             ],
             [
              0.7777777777777778,
              "#fb9f3a"
             ],
             [
              0.8888888888888888,
              "#fdca26"
             ],
             [
              1,
              "#f0f921"
             ]
            ],
            "type": "histogram2d"
           }
          ],
          "histogram2dcontour": [
           {
            "colorbar": {
             "outlinewidth": 0,
             "ticks": ""
            },
            "colorscale": [
             [
              0,
              "#0d0887"
             ],
             [
              0.1111111111111111,
              "#46039f"
             ],
             [
              0.2222222222222222,
              "#7201a8"
             ],
             [
              0.3333333333333333,
              "#9c179e"
             ],
             [
              0.4444444444444444,
              "#bd3786"
             ],
             [
              0.5555555555555556,
              "#d8576b"
             ],
             [
              0.6666666666666666,
              "#ed7953"
             ],
             [
              0.7777777777777778,
              "#fb9f3a"
             ],
             [
              0.8888888888888888,
              "#fdca26"
             ],
             [
              1,
              "#f0f921"
             ]
            ],
            "type": "histogram2dcontour"
           }
          ],
          "mesh3d": [
           {
            "colorbar": {
             "outlinewidth": 0,
             "ticks": ""
            },
            "type": "mesh3d"
           }
          ],
          "parcoords": [
           {
            "line": {
             "colorbar": {
              "outlinewidth": 0,
              "ticks": ""
             }
            },
            "type": "parcoords"
           }
          ],
          "pie": [
           {
            "automargin": true,
            "type": "pie"
           }
          ],
          "scatter": [
           {
            "fillpattern": {
             "fillmode": "overlay",
             "size": 10,
             "solidity": 0.2
            },
            "type": "scatter"
           }
          ],
          "scatter3d": [
           {
            "line": {
             "colorbar": {
              "outlinewidth": 0,
              "ticks": ""
             }
            },
            "marker": {
             "colorbar": {
              "outlinewidth": 0,
              "ticks": ""
             }
            },
            "type": "scatter3d"
           }
          ],
          "scattercarpet": [
           {
            "marker": {
             "colorbar": {
              "outlinewidth": 0,
              "ticks": ""
             }
            },
            "type": "scattercarpet"
           }
          ],
          "scattergeo": [
           {
            "marker": {
             "colorbar": {
              "outlinewidth": 0,
              "ticks": ""
             }
            },
            "type": "scattergeo"
           }
          ],
          "scattergl": [
           {
            "marker": {
             "colorbar": {
              "outlinewidth": 0,
              "ticks": ""
             }
            },
            "type": "scattergl"
           }
          ],
          "scattermapbox": [
           {
            "marker": {
             "colorbar": {
              "outlinewidth": 0,
              "ticks": ""
             }
            },
            "type": "scattermapbox"
           }
          ],
          "scatterpolar": [
           {
            "marker": {
             "colorbar": {
              "outlinewidth": 0,
              "ticks": ""
             }
            },
            "type": "scatterpolar"
           }
          ],
          "scatterpolargl": [
           {
            "marker": {
             "colorbar": {
              "outlinewidth": 0,
              "ticks": ""
             }
            },
            "type": "scatterpolargl"
           }
          ],
          "scatterternary": [
           {
            "marker": {
             "colorbar": {
              "outlinewidth": 0,
              "ticks": ""
             }
            },
            "type": "scatterternary"
           }
          ],
          "surface": [
           {
            "colorbar": {
             "outlinewidth": 0,
             "ticks": ""
            },
            "colorscale": [
             [
              0,
              "#0d0887"
             ],
             [
              0.1111111111111111,
              "#46039f"
             ],
             [
              0.2222222222222222,
              "#7201a8"
             ],
             [
              0.3333333333333333,
              "#9c179e"
             ],
             [
              0.4444444444444444,
              "#bd3786"
             ],
             [
              0.5555555555555556,
              "#d8576b"
             ],
             [
              0.6666666666666666,
              "#ed7953"
             ],
             [
              0.7777777777777778,
              "#fb9f3a"
             ],
             [
              0.8888888888888888,
              "#fdca26"
             ],
             [
              1,
              "#f0f921"
             ]
            ],
            "type": "surface"
           }
          ],
          "table": [
           {
            "cells": {
             "fill": {
              "color": "#EBF0F8"
             },
             "line": {
              "color": "white"
             }
            },
            "header": {
             "fill": {
              "color": "#C8D4E3"
             },
             "line": {
              "color": "white"
             }
            },
            "type": "table"
           }
          ]
         },
         "layout": {
          "annotationdefaults": {
           "arrowcolor": "#2a3f5f",
           "arrowhead": 0,
           "arrowwidth": 1
          },
          "autotypenumbers": "strict",
          "coloraxis": {
           "colorbar": {
            "outlinewidth": 0,
            "ticks": ""
           }
          },
          "colorscale": {
           "diverging": [
            [
             0,
             "#8e0152"
            ],
            [
             0.1,
             "#c51b7d"
            ],
            [
             0.2,
             "#de77ae"
            ],
            [
             0.3,
             "#f1b6da"
            ],
            [
             0.4,
             "#fde0ef"
            ],
            [
             0.5,
             "#f7f7f7"
            ],
            [
             0.6,
             "#e6f5d0"
            ],
            [
             0.7,
             "#b8e186"
            ],
            [
             0.8,
             "#7fbc41"
            ],
            [
             0.9,
             "#4d9221"
            ],
            [
             1,
             "#276419"
            ]
           ],
           "sequential": [
            [
             0,
             "#0d0887"
            ],
            [
             0.1111111111111111,
             "#46039f"
            ],
            [
             0.2222222222222222,
             "#7201a8"
            ],
            [
             0.3333333333333333,
             "#9c179e"
            ],
            [
             0.4444444444444444,
             "#bd3786"
            ],
            [
             0.5555555555555556,
             "#d8576b"
            ],
            [
             0.6666666666666666,
             "#ed7953"
            ],
            [
             0.7777777777777778,
             "#fb9f3a"
            ],
            [
             0.8888888888888888,
             "#fdca26"
            ],
            [
             1,
             "#f0f921"
            ]
           ],
           "sequentialminus": [
            [
             0,
             "#0d0887"
            ],
            [
             0.1111111111111111,
             "#46039f"
            ],
            [
             0.2222222222222222,
             "#7201a8"
            ],
            [
             0.3333333333333333,
             "#9c179e"
            ],
            [
             0.4444444444444444,
             "#bd3786"
            ],
            [
             0.5555555555555556,
             "#d8576b"
            ],
            [
             0.6666666666666666,
             "#ed7953"
            ],
            [
             0.7777777777777778,
             "#fb9f3a"
            ],
            [
             0.8888888888888888,
             "#fdca26"
            ],
            [
             1,
             "#f0f921"
            ]
           ]
          },
          "colorway": [
           "#636efa",
           "#EF553B",
           "#00cc96",
           "#ab63fa",
           "#FFA15A",
           "#19d3f3",
           "#FF6692",
           "#B6E880",
           "#FF97FF",
           "#FECB52"
          ],
          "font": {
           "color": "#2a3f5f"
          },
          "geo": {
           "bgcolor": "white",
           "lakecolor": "white",
           "landcolor": "#E5ECF6",
           "showlakes": true,
           "showland": true,
           "subunitcolor": "white"
          },
          "hoverlabel": {
           "align": "left"
          },
          "hovermode": "closest",
          "mapbox": {
           "style": "light"
          },
          "paper_bgcolor": "white",
          "plot_bgcolor": "#E5ECF6",
          "polar": {
           "angularaxis": {
            "gridcolor": "white",
            "linecolor": "white",
            "ticks": ""
           },
           "bgcolor": "#E5ECF6",
           "radialaxis": {
            "gridcolor": "white",
            "linecolor": "white",
            "ticks": ""
           }
          },
          "scene": {
           "xaxis": {
            "backgroundcolor": "#E5ECF6",
            "gridcolor": "white",
            "gridwidth": 2,
            "linecolor": "white",
            "showbackground": true,
            "ticks": "",
            "zerolinecolor": "white"
           },
           "yaxis": {
            "backgroundcolor": "#E5ECF6",
            "gridcolor": "white",
            "gridwidth": 2,
            "linecolor": "white",
            "showbackground": true,
            "ticks": "",
            "zerolinecolor": "white"
           },
           "zaxis": {
            "backgroundcolor": "#E5ECF6",
            "gridcolor": "white",
            "gridwidth": 2,
            "linecolor": "white",
            "showbackground": true,
            "ticks": "",
            "zerolinecolor": "white"
           }
          },
          "shapedefaults": {
           "line": {
            "color": "#2a3f5f"
           }
          },
          "ternary": {
           "aaxis": {
            "gridcolor": "white",
            "linecolor": "white",
            "ticks": ""
           },
           "baxis": {
            "gridcolor": "white",
            "linecolor": "white",
            "ticks": ""
           },
           "bgcolor": "#E5ECF6",
           "caxis": {
            "gridcolor": "white",
            "linecolor": "white",
            "ticks": ""
           }
          },
          "title": {
           "x": 0.05
          },
          "xaxis": {
           "automargin": true,
           "gridcolor": "white",
           "linecolor": "white",
           "ticks": "",
           "title": {
            "standoff": 15
           },
           "zerolinecolor": "white",
           "zerolinewidth": 2
          },
          "yaxis": {
           "automargin": true,
           "gridcolor": "white",
           "linecolor": "white",
           "ticks": "",
           "title": {
            "standoff": 15
           },
           "zerolinecolor": "white",
           "zerolinewidth": 2
          }
         }
        },
        "title": {
         "text": "Standardized Pearson Residuals by ay"
        },
        "xaxis": {
         "title": {
          "text": "ay"
         }
        },
        "yaxis": {
         "title": {
          "text": "Standardized Pearson Residuals"
         }
        }
       }
      }
     },
     "metadata": {},
     "output_type": "display_data"
    }
   ],
   "source": [
    "def plot_standardized_residuals_by_column(df, model, x_col, title=None) -> None:\n",
    "    import numpy as np\n",
    "    import plotly.graph_objects as go\n",
    "    from sklearn.metrics import mean_squared_error\n",
    "    \n",
    "    if title is None:\n",
    "        title = f'Standardized Pearson Residuals by {x_col}'\n",
    "    \n",
    "    # Calculate y_pred\n",
    "    # df['y_pred'] = model.predict(df.drop('y', axis=1))\n",
    "    \n",
    "    # Calculate standardized Pearson residuals\n",
    "    df['residuals'] = (df['y'] - df['y_pred']) / np.sqrt(mean_squared_error(df['y'], df['y_pred']))\n",
    "    \n",
    "    fig = go.Figure(go.Scatter(x=df[x_col],\n",
    "                               y=df['residuals'],\n",
    "                               mode='markers',\n",
    "                               customdata=df[['ay', 'dev', 'cal']].values,\n",
    "                               marker=dict(color=df['y'],\n",
    "                                           colorscale='RdBu',\n",
    "                                           line=dict(color='black', width=1),\n",
    "                                           opacity=0.5),\n",
    "                               hovertemplate=f'<b>{x_col}:</b> %{{x}}<br><b>Standardized Pearson Residuals:</b> %{{y}}<br><b>AY:</b> %{{customdata[0]}}<br><b>Dev:</b> %{{customdata[1]}}<br><b>Cal:</b> %{{customdata[2]}}<extra></extra>',\n",
    "                               showlegend=False))\n",
    "    \n",
    "    fig.update_layout(title=title,\n",
    "                      xaxis_title=x_col,\n",
    "                      yaxis_title='Standardized Pearson Residuals',\n",
    "                      coloraxis_showscale=False)\n",
    "    \n",
    "    fig.show()\n",
    "\n",
    "\n",
    "# Example usage:\n",
    "plot_standardized_residuals_by_column(testdf, model, 'ay')\n"
   ]
  },
  {
   "cell_type": "code",
   "execution_count": 35,
   "metadata": {},
   "outputs": [
    {
     "data": {
      "application/vnd.plotly.v1+json": {
       "config": {
        "plotlyServerURL": "https://plot.ly"
       },
       "data": [
        {
         "customdata": [
          [
           1,
           1,
           1
          ],
          [
           2,
           1,
           2
          ],
          [
           3,
           1,
           3
          ],
          [
           4,
           1,
           4
          ],
          [
           5,
           1,
           5
          ],
          [
           6,
           1,
           6
          ],
          [
           7,
           1,
           7
          ],
          [
           8,
           1,
           8
          ],
          [
           9,
           1,
           9
          ],
          [
           10,
           1,
           10
          ],
          [
           1,
           2,
           2
          ],
          [
           2,
           2,
           3
          ],
          [
           3,
           2,
           4
          ],
          [
           4,
           2,
           5
          ],
          [
           5,
           2,
           6
          ],
          [
           6,
           2,
           7
          ],
          [
           7,
           2,
           8
          ],
          [
           8,
           2,
           9
          ],
          [
           9,
           2,
           10
          ],
          [
           1,
           3,
           3
          ],
          [
           2,
           3,
           4
          ],
          [
           3,
           3,
           5
          ],
          [
           4,
           3,
           6
          ],
          [
           5,
           3,
           7
          ],
          [
           6,
           3,
           8
          ],
          [
           7,
           3,
           9
          ],
          [
           8,
           3,
           10
          ],
          [
           1,
           4,
           4
          ],
          [
           2,
           4,
           5
          ],
          [
           3,
           4,
           6
          ],
          [
           4,
           4,
           7
          ],
          [
           5,
           4,
           8
          ],
          [
           6,
           4,
           9
          ],
          [
           7,
           4,
           10
          ],
          [
           1,
           5,
           5
          ],
          [
           2,
           5,
           6
          ],
          [
           3,
           5,
           7
          ],
          [
           4,
           5,
           8
          ],
          [
           5,
           5,
           9
          ],
          [
           6,
           5,
           10
          ],
          [
           1,
           6,
           6
          ],
          [
           2,
           6,
           7
          ],
          [
           3,
           6,
           8
          ],
          [
           4,
           6,
           9
          ],
          [
           5,
           6,
           10
          ],
          [
           1,
           7,
           7
          ],
          [
           2,
           7,
           8
          ],
          [
           3,
           7,
           9
          ],
          [
           4,
           7,
           10
          ],
          [
           1,
           8,
           8
          ],
          [
           2,
           8,
           9
          ],
          [
           3,
           8,
           10
          ],
          [
           1,
           9,
           9
          ],
          [
           2,
           9,
           10
          ],
          [
           1,
           10,
           10
          ]
         ],
         "hovertemplate": "<b>cal:</b> %{x}<br><b>Standardized Pearson Residuals:</b> %{y}<br><b>AY:</b> %{customdata[0]}<br><b>Dev:</b> %{customdata[1]}<br><b>Cal:</b> %{customdata[2]}<extra></extra>",
         "marker": {
          "color": [
           357848,
           352118,
           290507,
           310608,
           443160,
           396132,
           440832,
           359480,
           376686,
           344014,
           766940,
           884021,
           1001799,
           1108250,
           693190,
           937085,
           847631,
           1061648,
           986608,
           610542,
           933894,
           926219,
           776189,
           991983,
           847498,
           1131398,
           1443370,
           482940,
           1183289,
           1016654,
           1562400,
           769488,
           805037,
           1063269,
           527326,
           445745,
           750816,
           272482,
           504851,
           705960,
           574398,
           320996,
           146923,
           352053,
           470639,
           146342,
           527804,
           495992,
           206286,
           139950,
           266172,
           280405,
           227229,
           425046,
           67948
          ],
          "colorscale": [
           [
            0,
            "rgb(103,0,31)"
           ],
           [
            0.1,
            "rgb(178,24,43)"
           ],
           [
            0.2,
            "rgb(214,96,77)"
           ],
           [
            0.3,
            "rgb(244,165,130)"
           ],
           [
            0.4,
            "rgb(253,219,199)"
           ],
           [
            0.5,
            "rgb(247,247,247)"
           ],
           [
            0.6,
            "rgb(209,229,240)"
           ],
           [
            0.7,
            "rgb(146,197,222)"
           ],
           [
            0.8,
            "rgb(67,147,195)"
           ],
           [
            0.9,
            "rgb(33,102,172)"
           ],
           [
            1,
            "rgb(5,48,97)"
           ]
          ],
          "line": {
           "color": "black",
           "width": 1
          },
          "opacity": 0.5
         },
         "mode": "markers",
         "showlegend": false,
         "type": "scatter",
         "x": [
          1,
          2,
          3,
          4,
          5,
          6,
          7,
          8,
          9,
          10,
          2,
          3,
          4,
          5,
          6,
          7,
          8,
          9,
          10,
          3,
          4,
          5,
          6,
          7,
          8,
          9,
          10,
          4,
          5,
          6,
          7,
          8,
          9,
          10,
          5,
          6,
          7,
          8,
          9,
          10,
          6,
          7,
          8,
          9,
          10,
          7,
          8,
          9,
          10,
          8,
          9,
          10,
          9,
          10,
          10
         ],
         "y": [
          0.4850558115169028,
          -0.22044290512126372,
          -0.5939381822828168,
          -0.5684024708746562,
          0.6799215256181596,
          0.3312223119904801,
          0.2088459883033195,
          -0.32249575495347266,
          -0.000023990833517270174,
          -0.2125586575839857,
          0.4297085453478436,
          -0.4619537059116131,
          0.3717248628306469,
          0.8038613479176834,
          -0.9409769836303039,
          0.5397472878474688,
          -1.0643648714340088,
          0.3225457922182101,
          0.3553223844968352,
          -0.5363964018806464,
          -0.06764995316421395,
          -0.050815271361743936,
          -1.2841855553649064,
          1.0640021806416573,
          0.019465626556710608,
          0.855556047118993,
          2.8797334157466956,
          -1.8865000640003655,
          0.8460746254956284,
          -0.16344009814788474,
          3.099588508722548,
          -1.0050108799582536,
          -0.8904799575377935,
          -0.3379561466849257,
          0.8520429126191132,
          -0.6135736110810565,
          1.4091267263123186,
          -1.849704043746802,
          0.20202245979860597,
          1.4504064162115673,
          1.9632849914869657,
          -0.32812529630284715,
          -1.4342272532266893,
          -0.20108787403236447,
          0.9418153667540131,
          -1.0994512806156,
          0.6381169854998887,
          0.46155704262503167,
          -1.5401464886349596,
          -0.20791621843455668,
          0.2076538898960811,
          0.3168024374208758,
          0.0000830508510679204,
          0.7509308801784339,
          -1.0360559750635183
         ]
        },
        {
         "line": {
          "color": "darkgray",
          "width": 2
         },
         "mode": "lines",
         "showlegend": false,
         "type": "scatter",
         "x": [
          1,
          2,
          3,
          4,
          5,
          6,
          7,
          8,
          9,
          10
         ],
         "y": [
          0.4850558115169028,
          0.10463282011328993,
          -0.5307627633583588,
          -0.5377069063021472,
          0.6262170280577681,
          -0.11794482412445095,
          0.6991048735584092,
          -0.653267051212148,
          0.10642516223381274,
          0.3568293632841032
         ]
        },
        {
         "fill": "tonexty",
         "fillcolor": "rgba(128, 128, 128, 0.1)",
         "line": {
          "color": "gray",
          "dash": "dot",
          "width": 1
         },
         "mode": "lines",
         "showlegend": false,
         "type": "scatter",
         "x": [
          1,
          2,
          3,
          4,
          5,
          6,
          7,
          8,
          9,
          10
         ],
         "y": [
          null,
          0.5643593195382655,
          -0.4645904208503664,
          0.4400805419433421,
          1.0109731537994644,
          1.0498296194012928,
          2.0503609210367735,
          0.17153374324717974,
          0.5891821032264175,
          1.6219890482423893
         ]
        },
        {
         "fill": "tonexty",
         "fillcolor": "rgba(128, 128, 128, 0.1)",
         "line": {
          "color": "gray",
          "dash": "dot",
          "width": 1
         },
         "mode": "lines",
         "showlegend": false,
         "type": "scatter",
         "x": [
          1,
          2,
          3,
          4,
          5,
          6,
          7,
          8,
          9,
          10
         ],
         "y": [
          null,
          -0.35509367931168556,
          -0.5969351058663512,
          -1.5154943545476365,
          0.24146090231607187,
          -1.2857192676501947,
          -0.6521511739199551,
          -1.4780678456714758,
          -0.3763317787587921,
          -0.908330321674183
         ]
        }
       ],
       "layout": {
        "coloraxis": {
         "showscale": false
        },
        "template": {
         "data": {
          "bar": [
           {
            "error_x": {
             "color": "#2a3f5f"
            },
            "error_y": {
             "color": "#2a3f5f"
            },
            "marker": {
             "line": {
              "color": "#E5ECF6",
              "width": 0.5
             },
             "pattern": {
              "fillmode": "overlay",
              "size": 10,
              "solidity": 0.2
             }
            },
            "type": "bar"
           }
          ],
          "barpolar": [
           {
            "marker": {
             "line": {
              "color": "#E5ECF6",
              "width": 0.5
             },
             "pattern": {
              "fillmode": "overlay",
              "size": 10,
              "solidity": 0.2
             }
            },
            "type": "barpolar"
           }
          ],
          "carpet": [
           {
            "aaxis": {
             "endlinecolor": "#2a3f5f",
             "gridcolor": "white",
             "linecolor": "white",
             "minorgridcolor": "white",
             "startlinecolor": "#2a3f5f"
            },
            "baxis": {
             "endlinecolor": "#2a3f5f",
             "gridcolor": "white",
             "linecolor": "white",
             "minorgridcolor": "white",
             "startlinecolor": "#2a3f5f"
            },
            "type": "carpet"
           }
          ],
          "choropleth": [
           {
            "colorbar": {
             "outlinewidth": 0,
             "ticks": ""
            },
            "type": "choropleth"
           }
          ],
          "contour": [
           {
            "colorbar": {
             "outlinewidth": 0,
             "ticks": ""
            },
            "colorscale": [
             [
              0,
              "#0d0887"
             ],
             [
              0.1111111111111111,
              "#46039f"
             ],
             [
              0.2222222222222222,
              "#7201a8"
             ],
             [
              0.3333333333333333,
              "#9c179e"
             ],
             [
              0.4444444444444444,
              "#bd3786"
             ],
             [
              0.5555555555555556,
              "#d8576b"
             ],
             [
              0.6666666666666666,
              "#ed7953"
             ],
             [
              0.7777777777777778,
              "#fb9f3a"
             ],
             [
              0.8888888888888888,
              "#fdca26"
             ],
             [
              1,
              "#f0f921"
             ]
            ],
            "type": "contour"
           }
          ],
          "contourcarpet": [
           {
            "colorbar": {
             "outlinewidth": 0,
             "ticks": ""
            },
            "type": "contourcarpet"
           }
          ],
          "heatmap": [
           {
            "colorbar": {
             "outlinewidth": 0,
             "ticks": ""
            },
            "colorscale": [
             [
              0,
              "#0d0887"
             ],
             [
              0.1111111111111111,
              "#46039f"
             ],
             [
              0.2222222222222222,
              "#7201a8"
             ],
             [
              0.3333333333333333,
              "#9c179e"
             ],
             [
              0.4444444444444444,
              "#bd3786"
             ],
             [
              0.5555555555555556,
              "#d8576b"
             ],
             [
              0.6666666666666666,
              "#ed7953"
             ],
             [
              0.7777777777777778,
              "#fb9f3a"
             ],
             [
              0.8888888888888888,
              "#fdca26"
             ],
             [
              1,
              "#f0f921"
             ]
            ],
            "type": "heatmap"
           }
          ],
          "heatmapgl": [
           {
            "colorbar": {
             "outlinewidth": 0,
             "ticks": ""
            },
            "colorscale": [
             [
              0,
              "#0d0887"
             ],
             [
              0.1111111111111111,
              "#46039f"
             ],
             [
              0.2222222222222222,
              "#7201a8"
             ],
             [
              0.3333333333333333,
              "#9c179e"
             ],
             [
              0.4444444444444444,
              "#bd3786"
             ],
             [
              0.5555555555555556,
              "#d8576b"
             ],
             [
              0.6666666666666666,
              "#ed7953"
             ],
             [
              0.7777777777777778,
              "#fb9f3a"
             ],
             [
              0.8888888888888888,
              "#fdca26"
             ],
             [
              1,
              "#f0f921"
             ]
            ],
            "type": "heatmapgl"
           }
          ],
          "histogram": [
           {
            "marker": {
             "pattern": {
              "fillmode": "overlay",
              "size": 10,
              "solidity": 0.2
             }
            },
            "type": "histogram"
           }
          ],
          "histogram2d": [
           {
            "colorbar": {
             "outlinewidth": 0,
             "ticks": ""
            },
            "colorscale": [
             [
              0,
              "#0d0887"
             ],
             [
              0.1111111111111111,
              "#46039f"
             ],
             [
              0.2222222222222222,
              "#7201a8"
             ],
             [
              0.3333333333333333,
              "#9c179e"
             ],
             [
              0.4444444444444444,
              "#bd3786"
             ],
             [
              0.5555555555555556,
              "#d8576b"
             ],
             [
              0.6666666666666666,
              "#ed7953"
             ],
             [
              0.7777777777777778,
              "#fb9f3a"
             ],
             [
              0.8888888888888888,
              "#fdca26"
             ],
             [
              1,
              "#f0f921"
             ]
            ],
            "type": "histogram2d"
           }
          ],
          "histogram2dcontour": [
           {
            "colorbar": {
             "outlinewidth": 0,
             "ticks": ""
            },
            "colorscale": [
             [
              0,
              "#0d0887"
             ],
             [
              0.1111111111111111,
              "#46039f"
             ],
             [
              0.2222222222222222,
              "#7201a8"
             ],
             [
              0.3333333333333333,
              "#9c179e"
             ],
             [
              0.4444444444444444,
              "#bd3786"
             ],
             [
              0.5555555555555556,
              "#d8576b"
             ],
             [
              0.6666666666666666,
              "#ed7953"
             ],
             [
              0.7777777777777778,
              "#fb9f3a"
             ],
             [
              0.8888888888888888,
              "#fdca26"
             ],
             [
              1,
              "#f0f921"
             ]
            ],
            "type": "histogram2dcontour"
           }
          ],
          "mesh3d": [
           {
            "colorbar": {
             "outlinewidth": 0,
             "ticks": ""
            },
            "type": "mesh3d"
           }
          ],
          "parcoords": [
           {
            "line": {
             "colorbar": {
              "outlinewidth": 0,
              "ticks": ""
             }
            },
            "type": "parcoords"
           }
          ],
          "pie": [
           {
            "automargin": true,
            "type": "pie"
           }
          ],
          "scatter": [
           {
            "fillpattern": {
             "fillmode": "overlay",
             "size": 10,
             "solidity": 0.2
            },
            "type": "scatter"
           }
          ],
          "scatter3d": [
           {
            "line": {
             "colorbar": {
              "outlinewidth": 0,
              "ticks": ""
             }
            },
            "marker": {
             "colorbar": {
              "outlinewidth": 0,
              "ticks": ""
             }
            },
            "type": "scatter3d"
           }
          ],
          "scattercarpet": [
           {
            "marker": {
             "colorbar": {
              "outlinewidth": 0,
              "ticks": ""
             }
            },
            "type": "scattercarpet"
           }
          ],
          "scattergeo": [
           {
            "marker": {
             "colorbar": {
              "outlinewidth": 0,
              "ticks": ""
             }
            },
            "type": "scattergeo"
           }
          ],
          "scattergl": [
           {
            "marker": {
             "colorbar": {
              "outlinewidth": 0,
              "ticks": ""
             }
            },
            "type": "scattergl"
           }
          ],
          "scattermapbox": [
           {
            "marker": {
             "colorbar": {
              "outlinewidth": 0,
              "ticks": ""
             }
            },
            "type": "scattermapbox"
           }
          ],
          "scatterpolar": [
           {
            "marker": {
             "colorbar": {
              "outlinewidth": 0,
              "ticks": ""
             }
            },
            "type": "scatterpolar"
           }
          ],
          "scatterpolargl": [
           {
            "marker": {
             "colorbar": {
              "outlinewidth": 0,
              "ticks": ""
             }
            },
            "type": "scatterpolargl"
           }
          ],
          "scatterternary": [
           {
            "marker": {
             "colorbar": {
              "outlinewidth": 0,
              "ticks": ""
             }
            },
            "type": "scatterternary"
           }
          ],
          "surface": [
           {
            "colorbar": {
             "outlinewidth": 0,
             "ticks": ""
            },
            "colorscale": [
             [
              0,
              "#0d0887"
             ],
             [
              0.1111111111111111,
              "#46039f"
             ],
             [
              0.2222222222222222,
              "#7201a8"
             ],
             [
              0.3333333333333333,
              "#9c179e"
             ],
             [
              0.4444444444444444,
              "#bd3786"
             ],
             [
              0.5555555555555556,
              "#d8576b"
             ],
             [
              0.6666666666666666,
              "#ed7953"
             ],
             [
              0.7777777777777778,
              "#fb9f3a"
             ],
             [
              0.8888888888888888,
              "#fdca26"
             ],
             [
              1,
              "#f0f921"
             ]
            ],
            "type": "surface"
           }
          ],
          "table": [
           {
            "cells": {
             "fill": {
              "color": "#EBF0F8"
             },
             "line": {
              "color": "white"
             }
            },
            "header": {
             "fill": {
              "color": "#C8D4E3"
             },
             "line": {
              "color": "white"
             }
            },
            "type": "table"
           }
          ]
         },
         "layout": {
          "annotationdefaults": {
           "arrowcolor": "#2a3f5f",
           "arrowhead": 0,
           "arrowwidth": 1
          },
          "autotypenumbers": "strict",
          "coloraxis": {
           "colorbar": {
            "outlinewidth": 0,
            "ticks": ""
           }
          },
          "colorscale": {
           "diverging": [
            [
             0,
             "#8e0152"
            ],
            [
             0.1,
             "#c51b7d"
            ],
            [
             0.2,
             "#de77ae"
            ],
            [
             0.3,
             "#f1b6da"
            ],
            [
             0.4,
             "#fde0ef"
            ],
            [
             0.5,
             "#f7f7f7"
            ],
            [
             0.6,
             "#e6f5d0"
            ],
            [
             0.7,
             "#b8e186"
            ],
            [
             0.8,
             "#7fbc41"
            ],
            [
             0.9,
             "#4d9221"
            ],
            [
             1,
             "#276419"
            ]
           ],
           "sequential": [
            [
             0,
             "#0d0887"
            ],
            [
             0.1111111111111111,
             "#46039f"
            ],
            [
             0.2222222222222222,
             "#7201a8"
            ],
            [
             0.3333333333333333,
             "#9c179e"
            ],
            [
             0.4444444444444444,
             "#bd3786"
            ],
            [
             0.5555555555555556,
             "#d8576b"
            ],
            [
             0.6666666666666666,
             "#ed7953"
            ],
            [
             0.7777777777777778,
             "#fb9f3a"
            ],
            [
             0.8888888888888888,
             "#fdca26"
            ],
            [
             1,
             "#f0f921"
            ]
           ],
           "sequentialminus": [
            [
             0,
             "#0d0887"
            ],
            [
             0.1111111111111111,
             "#46039f"
            ],
            [
             0.2222222222222222,
             "#7201a8"
            ],
            [
             0.3333333333333333,
             "#9c179e"
            ],
            [
             0.4444444444444444,
             "#bd3786"
            ],
            [
             0.5555555555555556,
             "#d8576b"
            ],
            [
             0.6666666666666666,
             "#ed7953"
            ],
            [
             0.7777777777777778,
             "#fb9f3a"
            ],
            [
             0.8888888888888888,
             "#fdca26"
            ],
            [
             1,
             "#f0f921"
            ]
           ]
          },
          "colorway": [
           "#636efa",
           "#EF553B",
           "#00cc96",
           "#ab63fa",
           "#FFA15A",
           "#19d3f3",
           "#FF6692",
           "#B6E880",
           "#FF97FF",
           "#FECB52"
          ],
          "font": {
           "color": "#2a3f5f"
          },
          "geo": {
           "bgcolor": "white",
           "lakecolor": "white",
           "landcolor": "#E5ECF6",
           "showlakes": true,
           "showland": true,
           "subunitcolor": "white"
          },
          "hoverlabel": {
           "align": "left"
          },
          "hovermode": "closest",
          "mapbox": {
           "style": "light"
          },
          "paper_bgcolor": "white",
          "plot_bgcolor": "#E5ECF6",
          "polar": {
           "angularaxis": {
            "gridcolor": "white",
            "linecolor": "white",
            "ticks": ""
           },
           "bgcolor": "#E5ECF6",
           "radialaxis": {
            "gridcolor": "white",
            "linecolor": "white",
            "ticks": ""
           }
          },
          "scene": {
           "xaxis": {
            "backgroundcolor": "#E5ECF6",
            "gridcolor": "white",
            "gridwidth": 2,
            "linecolor": "white",
            "showbackground": true,
            "ticks": "",
            "zerolinecolor": "white"
           },
           "yaxis": {
            "backgroundcolor": "#E5ECF6",
            "gridcolor": "white",
            "gridwidth": 2,
            "linecolor": "white",
            "showbackground": true,
            "ticks": "",
            "zerolinecolor": "white"
           },
           "zaxis": {
            "backgroundcolor": "#E5ECF6",
            "gridcolor": "white",
            "gridwidth": 2,
            "linecolor": "white",
            "showbackground": true,
            "ticks": "",
            "zerolinecolor": "white"
           }
          },
          "shapedefaults": {
           "line": {
            "color": "#2a3f5f"
           }
          },
          "ternary": {
           "aaxis": {
            "gridcolor": "white",
            "linecolor": "white",
            "ticks": ""
           },
           "baxis": {
            "gridcolor": "white",
            "linecolor": "white",
            "ticks": ""
           },
           "bgcolor": "#E5ECF6",
           "caxis": {
            "gridcolor": "white",
            "linecolor": "white",
            "ticks": ""
           }
          },
          "title": {
           "x": 0.05
          },
          "xaxis": {
           "automargin": true,
           "gridcolor": "white",
           "linecolor": "white",
           "ticks": "",
           "title": {
            "standoff": 15
           },
           "zerolinecolor": "white",
           "zerolinewidth": 2
          },
          "yaxis": {
           "automargin": true,
           "gridcolor": "white",
           "linecolor": "white",
           "ticks": "",
           "title": {
            "standoff": 15
           },
           "zerolinecolor": "white",
           "zerolinewidth": 2
          }
         }
        },
        "title": {
         "text": "Standardized Pearson Residuals by cal"
        },
        "xaxis": {
         "title": {
          "text": "cal"
         }
        },
        "yaxis": {
         "title": {
          "text": "Standardized Pearson Residuals"
         }
        }
       }
      }
     },
     "metadata": {},
     "output_type": "display_data"
    }
   ],
   "source": [
    "def plot_standardized_residuals_by_column(df, model, x_col, title=None, return_=False) -> None:\n",
    "\n",
    "    if title is None:\n",
    "        title = f'Standardized Pearson Residuals by {x_col}'\n",
    "\n",
    "    # Group by x_col and calculate the mean and standard deviation of residuals for each group\n",
    "    grouped = df.groupby(x_col)['residuals'].agg(['mean', 'std']).reset_index()\n",
    "\n",
    "    fig = go.Figure()\n",
    "\n",
    "    # Scatter plot of residuals\n",
    "    fig.add_trace(go.Scatter(x=df[x_col],\n",
    "                             y=df['residuals'],\n",
    "                             mode='markers',\n",
    "                             customdata=df[['ay', 'dev', 'cal']].values,\n",
    "                             marker=dict(color=df['y'],\n",
    "                                         colorscale='RdBu',\n",
    "                                         line=dict(color='black', width=1),\n",
    "                                         opacity=0.5),\n",
    "                             hovertemplate=f'<b>{x_col}:</b> %{{x}}<br><b>Standardized Pearson Residuals:</b> %{{y}}<br><b>AY:</b> %{{customdata[0]}}<br><b>Dev:</b> %{{customdata[1]}}<br><b>Cal:</b> %{{customdata[2]}}<extra></extra>',\n",
    "                             showlegend=False))\n",
    "\n",
    "    # Plot mean residuals\n",
    "    fig.add_trace(go.Scatter(x=grouped[x_col],\n",
    "                             y=grouped['mean'],\n",
    "                             mode='lines',\n",
    "                             line=dict(color='darkgray', width=2),\n",
    "                             showlegend=False))\n",
    "\n",
    "    # Plot standard deviation bounds and shading\n",
    "    for level, fillcolor in zip([1, -1], ['rgba(128, 128, 128, 0.1)', 'rgba(128, 128, 128, 0.1)']):\n",
    "        fig.add_trace(go.Scatter(x=grouped[x_col],\n",
    "                                 y=grouped['mean'] + level * grouped['std'],\n",
    "                                 mode='lines',\n",
    "                                 line=dict(color='gray', width=1, dash=\"dot\"),\n",
    "                                 fill='tonexty',\n",
    "                                 fillcolor=fillcolor,\n",
    "                                 showlegend=False))\n",
    "\n",
    "    fig.update_layout(title=title,\n",
    "                      xaxis_title=x_col,\n",
    "                      yaxis_title='Standardized Pearson Residuals',\n",
    "                      coloraxis_showscale=False)\n",
    "\n",
    "    fig.show()\n",
    "\n",
    "    if return_:\n",
    "        return fig\n",
    "\n",
    "# Example usage:\n",
    "x = plot_standardized_residuals_by_column(testdf, model, 'cal', return_=True)"
   ]
  },
  {
   "cell_type": "code",
   "execution_count": 36,
   "metadata": {},
   "outputs": [],
   "source": [
    "%run plot.py"
   ]
  },
  {
   "cell_type": "code",
   "execution_count": 37,
   "metadata": {},
   "outputs": [
    {
     "data": {
      "application/vnd.plotly.v1+json": {
       "config": {
        "plotlyServerURL": "https://plot.ly"
       },
       "data": [
        {
         "customdata": [
          [
           1,
           1,
           1,
           0.485
          ],
          [
           2,
           1,
           2,
           -0.22
          ],
          [
           3,
           1,
           3,
           -0.594
          ],
          [
           4,
           1,
           4,
           -0.568
          ],
          [
           5,
           1,
           5,
           0.68
          ],
          [
           6,
           1,
           6,
           0.331
          ],
          [
           7,
           1,
           7,
           0.209
          ],
          [
           8,
           1,
           8,
           -0.322
          ],
          [
           9,
           1,
           9,
           0
          ],
          [
           10,
           1,
           10,
           -0.213
          ],
          [
           1,
           2,
           2,
           0.43
          ],
          [
           2,
           2,
           3,
           -0.462
          ],
          [
           3,
           2,
           4,
           0.372
          ],
          [
           4,
           2,
           5,
           0.804
          ],
          [
           5,
           2,
           6,
           -0.941
          ],
          [
           6,
           2,
           7,
           0.54
          ],
          [
           7,
           2,
           8,
           -1.064
          ],
          [
           8,
           2,
           9,
           0.323
          ],
          [
           9,
           2,
           10,
           0.355
          ],
          [
           1,
           3,
           3,
           -0.536
          ],
          [
           2,
           3,
           4,
           -0.068
          ],
          [
           3,
           3,
           5,
           -0.051
          ],
          [
           4,
           3,
           6,
           -1.284
          ],
          [
           5,
           3,
           7,
           1.064
          ],
          [
           6,
           3,
           8,
           0.019
          ],
          [
           7,
           3,
           9,
           0.856
          ],
          [
           8,
           3,
           10,
           2.88
          ],
          [
           1,
           4,
           4,
           -1.887
          ],
          [
           2,
           4,
           5,
           0.846
          ],
          [
           3,
           4,
           6,
           -0.163
          ],
          [
           4,
           4,
           7,
           3.1
          ],
          [
           5,
           4,
           8,
           -1.005
          ],
          [
           6,
           4,
           9,
           -0.89
          ],
          [
           7,
           4,
           10,
           -0.338
          ],
          [
           1,
           5,
           5,
           0.852
          ],
          [
           2,
           5,
           6,
           -0.614
          ],
          [
           3,
           5,
           7,
           1.409
          ],
          [
           4,
           5,
           8,
           -1.85
          ],
          [
           5,
           5,
           9,
           0.202
          ],
          [
           6,
           5,
           10,
           1.45
          ],
          [
           1,
           6,
           6,
           1.963
          ],
          [
           2,
           6,
           7,
           -0.328
          ],
          [
           3,
           6,
           8,
           -1.434
          ],
          [
           4,
           6,
           9,
           -0.201
          ],
          [
           5,
           6,
           10,
           0.942
          ],
          [
           1,
           7,
           7,
           -1.099
          ],
          [
           2,
           7,
           8,
           0.638
          ],
          [
           3,
           7,
           9,
           0.462
          ],
          [
           4,
           7,
           10,
           -1.54
          ],
          [
           1,
           8,
           8,
           -0.208
          ],
          [
           2,
           8,
           9,
           0.208
          ],
          [
           3,
           8,
           10,
           0.317
          ],
          [
           1,
           9,
           9,
           0
          ],
          [
           2,
           9,
           10,
           0.751
          ],
          [
           1,
           10,
           10,
           -1.036
          ]
         ],
         "hovertemplate": "<b>Fitted Values:</b> %{x}<br><b>Standardized Pearson Residuals:</b> %{customdata[3]}<br><b>AY:</b> %{customdata[0]}<br><b>DY:</b> %{customdata[1]}<br><b>CY:</b> %{customdata[2]}<br><extra></extra>",
         "marker": {
          "color": "red",
          "colorscale": [
           [
            0,
            "rgb(103,0,31)"
           ],
           [
            0.1,
            "rgb(178,24,43)"
           ],
           [
            0.2,
            "rgb(214,96,77)"
           ],
           [
            0.3,
            "rgb(244,165,130)"
           ],
           [
            0.4,
            "rgb(253,219,199)"
           ],
           [
            0.5,
            "rgb(247,247,247)"
           ],
           [
            0.6,
            "rgb(209,229,240)"
           ],
           [
            0.7,
            "rgb(146,197,222)"
           ],
           [
            0.8,
            "rgb(67,147,195)"
           ],
           [
            0.9,
            "rgb(33,102,172)"
           ],
           [
            1,
            "rgb(5,48,97)"
           ]
          ],
          "line": {
           "color": "black",
           "width": 1
          },
          "opacity": 0.5
         },
         "mode": "markers",
         "showlegend": false,
         "type": "scatter",
         "x": [
          283282.5480848699,
          386005.6979753048,
          381810.4498712028,
          397985.9596164438,
          338638.71683880227,
          345214.68122650107,
          408727.0439748389,
          409055.8243440379,
          376689.6880031134,
          376689.6880031134,
          700882.8347936852,
          955035.068953111,
          944655.4059497078,
          984676.0044691807,
          837842.1665346227,
          854112.0730033098,
          1011251.0324924889,
          1012064.4836519305,
          931985.8852938352,
          692999.8103431019,
          944293.5235392643,
          934030.6034965728,
          973601.0791980857,
          828418.7223344713,
          844505.6366336625,
          999877.2104796234,
          1000681.512527315,
          772943.1841082419,
          1053225.746852465,
          1041778.9124123226,
          1085914.1762737401,
          923983.8098932051,
          941926.4854543096,
          1115221.480944926,
          396345.2688716731,
          540066.9161736874,
          534197.2756008916,
          556828.6971355266,
          473794.99437297677,
          482995.5342260423,
          272591.0137676198,
          371437.22845800634,
          367400.3156956952,
          382965.33595364005,
          325857.9525922632,
          315355.7086315765,
          429709.1410811483,
          425038.90831284446,
          443045.8041582574,
          171912.02667807305,
          234250.29991024366,
          231704.38379621055,
          227216.23296557885,
          309608.7676072486,
          227216.23296557885
         ],
         "y": [
          0.4850558115169028,
          -0.22044290512126372,
          -0.5939381822828168,
          -0.5684024708746562,
          0.6799215256181596,
          0.3312223119904801,
          0.2088459883033195,
          -0.32249575495347266,
          -0.000023990833517270174,
          -0.2125586575839857,
          0.4297085453478436,
          -0.4619537059116131,
          0.3717248628306469,
          0.8038613479176834,
          -0.9409769836303039,
          0.5397472878474688,
          -1.0643648714340088,
          0.3225457922182101,
          0.3553223844968352,
          -0.5363964018806464,
          -0.06764995316421395,
          -0.050815271361743936,
          -1.2841855553649064,
          1.0640021806416573,
          0.019465626556710608,
          0.855556047118993,
          2.8797334157466956,
          -1.8865000640003655,
          0.8460746254956284,
          -0.16344009814788474,
          3.099588508722548,
          -1.0050108799582536,
          -0.8904799575377935,
          -0.3379561466849257,
          0.8520429126191132,
          -0.6135736110810565,
          1.4091267263123186,
          -1.849704043746802,
          0.20202245979860597,
          1.4504064162115673,
          1.9632849914869657,
          -0.32812529630284715,
          -1.4342272532266893,
          -0.20108787403236447,
          0.9418153667540131,
          -1.0994512806156,
          0.6381169854998887,
          0.46155704262503167,
          -1.5401464886349596,
          -0.20791621843455668,
          0.2076538898960811,
          0.3168024374208758,
          0.0000830508510679204,
          0.7509308801784339,
          -1.0360559750635183
         ]
        }
       ],
       "layout": {
        "coloraxis": {
         "showscale": false
        },
        "shapes": [
         {
          "line": {
           "color": "black",
           "dash": "dashdot",
           "width": 3
          },
          "type": "line",
          "x0": 0,
          "x1": 1115221.480944926,
          "y0": 0,
          "y1": 0
         }
        ],
        "template": {
         "data": {
          "bar": [
           {
            "error_x": {
             "color": "#2a3f5f"
            },
            "error_y": {
             "color": "#2a3f5f"
            },
            "marker": {
             "line": {
              "color": "#E5ECF6",
              "width": 0.5
             },
             "pattern": {
              "fillmode": "overlay",
              "size": 10,
              "solidity": 0.2
             }
            },
            "type": "bar"
           }
          ],
          "barpolar": [
           {
            "marker": {
             "line": {
              "color": "#E5ECF6",
              "width": 0.5
             },
             "pattern": {
              "fillmode": "overlay",
              "size": 10,
              "solidity": 0.2
             }
            },
            "type": "barpolar"
           }
          ],
          "carpet": [
           {
            "aaxis": {
             "endlinecolor": "#2a3f5f",
             "gridcolor": "white",
             "linecolor": "white",
             "minorgridcolor": "white",
             "startlinecolor": "#2a3f5f"
            },
            "baxis": {
             "endlinecolor": "#2a3f5f",
             "gridcolor": "white",
             "linecolor": "white",
             "minorgridcolor": "white",
             "startlinecolor": "#2a3f5f"
            },
            "type": "carpet"
           }
          ],
          "choropleth": [
           {
            "colorbar": {
             "outlinewidth": 0,
             "ticks": ""
            },
            "type": "choropleth"
           }
          ],
          "contour": [
           {
            "colorbar": {
             "outlinewidth": 0,
             "ticks": ""
            },
            "colorscale": [
             [
              0,
              "#0d0887"
             ],
             [
              0.1111111111111111,
              "#46039f"
             ],
             [
              0.2222222222222222,
              "#7201a8"
             ],
             [
              0.3333333333333333,
              "#9c179e"
             ],
             [
              0.4444444444444444,
              "#bd3786"
             ],
             [
              0.5555555555555556,
              "#d8576b"
             ],
             [
              0.6666666666666666,
              "#ed7953"
             ],
             [
              0.7777777777777778,
              "#fb9f3a"
             ],
             [
              0.8888888888888888,
              "#fdca26"
             ],
             [
              1,
              "#f0f921"
             ]
            ],
            "type": "contour"
           }
          ],
          "contourcarpet": [
           {
            "colorbar": {
             "outlinewidth": 0,
             "ticks": ""
            },
            "type": "contourcarpet"
           }
          ],
          "heatmap": [
           {
            "colorbar": {
             "outlinewidth": 0,
             "ticks": ""
            },
            "colorscale": [
             [
              0,
              "#0d0887"
             ],
             [
              0.1111111111111111,
              "#46039f"
             ],
             [
              0.2222222222222222,
              "#7201a8"
             ],
             [
              0.3333333333333333,
              "#9c179e"
             ],
             [
              0.4444444444444444,
              "#bd3786"
             ],
             [
              0.5555555555555556,
              "#d8576b"
             ],
             [
              0.6666666666666666,
              "#ed7953"
             ],
             [
              0.7777777777777778,
              "#fb9f3a"
             ],
             [
              0.8888888888888888,
              "#fdca26"
             ],
             [
              1,
              "#f0f921"
             ]
            ],
            "type": "heatmap"
           }
          ],
          "heatmapgl": [
           {
            "colorbar": {
             "outlinewidth": 0,
             "ticks": ""
            },
            "colorscale": [
             [
              0,
              "#0d0887"
             ],
             [
              0.1111111111111111,
              "#46039f"
             ],
             [
              0.2222222222222222,
              "#7201a8"
             ],
             [
              0.3333333333333333,
              "#9c179e"
             ],
             [
              0.4444444444444444,
              "#bd3786"
             ],
             [
              0.5555555555555556,
              "#d8576b"
             ],
             [
              0.6666666666666666,
              "#ed7953"
             ],
             [
              0.7777777777777778,
              "#fb9f3a"
             ],
             [
              0.8888888888888888,
              "#fdca26"
             ],
             [
              1,
              "#f0f921"
             ]
            ],
            "type": "heatmapgl"
           }
          ],
          "histogram": [
           {
            "marker": {
             "pattern": {
              "fillmode": "overlay",
              "size": 10,
              "solidity": 0.2
             }
            },
            "type": "histogram"
           }
          ],
          "histogram2d": [
           {
            "colorbar": {
             "outlinewidth": 0,
             "ticks": ""
            },
            "colorscale": [
             [
              0,
              "#0d0887"
             ],
             [
              0.1111111111111111,
              "#46039f"
             ],
             [
              0.2222222222222222,
              "#7201a8"
             ],
             [
              0.3333333333333333,
              "#9c179e"
             ],
             [
              0.4444444444444444,
              "#bd3786"
             ],
             [
              0.5555555555555556,
              "#d8576b"
             ],
             [
              0.6666666666666666,
              "#ed7953"
             ],
             [
              0.7777777777777778,
              "#fb9f3a"
             ],
             [
              0.8888888888888888,
              "#fdca26"
             ],
             [
              1,
              "#f0f921"
             ]
            ],
            "type": "histogram2d"
           }
          ],
          "histogram2dcontour": [
           {
            "colorbar": {
             "outlinewidth": 0,
             "ticks": ""
            },
            "colorscale": [
             [
              0,
              "#0d0887"
             ],
             [
              0.1111111111111111,
              "#46039f"
             ],
             [
              0.2222222222222222,
              "#7201a8"
             ],
             [
              0.3333333333333333,
              "#9c179e"
             ],
             [
              0.4444444444444444,
              "#bd3786"
             ],
             [
              0.5555555555555556,
              "#d8576b"
             ],
             [
              0.6666666666666666,
              "#ed7953"
             ],
             [
              0.7777777777777778,
              "#fb9f3a"
             ],
             [
              0.8888888888888888,
              "#fdca26"
             ],
             [
              1,
              "#f0f921"
             ]
            ],
            "type": "histogram2dcontour"
           }
          ],
          "mesh3d": [
           {
            "colorbar": {
             "outlinewidth": 0,
             "ticks": ""
            },
            "type": "mesh3d"
           }
          ],
          "parcoords": [
           {
            "line": {
             "colorbar": {
              "outlinewidth": 0,
              "ticks": ""
             }
            },
            "type": "parcoords"
           }
          ],
          "pie": [
           {
            "automargin": true,
            "type": "pie"
           }
          ],
          "scatter": [
           {
            "fillpattern": {
             "fillmode": "overlay",
             "size": 10,
             "solidity": 0.2
            },
            "type": "scatter"
           }
          ],
          "scatter3d": [
           {
            "line": {
             "colorbar": {
              "outlinewidth": 0,
              "ticks": ""
             }
            },
            "marker": {
             "colorbar": {
              "outlinewidth": 0,
              "ticks": ""
             }
            },
            "type": "scatter3d"
           }
          ],
          "scattercarpet": [
           {
            "marker": {
             "colorbar": {
              "outlinewidth": 0,
              "ticks": ""
             }
            },
            "type": "scattercarpet"
           }
          ],
          "scattergeo": [
           {
            "marker": {
             "colorbar": {
              "outlinewidth": 0,
              "ticks": ""
             }
            },
            "type": "scattergeo"
           }
          ],
          "scattergl": [
           {
            "marker": {
             "colorbar": {
              "outlinewidth": 0,
              "ticks": ""
             }
            },
            "type": "scattergl"
           }
          ],
          "scattermapbox": [
           {
            "marker": {
             "colorbar": {
              "outlinewidth": 0,
              "ticks": ""
             }
            },
            "type": "scattermapbox"
           }
          ],
          "scatterpolar": [
           {
            "marker": {
             "colorbar": {
              "outlinewidth": 0,
              "ticks": ""
             }
            },
            "type": "scatterpolar"
           }
          ],
          "scatterpolargl": [
           {
            "marker": {
             "colorbar": {
              "outlinewidth": 0,
              "ticks": ""
             }
            },
            "type": "scatterpolargl"
           }
          ],
          "scatterternary": [
           {
            "marker": {
             "colorbar": {
              "outlinewidth": 0,
              "ticks": ""
             }
            },
            "type": "scatterternary"
           }
          ],
          "surface": [
           {
            "colorbar": {
             "outlinewidth": 0,
             "ticks": ""
            },
            "colorscale": [
             [
              0,
              "#0d0887"
             ],
             [
              0.1111111111111111,
              "#46039f"
             ],
             [
              0.2222222222222222,
              "#7201a8"
             ],
             [
              0.3333333333333333,
              "#9c179e"
             ],
             [
              0.4444444444444444,
              "#bd3786"
             ],
             [
              0.5555555555555556,
              "#d8576b"
             ],
             [
              0.6666666666666666,
              "#ed7953"
             ],
             [
              0.7777777777777778,
              "#fb9f3a"
             ],
             [
              0.8888888888888888,
              "#fdca26"
             ],
             [
              1,
              "#f0f921"
             ]
            ],
            "type": "surface"
           }
          ],
          "table": [
           {
            "cells": {
             "fill": {
              "color": "#EBF0F8"
             },
             "line": {
              "color": "white"
             }
            },
            "header": {
             "fill": {
              "color": "#C8D4E3"
             },
             "line": {
              "color": "white"
             }
            },
            "type": "table"
           }
          ]
         },
         "layout": {
          "annotationdefaults": {
           "arrowcolor": "#2a3f5f",
           "arrowhead": 0,
           "arrowwidth": 1
          },
          "autotypenumbers": "strict",
          "coloraxis": {
           "colorbar": {
            "outlinewidth": 0,
            "ticks": ""
           }
          },
          "colorscale": {
           "diverging": [
            [
             0,
             "#8e0152"
            ],
            [
             0.1,
             "#c51b7d"
            ],
            [
             0.2,
             "#de77ae"
            ],
            [
             0.3,
             "#f1b6da"
            ],
            [
             0.4,
             "#fde0ef"
            ],
            [
             0.5,
             "#f7f7f7"
            ],
            [
             0.6,
             "#e6f5d0"
            ],
            [
             0.7,
             "#b8e186"
            ],
            [
             0.8,
             "#7fbc41"
            ],
            [
             0.9,
             "#4d9221"
            ],
            [
             1,
             "#276419"
            ]
           ],
           "sequential": [
            [
             0,
             "#0d0887"
            ],
            [
             0.1111111111111111,
             "#46039f"
            ],
            [
             0.2222222222222222,
             "#7201a8"
            ],
            [
             0.3333333333333333,
             "#9c179e"
            ],
            [
             0.4444444444444444,
             "#bd3786"
            ],
            [
             0.5555555555555556,
             "#d8576b"
            ],
            [
             0.6666666666666666,
             "#ed7953"
            ],
            [
             0.7777777777777778,
             "#fb9f3a"
            ],
            [
             0.8888888888888888,
             "#fdca26"
            ],
            [
             1,
             "#f0f921"
            ]
           ],
           "sequentialminus": [
            [
             0,
             "#0d0887"
            ],
            [
             0.1111111111111111,
             "#46039f"
            ],
            [
             0.2222222222222222,
             "#7201a8"
            ],
            [
             0.3333333333333333,
             "#9c179e"
            ],
            [
             0.4444444444444444,
             "#bd3786"
            ],
            [
             0.5555555555555556,
             "#d8576b"
            ],
            [
             0.6666666666666666,
             "#ed7953"
            ],
            [
             0.7777777777777778,
             "#fb9f3a"
            ],
            [
             0.8888888888888888,
             "#fdca26"
            ],
            [
             1,
             "#f0f921"
            ]
           ]
          },
          "colorway": [
           "#636efa",
           "#EF553B",
           "#00cc96",
           "#ab63fa",
           "#FFA15A",
           "#19d3f3",
           "#FF6692",
           "#B6E880",
           "#FF97FF",
           "#FECB52"
          ],
          "font": {
           "color": "#2a3f5f"
          },
          "geo": {
           "bgcolor": "white",
           "lakecolor": "white",
           "landcolor": "#E5ECF6",
           "showlakes": true,
           "showland": true,
           "subunitcolor": "white"
          },
          "hoverlabel": {
           "align": "left"
          },
          "hovermode": "closest",
          "mapbox": {
           "style": "light"
          },
          "paper_bgcolor": "white",
          "plot_bgcolor": "#E5ECF6",
          "polar": {
           "angularaxis": {
            "gridcolor": "white",
            "linecolor": "white",
            "ticks": ""
           },
           "bgcolor": "#E5ECF6",
           "radialaxis": {
            "gridcolor": "white",
            "linecolor": "white",
            "ticks": ""
           }
          },
          "scene": {
           "xaxis": {
            "backgroundcolor": "#E5ECF6",
            "gridcolor": "white",
            "gridwidth": 2,
            "linecolor": "white",
            "showbackground": true,
            "ticks": "",
            "zerolinecolor": "white"
           },
           "yaxis": {
            "backgroundcolor": "#E5ECF6",
            "gridcolor": "white",
            "gridwidth": 2,
            "linecolor": "white",
            "showbackground": true,
            "ticks": "",
            "zerolinecolor": "white"
           },
           "zaxis": {
            "backgroundcolor": "#E5ECF6",
            "gridcolor": "white",
            "gridwidth": 2,
            "linecolor": "white",
            "showbackground": true,
            "ticks": "",
            "zerolinecolor": "white"
           }
          },
          "shapedefaults": {
           "line": {
            "color": "#2a3f5f"
           }
          },
          "ternary": {
           "aaxis": {
            "gridcolor": "white",
            "linecolor": "white",
            "ticks": ""
           },
           "baxis": {
            "gridcolor": "white",
            "linecolor": "white",
            "ticks": ""
           },
           "bgcolor": "#E5ECF6",
           "caxis": {
            "gridcolor": "white",
            "linecolor": "white",
            "ticks": ""
           }
          },
          "title": {
           "x": 0.05
          },
          "xaxis": {
           "automargin": true,
           "gridcolor": "white",
           "linecolor": "white",
           "ticks": "",
           "title": {
            "standoff": 15
           },
           "zerolinecolor": "white",
           "zerolinewidth": 2
          },
          "yaxis": {
           "automargin": true,
           "gridcolor": "white",
           "linecolor": "white",
           "ticks": "",
           "title": {
            "standoff": 15
           },
           "zerolinecolor": "white",
           "zerolinewidth": 2
          }
         }
        },
        "title": {
         "text": "Standardized Pearson Residuals vs Fitted Values"
        },
        "xaxis": {
         "title": {
          "text": "Fitted Values"
         }
        },
        "yaxis": {
         "title": {
          "text": "Standardized Pearson Residuals"
         }
        }
       }
      }
     },
     "metadata": {},
     "output_type": "display_data"
    }
   ],
   "source": [
    "residual_plot(testdf, model, 'fitted')"
   ]
  },
  {
   "cell_type": "code",
   "execution_count": 187,
   "metadata": {},
   "outputs": [
    {
     "data": {
      "text/html": [
       "<div>\n",
       "<style scoped>\n",
       "    .dataframe tbody tr th:only-of-type {\n",
       "        vertical-align: middle;\n",
       "    }\n",
       "\n",
       "    .dataframe tbody tr th {\n",
       "        vertical-align: top;\n",
       "    }\n",
       "\n",
       "    .dataframe thead th {\n",
       "        text-align: right;\n",
       "    }\n",
       "</style>\n",
       "<table border=\"1\" class=\"dataframe\">\n",
       "  <thead>\n",
       "    <tr style=\"text-align: right;\">\n",
       "      <th></th>\n",
       "      <th>raw_residual</th>\n",
       "      <th>y</th>\n",
       "      <th>y_pred</th>\n",
       "      <th>ay</th>\n",
       "      <th>dev</th>\n",
       "      <th>cal</th>\n",
       "      <th>intercept</th>\n",
       "      <th>AY_0002</th>\n",
       "      <th>AY_0003</th>\n",
       "      <th>AY_0004</th>\n",
       "      <th>...</th>\n",
       "      <th>dev_0007</th>\n",
       "      <th>dev_0008</th>\n",
       "      <th>dev_0009</th>\n",
       "      <th>dev_0010</th>\n",
       "      <th>residuals</th>\n",
       "      <th>Deviance Residuals</th>\n",
       "      <th>Standardized Pearson Residuals</th>\n",
       "      <th>Pearson Residuals</th>\n",
       "      <th>Leverage</th>\n",
       "      <th>Studentized Residuals</th>\n",
       "    </tr>\n",
       "  </thead>\n",
       "  <tbody>\n",
       "    <tr>\n",
       "      <th>0</th>\n",
       "      <td>74565.451915</td>\n",
       "      <td>357848.0</td>\n",
       "      <td>283282.548085</td>\n",
       "      <td>1</td>\n",
       "      <td>1</td>\n",
       "      <td>1</td>\n",
       "      <td>1</td>\n",
       "      <td>0</td>\n",
       "      <td>0</td>\n",
       "      <td>0</td>\n",
       "      <td>...</td>\n",
       "      <td>0</td>\n",
       "      <td>0</td>\n",
       "      <td>0</td>\n",
       "      <td>0</td>\n",
       "      <td>0.485056</td>\n",
       "      <td>18101.137439</td>\n",
       "      <td>152.863504</td>\n",
       "      <td>140.096648</td>\n",
       "      <td>0.160061</td>\n",
       "      <td>152.863504</td>\n",
       "    </tr>\n",
       "    <tr>\n",
       "      <th>1</th>\n",
       "      <td>-33887.697975</td>\n",
       "      <td>352118.0</td>\n",
       "      <td>386005.697975</td>\n",
       "      <td>2</td>\n",
       "      <td>1</td>\n",
       "      <td>2</td>\n",
       "      <td>1</td>\n",
       "      <td>1</td>\n",
       "      <td>0</td>\n",
       "      <td>0</td>\n",
       "      <td>...</td>\n",
       "      <td>0</td>\n",
       "      <td>0</td>\n",
       "      <td>0</td>\n",
       "      <td>0</td>\n",
       "      <td>-0.220443</td>\n",
       "      <td>3066.118790</td>\n",
       "      <td>-60.653098</td>\n",
       "      <td>-54.543777</td>\n",
       "      <td>0.191306</td>\n",
       "      <td>-60.653098</td>\n",
       "    </tr>\n",
       "    <tr>\n",
       "      <th>2</th>\n",
       "      <td>-91303.449871</td>\n",
       "      <td>290507.0</td>\n",
       "      <td>381810.449871</td>\n",
       "      <td>3</td>\n",
       "      <td>1</td>\n",
       "      <td>3</td>\n",
       "      <td>1</td>\n",
       "      <td>1</td>\n",
       "      <td>1</td>\n",
       "      <td>0</td>\n",
       "      <td>...</td>\n",
       "      <td>0</td>\n",
       "      <td>0</td>\n",
       "      <td>0</td>\n",
       "      <td>0</td>\n",
       "      <td>-0.593938</td>\n",
       "      <td>23817.744026</td>\n",
       "      <td>-164.386251</td>\n",
       "      <td>-147.762177</td>\n",
       "      <td>0.192029</td>\n",
       "      <td>-164.386251</td>\n",
       "    </tr>\n",
       "    <tr>\n",
       "      <th>3</th>\n",
       "      <td>-87377.959616</td>\n",
       "      <td>310608.0</td>\n",
       "      <td>397985.959616</td>\n",
       "      <td>4</td>\n",
       "      <td>1</td>\n",
       "      <td>4</td>\n",
       "      <td>1</td>\n",
       "      <td>1</td>\n",
       "      <td>1</td>\n",
       "      <td>1</td>\n",
       "      <td>...</td>\n",
       "      <td>0</td>\n",
       "      <td>0</td>\n",
       "      <td>0</td>\n",
       "      <td>0</td>\n",
       "      <td>-0.568402</td>\n",
       "      <td>20765.753593</td>\n",
       "      <td>-154.784582</td>\n",
       "      <td>-138.505820</td>\n",
       "      <td>0.199280</td>\n",
       "      <td>-154.784582</td>\n",
       "    </tr>\n",
       "    <tr>\n",
       "      <th>4</th>\n",
       "      <td>104521.283161</td>\n",
       "      <td>443160.0</td>\n",
       "      <td>338638.716839</td>\n",
       "      <td>5</td>\n",
       "      <td>1</td>\n",
       "      <td>5</td>\n",
       "      <td>1</td>\n",
       "      <td>1</td>\n",
       "      <td>1</td>\n",
       "      <td>1</td>\n",
       "      <td>...</td>\n",
       "      <td>0</td>\n",
       "      <td>0</td>\n",
       "      <td>0</td>\n",
       "      <td>0</td>\n",
       "      <td>0.679922</td>\n",
       "      <td>29374.918184</td>\n",
       "      <td>199.354673</td>\n",
       "      <td>179.612446</td>\n",
       "      <td>0.188254</td>\n",
       "      <td>199.354673</td>\n",
       "    </tr>\n",
       "    <tr>\n",
       "      <th>5</th>\n",
       "      <td>50917.318773</td>\n",
       "      <td>396132.0</td>\n",
       "      <td>345214.681227</td>\n",
       "      <td>6</td>\n",
       "      <td>1</td>\n",
       "      <td>6</td>\n",
       "      <td>1</td>\n",
       "      <td>1</td>\n",
       "      <td>1</td>\n",
       "      <td>1</td>\n",
       "      <td>...</td>\n",
       "      <td>0</td>\n",
       "      <td>0</td>\n",
       "      <td>0</td>\n",
       "      <td>0</td>\n",
       "      <td>0.331222</td>\n",
       "      <td>7165.836720</td>\n",
       "      <td>96.718064</td>\n",
       "      <td>86.660442</td>\n",
       "      <td>0.197164</td>\n",
       "      <td>96.718064</td>\n",
       "    </tr>\n",
       "    <tr>\n",
       "      <th>6</th>\n",
       "      <td>32104.956025</td>\n",
       "      <td>440832.0</td>\n",
       "      <td>408727.043975</td>\n",
       "      <td>7</td>\n",
       "      <td>1</td>\n",
       "      <td>7</td>\n",
       "      <td>1</td>\n",
       "      <td>1</td>\n",
       "      <td>1</td>\n",
       "      <td>1</td>\n",
       "      <td>...</td>\n",
       "      <td>0</td>\n",
       "      <td>0</td>\n",
       "      <td>0</td>\n",
       "      <td>0</td>\n",
       "      <td>0.208846</td>\n",
       "      <td>2458.249873</td>\n",
       "      <td>57.159306</td>\n",
       "      <td>50.217535</td>\n",
       "      <td>0.228143</td>\n",
       "      <td>57.159306</td>\n",
       "    </tr>\n",
       "    <tr>\n",
       "      <th>7</th>\n",
       "      <td>-49575.824344</td>\n",
       "      <td>359480.0</td>\n",
       "      <td>409055.824344</td>\n",
       "      <td>8</td>\n",
       "      <td>1</td>\n",
       "      <td>8</td>\n",
       "      <td>1</td>\n",
       "      <td>1</td>\n",
       "      <td>1</td>\n",
       "      <td>1</td>\n",
       "      <td>...</td>\n",
       "      <td>0</td>\n",
       "      <td>0</td>\n",
       "      <td>0</td>\n",
       "      <td>0</td>\n",
       "      <td>-0.322496</td>\n",
       "      <td>6266.981986</td>\n",
       "      <td>-90.906385</td>\n",
       "      <td>-77.513733</td>\n",
       "      <td>0.272943</td>\n",
       "      <td>-90.906385</td>\n",
       "    </tr>\n",
       "    <tr>\n",
       "      <th>8</th>\n",
       "      <td>-3.688003</td>\n",
       "      <td>376686.0</td>\n",
       "      <td>376689.688003</td>\n",
       "      <td>9</td>\n",
       "      <td>1</td>\n",
       "      <td>9</td>\n",
       "      <td>1</td>\n",
       "      <td>1</td>\n",
       "      <td>1</td>\n",
       "      <td>1</td>\n",
       "      <td>...</td>\n",
       "      <td>0</td>\n",
       "      <td>0</td>\n",
       "      <td>0</td>\n",
       "      <td>0</td>\n",
       "      <td>-0.000024</td>\n",
       "      <td>0.000036</td>\n",
       "      <td>-0.007561</td>\n",
       "      <td>-0.006009</td>\n",
       "      <td>0.368463</td>\n",
       "      <td>-0.007561</td>\n",
       "    </tr>\n",
       "    <tr>\n",
       "      <th>9</th>\n",
       "      <td>-32675.688003</td>\n",
       "      <td>344014.0</td>\n",
       "      <td>376689.688003</td>\n",
       "      <td>10</td>\n",
       "      <td>1</td>\n",
       "      <td>10</td>\n",
       "      <td>1</td>\n",
       "      <td>1</td>\n",
       "      <td>1</td>\n",
       "      <td>1</td>\n",
       "      <td>...</td>\n",
       "      <td>0</td>\n",
       "      <td>0</td>\n",
       "      <td>0</td>\n",
       "      <td>0</td>\n",
       "      <td>-0.212559</td>\n",
       "      <td>2920.138050</td>\n",
       "      <td>NaN</td>\n",
       "      <td>-53.239366</td>\n",
       "      <td>1.000000</td>\n",
       "      <td>NaN</td>\n",
       "    </tr>\n",
       "  </tbody>\n",
       "</table>\n",
       "<p>10 rows × 31 columns</p>\n",
       "</div>"
      ],
      "text/plain": [
       "    raw_residual         y         y_pred  ay  dev  cal  intercept  AY_0002  \\\n",
       "0   74565.451915  357848.0  283282.548085   1    1    1          1        0   \n",
       "1  -33887.697975  352118.0  386005.697975   2    1    2          1        1   \n",
       "2  -91303.449871  290507.0  381810.449871   3    1    3          1        1   \n",
       "3  -87377.959616  310608.0  397985.959616   4    1    4          1        1   \n",
       "4  104521.283161  443160.0  338638.716839   5    1    5          1        1   \n",
       "5   50917.318773  396132.0  345214.681227   6    1    6          1        1   \n",
       "6   32104.956025  440832.0  408727.043975   7    1    7          1        1   \n",
       "7  -49575.824344  359480.0  409055.824344   8    1    8          1        1   \n",
       "8      -3.688003  376686.0  376689.688003   9    1    9          1        1   \n",
       "9  -32675.688003  344014.0  376689.688003  10    1   10          1        1   \n",
       "\n",
       "   AY_0003  AY_0004  ...  dev_0007  dev_0008  dev_0009  dev_0010  residuals  \\\n",
       "0        0        0  ...         0         0         0         0   0.485056   \n",
       "1        0        0  ...         0         0         0         0  -0.220443   \n",
       "2        1        0  ...         0         0         0         0  -0.593938   \n",
       "3        1        1  ...         0         0         0         0  -0.568402   \n",
       "4        1        1  ...         0         0         0         0   0.679922   \n",
       "5        1        1  ...         0         0         0         0   0.331222   \n",
       "6        1        1  ...         0         0         0         0   0.208846   \n",
       "7        1        1  ...         0         0         0         0  -0.322496   \n",
       "8        1        1  ...         0         0         0         0  -0.000024   \n",
       "9        1        1  ...         0         0         0         0  -0.212559   \n",
       "\n",
       "   Deviance Residuals  Standardized Pearson Residuals  Pearson Residuals  \\\n",
       "0        18101.137439                      152.863504         140.096648   \n",
       "1         3066.118790                      -60.653098         -54.543777   \n",
       "2        23817.744026                     -164.386251        -147.762177   \n",
       "3        20765.753593                     -154.784582        -138.505820   \n",
       "4        29374.918184                      199.354673         179.612446   \n",
       "5         7165.836720                       96.718064          86.660442   \n",
       "6         2458.249873                       57.159306          50.217535   \n",
       "7         6266.981986                      -90.906385         -77.513733   \n",
       "8            0.000036                       -0.007561          -0.006009   \n",
       "9         2920.138050                             NaN         -53.239366   \n",
       "\n",
       "   Leverage  Studentized Residuals  \n",
       "0  0.160061             152.863504  \n",
       "1  0.191306             -60.653098  \n",
       "2  0.192029            -164.386251  \n",
       "3  0.199280            -154.784582  \n",
       "4  0.188254             199.354673  \n",
       "5  0.197164              96.718064  \n",
       "6  0.228143              57.159306  \n",
       "7  0.272943             -90.906385  \n",
       "8  0.368463              -0.007561  \n",
       "9  1.000000                    NaN  \n",
       "\n",
       "[10 rows x 31 columns]"
      ]
     },
     "execution_count": 187,
     "metadata": {},
     "output_type": "execute_result"
    }
   ],
   "source": [
    "# import pandas as pd\n",
    "# import numpy as np\n",
    "# import sklearn\n",
    "\n",
    "# def pearson_residuals(df : pd.DataFrame\n",
    "#                       , observed_col : str = 'y'\n",
    "#                       , expected_col : str = 'y_pred'\n",
    "#                       ) -> pd.Series:\n",
    "#     \"\"\"\n",
    "#     Calculate Pearson residuals for the given DataFrame.\n",
    "\n",
    "#     Parameters\n",
    "#     ----------\n",
    "#     df : pd.DataFrame\n",
    "#         The input DataFrame containing the specified columns\n",
    "#     observed_col : str, optional\n",
    "#         The name of the column containing the observed values (default: 'y')\n",
    "#     expected_col : str, optional\n",
    "#         The name of the column containing the expected values (default: 'y_pred')\n",
    "\n",
    "#     Returns\n",
    "#     -------\n",
    "#     pd.Series\n",
    "#         A pandas Series containing the Pearson residuals\n",
    "#     \"\"\"\n",
    "#     observed = df[observed_col]\n",
    "#     expected = df[expected_col]\n",
    "\n",
    "#     pearson_res = (observed - expected) / np.sqrt(expected)\n",
    "#     return pearson_res\n",
    "\n",
    "# def poisson_deviance_residuals(df : pd.DataFrame\n",
    "#                                , y_col : str = 'y'\n",
    "#                                , yhat_col : str = 'y_pred'\n",
    "#                                ) -> pd.Series:\n",
    "#     \"\"\"\n",
    "#     Calculate the deviance residuals for a Poisson GLM.\n",
    "    \n",
    "#     Parameters\n",
    "#     ----------\n",
    "#     df : pd.DataFrame\n",
    "#         The input DataFrame containing 'y' and 'yhat' columns\n",
    "#     y_col : str, optional\n",
    "#         The name of the column containing the observed response variable (default: 'y')\n",
    "#     yhat_col : str, optional\n",
    "#         The name of the column containing the predicted response variable (default: 'yhat')\n",
    "        \n",
    "#     Returns\n",
    "#     -------\n",
    "#     pd.Series\n",
    "#         A pandas Series containing the deviance residuals\n",
    "#     \"\"\"\n",
    "#     y = df[y_col]\n",
    "#     yhat = df[yhat_col]\n",
    "    \n",
    "#     # deviance residuals for a Poisson GLM are defined as:\n",
    "#     # 2 * (y * log(y / yhat) - (y - yhat))\n",
    "#     residuals = 2 * (y * np.log(y / yhat) - (y - yhat))\n",
    "#     return pd.Series(np.where(y == 0, -2 * yhat, residuals), name='deviance_residuals')\n",
    "\n",
    "# def calculate_hat_matrix_poisson(df : pd.DataFrame\n",
    "#                                  , model : sklearn.linear_model.PoissonRegressor\n",
    "#                                  , y_pred_col : str = 'y_pred'\n",
    "#                                  , x_col : list = None\n",
    "#                                  ) -> np.ndarray:\n",
    "#     \"\"\"\n",
    "#     Calculate the hat matrix for the given DataFrame using a Poisson GLM.\n",
    "\n",
    "#     Parameters\n",
    "#     ----------\n",
    "#     df : pd.DataFrame\n",
    "#         The input DataFrame containing the specified columns\n",
    "#     model : sklearn.linear_model.PoissonRegressor\n",
    "#         The fitted PoissonRegressor model\n",
    "#     y_pred_col : str, optional\n",
    "#         The name of the column containing the expected values (default: 'y_pred')\n",
    "#     x_col : list of str, optional\n",
    "#         The list of column names used as predictors in the model\n",
    "#     \"\"\"\n",
    "\n",
    "#     y_pred = df[y_pred_col].values\n",
    "\n",
    "#     if x_col is None:\n",
    "#         x_col = ['const'] + list(df.columns)\n",
    "\n",
    "#     X = df[x_col].values\n",
    "#     W = np.diag(y_pred)\n",
    "\n",
    "#     # Compute the condition number of the matrix (X.T @ W @ X)\n",
    "#     matrix_to_invert = X.T @ W @ X\n",
    "#     cond_num = np.linalg.cond(matrix_to_invert)\n",
    "\n",
    "#     # If the condition number is large, use the pseudoinverse\n",
    "#     if cond_num > 1 / np.sqrt(np.finfo(matrix_to_invert.dtype).eps):\n",
    "#         inverted_matrix = np.linalg.pinv(matrix_to_invert)\n",
    "#     else:\n",
    "#         inverted_matrix = np.linalg.inv(matrix_to_invert)\n",
    "\n",
    "#     # Compute hat matrix for Poisson GLM\n",
    "#     hat_matrix = np.sqrt(W) @ X @ inverted_matrix @ X.T @ np.sqrt(W)\n",
    "#     return hat_matrix\n",
    "\n",
    "\n",
    "def standardized_pearson_residuals_poisson(df, model, y_col='y', y_pred_col='y_pred', x_col=None):\n",
    "    \"\"\"\n",
    "    Calculate standardized Pearson residuals for the given DataFrame using a Poisson GLM.\n",
    "\n",
    "    Parameters\n",
    "    ----------\n",
    "    df : pd.DataFrame\n",
    "        The input DataFrame containing the specified columns\n",
    "    model : sklearn.linear_model.PoissonRegressor\n",
    "        The fitted PoissonRegressor model\n",
    "    y_col : str, optional\n",
    "        The name of the column containing the observed values (default: 'y')\n",
    "    y_pred_col : str, optional\n",
    "        The name of the column containing the expected values (default: 'y_pred')\n",
    "    x_col : list of str, optional\n",
    "        The list of column names used as predictors in the model\n",
    "    \"\"\"\n",
    "    \n",
    "    hat_matrix = calculate_hat_matrix_poisson(df, model, y_pred_col=y_pred_col, x_col=x_col)\n",
    "    \n",
    "    y = df[y_col].values\n",
    "    y_pred = df[y_pred_col].values\n",
    "    # pearson_res = (y - y_pred) / np.sqrt(y_pred)\n",
    "\n",
    "    h = np.diag(hat_matrix)\n",
    "    standardized_res = pearson_res / np.where(np.logical_not(np.equal(h, 1)), np.sqrt(1 - h), np.nan)\n",
    "    return standardized_res\n",
    "\n",
    "def leverage_poisson(df : pd.DataFrame\n",
    "                     , model : sklearn.linear_model.PoissonRegressor\n",
    "                     , y_pred_col : str = 'y_pred'\n",
    "                     , x_col : list = None\n",
    "                     ) -> np.ndarray:\n",
    "    \"\"\"\n",
    "    Calculate leverage values for the given DataFrame using a Poisson GLM.\n",
    "\n",
    "    Parameters\n",
    "    ----------\n",
    "    df : pd.DataFrame\n",
    "        The input DataFrame containing the specified columns\n",
    "    model : sklearn.linear_model.PoissonRegressor\n",
    "        The fitted PoissonRegressor model\n",
    "    y_pred_col : str, optional\n",
    "        The name of the column containing the expected values (default: 'y_pred')\n",
    "    x_col : list of str, optional\n",
    "        The list of column names used as predictors in the model\n",
    "    \"\"\"\n",
    "    hat_matrix = calculate_hat_matrix_poisson(df, model, y_pred_col=y_pred_col, x_col=x_col)\n",
    "    leverage_values = np.diag(hat_matrix)\n",
    "    \n",
    "    return leverage_values\n",
    "\n",
    "def studentized_residuals_poisson(df, model, y_col='y', y_pred_col='y_pred', x_col=None):\n",
    "    \"\"\"\n",
    "    Calculate studentized residuals for the given DataFrame using a Poisson GLM.\n",
    "\n",
    "    Parameters\n",
    "    ----------\n",
    "    df : pd.DataFrame\n",
    "        The input DataFrame containing the specified columns\n",
    "    model : sklearn.linear_model.PoissonRegressor\n",
    "        The fitted PoissonRegressor model\n",
    "    y_col : str, optional\n",
    "        The name of the column containing the observed values (default: 'y')\n",
    "    y_pred_col : str, optional\n",
    "        The name of the column containing the expected values (default: 'y_pred')\n",
    "    x_col : list of str, optional\n",
    "        The list of column names used as predictors in the model\n",
    "    \"\"\"\n",
    "    \n",
    "    hat_matrix = calculate_hat_matrix_poisson(df, model, y_pred_col=y_pred_col, x_col=x_col)\n",
    "    \n",
    "    y = df[y_col].values\n",
    "    y_pred = df[y_pred_col].values\n",
    "    pearson_res = (y - y_pred) / np.sqrt(y_pred)\n",
    "\n",
    "    h = np.diag(hat_matrix)\n",
    "    studentized_res = pearson_res / np.where(np.logical_not(np.equal(h, 1)), np.sqrt(1 - h), np.nan)\n",
    "    return studentized_res\n",
    "\n",
    "\n",
    "\n",
    "# testdf['Pearson Residuals'] = pearson_residuals(testdf)\n",
    "testdf['Deviance Residuals'] = poisson_deviance_residuals(testdf)\n",
    "testdf['Pearson Residuals'] = pearson_residuals(testdf)\n",
    "testdf['Standardized Pearson Residuals'] = standardized_pearson_residuals_poisson(testdf, model, x_col=['intercept'] + testdf.columns[testdf.columns.str.contains(\"AY_\") | testdf.columns.str.contains(\"dev_\")].tolist())\n",
    "testdf['Leverage'] = leverage_poisson(testdf, model, x_col=['intercept'] + testdf.columns[testdf.columns.str.contains(\"AY_\") | testdf.columns.str.contains(\"dev_\")].tolist())\n",
    "testdf['Studentized Residuals'] = studentized_residuals_poisson(testdf, model, x_col=['intercept'] + testdf.columns[testdf.columns.str.contains(\"AY_\") | testdf.columns.str.contains(\"dev_\")].tolist())\n",
    "\n",
    "testdf.head(10)"
   ]
  },
  {
   "cell_type": "code",
   "execution_count": 63,
   "metadata": {},
   "outputs": [],
   "source": [
    "import pandas as pd\n",
    "import numpy as np\n",
    "import plotly.express as px\n",
    "import plotly.graph_objs as go\n",
    "from sklearn.linear_model import LinearRegression\n",
    "\n",
    "def plot_by(df, y_col, x_col, accident_col='ay', development_col='dev', calendar_col='cal', include_ols_trendline=True):\n",
    "    \"\"\"\n",
    "    Plot a specified quantity against another column in the DataFrame.\n",
    "\n",
    "    Parameters\n",
    "    ----------\n",
    "    df : pd.DataFrame\n",
    "        The input DataFrame containing the specified columns\n",
    "    y_col : str\n",
    "        The name of the column containing the quantity to be plotted on the y-axis\n",
    "    x_col : str\n",
    "        The name of the column to be plotted on the x-axis\n",
    "    accident_col : str, optional\n",
    "        The name of the column containing accident information (default: None)\n",
    "    development_col : str, optional\n",
    "        The name of the column containing development information (default: None)\n",
    "    calendar_col : str, optional\n",
    "        The name of the column containing calendar information (default: None)\n",
    "    include_ols_trendline : bool, optional\n",
    "        If True, include an OLS trendline for float columns (default: True)\n",
    "\n",
    "    Returns\n",
    "    -------\n",
    "    plotly.graph_objs._figure.Figure\n",
    "        A Plotly Figure containing the scatter plot with hover information and trendlines\n",
    "    \"\"\"\n",
    "    # replace inf values with nan\n",
    "    df[x_col] = df[x_col].replace([np.inf, -np.inf], np.nan)\n",
    "    df[y_col] = df[y_col].replace([np.inf, -np.inf], np.nan)\n",
    "\n",
    "    hover_data = []\n",
    "    if accident_col:\n",
    "        hover_data.append(accident_col)\n",
    "    if development_col:\n",
    "        hover_data.append(development_col)\n",
    "    if calendar_col:\n",
    "        hover_data.append(calendar_col)\n",
    "\n",
    "    fig = px.scatter(df, x=x_col, y=y_col, hover_data=hover_data)\n",
    "    fig.update_layout(title=f'{y_col} by {x_col}', xaxis_title=x_col, yaxis_title=y_col)\n",
    "\n",
    "    x_dtype = df[x_col].dtype\n",
    "\n",
    "    if include_ols_trendline and np.issubdtype(x_dtype, np.floating):\n",
    "        df_clean = df.dropna(subset=[x_col, y_col])\n",
    "\n",
    "        X = df_clean[x_col].values.reshape(-1, 1)\n",
    "        y = df_clean[y_col].values.reshape(-1, 1)\n",
    "        ols = LinearRegression().fit(X, y)\n",
    "        y_pred = ols.predict(X)\n",
    "\n",
    "        fig.add_trace(go.Scatter(x=df_clean[x_col], y=y_pred[:, 0], mode='lines', name='OLS Trendline'))\n",
    "\n",
    "    elif np.issubdtype(x_dtype, (np.integer, np.object)) or x_dtype.name == 'category':\n",
    "        group_mean_std = df.groupby(x_col)[y_col].agg(['mean', 'std'])\n",
    "\n",
    "        mean_line = go.Scatter(x=group_mean_std.index, y=group_mean_std['mean'], mode='lines', line=dict(dash='dot', width=3, color='black'), name='Mean')\n",
    "        std_upper = go.Scatter(x=group_mean_std.index, y=group_mean_std['mean'] + group_mean_std['std'], mode='lines', line=dict(dash='dash', width=1, color='black'), name='Mean + 1 Std')\n",
    "        std_lower = go.Scatter(x=group_mean_std.index, y=group_mean_std['mean'] - group_mean_std['std'], mode='lines', line=dict(dash='dash', width=1, color='black'), name='Mean - 1 Std', showlegend=False)\n",
    "\n",
    "        fig.add_traces([mean_line, std_upper, std_lower])\n",
    "\n",
    "    return fig"
   ]
  },
  {
   "cell_type": "code",
   "execution_count": 64,
   "metadata": {},
   "outputs": [
    {
     "data": {
      "application/vnd.plotly.v1+json": {
       "config": {
        "plotlyServerURL": "https://plot.ly"
       },
       "data": [
        {
         "customdata": [
          [
           1,
           1,
           1
          ],
          [
           2,
           1,
           2
          ],
          [
           3,
           1,
           3
          ],
          [
           4,
           1,
           4
          ],
          [
           5,
           1,
           5
          ],
          [
           6,
           1,
           6
          ],
          [
           7,
           1,
           7
          ],
          [
           8,
           1,
           8
          ],
          [
           9,
           1,
           9
          ],
          [
           10,
           1,
           10
          ],
          [
           1,
           2,
           2
          ],
          [
           2,
           2,
           3
          ],
          [
           3,
           2,
           4
          ],
          [
           4,
           2,
           5
          ],
          [
           5,
           2,
           6
          ],
          [
           6,
           2,
           7
          ],
          [
           7,
           2,
           8
          ],
          [
           8,
           2,
           9
          ],
          [
           9,
           2,
           10
          ],
          [
           1,
           3,
           3
          ],
          [
           2,
           3,
           4
          ],
          [
           3,
           3,
           5
          ],
          [
           4,
           3,
           6
          ],
          [
           5,
           3,
           7
          ],
          [
           6,
           3,
           8
          ],
          [
           7,
           3,
           9
          ],
          [
           8,
           3,
           10
          ],
          [
           1,
           4,
           4
          ],
          [
           2,
           4,
           5
          ],
          [
           3,
           4,
           6
          ],
          [
           4,
           4,
           7
          ],
          [
           5,
           4,
           8
          ],
          [
           6,
           4,
           9
          ],
          [
           7,
           4,
           10
          ],
          [
           1,
           5,
           5
          ],
          [
           2,
           5,
           6
          ],
          [
           3,
           5,
           7
          ],
          [
           4,
           5,
           8
          ],
          [
           5,
           5,
           9
          ],
          [
           6,
           5,
           10
          ],
          [
           1,
           6,
           6
          ],
          [
           2,
           6,
           7
          ],
          [
           3,
           6,
           8
          ],
          [
           4,
           6,
           9
          ],
          [
           5,
           6,
           10
          ],
          [
           1,
           7,
           7
          ],
          [
           2,
           7,
           8
          ],
          [
           3,
           7,
           9
          ],
          [
           4,
           7,
           10
          ],
          [
           1,
           8,
           8
          ],
          [
           2,
           8,
           9
          ],
          [
           3,
           8,
           10
          ],
          [
           1,
           9,
           9
          ],
          [
           2,
           9,
           10
          ],
          [
           1,
           10,
           10
          ]
         ],
         "hovertemplate": "y_pred=%{x}<br>Deviance Residuals=%{y}<br>ay=%{customdata[0]}<br>dev=%{customdata[1]}<br>cal=%{customdata[2]}<extra></extra>",
         "legendgroup": "",
         "marker": {
          "color": "#636efa",
          "symbol": "circle"
         },
         "mode": "markers",
         "name": "",
         "orientation": "v",
         "showlegend": false,
         "type": "scatter",
         "x": [
          283282.5480848699,
          386005.6979753048,
          381810.4498712028,
          397985.9596164438,
          338638.71683880227,
          345214.68122650107,
          408727.0439748389,
          409055.8243440379,
          376689.6880031134,
          376689.6880031134,
          700882.8347936852,
          955035.068953111,
          944655.4059497078,
          984676.0044691807,
          837842.1665346227,
          854112.0730033098,
          1011251.0324924889,
          1012064.4836519305,
          931985.8852938352,
          692999.8103431019,
          944293.5235392643,
          934030.6034965728,
          973601.0791980857,
          828418.7223344713,
          844505.6366336625,
          999877.2104796234,
          1000681.512527315,
          772943.1841082419,
          1053225.746852465,
          1041778.9124123226,
          1085914.1762737401,
          923983.8098932051,
          941926.4854543096,
          1115221.480944926,
          396345.2688716731,
          540066.9161736874,
          534197.2756008916,
          556828.6971355266,
          473794.99437297677,
          482995.5342260423,
          272591.0137676198,
          371437.22845800634,
          367400.3156956952,
          382965.33595364005,
          325857.9525922632,
          315355.7086315765,
          429709.1410811483,
          425038.90831284446,
          443045.8041582574,
          171912.02667807305,
          234250.29991024366,
          231704.38379621055,
          227216.23296557885,
          309608.7676072486,
          227216.23296557885
         ],
         "xaxis": "x",
         "y": [
          18101.137439137732,
          3066.1187898524877,
          23817.74402609651,
          20765.75359272785,
          29374.918184450245,
          7165.836720240695,
          2458.2498731124215,
          6266.9819858317205,
          0.00003610774796847238,
          2920.1380496694474,
          6038.925673478341,
          5416.406683553854,
          3389.0342911914486,
          14897.313680275256,
          26549.82420972758,
          7811.398466015438,
          28029.5602788229,
          2390.4908529072854,
          3140.539228460533,
          114.95293315846357,
          65.51388914066047,
          43046.60576965107,
          30356.80281655985,
          10.59043407255649,
          16587.58496073255,
          172034.08797343262,
          125740.32892917295,
          183833.4347520126,
          27406.42592540069,
          20934.573681212525,
          2458.6833492400183,
          39176.730511603295,
          17525.882920078177,
          77911.19809608033,
          252641.10547652468,
          7182.941236723753,
          171632.02181647753,
          2565.177478859019,
          56479.73641843442,
          113317.8458268865,
          4164.884633213966,
          9585.96917938524,
          0.0007173524362968919,
          38509.43612153956,
          154488.32865026838,
          null,
          null,
          null,
          null,
          null,
          null,
          null,
          null,
          null,
          null
         ],
         "yaxis": "y"
        },
        {
         "mode": "lines",
         "name": "OLS Trendline",
         "type": "scatter",
         "x": [
          283282.5480848699,
          386005.6979753048,
          381810.4498712028,
          397985.9596164438,
          338638.71683880227,
          345214.68122650107,
          408727.0439748389,
          409055.8243440379,
          376689.6880031134,
          376689.6880031134,
          700882.8347936852,
          955035.068953111,
          944655.4059497078,
          984676.0044691807,
          837842.1665346227,
          854112.0730033098,
          1011251.0324924889,
          1012064.4836519305,
          931985.8852938352,
          692999.8103431019,
          944293.5235392643,
          934030.6034965728,
          973601.0791980857,
          828418.7223344713,
          844505.6366336625,
          999877.2104796234,
          1000681.512527315,
          772943.1841082419,
          1053225.746852465,
          1041778.9124123226,
          1085914.1762737401,
          923983.8098932051,
          941926.4854543096,
          1115221.480944926,
          396345.2688716731,
          540066.9161736874,
          534197.2756008916,
          556828.6971355266,
          473794.99437297677,
          482995.5342260423,
          272591.0137676198,
          371437.22845800634,
          367400.3156956952,
          382965.33595364005,
          325857.9525922632
         ],
         "y": [
          41989.79072932074,
          41362.70109322304,
          41388.31164556442,
          41289.56570046191,
          41651.86028465767,
          41611.716275062245,
          41223.995060457346,
          41221.98796894684,
          41419.57214234464,
          41419.57214234464,
          39440.48405301805,
          37888.971738584114,
          37952.33602504304,
          37708.02398254087,
          38604.39425638296,
          38505.07205162508,
          37545.79254133022,
          37540.82670069837,
          38029.67910794205,
          39488.60721648547,
          37954.54519317425,
          38017.196803855346,
          37775.63260694022,
          38661.92115465821,
          38563.71605440014,
          37615.225827933056,
          37610.31583949386,
          39000.58030905248,
          37289.551291121505,
          37359.43029357807,
          37089.999628889025,
          38078.529036671454,
          37968.99514971186,
          36911.088574848516,
          41299.5815553416,
          40422.2101390434,
          40458.04228374248,
          40319.88520902597,
          40826.77751621038,
          40770.61137260482,
          42055.05888330046,
          41451.63660832209,
          41476.28057764912,
          41381.26146170672,
          41729.882471564524
         ]
        }
       ],
       "layout": {
        "legend": {
         "tracegroupgap": 0
        },
        "margin": {
         "t": 60
        },
        "template": {
         "data": {
          "bar": [
           {
            "error_x": {
             "color": "#2a3f5f"
            },
            "error_y": {
             "color": "#2a3f5f"
            },
            "marker": {
             "line": {
              "color": "#E5ECF6",
              "width": 0.5
             },
             "pattern": {
              "fillmode": "overlay",
              "size": 10,
              "solidity": 0.2
             }
            },
            "type": "bar"
           }
          ],
          "barpolar": [
           {
            "marker": {
             "line": {
              "color": "#E5ECF6",
              "width": 0.5
             },
             "pattern": {
              "fillmode": "overlay",
              "size": 10,
              "solidity": 0.2
             }
            },
            "type": "barpolar"
           }
          ],
          "carpet": [
           {
            "aaxis": {
             "endlinecolor": "#2a3f5f",
             "gridcolor": "white",
             "linecolor": "white",
             "minorgridcolor": "white",
             "startlinecolor": "#2a3f5f"
            },
            "baxis": {
             "endlinecolor": "#2a3f5f",
             "gridcolor": "white",
             "linecolor": "white",
             "minorgridcolor": "white",
             "startlinecolor": "#2a3f5f"
            },
            "type": "carpet"
           }
          ],
          "choropleth": [
           {
            "colorbar": {
             "outlinewidth": 0,
             "ticks": ""
            },
            "type": "choropleth"
           }
          ],
          "contour": [
           {
            "colorbar": {
             "outlinewidth": 0,
             "ticks": ""
            },
            "colorscale": [
             [
              0,
              "#0d0887"
             ],
             [
              0.1111111111111111,
              "#46039f"
             ],
             [
              0.2222222222222222,
              "#7201a8"
             ],
             [
              0.3333333333333333,
              "#9c179e"
             ],
             [
              0.4444444444444444,
              "#bd3786"
             ],
             [
              0.5555555555555556,
              "#d8576b"
             ],
             [
              0.6666666666666666,
              "#ed7953"
             ],
             [
              0.7777777777777778,
              "#fb9f3a"
             ],
             [
              0.8888888888888888,
              "#fdca26"
             ],
             [
              1,
              "#f0f921"
             ]
            ],
            "type": "contour"
           }
          ],
          "contourcarpet": [
           {
            "colorbar": {
             "outlinewidth": 0,
             "ticks": ""
            },
            "type": "contourcarpet"
           }
          ],
          "heatmap": [
           {
            "colorbar": {
             "outlinewidth": 0,
             "ticks": ""
            },
            "colorscale": [
             [
              0,
              "#0d0887"
             ],
             [
              0.1111111111111111,
              "#46039f"
             ],
             [
              0.2222222222222222,
              "#7201a8"
             ],
             [
              0.3333333333333333,
              "#9c179e"
             ],
             [
              0.4444444444444444,
              "#bd3786"
             ],
             [
              0.5555555555555556,
              "#d8576b"
             ],
             [
              0.6666666666666666,
              "#ed7953"
             ],
             [
              0.7777777777777778,
              "#fb9f3a"
             ],
             [
              0.8888888888888888,
              "#fdca26"
             ],
             [
              1,
              "#f0f921"
             ]
            ],
            "type": "heatmap"
           }
          ],
          "heatmapgl": [
           {
            "colorbar": {
             "outlinewidth": 0,
             "ticks": ""
            },
            "colorscale": [
             [
              0,
              "#0d0887"
             ],
             [
              0.1111111111111111,
              "#46039f"
             ],
             [
              0.2222222222222222,
              "#7201a8"
             ],
             [
              0.3333333333333333,
              "#9c179e"
             ],
             [
              0.4444444444444444,
              "#bd3786"
             ],
             [
              0.5555555555555556,
              "#d8576b"
             ],
             [
              0.6666666666666666,
              "#ed7953"
             ],
             [
              0.7777777777777778,
              "#fb9f3a"
             ],
             [
              0.8888888888888888,
              "#fdca26"
             ],
             [
              1,
              "#f0f921"
             ]
            ],
            "type": "heatmapgl"
           }
          ],
          "histogram": [
           {
            "marker": {
             "pattern": {
              "fillmode": "overlay",
              "size": 10,
              "solidity": 0.2
             }
            },
            "type": "histogram"
           }
          ],
          "histogram2d": [
           {
            "colorbar": {
             "outlinewidth": 0,
             "ticks": ""
            },
            "colorscale": [
             [
              0,
              "#0d0887"
             ],
             [
              0.1111111111111111,
              "#46039f"
             ],
             [
              0.2222222222222222,
              "#7201a8"
             ],
             [
              0.3333333333333333,
              "#9c179e"
             ],
             [
              0.4444444444444444,
              "#bd3786"
             ],
             [
              0.5555555555555556,
              "#d8576b"
             ],
             [
              0.6666666666666666,
              "#ed7953"
             ],
             [
              0.7777777777777778,
              "#fb9f3a"
             ],
             [
              0.8888888888888888,
              "#fdca26"
             ],
             [
              1,
              "#f0f921"
             ]
            ],
            "type": "histogram2d"
           }
          ],
          "histogram2dcontour": [
           {
            "colorbar": {
             "outlinewidth": 0,
             "ticks": ""
            },
            "colorscale": [
             [
              0,
              "#0d0887"
             ],
             [
              0.1111111111111111,
              "#46039f"
             ],
             [
              0.2222222222222222,
              "#7201a8"
             ],
             [
              0.3333333333333333,
              "#9c179e"
             ],
             [
              0.4444444444444444,
              "#bd3786"
             ],
             [
              0.5555555555555556,
              "#d8576b"
             ],
             [
              0.6666666666666666,
              "#ed7953"
             ],
             [
              0.7777777777777778,
              "#fb9f3a"
             ],
             [
              0.8888888888888888,
              "#fdca26"
             ],
             [
              1,
              "#f0f921"
             ]
            ],
            "type": "histogram2dcontour"
           }
          ],
          "mesh3d": [
           {
            "colorbar": {
             "outlinewidth": 0,
             "ticks": ""
            },
            "type": "mesh3d"
           }
          ],
          "parcoords": [
           {
            "line": {
             "colorbar": {
              "outlinewidth": 0,
              "ticks": ""
             }
            },
            "type": "parcoords"
           }
          ],
          "pie": [
           {
            "automargin": true,
            "type": "pie"
           }
          ],
          "scatter": [
           {
            "fillpattern": {
             "fillmode": "overlay",
             "size": 10,
             "solidity": 0.2
            },
            "type": "scatter"
           }
          ],
          "scatter3d": [
           {
            "line": {
             "colorbar": {
              "outlinewidth": 0,
              "ticks": ""
             }
            },
            "marker": {
             "colorbar": {
              "outlinewidth": 0,
              "ticks": ""
             }
            },
            "type": "scatter3d"
           }
          ],
          "scattercarpet": [
           {
            "marker": {
             "colorbar": {
              "outlinewidth": 0,
              "ticks": ""
             }
            },
            "type": "scattercarpet"
           }
          ],
          "scattergeo": [
           {
            "marker": {
             "colorbar": {
              "outlinewidth": 0,
              "ticks": ""
             }
            },
            "type": "scattergeo"
           }
          ],
          "scattergl": [
           {
            "marker": {
             "colorbar": {
              "outlinewidth": 0,
              "ticks": ""
             }
            },
            "type": "scattergl"
           }
          ],
          "scattermapbox": [
           {
            "marker": {
             "colorbar": {
              "outlinewidth": 0,
              "ticks": ""
             }
            },
            "type": "scattermapbox"
           }
          ],
          "scatterpolar": [
           {
            "marker": {
             "colorbar": {
              "outlinewidth": 0,
              "ticks": ""
             }
            },
            "type": "scatterpolar"
           }
          ],
          "scatterpolargl": [
           {
            "marker": {
             "colorbar": {
              "outlinewidth": 0,
              "ticks": ""
             }
            },
            "type": "scatterpolargl"
           }
          ],
          "scatterternary": [
           {
            "marker": {
             "colorbar": {
              "outlinewidth": 0,
              "ticks": ""
             }
            },
            "type": "scatterternary"
           }
          ],
          "surface": [
           {
            "colorbar": {
             "outlinewidth": 0,
             "ticks": ""
            },
            "colorscale": [
             [
              0,
              "#0d0887"
             ],
             [
              0.1111111111111111,
              "#46039f"
             ],
             [
              0.2222222222222222,
              "#7201a8"
             ],
             [
              0.3333333333333333,
              "#9c179e"
             ],
             [
              0.4444444444444444,
              "#bd3786"
             ],
             [
              0.5555555555555556,
              "#d8576b"
             ],
             [
              0.6666666666666666,
              "#ed7953"
             ],
             [
              0.7777777777777778,
              "#fb9f3a"
             ],
             [
              0.8888888888888888,
              "#fdca26"
             ],
             [
              1,
              "#f0f921"
             ]
            ],
            "type": "surface"
           }
          ],
          "table": [
           {
            "cells": {
             "fill": {
              "color": "#EBF0F8"
             },
             "line": {
              "color": "white"
             }
            },
            "header": {
             "fill": {
              "color": "#C8D4E3"
             },
             "line": {
              "color": "white"
             }
            },
            "type": "table"
           }
          ]
         },
         "layout": {
          "annotationdefaults": {
           "arrowcolor": "#2a3f5f",
           "arrowhead": 0,
           "arrowwidth": 1
          },
          "autotypenumbers": "strict",
          "coloraxis": {
           "colorbar": {
            "outlinewidth": 0,
            "ticks": ""
           }
          },
          "colorscale": {
           "diverging": [
            [
             0,
             "#8e0152"
            ],
            [
             0.1,
             "#c51b7d"
            ],
            [
             0.2,
             "#de77ae"
            ],
            [
             0.3,
             "#f1b6da"
            ],
            [
             0.4,
             "#fde0ef"
            ],
            [
             0.5,
             "#f7f7f7"
            ],
            [
             0.6,
             "#e6f5d0"
            ],
            [
             0.7,
             "#b8e186"
            ],
            [
             0.8,
             "#7fbc41"
            ],
            [
             0.9,
             "#4d9221"
            ],
            [
             1,
             "#276419"
            ]
           ],
           "sequential": [
            [
             0,
             "#0d0887"
            ],
            [
             0.1111111111111111,
             "#46039f"
            ],
            [
             0.2222222222222222,
             "#7201a8"
            ],
            [
             0.3333333333333333,
             "#9c179e"
            ],
            [
             0.4444444444444444,
             "#bd3786"
            ],
            [
             0.5555555555555556,
             "#d8576b"
            ],
            [
             0.6666666666666666,
             "#ed7953"
            ],
            [
             0.7777777777777778,
             "#fb9f3a"
            ],
            [
             0.8888888888888888,
             "#fdca26"
            ],
            [
             1,
             "#f0f921"
            ]
           ],
           "sequentialminus": [
            [
             0,
             "#0d0887"
            ],
            [
             0.1111111111111111,
             "#46039f"
            ],
            [
             0.2222222222222222,
             "#7201a8"
            ],
            [
             0.3333333333333333,
             "#9c179e"
            ],
            [
             0.4444444444444444,
             "#bd3786"
            ],
            [
             0.5555555555555556,
             "#d8576b"
            ],
            [
             0.6666666666666666,
             "#ed7953"
            ],
            [
             0.7777777777777778,
             "#fb9f3a"
            ],
            [
             0.8888888888888888,
             "#fdca26"
            ],
            [
             1,
             "#f0f921"
            ]
           ]
          },
          "colorway": [
           "#636efa",
           "#EF553B",
           "#00cc96",
           "#ab63fa",
           "#FFA15A",
           "#19d3f3",
           "#FF6692",
           "#B6E880",
           "#FF97FF",
           "#FECB52"
          ],
          "font": {
           "color": "#2a3f5f"
          },
          "geo": {
           "bgcolor": "white",
           "lakecolor": "white",
           "landcolor": "#E5ECF6",
           "showlakes": true,
           "showland": true,
           "subunitcolor": "white"
          },
          "hoverlabel": {
           "align": "left"
          },
          "hovermode": "closest",
          "mapbox": {
           "style": "light"
          },
          "paper_bgcolor": "white",
          "plot_bgcolor": "#E5ECF6",
          "polar": {
           "angularaxis": {
            "gridcolor": "white",
            "linecolor": "white",
            "ticks": ""
           },
           "bgcolor": "#E5ECF6",
           "radialaxis": {
            "gridcolor": "white",
            "linecolor": "white",
            "ticks": ""
           }
          },
          "scene": {
           "xaxis": {
            "backgroundcolor": "#E5ECF6",
            "gridcolor": "white",
            "gridwidth": 2,
            "linecolor": "white",
            "showbackground": true,
            "ticks": "",
            "zerolinecolor": "white"
           },
           "yaxis": {
            "backgroundcolor": "#E5ECF6",
            "gridcolor": "white",
            "gridwidth": 2,
            "linecolor": "white",
            "showbackground": true,
            "ticks": "",
            "zerolinecolor": "white"
           },
           "zaxis": {
            "backgroundcolor": "#E5ECF6",
            "gridcolor": "white",
            "gridwidth": 2,
            "linecolor": "white",
            "showbackground": true,
            "ticks": "",
            "zerolinecolor": "white"
           }
          },
          "shapedefaults": {
           "line": {
            "color": "#2a3f5f"
           }
          },
          "ternary": {
           "aaxis": {
            "gridcolor": "white",
            "linecolor": "white",
            "ticks": ""
           },
           "baxis": {
            "gridcolor": "white",
            "linecolor": "white",
            "ticks": ""
           },
           "bgcolor": "#E5ECF6",
           "caxis": {
            "gridcolor": "white",
            "linecolor": "white",
            "ticks": ""
           }
          },
          "title": {
           "x": 0.05
          },
          "xaxis": {
           "automargin": true,
           "gridcolor": "white",
           "linecolor": "white",
           "ticks": "",
           "title": {
            "standoff": 15
           },
           "zerolinecolor": "white",
           "zerolinewidth": 2
          },
          "yaxis": {
           "automargin": true,
           "gridcolor": "white",
           "linecolor": "white",
           "ticks": "",
           "title": {
            "standoff": 15
           },
           "zerolinecolor": "white",
           "zerolinewidth": 2
          }
         }
        },
        "title": {
         "text": "Deviance Residuals by y_pred"
        },
        "xaxis": {
         "anchor": "y",
         "domain": [
          0,
          1
         ],
         "title": {
          "text": "y_pred"
         }
        },
        "yaxis": {
         "anchor": "x",
         "domain": [
          0,
          1
         ],
         "title": {
          "text": "Deviance Residuals"
         }
        }
       }
      }
     },
     "metadata": {},
     "output_type": "display_data"
    }
   ],
   "source": [
    "plot_by(testdf, 'Deviance Residuals', 'y_pred')"
   ]
  },
  {
   "cell_type": "code",
   "execution_count": 65,
   "metadata": {},
   "outputs": [
    {
     "data": {
      "application/vnd.plotly.v1+json": {
       "config": {
        "plotlyServerURL": "https://plot.ly"
       },
       "data": [
        {
         "customdata": [
          [
           1,
           1,
           1
          ],
          [
           2,
           1,
           2
          ],
          [
           3,
           1,
           3
          ],
          [
           4,
           1,
           4
          ],
          [
           5,
           1,
           5
          ],
          [
           6,
           1,
           6
          ],
          [
           7,
           1,
           7
          ],
          [
           8,
           1,
           8
          ],
          [
           9,
           1,
           9
          ],
          [
           10,
           1,
           10
          ],
          [
           1,
           2,
           2
          ],
          [
           2,
           2,
           3
          ],
          [
           3,
           2,
           4
          ],
          [
           4,
           2,
           5
          ],
          [
           5,
           2,
           6
          ],
          [
           6,
           2,
           7
          ],
          [
           7,
           2,
           8
          ],
          [
           8,
           2,
           9
          ],
          [
           9,
           2,
           10
          ],
          [
           1,
           3,
           3
          ],
          [
           2,
           3,
           4
          ],
          [
           3,
           3,
           5
          ],
          [
           4,
           3,
           6
          ],
          [
           5,
           3,
           7
          ],
          [
           6,
           3,
           8
          ],
          [
           7,
           3,
           9
          ],
          [
           8,
           3,
           10
          ],
          [
           1,
           4,
           4
          ],
          [
           2,
           4,
           5
          ],
          [
           3,
           4,
           6
          ],
          [
           4,
           4,
           7
          ],
          [
           5,
           4,
           8
          ],
          [
           6,
           4,
           9
          ],
          [
           7,
           4,
           10
          ],
          [
           1,
           5,
           5
          ],
          [
           2,
           5,
           6
          ],
          [
           3,
           5,
           7
          ],
          [
           4,
           5,
           8
          ],
          [
           5,
           5,
           9
          ],
          [
           6,
           5,
           10
          ],
          [
           1,
           6,
           6
          ],
          [
           2,
           6,
           7
          ],
          [
           3,
           6,
           8
          ],
          [
           4,
           6,
           9
          ],
          [
           5,
           6,
           10
          ],
          [
           1,
           7,
           7
          ],
          [
           2,
           7,
           8
          ],
          [
           3,
           7,
           9
          ],
          [
           4,
           7,
           10
          ],
          [
           1,
           8,
           8
          ],
          [
           2,
           8,
           9
          ],
          [
           3,
           8,
           10
          ],
          [
           1,
           9,
           9
          ],
          [
           2,
           9,
           10
          ],
          [
           1,
           10,
           10
          ]
         ],
         "hovertemplate": "y_pred=%{x}<br>Pearson Residuals=%{y}<br>ay=%{customdata[0]}<br>dev=%{customdata[1]}<br>cal=%{customdata[2]}<extra></extra>",
         "legendgroup": "",
         "marker": {
          "color": "#636efa",
          "symbol": "circle"
         },
         "mode": "markers",
         "name": "",
         "orientation": "v",
         "showlegend": false,
         "type": "scatter",
         "x": [
          283282.5480848699,
          386005.6979753048,
          381810.4498712028,
          397985.9596164438,
          338638.71683880227,
          345214.68122650107,
          408727.0439748389,
          409055.8243440379,
          376689.6880031134,
          376689.6880031134,
          700882.8347936852,
          955035.068953111,
          944655.4059497078,
          984676.0044691807,
          837842.1665346227,
          854112.0730033098,
          1011251.0324924889,
          1012064.4836519305,
          931985.8852938352,
          692999.8103431019,
          944293.5235392643,
          934030.6034965728,
          973601.0791980857,
          828418.7223344713,
          844505.6366336625,
          999877.2104796234,
          1000681.512527315,
          772943.1841082419,
          1053225.746852465,
          1041778.9124123226,
          1085914.1762737401,
          923983.8098932051,
          941926.4854543096,
          1115221.480944926,
          396345.2688716731,
          540066.9161736874,
          534197.2756008916,
          556828.6971355266,
          473794.99437297677,
          482995.5342260423,
          272591.0137676198,
          371437.22845800634,
          367400.3156956952,
          382965.33595364005,
          325857.9525922632,
          315355.7086315765,
          429709.1410811483,
          425038.90831284446,
          443045.8041582574,
          171912.02667807305,
          234250.29991024366,
          231704.38379621055,
          227216.23296557885,
          309608.7676072486,
          227216.23296557885
         ],
         "xaxis": "x",
         "y": [
          140.09664796308965,
          -54.543777218865685,
          -147.76217742583745,
          -138.50582027497117,
          179.6124462410976,
          86.66044160761577,
          50.217535149138854,
          -77.51373323519692,
          -0.006008961387148929,
          -53.23936598563479,
          78.90367302153881,
          -72.66658284127625,
          58.79370713940056,
          124.53184190018847,
          -158.0315631602076,
          89.7798716919909,
          -162.7072802146449,
          49.28709602509491,
          56.58011715442782,
          -99.05245412736099,
          -10.701876545476894,
          -8.082759153665105,
          -200.0705653423153,
          179.70638474998754,
          3.2562148532187645,
          131.52886495140032,
          442.5377156580148,
          -329.85948785489154,
          126.734214904169,
          -24.615959874999902,
          457.24844033917503,
          -160.72540344231345,
          -141.04626384816783,
          -49.1955396270303,
          208.0513657667593,
          -128.34791798772514,
          296.3774517686872,
          -381.05475325907076,
          45.11805431004727,
          320.821966603719,
          578.0608021658858,
          -82.76427973094268,
          -363.74258609082676,
          -49.95190918617113,
          253.6282072553818,
          -300.9688736351381,
          149.64387674544048,
          108.83209272999201,
          -355.69983038061093,
          -77.0870062125612,
          65.95472823970773,
          101.17362970455731,
          0.02678368641526196,
          207.46234410671218,
          -334.1253941162603
         ],
         "yaxis": "y"
        },
        {
         "mode": "lines",
         "name": "OLS Trendline",
         "type": "scatter",
         "x": [
          283282.5480848699,
          386005.6979753048,
          381810.4498712028,
          397985.9596164438,
          338638.71683880227,
          345214.68122650107,
          408727.0439748389,
          409055.8243440379,
          376689.6880031134,
          376689.6880031134,
          700882.8347936852,
          955035.068953111,
          944655.4059497078,
          984676.0044691807,
          837842.1665346227,
          854112.0730033098,
          1011251.0324924889,
          1012064.4836519305,
          931985.8852938352,
          692999.8103431019,
          944293.5235392643,
          934030.6034965728,
          973601.0791980857,
          828418.7223344713,
          844505.6366336625,
          999877.2104796234,
          1000681.512527315,
          772943.1841082419,
          1053225.746852465,
          1041778.9124123226,
          1085914.1762737401,
          923983.8098932051,
          941926.4854543096,
          1115221.480944926,
          396345.2688716731,
          540066.9161736874,
          534197.2756008916,
          556828.6971355266,
          473794.99437297677,
          482995.5342260423,
          272591.0137676198,
          371437.22845800634,
          367400.3156956952,
          382965.33595364005,
          325857.9525922632,
          315355.7086315765,
          429709.1410811483,
          425038.90831284446,
          443045.8041582574,
          171912.02667807305,
          234250.29991024366,
          231704.38379621055,
          227216.23296557885,
          309608.7676072486,
          227216.23296557885
         ],
         "y": [
          1.2717313350612933,
          4.419593587422835,
          4.291033830831651,
          4.78671836342299,
          2.9680733401664607,
          3.1695880921088406,
          5.115869621316529,
          5.125944811910108,
          4.1341125038952775,
          4.1341125038952775,
          14.068731626700929,
          21.857007444928186,
          21.53893163246044,
          22.76532832620216,
          18.26573211739659,
          18.76430935608971,
          23.57969711901321,
          23.604624627580435,
          21.150685108958434,
          13.827163147454508,
          21.527842058388345,
          21.213343733172934,
          22.42594680172799,
          17.976958804696075,
          18.469928406323476,
          23.23115616191088,
          23.25580330384652,
          16.27695882515838,
          24.865976005791488,
          24.515197645883433,
          25.867684707033305,
          20.90546841611888,
          21.45530621962679,
          26.765781759073526,
          4.736440811880117,
          9.140666625358184,
          8.960796556987605,
          9.654316933281995,
          7.109820791187184,
          7.391763392594013,
          0.9440984954044396,
          3.973155415335066,
          3.8494477086096595,
          4.326424317869476,
          2.5764178528598105,
          2.254585652774443,
          5.758847874288556,
          5.615732622694676,
          6.1675384013768895,
          -2.14112215255283,
          -0.23081958303220684,
          -0.3088369845779324,
          -0.4463724923745662,
          2.0784756061459557,
          -0.4463724923745662
         ]
        }
       ],
       "layout": {
        "legend": {
         "tracegroupgap": 0
        },
        "margin": {
         "t": 60
        },
        "template": {
         "data": {
          "bar": [
           {
            "error_x": {
             "color": "#2a3f5f"
            },
            "error_y": {
             "color": "#2a3f5f"
            },
            "marker": {
             "line": {
              "color": "#E5ECF6",
              "width": 0.5
             },
             "pattern": {
              "fillmode": "overlay",
              "size": 10,
              "solidity": 0.2
             }
            },
            "type": "bar"
           }
          ],
          "barpolar": [
           {
            "marker": {
             "line": {
              "color": "#E5ECF6",
              "width": 0.5
             },
             "pattern": {
              "fillmode": "overlay",
              "size": 10,
              "solidity": 0.2
             }
            },
            "type": "barpolar"
           }
          ],
          "carpet": [
           {
            "aaxis": {
             "endlinecolor": "#2a3f5f",
             "gridcolor": "white",
             "linecolor": "white",
             "minorgridcolor": "white",
             "startlinecolor": "#2a3f5f"
            },
            "baxis": {
             "endlinecolor": "#2a3f5f",
             "gridcolor": "white",
             "linecolor": "white",
             "minorgridcolor": "white",
             "startlinecolor": "#2a3f5f"
            },
            "type": "carpet"
           }
          ],
          "choropleth": [
           {
            "colorbar": {
             "outlinewidth": 0,
             "ticks": ""
            },
            "type": "choropleth"
           }
          ],
          "contour": [
           {
            "colorbar": {
             "outlinewidth": 0,
             "ticks": ""
            },
            "colorscale": [
             [
              0,
              "#0d0887"
             ],
             [
              0.1111111111111111,
              "#46039f"
             ],
             [
              0.2222222222222222,
              "#7201a8"
             ],
             [
              0.3333333333333333,
              "#9c179e"
             ],
             [
              0.4444444444444444,
              "#bd3786"
             ],
             [
              0.5555555555555556,
              "#d8576b"
             ],
             [
              0.6666666666666666,
              "#ed7953"
             ],
             [
              0.7777777777777778,
              "#fb9f3a"
             ],
             [
              0.8888888888888888,
              "#fdca26"
             ],
             [
              1,
              "#f0f921"
             ]
            ],
            "type": "contour"
           }
          ],
          "contourcarpet": [
           {
            "colorbar": {
             "outlinewidth": 0,
             "ticks": ""
            },
            "type": "contourcarpet"
           }
          ],
          "heatmap": [
           {
            "colorbar": {
             "outlinewidth": 0,
             "ticks": ""
            },
            "colorscale": [
             [
              0,
              "#0d0887"
             ],
             [
              0.1111111111111111,
              "#46039f"
             ],
             [
              0.2222222222222222,
              "#7201a8"
             ],
             [
              0.3333333333333333,
              "#9c179e"
             ],
             [
              0.4444444444444444,
              "#bd3786"
             ],
             [
              0.5555555555555556,
              "#d8576b"
             ],
             [
              0.6666666666666666,
              "#ed7953"
             ],
             [
              0.7777777777777778,
              "#fb9f3a"
             ],
             [
              0.8888888888888888,
              "#fdca26"
             ],
             [
              1,
              "#f0f921"
             ]
            ],
            "type": "heatmap"
           }
          ],
          "heatmapgl": [
           {
            "colorbar": {
             "outlinewidth": 0,
             "ticks": ""
            },
            "colorscale": [
             [
              0,
              "#0d0887"
             ],
             [
              0.1111111111111111,
              "#46039f"
             ],
             [
              0.2222222222222222,
              "#7201a8"
             ],
             [
              0.3333333333333333,
              "#9c179e"
             ],
             [
              0.4444444444444444,
              "#bd3786"
             ],
             [
              0.5555555555555556,
              "#d8576b"
             ],
             [
              0.6666666666666666,
              "#ed7953"
             ],
             [
              0.7777777777777778,
              "#fb9f3a"
             ],
             [
              0.8888888888888888,
              "#fdca26"
             ],
             [
              1,
              "#f0f921"
             ]
            ],
            "type": "heatmapgl"
           }
          ],
          "histogram": [
           {
            "marker": {
             "pattern": {
              "fillmode": "overlay",
              "size": 10,
              "solidity": 0.2
             }
            },
            "type": "histogram"
           }
          ],
          "histogram2d": [
           {
            "colorbar": {
             "outlinewidth": 0,
             "ticks": ""
            },
            "colorscale": [
             [
              0,
              "#0d0887"
             ],
             [
              0.1111111111111111,
              "#46039f"
             ],
             [
              0.2222222222222222,
              "#7201a8"
             ],
             [
              0.3333333333333333,
              "#9c179e"
             ],
             [
              0.4444444444444444,
              "#bd3786"
             ],
             [
              0.5555555555555556,
              "#d8576b"
             ],
             [
              0.6666666666666666,
              "#ed7953"
             ],
             [
              0.7777777777777778,
              "#fb9f3a"
             ],
             [
              0.8888888888888888,
              "#fdca26"
             ],
             [
              1,
              "#f0f921"
             ]
            ],
            "type": "histogram2d"
           }
          ],
          "histogram2dcontour": [
           {
            "colorbar": {
             "outlinewidth": 0,
             "ticks": ""
            },
            "colorscale": [
             [
              0,
              "#0d0887"
             ],
             [
              0.1111111111111111,
              "#46039f"
             ],
             [
              0.2222222222222222,
              "#7201a8"
             ],
             [
              0.3333333333333333,
              "#9c179e"
             ],
             [
              0.4444444444444444,
              "#bd3786"
             ],
             [
              0.5555555555555556,
              "#d8576b"
             ],
             [
              0.6666666666666666,
              "#ed7953"
             ],
             [
              0.7777777777777778,
              "#fb9f3a"
             ],
             [
              0.8888888888888888,
              "#fdca26"
             ],
             [
              1,
              "#f0f921"
             ]
            ],
            "type": "histogram2dcontour"
           }
          ],
          "mesh3d": [
           {
            "colorbar": {
             "outlinewidth": 0,
             "ticks": ""
            },
            "type": "mesh3d"
           }
          ],
          "parcoords": [
           {
            "line": {
             "colorbar": {
              "outlinewidth": 0,
              "ticks": ""
             }
            },
            "type": "parcoords"
           }
          ],
          "pie": [
           {
            "automargin": true,
            "type": "pie"
           }
          ],
          "scatter": [
           {
            "fillpattern": {
             "fillmode": "overlay",
             "size": 10,
             "solidity": 0.2
            },
            "type": "scatter"
           }
          ],
          "scatter3d": [
           {
            "line": {
             "colorbar": {
              "outlinewidth": 0,
              "ticks": ""
             }
            },
            "marker": {
             "colorbar": {
              "outlinewidth": 0,
              "ticks": ""
             }
            },
            "type": "scatter3d"
           }
          ],
          "scattercarpet": [
           {
            "marker": {
             "colorbar": {
              "outlinewidth": 0,
              "ticks": ""
             }
            },
            "type": "scattercarpet"
           }
          ],
          "scattergeo": [
           {
            "marker": {
             "colorbar": {
              "outlinewidth": 0,
              "ticks": ""
             }
            },
            "type": "scattergeo"
           }
          ],
          "scattergl": [
           {
            "marker": {
             "colorbar": {
              "outlinewidth": 0,
              "ticks": ""
             }
            },
            "type": "scattergl"
           }
          ],
          "scattermapbox": [
           {
            "marker": {
             "colorbar": {
              "outlinewidth": 0,
              "ticks": ""
             }
            },
            "type": "scattermapbox"
           }
          ],
          "scatterpolar": [
           {
            "marker": {
             "colorbar": {
              "outlinewidth": 0,
              "ticks": ""
             }
            },
            "type": "scatterpolar"
           }
          ],
          "scatterpolargl": [
           {
            "marker": {
             "colorbar": {
              "outlinewidth": 0,
              "ticks": ""
             }
            },
            "type": "scatterpolargl"
           }
          ],
          "scatterternary": [
           {
            "marker": {
             "colorbar": {
              "outlinewidth": 0,
              "ticks": ""
             }
            },
            "type": "scatterternary"
           }
          ],
          "surface": [
           {
            "colorbar": {
             "outlinewidth": 0,
             "ticks": ""
            },
            "colorscale": [
             [
              0,
              "#0d0887"
             ],
             [
              0.1111111111111111,
              "#46039f"
             ],
             [
              0.2222222222222222,
              "#7201a8"
             ],
             [
              0.3333333333333333,
              "#9c179e"
             ],
             [
              0.4444444444444444,
              "#bd3786"
             ],
             [
              0.5555555555555556,
              "#d8576b"
             ],
             [
              0.6666666666666666,
              "#ed7953"
             ],
             [
              0.7777777777777778,
              "#fb9f3a"
             ],
             [
              0.8888888888888888,
              "#fdca26"
             ],
             [
              1,
              "#f0f921"
             ]
            ],
            "type": "surface"
           }
          ],
          "table": [
           {
            "cells": {
             "fill": {
              "color": "#EBF0F8"
             },
             "line": {
              "color": "white"
             }
            },
            "header": {
             "fill": {
              "color": "#C8D4E3"
             },
             "line": {
              "color": "white"
             }
            },
            "type": "table"
           }
          ]
         },
         "layout": {
          "annotationdefaults": {
           "arrowcolor": "#2a3f5f",
           "arrowhead": 0,
           "arrowwidth": 1
          },
          "autotypenumbers": "strict",
          "coloraxis": {
           "colorbar": {
            "outlinewidth": 0,
            "ticks": ""
           }
          },
          "colorscale": {
           "diverging": [
            [
             0,
             "#8e0152"
            ],
            [
             0.1,
             "#c51b7d"
            ],
            [
             0.2,
             "#de77ae"
            ],
            [
             0.3,
             "#f1b6da"
            ],
            [
             0.4,
             "#fde0ef"
            ],
            [
             0.5,
             "#f7f7f7"
            ],
            [
             0.6,
             "#e6f5d0"
            ],
            [
             0.7,
             "#b8e186"
            ],
            [
             0.8,
             "#7fbc41"
            ],
            [
             0.9,
             "#4d9221"
            ],
            [
             1,
             "#276419"
            ]
           ],
           "sequential": [
            [
             0,
             "#0d0887"
            ],
            [
             0.1111111111111111,
             "#46039f"
            ],
            [
             0.2222222222222222,
             "#7201a8"
            ],
            [
             0.3333333333333333,
             "#9c179e"
            ],
            [
             0.4444444444444444,
             "#bd3786"
            ],
            [
             0.5555555555555556,
             "#d8576b"
            ],
            [
             0.6666666666666666,
             "#ed7953"
            ],
            [
             0.7777777777777778,
             "#fb9f3a"
            ],
            [
             0.8888888888888888,
             "#fdca26"
            ],
            [
             1,
             "#f0f921"
            ]
           ],
           "sequentialminus": [
            [
             0,
             "#0d0887"
            ],
            [
             0.1111111111111111,
             "#46039f"
            ],
            [
             0.2222222222222222,
             "#7201a8"
            ],
            [
             0.3333333333333333,
             "#9c179e"
            ],
            [
             0.4444444444444444,
             "#bd3786"
            ],
            [
             0.5555555555555556,
             "#d8576b"
            ],
            [
             0.6666666666666666,
             "#ed7953"
            ],
            [
             0.7777777777777778,
             "#fb9f3a"
            ],
            [
             0.8888888888888888,
             "#fdca26"
            ],
            [
             1,
             "#f0f921"
            ]
           ]
          },
          "colorway": [
           "#636efa",
           "#EF553B",
           "#00cc96",
           "#ab63fa",
           "#FFA15A",
           "#19d3f3",
           "#FF6692",
           "#B6E880",
           "#FF97FF",
           "#FECB52"
          ],
          "font": {
           "color": "#2a3f5f"
          },
          "geo": {
           "bgcolor": "white",
           "lakecolor": "white",
           "landcolor": "#E5ECF6",
           "showlakes": true,
           "showland": true,
           "subunitcolor": "white"
          },
          "hoverlabel": {
           "align": "left"
          },
          "hovermode": "closest",
          "mapbox": {
           "style": "light"
          },
          "paper_bgcolor": "white",
          "plot_bgcolor": "#E5ECF6",
          "polar": {
           "angularaxis": {
            "gridcolor": "white",
            "linecolor": "white",
            "ticks": ""
           },
           "bgcolor": "#E5ECF6",
           "radialaxis": {
            "gridcolor": "white",
            "linecolor": "white",
            "ticks": ""
           }
          },
          "scene": {
           "xaxis": {
            "backgroundcolor": "#E5ECF6",
            "gridcolor": "white",
            "gridwidth": 2,
            "linecolor": "white",
            "showbackground": true,
            "ticks": "",
            "zerolinecolor": "white"
           },
           "yaxis": {
            "backgroundcolor": "#E5ECF6",
            "gridcolor": "white",
            "gridwidth": 2,
            "linecolor": "white",
            "showbackground": true,
            "ticks": "",
            "zerolinecolor": "white"
           },
           "zaxis": {
            "backgroundcolor": "#E5ECF6",
            "gridcolor": "white",
            "gridwidth": 2,
            "linecolor": "white",
            "showbackground": true,
            "ticks": "",
            "zerolinecolor": "white"
           }
          },
          "shapedefaults": {
           "line": {
            "color": "#2a3f5f"
           }
          },
          "ternary": {
           "aaxis": {
            "gridcolor": "white",
            "linecolor": "white",
            "ticks": ""
           },
           "baxis": {
            "gridcolor": "white",
            "linecolor": "white",
            "ticks": ""
           },
           "bgcolor": "#E5ECF6",
           "caxis": {
            "gridcolor": "white",
            "linecolor": "white",
            "ticks": ""
           }
          },
          "title": {
           "x": 0.05
          },
          "xaxis": {
           "automargin": true,
           "gridcolor": "white",
           "linecolor": "white",
           "ticks": "",
           "title": {
            "standoff": 15
           },
           "zerolinecolor": "white",
           "zerolinewidth": 2
          },
          "yaxis": {
           "automargin": true,
           "gridcolor": "white",
           "linecolor": "white",
           "ticks": "",
           "title": {
            "standoff": 15
           },
           "zerolinecolor": "white",
           "zerolinewidth": 2
          }
         }
        },
        "title": {
         "text": "Pearson Residuals by y_pred"
        },
        "xaxis": {
         "anchor": "y",
         "domain": [
          0,
          1
         ],
         "title": {
          "text": "y_pred"
         }
        },
        "yaxis": {
         "anchor": "x",
         "domain": [
          0,
          1
         ],
         "title": {
          "text": "Pearson Residuals"
         }
        }
       }
      }
     },
     "metadata": {},
     "output_type": "display_data"
    }
   ],
   "source": [
    "plot_by(testdf, 'Pearson Residuals', 'y_pred')"
   ]
  },
  {
   "cell_type": "code",
   "execution_count": 66,
   "metadata": {},
   "outputs": [
    {
     "data": {
      "application/vnd.plotly.v1+json": {
       "config": {
        "plotlyServerURL": "https://plot.ly"
       },
       "data": [
        {
         "customdata": [
          [
           1,
           1,
           1
          ],
          [
           2,
           1,
           2
          ],
          [
           3,
           1,
           3
          ],
          [
           4,
           1,
           4
          ],
          [
           5,
           1,
           5
          ],
          [
           6,
           1,
           6
          ],
          [
           7,
           1,
           7
          ],
          [
           8,
           1,
           8
          ],
          [
           9,
           1,
           9
          ],
          [
           10,
           1,
           10
          ],
          [
           1,
           2,
           2
          ],
          [
           2,
           2,
           3
          ],
          [
           3,
           2,
           4
          ],
          [
           4,
           2,
           5
          ],
          [
           5,
           2,
           6
          ],
          [
           6,
           2,
           7
          ],
          [
           7,
           2,
           8
          ],
          [
           8,
           2,
           9
          ],
          [
           9,
           2,
           10
          ],
          [
           1,
           3,
           3
          ],
          [
           2,
           3,
           4
          ],
          [
           3,
           3,
           5
          ],
          [
           4,
           3,
           6
          ],
          [
           5,
           3,
           7
          ],
          [
           6,
           3,
           8
          ],
          [
           7,
           3,
           9
          ],
          [
           8,
           3,
           10
          ],
          [
           1,
           4,
           4
          ],
          [
           2,
           4,
           5
          ],
          [
           3,
           4,
           6
          ],
          [
           4,
           4,
           7
          ],
          [
           5,
           4,
           8
          ],
          [
           6,
           4,
           9
          ],
          [
           7,
           4,
           10
          ],
          [
           1,
           5,
           5
          ],
          [
           2,
           5,
           6
          ],
          [
           3,
           5,
           7
          ],
          [
           4,
           5,
           8
          ],
          [
           5,
           5,
           9
          ],
          [
           6,
           5,
           10
          ],
          [
           1,
           6,
           6
          ],
          [
           2,
           6,
           7
          ],
          [
           3,
           6,
           8
          ],
          [
           4,
           6,
           9
          ],
          [
           5,
           6,
           10
          ],
          [
           1,
           7,
           7
          ],
          [
           2,
           7,
           8
          ],
          [
           3,
           7,
           9
          ],
          [
           4,
           7,
           10
          ],
          [
           1,
           8,
           8
          ],
          [
           2,
           8,
           9
          ],
          [
           3,
           8,
           10
          ],
          [
           1,
           9,
           9
          ],
          [
           2,
           9,
           10
          ],
          [
           1,
           10,
           10
          ]
         ],
         "hovertemplate": "y_pred=%{x}<br>Standardized Pearson Residuals=%{y}<br>ay=%{customdata[0]}<br>dev=%{customdata[1]}<br>cal=%{customdata[2]}<extra></extra>",
         "legendgroup": "",
         "marker": {
          "color": "#636efa",
          "symbol": "circle"
         },
         "mode": "markers",
         "name": "",
         "orientation": "v",
         "showlegend": false,
         "type": "scatter",
         "x": [
          283282.5480848699,
          386005.6979753048,
          381810.4498712028,
          397985.9596164438,
          338638.71683880227,
          345214.68122650107,
          408727.0439748389,
          409055.8243440379,
          376689.6880031134,
          376689.6880031134,
          700882.8347936852,
          955035.068953111,
          944655.4059497078,
          984676.0044691807,
          837842.1665346227,
          854112.0730033098,
          1011251.0324924889,
          1012064.4836519305,
          931985.8852938352,
          692999.8103431019,
          944293.5235392643,
          934030.6034965728,
          973601.0791980857,
          828418.7223344713,
          844505.6366336625,
          999877.2104796234,
          1000681.512527315,
          772943.1841082419,
          1053225.746852465,
          1041778.9124123226,
          1085914.1762737401,
          923983.8098932051,
          941926.4854543096,
          1115221.480944926,
          396345.2688716731,
          540066.9161736874,
          534197.2756008916,
          556828.6971355266,
          473794.99437297677,
          482995.5342260423,
          272591.0137676198,
          371437.22845800634,
          367400.3156956952,
          382965.33595364005,
          325857.9525922632,
          315355.7086315765,
          429709.1410811483,
          425038.90831284446,
          443045.8041582574,
          171912.02667807305,
          234250.29991024366,
          231704.38379621055,
          227216.23296557885,
          309608.7676072486,
          227216.23296557885
         ],
         "xaxis": "x",
         "y": [
          152.8635042342995,
          -60.653098273217154,
          -164.38625067602024,
          -154.7845815640179,
          199.35467311942634,
          96.71806376027172,
          57.159305827575224,
          -90.90638451607995,
          -0.007561359284234781,
          null,
          92.38209619155371,
          -86.99656806967516,
          70.57274393542282,
          150.65501056083457,
          -191.04410933019525,
          110.08462474662919,
          -207.204075097014,
          69.29321933493398,
          111.98944834398972,
          -116.06268246300705,
          -12.833348725748909,
          -9.717396991963135,
          -242.44803137360066,
          217.47527813605822,
          3.9966098369270577,
          167.7316505863433,
          622.4565954428749,
          -394.32305948713196,
          155.52714543011635,
          -30.299810144373545,
          568.0103904400687,
          -199.42998440861388,
          -177.93186106466842,
          -64.90833923614572,
          236.507294699971,
          -150.28954789195797,
          347.2778117000263,
          -449.6796610107881,
          52.66393866231698,
          377.7134667811089,
          654.6101881624802,
          -97.15267420286563,
          -426.89503357084243,
          -59.063639969913886,
          294.88967772484256,
          -350.62247233720456,
          182.65267822341195,
          132.79373112228086,
          -438.2515418796777,
          -92.31504076493304,
          84.879378923789,
          129.9237932962212,
          0.03636200113288651,
          328.7786839587821,
          null
         ],
         "yaxis": "y"
        },
        {
         "mode": "lines",
         "name": "OLS Trendline",
         "type": "scatter",
         "x": [
          283282.5480848699,
          386005.6979753048,
          381810.4498712028,
          397985.9596164438,
          338638.71683880227,
          345214.68122650107,
          408727.0439748389,
          409055.8243440379,
          376689.6880031134,
          700882.8347936852,
          955035.068953111,
          944655.4059497078,
          984676.0044691807,
          837842.1665346227,
          854112.0730033098,
          1011251.0324924889,
          1012064.4836519305,
          931985.8852938352,
          692999.8103431019,
          944293.5235392643,
          934030.6034965728,
          973601.0791980857,
          828418.7223344713,
          844505.6366336625,
          999877.2104796234,
          1000681.512527315,
          772943.1841082419,
          1053225.746852465,
          1041778.9124123226,
          1085914.1762737401,
          923983.8098932051,
          941926.4854543096,
          1115221.480944926,
          396345.2688716731,
          540066.9161736874,
          534197.2756008916,
          556828.6971355266,
          473794.99437297677,
          482995.5342260423,
          272591.0137676198,
          371437.22845800634,
          367400.3156956952,
          382965.33595364005,
          325857.9525922632,
          315355.7086315765,
          429709.1410811483,
          425038.90831284446,
          443045.8041582574,
          171912.02667807305,
          234250.29991024366,
          231704.38379621055,
          227216.23296557885,
          309608.7676072486
         ],
         "y": [
          23.682976082748034,
          24.505097626510853,
          24.47152190524947,
          24.600978946404187,
          24.12600668452883,
          24.17863593119728,
          24.686942790618748,
          24.689574110092238,
          24.430539043482423,
          27.025145717840335,
          29.059195757395948,
          28.976124467417034,
          29.296420294328826,
          28.121268815347374,
          28.25148133937122,
          29.50910753267155,
          29.5156178054162,
          28.874726818576917,
          26.962055710984565,
          28.973228223228148,
          28.891091259184392,
          29.20778462972312,
          28.045850406725222,
          28.174598394224997,
          29.41807971545923,
          29.424516765353097,
          27.601864458316648,
          29.84504268463519,
          29.75343052894132,
          30.106657151166488,
          28.8106840143143,
          28.9542841681965,
          30.34121154893857,
          24.58784804836059,
          25.738091812089543,
          25.691115468644206,
          25.872240942594786,
          25.207699444672446,
          25.281333888666047,
          23.59740880110348,
          24.3885021690838,
          24.356193648991425,
          24.480764775332567,
          24.023718722720407,
          23.93966638371851,
          24.85486826878817,
          24.817491114979074,
          24.96160524141111,
          22.791647252914796,
          23.290557551905856,
          23.270181886944336,
          23.234261984824368,
          23.893672038413936
         ]
        }
       ],
       "layout": {
        "legend": {
         "tracegroupgap": 0
        },
        "margin": {
         "t": 60
        },
        "template": {
         "data": {
          "bar": [
           {
            "error_x": {
             "color": "#2a3f5f"
            },
            "error_y": {
             "color": "#2a3f5f"
            },
            "marker": {
             "line": {
              "color": "#E5ECF6",
              "width": 0.5
             },
             "pattern": {
              "fillmode": "overlay",
              "size": 10,
              "solidity": 0.2
             }
            },
            "type": "bar"
           }
          ],
          "barpolar": [
           {
            "marker": {
             "line": {
              "color": "#E5ECF6",
              "width": 0.5
             },
             "pattern": {
              "fillmode": "overlay",
              "size": 10,
              "solidity": 0.2
             }
            },
            "type": "barpolar"
           }
          ],
          "carpet": [
           {
            "aaxis": {
             "endlinecolor": "#2a3f5f",
             "gridcolor": "white",
             "linecolor": "white",
             "minorgridcolor": "white",
             "startlinecolor": "#2a3f5f"
            },
            "baxis": {
             "endlinecolor": "#2a3f5f",
             "gridcolor": "white",
             "linecolor": "white",
             "minorgridcolor": "white",
             "startlinecolor": "#2a3f5f"
            },
            "type": "carpet"
           }
          ],
          "choropleth": [
           {
            "colorbar": {
             "outlinewidth": 0,
             "ticks": ""
            },
            "type": "choropleth"
           }
          ],
          "contour": [
           {
            "colorbar": {
             "outlinewidth": 0,
             "ticks": ""
            },
            "colorscale": [
             [
              0,
              "#0d0887"
             ],
             [
              0.1111111111111111,
              "#46039f"
             ],
             [
              0.2222222222222222,
              "#7201a8"
             ],
             [
              0.3333333333333333,
              "#9c179e"
             ],
             [
              0.4444444444444444,
              "#bd3786"
             ],
             [
              0.5555555555555556,
              "#d8576b"
             ],
             [
              0.6666666666666666,
              "#ed7953"
             ],
             [
              0.7777777777777778,
              "#fb9f3a"
             ],
             [
              0.8888888888888888,
              "#fdca26"
             ],
             [
              1,
              "#f0f921"
             ]
            ],
            "type": "contour"
           }
          ],
          "contourcarpet": [
           {
            "colorbar": {
             "outlinewidth": 0,
             "ticks": ""
            },
            "type": "contourcarpet"
           }
          ],
          "heatmap": [
           {
            "colorbar": {
             "outlinewidth": 0,
             "ticks": ""
            },
            "colorscale": [
             [
              0,
              "#0d0887"
             ],
             [
              0.1111111111111111,
              "#46039f"
             ],
             [
              0.2222222222222222,
              "#7201a8"
             ],
             [
              0.3333333333333333,
              "#9c179e"
             ],
             [
              0.4444444444444444,
              "#bd3786"
             ],
             [
              0.5555555555555556,
              "#d8576b"
             ],
             [
              0.6666666666666666,
              "#ed7953"
             ],
             [
              0.7777777777777778,
              "#fb9f3a"
             ],
             [
              0.8888888888888888,
              "#fdca26"
             ],
             [
              1,
              "#f0f921"
             ]
            ],
            "type": "heatmap"
           }
          ],
          "heatmapgl": [
           {
            "colorbar": {
             "outlinewidth": 0,
             "ticks": ""
            },
            "colorscale": [
             [
              0,
              "#0d0887"
             ],
             [
              0.1111111111111111,
              "#46039f"
             ],
             [
              0.2222222222222222,
              "#7201a8"
             ],
             [
              0.3333333333333333,
              "#9c179e"
             ],
             [
              0.4444444444444444,
              "#bd3786"
             ],
             [
              0.5555555555555556,
              "#d8576b"
             ],
             [
              0.6666666666666666,
              "#ed7953"
             ],
             [
              0.7777777777777778,
              "#fb9f3a"
             ],
             [
              0.8888888888888888,
              "#fdca26"
             ],
             [
              1,
              "#f0f921"
             ]
            ],
            "type": "heatmapgl"
           }
          ],
          "histogram": [
           {
            "marker": {
             "pattern": {
              "fillmode": "overlay",
              "size": 10,
              "solidity": 0.2
             }
            },
            "type": "histogram"
           }
          ],
          "histogram2d": [
           {
            "colorbar": {
             "outlinewidth": 0,
             "ticks": ""
            },
            "colorscale": [
             [
              0,
              "#0d0887"
             ],
             [
              0.1111111111111111,
              "#46039f"
             ],
             [
              0.2222222222222222,
              "#7201a8"
             ],
             [
              0.3333333333333333,
              "#9c179e"
             ],
             [
              0.4444444444444444,
              "#bd3786"
             ],
             [
              0.5555555555555556,
              "#d8576b"
             ],
             [
              0.6666666666666666,
              "#ed7953"
             ],
             [
              0.7777777777777778,
              "#fb9f3a"
             ],
             [
              0.8888888888888888,
              "#fdca26"
             ],
             [
              1,
              "#f0f921"
             ]
            ],
            "type": "histogram2d"
           }
          ],
          "histogram2dcontour": [
           {
            "colorbar": {
             "outlinewidth": 0,
             "ticks": ""
            },
            "colorscale": [
             [
              0,
              "#0d0887"
             ],
             [
              0.1111111111111111,
              "#46039f"
             ],
             [
              0.2222222222222222,
              "#7201a8"
             ],
             [
              0.3333333333333333,
              "#9c179e"
             ],
             [
              0.4444444444444444,
              "#bd3786"
             ],
             [
              0.5555555555555556,
              "#d8576b"
             ],
             [
              0.6666666666666666,
              "#ed7953"
             ],
             [
              0.7777777777777778,
              "#fb9f3a"
             ],
             [
              0.8888888888888888,
              "#fdca26"
             ],
             [
              1,
              "#f0f921"
             ]
            ],
            "type": "histogram2dcontour"
           }
          ],
          "mesh3d": [
           {
            "colorbar": {
             "outlinewidth": 0,
             "ticks": ""
            },
            "type": "mesh3d"
           }
          ],
          "parcoords": [
           {
            "line": {
             "colorbar": {
              "outlinewidth": 0,
              "ticks": ""
             }
            },
            "type": "parcoords"
           }
          ],
          "pie": [
           {
            "automargin": true,
            "type": "pie"
           }
          ],
          "scatter": [
           {
            "fillpattern": {
             "fillmode": "overlay",
             "size": 10,
             "solidity": 0.2
            },
            "type": "scatter"
           }
          ],
          "scatter3d": [
           {
            "line": {
             "colorbar": {
              "outlinewidth": 0,
              "ticks": ""
             }
            },
            "marker": {
             "colorbar": {
              "outlinewidth": 0,
              "ticks": ""
             }
            },
            "type": "scatter3d"
           }
          ],
          "scattercarpet": [
           {
            "marker": {
             "colorbar": {
              "outlinewidth": 0,
              "ticks": ""
             }
            },
            "type": "scattercarpet"
           }
          ],
          "scattergeo": [
           {
            "marker": {
             "colorbar": {
              "outlinewidth": 0,
              "ticks": ""
             }
            },
            "type": "scattergeo"
           }
          ],
          "scattergl": [
           {
            "marker": {
             "colorbar": {
              "outlinewidth": 0,
              "ticks": ""
             }
            },
            "type": "scattergl"
           }
          ],
          "scattermapbox": [
           {
            "marker": {
             "colorbar": {
              "outlinewidth": 0,
              "ticks": ""
             }
            },
            "type": "scattermapbox"
           }
          ],
          "scatterpolar": [
           {
            "marker": {
             "colorbar": {
              "outlinewidth": 0,
              "ticks": ""
             }
            },
            "type": "scatterpolar"
           }
          ],
          "scatterpolargl": [
           {
            "marker": {
             "colorbar": {
              "outlinewidth": 0,
              "ticks": ""
             }
            },
            "type": "scatterpolargl"
           }
          ],
          "scatterternary": [
           {
            "marker": {
             "colorbar": {
              "outlinewidth": 0,
              "ticks": ""
             }
            },
            "type": "scatterternary"
           }
          ],
          "surface": [
           {
            "colorbar": {
             "outlinewidth": 0,
             "ticks": ""
            },
            "colorscale": [
             [
              0,
              "#0d0887"
             ],
             [
              0.1111111111111111,
              "#46039f"
             ],
             [
              0.2222222222222222,
              "#7201a8"
             ],
             [
              0.3333333333333333,
              "#9c179e"
             ],
             [
              0.4444444444444444,
              "#bd3786"
             ],
             [
              0.5555555555555556,
              "#d8576b"
             ],
             [
              0.6666666666666666,
              "#ed7953"
             ],
             [
              0.7777777777777778,
              "#fb9f3a"
             ],
             [
              0.8888888888888888,
              "#fdca26"
             ],
             [
              1,
              "#f0f921"
             ]
            ],
            "type": "surface"
           }
          ],
          "table": [
           {
            "cells": {
             "fill": {
              "color": "#EBF0F8"
             },
             "line": {
              "color": "white"
             }
            },
            "header": {
             "fill": {
              "color": "#C8D4E3"
             },
             "line": {
              "color": "white"
             }
            },
            "type": "table"
           }
          ]
         },
         "layout": {
          "annotationdefaults": {
           "arrowcolor": "#2a3f5f",
           "arrowhead": 0,
           "arrowwidth": 1
          },
          "autotypenumbers": "strict",
          "coloraxis": {
           "colorbar": {
            "outlinewidth": 0,
            "ticks": ""
           }
          },
          "colorscale": {
           "diverging": [
            [
             0,
             "#8e0152"
            ],
            [
             0.1,
             "#c51b7d"
            ],
            [
             0.2,
             "#de77ae"
            ],
            [
             0.3,
             "#f1b6da"
            ],
            [
             0.4,
             "#fde0ef"
            ],
            [
             0.5,
             "#f7f7f7"
            ],
            [
             0.6,
             "#e6f5d0"
            ],
            [
             0.7,
             "#b8e186"
            ],
            [
             0.8,
             "#7fbc41"
            ],
            [
             0.9,
             "#4d9221"
            ],
            [
             1,
             "#276419"
            ]
           ],
           "sequential": [
            [
             0,
             "#0d0887"
            ],
            [
             0.1111111111111111,
             "#46039f"
            ],
            [
             0.2222222222222222,
             "#7201a8"
            ],
            [
             0.3333333333333333,
             "#9c179e"
            ],
            [
             0.4444444444444444,
             "#bd3786"
            ],
            [
             0.5555555555555556,
             "#d8576b"
            ],
            [
             0.6666666666666666,
             "#ed7953"
            ],
            [
             0.7777777777777778,
             "#fb9f3a"
            ],
            [
             0.8888888888888888,
             "#fdca26"
            ],
            [
             1,
             "#f0f921"
            ]
           ],
           "sequentialminus": [
            [
             0,
             "#0d0887"
            ],
            [
             0.1111111111111111,
             "#46039f"
            ],
            [
             0.2222222222222222,
             "#7201a8"
            ],
            [
             0.3333333333333333,
             "#9c179e"
            ],
            [
             0.4444444444444444,
             "#bd3786"
            ],
            [
             0.5555555555555556,
             "#d8576b"
            ],
            [
             0.6666666666666666,
             "#ed7953"
            ],
            [
             0.7777777777777778,
             "#fb9f3a"
            ],
            [
             0.8888888888888888,
             "#fdca26"
            ],
            [
             1,
             "#f0f921"
            ]
           ]
          },
          "colorway": [
           "#636efa",
           "#EF553B",
           "#00cc96",
           "#ab63fa",
           "#FFA15A",
           "#19d3f3",
           "#FF6692",
           "#B6E880",
           "#FF97FF",
           "#FECB52"
          ],
          "font": {
           "color": "#2a3f5f"
          },
          "geo": {
           "bgcolor": "white",
           "lakecolor": "white",
           "landcolor": "#E5ECF6",
           "showlakes": true,
           "showland": true,
           "subunitcolor": "white"
          },
          "hoverlabel": {
           "align": "left"
          },
          "hovermode": "closest",
          "mapbox": {
           "style": "light"
          },
          "paper_bgcolor": "white",
          "plot_bgcolor": "#E5ECF6",
          "polar": {
           "angularaxis": {
            "gridcolor": "white",
            "linecolor": "white",
            "ticks": ""
           },
           "bgcolor": "#E5ECF6",
           "radialaxis": {
            "gridcolor": "white",
            "linecolor": "white",
            "ticks": ""
           }
          },
          "scene": {
           "xaxis": {
            "backgroundcolor": "#E5ECF6",
            "gridcolor": "white",
            "gridwidth": 2,
            "linecolor": "white",
            "showbackground": true,
            "ticks": "",
            "zerolinecolor": "white"
           },
           "yaxis": {
            "backgroundcolor": "#E5ECF6",
            "gridcolor": "white",
            "gridwidth": 2,
            "linecolor": "white",
            "showbackground": true,
            "ticks": "",
            "zerolinecolor": "white"
           },
           "zaxis": {
            "backgroundcolor": "#E5ECF6",
            "gridcolor": "white",
            "gridwidth": 2,
            "linecolor": "white",
            "showbackground": true,
            "ticks": "",
            "zerolinecolor": "white"
           }
          },
          "shapedefaults": {
           "line": {
            "color": "#2a3f5f"
           }
          },
          "ternary": {
           "aaxis": {
            "gridcolor": "white",
            "linecolor": "white",
            "ticks": ""
           },
           "baxis": {
            "gridcolor": "white",
            "linecolor": "white",
            "ticks": ""
           },
           "bgcolor": "#E5ECF6",
           "caxis": {
            "gridcolor": "white",
            "linecolor": "white",
            "ticks": ""
           }
          },
          "title": {
           "x": 0.05
          },
          "xaxis": {
           "automargin": true,
           "gridcolor": "white",
           "linecolor": "white",
           "ticks": "",
           "title": {
            "standoff": 15
           },
           "zerolinecolor": "white",
           "zerolinewidth": 2
          },
          "yaxis": {
           "automargin": true,
           "gridcolor": "white",
           "linecolor": "white",
           "ticks": "",
           "title": {
            "standoff": 15
           },
           "zerolinecolor": "white",
           "zerolinewidth": 2
          }
         }
        },
        "title": {
         "text": "Standardized Pearson Residuals by y_pred"
        },
        "xaxis": {
         "anchor": "y",
         "domain": [
          0,
          1
         ],
         "title": {
          "text": "y_pred"
         }
        },
        "yaxis": {
         "anchor": "x",
         "domain": [
          0,
          1
         ],
         "title": {
          "text": "Standardized Pearson Residuals"
         }
        }
       }
      }
     },
     "metadata": {},
     "output_type": "display_data"
    }
   ],
   "source": [
    "plot_by(testdf, 'Standardized Pearson Residuals', 'y_pred')"
   ]
  },
  {
   "cell_type": "code",
   "execution_count": 67,
   "metadata": {},
   "outputs": [
    {
     "data": {
      "application/vnd.plotly.v1+json": {
       "config": {
        "plotlyServerURL": "https://plot.ly"
       },
       "data": [
        {
         "customdata": [
          [
           1,
           1,
           1
          ],
          [
           2,
           1,
           2
          ],
          [
           3,
           1,
           3
          ],
          [
           4,
           1,
           4
          ],
          [
           5,
           1,
           5
          ],
          [
           6,
           1,
           6
          ],
          [
           7,
           1,
           7
          ],
          [
           8,
           1,
           8
          ],
          [
           9,
           1,
           9
          ],
          [
           10,
           1,
           10
          ],
          [
           1,
           2,
           2
          ],
          [
           2,
           2,
           3
          ],
          [
           3,
           2,
           4
          ],
          [
           4,
           2,
           5
          ],
          [
           5,
           2,
           6
          ],
          [
           6,
           2,
           7
          ],
          [
           7,
           2,
           8
          ],
          [
           8,
           2,
           9
          ],
          [
           9,
           2,
           10
          ],
          [
           1,
           3,
           3
          ],
          [
           2,
           3,
           4
          ],
          [
           3,
           3,
           5
          ],
          [
           4,
           3,
           6
          ],
          [
           5,
           3,
           7
          ],
          [
           6,
           3,
           8
          ],
          [
           7,
           3,
           9
          ],
          [
           8,
           3,
           10
          ],
          [
           1,
           4,
           4
          ],
          [
           2,
           4,
           5
          ],
          [
           3,
           4,
           6
          ],
          [
           4,
           4,
           7
          ],
          [
           5,
           4,
           8
          ],
          [
           6,
           4,
           9
          ],
          [
           7,
           4,
           10
          ],
          [
           1,
           5,
           5
          ],
          [
           2,
           5,
           6
          ],
          [
           3,
           5,
           7
          ],
          [
           4,
           5,
           8
          ],
          [
           5,
           5,
           9
          ],
          [
           6,
           5,
           10
          ],
          [
           1,
           6,
           6
          ],
          [
           2,
           6,
           7
          ],
          [
           3,
           6,
           8
          ],
          [
           4,
           6,
           9
          ],
          [
           5,
           6,
           10
          ],
          [
           1,
           7,
           7
          ],
          [
           2,
           7,
           8
          ],
          [
           3,
           7,
           9
          ],
          [
           4,
           7,
           10
          ],
          [
           1,
           8,
           8
          ],
          [
           2,
           8,
           9
          ],
          [
           3,
           8,
           10
          ],
          [
           1,
           9,
           9
          ],
          [
           2,
           9,
           10
          ],
          [
           1,
           10,
           10
          ]
         ],
         "hovertemplate": "y_pred=%{x}<br>Leverage=%{y}<br>ay=%{customdata[0]}<br>dev=%{customdata[1]}<br>cal=%{customdata[2]}<extra></extra>",
         "legendgroup": "",
         "marker": {
          "color": "#636efa",
          "symbol": "circle"
         },
         "mode": "markers",
         "name": "",
         "orientation": "v",
         "showlegend": false,
         "type": "scatter",
         "x": [
          283282.5480848699,
          386005.6979753048,
          381810.4498712028,
          397985.9596164438,
          338638.71683880227,
          345214.68122650107,
          408727.0439748389,
          409055.8243440379,
          376689.6880031134,
          376689.6880031134,
          700882.8347936852,
          955035.068953111,
          944655.4059497078,
          984676.0044691807,
          837842.1665346227,
          854112.0730033098,
          1011251.0324924889,
          1012064.4836519305,
          931985.8852938352,
          692999.8103431019,
          944293.5235392643,
          934030.6034965728,
          973601.0791980857,
          828418.7223344713,
          844505.6366336625,
          999877.2104796234,
          1000681.512527315,
          772943.1841082419,
          1053225.746852465,
          1041778.9124123226,
          1085914.1762737401,
          923983.8098932051,
          941926.4854543096,
          1115221.480944926,
          396345.2688716731,
          540066.9161736874,
          534197.2756008916,
          556828.6971355266,
          473794.99437297677,
          482995.5342260423,
          272591.0137676198,
          371437.22845800634,
          367400.3156956952,
          382965.33595364005,
          325857.9525922632,
          315355.7086315765,
          429709.1410811483,
          425038.90831284446,
          443045.8041582574,
          171912.02667807305,
          234250.29991024366,
          231704.38379621055,
          227216.23296557885,
          309608.7676072486,
          227216.23296557885
         ],
         "xaxis": "x",
         "y": [
          0.16006076915140477,
          0.1913055932077692,
          0.19202935171649843,
          0.19928004399035418,
          0.188254266685711,
          0.19716442536438936,
          0.22814291897284422,
          0.2729428715461583,
          0.36846259570413903,
          1,
          0.2705108848803906,
          0.3023056036571131,
          0.30595491593990604,
          0.3167279390202156,
          0.31574123448544994,
          0.3348729230129351,
          0.38338031338780193,
          0.49407634821437596,
          0.744745460698151,
          0.2716413663626467,
          0.3045916804027836,
          0.30813814828306507,
          0.3190282831813591,
          0.31717844105124493,
          0.3361918196948961,
          0.38508922503401394,
          0.4945450739405141,
          0.300232753136846,
          0.33598887504210584,
          0.3399851058384127,
          0.35197478448240915,
          0.3504865653233262,
          0.37162958278840713,
          0.425552342413761,
          0.22615842025666646,
          0.270676680096069,
          0.27165650311563677,
          0.28192752966303436,
          0.2660371931623303,
          0.2785549549985576,
          0.2202030684787096,
          0.27426785300807965,
          0.27398416070600845,
          0.28474028156065423,
          0.2602653496586968,
          0.26317615773637426,
          0.32877857236714353,
          0.3283255728751272,
          0.3412503299064997,
          0.30270359290280796,
          0.39620781965739943,
          0.39360267297345547,
          0.4574432746921544,
          0.601827505573189,
          1
         ],
         "yaxis": "y"
        },
        {
         "mode": "lines",
         "name": "OLS Trendline",
         "type": "scatter",
         "x": [
          283282.5480848699,
          386005.6979753048,
          381810.4498712028,
          397985.9596164438,
          338638.71683880227,
          345214.68122650107,
          408727.0439748389,
          409055.8243440379,
          376689.6880031134,
          376689.6880031134,
          700882.8347936852,
          955035.068953111,
          944655.4059497078,
          984676.0044691807,
          837842.1665346227,
          854112.0730033098,
          1011251.0324924889,
          1012064.4836519305,
          931985.8852938352,
          692999.8103431019,
          944293.5235392643,
          934030.6034965728,
          973601.0791980857,
          828418.7223344713,
          844505.6366336625,
          999877.2104796234,
          1000681.512527315,
          772943.1841082419,
          1053225.746852465,
          1041778.9124123226,
          1085914.1762737401,
          923983.8098932051,
          941926.4854543096,
          1115221.480944926,
          396345.2688716731,
          540066.9161736874,
          534197.2756008916,
          556828.6971355266,
          473794.99437297677,
          482995.5342260423,
          272591.0137676198,
          371437.22845800634,
          367400.3156956952,
          382965.33595364005,
          325857.9525922632,
          315355.7086315765,
          429709.1410811483,
          425038.90831284446,
          443045.8041582574,
          171912.02667807305,
          234250.29991024366,
          231704.38379621055,
          227216.23296557885,
          309608.7676072486,
          227216.23296557885
         ],
         "y": [
          0.33515603927304444,
          0.33834788789799886,
          0.33821753172310837,
          0.3387201426593321,
          0.33687608496195137,
          0.3370804155623176,
          0.33905389328298835,
          0.3390641092583596,
          0.3380584176699975,
          0.3380584176699975,
          0.3481318573075752,
          0.35602896190372624,
          0.35570644148724523,
          0.35694997512586985,
          0.3523875042105203,
          0.3528930482738167,
          0.35777572342841696,
          0.3578009992593032,
          0.35531276983555415,
          0.3478869132927167,
          0.3556951969539983,
          0.3553763040144689,
          0.3566058512839148,
          0.35209469574967506,
          0.3525945538180891,
          0.3574223121653184,
          0.3574473037118949,
          0.3503709409719559,
          0.3590799760185648,
          0.35872429608851186,
          0.3600956820070543,
          0.355064126629115,
          0.35562164754215947,
          0.3610063285381977,
          0.33866916255890434,
          0.3431349304292083,
          0.3429525469624704,
          0.34365575818392474,
          0.34107570675179666,
          0.3413615890530128,
          0.33482382828510676,
          0.3378952114619075,
          0.3377697751365691,
          0.3382534167359622,
          0.33647895671160377,
          0.3361526274179576,
          0.3397058561352652,
          0.33956074107546,
          0.34012025746300445,
          0.33169549658143205,
          0.33363249259362954,
          0.33355338502287757,
          0.33341392767492223,
          0.33597405651329043,
          0.33341392767492223
         ]
        }
       ],
       "layout": {
        "legend": {
         "tracegroupgap": 0
        },
        "margin": {
         "t": 60
        },
        "template": {
         "data": {
          "bar": [
           {
            "error_x": {
             "color": "#2a3f5f"
            },
            "error_y": {
             "color": "#2a3f5f"
            },
            "marker": {
             "line": {
              "color": "#E5ECF6",
              "width": 0.5
             },
             "pattern": {
              "fillmode": "overlay",
              "size": 10,
              "solidity": 0.2
             }
            },
            "type": "bar"
           }
          ],
          "barpolar": [
           {
            "marker": {
             "line": {
              "color": "#E5ECF6",
              "width": 0.5
             },
             "pattern": {
              "fillmode": "overlay",
              "size": 10,
              "solidity": 0.2
             }
            },
            "type": "barpolar"
           }
          ],
          "carpet": [
           {
            "aaxis": {
             "endlinecolor": "#2a3f5f",
             "gridcolor": "white",
             "linecolor": "white",
             "minorgridcolor": "white",
             "startlinecolor": "#2a3f5f"
            },
            "baxis": {
             "endlinecolor": "#2a3f5f",
             "gridcolor": "white",
             "linecolor": "white",
             "minorgridcolor": "white",
             "startlinecolor": "#2a3f5f"
            },
            "type": "carpet"
           }
          ],
          "choropleth": [
           {
            "colorbar": {
             "outlinewidth": 0,
             "ticks": ""
            },
            "type": "choropleth"
           }
          ],
          "contour": [
           {
            "colorbar": {
             "outlinewidth": 0,
             "ticks": ""
            },
            "colorscale": [
             [
              0,
              "#0d0887"
             ],
             [
              0.1111111111111111,
              "#46039f"
             ],
             [
              0.2222222222222222,
              "#7201a8"
             ],
             [
              0.3333333333333333,
              "#9c179e"
             ],
             [
              0.4444444444444444,
              "#bd3786"
             ],
             [
              0.5555555555555556,
              "#d8576b"
             ],
             [
              0.6666666666666666,
              "#ed7953"
             ],
             [
              0.7777777777777778,
              "#fb9f3a"
             ],
             [
              0.8888888888888888,
              "#fdca26"
             ],
             [
              1,
              "#f0f921"
             ]
            ],
            "type": "contour"
           }
          ],
          "contourcarpet": [
           {
            "colorbar": {
             "outlinewidth": 0,
             "ticks": ""
            },
            "type": "contourcarpet"
           }
          ],
          "heatmap": [
           {
            "colorbar": {
             "outlinewidth": 0,
             "ticks": ""
            },
            "colorscale": [
             [
              0,
              "#0d0887"
             ],
             [
              0.1111111111111111,
              "#46039f"
             ],
             [
              0.2222222222222222,
              "#7201a8"
             ],
             [
              0.3333333333333333,
              "#9c179e"
             ],
             [
              0.4444444444444444,
              "#bd3786"
             ],
             [
              0.5555555555555556,
              "#d8576b"
             ],
             [
              0.6666666666666666,
              "#ed7953"
             ],
             [
              0.7777777777777778,
              "#fb9f3a"
             ],
             [
              0.8888888888888888,
              "#fdca26"
             ],
             [
              1,
              "#f0f921"
             ]
            ],
            "type": "heatmap"
           }
          ],
          "heatmapgl": [
           {
            "colorbar": {
             "outlinewidth": 0,
             "ticks": ""
            },
            "colorscale": [
             [
              0,
              "#0d0887"
             ],
             [
              0.1111111111111111,
              "#46039f"
             ],
             [
              0.2222222222222222,
              "#7201a8"
             ],
             [
              0.3333333333333333,
              "#9c179e"
             ],
             [
              0.4444444444444444,
              "#bd3786"
             ],
             [
              0.5555555555555556,
              "#d8576b"
             ],
             [
              0.6666666666666666,
              "#ed7953"
             ],
             [
              0.7777777777777778,
              "#fb9f3a"
             ],
             [
              0.8888888888888888,
              "#fdca26"
             ],
             [
              1,
              "#f0f921"
             ]
            ],
            "type": "heatmapgl"
           }
          ],
          "histogram": [
           {
            "marker": {
             "pattern": {
              "fillmode": "overlay",
              "size": 10,
              "solidity": 0.2
             }
            },
            "type": "histogram"
           }
          ],
          "histogram2d": [
           {
            "colorbar": {
             "outlinewidth": 0,
             "ticks": ""
            },
            "colorscale": [
             [
              0,
              "#0d0887"
             ],
             [
              0.1111111111111111,
              "#46039f"
             ],
             [
              0.2222222222222222,
              "#7201a8"
             ],
             [
              0.3333333333333333,
              "#9c179e"
             ],
             [
              0.4444444444444444,
              "#bd3786"
             ],
             [
              0.5555555555555556,
              "#d8576b"
             ],
             [
              0.6666666666666666,
              "#ed7953"
             ],
             [
              0.7777777777777778,
              "#fb9f3a"
             ],
             [
              0.8888888888888888,
              "#fdca26"
             ],
             [
              1,
              "#f0f921"
             ]
            ],
            "type": "histogram2d"
           }
          ],
          "histogram2dcontour": [
           {
            "colorbar": {
             "outlinewidth": 0,
             "ticks": ""
            },
            "colorscale": [
             [
              0,
              "#0d0887"
             ],
             [
              0.1111111111111111,
              "#46039f"
             ],
             [
              0.2222222222222222,
              "#7201a8"
             ],
             [
              0.3333333333333333,
              "#9c179e"
             ],
             [
              0.4444444444444444,
              "#bd3786"
             ],
             [
              0.5555555555555556,
              "#d8576b"
             ],
             [
              0.6666666666666666,
              "#ed7953"
             ],
             [
              0.7777777777777778,
              "#fb9f3a"
             ],
             [
              0.8888888888888888,
              "#fdca26"
             ],
             [
              1,
              "#f0f921"
             ]
            ],
            "type": "histogram2dcontour"
           }
          ],
          "mesh3d": [
           {
            "colorbar": {
             "outlinewidth": 0,
             "ticks": ""
            },
            "type": "mesh3d"
           }
          ],
          "parcoords": [
           {
            "line": {
             "colorbar": {
              "outlinewidth": 0,
              "ticks": ""
             }
            },
            "type": "parcoords"
           }
          ],
          "pie": [
           {
            "automargin": true,
            "type": "pie"
           }
          ],
          "scatter": [
           {
            "fillpattern": {
             "fillmode": "overlay",
             "size": 10,
             "solidity": 0.2
            },
            "type": "scatter"
           }
          ],
          "scatter3d": [
           {
            "line": {
             "colorbar": {
              "outlinewidth": 0,
              "ticks": ""
             }
            },
            "marker": {
             "colorbar": {
              "outlinewidth": 0,
              "ticks": ""
             }
            },
            "type": "scatter3d"
           }
          ],
          "scattercarpet": [
           {
            "marker": {
             "colorbar": {
              "outlinewidth": 0,
              "ticks": ""
             }
            },
            "type": "scattercarpet"
           }
          ],
          "scattergeo": [
           {
            "marker": {
             "colorbar": {
              "outlinewidth": 0,
              "ticks": ""
             }
            },
            "type": "scattergeo"
           }
          ],
          "scattergl": [
           {
            "marker": {
             "colorbar": {
              "outlinewidth": 0,
              "ticks": ""
             }
            },
            "type": "scattergl"
           }
          ],
          "scattermapbox": [
           {
            "marker": {
             "colorbar": {
              "outlinewidth": 0,
              "ticks": ""
             }
            },
            "type": "scattermapbox"
           }
          ],
          "scatterpolar": [
           {
            "marker": {
             "colorbar": {
              "outlinewidth": 0,
              "ticks": ""
             }
            },
            "type": "scatterpolar"
           }
          ],
          "scatterpolargl": [
           {
            "marker": {
             "colorbar": {
              "outlinewidth": 0,
              "ticks": ""
             }
            },
            "type": "scatterpolargl"
           }
          ],
          "scatterternary": [
           {
            "marker": {
             "colorbar": {
              "outlinewidth": 0,
              "ticks": ""
             }
            },
            "type": "scatterternary"
           }
          ],
          "surface": [
           {
            "colorbar": {
             "outlinewidth": 0,
             "ticks": ""
            },
            "colorscale": [
             [
              0,
              "#0d0887"
             ],
             [
              0.1111111111111111,
              "#46039f"
             ],
             [
              0.2222222222222222,
              "#7201a8"
             ],
             [
              0.3333333333333333,
              "#9c179e"
             ],
             [
              0.4444444444444444,
              "#bd3786"
             ],
             [
              0.5555555555555556,
              "#d8576b"
             ],
             [
              0.6666666666666666,
              "#ed7953"
             ],
             [
              0.7777777777777778,
              "#fb9f3a"
             ],
             [
              0.8888888888888888,
              "#fdca26"
             ],
             [
              1,
              "#f0f921"
             ]
            ],
            "type": "surface"
           }
          ],
          "table": [
           {
            "cells": {
             "fill": {
              "color": "#EBF0F8"
             },
             "line": {
              "color": "white"
             }
            },
            "header": {
             "fill": {
              "color": "#C8D4E3"
             },
             "line": {
              "color": "white"
             }
            },
            "type": "table"
           }
          ]
         },
         "layout": {
          "annotationdefaults": {
           "arrowcolor": "#2a3f5f",
           "arrowhead": 0,
           "arrowwidth": 1
          },
          "autotypenumbers": "strict",
          "coloraxis": {
           "colorbar": {
            "outlinewidth": 0,
            "ticks": ""
           }
          },
          "colorscale": {
           "diverging": [
            [
             0,
             "#8e0152"
            ],
            [
             0.1,
             "#c51b7d"
            ],
            [
             0.2,
             "#de77ae"
            ],
            [
             0.3,
             "#f1b6da"
            ],
            [
             0.4,
             "#fde0ef"
            ],
            [
             0.5,
             "#f7f7f7"
            ],
            [
             0.6,
             "#e6f5d0"
            ],
            [
             0.7,
             "#b8e186"
            ],
            [
             0.8,
             "#7fbc41"
            ],
            [
             0.9,
             "#4d9221"
            ],
            [
             1,
             "#276419"
            ]
           ],
           "sequential": [
            [
             0,
             "#0d0887"
            ],
            [
             0.1111111111111111,
             "#46039f"
            ],
            [
             0.2222222222222222,
             "#7201a8"
            ],
            [
             0.3333333333333333,
             "#9c179e"
            ],
            [
             0.4444444444444444,
             "#bd3786"
            ],
            [
             0.5555555555555556,
             "#d8576b"
            ],
            [
             0.6666666666666666,
             "#ed7953"
            ],
            [
             0.7777777777777778,
             "#fb9f3a"
            ],
            [
             0.8888888888888888,
             "#fdca26"
            ],
            [
             1,
             "#f0f921"
            ]
           ],
           "sequentialminus": [
            [
             0,
             "#0d0887"
            ],
            [
             0.1111111111111111,
             "#46039f"
            ],
            [
             0.2222222222222222,
             "#7201a8"
            ],
            [
             0.3333333333333333,
             "#9c179e"
            ],
            [
             0.4444444444444444,
             "#bd3786"
            ],
            [
             0.5555555555555556,
             "#d8576b"
            ],
            [
             0.6666666666666666,
             "#ed7953"
            ],
            [
             0.7777777777777778,
             "#fb9f3a"
            ],
            [
             0.8888888888888888,
             "#fdca26"
            ],
            [
             1,
             "#f0f921"
            ]
           ]
          },
          "colorway": [
           "#636efa",
           "#EF553B",
           "#00cc96",
           "#ab63fa",
           "#FFA15A",
           "#19d3f3",
           "#FF6692",
           "#B6E880",
           "#FF97FF",
           "#FECB52"
          ],
          "font": {
           "color": "#2a3f5f"
          },
          "geo": {
           "bgcolor": "white",
           "lakecolor": "white",
           "landcolor": "#E5ECF6",
           "showlakes": true,
           "showland": true,
           "subunitcolor": "white"
          },
          "hoverlabel": {
           "align": "left"
          },
          "hovermode": "closest",
          "mapbox": {
           "style": "light"
          },
          "paper_bgcolor": "white",
          "plot_bgcolor": "#E5ECF6",
          "polar": {
           "angularaxis": {
            "gridcolor": "white",
            "linecolor": "white",
            "ticks": ""
           },
           "bgcolor": "#E5ECF6",
           "radialaxis": {
            "gridcolor": "white",
            "linecolor": "white",
            "ticks": ""
           }
          },
          "scene": {
           "xaxis": {
            "backgroundcolor": "#E5ECF6",
            "gridcolor": "white",
            "gridwidth": 2,
            "linecolor": "white",
            "showbackground": true,
            "ticks": "",
            "zerolinecolor": "white"
           },
           "yaxis": {
            "backgroundcolor": "#E5ECF6",
            "gridcolor": "white",
            "gridwidth": 2,
            "linecolor": "white",
            "showbackground": true,
            "ticks": "",
            "zerolinecolor": "white"
           },
           "zaxis": {
            "backgroundcolor": "#E5ECF6",
            "gridcolor": "white",
            "gridwidth": 2,
            "linecolor": "white",
            "showbackground": true,
            "ticks": "",
            "zerolinecolor": "white"
           }
          },
          "shapedefaults": {
           "line": {
            "color": "#2a3f5f"
           }
          },
          "ternary": {
           "aaxis": {
            "gridcolor": "white",
            "linecolor": "white",
            "ticks": ""
           },
           "baxis": {
            "gridcolor": "white",
            "linecolor": "white",
            "ticks": ""
           },
           "bgcolor": "#E5ECF6",
           "caxis": {
            "gridcolor": "white",
            "linecolor": "white",
            "ticks": ""
           }
          },
          "title": {
           "x": 0.05
          },
          "xaxis": {
           "automargin": true,
           "gridcolor": "white",
           "linecolor": "white",
           "ticks": "",
           "title": {
            "standoff": 15
           },
           "zerolinecolor": "white",
           "zerolinewidth": 2
          },
          "yaxis": {
           "automargin": true,
           "gridcolor": "white",
           "linecolor": "white",
           "ticks": "",
           "title": {
            "standoff": 15
           },
           "zerolinecolor": "white",
           "zerolinewidth": 2
          }
         }
        },
        "title": {
         "text": "Leverage by y_pred"
        },
        "xaxis": {
         "anchor": "y",
         "domain": [
          0,
          1
         ],
         "title": {
          "text": "y_pred"
         }
        },
        "yaxis": {
         "anchor": "x",
         "domain": [
          0,
          1
         ],
         "title": {
          "text": "Leverage"
         }
        }
       }
      }
     },
     "metadata": {},
     "output_type": "display_data"
    }
   ],
   "source": [
    "plot_by(testdf, 'Leverage', 'y_pred')"
   ]
  },
  {
   "cell_type": "code",
   "execution_count": 188,
   "metadata": {},
   "outputs": [
    {
     "data": {
      "application/vnd.plotly.v1+json": {
       "config": {
        "plotlyServerURL": "https://plot.ly"
       },
       "data": [
        {
         "customdata": [
          [
           1,
           1,
           1
          ],
          [
           2,
           1,
           2
          ],
          [
           3,
           1,
           3
          ],
          [
           4,
           1,
           4
          ],
          [
           5,
           1,
           5
          ],
          [
           6,
           1,
           6
          ],
          [
           7,
           1,
           7
          ],
          [
           8,
           1,
           8
          ],
          [
           9,
           1,
           9
          ],
          [
           10,
           1,
           10
          ],
          [
           1,
           2,
           2
          ],
          [
           2,
           2,
           3
          ],
          [
           3,
           2,
           4
          ],
          [
           4,
           2,
           5
          ],
          [
           5,
           2,
           6
          ],
          [
           6,
           2,
           7
          ],
          [
           7,
           2,
           8
          ],
          [
           8,
           2,
           9
          ],
          [
           9,
           2,
           10
          ],
          [
           1,
           3,
           3
          ],
          [
           2,
           3,
           4
          ],
          [
           3,
           3,
           5
          ],
          [
           4,
           3,
           6
          ],
          [
           5,
           3,
           7
          ],
          [
           6,
           3,
           8
          ],
          [
           7,
           3,
           9
          ],
          [
           8,
           3,
           10
          ],
          [
           1,
           4,
           4
          ],
          [
           2,
           4,
           5
          ],
          [
           3,
           4,
           6
          ],
          [
           4,
           4,
           7
          ],
          [
           5,
           4,
           8
          ],
          [
           6,
           4,
           9
          ],
          [
           7,
           4,
           10
          ],
          [
           1,
           5,
           5
          ],
          [
           2,
           5,
           6
          ],
          [
           3,
           5,
           7
          ],
          [
           4,
           5,
           8
          ],
          [
           5,
           5,
           9
          ],
          [
           6,
           5,
           10
          ],
          [
           1,
           6,
           6
          ],
          [
           2,
           6,
           7
          ],
          [
           3,
           6,
           8
          ],
          [
           4,
           6,
           9
          ],
          [
           5,
           6,
           10
          ],
          [
           1,
           7,
           7
          ],
          [
           2,
           7,
           8
          ],
          [
           3,
           7,
           9
          ],
          [
           4,
           7,
           10
          ],
          [
           1,
           8,
           8
          ],
          [
           2,
           8,
           9
          ],
          [
           3,
           8,
           10
          ],
          [
           1,
           9,
           9
          ],
          [
           2,
           9,
           10
          ],
          [
           1,
           10,
           10
          ]
         ],
         "hovertemplate": "y_pred=%{x}<br>Studentized Residuals=%{y}<br>ay=%{customdata[0]}<br>dev=%{customdata[1]}<br>cal=%{customdata[2]}<extra></extra>",
         "legendgroup": "",
         "marker": {
          "color": "#636efa",
          "symbol": "circle"
         },
         "mode": "markers",
         "name": "",
         "orientation": "v",
         "showlegend": false,
         "type": "scatter",
         "x": [
          283282.5480848699,
          386005.6979753048,
          381810.4498712028,
          397985.9596164438,
          338638.71683880227,
          345214.68122650107,
          408727.0439748389,
          409055.8243440379,
          376689.6880031134,
          376689.6880031134,
          700882.8347936852,
          955035.068953111,
          944655.4059497078,
          984676.0044691807,
          837842.1665346227,
          854112.0730033098,
          1011251.0324924889,
          1012064.4836519305,
          931985.8852938352,
          692999.8103431019,
          944293.5235392643,
          934030.6034965728,
          973601.0791980857,
          828418.7223344713,
          844505.6366336625,
          999877.2104796234,
          1000681.512527315,
          772943.1841082419,
          1053225.746852465,
          1041778.9124123226,
          1085914.1762737401,
          923983.8098932051,
          941926.4854543096,
          1115221.480944926,
          396345.2688716731,
          540066.9161736874,
          534197.2756008916,
          556828.6971355266,
          473794.99437297677,
          482995.5342260423,
          272591.0137676198,
          371437.22845800634,
          367400.3156956952,
          382965.33595364005,
          325857.9525922632,
          315355.7086315765,
          429709.1410811483,
          425038.90831284446,
          443045.8041582574,
          171912.02667807305,
          234250.29991024366,
          231704.38379621055,
          227216.23296557885,
          309608.7676072486,
          227216.23296557885
         ],
         "xaxis": "x",
         "y": [
          152.8635042342995,
          -60.653098273217154,
          -164.38625067602024,
          -154.7845815640179,
          199.35467311942634,
          96.71806376027172,
          57.159305827575224,
          -90.90638451607995,
          -0.007561359284234781,
          null,
          92.38209619155371,
          -86.99656806967516,
          70.57274393542282,
          150.65501056083457,
          -191.04410933019525,
          110.08462474662919,
          -207.204075097014,
          69.29321933493398,
          111.98944834398972,
          -116.06268246300705,
          -12.833348725748909,
          -9.717396991963135,
          -242.44803137360066,
          217.47527813605822,
          3.9966098369270577,
          167.7316505863433,
          622.4565954428749,
          -394.32305948713196,
          155.52714543011635,
          -30.299810144373545,
          568.0103904400687,
          -199.42998440861388,
          -177.93186106466842,
          -64.90833923614572,
          236.507294699971,
          -150.28954789195797,
          347.2778117000263,
          -449.6796610107881,
          52.66393866231698,
          377.7134667811089,
          654.6101881624802,
          -97.15267420286563,
          -426.89503357084243,
          -59.063639969913886,
          294.88967772484256,
          -350.62247233720456,
          182.65267822341195,
          132.79373112228086,
          -438.2515418796777,
          -92.31504076493304,
          84.879378923789,
          129.9237932962212,
          0.03636200113288651,
          328.7786839587821,
          null
         ],
         "yaxis": "y"
        },
        {
         "mode": "lines",
         "name": "OLS Trendline",
         "type": "scatter",
         "x": [
          283282.5480848699,
          386005.6979753048,
          381810.4498712028,
          397985.9596164438,
          338638.71683880227,
          345214.68122650107,
          408727.0439748389,
          409055.8243440379,
          376689.6880031134,
          700882.8347936852,
          955035.068953111,
          944655.4059497078,
          984676.0044691807,
          837842.1665346227,
          854112.0730033098,
          1011251.0324924889,
          1012064.4836519305,
          931985.8852938352,
          692999.8103431019,
          944293.5235392643,
          934030.6034965728,
          973601.0791980857,
          828418.7223344713,
          844505.6366336625,
          999877.2104796234,
          1000681.512527315,
          772943.1841082419,
          1053225.746852465,
          1041778.9124123226,
          1085914.1762737401,
          923983.8098932051,
          941926.4854543096,
          1115221.480944926,
          396345.2688716731,
          540066.9161736874,
          534197.2756008916,
          556828.6971355266,
          473794.99437297677,
          482995.5342260423,
          272591.0137676198,
          371437.22845800634,
          367400.3156956952,
          382965.33595364005,
          325857.9525922632,
          315355.7086315765,
          429709.1410811483,
          425038.90831284446,
          443045.8041582574,
          171912.02667807305,
          234250.29991024366,
          231704.38379621055,
          227216.23296557885,
          309608.7676072486
         ],
         "y": [
          23.682976082748034,
          24.505097626510853,
          24.47152190524947,
          24.600978946404187,
          24.12600668452883,
          24.17863593119728,
          24.686942790618748,
          24.689574110092238,
          24.430539043482423,
          27.025145717840335,
          29.059195757395948,
          28.976124467417034,
          29.296420294328826,
          28.121268815347374,
          28.25148133937122,
          29.50910753267155,
          29.5156178054162,
          28.874726818576917,
          26.962055710984565,
          28.973228223228148,
          28.891091259184392,
          29.20778462972312,
          28.045850406725222,
          28.174598394224997,
          29.41807971545923,
          29.424516765353097,
          27.601864458316648,
          29.84504268463519,
          29.75343052894132,
          30.106657151166488,
          28.8106840143143,
          28.9542841681965,
          30.34121154893857,
          24.58784804836059,
          25.738091812089543,
          25.691115468644206,
          25.872240942594786,
          25.207699444672446,
          25.281333888666047,
          23.59740880110348,
          24.3885021690838,
          24.356193648991425,
          24.480764775332567,
          24.023718722720407,
          23.93966638371851,
          24.85486826878817,
          24.817491114979074,
          24.96160524141111,
          22.791647252914796,
          23.290557551905856,
          23.270181886944336,
          23.234261984824368,
          23.893672038413936
         ]
        }
       ],
       "layout": {
        "legend": {
         "tracegroupgap": 0
        },
        "margin": {
         "t": 60
        },
        "template": {
         "data": {
          "bar": [
           {
            "error_x": {
             "color": "#2a3f5f"
            },
            "error_y": {
             "color": "#2a3f5f"
            },
            "marker": {
             "line": {
              "color": "#E5ECF6",
              "width": 0.5
             },
             "pattern": {
              "fillmode": "overlay",
              "size": 10,
              "solidity": 0.2
             }
            },
            "type": "bar"
           }
          ],
          "barpolar": [
           {
            "marker": {
             "line": {
              "color": "#E5ECF6",
              "width": 0.5
             },
             "pattern": {
              "fillmode": "overlay",
              "size": 10,
              "solidity": 0.2
             }
            },
            "type": "barpolar"
           }
          ],
          "carpet": [
           {
            "aaxis": {
             "endlinecolor": "#2a3f5f",
             "gridcolor": "white",
             "linecolor": "white",
             "minorgridcolor": "white",
             "startlinecolor": "#2a3f5f"
            },
            "baxis": {
             "endlinecolor": "#2a3f5f",
             "gridcolor": "white",
             "linecolor": "white",
             "minorgridcolor": "white",
             "startlinecolor": "#2a3f5f"
            },
            "type": "carpet"
           }
          ],
          "choropleth": [
           {
            "colorbar": {
             "outlinewidth": 0,
             "ticks": ""
            },
            "type": "choropleth"
           }
          ],
          "contour": [
           {
            "colorbar": {
             "outlinewidth": 0,
             "ticks": ""
            },
            "colorscale": [
             [
              0,
              "#0d0887"
             ],
             [
              0.1111111111111111,
              "#46039f"
             ],
             [
              0.2222222222222222,
              "#7201a8"
             ],
             [
              0.3333333333333333,
              "#9c179e"
             ],
             [
              0.4444444444444444,
              "#bd3786"
             ],
             [
              0.5555555555555556,
              "#d8576b"
             ],
             [
              0.6666666666666666,
              "#ed7953"
             ],
             [
              0.7777777777777778,
              "#fb9f3a"
             ],
             [
              0.8888888888888888,
              "#fdca26"
             ],
             [
              1,
              "#f0f921"
             ]
            ],
            "type": "contour"
           }
          ],
          "contourcarpet": [
           {
            "colorbar": {
             "outlinewidth": 0,
             "ticks": ""
            },
            "type": "contourcarpet"
           }
          ],
          "heatmap": [
           {
            "colorbar": {
             "outlinewidth": 0,
             "ticks": ""
            },
            "colorscale": [
             [
              0,
              "#0d0887"
             ],
             [
              0.1111111111111111,
              "#46039f"
             ],
             [
              0.2222222222222222,
              "#7201a8"
             ],
             [
              0.3333333333333333,
              "#9c179e"
             ],
             [
              0.4444444444444444,
              "#bd3786"
             ],
             [
              0.5555555555555556,
              "#d8576b"
             ],
             [
              0.6666666666666666,
              "#ed7953"
             ],
             [
              0.7777777777777778,
              "#fb9f3a"
             ],
             [
              0.8888888888888888,
              "#fdca26"
             ],
             [
              1,
              "#f0f921"
             ]
            ],
            "type": "heatmap"
           }
          ],
          "heatmapgl": [
           {
            "colorbar": {
             "outlinewidth": 0,
             "ticks": ""
            },
            "colorscale": [
             [
              0,
              "#0d0887"
             ],
             [
              0.1111111111111111,
              "#46039f"
             ],
             [
              0.2222222222222222,
              "#7201a8"
             ],
             [
              0.3333333333333333,
              "#9c179e"
             ],
             [
              0.4444444444444444,
              "#bd3786"
             ],
             [
              0.5555555555555556,
              "#d8576b"
             ],
             [
              0.6666666666666666,
              "#ed7953"
             ],
             [
              0.7777777777777778,
              "#fb9f3a"
             ],
             [
              0.8888888888888888,
              "#fdca26"
             ],
             [
              1,
              "#f0f921"
             ]
            ],
            "type": "heatmapgl"
           }
          ],
          "histogram": [
           {
            "marker": {
             "pattern": {
              "fillmode": "overlay",
              "size": 10,
              "solidity": 0.2
             }
            },
            "type": "histogram"
           }
          ],
          "histogram2d": [
           {
            "colorbar": {
             "outlinewidth": 0,
             "ticks": ""
            },
            "colorscale": [
             [
              0,
              "#0d0887"
             ],
             [
              0.1111111111111111,
              "#46039f"
             ],
             [
              0.2222222222222222,
              "#7201a8"
             ],
             [
              0.3333333333333333,
              "#9c179e"
             ],
             [
              0.4444444444444444,
              "#bd3786"
             ],
             [
              0.5555555555555556,
              "#d8576b"
             ],
             [
              0.6666666666666666,
              "#ed7953"
             ],
             [
              0.7777777777777778,
              "#fb9f3a"
             ],
             [
              0.8888888888888888,
              "#fdca26"
             ],
             [
              1,
              "#f0f921"
             ]
            ],
            "type": "histogram2d"
           }
          ],
          "histogram2dcontour": [
           {
            "colorbar": {
             "outlinewidth": 0,
             "ticks": ""
            },
            "colorscale": [
             [
              0,
              "#0d0887"
             ],
             [
              0.1111111111111111,
              "#46039f"
             ],
             [
              0.2222222222222222,
              "#7201a8"
             ],
             [
              0.3333333333333333,
              "#9c179e"
             ],
             [
              0.4444444444444444,
              "#bd3786"
             ],
             [
              0.5555555555555556,
              "#d8576b"
             ],
             [
              0.6666666666666666,
              "#ed7953"
             ],
             [
              0.7777777777777778,
              "#fb9f3a"
             ],
             [
              0.8888888888888888,
              "#fdca26"
             ],
             [
              1,
              "#f0f921"
             ]
            ],
            "type": "histogram2dcontour"
           }
          ],
          "mesh3d": [
           {
            "colorbar": {
             "outlinewidth": 0,
             "ticks": ""
            },
            "type": "mesh3d"
           }
          ],
          "parcoords": [
           {
            "line": {
             "colorbar": {
              "outlinewidth": 0,
              "ticks": ""
             }
            },
            "type": "parcoords"
           }
          ],
          "pie": [
           {
            "automargin": true,
            "type": "pie"
           }
          ],
          "scatter": [
           {
            "fillpattern": {
             "fillmode": "overlay",
             "size": 10,
             "solidity": 0.2
            },
            "type": "scatter"
           }
          ],
          "scatter3d": [
           {
            "line": {
             "colorbar": {
              "outlinewidth": 0,
              "ticks": ""
             }
            },
            "marker": {
             "colorbar": {
              "outlinewidth": 0,
              "ticks": ""
             }
            },
            "type": "scatter3d"
           }
          ],
          "scattercarpet": [
           {
            "marker": {
             "colorbar": {
              "outlinewidth": 0,
              "ticks": ""
             }
            },
            "type": "scattercarpet"
           }
          ],
          "scattergeo": [
           {
            "marker": {
             "colorbar": {
              "outlinewidth": 0,
              "ticks": ""
             }
            },
            "type": "scattergeo"
           }
          ],
          "scattergl": [
           {
            "marker": {
             "colorbar": {
              "outlinewidth": 0,
              "ticks": ""
             }
            },
            "type": "scattergl"
           }
          ],
          "scattermapbox": [
           {
            "marker": {
             "colorbar": {
              "outlinewidth": 0,
              "ticks": ""
             }
            },
            "type": "scattermapbox"
           }
          ],
          "scatterpolar": [
           {
            "marker": {
             "colorbar": {
              "outlinewidth": 0,
              "ticks": ""
             }
            },
            "type": "scatterpolar"
           }
          ],
          "scatterpolargl": [
           {
            "marker": {
             "colorbar": {
              "outlinewidth": 0,
              "ticks": ""
             }
            },
            "type": "scatterpolargl"
           }
          ],
          "scatterternary": [
           {
            "marker": {
             "colorbar": {
              "outlinewidth": 0,
              "ticks": ""
             }
            },
            "type": "scatterternary"
           }
          ],
          "surface": [
           {
            "colorbar": {
             "outlinewidth": 0,
             "ticks": ""
            },
            "colorscale": [
             [
              0,
              "#0d0887"
             ],
             [
              0.1111111111111111,
              "#46039f"
             ],
             [
              0.2222222222222222,
              "#7201a8"
             ],
             [
              0.3333333333333333,
              "#9c179e"
             ],
             [
              0.4444444444444444,
              "#bd3786"
             ],
             [
              0.5555555555555556,
              "#d8576b"
             ],
             [
              0.6666666666666666,
              "#ed7953"
             ],
             [
              0.7777777777777778,
              "#fb9f3a"
             ],
             [
              0.8888888888888888,
              "#fdca26"
             ],
             [
              1,
              "#f0f921"
             ]
            ],
            "type": "surface"
           }
          ],
          "table": [
           {
            "cells": {
             "fill": {
              "color": "#EBF0F8"
             },
             "line": {
              "color": "white"
             }
            },
            "header": {
             "fill": {
              "color": "#C8D4E3"
             },
             "line": {
              "color": "white"
             }
            },
            "type": "table"
           }
          ]
         },
         "layout": {
          "annotationdefaults": {
           "arrowcolor": "#2a3f5f",
           "arrowhead": 0,
           "arrowwidth": 1
          },
          "autotypenumbers": "strict",
          "coloraxis": {
           "colorbar": {
            "outlinewidth": 0,
            "ticks": ""
           }
          },
          "colorscale": {
           "diverging": [
            [
             0,
             "#8e0152"
            ],
            [
             0.1,
             "#c51b7d"
            ],
            [
             0.2,
             "#de77ae"
            ],
            [
             0.3,
             "#f1b6da"
            ],
            [
             0.4,
             "#fde0ef"
            ],
            [
             0.5,
             "#f7f7f7"
            ],
            [
             0.6,
             "#e6f5d0"
            ],
            [
             0.7,
             "#b8e186"
            ],
            [
             0.8,
             "#7fbc41"
            ],
            [
             0.9,
             "#4d9221"
            ],
            [
             1,
             "#276419"
            ]
           ],
           "sequential": [
            [
             0,
             "#0d0887"
            ],
            [
             0.1111111111111111,
             "#46039f"
            ],
            [
             0.2222222222222222,
             "#7201a8"
            ],
            [
             0.3333333333333333,
             "#9c179e"
            ],
            [
             0.4444444444444444,
             "#bd3786"
            ],
            [
             0.5555555555555556,
             "#d8576b"
            ],
            [
             0.6666666666666666,
             "#ed7953"
            ],
            [
             0.7777777777777778,
             "#fb9f3a"
            ],
            [
             0.8888888888888888,
             "#fdca26"
            ],
            [
             1,
             "#f0f921"
            ]
           ],
           "sequentialminus": [
            [
             0,
             "#0d0887"
            ],
            [
             0.1111111111111111,
             "#46039f"
            ],
            [
             0.2222222222222222,
             "#7201a8"
            ],
            [
             0.3333333333333333,
             "#9c179e"
            ],
            [
             0.4444444444444444,
             "#bd3786"
            ],
            [
             0.5555555555555556,
             "#d8576b"
            ],
            [
             0.6666666666666666,
             "#ed7953"
            ],
            [
             0.7777777777777778,
             "#fb9f3a"
            ],
            [
             0.8888888888888888,
             "#fdca26"
            ],
            [
             1,
             "#f0f921"
            ]
           ]
          },
          "colorway": [
           "#636efa",
           "#EF553B",
           "#00cc96",
           "#ab63fa",
           "#FFA15A",
           "#19d3f3",
           "#FF6692",
           "#B6E880",
           "#FF97FF",
           "#FECB52"
          ],
          "font": {
           "color": "#2a3f5f"
          },
          "geo": {
           "bgcolor": "white",
           "lakecolor": "white",
           "landcolor": "#E5ECF6",
           "showlakes": true,
           "showland": true,
           "subunitcolor": "white"
          },
          "hoverlabel": {
           "align": "left"
          },
          "hovermode": "closest",
          "mapbox": {
           "style": "light"
          },
          "paper_bgcolor": "white",
          "plot_bgcolor": "#E5ECF6",
          "polar": {
           "angularaxis": {
            "gridcolor": "white",
            "linecolor": "white",
            "ticks": ""
           },
           "bgcolor": "#E5ECF6",
           "radialaxis": {
            "gridcolor": "white",
            "linecolor": "white",
            "ticks": ""
           }
          },
          "scene": {
           "xaxis": {
            "backgroundcolor": "#E5ECF6",
            "gridcolor": "white",
            "gridwidth": 2,
            "linecolor": "white",
            "showbackground": true,
            "ticks": "",
            "zerolinecolor": "white"
           },
           "yaxis": {
            "backgroundcolor": "#E5ECF6",
            "gridcolor": "white",
            "gridwidth": 2,
            "linecolor": "white",
            "showbackground": true,
            "ticks": "",
            "zerolinecolor": "white"
           },
           "zaxis": {
            "backgroundcolor": "#E5ECF6",
            "gridcolor": "white",
            "gridwidth": 2,
            "linecolor": "white",
            "showbackground": true,
            "ticks": "",
            "zerolinecolor": "white"
           }
          },
          "shapedefaults": {
           "line": {
            "color": "#2a3f5f"
           }
          },
          "ternary": {
           "aaxis": {
            "gridcolor": "white",
            "linecolor": "white",
            "ticks": ""
           },
           "baxis": {
            "gridcolor": "white",
            "linecolor": "white",
            "ticks": ""
           },
           "bgcolor": "#E5ECF6",
           "caxis": {
            "gridcolor": "white",
            "linecolor": "white",
            "ticks": ""
           }
          },
          "title": {
           "x": 0.05
          },
          "xaxis": {
           "automargin": true,
           "gridcolor": "white",
           "linecolor": "white",
           "ticks": "",
           "title": {
            "standoff": 15
           },
           "zerolinecolor": "white",
           "zerolinewidth": 2
          },
          "yaxis": {
           "automargin": true,
           "gridcolor": "white",
           "linecolor": "white",
           "ticks": "",
           "title": {
            "standoff": 15
           },
           "zerolinecolor": "white",
           "zerolinewidth": 2
          }
         }
        },
        "title": {
         "text": "Studentized Residuals by y_pred"
        },
        "xaxis": {
         "anchor": "y",
         "domain": [
          0,
          1
         ],
         "title": {
          "text": "y_pred"
         }
        },
        "yaxis": {
         "anchor": "x",
         "domain": [
          0,
          1
         ],
         "title": {
          "text": "Studentized Residuals"
         }
        }
       }
      }
     },
     "metadata": {},
     "output_type": "display_data"
    }
   ],
   "source": [
    "plot_by(testdf, 'Studentized Residuals', 'y_pred')"
   ]
  },
  {
   "cell_type": "code",
   "execution_count": 191,
   "metadata": {},
   "outputs": [
    {
     "data": {
      "application/vnd.plotly.v1+json": {
       "config": {
        "plotlyServerURL": "https://plot.ly"
       },
       "data": [
        {
         "customdata": [
          [
           1,
           1,
           1
          ],
          [
           2,
           1,
           2
          ],
          [
           3,
           1,
           3
          ],
          [
           4,
           1,
           4
          ],
          [
           5,
           1,
           5
          ],
          [
           6,
           1,
           6
          ],
          [
           7,
           1,
           7
          ],
          [
           8,
           1,
           8
          ],
          [
           9,
           1,
           9
          ],
          [
           10,
           1,
           10
          ],
          [
           1,
           2,
           2
          ],
          [
           2,
           2,
           3
          ],
          [
           3,
           2,
           4
          ],
          [
           4,
           2,
           5
          ],
          [
           5,
           2,
           6
          ],
          [
           6,
           2,
           7
          ],
          [
           7,
           2,
           8
          ],
          [
           8,
           2,
           9
          ],
          [
           9,
           2,
           10
          ],
          [
           1,
           3,
           3
          ],
          [
           2,
           3,
           4
          ],
          [
           3,
           3,
           5
          ],
          [
           4,
           3,
           6
          ],
          [
           5,
           3,
           7
          ],
          [
           6,
           3,
           8
          ],
          [
           7,
           3,
           9
          ],
          [
           8,
           3,
           10
          ],
          [
           1,
           4,
           4
          ],
          [
           2,
           4,
           5
          ],
          [
           3,
           4,
           6
          ],
          [
           4,
           4,
           7
          ],
          [
           5,
           4,
           8
          ],
          [
           6,
           4,
           9
          ],
          [
           7,
           4,
           10
          ],
          [
           1,
           5,
           5
          ],
          [
           2,
           5,
           6
          ],
          [
           3,
           5,
           7
          ],
          [
           4,
           5,
           8
          ],
          [
           5,
           5,
           9
          ],
          [
           6,
           5,
           10
          ],
          [
           1,
           6,
           6
          ],
          [
           2,
           6,
           7
          ],
          [
           3,
           6,
           8
          ],
          [
           4,
           6,
           9
          ],
          [
           5,
           6,
           10
          ],
          [
           1,
           7,
           7
          ],
          [
           2,
           7,
           8
          ],
          [
           3,
           7,
           9
          ],
          [
           4,
           7,
           10
          ],
          [
           1,
           8,
           8
          ],
          [
           2,
           8,
           9
          ],
          [
           3,
           8,
           10
          ],
          [
           1,
           9,
           9
          ],
          [
           2,
           9,
           10
          ],
          [
           1,
           10,
           10
          ]
         ],
         "hovertemplate": "<b>Observed: </b> %{y:.2f}<br><b>Theoretical: </b> %{x:.2f} <br><b>Acc: </b> %{customdata[0]}<br><b>Dev: </b> %{customdata[1]}<br><b>Cal: </b> %{customdata[2]}",
         "marker": {
          "opacity": 0.5,
          "size": 8
         },
         "mode": "markers",
         "name": "Observed",
         "type": "scatter",
         "x": [
          -462.9912908189678,
          -377.82613712677175,
          -331.5623782002212,
          -298.2438786911318,
          -271.5987533295611,
          -249.06417715237737,
          -229.32697265481804,
          -211.61925480293363,
          -195.45075585635777,
          -180.48804117861823,
          -166.49320900229154,
          -153.2899765033188,
          -140.74363023633632,
          -128.7485303685865,
          -117.21997915894744,
          -106.08873484015139,
          -95.29719438766692,
          -84.79666521811288,
          -74.54536806329774,
          -64.50694294390854,
          -54.64930854605776,
          -44.94377413652668,
          -35.36433438489676,
          -25.887097887267835,
          -16.48981379106865,
          -7.151470102061131,
          2.148056511480169,
          11.428315394532797,
          20.708574277585484,
          30.00810089112678,
          39.346444580134296,
          48.74372867633348,
          58.220965173962405,
          67.8004049255923,
          77.50593933512337,
          87.36357373297416,
          97.40199885236335,
          107.65329600717855,
          118.1538251767326,
          128.94536562921706,
          140.0766099480131,
          151.60516115765216,
          163.60026102540195,
          176.14660729238446,
          189.34983979135725,
          203.34467196768395,
          218.3073866454235,
          234.47588559199937,
          252.18360344388373,
          271.92080794144306,
          294.45538411862685,
          321.10050948019733,
          354.4190089892868,
          400.6827679158377,
          485.84792160803335
         ],
         "y": [
          -381.05475325907076,
          -363.74258609082676,
          -355.69983038061093,
          -334.1253941162603,
          -329.85948785489154,
          -300.9688736351381,
          -200.0705653423153,
          -162.7072802146449,
          -160.72540344231345,
          -158.0315631602076,
          -147.76217742583745,
          -141.04626384816783,
          -138.50582027497117,
          -128.34791798772514,
          -99.05245412736099,
          -82.76427973094268,
          -77.51373323519692,
          -77.0870062125612,
          -72.66658284127625,
          -54.543777218865685,
          -53.23936598563479,
          -49.95190918617113,
          -49.1955396270303,
          -24.615959874999902,
          -10.701876545476894,
          -8.082759153665105,
          -0.006008961387148929,
          0.02678368641526196,
          3.2562148532187645,
          45.11805431004727,
          49.28709602509491,
          50.217535149138854,
          56.58011715442782,
          58.79370713940056,
          65.95472823970773,
          78.90367302153881,
          86.66044160761577,
          89.7798716919909,
          101.17362970455731,
          108.83209272999201,
          124.53184190018847,
          126.734214904169,
          131.52886495140032,
          140.09664796308965,
          149.64387674544048,
          179.6124462410976,
          179.70638474998754,
          207.46234410671218,
          208.0513657667593,
          253.6282072553818,
          296.3774517686872,
          320.821966603719,
          442.5377156580148,
          457.24844033917503,
          578.0608021658858
         ]
        },
        {
         "line": {
          "color": "black",
          "dash": "dashdot",
          "width": 3
         },
         "mode": "lines",
         "name": "Expected",
         "type": "scatter",
         "x": [
          -462.9912908189678,
          -377.82613712677175,
          -331.5623782002212,
          -298.2438786911318,
          -271.5987533295611,
          -249.06417715237737,
          -229.32697265481804,
          -211.61925480293363,
          -195.45075585635777,
          -180.48804117861823,
          -166.49320900229154,
          -153.2899765033188,
          -140.74363023633632,
          -128.7485303685865,
          -117.21997915894744,
          -106.08873484015139,
          -95.29719438766692,
          -84.79666521811288,
          -74.54536806329774,
          -64.50694294390854,
          -54.64930854605776,
          -44.94377413652668,
          -35.36433438489676,
          -25.887097887267835,
          -16.48981379106865,
          -7.151470102061131,
          2.148056511480169,
          11.428315394532797,
          20.708574277585484,
          30.00810089112678,
          39.346444580134296,
          48.74372867633348,
          58.220965173962405,
          67.8004049255923,
          77.50593933512337,
          87.36357373297416,
          97.40199885236335,
          107.65329600717855,
          118.1538251767326,
          128.94536562921706,
          140.0766099480131,
          151.60516115765216,
          163.60026102540195,
          176.14660729238446,
          189.34983979135725,
          203.34467196768395,
          218.3073866454235,
          234.47588559199937,
          252.18360344388373,
          271.92080794144306,
          294.45538411862685,
          321.10050948019733,
          354.4190089892868,
          400.6827679158377,
          485.84792160803335
         ],
         "y": [
          -462.9912908189678,
          -377.82613712677175,
          -331.5623782002212,
          -298.2438786911318,
          -271.5987533295611,
          -249.06417715237737,
          -229.32697265481804,
          -211.61925480293363,
          -195.45075585635777,
          -180.48804117861823,
          -166.49320900229154,
          -153.2899765033188,
          -140.74363023633632,
          -128.7485303685865,
          -117.21997915894744,
          -106.08873484015139,
          -95.29719438766692,
          -84.79666521811288,
          -74.54536806329774,
          -64.50694294390854,
          -54.64930854605776,
          -44.94377413652668,
          -35.36433438489676,
          -25.887097887267835,
          -16.48981379106865,
          -7.151470102061131,
          2.148056511480169,
          11.428315394532797,
          20.708574277585484,
          30.00810089112678,
          39.346444580134296,
          48.74372867633348,
          58.220965173962405,
          67.8004049255923,
          77.50593933512337,
          87.36357373297416,
          97.40199885236335,
          107.65329600717855,
          118.1538251767326,
          128.94536562921706,
          140.0766099480131,
          151.60516115765216,
          163.60026102540195,
          176.14660729238446,
          189.34983979135725,
          203.34467196768395,
          218.3073866454235,
          234.47588559199937,
          252.18360344388373,
          271.92080794144306,
          294.45538411862685,
          321.10050948019733,
          354.4190089892868,
          400.6827679158377,
          485.84792160803335
         ]
        }
       ],
       "layout": {
        "template": {
         "data": {
          "bar": [
           {
            "error_x": {
             "color": "#2a3f5f"
            },
            "error_y": {
             "color": "#2a3f5f"
            },
            "marker": {
             "line": {
              "color": "#E5ECF6",
              "width": 0.5
             },
             "pattern": {
              "fillmode": "overlay",
              "size": 10,
              "solidity": 0.2
             }
            },
            "type": "bar"
           }
          ],
          "barpolar": [
           {
            "marker": {
             "line": {
              "color": "#E5ECF6",
              "width": 0.5
             },
             "pattern": {
              "fillmode": "overlay",
              "size": 10,
              "solidity": 0.2
             }
            },
            "type": "barpolar"
           }
          ],
          "carpet": [
           {
            "aaxis": {
             "endlinecolor": "#2a3f5f",
             "gridcolor": "white",
             "linecolor": "white",
             "minorgridcolor": "white",
             "startlinecolor": "#2a3f5f"
            },
            "baxis": {
             "endlinecolor": "#2a3f5f",
             "gridcolor": "white",
             "linecolor": "white",
             "minorgridcolor": "white",
             "startlinecolor": "#2a3f5f"
            },
            "type": "carpet"
           }
          ],
          "choropleth": [
           {
            "colorbar": {
             "outlinewidth": 0,
             "ticks": ""
            },
            "type": "choropleth"
           }
          ],
          "contour": [
           {
            "colorbar": {
             "outlinewidth": 0,
             "ticks": ""
            },
            "colorscale": [
             [
              0,
              "#0d0887"
             ],
             [
              0.1111111111111111,
              "#46039f"
             ],
             [
              0.2222222222222222,
              "#7201a8"
             ],
             [
              0.3333333333333333,
              "#9c179e"
             ],
             [
              0.4444444444444444,
              "#bd3786"
             ],
             [
              0.5555555555555556,
              "#d8576b"
             ],
             [
              0.6666666666666666,
              "#ed7953"
             ],
             [
              0.7777777777777778,
              "#fb9f3a"
             ],
             [
              0.8888888888888888,
              "#fdca26"
             ],
             [
              1,
              "#f0f921"
             ]
            ],
            "type": "contour"
           }
          ],
          "contourcarpet": [
           {
            "colorbar": {
             "outlinewidth": 0,
             "ticks": ""
            },
            "type": "contourcarpet"
           }
          ],
          "heatmap": [
           {
            "colorbar": {
             "outlinewidth": 0,
             "ticks": ""
            },
            "colorscale": [
             [
              0,
              "#0d0887"
             ],
             [
              0.1111111111111111,
              "#46039f"
             ],
             [
              0.2222222222222222,
              "#7201a8"
             ],
             [
              0.3333333333333333,
              "#9c179e"
             ],
             [
              0.4444444444444444,
              "#bd3786"
             ],
             [
              0.5555555555555556,
              "#d8576b"
             ],
             [
              0.6666666666666666,
              "#ed7953"
             ],
             [
              0.7777777777777778,
              "#fb9f3a"
             ],
             [
              0.8888888888888888,
              "#fdca26"
             ],
             [
              1,
              "#f0f921"
             ]
            ],
            "type": "heatmap"
           }
          ],
          "heatmapgl": [
           {
            "colorbar": {
             "outlinewidth": 0,
             "ticks": ""
            },
            "colorscale": [
             [
              0,
              "#0d0887"
             ],
             [
              0.1111111111111111,
              "#46039f"
             ],
             [
              0.2222222222222222,
              "#7201a8"
             ],
             [
              0.3333333333333333,
              "#9c179e"
             ],
             [
              0.4444444444444444,
              "#bd3786"
             ],
             [
              0.5555555555555556,
              "#d8576b"
             ],
             [
              0.6666666666666666,
              "#ed7953"
             ],
             [
              0.7777777777777778,
              "#fb9f3a"
             ],
             [
              0.8888888888888888,
              "#fdca26"
             ],
             [
              1,
              "#f0f921"
             ]
            ],
            "type": "heatmapgl"
           }
          ],
          "histogram": [
           {
            "marker": {
             "pattern": {
              "fillmode": "overlay",
              "size": 10,
              "solidity": 0.2
             }
            },
            "type": "histogram"
           }
          ],
          "histogram2d": [
           {
            "colorbar": {
             "outlinewidth": 0,
             "ticks": ""
            },
            "colorscale": [
             [
              0,
              "#0d0887"
             ],
             [
              0.1111111111111111,
              "#46039f"
             ],
             [
              0.2222222222222222,
              "#7201a8"
             ],
             [
              0.3333333333333333,
              "#9c179e"
             ],
             [
              0.4444444444444444,
              "#bd3786"
             ],
             [
              0.5555555555555556,
              "#d8576b"
             ],
             [
              0.6666666666666666,
              "#ed7953"
             ],
             [
              0.7777777777777778,
              "#fb9f3a"
             ],
             [
              0.8888888888888888,
              "#fdca26"
             ],
             [
              1,
              "#f0f921"
             ]
            ],
            "type": "histogram2d"
           }
          ],
          "histogram2dcontour": [
           {
            "colorbar": {
             "outlinewidth": 0,
             "ticks": ""
            },
            "colorscale": [
             [
              0,
              "#0d0887"
             ],
             [
              0.1111111111111111,
              "#46039f"
             ],
             [
              0.2222222222222222,
              "#7201a8"
             ],
             [
              0.3333333333333333,
              "#9c179e"
             ],
             [
              0.4444444444444444,
              "#bd3786"
             ],
             [
              0.5555555555555556,
              "#d8576b"
             ],
             [
              0.6666666666666666,
              "#ed7953"
             ],
             [
              0.7777777777777778,
              "#fb9f3a"
             ],
             [
              0.8888888888888888,
              "#fdca26"
             ],
             [
              1,
              "#f0f921"
             ]
            ],
            "type": "histogram2dcontour"
           }
          ],
          "mesh3d": [
           {
            "colorbar": {
             "outlinewidth": 0,
             "ticks": ""
            },
            "type": "mesh3d"
           }
          ],
          "parcoords": [
           {
            "line": {
             "colorbar": {
              "outlinewidth": 0,
              "ticks": ""
             }
            },
            "type": "parcoords"
           }
          ],
          "pie": [
           {
            "automargin": true,
            "type": "pie"
           }
          ],
          "scatter": [
           {
            "fillpattern": {
             "fillmode": "overlay",
             "size": 10,
             "solidity": 0.2
            },
            "type": "scatter"
           }
          ],
          "scatter3d": [
           {
            "line": {
             "colorbar": {
              "outlinewidth": 0,
              "ticks": ""
             }
            },
            "marker": {
             "colorbar": {
              "outlinewidth": 0,
              "ticks": ""
             }
            },
            "type": "scatter3d"
           }
          ],
          "scattercarpet": [
           {
            "marker": {
             "colorbar": {
              "outlinewidth": 0,
              "ticks": ""
             }
            },
            "type": "scattercarpet"
           }
          ],
          "scattergeo": [
           {
            "marker": {
             "colorbar": {
              "outlinewidth": 0,
              "ticks": ""
             }
            },
            "type": "scattergeo"
           }
          ],
          "scattergl": [
           {
            "marker": {
             "colorbar": {
              "outlinewidth": 0,
              "ticks": ""
             }
            },
            "type": "scattergl"
           }
          ],
          "scattermapbox": [
           {
            "marker": {
             "colorbar": {
              "outlinewidth": 0,
              "ticks": ""
             }
            },
            "type": "scattermapbox"
           }
          ],
          "scatterpolar": [
           {
            "marker": {
             "colorbar": {
              "outlinewidth": 0,
              "ticks": ""
             }
            },
            "type": "scatterpolar"
           }
          ],
          "scatterpolargl": [
           {
            "marker": {
             "colorbar": {
              "outlinewidth": 0,
              "ticks": ""
             }
            },
            "type": "scatterpolargl"
           }
          ],
          "scatterternary": [
           {
            "marker": {
             "colorbar": {
              "outlinewidth": 0,
              "ticks": ""
             }
            },
            "type": "scatterternary"
           }
          ],
          "surface": [
           {
            "colorbar": {
             "outlinewidth": 0,
             "ticks": ""
            },
            "colorscale": [
             [
              0,
              "#0d0887"
             ],
             [
              0.1111111111111111,
              "#46039f"
             ],
             [
              0.2222222222222222,
              "#7201a8"
             ],
             [
              0.3333333333333333,
              "#9c179e"
             ],
             [
              0.4444444444444444,
              "#bd3786"
             ],
             [
              0.5555555555555556,
              "#d8576b"
             ],
             [
              0.6666666666666666,
              "#ed7953"
             ],
             [
              0.7777777777777778,
              "#fb9f3a"
             ],
             [
              0.8888888888888888,
              "#fdca26"
             ],
             [
              1,
              "#f0f921"
             ]
            ],
            "type": "surface"
           }
          ],
          "table": [
           {
            "cells": {
             "fill": {
              "color": "#EBF0F8"
             },
             "line": {
              "color": "white"
             }
            },
            "header": {
             "fill": {
              "color": "#C8D4E3"
             },
             "line": {
              "color": "white"
             }
            },
            "type": "table"
           }
          ]
         },
         "layout": {
          "annotationdefaults": {
           "arrowcolor": "#2a3f5f",
           "arrowhead": 0,
           "arrowwidth": 1
          },
          "autotypenumbers": "strict",
          "coloraxis": {
           "colorbar": {
            "outlinewidth": 0,
            "ticks": ""
           }
          },
          "colorscale": {
           "diverging": [
            [
             0,
             "#8e0152"
            ],
            [
             0.1,
             "#c51b7d"
            ],
            [
             0.2,
             "#de77ae"
            ],
            [
             0.3,
             "#f1b6da"
            ],
            [
             0.4,
             "#fde0ef"
            ],
            [
             0.5,
             "#f7f7f7"
            ],
            [
             0.6,
             "#e6f5d0"
            ],
            [
             0.7,
             "#b8e186"
            ],
            [
             0.8,
             "#7fbc41"
            ],
            [
             0.9,
             "#4d9221"
            ],
            [
             1,
             "#276419"
            ]
           ],
           "sequential": [
            [
             0,
             "#0d0887"
            ],
            [
             0.1111111111111111,
             "#46039f"
            ],
            [
             0.2222222222222222,
             "#7201a8"
            ],
            [
             0.3333333333333333,
             "#9c179e"
            ],
            [
             0.4444444444444444,
             "#bd3786"
            ],
            [
             0.5555555555555556,
             "#d8576b"
            ],
            [
             0.6666666666666666,
             "#ed7953"
            ],
            [
             0.7777777777777778,
             "#fb9f3a"
            ],
            [
             0.8888888888888888,
             "#fdca26"
            ],
            [
             1,
             "#f0f921"
            ]
           ],
           "sequentialminus": [
            [
             0,
             "#0d0887"
            ],
            [
             0.1111111111111111,
             "#46039f"
            ],
            [
             0.2222222222222222,
             "#7201a8"
            ],
            [
             0.3333333333333333,
             "#9c179e"
            ],
            [
             0.4444444444444444,
             "#bd3786"
            ],
            [
             0.5555555555555556,
             "#d8576b"
            ],
            [
             0.6666666666666666,
             "#ed7953"
            ],
            [
             0.7777777777777778,
             "#fb9f3a"
            ],
            [
             0.8888888888888888,
             "#fdca26"
            ],
            [
             1,
             "#f0f921"
            ]
           ]
          },
          "colorway": [
           "#636efa",
           "#EF553B",
           "#00cc96",
           "#ab63fa",
           "#FFA15A",
           "#19d3f3",
           "#FF6692",
           "#B6E880",
           "#FF97FF",
           "#FECB52"
          ],
          "font": {
           "color": "#2a3f5f"
          },
          "geo": {
           "bgcolor": "white",
           "lakecolor": "white",
           "landcolor": "#E5ECF6",
           "showlakes": true,
           "showland": true,
           "subunitcolor": "white"
          },
          "hoverlabel": {
           "align": "left"
          },
          "hovermode": "closest",
          "mapbox": {
           "style": "light"
          },
          "paper_bgcolor": "white",
          "plot_bgcolor": "#E5ECF6",
          "polar": {
           "angularaxis": {
            "gridcolor": "white",
            "linecolor": "white",
            "ticks": ""
           },
           "bgcolor": "#E5ECF6",
           "radialaxis": {
            "gridcolor": "white",
            "linecolor": "white",
            "ticks": ""
           }
          },
          "scene": {
           "xaxis": {
            "backgroundcolor": "#E5ECF6",
            "gridcolor": "white",
            "gridwidth": 2,
            "linecolor": "white",
            "showbackground": true,
            "ticks": "",
            "zerolinecolor": "white"
           },
           "yaxis": {
            "backgroundcolor": "#E5ECF6",
            "gridcolor": "white",
            "gridwidth": 2,
            "linecolor": "white",
            "showbackground": true,
            "ticks": "",
            "zerolinecolor": "white"
           },
           "zaxis": {
            "backgroundcolor": "#E5ECF6",
            "gridcolor": "white",
            "gridwidth": 2,
            "linecolor": "white",
            "showbackground": true,
            "ticks": "",
            "zerolinecolor": "white"
           }
          },
          "shapedefaults": {
           "line": {
            "color": "#2a3f5f"
           }
          },
          "ternary": {
           "aaxis": {
            "gridcolor": "white",
            "linecolor": "white",
            "ticks": ""
           },
           "baxis": {
            "gridcolor": "white",
            "linecolor": "white",
            "ticks": ""
           },
           "bgcolor": "#E5ECF6",
           "caxis": {
            "gridcolor": "white",
            "linecolor": "white",
            "ticks": ""
           }
          },
          "title": {
           "x": 0.05
          },
          "xaxis": {
           "automargin": true,
           "gridcolor": "white",
           "linecolor": "white",
           "ticks": "",
           "title": {
            "standoff": 15
           },
           "zerolinecolor": "white",
           "zerolinewidth": 2
          },
          "yaxis": {
           "automargin": true,
           "gridcolor": "white",
           "linecolor": "white",
           "ticks": "",
           "title": {
            "standoff": 15
           },
           "zerolinecolor": "white",
           "zerolinewidth": 2
          }
         }
        },
        "title": {
         "text": "QQ Plot of Pearson Residuals"
        },
        "xaxis": {
         "title": {
          "text": "Theoretical Quantiles"
         }
        },
        "yaxis": {
         "title": {
          "text": "Observed Quantiles"
         }
        }
       }
      }
     },
     "metadata": {},
     "output_type": "display_data"
    }
   ],
   "source": [
    "def qq_plot(df : pd.DataFrame\n",
    "           , residual_col : str\n",
    "           , title : str = None\n",
    "           , acc_col : str = None\n",
    "           , dev_col : str = None\n",
    "           , cal_col : str = None\n",
    "           , dist='norm'\n",
    "           ) -> go.Figure:\n",
    "    \n",
    "    if acc_col is None:\n",
    "        acc_col = 'ay'\n",
    "    if dev_col is None:\n",
    "        dev_col = 'dev'\n",
    "    if cal_col is None:\n",
    "        cal_col = 'cal'\n",
    "\n",
    "\n",
    "    residuals = df[residual_col]\n",
    "\n",
    "    # actual quantiles of the residuals\n",
    "    q1 = residuals.sort_values().reset_index(drop=True)\n",
    "\n",
    "    # theoretical quantiles\n",
    "    if dist == 'norm':\n",
    "        # normal distribution\n",
    "        q2 = scipy.stats.norm.ppf(np.linspace(0.01, 0.99, residuals.shape[0]), loc=residuals.mean(), scale=residuals.std())\n",
    "    elif dist == 't':\n",
    "        # t distribution\n",
    "        q2 = scipy.stats.t.ppf(np.linspace(0.01, 0.99, residuals.shape[0]), df=residuals.shape[0]-2, loc=residuals.mean(), scale=residuals.std())\n",
    "    else:\n",
    "        raise ValueError(f'Invalid distribution: {dist}. Must be \"norm\" or \"t\".')\n",
    "\n",
    "    # plotly qq plot\n",
    "    fig = go.Figure()\n",
    "    fig.add_trace(go.Scatter(x=q2, y=q1, mode='markers', name='Observed'))\n",
    "    fig.update_traces(mode='markers', marker=dict(size=8, opacity=0.5))\n",
    "    fig.update_layout(title=title or f'QQ Plot of {residuals.name}',\n",
    "                      xaxis_title='Theoretical Quantiles',\n",
    "                      yaxis_title='Observed Quantiles')\n",
    "    \n",
    "    # add customdata to hover\n",
    "    fig.update_traces(customdata=df[[acc_col, dev_col, cal_col]])\n",
    "    \n",
    "    # add hover text, using customdata\n",
    "    fig.update_traces(hovertemplate='<b>Observed: </b> %{y:.2f}<br><b>Theoretical: </b> %{x:.2f} <br><b>Acc: </b> %{customdata[0]}<br><b>Dev: </b> %{customdata[1]}<br><b>Cal: </b> %{customdata[2]}')\n",
    "    \n",
    "    # add line of equality\n",
    "    fig.add_trace(go.Scatter(x=q2, y=q2, mode='lines', name='Expected', line=dict(color='black', width=3, dash='dashdot')))\n",
    "\n",
    "    fig.show()\n",
    "\n",
    "qq_plot(testdf, 'Pearson Residuals')\n",
    "# sm.stats.descriptivestats.describe(testdf['Pearson Residuals']).round"
   ]
  },
  {
   "cell_type": "code",
   "execution_count": 130,
   "metadata": {},
   "outputs": [
    {
     "data": {
      "application/vnd.plotly.v1+json": {
       "config": {
        "plotlyServerURL": "https://plot.ly"
       },
       "data": [
        {
         "customdata": [
          [
           1,
           1,
           1
          ],
          [
           2,
           1,
           2
          ],
          [
           3,
           1,
           3
          ],
          [
           4,
           1,
           4
          ],
          [
           5,
           1,
           5
          ],
          [
           6,
           1,
           6
          ],
          [
           7,
           1,
           7
          ],
          [
           8,
           1,
           8
          ],
          [
           9,
           1,
           9
          ],
          [
           10,
           1,
           10
          ],
          [
           1,
           2,
           2
          ],
          [
           2,
           2,
           3
          ],
          [
           3,
           2,
           4
          ],
          [
           4,
           2,
           5
          ],
          [
           5,
           2,
           6
          ],
          [
           6,
           2,
           7
          ],
          [
           7,
           2,
           8
          ],
          [
           8,
           2,
           9
          ],
          [
           9,
           2,
           10
          ],
          [
           1,
           3,
           3
          ],
          [
           2,
           3,
           4
          ],
          [
           3,
           3,
           5
          ],
          [
           4,
           3,
           6
          ],
          [
           5,
           3,
           7
          ],
          [
           6,
           3,
           8
          ],
          [
           7,
           3,
           9
          ],
          [
           8,
           3,
           10
          ],
          [
           1,
           4,
           4
          ],
          [
           2,
           4,
           5
          ],
          [
           3,
           4,
           6
          ],
          [
           4,
           4,
           7
          ],
          [
           5,
           4,
           8
          ],
          [
           6,
           4,
           9
          ],
          [
           7,
           4,
           10
          ],
          [
           1,
           5,
           5
          ],
          [
           2,
           5,
           6
          ],
          [
           3,
           5,
           7
          ],
          [
           4,
           5,
           8
          ],
          [
           5,
           5,
           9
          ],
          [
           6,
           5,
           10
          ],
          [
           1,
           6,
           6
          ],
          [
           2,
           6,
           7
          ],
          [
           3,
           6,
           8
          ],
          [
           4,
           6,
           9
          ],
          [
           5,
           6,
           10
          ],
          [
           1,
           7,
           7
          ],
          [
           2,
           7,
           8
          ],
          [
           3,
           7,
           9
          ],
          [
           4,
           7,
           10
          ],
          [
           1,
           8,
           8
          ],
          [
           2,
           8,
           9
          ],
          [
           3,
           8,
           10
          ],
          [
           1,
           9,
           9
          ],
          [
           2,
           9,
           10
          ],
          [
           1,
           10,
           10
          ]
         ],
         "hovertemplate": "<b>Observed: </b> %{y:.2f}<br><b>Theoretical: </b> %{x:.2f} <br><b>Acc: </b> %{customdata[0]}<br><b>Dev: </b> %{customdata[1]}<br><b>Cal: </b> %{customdata[2]}",
         "marker": {
          "opacity": 0.5,
          "size": 8
         },
         "mode": "markers",
         "name": "Observed",
         "type": "scatter",
         "x": [
          -100743.43460854076,
          -75560.25310852018,
          -61880.143493133204,
          -52027.923611298684,
          -44149.00836274061,
          -37485.57505353661,
          -31649.319476972014,
          -26413.179421065288,
          -21632.183604089238,
          -17207.736008721782,
          -13069.489513769957,
          -9165.31760784796,
          -5455.385769464185,
          -1908.4564916497475,
          1500.515194045991,
          4792.003952634361,
          7983.042894006387,
          11088.030326764005,
          14119.320304744877,
          17087.664407893124,
          20002.549022545914,
          22872.457946485458,
          25705.080908755932,
          28507.482554163616,
          31286.24241946198,
          34047.573713242025,
          36797.42686820137,
          39541.582590197184,
          42285.73831219302,
          45035.59146715236,
          47796.9227609324,
          50575.682626230766,
          53378.08427163845,
          56210.70723390892,
          59080.61615784846,
          61995.500772501255,
          64963.84487564949,
          67995.13485363038,
          71100.12228638801,
          74291.16122776002,
          77582.64998634839,
          80991.62167204413,
          84538.55094985856,
          88248.48278824234,
          92152.65469416436,
          96290.90118911618,
          100715.34878448365,
          105496.3446014597,
          110732.48465736641,
          116568.740233931,
          123232.17354313502,
          131111.08879169304,
          140963.30867352762,
          154643.41828891466,
          179826.59978893513
         ],
         "y": [
          0.00003610774796847238,
          0.0007173524362968919,
          10.59043407255649,
          65.51388914066047,
          114.95293315846357,
          2390.4908529072854,
          2458.2498731124215,
          2458.6833492400183,
          2565.177478859019,
          2920.1380496694474,
          3066.1187898524877,
          3140.539228460533,
          3389.0342911914486,
          4164.884633213966,
          5416.406683553854,
          6038.925673478341,
          6266.9819858317205,
          7165.836720240695,
          7182.941236723753,
          7811.398466015438,
          9585.96917938524,
          14897.313680275256,
          16587.58496073255,
          17525.882920078177,
          18101.137439137732,
          20765.75359272785,
          20934.573681212525,
          23817.74402609651,
          26549.82420972758,
          27406.42592540069,
          28029.5602788229,
          29374.918184450245,
          30356.80281655985,
          38509.43612153956,
          39176.730511603295,
          43046.60576965107,
          56479.73641843442,
          77911.19809608033,
          113317.8458268865,
          125740.32892917295,
          154488.32865026838,
          171632.02181647753,
          172034.08797343262,
          183833.4347520126,
          252641.10547652468,
          null,
          null,
          null,
          null,
          null,
          null,
          null,
          null,
          null,
          null
         ]
        },
        {
         "line": {
          "color": "black",
          "dash": "dashdot",
          "width": 3
         },
         "mode": "lines",
         "name": "Expected",
         "type": "scatter",
         "x": [
          -100743.43460854076,
          -75560.25310852018,
          -61880.143493133204,
          -52027.923611298684,
          -44149.00836274061,
          -37485.57505353661,
          -31649.319476972014,
          -26413.179421065288,
          -21632.183604089238,
          -17207.736008721782,
          -13069.489513769957,
          -9165.31760784796,
          -5455.385769464185,
          -1908.4564916497475,
          1500.515194045991,
          4792.003952634361,
          7983.042894006387,
          11088.030326764005,
          14119.320304744877,
          17087.664407893124,
          20002.549022545914,
          22872.457946485458,
          25705.080908755932,
          28507.482554163616,
          31286.24241946198,
          34047.573713242025,
          36797.42686820137,
          39541.582590197184,
          42285.73831219302,
          45035.59146715236,
          47796.9227609324,
          50575.682626230766,
          53378.08427163845,
          56210.70723390892,
          59080.61615784846,
          61995.500772501255,
          64963.84487564949,
          67995.13485363038,
          71100.12228638801,
          74291.16122776002,
          77582.64998634839,
          80991.62167204413,
          84538.55094985856,
          88248.48278824234,
          92152.65469416436,
          96290.90118911618,
          100715.34878448365,
          105496.3446014597,
          110732.48465736641,
          116568.740233931,
          123232.17354313502,
          131111.08879169304,
          140963.30867352762,
          154643.41828891466,
          179826.59978893513
         ],
         "y": [
          -100743.43460854076,
          -75560.25310852018,
          -61880.143493133204,
          -52027.923611298684,
          -44149.00836274061,
          -37485.57505353661,
          -31649.319476972014,
          -26413.179421065288,
          -21632.183604089238,
          -17207.736008721782,
          -13069.489513769957,
          -9165.31760784796,
          -5455.385769464185,
          -1908.4564916497475,
          1500.515194045991,
          4792.003952634361,
          7983.042894006387,
          11088.030326764005,
          14119.320304744877,
          17087.664407893124,
          20002.549022545914,
          22872.457946485458,
          25705.080908755932,
          28507.482554163616,
          31286.24241946198,
          34047.573713242025,
          36797.42686820137,
          39541.582590197184,
          42285.73831219302,
          45035.59146715236,
          47796.9227609324,
          50575.682626230766,
          53378.08427163845,
          56210.70723390892,
          59080.61615784846,
          61995.500772501255,
          64963.84487564949,
          67995.13485363038,
          71100.12228638801,
          74291.16122776002,
          77582.64998634839,
          80991.62167204413,
          84538.55094985856,
          88248.48278824234,
          92152.65469416436,
          96290.90118911618,
          100715.34878448365,
          105496.3446014597,
          110732.48465736641,
          116568.740233931,
          123232.17354313502,
          131111.08879169304,
          140963.30867352762,
          154643.41828891466,
          179826.59978893513
         ]
        }
       ],
       "layout": {
        "template": {
         "data": {
          "bar": [
           {
            "error_x": {
             "color": "#2a3f5f"
            },
            "error_y": {
             "color": "#2a3f5f"
            },
            "marker": {
             "line": {
              "color": "#E5ECF6",
              "width": 0.5
             },
             "pattern": {
              "fillmode": "overlay",
              "size": 10,
              "solidity": 0.2
             }
            },
            "type": "bar"
           }
          ],
          "barpolar": [
           {
            "marker": {
             "line": {
              "color": "#E5ECF6",
              "width": 0.5
             },
             "pattern": {
              "fillmode": "overlay",
              "size": 10,
              "solidity": 0.2
             }
            },
            "type": "barpolar"
           }
          ],
          "carpet": [
           {
            "aaxis": {
             "endlinecolor": "#2a3f5f",
             "gridcolor": "white",
             "linecolor": "white",
             "minorgridcolor": "white",
             "startlinecolor": "#2a3f5f"
            },
            "baxis": {
             "endlinecolor": "#2a3f5f",
             "gridcolor": "white",
             "linecolor": "white",
             "minorgridcolor": "white",
             "startlinecolor": "#2a3f5f"
            },
            "type": "carpet"
           }
          ],
          "choropleth": [
           {
            "colorbar": {
             "outlinewidth": 0,
             "ticks": ""
            },
            "type": "choropleth"
           }
          ],
          "contour": [
           {
            "colorbar": {
             "outlinewidth": 0,
             "ticks": ""
            },
            "colorscale": [
             [
              0,
              "#0d0887"
             ],
             [
              0.1111111111111111,
              "#46039f"
             ],
             [
              0.2222222222222222,
              "#7201a8"
             ],
             [
              0.3333333333333333,
              "#9c179e"
             ],
             [
              0.4444444444444444,
              "#bd3786"
             ],
             [
              0.5555555555555556,
              "#d8576b"
             ],
             [
              0.6666666666666666,
              "#ed7953"
             ],
             [
              0.7777777777777778,
              "#fb9f3a"
             ],
             [
              0.8888888888888888,
              "#fdca26"
             ],
             [
              1,
              "#f0f921"
             ]
            ],
            "type": "contour"
           }
          ],
          "contourcarpet": [
           {
            "colorbar": {
             "outlinewidth": 0,
             "ticks": ""
            },
            "type": "contourcarpet"
           }
          ],
          "heatmap": [
           {
            "colorbar": {
             "outlinewidth": 0,
             "ticks": ""
            },
            "colorscale": [
             [
              0,
              "#0d0887"
             ],
             [
              0.1111111111111111,
              "#46039f"
             ],
             [
              0.2222222222222222,
              "#7201a8"
             ],
             [
              0.3333333333333333,
              "#9c179e"
             ],
             [
              0.4444444444444444,
              "#bd3786"
             ],
             [
              0.5555555555555556,
              "#d8576b"
             ],
             [
              0.6666666666666666,
              "#ed7953"
             ],
             [
              0.7777777777777778,
              "#fb9f3a"
             ],
             [
              0.8888888888888888,
              "#fdca26"
             ],
             [
              1,
              "#f0f921"
             ]
            ],
            "type": "heatmap"
           }
          ],
          "heatmapgl": [
           {
            "colorbar": {
             "outlinewidth": 0,
             "ticks": ""
            },
            "colorscale": [
             [
              0,
              "#0d0887"
             ],
             [
              0.1111111111111111,
              "#46039f"
             ],
             [
              0.2222222222222222,
              "#7201a8"
             ],
             [
              0.3333333333333333,
              "#9c179e"
             ],
             [
              0.4444444444444444,
              "#bd3786"
             ],
             [
              0.5555555555555556,
              "#d8576b"
             ],
             [
              0.6666666666666666,
              "#ed7953"
             ],
             [
              0.7777777777777778,
              "#fb9f3a"
             ],
             [
              0.8888888888888888,
              "#fdca26"
             ],
             [
              1,
              "#f0f921"
             ]
            ],
            "type": "heatmapgl"
           }
          ],
          "histogram": [
           {
            "marker": {
             "pattern": {
              "fillmode": "overlay",
              "size": 10,
              "solidity": 0.2
             }
            },
            "type": "histogram"
           }
          ],
          "histogram2d": [
           {
            "colorbar": {
             "outlinewidth": 0,
             "ticks": ""
            },
            "colorscale": [
             [
              0,
              "#0d0887"
             ],
             [
              0.1111111111111111,
              "#46039f"
             ],
             [
              0.2222222222222222,
              "#7201a8"
             ],
             [
              0.3333333333333333,
              "#9c179e"
             ],
             [
              0.4444444444444444,
              "#bd3786"
             ],
             [
              0.5555555555555556,
              "#d8576b"
             ],
             [
              0.6666666666666666,
              "#ed7953"
             ],
             [
              0.7777777777777778,
              "#fb9f3a"
             ],
             [
              0.8888888888888888,
              "#fdca26"
             ],
             [
              1,
              "#f0f921"
             ]
            ],
            "type": "histogram2d"
           }
          ],
          "histogram2dcontour": [
           {
            "colorbar": {
             "outlinewidth": 0,
             "ticks": ""
            },
            "colorscale": [
             [
              0,
              "#0d0887"
             ],
             [
              0.1111111111111111,
              "#46039f"
             ],
             [
              0.2222222222222222,
              "#7201a8"
             ],
             [
              0.3333333333333333,
              "#9c179e"
             ],
             [
              0.4444444444444444,
              "#bd3786"
             ],
             [
              0.5555555555555556,
              "#d8576b"
             ],
             [
              0.6666666666666666,
              "#ed7953"
             ],
             [
              0.7777777777777778,
              "#fb9f3a"
             ],
             [
              0.8888888888888888,
              "#fdca26"
             ],
             [
              1,
              "#f0f921"
             ]
            ],
            "type": "histogram2dcontour"
           }
          ],
          "mesh3d": [
           {
            "colorbar": {
             "outlinewidth": 0,
             "ticks": ""
            },
            "type": "mesh3d"
           }
          ],
          "parcoords": [
           {
            "line": {
             "colorbar": {
              "outlinewidth": 0,
              "ticks": ""
             }
            },
            "type": "parcoords"
           }
          ],
          "pie": [
           {
            "automargin": true,
            "type": "pie"
           }
          ],
          "scatter": [
           {
            "fillpattern": {
             "fillmode": "overlay",
             "size": 10,
             "solidity": 0.2
            },
            "type": "scatter"
           }
          ],
          "scatter3d": [
           {
            "line": {
             "colorbar": {
              "outlinewidth": 0,
              "ticks": ""
             }
            },
            "marker": {
             "colorbar": {
              "outlinewidth": 0,
              "ticks": ""
             }
            },
            "type": "scatter3d"
           }
          ],
          "scattercarpet": [
           {
            "marker": {
             "colorbar": {
              "outlinewidth": 0,
              "ticks": ""
             }
            },
            "type": "scattercarpet"
           }
          ],
          "scattergeo": [
           {
            "marker": {
             "colorbar": {
              "outlinewidth": 0,
              "ticks": ""
             }
            },
            "type": "scattergeo"
           }
          ],
          "scattergl": [
           {
            "marker": {
             "colorbar": {
              "outlinewidth": 0,
              "ticks": ""
             }
            },
            "type": "scattergl"
           }
          ],
          "scattermapbox": [
           {
            "marker": {
             "colorbar": {
              "outlinewidth": 0,
              "ticks": ""
             }
            },
            "type": "scattermapbox"
           }
          ],
          "scatterpolar": [
           {
            "marker": {
             "colorbar": {
              "outlinewidth": 0,
              "ticks": ""
             }
            },
            "type": "scatterpolar"
           }
          ],
          "scatterpolargl": [
           {
            "marker": {
             "colorbar": {
              "outlinewidth": 0,
              "ticks": ""
             }
            },
            "type": "scatterpolargl"
           }
          ],
          "scatterternary": [
           {
            "marker": {
             "colorbar": {
              "outlinewidth": 0,
              "ticks": ""
             }
            },
            "type": "scatterternary"
           }
          ],
          "surface": [
           {
            "colorbar": {
             "outlinewidth": 0,
             "ticks": ""
            },
            "colorscale": [
             [
              0,
              "#0d0887"
             ],
             [
              0.1111111111111111,
              "#46039f"
             ],
             [
              0.2222222222222222,
              "#7201a8"
             ],
             [
              0.3333333333333333,
              "#9c179e"
             ],
             [
              0.4444444444444444,
              "#bd3786"
             ],
             [
              0.5555555555555556,
              "#d8576b"
             ],
             [
              0.6666666666666666,
              "#ed7953"
             ],
             [
              0.7777777777777778,
              "#fb9f3a"
             ],
             [
              0.8888888888888888,
              "#fdca26"
             ],
             [
              1,
              "#f0f921"
             ]
            ],
            "type": "surface"
           }
          ],
          "table": [
           {
            "cells": {
             "fill": {
              "color": "#EBF0F8"
             },
             "line": {
              "color": "white"
             }
            },
            "header": {
             "fill": {
              "color": "#C8D4E3"
             },
             "line": {
              "color": "white"
             }
            },
            "type": "table"
           }
          ]
         },
         "layout": {
          "annotationdefaults": {
           "arrowcolor": "#2a3f5f",
           "arrowhead": 0,
           "arrowwidth": 1
          },
          "autotypenumbers": "strict",
          "coloraxis": {
           "colorbar": {
            "outlinewidth": 0,
            "ticks": ""
           }
          },
          "colorscale": {
           "diverging": [
            [
             0,
             "#8e0152"
            ],
            [
             0.1,
             "#c51b7d"
            ],
            [
             0.2,
             "#de77ae"
            ],
            [
             0.3,
             "#f1b6da"
            ],
            [
             0.4,
             "#fde0ef"
            ],
            [
             0.5,
             "#f7f7f7"
            ],
            [
             0.6,
             "#e6f5d0"
            ],
            [
             0.7,
             "#b8e186"
            ],
            [
             0.8,
             "#7fbc41"
            ],
            [
             0.9,
             "#4d9221"
            ],
            [
             1,
             "#276419"
            ]
           ],
           "sequential": [
            [
             0,
             "#0d0887"
            ],
            [
             0.1111111111111111,
             "#46039f"
            ],
            [
             0.2222222222222222,
             "#7201a8"
            ],
            [
             0.3333333333333333,
             "#9c179e"
            ],
            [
             0.4444444444444444,
             "#bd3786"
            ],
            [
             0.5555555555555556,
             "#d8576b"
            ],
            [
             0.6666666666666666,
             "#ed7953"
            ],
            [
             0.7777777777777778,
             "#fb9f3a"
            ],
            [
             0.8888888888888888,
             "#fdca26"
            ],
            [
             1,
             "#f0f921"
            ]
           ],
           "sequentialminus": [
            [
             0,
             "#0d0887"
            ],
            [
             0.1111111111111111,
             "#46039f"
            ],
            [
             0.2222222222222222,
             "#7201a8"
            ],
            [
             0.3333333333333333,
             "#9c179e"
            ],
            [
             0.4444444444444444,
             "#bd3786"
            ],
            [
             0.5555555555555556,
             "#d8576b"
            ],
            [
             0.6666666666666666,
             "#ed7953"
            ],
            [
             0.7777777777777778,
             "#fb9f3a"
            ],
            [
             0.8888888888888888,
             "#fdca26"
            ],
            [
             1,
             "#f0f921"
            ]
           ]
          },
          "colorway": [
           "#636efa",
           "#EF553B",
           "#00cc96",
           "#ab63fa",
           "#FFA15A",
           "#19d3f3",
           "#FF6692",
           "#B6E880",
           "#FF97FF",
           "#FECB52"
          ],
          "font": {
           "color": "#2a3f5f"
          },
          "geo": {
           "bgcolor": "white",
           "lakecolor": "white",
           "landcolor": "#E5ECF6",
           "showlakes": true,
           "showland": true,
           "subunitcolor": "white"
          },
          "hoverlabel": {
           "align": "left"
          },
          "hovermode": "closest",
          "mapbox": {
           "style": "light"
          },
          "paper_bgcolor": "white",
          "plot_bgcolor": "#E5ECF6",
          "polar": {
           "angularaxis": {
            "gridcolor": "white",
            "linecolor": "white",
            "ticks": ""
           },
           "bgcolor": "#E5ECF6",
           "radialaxis": {
            "gridcolor": "white",
            "linecolor": "white",
            "ticks": ""
           }
          },
          "scene": {
           "xaxis": {
            "backgroundcolor": "#E5ECF6",
            "gridcolor": "white",
            "gridwidth": 2,
            "linecolor": "white",
            "showbackground": true,
            "ticks": "",
            "zerolinecolor": "white"
           },
           "yaxis": {
            "backgroundcolor": "#E5ECF6",
            "gridcolor": "white",
            "gridwidth": 2,
            "linecolor": "white",
            "showbackground": true,
            "ticks": "",
            "zerolinecolor": "white"
           },
           "zaxis": {
            "backgroundcolor": "#E5ECF6",
            "gridcolor": "white",
            "gridwidth": 2,
            "linecolor": "white",
            "showbackground": true,
            "ticks": "",
            "zerolinecolor": "white"
           }
          },
          "shapedefaults": {
           "line": {
            "color": "#2a3f5f"
           }
          },
          "ternary": {
           "aaxis": {
            "gridcolor": "white",
            "linecolor": "white",
            "ticks": ""
           },
           "baxis": {
            "gridcolor": "white",
            "linecolor": "white",
            "ticks": ""
           },
           "bgcolor": "#E5ECF6",
           "caxis": {
            "gridcolor": "white",
            "linecolor": "white",
            "ticks": ""
           }
          },
          "title": {
           "x": 0.05
          },
          "xaxis": {
           "automargin": true,
           "gridcolor": "white",
           "linecolor": "white",
           "ticks": "",
           "title": {
            "standoff": 15
           },
           "zerolinecolor": "white",
           "zerolinewidth": 2
          },
          "yaxis": {
           "automargin": true,
           "gridcolor": "white",
           "linecolor": "white",
           "ticks": "",
           "title": {
            "standoff": 15
           },
           "zerolinecolor": "white",
           "zerolinewidth": 2
          }
         }
        },
        "title": {
         "text": "QQ Plot of Deviance Residuals"
        },
        "xaxis": {
         "title": {
          "text": "Theoretical Quantiles"
         }
        },
        "yaxis": {
         "title": {
          "text": "Observed Quantiles"
         }
        }
       }
      }
     },
     "metadata": {},
     "output_type": "display_data"
    }
   ],
   "source": [
    "qq_plot(testdf.loc[testdf['Deviance Residuals'].ne(0)], 'Deviance Residuals')"
   ]
  },
  {
   "cell_type": "code",
   "execution_count": 192,
   "metadata": {},
   "outputs": [
    {
     "data": {
      "application/vnd.plotly.v1+json": {
       "config": {
        "plotlyServerURL": "https://plot.ly"
       },
       "data": [
        {
         "customdata": [
          [
           1,
           1,
           1
          ],
          [
           2,
           1,
           2
          ],
          [
           3,
           1,
           3
          ],
          [
           4,
           1,
           4
          ],
          [
           5,
           1,
           5
          ],
          [
           6,
           1,
           6
          ],
          [
           7,
           1,
           7
          ],
          [
           8,
           1,
           8
          ],
          [
           9,
           1,
           9
          ],
          [
           10,
           1,
           10
          ],
          [
           1,
           2,
           2
          ],
          [
           2,
           2,
           3
          ],
          [
           3,
           2,
           4
          ],
          [
           4,
           2,
           5
          ],
          [
           5,
           2,
           6
          ],
          [
           6,
           2,
           7
          ],
          [
           7,
           2,
           8
          ],
          [
           8,
           2,
           9
          ],
          [
           9,
           2,
           10
          ],
          [
           1,
           3,
           3
          ],
          [
           2,
           3,
           4
          ],
          [
           3,
           3,
           5
          ],
          [
           4,
           3,
           6
          ],
          [
           5,
           3,
           7
          ],
          [
           6,
           3,
           8
          ],
          [
           7,
           3,
           9
          ],
          [
           8,
           3,
           10
          ],
          [
           1,
           4,
           4
          ],
          [
           2,
           4,
           5
          ],
          [
           3,
           4,
           6
          ],
          [
           4,
           4,
           7
          ],
          [
           5,
           4,
           8
          ],
          [
           6,
           4,
           9
          ],
          [
           7,
           4,
           10
          ],
          [
           1,
           5,
           5
          ],
          [
           2,
           5,
           6
          ],
          [
           3,
           5,
           7
          ],
          [
           4,
           5,
           8
          ],
          [
           5,
           5,
           9
          ],
          [
           6,
           5,
           10
          ],
          [
           1,
           6,
           6
          ],
          [
           2,
           6,
           7
          ],
          [
           3,
           6,
           8
          ],
          [
           4,
           6,
           9
          ],
          [
           5,
           6,
           10
          ],
          [
           1,
           7,
           7
          ],
          [
           2,
           7,
           8
          ],
          [
           3,
           7,
           9
          ],
          [
           4,
           7,
           10
          ],
          [
           1,
           8,
           8
          ],
          [
           2,
           8,
           9
          ],
          [
           3,
           8,
           10
          ],
          [
           1,
           9,
           9
          ],
          [
           2,
           9,
           10
          ],
          [
           1,
           10,
           10
          ]
         ],
         "hovertemplate": "<b>Observed: </b> %{y:.2f}<br><b>Theoretical: </b> %{x:.2f} <br><b>Acc: </b> %{customdata[0]}<br><b>Dev: </b> %{customdata[1]}<br><b>Cal: </b> %{customdata[2]}",
         "marker": {
          "opacity": 0.5,
          "size": 8
         },
         "mode": "markers",
         "name": "Observed",
         "type": "scatter",
         "x": [
          -562.346646358496,
          -452.5504753932732,
          -393.97474575262663,
          -352.18618756777767,
          -318.9806202733655,
          -291.031789634614,
          -266.6448752233014,
          -244.83318299078383,
          -224.96903427933165,
          -206.62686763914087,
          -189.50387669821095,
          -173.3762299728371,
          -158.07325387023167,
          -143.4613786943666,
          -129.43371294559716,
          -115.90302250583888,
          -102.79685398981111,
          -90.05405484705494,
          -77.62222991889192,
          -65.45584144993556,
          -53.51476052018006,
          -41.763140682710116,
          -30.168524718807532,
          -18.701121634979167,
          -7.333208466242347,
          3.9613767917647955,
          15.207676822924679,
          26.43001152405188,
          37.65234622517912,
          48.898646256339,
          60.193231514346145,
          71.56114468308297,
          83.02854776691134,
          94.62316373081389,
          106.3747835682838,
          118.3158644980393,
          130.48225296699565,
          142.91407789515875,
          155.6568770379149,
          168.76304555394267,
          182.29373599370092,
          196.32140174247036,
          210.93327691833542,
          226.23625302094092,
          242.36389974631481,
          259.4868906872447,
          277.82905732743546,
          297.69320603888764,
          319.5048982714052,
          343.8918126827178,
          371.84064332146926,
          405.0462106158814,
          446.8347688007304,
          505.4104984413774,
          615.2066694065996
         ],
         "y": [
          -449.6796610107881,
          -438.2515418796777,
          -426.89503357084243,
          -394.32305948713196,
          -350.62247233720456,
          -242.44803137360066,
          -207.204075097014,
          -199.42998440861388,
          -191.04410933019525,
          -177.93186106466842,
          -164.38625067602024,
          -154.7845815640179,
          -150.28954789195797,
          -116.06268246300705,
          -97.15267420286563,
          -92.31504076493304,
          -90.90638451607995,
          -86.99656806967516,
          -64.90833923614572,
          -60.653098273217154,
          -59.063639969913886,
          -30.299810144373545,
          -12.833348725748909,
          -9.717396991963135,
          -0.007561359284234781,
          0.03636200113288651,
          3.9966098369270577,
          52.66393866231698,
          57.159305827575224,
          69.29321933493398,
          70.57274393542282,
          84.879378923789,
          92.38209619155371,
          96.71806376027172,
          110.08462474662919,
          111.98944834398972,
          129.9237932962212,
          132.79373112228086,
          150.65501056083457,
          152.8635042342995,
          155.52714543011635,
          167.7316505863433,
          182.65267822341195,
          199.35467311942634,
          217.47527813605822,
          236.507294699971,
          294.88967772484256,
          328.7786839587821,
          347.2778117000263,
          377.7134667811089,
          568.0103904400687,
          622.4565954428749,
          654.6101881624802,
          null,
          null
         ]
        },
        {
         "line": {
          "color": "black",
          "dash": "dashdot",
          "width": 3
         },
         "mode": "lines",
         "name": "Expected",
         "type": "scatter",
         "x": [
          -562.346646358496,
          -452.5504753932732,
          -393.97474575262663,
          -352.18618756777767,
          -318.9806202733655,
          -291.031789634614,
          -266.6448752233014,
          -244.83318299078383,
          -224.96903427933165,
          -206.62686763914087,
          -189.50387669821095,
          -173.3762299728371,
          -158.07325387023167,
          -143.4613786943666,
          -129.43371294559716,
          -115.90302250583888,
          -102.79685398981111,
          -90.05405484705494,
          -77.62222991889192,
          -65.45584144993556,
          -53.51476052018006,
          -41.763140682710116,
          -30.168524718807532,
          -18.701121634979167,
          -7.333208466242347,
          3.9613767917647955,
          15.207676822924679,
          26.43001152405188,
          37.65234622517912,
          48.898646256339,
          60.193231514346145,
          71.56114468308297,
          83.02854776691134,
          94.62316373081389,
          106.3747835682838,
          118.3158644980393,
          130.48225296699565,
          142.91407789515875,
          155.6568770379149,
          168.76304555394267,
          182.29373599370092,
          196.32140174247036,
          210.93327691833542,
          226.23625302094092,
          242.36389974631481,
          259.4868906872447,
          277.82905732743546,
          297.69320603888764,
          319.5048982714052,
          343.8918126827178,
          371.84064332146926,
          405.0462106158814,
          446.8347688007304,
          505.4104984413774,
          615.2066694065996
         ],
         "y": [
          -562.346646358496,
          -452.5504753932732,
          -393.97474575262663,
          -352.18618756777767,
          -318.9806202733655,
          -291.031789634614,
          -266.6448752233014,
          -244.83318299078383,
          -224.96903427933165,
          -206.62686763914087,
          -189.50387669821095,
          -173.3762299728371,
          -158.07325387023167,
          -143.4613786943666,
          -129.43371294559716,
          -115.90302250583888,
          -102.79685398981111,
          -90.05405484705494,
          -77.62222991889192,
          -65.45584144993556,
          -53.51476052018006,
          -41.763140682710116,
          -30.168524718807532,
          -18.701121634979167,
          -7.333208466242347,
          3.9613767917647955,
          15.207676822924679,
          26.43001152405188,
          37.65234622517912,
          48.898646256339,
          60.193231514346145,
          71.56114468308297,
          83.02854776691134,
          94.62316373081389,
          106.3747835682838,
          118.3158644980393,
          130.48225296699565,
          142.91407789515875,
          155.6568770379149,
          168.76304555394267,
          182.29373599370092,
          196.32140174247036,
          210.93327691833542,
          226.23625302094092,
          242.36389974631481,
          259.4868906872447,
          277.82905732743546,
          297.69320603888764,
          319.5048982714052,
          343.8918126827178,
          371.84064332146926,
          405.0462106158814,
          446.8347688007304,
          505.4104984413774,
          615.2066694065996
         ]
        }
       ],
       "layout": {
        "template": {
         "data": {
          "bar": [
           {
            "error_x": {
             "color": "#2a3f5f"
            },
            "error_y": {
             "color": "#2a3f5f"
            },
            "marker": {
             "line": {
              "color": "#E5ECF6",
              "width": 0.5
             },
             "pattern": {
              "fillmode": "overlay",
              "size": 10,
              "solidity": 0.2
             }
            },
            "type": "bar"
           }
          ],
          "barpolar": [
           {
            "marker": {
             "line": {
              "color": "#E5ECF6",
              "width": 0.5
             },
             "pattern": {
              "fillmode": "overlay",
              "size": 10,
              "solidity": 0.2
             }
            },
            "type": "barpolar"
           }
          ],
          "carpet": [
           {
            "aaxis": {
             "endlinecolor": "#2a3f5f",
             "gridcolor": "white",
             "linecolor": "white",
             "minorgridcolor": "white",
             "startlinecolor": "#2a3f5f"
            },
            "baxis": {
             "endlinecolor": "#2a3f5f",
             "gridcolor": "white",
             "linecolor": "white",
             "minorgridcolor": "white",
             "startlinecolor": "#2a3f5f"
            },
            "type": "carpet"
           }
          ],
          "choropleth": [
           {
            "colorbar": {
             "outlinewidth": 0,
             "ticks": ""
            },
            "type": "choropleth"
           }
          ],
          "contour": [
           {
            "colorbar": {
             "outlinewidth": 0,
             "ticks": ""
            },
            "colorscale": [
             [
              0,
              "#0d0887"
             ],
             [
              0.1111111111111111,
              "#46039f"
             ],
             [
              0.2222222222222222,
              "#7201a8"
             ],
             [
              0.3333333333333333,
              "#9c179e"
             ],
             [
              0.4444444444444444,
              "#bd3786"
             ],
             [
              0.5555555555555556,
              "#d8576b"
             ],
             [
              0.6666666666666666,
              "#ed7953"
             ],
             [
              0.7777777777777778,
              "#fb9f3a"
             ],
             [
              0.8888888888888888,
              "#fdca26"
             ],
             [
              1,
              "#f0f921"
             ]
            ],
            "type": "contour"
           }
          ],
          "contourcarpet": [
           {
            "colorbar": {
             "outlinewidth": 0,
             "ticks": ""
            },
            "type": "contourcarpet"
           }
          ],
          "heatmap": [
           {
            "colorbar": {
             "outlinewidth": 0,
             "ticks": ""
            },
            "colorscale": [
             [
              0,
              "#0d0887"
             ],
             [
              0.1111111111111111,
              "#46039f"
             ],
             [
              0.2222222222222222,
              "#7201a8"
             ],
             [
              0.3333333333333333,
              "#9c179e"
             ],
             [
              0.4444444444444444,
              "#bd3786"
             ],
             [
              0.5555555555555556,
              "#d8576b"
             ],
             [
              0.6666666666666666,
              "#ed7953"
             ],
             [
              0.7777777777777778,
              "#fb9f3a"
             ],
             [
              0.8888888888888888,
              "#fdca26"
             ],
             [
              1,
              "#f0f921"
             ]
            ],
            "type": "heatmap"
           }
          ],
          "heatmapgl": [
           {
            "colorbar": {
             "outlinewidth": 0,
             "ticks": ""
            },
            "colorscale": [
             [
              0,
              "#0d0887"
             ],
             [
              0.1111111111111111,
              "#46039f"
             ],
             [
              0.2222222222222222,
              "#7201a8"
             ],
             [
              0.3333333333333333,
              "#9c179e"
             ],
             [
              0.4444444444444444,
              "#bd3786"
             ],
             [
              0.5555555555555556,
              "#d8576b"
             ],
             [
              0.6666666666666666,
              "#ed7953"
             ],
             [
              0.7777777777777778,
              "#fb9f3a"
             ],
             [
              0.8888888888888888,
              "#fdca26"
             ],
             [
              1,
              "#f0f921"
             ]
            ],
            "type": "heatmapgl"
           }
          ],
          "histogram": [
           {
            "marker": {
             "pattern": {
              "fillmode": "overlay",
              "size": 10,
              "solidity": 0.2
             }
            },
            "type": "histogram"
           }
          ],
          "histogram2d": [
           {
            "colorbar": {
             "outlinewidth": 0,
             "ticks": ""
            },
            "colorscale": [
             [
              0,
              "#0d0887"
             ],
             [
              0.1111111111111111,
              "#46039f"
             ],
             [
              0.2222222222222222,
              "#7201a8"
             ],
             [
              0.3333333333333333,
              "#9c179e"
             ],
             [
              0.4444444444444444,
              "#bd3786"
             ],
             [
              0.5555555555555556,
              "#d8576b"
             ],
             [
              0.6666666666666666,
              "#ed7953"
             ],
             [
              0.7777777777777778,
              "#fb9f3a"
             ],
             [
              0.8888888888888888,
              "#fdca26"
             ],
             [
              1,
              "#f0f921"
             ]
            ],
            "type": "histogram2d"
           }
          ],
          "histogram2dcontour": [
           {
            "colorbar": {
             "outlinewidth": 0,
             "ticks": ""
            },
            "colorscale": [
             [
              0,
              "#0d0887"
             ],
             [
              0.1111111111111111,
              "#46039f"
             ],
             [
              0.2222222222222222,
              "#7201a8"
             ],
             [
              0.3333333333333333,
              "#9c179e"
             ],
             [
              0.4444444444444444,
              "#bd3786"
             ],
             [
              0.5555555555555556,
              "#d8576b"
             ],
             [
              0.6666666666666666,
              "#ed7953"
             ],
             [
              0.7777777777777778,
              "#fb9f3a"
             ],
             [
              0.8888888888888888,
              "#fdca26"
             ],
             [
              1,
              "#f0f921"
             ]
            ],
            "type": "histogram2dcontour"
           }
          ],
          "mesh3d": [
           {
            "colorbar": {
             "outlinewidth": 0,
             "ticks": ""
            },
            "type": "mesh3d"
           }
          ],
          "parcoords": [
           {
            "line": {
             "colorbar": {
              "outlinewidth": 0,
              "ticks": ""
             }
            },
            "type": "parcoords"
           }
          ],
          "pie": [
           {
            "automargin": true,
            "type": "pie"
           }
          ],
          "scatter": [
           {
            "fillpattern": {
             "fillmode": "overlay",
             "size": 10,
             "solidity": 0.2
            },
            "type": "scatter"
           }
          ],
          "scatter3d": [
           {
            "line": {
             "colorbar": {
              "outlinewidth": 0,
              "ticks": ""
             }
            },
            "marker": {
             "colorbar": {
              "outlinewidth": 0,
              "ticks": ""
             }
            },
            "type": "scatter3d"
           }
          ],
          "scattercarpet": [
           {
            "marker": {
             "colorbar": {
              "outlinewidth": 0,
              "ticks": ""
             }
            },
            "type": "scattercarpet"
           }
          ],
          "scattergeo": [
           {
            "marker": {
             "colorbar": {
              "outlinewidth": 0,
              "ticks": ""
             }
            },
            "type": "scattergeo"
           }
          ],
          "scattergl": [
           {
            "marker": {
             "colorbar": {
              "outlinewidth": 0,
              "ticks": ""
             }
            },
            "type": "scattergl"
           }
          ],
          "scattermapbox": [
           {
            "marker": {
             "colorbar": {
              "outlinewidth": 0,
              "ticks": ""
             }
            },
            "type": "scattermapbox"
           }
          ],
          "scatterpolar": [
           {
            "marker": {
             "colorbar": {
              "outlinewidth": 0,
              "ticks": ""
             }
            },
            "type": "scatterpolar"
           }
          ],
          "scatterpolargl": [
           {
            "marker": {
             "colorbar": {
              "outlinewidth": 0,
              "ticks": ""
             }
            },
            "type": "scatterpolargl"
           }
          ],
          "scatterternary": [
           {
            "marker": {
             "colorbar": {
              "outlinewidth": 0,
              "ticks": ""
             }
            },
            "type": "scatterternary"
           }
          ],
          "surface": [
           {
            "colorbar": {
             "outlinewidth": 0,
             "ticks": ""
            },
            "colorscale": [
             [
              0,
              "#0d0887"
             ],
             [
              0.1111111111111111,
              "#46039f"
             ],
             [
              0.2222222222222222,
              "#7201a8"
             ],
             [
              0.3333333333333333,
              "#9c179e"
             ],
             [
              0.4444444444444444,
              "#bd3786"
             ],
             [
              0.5555555555555556,
              "#d8576b"
             ],
             [
              0.6666666666666666,
              "#ed7953"
             ],
             [
              0.7777777777777778,
              "#fb9f3a"
             ],
             [
              0.8888888888888888,
              "#fdca26"
             ],
             [
              1,
              "#f0f921"
             ]
            ],
            "type": "surface"
           }
          ],
          "table": [
           {
            "cells": {
             "fill": {
              "color": "#EBF0F8"
             },
             "line": {
              "color": "white"
             }
            },
            "header": {
             "fill": {
              "color": "#C8D4E3"
             },
             "line": {
              "color": "white"
             }
            },
            "type": "table"
           }
          ]
         },
         "layout": {
          "annotationdefaults": {
           "arrowcolor": "#2a3f5f",
           "arrowhead": 0,
           "arrowwidth": 1
          },
          "autotypenumbers": "strict",
          "coloraxis": {
           "colorbar": {
            "outlinewidth": 0,
            "ticks": ""
           }
          },
          "colorscale": {
           "diverging": [
            [
             0,
             "#8e0152"
            ],
            [
             0.1,
             "#c51b7d"
            ],
            [
             0.2,
             "#de77ae"
            ],
            [
             0.3,
             "#f1b6da"
            ],
            [
             0.4,
             "#fde0ef"
            ],
            [
             0.5,
             "#f7f7f7"
            ],
            [
             0.6,
             "#e6f5d0"
            ],
            [
             0.7,
             "#b8e186"
            ],
            [
             0.8,
             "#7fbc41"
            ],
            [
             0.9,
             "#4d9221"
            ],
            [
             1,
             "#276419"
            ]
           ],
           "sequential": [
            [
             0,
             "#0d0887"
            ],
            [
             0.1111111111111111,
             "#46039f"
            ],
            [
             0.2222222222222222,
             "#7201a8"
            ],
            [
             0.3333333333333333,
             "#9c179e"
            ],
            [
             0.4444444444444444,
             "#bd3786"
            ],
            [
             0.5555555555555556,
             "#d8576b"
            ],
            [
             0.6666666666666666,
             "#ed7953"
            ],
            [
             0.7777777777777778,
             "#fb9f3a"
            ],
            [
             0.8888888888888888,
             "#fdca26"
            ],
            [
             1,
             "#f0f921"
            ]
           ],
           "sequentialminus": [
            [
             0,
             "#0d0887"
            ],
            [
             0.1111111111111111,
             "#46039f"
            ],
            [
             0.2222222222222222,
             "#7201a8"
            ],
            [
             0.3333333333333333,
             "#9c179e"
            ],
            [
             0.4444444444444444,
             "#bd3786"
            ],
            [
             0.5555555555555556,
             "#d8576b"
            ],
            [
             0.6666666666666666,
             "#ed7953"
            ],
            [
             0.7777777777777778,
             "#fb9f3a"
            ],
            [
             0.8888888888888888,
             "#fdca26"
            ],
            [
             1,
             "#f0f921"
            ]
           ]
          },
          "colorway": [
           "#636efa",
           "#EF553B",
           "#00cc96",
           "#ab63fa",
           "#FFA15A",
           "#19d3f3",
           "#FF6692",
           "#B6E880",
           "#FF97FF",
           "#FECB52"
          ],
          "font": {
           "color": "#2a3f5f"
          },
          "geo": {
           "bgcolor": "white",
           "lakecolor": "white",
           "landcolor": "#E5ECF6",
           "showlakes": true,
           "showland": true,
           "subunitcolor": "white"
          },
          "hoverlabel": {
           "align": "left"
          },
          "hovermode": "closest",
          "mapbox": {
           "style": "light"
          },
          "paper_bgcolor": "white",
          "plot_bgcolor": "#E5ECF6",
          "polar": {
           "angularaxis": {
            "gridcolor": "white",
            "linecolor": "white",
            "ticks": ""
           },
           "bgcolor": "#E5ECF6",
           "radialaxis": {
            "gridcolor": "white",
            "linecolor": "white",
            "ticks": ""
           }
          },
          "scene": {
           "xaxis": {
            "backgroundcolor": "#E5ECF6",
            "gridcolor": "white",
            "gridwidth": 2,
            "linecolor": "white",
            "showbackground": true,
            "ticks": "",
            "zerolinecolor": "white"
           },
           "yaxis": {
            "backgroundcolor": "#E5ECF6",
            "gridcolor": "white",
            "gridwidth": 2,
            "linecolor": "white",
            "showbackground": true,
            "ticks": "",
            "zerolinecolor": "white"
           },
           "zaxis": {
            "backgroundcolor": "#E5ECF6",
            "gridcolor": "white",
            "gridwidth": 2,
            "linecolor": "white",
            "showbackground": true,
            "ticks": "",
            "zerolinecolor": "white"
           }
          },
          "shapedefaults": {
           "line": {
            "color": "#2a3f5f"
           }
          },
          "ternary": {
           "aaxis": {
            "gridcolor": "white",
            "linecolor": "white",
            "ticks": ""
           },
           "baxis": {
            "gridcolor": "white",
            "linecolor": "white",
            "ticks": ""
           },
           "bgcolor": "#E5ECF6",
           "caxis": {
            "gridcolor": "white",
            "linecolor": "white",
            "ticks": ""
           }
          },
          "title": {
           "x": 0.05
          },
          "xaxis": {
           "automargin": true,
           "gridcolor": "white",
           "linecolor": "white",
           "ticks": "",
           "title": {
            "standoff": 15
           },
           "zerolinecolor": "white",
           "zerolinewidth": 2
          },
          "yaxis": {
           "automargin": true,
           "gridcolor": "white",
           "linecolor": "white",
           "ticks": "",
           "title": {
            "standoff": 15
           },
           "zerolinecolor": "white",
           "zerolinewidth": 2
          }
         }
        },
        "title": {
         "text": "QQ Plot of Studentized Residuals"
        },
        "xaxis": {
         "title": {
          "text": "Theoretical Quantiles"
         }
        },
        "yaxis": {
         "title": {
          "text": "Observed Quantiles"
         }
        }
       }
      }
     },
     "metadata": {},
     "output_type": "display_data"
    }
   ],
   "source": [
    "qq_plot(testdf.loc[testdf['Studentized Residuals'].ne(0)], 'Studentized Residuals', dist='t')"
   ]
  },
  {
   "cell_type": "code",
   "execution_count": 194,
   "metadata": {},
   "outputs": [
    {
     "data": {
      "application/vnd.plotly.v1+json": {
       "config": {
        "plotlyServerURL": "https://plot.ly"
       },
       "data": [
        {
         "alignmentgroup": "True",
         "bingroup": "x",
         "hovertemplate": "Pearson Residuals=%{x}<br>count=%{y}<extra></extra>",
         "legendgroup": "",
         "marker": {
          "color": "#636efa",
          "pattern": {
           "shape": ""
          }
         },
         "name": "",
         "nbinsx": 25,
         "offsetgroup": "",
         "orientation": "v",
         "showlegend": false,
         "type": "histogram",
         "x": [
          140.09664796308965,
          -54.543777218865685,
          -147.76217742583745,
          -138.50582027497117,
          179.6124462410976,
          86.66044160761577,
          50.217535149138854,
          -77.51373323519692,
          -0.006008961387148929,
          -53.23936598563479,
          78.90367302153881,
          -72.66658284127625,
          58.79370713940056,
          124.53184190018847,
          -158.0315631602076,
          89.7798716919909,
          -162.7072802146449,
          49.28709602509491,
          56.58011715442782,
          -99.05245412736099,
          -10.701876545476894,
          -8.082759153665105,
          -200.0705653423153,
          179.70638474998754,
          3.2562148532187645,
          131.52886495140032,
          442.5377156580148,
          -329.85948785489154,
          126.734214904169,
          -24.615959874999902,
          457.24844033917503,
          -160.72540344231345,
          -141.04626384816783,
          -49.1955396270303,
          208.0513657667593,
          -128.34791798772514,
          296.3774517686872,
          -381.05475325907076,
          45.11805431004727,
          320.821966603719,
          578.0608021658858,
          -82.76427973094268,
          -363.74258609082676,
          -49.95190918617113,
          253.6282072553818,
          -300.9688736351381,
          149.64387674544048,
          108.83209272999201,
          -355.69983038061093,
          -77.0870062125612,
          65.95472823970773,
          101.17362970455731,
          0.02678368641526196,
          207.46234410671218,
          -334.1253941162603
         ],
         "xaxis": "x",
         "yaxis": "y"
        },
        {
         "alignmentgroup": "True",
         "customdata": [
          [
           1,
           1,
           1
          ],
          [
           2,
           1,
           2
          ],
          [
           3,
           1,
           3
          ],
          [
           4,
           1,
           4
          ],
          [
           5,
           1,
           5
          ],
          [
           6,
           1,
           6
          ],
          [
           7,
           1,
           7
          ],
          [
           8,
           1,
           8
          ],
          [
           9,
           1,
           9
          ],
          [
           10,
           1,
           10
          ],
          [
           1,
           2,
           2
          ],
          [
           2,
           2,
           3
          ],
          [
           3,
           2,
           4
          ],
          [
           4,
           2,
           5
          ],
          [
           5,
           2,
           6
          ],
          [
           6,
           2,
           7
          ],
          [
           7,
           2,
           8
          ],
          [
           8,
           2,
           9
          ],
          [
           9,
           2,
           10
          ],
          [
           1,
           3,
           3
          ],
          [
           2,
           3,
           4
          ],
          [
           3,
           3,
           5
          ],
          [
           4,
           3,
           6
          ],
          [
           5,
           3,
           7
          ],
          [
           6,
           3,
           8
          ],
          [
           7,
           3,
           9
          ],
          [
           8,
           3,
           10
          ],
          [
           1,
           4,
           4
          ],
          [
           2,
           4,
           5
          ],
          [
           3,
           4,
           6
          ],
          [
           4,
           4,
           7
          ],
          [
           5,
           4,
           8
          ],
          [
           6,
           4,
           9
          ],
          [
           7,
           4,
           10
          ],
          [
           1,
           5,
           5
          ],
          [
           2,
           5,
           6
          ],
          [
           3,
           5,
           7
          ],
          [
           4,
           5,
           8
          ],
          [
           5,
           5,
           9
          ],
          [
           6,
           5,
           10
          ],
          [
           1,
           6,
           6
          ],
          [
           2,
           6,
           7
          ],
          [
           3,
           6,
           8
          ],
          [
           4,
           6,
           9
          ],
          [
           5,
           6,
           10
          ],
          [
           1,
           7,
           7
          ],
          [
           2,
           7,
           8
          ],
          [
           3,
           7,
           9
          ],
          [
           4,
           7,
           10
          ],
          [
           1,
           8,
           8
          ],
          [
           2,
           8,
           9
          ],
          [
           3,
           8,
           10
          ],
          [
           1,
           9,
           9
          ],
          [
           2,
           9,
           10
          ],
          [
           1,
           10,
           10
          ]
         ],
         "hovertemplate": "Pearson Residuals=%{x}<br>ay=%{customdata[0]}<br>dev=%{customdata[1]}<br>cal=%{customdata[2]}<extra></extra>",
         "legendgroup": "",
         "marker": {
          "color": "#636efa"
         },
         "name": "",
         "notched": true,
         "offsetgroup": "",
         "showlegend": false,
         "type": "box",
         "x": [
          140.09664796308965,
          -54.543777218865685,
          -147.76217742583745,
          -138.50582027497117,
          179.6124462410976,
          86.66044160761577,
          50.217535149138854,
          -77.51373323519692,
          -0.006008961387148929,
          -53.23936598563479,
          78.90367302153881,
          -72.66658284127625,
          58.79370713940056,
          124.53184190018847,
          -158.0315631602076,
          89.7798716919909,
          -162.7072802146449,
          49.28709602509491,
          56.58011715442782,
          -99.05245412736099,
          -10.701876545476894,
          -8.082759153665105,
          -200.0705653423153,
          179.70638474998754,
          3.2562148532187645,
          131.52886495140032,
          442.5377156580148,
          -329.85948785489154,
          126.734214904169,
          -24.615959874999902,
          457.24844033917503,
          -160.72540344231345,
          -141.04626384816783,
          -49.1955396270303,
          208.0513657667593,
          -128.34791798772514,
          296.3774517686872,
          -381.05475325907076,
          45.11805431004727,
          320.821966603719,
          578.0608021658858,
          -82.76427973094268,
          -363.74258609082676,
          -49.95190918617113,
          253.6282072553818,
          -300.9688736351381,
          149.64387674544048,
          108.83209272999201,
          -355.69983038061093,
          -77.0870062125612,
          65.95472823970773,
          101.17362970455731,
          0.02678368641526196,
          207.46234410671218,
          -334.1253941162603
         ],
         "xaxis": "x2",
         "yaxis": "y2"
        }
       ],
       "layout": {
        "barmode": "relative",
        "legend": {
         "tracegroupgap": 0
        },
        "margin": {
         "t": 60
        },
        "template": {
         "data": {
          "bar": [
           {
            "error_x": {
             "color": "#2a3f5f"
            },
            "error_y": {
             "color": "#2a3f5f"
            },
            "marker": {
             "line": {
              "color": "#E5ECF6",
              "width": 0.5
             },
             "pattern": {
              "fillmode": "overlay",
              "size": 10,
              "solidity": 0.2
             }
            },
            "type": "bar"
           }
          ],
          "barpolar": [
           {
            "marker": {
             "line": {
              "color": "#E5ECF6",
              "width": 0.5
             },
             "pattern": {
              "fillmode": "overlay",
              "size": 10,
              "solidity": 0.2
             }
            },
            "type": "barpolar"
           }
          ],
          "carpet": [
           {
            "aaxis": {
             "endlinecolor": "#2a3f5f",
             "gridcolor": "white",
             "linecolor": "white",
             "minorgridcolor": "white",
             "startlinecolor": "#2a3f5f"
            },
            "baxis": {
             "endlinecolor": "#2a3f5f",
             "gridcolor": "white",
             "linecolor": "white",
             "minorgridcolor": "white",
             "startlinecolor": "#2a3f5f"
            },
            "type": "carpet"
           }
          ],
          "choropleth": [
           {
            "colorbar": {
             "outlinewidth": 0,
             "ticks": ""
            },
            "type": "choropleth"
           }
          ],
          "contour": [
           {
            "colorbar": {
             "outlinewidth": 0,
             "ticks": ""
            },
            "colorscale": [
             [
              0,
              "#0d0887"
             ],
             [
              0.1111111111111111,
              "#46039f"
             ],
             [
              0.2222222222222222,
              "#7201a8"
             ],
             [
              0.3333333333333333,
              "#9c179e"
             ],
             [
              0.4444444444444444,
              "#bd3786"
             ],
             [
              0.5555555555555556,
              "#d8576b"
             ],
             [
              0.6666666666666666,
              "#ed7953"
             ],
             [
              0.7777777777777778,
              "#fb9f3a"
             ],
             [
              0.8888888888888888,
              "#fdca26"
             ],
             [
              1,
              "#f0f921"
             ]
            ],
            "type": "contour"
           }
          ],
          "contourcarpet": [
           {
            "colorbar": {
             "outlinewidth": 0,
             "ticks": ""
            },
            "type": "contourcarpet"
           }
          ],
          "heatmap": [
           {
            "colorbar": {
             "outlinewidth": 0,
             "ticks": ""
            },
            "colorscale": [
             [
              0,
              "#0d0887"
             ],
             [
              0.1111111111111111,
              "#46039f"
             ],
             [
              0.2222222222222222,
              "#7201a8"
             ],
             [
              0.3333333333333333,
              "#9c179e"
             ],
             [
              0.4444444444444444,
              "#bd3786"
             ],
             [
              0.5555555555555556,
              "#d8576b"
             ],
             [
              0.6666666666666666,
              "#ed7953"
             ],
             [
              0.7777777777777778,
              "#fb9f3a"
             ],
             [
              0.8888888888888888,
              "#fdca26"
             ],
             [
              1,
              "#f0f921"
             ]
            ],
            "type": "heatmap"
           }
          ],
          "heatmapgl": [
           {
            "colorbar": {
             "outlinewidth": 0,
             "ticks": ""
            },
            "colorscale": [
             [
              0,
              "#0d0887"
             ],
             [
              0.1111111111111111,
              "#46039f"
             ],
             [
              0.2222222222222222,
              "#7201a8"
             ],
             [
              0.3333333333333333,
              "#9c179e"
             ],
             [
              0.4444444444444444,
              "#bd3786"
             ],
             [
              0.5555555555555556,
              "#d8576b"
             ],
             [
              0.6666666666666666,
              "#ed7953"
             ],
             [
              0.7777777777777778,
              "#fb9f3a"
             ],
             [
              0.8888888888888888,
              "#fdca26"
             ],
             [
              1,
              "#f0f921"
             ]
            ],
            "type": "heatmapgl"
           }
          ],
          "histogram": [
           {
            "marker": {
             "pattern": {
              "fillmode": "overlay",
              "size": 10,
              "solidity": 0.2
             }
            },
            "type": "histogram"
           }
          ],
          "histogram2d": [
           {
            "colorbar": {
             "outlinewidth": 0,
             "ticks": ""
            },
            "colorscale": [
             [
              0,
              "#0d0887"
             ],
             [
              0.1111111111111111,
              "#46039f"
             ],
             [
              0.2222222222222222,
              "#7201a8"
             ],
             [
              0.3333333333333333,
              "#9c179e"
             ],
             [
              0.4444444444444444,
              "#bd3786"
             ],
             [
              0.5555555555555556,
              "#d8576b"
             ],
             [
              0.6666666666666666,
              "#ed7953"
             ],
             [
              0.7777777777777778,
              "#fb9f3a"
             ],
             [
              0.8888888888888888,
              "#fdca26"
             ],
             [
              1,
              "#f0f921"
             ]
            ],
            "type": "histogram2d"
           }
          ],
          "histogram2dcontour": [
           {
            "colorbar": {
             "outlinewidth": 0,
             "ticks": ""
            },
            "colorscale": [
             [
              0,
              "#0d0887"
             ],
             [
              0.1111111111111111,
              "#46039f"
             ],
             [
              0.2222222222222222,
              "#7201a8"
             ],
             [
              0.3333333333333333,
              "#9c179e"
             ],
             [
              0.4444444444444444,
              "#bd3786"
             ],
             [
              0.5555555555555556,
              "#d8576b"
             ],
             [
              0.6666666666666666,
              "#ed7953"
             ],
             [
              0.7777777777777778,
              "#fb9f3a"
             ],
             [
              0.8888888888888888,
              "#fdca26"
             ],
             [
              1,
              "#f0f921"
             ]
            ],
            "type": "histogram2dcontour"
           }
          ],
          "mesh3d": [
           {
            "colorbar": {
             "outlinewidth": 0,
             "ticks": ""
            },
            "type": "mesh3d"
           }
          ],
          "parcoords": [
           {
            "line": {
             "colorbar": {
              "outlinewidth": 0,
              "ticks": ""
             }
            },
            "type": "parcoords"
           }
          ],
          "pie": [
           {
            "automargin": true,
            "type": "pie"
           }
          ],
          "scatter": [
           {
            "fillpattern": {
             "fillmode": "overlay",
             "size": 10,
             "solidity": 0.2
            },
            "type": "scatter"
           }
          ],
          "scatter3d": [
           {
            "line": {
             "colorbar": {
              "outlinewidth": 0,
              "ticks": ""
             }
            },
            "marker": {
             "colorbar": {
              "outlinewidth": 0,
              "ticks": ""
             }
            },
            "type": "scatter3d"
           }
          ],
          "scattercarpet": [
           {
            "marker": {
             "colorbar": {
              "outlinewidth": 0,
              "ticks": ""
             }
            },
            "type": "scattercarpet"
           }
          ],
          "scattergeo": [
           {
            "marker": {
             "colorbar": {
              "outlinewidth": 0,
              "ticks": ""
             }
            },
            "type": "scattergeo"
           }
          ],
          "scattergl": [
           {
            "marker": {
             "colorbar": {
              "outlinewidth": 0,
              "ticks": ""
             }
            },
            "type": "scattergl"
           }
          ],
          "scattermapbox": [
           {
            "marker": {
             "colorbar": {
              "outlinewidth": 0,
              "ticks": ""
             }
            },
            "type": "scattermapbox"
           }
          ],
          "scatterpolar": [
           {
            "marker": {
             "colorbar": {
              "outlinewidth": 0,
              "ticks": ""
             }
            },
            "type": "scatterpolar"
           }
          ],
          "scatterpolargl": [
           {
            "marker": {
             "colorbar": {
              "outlinewidth": 0,
              "ticks": ""
             }
            },
            "type": "scatterpolargl"
           }
          ],
          "scatterternary": [
           {
            "marker": {
             "colorbar": {
              "outlinewidth": 0,
              "ticks": ""
             }
            },
            "type": "scatterternary"
           }
          ],
          "surface": [
           {
            "colorbar": {
             "outlinewidth": 0,
             "ticks": ""
            },
            "colorscale": [
             [
              0,
              "#0d0887"
             ],
             [
              0.1111111111111111,
              "#46039f"
             ],
             [
              0.2222222222222222,
              "#7201a8"
             ],
             [
              0.3333333333333333,
              "#9c179e"
             ],
             [
              0.4444444444444444,
              "#bd3786"
             ],
             [
              0.5555555555555556,
              "#d8576b"
             ],
             [
              0.6666666666666666,
              "#ed7953"
             ],
             [
              0.7777777777777778,
              "#fb9f3a"
             ],
             [
              0.8888888888888888,
              "#fdca26"
             ],
             [
              1,
              "#f0f921"
             ]
            ],
            "type": "surface"
           }
          ],
          "table": [
           {
            "cells": {
             "fill": {
              "color": "#EBF0F8"
             },
             "line": {
              "color": "white"
             }
            },
            "header": {
             "fill": {
              "color": "#C8D4E3"
             },
             "line": {
              "color": "white"
             }
            },
            "type": "table"
           }
          ]
         },
         "layout": {
          "annotationdefaults": {
           "arrowcolor": "#2a3f5f",
           "arrowhead": 0,
           "arrowwidth": 1
          },
          "autotypenumbers": "strict",
          "coloraxis": {
           "colorbar": {
            "outlinewidth": 0,
            "ticks": ""
           }
          },
          "colorscale": {
           "diverging": [
            [
             0,
             "#8e0152"
            ],
            [
             0.1,
             "#c51b7d"
            ],
            [
             0.2,
             "#de77ae"
            ],
            [
             0.3,
             "#f1b6da"
            ],
            [
             0.4,
             "#fde0ef"
            ],
            [
             0.5,
             "#f7f7f7"
            ],
            [
             0.6,
             "#e6f5d0"
            ],
            [
             0.7,
             "#b8e186"
            ],
            [
             0.8,
             "#7fbc41"
            ],
            [
             0.9,
             "#4d9221"
            ],
            [
             1,
             "#276419"
            ]
           ],
           "sequential": [
            [
             0,
             "#0d0887"
            ],
            [
             0.1111111111111111,
             "#46039f"
            ],
            [
             0.2222222222222222,
             "#7201a8"
            ],
            [
             0.3333333333333333,
             "#9c179e"
            ],
            [
             0.4444444444444444,
             "#bd3786"
            ],
            [
             0.5555555555555556,
             "#d8576b"
            ],
            [
             0.6666666666666666,
             "#ed7953"
            ],
            [
             0.7777777777777778,
             "#fb9f3a"
            ],
            [
             0.8888888888888888,
             "#fdca26"
            ],
            [
             1,
             "#f0f921"
            ]
           ],
           "sequentialminus": [
            [
             0,
             "#0d0887"
            ],
            [
             0.1111111111111111,
             "#46039f"
            ],
            [
             0.2222222222222222,
             "#7201a8"
            ],
            [
             0.3333333333333333,
             "#9c179e"
            ],
            [
             0.4444444444444444,
             "#bd3786"
            ],
            [
             0.5555555555555556,
             "#d8576b"
            ],
            [
             0.6666666666666666,
             "#ed7953"
            ],
            [
             0.7777777777777778,
             "#fb9f3a"
            ],
            [
             0.8888888888888888,
             "#fdca26"
            ],
            [
             1,
             "#f0f921"
            ]
           ]
          },
          "colorway": [
           "#636efa",
           "#EF553B",
           "#00cc96",
           "#ab63fa",
           "#FFA15A",
           "#19d3f3",
           "#FF6692",
           "#B6E880",
           "#FF97FF",
           "#FECB52"
          ],
          "font": {
           "color": "#2a3f5f"
          },
          "geo": {
           "bgcolor": "white",
           "lakecolor": "white",
           "landcolor": "#E5ECF6",
           "showlakes": true,
           "showland": true,
           "subunitcolor": "white"
          },
          "hoverlabel": {
           "align": "left"
          },
          "hovermode": "closest",
          "mapbox": {
           "style": "light"
          },
          "paper_bgcolor": "white",
          "plot_bgcolor": "#E5ECF6",
          "polar": {
           "angularaxis": {
            "gridcolor": "white",
            "linecolor": "white",
            "ticks": ""
           },
           "bgcolor": "#E5ECF6",
           "radialaxis": {
            "gridcolor": "white",
            "linecolor": "white",
            "ticks": ""
           }
          },
          "scene": {
           "xaxis": {
            "backgroundcolor": "#E5ECF6",
            "gridcolor": "white",
            "gridwidth": 2,
            "linecolor": "white",
            "showbackground": true,
            "ticks": "",
            "zerolinecolor": "white"
           },
           "yaxis": {
            "backgroundcolor": "#E5ECF6",
            "gridcolor": "white",
            "gridwidth": 2,
            "linecolor": "white",
            "showbackground": true,
            "ticks": "",
            "zerolinecolor": "white"
           },
           "zaxis": {
            "backgroundcolor": "#E5ECF6",
            "gridcolor": "white",
            "gridwidth": 2,
            "linecolor": "white",
            "showbackground": true,
            "ticks": "",
            "zerolinecolor": "white"
           }
          },
          "shapedefaults": {
           "line": {
            "color": "#2a3f5f"
           }
          },
          "ternary": {
           "aaxis": {
            "gridcolor": "white",
            "linecolor": "white",
            "ticks": ""
           },
           "baxis": {
            "gridcolor": "white",
            "linecolor": "white",
            "ticks": ""
           },
           "bgcolor": "#E5ECF6",
           "caxis": {
            "gridcolor": "white",
            "linecolor": "white",
            "ticks": ""
           }
          },
          "title": {
           "x": 0.05
          },
          "xaxis": {
           "automargin": true,
           "gridcolor": "white",
           "linecolor": "white",
           "ticks": "",
           "title": {
            "standoff": 15
           },
           "zerolinecolor": "white",
           "zerolinewidth": 2
          },
          "yaxis": {
           "automargin": true,
           "gridcolor": "white",
           "linecolor": "white",
           "ticks": "",
           "title": {
            "standoff": 15
           },
           "zerolinecolor": "white",
           "zerolinewidth": 2
          }
         }
        },
        "title": {
         "text": "Histogram of Pearson Residuals"
        },
        "xaxis": {
         "anchor": "y",
         "domain": [
          0,
          1
         ],
         "title": {
          "text": "Pearson Residuals"
         }
        },
        "xaxis2": {
         "anchor": "y2",
         "domain": [
          0,
          1
         ],
         "matches": "x",
         "showgrid": true,
         "showticklabels": false
        },
        "yaxis": {
         "anchor": "x",
         "domain": [
          0,
          0.8316
         ],
         "title": {
          "text": "count"
         }
        },
        "yaxis2": {
         "anchor": "x2",
         "domain": [
          0.8416,
          1
         ],
         "matches": "y2",
         "showgrid": false,
         "showline": false,
         "showticklabels": false,
         "ticks": ""
        }
       }
      }
     },
     "metadata": {},
     "output_type": "display_data"
    }
   ],
   "source": [
    "## histogram of residuals\n",
    "def residual_hist(df, residual_col, title=None, acc_col=None, dev_col=None, cal_col=None, bins=None):\n",
    "    if acc_col is None:\n",
    "        acc_col = 'ay'\n",
    "    if dev_col is None:\n",
    "        dev_col = 'dev'\n",
    "    if cal_col is None:\n",
    "        cal_col = 'cal'\n",
    "    if bins is None:\n",
    "        bins = None\n",
    "    \n",
    "    fig = px.histogram(df, x=residual_col, marginal='box', hover_data=[acc_col, dev_col, cal_col], nbins=bins)\n",
    "    fig.update_layout(title=title or f'Histogram of {residual_col}')\n",
    "    fig.show()\n",
    "\n",
    "residual_hist(testdf, 'Pearson Residuals', bins=25)"
   ]
  },
  {
   "cell_type": "code",
   "execution_count": 195,
   "metadata": {},
   "outputs": [
    {
     "data": {
      "application/vnd.plotly.v1+json": {
       "config": {
        "plotlyServerURL": "https://plot.ly"
       },
       "data": [
        {
         "alignmentgroup": "True",
         "bingroup": "x",
         "hovertemplate": "Deviance Residuals=%{x}<br>count=%{y}<extra></extra>",
         "legendgroup": "",
         "marker": {
          "color": "#636efa",
          "pattern": {
           "shape": ""
          }
         },
         "name": "",
         "nbinsx": 25,
         "offsetgroup": "",
         "orientation": "v",
         "showlegend": false,
         "type": "histogram",
         "x": [
          18101.137439137732,
          3066.1187898524877,
          23817.74402609651,
          20765.75359272785,
          29374.918184450245,
          7165.836720240695,
          2458.2498731124215,
          6266.9819858317205,
          0.00003610774796847238,
          2920.1380496694474,
          6038.925673478341,
          5416.406683553854,
          3389.0342911914486,
          14897.313680275256,
          26549.82420972758,
          7811.398466015438,
          28029.5602788229,
          2390.4908529072854,
          3140.539228460533,
          114.95293315846357,
          65.51388914066047,
          43046.60576965107,
          30356.80281655985,
          10.59043407255649,
          16587.58496073255,
          172034.08797343262,
          125740.32892917295,
          183833.4347520126,
          27406.42592540069,
          20934.573681212525,
          2458.6833492400183,
          39176.730511603295,
          17525.882920078177,
          77911.19809608033,
          252641.10547652468,
          7182.941236723753,
          171632.02181647753,
          2565.177478859019,
          56479.73641843442,
          113317.8458268865,
          4164.884633213966,
          9585.96917938524,
          0.0007173524362968919,
          38509.43612153956,
          154488.32865026838,
          null,
          null,
          null,
          null,
          null,
          null,
          null,
          null,
          null,
          null
         ],
         "xaxis": "x",
         "yaxis": "y"
        },
        {
         "alignmentgroup": "True",
         "customdata": [
          [
           1,
           1,
           1
          ],
          [
           2,
           1,
           2
          ],
          [
           3,
           1,
           3
          ],
          [
           4,
           1,
           4
          ],
          [
           5,
           1,
           5
          ],
          [
           6,
           1,
           6
          ],
          [
           7,
           1,
           7
          ],
          [
           8,
           1,
           8
          ],
          [
           9,
           1,
           9
          ],
          [
           10,
           1,
           10
          ],
          [
           1,
           2,
           2
          ],
          [
           2,
           2,
           3
          ],
          [
           3,
           2,
           4
          ],
          [
           4,
           2,
           5
          ],
          [
           5,
           2,
           6
          ],
          [
           6,
           2,
           7
          ],
          [
           7,
           2,
           8
          ],
          [
           8,
           2,
           9
          ],
          [
           9,
           2,
           10
          ],
          [
           1,
           3,
           3
          ],
          [
           2,
           3,
           4
          ],
          [
           3,
           3,
           5
          ],
          [
           4,
           3,
           6
          ],
          [
           5,
           3,
           7
          ],
          [
           6,
           3,
           8
          ],
          [
           7,
           3,
           9
          ],
          [
           8,
           3,
           10
          ],
          [
           1,
           4,
           4
          ],
          [
           2,
           4,
           5
          ],
          [
           3,
           4,
           6
          ],
          [
           4,
           4,
           7
          ],
          [
           5,
           4,
           8
          ],
          [
           6,
           4,
           9
          ],
          [
           7,
           4,
           10
          ],
          [
           1,
           5,
           5
          ],
          [
           2,
           5,
           6
          ],
          [
           3,
           5,
           7
          ],
          [
           4,
           5,
           8
          ],
          [
           5,
           5,
           9
          ],
          [
           6,
           5,
           10
          ],
          [
           1,
           6,
           6
          ],
          [
           2,
           6,
           7
          ],
          [
           3,
           6,
           8
          ],
          [
           4,
           6,
           9
          ],
          [
           5,
           6,
           10
          ],
          [
           1,
           7,
           7
          ],
          [
           2,
           7,
           8
          ],
          [
           3,
           7,
           9
          ],
          [
           4,
           7,
           10
          ],
          [
           1,
           8,
           8
          ],
          [
           2,
           8,
           9
          ],
          [
           3,
           8,
           10
          ],
          [
           1,
           9,
           9
          ],
          [
           2,
           9,
           10
          ],
          [
           1,
           10,
           10
          ]
         ],
         "hovertemplate": "Deviance Residuals=%{x}<br>ay=%{customdata[0]}<br>dev=%{customdata[1]}<br>cal=%{customdata[2]}<extra></extra>",
         "legendgroup": "",
         "marker": {
          "color": "#636efa"
         },
         "name": "",
         "notched": true,
         "offsetgroup": "",
         "showlegend": false,
         "type": "box",
         "x": [
          18101.137439137732,
          3066.1187898524877,
          23817.74402609651,
          20765.75359272785,
          29374.918184450245,
          7165.836720240695,
          2458.2498731124215,
          6266.9819858317205,
          0.00003610774796847238,
          2920.1380496694474,
          6038.925673478341,
          5416.406683553854,
          3389.0342911914486,
          14897.313680275256,
          26549.82420972758,
          7811.398466015438,
          28029.5602788229,
          2390.4908529072854,
          3140.539228460533,
          114.95293315846357,
          65.51388914066047,
          43046.60576965107,
          30356.80281655985,
          10.59043407255649,
          16587.58496073255,
          172034.08797343262,
          125740.32892917295,
          183833.4347520126,
          27406.42592540069,
          20934.573681212525,
          2458.6833492400183,
          39176.730511603295,
          17525.882920078177,
          77911.19809608033,
          252641.10547652468,
          7182.941236723753,
          171632.02181647753,
          2565.177478859019,
          56479.73641843442,
          113317.8458268865,
          4164.884633213966,
          9585.96917938524,
          0.0007173524362968919,
          38509.43612153956,
          154488.32865026838,
          null,
          null,
          null,
          null,
          null,
          null,
          null,
          null,
          null,
          null
         ],
         "xaxis": "x2",
         "yaxis": "y2"
        }
       ],
       "layout": {
        "barmode": "relative",
        "legend": {
         "tracegroupgap": 0
        },
        "margin": {
         "t": 60
        },
        "template": {
         "data": {
          "bar": [
           {
            "error_x": {
             "color": "#2a3f5f"
            },
            "error_y": {
             "color": "#2a3f5f"
            },
            "marker": {
             "line": {
              "color": "#E5ECF6",
              "width": 0.5
             },
             "pattern": {
              "fillmode": "overlay",
              "size": 10,
              "solidity": 0.2
             }
            },
            "type": "bar"
           }
          ],
          "barpolar": [
           {
            "marker": {
             "line": {
              "color": "#E5ECF6",
              "width": 0.5
             },
             "pattern": {
              "fillmode": "overlay",
              "size": 10,
              "solidity": 0.2
             }
            },
            "type": "barpolar"
           }
          ],
          "carpet": [
           {
            "aaxis": {
             "endlinecolor": "#2a3f5f",
             "gridcolor": "white",
             "linecolor": "white",
             "minorgridcolor": "white",
             "startlinecolor": "#2a3f5f"
            },
            "baxis": {
             "endlinecolor": "#2a3f5f",
             "gridcolor": "white",
             "linecolor": "white",
             "minorgridcolor": "white",
             "startlinecolor": "#2a3f5f"
            },
            "type": "carpet"
           }
          ],
          "choropleth": [
           {
            "colorbar": {
             "outlinewidth": 0,
             "ticks": ""
            },
            "type": "choropleth"
           }
          ],
          "contour": [
           {
            "colorbar": {
             "outlinewidth": 0,
             "ticks": ""
            },
            "colorscale": [
             [
              0,
              "#0d0887"
             ],
             [
              0.1111111111111111,
              "#46039f"
             ],
             [
              0.2222222222222222,
              "#7201a8"
             ],
             [
              0.3333333333333333,
              "#9c179e"
             ],
             [
              0.4444444444444444,
              "#bd3786"
             ],
             [
              0.5555555555555556,
              "#d8576b"
             ],
             [
              0.6666666666666666,
              "#ed7953"
             ],
             [
              0.7777777777777778,
              "#fb9f3a"
             ],
             [
              0.8888888888888888,
              "#fdca26"
             ],
             [
              1,
              "#f0f921"
             ]
            ],
            "type": "contour"
           }
          ],
          "contourcarpet": [
           {
            "colorbar": {
             "outlinewidth": 0,
             "ticks": ""
            },
            "type": "contourcarpet"
           }
          ],
          "heatmap": [
           {
            "colorbar": {
             "outlinewidth": 0,
             "ticks": ""
            },
            "colorscale": [
             [
              0,
              "#0d0887"
             ],
             [
              0.1111111111111111,
              "#46039f"
             ],
             [
              0.2222222222222222,
              "#7201a8"
             ],
             [
              0.3333333333333333,
              "#9c179e"
             ],
             [
              0.4444444444444444,
              "#bd3786"
             ],
             [
              0.5555555555555556,
              "#d8576b"
             ],
             [
              0.6666666666666666,
              "#ed7953"
             ],
             [
              0.7777777777777778,
              "#fb9f3a"
             ],
             [
              0.8888888888888888,
              "#fdca26"
             ],
             [
              1,
              "#f0f921"
             ]
            ],
            "type": "heatmap"
           }
          ],
          "heatmapgl": [
           {
            "colorbar": {
             "outlinewidth": 0,
             "ticks": ""
            },
            "colorscale": [
             [
              0,
              "#0d0887"
             ],
             [
              0.1111111111111111,
              "#46039f"
             ],
             [
              0.2222222222222222,
              "#7201a8"
             ],
             [
              0.3333333333333333,
              "#9c179e"
             ],
             [
              0.4444444444444444,
              "#bd3786"
             ],
             [
              0.5555555555555556,
              "#d8576b"
             ],
             [
              0.6666666666666666,
              "#ed7953"
             ],
             [
              0.7777777777777778,
              "#fb9f3a"
             ],
             [
              0.8888888888888888,
              "#fdca26"
             ],
             [
              1,
              "#f0f921"
             ]
            ],
            "type": "heatmapgl"
           }
          ],
          "histogram": [
           {
            "marker": {
             "pattern": {
              "fillmode": "overlay",
              "size": 10,
              "solidity": 0.2
             }
            },
            "type": "histogram"
           }
          ],
          "histogram2d": [
           {
            "colorbar": {
             "outlinewidth": 0,
             "ticks": ""
            },
            "colorscale": [
             [
              0,
              "#0d0887"
             ],
             [
              0.1111111111111111,
              "#46039f"
             ],
             [
              0.2222222222222222,
              "#7201a8"
             ],
             [
              0.3333333333333333,
              "#9c179e"
             ],
             [
              0.4444444444444444,
              "#bd3786"
             ],
             [
              0.5555555555555556,
              "#d8576b"
             ],
             [
              0.6666666666666666,
              "#ed7953"
             ],
             [
              0.7777777777777778,
              "#fb9f3a"
             ],
             [
              0.8888888888888888,
              "#fdca26"
             ],
             [
              1,
              "#f0f921"
             ]
            ],
            "type": "histogram2d"
           }
          ],
          "histogram2dcontour": [
           {
            "colorbar": {
             "outlinewidth": 0,
             "ticks": ""
            },
            "colorscale": [
             [
              0,
              "#0d0887"
             ],
             [
              0.1111111111111111,
              "#46039f"
             ],
             [
              0.2222222222222222,
              "#7201a8"
             ],
             [
              0.3333333333333333,
              "#9c179e"
             ],
             [
              0.4444444444444444,
              "#bd3786"
             ],
             [
              0.5555555555555556,
              "#d8576b"
             ],
             [
              0.6666666666666666,
              "#ed7953"
             ],
             [
              0.7777777777777778,
              "#fb9f3a"
             ],
             [
              0.8888888888888888,
              "#fdca26"
             ],
             [
              1,
              "#f0f921"
             ]
            ],
            "type": "histogram2dcontour"
           }
          ],
          "mesh3d": [
           {
            "colorbar": {
             "outlinewidth": 0,
             "ticks": ""
            },
            "type": "mesh3d"
           }
          ],
          "parcoords": [
           {
            "line": {
             "colorbar": {
              "outlinewidth": 0,
              "ticks": ""
             }
            },
            "type": "parcoords"
           }
          ],
          "pie": [
           {
            "automargin": true,
            "type": "pie"
           }
          ],
          "scatter": [
           {
            "fillpattern": {
             "fillmode": "overlay",
             "size": 10,
             "solidity": 0.2
            },
            "type": "scatter"
           }
          ],
          "scatter3d": [
           {
            "line": {
             "colorbar": {
              "outlinewidth": 0,
              "ticks": ""
             }
            },
            "marker": {
             "colorbar": {
              "outlinewidth": 0,
              "ticks": ""
             }
            },
            "type": "scatter3d"
           }
          ],
          "scattercarpet": [
           {
            "marker": {
             "colorbar": {
              "outlinewidth": 0,
              "ticks": ""
             }
            },
            "type": "scattercarpet"
           }
          ],
          "scattergeo": [
           {
            "marker": {
             "colorbar": {
              "outlinewidth": 0,
              "ticks": ""
             }
            },
            "type": "scattergeo"
           }
          ],
          "scattergl": [
           {
            "marker": {
             "colorbar": {
              "outlinewidth": 0,
              "ticks": ""
             }
            },
            "type": "scattergl"
           }
          ],
          "scattermapbox": [
           {
            "marker": {
             "colorbar": {
              "outlinewidth": 0,
              "ticks": ""
             }
            },
            "type": "scattermapbox"
           }
          ],
          "scatterpolar": [
           {
            "marker": {
             "colorbar": {
              "outlinewidth": 0,
              "ticks": ""
             }
            },
            "type": "scatterpolar"
           }
          ],
          "scatterpolargl": [
           {
            "marker": {
             "colorbar": {
              "outlinewidth": 0,
              "ticks": ""
             }
            },
            "type": "scatterpolargl"
           }
          ],
          "scatterternary": [
           {
            "marker": {
             "colorbar": {
              "outlinewidth": 0,
              "ticks": ""
             }
            },
            "type": "scatterternary"
           }
          ],
          "surface": [
           {
            "colorbar": {
             "outlinewidth": 0,
             "ticks": ""
            },
            "colorscale": [
             [
              0,
              "#0d0887"
             ],
             [
              0.1111111111111111,
              "#46039f"
             ],
             [
              0.2222222222222222,
              "#7201a8"
             ],
             [
              0.3333333333333333,
              "#9c179e"
             ],
             [
              0.4444444444444444,
              "#bd3786"
             ],
             [
              0.5555555555555556,
              "#d8576b"
             ],
             [
              0.6666666666666666,
              "#ed7953"
             ],
             [
              0.7777777777777778,
              "#fb9f3a"
             ],
             [
              0.8888888888888888,
              "#fdca26"
             ],
             [
              1,
              "#f0f921"
             ]
            ],
            "type": "surface"
           }
          ],
          "table": [
           {
            "cells": {
             "fill": {
              "color": "#EBF0F8"
             },
             "line": {
              "color": "white"
             }
            },
            "header": {
             "fill": {
              "color": "#C8D4E3"
             },
             "line": {
              "color": "white"
             }
            },
            "type": "table"
           }
          ]
         },
         "layout": {
          "annotationdefaults": {
           "arrowcolor": "#2a3f5f",
           "arrowhead": 0,
           "arrowwidth": 1
          },
          "autotypenumbers": "strict",
          "coloraxis": {
           "colorbar": {
            "outlinewidth": 0,
            "ticks": ""
           }
          },
          "colorscale": {
           "diverging": [
            [
             0,
             "#8e0152"
            ],
            [
             0.1,
             "#c51b7d"
            ],
            [
             0.2,
             "#de77ae"
            ],
            [
             0.3,
             "#f1b6da"
            ],
            [
             0.4,
             "#fde0ef"
            ],
            [
             0.5,
             "#f7f7f7"
            ],
            [
             0.6,
             "#e6f5d0"
            ],
            [
             0.7,
             "#b8e186"
            ],
            [
             0.8,
             "#7fbc41"
            ],
            [
             0.9,
             "#4d9221"
            ],
            [
             1,
             "#276419"
            ]
           ],
           "sequential": [
            [
             0,
             "#0d0887"
            ],
            [
             0.1111111111111111,
             "#46039f"
            ],
            [
             0.2222222222222222,
             "#7201a8"
            ],
            [
             0.3333333333333333,
             "#9c179e"
            ],
            [
             0.4444444444444444,
             "#bd3786"
            ],
            [
             0.5555555555555556,
             "#d8576b"
            ],
            [
             0.6666666666666666,
             "#ed7953"
            ],
            [
             0.7777777777777778,
             "#fb9f3a"
            ],
            [
             0.8888888888888888,
             "#fdca26"
            ],
            [
             1,
             "#f0f921"
            ]
           ],
           "sequentialminus": [
            [
             0,
             "#0d0887"
            ],
            [
             0.1111111111111111,
             "#46039f"
            ],
            [
             0.2222222222222222,
             "#7201a8"
            ],
            [
             0.3333333333333333,
             "#9c179e"
            ],
            [
             0.4444444444444444,
             "#bd3786"
            ],
            [
             0.5555555555555556,
             "#d8576b"
            ],
            [
             0.6666666666666666,
             "#ed7953"
            ],
            [
             0.7777777777777778,
             "#fb9f3a"
            ],
            [
             0.8888888888888888,
             "#fdca26"
            ],
            [
             1,
             "#f0f921"
            ]
           ]
          },
          "colorway": [
           "#636efa",
           "#EF553B",
           "#00cc96",
           "#ab63fa",
           "#FFA15A",
           "#19d3f3",
           "#FF6692",
           "#B6E880",
           "#FF97FF",
           "#FECB52"
          ],
          "font": {
           "color": "#2a3f5f"
          },
          "geo": {
           "bgcolor": "white",
           "lakecolor": "white",
           "landcolor": "#E5ECF6",
           "showlakes": true,
           "showland": true,
           "subunitcolor": "white"
          },
          "hoverlabel": {
           "align": "left"
          },
          "hovermode": "closest",
          "mapbox": {
           "style": "light"
          },
          "paper_bgcolor": "white",
          "plot_bgcolor": "#E5ECF6",
          "polar": {
           "angularaxis": {
            "gridcolor": "white",
            "linecolor": "white",
            "ticks": ""
           },
           "bgcolor": "#E5ECF6",
           "radialaxis": {
            "gridcolor": "white",
            "linecolor": "white",
            "ticks": ""
           }
          },
          "scene": {
           "xaxis": {
            "backgroundcolor": "#E5ECF6",
            "gridcolor": "white",
            "gridwidth": 2,
            "linecolor": "white",
            "showbackground": true,
            "ticks": "",
            "zerolinecolor": "white"
           },
           "yaxis": {
            "backgroundcolor": "#E5ECF6",
            "gridcolor": "white",
            "gridwidth": 2,
            "linecolor": "white",
            "showbackground": true,
            "ticks": "",
            "zerolinecolor": "white"
           },
           "zaxis": {
            "backgroundcolor": "#E5ECF6",
            "gridcolor": "white",
            "gridwidth": 2,
            "linecolor": "white",
            "showbackground": true,
            "ticks": "",
            "zerolinecolor": "white"
           }
          },
          "shapedefaults": {
           "line": {
            "color": "#2a3f5f"
           }
          },
          "ternary": {
           "aaxis": {
            "gridcolor": "white",
            "linecolor": "white",
            "ticks": ""
           },
           "baxis": {
            "gridcolor": "white",
            "linecolor": "white",
            "ticks": ""
           },
           "bgcolor": "#E5ECF6",
           "caxis": {
            "gridcolor": "white",
            "linecolor": "white",
            "ticks": ""
           }
          },
          "title": {
           "x": 0.05
          },
          "xaxis": {
           "automargin": true,
           "gridcolor": "white",
           "linecolor": "white",
           "ticks": "",
           "title": {
            "standoff": 15
           },
           "zerolinecolor": "white",
           "zerolinewidth": 2
          },
          "yaxis": {
           "automargin": true,
           "gridcolor": "white",
           "linecolor": "white",
           "ticks": "",
           "title": {
            "standoff": 15
           },
           "zerolinecolor": "white",
           "zerolinewidth": 2
          }
         }
        },
        "title": {
         "text": "Histogram of Deviance Residuals"
        },
        "xaxis": {
         "anchor": "y",
         "domain": [
          0,
          1
         ],
         "title": {
          "text": "Deviance Residuals"
         }
        },
        "xaxis2": {
         "anchor": "y2",
         "domain": [
          0,
          1
         ],
         "matches": "x",
         "showgrid": true,
         "showticklabels": false
        },
        "yaxis": {
         "anchor": "x",
         "domain": [
          0,
          0.8316
         ],
         "title": {
          "text": "count"
         }
        },
        "yaxis2": {
         "anchor": "x2",
         "domain": [
          0.8416,
          1
         ],
         "matches": "y2",
         "showgrid": false,
         "showline": false,
         "showticklabels": false,
         "ticks": ""
        }
       }
      }
     },
     "metadata": {},
     "output_type": "display_data"
    }
   ],
   "source": [
    "residual_hist(testdf, 'Deviance Residuals', bins=25)"
   ]
  },
  {
   "cell_type": "code",
   "execution_count": 196,
   "metadata": {},
   "outputs": [
    {
     "data": {
      "text/plain": [
       "153725.5098169908"
      ]
     },
     "execution_count": 196,
     "metadata": {},
     "output_type": "execute_result"
    }
   ],
   "source": [
    "# function to calculate the RMSE\n",
    "def rmse(df, y_col='y', y_pred_col='y_pred') -> float:\n",
    "    return np.sqrt(sklearn.metrics.mean_squared_error(df[y_col], df[y_pred_col]))\n",
    "\n",
    "rmse(testdf)"
   ]
  },
  {
   "cell_type": "code",
   "execution_count": 197,
   "metadata": {},
   "outputs": [],
   "source": [
    "#mean_squared_error, mean_absolute_error, mean_poisson_deviance, median_absolute_error, d2_tweedie_score"
   ]
  },
  {
   "cell_type": "code",
   "execution_count": 198,
   "metadata": {},
   "outputs": [
    {
     "data": {
      "text/plain": [
       "115724.84137346964"
      ]
     },
     "execution_count": 198,
     "metadata": {},
     "output_type": "execute_result"
    }
   ],
   "source": [
    "# function to calculate the MAE\n",
    "def mae(df, y_col='y', y_pred_col='y_pred') -> float:\n",
    "    return sklearn.metrics.mean_absolute_error(df[y_col], df[y_pred_col])\n",
    "\n",
    "mae(testdf)"
   ]
  },
  {
   "cell_type": "code",
   "execution_count": 199,
   "metadata": {},
   "outputs": [
    {
     "data": {
      "text/plain": [
       "41334.76739369808"
      ]
     },
     "execution_count": 199,
     "metadata": {},
     "output_type": "execute_result"
    }
   ],
   "source": [
    "def mpd(df, y_col='y', y_pred_col='y_pred') -> float:\n",
    "    return sklearn.metrics.mean_poisson_deviance(df[y_col], df[y_pred_col])\n",
    "\n",
    "mpd(testdf)"
   ]
  },
  {
   "cell_type": "code",
   "execution_count": 200,
   "metadata": {},
   "outputs": [
    {
     "data": {
      "text/plain": [
       "0.8030158902826094"
      ]
     },
     "execution_count": 200,
     "metadata": {},
     "output_type": "execute_result"
    }
   ],
   "source": [
    "def d2_tweedie(df, y_col='y', y_pred_col='y_pred') -> float:\n",
    "    return sklearn.metrics.d2_tweedie_score(df[y_col], df[y_pred_col])\n",
    "\n",
    "d2_tweedie(testdf)"
   ]
  },
  {
   "cell_type": "code",
   "execution_count": 201,
   "metadata": {},
   "outputs": [
    {
     "data": {
      "text/plain": [
       "-462172251.7244816"
      ]
     },
     "execution_count": 201,
     "metadata": {},
     "output_type": "execute_result"
    }
   ],
   "source": [
    "def log_likelihood(df, y_col='y', y_pred_col='y_pred') -> float:\n",
    "    \"\"\"\n",
    "    Calculate the ln(likelihood) of the Poisson GLM model. Likelihood is the product of the\n",
    "    Poisson PMF for each observation, so we take the log of the product to get the log-likelihood.\n",
    "\n",
    "    Parameters\n",
    "    ----------\n",
    "    df : pandas.DataFrame\n",
    "        DataFrame containing the actual and predicted values of the response variable.\n",
    "    y_col : str, optional\n",
    "        Name of the column containing the actual values of the response variable, by default 'y'\n",
    "    y_pred_col : str, optional\n",
    "        Name of the column containing the predicted values of the response variable, by default 'y_pred'\n",
    "\n",
    "    Returns\n",
    "    -------\n",
    "    float\n",
    "        The likelihood of the Poisson GLM model.\n",
    "    \"\"\"\n",
    "    return np.sum(np.log(df[y_pred_col]) - df[y_col] * np.log(df[y_pred_col]) + np.log(df[y_pred_col]))\n",
    "    \n",
    "\n",
    "log_likelihood(testdf)"
   ]
  },
  {
   "cell_type": "code",
   "execution_count": 202,
   "metadata": {},
   "outputs": [
    {
     "data": {
      "text/plain": [
       "924344541.4489632"
      ]
     },
     "execution_count": 202,
     "metadata": {},
     "output_type": "execute_result"
    }
   ],
   "source": [
    "def aic(df, y_col='y', y_pred_col='y_pred', k=2) -> float:\n",
    "    \"\"\"\n",
    "    Calculate the AIC of the Poisson GLM model.\n",
    "\n",
    "    Parameters\n",
    "    ----------\n",
    "    df : pandas.DataFrame\n",
    "        DataFrame containing the actual and predicted values of the response variable.\n",
    "    y_col : str, optional\n",
    "        Name of the column containing the actual values of the response variable, by default 'y'\n",
    "    y_pred_col : str, optional\n",
    "        Name of the column containing the predicted values of the response variable, by default 'y_pred'\n",
    "    k : int, optional\n",
    "        Number of parameters in the model, by default 2\n",
    "\n",
    "    Returns\n",
    "    -------\n",
    "    float\n",
    "        The AIC of the Poisson GLM model.\n",
    "    \"\"\"\n",
    "    return -2 * log_likelihood(df, y_col, y_pred_col) + 2 * k\n",
    "\n",
    "aic(testdf, k=parameter_table.params.nunique())"
   ]
  },
  {
   "cell_type": "code",
   "execution_count": 203,
   "metadata": {},
   "outputs": [
    {
     "data": {
      "text/plain": [
       "924344579.5882937"
      ]
     },
     "execution_count": 203,
     "metadata": {},
     "output_type": "execute_result"
    }
   ],
   "source": [
    "def bic(df, y_col='y', y_pred_col='y_pred', k=2) -> float:\n",
    "    \"\"\"\n",
    "    Calculate the BIC of the Poisson GLM model.\n",
    "\n",
    "    Parameters\n",
    "    ----------\n",
    "    df : pandas.DataFrame\n",
    "        DataFrame containing the actual and predicted values of the response variable.\n",
    "    y_col : str, optional\n",
    "        Name of the column containing the actual values of the response variable, by default 'y'\n",
    "    y_pred_col : str, optional\n",
    "        Name of the column containing the predicted values of the response variable, by default 'y_pred'\n",
    "    k : int, optional\n",
    "        Number of parameters in the model, by default 2\n",
    "\n",
    "    Returns\n",
    "    -------\n",
    "    float\n",
    "        The BIC of the Poisson GLM model.\n",
    "    \"\"\"\n",
    "    return -2 * log_likelihood(df, y_col, y_pred_col) + np.log(df.shape[0]) * k\n",
    "\n",
    "bic(testdf, k=parameter_table.params.nunique())"
   ]
  },
  {
   "cell_type": "code",
   "execution_count": 237,
   "metadata": {},
   "outputs": [
    {
     "name": "stderr",
     "output_type": "stream",
     "text": [
      "C:\\Users\\AndyW\\AppData\\Local\\Temp\\ipykernel_15928\\1949150738.py:181: RuntimeWarning:\n",
      "\n",
      "invalid value encountered in sqrt\n",
      "\n"
     ]
    },
    {
     "data": {
      "text/plain": [
       "0     222.6\n",
       "1      43.5\n",
       "2     321.1\n",
       "3     298.1\n",
       "4     460.8\n",
       "5     114.9\n",
       "6      48.3\n",
       "7     155.1\n",
       "8       0.0\n",
       "9       NaN\n",
       "10    158.2\n",
       "11    164.0\n",
       "12    109.8\n",
       "13    526.1\n",
       "14    842.1\n",
       "Name: Cook's Distance, dtype: float64"
      ]
     },
     "execution_count": 237,
     "metadata": {},
     "output_type": "execute_result"
    }
   ],
   "source": [
    "def cooks_distance(df, x_col=None, y_pred_col='y_pred', model=None, boolean=False) -> float:\n",
    "    \"\"\"\n",
    "    Calculate the Cook's distance of the Poisson GLM model. Cook's distance is a measure of the\n",
    "    influence of an observation on the model. It is calculated as the squared residuals\n",
    "    multiplied by the leverage of the observation, divided by the number of parameters in the\n",
    "    model and the (1 - leverage) of the observation.\n",
    "\n",
    "    Higher values of Cook's distance indicate that the observation has a greater influence on\n",
    "    the model, and a value is considered influential if it is greater than the median of an F   \n",
    "    distribution with p and n-p-1 degrees of freedom, where p is the number of parameters in the\n",
    "    model and n is the number of observations.\n",
    "\n",
    "    Cook's distance can also expressed using the leverage and studentized residuals:\n",
    "\n",
    "    $$\n",
    "    \\text{Cook's distance} = \\frac{t_i^2}{p} \\cdot \\frac{h_{ii}}{1-h_{ii}}\n",
    "    $$\n",
    "\n",
    "    Parameters\n",
    "    ----------\n",
    "    df : pandas.DataFrame\n",
    "        DataFrame containing the actual and predicted values of the response variable.\n",
    "    x_col : str, optional\n",
    "        Name of the column containing the explanatory variables, by default None\n",
    "    y_pred_col : str, optional\n",
    "        Name of the column containing the predicted values of the response variable, by default 'y_pred'\n",
    "    model : sklearn.linear_model.PoissonRegressor, optional\n",
    "        The Poisson GLM model, by default None\n",
    "    boolean : bool, optional\n",
    "        Whether to return a boolean array of observations with a Cook's distance greater than the\n",
    "        cutoff, by default False\n",
    "\n",
    "    Returns\n",
    "    -------\n",
    "    float\n",
    "        The Cook's distance of the Poisson GLM model.\n",
    "\n",
    "    \"\"\"\n",
    "    n_params = model.coef_.shape[0] + 1\n",
    "    leverage = leverage_poisson(df=df, model=model, y_pred_col=y_pred_col, x_col=x_col)\n",
    "    studentized_residuals = studentized_residuals_poisson(df=df, model=model, y_pred_col=y_pred_col, x_col=x_col)\n",
    "    cooks_d = (studentized_residuals ** 2) * leverage / (n_params * (1 - leverage))\n",
    "    cooks_d = pd.Series(cooks_d, index=df.index, name=\"Cook's Distance\")\n",
    "\n",
    "    if boolean:\n",
    "        cutoff = scipy.stats.f.median(n_params, df.shape[0] - n_params - 1)\n",
    "        return cooks_d.fillna(0) > cutoff\n",
    "    else:\n",
    "        return cooks_d\n",
    "\n",
    "x_cols = rsv.tri.paid_loss.X_base.columns[1:].tolist() + ['intercept']\n",
    "cooks_distance(testdf, x_col=x_cols, model=model)[:15].round(1)\n",
    "    "
   ]
  },
  {
   "cell_type": "code",
   "execution_count": 243,
   "metadata": {},
   "outputs": [
    {
     "data": {
      "application/vnd.plotly.v1+json": {
       "config": {
        "plotlyServerURL": "https://plot.ly"
       },
       "data": [
        {
         "customdata": [
          [
           1,
           1,
           1,
           222.64587835224245
          ],
          [
           2,
           1,
           2,
           43.51301869583128
          ],
          [
           3,
           1,
           3,
           321.12418592921154
          ],
          [
           4,
           1,
           4,
           298.13197511015875
          ],
          [
           5,
           1,
           5,
           460.8373375302651
          ],
          [
           6,
           1,
           6,
           114.86484755898621
          ],
          [
           7,
           1,
           7,
           48.285195832067245
          ],
          [
           8,
           1,
           8,
           155.11792797664017
          ],
          [
           9,
           1,
           9,
           0.000001667877241295403
          ],
          [
           1,
           2,
           2,
           158.23828160047478
          ],
          [
           2,
           2,
           3,
           163.96653076665388
          ],
          [
           3,
           2,
           4,
           109.77760828352898
          ],
          [
           4,
           2,
           5,
           526.0534544412127
          ],
          [
           5,
           2,
           6,
           842.0700863249558
          ],
          [
           6,
           2,
           7,
           305.06946604541344
          ],
          [
           7,
           2,
           8,
           1334.6857114143615
          ],
          [
           8,
           2,
           9,
           234.45557475316153
          ],
          [
           9,
           2,
           10,
           1829.6103389050832
          ],
          [
           1,
           3,
           3,
           251.192024290448
          ],
          [
           2,
           3,
           4,
           3.606850573135818
          ],
          [
           3,
           3,
           5,
           2.1027903685576863
          ],
          [
           4,
           3,
           6,
           1376.9159817789543
          ],
          [
           5,
           3,
           7,
           1098.4650150429065
          ],
          [
           6,
           3,
           8,
           0.4044809312105376
          ],
          [
           7,
           3,
           9,
           880.9460440512462
          ],
          [
           8,
           3,
           10,
           18954.467901255528
          ],
          [
           1,
           4,
           4,
           3335.637222567107
          ],
          [
           2,
           4,
           5,
           611.9725583498202
          ],
          [
           3,
           4,
           6,
           23.645906855933806
          ],
          [
           4,
           4,
           7,
           8761.979066244277
          ],
          [
           5,
           4,
           8,
           1073.085068399291
          ],
          [
           6,
           4,
           9,
           936.2072365389232
          ],
          [
           7,
           4,
           10,
           156.0535028320407
          ],
          [
           1,
           5,
           5,
           817.3720552132174
          ],
          [
           2,
           5,
           6,
           419.1392203522752
          ],
          [
           3,
           5,
           7,
           2249.095702948253
          ],
          [
           4,
           5,
           8,
           3969.590459211849
          ],
          [
           5,
           5,
           9,
           50.26491831943069
          ],
          [
           6,
           5,
           10,
           2754.2450397068483
          ],
          [
           1,
           6,
           6,
           6050.306408705974
          ],
          [
           2,
           6,
           7,
           178.35203498400668
          ],
          [
           3,
           6,
           8,
           3438.678472907903
          ],
          [
           4,
           6,
           9,
           69.43773775765604
          ],
          [
           5,
           6,
           10,
           1529.781963210742
          ],
          [
           1,
           7,
           7,
           2195.494591438198
          ],
          [
           2,
           7,
           8,
           817.0709815882358
          ],
          [
           3,
           7,
           9,
           430.993825548063
          ],
          [
           4,
           7,
           10,
           4974.730736321795
          ],
          [
           1,
           8,
           8,
           184.97587240946748
          ],
          [
           2,
           8,
           9,
           236.37957580825162
          ],
          [
           3,
           8,
           10,
           547.8329488574346
          ],
          [
           1,
           9,
           9,
           0.000055738804827621805
          ],
          [
           2,
           9,
           10,
           8169.172872810622
          ]
         ],
         "hovertemplate": "y=%{x}<br>cooks_ratio=%{y}<br>ay=%{customdata[0]}<br>dev=%{customdata[1]}<br>cal=%{customdata[2]}<br>cooks_d=%{customdata[3]}<extra></extra>",
         "legendgroup": "",
         "marker": {
          "color": "#636efa",
          "symbol": "circle"
         },
         "mode": "markers",
         "name": "",
         "orientation": "v",
         "showlegend": false,
         "type": "scatter",
         "x": [
          357848,
          352118,
          290507,
          310608,
          443160,
          396132,
          440832,
          359480,
          376686,
          766940,
          884021,
          1001799,
          1108250,
          693190,
          937085,
          847631,
          1061648,
          986608,
          610542,
          933894,
          926219,
          776189,
          991983,
          847498,
          1131398,
          1443370,
          482940,
          1183289,
          1016654,
          1562400,
          769488,
          805037,
          1063269,
          527326,
          445745,
          750816,
          272482,
          504851,
          705960,
          574398,
          320996,
          146923,
          352053,
          470639,
          146342,
          527804,
          495992,
          206286,
          139950,
          266172,
          280405,
          227229,
          425046
         ],
         "xaxis": "x",
         "y": [
          0.0006221800271406923,
          0.00012357510464057865,
          0.0011053922484801108,
          0.0009598335365159904,
          0.0010398892894897217,
          0.0002899660909974105,
          0.00010953196644541967,
          0.0004315064203200183,
          4.427765410170282e-12,
          0.00020632419954686777,
          0.00018547809471342183,
          0.00010958047301257935,
          0.00047467038523908207,
          0.00121477529439974,
          0.0003255515412640405,
          0.001574607006367584,
          0.00022084115898410916,
          0.0018544450672456367,
          0.00041142464284266763,
          0.000003862162700623216,
          0.0000022702950042675504,
          0.0017739442091796642,
          0.0011073425805108621,
          4.772647619351758e-7,
          0.0007786349666971713,
          0.013132092187904369,
          0.006906939211014013,
          0.0005171792844772665,
          0.00002325855881738901,
          0.005608025516029363,
          0.0013945442533207677,
          0.0011629369041906436,
          0.00014676765976628746,
          0.0015500317739182545,
          0.0009403116588010525,
          0.0029955351283779954,
          0.014568266745002785,
          0.00009956386799160681,
          0.003901417983606505,
          0.010533299922189794,
          0.000555620739772479,
          0.023404630132163807,
          0.00019723660289120115,
          0.003250436031035979,
          0.015002491365692677,
          0.0015480575774117584,
          0.0008689531797852849,
          0.02411569731499857,
          0.0013217282773095211,
          0.0008880707805789175,
          0.0019537203290149415,
          2.4529793656453093e-10,
          0.01921950300158247
         ],
         "yaxis": "y"
        },
        {
         "hovertemplate": "<b>OLS trendline</b><br>cooks_ratio = -4.1372e-09 * y + 0.00587121<br>R<sup>2</sup>=0.058368<br><br>y=%{x}<br>cooks_ratio=%{y} <b>(trend)</b><extra></extra>",
         "legendgroup": "",
         "marker": {
          "color": "#636efa",
          "symbol": "circle"
         },
         "mode": "lines",
         "name": "",
         "showlegend": false,
         "type": "scatter",
         "x": [
          139950,
          146342,
          146923,
          206286,
          227229,
          266172,
          272482,
          280405,
          290507,
          310608,
          320996,
          352053,
          352118,
          357848,
          359480,
          376686,
          396132,
          425046,
          440832,
          443160,
          445745,
          470639,
          482940,
          495992,
          504851,
          527326,
          527804,
          574398,
          610542,
          693190,
          705960,
          750816,
          766940,
          769488,
          776189,
          805037,
          847498,
          847631,
          884021,
          926219,
          933894,
          937085,
          986608,
          991983,
          1001799,
          1016654,
          1061648,
          1063269,
          1108250,
          1131398,
          1183289,
          1443370,
          1562400
         ],
         "xaxis": "x",
         "y": [
          0.00529221191339651,
          0.005265766942849953,
          0.0052633632307273704,
          0.005017766737211216,
          0.004931121396448302,
          0.004770006489064922,
          0.004743900768766302,
          0.00471112174785886,
          0.004669327772192196,
          0.0045861659522678615,
          0.004543188737931561,
          0.004414699775124237,
          0.004414430857244774,
          0.0043907247118705915,
          0.004383972804497003,
          0.004312788173204127,
          0.004232336218065149,
          0.0041127132708838054,
          0.004047403460957656,
          0.004037772063674743,
          0.004027077406468414,
          0.003924085995832308,
          0.00387319432144351,
          0.0038191956112473805,
          0.0037825441728756735,
          0.0036895606445537295,
          0.0036875830638401414,
          0.0034948144534449168,
          0.0033452795636710188,
          0.003003348411334999,
          0.002950516391015923,
          0.002764938230997719,
          0.0026982300480983628,
          0.002687688467223421,
          0.0026599651024498796,
          0.002540615210346144,
          0.002364945639886608,
          0.0023643953925332455,
          0.0022138427520155346,
          0.0020392612646682865,
          0.0020075082689009482,
          0.001994306469618398,
          0.0017894200058547654,
          0.001767182565822264,
          0.0017265718288252364,
          0.0016651137503726227,
          0.001478964657010329,
          0.0014722582588163413,
          0.0012861629490299393,
          0.001190395086356019,
          0.0009757117373836487,
          -0.00010029489351733381,
          -0.0005927455887859007
         ],
         "yaxis": "y"
        }
       ],
       "layout": {
        "legend": {
         "tracegroupgap": 0
        },
        "margin": {
         "t": 60
        },
        "template": {
         "data": {
          "bar": [
           {
            "error_x": {
             "color": "#2a3f5f"
            },
            "error_y": {
             "color": "#2a3f5f"
            },
            "marker": {
             "line": {
              "color": "#E5ECF6",
              "width": 0.5
             },
             "pattern": {
              "fillmode": "overlay",
              "size": 10,
              "solidity": 0.2
             }
            },
            "type": "bar"
           }
          ],
          "barpolar": [
           {
            "marker": {
             "line": {
              "color": "#E5ECF6",
              "width": 0.5
             },
             "pattern": {
              "fillmode": "overlay",
              "size": 10,
              "solidity": 0.2
             }
            },
            "type": "barpolar"
           }
          ],
          "carpet": [
           {
            "aaxis": {
             "endlinecolor": "#2a3f5f",
             "gridcolor": "white",
             "linecolor": "white",
             "minorgridcolor": "white",
             "startlinecolor": "#2a3f5f"
            },
            "baxis": {
             "endlinecolor": "#2a3f5f",
             "gridcolor": "white",
             "linecolor": "white",
             "minorgridcolor": "white",
             "startlinecolor": "#2a3f5f"
            },
            "type": "carpet"
           }
          ],
          "choropleth": [
           {
            "colorbar": {
             "outlinewidth": 0,
             "ticks": ""
            },
            "type": "choropleth"
           }
          ],
          "contour": [
           {
            "colorbar": {
             "outlinewidth": 0,
             "ticks": ""
            },
            "colorscale": [
             [
              0,
              "#0d0887"
             ],
             [
              0.1111111111111111,
              "#46039f"
             ],
             [
              0.2222222222222222,
              "#7201a8"
             ],
             [
              0.3333333333333333,
              "#9c179e"
             ],
             [
              0.4444444444444444,
              "#bd3786"
             ],
             [
              0.5555555555555556,
              "#d8576b"
             ],
             [
              0.6666666666666666,
              "#ed7953"
             ],
             [
              0.7777777777777778,
              "#fb9f3a"
             ],
             [
              0.8888888888888888,
              "#fdca26"
             ],
             [
              1,
              "#f0f921"
             ]
            ],
            "type": "contour"
           }
          ],
          "contourcarpet": [
           {
            "colorbar": {
             "outlinewidth": 0,
             "ticks": ""
            },
            "type": "contourcarpet"
           }
          ],
          "heatmap": [
           {
            "colorbar": {
             "outlinewidth": 0,
             "ticks": ""
            },
            "colorscale": [
             [
              0,
              "#0d0887"
             ],
             [
              0.1111111111111111,
              "#46039f"
             ],
             [
              0.2222222222222222,
              "#7201a8"
             ],
             [
              0.3333333333333333,
              "#9c179e"
             ],
             [
              0.4444444444444444,
              "#bd3786"
             ],
             [
              0.5555555555555556,
              "#d8576b"
             ],
             [
              0.6666666666666666,
              "#ed7953"
             ],
             [
              0.7777777777777778,
              "#fb9f3a"
             ],
             [
              0.8888888888888888,
              "#fdca26"
             ],
             [
              1,
              "#f0f921"
             ]
            ],
            "type": "heatmap"
           }
          ],
          "heatmapgl": [
           {
            "colorbar": {
             "outlinewidth": 0,
             "ticks": ""
            },
            "colorscale": [
             [
              0,
              "#0d0887"
             ],
             [
              0.1111111111111111,
              "#46039f"
             ],
             [
              0.2222222222222222,
              "#7201a8"
             ],
             [
              0.3333333333333333,
              "#9c179e"
             ],
             [
              0.4444444444444444,
              "#bd3786"
             ],
             [
              0.5555555555555556,
              "#d8576b"
             ],
             [
              0.6666666666666666,
              "#ed7953"
             ],
             [
              0.7777777777777778,
              "#fb9f3a"
             ],
             [
              0.8888888888888888,
              "#fdca26"
             ],
             [
              1,
              "#f0f921"
             ]
            ],
            "type": "heatmapgl"
           }
          ],
          "histogram": [
           {
            "marker": {
             "pattern": {
              "fillmode": "overlay",
              "size": 10,
              "solidity": 0.2
             }
            },
            "type": "histogram"
           }
          ],
          "histogram2d": [
           {
            "colorbar": {
             "outlinewidth": 0,
             "ticks": ""
            },
            "colorscale": [
             [
              0,
              "#0d0887"
             ],
             [
              0.1111111111111111,
              "#46039f"
             ],
             [
              0.2222222222222222,
              "#7201a8"
             ],
             [
              0.3333333333333333,
              "#9c179e"
             ],
             [
              0.4444444444444444,
              "#bd3786"
             ],
             [
              0.5555555555555556,
              "#d8576b"
             ],
             [
              0.6666666666666666,
              "#ed7953"
             ],
             [
              0.7777777777777778,
              "#fb9f3a"
             ],
             [
              0.8888888888888888,
              "#fdca26"
             ],
             [
              1,
              "#f0f921"
             ]
            ],
            "type": "histogram2d"
           }
          ],
          "histogram2dcontour": [
           {
            "colorbar": {
             "outlinewidth": 0,
             "ticks": ""
            },
            "colorscale": [
             [
              0,
              "#0d0887"
             ],
             [
              0.1111111111111111,
              "#46039f"
             ],
             [
              0.2222222222222222,
              "#7201a8"
             ],
             [
              0.3333333333333333,
              "#9c179e"
             ],
             [
              0.4444444444444444,
              "#bd3786"
             ],
             [
              0.5555555555555556,
              "#d8576b"
             ],
             [
              0.6666666666666666,
              "#ed7953"
             ],
             [
              0.7777777777777778,
              "#fb9f3a"
             ],
             [
              0.8888888888888888,
              "#fdca26"
             ],
             [
              1,
              "#f0f921"
             ]
            ],
            "type": "histogram2dcontour"
           }
          ],
          "mesh3d": [
           {
            "colorbar": {
             "outlinewidth": 0,
             "ticks": ""
            },
            "type": "mesh3d"
           }
          ],
          "parcoords": [
           {
            "line": {
             "colorbar": {
              "outlinewidth": 0,
              "ticks": ""
             }
            },
            "type": "parcoords"
           }
          ],
          "pie": [
           {
            "automargin": true,
            "type": "pie"
           }
          ],
          "scatter": [
           {
            "fillpattern": {
             "fillmode": "overlay",
             "size": 10,
             "solidity": 0.2
            },
            "type": "scatter"
           }
          ],
          "scatter3d": [
           {
            "line": {
             "colorbar": {
              "outlinewidth": 0,
              "ticks": ""
             }
            },
            "marker": {
             "colorbar": {
              "outlinewidth": 0,
              "ticks": ""
             }
            },
            "type": "scatter3d"
           }
          ],
          "scattercarpet": [
           {
            "marker": {
             "colorbar": {
              "outlinewidth": 0,
              "ticks": ""
             }
            },
            "type": "scattercarpet"
           }
          ],
          "scattergeo": [
           {
            "marker": {
             "colorbar": {
              "outlinewidth": 0,
              "ticks": ""
             }
            },
            "type": "scattergeo"
           }
          ],
          "scattergl": [
           {
            "marker": {
             "colorbar": {
              "outlinewidth": 0,
              "ticks": ""
             }
            },
            "type": "scattergl"
           }
          ],
          "scattermapbox": [
           {
            "marker": {
             "colorbar": {
              "outlinewidth": 0,
              "ticks": ""
             }
            },
            "type": "scattermapbox"
           }
          ],
          "scatterpolar": [
           {
            "marker": {
             "colorbar": {
              "outlinewidth": 0,
              "ticks": ""
             }
            },
            "type": "scatterpolar"
           }
          ],
          "scatterpolargl": [
           {
            "marker": {
             "colorbar": {
              "outlinewidth": 0,
              "ticks": ""
             }
            },
            "type": "scatterpolargl"
           }
          ],
          "scatterternary": [
           {
            "marker": {
             "colorbar": {
              "outlinewidth": 0,
              "ticks": ""
             }
            },
            "type": "scatterternary"
           }
          ],
          "surface": [
           {
            "colorbar": {
             "outlinewidth": 0,
             "ticks": ""
            },
            "colorscale": [
             [
              0,
              "#0d0887"
             ],
             [
              0.1111111111111111,
              "#46039f"
             ],
             [
              0.2222222222222222,
              "#7201a8"
             ],
             [
              0.3333333333333333,
              "#9c179e"
             ],
             [
              0.4444444444444444,
              "#bd3786"
             ],
             [
              0.5555555555555556,
              "#d8576b"
             ],
             [
              0.6666666666666666,
              "#ed7953"
             ],
             [
              0.7777777777777778,
              "#fb9f3a"
             ],
             [
              0.8888888888888888,
              "#fdca26"
             ],
             [
              1,
              "#f0f921"
             ]
            ],
            "type": "surface"
           }
          ],
          "table": [
           {
            "cells": {
             "fill": {
              "color": "#EBF0F8"
             },
             "line": {
              "color": "white"
             }
            },
            "header": {
             "fill": {
              "color": "#C8D4E3"
             },
             "line": {
              "color": "white"
             }
            },
            "type": "table"
           }
          ]
         },
         "layout": {
          "annotationdefaults": {
           "arrowcolor": "#2a3f5f",
           "arrowhead": 0,
           "arrowwidth": 1
          },
          "autotypenumbers": "strict",
          "coloraxis": {
           "colorbar": {
            "outlinewidth": 0,
            "ticks": ""
           }
          },
          "colorscale": {
           "diverging": [
            [
             0,
             "#8e0152"
            ],
            [
             0.1,
             "#c51b7d"
            ],
            [
             0.2,
             "#de77ae"
            ],
            [
             0.3,
             "#f1b6da"
            ],
            [
             0.4,
             "#fde0ef"
            ],
            [
             0.5,
             "#f7f7f7"
            ],
            [
             0.6,
             "#e6f5d0"
            ],
            [
             0.7,
             "#b8e186"
            ],
            [
             0.8,
             "#7fbc41"
            ],
            [
             0.9,
             "#4d9221"
            ],
            [
             1,
             "#276419"
            ]
           ],
           "sequential": [
            [
             0,
             "#0d0887"
            ],
            [
             0.1111111111111111,
             "#46039f"
            ],
            [
             0.2222222222222222,
             "#7201a8"
            ],
            [
             0.3333333333333333,
             "#9c179e"
            ],
            [
             0.4444444444444444,
             "#bd3786"
            ],
            [
             0.5555555555555556,
             "#d8576b"
            ],
            [
             0.6666666666666666,
             "#ed7953"
            ],
            [
             0.7777777777777778,
             "#fb9f3a"
            ],
            [
             0.8888888888888888,
             "#fdca26"
            ],
            [
             1,
             "#f0f921"
            ]
           ],
           "sequentialminus": [
            [
             0,
             "#0d0887"
            ],
            [
             0.1111111111111111,
             "#46039f"
            ],
            [
             0.2222222222222222,
             "#7201a8"
            ],
            [
             0.3333333333333333,
             "#9c179e"
            ],
            [
             0.4444444444444444,
             "#bd3786"
            ],
            [
             0.5555555555555556,
             "#d8576b"
            ],
            [
             0.6666666666666666,
             "#ed7953"
            ],
            [
             0.7777777777777778,
             "#fb9f3a"
            ],
            [
             0.8888888888888888,
             "#fdca26"
            ],
            [
             1,
             "#f0f921"
            ]
           ]
          },
          "colorway": [
           "#636efa",
           "#EF553B",
           "#00cc96",
           "#ab63fa",
           "#FFA15A",
           "#19d3f3",
           "#FF6692",
           "#B6E880",
           "#FF97FF",
           "#FECB52"
          ],
          "font": {
           "color": "#2a3f5f"
          },
          "geo": {
           "bgcolor": "white",
           "lakecolor": "white",
           "landcolor": "#E5ECF6",
           "showlakes": true,
           "showland": true,
           "subunitcolor": "white"
          },
          "hoverlabel": {
           "align": "left"
          },
          "hovermode": "closest",
          "mapbox": {
           "style": "light"
          },
          "paper_bgcolor": "white",
          "plot_bgcolor": "#E5ECF6",
          "polar": {
           "angularaxis": {
            "gridcolor": "white",
            "linecolor": "white",
            "ticks": ""
           },
           "bgcolor": "#E5ECF6",
           "radialaxis": {
            "gridcolor": "white",
            "linecolor": "white",
            "ticks": ""
           }
          },
          "scene": {
           "xaxis": {
            "backgroundcolor": "#E5ECF6",
            "gridcolor": "white",
            "gridwidth": 2,
            "linecolor": "white",
            "showbackground": true,
            "ticks": "",
            "zerolinecolor": "white"
           },
           "yaxis": {
            "backgroundcolor": "#E5ECF6",
            "gridcolor": "white",
            "gridwidth": 2,
            "linecolor": "white",
            "showbackground": true,
            "ticks": "",
            "zerolinecolor": "white"
           },
           "zaxis": {
            "backgroundcolor": "#E5ECF6",
            "gridcolor": "white",
            "gridwidth": 2,
            "linecolor": "white",
            "showbackground": true,
            "ticks": "",
            "zerolinecolor": "white"
           }
          },
          "shapedefaults": {
           "line": {
            "color": "#2a3f5f"
           }
          },
          "ternary": {
           "aaxis": {
            "gridcolor": "white",
            "linecolor": "white",
            "ticks": ""
           },
           "baxis": {
            "gridcolor": "white",
            "linecolor": "white",
            "ticks": ""
           },
           "bgcolor": "#E5ECF6",
           "caxis": {
            "gridcolor": "white",
            "linecolor": "white",
            "ticks": ""
           }
          },
          "title": {
           "x": 0.05
          },
          "xaxis": {
           "automargin": true,
           "gridcolor": "white",
           "linecolor": "white",
           "ticks": "",
           "title": {
            "standoff": 15
           },
           "zerolinecolor": "white",
           "zerolinewidth": 2
          },
          "yaxis": {
           "automargin": true,
           "gridcolor": "white",
           "linecolor": "white",
           "ticks": "",
           "title": {
            "standoff": 15
           },
           "zerolinecolor": "white",
           "zerolinewidth": 2
          }
         }
        },
        "xaxis": {
         "anchor": "y",
         "domain": [
          0,
          1
         ],
         "title": {
          "text": "y"
         }
        },
        "yaxis": {
         "anchor": "x",
         "domain": [
          0,
          1
         ],
         "title": {
          "text": "cooks_ratio"
         }
        }
       }
      }
     },
     "metadata": {},
     "output_type": "display_data"
    }
   ],
   "source": [
    "dat = testdf.copy()\n",
    "dat = dat.loc[np.logical_not(dat.ay.eq(1) & dat.dev.eq(10))]\n",
    "dat = dat.loc[np.logical_not(dat.ay.eq(10) & dat.dev.eq(1))]\n",
    "dat['cooks_d'] = cooks_distance(dat, x_col=x_cols, model=model)\n",
    "dat['cooks_ratio'] = dat['cooks_d'] / dat['y']\n",
    "px.scatter(dat, x='y', y='cooks_ratio', trendline='ols', hover_data=['ay', 'dev', 'cal', 'cooks_d'])"
   ]
  },
  {
   "cell_type": "code",
   "execution_count": 230,
   "metadata": {},
   "outputs": [
    {
     "ename": "AttributeError",
     "evalue": "'ROCKY' object has no attribute 'X_train'",
     "output_type": "error",
     "traceback": [
      "\u001b[1;31m---------------------------------------------------------------------------\u001b[0m",
      "\u001b[1;31mAttributeError\u001b[0m                            Traceback (most recent call last)",
      "Cell \u001b[1;32mIn[230], line 46\u001b[0m\n\u001b[0;32m     42\u001b[0m             loo_scores\u001b[39m.\u001b[39mappend((y_test \u001b[39m-\u001b[39m y_pred) \u001b[39m*\u001b[39m\u001b[39m*\u001b[39m \u001b[39m2\u001b[39m)\n\u001b[0;32m     44\u001b[0m     \u001b[39mreturn\u001b[39;00m np\u001b[39m.\u001b[39msum(loo_scores) \u001b[39m/\u001b[39m (df\u001b[39m.\u001b[39mshape[\u001b[39m0\u001b[39m] \u001b[39m-\u001b[39m skipped)\n\u001b[1;32m---> 46\u001b[0m X \u001b[39m=\u001b[39m rsv\u001b[39m.\u001b[39;49mX_train\u001b[39m.\u001b[39mcopy()\n\u001b[0;32m     47\u001b[0m X \u001b[39m=\u001b[39m X\u001b[39m.\u001b[39mloc[:, (X\u001b[39m.\u001b[39mcolumns\u001b[39m.\u001b[39mstr\u001b[39m.\u001b[39mstartswith(\u001b[39m'\u001b[39m\u001b[39mAY_\u001b[39m\u001b[39m'\u001b[39m) \u001b[39m|\u001b[39m X\u001b[39m.\u001b[39mcolumns\u001b[39m.\u001b[39mstr\u001b[39m.\u001b[39mstartswith(\u001b[39m'\u001b[39m\u001b[39mdev_\u001b[39m\u001b[39m'\u001b[39m))]\n\u001b[0;32m     48\u001b[0m X[\u001b[39m'\u001b[39m\u001b[39mintercept\u001b[39m\u001b[39m'\u001b[39m] \u001b[39m=\u001b[39m \u001b[39m1\u001b[39m\n",
      "\u001b[1;31mAttributeError\u001b[0m: 'ROCKY' object has no attribute 'X_train'"
     ]
    }
   ],
   "source": [
    "def loo_cv(df, y_col='y', y_pred_col='y_pred', x_cols=None) -> float:\n",
    "    \"\"\"\n",
    "    Calculate the leave-one-out cross-validation (LOO-CV) of the Poisson GLM model.\n",
    "\n",
    "    Leave-one-out cross-validation is a method of estimating the out-of-sample prediction error\n",
    "    of a model by removing one observation at a time. The LOO-CV is calculated as the sum of the squared \n",
    "    errors of the holdout observations, divided by the number of observations.\n",
    "\n",
    "    Parameters\n",
    "    ----------\n",
    "    df : pandas.DataFrame\n",
    "        DataFrame containing the actual and predicted values of the response variable.\n",
    "    y_col : str, optional\n",
    "        Name of the column containing the actual values of the response variable, by default 'y'\n",
    "    y_pred_col : str, optional\n",
    "        Name of the column containing the predicted values of the response variable, by default 'y_pred'\n",
    "    x_cols : list, optional\n",
    "        List of column names containing the explanatory variables, by default None\n",
    "\n",
    "    Returns\n",
    "    -------\n",
    "    float\n",
    "        The LOO of the Poisson GLM model.\n",
    "    \"\"\"\n",
    "    X = df[x_cols]\n",
    "    y = df[y_col]\n",
    "\n",
    "    loo_scores = []\n",
    "\n",
    "    skipped = 0\n",
    "    loo = LeaveOneOut()\n",
    "    for train, test in loo.split(X):\n",
    "        if len(test) == 0:\n",
    "            skipped += 1\n",
    "        elif y.iloc[test].values[0] == 0:\n",
    "            skipped += 1\n",
    "        else:\n",
    "            X_train, X_test = X.iloc[train], X.iloc[test]\n",
    "            y_train, y_test = y.iloc[train], y.iloc[test]\n",
    "            model = PoissonRegressor().fit(X_train, y_train)\n",
    "            y_pred = model.predict(X_test)\n",
    "            loo_scores.append((y_test - y_pred) ** 2)\n",
    "\n",
    "    return np.sum(loo_scores) / (df.shape[0] - skipped)\n",
    "\n",
    "X = rsv.X_train.copy()\n",
    "X = X.loc[:, (X.columns.str.startswith('AY_') | X.columns.str.startswith('dev_'))]\n",
    "X['intercept'] = 1\n",
    "\n",
    "x_cols = X.columns.tolist()\n",
    "loo_cv(testdf, x_cols=x_cols)\n",
    "# X.columns"
   ]
  },
  {
   "cell_type": "code",
   "execution_count": null,
   "metadata": {},
   "outputs": [],
   "source": [
    "def hdim():\n",
    "    \"\"\"\n",
    "    Calculate the high-dimensional influence measure (HDIM) of the Poisson GLM model. HDIM is a\n",
    "    measure of the influence of an observation on the model. Instead of typical calculations based\n",
    "    on regression residuals, HDIM uses marginal correlations between the response variable and\n",
    "\n",
    "    References\n",
    "    ----------\n",
    "    Junlong Zhao, Chenlei Leng, Lexin Li, Hansheng Wang. \"High-dimensional influence measure.\" The Annals\n",
    "    of Statistics, 41(5) 2639-2667 October 2013.\n",
    "    \n",
    "    https://doi.org/10.1214/13-AOS1165\n",
    "    \n",
    "    Abstract \n",
    "\n",
    "    Influence diagnosis is important since presence of influential observations could lead to distorted analysis and\n",
    "    misleading interpretations. For high-dimensional data, it is particularly so, as the increased dimensionality and\n",
    "    complexity may amplify both the chance of an observation being influential, and its potential impact on the\n",
    "    analysis. In this article, we propose a novel high-dimensional influence measure for regressions with the\n",
    "    number of predictors far exceeding the sample size. Our proposal can be viewed as a high-dimensional\n",
    "    counterpart to the classical Cook’s distance. However, whereas the Cook’s distance quantifies the individual\n",
    "    observation’s influence on the least squares regression coefficient estimate, our new diagnosis measure\n",
    "    captures the influence on the marginal correlations, which in turn exerts serious influence on downstream\n",
    "    analysis including coefficient estimation, variable selection and screening. Moreover, we establish the\n",
    "    asymptotic distribution of the proposed influence measure by letting the predictor dimension go to infinity.\n",
    "    Availability of this asymptotic distribution leads to a principled rule to determine the critical value for\n",
    "    influential observation detection. Both simulations and real data analysis demonstrate usefulness of the new\n",
    "    influence diagnosis measure.\n",
    "    \"\"\"\n"
   ]
  },
  {
   "cell_type": "code",
   "execution_count": 236,
   "metadata": {},
   "outputs": [
    {
     "data": {
      "text/plain": [
       "AY_0002     1.128425\n",
       "AY_0003     1.232484\n",
       "AY_0004     1.299781\n",
       "AY_0005     1.317464\n",
       "AY_0006     1.287887\n",
       "AY_0007     1.224691\n",
       "AY_0008     1.147508\n",
       "AY_0009     1.075684\n",
       "AY_0010     1.023976\n",
       "dev_0002    1.128425\n",
       "dev_0003    1.232484\n",
       "dev_0004    1.299781\n",
       "dev_0005    1.317464\n",
       "dev_0006    1.287887\n",
       "dev_0007    1.224691\n",
       "dev_0008    1.147508\n",
       "dev_0009    1.075684\n",
       "dev_0010    1.023976\n",
       "Name: VIF Statistic, dtype: float64"
      ]
     },
     "execution_count": 236,
     "metadata": {},
     "output_type": "execute_result"
    }
   ],
   "source": [
    "def vif(df, x_cols=None):\n",
    "    \"\"\"\n",
    "    Calculate the variance inflation factor (VIF) of the Poisson GLM model. VIF is a measure of the\n",
    "    inflation of the variance of the coefficient estimates due to collinearity.\n",
    "\n",
    "    VIF estimates larger than 10 indicate high multicollinearity between this explanatory variable\n",
    "    and the others, and the parameter estimates will have large standard errors because of this.\n",
    "\n",
    "    Parameters\n",
    "    ----------\n",
    "    df : pandas.DataFrame\n",
    "        DataFrame containing the explanatory variables.\n",
    "    x_cols : list, optional\n",
    "        List of column names containing the explanatory variables, by default None\n",
    "\n",
    "    Returns\n",
    "    -------\n",
    "    float\n",
    "        The VIF of the Poisson GLM model.\n",
    "    \"\"\"\n",
    "    X = df[x_cols]\n",
    "    vifs = []\n",
    "    col_names = []\n",
    "    for i in range(X.shape[1]):\n",
    "        y = X.iloc[:, i]\n",
    "        X_ = X.drop(X.columns[i], axis=1)\n",
    "        model = PoissonRegressor().fit(X_, y)\n",
    "        vifs.append(1 / (1 - model.score(X_, y)))\n",
    "        col_names.append(X.columns[i])\n",
    "    return pd.Series(vifs, index=col_names, name='VIF Statistic')\n",
    "\n",
    "vif(rsv.tri.paid_loss.X_base_train.drop(columns='intercept'),\n",
    "    x_cols=rsv.tri.paid_loss.X_base_train.drop(columns='intercept').columns.tolist())"
   ]
  },
  {
   "cell_type": "code",
   "execution_count": null,
   "metadata": {},
   "outputs": [],
   "source": []
  }
 ],
 "metadata": {
  "kernelspec": {
   "display_name": "rocky-env",
   "language": "python",
   "name": "python3"
  },
  "language_info": {
   "codemirror_mode": {
    "name": "ipython",
    "version": 3
   },
   "file_extension": ".py",
   "mimetype": "text/x-python",
   "name": "python",
   "nbconvert_exporter": "python",
   "pygments_lexer": "ipython3",
   "version": "3.9.16"
  },
  "orig_nbformat": 4
 },
 "nbformat": 4,
 "nbformat_minor": 2
}
