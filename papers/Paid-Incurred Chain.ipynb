{
 "cells": [
  {
   "attachments": {},
   "cell_type": "markdown",
   "metadata": {},
   "source": [
    "### notation\n",
    "#### denote \n",
    "* **accident years** by $i \\in \\{ 0, \\ldots, J \\}$\n",
    "* **development years** by $j \\in \\{ 0, \\ldots, J \\}$\n",
    "  * assume all claims are settled after the $J$th development year\n",
    "* **cumulative paid** from accident year $i$ through development year $j$ by $P_{i,j}$\n",
    "* **cumulative incurred** from accident year $i$ through development year $j$ by $I_{i,j}$\n",
    "*  **ultimate loss** $P_{i,J} = I_{i,j}$\n",
    "*  for $j \\in \\{0, \\ldots , J \\}$:\n",
    "    *  **paid data** $\\mathcal{B}_j^P = \\left\\{ P_{i, l}: 0 \\leq i \\leq J, 0 \\leq l \\leq J \\right\\}$\n",
    "    *  **incurred data** $\\mathcal{B}_j^I = \\left\\{ I_{i, l}: 0 \\leq i \\leq J, 0 \\leq l \\leq J \\right\\}$\n",
    "    *  **joint paid and incurred data** $\\mathcal{B}_j = \\mathcal{B}_j^P \\cup \\mathcal{B}_j^I$"
   ]
  },
  {
   "attachments": {},
   "cell_type": "markdown",
   "metadata": {},
   "source": [
    "### Model assumptions 1 (lognormal PIC model)\n",
    "1. conditionally, given\n",
    "$$\n",
    "\\begin{align}\n",
    "\\Theta = ( & \\phi_0, \\phi_1, \\ldots, \\phi_J, \\\\\n",
    "& \\psi_0, \\psi_1, \\ldots, \\psi_{J-1}, \\\\\n",
    "& \\sigma_0, \\sigma_1, \\ldots, \\sigma_{J} \\\\\n",
    "& \\tau_0, \\tau_1, \\ldots, \\tau_{J-1})\n",
    "\\end{align}\n",
    "$$\n",
    "2. the random vector\n",
    "$$\\begin{align}\n",
    "( \n",
    "  &\\xi_{0,0}, \\ldots, \\xi_{J,J}, \\\\ \n",
    "  &\\zeta_{0,0}, \\ldots, \\zeta_{J,J-1})\n",
    "\\end{align}\n",
    "$$\n",
    "has a multivariate normal distribution with uncorrleated components given by:\n",
    "* $\\xi_{i,j} \\sim N(\\phi_j, \\sigma_j^2)$ for $i \\in \\{0, \\ldots, J\\}$ and $j \\in \\{0, \\ldots, J\\}$\n",
    "* $\\zeta_{k, l} \\sim N(\\psi_l, \\tau_l)$ for $k \\in \\{0, \\ldots, J\\}$ and $l \\in \\{0, \\ldots, J-1\\}$\n",
    "3. cumulative payments $P_{i,j}$ are given by the recursive formula\n",
    "   * $P_{i,j} = P_{i,j-1}\\exp (\\xi_{i,j})$\n",
    "   * initial value $P_{i,0} = \\exp (\\xi_{i,0})$ \n",
    "4. incurred losses $I_{i,j}$ are given by the backwards recursive formula\n",
    "   * $I_{i,j-1} = I_{i,j}\\exp (-\\zeta_{i,j-1})$\n",
    "   * initial value $I_{i,J} = P_{i, J}$\n",
    "5. the components of $\\Theta$ are independent\n",
    "6. $\\sigma_j, \\tau_j >0$ for all $j$\n",
    "\n",
    "#### Remark\n",
    "* the model assumption $I_{i,J} = P_{i,J}$ also implies that we assume  \n",
    "$$\n",
    "E\\left[ P_{i,J} | \\Theta \\right] = E\\left[ I_{i,J} | \\Theta \\right] = \\exp \\left[ \\sum_{m=0}^j \\phi_m + \\sigma_m^2/2 \\right]\n",
    "$$"
   ]
  },
  {
   "attachments": {},
   "cell_type": "markdown",
   "metadata": {},
   "source": [
    "## 2. Simultaneous payments and incurred losses consideration\n",
    "### 2.1. Cumulative payments\n",
    "\n",
    "* repeatedly applying assumption 1.3 above, we get that the expected ultimate given the *current* data is\n",
    "$$\n",
    "E[P_{i,J} | \\mathcal{B}_j^P, \\Theta] = P_{i,j} \\exp \\left( \\sum_{m=j+1}^J \\phi_{m} + \\sigma_m^2/2 \\right)\n",
    "$$\n",
    "  * this looks like the regular chain ladder formula"
   ]
  },
  {
   "attachments": {},
   "cell_type": "markdown",
   "metadata": {},
   "source": [
    "### 2.2 Incurred losses\n",
    "\n",
    "uses the following lemma:  \n",
    "**Lemma.** Assume $(X_1, \\ldots, X_n)'$ has a multivariate normal distribution with mean vector $(\\mu_1, \\ldots, \\mu_n)'$ and covariance matrix $\\Sigma$. Then we have that  \n",
    "$$\n",
    "\\begin{align}\n",
    "X_{1|(X_2,\\ldots, X_n)} \\sim N [\\text{ } &\\mu_1 + \\Sigma_{1,2} \\Sigma_{2,2}^{-1} (X^{(2)} - \\mu^{(2)}),\\\\ &\\Sigma_{1,1} - \\Sigma_{1,2} \\Sigma_{2,2}^{-1} \\Sigma_{2,1}]\n",
    "\\end{align}\n",
    "$$\n",
    "where \n",
    "* $X^{(2)} = (X_2, \\ldots, X_n)'$ has\n",
    "  *  a multivariate normal distribution with \n",
    "  *  mean $\\mu^{(2)} = (\\mu_2, \\ldots, \\mu_n)'$ and \n",
    "  *  positive definite covariance matrix $\\Sigma_{2,2}$.\n",
    "*  $\\Sigma_{1,1}$ is the variance of $X_1$ and \n",
    "*  $\\Sigma_{1,2} = \\Sigma_{2,1}'$ is the covariance between $X_1$ and $X^{(2)}$.\n",
    "\n",
    "* this lemma leads to the expected value of the ultimate loss given the *current* data:  \n",
    "$$\n",
    "\\begin{align}\n",
    "E[I_{i,J} | \\mathcal{B}_j^I, \\Theta] =  I_{i,j} & \\exp \\left( \\sum_{m=j}^{J-1} \\psi_{m} + \\tau_m^2/2 \\right) \\\\\n",
    "\\times & \\exp \\left[\\alpha_j \\left( \\mu_j - \\log I_{i,j} - \\sum_{m=j}^{J-1} \\tau_m^2/2  \\right)\\right]\n",
    "\\end{align}\n",
    "$$\n",
    "with credibility weight  \n",
    "$$\n",
    "\\begin{align}\n",
    "\\alpha_j = & 1 - \\frac{v_J^2}{v_j^2} = \\\\ & \\frac{1}{v_j^2} \\sum_{m=j}^{J-1} \\tau_m^2\n",
    "\\end{align}\n",
    "$$\n",
    "and $\\mu$ and $v$ given by:\n",
    "$$\n",
    "\\begin{align}\n",
    "\\mu_j = & \\sum_{m=0}^{J} \\phi_m - \\sum_{n=j}^{J-1} \\psi_n \\\\\n",
    "v_j^2 = & \\sum_{m=0}^{J} \\sigma_m^2 + \\sum_{n=j}^{J-1} \\tau_n^2\n",
    "\\end{align}\n",
    "$$\n",
    "with\n",
    "$$\n",
    "\\begin{align}\n",
    "\\mu_J = & \\sum_{m=0}^{J} \\phi_m \\\\\n",
    "v_J^2 = & \\sum_{m=0}^{J} \\sigma_m^2\n",
    "\\end{align}\n",
    "$$\n",
    "\n",
    "* **this is different from the chain ladder**\n",
    "  * this looks like the regular chain ladder formula with a credibility weight correction term"
   ]
  },
  {
   "attachments": {},
   "cell_type": "markdown",
   "metadata": {},
   "source": [
    "### 2.3 Cumulative payments and incurred losses\n",
    "* want to predict ultimate loss $P_{i,J} = I_{i,J}$ when we jointly consider the cumulative payments and incurred losses information $\\mathcal{B}_j$.  \n",
    "* under model assumption 1, we obtain the following formula for the expected ultimate loss given the *current* data, and parameter set $\\Theta$:\n",
    "$$\n",
    "\\begin{align}\n",
    "\\log P_{i,J | \\{\\mathcal{B}_j, \\Theta\\}} \\sim \n",
    "& N(\\mu_J + (1-\\beta_j)(\\log P_{i,j} - \\eta_j) + \\beta_j(\\log I_{i,j} - \\mu_j), \\\\\n",
    "& (1-\\beta_j)(v_J^2 - w_j^2)) \\\\\n",
    "\\eta_j = & \\sum_{m=0}^{j} \\phi_m  \\\\\n",
    "w_j^2 = & \\sum_{m=0}^{j} \\sigma_m^2 \\\\\n",
    "\\beta_j = & \\frac{v_J^2 - w_j^2}{v_j^2 - w_j^2} > 0\n",
    "\n",
    "\\end{align}\n",
    "$$\n",
    "* if you work through the details, you see that if we consider simultaneously the cumulative payments and incurred losses information, we get a correction term  \n",
    "\n",
    "$$\n",
    "\\exp \\left[ \\beta_j \\left( \\log \\frac{I_{i,j}}{P_{i,j}} - (\\mu_j - \\eta_j) - \\sum_{i=j+1}^J \\frac{\\sigma_l^2}{2} \\right) \\right]\n",
    "$$\n",
    "\n",
    "that is applied to the classical chain ladder formula.\n",
    "* this adjustment term compares incurred-paid ratios\n",
    "* corresponds to the observed residuals $\\log I_{i,j}/P_{i,j} - (\\mu_j - \\eta_j)$"
   ]
  },
  {
   "attachments": {},
   "cell_type": "markdown",
   "metadata": {},
   "source": [
    "## 3. Parameter estimation\n",
    "\n",
    "### Model assumptions\n",
    "* start with the same model assumptions as in the previous section, for deterministic $\\sigma_m$ and $\\tau_m$ parameters\n",
    "* $\\Phi_m \\sim N(\\phi_m, s_m^2)$, for $m \\in \\left\\{ 0, \\ldots, J\\right\\}$\n",
    "* $\\Psi_n \\sim N(\\psi_n, t_n^2)$, for $n \\in \\left\\{ 0, \\ldots, J-1\\right\\}$"
   ]
  },
  {
   "attachments": {},
   "cell_type": "markdown",
   "metadata": {},
   "source": [
    "vector $(c_0, \\ldots,  c_j, b_0, \\ldots, b_{J-1})$ given by:\n",
    "\n",
    "$$\n",
    "c_j = s_j^2 + \\sigma_j^2 \\sum_{i=0}^{J-j}\\log \\frac{P_{i,j}}{P_{i, j-1}} + \\sum_{i=J-j+1}^{J} \\left( v_{J-i}^2 - w_{J-i}^{2}\\right)^{-1} \\log\\frac{I_{i,J-i}}{P_{i, j-i}}\n",
    "$$"
   ]
  },
  {
   "attachments": {},
   "cell_type": "markdown",
   "metadata": {},
   "source": [
    "$$\n",
    "b_j = t_j^{-2} \\psi_j - \\tau_j^{-2}\\sum_{i=0}^{J-j-1} \\log \\frac{I_{i,j}}{I_{i, j+1}} - \\sum_{i=J-j}^{J} \\left( v_{J-i}^2 - w_{J-i}^{2}\\right)^{-1} \\log\\frac{I_{i,J-i}}{P_{i, j-i}}\n",
    "$$\n"
   ]
  },
  {
   "attachments": {},
   "cell_type": "markdown",
   "metadata": {},
   "source": [
    "* $\\mu_j = \\sum_{m=0}^J \\phi_m$  \n",
    "* $v_J^2 = \\sum_{m=0}^J \\sigma_m^2$  \n",
    "* $\\eta_j = \\sum_{m=0}^j \\phi_m$\n",
    "* $w_j$"
   ]
  },
  {
   "cell_type": "markdown",
   "metadata": {},
   "source": []
  }
 ],
 "metadata": {
  "language_info": {
   "name": "python"
  },
  "orig_nbformat": 4
 },
 "nbformat": 4,
 "nbformat_minor": 2
}
